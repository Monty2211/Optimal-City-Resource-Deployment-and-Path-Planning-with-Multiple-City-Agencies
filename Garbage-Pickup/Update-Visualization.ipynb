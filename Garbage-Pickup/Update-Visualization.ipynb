{
 "cells": [
  {
   "cell_type": "code",
   "execution_count": 1,
   "id": "falling-webster",
   "metadata": {},
   "outputs": [],
   "source": [
    "import pandas as pd\n",
    "df1 = pd.read_csv(\"Smallbox.csv\")"
   ]
  },
  {
   "cell_type": "code",
   "execution_count": 2,
   "id": "ignored-transition",
   "metadata": {},
   "outputs": [
    {
     "data": {
      "text/html": [
       "<div>\n",
       "<style scoped>\n",
       "    .dataframe tbody tr th:only-of-type {\n",
       "        vertical-align: middle;\n",
       "    }\n",
       "\n",
       "    .dataframe tbody tr th {\n",
       "        vertical-align: top;\n",
       "    }\n",
       "\n",
       "    .dataframe thead th {\n",
       "        text-align: right;\n",
       "    }\n",
       "</style>\n",
       "<table border=\"1\" class=\"dataframe\">\n",
       "  <thead>\n",
       "    <tr style=\"text-align: right;\">\n",
       "      <th></th>\n",
       "      <th>Nodes</th>\n",
       "      <th>Latitude</th>\n",
       "      <th>Longitude</th>\n",
       "    </tr>\n",
       "  </thead>\n",
       "  <tbody>\n",
       "    <tr>\n",
       "      <th>0</th>\n",
       "      <td>195438253</td>\n",
       "      <td>35.582010</td>\n",
       "      <td>-78.799760</td>\n",
       "    </tr>\n",
       "    <tr>\n",
       "      <th>1</th>\n",
       "      <td>195438255</td>\n",
       "      <td>35.581969</td>\n",
       "      <td>-78.798268</td>\n",
       "    </tr>\n",
       "    <tr>\n",
       "      <th>2</th>\n",
       "      <td>195438631</td>\n",
       "      <td>35.584332</td>\n",
       "      <td>-78.798292</td>\n",
       "    </tr>\n",
       "    <tr>\n",
       "      <th>3</th>\n",
       "      <td>195447516</td>\n",
       "      <td>35.582924</td>\n",
       "      <td>-78.799764</td>\n",
       "    </tr>\n",
       "    <tr>\n",
       "      <th>4</th>\n",
       "      <td>195447518</td>\n",
       "      <td>35.583693</td>\n",
       "      <td>-78.799788</td>\n",
       "    </tr>\n",
       "    <tr>\n",
       "      <th>5</th>\n",
       "      <td>195447520</td>\n",
       "      <td>35.584345</td>\n",
       "      <td>-78.799816</td>\n",
       "    </tr>\n",
       "    <tr>\n",
       "      <th>6</th>\n",
       "      <td>195500922</td>\n",
       "      <td>35.582764</td>\n",
       "      <td>-78.798270</td>\n",
       "    </tr>\n",
       "    <tr>\n",
       "      <th>7</th>\n",
       "      <td>195594836</td>\n",
       "      <td>35.582753</td>\n",
       "      <td>-78.799763</td>\n",
       "    </tr>\n",
       "    <tr>\n",
       "      <th>8</th>\n",
       "      <td>6359366687</td>\n",
       "      <td>35.584334</td>\n",
       "      <td>-78.798859</td>\n",
       "    </tr>\n",
       "    <tr>\n",
       "      <th>9</th>\n",
       "      <td>7463971107</td>\n",
       "      <td>35.583698</td>\n",
       "      <td>-78.800076</td>\n",
       "    </tr>\n",
       "    <tr>\n",
       "      <th>10</th>\n",
       "      <td>7472627041</td>\n",
       "      <td>35.582927</td>\n",
       "      <td>-78.800216</td>\n",
       "    </tr>\n",
       "    <tr>\n",
       "      <th>11</th>\n",
       "      <td>7472627042</td>\n",
       "      <td>35.583201</td>\n",
       "      <td>-78.800213</td>\n",
       "    </tr>\n",
       "    <tr>\n",
       "      <th>12</th>\n",
       "      <td>8739204976</td>\n",
       "      <td>35.581971</td>\n",
       "      <td>-78.798425</td>\n",
       "    </tr>\n",
       "    <tr>\n",
       "      <th>13</th>\n",
       "      <td>8739204978</td>\n",
       "      <td>35.581973</td>\n",
       "      <td>-78.798708</td>\n",
       "    </tr>\n",
       "  </tbody>\n",
       "</table>\n",
       "</div>"
      ],
      "text/plain": [
       "         Nodes   Latitude  Longitude\n",
       "0    195438253  35.582010 -78.799760\n",
       "1    195438255  35.581969 -78.798268\n",
       "2    195438631  35.584332 -78.798292\n",
       "3    195447516  35.582924 -78.799764\n",
       "4    195447518  35.583693 -78.799788\n",
       "5    195447520  35.584345 -78.799816\n",
       "6    195500922  35.582764 -78.798270\n",
       "7    195594836  35.582753 -78.799763\n",
       "8   6359366687  35.584334 -78.798859\n",
       "9   7463971107  35.583698 -78.800076\n",
       "10  7472627041  35.582927 -78.800216\n",
       "11  7472627042  35.583201 -78.800213\n",
       "12  8739204976  35.581971 -78.798425\n",
       "13  8739204978  35.581973 -78.798708"
      ]
     },
     "execution_count": 2,
     "metadata": {},
     "output_type": "execute_result"
    }
   ],
   "source": [
    "df1"
   ]
  },
  {
   "cell_type": "code",
   "execution_count": 27,
   "id": "pretty-position",
   "metadata": {},
   "outputs": [],
   "source": [
    "import osmnx as ox\n",
    "import matplotlib.pyplot as plt\n",
    "import networkx as nx\n",
    "import plotly.graph_objects as go\n",
    "import numpy as np"
   ]
  },
  {
   "cell_type": "code",
   "execution_count": 28,
   "id": "south-tsunami",
   "metadata": {},
   "outputs": [
    {
     "data": {
      "image/png": "[encoded data removed]",
      "text/plain": [
       "<Figure size 576x576 with 1 Axes>"
      ]
     },
     "metadata": {},
     "output_type": "display_data"
    },
    {
     "data": {
      "text/plain": [
       "(<Figure size 576x576 with 1 Axes>, <AxesSubplot:>)"
      ]
     },
     "execution_count": 28,
     "metadata": {},
     "output_type": "execute_result"
    }
   ],
   "source": [
    "north, south, east, west = 35.581702,35.584546,-78.800222,-78.797915\n",
    "G = ox.graph_from_bbox(north, south, east, west, network_type=\"drive_service\")\n",
    "colors = plt.rcParams['axes.prop_cycle'].by_key()['color']\n",
    "ox.plot.plot_graph(G, bgcolor='#FFFFFF', node_color=colors[0], edge_color='lightgray', node_size=5)"
   ]
  },
  {
   "cell_type": "code",
   "execution_count": 29,
   "id": "editorial-dependence",
   "metadata": {},
   "outputs": [],
   "source": [
    "G = ox.add_edge_speeds(G)\n",
    "G = ox.add_edge_travel_times(G)"
   ]
  },
  {
   "cell_type": "code",
   "execution_count": 30,
   "id": "fuzzy-requirement",
   "metadata": {},
   "outputs": [],
   "source": [
    "start = [df1['Latitude'].loc[1],df1['Longitude'].loc[1]]\n",
    "end = [df1['Latitude'].loc[2],df1['Longitude'].loc[2]]"
   ]
  },
  {
   "cell_type": "code",
   "execution_count": 93,
   "id": "considered-damages",
   "metadata": {},
   "outputs": [],
   "source": [
    "path = nx.shortest_path(G, df1['Nodes'].loc[9],df1['Nodes'].loc[11], weight='travel_time')"
   ]
  },
  {
   "cell_type": "code",
   "execution_count": 94,
   "id": "patent-drill",
   "metadata": {},
   "outputs": [],
   "source": [
    "def plot_path(lat, long, origin_point, destination_point):\n",
    "    fig = go.Figure(go.Scattermapbox(\n",
    "        name = \"Path\",\n",
    "        mode = \"lines\",\n",
    "        lon = long,\n",
    "        lat = lat,\n",
    "        marker = {'size': 10},\n",
    "        line = dict(width = 4.5, color = 'grey')))\n",
    "    fig.add_trace(go.Scattermapbox(\n",
    "        name = \"Source\",\n",
    "        mode = \"markers\",\n",
    "        lon = [origin_point[1]],\n",
    "        lat = [origin_point[0]],\n",
    "        marker = {'size': 12, 'color':\"red\"}))\n",
    "    fig.add_trace(go.Scattermapbox(\n",
    "        name = \"Destination\",\n",
    "        mode = \"markers\",\n",
    "        lon = [destination_point[1]],\n",
    "        lat = [destination_point[0]],\n",
    "        marker = {'size': 12, 'color':'green'}))\n",
    "    lat_center = np.mean(lat)\n",
    "    long_center = np.mean(long)\n",
    "    fig.update_layout(mapbox_style=\"carto-darkmatter\",\n",
    "        mapbox_center_lat = 30, mapbox_center_lon=-80)\n",
    "    fig.update_layout(margin={\"r\":0,\"t\":0,\"l\":0,\"b\":0},\n",
    "                      mapbox = {\n",
    "                          'center': {'lat': lat_center, \n",
    "                          'lon': long_center},\n",
    "                          'zoom': 13})\n",
    "    fig.show()"
   ]
  },
  {
   "cell_type": "code",
   "execution_count": 95,
   "id": "subtle-words",
   "metadata": {},
   "outputs": [
    {
     "data": {
      "text/plain": [
       "[7463971107, 195447518, 195447516, 7472627041, 7472627042]"
      ]
     },
     "execution_count": 95,
     "metadata": {},
     "output_type": "execute_result"
    }
   ],
   "source": [
    "path"
   ]
  },
  {
   "cell_type": "code",
   "execution_count": 96,
   "id": "physical-penguin",
   "metadata": {},
   "outputs": [],
   "source": [
    "lat1 = []\n",
    "long1 = []\n",
    "for i in path:\n",
    "    lat1.append(G.nodes[i].get('y'))\n",
    "    long1.append(G.nodes[i].get('x'))"
   ]
  },
  {
   "cell_type": "code",
   "execution_count": 97,
   "id": "behavioral-onion",
   "metadata": {},
   "outputs": [
    {
     "data": {
      "text/plain": [
       "list"
      ]
     },
     "execution_count": 97,
     "metadata": {},
     "output_type": "execute_result"
    }
   ],
   "source": [
    "type(path)"
   ]
  },
  {
   "cell_type": "code",
   "execution_count": 98,
   "id": "purple-austin",
   "metadata": {},
   "outputs": [],
   "source": [
    "import pandas as pd\n",
    "data = pd.DataFrame(path)\n",
    "data.rename(columns = {0:'Nodes'}, inplace = True)\n",
    "data['Latitude'] = lat1\n",
    "data['Longitude'] = long1"
   ]
  },
  {
   "cell_type": "code",
   "execution_count": 99,
   "id": "egyptian-facing",
   "metadata": {},
   "outputs": [
    {
     "data": {
      "text/html": [
       "<div>\n",
       "<style scoped>\n",
       "    .dataframe tbody tr th:only-of-type {\n",
       "        vertical-align: middle;\n",
       "    }\n",
       "\n",
       "    .dataframe tbody tr th {\n",
       "        vertical-align: top;\n",
       "    }\n",
       "\n",
       "    .dataframe thead th {\n",
       "        text-align: right;\n",
       "    }\n",
       "</style>\n",
       "<table border=\"1\" class=\"dataframe\">\n",
       "  <thead>\n",
       "    <tr style=\"text-align: right;\">\n",
       "      <th></th>\n",
       "      <th>Nodes</th>\n",
       "      <th>Latitude</th>\n",
       "      <th>Longitude</th>\n",
       "    </tr>\n",
       "  </thead>\n",
       "  <tbody>\n",
       "    <tr>\n",
       "      <th>0</th>\n",
       "      <td>7463971107</td>\n",
       "      <td>35.583698</td>\n",
       "      <td>-78.800076</td>\n",
       "    </tr>\n",
       "    <tr>\n",
       "      <th>1</th>\n",
       "      <td>195447518</td>\n",
       "      <td>35.583693</td>\n",
       "      <td>-78.799788</td>\n",
       "    </tr>\n",
       "    <tr>\n",
       "      <th>2</th>\n",
       "      <td>195447516</td>\n",
       "      <td>35.582924</td>\n",
       "      <td>-78.799764</td>\n",
       "    </tr>\n",
       "    <tr>\n",
       "      <th>3</th>\n",
       "      <td>7472627041</td>\n",
       "      <td>35.582927</td>\n",
       "      <td>-78.800216</td>\n",
       "    </tr>\n",
       "    <tr>\n",
       "      <th>4</th>\n",
       "      <td>7472627042</td>\n",
       "      <td>35.583201</td>\n",
       "      <td>-78.800213</td>\n",
       "    </tr>\n",
       "  </tbody>\n",
       "</table>\n",
       "</div>"
      ],
      "text/plain": [
       "        Nodes   Latitude  Longitude\n",
       "0  7463971107  35.583698 -78.800076\n",
       "1   195447518  35.583693 -78.799788\n",
       "2   195447516  35.582924 -78.799764\n",
       "3  7472627041  35.582927 -78.800216\n",
       "4  7472627042  35.583201 -78.800213"
      ]
     },
     "execution_count": 99,
     "metadata": {},
     "output_type": "execute_result"
    }
   ],
   "source": [
    "data"
   ]
  },
  {
   "cell_type": "code",
   "execution_count": 100,
   "id": "following-minnesota",
   "metadata": {},
   "outputs": [],
   "source": [
    "long = [] \n",
    "lat = []  \n",
    "for i in data.index:\n",
    "    long.append(data.loc[i][\"Longitude\"])\n",
    "    lat.append(data.loc[i][\"Latitude\"])"
   ]
  },
  {
   "cell_type": "code",
   "execution_count": 101,
   "id": "arranged-textbook",
   "metadata": {},
   "outputs": [],
   "source": [
    "origin_point = (data.loc[0][\"Latitude\"], data.loc[0][\"Longitude\"]) \n",
    "destination_point = (data.loc[4][\"Latitude\"], data.loc[4][\"Longitude\"])"
   ]
  },
  {
   "cell_type": "code",
   "execution_count": 102,
   "id": "related-burns",
   "metadata": {},
   "outputs": [
    {
     "data": {
      "application/vnd.plotly.v1+json": {
       "config": {
        "plotlyServerURL": "https://plot.ly"
       },
       "data": [
        {
         "lat": [
          35.5836978,
          35.5836931,
          35.5829241,
          35.5829271,
          35.5832007
         ],
         "line": {
          "color": "grey",
          "width": 4.5
         },
         "lon": [
          -78.8000756,
          -78.7997882,
          -78.7997645,
          -78.8002157,
          -78.800213
         ],
         "marker": {
          "size": 10
         },
         "mode": "lines",
         "name": "Path",
         "type": "scattermapbox"
        },
        {
         "lat": [
          35.5836978
         ],
         "lon": [
          -78.8000756
         ],
         "marker": {
          "color": "red",
          "size": 12
         },
         "mode": "markers",
         "name": "Source",
         "type": "scattermapbox"
        },
        {
         "lat": [
          35.5832007
         ],
         "lon": [
          -78.800213
         ],
         "marker": {
          "color": "green",
          "size": 12
         },
         "mode": "markers",
         "name": "Destination",
         "type": "scattermapbox"
        }
       ],
       "layout": {
        "mapbox": {
         "center": {
          "lat": 35.58328856,
          "lon": -78.80001139999999
         },
         "style": "carto-darkmatter",
         "zoom": 13
        },
        "margin": {
         "b": 0,
         "l": 0,
         "r": 0,
         "t": 0
        },
        "template": {
         "data": {
          "bar": [
           {
            "error_x": {
             "color": "#2a3f5f"
            },
            "error_y": {
             "color": "#2a3f5f"
            },
            "marker": {
             "line": {
              "color": "#E5ECF6",
              "width": 0.5
             }
            },
            "type": "bar"
           }
          ],
          "barpolar": [
           {
            "marker": {
             "line": {
              "color": "#E5ECF6",
              "width": 0.5
             }
            },
            "type": "barpolar"
           }
          ],
          "carpet": [
           {
            "aaxis": {
             "endlinecolor": "#2a3f5f",
             "gridcolor": "white",
             "linecolor": "white",
             "minorgridcolor": "white",
             "startlinecolor": "#2a3f5f"
            },
            "baxis": {
             "endlinecolor": "#2a3f5f",
             "gridcolor": "white",
             "linecolor": "white",
             "minorgridcolor": "white",
             "startlinecolor": "#2a3f5f"
            },
            "type": "carpet"
           }
          ],
          "choropleth": [
           {
            "colorbar": {
             "outlinewidth": 0,
             "ticks": ""
            },
            "type": "choropleth"
           }
          ],
          "contour": [
           {
            "colorbar": {
             "outlinewidth": 0,
             "ticks": ""
            },
            "colorscale": [
             [
              0,
              "#0d0887"
             ],
             [
              0.1111111111111111,
              "#46039f"
             ],
             [
              0.2222222222222222,
              "#7201a8"
             ],
             [
              0.3333333333333333,
              "#9c179e"
             ],
             [
              0.4444444444444444,
              "#bd3786"
             ],
             [
              0.5555555555555556,
              "#d8576b"
             ],
             [
              0.6666666666666666,
              "#ed7953"
             ],
             [
              0.7777777777777778,
              "#fb9f3a"
             ],
             [
              0.8888888888888888,
              "#fdca26"
             ],
             [
              1,
              "#f0f921"
             ]
            ],
            "type": "contour"
           }
          ],
          "contourcarpet": [
           {
            "colorbar": {
             "outlinewidth": 0,
             "ticks": ""
            },
            "type": "contourcarpet"
           }
          ],
          "heatmap": [
           {
            "colorbar": {
             "outlinewidth": 0,
             "ticks": ""
            },
            "colorscale": [
             [
              0,
              "#0d0887"
             ],
             [
              0.1111111111111111,
              "#46039f"
             ],
             [
              0.2222222222222222,
              "#7201a8"
             ],
             [
              0.3333333333333333,
              "#9c179e"
             ],
             [
              0.4444444444444444,
              "#bd3786"
             ],
             [
              0.5555555555555556,
              "#d8576b"
             ],
             [
              0.6666666666666666,
              "#ed7953"
             ],
             [
              0.7777777777777778,
              "#fb9f3a"
             ],
             [
              0.8888888888888888,
              "#fdca26"
             ],
             [
              1,
              "#f0f921"
             ]
            ],
            "type": "heatmap"
           }
          ],
          "heatmapgl": [
           {
            "colorbar": {
             "outlinewidth": 0,
             "ticks": ""
            },
            "colorscale": [
             [
              0,
              "#0d0887"
             ],
             [
              0.1111111111111111,
              "#46039f"
             ],
             [
              0.2222222222222222,
              "#7201a8"
             ],
             [
              0.3333333333333333,
              "#9c179e"
             ],
             [
              0.4444444444444444,
              "#bd3786"
             ],
             [
              0.5555555555555556,
              "#d8576b"
             ],
             [
              0.6666666666666666,
              "#ed7953"
             ],
             [
              0.7777777777777778,
              "#fb9f3a"
             ],
             [
              0.8888888888888888,
              "#fdca26"
             ],
             [
              1,
              "#f0f921"
             ]
            ],
            "type": "heatmapgl"
           }
          ],
          "histogram": [
           {
            "marker": {
             "colorbar": {
              "outlinewidth": 0,
              "ticks": ""
             }
            },
            "type": "histogram"
           }
          ],
          "histogram2d": [
           {
            "colorbar": {
             "outlinewidth": 0,
             "ticks": ""
            },
            "colorscale": [
             [
              0,
              "#0d0887"
             ],
             [
              0.1111111111111111,
              "#46039f"
             ],
             [
              0.2222222222222222,
              "#7201a8"
             ],
             [
              0.3333333333333333,
              "#9c179e"
             ],
             [
              0.4444444444444444,
              "#bd3786"
             ],
             [
              0.5555555555555556,
              "#d8576b"
             ],
             [
              0.6666666666666666,
              "#ed7953"
             ],
             [
              0.7777777777777778,
              "#fb9f3a"
             ],
             [
              0.8888888888888888,
              "#fdca26"
             ],
             [
              1,
              "#f0f921"
             ]
            ],
            "type": "histogram2d"
           }
          ],
          "histogram2dcontour": [
           {
            "colorbar": {
             "outlinewidth": 0,
             "ticks": ""
            },
            "colorscale": [
             [
              0,
              "#0d0887"
             ],
             [
              0.1111111111111111,
              "#46039f"
             ],
             [
              0.2222222222222222,
              "#7201a8"
             ],
             [
              0.3333333333333333,
              "#9c179e"
             ],
             [
              0.4444444444444444,
              "#bd3786"
             ],
             [
              0.5555555555555556,
              "#d8576b"
             ],
             [
              0.6666666666666666,
              "#ed7953"
             ],
             [
              0.7777777777777778,
              "#fb9f3a"
             ],
             [
              0.8888888888888888,
              "#fdca26"
             ],
             [
              1,
              "#f0f921"
             ]
            ],
            "type": "histogram2dcontour"
           }
          ],
          "mesh3d": [
           {
            "colorbar": {
             "outlinewidth": 0,
             "ticks": ""
            },
            "type": "mesh3d"
           }
          ],
          "parcoords": [
           {
            "line": {
             "colorbar": {
              "outlinewidth": 0,
              "ticks": ""
             }
            },
            "type": "parcoords"
           }
          ],
          "pie": [
           {
            "automargin": true,
            "type": "pie"
           }
          ],
          "scatter": [
           {
            "marker": {
             "colorbar": {
              "outlinewidth": 0,
              "ticks": ""
             }
            },
            "type": "scatter"
           }
          ],
          "scatter3d": [
           {
            "line": {
             "colorbar": {
              "outlinewidth": 0,
              "ticks": ""
             }
            },
            "marker": {
             "colorbar": {
              "outlinewidth": 0,
              "ticks": ""
             }
            },
            "type": "scatter3d"
           }
          ],
          "scattercarpet": [
           {
            "marker": {
             "colorbar": {
              "outlinewidth": 0,
              "ticks": ""
             }
            },
            "type": "scattercarpet"
           }
          ],
          "scattergeo": [
           {
            "marker": {
             "colorbar": {
              "outlinewidth": 0,
              "ticks": ""
             }
            },
            "type": "scattergeo"
           }
          ],
          "scattergl": [
           {
            "marker": {
             "colorbar": {
              "outlinewidth": 0,
              "ticks": ""
             }
            },
            "type": "scattergl"
           }
          ],
          "scattermapbox": [
           {
            "marker": {
             "colorbar": {
              "outlinewidth": 0,
              "ticks": ""
             }
            },
            "type": "scattermapbox"
           }
          ],
          "scatterpolar": [
           {
            "marker": {
             "colorbar": {
              "outlinewidth": 0,
              "ticks": ""
             }
            },
            "type": "scatterpolar"
           }
          ],
          "scatterpolargl": [
           {
            "marker": {
             "colorbar": {
              "outlinewidth": 0,
              "ticks": ""
             }
            },
            "type": "scatterpolargl"
           }
          ],
          "scatterternary": [
           {
            "marker": {
             "colorbar": {
              "outlinewidth": 0,
              "ticks": ""
             }
            },
            "type": "scatterternary"
           }
          ],
          "surface": [
           {
            "colorbar": {
             "outlinewidth": 0,
             "ticks": ""
            },
            "colorscale": [
             [
              0,
              "#0d0887"
             ],
             [
              0.1111111111111111,
              "#46039f"
             ],
             [
              0.2222222222222222,
              "#7201a8"
             ],
             [
              0.3333333333333333,
              "#9c179e"
             ],
             [
              0.4444444444444444,
              "#bd3786"
             ],
             [
              0.5555555555555556,
              "#d8576b"
             ],
             [
              0.6666666666666666,
              "#ed7953"
             ],
             [
              0.7777777777777778,
              "#fb9f3a"
             ],
             [
              0.8888888888888888,
              "#fdca26"
             ],
             [
              1,
              "#f0f921"
             ]
            ],
            "type": "surface"
           }
          ],
          "table": [
           {
            "cells": {
             "fill": {
              "color": "#EBF0F8"
             },
             "line": {
              "color": "white"
             }
            },
            "header": {
             "fill": {
              "color": "#C8D4E3"
             },
             "line": {
              "color": "white"
             }
            },
            "type": "table"
           }
          ]
         },
         "layout": {
          "annotationdefaults": {
           "arrowcolor": "#2a3f5f",
           "arrowhead": 0,
           "arrowwidth": 1
          },
          "autotypenumbers": "strict",
          "coloraxis": {
           "colorbar": {
            "outlinewidth": 0,
            "ticks": ""
           }
          },
          "colorscale": {
           "diverging": [
            [
             0,
             "#8e0152"
            ],
            [
             0.1,
             "#c51b7d"
            ],
            [
             0.2,
             "#de77ae"
            ],
            [
             0.3,
             "#f1b6da"
            ],
            [
             0.4,
             "#fde0ef"
            ],
            [
             0.5,
             "#f7f7f7"
            ],
            [
             0.6,
             "#e6f5d0"
            ],
            [
             0.7,
             "#b8e186"
            ],
            [
             0.8,
             "#7fbc41"
            ],
            [
             0.9,
             "#4d9221"
            ],
            [
             1,
             "#276419"
            ]
           ],
           "sequential": [
            [
             0,
             "#0d0887"
            ],
            [
             0.1111111111111111,
             "#46039f"
            ],
            [
             0.2222222222222222,
             "#7201a8"
            ],
            [
             0.3333333333333333,
             "#9c179e"
            ],
            [
             0.4444444444444444,
             "#bd3786"
            ],
            [
             0.5555555555555556,
             "#d8576b"
            ],
            [
             0.6666666666666666,
             "#ed7953"
            ],
            [
             0.7777777777777778,
             "#fb9f3a"
            ],
            [
             0.8888888888888888,
             "#fdca26"
            ],
            [
             1,
             "#f0f921"
            ]
           ],
           "sequentialminus": [
            [
             0,
             "#0d0887"
            ],
            [
             0.1111111111111111,
             "#46039f"
            ],
            [
             0.2222222222222222,
             "#7201a8"
            ],
            [
             0.3333333333333333,
             "#9c179e"
            ],
            [
             0.4444444444444444,
             "#bd3786"
            ],
            [
             0.5555555555555556,
             "#d8576b"
            ],
            [
             0.6666666666666666,
             "#ed7953"
            ],
            [
             0.7777777777777778,
             "#fb9f3a"
            ],
            [
             0.8888888888888888,
             "#fdca26"
            ],
            [
             1,
             "#f0f921"
            ]
           ]
          },
          "colorway": [
           "#636efa",
           "#EF553B",
           "#00cc96",
           "#ab63fa",
           "#FFA15A",
           "#19d3f3",
           "#FF6692",
           "#B6E880",
           "#FF97FF",
           "#FECB52"
          ],
          "font": {
           "color": "#2a3f5f"
          },
          "geo": {
           "bgcolor": "white",
           "lakecolor": "white",
           "landcolor": "#E5ECF6",
           "showlakes": true,
           "showland": true,
           "subunitcolor": "white"
          },
          "hoverlabel": {
           "align": "left"
          },
          "hovermode": "closest",
          "mapbox": {
           "style": "light"
          },
          "paper_bgcolor": "white",
          "plot_bgcolor": "#E5ECF6",
          "polar": {
           "angularaxis": {
            "gridcolor": "white",
            "linecolor": "white",
            "ticks": ""
           },
           "bgcolor": "#E5ECF6",
           "radialaxis": {
            "gridcolor": "white",
            "linecolor": "white",
            "ticks": ""
           }
          },
          "scene": {
           "xaxis": {
            "backgroundcolor": "#E5ECF6",
            "gridcolor": "white",
            "gridwidth": 2,
            "linecolor": "white",
            "showbackground": true,
            "ticks": "",
            "zerolinecolor": "white"
           },
           "yaxis": {
            "backgroundcolor": "#E5ECF6",
            "gridcolor": "white",
            "gridwidth": 2,
            "linecolor": "white",
            "showbackground": true,
            "ticks": "",
            "zerolinecolor": "white"
           },
           "zaxis": {
            "backgroundcolor": "#E5ECF6",
            "gridcolor": "white",
            "gridwidth": 2,
            "linecolor": "white",
            "showbackground": true,
            "ticks": "",
            "zerolinecolor": "white"
           }
          },
          "shapedefaults": {
           "line": {
            "color": "#2a3f5f"
           }
          },
          "ternary": {
           "aaxis": {
            "gridcolor": "white",
            "linecolor": "white",
            "ticks": ""
           },
           "baxis": {
            "gridcolor": "white",
            "linecolor": "white",
            "ticks": ""
           },
           "bgcolor": "#E5ECF6",
           "caxis": {
            "gridcolor": "white",
            "linecolor": "white",
            "ticks": ""
           }
          },
          "title": {
           "x": 0.05
          },
          "xaxis": {
           "automargin": true,
           "gridcolor": "white",
           "linecolor": "white",
           "ticks": "",
           "title": {
            "standoff": 15
           },
           "zerolinecolor": "white",
           "zerolinewidth": 2
          },
          "yaxis": {
           "automargin": true,
           "gridcolor": "white",
           "linecolor": "white",
           "ticks": "",
           "title": {
            "standoff": 15
           },
           "zerolinecolor": "white",
           "zerolinewidth": 2
          }
         }
        }
       }
      },
      "text/html": [
       "<div>                            <div id=\"057bcbfe-dbd7-4457-8a1a-d79dccc629cf\" class=\"plotly-graph-div\" style=\"height:525px; width:100%;\"></div>            <script type=\"text/javascript\">                require([\"plotly\"], function(Plotly) {                    window.PLOTLYENV=window.PLOTLYENV || {};                                    if (document.getElementById(\"057bcbfe-dbd7-4457-8a1a-d79dccc629cf\")) {                    Plotly.newPlot(                        \"057bcbfe-dbd7-4457-8a1a-d79dccc629cf\",                        [{\"lat\": [35.5836978, 35.5836931, 35.5829241, 35.5829271, 35.5832007], \"line\": {\"color\": \"grey\", \"width\": 4.5}, \"lon\": [-78.8000756, -78.7997882, -78.7997645, -78.8002157, -78.800213], \"marker\": {\"size\": 10}, \"mode\": \"lines\", \"name\": \"Path\", \"type\": \"scattermapbox\"}, {\"lat\": [35.5836978], \"lon\": [-78.8000756], \"marker\": {\"color\": \"red\", \"size\": 12}, \"mode\": \"markers\", \"name\": \"Source\", \"type\": \"scattermapbox\"}, {\"lat\": [35.5832007], \"lon\": [-78.800213], \"marker\": {\"color\": \"green\", \"size\": 12}, \"mode\": \"markers\", \"name\": \"Destination\", \"type\": \"scattermapbox\"}],                        {\"mapbox\": {\"center\": {\"lat\": 35.58328856, \"lon\": -78.80001139999999}, \"style\": \"carto-darkmatter\", \"zoom\": 13}, \"margin\": {\"b\": 0, \"l\": 0, \"r\": 0, \"t\": 0}, \"template\": {\"data\": {\"bar\": [{\"error_x\": {\"color\": \"#2a3f5f\"}, \"error_y\": {\"color\": \"#2a3f5f\"}, \"marker\": {\"line\": {\"color\": \"#E5ECF6\", \"width\": 0.5}}, \"type\": \"bar\"}], \"barpolar\": [{\"marker\": {\"line\": {\"color\": \"#E5ECF6\", \"width\": 0.5}}, \"type\": \"barpolar\"}], \"carpet\": [{\"aaxis\": {\"endlinecolor\": \"#2a3f5f\", \"gridcolor\": \"white\", \"linecolor\": \"white\", \"minorgridcolor\": \"white\", \"startlinecolor\": \"#2a3f5f\"}, \"baxis\": {\"endlinecolor\": \"#2a3f5f\", \"gridcolor\": \"white\", \"linecolor\": \"white\", \"minorgridcolor\": \"white\", \"startlinecolor\": \"#2a3f5f\"}, \"type\": \"carpet\"}], \"choropleth\": [{\"colorbar\": {\"outlinewidth\": 0, \"ticks\": \"\"}, \"type\": \"choropleth\"}], \"contour\": [{\"colorbar\": {\"outlinewidth\": 0, \"ticks\": \"\"}, \"colorscale\": [[0.0, \"#0d0887\"], [0.1111111111111111, \"#46039f\"], [0.2222222222222222, \"#7201a8\"], [0.3333333333333333, \"#9c179e\"], [0.4444444444444444, \"#bd3786\"], [0.5555555555555556, \"#d8576b\"], [0.6666666666666666, \"#ed7953\"], [0.7777777777777778, \"#fb9f3a\"], [0.8888888888888888, \"#fdca26\"], [1.0, \"#f0f921\"]], \"type\": \"contour\"}], \"contourcarpet\": [{\"colorbar\": {\"outlinewidth\": 0, \"ticks\": \"\"}, \"type\": \"contourcarpet\"}], \"heatmap\": [{\"colorbar\": {\"outlinewidth\": 0, \"ticks\": \"\"}, \"colorscale\": [[0.0, \"#0d0887\"], [0.1111111111111111, \"#46039f\"], [0.2222222222222222, \"#7201a8\"], [0.3333333333333333, \"#9c179e\"], [0.4444444444444444, \"#bd3786\"], [0.5555555555555556, \"#d8576b\"], [0.6666666666666666, \"#ed7953\"], [0.7777777777777778, \"#fb9f3a\"], [0.8888888888888888, \"#fdca26\"], [1.0, \"#f0f921\"]], \"type\": \"heatmap\"}], \"heatmapgl\": [{\"colorbar\": {\"outlinewidth\": 0, \"ticks\": \"\"}, \"colorscale\": [[0.0, \"#0d0887\"], [0.1111111111111111, \"#46039f\"], [0.2222222222222222, \"#7201a8\"], [0.3333333333333333, \"#9c179e\"], [0.4444444444444444, \"#bd3786\"], [0.5555555555555556, \"#d8576b\"], [0.6666666666666666, \"#ed7953\"], [0.7777777777777778, \"#fb9f3a\"], [0.8888888888888888, \"#fdca26\"], [1.0, \"#f0f921\"]], \"type\": \"heatmapgl\"}], \"histogram\": [{\"marker\": {\"colorbar\": {\"outlinewidth\": 0, \"ticks\": \"\"}}, \"type\": \"histogram\"}], \"histogram2d\": [{\"colorbar\": {\"outlinewidth\": 0, \"ticks\": \"\"}, \"colorscale\": [[0.0, \"#0d0887\"], [0.1111111111111111, \"#46039f\"], [0.2222222222222222, \"#7201a8\"], [0.3333333333333333, \"#9c179e\"], [0.4444444444444444, \"#bd3786\"], [0.5555555555555556, \"#d8576b\"], [0.6666666666666666, \"#ed7953\"], [0.7777777777777778, \"#fb9f3a\"], [0.8888888888888888, \"#fdca26\"], [1.0, \"#f0f921\"]], \"type\": \"histogram2d\"}], \"histogram2dcontour\": [{\"colorbar\": {\"outlinewidth\": 0, \"ticks\": \"\"}, \"colorscale\": [[0.0, \"#0d0887\"], [0.1111111111111111, \"#46039f\"], [0.2222222222222222, \"#7201a8\"], [0.3333333333333333, \"#9c179e\"], [0.4444444444444444, \"#bd3786\"], [0.5555555555555556, \"#d8576b\"], [0.6666666666666666, \"#ed7953\"], [0.7777777777777778, \"#fb9f3a\"], [0.8888888888888888, \"#fdca26\"], [1.0, \"#f0f921\"]], \"type\": \"histogram2dcontour\"}], \"mesh3d\": [{\"colorbar\": {\"outlinewidth\": 0, \"ticks\": \"\"}, \"type\": \"mesh3d\"}], \"parcoords\": [{\"line\": {\"colorbar\": {\"outlinewidth\": 0, \"ticks\": \"\"}}, \"type\": \"parcoords\"}], \"pie\": [{\"automargin\": true, \"type\": \"pie\"}], \"scatter\": [{\"marker\": {\"colorbar\": {\"outlinewidth\": 0, \"ticks\": \"\"}}, \"type\": \"scatter\"}], \"scatter3d\": [{\"line\": {\"colorbar\": {\"outlinewidth\": 0, \"ticks\": \"\"}}, \"marker\": {\"colorbar\": {\"outlinewidth\": 0, \"ticks\": \"\"}}, \"type\": \"scatter3d\"}], \"scattercarpet\": [{\"marker\": {\"colorbar\": {\"outlinewidth\": 0, \"ticks\": \"\"}}, \"type\": \"scattercarpet\"}], \"scattergeo\": [{\"marker\": {\"colorbar\": {\"outlinewidth\": 0, \"ticks\": \"\"}}, \"type\": \"scattergeo\"}], \"scattergl\": [{\"marker\": {\"colorbar\": {\"outlinewidth\": 0, \"ticks\": \"\"}}, \"type\": \"scattergl\"}], \"scattermapbox\": [{\"marker\": {\"colorbar\": {\"outlinewidth\": 0, \"ticks\": \"\"}}, \"type\": \"scattermapbox\"}], \"scatterpolar\": [{\"marker\": {\"colorbar\": {\"outlinewidth\": 0, \"ticks\": \"\"}}, \"type\": \"scatterpolar\"}], \"scatterpolargl\": [{\"marker\": {\"colorbar\": {\"outlinewidth\": 0, \"ticks\": \"\"}}, \"type\": \"scatterpolargl\"}], \"scatterternary\": [{\"marker\": {\"colorbar\": {\"outlinewidth\": 0, \"ticks\": \"\"}}, \"type\": \"scatterternary\"}], \"surface\": [{\"colorbar\": {\"outlinewidth\": 0, \"ticks\": \"\"}, \"colorscale\": [[0.0, \"#0d0887\"], [0.1111111111111111, \"#46039f\"], [0.2222222222222222, \"#7201a8\"], [0.3333333333333333, \"#9c179e\"], [0.4444444444444444, \"#bd3786\"], [0.5555555555555556, \"#d8576b\"], [0.6666666666666666, \"#ed7953\"], [0.7777777777777778, \"#fb9f3a\"], [0.8888888888888888, \"#fdca26\"], [1.0, \"#f0f921\"]], \"type\": \"surface\"}], \"table\": [{\"cells\": {\"fill\": {\"color\": \"#EBF0F8\"}, \"line\": {\"color\": \"white\"}}, \"header\": {\"fill\": {\"color\": \"#C8D4E3\"}, \"line\": {\"color\": \"white\"}}, \"type\": \"table\"}]}, \"layout\": {\"annotationdefaults\": {\"arrowcolor\": \"#2a3f5f\", \"arrowhead\": 0, \"arrowwidth\": 1}, \"autotypenumbers\": \"strict\", \"coloraxis\": {\"colorbar\": {\"outlinewidth\": 0, \"ticks\": \"\"}}, \"colorscale\": {\"diverging\": [[0, \"#8e0152\"], [0.1, \"#c51b7d\"], [0.2, \"#de77ae\"], [0.3, \"#f1b6da\"], [0.4, \"#fde0ef\"], [0.5, \"#f7f7f7\"], [0.6, \"#e6f5d0\"], [0.7, \"#b8e186\"], [0.8, \"#7fbc41\"], [0.9, \"#4d9221\"], [1, \"#276419\"]], \"sequential\": [[0.0, \"#0d0887\"], [0.1111111111111111, \"#46039f\"], [0.2222222222222222, \"#7201a8\"], [0.3333333333333333, \"#9c179e\"], [0.4444444444444444, \"#bd3786\"], [0.5555555555555556, \"#d8576b\"], [0.6666666666666666, \"#ed7953\"], [0.7777777777777778, \"#fb9f3a\"], [0.8888888888888888, \"#fdca26\"], [1.0, \"#f0f921\"]], \"sequentialminus\": [[0.0, \"#0d0887\"], [0.1111111111111111, \"#46039f\"], [0.2222222222222222, \"#7201a8\"], [0.3333333333333333, \"#9c179e\"], [0.4444444444444444, \"#bd3786\"], [0.5555555555555556, \"#d8576b\"], [0.6666666666666666, \"#ed7953\"], [0.7777777777777778, \"#fb9f3a\"], [0.8888888888888888, \"#fdca26\"], [1.0, \"#f0f921\"]]}, \"colorway\": [\"#636efa\", \"#EF553B\", \"#00cc96\", \"#ab63fa\", \"#FFA15A\", \"#19d3f3\", \"#FF6692\", \"#B6E880\", \"#FF97FF\", \"#FECB52\"], \"font\": {\"color\": \"#2a3f5f\"}, \"geo\": {\"bgcolor\": \"white\", \"lakecolor\": \"white\", \"landcolor\": \"#E5ECF6\", \"showlakes\": true, \"showland\": true, \"subunitcolor\": \"white\"}, \"hoverlabel\": {\"align\": \"left\"}, \"hovermode\": \"closest\", \"mapbox\": {\"style\": \"light\"}, \"paper_bgcolor\": \"white\", \"plot_bgcolor\": \"#E5ECF6\", \"polar\": {\"angularaxis\": {\"gridcolor\": \"white\", \"linecolor\": \"white\", \"ticks\": \"\"}, \"bgcolor\": \"#E5ECF6\", \"radialaxis\": {\"gridcolor\": \"white\", \"linecolor\": \"white\", \"ticks\": \"\"}}, \"scene\": {\"xaxis\": {\"backgroundcolor\": \"#E5ECF6\", \"gridcolor\": \"white\", \"gridwidth\": 2, \"linecolor\": \"white\", \"showbackground\": true, \"ticks\": \"\", \"zerolinecolor\": \"white\"}, \"yaxis\": {\"backgroundcolor\": \"#E5ECF6\", \"gridcolor\": \"white\", \"gridwidth\": 2, \"linecolor\": \"white\", \"showbackground\": true, \"ticks\": \"\", \"zerolinecolor\": \"white\"}, \"zaxis\": {\"backgroundcolor\": \"#E5ECF6\", \"gridcolor\": \"white\", \"gridwidth\": 2, \"linecolor\": \"white\", \"showbackground\": true, \"ticks\": \"\", \"zerolinecolor\": \"white\"}}, \"shapedefaults\": {\"line\": {\"color\": \"#2a3f5f\"}}, \"ternary\": {\"aaxis\": {\"gridcolor\": \"white\", \"linecolor\": \"white\", \"ticks\": \"\"}, \"baxis\": {\"gridcolor\": \"white\", \"linecolor\": \"white\", \"ticks\": \"\"}, \"bgcolor\": \"#E5ECF6\", \"caxis\": {\"gridcolor\": \"white\", \"linecolor\": \"white\", \"ticks\": \"\"}}, \"title\": {\"x\": 0.05}, \"xaxis\": {\"automargin\": true, \"gridcolor\": \"white\", \"linecolor\": \"white\", \"ticks\": \"\", \"title\": {\"standoff\": 15}, \"zerolinecolor\": \"white\", \"zerolinewidth\": 2}, \"yaxis\": {\"automargin\": true, \"gridcolor\": \"white\", \"linecolor\": \"white\", \"ticks\": \"\", \"title\": {\"standoff\": 15}, \"zerolinecolor\": \"white\", \"zerolinewidth\": 2}}}},                        {\"responsive\": true}                    ).then(function(){\n",
       "                            \n",
       "var gd = document.getElementById('057bcbfe-dbd7-4457-8a1a-d79dccc629cf');\n",
       "var x = new MutationObserver(function (mutations, observer) {{\n",
       "        var display = window.getComputedStyle(gd).display;\n",
       "        if (!display || display === 'none') {{\n",
       "            console.log([gd, 'removed!']);\n",
       "            Plotly.purge(gd);\n",
       "            observer.disconnect();\n",
       "        }}\n",
       "}});\n",
       "\n",
       "// Listen for the removal of the full notebook cells\n",
       "var notebookContainer = gd.closest('#notebook-container');\n",
       "if (notebookContainer) {{\n",
       "    x.observe(notebookContainer, {childList: true});\n",
       "}}\n",
       "\n",
       "// Listen for the clearing of the current output cell\n",
       "var outputEl = gd.closest('.output');\n",
       "if (outputEl) {{\n",
       "    x.observe(outputEl, {childList: true});\n",
       "}}\n",
       "\n",
       "                        })                };                });            </script>        </div>"
      ]
     },
     "metadata": {},
     "output_type": "display_data"
    }
   ],
   "source": [
    "plot_path(lat, long, origin_point, destination_point)"
   ]
  },
  {
   "cell_type": "code",
   "execution_count": 105,
   "id": "insured-australia",
   "metadata": {},
   "outputs": [
    {
     "data": {
      "text/plain": [
       "NodeView((195438253, 195438255, 195438631, 195447516, 195447518, 195447520, 195500922, 195594836, 6359366687, 7463971107, 7472627041, 7472627042, 8739204976, 8739204978))"
      ]
     },
     "execution_count": 105,
     "metadata": {},
     "output_type": "execute_result"
    }
   ],
   "source": [
    "G.nodes"
   ]
  },
  {
   "cell_type": "code",
   "execution_count": 106,
   "id": "apart-opportunity",
   "metadata": {},
   "outputs": [
    {
     "data": {
      "text/html": [
       "<div>\n",
       "<style scoped>\n",
       "    .dataframe tbody tr th:only-of-type {\n",
       "        vertical-align: middle;\n",
       "    }\n",
       "\n",
       "    .dataframe tbody tr th {\n",
       "        vertical-align: top;\n",
       "    }\n",
       "\n",
       "    .dataframe thead th {\n",
       "        text-align: right;\n",
       "    }\n",
       "</style>\n",
       "<table border=\"1\" class=\"dataframe\">\n",
       "  <thead>\n",
       "    <tr style=\"text-align: right;\">\n",
       "      <th></th>\n",
       "      <th>Nodes</th>\n",
       "      <th>Latitude</th>\n",
       "      <th>Longitude</th>\n",
       "    </tr>\n",
       "  </thead>\n",
       "  <tbody>\n",
       "    <tr>\n",
       "      <th>0</th>\n",
       "      <td>195438253</td>\n",
       "      <td>35.582010</td>\n",
       "      <td>-78.799760</td>\n",
       "    </tr>\n",
       "    <tr>\n",
       "      <th>1</th>\n",
       "      <td>195438255</td>\n",
       "      <td>35.581969</td>\n",
       "      <td>-78.798268</td>\n",
       "    </tr>\n",
       "    <tr>\n",
       "      <th>2</th>\n",
       "      <td>195438631</td>\n",
       "      <td>35.584332</td>\n",
       "      <td>-78.798292</td>\n",
       "    </tr>\n",
       "    <tr>\n",
       "      <th>3</th>\n",
       "      <td>195447516</td>\n",
       "      <td>35.582924</td>\n",
       "      <td>-78.799764</td>\n",
       "    </tr>\n",
       "    <tr>\n",
       "      <th>4</th>\n",
       "      <td>195447518</td>\n",
       "      <td>35.583693</td>\n",
       "      <td>-78.799788</td>\n",
       "    </tr>\n",
       "    <tr>\n",
       "      <th>5</th>\n",
       "      <td>195447520</td>\n",
       "      <td>35.584345</td>\n",
       "      <td>-78.799816</td>\n",
       "    </tr>\n",
       "    <tr>\n",
       "      <th>6</th>\n",
       "      <td>195500922</td>\n",
       "      <td>35.582764</td>\n",
       "      <td>-78.798270</td>\n",
       "    </tr>\n",
       "    <tr>\n",
       "      <th>7</th>\n",
       "      <td>195594836</td>\n",
       "      <td>35.582753</td>\n",
       "      <td>-78.799763</td>\n",
       "    </tr>\n",
       "    <tr>\n",
       "      <th>8</th>\n",
       "      <td>6359366687</td>\n",
       "      <td>35.584334</td>\n",
       "      <td>-78.798859</td>\n",
       "    </tr>\n",
       "    <tr>\n",
       "      <th>9</th>\n",
       "      <td>7463971107</td>\n",
       "      <td>35.583698</td>\n",
       "      <td>-78.800076</td>\n",
       "    </tr>\n",
       "    <tr>\n",
       "      <th>10</th>\n",
       "      <td>7472627041</td>\n",
       "      <td>35.582927</td>\n",
       "      <td>-78.800216</td>\n",
       "    </tr>\n",
       "    <tr>\n",
       "      <th>11</th>\n",
       "      <td>7472627042</td>\n",
       "      <td>35.583201</td>\n",
       "      <td>-78.800213</td>\n",
       "    </tr>\n",
       "    <tr>\n",
       "      <th>12</th>\n",
       "      <td>8739204976</td>\n",
       "      <td>35.581971</td>\n",
       "      <td>-78.798425</td>\n",
       "    </tr>\n",
       "    <tr>\n",
       "      <th>13</th>\n",
       "      <td>8739204978</td>\n",
       "      <td>35.581973</td>\n",
       "      <td>-78.798708</td>\n",
       "    </tr>\n",
       "  </tbody>\n",
       "</table>\n",
       "</div>"
      ],
      "text/plain": [
       "         Nodes   Latitude  Longitude\n",
       "0    195438253  35.582010 -78.799760\n",
       "1    195438255  35.581969 -78.798268\n",
       "2    195438631  35.584332 -78.798292\n",
       "3    195447516  35.582924 -78.799764\n",
       "4    195447518  35.583693 -78.799788\n",
       "5    195447520  35.584345 -78.799816\n",
       "6    195500922  35.582764 -78.798270\n",
       "7    195594836  35.582753 -78.799763\n",
       "8   6359366687  35.584334 -78.798859\n",
       "9   7463971107  35.583698 -78.800076\n",
       "10  7472627041  35.582927 -78.800216\n",
       "11  7472627042  35.583201 -78.800213\n",
       "12  8739204976  35.581971 -78.798425\n",
       "13  8739204978  35.581973 -78.798708"
      ]
     },
     "execution_count": 106,
     "metadata": {},
     "output_type": "execute_result"
    }
   ],
   "source": [
    "df1"
   ]
  },
  {
   "cell_type": "code",
   "execution_count": 108,
   "id": "latter-treasury",
   "metadata": {},
   "outputs": [],
   "source": [
    "data = df1"
   ]
  },
  {
   "cell_type": "code",
   "execution_count": 109,
   "id": "limiting-fields",
   "metadata": {},
   "outputs": [],
   "source": [
    "df1 = df1.drop(['Nodes'],axis=1)\n",
    "df1.rename(columns = {'Latitude':'Left'}, inplace = True)\n",
    "df1.rename(columns = {'Longitude':'Right'}, inplace = True)"
   ]
  },
  {
   "cell_type": "code",
   "execution_count": 110,
   "id": "falling-bedroom",
   "metadata": {},
   "outputs": [
    {
     "data": {
      "text/html": [
       "<div>\n",
       "<style scoped>\n",
       "    .dataframe tbody tr th:only-of-type {\n",
       "        vertical-align: middle;\n",
       "    }\n",
       "\n",
       "    .dataframe tbody tr th {\n",
       "        vertical-align: top;\n",
       "    }\n",
       "\n",
       "    .dataframe thead th {\n",
       "        text-align: right;\n",
       "    }\n",
       "</style>\n",
       "<table border=\"1\" class=\"dataframe\">\n",
       "  <thead>\n",
       "    <tr style=\"text-align: right;\">\n",
       "      <th></th>\n",
       "      <th>Left</th>\n",
       "      <th>Right</th>\n",
       "    </tr>\n",
       "  </thead>\n",
       "  <tbody>\n",
       "    <tr>\n",
       "      <th>0</th>\n",
       "      <td>35.582010</td>\n",
       "      <td>-78.799760</td>\n",
       "    </tr>\n",
       "    <tr>\n",
       "      <th>1</th>\n",
       "      <td>35.581969</td>\n",
       "      <td>-78.798268</td>\n",
       "    </tr>\n",
       "    <tr>\n",
       "      <th>2</th>\n",
       "      <td>35.584332</td>\n",
       "      <td>-78.798292</td>\n",
       "    </tr>\n",
       "    <tr>\n",
       "      <th>3</th>\n",
       "      <td>35.582924</td>\n",
       "      <td>-78.799764</td>\n",
       "    </tr>\n",
       "    <tr>\n",
       "      <th>4</th>\n",
       "      <td>35.583693</td>\n",
       "      <td>-78.799788</td>\n",
       "    </tr>\n",
       "    <tr>\n",
       "      <th>5</th>\n",
       "      <td>35.584345</td>\n",
       "      <td>-78.799816</td>\n",
       "    </tr>\n",
       "    <tr>\n",
       "      <th>6</th>\n",
       "      <td>35.582764</td>\n",
       "      <td>-78.798270</td>\n",
       "    </tr>\n",
       "    <tr>\n",
       "      <th>7</th>\n",
       "      <td>35.582753</td>\n",
       "      <td>-78.799763</td>\n",
       "    </tr>\n",
       "    <tr>\n",
       "      <th>8</th>\n",
       "      <td>35.584334</td>\n",
       "      <td>-78.798859</td>\n",
       "    </tr>\n",
       "    <tr>\n",
       "      <th>9</th>\n",
       "      <td>35.583698</td>\n",
       "      <td>-78.800076</td>\n",
       "    </tr>\n",
       "    <tr>\n",
       "      <th>10</th>\n",
       "      <td>35.582927</td>\n",
       "      <td>-78.800216</td>\n",
       "    </tr>\n",
       "    <tr>\n",
       "      <th>11</th>\n",
       "      <td>35.583201</td>\n",
       "      <td>-78.800213</td>\n",
       "    </tr>\n",
       "    <tr>\n",
       "      <th>12</th>\n",
       "      <td>35.581971</td>\n",
       "      <td>-78.798425</td>\n",
       "    </tr>\n",
       "    <tr>\n",
       "      <th>13</th>\n",
       "      <td>35.581973</td>\n",
       "      <td>-78.798708</td>\n",
       "    </tr>\n",
       "  </tbody>\n",
       "</table>\n",
       "</div>"
      ],
      "text/plain": [
       "         Left      Right\n",
       "0   35.582010 -78.799760\n",
       "1   35.581969 -78.798268\n",
       "2   35.584332 -78.798292\n",
       "3   35.582924 -78.799764\n",
       "4   35.583693 -78.799788\n",
       "5   35.584345 -78.799816\n",
       "6   35.582764 -78.798270\n",
       "7   35.582753 -78.799763\n",
       "8   35.584334 -78.798859\n",
       "9   35.583698 -78.800076\n",
       "10  35.582927 -78.800216\n",
       "11  35.583201 -78.800213\n",
       "12  35.581971 -78.798425\n",
       "13  35.581973 -78.798708"
      ]
     },
     "execution_count": 110,
     "metadata": {},
     "output_type": "execute_result"
    }
   ],
   "source": [
    "df1"
   ]
  },
  {
   "cell_type": "code",
   "execution_count": 111,
   "id": "institutional-aspect",
   "metadata": {},
   "outputs": [],
   "source": [
    "import requests # to call the openmap/google apis\n",
    "r = requests.get(f\"\"\"http://router.project-osrm.org/route/v1/car/{df1.loc[0, \"Right\"]},{df1.loc[0, \"Left\"]};{df1.loc[8, \"Right\"]},{df1.loc[8, \"Left\"]}?overview=false\"\"\")"
   ]
  },
  {
   "cell_type": "code",
   "execution_count": 112,
   "id": "comic-scratch",
   "metadata": {},
   "outputs": [],
   "source": [
    "import json\n",
    "df3 = pd.DataFrame()\n",
    "for j in df1.index:\n",
    "    list1 = []\n",
    "    for i in df1.index:\n",
    "        r = requests.get(f\"\"\"http://router.project-osrm.org/route/v1/car/{df1.loc[j, \"Right\"]},{df1.loc[j, \"Left\"]};{df1.loc[i, \"Right\"]},{df1.loc[i, \"Left\"]}?overview=false\"\"\")\n",
    "        list1.append(json.loads(r.content)[\"routes\"][0][\"distance\"])\n",
    "    df3[j] = list1"
   ]
  },
  {
   "cell_type": "code",
   "execution_count": 113,
   "id": "banner-tiger",
   "metadata": {},
   "outputs": [
    {
     "data": {
      "text/html": [
       "<div>\n",
       "<style scoped>\n",
       "    .dataframe tbody tr th:only-of-type {\n",
       "        vertical-align: middle;\n",
       "    }\n",
       "\n",
       "    .dataframe tbody tr th {\n",
       "        vertical-align: top;\n",
       "    }\n",
       "\n",
       "    .dataframe thead th {\n",
       "        text-align: right;\n",
       "    }\n",
       "</style>\n",
       "<table border=\"1\" class=\"dataframe\">\n",
       "  <thead>\n",
       "    <tr style=\"text-align: right;\">\n",
       "      <th></th>\n",
       "      <th>0</th>\n",
       "      <th>1</th>\n",
       "      <th>2</th>\n",
       "      <th>3</th>\n",
       "      <th>4</th>\n",
       "      <th>5</th>\n",
       "      <th>6</th>\n",
       "      <th>7</th>\n",
       "      <th>8</th>\n",
       "      <th>9</th>\n",
       "      <th>10</th>\n",
       "      <th>11</th>\n",
       "      <th>12</th>\n",
       "      <th>13</th>\n",
       "    </tr>\n",
       "  </thead>\n",
       "  <tbody>\n",
       "    <tr>\n",
       "      <th>0</th>\n",
       "      <td>0.0</td>\n",
       "      <td>135.3</td>\n",
       "      <td>397.7</td>\n",
       "      <td>101.7</td>\n",
       "      <td>187.2</td>\n",
       "      <td>259.8</td>\n",
       "      <td>217.7</td>\n",
       "      <td>82.6</td>\n",
       "      <td>346.4</td>\n",
       "      <td>213.3</td>\n",
       "      <td>142.5</td>\n",
       "      <td>172.9</td>\n",
       "      <td>121.1</td>\n",
       "      <td>95.5</td>\n",
       "    </tr>\n",
       "    <tr>\n",
       "      <th>1</th>\n",
       "      <td>135.3</td>\n",
       "      <td>0.0</td>\n",
       "      <td>262.8</td>\n",
       "      <td>237.0</td>\n",
       "      <td>322.6</td>\n",
       "      <td>395.1</td>\n",
       "      <td>88.4</td>\n",
       "      <td>218.0</td>\n",
       "      <td>314.1</td>\n",
       "      <td>348.6</td>\n",
       "      <td>277.8</td>\n",
       "      <td>308.3</td>\n",
       "      <td>14.2</td>\n",
       "      <td>39.8</td>\n",
       "    </tr>\n",
       "    <tr>\n",
       "      <th>2</th>\n",
       "      <td>397.7</td>\n",
       "      <td>262.8</td>\n",
       "      <td>0.0</td>\n",
       "      <td>296.0</td>\n",
       "      <td>210.4</td>\n",
       "      <td>137.9</td>\n",
       "      <td>174.4</td>\n",
       "      <td>315.0</td>\n",
       "      <td>51.3</td>\n",
       "      <td>236.5</td>\n",
       "      <td>336.8</td>\n",
       "      <td>367.3</td>\n",
       "      <td>277.1</td>\n",
       "      <td>302.7</td>\n",
       "    </tr>\n",
       "    <tr>\n",
       "      <th>3</th>\n",
       "      <td>101.7</td>\n",
       "      <td>237.0</td>\n",
       "      <td>296.0</td>\n",
       "      <td>0.0</td>\n",
       "      <td>85.6</td>\n",
       "      <td>158.1</td>\n",
       "      <td>154.1</td>\n",
       "      <td>19.0</td>\n",
       "      <td>244.7</td>\n",
       "      <td>111.6</td>\n",
       "      <td>40.8</td>\n",
       "      <td>71.3</td>\n",
       "      <td>222.8</td>\n",
       "      <td>197.2</td>\n",
       "    </tr>\n",
       "    <tr>\n",
       "      <th>4</th>\n",
       "      <td>187.2</td>\n",
       "      <td>322.6</td>\n",
       "      <td>210.4</td>\n",
       "      <td>85.6</td>\n",
       "      <td>0.0</td>\n",
       "      <td>72.6</td>\n",
       "      <td>239.6</td>\n",
       "      <td>104.6</td>\n",
       "      <td>159.2</td>\n",
       "      <td>26.1</td>\n",
       "      <td>126.4</td>\n",
       "      <td>156.8</td>\n",
       "      <td>308.4</td>\n",
       "      <td>282.8</td>\n",
       "    </tr>\n",
       "    <tr>\n",
       "      <th>5</th>\n",
       "      <td>259.8</td>\n",
       "      <td>395.1</td>\n",
       "      <td>137.9</td>\n",
       "      <td>158.1</td>\n",
       "      <td>72.6</td>\n",
       "      <td>0.0</td>\n",
       "      <td>312.2</td>\n",
       "      <td>177.1</td>\n",
       "      <td>86.6</td>\n",
       "      <td>98.6</td>\n",
       "      <td>198.9</td>\n",
       "      <td>229.4</td>\n",
       "      <td>380.9</td>\n",
       "      <td>355.3</td>\n",
       "    </tr>\n",
       "    <tr>\n",
       "      <th>6</th>\n",
       "      <td>217.7</td>\n",
       "      <td>88.4</td>\n",
       "      <td>174.4</td>\n",
       "      <td>154.1</td>\n",
       "      <td>239.6</td>\n",
       "      <td>312.2</td>\n",
       "      <td>0.0</td>\n",
       "      <td>135.1</td>\n",
       "      <td>225.7</td>\n",
       "      <td>265.7</td>\n",
       "      <td>194.9</td>\n",
       "      <td>225.4</td>\n",
       "      <td>102.6</td>\n",
       "      <td>128.2</td>\n",
       "    </tr>\n",
       "    <tr>\n",
       "      <th>7</th>\n",
       "      <td>82.6</td>\n",
       "      <td>218.0</td>\n",
       "      <td>309.5</td>\n",
       "      <td>19.0</td>\n",
       "      <td>104.6</td>\n",
       "      <td>177.1</td>\n",
       "      <td>135.1</td>\n",
       "      <td>0.0</td>\n",
       "      <td>263.7</td>\n",
       "      <td>130.6</td>\n",
       "      <td>59.8</td>\n",
       "      <td>90.3</td>\n",
       "      <td>203.8</td>\n",
       "      <td>178.2</td>\n",
       "    </tr>\n",
       "    <tr>\n",
       "      <th>8</th>\n",
       "      <td>346.4</td>\n",
       "      <td>314.1</td>\n",
       "      <td>51.3</td>\n",
       "      <td>244.7</td>\n",
       "      <td>159.2</td>\n",
       "      <td>86.6</td>\n",
       "      <td>225.7</td>\n",
       "      <td>263.7</td>\n",
       "      <td>0.0</td>\n",
       "      <td>185.2</td>\n",
       "      <td>285.5</td>\n",
       "      <td>316.0</td>\n",
       "      <td>328.3</td>\n",
       "      <td>441.9</td>\n",
       "    </tr>\n",
       "    <tr>\n",
       "      <th>9</th>\n",
       "      <td>333.6</td>\n",
       "      <td>469.0</td>\n",
       "      <td>356.9</td>\n",
       "      <td>232.0</td>\n",
       "      <td>146.4</td>\n",
       "      <td>219.0</td>\n",
       "      <td>386.1</td>\n",
       "      <td>251.0</td>\n",
       "      <td>305.6</td>\n",
       "      <td>0.0</td>\n",
       "      <td>233.8</td>\n",
       "      <td>264.3</td>\n",
       "      <td>454.8</td>\n",
       "      <td>429.2</td>\n",
       "    </tr>\n",
       "    <tr>\n",
       "      <th>10</th>\n",
       "      <td>142.5</td>\n",
       "      <td>277.8</td>\n",
       "      <td>336.8</td>\n",
       "      <td>40.8</td>\n",
       "      <td>126.4</td>\n",
       "      <td>198.9</td>\n",
       "      <td>194.9</td>\n",
       "      <td>59.8</td>\n",
       "      <td>285.5</td>\n",
       "      <td>152.4</td>\n",
       "      <td>0.0</td>\n",
       "      <td>30.5</td>\n",
       "      <td>263.6</td>\n",
       "      <td>238.0</td>\n",
       "    </tr>\n",
       "    <tr>\n",
       "      <th>11</th>\n",
       "      <td>172.9</td>\n",
       "      <td>308.3</td>\n",
       "      <td>367.3</td>\n",
       "      <td>71.3</td>\n",
       "      <td>156.8</td>\n",
       "      <td>229.4</td>\n",
       "      <td>225.4</td>\n",
       "      <td>90.3</td>\n",
       "      <td>316.0</td>\n",
       "      <td>182.9</td>\n",
       "      <td>30.5</td>\n",
       "      <td>0.0</td>\n",
       "      <td>294.1</td>\n",
       "      <td>268.5</td>\n",
       "    </tr>\n",
       "    <tr>\n",
       "      <th>12</th>\n",
       "      <td>121.1</td>\n",
       "      <td>14.2</td>\n",
       "      <td>277.1</td>\n",
       "      <td>222.8</td>\n",
       "      <td>308.4</td>\n",
       "      <td>380.9</td>\n",
       "      <td>102.6</td>\n",
       "      <td>203.8</td>\n",
       "      <td>328.3</td>\n",
       "      <td>334.4</td>\n",
       "      <td>263.6</td>\n",
       "      <td>294.1</td>\n",
       "      <td>0.0</td>\n",
       "      <td>25.6</td>\n",
       "    </tr>\n",
       "    <tr>\n",
       "      <th>13</th>\n",
       "      <td>95.5</td>\n",
       "      <td>39.8</td>\n",
       "      <td>302.7</td>\n",
       "      <td>197.2</td>\n",
       "      <td>282.8</td>\n",
       "      <td>355.3</td>\n",
       "      <td>128.2</td>\n",
       "      <td>178.2</td>\n",
       "      <td>353.9</td>\n",
       "      <td>308.8</td>\n",
       "      <td>238.0</td>\n",
       "      <td>268.5</td>\n",
       "      <td>25.6</td>\n",
       "      <td>0.0</td>\n",
       "    </tr>\n",
       "  </tbody>\n",
       "</table>\n",
       "</div>"
      ],
      "text/plain": [
       "       0      1      2      3      4      5      6      7      8      9   \\\n",
       "0     0.0  135.3  397.7  101.7  187.2  259.8  217.7   82.6  346.4  213.3   \n",
       "1   135.3    0.0  262.8  237.0  322.6  395.1   88.4  218.0  314.1  348.6   \n",
       "2   397.7  262.8    0.0  296.0  210.4  137.9  174.4  315.0   51.3  236.5   \n",
       "3   101.7  237.0  296.0    0.0   85.6  158.1  154.1   19.0  244.7  111.6   \n",
       "4   187.2  322.6  210.4   85.6    0.0   72.6  239.6  104.6  159.2   26.1   \n",
       "5   259.8  395.1  137.9  158.1   72.6    0.0  312.2  177.1   86.6   98.6   \n",
       "6   217.7   88.4  174.4  154.1  239.6  312.2    0.0  135.1  225.7  265.7   \n",
       "7    82.6  218.0  309.5   19.0  104.6  177.1  135.1    0.0  263.7  130.6   \n",
       "8   346.4  314.1   51.3  244.7  159.2   86.6  225.7  263.7    0.0  185.2   \n",
       "9   333.6  469.0  356.9  232.0  146.4  219.0  386.1  251.0  305.6    0.0   \n",
       "10  142.5  277.8  336.8   40.8  126.4  198.9  194.9   59.8  285.5  152.4   \n",
       "11  172.9  308.3  367.3   71.3  156.8  229.4  225.4   90.3  316.0  182.9   \n",
       "12  121.1   14.2  277.1  222.8  308.4  380.9  102.6  203.8  328.3  334.4   \n",
       "13   95.5   39.8  302.7  197.2  282.8  355.3  128.2  178.2  353.9  308.8   \n",
       "\n",
       "       10     11     12     13  \n",
       "0   142.5  172.9  121.1   95.5  \n",
       "1   277.8  308.3   14.2   39.8  \n",
       "2   336.8  367.3  277.1  302.7  \n",
       "3    40.8   71.3  222.8  197.2  \n",
       "4   126.4  156.8  308.4  282.8  \n",
       "5   198.9  229.4  380.9  355.3  \n",
       "6   194.9  225.4  102.6  128.2  \n",
       "7    59.8   90.3  203.8  178.2  \n",
       "8   285.5  316.0  328.3  441.9  \n",
       "9   233.8  264.3  454.8  429.2  \n",
       "10    0.0   30.5  263.6  238.0  \n",
       "11   30.5    0.0  294.1  268.5  \n",
       "12  263.6  294.1    0.0   25.6  \n",
       "13  238.0  268.5   25.6    0.0  "
      ]
     },
     "execution_count": 113,
     "metadata": {},
     "output_type": "execute_result"
    }
   ],
   "source": [
    "df3"
   ]
  },
  {
   "cell_type": "code",
   "execution_count": 114,
   "id": "rising-cornwall",
   "metadata": {},
   "outputs": [],
   "source": [
    "df = df1"
   ]
  },
  {
   "cell_type": "code",
   "execution_count": 115,
   "id": "baking-cartoon",
   "metadata": {},
   "outputs": [],
   "source": [
    "df['coordinate'] = list(zip(df['Right'],df['Left']))\n",
    "df['ID'] = df.index"
   ]
  },
  {
   "cell_type": "code",
   "execution_count": 116,
   "id": "tamil-concrete",
   "metadata": {},
   "outputs": [
    {
     "data": {
      "text/plain": [
       "{0: (-78.7997604, 35.58201),\n",
       " 1: (-78.7982676, 35.5819692),\n",
       " 2: (-78.7982923, 35.5843317),\n",
       " 3: (-78.7997645, 35.5829241),\n",
       " 4: (-78.7997882, 35.5836931),\n",
       " 5: (-78.7998159, 35.5843454),\n",
       " 6: (-78.79827, 35.5827637),\n",
       " 7: (-78.7997627, 35.5827526),\n",
       " 8: (-78.7988587, 35.584334),\n",
       " 9: (-78.8000756, 35.5836978),\n",
       " 10: (-78.8002157, 35.5829271),\n",
       " 11: (-78.800213, 35.5832007),\n",
       " 12: (-78.7984249, 35.5819707),\n",
       " 13: (-78.7987076, 35.5819733)}"
      ]
     },
     "execution_count": 116,
     "metadata": {},
     "output_type": "execute_result"
    }
   ],
   "source": [
    "locations = dict( ( ID, (df.loc[ID, 'Right'], df.loc[ID, 'Left']) ) for ID in df.index)\n",
    "locations"
   ]
  },
  {
   "cell_type": "code",
   "execution_count": 117,
   "id": "absent-oxide",
   "metadata": {},
   "outputs": [
    {
     "data": {
      "text/html": [
       "<div>\n",
       "<style scoped>\n",
       "    .dataframe tbody tr th:only-of-type {\n",
       "        vertical-align: middle;\n",
       "    }\n",
       "\n",
       "    .dataframe tbody tr th {\n",
       "        vertical-align: top;\n",
       "    }\n",
       "\n",
       "    .dataframe thead th {\n",
       "        text-align: right;\n",
       "    }\n",
       "</style>\n",
       "<table border=\"1\" class=\"dataframe\">\n",
       "  <thead>\n",
       "    <tr style=\"text-align: right;\">\n",
       "      <th></th>\n",
       "      <th>0</th>\n",
       "      <th>1</th>\n",
       "      <th>2</th>\n",
       "      <th>3</th>\n",
       "      <th>4</th>\n",
       "      <th>5</th>\n",
       "      <th>6</th>\n",
       "      <th>7</th>\n",
       "      <th>8</th>\n",
       "      <th>9</th>\n",
       "      <th>10</th>\n",
       "      <th>11</th>\n",
       "      <th>12</th>\n",
       "      <th>13</th>\n",
       "    </tr>\n",
       "  </thead>\n",
       "  <tbody>\n",
       "    <tr>\n",
       "      <th>0</th>\n",
       "      <td>0.0</td>\n",
       "      <td>135.3</td>\n",
       "      <td>397.7</td>\n",
       "      <td>101.7</td>\n",
       "      <td>187.2</td>\n",
       "      <td>259.8</td>\n",
       "      <td>217.7</td>\n",
       "      <td>82.6</td>\n",
       "      <td>346.4</td>\n",
       "      <td>213.3</td>\n",
       "      <td>142.5</td>\n",
       "      <td>172.9</td>\n",
       "      <td>121.1</td>\n",
       "      <td>95.5</td>\n",
       "    </tr>\n",
       "    <tr>\n",
       "      <th>1</th>\n",
       "      <td>135.3</td>\n",
       "      <td>0.0</td>\n",
       "      <td>262.8</td>\n",
       "      <td>237.0</td>\n",
       "      <td>322.6</td>\n",
       "      <td>395.1</td>\n",
       "      <td>88.4</td>\n",
       "      <td>218.0</td>\n",
       "      <td>314.1</td>\n",
       "      <td>348.6</td>\n",
       "      <td>277.8</td>\n",
       "      <td>308.3</td>\n",
       "      <td>14.2</td>\n",
       "      <td>39.8</td>\n",
       "    </tr>\n",
       "    <tr>\n",
       "      <th>2</th>\n",
       "      <td>397.7</td>\n",
       "      <td>262.8</td>\n",
       "      <td>0.0</td>\n",
       "      <td>296.0</td>\n",
       "      <td>210.4</td>\n",
       "      <td>137.9</td>\n",
       "      <td>174.4</td>\n",
       "      <td>315.0</td>\n",
       "      <td>51.3</td>\n",
       "      <td>236.5</td>\n",
       "      <td>336.8</td>\n",
       "      <td>367.3</td>\n",
       "      <td>277.1</td>\n",
       "      <td>302.7</td>\n",
       "    </tr>\n",
       "    <tr>\n",
       "      <th>3</th>\n",
       "      <td>101.7</td>\n",
       "      <td>237.0</td>\n",
       "      <td>296.0</td>\n",
       "      <td>0.0</td>\n",
       "      <td>85.6</td>\n",
       "      <td>158.1</td>\n",
       "      <td>154.1</td>\n",
       "      <td>19.0</td>\n",
       "      <td>244.7</td>\n",
       "      <td>111.6</td>\n",
       "      <td>40.8</td>\n",
       "      <td>71.3</td>\n",
       "      <td>222.8</td>\n",
       "      <td>197.2</td>\n",
       "    </tr>\n",
       "    <tr>\n",
       "      <th>4</th>\n",
       "      <td>187.2</td>\n",
       "      <td>322.6</td>\n",
       "      <td>210.4</td>\n",
       "      <td>85.6</td>\n",
       "      <td>0.0</td>\n",
       "      <td>72.6</td>\n",
       "      <td>239.6</td>\n",
       "      <td>104.6</td>\n",
       "      <td>159.2</td>\n",
       "      <td>26.1</td>\n",
       "      <td>126.4</td>\n",
       "      <td>156.8</td>\n",
       "      <td>308.4</td>\n",
       "      <td>282.8</td>\n",
       "    </tr>\n",
       "    <tr>\n",
       "      <th>5</th>\n",
       "      <td>259.8</td>\n",
       "      <td>395.1</td>\n",
       "      <td>137.9</td>\n",
       "      <td>158.1</td>\n",
       "      <td>72.6</td>\n",
       "      <td>0.0</td>\n",
       "      <td>312.2</td>\n",
       "      <td>177.1</td>\n",
       "      <td>86.6</td>\n",
       "      <td>98.6</td>\n",
       "      <td>198.9</td>\n",
       "      <td>229.4</td>\n",
       "      <td>380.9</td>\n",
       "      <td>355.3</td>\n",
       "    </tr>\n",
       "    <tr>\n",
       "      <th>6</th>\n",
       "      <td>217.7</td>\n",
       "      <td>88.4</td>\n",
       "      <td>174.4</td>\n",
       "      <td>154.1</td>\n",
       "      <td>239.6</td>\n",
       "      <td>312.2</td>\n",
       "      <td>0.0</td>\n",
       "      <td>135.1</td>\n",
       "      <td>225.7</td>\n",
       "      <td>265.7</td>\n",
       "      <td>194.9</td>\n",
       "      <td>225.4</td>\n",
       "      <td>102.6</td>\n",
       "      <td>128.2</td>\n",
       "    </tr>\n",
       "    <tr>\n",
       "      <th>7</th>\n",
       "      <td>82.6</td>\n",
       "      <td>218.0</td>\n",
       "      <td>309.5</td>\n",
       "      <td>19.0</td>\n",
       "      <td>104.6</td>\n",
       "      <td>177.1</td>\n",
       "      <td>135.1</td>\n",
       "      <td>0.0</td>\n",
       "      <td>263.7</td>\n",
       "      <td>130.6</td>\n",
       "      <td>59.8</td>\n",
       "      <td>90.3</td>\n",
       "      <td>203.8</td>\n",
       "      <td>178.2</td>\n",
       "    </tr>\n",
       "    <tr>\n",
       "      <th>8</th>\n",
       "      <td>346.4</td>\n",
       "      <td>314.1</td>\n",
       "      <td>51.3</td>\n",
       "      <td>244.7</td>\n",
       "      <td>159.2</td>\n",
       "      <td>86.6</td>\n",
       "      <td>225.7</td>\n",
       "      <td>263.7</td>\n",
       "      <td>0.0</td>\n",
       "      <td>185.2</td>\n",
       "      <td>285.5</td>\n",
       "      <td>316.0</td>\n",
       "      <td>328.3</td>\n",
       "      <td>441.9</td>\n",
       "    </tr>\n",
       "    <tr>\n",
       "      <th>9</th>\n",
       "      <td>333.6</td>\n",
       "      <td>469.0</td>\n",
       "      <td>356.9</td>\n",
       "      <td>232.0</td>\n",
       "      <td>146.4</td>\n",
       "      <td>219.0</td>\n",
       "      <td>386.1</td>\n",
       "      <td>251.0</td>\n",
       "      <td>305.6</td>\n",
       "      <td>0.0</td>\n",
       "      <td>233.8</td>\n",
       "      <td>264.3</td>\n",
       "      <td>454.8</td>\n",
       "      <td>429.2</td>\n",
       "    </tr>\n",
       "    <tr>\n",
       "      <th>10</th>\n",
       "      <td>142.5</td>\n",
       "      <td>277.8</td>\n",
       "      <td>336.8</td>\n",
       "      <td>40.8</td>\n",
       "      <td>126.4</td>\n",
       "      <td>198.9</td>\n",
       "      <td>194.9</td>\n",
       "      <td>59.8</td>\n",
       "      <td>285.5</td>\n",
       "      <td>152.4</td>\n",
       "      <td>0.0</td>\n",
       "      <td>30.5</td>\n",
       "      <td>263.6</td>\n",
       "      <td>238.0</td>\n",
       "    </tr>\n",
       "    <tr>\n",
       "      <th>11</th>\n",
       "      <td>172.9</td>\n",
       "      <td>308.3</td>\n",
       "      <td>367.3</td>\n",
       "      <td>71.3</td>\n",
       "      <td>156.8</td>\n",
       "      <td>229.4</td>\n",
       "      <td>225.4</td>\n",
       "      <td>90.3</td>\n",
       "      <td>316.0</td>\n",
       "      <td>182.9</td>\n",
       "      <td>30.5</td>\n",
       "      <td>0.0</td>\n",
       "      <td>294.1</td>\n",
       "      <td>268.5</td>\n",
       "    </tr>\n",
       "    <tr>\n",
       "      <th>12</th>\n",
       "      <td>121.1</td>\n",
       "      <td>14.2</td>\n",
       "      <td>277.1</td>\n",
       "      <td>222.8</td>\n",
       "      <td>308.4</td>\n",
       "      <td>380.9</td>\n",
       "      <td>102.6</td>\n",
       "      <td>203.8</td>\n",
       "      <td>328.3</td>\n",
       "      <td>334.4</td>\n",
       "      <td>263.6</td>\n",
       "      <td>294.1</td>\n",
       "      <td>0.0</td>\n",
       "      <td>25.6</td>\n",
       "    </tr>\n",
       "    <tr>\n",
       "      <th>13</th>\n",
       "      <td>95.5</td>\n",
       "      <td>39.8</td>\n",
       "      <td>302.7</td>\n",
       "      <td>197.2</td>\n",
       "      <td>282.8</td>\n",
       "      <td>355.3</td>\n",
       "      <td>128.2</td>\n",
       "      <td>178.2</td>\n",
       "      <td>353.9</td>\n",
       "      <td>308.8</td>\n",
       "      <td>238.0</td>\n",
       "      <td>268.5</td>\n",
       "      <td>25.6</td>\n",
       "      <td>0.0</td>\n",
       "    </tr>\n",
       "  </tbody>\n",
       "</table>\n",
       "</div>"
      ],
      "text/plain": [
       "       0      1      2      3      4      5      6      7      8      9   \\\n",
       "0     0.0  135.3  397.7  101.7  187.2  259.8  217.7   82.6  346.4  213.3   \n",
       "1   135.3    0.0  262.8  237.0  322.6  395.1   88.4  218.0  314.1  348.6   \n",
       "2   397.7  262.8    0.0  296.0  210.4  137.9  174.4  315.0   51.3  236.5   \n",
       "3   101.7  237.0  296.0    0.0   85.6  158.1  154.1   19.0  244.7  111.6   \n",
       "4   187.2  322.6  210.4   85.6    0.0   72.6  239.6  104.6  159.2   26.1   \n",
       "5   259.8  395.1  137.9  158.1   72.6    0.0  312.2  177.1   86.6   98.6   \n",
       "6   217.7   88.4  174.4  154.1  239.6  312.2    0.0  135.1  225.7  265.7   \n",
       "7    82.6  218.0  309.5   19.0  104.6  177.1  135.1    0.0  263.7  130.6   \n",
       "8   346.4  314.1   51.3  244.7  159.2   86.6  225.7  263.7    0.0  185.2   \n",
       "9   333.6  469.0  356.9  232.0  146.4  219.0  386.1  251.0  305.6    0.0   \n",
       "10  142.5  277.8  336.8   40.8  126.4  198.9  194.9   59.8  285.5  152.4   \n",
       "11  172.9  308.3  367.3   71.3  156.8  229.4  225.4   90.3  316.0  182.9   \n",
       "12  121.1   14.2  277.1  222.8  308.4  380.9  102.6  203.8  328.3  334.4   \n",
       "13   95.5   39.8  302.7  197.2  282.8  355.3  128.2  178.2  353.9  308.8   \n",
       "\n",
       "       10     11     12     13  \n",
       "0   142.5  172.9  121.1   95.5  \n",
       "1   277.8  308.3   14.2   39.8  \n",
       "2   336.8  367.3  277.1  302.7  \n",
       "3    40.8   71.3  222.8  197.2  \n",
       "4   126.4  156.8  308.4  282.8  \n",
       "5   198.9  229.4  380.9  355.3  \n",
       "6   194.9  225.4  102.6  128.2  \n",
       "7    59.8   90.3  203.8  178.2  \n",
       "8   285.5  316.0  328.3  441.9  \n",
       "9   233.8  264.3  454.8  429.2  \n",
       "10    0.0   30.5  263.6  238.0  \n",
       "11   30.5    0.0  294.1  268.5  \n",
       "12  263.6  294.1    0.0   25.6  \n",
       "13  238.0  268.5   25.6    0.0  "
      ]
     },
     "execution_count": 117,
     "metadata": {},
     "output_type": "execute_result"
    }
   ],
   "source": [
    "distances_df = df3\n",
    "distances_df\n"
   ]
  },
  {
   "cell_type": "code",
   "execution_count": 118,
   "id": "peripheral-anthropology",
   "metadata": {},
   "outputs": [
    {
     "data": {
      "image/png": "[encoded data removed]",
      "text/plain": [
       "<Figure size 432x288 with 1 Axes>"
      ]
     },
     "metadata": {
      "needs_background": "light"
     },
     "output_type": "display_data"
    }
   ],
   "source": [
    "import matplotlib.pyplot as plt\n",
    "for l in locations:\n",
    "    lo = locations[l]\n",
    "    plt.plot(lo[0],lo[1],'o')\n",
    "    plt.text(lo[0]+.01,lo[1],l,horizontalalignment='center',verticalalignment='center')\n",
    "    \n",
    "plt.gca().axis('off');"
   ]
  },
  {
   "cell_type": "code",
   "execution_count": 119,
   "id": "taken-values",
   "metadata": {},
   "outputs": [],
   "source": [
    "distance = distances_df\n"
   ]
  },
  {
   "cell_type": "code",
   "execution_count": 120,
   "id": "medical-editor",
   "metadata": {},
   "outputs": [
    {
     "data": {
      "text/plain": [
       "{(0, 1): 135.3,\n",
       " (0, 2): 397.7,\n",
       " (0, 3): 101.7,\n",
       " (0, 4): 187.2,\n",
       " (0, 5): 259.8,\n",
       " (0, 6): 217.7,\n",
       " (0, 7): 82.6,\n",
       " (0, 8): 346.4,\n",
       " (0, 9): 213.3,\n",
       " (0, 10): 142.5,\n",
       " (0, 11): 172.9,\n",
       " (0, 12): 121.1,\n",
       " (0, 13): 95.5,\n",
       " (1, 0): 135.3,\n",
       " (1, 2): 262.8,\n",
       " (1, 3): 237.0,\n",
       " (1, 4): 322.6,\n",
       " (1, 5): 395.1,\n",
       " (1, 6): 88.4,\n",
       " (1, 7): 218.0,\n",
       " (1, 8): 314.1,\n",
       " (1, 9): 348.6,\n",
       " (1, 10): 277.8,\n",
       " (1, 11): 308.3,\n",
       " (1, 12): 14.2,\n",
       " (1, 13): 39.8,\n",
       " (2, 0): 397.7,\n",
       " (2, 1): 262.8,\n",
       " (2, 3): 296.0,\n",
       " (2, 4): 210.4,\n",
       " (2, 5): 137.9,\n",
       " (2, 6): 174.4,\n",
       " (2, 7): 315.0,\n",
       " (2, 8): 51.3,\n",
       " (2, 9): 236.5,\n",
       " (2, 10): 336.8,\n",
       " (2, 11): 367.3,\n",
       " (2, 12): 277.1,\n",
       " (2, 13): 302.7,\n",
       " (3, 0): 101.7,\n",
       " (3, 1): 237.0,\n",
       " (3, 2): 296.0,\n",
       " (3, 4): 85.6,\n",
       " (3, 5): 158.1,\n",
       " (3, 6): 154.1,\n",
       " (3, 7): 19.0,\n",
       " (3, 8): 244.7,\n",
       " (3, 9): 111.6,\n",
       " (3, 10): 40.8,\n",
       " (3, 11): 71.3,\n",
       " (3, 12): 222.8,\n",
       " (3, 13): 197.2,\n",
       " (4, 0): 187.2,\n",
       " (4, 1): 322.6,\n",
       " (4, 2): 210.4,\n",
       " (4, 3): 85.6,\n",
       " (4, 5): 72.6,\n",
       " (4, 6): 239.6,\n",
       " (4, 7): 104.6,\n",
       " (4, 8): 159.2,\n",
       " (4, 9): 26.1,\n",
       " (4, 10): 126.4,\n",
       " (4, 11): 156.8,\n",
       " (4, 12): 308.4,\n",
       " (4, 13): 282.8,\n",
       " (5, 0): 259.8,\n",
       " (5, 1): 395.1,\n",
       " (5, 2): 137.9,\n",
       " (5, 3): 158.1,\n",
       " (5, 4): 72.6,\n",
       " (5, 6): 312.2,\n",
       " (5, 7): 177.1,\n",
       " (5, 8): 86.6,\n",
       " (5, 9): 98.6,\n",
       " (5, 10): 198.9,\n",
       " (5, 11): 229.4,\n",
       " (5, 12): 380.9,\n",
       " (5, 13): 355.3,\n",
       " (6, 0): 217.7,\n",
       " (6, 1): 88.4,\n",
       " (6, 2): 174.4,\n",
       " (6, 3): 154.1,\n",
       " (6, 4): 239.6,\n",
       " (6, 5): 312.2,\n",
       " (6, 7): 135.1,\n",
       " (6, 8): 225.7,\n",
       " (6, 9): 265.7,\n",
       " (6, 10): 194.9,\n",
       " (6, 11): 225.4,\n",
       " (6, 12): 102.6,\n",
       " (6, 13): 128.2,\n",
       " (7, 0): 82.6,\n",
       " (7, 1): 218.0,\n",
       " (7, 2): 309.5,\n",
       " (7, 3): 19.0,\n",
       " (7, 4): 104.6,\n",
       " (7, 5): 177.1,\n",
       " (7, 6): 135.1,\n",
       " (7, 8): 263.7,\n",
       " (7, 9): 130.6,\n",
       " (7, 10): 59.8,\n",
       " (7, 11): 90.3,\n",
       " (7, 12): 203.8,\n",
       " (7, 13): 178.2,\n",
       " (8, 0): 346.4,\n",
       " (8, 1): 314.1,\n",
       " (8, 2): 51.3,\n",
       " (8, 3): 244.7,\n",
       " (8, 4): 159.2,\n",
       " (8, 5): 86.6,\n",
       " (8, 6): 225.7,\n",
       " (8, 7): 263.7,\n",
       " (8, 9): 185.2,\n",
       " (8, 10): 285.5,\n",
       " (8, 11): 316.0,\n",
       " (8, 12): 328.3,\n",
       " (8, 13): 441.9,\n",
       " (9, 0): 333.6,\n",
       " (9, 1): 469.0,\n",
       " (9, 2): 356.9,\n",
       " (9, 3): 232.0,\n",
       " (9, 4): 146.4,\n",
       " (9, 5): 219.0,\n",
       " (9, 6): 386.1,\n",
       " (9, 7): 251.0,\n",
       " (9, 8): 305.6,\n",
       " (9, 10): 233.8,\n",
       " (9, 11): 264.3,\n",
       " (9, 12): 454.8,\n",
       " (9, 13): 429.2,\n",
       " (10, 0): 142.5,\n",
       " (10, 1): 277.8,\n",
       " (10, 2): 336.8,\n",
       " (10, 3): 40.8,\n",
       " (10, 4): 126.4,\n",
       " (10, 5): 198.9,\n",
       " (10, 6): 194.9,\n",
       " (10, 7): 59.8,\n",
       " (10, 8): 285.5,\n",
       " (10, 9): 152.4,\n",
       " (10, 11): 30.5,\n",
       " (10, 12): 263.6,\n",
       " (10, 13): 238.0,\n",
       " (11, 0): 172.9,\n",
       " (11, 1): 308.3,\n",
       " (11, 2): 367.3,\n",
       " (11, 3): 71.3,\n",
       " (11, 4): 156.8,\n",
       " (11, 5): 229.4,\n",
       " (11, 6): 225.4,\n",
       " (11, 7): 90.3,\n",
       " (11, 8): 316.0,\n",
       " (11, 9): 182.9,\n",
       " (11, 10): 30.5,\n",
       " (11, 12): 294.1,\n",
       " (11, 13): 268.5,\n",
       " (12, 0): 121.1,\n",
       " (12, 1): 14.2,\n",
       " (12, 2): 277.1,\n",
       " (12, 3): 222.8,\n",
       " (12, 4): 308.4,\n",
       " (12, 5): 380.9,\n",
       " (12, 6): 102.6,\n",
       " (12, 7): 203.8,\n",
       " (12, 8): 328.3,\n",
       " (12, 9): 334.4,\n",
       " (12, 10): 263.6,\n",
       " (12, 11): 294.1,\n",
       " (12, 13): 25.6,\n",
       " (13, 0): 95.5,\n",
       " (13, 1): 39.8,\n",
       " (13, 2): 302.7,\n",
       " (13, 3): 197.2,\n",
       " (13, 4): 282.8,\n",
       " (13, 5): 355.3,\n",
       " (13, 6): 128.2,\n",
       " (13, 7): 178.2,\n",
       " (13, 8): 353.9,\n",
       " (13, 9): 308.8,\n",
       " (13, 10): 238.0,\n",
       " (13, 11): 268.5,\n",
       " (13, 12): 25.6}"
      ]
     },
     "execution_count": 120,
     "metadata": {},
     "output_type": "execute_result"
    }
   ],
   "source": [
    "distances = dict( ((l1,l2), distance.iloc[l1, l2] ) for l1 in locations for l2 in locations if l1!=l2)\n",
    "distances"
   ]
  },
  {
   "cell_type": "code",
   "execution_count": 121,
   "id": "enclosed-european",
   "metadata": {},
   "outputs": [],
   "source": [
    "V = 1"
   ]
  },
  {
   "cell_type": "code",
   "execution_count": 123,
   "id": "fiscal-budapest",
   "metadata": {},
   "outputs": [],
   "source": [
    "import networkx as nx\n",
    "from pulp import *\n",
    "import seaborn as sn\n",
    "prob=LpProblem(\"vehicle\", LpMinimize)"
   ]
  },
  {
   "cell_type": "code",
   "execution_count": 124,
   "id": "complex-student",
   "metadata": {},
   "outputs": [],
   "source": [
    "#indicates if location i is connected to location j along route \n",
    "indicator = LpVariable.dicts('indicator',distances, 0,1,LpBinary)\n",
    "#elimiate subtours\n",
    "eliminator = LpVariable.dicts('eliminator', df.ID, 0, len(df.ID)-1, LpInteger)"
   ]
  },
  {
   "cell_type": "code",
   "execution_count": 125,
   "id": "sealed-mayor",
   "metadata": {},
   "outputs": [],
   "source": [
    "cost = lpSum([indicator[(i,j)]*distances[(i,j)] for (i,j) in distances])\n",
    "prob+=cost"
   ]
  },
  {
   "cell_type": "code",
   "execution_count": 126,
   "id": "simplified-trainer",
   "metadata": {},
   "outputs": [],
   "source": [
    "#constraints\n",
    "for v in df.ID:\n",
    "    cap = 1 if v != 2 else V\n",
    "    #inward possible route\n",
    "    prob+= lpSum([ indicator[(i,v)] for i in df.ID if (i,v) in indicator]) ==cap\n",
    "    #outward possible route\n",
    "    prob+=lpSum([ indicator[(v,i)] for i in df.ID if (v,i) in indicator]) ==cap\n",
    "    \n",
    "#subtour elimination\n",
    "num=len(df.ID)/V\n",
    "for i in df.ID:\n",
    "    for j in df.ID:\n",
    "        if i != j and (i != 2 and j!= 2) and (i,j) in indicator:\n",
    "            prob += eliminator[i] - eliminator[j] <= (num)*(1-indicator[(i,j)]) - 1"
   ]
  },
  {
   "cell_type": "code",
   "execution_count": 127,
   "id": "aggressive-nerve",
   "metadata": {},
   "outputs": [
    {
     "name": "stdout",
     "output_type": "stream",
     "text": [
      "Wall time: 329 ms\n",
      "Optimal\n"
     ]
    }
   ],
   "source": [
    "%time prob.solve()\n",
    "print(LpStatus[prob.status])"
   ]
  },
  {
   "cell_type": "code",
   "execution_count": 128,
   "id": "intensive-efficiency",
   "metadata": {},
   "outputs": [],
   "source": [
    "feasible_edges = [ e for e in indicator if value(indicator[e]) != 0 ]\n",
    "\n",
    "def get_next_loc(initial):\n",
    "    '''to get the next edge'''\n",
    "    edges = [e for e in feasible_edges if e[0]==initial]\n",
    "    for e in edges:\n",
    "        feasible_edges.remove(e)\n",
    "    return edges"
   ]
  },
  {
   "cell_type": "code",
   "execution_count": 129,
   "id": "arabic-lindsay",
   "metadata": {},
   "outputs": [],
   "source": [
    "routes = get_next_loc(2)\n",
    "routes = [ [e] for e in routes ]\n",
    "\n",
    "for r in routes:\n",
    "    while r[-1][1] !=2:\n",
    "        r.append(get_next_loc(r[-1][1])[-1])"
   ]
  },
  {
   "cell_type": "code",
   "execution_count": 130,
   "id": "adaptive-prototype",
   "metadata": {},
   "outputs": [
    {
     "data": {
      "text/plain": [
       "[[(2, 8),\n",
       "  (8, 5),\n",
       "  (5, 4),\n",
       "  (4, 9),\n",
       "  (9, 10),\n",
       "  (10, 11),\n",
       "  (11, 3),\n",
       "  (3, 7),\n",
       "  (7, 0),\n",
       "  (0, 13),\n",
       "  (13, 12),\n",
       "  (12, 1),\n",
       "  (1, 6),\n",
       "  (6, 2)]]"
      ]
     },
     "execution_count": 130,
     "metadata": {},
     "output_type": "execute_result"
    }
   ],
   "source": [
    "routes"
   ]
  },
  {
   "cell_type": "code",
   "execution_count": 131,
   "id": "smart-stream",
   "metadata": {},
   "outputs": [],
   "source": [
    "order = [2,8,5,4,9,10,11,3,7,0,13,12,1,6]"
   ]
  },
  {
   "cell_type": "code",
   "execution_count": 134,
   "id": "computational-scroll",
   "metadata": {},
   "outputs": [],
   "source": [
    "df2 = df[['Left', 'Right', 'ID']].copy()"
   ]
  },
  {
   "cell_type": "code",
   "execution_count": 135,
   "id": "technical-necklace",
   "metadata": {},
   "outputs": [],
   "source": [
    "df2.rename(columns = {'Left':'Latitude'}, inplace = True)\n",
    "df2.rename(columns = {'Right':'Longitude'}, inplace = True)"
   ]
  },
  {
   "cell_type": "code",
   "execution_count": null,
   "id": "hazardous-business",
   "metadata": {},
   "outputs": [],
   "source": []
  },
  {
   "cell_type": "code",
   "execution_count": 136,
   "id": "protecting-robertson",
   "metadata": {},
   "outputs": [],
   "source": [
    "df3 = pd.DataFrame()\n",
    "for i in order:\n",
    "    #print(df1.loc[i])\n",
    "    df3 = df3.append(df2.loc[i])"
   ]
  },
  {
   "cell_type": "code",
   "execution_count": 137,
   "id": "colonial-introduction",
   "metadata": {},
   "outputs": [
    {
     "data": {
      "text/html": [
       "<div>\n",
       "<style scoped>\n",
       "    .dataframe tbody tr th:only-of-type {\n",
       "        vertical-align: middle;\n",
       "    }\n",
       "\n",
       "    .dataframe tbody tr th {\n",
       "        vertical-align: top;\n",
       "    }\n",
       "\n",
       "    .dataframe thead th {\n",
       "        text-align: right;\n",
       "    }\n",
       "</style>\n",
       "<table border=\"1\" class=\"dataframe\">\n",
       "  <thead>\n",
       "    <tr style=\"text-align: right;\">\n",
       "      <th></th>\n",
       "      <th>Latitude</th>\n",
       "      <th>Longitude</th>\n",
       "      <th>ID</th>\n",
       "    </tr>\n",
       "  </thead>\n",
       "  <tbody>\n",
       "    <tr>\n",
       "      <th>2</th>\n",
       "      <td>35.584332</td>\n",
       "      <td>-78.798292</td>\n",
       "      <td>2.0</td>\n",
       "    </tr>\n",
       "    <tr>\n",
       "      <th>8</th>\n",
       "      <td>35.584334</td>\n",
       "      <td>-78.798859</td>\n",
       "      <td>8.0</td>\n",
       "    </tr>\n",
       "    <tr>\n",
       "      <th>5</th>\n",
       "      <td>35.584345</td>\n",
       "      <td>-78.799816</td>\n",
       "      <td>5.0</td>\n",
       "    </tr>\n",
       "    <tr>\n",
       "      <th>4</th>\n",
       "      <td>35.583693</td>\n",
       "      <td>-78.799788</td>\n",
       "      <td>4.0</td>\n",
       "    </tr>\n",
       "    <tr>\n",
       "      <th>9</th>\n",
       "      <td>35.583698</td>\n",
       "      <td>-78.800076</td>\n",
       "      <td>9.0</td>\n",
       "    </tr>\n",
       "    <tr>\n",
       "      <th>10</th>\n",
       "      <td>35.582927</td>\n",
       "      <td>-78.800216</td>\n",
       "      <td>10.0</td>\n",
       "    </tr>\n",
       "    <tr>\n",
       "      <th>11</th>\n",
       "      <td>35.583201</td>\n",
       "      <td>-78.800213</td>\n",
       "      <td>11.0</td>\n",
       "    </tr>\n",
       "    <tr>\n",
       "      <th>3</th>\n",
       "      <td>35.582924</td>\n",
       "      <td>-78.799764</td>\n",
       "      <td>3.0</td>\n",
       "    </tr>\n",
       "    <tr>\n",
       "      <th>7</th>\n",
       "      <td>35.582753</td>\n",
       "      <td>-78.799763</td>\n",
       "      <td>7.0</td>\n",
       "    </tr>\n",
       "    <tr>\n",
       "      <th>0</th>\n",
       "      <td>35.582010</td>\n",
       "      <td>-78.799760</td>\n",
       "      <td>0.0</td>\n",
       "    </tr>\n",
       "    <tr>\n",
       "      <th>13</th>\n",
       "      <td>35.581973</td>\n",
       "      <td>-78.798708</td>\n",
       "      <td>13.0</td>\n",
       "    </tr>\n",
       "    <tr>\n",
       "      <th>12</th>\n",
       "      <td>35.581971</td>\n",
       "      <td>-78.798425</td>\n",
       "      <td>12.0</td>\n",
       "    </tr>\n",
       "    <tr>\n",
       "      <th>1</th>\n",
       "      <td>35.581969</td>\n",
       "      <td>-78.798268</td>\n",
       "      <td>1.0</td>\n",
       "    </tr>\n",
       "    <tr>\n",
       "      <th>6</th>\n",
       "      <td>35.582764</td>\n",
       "      <td>-78.798270</td>\n",
       "      <td>6.0</td>\n",
       "    </tr>\n",
       "  </tbody>\n",
       "</table>\n",
       "</div>"
      ],
      "text/plain": [
       "     Latitude  Longitude    ID\n",
       "2   35.584332 -78.798292   2.0\n",
       "8   35.584334 -78.798859   8.0\n",
       "5   35.584345 -78.799816   5.0\n",
       "4   35.583693 -78.799788   4.0\n",
       "9   35.583698 -78.800076   9.0\n",
       "10  35.582927 -78.800216  10.0\n",
       "11  35.583201 -78.800213  11.0\n",
       "3   35.582924 -78.799764   3.0\n",
       "7   35.582753 -78.799763   7.0\n",
       "0   35.582010 -78.799760   0.0\n",
       "13  35.581973 -78.798708  13.0\n",
       "12  35.581971 -78.798425  12.0\n",
       "1   35.581969 -78.798268   1.0\n",
       "6   35.582764 -78.798270   6.0"
      ]
     },
     "execution_count": 137,
     "metadata": {},
     "output_type": "execute_result"
    }
   ],
   "source": [
    "df3"
   ]
  },
  {
   "cell_type": "code",
   "execution_count": 138,
   "id": "eleven-radio",
   "metadata": {},
   "outputs": [],
   "source": [
    "df3.reset_index(inplace = True)\n",
    "df3 = df3.append(df3.loc[0])"
   ]
  },
  {
   "cell_type": "code",
   "execution_count": 139,
   "id": "introductory-flavor",
   "metadata": {},
   "outputs": [],
   "source": [
    "df3.reset_index(inplace = True)"
   ]
  },
  {
   "cell_type": "code",
   "execution_count": 140,
   "id": "horizontal-thong",
   "metadata": {},
   "outputs": [],
   "source": [
    "long2 = [] \n",
    "lat2 = []  \n",
    "for i in df3.index:\n",
    "    long2.append(df3.loc[i][\"Longitude\"])\n",
    "    lat2.append(df3.loc[i][\"Latitude\"])"
   ]
  },
  {
   "cell_type": "code",
   "execution_count": 141,
   "id": "stuck-dancing",
   "metadata": {},
   "outputs": [],
   "source": [
    "origin_point2 = (df3.loc[0][\"Latitude\"], df3.loc[0][\"Longitude\"]) \n",
    "destination_point2 = (df3.loc[0][\"Latitude\"], df3.loc[0][\"Longitude\"])"
   ]
  },
  {
   "cell_type": "code",
   "execution_count": 142,
   "id": "bronze-oxide",
   "metadata": {},
   "outputs": [
    {
     "data": {
      "application/vnd.plotly.v1+json": {
       "config": {
        "plotlyServerURL": "https://plot.ly"
       },
       "data": [
        {
         "lat": [
          35.5843317,
          35.584334,
          35.5843454,
          35.5836931,
          35.5836978,
          35.5829271,
          35.5832007,
          35.5829241,
          35.5827526,
          35.58201,
          35.5819733,
          35.5819707,
          35.5819692,
          35.5827637,
          35.5843317
         ],
         "line": {
          "color": "grey",
          "width": 4.5
         },
         "lon": [
          -78.7982923,
          -78.7988587,
          -78.7998159,
          -78.7997882,
          -78.8000756,
          -78.8002157,
          -78.800213,
          -78.7997645,
          -78.7997627,
          -78.7997604,
          -78.7987076,
          -78.7984249,
          -78.7982676,
          -78.79827,
          -78.7982923
         ],
         "marker": {
          "size": 10
         },
         "mode": "lines",
         "name": "Path",
         "type": "scattermapbox"
        },
        {
         "lat": [
          35.5843317
         ],
         "lon": [
          -78.7982923
         ],
         "marker": {
          "color": "red",
          "size": 12
         },
         "mode": "markers",
         "name": "Source",
         "type": "scattermapbox"
        },
        {
         "lat": [
          35.5843317
         ],
         "lon": [
          -78.7982923
         ],
         "marker": {
          "color": "green",
          "size": 12
         },
         "mode": "markers",
         "name": "Destination",
         "type": "scattermapbox"
        }
       ],
       "layout": {
        "mapbox": {
         "center": {
          "lat": 35.58314834,
          "lon": -78.79923396
         },
         "style": "carto-darkmatter",
         "zoom": 13
        },
        "margin": {
         "b": 0,
         "l": 0,
         "r": 0,
         "t": 0
        },
        "template": {
         "data": {
          "bar": [
           {
            "error_x": {
             "color": "#2a3f5f"
            },
            "error_y": {
             "color": "#2a3f5f"
            },
            "marker": {
             "line": {
              "color": "#E5ECF6",
              "width": 0.5
             }
            },
            "type": "bar"
           }
          ],
          "barpolar": [
           {
            "marker": {
             "line": {
              "color": "#E5ECF6",
              "width": 0.5
             }
            },
            "type": "barpolar"
           }
          ],
          "carpet": [
           {
            "aaxis": {
             "endlinecolor": "#2a3f5f",
             "gridcolor": "white",
             "linecolor": "white",
             "minorgridcolor": "white",
             "startlinecolor": "#2a3f5f"
            },
            "baxis": {
             "endlinecolor": "#2a3f5f",
             "gridcolor": "white",
             "linecolor": "white",
             "minorgridcolor": "white",
             "startlinecolor": "#2a3f5f"
            },
            "type": "carpet"
           }
          ],
          "choropleth": [
           {
            "colorbar": {
             "outlinewidth": 0,
             "ticks": ""
            },
            "type": "choropleth"
           }
          ],
          "contour": [
           {
            "colorbar": {
             "outlinewidth": 0,
             "ticks": ""
            },
            "colorscale": [
             [
              0,
              "#0d0887"
             ],
             [
              0.1111111111111111,
              "#46039f"
             ],
             [
              0.2222222222222222,
              "#7201a8"
             ],
             [
              0.3333333333333333,
              "#9c179e"
             ],
             [
              0.4444444444444444,
              "#bd3786"
             ],
             [
              0.5555555555555556,
              "#d8576b"
             ],
             [
              0.6666666666666666,
              "#ed7953"
             ],
             [
              0.7777777777777778,
              "#fb9f3a"
             ],
             [
              0.8888888888888888,
              "#fdca26"
             ],
             [
              1,
              "#f0f921"
             ]
            ],
            "type": "contour"
           }
          ],
          "contourcarpet": [
           {
            "colorbar": {
             "outlinewidth": 0,
             "ticks": ""
            },
            "type": "contourcarpet"
           }
          ],
          "heatmap": [
           {
            "colorbar": {
             "outlinewidth": 0,
             "ticks": ""
            },
            "colorscale": [
             [
              0,
              "#0d0887"
             ],
             [
              0.1111111111111111,
              "#46039f"
             ],
             [
              0.2222222222222222,
              "#7201a8"
             ],
             [
              0.3333333333333333,
              "#9c179e"
             ],
             [
              0.4444444444444444,
              "#bd3786"
             ],
             [
              0.5555555555555556,
              "#d8576b"
             ],
             [
              0.6666666666666666,
              "#ed7953"
             ],
             [
              0.7777777777777778,
              "#fb9f3a"
             ],
             [
              0.8888888888888888,
              "#fdca26"
             ],
             [
              1,
              "#f0f921"
             ]
            ],
            "type": "heatmap"
           }
          ],
          "heatmapgl": [
           {
            "colorbar": {
             "outlinewidth": 0,
             "ticks": ""
            },
            "colorscale": [
             [
              0,
              "#0d0887"
             ],
             [
              0.1111111111111111,
              "#46039f"
             ],
             [
              0.2222222222222222,
              "#7201a8"
             ],
             [
              0.3333333333333333,
              "#9c179e"
             ],
             [
              0.4444444444444444,
              "#bd3786"
             ],
             [
              0.5555555555555556,
              "#d8576b"
             ],
             [
              0.6666666666666666,
              "#ed7953"
             ],
             [
              0.7777777777777778,
              "#fb9f3a"
             ],
             [
              0.8888888888888888,
              "#fdca26"
             ],
             [
              1,
              "#f0f921"
             ]
            ],
            "type": "heatmapgl"
           }
          ],
          "histogram": [
           {
            "marker": {
             "colorbar": {
              "outlinewidth": 0,
              "ticks": ""
             }
            },
            "type": "histogram"
           }
          ],
          "histogram2d": [
           {
            "colorbar": {
             "outlinewidth": 0,
             "ticks": ""
            },
            "colorscale": [
             [
              0,
              "#0d0887"
             ],
             [
              0.1111111111111111,
              "#46039f"
             ],
             [
              0.2222222222222222,
              "#7201a8"
             ],
             [
              0.3333333333333333,
              "#9c179e"
             ],
             [
              0.4444444444444444,
              "#bd3786"
             ],
             [
              0.5555555555555556,
              "#d8576b"
             ],
             [
              0.6666666666666666,
              "#ed7953"
             ],
             [
              0.7777777777777778,
              "#fb9f3a"
             ],
             [
              0.8888888888888888,
              "#fdca26"
             ],
             [
              1,
              "#f0f921"
             ]
            ],
            "type": "histogram2d"
           }
          ],
          "histogram2dcontour": [
           {
            "colorbar": {
             "outlinewidth": 0,
             "ticks": ""
            },
            "colorscale": [
             [
              0,
              "#0d0887"
             ],
             [
              0.1111111111111111,
              "#46039f"
             ],
             [
              0.2222222222222222,
              "#7201a8"
             ],
             [
              0.3333333333333333,
              "#9c179e"
             ],
             [
              0.4444444444444444,
              "#bd3786"
             ],
             [
              0.5555555555555556,
              "#d8576b"
             ],
             [
              0.6666666666666666,
              "#ed7953"
             ],
             [
              0.7777777777777778,
              "#fb9f3a"
             ],
             [
              0.8888888888888888,
              "#fdca26"
             ],
             [
              1,
              "#f0f921"
             ]
            ],
            "type": "histogram2dcontour"
           }
          ],
          "mesh3d": [
           {
            "colorbar": {
             "outlinewidth": 0,
             "ticks": ""
            },
            "type": "mesh3d"
           }
          ],
          "parcoords": [
           {
            "line": {
             "colorbar": {
              "outlinewidth": 0,
              "ticks": ""
             }
            },
            "type": "parcoords"
           }
          ],
          "pie": [
           {
            "automargin": true,
            "type": "pie"
           }
          ],
          "scatter": [
           {
            "marker": {
             "colorbar": {
              "outlinewidth": 0,
              "ticks": ""
             }
            },
            "type": "scatter"
           }
          ],
          "scatter3d": [
           {
            "line": {
             "colorbar": {
              "outlinewidth": 0,
              "ticks": ""
             }
            },
            "marker": {
             "colorbar": {
              "outlinewidth": 0,
              "ticks": ""
             }
            },
            "type": "scatter3d"
           }
          ],
          "scattercarpet": [
           {
            "marker": {
             "colorbar": {
              "outlinewidth": 0,
              "ticks": ""
             }
            },
            "type": "scattercarpet"
           }
          ],
          "scattergeo": [
           {
            "marker": {
             "colorbar": {
              "outlinewidth": 0,
              "ticks": ""
             }
            },
            "type": "scattergeo"
           }
          ],
          "scattergl": [
           {
            "marker": {
             "colorbar": {
              "outlinewidth": 0,
              "ticks": ""
             }
            },
            "type": "scattergl"
           }
          ],
          "scattermapbox": [
           {
            "marker": {
             "colorbar": {
              "outlinewidth": 0,
              "ticks": ""
             }
            },
            "type": "scattermapbox"
           }
          ],
          "scatterpolar": [
           {
            "marker": {
             "colorbar": {
              "outlinewidth": 0,
              "ticks": ""
             }
            },
            "type": "scatterpolar"
           }
          ],
          "scatterpolargl": [
           {
            "marker": {
             "colorbar": {
              "outlinewidth": 0,
              "ticks": ""
             }
            },
            "type": "scatterpolargl"
           }
          ],
          "scatterternary": [
           {
            "marker": {
             "colorbar": {
              "outlinewidth": 0,
              "ticks": ""
             }
            },
            "type": "scatterternary"
           }
          ],
          "surface": [
           {
            "colorbar": {
             "outlinewidth": 0,
             "ticks": ""
            },
            "colorscale": [
             [
              0,
              "#0d0887"
             ],
             [
              0.1111111111111111,
              "#46039f"
             ],
             [
              0.2222222222222222,
              "#7201a8"
             ],
             [
              0.3333333333333333,
              "#9c179e"
             ],
             [
              0.4444444444444444,
              "#bd3786"
             ],
             [
              0.5555555555555556,
              "#d8576b"
             ],
             [
              0.6666666666666666,
              "#ed7953"
             ],
             [
              0.7777777777777778,
              "#fb9f3a"
             ],
             [
              0.8888888888888888,
              "#fdca26"
             ],
             [
              1,
              "#f0f921"
             ]
            ],
            "type": "surface"
           }
          ],
          "table": [
           {
            "cells": {
             "fill": {
              "color": "#EBF0F8"
             },
             "line": {
              "color": "white"
             }
            },
            "header": {
             "fill": {
              "color": "#C8D4E3"
             },
             "line": {
              "color": "white"
             }
            },
            "type": "table"
           }
          ]
         },
         "layout": {
          "annotationdefaults": {
           "arrowcolor": "#2a3f5f",
           "arrowhead": 0,
           "arrowwidth": 1
          },
          "autotypenumbers": "strict",
          "coloraxis": {
           "colorbar": {
            "outlinewidth": 0,
            "ticks": ""
           }
          },
          "colorscale": {
           "diverging": [
            [
             0,
             "#8e0152"
            ],
            [
             0.1,
             "#c51b7d"
            ],
            [
             0.2,
             "#de77ae"
            ],
            [
             0.3,
             "#f1b6da"
            ],
            [
             0.4,
             "#fde0ef"
            ],
            [
             0.5,
             "#f7f7f7"
            ],
            [
             0.6,
             "#e6f5d0"
            ],
            [
             0.7,
             "#b8e186"
            ],
            [
             0.8,
             "#7fbc41"
            ],
            [
             0.9,
             "#4d9221"
            ],
            [
             1,
             "#276419"
            ]
           ],
           "sequential": [
            [
             0,
             "#0d0887"
            ],
            [
             0.1111111111111111,
             "#46039f"
            ],
            [
             0.2222222222222222,
             "#7201a8"
            ],
            [
             0.3333333333333333,
             "#9c179e"
            ],
            [
             0.4444444444444444,
             "#bd3786"
            ],
            [
             0.5555555555555556,
             "#d8576b"
            ],
            [
             0.6666666666666666,
             "#ed7953"
            ],
            [
             0.7777777777777778,
             "#fb9f3a"
            ],
            [
             0.8888888888888888,
             "#fdca26"
            ],
            [
             1,
             "#f0f921"
            ]
           ],
           "sequentialminus": [
            [
             0,
             "#0d0887"
            ],
            [
             0.1111111111111111,
             "#46039f"
            ],
            [
             0.2222222222222222,
             "#7201a8"
            ],
            [
             0.3333333333333333,
             "#9c179e"
            ],
            [
             0.4444444444444444,
             "#bd3786"
            ],
            [
             0.5555555555555556,
             "#d8576b"
            ],
            [
             0.6666666666666666,
             "#ed7953"
            ],
            [
             0.7777777777777778,
             "#fb9f3a"
            ],
            [
             0.8888888888888888,
             "#fdca26"
            ],
            [
             1,
             "#f0f921"
            ]
           ]
          },
          "colorway": [
           "#636efa",
           "#EF553B",
           "#00cc96",
           "#ab63fa",
           "#FFA15A",
           "#19d3f3",
           "#FF6692",
           "#B6E880",
           "#FF97FF",
           "#FECB52"
          ],
          "font": {
           "color": "#2a3f5f"
          },
          "geo": {
           "bgcolor": "white",
           "lakecolor": "white",
           "landcolor": "#E5ECF6",
           "showlakes": true,
           "showland": true,
           "subunitcolor": "white"
          },
          "hoverlabel": {
           "align": "left"
          },
          "hovermode": "closest",
          "mapbox": {
           "style": "light"
          },
          "paper_bgcolor": "white",
          "plot_bgcolor": "#E5ECF6",
          "polar": {
           "angularaxis": {
            "gridcolor": "white",
            "linecolor": "white",
            "ticks": ""
           },
           "bgcolor": "#E5ECF6",
           "radialaxis": {
            "gridcolor": "white",
            "linecolor": "white",
            "ticks": ""
           }
          },
          "scene": {
           "xaxis": {
            "backgroundcolor": "#E5ECF6",
            "gridcolor": "white",
            "gridwidth": 2,
            "linecolor": "white",
            "showbackground": true,
            "ticks": "",
            "zerolinecolor": "white"
           },
           "yaxis": {
            "backgroundcolor": "#E5ECF6",
            "gridcolor": "white",
            "gridwidth": 2,
            "linecolor": "white",
            "showbackground": true,
            "ticks": "",
            "zerolinecolor": "white"
           },
           "zaxis": {
            "backgroundcolor": "#E5ECF6",
            "gridcolor": "white",
            "gridwidth": 2,
            "linecolor": "white",
            "showbackground": true,
            "ticks": "",
            "zerolinecolor": "white"
           }
          },
          "shapedefaults": {
           "line": {
            "color": "#2a3f5f"
           }
          },
          "ternary": {
           "aaxis": {
            "gridcolor": "white",
            "linecolor": "white",
            "ticks": ""
           },
           "baxis": {
            "gridcolor": "white",
            "linecolor": "white",
            "ticks": ""
           },
           "bgcolor": "#E5ECF6",
           "caxis": {
            "gridcolor": "white",
            "linecolor": "white",
            "ticks": ""
           }
          },
          "title": {
           "x": 0.05
          },
          "xaxis": {
           "automargin": true,
           "gridcolor": "white",
           "linecolor": "white",
           "ticks": "",
           "title": {
            "standoff": 15
           },
           "zerolinecolor": "white",
           "zerolinewidth": 2
          },
          "yaxis": {
           "automargin": true,
           "gridcolor": "white",
           "linecolor": "white",
           "ticks": "",
           "title": {
            "standoff": 15
           },
           "zerolinecolor": "white",
           "zerolinewidth": 2
          }
         }
        }
       }
      },
      "text/html": [
       "<div>                            <div id=\"3cf9dc5e-d15a-4467-8bbb-c4f345d6b921\" class=\"plotly-graph-div\" style=\"height:525px; width:100%;\"></div>            <script type=\"text/javascript\">                require([\"plotly\"], function(Plotly) {                    window.PLOTLYENV=window.PLOTLYENV || {};                                    if (document.getElementById(\"3cf9dc5e-d15a-4467-8bbb-c4f345d6b921\")) {                    Plotly.newPlot(                        \"3cf9dc5e-d15a-4467-8bbb-c4f345d6b921\",                        [{\"lat\": [35.5843317, 35.584334, 35.5843454, 35.5836931, 35.5836978, 35.5829271, 35.5832007, 35.5829241, 35.5827526, 35.58201, 35.5819733, 35.5819707, 35.5819692, 35.5827637, 35.5843317], \"line\": {\"color\": \"grey\", \"width\": 4.5}, \"lon\": [-78.7982923, -78.7988587, -78.7998159, -78.7997882, -78.8000756, -78.8002157, -78.800213, -78.7997645, -78.7997627, -78.7997604, -78.7987076, -78.7984249, -78.7982676, -78.79827, -78.7982923], \"marker\": {\"size\": 10}, \"mode\": \"lines\", \"name\": \"Path\", \"type\": \"scattermapbox\"}, {\"lat\": [35.5843317], \"lon\": [-78.7982923], \"marker\": {\"color\": \"red\", \"size\": 12}, \"mode\": \"markers\", \"name\": \"Source\", \"type\": \"scattermapbox\"}, {\"lat\": [35.5843317], \"lon\": [-78.7982923], \"marker\": {\"color\": \"green\", \"size\": 12}, \"mode\": \"markers\", \"name\": \"Destination\", \"type\": \"scattermapbox\"}],                        {\"mapbox\": {\"center\": {\"lat\": 35.58314834, \"lon\": -78.79923396}, \"style\": \"carto-darkmatter\", \"zoom\": 13}, \"margin\": {\"b\": 0, \"l\": 0, \"r\": 0, \"t\": 0}, \"template\": {\"data\": {\"bar\": [{\"error_x\": {\"color\": \"#2a3f5f\"}, \"error_y\": {\"color\": \"#2a3f5f\"}, \"marker\": {\"line\": {\"color\": \"#E5ECF6\", \"width\": 0.5}}, \"type\": \"bar\"}], \"barpolar\": [{\"marker\": {\"line\": {\"color\": \"#E5ECF6\", \"width\": 0.5}}, \"type\": \"barpolar\"}], \"carpet\": [{\"aaxis\": {\"endlinecolor\": \"#2a3f5f\", \"gridcolor\": \"white\", \"linecolor\": \"white\", \"minorgridcolor\": \"white\", \"startlinecolor\": \"#2a3f5f\"}, \"baxis\": {\"endlinecolor\": \"#2a3f5f\", \"gridcolor\": \"white\", \"linecolor\": \"white\", \"minorgridcolor\": \"white\", \"startlinecolor\": \"#2a3f5f\"}, \"type\": \"carpet\"}], \"choropleth\": [{\"colorbar\": {\"outlinewidth\": 0, \"ticks\": \"\"}, \"type\": \"choropleth\"}], \"contour\": [{\"colorbar\": {\"outlinewidth\": 0, \"ticks\": \"\"}, \"colorscale\": [[0.0, \"#0d0887\"], [0.1111111111111111, \"#46039f\"], [0.2222222222222222, \"#7201a8\"], [0.3333333333333333, \"#9c179e\"], [0.4444444444444444, \"#bd3786\"], [0.5555555555555556, \"#d8576b\"], [0.6666666666666666, \"#ed7953\"], [0.7777777777777778, \"#fb9f3a\"], [0.8888888888888888, \"#fdca26\"], [1.0, \"#f0f921\"]], \"type\": \"contour\"}], \"contourcarpet\": [{\"colorbar\": {\"outlinewidth\": 0, \"ticks\": \"\"}, \"type\": \"contourcarpet\"}], \"heatmap\": [{\"colorbar\": {\"outlinewidth\": 0, \"ticks\": \"\"}, \"colorscale\": [[0.0, \"#0d0887\"], [0.1111111111111111, \"#46039f\"], [0.2222222222222222, \"#7201a8\"], [0.3333333333333333, \"#9c179e\"], [0.4444444444444444, \"#bd3786\"], [0.5555555555555556, \"#d8576b\"], [0.6666666666666666, \"#ed7953\"], [0.7777777777777778, \"#fb9f3a\"], [0.8888888888888888, \"#fdca26\"], [1.0, \"#f0f921\"]], \"type\": \"heatmap\"}], \"heatmapgl\": [{\"colorbar\": {\"outlinewidth\": 0, \"ticks\": \"\"}, \"colorscale\": [[0.0, \"#0d0887\"], [0.1111111111111111, \"#46039f\"], [0.2222222222222222, \"#7201a8\"], [0.3333333333333333, \"#9c179e\"], [0.4444444444444444, \"#bd3786\"], [0.5555555555555556, \"#d8576b\"], [0.6666666666666666, \"#ed7953\"], [0.7777777777777778, \"#fb9f3a\"], [0.8888888888888888, \"#fdca26\"], [1.0, \"#f0f921\"]], \"type\": \"heatmapgl\"}], \"histogram\": [{\"marker\": {\"colorbar\": {\"outlinewidth\": 0, \"ticks\": \"\"}}, \"type\": \"histogram\"}], \"histogram2d\": [{\"colorbar\": {\"outlinewidth\": 0, \"ticks\": \"\"}, \"colorscale\": [[0.0, \"#0d0887\"], [0.1111111111111111, \"#46039f\"], [0.2222222222222222, \"#7201a8\"], [0.3333333333333333, \"#9c179e\"], [0.4444444444444444, \"#bd3786\"], [0.5555555555555556, \"#d8576b\"], [0.6666666666666666, \"#ed7953\"], [0.7777777777777778, \"#fb9f3a\"], [0.8888888888888888, \"#fdca26\"], [1.0, \"#f0f921\"]], \"type\": \"histogram2d\"}], \"histogram2dcontour\": [{\"colorbar\": {\"outlinewidth\": 0, \"ticks\": \"\"}, \"colorscale\": [[0.0, \"#0d0887\"], [0.1111111111111111, \"#46039f\"], [0.2222222222222222, \"#7201a8\"], [0.3333333333333333, \"#9c179e\"], [0.4444444444444444, \"#bd3786\"], [0.5555555555555556, \"#d8576b\"], [0.6666666666666666, \"#ed7953\"], [0.7777777777777778, \"#fb9f3a\"], [0.8888888888888888, \"#fdca26\"], [1.0, \"#f0f921\"]], \"type\": \"histogram2dcontour\"}], \"mesh3d\": [{\"colorbar\": {\"outlinewidth\": 0, \"ticks\": \"\"}, \"type\": \"mesh3d\"}], \"parcoords\": [{\"line\": {\"colorbar\": {\"outlinewidth\": 0, \"ticks\": \"\"}}, \"type\": \"parcoords\"}], \"pie\": [{\"automargin\": true, \"type\": \"pie\"}], \"scatter\": [{\"marker\": {\"colorbar\": {\"outlinewidth\": 0, \"ticks\": \"\"}}, \"type\": \"scatter\"}], \"scatter3d\": [{\"line\": {\"colorbar\": {\"outlinewidth\": 0, \"ticks\": \"\"}}, \"marker\": {\"colorbar\": {\"outlinewidth\": 0, \"ticks\": \"\"}}, \"type\": \"scatter3d\"}], \"scattercarpet\": [{\"marker\": {\"colorbar\": {\"outlinewidth\": 0, \"ticks\": \"\"}}, \"type\": \"scattercarpet\"}], \"scattergeo\": [{\"marker\": {\"colorbar\": {\"outlinewidth\": 0, \"ticks\": \"\"}}, \"type\": \"scattergeo\"}], \"scattergl\": [{\"marker\": {\"colorbar\": {\"outlinewidth\": 0, \"ticks\": \"\"}}, \"type\": \"scattergl\"}], \"scattermapbox\": [{\"marker\": {\"colorbar\": {\"outlinewidth\": 0, \"ticks\": \"\"}}, \"type\": \"scattermapbox\"}], \"scatterpolar\": [{\"marker\": {\"colorbar\": {\"outlinewidth\": 0, \"ticks\": \"\"}}, \"type\": \"scatterpolar\"}], \"scatterpolargl\": [{\"marker\": {\"colorbar\": {\"outlinewidth\": 0, \"ticks\": \"\"}}, \"type\": \"scatterpolargl\"}], \"scatterternary\": [{\"marker\": {\"colorbar\": {\"outlinewidth\": 0, \"ticks\": \"\"}}, \"type\": \"scatterternary\"}], \"surface\": [{\"colorbar\": {\"outlinewidth\": 0, \"ticks\": \"\"}, \"colorscale\": [[0.0, \"#0d0887\"], [0.1111111111111111, \"#46039f\"], [0.2222222222222222, \"#7201a8\"], [0.3333333333333333, \"#9c179e\"], [0.4444444444444444, \"#bd3786\"], [0.5555555555555556, \"#d8576b\"], [0.6666666666666666, \"#ed7953\"], [0.7777777777777778, \"#fb9f3a\"], [0.8888888888888888, \"#fdca26\"], [1.0, \"#f0f921\"]], \"type\": \"surface\"}], \"table\": [{\"cells\": {\"fill\": {\"color\": \"#EBF0F8\"}, \"line\": {\"color\": \"white\"}}, \"header\": {\"fill\": {\"color\": \"#C8D4E3\"}, \"line\": {\"color\": \"white\"}}, \"type\": \"table\"}]}, \"layout\": {\"annotationdefaults\": {\"arrowcolor\": \"#2a3f5f\", \"arrowhead\": 0, \"arrowwidth\": 1}, \"autotypenumbers\": \"strict\", \"coloraxis\": {\"colorbar\": {\"outlinewidth\": 0, \"ticks\": \"\"}}, \"colorscale\": {\"diverging\": [[0, \"#8e0152\"], [0.1, \"#c51b7d\"], [0.2, \"#de77ae\"], [0.3, \"#f1b6da\"], [0.4, \"#fde0ef\"], [0.5, \"#f7f7f7\"], [0.6, \"#e6f5d0\"], [0.7, \"#b8e186\"], [0.8, \"#7fbc41\"], [0.9, \"#4d9221\"], [1, \"#276419\"]], \"sequential\": [[0.0, \"#0d0887\"], [0.1111111111111111, \"#46039f\"], [0.2222222222222222, \"#7201a8\"], [0.3333333333333333, \"#9c179e\"], [0.4444444444444444, \"#bd3786\"], [0.5555555555555556, \"#d8576b\"], [0.6666666666666666, \"#ed7953\"], [0.7777777777777778, \"#fb9f3a\"], [0.8888888888888888, \"#fdca26\"], [1.0, \"#f0f921\"]], \"sequentialminus\": [[0.0, \"#0d0887\"], [0.1111111111111111, \"#46039f\"], [0.2222222222222222, \"#7201a8\"], [0.3333333333333333, \"#9c179e\"], [0.4444444444444444, \"#bd3786\"], [0.5555555555555556, \"#d8576b\"], [0.6666666666666666, \"#ed7953\"], [0.7777777777777778, \"#fb9f3a\"], [0.8888888888888888, \"#fdca26\"], [1.0, \"#f0f921\"]]}, \"colorway\": [\"#636efa\", \"#EF553B\", \"#00cc96\", \"#ab63fa\", \"#FFA15A\", \"#19d3f3\", \"#FF6692\", \"#B6E880\", \"#FF97FF\", \"#FECB52\"], \"font\": {\"color\": \"#2a3f5f\"}, \"geo\": {\"bgcolor\": \"white\", \"lakecolor\": \"white\", \"landcolor\": \"#E5ECF6\", \"showlakes\": true, \"showland\": true, \"subunitcolor\": \"white\"}, \"hoverlabel\": {\"align\": \"left\"}, \"hovermode\": \"closest\", \"mapbox\": {\"style\": \"light\"}, \"paper_bgcolor\": \"white\", \"plot_bgcolor\": \"#E5ECF6\", \"polar\": {\"angularaxis\": {\"gridcolor\": \"white\", \"linecolor\": \"white\", \"ticks\": \"\"}, \"bgcolor\": \"#E5ECF6\", \"radialaxis\": {\"gridcolor\": \"white\", \"linecolor\": \"white\", \"ticks\": \"\"}}, \"scene\": {\"xaxis\": {\"backgroundcolor\": \"#E5ECF6\", \"gridcolor\": \"white\", \"gridwidth\": 2, \"linecolor\": \"white\", \"showbackground\": true, \"ticks\": \"\", \"zerolinecolor\": \"white\"}, \"yaxis\": {\"backgroundcolor\": \"#E5ECF6\", \"gridcolor\": \"white\", \"gridwidth\": 2, \"linecolor\": \"white\", \"showbackground\": true, \"ticks\": \"\", \"zerolinecolor\": \"white\"}, \"zaxis\": {\"backgroundcolor\": \"#E5ECF6\", \"gridcolor\": \"white\", \"gridwidth\": 2, \"linecolor\": \"white\", \"showbackground\": true, \"ticks\": \"\", \"zerolinecolor\": \"white\"}}, \"shapedefaults\": {\"line\": {\"color\": \"#2a3f5f\"}}, \"ternary\": {\"aaxis\": {\"gridcolor\": \"white\", \"linecolor\": \"white\", \"ticks\": \"\"}, \"baxis\": {\"gridcolor\": \"white\", \"linecolor\": \"white\", \"ticks\": \"\"}, \"bgcolor\": \"#E5ECF6\", \"caxis\": {\"gridcolor\": \"white\", \"linecolor\": \"white\", \"ticks\": \"\"}}, \"title\": {\"x\": 0.05}, \"xaxis\": {\"automargin\": true, \"gridcolor\": \"white\", \"linecolor\": \"white\", \"ticks\": \"\", \"title\": {\"standoff\": 15}, \"zerolinecolor\": \"white\", \"zerolinewidth\": 2}, \"yaxis\": {\"automargin\": true, \"gridcolor\": \"white\", \"linecolor\": \"white\", \"ticks\": \"\", \"title\": {\"standoff\": 15}, \"zerolinecolor\": \"white\", \"zerolinewidth\": 2}}}},                        {\"responsive\": true}                    ).then(function(){\n",
       "                            \n",
       "var gd = document.getElementById('3cf9dc5e-d15a-4467-8bbb-c4f345d6b921');\n",
       "var x = new MutationObserver(function (mutations, observer) {{\n",
       "        var display = window.getComputedStyle(gd).display;\n",
       "        if (!display || display === 'none') {{\n",
       "            console.log([gd, 'removed!']);\n",
       "            Plotly.purge(gd);\n",
       "            observer.disconnect();\n",
       "        }}\n",
       "}});\n",
       "\n",
       "// Listen for the removal of the full notebook cells\n",
       "var notebookContainer = gd.closest('#notebook-container');\n",
       "if (notebookContainer) {{\n",
       "    x.observe(notebookContainer, {childList: true});\n",
       "}}\n",
       "\n",
       "// Listen for the clearing of the current output cell\n",
       "var outputEl = gd.closest('.output');\n",
       "if (outputEl) {{\n",
       "    x.observe(outputEl, {childList: true});\n",
       "}}\n",
       "\n",
       "                        })                };                });            </script>        </div>"
      ]
     },
     "metadata": {},
     "output_type": "display_data"
    }
   ],
   "source": [
    "plot_path(lat2, long2, origin_point2, destination_point2)"
   ]
  },
  {
   "cell_type": "code",
   "execution_count": 143,
   "id": "renewable-infrastructure",
   "metadata": {},
   "outputs": [
    {
     "data": {
      "text/plain": [
       "[7463971107, 195447518, 195447516, 7472627041, 7472627042]"
      ]
     },
     "execution_count": 143,
     "metadata": {},
     "output_type": "execute_result"
    }
   ],
   "source": [
    "path"
   ]
  },
  {
   "cell_type": "code",
   "execution_count": 147,
   "id": "coral-attribute",
   "metadata": {},
   "outputs": [
    {
     "data": {
      "text/html": [
       "<div>\n",
       "<style scoped>\n",
       "    .dataframe tbody tr th:only-of-type {\n",
       "        vertical-align: middle;\n",
       "    }\n",
       "\n",
       "    .dataframe tbody tr th {\n",
       "        vertical-align: top;\n",
       "    }\n",
       "\n",
       "    .dataframe thead th {\n",
       "        text-align: right;\n",
       "    }\n",
       "</style>\n",
       "<table border=\"1\" class=\"dataframe\">\n",
       "  <thead>\n",
       "    <tr style=\"text-align: right;\">\n",
       "      <th></th>\n",
       "      <th>Nodes</th>\n",
       "      <th>Latitude</th>\n",
       "      <th>Longitude</th>\n",
       "    </tr>\n",
       "  </thead>\n",
       "  <tbody>\n",
       "    <tr>\n",
       "      <th>0</th>\n",
       "      <td>195438253</td>\n",
       "      <td>35.582010</td>\n",
       "      <td>-78.799760</td>\n",
       "    </tr>\n",
       "    <tr>\n",
       "      <th>1</th>\n",
       "      <td>195438255</td>\n",
       "      <td>35.581969</td>\n",
       "      <td>-78.798268</td>\n",
       "    </tr>\n",
       "    <tr>\n",
       "      <th>2</th>\n",
       "      <td>195438631</td>\n",
       "      <td>35.584332</td>\n",
       "      <td>-78.798292</td>\n",
       "    </tr>\n",
       "    <tr>\n",
       "      <th>3</th>\n",
       "      <td>195447516</td>\n",
       "      <td>35.582924</td>\n",
       "      <td>-78.799764</td>\n",
       "    </tr>\n",
       "    <tr>\n",
       "      <th>4</th>\n",
       "      <td>195447518</td>\n",
       "      <td>35.583693</td>\n",
       "      <td>-78.799788</td>\n",
       "    </tr>\n",
       "    <tr>\n",
       "      <th>5</th>\n",
       "      <td>195447520</td>\n",
       "      <td>35.584345</td>\n",
       "      <td>-78.799816</td>\n",
       "    </tr>\n",
       "    <tr>\n",
       "      <th>6</th>\n",
       "      <td>195500922</td>\n",
       "      <td>35.582764</td>\n",
       "      <td>-78.798270</td>\n",
       "    </tr>\n",
       "    <tr>\n",
       "      <th>7</th>\n",
       "      <td>195594836</td>\n",
       "      <td>35.582753</td>\n",
       "      <td>-78.799763</td>\n",
       "    </tr>\n",
       "    <tr>\n",
       "      <th>8</th>\n",
       "      <td>6359366687</td>\n",
       "      <td>35.584334</td>\n",
       "      <td>-78.798859</td>\n",
       "    </tr>\n",
       "    <tr>\n",
       "      <th>9</th>\n",
       "      <td>7463971107</td>\n",
       "      <td>35.583698</td>\n",
       "      <td>-78.800076</td>\n",
       "    </tr>\n",
       "    <tr>\n",
       "      <th>10</th>\n",
       "      <td>7472627041</td>\n",
       "      <td>35.582927</td>\n",
       "      <td>-78.800216</td>\n",
       "    </tr>\n",
       "    <tr>\n",
       "      <th>11</th>\n",
       "      <td>7472627042</td>\n",
       "      <td>35.583201</td>\n",
       "      <td>-78.800213</td>\n",
       "    </tr>\n",
       "    <tr>\n",
       "      <th>12</th>\n",
       "      <td>8739204976</td>\n",
       "      <td>35.581971</td>\n",
       "      <td>-78.798425</td>\n",
       "    </tr>\n",
       "    <tr>\n",
       "      <th>13</th>\n",
       "      <td>8739204978</td>\n",
       "      <td>35.581973</td>\n",
       "      <td>-78.798708</td>\n",
       "    </tr>\n",
       "  </tbody>\n",
       "</table>\n",
       "</div>"
      ],
      "text/plain": [
       "         Nodes   Latitude  Longitude\n",
       "0    195438253  35.582010 -78.799760\n",
       "1    195438255  35.581969 -78.798268\n",
       "2    195438631  35.584332 -78.798292\n",
       "3    195447516  35.582924 -78.799764\n",
       "4    195447518  35.583693 -78.799788\n",
       "5    195447520  35.584345 -78.799816\n",
       "6    195500922  35.582764 -78.798270\n",
       "7    195594836  35.582753 -78.799763\n",
       "8   6359366687  35.584334 -78.798859\n",
       "9   7463971107  35.583698 -78.800076\n",
       "10  7472627041  35.582927 -78.800216\n",
       "11  7472627042  35.583201 -78.800213\n",
       "12  8739204976  35.581971 -78.798425\n",
       "13  8739204978  35.581973 -78.798708"
      ]
     },
     "execution_count": 147,
     "metadata": {},
     "output_type": "execute_result"
    }
   ],
   "source": [
    "data"
   ]
  },
  {
   "cell_type": "code",
   "execution_count": 148,
   "id": "cleared-funeral",
   "metadata": {},
   "outputs": [],
   "source": [
    "path1 = [195447518, 195447516]"
   ]
  },
  {
   "cell_type": "code",
   "execution_count": 149,
   "id": "appreciated-church",
   "metadata": {},
   "outputs": [],
   "source": [
    "lat1 = []\n",
    "long1 = []\n",
    "for i in path1:\n",
    "    lat1.append(G.nodes[i].get('y'))\n",
    "    long1.append(G.nodes[i].get('x'))"
   ]
  },
  {
   "cell_type": "code",
   "execution_count": 156,
   "id": "mental-syria",
   "metadata": {},
   "outputs": [],
   "source": [
    "import pandas as pd\n",
    "data1 = pd.DataFrame(path1)\n",
    "data1.rename(columns = {0:'Nodes'}, inplace = True)\n",
    "data\n",
    "data1['Latitude'] = lat1\n",
    "data1['Longitude'] = long1"
   ]
  },
  {
   "cell_type": "code",
   "execution_count": 157,
   "id": "yellow-bidder",
   "metadata": {},
   "outputs": [
    {
     "data": {
      "text/html": [
       "<div>\n",
       "<style scoped>\n",
       "    .dataframe tbody tr th:only-of-type {\n",
       "        vertical-align: middle;\n",
       "    }\n",
       "\n",
       "    .dataframe tbody tr th {\n",
       "        vertical-align: top;\n",
       "    }\n",
       "\n",
       "    .dataframe thead th {\n",
       "        text-align: right;\n",
       "    }\n",
       "</style>\n",
       "<table border=\"1\" class=\"dataframe\">\n",
       "  <thead>\n",
       "    <tr style=\"text-align: right;\">\n",
       "      <th></th>\n",
       "      <th>Nodes</th>\n",
       "      <th>Latitude</th>\n",
       "      <th>Longitude</th>\n",
       "    </tr>\n",
       "  </thead>\n",
       "  <tbody>\n",
       "    <tr>\n",
       "      <th>0</th>\n",
       "      <td>195447518</td>\n",
       "      <td>35.583693</td>\n",
       "      <td>-78.799788</td>\n",
       "    </tr>\n",
       "    <tr>\n",
       "      <th>1</th>\n",
       "      <td>195447516</td>\n",
       "      <td>35.582924</td>\n",
       "      <td>-78.799764</td>\n",
       "    </tr>\n",
       "  </tbody>\n",
       "</table>\n",
       "</div>"
      ],
      "text/plain": [
       "       Nodes   Latitude  Longitude\n",
       "0  195447518  35.583693 -78.799788\n",
       "1  195447516  35.582924 -78.799764"
      ]
     },
     "execution_count": 157,
     "metadata": {},
     "output_type": "execute_result"
    }
   ],
   "source": [
    "data1"
   ]
  },
  {
   "cell_type": "code",
   "execution_count": 158,
   "id": "twenty-bridges",
   "metadata": {},
   "outputs": [
    {
     "data": {
      "text/html": [
       "<div>\n",
       "<style scoped>\n",
       "    .dataframe tbody tr th:only-of-type {\n",
       "        vertical-align: middle;\n",
       "    }\n",
       "\n",
       "    .dataframe tbody tr th {\n",
       "        vertical-align: top;\n",
       "    }\n",
       "\n",
       "    .dataframe thead th {\n",
       "        text-align: right;\n",
       "    }\n",
       "</style>\n",
       "<table border=\"1\" class=\"dataframe\">\n",
       "  <thead>\n",
       "    <tr style=\"text-align: right;\">\n",
       "      <th></th>\n",
       "      <th>Nodes</th>\n",
       "      <th>Latitude</th>\n",
       "      <th>Longitude</th>\n",
       "    </tr>\n",
       "  </thead>\n",
       "  <tbody>\n",
       "    <tr>\n",
       "      <th>0</th>\n",
       "      <td>195438253</td>\n",
       "      <td>35.582010</td>\n",
       "      <td>-78.799760</td>\n",
       "    </tr>\n",
       "    <tr>\n",
       "      <th>1</th>\n",
       "      <td>195438255</td>\n",
       "      <td>35.581969</td>\n",
       "      <td>-78.798268</td>\n",
       "    </tr>\n",
       "    <tr>\n",
       "      <th>2</th>\n",
       "      <td>195438631</td>\n",
       "      <td>35.584332</td>\n",
       "      <td>-78.798292</td>\n",
       "    </tr>\n",
       "    <tr>\n",
       "      <th>3</th>\n",
       "      <td>195447516</td>\n",
       "      <td>35.582924</td>\n",
       "      <td>-78.799764</td>\n",
       "    </tr>\n",
       "    <tr>\n",
       "      <th>4</th>\n",
       "      <td>195447518</td>\n",
       "      <td>35.583693</td>\n",
       "      <td>-78.799788</td>\n",
       "    </tr>\n",
       "    <tr>\n",
       "      <th>5</th>\n",
       "      <td>195447520</td>\n",
       "      <td>35.584345</td>\n",
       "      <td>-78.799816</td>\n",
       "    </tr>\n",
       "    <tr>\n",
       "      <th>6</th>\n",
       "      <td>195500922</td>\n",
       "      <td>35.582764</td>\n",
       "      <td>-78.798270</td>\n",
       "    </tr>\n",
       "    <tr>\n",
       "      <th>7</th>\n",
       "      <td>195594836</td>\n",
       "      <td>35.582753</td>\n",
       "      <td>-78.799763</td>\n",
       "    </tr>\n",
       "    <tr>\n",
       "      <th>8</th>\n",
       "      <td>6359366687</td>\n",
       "      <td>35.584334</td>\n",
       "      <td>-78.798859</td>\n",
       "    </tr>\n",
       "    <tr>\n",
       "      <th>9</th>\n",
       "      <td>7463971107</td>\n",
       "      <td>35.583698</td>\n",
       "      <td>-78.800076</td>\n",
       "    </tr>\n",
       "    <tr>\n",
       "      <th>10</th>\n",
       "      <td>7472627041</td>\n",
       "      <td>35.582927</td>\n",
       "      <td>-78.800216</td>\n",
       "    </tr>\n",
       "    <tr>\n",
       "      <th>11</th>\n",
       "      <td>7472627042</td>\n",
       "      <td>35.583201</td>\n",
       "      <td>-78.800213</td>\n",
       "    </tr>\n",
       "    <tr>\n",
       "      <th>12</th>\n",
       "      <td>8739204976</td>\n",
       "      <td>35.581971</td>\n",
       "      <td>-78.798425</td>\n",
       "    </tr>\n",
       "    <tr>\n",
       "      <th>13</th>\n",
       "      <td>8739204978</td>\n",
       "      <td>35.581973</td>\n",
       "      <td>-78.798708</td>\n",
       "    </tr>\n",
       "  </tbody>\n",
       "</table>\n",
       "</div>"
      ],
      "text/plain": [
       "         Nodes   Latitude  Longitude\n",
       "0    195438253  35.582010 -78.799760\n",
       "1    195438255  35.581969 -78.798268\n",
       "2    195438631  35.584332 -78.798292\n",
       "3    195447516  35.582924 -78.799764\n",
       "4    195447518  35.583693 -78.799788\n",
       "5    195447520  35.584345 -78.799816\n",
       "6    195500922  35.582764 -78.798270\n",
       "7    195594836  35.582753 -78.799763\n",
       "8   6359366687  35.584334 -78.798859\n",
       "9   7463971107  35.583698 -78.800076\n",
       "10  7472627041  35.582927 -78.800216\n",
       "11  7472627042  35.583201 -78.800213\n",
       "12  8739204976  35.581971 -78.798425\n",
       "13  8739204978  35.581973 -78.798708"
      ]
     },
     "execution_count": 158,
     "metadata": {},
     "output_type": "execute_result"
    }
   ],
   "source": [
    "data"
   ]
  },
  {
   "cell_type": "code",
   "execution_count": 160,
   "id": "confidential-invalid",
   "metadata": {},
   "outputs": [],
   "source": [
    "data.loc[9.5] = data1.loc[0]\n",
    "data.loc[9.6] = data1.loc[1]\n",
    "\n",
    "data = data.sort_index().reset_index(drop=True)"
   ]
  },
  {
   "cell_type": "code",
   "execution_count": 161,
   "id": "future-manor",
   "metadata": {},
   "outputs": [
    {
     "data": {
      "text/html": [
       "<div>\n",
       "<style scoped>\n",
       "    .dataframe tbody tr th:only-of-type {\n",
       "        vertical-align: middle;\n",
       "    }\n",
       "\n",
       "    .dataframe tbody tr th {\n",
       "        vertical-align: top;\n",
       "    }\n",
       "\n",
       "    .dataframe thead th {\n",
       "        text-align: right;\n",
       "    }\n",
       "</style>\n",
       "<table border=\"1\" class=\"dataframe\">\n",
       "  <thead>\n",
       "    <tr style=\"text-align: right;\">\n",
       "      <th></th>\n",
       "      <th>Nodes</th>\n",
       "      <th>Latitude</th>\n",
       "      <th>Longitude</th>\n",
       "    </tr>\n",
       "  </thead>\n",
       "  <tbody>\n",
       "    <tr>\n",
       "      <th>0</th>\n",
       "      <td>1.954383e+08</td>\n",
       "      <td>35.582010</td>\n",
       "      <td>-78.799760</td>\n",
       "    </tr>\n",
       "    <tr>\n",
       "      <th>1</th>\n",
       "      <td>1.954383e+08</td>\n",
       "      <td>35.581969</td>\n",
       "      <td>-78.798268</td>\n",
       "    </tr>\n",
       "    <tr>\n",
       "      <th>2</th>\n",
       "      <td>1.954386e+08</td>\n",
       "      <td>35.584332</td>\n",
       "      <td>-78.798292</td>\n",
       "    </tr>\n",
       "    <tr>\n",
       "      <th>3</th>\n",
       "      <td>1.954475e+08</td>\n",
       "      <td>35.582924</td>\n",
       "      <td>-78.799764</td>\n",
       "    </tr>\n",
       "    <tr>\n",
       "      <th>4</th>\n",
       "      <td>1.954475e+08</td>\n",
       "      <td>35.583693</td>\n",
       "      <td>-78.799788</td>\n",
       "    </tr>\n",
       "    <tr>\n",
       "      <th>5</th>\n",
       "      <td>1.954475e+08</td>\n",
       "      <td>35.584345</td>\n",
       "      <td>-78.799816</td>\n",
       "    </tr>\n",
       "    <tr>\n",
       "      <th>6</th>\n",
       "      <td>1.955009e+08</td>\n",
       "      <td>35.582764</td>\n",
       "      <td>-78.798270</td>\n",
       "    </tr>\n",
       "    <tr>\n",
       "      <th>7</th>\n",
       "      <td>1.955948e+08</td>\n",
       "      <td>35.582753</td>\n",
       "      <td>-78.799763</td>\n",
       "    </tr>\n",
       "    <tr>\n",
       "      <th>8</th>\n",
       "      <td>6.359367e+09</td>\n",
       "      <td>35.584334</td>\n",
       "      <td>-78.798859</td>\n",
       "    </tr>\n",
       "    <tr>\n",
       "      <th>9</th>\n",
       "      <td>7.463971e+09</td>\n",
       "      <td>35.583698</td>\n",
       "      <td>-78.800076</td>\n",
       "    </tr>\n",
       "    <tr>\n",
       "      <th>10</th>\n",
       "      <td>1.954475e+08</td>\n",
       "      <td>35.583693</td>\n",
       "      <td>-78.799788</td>\n",
       "    </tr>\n",
       "    <tr>\n",
       "      <th>11</th>\n",
       "      <td>1.954475e+08</td>\n",
       "      <td>35.582924</td>\n",
       "      <td>-78.799764</td>\n",
       "    </tr>\n",
       "    <tr>\n",
       "      <th>12</th>\n",
       "      <td>7.472627e+09</td>\n",
       "      <td>35.582927</td>\n",
       "      <td>-78.800216</td>\n",
       "    </tr>\n",
       "    <tr>\n",
       "      <th>13</th>\n",
       "      <td>7.472627e+09</td>\n",
       "      <td>35.583201</td>\n",
       "      <td>-78.800213</td>\n",
       "    </tr>\n",
       "    <tr>\n",
       "      <th>14</th>\n",
       "      <td>8.739205e+09</td>\n",
       "      <td>35.581971</td>\n",
       "      <td>-78.798425</td>\n",
       "    </tr>\n",
       "    <tr>\n",
       "      <th>15</th>\n",
       "      <td>8.739205e+09</td>\n",
       "      <td>35.581973</td>\n",
       "      <td>-78.798708</td>\n",
       "    </tr>\n",
       "  </tbody>\n",
       "</table>\n",
       "</div>"
      ],
      "text/plain": [
       "           Nodes   Latitude  Longitude\n",
       "0   1.954383e+08  35.582010 -78.799760\n",
       "1   1.954383e+08  35.581969 -78.798268\n",
       "2   1.954386e+08  35.584332 -78.798292\n",
       "3   1.954475e+08  35.582924 -78.799764\n",
       "4   1.954475e+08  35.583693 -78.799788\n",
       "5   1.954475e+08  35.584345 -78.799816\n",
       "6   1.955009e+08  35.582764 -78.798270\n",
       "7   1.955948e+08  35.582753 -78.799763\n",
       "8   6.359367e+09  35.584334 -78.798859\n",
       "9   7.463971e+09  35.583698 -78.800076\n",
       "10  1.954475e+08  35.583693 -78.799788\n",
       "11  1.954475e+08  35.582924 -78.799764\n",
       "12  7.472627e+09  35.582927 -78.800216\n",
       "13  7.472627e+09  35.583201 -78.800213\n",
       "14  8.739205e+09  35.581971 -78.798425\n",
       "15  8.739205e+09  35.581973 -78.798708"
      ]
     },
     "execution_count": 161,
     "metadata": {},
     "output_type": "execute_result"
    }
   ],
   "source": [
    "data"
   ]
  },
  {
   "cell_type": "code",
   "execution_count": 162,
   "id": "agreed-orientation",
   "metadata": {},
   "outputs": [
    {
     "data": {
      "text/html": [
       "<div>\n",
       "<style scoped>\n",
       "    .dataframe tbody tr th:only-of-type {\n",
       "        vertical-align: middle;\n",
       "    }\n",
       "\n",
       "    .dataframe tbody tr th {\n",
       "        vertical-align: top;\n",
       "    }\n",
       "\n",
       "    .dataframe thead th {\n",
       "        text-align: right;\n",
       "    }\n",
       "</style>\n",
       "<table border=\"1\" class=\"dataframe\">\n",
       "  <thead>\n",
       "    <tr style=\"text-align: right;\">\n",
       "      <th></th>\n",
       "      <th>level_0</th>\n",
       "      <th>index</th>\n",
       "      <th>Latitude</th>\n",
       "      <th>Longitude</th>\n",
       "      <th>ID</th>\n",
       "    </tr>\n",
       "  </thead>\n",
       "  <tbody>\n",
       "    <tr>\n",
       "      <th>0</th>\n",
       "      <td>0</td>\n",
       "      <td>2.0</td>\n",
       "      <td>35.584332</td>\n",
       "      <td>-78.798292</td>\n",
       "      <td>2.0</td>\n",
       "    </tr>\n",
       "    <tr>\n",
       "      <th>1</th>\n",
       "      <td>1</td>\n",
       "      <td>8.0</td>\n",
       "      <td>35.584334</td>\n",
       "      <td>-78.798859</td>\n",
       "      <td>8.0</td>\n",
       "    </tr>\n",
       "    <tr>\n",
       "      <th>2</th>\n",
       "      <td>2</td>\n",
       "      <td>5.0</td>\n",
       "      <td>35.584345</td>\n",
       "      <td>-78.799816</td>\n",
       "      <td>5.0</td>\n",
       "    </tr>\n",
       "    <tr>\n",
       "      <th>3</th>\n",
       "      <td>3</td>\n",
       "      <td>4.0</td>\n",
       "      <td>35.583693</td>\n",
       "      <td>-78.799788</td>\n",
       "      <td>4.0</td>\n",
       "    </tr>\n",
       "    <tr>\n",
       "      <th>4</th>\n",
       "      <td>4</td>\n",
       "      <td>9.0</td>\n",
       "      <td>35.583698</td>\n",
       "      <td>-78.800076</td>\n",
       "      <td>9.0</td>\n",
       "    </tr>\n",
       "    <tr>\n",
       "      <th>5</th>\n",
       "      <td>5</td>\n",
       "      <td>10.0</td>\n",
       "      <td>35.582927</td>\n",
       "      <td>-78.800216</td>\n",
       "      <td>10.0</td>\n",
       "    </tr>\n",
       "    <tr>\n",
       "      <th>6</th>\n",
       "      <td>6</td>\n",
       "      <td>11.0</td>\n",
       "      <td>35.583201</td>\n",
       "      <td>-78.800213</td>\n",
       "      <td>11.0</td>\n",
       "    </tr>\n",
       "    <tr>\n",
       "      <th>7</th>\n",
       "      <td>7</td>\n",
       "      <td>3.0</td>\n",
       "      <td>35.582924</td>\n",
       "      <td>-78.799764</td>\n",
       "      <td>3.0</td>\n",
       "    </tr>\n",
       "    <tr>\n",
       "      <th>8</th>\n",
       "      <td>8</td>\n",
       "      <td>7.0</td>\n",
       "      <td>35.582753</td>\n",
       "      <td>-78.799763</td>\n",
       "      <td>7.0</td>\n",
       "    </tr>\n",
       "    <tr>\n",
       "      <th>9</th>\n",
       "      <td>9</td>\n",
       "      <td>0.0</td>\n",
       "      <td>35.582010</td>\n",
       "      <td>-78.799760</td>\n",
       "      <td>0.0</td>\n",
       "    </tr>\n",
       "    <tr>\n",
       "      <th>10</th>\n",
       "      <td>10</td>\n",
       "      <td>13.0</td>\n",
       "      <td>35.581973</td>\n",
       "      <td>-78.798708</td>\n",
       "      <td>13.0</td>\n",
       "    </tr>\n",
       "    <tr>\n",
       "      <th>11</th>\n",
       "      <td>11</td>\n",
       "      <td>12.0</td>\n",
       "      <td>35.581971</td>\n",
       "      <td>-78.798425</td>\n",
       "      <td>12.0</td>\n",
       "    </tr>\n",
       "    <tr>\n",
       "      <th>12</th>\n",
       "      <td>12</td>\n",
       "      <td>1.0</td>\n",
       "      <td>35.581969</td>\n",
       "      <td>-78.798268</td>\n",
       "      <td>1.0</td>\n",
       "    </tr>\n",
       "    <tr>\n",
       "      <th>13</th>\n",
       "      <td>13</td>\n",
       "      <td>6.0</td>\n",
       "      <td>35.582764</td>\n",
       "      <td>-78.798270</td>\n",
       "      <td>6.0</td>\n",
       "    </tr>\n",
       "    <tr>\n",
       "      <th>14</th>\n",
       "      <td>0</td>\n",
       "      <td>2.0</td>\n",
       "      <td>35.584332</td>\n",
       "      <td>-78.798292</td>\n",
       "      <td>2.0</td>\n",
       "    </tr>\n",
       "  </tbody>\n",
       "</table>\n",
       "</div>"
      ],
      "text/plain": [
       "    level_0  index   Latitude  Longitude    ID\n",
       "0         0    2.0  35.584332 -78.798292   2.0\n",
       "1         1    8.0  35.584334 -78.798859   8.0\n",
       "2         2    5.0  35.584345 -78.799816   5.0\n",
       "3         3    4.0  35.583693 -78.799788   4.0\n",
       "4         4    9.0  35.583698 -78.800076   9.0\n",
       "5         5   10.0  35.582927 -78.800216  10.0\n",
       "6         6   11.0  35.583201 -78.800213  11.0\n",
       "7         7    3.0  35.582924 -78.799764   3.0\n",
       "8         8    7.0  35.582753 -78.799763   7.0\n",
       "9         9    0.0  35.582010 -78.799760   0.0\n",
       "10       10   13.0  35.581973 -78.798708  13.0\n",
       "11       11   12.0  35.581971 -78.798425  12.0\n",
       "12       12    1.0  35.581969 -78.798268   1.0\n",
       "13       13    6.0  35.582764 -78.798270   6.0\n",
       "14        0    2.0  35.584332 -78.798292   2.0"
      ]
     },
     "execution_count": 162,
     "metadata": {},
     "output_type": "execute_result"
    }
   ],
   "source": [
    "df3"
   ]
  },
  {
   "cell_type": "code",
   "execution_count": 174,
   "id": "assumed-million",
   "metadata": {},
   "outputs": [],
   "source": [
    "import pandas as pd\n",
    "df1 = pd.read_csv(\"Smallbox.csv\")"
   ]
  },
  {
   "cell_type": "code",
   "execution_count": 175,
   "id": "martial-stanley",
   "metadata": {},
   "outputs": [],
   "source": [
    "data = df1"
   ]
  },
  {
   "cell_type": "code",
   "execution_count": 176,
   "id": "persistent-rocket",
   "metadata": {},
   "outputs": [
    {
     "data": {
      "text/html": [
       "<div>\n",
       "<style scoped>\n",
       "    .dataframe tbody tr th:only-of-type {\n",
       "        vertical-align: middle;\n",
       "    }\n",
       "\n",
       "    .dataframe tbody tr th {\n",
       "        vertical-align: top;\n",
       "    }\n",
       "\n",
       "    .dataframe thead th {\n",
       "        text-align: right;\n",
       "    }\n",
       "</style>\n",
       "<table border=\"1\" class=\"dataframe\">\n",
       "  <thead>\n",
       "    <tr style=\"text-align: right;\">\n",
       "      <th></th>\n",
       "      <th>Nodes</th>\n",
       "      <th>Latitude</th>\n",
       "      <th>Longitude</th>\n",
       "    </tr>\n",
       "  </thead>\n",
       "  <tbody>\n",
       "    <tr>\n",
       "      <th>0</th>\n",
       "      <td>195438253</td>\n",
       "      <td>35.582010</td>\n",
       "      <td>-78.799760</td>\n",
       "    </tr>\n",
       "    <tr>\n",
       "      <th>1</th>\n",
       "      <td>195438255</td>\n",
       "      <td>35.581969</td>\n",
       "      <td>-78.798268</td>\n",
       "    </tr>\n",
       "    <tr>\n",
       "      <th>2</th>\n",
       "      <td>195438631</td>\n",
       "      <td>35.584332</td>\n",
       "      <td>-78.798292</td>\n",
       "    </tr>\n",
       "    <tr>\n",
       "      <th>3</th>\n",
       "      <td>195447516</td>\n",
       "      <td>35.582924</td>\n",
       "      <td>-78.799764</td>\n",
       "    </tr>\n",
       "    <tr>\n",
       "      <th>4</th>\n",
       "      <td>195447518</td>\n",
       "      <td>35.583693</td>\n",
       "      <td>-78.799788</td>\n",
       "    </tr>\n",
       "    <tr>\n",
       "      <th>5</th>\n",
       "      <td>195447520</td>\n",
       "      <td>35.584345</td>\n",
       "      <td>-78.799816</td>\n",
       "    </tr>\n",
       "    <tr>\n",
       "      <th>6</th>\n",
       "      <td>195500922</td>\n",
       "      <td>35.582764</td>\n",
       "      <td>-78.798270</td>\n",
       "    </tr>\n",
       "    <tr>\n",
       "      <th>7</th>\n",
       "      <td>195594836</td>\n",
       "      <td>35.582753</td>\n",
       "      <td>-78.799763</td>\n",
       "    </tr>\n",
       "    <tr>\n",
       "      <th>8</th>\n",
       "      <td>6359366687</td>\n",
       "      <td>35.584334</td>\n",
       "      <td>-78.798859</td>\n",
       "    </tr>\n",
       "    <tr>\n",
       "      <th>9</th>\n",
       "      <td>7463971107</td>\n",
       "      <td>35.583698</td>\n",
       "      <td>-78.800076</td>\n",
       "    </tr>\n",
       "    <tr>\n",
       "      <th>10</th>\n",
       "      <td>7472627041</td>\n",
       "      <td>35.582927</td>\n",
       "      <td>-78.800216</td>\n",
       "    </tr>\n",
       "    <tr>\n",
       "      <th>11</th>\n",
       "      <td>7472627042</td>\n",
       "      <td>35.583201</td>\n",
       "      <td>-78.800213</td>\n",
       "    </tr>\n",
       "    <tr>\n",
       "      <th>12</th>\n",
       "      <td>8739204976</td>\n",
       "      <td>35.581971</td>\n",
       "      <td>-78.798425</td>\n",
       "    </tr>\n",
       "    <tr>\n",
       "      <th>13</th>\n",
       "      <td>8739204978</td>\n",
       "      <td>35.581973</td>\n",
       "      <td>-78.798708</td>\n",
       "    </tr>\n",
       "  </tbody>\n",
       "</table>\n",
       "</div>"
      ],
      "text/plain": [
       "         Nodes   Latitude  Longitude\n",
       "0    195438253  35.582010 -78.799760\n",
       "1    195438255  35.581969 -78.798268\n",
       "2    195438631  35.584332 -78.798292\n",
       "3    195447516  35.582924 -78.799764\n",
       "4    195447518  35.583693 -78.799788\n",
       "5    195447520  35.584345 -78.799816\n",
       "6    195500922  35.582764 -78.798270\n",
       "7    195594836  35.582753 -78.799763\n",
       "8   6359366687  35.584334 -78.798859\n",
       "9   7463971107  35.583698 -78.800076\n",
       "10  7472627041  35.582927 -78.800216\n",
       "11  7472627042  35.583201 -78.800213\n",
       "12  8739204976  35.581971 -78.798425\n",
       "13  8739204978  35.581973 -78.798708"
      ]
     },
     "execution_count": 176,
     "metadata": {},
     "output_type": "execute_result"
    }
   ],
   "source": [
    "data"
   ]
  },
  {
   "cell_type": "code",
   "execution_count": 198,
   "id": "scenic-storage",
   "metadata": {},
   "outputs": [],
   "source": [
    "data = data.append(data1,ignore_index=True)"
   ]
  },
  {
   "cell_type": "code",
   "execution_count": 201,
   "id": "alternate-softball",
   "metadata": {},
   "outputs": [
    {
     "data": {
      "text/html": [
       "<div>\n",
       "<style scoped>\n",
       "    .dataframe tbody tr th:only-of-type {\n",
       "        vertical-align: middle;\n",
       "    }\n",
       "\n",
       "    .dataframe tbody tr th {\n",
       "        vertical-align: top;\n",
       "    }\n",
       "\n",
       "    .dataframe thead th {\n",
       "        text-align: right;\n",
       "    }\n",
       "</style>\n",
       "<table border=\"1\" class=\"dataframe\">\n",
       "  <thead>\n",
       "    <tr style=\"text-align: right;\">\n",
       "      <th></th>\n",
       "      <th>Nodes</th>\n",
       "      <th>Latitude</th>\n",
       "      <th>Longitude</th>\n",
       "    </tr>\n",
       "  </thead>\n",
       "  <tbody>\n",
       "    <tr>\n",
       "      <th>0</th>\n",
       "      <td>195438253</td>\n",
       "      <td>35.582010</td>\n",
       "      <td>-78.799760</td>\n",
       "    </tr>\n",
       "    <tr>\n",
       "      <th>1</th>\n",
       "      <td>195438255</td>\n",
       "      <td>35.581969</td>\n",
       "      <td>-78.798268</td>\n",
       "    </tr>\n",
       "    <tr>\n",
       "      <th>2</th>\n",
       "      <td>195438631</td>\n",
       "      <td>35.584332</td>\n",
       "      <td>-78.798292</td>\n",
       "    </tr>\n",
       "    <tr>\n",
       "      <th>3</th>\n",
       "      <td>195447516</td>\n",
       "      <td>35.582924</td>\n",
       "      <td>-78.799764</td>\n",
       "    </tr>\n",
       "    <tr>\n",
       "      <th>4</th>\n",
       "      <td>195447518</td>\n",
       "      <td>35.583693</td>\n",
       "      <td>-78.799788</td>\n",
       "    </tr>\n",
       "    <tr>\n",
       "      <th>5</th>\n",
       "      <td>195447520</td>\n",
       "      <td>35.584345</td>\n",
       "      <td>-78.799816</td>\n",
       "    </tr>\n",
       "    <tr>\n",
       "      <th>6</th>\n",
       "      <td>195500922</td>\n",
       "      <td>35.582764</td>\n",
       "      <td>-78.798270</td>\n",
       "    </tr>\n",
       "    <tr>\n",
       "      <th>7</th>\n",
       "      <td>195594836</td>\n",
       "      <td>35.582753</td>\n",
       "      <td>-78.799763</td>\n",
       "    </tr>\n",
       "    <tr>\n",
       "      <th>8</th>\n",
       "      <td>6359366687</td>\n",
       "      <td>35.584334</td>\n",
       "      <td>-78.798859</td>\n",
       "    </tr>\n",
       "    <tr>\n",
       "      <th>9</th>\n",
       "      <td>7463971107</td>\n",
       "      <td>35.583698</td>\n",
       "      <td>-78.800076</td>\n",
       "    </tr>\n",
       "    <tr>\n",
       "      <th>10</th>\n",
       "      <td>7472627041</td>\n",
       "      <td>35.582927</td>\n",
       "      <td>-78.800216</td>\n",
       "    </tr>\n",
       "    <tr>\n",
       "      <th>11</th>\n",
       "      <td>7472627042</td>\n",
       "      <td>35.583201</td>\n",
       "      <td>-78.800213</td>\n",
       "    </tr>\n",
       "    <tr>\n",
       "      <th>12</th>\n",
       "      <td>8739204976</td>\n",
       "      <td>35.581971</td>\n",
       "      <td>-78.798425</td>\n",
       "    </tr>\n",
       "    <tr>\n",
       "      <th>13</th>\n",
       "      <td>8739204978</td>\n",
       "      <td>35.581973</td>\n",
       "      <td>-78.798708</td>\n",
       "    </tr>\n",
       "    <tr>\n",
       "      <th>14</th>\n",
       "      <td>195447518</td>\n",
       "      <td>35.583693</td>\n",
       "      <td>-78.799788</td>\n",
       "    </tr>\n",
       "    <tr>\n",
       "      <th>15</th>\n",
       "      <td>195447516</td>\n",
       "      <td>35.582924</td>\n",
       "      <td>-78.799764</td>\n",
       "    </tr>\n",
       "  </tbody>\n",
       "</table>\n",
       "</div>"
      ],
      "text/plain": [
       "         Nodes   Latitude  Longitude\n",
       "0    195438253  35.582010 -78.799760\n",
       "1    195438255  35.581969 -78.798268\n",
       "2    195438631  35.584332 -78.798292\n",
       "3    195447516  35.582924 -78.799764\n",
       "4    195447518  35.583693 -78.799788\n",
       "5    195447520  35.584345 -78.799816\n",
       "6    195500922  35.582764 -78.798270\n",
       "7    195594836  35.582753 -78.799763\n",
       "8   6359366687  35.584334 -78.798859\n",
       "9   7463971107  35.583698 -78.800076\n",
       "10  7472627041  35.582927 -78.800216\n",
       "11  7472627042  35.583201 -78.800213\n",
       "12  8739204976  35.581971 -78.798425\n",
       "13  8739204978  35.581973 -78.798708\n",
       "14   195447518  35.583693 -78.799788\n",
       "15   195447516  35.582924 -78.799764"
      ]
     },
     "execution_count": 201,
     "metadata": {},
     "output_type": "execute_result"
    }
   ],
   "source": [
    "data"
   ]
  },
  {
   "cell_type": "code",
   "execution_count": 202,
   "id": "ultimate-roads",
   "metadata": {},
   "outputs": [
    {
     "data": {
      "text/html": [
       "<div>\n",
       "<style scoped>\n",
       "    .dataframe tbody tr th:only-of-type {\n",
       "        vertical-align: middle;\n",
       "    }\n",
       "\n",
       "    .dataframe tbody tr th {\n",
       "        vertical-align: top;\n",
       "    }\n",
       "\n",
       "    .dataframe thead th {\n",
       "        text-align: right;\n",
       "    }\n",
       "</style>\n",
       "<table border=\"1\" class=\"dataframe\">\n",
       "  <thead>\n",
       "    <tr style=\"text-align: right;\">\n",
       "      <th></th>\n",
       "      <th>Nodes</th>\n",
       "      <th>Latitude</th>\n",
       "      <th>Longitude</th>\n",
       "    </tr>\n",
       "  </thead>\n",
       "  <tbody>\n",
       "    <tr>\n",
       "      <th>0</th>\n",
       "      <td>195447518</td>\n",
       "      <td>35.583693</td>\n",
       "      <td>-78.799788</td>\n",
       "    </tr>\n",
       "    <tr>\n",
       "      <th>1</th>\n",
       "      <td>195447516</td>\n",
       "      <td>35.582924</td>\n",
       "      <td>-78.799764</td>\n",
       "    </tr>\n",
       "  </tbody>\n",
       "</table>\n",
       "</div>"
      ],
      "text/plain": [
       "       Nodes   Latitude  Longitude\n",
       "0  195447518  35.583693 -78.799788\n",
       "1  195447516  35.582924 -78.799764"
      ]
     },
     "execution_count": 202,
     "metadata": {},
     "output_type": "execute_result"
    }
   ],
   "source": [
    "data1"
   ]
  },
  {
   "cell_type": "code",
   "execution_count": 279,
   "id": "executed-gathering",
   "metadata": {},
   "outputs": [],
   "source": [
    "order = [2,8,5,4,9,14,15,10,3,7,0,13,12,1,6]"
   ]
  },
  {
   "cell_type": "code",
   "execution_count": null,
   "id": "editorial-somalia",
   "metadata": {},
   "outputs": [],
   "source": []
  },
  {
   "cell_type": "code",
   "execution_count": 280,
   "id": "legal-mandate",
   "metadata": {},
   "outputs": [],
   "source": [
    "data.rename(columns = {'Left':'Latitude'}, inplace = True)\n",
    "data.rename(columns = {'Right':'Longitude'}, inplace = True)"
   ]
  },
  {
   "cell_type": "code",
   "execution_count": 281,
   "id": "known-fortune",
   "metadata": {},
   "outputs": [],
   "source": [
    "df3 = pd.DataFrame()\n",
    "for i in order:\n",
    "    #print(df1.loc[i])\n",
    "    df3 = df3.append(data.loc[i])"
   ]
  },
  {
   "cell_type": "code",
   "execution_count": 282,
   "id": "rapid-essay",
   "metadata": {},
   "outputs": [
    {
     "data": {
      "text/html": [
       "<div>\n",
       "<style scoped>\n",
       "    .dataframe tbody tr th:only-of-type {\n",
       "        vertical-align: middle;\n",
       "    }\n",
       "\n",
       "    .dataframe tbody tr th {\n",
       "        vertical-align: top;\n",
       "    }\n",
       "\n",
       "    .dataframe thead th {\n",
       "        text-align: right;\n",
       "    }\n",
       "</style>\n",
       "<table border=\"1\" class=\"dataframe\">\n",
       "  <thead>\n",
       "    <tr style=\"text-align: right;\">\n",
       "      <th></th>\n",
       "      <th>Nodes</th>\n",
       "      <th>Latitude</th>\n",
       "      <th>Longitude</th>\n",
       "    </tr>\n",
       "  </thead>\n",
       "  <tbody>\n",
       "    <tr>\n",
       "      <th>2</th>\n",
       "      <td>1.954386e+08</td>\n",
       "      <td>35.584332</td>\n",
       "      <td>-78.798292</td>\n",
       "    </tr>\n",
       "    <tr>\n",
       "      <th>8</th>\n",
       "      <td>6.359367e+09</td>\n",
       "      <td>35.584334</td>\n",
       "      <td>-78.798859</td>\n",
       "    </tr>\n",
       "    <tr>\n",
       "      <th>5</th>\n",
       "      <td>1.954475e+08</td>\n",
       "      <td>35.584345</td>\n",
       "      <td>-78.799816</td>\n",
       "    </tr>\n",
       "    <tr>\n",
       "      <th>4</th>\n",
       "      <td>1.954475e+08</td>\n",
       "      <td>35.583693</td>\n",
       "      <td>-78.799788</td>\n",
       "    </tr>\n",
       "    <tr>\n",
       "      <th>9</th>\n",
       "      <td>7.463971e+09</td>\n",
       "      <td>35.583698</td>\n",
       "      <td>-78.800076</td>\n",
       "    </tr>\n",
       "    <tr>\n",
       "      <th>14</th>\n",
       "      <td>1.954475e+08</td>\n",
       "      <td>35.583693</td>\n",
       "      <td>-78.799788</td>\n",
       "    </tr>\n",
       "    <tr>\n",
       "      <th>15</th>\n",
       "      <td>1.954475e+08</td>\n",
       "      <td>35.582924</td>\n",
       "      <td>-78.799764</td>\n",
       "    </tr>\n",
       "    <tr>\n",
       "      <th>10</th>\n",
       "      <td>7.472627e+09</td>\n",
       "      <td>35.582927</td>\n",
       "      <td>-78.800216</td>\n",
       "    </tr>\n",
       "    <tr>\n",
       "      <th>3</th>\n",
       "      <td>1.954475e+08</td>\n",
       "      <td>35.582924</td>\n",
       "      <td>-78.799764</td>\n",
       "    </tr>\n",
       "    <tr>\n",
       "      <th>7</th>\n",
       "      <td>1.955948e+08</td>\n",
       "      <td>35.582753</td>\n",
       "      <td>-78.799763</td>\n",
       "    </tr>\n",
       "    <tr>\n",
       "      <th>0</th>\n",
       "      <td>1.954383e+08</td>\n",
       "      <td>35.582010</td>\n",
       "      <td>-78.799760</td>\n",
       "    </tr>\n",
       "    <tr>\n",
       "      <th>13</th>\n",
       "      <td>8.739205e+09</td>\n",
       "      <td>35.581973</td>\n",
       "      <td>-78.798708</td>\n",
       "    </tr>\n",
       "    <tr>\n",
       "      <th>12</th>\n",
       "      <td>8.739205e+09</td>\n",
       "      <td>35.581971</td>\n",
       "      <td>-78.798425</td>\n",
       "    </tr>\n",
       "    <tr>\n",
       "      <th>1</th>\n",
       "      <td>1.954383e+08</td>\n",
       "      <td>35.581969</td>\n",
       "      <td>-78.798268</td>\n",
       "    </tr>\n",
       "    <tr>\n",
       "      <th>6</th>\n",
       "      <td>1.955009e+08</td>\n",
       "      <td>35.582764</td>\n",
       "      <td>-78.798270</td>\n",
       "    </tr>\n",
       "  </tbody>\n",
       "</table>\n",
       "</div>"
      ],
      "text/plain": [
       "           Nodes   Latitude  Longitude\n",
       "2   1.954386e+08  35.584332 -78.798292\n",
       "8   6.359367e+09  35.584334 -78.798859\n",
       "5   1.954475e+08  35.584345 -78.799816\n",
       "4   1.954475e+08  35.583693 -78.799788\n",
       "9   7.463971e+09  35.583698 -78.800076\n",
       "14  1.954475e+08  35.583693 -78.799788\n",
       "15  1.954475e+08  35.582924 -78.799764\n",
       "10  7.472627e+09  35.582927 -78.800216\n",
       "3   1.954475e+08  35.582924 -78.799764\n",
       "7   1.955948e+08  35.582753 -78.799763\n",
       "0   1.954383e+08  35.582010 -78.799760\n",
       "13  8.739205e+09  35.581973 -78.798708\n",
       "12  8.739205e+09  35.581971 -78.798425\n",
       "1   1.954383e+08  35.581969 -78.798268\n",
       "6   1.955009e+08  35.582764 -78.798270"
      ]
     },
     "execution_count": 282,
     "metadata": {},
     "output_type": "execute_result"
    }
   ],
   "source": [
    "df3"
   ]
  },
  {
   "cell_type": "code",
   "execution_count": 283,
   "id": "different-people",
   "metadata": {},
   "outputs": [],
   "source": [
    "df3.reset_index(inplace = True)\n",
    "df3 = df3.append(df3.loc[0])\n",
    "df3.reset_index(inplace = True)"
   ]
  },
  {
   "cell_type": "code",
   "execution_count": 284,
   "id": "smooth-insurance",
   "metadata": {},
   "outputs": [],
   "source": [
    "long2 = [] \n",
    "lat2 = []  \n",
    "for i in df3.index:\n",
    "    long2.append(df3.loc[i][\"Longitude\"])\n",
    "    lat2.append(df3.loc[i][\"Latitude\"])"
   ]
  },
  {
   "cell_type": "code",
   "execution_count": 285,
   "id": "derived-national",
   "metadata": {},
   "outputs": [],
   "source": [
    "origin_point2 = (df3.loc[0][\"Latitude\"], df3.loc[0][\"Longitude\"]) \n",
    "destination_point2 = (df3.loc[0][\"Latitude\"], df3.loc[0][\"Longitude\"])"
   ]
  },
  {
   "cell_type": "code",
   "execution_count": 286,
   "id": "laughing-alexander",
   "metadata": {},
   "outputs": [
    {
     "data": {
      "application/vnd.plotly.v1+json": {
       "config": {
        "plotlyServerURL": "https://plot.ly"
       },
       "data": [
        {
         "lat": [
          35.5843317,
          35.584334,
          35.5843454,
          35.5836931,
          35.5836978,
          35.5836931,
          35.5829241,
          35.5829271,
          35.5829241,
          35.5827526,
          35.58201,
          35.5819733,
          35.5819707,
          35.5819692,
          35.5827637,
          35.5843317
         ],
         "line": {
          "color": "grey",
          "width": 4.5
         },
         "lon": [
          -78.7982923,
          -78.7988587,
          -78.7998159,
          -78.7997882,
          -78.8000756,
          -78.7997882,
          -78.7997645,
          -78.8002157,
          -78.7997645,
          -78.7997627,
          -78.7997604,
          -78.7987076,
          -78.7984249,
          -78.7982676,
          -78.79827,
          -78.7982923
         ],
         "marker": {
          "size": 10
         },
         "mode": "lines",
         "name": "Path",
         "type": "scattermapbox"
        },
        {
         "lat": [
          35.5843317
         ],
         "lon": [
          -78.7982923
         ],
         "marker": {
          "color": "red",
          "size": 12
         },
         "mode": "markers",
         "name": "Source",
         "type": "scattermapbox"
        },
        {
         "lat": [
          35.5843317
         ],
         "lon": [
          -78.7982923
         ],
         "marker": {
          "color": "green",
          "size": 12
         },
         "mode": "markers",
         "name": "Destination",
         "type": "scattermapbox"
        }
       ],
       "layout": {
        "mapbox": {
         "center": {
          "lat": 35.5831651,
          "lon": -78.79924056875
         },
         "style": "carto-darkmatter",
         "zoom": 13
        },
        "margin": {
         "b": 0,
         "l": 0,
         "r": 0,
         "t": 0
        },
        "template": {
         "data": {
          "bar": [
           {
            "error_x": {
             "color": "#2a3f5f"
            },
            "error_y": {
             "color": "#2a3f5f"
            },
            "marker": {
             "line": {
              "color": "#E5ECF6",
              "width": 0.5
             }
            },
            "type": "bar"
           }
          ],
          "barpolar": [
           {
            "marker": {
             "line": {
              "color": "#E5ECF6",
              "width": 0.5
             }
            },
            "type": "barpolar"
           }
          ],
          "carpet": [
           {
            "aaxis": {
             "endlinecolor": "#2a3f5f",
             "gridcolor": "white",
             "linecolor": "white",
             "minorgridcolor": "white",
             "startlinecolor": "#2a3f5f"
            },
            "baxis": {
             "endlinecolor": "#2a3f5f",
             "gridcolor": "white",
             "linecolor": "white",
             "minorgridcolor": "white",
             "startlinecolor": "#2a3f5f"
            },
            "type": "carpet"
           }
          ],
          "choropleth": [
           {
            "colorbar": {
             "outlinewidth": 0,
             "ticks": ""
            },
            "type": "choropleth"
           }
          ],
          "contour": [
           {
            "colorbar": {
             "outlinewidth": 0,
             "ticks": ""
            },
            "colorscale": [
             [
              0,
              "#0d0887"
             ],
             [
              0.1111111111111111,
              "#46039f"
             ],
             [
              0.2222222222222222,
              "#7201a8"
             ],
             [
              0.3333333333333333,
              "#9c179e"
             ],
             [
              0.4444444444444444,
              "#bd3786"
             ],
             [
              0.5555555555555556,
              "#d8576b"
             ],
             [
              0.6666666666666666,
              "#ed7953"
             ],
             [
              0.7777777777777778,
              "#fb9f3a"
             ],
             [
              0.8888888888888888,
              "#fdca26"
             ],
             [
              1,
              "#f0f921"
             ]
            ],
            "type": "contour"
           }
          ],
          "contourcarpet": [
           {
            "colorbar": {
             "outlinewidth": 0,
             "ticks": ""
            },
            "type": "contourcarpet"
           }
          ],
          "heatmap": [
           {
            "colorbar": {
             "outlinewidth": 0,
             "ticks": ""
            },
            "colorscale": [
             [
              0,
              "#0d0887"
             ],
             [
              0.1111111111111111,
              "#46039f"
             ],
             [
              0.2222222222222222,
              "#7201a8"
             ],
             [
              0.3333333333333333,
              "#9c179e"
             ],
             [
              0.4444444444444444,
              "#bd3786"
             ],
             [
              0.5555555555555556,
              "#d8576b"
             ],
             [
              0.6666666666666666,
              "#ed7953"
             ],
             [
              0.7777777777777778,
              "#fb9f3a"
             ],
             [
              0.8888888888888888,
              "#fdca26"
             ],
             [
              1,
              "#f0f921"
             ]
            ],
            "type": "heatmap"
           }
          ],
          "heatmapgl": [
           {
            "colorbar": {
             "outlinewidth": 0,
             "ticks": ""
            },
            "colorscale": [
             [
              0,
              "#0d0887"
             ],
             [
              0.1111111111111111,
              "#46039f"
             ],
             [
              0.2222222222222222,
              "#7201a8"
             ],
             [
              0.3333333333333333,
              "#9c179e"
             ],
             [
              0.4444444444444444,
              "#bd3786"
             ],
             [
              0.5555555555555556,
              "#d8576b"
             ],
             [
              0.6666666666666666,
              "#ed7953"
             ],
             [
              0.7777777777777778,
              "#fb9f3a"
             ],
             [
              0.8888888888888888,
              "#fdca26"
             ],
             [
              1,
              "#f0f921"
             ]
            ],
            "type": "heatmapgl"
           }
          ],
          "histogram": [
           {
            "marker": {
             "colorbar": {
              "outlinewidth": 0,
              "ticks": ""
             }
            },
            "type": "histogram"
           }
          ],
          "histogram2d": [
           {
            "colorbar": {
             "outlinewidth": 0,
             "ticks": ""
            },
            "colorscale": [
             [
              0,
              "#0d0887"
             ],
             [
              0.1111111111111111,
              "#46039f"
             ],
             [
              0.2222222222222222,
              "#7201a8"
             ],
             [
              0.3333333333333333,
              "#9c179e"
             ],
             [
              0.4444444444444444,
              "#bd3786"
             ],
             [
              0.5555555555555556,
              "#d8576b"
             ],
             [
              0.6666666666666666,
              "#ed7953"
             ],
             [
              0.7777777777777778,
              "#fb9f3a"
             ],
             [
              0.8888888888888888,
              "#fdca26"
             ],
             [
              1,
              "#f0f921"
             ]
            ],
            "type": "histogram2d"
           }
          ],
          "histogram2dcontour": [
           {
            "colorbar": {
             "outlinewidth": 0,
             "ticks": ""
            },
            "colorscale": [
             [
              0,
              "#0d0887"
             ],
             [
              0.1111111111111111,
              "#46039f"
             ],
             [
              0.2222222222222222,
              "#7201a8"
             ],
             [
              0.3333333333333333,
              "#9c179e"
             ],
             [
              0.4444444444444444,
              "#bd3786"
             ],
             [
              0.5555555555555556,
              "#d8576b"
             ],
             [
              0.6666666666666666,
              "#ed7953"
             ],
             [
              0.7777777777777778,
              "#fb9f3a"
             ],
             [
              0.8888888888888888,
              "#fdca26"
             ],
             [
              1,
              "#f0f921"
             ]
            ],
            "type": "histogram2dcontour"
           }
          ],
          "mesh3d": [
           {
            "colorbar": {
             "outlinewidth": 0,
             "ticks": ""
            },
            "type": "mesh3d"
           }
          ],
          "parcoords": [
           {
            "line": {
             "colorbar": {
              "outlinewidth": 0,
              "ticks": ""
             }
            },
            "type": "parcoords"
           }
          ],
          "pie": [
           {
            "automargin": true,
            "type": "pie"
           }
          ],
          "scatter": [
           {
            "marker": {
             "colorbar": {
              "outlinewidth": 0,
              "ticks": ""
             }
            },
            "type": "scatter"
           }
          ],
          "scatter3d": [
           {
            "line": {
             "colorbar": {
              "outlinewidth": 0,
              "ticks": ""
             }
            },
            "marker": {
             "colorbar": {
              "outlinewidth": 0,
              "ticks": ""
             }
            },
            "type": "scatter3d"
           }
          ],
          "scattercarpet": [
           {
            "marker": {
             "colorbar": {
              "outlinewidth": 0,
              "ticks": ""
             }
            },
            "type": "scattercarpet"
           }
          ],
          "scattergeo": [
           {
            "marker": {
             "colorbar": {
              "outlinewidth": 0,
              "ticks": ""
             }
            },
            "type": "scattergeo"
           }
          ],
          "scattergl": [
           {
            "marker": {
             "colorbar": {
              "outlinewidth": 0,
              "ticks": ""
             }
            },
            "type": "scattergl"
           }
          ],
          "scattermapbox": [
           {
            "marker": {
             "colorbar": {
              "outlinewidth": 0,
              "ticks": ""
             }
            },
            "type": "scattermapbox"
           }
          ],
          "scatterpolar": [
           {
            "marker": {
             "colorbar": {
              "outlinewidth": 0,
              "ticks": ""
             }
            },
            "type": "scatterpolar"
           }
          ],
          "scatterpolargl": [
           {
            "marker": {
             "colorbar": {
              "outlinewidth": 0,
              "ticks": ""
             }
            },
            "type": "scatterpolargl"
           }
          ],
          "scatterternary": [
           {
            "marker": {
             "colorbar": {
              "outlinewidth": 0,
              "ticks": ""
             }
            },
            "type": "scatterternary"
           }
          ],
          "surface": [
           {
            "colorbar": {
             "outlinewidth": 0,
             "ticks": ""
            },
            "colorscale": [
             [
              0,
              "#0d0887"
             ],
             [
              0.1111111111111111,
              "#46039f"
             ],
             [
              0.2222222222222222,
              "#7201a8"
             ],
             [
              0.3333333333333333,
              "#9c179e"
             ],
             [
              0.4444444444444444,
              "#bd3786"
             ],
             [
              0.5555555555555556,
              "#d8576b"
             ],
             [
              0.6666666666666666,
              "#ed7953"
             ],
             [
              0.7777777777777778,
              "#fb9f3a"
             ],
             [
              0.8888888888888888,
              "#fdca26"
             ],
             [
              1,
              "#f0f921"
             ]
            ],
            "type": "surface"
           }
          ],
          "table": [
           {
            "cells": {
             "fill": {
              "color": "#EBF0F8"
             },
             "line": {
              "color": "white"
             }
            },
            "header": {
             "fill": {
              "color": "#C8D4E3"
             },
             "line": {
              "color": "white"
             }
            },
            "type": "table"
           }
          ]
         },
         "layout": {
          "annotationdefaults": {
           "arrowcolor": "#2a3f5f",
           "arrowhead": 0,
           "arrowwidth": 1
          },
          "autotypenumbers": "strict",
          "coloraxis": {
           "colorbar": {
            "outlinewidth": 0,
            "ticks": ""
           }
          },
          "colorscale": {
           "diverging": [
            [
             0,
             "#8e0152"
            ],
            [
             0.1,
             "#c51b7d"
            ],
            [
             0.2,
             "#de77ae"
            ],
            [
             0.3,
             "#f1b6da"
            ],
            [
             0.4,
             "#fde0ef"
            ],
            [
             0.5,
             "#f7f7f7"
            ],
            [
             0.6,
             "#e6f5d0"
            ],
            [
             0.7,
             "#b8e186"
            ],
            [
             0.8,
             "#7fbc41"
            ],
            [
             0.9,
             "#4d9221"
            ],
            [
             1,
             "#276419"
            ]
           ],
           "sequential": [
            [
             0,
             "#0d0887"
            ],
            [
             0.1111111111111111,
             "#46039f"
            ],
            [
             0.2222222222222222,
             "#7201a8"
            ],
            [
             0.3333333333333333,
             "#9c179e"
            ],
            [
             0.4444444444444444,
             "#bd3786"
            ],
            [
             0.5555555555555556,
             "#d8576b"
            ],
            [
             0.6666666666666666,
             "#ed7953"
            ],
            [
             0.7777777777777778,
             "#fb9f3a"
            ],
            [
             0.8888888888888888,
             "#fdca26"
            ],
            [
             1,
             "#f0f921"
            ]
           ],
           "sequentialminus": [
            [
             0,
             "#0d0887"
            ],
            [
             0.1111111111111111,
             "#46039f"
            ],
            [
             0.2222222222222222,
             "#7201a8"
            ],
            [
             0.3333333333333333,
             "#9c179e"
            ],
            [
             0.4444444444444444,
             "#bd3786"
            ],
            [
             0.5555555555555556,
             "#d8576b"
            ],
            [
             0.6666666666666666,
             "#ed7953"
            ],
            [
             0.7777777777777778,
             "#fb9f3a"
            ],
            [
             0.8888888888888888,
             "#fdca26"
            ],
            [
             1,
             "#f0f921"
            ]
           ]
          },
          "colorway": [
           "#636efa",
           "#EF553B",
           "#00cc96",
           "#ab63fa",
           "#FFA15A",
           "#19d3f3",
           "#FF6692",
           "#B6E880",
           "#FF97FF",
           "#FECB52"
          ],
          "font": {
           "color": "#2a3f5f"
          },
          "geo": {
           "bgcolor": "white",
           "lakecolor": "white",
           "landcolor": "#E5ECF6",
           "showlakes": true,
           "showland": true,
           "subunitcolor": "white"
          },
          "hoverlabel": {
           "align": "left"
          },
          "hovermode": "closest",
          "mapbox": {
           "style": "light"
          },
          "paper_bgcolor": "white",
          "plot_bgcolor": "#E5ECF6",
          "polar": {
           "angularaxis": {
            "gridcolor": "white",
            "linecolor": "white",
            "ticks": ""
           },
           "bgcolor": "#E5ECF6",
           "radialaxis": {
            "gridcolor": "white",
            "linecolor": "white",
            "ticks": ""
           }
          },
          "scene": {
           "xaxis": {
            "backgroundcolor": "#E5ECF6",
            "gridcolor": "white",
            "gridwidth": 2,
            "linecolor": "white",
            "showbackground": true,
            "ticks": "",
            "zerolinecolor": "white"
           },
           "yaxis": {
            "backgroundcolor": "#E5ECF6",
            "gridcolor": "white",
            "gridwidth": 2,
            "linecolor": "white",
            "showbackground": true,
            "ticks": "",
            "zerolinecolor": "white"
           },
           "zaxis": {
            "backgroundcolor": "#E5ECF6",
            "gridcolor": "white",
            "gridwidth": 2,
            "linecolor": "white",
            "showbackground": true,
            "ticks": "",
            "zerolinecolor": "white"
           }
          },
          "shapedefaults": {
           "line": {
            "color": "#2a3f5f"
           }
          },
          "ternary": {
           "aaxis": {
            "gridcolor": "white",
            "linecolor": "white",
            "ticks": ""
           },
           "baxis": {
            "gridcolor": "white",
            "linecolor": "white",
            "ticks": ""
           },
           "bgcolor": "#E5ECF6",
           "caxis": {
            "gridcolor": "white",
            "linecolor": "white",
            "ticks": ""
           }
          },
          "title": {
           "x": 0.05
          },
          "xaxis": {
           "automargin": true,
           "gridcolor": "white",
           "linecolor": "white",
           "ticks": "",
           "title": {
            "standoff": 15
           },
           "zerolinecolor": "white",
           "zerolinewidth": 2
          },
          "yaxis": {
           "automargin": true,
           "gridcolor": "white",
           "linecolor": "white",
           "ticks": "",
           "title": {
            "standoff": 15
           },
           "zerolinecolor": "white",
           "zerolinewidth": 2
          }
         }
        }
       }
      },
      "text/html": [
       "<div>                            <div id=\"54a6f02b-d33d-4399-ba67-a4605c858f40\" class=\"plotly-graph-div\" style=\"height:525px; width:100%;\"></div>            <script type=\"text/javascript\">                require([\"plotly\"], function(Plotly) {                    window.PLOTLYENV=window.PLOTLYENV || {};                                    if (document.getElementById(\"54a6f02b-d33d-4399-ba67-a4605c858f40\")) {                    Plotly.newPlot(                        \"54a6f02b-d33d-4399-ba67-a4605c858f40\",                        [{\"lat\": [35.5843317, 35.584334, 35.5843454, 35.5836931, 35.5836978, 35.5836931, 35.5829241, 35.5829271, 35.5829241, 35.5827526, 35.58201, 35.5819733, 35.5819707, 35.5819692, 35.5827637, 35.5843317], \"line\": {\"color\": \"grey\", \"width\": 4.5}, \"lon\": [-78.7982923, -78.7988587, -78.7998159, -78.7997882, -78.8000756, -78.7997882, -78.7997645, -78.8002157, -78.7997645, -78.7997627, -78.7997604, -78.7987076, -78.7984249, -78.7982676, -78.79827, -78.7982923], \"marker\": {\"size\": 10}, \"mode\": \"lines\", \"name\": \"Path\", \"type\": \"scattermapbox\"}, {\"lat\": [35.5843317], \"lon\": [-78.7982923], \"marker\": {\"color\": \"red\", \"size\": 12}, \"mode\": \"markers\", \"name\": \"Source\", \"type\": \"scattermapbox\"}, {\"lat\": [35.5843317], \"lon\": [-78.7982923], \"marker\": {\"color\": \"green\", \"size\": 12}, \"mode\": \"markers\", \"name\": \"Destination\", \"type\": \"scattermapbox\"}],                        {\"mapbox\": {\"center\": {\"lat\": 35.5831651, \"lon\": -78.79924056875}, \"style\": \"carto-darkmatter\", \"zoom\": 13}, \"margin\": {\"b\": 0, \"l\": 0, \"r\": 0, \"t\": 0}, \"template\": {\"data\": {\"bar\": [{\"error_x\": {\"color\": \"#2a3f5f\"}, \"error_y\": {\"color\": \"#2a3f5f\"}, \"marker\": {\"line\": {\"color\": \"#E5ECF6\", \"width\": 0.5}}, \"type\": \"bar\"}], \"barpolar\": [{\"marker\": {\"line\": {\"color\": \"#E5ECF6\", \"width\": 0.5}}, \"type\": \"barpolar\"}], \"carpet\": [{\"aaxis\": {\"endlinecolor\": \"#2a3f5f\", \"gridcolor\": \"white\", \"linecolor\": \"white\", \"minorgridcolor\": \"white\", \"startlinecolor\": \"#2a3f5f\"}, \"baxis\": {\"endlinecolor\": \"#2a3f5f\", \"gridcolor\": \"white\", \"linecolor\": \"white\", \"minorgridcolor\": \"white\", \"startlinecolor\": \"#2a3f5f\"}, \"type\": \"carpet\"}], \"choropleth\": [{\"colorbar\": {\"outlinewidth\": 0, \"ticks\": \"\"}, \"type\": \"choropleth\"}], \"contour\": [{\"colorbar\": {\"outlinewidth\": 0, \"ticks\": \"\"}, \"colorscale\": [[0.0, \"#0d0887\"], [0.1111111111111111, \"#46039f\"], [0.2222222222222222, \"#7201a8\"], [0.3333333333333333, \"#9c179e\"], [0.4444444444444444, \"#bd3786\"], [0.5555555555555556, \"#d8576b\"], [0.6666666666666666, \"#ed7953\"], [0.7777777777777778, \"#fb9f3a\"], [0.8888888888888888, \"#fdca26\"], [1.0, \"#f0f921\"]], \"type\": \"contour\"}], \"contourcarpet\": [{\"colorbar\": {\"outlinewidth\": 0, \"ticks\": \"\"}, \"type\": \"contourcarpet\"}], \"heatmap\": [{\"colorbar\": {\"outlinewidth\": 0, \"ticks\": \"\"}, \"colorscale\": [[0.0, \"#0d0887\"], [0.1111111111111111, \"#46039f\"], [0.2222222222222222, \"#7201a8\"], [0.3333333333333333, \"#9c179e\"], [0.4444444444444444, \"#bd3786\"], [0.5555555555555556, \"#d8576b\"], [0.6666666666666666, \"#ed7953\"], [0.7777777777777778, \"#fb9f3a\"], [0.8888888888888888, \"#fdca26\"], [1.0, \"#f0f921\"]], \"type\": \"heatmap\"}], \"heatmapgl\": [{\"colorbar\": {\"outlinewidth\": 0, \"ticks\": \"\"}, \"colorscale\": [[0.0, \"#0d0887\"], [0.1111111111111111, \"#46039f\"], [0.2222222222222222, \"#7201a8\"], [0.3333333333333333, \"#9c179e\"], [0.4444444444444444, \"#bd3786\"], [0.5555555555555556, \"#d8576b\"], [0.6666666666666666, \"#ed7953\"], [0.7777777777777778, \"#fb9f3a\"], [0.8888888888888888, \"#fdca26\"], [1.0, \"#f0f921\"]], \"type\": \"heatmapgl\"}], \"histogram\": [{\"marker\": {\"colorbar\": {\"outlinewidth\": 0, \"ticks\": \"\"}}, \"type\": \"histogram\"}], \"histogram2d\": [{\"colorbar\": {\"outlinewidth\": 0, \"ticks\": \"\"}, \"colorscale\": [[0.0, \"#0d0887\"], [0.1111111111111111, \"#46039f\"], [0.2222222222222222, \"#7201a8\"], [0.3333333333333333, \"#9c179e\"], [0.4444444444444444, \"#bd3786\"], [0.5555555555555556, \"#d8576b\"], [0.6666666666666666, \"#ed7953\"], [0.7777777777777778, \"#fb9f3a\"], [0.8888888888888888, \"#fdca26\"], [1.0, \"#f0f921\"]], \"type\": \"histogram2d\"}], \"histogram2dcontour\": [{\"colorbar\": {\"outlinewidth\": 0, \"ticks\": \"\"}, \"colorscale\": [[0.0, \"#0d0887\"], [0.1111111111111111, \"#46039f\"], [0.2222222222222222, \"#7201a8\"], [0.3333333333333333, \"#9c179e\"], [0.4444444444444444, \"#bd3786\"], [0.5555555555555556, \"#d8576b\"], [0.6666666666666666, \"#ed7953\"], [0.7777777777777778, \"#fb9f3a\"], [0.8888888888888888, \"#fdca26\"], [1.0, \"#f0f921\"]], \"type\": \"histogram2dcontour\"}], \"mesh3d\": [{\"colorbar\": {\"outlinewidth\": 0, \"ticks\": \"\"}, \"type\": \"mesh3d\"}], \"parcoords\": [{\"line\": {\"colorbar\": {\"outlinewidth\": 0, \"ticks\": \"\"}}, \"type\": \"parcoords\"}], \"pie\": [{\"automargin\": true, \"type\": \"pie\"}], \"scatter\": [{\"marker\": {\"colorbar\": {\"outlinewidth\": 0, \"ticks\": \"\"}}, \"type\": \"scatter\"}], \"scatter3d\": [{\"line\": {\"colorbar\": {\"outlinewidth\": 0, \"ticks\": \"\"}}, \"marker\": {\"colorbar\": {\"outlinewidth\": 0, \"ticks\": \"\"}}, \"type\": \"scatter3d\"}], \"scattercarpet\": [{\"marker\": {\"colorbar\": {\"outlinewidth\": 0, \"ticks\": \"\"}}, \"type\": \"scattercarpet\"}], \"scattergeo\": [{\"marker\": {\"colorbar\": {\"outlinewidth\": 0, \"ticks\": \"\"}}, \"type\": \"scattergeo\"}], \"scattergl\": [{\"marker\": {\"colorbar\": {\"outlinewidth\": 0, \"ticks\": \"\"}}, \"type\": \"scattergl\"}], \"scattermapbox\": [{\"marker\": {\"colorbar\": {\"outlinewidth\": 0, \"ticks\": \"\"}}, \"type\": \"scattermapbox\"}], \"scatterpolar\": [{\"marker\": {\"colorbar\": {\"outlinewidth\": 0, \"ticks\": \"\"}}, \"type\": \"scatterpolar\"}], \"scatterpolargl\": [{\"marker\": {\"colorbar\": {\"outlinewidth\": 0, \"ticks\": \"\"}}, \"type\": \"scatterpolargl\"}], \"scatterternary\": [{\"marker\": {\"colorbar\": {\"outlinewidth\": 0, \"ticks\": \"\"}}, \"type\": \"scatterternary\"}], \"surface\": [{\"colorbar\": {\"outlinewidth\": 0, \"ticks\": \"\"}, \"colorscale\": [[0.0, \"#0d0887\"], [0.1111111111111111, \"#46039f\"], [0.2222222222222222, \"#7201a8\"], [0.3333333333333333, \"#9c179e\"], [0.4444444444444444, \"#bd3786\"], [0.5555555555555556, \"#d8576b\"], [0.6666666666666666, \"#ed7953\"], [0.7777777777777778, \"#fb9f3a\"], [0.8888888888888888, \"#fdca26\"], [1.0, \"#f0f921\"]], \"type\": \"surface\"}], \"table\": [{\"cells\": {\"fill\": {\"color\": \"#EBF0F8\"}, \"line\": {\"color\": \"white\"}}, \"header\": {\"fill\": {\"color\": \"#C8D4E3\"}, \"line\": {\"color\": \"white\"}}, \"type\": \"table\"}]}, \"layout\": {\"annotationdefaults\": {\"arrowcolor\": \"#2a3f5f\", \"arrowhead\": 0, \"arrowwidth\": 1}, \"autotypenumbers\": \"strict\", \"coloraxis\": {\"colorbar\": {\"outlinewidth\": 0, \"ticks\": \"\"}}, \"colorscale\": {\"diverging\": [[0, \"#8e0152\"], [0.1, \"#c51b7d\"], [0.2, \"#de77ae\"], [0.3, \"#f1b6da\"], [0.4, \"#fde0ef\"], [0.5, \"#f7f7f7\"], [0.6, \"#e6f5d0\"], [0.7, \"#b8e186\"], [0.8, \"#7fbc41\"], [0.9, \"#4d9221\"], [1, \"#276419\"]], \"sequential\": [[0.0, \"#0d0887\"], [0.1111111111111111, \"#46039f\"], [0.2222222222222222, \"#7201a8\"], [0.3333333333333333, \"#9c179e\"], [0.4444444444444444, \"#bd3786\"], [0.5555555555555556, \"#d8576b\"], [0.6666666666666666, \"#ed7953\"], [0.7777777777777778, \"#fb9f3a\"], [0.8888888888888888, \"#fdca26\"], [1.0, \"#f0f921\"]], \"sequentialminus\": [[0.0, \"#0d0887\"], [0.1111111111111111, \"#46039f\"], [0.2222222222222222, \"#7201a8\"], [0.3333333333333333, \"#9c179e\"], [0.4444444444444444, \"#bd3786\"], [0.5555555555555556, \"#d8576b\"], [0.6666666666666666, \"#ed7953\"], [0.7777777777777778, \"#fb9f3a\"], [0.8888888888888888, \"#fdca26\"], [1.0, \"#f0f921\"]]}, \"colorway\": [\"#636efa\", \"#EF553B\", \"#00cc96\", \"#ab63fa\", \"#FFA15A\", \"#19d3f3\", \"#FF6692\", \"#B6E880\", \"#FF97FF\", \"#FECB52\"], \"font\": {\"color\": \"#2a3f5f\"}, \"geo\": {\"bgcolor\": \"white\", \"lakecolor\": \"white\", \"landcolor\": \"#E5ECF6\", \"showlakes\": true, \"showland\": true, \"subunitcolor\": \"white\"}, \"hoverlabel\": {\"align\": \"left\"}, \"hovermode\": \"closest\", \"mapbox\": {\"style\": \"light\"}, \"paper_bgcolor\": \"white\", \"plot_bgcolor\": \"#E5ECF6\", \"polar\": {\"angularaxis\": {\"gridcolor\": \"white\", \"linecolor\": \"white\", \"ticks\": \"\"}, \"bgcolor\": \"#E5ECF6\", \"radialaxis\": {\"gridcolor\": \"white\", \"linecolor\": \"white\", \"ticks\": \"\"}}, \"scene\": {\"xaxis\": {\"backgroundcolor\": \"#E5ECF6\", \"gridcolor\": \"white\", \"gridwidth\": 2, \"linecolor\": \"white\", \"showbackground\": true, \"ticks\": \"\", \"zerolinecolor\": \"white\"}, \"yaxis\": {\"backgroundcolor\": \"#E5ECF6\", \"gridcolor\": \"white\", \"gridwidth\": 2, \"linecolor\": \"white\", \"showbackground\": true, \"ticks\": \"\", \"zerolinecolor\": \"white\"}, \"zaxis\": {\"backgroundcolor\": \"#E5ECF6\", \"gridcolor\": \"white\", \"gridwidth\": 2, \"linecolor\": \"white\", \"showbackground\": true, \"ticks\": \"\", \"zerolinecolor\": \"white\"}}, \"shapedefaults\": {\"line\": {\"color\": \"#2a3f5f\"}}, \"ternary\": {\"aaxis\": {\"gridcolor\": \"white\", \"linecolor\": \"white\", \"ticks\": \"\"}, \"baxis\": {\"gridcolor\": \"white\", \"linecolor\": \"white\", \"ticks\": \"\"}, \"bgcolor\": \"#E5ECF6\", \"caxis\": {\"gridcolor\": \"white\", \"linecolor\": \"white\", \"ticks\": \"\"}}, \"title\": {\"x\": 0.05}, \"xaxis\": {\"automargin\": true, \"gridcolor\": \"white\", \"linecolor\": \"white\", \"ticks\": \"\", \"title\": {\"standoff\": 15}, \"zerolinecolor\": \"white\", \"zerolinewidth\": 2}, \"yaxis\": {\"automargin\": true, \"gridcolor\": \"white\", \"linecolor\": \"white\", \"ticks\": \"\", \"title\": {\"standoff\": 15}, \"zerolinecolor\": \"white\", \"zerolinewidth\": 2}}}},                        {\"responsive\": true}                    ).then(function(){\n",
       "                            \n",
       "var gd = document.getElementById('54a6f02b-d33d-4399-ba67-a4605c858f40');\n",
       "var x = new MutationObserver(function (mutations, observer) {{\n",
       "        var display = window.getComputedStyle(gd).display;\n",
       "        if (!display || display === 'none') {{\n",
       "            console.log([gd, 'removed!']);\n",
       "            Plotly.purge(gd);\n",
       "            observer.disconnect();\n",
       "        }}\n",
       "}});\n",
       "\n",
       "// Listen for the removal of the full notebook cells\n",
       "var notebookContainer = gd.closest('#notebook-container');\n",
       "if (notebookContainer) {{\n",
       "    x.observe(notebookContainer, {childList: true});\n",
       "}}\n",
       "\n",
       "// Listen for the clearing of the current output cell\n",
       "var outputEl = gd.closest('.output');\n",
       "if (outputEl) {{\n",
       "    x.observe(outputEl, {childList: true});\n",
       "}}\n",
       "\n",
       "                        })                };                });            </script>        </div>"
      ]
     },
     "metadata": {},
     "output_type": "display_data"
    }
   ],
   "source": [
    "plot_path(lat2, long2, origin_point2, destination_point2)"
   ]
  },
  {
   "cell_type": "code",
   "execution_count": 288,
   "id": "tired-module",
   "metadata": {},
   "outputs": [
    {
     "data": {
      "text/html": [
       "<div>\n",
       "<style scoped>\n",
       "    .dataframe tbody tr th:only-of-type {\n",
       "        vertical-align: middle;\n",
       "    }\n",
       "\n",
       "    .dataframe tbody tr th {\n",
       "        vertical-align: top;\n",
       "    }\n",
       "\n",
       "    .dataframe thead th {\n",
       "        text-align: right;\n",
       "    }\n",
       "</style>\n",
       "<table border=\"1\" class=\"dataframe\">\n",
       "  <thead>\n",
       "    <tr style=\"text-align: right;\">\n",
       "      <th></th>\n",
       "      <th>level_0</th>\n",
       "      <th>index</th>\n",
       "      <th>Nodes</th>\n",
       "      <th>Latitude</th>\n",
       "      <th>Longitude</th>\n",
       "    </tr>\n",
       "  </thead>\n",
       "  <tbody>\n",
       "    <tr>\n",
       "      <th>0</th>\n",
       "      <td>0</td>\n",
       "      <td>2.0</td>\n",
       "      <td>1.954386e+08</td>\n",
       "      <td>35.584332</td>\n",
       "      <td>-78.798292</td>\n",
       "    </tr>\n",
       "    <tr>\n",
       "      <th>1</th>\n",
       "      <td>1</td>\n",
       "      <td>8.0</td>\n",
       "      <td>6.359367e+09</td>\n",
       "      <td>35.584334</td>\n",
       "      <td>-78.798859</td>\n",
       "    </tr>\n",
       "    <tr>\n",
       "      <th>2</th>\n",
       "      <td>2</td>\n",
       "      <td>5.0</td>\n",
       "      <td>1.954475e+08</td>\n",
       "      <td>35.584345</td>\n",
       "      <td>-78.799816</td>\n",
       "    </tr>\n",
       "    <tr>\n",
       "      <th>3</th>\n",
       "      <td>3</td>\n",
       "      <td>4.0</td>\n",
       "      <td>1.954475e+08</td>\n",
       "      <td>35.583693</td>\n",
       "      <td>-78.799788</td>\n",
       "    </tr>\n",
       "    <tr>\n",
       "      <th>4</th>\n",
       "      <td>4</td>\n",
       "      <td>9.0</td>\n",
       "      <td>7.463971e+09</td>\n",
       "      <td>35.583698</td>\n",
       "      <td>-78.800076</td>\n",
       "    </tr>\n",
       "    <tr>\n",
       "      <th>5</th>\n",
       "      <td>5</td>\n",
       "      <td>14.0</td>\n",
       "      <td>1.954475e+08</td>\n",
       "      <td>35.583693</td>\n",
       "      <td>-78.799788</td>\n",
       "    </tr>\n",
       "    <tr>\n",
       "      <th>6</th>\n",
       "      <td>6</td>\n",
       "      <td>15.0</td>\n",
       "      <td>1.954475e+08</td>\n",
       "      <td>35.582924</td>\n",
       "      <td>-78.799764</td>\n",
       "    </tr>\n",
       "    <tr>\n",
       "      <th>7</th>\n",
       "      <td>7</td>\n",
       "      <td>10.0</td>\n",
       "      <td>7.472627e+09</td>\n",
       "      <td>35.582927</td>\n",
       "      <td>-78.800216</td>\n",
       "    </tr>\n",
       "    <tr>\n",
       "      <th>8</th>\n",
       "      <td>8</td>\n",
       "      <td>3.0</td>\n",
       "      <td>1.954475e+08</td>\n",
       "      <td>35.582924</td>\n",
       "      <td>-78.799764</td>\n",
       "    </tr>\n",
       "    <tr>\n",
       "      <th>9</th>\n",
       "      <td>9</td>\n",
       "      <td>7.0</td>\n",
       "      <td>1.955948e+08</td>\n",
       "      <td>35.582753</td>\n",
       "      <td>-78.799763</td>\n",
       "    </tr>\n",
       "    <tr>\n",
       "      <th>10</th>\n",
       "      <td>10</td>\n",
       "      <td>0.0</td>\n",
       "      <td>1.954383e+08</td>\n",
       "      <td>35.582010</td>\n",
       "      <td>-78.799760</td>\n",
       "    </tr>\n",
       "    <tr>\n",
       "      <th>11</th>\n",
       "      <td>11</td>\n",
       "      <td>13.0</td>\n",
       "      <td>8.739205e+09</td>\n",
       "      <td>35.581973</td>\n",
       "      <td>-78.798708</td>\n",
       "    </tr>\n",
       "    <tr>\n",
       "      <th>12</th>\n",
       "      <td>12</td>\n",
       "      <td>12.0</td>\n",
       "      <td>8.739205e+09</td>\n",
       "      <td>35.581971</td>\n",
       "      <td>-78.798425</td>\n",
       "    </tr>\n",
       "    <tr>\n",
       "      <th>13</th>\n",
       "      <td>13</td>\n",
       "      <td>1.0</td>\n",
       "      <td>1.954383e+08</td>\n",
       "      <td>35.581969</td>\n",
       "      <td>-78.798268</td>\n",
       "    </tr>\n",
       "    <tr>\n",
       "      <th>14</th>\n",
       "      <td>14</td>\n",
       "      <td>6.0</td>\n",
       "      <td>1.955009e+08</td>\n",
       "      <td>35.582764</td>\n",
       "      <td>-78.798270</td>\n",
       "    </tr>\n",
       "    <tr>\n",
       "      <th>15</th>\n",
       "      <td>0</td>\n",
       "      <td>2.0</td>\n",
       "      <td>1.954386e+08</td>\n",
       "      <td>35.584332</td>\n",
       "      <td>-78.798292</td>\n",
       "    </tr>\n",
       "  </tbody>\n",
       "</table>\n",
       "</div>"
      ],
      "text/plain": [
       "    level_0  index         Nodes   Latitude  Longitude\n",
       "0         0    2.0  1.954386e+08  35.584332 -78.798292\n",
       "1         1    8.0  6.359367e+09  35.584334 -78.798859\n",
       "2         2    5.0  1.954475e+08  35.584345 -78.799816\n",
       "3         3    4.0  1.954475e+08  35.583693 -78.799788\n",
       "4         4    9.0  7.463971e+09  35.583698 -78.800076\n",
       "5         5   14.0  1.954475e+08  35.583693 -78.799788\n",
       "6         6   15.0  1.954475e+08  35.582924 -78.799764\n",
       "7         7   10.0  7.472627e+09  35.582927 -78.800216\n",
       "8         8    3.0  1.954475e+08  35.582924 -78.799764\n",
       "9         9    7.0  1.955948e+08  35.582753 -78.799763\n",
       "10       10    0.0  1.954383e+08  35.582010 -78.799760\n",
       "11       11   13.0  8.739205e+09  35.581973 -78.798708\n",
       "12       12   12.0  8.739205e+09  35.581971 -78.798425\n",
       "13       13    1.0  1.954383e+08  35.581969 -78.798268\n",
       "14       14    6.0  1.955009e+08  35.582764 -78.798270\n",
       "15        0    2.0  1.954386e+08  35.584332 -78.798292"
      ]
     },
     "execution_count": 288,
     "metadata": {},
     "output_type": "execute_result"
    }
   ],
   "source": [
    "df3"
   ]
  },
  {
   "cell_type": "code",
   "execution_count": null,
   "id": "known-workshop",
   "metadata": {},
   "outputs": [],
   "source": []
  }
 ],
 "metadata": {
  "kernelspec": {
   "display_name": "Python 3",
   "language": "python",
   "name": "python3"
  },
  "language_info": {
   "codemirror_mode": {
    "name": "ipython",
    "version": 3
   },
   "file_extension": ".py",
   "mimetype": "text/x-python",
   "name": "python",
   "nbconvert_exporter": "python",
   "pygments_lexer": "ipython3",
   "version": "3.8.8"
  }
 },
 "nbformat": 4,
 "nbformat_minor": 5
}
