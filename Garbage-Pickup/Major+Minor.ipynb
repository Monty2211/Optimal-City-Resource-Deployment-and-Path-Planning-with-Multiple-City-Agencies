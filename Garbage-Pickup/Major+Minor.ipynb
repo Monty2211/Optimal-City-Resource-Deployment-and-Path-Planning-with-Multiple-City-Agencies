{
 "cells": [
  {
   "cell_type": "code",
   "execution_count": 4,
   "id": "threatened-effects",
   "metadata": {},
   "outputs": [],
   "source": [
    "import osmnx as ox\n",
    "import matplotlib.pyplot as plt\n",
    "import pandas as pd\n",
    "from geopy import distance\n",
    "import requests\n",
    "import json\n",
    "import datetime\n",
    "import math\n",
    "import itertools\n",
    "import numpy as np\n",
    "import networkx as nx\n",
    "import plotly.graph_objects as go\n",
    "from pulp import *\n",
    "import seaborn as sn\n",
    "from ortools.constraint_solver import routing_enums_pb2\n",
    "from ortools.constraint_solver import pywrapcp\n",
    "import random"
   ]
  },
  {
   "cell_type": "code",
   "execution_count": 20,
   "id": "choice-poultry",
   "metadata": {},
   "outputs": [
    {
     "data": {
      "image/png": "[encoded data removed]",
      "text/plain": [
       "<Figure size 576x576 with 1 Axes>"
      ]
     },
     "metadata": {},
     "output_type": "display_data"
    },
    {
     "data": {
      "application/vnd.plotly.v1+json": {
       "config": {
        "plotlyServerURL": "https://plot.ly"
       },
       "data": [
        {
         "lat": [
          35.5675956,
          35.5676306,
          35.5677218,
          35.5677522,
          35.5678222,
          35.5678703,
          35.5679118,
          35.5679782,
          35.5680488,
          35.568112,
          35.568699,
          35.5689755,
          35.5690585,
          35.5690585,
          35.5690743,
          35.5692139,
          35.5692139,
          35.5679081,
          35.5679081,
          35.5673494,
          35.5673494,
          35.5679081,
          35.5679081,
          35.5679882,
          35.5680303,
          35.5680303,
          35.5679882,
          35.5679081,
          35.5679081,
          35.5692139,
          35.5692139,
          35.569436,
          35.5694585,
          35.5694643,
          35.5694643,
          35.5694585,
          35.5694585,
          35.5694643,
          35.5694643,
          35.5685272,
          35.5683425,
          35.5680671,
          35.5680671,
          35.5683425,
          35.5685272,
          35.5694643,
          35.5694643,
          35.5694585,
          35.569436,
          35.5692139,
          35.5692139,
          35.5690743,
          35.5690585,
          35.5690585,
          35.5689755,
          35.568699,
          35.568112,
          35.5680488,
          35.5679782,
          35.5679118,
          35.5678703,
          35.5678222,
          35.5677522,
          35.5677218,
          35.5676306,
          35.5675956,
          35.5675956,
          35.5675288,
          35.5674454,
          35.5673623,
          35.5672457,
          35.5670056,
          35.5670056,
          35.5669838,
          35.5669484,
          35.566949,
          35.5670259,
          35.5670259,
          35.566949,
          35.5669484,
          35.5669838,
          35.5670056,
          35.5670056,
          35.5672457,
          35.5673623,
          35.5674454,
          35.5675288,
          35.5675956
         ],
         "line": {
          "color": "grey",
          "width": 4.5
         },
         "lon": [
          -78.8089909,
          -78.8089262,
          -78.8087575,
          -78.8086577,
          -78.8083489,
          -78.8082478,
          -78.8081972,
          -78.8081524,
          -78.8081301,
          -78.8081305,
          -78.8082866,
          -78.8083598,
          -78.8083818,
          -78.8083818,
          -78.8082864,
          -78.8074274,
          -78.8074274,
          -78.8070709,
          -78.8070709,
          -78.8069184,
          -78.8069184,
          -78.8070709,
          -78.8070709,
          -78.8066112,
          -78.8062902,
          -78.8062902,
          -78.8066112,
          -78.8070709,
          -78.8070709,
          -78.8074274,
          -78.8074274,
          -78.8060612,
          -78.8059058,
          -78.8057714,
          -78.8057714,
          -78.8052122,
          -78.8052122,
          -78.8057714,
          -78.8057714,
          -78.8057913,
          -78.8057862,
          -78.8056218,
          -78.8056218,
          -78.8057862,
          -78.8057913,
          -78.8057714,
          -78.8057714,
          -78.8059058,
          -78.8060612,
          -78.8074274,
          -78.8074274,
          -78.8082864,
          -78.8083818,
          -78.8083818,
          -78.8083598,
          -78.8082866,
          -78.8081305,
          -78.8081301,
          -78.8081524,
          -78.8081972,
          -78.8082478,
          -78.8083489,
          -78.8086577,
          -78.8087575,
          -78.8089262,
          -78.8089909,
          -78.8089909,
          -78.808946,
          -78.8089079,
          -78.8088961,
          -78.8089109,
          -78.808993,
          -78.808993,
          -78.8089,
          -78.8087493,
          -78.8086293,
          -78.8082313,
          -78.8082313,
          -78.8086293,
          -78.8087493,
          -78.8089,
          -78.808993,
          -78.808993,
          -78.8089109,
          -78.8088961,
          -78.8089079,
          -78.808946,
          -78.8089909
         ],
         "marker": {
          "size": 10
         },
         "mode": "lines",
         "name": "Path",
         "type": "scattermapbox"
        },
        {
         "lat": [
          35.5675956
         ],
         "lon": [
          -78.8089909
         ],
         "marker": {
          "color": "red",
          "size": 12
         },
         "mode": "markers",
         "name": "Source",
         "type": "scattermapbox"
        },
        {
         "lat": [
          35.5675956
         ],
         "lon": [
          -78.8089909
         ],
         "marker": {
          "color": "green",
          "size": 12
         },
         "mode": "markers",
         "name": "Destination",
         "type": "scattermapbox"
        }
       ],
       "layout": {
        "mapbox": {
         "center": {
          "lat": 35.568155045454546,
          "lon": -78.80769069772728
         },
         "style": "carto-darkmatter",
         "zoom": 13
        },
        "margin": {
         "b": 0,
         "l": 0,
         "r": 0,
         "t": 0
        },
        "template": {
         "data": {
          "bar": [
           {
            "error_x": {
             "color": "#2a3f5f"
            },
            "error_y": {
             "color": "#2a3f5f"
            },
            "marker": {
             "line": {
              "color": "#E5ECF6",
              "width": 0.5
             }
            },
            "type": "bar"
           }
          ],
          "barpolar": [
           {
            "marker": {
             "line": {
              "color": "#E5ECF6",
              "width": 0.5
             }
            },
            "type": "barpolar"
           }
          ],
          "carpet": [
           {
            "aaxis": {
             "endlinecolor": "#2a3f5f",
             "gridcolor": "white",
             "linecolor": "white",
             "minorgridcolor": "white",
             "startlinecolor": "#2a3f5f"
            },
            "baxis": {
             "endlinecolor": "#2a3f5f",
             "gridcolor": "white",
             "linecolor": "white",
             "minorgridcolor": "white",
             "startlinecolor": "#2a3f5f"
            },
            "type": "carpet"
           }
          ],
          "choropleth": [
           {
            "colorbar": {
             "outlinewidth": 0,
             "ticks": ""
            },
            "type": "choropleth"
           }
          ],
          "contour": [
           {
            "colorbar": {
             "outlinewidth": 0,
             "ticks": ""
            },
            "colorscale": [
             [
              0,
              "#0d0887"
             ],
             [
              0.1111111111111111,
              "#46039f"
             ],
             [
              0.2222222222222222,
              "#7201a8"
             ],
             [
              0.3333333333333333,
              "#9c179e"
             ],
             [
              0.4444444444444444,
              "#bd3786"
             ],
             [
              0.5555555555555556,
              "#d8576b"
             ],
             [
              0.6666666666666666,
              "#ed7953"
             ],
             [
              0.7777777777777778,
              "#fb9f3a"
             ],
             [
              0.8888888888888888,
              "#fdca26"
             ],
             [
              1,
              "#f0f921"
             ]
            ],
            "type": "contour"
           }
          ],
          "contourcarpet": [
           {
            "colorbar": {
             "outlinewidth": 0,
             "ticks": ""
            },
            "type": "contourcarpet"
           }
          ],
          "heatmap": [
           {
            "colorbar": {
             "outlinewidth": 0,
             "ticks": ""
            },
            "colorscale": [
             [
              0,
              "#0d0887"
             ],
             [
              0.1111111111111111,
              "#46039f"
             ],
             [
              0.2222222222222222,
              "#7201a8"
             ],
             [
              0.3333333333333333,
              "#9c179e"
             ],
             [
              0.4444444444444444,
              "#bd3786"
             ],
             [
              0.5555555555555556,
              "#d8576b"
             ],
             [
              0.6666666666666666,
              "#ed7953"
             ],
             [
              0.7777777777777778,
              "#fb9f3a"
             ],
             [
              0.8888888888888888,
              "#fdca26"
             ],
             [
              1,
              "#f0f921"
             ]
            ],
            "type": "heatmap"
           }
          ],
          "heatmapgl": [
           {
            "colorbar": {
             "outlinewidth": 0,
             "ticks": ""
            },
            "colorscale": [
             [
              0,
              "#0d0887"
             ],
             [
              0.1111111111111111,
              "#46039f"
             ],
             [
              0.2222222222222222,
              "#7201a8"
             ],
             [
              0.3333333333333333,
              "#9c179e"
             ],
             [
              0.4444444444444444,
              "#bd3786"
             ],
             [
              0.5555555555555556,
              "#d8576b"
             ],
             [
              0.6666666666666666,
              "#ed7953"
             ],
             [
              0.7777777777777778,
              "#fb9f3a"
             ],
             [
              0.8888888888888888,
              "#fdca26"
             ],
             [
              1,
              "#f0f921"
             ]
            ],
            "type": "heatmapgl"
           }
          ],
          "histogram": [
           {
            "marker": {
             "colorbar": {
              "outlinewidth": 0,
              "ticks": ""
             }
            },
            "type": "histogram"
           }
          ],
          "histogram2d": [
           {
            "colorbar": {
             "outlinewidth": 0,
             "ticks": ""
            },
            "colorscale": [
             [
              0,
              "#0d0887"
             ],
             [
              0.1111111111111111,
              "#46039f"
             ],
             [
              0.2222222222222222,
              "#7201a8"
             ],
             [
              0.3333333333333333,
              "#9c179e"
             ],
             [
              0.4444444444444444,
              "#bd3786"
             ],
             [
              0.5555555555555556,
              "#d8576b"
             ],
             [
              0.6666666666666666,
              "#ed7953"
             ],
             [
              0.7777777777777778,
              "#fb9f3a"
             ],
             [
              0.8888888888888888,
              "#fdca26"
             ],
             [
              1,
              "#f0f921"
             ]
            ],
            "type": "histogram2d"
           }
          ],
          "histogram2dcontour": [
           {
            "colorbar": {
             "outlinewidth": 0,
             "ticks": ""
            },
            "colorscale": [
             [
              0,
              "#0d0887"
             ],
             [
              0.1111111111111111,
              "#46039f"
             ],
             [
              0.2222222222222222,
              "#7201a8"
             ],
             [
              0.3333333333333333,
              "#9c179e"
             ],
             [
              0.4444444444444444,
              "#bd3786"
             ],
             [
              0.5555555555555556,
              "#d8576b"
             ],
             [
              0.6666666666666666,
              "#ed7953"
             ],
             [
              0.7777777777777778,
              "#fb9f3a"
             ],
             [
              0.8888888888888888,
              "#fdca26"
             ],
             [
              1,
              "#f0f921"
             ]
            ],
            "type": "histogram2dcontour"
           }
          ],
          "mesh3d": [
           {
            "colorbar": {
             "outlinewidth": 0,
             "ticks": ""
            },
            "type": "mesh3d"
           }
          ],
          "parcoords": [
           {
            "line": {
             "colorbar": {
              "outlinewidth": 0,
              "ticks": ""
             }
            },
            "type": "parcoords"
           }
          ],
          "pie": [
           {
            "automargin": true,
            "type": "pie"
           }
          ],
          "scatter": [
           {
            "marker": {
             "colorbar": {
              "outlinewidth": 0,
              "ticks": ""
             }
            },
            "type": "scatter"
           }
          ],
          "scatter3d": [
           {
            "line": {
             "colorbar": {
              "outlinewidth": 0,
              "ticks": ""
             }
            },
            "marker": {
             "colorbar": {
              "outlinewidth": 0,
              "ticks": ""
             }
            },
            "type": "scatter3d"
           }
          ],
          "scattercarpet": [
           {
            "marker": {
             "colorbar": {
              "outlinewidth": 0,
              "ticks": ""
             }
            },
            "type": "scattercarpet"
           }
          ],
          "scattergeo": [
           {
            "marker": {
             "colorbar": {
              "outlinewidth": 0,
              "ticks": ""
             }
            },
            "type": "scattergeo"
           }
          ],
          "scattergl": [
           {
            "marker": {
             "colorbar": {
              "outlinewidth": 0,
              "ticks": ""
             }
            },
            "type": "scattergl"
           }
          ],
          "scattermapbox": [
           {
            "marker": {
             "colorbar": {
              "outlinewidth": 0,
              "ticks": ""
             }
            },
            "type": "scattermapbox"
           }
          ],
          "scatterpolar": [
           {
            "marker": {
             "colorbar": {
              "outlinewidth": 0,
              "ticks": ""
             }
            },
            "type": "scatterpolar"
           }
          ],
          "scatterpolargl": [
           {
            "marker": {
             "colorbar": {
              "outlinewidth": 0,
              "ticks": ""
             }
            },
            "type": "scatterpolargl"
           }
          ],
          "scatterternary": [
           {
            "marker": {
             "colorbar": {
              "outlinewidth": 0,
              "ticks": ""
             }
            },
            "type": "scatterternary"
           }
          ],
          "surface": [
           {
            "colorbar": {
             "outlinewidth": 0,
             "ticks": ""
            },
            "colorscale": [
             [
              0,
              "#0d0887"
             ],
             [
              0.1111111111111111,
              "#46039f"
             ],
             [
              0.2222222222222222,
              "#7201a8"
             ],
             [
              0.3333333333333333,
              "#9c179e"
             ],
             [
              0.4444444444444444,
              "#bd3786"
             ],
             [
              0.5555555555555556,
              "#d8576b"
             ],
             [
              0.6666666666666666,
              "#ed7953"
             ],
             [
              0.7777777777777778,
              "#fb9f3a"
             ],
             [
              0.8888888888888888,
              "#fdca26"
             ],
             [
              1,
              "#f0f921"
             ]
            ],
            "type": "surface"
           }
          ],
          "table": [
           {
            "cells": {
             "fill": {
              "color": "#EBF0F8"
             },
             "line": {
              "color": "white"
             }
            },
            "header": {
             "fill": {
              "color": "#C8D4E3"
             },
             "line": {
              "color": "white"
             }
            },
            "type": "table"
           }
          ]
         },
         "layout": {
          "annotationdefaults": {
           "arrowcolor": "#2a3f5f",
           "arrowhead": 0,
           "arrowwidth": 1
          },
          "autotypenumbers": "strict",
          "coloraxis": {
           "colorbar": {
            "outlinewidth": 0,
            "ticks": ""
           }
          },
          "colorscale": {
           "diverging": [
            [
             0,
             "#8e0152"
            ],
            [
             0.1,
             "#c51b7d"
            ],
            [
             0.2,
             "#de77ae"
            ],
            [
             0.3,
             "#f1b6da"
            ],
            [
             0.4,
             "#fde0ef"
            ],
            [
             0.5,
             "#f7f7f7"
            ],
            [
             0.6,
             "#e6f5d0"
            ],
            [
             0.7,
             "#b8e186"
            ],
            [
             0.8,
             "#7fbc41"
            ],
            [
             0.9,
             "#4d9221"
            ],
            [
             1,
             "#276419"
            ]
           ],
           "sequential": [
            [
             0,
             "#0d0887"
            ],
            [
             0.1111111111111111,
             "#46039f"
            ],
            [
             0.2222222222222222,
             "#7201a8"
            ],
            [
             0.3333333333333333,
             "#9c179e"
            ],
            [
             0.4444444444444444,
             "#bd3786"
            ],
            [
             0.5555555555555556,
             "#d8576b"
            ],
            [
             0.6666666666666666,
             "#ed7953"
            ],
            [
             0.7777777777777778,
             "#fb9f3a"
            ],
            [
             0.8888888888888888,
             "#fdca26"
            ],
            [
             1,
             "#f0f921"
            ]
           ],
           "sequentialminus": [
            [
             0,
             "#0d0887"
            ],
            [
             0.1111111111111111,
             "#46039f"
            ],
            [
             0.2222222222222222,
             "#7201a8"
            ],
            [
             0.3333333333333333,
             "#9c179e"
            ],
            [
             0.4444444444444444,
             "#bd3786"
            ],
            [
             0.5555555555555556,
             "#d8576b"
            ],
            [
             0.6666666666666666,
             "#ed7953"
            ],
            [
             0.7777777777777778,
             "#fb9f3a"
            ],
            [
             0.8888888888888888,
             "#fdca26"
            ],
            [
             1,
             "#f0f921"
            ]
           ]
          },
          "colorway": [
           "#636efa",
           "#EF553B",
           "#00cc96",
           "#ab63fa",
           "#FFA15A",
           "#19d3f3",
           "#FF6692",
           "#B6E880",
           "#FF97FF",
           "#FECB52"
          ],
          "font": {
           "color": "#2a3f5f"
          },
          "geo": {
           "bgcolor": "white",
           "lakecolor": "white",
           "landcolor": "#E5ECF6",
           "showlakes": true,
           "showland": true,
           "subunitcolor": "white"
          },
          "hoverlabel": {
           "align": "left"
          },
          "hovermode": "closest",
          "mapbox": {
           "style": "light"
          },
          "paper_bgcolor": "white",
          "plot_bgcolor": "#E5ECF6",
          "polar": {
           "angularaxis": {
            "gridcolor": "white",
            "linecolor": "white",
            "ticks": ""
           },
           "bgcolor": "#E5ECF6",
           "radialaxis": {
            "gridcolor": "white",
            "linecolor": "white",
            "ticks": ""
           }
          },
          "scene": {
           "xaxis": {
            "backgroundcolor": "#E5ECF6",
            "gridcolor": "white",
            "gridwidth": 2,
            "linecolor": "white",
            "showbackground": true,
            "ticks": "",
            "zerolinecolor": "white"
           },
           "yaxis": {
            "backgroundcolor": "#E5ECF6",
            "gridcolor": "white",
            "gridwidth": 2,
            "linecolor": "white",
            "showbackground": true,
            "ticks": "",
            "zerolinecolor": "white"
           },
           "zaxis": {
            "backgroundcolor": "#E5ECF6",
            "gridcolor": "white",
            "gridwidth": 2,
            "linecolor": "white",
            "showbackground": true,
            "ticks": "",
            "zerolinecolor": "white"
           }
          },
          "shapedefaults": {
           "line": {
            "color": "#2a3f5f"
           }
          },
          "ternary": {
           "aaxis": {
            "gridcolor": "white",
            "linecolor": "white",
            "ticks": ""
           },
           "baxis": {
            "gridcolor": "white",
            "linecolor": "white",
            "ticks": ""
           },
           "bgcolor": "#E5ECF6",
           "caxis": {
            "gridcolor": "white",
            "linecolor": "white",
            "ticks": ""
           }
          },
          "title": {
           "x": 0.05
          },
          "xaxis": {
           "automargin": true,
           "gridcolor": "white",
           "linecolor": "white",
           "ticks": "",
           "title": {
            "standoff": 15
           },
           "zerolinecolor": "white",
           "zerolinewidth": 2
          },
          "yaxis": {
           "automargin": true,
           "gridcolor": "white",
           "linecolor": "white",
           "ticks": "",
           "title": {
            "standoff": 15
           },
           "zerolinecolor": "white",
           "zerolinewidth": 2
          }
         }
        }
       }
      },
      "text/html": [
       "<div>                            <div id=\"62f39115-d5c3-4402-82be-614b29ef3ed5\" class=\"plotly-graph-div\" style=\"height:525px; width:100%;\"></div>            <script type=\"text/javascript\">                require([\"plotly\"], function(Plotly) {                    window.PLOTLYENV=window.PLOTLYENV || {};                                    if (document.getElementById(\"62f39115-d5c3-4402-82be-614b29ef3ed5\")) {                    Plotly.newPlot(                        \"62f39115-d5c3-4402-82be-614b29ef3ed5\",                        [{\"lat\": [35.5675956, 35.5676306, 35.5677218, 35.5677522, 35.5678222, 35.5678703, 35.5679118, 35.5679782, 35.5680488, 35.568112, 35.568699, 35.5689755, 35.5690585, 35.5690585, 35.5690743, 35.5692139, 35.5692139, 35.5679081, 35.5679081, 35.5673494, 35.5673494, 35.5679081, 35.5679081, 35.5679882, 35.5680303, 35.5680303, 35.5679882, 35.5679081, 35.5679081, 35.5692139, 35.5692139, 35.569436, 35.5694585, 35.5694643, 35.5694643, 35.5694585, 35.5694585, 35.5694643, 35.5694643, 35.5685272, 35.5683425, 35.5680671, 35.5680671, 35.5683425, 35.5685272, 35.5694643, 35.5694643, 35.5694585, 35.569436, 35.5692139, 35.5692139, 35.5690743, 35.5690585, 35.5690585, 35.5689755, 35.568699, 35.568112, 35.5680488, 35.5679782, 35.5679118, 35.5678703, 35.5678222, 35.5677522, 35.5677218, 35.5676306, 35.5675956, 35.5675956, 35.5675288, 35.5674454, 35.5673623, 35.5672457, 35.5670056, 35.5670056, 35.5669838, 35.5669484, 35.566949, 35.5670259, 35.5670259, 35.566949, 35.5669484, 35.5669838, 35.5670056, 35.5670056, 35.5672457, 35.5673623, 35.5674454, 35.5675288, 35.5675956], \"line\": {\"color\": \"grey\", \"width\": 4.5}, \"lon\": [-78.8089909, -78.8089262, -78.8087575, -78.8086577, -78.8083489, -78.8082478, -78.8081972, -78.8081524, -78.8081301, -78.8081305, -78.8082866, -78.8083598, -78.8083818, -78.8083818, -78.8082864, -78.8074274, -78.8074274, -78.8070709, -78.8070709, -78.8069184, -78.8069184, -78.8070709, -78.8070709, -78.8066112, -78.8062902, -78.8062902, -78.8066112, -78.8070709, -78.8070709, -78.8074274, -78.8074274, -78.8060612, -78.8059058, -78.8057714, -78.8057714, -78.8052122, -78.8052122, -78.8057714, -78.8057714, -78.8057913, -78.8057862, -78.8056218, -78.8056218, -78.8057862, -78.8057913, -78.8057714, -78.8057714, -78.8059058, -78.8060612, -78.8074274, -78.8074274, -78.8082864, -78.8083818, -78.8083818, -78.8083598, -78.8082866, -78.8081305, -78.8081301, -78.8081524, -78.8081972, -78.8082478, -78.8083489, -78.8086577, -78.8087575, -78.8089262, -78.8089909, -78.8089909, -78.808946, -78.8089079, -78.8088961, -78.8089109, -78.808993, -78.808993, -78.8089, -78.8087493, -78.8086293, -78.8082313, -78.8082313, -78.8086293, -78.8087493, -78.8089, -78.808993, -78.808993, -78.8089109, -78.8088961, -78.8089079, -78.808946, -78.8089909], \"marker\": {\"size\": 10}, \"mode\": \"lines\", \"name\": \"Path\", \"type\": \"scattermapbox\"}, {\"lat\": [35.5675956], \"lon\": [-78.8089909], \"marker\": {\"color\": \"red\", \"size\": 12}, \"mode\": \"markers\", \"name\": \"Source\", \"type\": \"scattermapbox\"}, {\"lat\": [35.5675956], \"lon\": [-78.8089909], \"marker\": {\"color\": \"green\", \"size\": 12}, \"mode\": \"markers\", \"name\": \"Destination\", \"type\": \"scattermapbox\"}],                        {\"mapbox\": {\"center\": {\"lat\": 35.568155045454546, \"lon\": -78.80769069772728}, \"style\": \"carto-darkmatter\", \"zoom\": 13}, \"margin\": {\"b\": 0, \"l\": 0, \"r\": 0, \"t\": 0}, \"template\": {\"data\": {\"bar\": [{\"error_x\": {\"color\": \"#2a3f5f\"}, \"error_y\": {\"color\": \"#2a3f5f\"}, \"marker\": {\"line\": {\"color\": \"#E5ECF6\", \"width\": 0.5}}, \"type\": \"bar\"}], \"barpolar\": [{\"marker\": {\"line\": {\"color\": \"#E5ECF6\", \"width\": 0.5}}, \"type\": \"barpolar\"}], \"carpet\": [{\"aaxis\": {\"endlinecolor\": \"#2a3f5f\", \"gridcolor\": \"white\", \"linecolor\": \"white\", \"minorgridcolor\": \"white\", \"startlinecolor\": \"#2a3f5f\"}, \"baxis\": {\"endlinecolor\": \"#2a3f5f\", \"gridcolor\": \"white\", \"linecolor\": \"white\", \"minorgridcolor\": \"white\", \"startlinecolor\": \"#2a3f5f\"}, \"type\": \"carpet\"}], \"choropleth\": [{\"colorbar\": {\"outlinewidth\": 0, \"ticks\": \"\"}, \"type\": \"choropleth\"}], \"contour\": [{\"colorbar\": {\"outlinewidth\": 0, \"ticks\": \"\"}, \"colorscale\": [[0.0, \"#0d0887\"], [0.1111111111111111, \"#46039f\"], [0.2222222222222222, \"#7201a8\"], [0.3333333333333333, \"#9c179e\"], [0.4444444444444444, \"#bd3786\"], [0.5555555555555556, \"#d8576b\"], [0.6666666666666666, \"#ed7953\"], [0.7777777777777778, \"#fb9f3a\"], [0.8888888888888888, \"#fdca26\"], [1.0, \"#f0f921\"]], \"type\": \"contour\"}], \"contourcarpet\": [{\"colorbar\": {\"outlinewidth\": 0, \"ticks\": \"\"}, \"type\": \"contourcarpet\"}], \"heatmap\": [{\"colorbar\": {\"outlinewidth\": 0, \"ticks\": \"\"}, \"colorscale\": [[0.0, \"#0d0887\"], [0.1111111111111111, \"#46039f\"], [0.2222222222222222, \"#7201a8\"], [0.3333333333333333, \"#9c179e\"], [0.4444444444444444, \"#bd3786\"], [0.5555555555555556, \"#d8576b\"], [0.6666666666666666, \"#ed7953\"], [0.7777777777777778, \"#fb9f3a\"], [0.8888888888888888, \"#fdca26\"], [1.0, \"#f0f921\"]], \"type\": \"heatmap\"}], \"heatmapgl\": [{\"colorbar\": {\"outlinewidth\": 0, \"ticks\": \"\"}, \"colorscale\": [[0.0, \"#0d0887\"], [0.1111111111111111, \"#46039f\"], [0.2222222222222222, \"#7201a8\"], [0.3333333333333333, \"#9c179e\"], [0.4444444444444444, \"#bd3786\"], [0.5555555555555556, \"#d8576b\"], [0.6666666666666666, \"#ed7953\"], [0.7777777777777778, \"#fb9f3a\"], [0.8888888888888888, \"#fdca26\"], [1.0, \"#f0f921\"]], \"type\": \"heatmapgl\"}], \"histogram\": [{\"marker\": {\"colorbar\": {\"outlinewidth\": 0, \"ticks\": \"\"}}, \"type\": \"histogram\"}], \"histogram2d\": [{\"colorbar\": {\"outlinewidth\": 0, \"ticks\": \"\"}, \"colorscale\": [[0.0, \"#0d0887\"], [0.1111111111111111, \"#46039f\"], [0.2222222222222222, \"#7201a8\"], [0.3333333333333333, \"#9c179e\"], [0.4444444444444444, \"#bd3786\"], [0.5555555555555556, \"#d8576b\"], [0.6666666666666666, \"#ed7953\"], [0.7777777777777778, \"#fb9f3a\"], [0.8888888888888888, \"#fdca26\"], [1.0, \"#f0f921\"]], \"type\": \"histogram2d\"}], \"histogram2dcontour\": [{\"colorbar\": {\"outlinewidth\": 0, \"ticks\": \"\"}, \"colorscale\": [[0.0, \"#0d0887\"], [0.1111111111111111, \"#46039f\"], [0.2222222222222222, \"#7201a8\"], [0.3333333333333333, \"#9c179e\"], [0.4444444444444444, \"#bd3786\"], [0.5555555555555556, \"#d8576b\"], [0.6666666666666666, \"#ed7953\"], [0.7777777777777778, \"#fb9f3a\"], [0.8888888888888888, \"#fdca26\"], [1.0, \"#f0f921\"]], \"type\": \"histogram2dcontour\"}], \"mesh3d\": [{\"colorbar\": {\"outlinewidth\": 0, \"ticks\": \"\"}, \"type\": \"mesh3d\"}], \"parcoords\": [{\"line\": {\"colorbar\": {\"outlinewidth\": 0, \"ticks\": \"\"}}, \"type\": \"parcoords\"}], \"pie\": [{\"automargin\": true, \"type\": \"pie\"}], \"scatter\": [{\"marker\": {\"colorbar\": {\"outlinewidth\": 0, \"ticks\": \"\"}}, \"type\": \"scatter\"}], \"scatter3d\": [{\"line\": {\"colorbar\": {\"outlinewidth\": 0, \"ticks\": \"\"}}, \"marker\": {\"colorbar\": {\"outlinewidth\": 0, \"ticks\": \"\"}}, \"type\": \"scatter3d\"}], \"scattercarpet\": [{\"marker\": {\"colorbar\": {\"outlinewidth\": 0, \"ticks\": \"\"}}, \"type\": \"scattercarpet\"}], \"scattergeo\": [{\"marker\": {\"colorbar\": {\"outlinewidth\": 0, \"ticks\": \"\"}}, \"type\": \"scattergeo\"}], \"scattergl\": [{\"marker\": {\"colorbar\": {\"outlinewidth\": 0, \"ticks\": \"\"}}, \"type\": \"scattergl\"}], \"scattermapbox\": [{\"marker\": {\"colorbar\": {\"outlinewidth\": 0, \"ticks\": \"\"}}, \"type\": \"scattermapbox\"}], \"scatterpolar\": [{\"marker\": {\"colorbar\": {\"outlinewidth\": 0, \"ticks\": \"\"}}, \"type\": \"scatterpolar\"}], \"scatterpolargl\": [{\"marker\": {\"colorbar\": {\"outlinewidth\": 0, \"ticks\": \"\"}}, \"type\": \"scatterpolargl\"}], \"scatterternary\": [{\"marker\": {\"colorbar\": {\"outlinewidth\": 0, \"ticks\": \"\"}}, \"type\": \"scatterternary\"}], \"surface\": [{\"colorbar\": {\"outlinewidth\": 0, \"ticks\": \"\"}, \"colorscale\": [[0.0, \"#0d0887\"], [0.1111111111111111, \"#46039f\"], [0.2222222222222222, \"#7201a8\"], [0.3333333333333333, \"#9c179e\"], [0.4444444444444444, \"#bd3786\"], [0.5555555555555556, \"#d8576b\"], [0.6666666666666666, \"#ed7953\"], [0.7777777777777778, \"#fb9f3a\"], [0.8888888888888888, \"#fdca26\"], [1.0, \"#f0f921\"]], \"type\": \"surface\"}], \"table\": [{\"cells\": {\"fill\": {\"color\": \"#EBF0F8\"}, \"line\": {\"color\": \"white\"}}, \"header\": {\"fill\": {\"color\": \"#C8D4E3\"}, \"line\": {\"color\": \"white\"}}, \"type\": \"table\"}]}, \"layout\": {\"annotationdefaults\": {\"arrowcolor\": \"#2a3f5f\", \"arrowhead\": 0, \"arrowwidth\": 1}, \"autotypenumbers\": \"strict\", \"coloraxis\": {\"colorbar\": {\"outlinewidth\": 0, \"ticks\": \"\"}}, \"colorscale\": {\"diverging\": [[0, \"#8e0152\"], [0.1, \"#c51b7d\"], [0.2, \"#de77ae\"], [0.3, \"#f1b6da\"], [0.4, \"#fde0ef\"], [0.5, \"#f7f7f7\"], [0.6, \"#e6f5d0\"], [0.7, \"#b8e186\"], [0.8, \"#7fbc41\"], [0.9, \"#4d9221\"], [1, \"#276419\"]], \"sequential\": [[0.0, \"#0d0887\"], [0.1111111111111111, \"#46039f\"], [0.2222222222222222, \"#7201a8\"], [0.3333333333333333, \"#9c179e\"], [0.4444444444444444, \"#bd3786\"], [0.5555555555555556, \"#d8576b\"], [0.6666666666666666, \"#ed7953\"], [0.7777777777777778, \"#fb9f3a\"], [0.8888888888888888, \"#fdca26\"], [1.0, \"#f0f921\"]], \"sequentialminus\": [[0.0, \"#0d0887\"], [0.1111111111111111, \"#46039f\"], [0.2222222222222222, \"#7201a8\"], [0.3333333333333333, \"#9c179e\"], [0.4444444444444444, \"#bd3786\"], [0.5555555555555556, \"#d8576b\"], [0.6666666666666666, \"#ed7953\"], [0.7777777777777778, \"#fb9f3a\"], [0.8888888888888888, \"#fdca26\"], [1.0, \"#f0f921\"]]}, \"colorway\": [\"#636efa\", \"#EF553B\", \"#00cc96\", \"#ab63fa\", \"#FFA15A\", \"#19d3f3\", \"#FF6692\", \"#B6E880\", \"#FF97FF\", \"#FECB52\"], \"font\": {\"color\": \"#2a3f5f\"}, \"geo\": {\"bgcolor\": \"white\", \"lakecolor\": \"white\", \"landcolor\": \"#E5ECF6\", \"showlakes\": true, \"showland\": true, \"subunitcolor\": \"white\"}, \"hoverlabel\": {\"align\": \"left\"}, \"hovermode\": \"closest\", \"mapbox\": {\"style\": \"light\"}, \"paper_bgcolor\": \"white\", \"plot_bgcolor\": \"#E5ECF6\", \"polar\": {\"angularaxis\": {\"gridcolor\": \"white\", \"linecolor\": \"white\", \"ticks\": \"\"}, \"bgcolor\": \"#E5ECF6\", \"radialaxis\": {\"gridcolor\": \"white\", \"linecolor\": \"white\", \"ticks\": \"\"}}, \"scene\": {\"xaxis\": {\"backgroundcolor\": \"#E5ECF6\", \"gridcolor\": \"white\", \"gridwidth\": 2, \"linecolor\": \"white\", \"showbackground\": true, \"ticks\": \"\", \"zerolinecolor\": \"white\"}, \"yaxis\": {\"backgroundcolor\": \"#E5ECF6\", \"gridcolor\": \"white\", \"gridwidth\": 2, \"linecolor\": \"white\", \"showbackground\": true, \"ticks\": \"\", \"zerolinecolor\": \"white\"}, \"zaxis\": {\"backgroundcolor\": \"#E5ECF6\", \"gridcolor\": \"white\", \"gridwidth\": 2, \"linecolor\": \"white\", \"showbackground\": true, \"ticks\": \"\", \"zerolinecolor\": \"white\"}}, \"shapedefaults\": {\"line\": {\"color\": \"#2a3f5f\"}}, \"ternary\": {\"aaxis\": {\"gridcolor\": \"white\", \"linecolor\": \"white\", \"ticks\": \"\"}, \"baxis\": {\"gridcolor\": \"white\", \"linecolor\": \"white\", \"ticks\": \"\"}, \"bgcolor\": \"#E5ECF6\", \"caxis\": {\"gridcolor\": \"white\", \"linecolor\": \"white\", \"ticks\": \"\"}}, \"title\": {\"x\": 0.05}, \"xaxis\": {\"automargin\": true, \"gridcolor\": \"white\", \"linecolor\": \"white\", \"ticks\": \"\", \"title\": {\"standoff\": 15}, \"zerolinecolor\": \"white\", \"zerolinewidth\": 2}, \"yaxis\": {\"automargin\": true, \"gridcolor\": \"white\", \"linecolor\": \"white\", \"ticks\": \"\", \"title\": {\"standoff\": 15}, \"zerolinecolor\": \"white\", \"zerolinewidth\": 2}}}},                        {\"responsive\": true}                    ).then(function(){\n",
       "                            \n",
       "var gd = document.getElementById('62f39115-d5c3-4402-82be-614b29ef3ed5');\n",
       "var x = new MutationObserver(function (mutations, observer) {{\n",
       "        var display = window.getComputedStyle(gd).display;\n",
       "        if (!display || display === 'none') {{\n",
       "            console.log([gd, 'removed!']);\n",
       "            Plotly.purge(gd);\n",
       "            observer.disconnect();\n",
       "        }}\n",
       "}});\n",
       "\n",
       "// Listen for the removal of the full notebook cells\n",
       "var notebookContainer = gd.closest('#notebook-container');\n",
       "if (notebookContainer) {{\n",
       "    x.observe(notebookContainer, {childList: true});\n",
       "}}\n",
       "\n",
       "// Listen for the clearing of the current output cell\n",
       "var outputEl = gd.closest('.output');\n",
       "if (outputEl) {{\n",
       "    x.observe(outputEl, {childList: true});\n",
       "}}\n",
       "\n",
       "                        })                };                });            </script>        </div>"
      ]
     },
     "metadata": {},
     "output_type": "display_data"
    }
   ],
   "source": [
    "\n",
    "#Creating a bounding box\n",
    "east, north, west, south = -78.809674,35.566876,-78.805060,35.569555  \n",
    "G = ox.graph_from_bbox(north, south, east, west, network_type=\"drive_service\")\n",
    "colors = plt.rcParams['axes.prop_cycle'].by_key()['color']\n",
    "ox.plot.plot_graph(G, bgcolor='#FFFFFF', node_color=colors[0], edge_color='lightgray', node_size=5)\n",
    "\n",
    "\n",
    "    #Extracting Node Information from G\n",
    "Nodes = []\n",
    "for i in G.nodes:\n",
    "    Nodes.append(i)\n",
    "\n",
    "data = pd.DataFrame(Nodes)\n",
    "data.rename(columns = {0:'Nodes'}, inplace = True)\n",
    "\n",
    "\n",
    "lat1 = []\n",
    "long1 = []\n",
    "for i in Nodes:\n",
    "    lat1.append(G.nodes[i].get('y'))\n",
    "    long1.append(G.nodes[i].get('x'))\n",
    "data['Latitude'] = lat1\n",
    "data['Longitude'] = long1\n",
    "df1 = data\n",
    "G = ox.graph_from_place('Fuquay Varina, NC, USA', network_type='drive')\n",
    "\n",
    "df1 = df1.drop(['Nodes'],axis=1)\n",
    "df1.rename(columns = {'Latitude':'Left'}, inplace = True)\n",
    "df1.rename(columns = {'Longitude':'Right'}, inplace = True)\n",
    "\n",
    "    #Calculating Distance and the distance matrix for all coordinates in the Bounding Box\n",
    "df3 = pd.DataFrame()\n",
    "for j in df1.index:\n",
    "    list1 = []\n",
    "    for i in df1.index:\n",
    "        r = requests.get(f\"\"\"http://router.project-osrm.org/route/v1/car/{df1.loc[j, \"Right\"]},{df1.loc[j, \"Left\"]};{df1.loc[i, \"Right\"]},{df1.loc[i, \"Left\"]}?overview=false\"\"\")\n",
    "        list1.append(json.loads(r.content)[\"routes\"][0][\"distance\"])\n",
    "    df3[j] = list1\n",
    "df = df1\n",
    "df['coordinate'] = list(zip(df['Right'],df['Left']))\n",
    "df['ID'] = df.index\n",
    "\n",
    "locations = dict( ( ID, (df.loc[ID, 'Right'], df.loc[ID, 'Left']) ) for ID in df.index)\n",
    "distances_df = df3\n",
    "distance = distances_df\n",
    "distances = dict( ((l1,l2), distance.iloc[l1, l2] ) for l1 in locations for l2 in locations if l1!=l2)\n",
    "\n",
    "\n",
    "    ## V: This defines the total number of vehicles that will traverse the path.\n",
    "V = 1\n",
    "    ## prob: This initializes the problem that will run using provided constraints.\n",
    "\n",
    "prob=LpProblem(\"vehicle\", LpMinimize)\n",
    "    ## indicator: This defines the variable dictionary consisting of distances and indicates if location i is connected to location j along route\n",
    "indicator = LpVariable.dicts('indicator',distances, 0,1,LpBinary)\n",
    "    ## eliminator: This defines the variable dictionary consisting of the node ID's and elimiate subtours\n",
    "eliminator = LpVariable.dicts('eliminator', df.ID, 0, len(df.ID)-1, LpInteger)\n",
    "    ## cost: This stores the result of distances calculations.\n",
    "cost = lpSum([indicator[(i,j)]*distances[(i,j)] for (i,j) in distances])\n",
    "prob+=cost\n",
    "\n",
    "start1 = 2\n",
    "for v in df.ID:\n",
    "        ## cap: This considers a particular node at a time. \n",
    "    cap = 1 if v != start1 else V\n",
    "        #inward possible route\n",
    "    prob+= lpSum([ indicator[(i,v)] for i in df.ID if (i,v) in indicator]) ==cap\n",
    "        #outward possible route\n",
    "    prob+=lpSum([ indicator[(v,i)] for i in df.ID if (v,i) in indicator]) ==cap\n",
    "    ## num: This stores the result of the number of nodes and the number of vehicles.    \n",
    "num=len(df.ID)/V\n",
    "for i in df.ID:\n",
    "    for j in df.ID:\n",
    "        if i != j and (i != start1 and j!= start1) and (i,j) in indicator:\n",
    "             prob += eliminator[i] - eliminator[j] <= (num)*(1-indicator[(i,j)]) - 1         \n",
    "prob.solve()\n",
    "    ## feasibleedges: This stores values of edges after the calculations are done.\n",
    "feasible_edges = [ e for e in indicator if value(indicator[e]) != 0 ]\n",
    "    ##@get_next_loc\n",
    "    # This provides with the next coordinates for the next node in the path.\n",
    "def get_next_loc(initial):\n",
    "    edges = [e for e in feasible_edges if e[0]==initial]\n",
    "    for e in edges:\n",
    "        feasible_edges.remove(e)\n",
    "    return edges\n",
    "    ## routes: This stores information regarding paths.    \n",
    "routes = get_next_loc(2)\n",
    "routes = [ [e] for e in routes ]\n",
    "\n",
    "for r in routes:\n",
    "    while r[-1][1] !=start1:\n",
    "        r.append(get_next_loc(r[-1][1])[-1])\n",
    "\n",
    "\n",
    "\n",
    "\n",
    "df2 = df[['Left', 'Right', 'ID']].copy()\n",
    "df2.rename(columns = {'Left':'Latitude'}, inplace = True)\n",
    "df2.rename(columns = {'Right':'Longitude'}, inplace = True)\n",
    "a=[]\n",
    "for i in range(data.index.stop):\n",
    "    #print(routes[0][i][0])\n",
    "    a.append(routes[0][i][0]) \n",
    "\n",
    "df3 = pd.DataFrame()\n",
    "for i in a:\n",
    "    df3 = df3.append(df2.loc[i])\n",
    "\n",
    "df3.reset_index(inplace = True)\n",
    "\n",
    "df3 = df3.append(df3.loc[0])\n",
    "df3.reset_index(inplace = True)\n",
    "df4 = df3\n",
    "dfnodes = pd.DataFrame(Nodes)\n",
    "dfnodes.rename(columns = {0:'Nodes'}, inplace = True)\n",
    "dfnodes = dfnodes.reindex(a)\n",
    "dfnodes = dfnodes.append({\"Nodes\":Nodes[a[0]]},ignore_index=True)\n",
    "df4 = pd.concat([df4,dfnodes],axis=1)\n",
    "    \n",
    "    \n",
    "def node_list_to_path2(G, node_list):\n",
    "   \n",
    "    edge_nodes = list(zip(node_list[:-1], node_list[1:]))\n",
    "    lines = []\n",
    "    newlist=[]\n",
    "    \n",
    "    \n",
    "    \n",
    "    \n",
    "    #for u, v in edge_nodes:\n",
    "    #    if(G.get_edge_data(u, v)):\n",
    "    #        newlist.append((u,v))\n",
    "            \n",
    "            \n",
    "            \n",
    "    for u, v in edge_nodes:\n",
    "        if(G.get_edge_data(u, v)):\n",
    "            newlist.append((u,v))\n",
    "        else:    \n",
    "            path1 = nx.shortest_path(G,u, v, weight='travel_time')\n",
    "            path2 = list(zip(path1[:-1], path1[1:]))\n",
    "            newlist = newlist+path2        \n",
    "    #print(newlist)\n",
    "    #print(len(newlist))\n",
    "    \n",
    "    for u, v in newlist:\n",
    "        # if there are parallel edges, select the shortest in length\n",
    "        \n",
    "        data = min(G.get_edge_data(u, v).values(), \n",
    "                key=lambda x: x['length'])\n",
    "            # if it has a geometry attribute\n",
    "        if 'geometry' in data:\n",
    "            # add them to the list of lines to plot\n",
    "            xs, ys = data['geometry'].xy\n",
    "            lines.append(list(zip(xs, ys)))\n",
    "        else:\n",
    "            # if it doesn't have a geometry attribute,\n",
    "            # then the edge is a straight line from node to node\n",
    "            x1 = G.nodes[u]['x']\n",
    "            y1 = G.nodes[u]['y']\n",
    "            x2 = G.nodes[v]['x']\n",
    "            y2 = G.nodes[v]['y']\n",
    "            line = [(x1, y1), (x2, y2)]\n",
    "            lines.append(line)\n",
    "            \n",
    "    return lines    \n",
    "    \n",
    "    \n",
    "    \n",
    "def plot_path(lat, long, origin_point, destination_point):\n",
    "    fig = go.Figure(go.Scattermapbox(\n",
    "        name = \"Path\",\n",
    "        mode = \"lines\",\n",
    "        lon = long,\n",
    "        lat = lat,\n",
    "        marker = {'size': 10},\n",
    "        line = dict(width = 4.5, color = 'grey')))\n",
    "    fig.add_trace(go.Scattermapbox(\n",
    "        name = \"Source\",\n",
    "        mode = \"markers\",\n",
    "        lon = [origin_point[1]],\n",
    "        lat = [origin_point[0]],\n",
    "        marker = {'size': 12, 'color':\"red\"}))\n",
    "    fig.add_trace(go.Scattermapbox(\n",
    "        name = \"Destination\",\n",
    "        mode = \"markers\",\n",
    "        lon = [destination_point[1]],\n",
    "        lat = [destination_point[0]],\n",
    "        marker = {'size': 12, 'color':'green'}))\n",
    "    lat_center = np.mean(lat)\n",
    "    long_center = np.mean(long)\n",
    "    fig.update_layout(mapbox_style=\"carto-darkmatter\",\n",
    "        mapbox_center_lat = 30, mapbox_center_lon=-80)\n",
    "    fig.update_layout(margin={\"r\":0,\"t\":0,\"l\":0,\"b\":0},\n",
    "                        mapbox = {\n",
    "                            'center': {'lat': lat_center, \n",
    "                            'lon': long_center},\n",
    "                            'zoom': 13})\n",
    "    fig.show()\n",
    "\n",
    "\n",
    "pathlist = []\n",
    "for i in range(df4['Nodes'].count()-1):\n",
    "    path1 = nx.shortest_path(G, df4.iloc[i]['Nodes'],df4.iloc[i+1]['Nodes'], weight='travel_time')\n",
    "    pathlist = pathlist+path1\n",
    "#pathlist1 = list(dict.fromkeys(pathlist))\n",
    "#pathlist1.append(pathlist1[0])\n",
    "data4 = pd.DataFrame(pathlist)\n",
    "data4.rename(columns = {0:'Nodes'}, inplace = True)\n",
    "lat1 = []\n",
    "long1 = []\n",
    "lines = node_list_to_path2(G, pathlist)\n",
    "long2 = []\n",
    "lat2 = []\n",
    "for i in range(len(lines)):\n",
    "    z = list(lines[i])\n",
    "    l1 = list(list(zip(*z))[0])\n",
    "    l2 = list(list(zip(*z))[1])\n",
    "    for j in range(len(l1)):\n",
    "        long2.append(l1[j])\n",
    "        lat2.append(l2[j])\n",
    "        \n",
    "newdf = pd.DataFrame()\n",
    "newdf['Latitude'] = lat2\n",
    "newdf['Longitude'] = long2\n",
    "Trash = []\n",
    "for i in newdf.index:\n",
    "    Trash.append(random.randint(6,10))\n",
    "newdf['Trash'] = Trash\n",
    "\n",
    "duration1= []\n",
    "for i in range(newdf.index.stop-1):\n",
    "    r = requests.get(f\"\"\"http://router.project-osrm.org/route/v1/car/{newdf.loc[i, \"Longitude\"]},{newdf.loc[i, \"Latitude\"]};{newdf.loc[i+1, \"Longitude\"]},{newdf.loc[i+1, \"Latitude\"]}?overview=false\"\"\")\n",
    "    duration1.append(json.loads(r.content)[\"routes\"][0][\"duration\"])      \n",
    "        \n",
    "for i in pathlist:\n",
    "    lat1.append(G.nodes[i].get('y'))\n",
    "    long1.append(G.nodes[i].get('x'))\n",
    "data4['Latitude'] = lat1\n",
    "data4['Longitude'] = long1\n",
    "origin_point = (data4.loc[0][\"Latitude\"], data4.loc[0][\"Longitude\"]) \n",
    "destination_point = (data4.iloc[-1][\"Latitude\"], data4.iloc[-1][\"Longitude\"])\n",
    "#plot_path(lat1, long1, origin_point, destination_point)\n",
    "\n",
    "\n",
    "plot_path(lat2, long2, origin_point, destination_point)"
   ]
  },
  {
   "cell_type": "code",
   "execution_count": 25,
   "id": "taken-venice",
   "metadata": {},
   "outputs": [],
   "source": [
    "path11 = pathlist"
   ]
  },
  {
   "cell_type": "code",
   "execution_count": 26,
   "id": "suited-throw",
   "metadata": {},
   "outputs": [],
   "source": [
    "trash11 = Trash"
   ]
  },
  {
   "cell_type": "code",
   "execution_count": 27,
   "id": "deluxe-breakdown",
   "metadata": {},
   "outputs": [],
   "source": [
    "duration11 = duration1"
   ]
  },
  {
   "cell_type": "code",
   "execution_count": 28,
   "id": "boolean-accountability",
   "metadata": {},
   "outputs": [
    {
     "data": {
      "text/plain": [
       "708"
      ]
     },
     "execution_count": 28,
     "metadata": {},
     "output_type": "execute_result"
    }
   ],
   "source": [
    "sum(trash11)"
   ]
  },
  {
   "cell_type": "code",
   "execution_count": 29,
   "id": "clean-closer",
   "metadata": {},
   "outputs": [
    {
     "data": {
      "image/png": "[encoded data removed]",
      "text/plain": [
       "<Figure size 576x576 with 1 Axes>"
      ]
     },
     "metadata": {},
     "output_type": "display_data"
    },
    {
     "data": {
      "application/vnd.plotly.v1+json": {
       "config": {
        "plotlyServerURL": "https://plot.ly"
       },
       "data": [
        {
         "lat": [
          35.5703457,
          35.5703334,
          35.5703003,
          35.5703133,
          35.5703613,
          35.5703613,
          35.5703133,
          35.5703003,
          35.5703334,
          35.5703457,
          35.5703457,
          35.5704113,
          35.5705646,
          35.5706892,
          35.5707594,
          35.5715509,
          35.571618,
          35.571618,
          35.5716792,
          35.5719181,
          35.5720624,
          35.572149,
          35.5721787,
          35.5721787,
          35.572149,
          35.5720624,
          35.5719181,
          35.5716792,
          35.571618,
          35.571618,
          35.57167,
          35.5721171,
          35.5721171,
          35.5727038,
          35.5727038,
          35.5728523,
          35.5731944,
          35.5733908,
          35.5734961,
          35.5735569,
          35.5735569,
          35.5734364,
          35.5733725,
          35.5732536,
          35.5731211,
          35.5728128,
          35.57261,
          35.5722063,
          35.5720531,
          35.5719467,
          35.5718077,
          35.5717087,
          35.5714447,
          35.5714105,
          35.5714105,
          35.5714592,
          35.571851,
          35.5719352,
          35.572086,
          35.5722324,
          35.5722324,
          35.572086,
          35.5719352,
          35.571851,
          35.5714592,
          35.5714105,
          35.5714105,
          35.5708791,
          35.5707195,
          35.5706088,
          35.5704823,
          35.5703933,
          35.5703564,
          35.5703457
         ],
         "line": {
          "color": "grey",
          "width": 4.5
         },
         "lon": [
          -78.808151,
          -78.8082278,
          -78.8085735,
          -78.8091336,
          -78.8093078,
          -78.8093078,
          -78.8091336,
          -78.8085735,
          -78.8082278,
          -78.808151,
          -78.808151,
          -78.8081701,
          -78.8082143,
          -78.8082763,
          -78.8083302,
          -78.809139,
          -78.8092075,
          -78.8092075,
          -78.8092694,
          -78.8095112,
          -78.8097492,
          -78.8099112,
          -78.8099667,
          -78.8099667,
          -78.8099112,
          -78.8097492,
          -78.8095112,
          -78.8092694,
          -78.8092075,
          -78.8092075,
          -78.8091311,
          -78.8084741,
          -78.8084741,
          -78.8076113,
          -78.8076113,
          -78.8074184,
          -78.8071094,
          -78.8070015,
          -78.8069635,
          -78.8069416,
          -78.8069416,
          -78.8064213,
          -78.8062913,
          -78.8061595,
          -78.8061194,
          -78.8060692,
          -78.8059952,
          -78.8056016,
          -78.8055523,
          -78.805569,
          -78.805632,
          -78.8057366,
          -78.8060651,
          -78.8061076,
          -78.8061076,
          -78.8061636,
          -78.806615,
          -78.8066817,
          -78.8067378,
          -78.8068354,
          -78.8068354,
          -78.8067378,
          -78.8066817,
          -78.806615,
          -78.8061636,
          -78.8061076,
          -78.8061076,
          -78.8067943,
          -78.8070525,
          -78.8072831,
          -78.8075944,
          -78.8079187,
          -78.8080813,
          -78.808151
         ],
         "marker": {
          "size": 10
         },
         "mode": "lines",
         "name": "Path",
         "type": "scattermapbox"
        },
        {
         "lat": [
          35.5703457
         ],
         "lon": [
          -78.808151
         ],
         "marker": {
          "color": "red",
          "size": 12
         },
         "mode": "markers",
         "name": "Source",
         "type": "scattermapbox"
        },
        {
         "lat": [
          35.5703457
         ],
         "lon": [
          -78.808151
         ],
         "marker": {
          "color": "green",
          "size": 12
         },
         "mode": "markers",
         "name": "Destination",
         "type": "scattermapbox"
        }
       ],
       "layout": {
        "mapbox": {
         "center": {
          "lat": 35.57167247837838,
          "lon": -78.80768887567568
         },
         "style": "carto-darkmatter",
         "zoom": 13
        },
        "margin": {
         "b": 0,
         "l": 0,
         "r": 0,
         "t": 0
        },
        "template": {
         "data": {
          "bar": [
           {
            "error_x": {
             "color": "#2a3f5f"
            },
            "error_y": {
             "color": "#2a3f5f"
            },
            "marker": {
             "line": {
              "color": "#E5ECF6",
              "width": 0.5
             }
            },
            "type": "bar"
           }
          ],
          "barpolar": [
           {
            "marker": {
             "line": {
              "color": "#E5ECF6",
              "width": 0.5
             }
            },
            "type": "barpolar"
           }
          ],
          "carpet": [
           {
            "aaxis": {
             "endlinecolor": "#2a3f5f",
             "gridcolor": "white",
             "linecolor": "white",
             "minorgridcolor": "white",
             "startlinecolor": "#2a3f5f"
            },
            "baxis": {
             "endlinecolor": "#2a3f5f",
             "gridcolor": "white",
             "linecolor": "white",
             "minorgridcolor": "white",
             "startlinecolor": "#2a3f5f"
            },
            "type": "carpet"
           }
          ],
          "choropleth": [
           {
            "colorbar": {
             "outlinewidth": 0,
             "ticks": ""
            },
            "type": "choropleth"
           }
          ],
          "contour": [
           {
            "colorbar": {
             "outlinewidth": 0,
             "ticks": ""
            },
            "colorscale": [
             [
              0,
              "#0d0887"
             ],
             [
              0.1111111111111111,
              "#46039f"
             ],
             [
              0.2222222222222222,
              "#7201a8"
             ],
             [
              0.3333333333333333,
              "#9c179e"
             ],
             [
              0.4444444444444444,
              "#bd3786"
             ],
             [
              0.5555555555555556,
              "#d8576b"
             ],
             [
              0.6666666666666666,
              "#ed7953"
             ],
             [
              0.7777777777777778,
              "#fb9f3a"
             ],
             [
              0.8888888888888888,
              "#fdca26"
             ],
             [
              1,
              "#f0f921"
             ]
            ],
            "type": "contour"
           }
          ],
          "contourcarpet": [
           {
            "colorbar": {
             "outlinewidth": 0,
             "ticks": ""
            },
            "type": "contourcarpet"
           }
          ],
          "heatmap": [
           {
            "colorbar": {
             "outlinewidth": 0,
             "ticks": ""
            },
            "colorscale": [
             [
              0,
              "#0d0887"
             ],
             [
              0.1111111111111111,
              "#46039f"
             ],
             [
              0.2222222222222222,
              "#7201a8"
             ],
             [
              0.3333333333333333,
              "#9c179e"
             ],
             [
              0.4444444444444444,
              "#bd3786"
             ],
             [
              0.5555555555555556,
              "#d8576b"
             ],
             [
              0.6666666666666666,
              "#ed7953"
             ],
             [
              0.7777777777777778,
              "#fb9f3a"
             ],
             [
              0.8888888888888888,
              "#fdca26"
             ],
             [
              1,
              "#f0f921"
             ]
            ],
            "type": "heatmap"
           }
          ],
          "heatmapgl": [
           {
            "colorbar": {
             "outlinewidth": 0,
             "ticks": ""
            },
            "colorscale": [
             [
              0,
              "#0d0887"
             ],
             [
              0.1111111111111111,
              "#46039f"
             ],
             [
              0.2222222222222222,
              "#7201a8"
             ],
             [
              0.3333333333333333,
              "#9c179e"
             ],
             [
              0.4444444444444444,
              "#bd3786"
             ],
             [
              0.5555555555555556,
              "#d8576b"
             ],
             [
              0.6666666666666666,
              "#ed7953"
             ],
             [
              0.7777777777777778,
              "#fb9f3a"
             ],
             [
              0.8888888888888888,
              "#fdca26"
             ],
             [
              1,
              "#f0f921"
             ]
            ],
            "type": "heatmapgl"
           }
          ],
          "histogram": [
           {
            "marker": {
             "colorbar": {
              "outlinewidth": 0,
              "ticks": ""
             }
            },
            "type": "histogram"
           }
          ],
          "histogram2d": [
           {
            "colorbar": {
             "outlinewidth": 0,
             "ticks": ""
            },
            "colorscale": [
             [
              0,
              "#0d0887"
             ],
             [
              0.1111111111111111,
              "#46039f"
             ],
             [
              0.2222222222222222,
              "#7201a8"
             ],
             [
              0.3333333333333333,
              "#9c179e"
             ],
             [
              0.4444444444444444,
              "#bd3786"
             ],
             [
              0.5555555555555556,
              "#d8576b"
             ],
             [
              0.6666666666666666,
              "#ed7953"
             ],
             [
              0.7777777777777778,
              "#fb9f3a"
             ],
             [
              0.8888888888888888,
              "#fdca26"
             ],
             [
              1,
              "#f0f921"
             ]
            ],
            "type": "histogram2d"
           }
          ],
          "histogram2dcontour": [
           {
            "colorbar": {
             "outlinewidth": 0,
             "ticks": ""
            },
            "colorscale": [
             [
              0,
              "#0d0887"
             ],
             [
              0.1111111111111111,
              "#46039f"
             ],
             [
              0.2222222222222222,
              "#7201a8"
             ],
             [
              0.3333333333333333,
              "#9c179e"
             ],
             [
              0.4444444444444444,
              "#bd3786"
             ],
             [
              0.5555555555555556,
              "#d8576b"
             ],
             [
              0.6666666666666666,
              "#ed7953"
             ],
             [
              0.7777777777777778,
              "#fb9f3a"
             ],
             [
              0.8888888888888888,
              "#fdca26"
             ],
             [
              1,
              "#f0f921"
             ]
            ],
            "type": "histogram2dcontour"
           }
          ],
          "mesh3d": [
           {
            "colorbar": {
             "outlinewidth": 0,
             "ticks": ""
            },
            "type": "mesh3d"
           }
          ],
          "parcoords": [
           {
            "line": {
             "colorbar": {
              "outlinewidth": 0,
              "ticks": ""
             }
            },
            "type": "parcoords"
           }
          ],
          "pie": [
           {
            "automargin": true,
            "type": "pie"
           }
          ],
          "scatter": [
           {
            "marker": {
             "colorbar": {
              "outlinewidth": 0,
              "ticks": ""
             }
            },
            "type": "scatter"
           }
          ],
          "scatter3d": [
           {
            "line": {
             "colorbar": {
              "outlinewidth": 0,
              "ticks": ""
             }
            },
            "marker": {
             "colorbar": {
              "outlinewidth": 0,
              "ticks": ""
             }
            },
            "type": "scatter3d"
           }
          ],
          "scattercarpet": [
           {
            "marker": {
             "colorbar": {
              "outlinewidth": 0,
              "ticks": ""
             }
            },
            "type": "scattercarpet"
           }
          ],
          "scattergeo": [
           {
            "marker": {
             "colorbar": {
              "outlinewidth": 0,
              "ticks": ""
             }
            },
            "type": "scattergeo"
           }
          ],
          "scattergl": [
           {
            "marker": {
             "colorbar": {
              "outlinewidth": 0,
              "ticks": ""
             }
            },
            "type": "scattergl"
           }
          ],
          "scattermapbox": [
           {
            "marker": {
             "colorbar": {
              "outlinewidth": 0,
              "ticks": ""
             }
            },
            "type": "scattermapbox"
           }
          ],
          "scatterpolar": [
           {
            "marker": {
             "colorbar": {
              "outlinewidth": 0,
              "ticks": ""
             }
            },
            "type": "scatterpolar"
           }
          ],
          "scatterpolargl": [
           {
            "marker": {
             "colorbar": {
              "outlinewidth": 0,
              "ticks": ""
             }
            },
            "type": "scatterpolargl"
           }
          ],
          "scatterternary": [
           {
            "marker": {
             "colorbar": {
              "outlinewidth": 0,
              "ticks": ""
             }
            },
            "type": "scatterternary"
           }
          ],
          "surface": [
           {
            "colorbar": {
             "outlinewidth": 0,
             "ticks": ""
            },
            "colorscale": [
             [
              0,
              "#0d0887"
             ],
             [
              0.1111111111111111,
              "#46039f"
             ],
             [
              0.2222222222222222,
              "#7201a8"
             ],
             [
              0.3333333333333333,
              "#9c179e"
             ],
             [
              0.4444444444444444,
              "#bd3786"
             ],
             [
              0.5555555555555556,
              "#d8576b"
             ],
             [
              0.6666666666666666,
              "#ed7953"
             ],
             [
              0.7777777777777778,
              "#fb9f3a"
             ],
             [
              0.8888888888888888,
              "#fdca26"
             ],
             [
              1,
              "#f0f921"
             ]
            ],
            "type": "surface"
           }
          ],
          "table": [
           {
            "cells": {
             "fill": {
              "color": "#EBF0F8"
             },
             "line": {
              "color": "white"
             }
            },
            "header": {
             "fill": {
              "color": "#C8D4E3"
             },
             "line": {
              "color": "white"
             }
            },
            "type": "table"
           }
          ]
         },
         "layout": {
          "annotationdefaults": {
           "arrowcolor": "#2a3f5f",
           "arrowhead": 0,
           "arrowwidth": 1
          },
          "autotypenumbers": "strict",
          "coloraxis": {
           "colorbar": {
            "outlinewidth": 0,
            "ticks": ""
           }
          },
          "colorscale": {
           "diverging": [
            [
             0,
             "#8e0152"
            ],
            [
             0.1,
             "#c51b7d"
            ],
            [
             0.2,
             "#de77ae"
            ],
            [
             0.3,
             "#f1b6da"
            ],
            [
             0.4,
             "#fde0ef"
            ],
            [
             0.5,
             "#f7f7f7"
            ],
            [
             0.6,
             "#e6f5d0"
            ],
            [
             0.7,
             "#b8e186"
            ],
            [
             0.8,
             "#7fbc41"
            ],
            [
             0.9,
             "#4d9221"
            ],
            [
             1,
             "#276419"
            ]
           ],
           "sequential": [
            [
             0,
             "#0d0887"
            ],
            [
             0.1111111111111111,
             "#46039f"
            ],
            [
             0.2222222222222222,
             "#7201a8"
            ],
            [
             0.3333333333333333,
             "#9c179e"
            ],
            [
             0.4444444444444444,
             "#bd3786"
            ],
            [
             0.5555555555555556,
             "#d8576b"
            ],
            [
             0.6666666666666666,
             "#ed7953"
            ],
            [
             0.7777777777777778,
             "#fb9f3a"
            ],
            [
             0.8888888888888888,
             "#fdca26"
            ],
            [
             1,
             "#f0f921"
            ]
           ],
           "sequentialminus": [
            [
             0,
             "#0d0887"
            ],
            [
             0.1111111111111111,
             "#46039f"
            ],
            [
             0.2222222222222222,
             "#7201a8"
            ],
            [
             0.3333333333333333,
             "#9c179e"
            ],
            [
             0.4444444444444444,
             "#bd3786"
            ],
            [
             0.5555555555555556,
             "#d8576b"
            ],
            [
             0.6666666666666666,
             "#ed7953"
            ],
            [
             0.7777777777777778,
             "#fb9f3a"
            ],
            [
             0.8888888888888888,
             "#fdca26"
            ],
            [
             1,
             "#f0f921"
            ]
           ]
          },
          "colorway": [
           "#636efa",
           "#EF553B",
           "#00cc96",
           "#ab63fa",
           "#FFA15A",
           "#19d3f3",
           "#FF6692",
           "#B6E880",
           "#FF97FF",
           "#FECB52"
          ],
          "font": {
           "color": "#2a3f5f"
          },
          "geo": {
           "bgcolor": "white",
           "lakecolor": "white",
           "landcolor": "#E5ECF6",
           "showlakes": true,
           "showland": true,
           "subunitcolor": "white"
          },
          "hoverlabel": {
           "align": "left"
          },
          "hovermode": "closest",
          "mapbox": {
           "style": "light"
          },
          "paper_bgcolor": "white",
          "plot_bgcolor": "#E5ECF6",
          "polar": {
           "angularaxis": {
            "gridcolor": "white",
            "linecolor": "white",
            "ticks": ""
           },
           "bgcolor": "#E5ECF6",
           "radialaxis": {
            "gridcolor": "white",
            "linecolor": "white",
            "ticks": ""
           }
          },
          "scene": {
           "xaxis": {
            "backgroundcolor": "#E5ECF6",
            "gridcolor": "white",
            "gridwidth": 2,
            "linecolor": "white",
            "showbackground": true,
            "ticks": "",
            "zerolinecolor": "white"
           },
           "yaxis": {
            "backgroundcolor": "#E5ECF6",
            "gridcolor": "white",
            "gridwidth": 2,
            "linecolor": "white",
            "showbackground": true,
            "ticks": "",
            "zerolinecolor": "white"
           },
           "zaxis": {
            "backgroundcolor": "#E5ECF6",
            "gridcolor": "white",
            "gridwidth": 2,
            "linecolor": "white",
            "showbackground": true,
            "ticks": "",
            "zerolinecolor": "white"
           }
          },
          "shapedefaults": {
           "line": {
            "color": "#2a3f5f"
           }
          },
          "ternary": {
           "aaxis": {
            "gridcolor": "white",
            "linecolor": "white",
            "ticks": ""
           },
           "baxis": {
            "gridcolor": "white",
            "linecolor": "white",
            "ticks": ""
           },
           "bgcolor": "#E5ECF6",
           "caxis": {
            "gridcolor": "white",
            "linecolor": "white",
            "ticks": ""
           }
          },
          "title": {
           "x": 0.05
          },
          "xaxis": {
           "automargin": true,
           "gridcolor": "white",
           "linecolor": "white",
           "ticks": "",
           "title": {
            "standoff": 15
           },
           "zerolinecolor": "white",
           "zerolinewidth": 2
          },
          "yaxis": {
           "automargin": true,
           "gridcolor": "white",
           "linecolor": "white",
           "ticks": "",
           "title": {
            "standoff": 15
           },
           "zerolinecolor": "white",
           "zerolinewidth": 2
          }
         }
        }
       }
      },
      "text/html": [
       "<div>                            <div id=\"1ce56eda-7cb6-4bb4-9c07-279e0f114b85\" class=\"plotly-graph-div\" style=\"height:525px; width:100%;\"></div>            <script type=\"text/javascript\">                require([\"plotly\"], function(Plotly) {                    window.PLOTLYENV=window.PLOTLYENV || {};                                    if (document.getElementById(\"1ce56eda-7cb6-4bb4-9c07-279e0f114b85\")) {                    Plotly.newPlot(                        \"1ce56eda-7cb6-4bb4-9c07-279e0f114b85\",                        [{\"lat\": [35.5703457, 35.5703334, 35.5703003, 35.5703133, 35.5703613, 35.5703613, 35.5703133, 35.5703003, 35.5703334, 35.5703457, 35.5703457, 35.5704113, 35.5705646, 35.5706892, 35.5707594, 35.5715509, 35.571618, 35.571618, 35.5716792, 35.5719181, 35.5720624, 35.572149, 35.5721787, 35.5721787, 35.572149, 35.5720624, 35.5719181, 35.5716792, 35.571618, 35.571618, 35.57167, 35.5721171, 35.5721171, 35.5727038, 35.5727038, 35.5728523, 35.5731944, 35.5733908, 35.5734961, 35.5735569, 35.5735569, 35.5734364, 35.5733725, 35.5732536, 35.5731211, 35.5728128, 35.57261, 35.5722063, 35.5720531, 35.5719467, 35.5718077, 35.5717087, 35.5714447, 35.5714105, 35.5714105, 35.5714592, 35.571851, 35.5719352, 35.572086, 35.5722324, 35.5722324, 35.572086, 35.5719352, 35.571851, 35.5714592, 35.5714105, 35.5714105, 35.5708791, 35.5707195, 35.5706088, 35.5704823, 35.5703933, 35.5703564, 35.5703457], \"line\": {\"color\": \"grey\", \"width\": 4.5}, \"lon\": [-78.808151, -78.8082278, -78.8085735, -78.8091336, -78.8093078, -78.8093078, -78.8091336, -78.8085735, -78.8082278, -78.808151, -78.808151, -78.8081701, -78.8082143, -78.8082763, -78.8083302, -78.809139, -78.8092075, -78.8092075, -78.8092694, -78.8095112, -78.8097492, -78.8099112, -78.8099667, -78.8099667, -78.8099112, -78.8097492, -78.8095112, -78.8092694, -78.8092075, -78.8092075, -78.8091311, -78.8084741, -78.8084741, -78.8076113, -78.8076113, -78.8074184, -78.8071094, -78.8070015, -78.8069635, -78.8069416, -78.8069416, -78.8064213, -78.8062913, -78.8061595, -78.8061194, -78.8060692, -78.8059952, -78.8056016, -78.8055523, -78.805569, -78.805632, -78.8057366, -78.8060651, -78.8061076, -78.8061076, -78.8061636, -78.806615, -78.8066817, -78.8067378, -78.8068354, -78.8068354, -78.8067378, -78.8066817, -78.806615, -78.8061636, -78.8061076, -78.8061076, -78.8067943, -78.8070525, -78.8072831, -78.8075944, -78.8079187, -78.8080813, -78.808151], \"marker\": {\"size\": 10}, \"mode\": \"lines\", \"name\": \"Path\", \"type\": \"scattermapbox\"}, {\"lat\": [35.5703457], \"lon\": [-78.808151], \"marker\": {\"color\": \"red\", \"size\": 12}, \"mode\": \"markers\", \"name\": \"Source\", \"type\": \"scattermapbox\"}, {\"lat\": [35.5703457], \"lon\": [-78.808151], \"marker\": {\"color\": \"green\", \"size\": 12}, \"mode\": \"markers\", \"name\": \"Destination\", \"type\": \"scattermapbox\"}],                        {\"mapbox\": {\"center\": {\"lat\": 35.57167247837838, \"lon\": -78.80768887567568}, \"style\": \"carto-darkmatter\", \"zoom\": 13}, \"margin\": {\"b\": 0, \"l\": 0, \"r\": 0, \"t\": 0}, \"template\": {\"data\": {\"bar\": [{\"error_x\": {\"color\": \"#2a3f5f\"}, \"error_y\": {\"color\": \"#2a3f5f\"}, \"marker\": {\"line\": {\"color\": \"#E5ECF6\", \"width\": 0.5}}, \"type\": \"bar\"}], \"barpolar\": [{\"marker\": {\"line\": {\"color\": \"#E5ECF6\", \"width\": 0.5}}, \"type\": \"barpolar\"}], \"carpet\": [{\"aaxis\": {\"endlinecolor\": \"#2a3f5f\", \"gridcolor\": \"white\", \"linecolor\": \"white\", \"minorgridcolor\": \"white\", \"startlinecolor\": \"#2a3f5f\"}, \"baxis\": {\"endlinecolor\": \"#2a3f5f\", \"gridcolor\": \"white\", \"linecolor\": \"white\", \"minorgridcolor\": \"white\", \"startlinecolor\": \"#2a3f5f\"}, \"type\": \"carpet\"}], \"choropleth\": [{\"colorbar\": {\"outlinewidth\": 0, \"ticks\": \"\"}, \"type\": \"choropleth\"}], \"contour\": [{\"colorbar\": {\"outlinewidth\": 0, \"ticks\": \"\"}, \"colorscale\": [[0.0, \"#0d0887\"], [0.1111111111111111, \"#46039f\"], [0.2222222222222222, \"#7201a8\"], [0.3333333333333333, \"#9c179e\"], [0.4444444444444444, \"#bd3786\"], [0.5555555555555556, \"#d8576b\"], [0.6666666666666666, \"#ed7953\"], [0.7777777777777778, \"#fb9f3a\"], [0.8888888888888888, \"#fdca26\"], [1.0, \"#f0f921\"]], \"type\": \"contour\"}], \"contourcarpet\": [{\"colorbar\": {\"outlinewidth\": 0, \"ticks\": \"\"}, \"type\": \"contourcarpet\"}], \"heatmap\": [{\"colorbar\": {\"outlinewidth\": 0, \"ticks\": \"\"}, \"colorscale\": [[0.0, \"#0d0887\"], [0.1111111111111111, \"#46039f\"], [0.2222222222222222, \"#7201a8\"], [0.3333333333333333, \"#9c179e\"], [0.4444444444444444, \"#bd3786\"], [0.5555555555555556, \"#d8576b\"], [0.6666666666666666, \"#ed7953\"], [0.7777777777777778, \"#fb9f3a\"], [0.8888888888888888, \"#fdca26\"], [1.0, \"#f0f921\"]], \"type\": \"heatmap\"}], \"heatmapgl\": [{\"colorbar\": {\"outlinewidth\": 0, \"ticks\": \"\"}, \"colorscale\": [[0.0, \"#0d0887\"], [0.1111111111111111, \"#46039f\"], [0.2222222222222222, \"#7201a8\"], [0.3333333333333333, \"#9c179e\"], [0.4444444444444444, \"#bd3786\"], [0.5555555555555556, \"#d8576b\"], [0.6666666666666666, \"#ed7953\"], [0.7777777777777778, \"#fb9f3a\"], [0.8888888888888888, \"#fdca26\"], [1.0, \"#f0f921\"]], \"type\": \"heatmapgl\"}], \"histogram\": [{\"marker\": {\"colorbar\": {\"outlinewidth\": 0, \"ticks\": \"\"}}, \"type\": \"histogram\"}], \"histogram2d\": [{\"colorbar\": {\"outlinewidth\": 0, \"ticks\": \"\"}, \"colorscale\": [[0.0, \"#0d0887\"], [0.1111111111111111, \"#46039f\"], [0.2222222222222222, \"#7201a8\"], [0.3333333333333333, \"#9c179e\"], [0.4444444444444444, \"#bd3786\"], [0.5555555555555556, \"#d8576b\"], [0.6666666666666666, \"#ed7953\"], [0.7777777777777778, \"#fb9f3a\"], [0.8888888888888888, \"#fdca26\"], [1.0, \"#f0f921\"]], \"type\": \"histogram2d\"}], \"histogram2dcontour\": [{\"colorbar\": {\"outlinewidth\": 0, \"ticks\": \"\"}, \"colorscale\": [[0.0, \"#0d0887\"], [0.1111111111111111, \"#46039f\"], [0.2222222222222222, \"#7201a8\"], [0.3333333333333333, \"#9c179e\"], [0.4444444444444444, \"#bd3786\"], [0.5555555555555556, \"#d8576b\"], [0.6666666666666666, \"#ed7953\"], [0.7777777777777778, \"#fb9f3a\"], [0.8888888888888888, \"#fdca26\"], [1.0, \"#f0f921\"]], \"type\": \"histogram2dcontour\"}], \"mesh3d\": [{\"colorbar\": {\"outlinewidth\": 0, \"ticks\": \"\"}, \"type\": \"mesh3d\"}], \"parcoords\": [{\"line\": {\"colorbar\": {\"outlinewidth\": 0, \"ticks\": \"\"}}, \"type\": \"parcoords\"}], \"pie\": [{\"automargin\": true, \"type\": \"pie\"}], \"scatter\": [{\"marker\": {\"colorbar\": {\"outlinewidth\": 0, \"ticks\": \"\"}}, \"type\": \"scatter\"}], \"scatter3d\": [{\"line\": {\"colorbar\": {\"outlinewidth\": 0, \"ticks\": \"\"}}, \"marker\": {\"colorbar\": {\"outlinewidth\": 0, \"ticks\": \"\"}}, \"type\": \"scatter3d\"}], \"scattercarpet\": [{\"marker\": {\"colorbar\": {\"outlinewidth\": 0, \"ticks\": \"\"}}, \"type\": \"scattercarpet\"}], \"scattergeo\": [{\"marker\": {\"colorbar\": {\"outlinewidth\": 0, \"ticks\": \"\"}}, \"type\": \"scattergeo\"}], \"scattergl\": [{\"marker\": {\"colorbar\": {\"outlinewidth\": 0, \"ticks\": \"\"}}, \"type\": \"scattergl\"}], \"scattermapbox\": [{\"marker\": {\"colorbar\": {\"outlinewidth\": 0, \"ticks\": \"\"}}, \"type\": \"scattermapbox\"}], \"scatterpolar\": [{\"marker\": {\"colorbar\": {\"outlinewidth\": 0, \"ticks\": \"\"}}, \"type\": \"scatterpolar\"}], \"scatterpolargl\": [{\"marker\": {\"colorbar\": {\"outlinewidth\": 0, \"ticks\": \"\"}}, \"type\": \"scatterpolargl\"}], \"scatterternary\": [{\"marker\": {\"colorbar\": {\"outlinewidth\": 0, \"ticks\": \"\"}}, \"type\": \"scatterternary\"}], \"surface\": [{\"colorbar\": {\"outlinewidth\": 0, \"ticks\": \"\"}, \"colorscale\": [[0.0, \"#0d0887\"], [0.1111111111111111, \"#46039f\"], [0.2222222222222222, \"#7201a8\"], [0.3333333333333333, \"#9c179e\"], [0.4444444444444444, \"#bd3786\"], [0.5555555555555556, \"#d8576b\"], [0.6666666666666666, \"#ed7953\"], [0.7777777777777778, \"#fb9f3a\"], [0.8888888888888888, \"#fdca26\"], [1.0, \"#f0f921\"]], \"type\": \"surface\"}], \"table\": [{\"cells\": {\"fill\": {\"color\": \"#EBF0F8\"}, \"line\": {\"color\": \"white\"}}, \"header\": {\"fill\": {\"color\": \"#C8D4E3\"}, \"line\": {\"color\": \"white\"}}, \"type\": \"table\"}]}, \"layout\": {\"annotationdefaults\": {\"arrowcolor\": \"#2a3f5f\", \"arrowhead\": 0, \"arrowwidth\": 1}, \"autotypenumbers\": \"strict\", \"coloraxis\": {\"colorbar\": {\"outlinewidth\": 0, \"ticks\": \"\"}}, \"colorscale\": {\"diverging\": [[0, \"#8e0152\"], [0.1, \"#c51b7d\"], [0.2, \"#de77ae\"], [0.3, \"#f1b6da\"], [0.4, \"#fde0ef\"], [0.5, \"#f7f7f7\"], [0.6, \"#e6f5d0\"], [0.7, \"#b8e186\"], [0.8, \"#7fbc41\"], [0.9, \"#4d9221\"], [1, \"#276419\"]], \"sequential\": [[0.0, \"#0d0887\"], [0.1111111111111111, \"#46039f\"], [0.2222222222222222, \"#7201a8\"], [0.3333333333333333, \"#9c179e\"], [0.4444444444444444, \"#bd3786\"], [0.5555555555555556, \"#d8576b\"], [0.6666666666666666, \"#ed7953\"], [0.7777777777777778, \"#fb9f3a\"], [0.8888888888888888, \"#fdca26\"], [1.0, \"#f0f921\"]], \"sequentialminus\": [[0.0, \"#0d0887\"], [0.1111111111111111, \"#46039f\"], [0.2222222222222222, \"#7201a8\"], [0.3333333333333333, \"#9c179e\"], [0.4444444444444444, \"#bd3786\"], [0.5555555555555556, \"#d8576b\"], [0.6666666666666666, \"#ed7953\"], [0.7777777777777778, \"#fb9f3a\"], [0.8888888888888888, \"#fdca26\"], [1.0, \"#f0f921\"]]}, \"colorway\": [\"#636efa\", \"#EF553B\", \"#00cc96\", \"#ab63fa\", \"#FFA15A\", \"#19d3f3\", \"#FF6692\", \"#B6E880\", \"#FF97FF\", \"#FECB52\"], \"font\": {\"color\": \"#2a3f5f\"}, \"geo\": {\"bgcolor\": \"white\", \"lakecolor\": \"white\", \"landcolor\": \"#E5ECF6\", \"showlakes\": true, \"showland\": true, \"subunitcolor\": \"white\"}, \"hoverlabel\": {\"align\": \"left\"}, \"hovermode\": \"closest\", \"mapbox\": {\"style\": \"light\"}, \"paper_bgcolor\": \"white\", \"plot_bgcolor\": \"#E5ECF6\", \"polar\": {\"angularaxis\": {\"gridcolor\": \"white\", \"linecolor\": \"white\", \"ticks\": \"\"}, \"bgcolor\": \"#E5ECF6\", \"radialaxis\": {\"gridcolor\": \"white\", \"linecolor\": \"white\", \"ticks\": \"\"}}, \"scene\": {\"xaxis\": {\"backgroundcolor\": \"#E5ECF6\", \"gridcolor\": \"white\", \"gridwidth\": 2, \"linecolor\": \"white\", \"showbackground\": true, \"ticks\": \"\", \"zerolinecolor\": \"white\"}, \"yaxis\": {\"backgroundcolor\": \"#E5ECF6\", \"gridcolor\": \"white\", \"gridwidth\": 2, \"linecolor\": \"white\", \"showbackground\": true, \"ticks\": \"\", \"zerolinecolor\": \"white\"}, \"zaxis\": {\"backgroundcolor\": \"#E5ECF6\", \"gridcolor\": \"white\", \"gridwidth\": 2, \"linecolor\": \"white\", \"showbackground\": true, \"ticks\": \"\", \"zerolinecolor\": \"white\"}}, \"shapedefaults\": {\"line\": {\"color\": \"#2a3f5f\"}}, \"ternary\": {\"aaxis\": {\"gridcolor\": \"white\", \"linecolor\": \"white\", \"ticks\": \"\"}, \"baxis\": {\"gridcolor\": \"white\", \"linecolor\": \"white\", \"ticks\": \"\"}, \"bgcolor\": \"#E5ECF6\", \"caxis\": {\"gridcolor\": \"white\", \"linecolor\": \"white\", \"ticks\": \"\"}}, \"title\": {\"x\": 0.05}, \"xaxis\": {\"automargin\": true, \"gridcolor\": \"white\", \"linecolor\": \"white\", \"ticks\": \"\", \"title\": {\"standoff\": 15}, \"zerolinecolor\": \"white\", \"zerolinewidth\": 2}, \"yaxis\": {\"automargin\": true, \"gridcolor\": \"white\", \"linecolor\": \"white\", \"ticks\": \"\", \"title\": {\"standoff\": 15}, \"zerolinecolor\": \"white\", \"zerolinewidth\": 2}}}},                        {\"responsive\": true}                    ).then(function(){\n",
       "                            \n",
       "var gd = document.getElementById('1ce56eda-7cb6-4bb4-9c07-279e0f114b85');\n",
       "var x = new MutationObserver(function (mutations, observer) {{\n",
       "        var display = window.getComputedStyle(gd).display;\n",
       "        if (!display || display === 'none') {{\n",
       "            console.log([gd, 'removed!']);\n",
       "            Plotly.purge(gd);\n",
       "            observer.disconnect();\n",
       "        }}\n",
       "}});\n",
       "\n",
       "// Listen for the removal of the full notebook cells\n",
       "var notebookContainer = gd.closest('#notebook-container');\n",
       "if (notebookContainer) {{\n",
       "    x.observe(notebookContainer, {childList: true});\n",
       "}}\n",
       "\n",
       "// Listen for the clearing of the current output cell\n",
       "var outputEl = gd.closest('.output');\n",
       "if (outputEl) {{\n",
       "    x.observe(outputEl, {childList: true});\n",
       "}}\n",
       "\n",
       "                        })                };                });            </script>        </div>"
      ]
     },
     "metadata": {},
     "output_type": "display_data"
    }
   ],
   "source": [
    "#Creating a bounding box\n",
    "east, north, west, south = -78.810120,35.567422,-78.805056,35.572798  \n",
    "G = ox.graph_from_bbox(north, south, east, west, network_type=\"drive_service\")\n",
    "colors = plt.rcParams['axes.prop_cycle'].by_key()['color']\n",
    "ox.plot.plot_graph(G, bgcolor='#FFFFFF', node_color=colors[0], edge_color='lightgray', node_size=5)\n",
    "\n",
    "\n",
    "    #Extracting Node Information from G\n",
    "Nodes = []\n",
    "for i in G.nodes:\n",
    "    Nodes.append(i)\n",
    "\n",
    "data = pd.DataFrame(Nodes)\n",
    "data.rename(columns = {0:'Nodes'}, inplace = True)\n",
    "\n",
    "\n",
    "lat1 = []\n",
    "long1 = []\n",
    "for i in Nodes:\n",
    "    lat1.append(G.nodes[i].get('y'))\n",
    "    long1.append(G.nodes[i].get('x'))\n",
    "data['Latitude'] = lat1\n",
    "data['Longitude'] = long1\n",
    "df1 = data\n",
    "G = ox.graph_from_place('Fuquay Varina, NC, USA', network_type='drive')\n",
    "\n",
    "df1 = df1.drop(['Nodes'],axis=1)\n",
    "df1.rename(columns = {'Latitude':'Left'}, inplace = True)\n",
    "df1.rename(columns = {'Longitude':'Right'}, inplace = True)\n",
    "\n",
    "    #Calculating Distance and the distance matrix for all coordinates in the Bounding Box\n",
    "df3 = pd.DataFrame()\n",
    "for j in df1.index:\n",
    "    list1 = []\n",
    "    for i in df1.index:\n",
    "        r = requests.get(f\"\"\"http://router.project-osrm.org/route/v1/car/{df1.loc[j, \"Right\"]},{df1.loc[j, \"Left\"]};{df1.loc[i, \"Right\"]},{df1.loc[i, \"Left\"]}?overview=false\"\"\")\n",
    "        list1.append(json.loads(r.content)[\"routes\"][0][\"distance\"])\n",
    "    df3[j] = list1\n",
    "df = df1\n",
    "df['coordinate'] = list(zip(df['Right'],df['Left']))\n",
    "df['ID'] = df.index\n",
    "\n",
    "locations = dict( ( ID, (df.loc[ID, 'Right'], df.loc[ID, 'Left']) ) for ID in df.index)\n",
    "distances_df = df3\n",
    "distance = distances_df\n",
    "distances = dict( ((l1,l2), distance.iloc[l1, l2] ) for l1 in locations for l2 in locations if l1!=l2)\n",
    "\n",
    "\n",
    "    ## V: This defines the total number of vehicles that will traverse the path.\n",
    "V = 1\n",
    "    ## prob: This initializes the problem that will run using provided constraints.\n",
    "\n",
    "prob=LpProblem(\"vehicle\", LpMinimize)\n",
    "    ## indicator: This defines the variable dictionary consisting of distances and indicates if location i is connected to location j along route\n",
    "indicator = LpVariable.dicts('indicator',distances, 0,1,LpBinary)\n",
    "    ## eliminator: This defines the variable dictionary consisting of the node ID's and elimiate subtours\n",
    "eliminator = LpVariable.dicts('eliminator', df.ID, 0, len(df.ID)-1, LpInteger)\n",
    "    ## cost: This stores the result of distances calculations.\n",
    "cost = lpSum([indicator[(i,j)]*distances[(i,j)] for (i,j) in distances])\n",
    "prob+=cost\n",
    "\n",
    "start1 = 2\n",
    "for v in df.ID:\n",
    "        ## cap: This considers a particular node at a time. \n",
    "    cap = 1 if v != start1 else V\n",
    "        #inward possible route\n",
    "    prob+= lpSum([ indicator[(i,v)] for i in df.ID if (i,v) in indicator]) ==cap\n",
    "        #outward possible route\n",
    "    prob+=lpSum([ indicator[(v,i)] for i in df.ID if (v,i) in indicator]) ==cap\n",
    "    ## num: This stores the result of the number of nodes and the number of vehicles.    \n",
    "num=len(df.ID)/V\n",
    "for i in df.ID:\n",
    "    for j in df.ID:\n",
    "        if i != j and (i != start1 and j!= start1) and (i,j) in indicator:\n",
    "             prob += eliminator[i] - eliminator[j] <= (num)*(1-indicator[(i,j)]) - 1         \n",
    "prob.solve()\n",
    "    ## feasibleedges: This stores values of edges after the calculations are done.\n",
    "feasible_edges = [ e for e in indicator if value(indicator[e]) != 0 ]\n",
    "    ##@get_next_loc\n",
    "    # This provides with the next coordinates for the next node in the path.\n",
    "def get_next_loc(initial):\n",
    "    edges = [e for e in feasible_edges if e[0]==initial]\n",
    "    for e in edges:\n",
    "        feasible_edges.remove(e)\n",
    "    return edges\n",
    "    ## routes: This stores information regarding paths.    \n",
    "routes = get_next_loc(2)\n",
    "routes = [ [e] for e in routes ]\n",
    "\n",
    "for r in routes:\n",
    "    while r[-1][1] !=start1:\n",
    "        r.append(get_next_loc(r[-1][1])[-1])\n",
    "\n",
    "\n",
    "\n",
    "\n",
    "df2 = df[['Left', 'Right', 'ID']].copy()\n",
    "df2.rename(columns = {'Left':'Latitude'}, inplace = True)\n",
    "df2.rename(columns = {'Right':'Longitude'}, inplace = True)\n",
    "a=[]\n",
    "for i in range(data.index.stop):\n",
    "    #print(routes[0][i][0])\n",
    "    a.append(routes[0][i][0]) \n",
    "\n",
    "df3 = pd.DataFrame()\n",
    "for i in a:\n",
    "    df3 = df3.append(df2.loc[i])\n",
    "\n",
    "df3.reset_index(inplace = True)\n",
    "\n",
    "df3 = df3.append(df3.loc[0])\n",
    "df3.reset_index(inplace = True)\n",
    "df4 = df3\n",
    "dfnodes = pd.DataFrame(Nodes)\n",
    "dfnodes.rename(columns = {0:'Nodes'}, inplace = True)\n",
    "dfnodes = dfnodes.reindex(a)\n",
    "dfnodes = dfnodes.append({\"Nodes\":Nodes[a[0]]},ignore_index=True)\n",
    "df4 = pd.concat([df4,dfnodes],axis=1)\n",
    "    \n",
    "    \n",
    "def node_list_to_path2(G, node_list):\n",
    "   \n",
    "    edge_nodes = list(zip(node_list[:-1], node_list[1:]))\n",
    "    lines = []\n",
    "    newlist=[]\n",
    "    \n",
    "    \n",
    "    \n",
    "    \n",
    "    #for u, v in edge_nodes:\n",
    "    #    if(G.get_edge_data(u, v)):\n",
    "    #        newlist.append((u,v))\n",
    "            \n",
    "            \n",
    "            \n",
    "    for u, v in edge_nodes:\n",
    "        if(G.get_edge_data(u, v)):\n",
    "            newlist.append((u,v))\n",
    "        else:    \n",
    "            path1 = nx.shortest_path(G,u, v, weight='travel_time')\n",
    "            path2 = list(zip(path1[:-1], path1[1:]))\n",
    "            newlist = newlist+path2        \n",
    "    #print(newlist)\n",
    "    #print(len(newlist))\n",
    "    \n",
    "    for u, v in newlist:\n",
    "        # if there are parallel edges, select the shortest in length\n",
    "        \n",
    "        data = min(G.get_edge_data(u, v).values(), \n",
    "                key=lambda x: x['length'])\n",
    "            # if it has a geometry attribute\n",
    "        if 'geometry' in data:\n",
    "            # add them to the list of lines to plot\n",
    "            xs, ys = data['geometry'].xy\n",
    "            lines.append(list(zip(xs, ys)))\n",
    "        else:\n",
    "            # if it doesn't have a geometry attribute,\n",
    "            # then the edge is a straight line from node to node\n",
    "            x1 = G.nodes[u]['x']\n",
    "            y1 = G.nodes[u]['y']\n",
    "            x2 = G.nodes[v]['x']\n",
    "            y2 = G.nodes[v]['y']\n",
    "            line = [(x1, y1), (x2, y2)]\n",
    "            lines.append(line)\n",
    "            \n",
    "    return lines    \n",
    "    \n",
    "    \n",
    "    \n",
    "def plot_path(lat, long, origin_point, destination_point):\n",
    "    fig = go.Figure(go.Scattermapbox(\n",
    "        name = \"Path\",\n",
    "        mode = \"lines\",\n",
    "        lon = long,\n",
    "        lat = lat,\n",
    "        marker = {'size': 10},\n",
    "        line = dict(width = 4.5, color = 'grey')))\n",
    "    fig.add_trace(go.Scattermapbox(\n",
    "        name = \"Source\",\n",
    "        mode = \"markers\",\n",
    "        lon = [origin_point[1]],\n",
    "        lat = [origin_point[0]],\n",
    "        marker = {'size': 12, 'color':\"red\"}))\n",
    "    fig.add_trace(go.Scattermapbox(\n",
    "        name = \"Destination\",\n",
    "        mode = \"markers\",\n",
    "        lon = [destination_point[1]],\n",
    "        lat = [destination_point[0]],\n",
    "        marker = {'size': 12, 'color':'green'}))\n",
    "    lat_center = np.mean(lat)\n",
    "    long_center = np.mean(long)\n",
    "    fig.update_layout(mapbox_style=\"carto-darkmatter\",\n",
    "        mapbox_center_lat = 30, mapbox_center_lon=-80)\n",
    "    fig.update_layout(margin={\"r\":0,\"t\":0,\"l\":0,\"b\":0},\n",
    "                        mapbox = {\n",
    "                            'center': {'lat': lat_center, \n",
    "                            'lon': long_center},\n",
    "                            'zoom': 13})\n",
    "    fig.show()\n",
    "\n",
    "\n",
    "pathlist = []\n",
    "for i in range(df4['Nodes'].count()-1):\n",
    "    path1 = nx.shortest_path(G, df4.iloc[i]['Nodes'],df4.iloc[i+1]['Nodes'], weight='travel_time')\n",
    "    pathlist = pathlist+path1\n",
    "#pathlist1 = list(dict.fromkeys(pathlist))\n",
    "#pathlist1.append(pathlist1[0])\n",
    "data4 = pd.DataFrame(pathlist)\n",
    "data4.rename(columns = {0:'Nodes'}, inplace = True)\n",
    "lat1 = []\n",
    "long1 = []\n",
    "lines = node_list_to_path2(G, pathlist)\n",
    "long2 = []\n",
    "lat2 = []\n",
    "for i in range(len(lines)):\n",
    "    z = list(lines[i])\n",
    "    l1 = list(list(zip(*z))[0])\n",
    "    l2 = list(list(zip(*z))[1])\n",
    "    for j in range(len(l1)):\n",
    "        long2.append(l1[j])\n",
    "        lat2.append(l2[j])\n",
    "        \n",
    "newdf = pd.DataFrame()\n",
    "newdf['Latitude'] = lat2\n",
    "newdf['Longitude'] = long2\n",
    "Trash = []\n",
    "for i in newdf.index:\n",
    "    Trash.append(random.randint(6,10))\n",
    "newdf['Trash'] = Trash\n",
    "\n",
    "duration1= []\n",
    "for i in range(newdf.index.stop-1):\n",
    "    r = requests.get(f\"\"\"http://router.project-osrm.org/route/v1/car/{newdf.loc[i, \"Longitude\"]},{newdf.loc[i, \"Latitude\"]};{newdf.loc[i+1, \"Longitude\"]},{newdf.loc[i+1, \"Latitude\"]}?overview=false\"\"\")\n",
    "    duration1.append(json.loads(r.content)[\"routes\"][0][\"duration\"])        \n",
    "        \n",
    "for i in pathlist:\n",
    "    lat1.append(G.nodes[i].get('y'))\n",
    "    long1.append(G.nodes[i].get('x'))\n",
    "data4['Latitude'] = lat1\n",
    "data4['Longitude'] = long1\n",
    "origin_point = (data4.loc[0][\"Latitude\"], data4.loc[0][\"Longitude\"]) \n",
    "destination_point = (data4.iloc[-1][\"Latitude\"], data4.iloc[-1][\"Longitude\"])\n",
    "#plot_path(lat1, long1, origin_point, destination_point)\n",
    "\n",
    "\n",
    "plot_path(lat2, long2, origin_point, destination_point)"
   ]
  },
  {
   "cell_type": "code",
   "execution_count": 30,
   "id": "increased-confirmation",
   "metadata": {},
   "outputs": [],
   "source": [
    "path2 = pathlist"
   ]
  },
  {
   "cell_type": "code",
   "execution_count": 31,
   "id": "recorded-surrey",
   "metadata": {},
   "outputs": [],
   "source": [
    "trash2 = Trash"
   ]
  },
  {
   "cell_type": "code",
   "execution_count": 32,
   "id": "latin-armenia",
   "metadata": {},
   "outputs": [],
   "source": [
    "duration2 = duration1"
   ]
  },
  {
   "cell_type": "code",
   "execution_count": 33,
   "id": "periodic-completion",
   "metadata": {},
   "outputs": [
    {
     "data": {
      "image/png": "[encoded data removed]",
      "text/plain": [
       "<Figure size 576x576 with 1 Axes>"
      ]
     },
     "metadata": {},
     "output_type": "display_data"
    },
    {
     "data": {
      "application/vnd.plotly.v1+json": {
       "config": {
        "plotlyServerURL": "https://plot.ly"
       },
       "data": [
        {
         "lat": [
          35.5739818,
          35.5739954,
          35.5740535,
          35.5740535,
          35.5744634,
          35.5744634,
          35.5744443,
          35.5744116,
          35.574214,
          35.574214,
          35.5740806,
          35.5740535,
          35.5740535,
          35.574028,
          35.5739972,
          35.5738934,
          35.5734559,
          35.5732776,
          35.5729574,
          35.5727314,
          35.5726118,
          35.5722823,
          35.5720539,
          35.5718735,
          35.5718735,
          35.5718941,
          35.572018,
          35.5720405,
          35.5720336,
          35.5720336,
          35.5720327,
          35.572029,
          35.5721126,
          35.572179,
          35.5722071,
          35.5722071,
          35.5722511,
          35.5722608,
          35.5723568,
          35.5724576,
          35.5725766,
          35.5728138,
          35.5730574,
          35.5730574,
          35.5730571,
          35.5730476,
          35.5730476,
          35.5730571,
          35.5730574,
          35.5730574,
          35.5732283,
          35.5733957,
          35.5735709,
          35.5736897,
          35.5737326,
          35.5738136,
          35.5738136,
          35.573929,
          35.574065,
          35.5741585,
          35.5742045,
          35.5742474,
          35.5742474,
          35.5746579,
          35.574994,
          35.5751701,
          35.575185,
          35.575185,
          35.5751509,
          35.5750519,
          35.5750519,
          35.5751509,
          35.575185,
          35.575185,
          35.5755519,
          35.5757671,
          35.5758702,
          35.575923,
          35.575979,
          35.575979,
          35.5759256,
          35.575386,
          35.5752393,
          35.5750819,
          35.5749367,
          35.5745884,
          35.5744558,
          35.5743985,
          35.5743985,
          35.574103,
          35.5739818
         ],
         "line": {
          "color": "grey",
          "width": 4.5
         },
         "lon": [
          -78.8131853,
          -78.8129821,
          -78.8121107,
          -78.8121107,
          -78.812128,
          -78.812128,
          -78.8120305,
          -78.8118631,
          -78.8113316,
          -78.8113316,
          -78.811979,
          -78.8121107,
          -78.8121107,
          -78.812113,
          -78.8121189,
          -78.812139,
          -78.8123675,
          -78.8124114,
          -78.8123995,
          -78.8124158,
          -78.8124499,
          -78.8126676,
          -78.8128297,
          -78.8129339,
          -78.8129339,
          -78.8130097,
          -78.813467,
          -78.8136691,
          -78.8138161,
          -78.8138161,
          -78.8138718,
          -78.814098,
          -78.8145684,
          -78.814823,
          -78.8148838,
          -78.8148838,
          -78.8149429,
          -78.814956,
          -78.815036,
          -78.8150872,
          -78.8151185,
          -78.8151034,
          -78.8150872,
          -78.8150872,
          -78.8150058,
          -78.8143864,
          -78.8143864,
          -78.8150058,
          -78.8150872,
          -78.8150872,
          -78.8151015,
          -78.8151584,
          -78.8152729,
          -78.8153566,
          -78.8153854,
          -78.8154399,
          -78.8154399,
          -78.8154666,
          -78.8154678,
          -78.8154343,
          -78.815395,
          -78.8153584,
          -78.8153584,
          -78.8149573,
          -78.8146184,
          -78.8144508,
          -78.8144414,
          -78.8144414,
          -78.8143794,
          -78.8141912,
          -78.8141912,
          -78.8143794,
          -78.8144414,
          -78.8144414,
          -78.8142098,
          -78.8140831,
          -78.8139894,
          -78.8139163,
          -78.8138387,
          -78.8138387,
          -78.8137961,
          -78.8133662,
          -78.8132533,
          -78.8131809,
          -78.8131609,
          -78.8131425,
          -78.8131357,
          -78.8131327,
          -78.8131327,
          -78.8131313,
          -78.8131853
         ],
         "marker": {
          "size": 10
         },
         "mode": "lines",
         "name": "Path",
         "type": "scattermapbox"
        },
        {
         "lat": [
          35.5739818
         ],
         "lon": [
          -78.8131853
         ],
         "marker": {
          "color": "red",
          "size": 12
         },
         "mode": "markers",
         "name": "Source",
         "type": "scattermapbox"
        },
        {
         "lat": [
          35.5739818
         ],
         "lon": [
          -78.8131853
         ],
         "marker": {
          "color": "green",
          "size": 12
         },
         "mode": "markers",
         "name": "Destination",
         "type": "scattermapbox"
        }
       ],
       "layout": {
        "mapbox": {
         "center": {
          "lat": 35.57379220769231,
          "lon": -78.81384096813188
         },
         "style": "carto-darkmatter",
         "zoom": 13
        },
        "margin": {
         "b": 0,
         "l": 0,
         "r": 0,
         "t": 0
        },
        "template": {
         "data": {
          "bar": [
           {
            "error_x": {
             "color": "#2a3f5f"
            },
            "error_y": {
             "color": "#2a3f5f"
            },
            "marker": {
             "line": {
              "color": "#E5ECF6",
              "width": 0.5
             }
            },
            "type": "bar"
           }
          ],
          "barpolar": [
           {
            "marker": {
             "line": {
              "color": "#E5ECF6",
              "width": 0.5
             }
            },
            "type": "barpolar"
           }
          ],
          "carpet": [
           {
            "aaxis": {
             "endlinecolor": "#2a3f5f",
             "gridcolor": "white",
             "linecolor": "white",
             "minorgridcolor": "white",
             "startlinecolor": "#2a3f5f"
            },
            "baxis": {
             "endlinecolor": "#2a3f5f",
             "gridcolor": "white",
             "linecolor": "white",
             "minorgridcolor": "white",
             "startlinecolor": "#2a3f5f"
            },
            "type": "carpet"
           }
          ],
          "choropleth": [
           {
            "colorbar": {
             "outlinewidth": 0,
             "ticks": ""
            },
            "type": "choropleth"
           }
          ],
          "contour": [
           {
            "colorbar": {
             "outlinewidth": 0,
             "ticks": ""
            },
            "colorscale": [
             [
              0,
              "#0d0887"
             ],
             [
              0.1111111111111111,
              "#46039f"
             ],
             [
              0.2222222222222222,
              "#7201a8"
             ],
             [
              0.3333333333333333,
              "#9c179e"
             ],
             [
              0.4444444444444444,
              "#bd3786"
             ],
             [
              0.5555555555555556,
              "#d8576b"
             ],
             [
              0.6666666666666666,
              "#ed7953"
             ],
             [
              0.7777777777777778,
              "#fb9f3a"
             ],
             [
              0.8888888888888888,
              "#fdca26"
             ],
             [
              1,
              "#f0f921"
             ]
            ],
            "type": "contour"
           }
          ],
          "contourcarpet": [
           {
            "colorbar": {
             "outlinewidth": 0,
             "ticks": ""
            },
            "type": "contourcarpet"
           }
          ],
          "heatmap": [
           {
            "colorbar": {
             "outlinewidth": 0,
             "ticks": ""
            },
            "colorscale": [
             [
              0,
              "#0d0887"
             ],
             [
              0.1111111111111111,
              "#46039f"
             ],
             [
              0.2222222222222222,
              "#7201a8"
             ],
             [
              0.3333333333333333,
              "#9c179e"
             ],
             [
              0.4444444444444444,
              "#bd3786"
             ],
             [
              0.5555555555555556,
              "#d8576b"
             ],
             [
              0.6666666666666666,
              "#ed7953"
             ],
             [
              0.7777777777777778,
              "#fb9f3a"
             ],
             [
              0.8888888888888888,
              "#fdca26"
             ],
             [
              1,
              "#f0f921"
             ]
            ],
            "type": "heatmap"
           }
          ],
          "heatmapgl": [
           {
            "colorbar": {
             "outlinewidth": 0,
             "ticks": ""
            },
            "colorscale": [
             [
              0,
              "#0d0887"
             ],
             [
              0.1111111111111111,
              "#46039f"
             ],
             [
              0.2222222222222222,
              "#7201a8"
             ],
             [
              0.3333333333333333,
              "#9c179e"
             ],
             [
              0.4444444444444444,
              "#bd3786"
             ],
             [
              0.5555555555555556,
              "#d8576b"
             ],
             [
              0.6666666666666666,
              "#ed7953"
             ],
             [
              0.7777777777777778,
              "#fb9f3a"
             ],
             [
              0.8888888888888888,
              "#fdca26"
             ],
             [
              1,
              "#f0f921"
             ]
            ],
            "type": "heatmapgl"
           }
          ],
          "histogram": [
           {
            "marker": {
             "colorbar": {
              "outlinewidth": 0,
              "ticks": ""
             }
            },
            "type": "histogram"
           }
          ],
          "histogram2d": [
           {
            "colorbar": {
             "outlinewidth": 0,
             "ticks": ""
            },
            "colorscale": [
             [
              0,
              "#0d0887"
             ],
             [
              0.1111111111111111,
              "#46039f"
             ],
             [
              0.2222222222222222,
              "#7201a8"
             ],
             [
              0.3333333333333333,
              "#9c179e"
             ],
             [
              0.4444444444444444,
              "#bd3786"
             ],
             [
              0.5555555555555556,
              "#d8576b"
             ],
             [
              0.6666666666666666,
              "#ed7953"
             ],
             [
              0.7777777777777778,
              "#fb9f3a"
             ],
             [
              0.8888888888888888,
              "#fdca26"
             ],
             [
              1,
              "#f0f921"
             ]
            ],
            "type": "histogram2d"
           }
          ],
          "histogram2dcontour": [
           {
            "colorbar": {
             "outlinewidth": 0,
             "ticks": ""
            },
            "colorscale": [
             [
              0,
              "#0d0887"
             ],
             [
              0.1111111111111111,
              "#46039f"
             ],
             [
              0.2222222222222222,
              "#7201a8"
             ],
             [
              0.3333333333333333,
              "#9c179e"
             ],
             [
              0.4444444444444444,
              "#bd3786"
             ],
             [
              0.5555555555555556,
              "#d8576b"
             ],
             [
              0.6666666666666666,
              "#ed7953"
             ],
             [
              0.7777777777777778,
              "#fb9f3a"
             ],
             [
              0.8888888888888888,
              "#fdca26"
             ],
             [
              1,
              "#f0f921"
             ]
            ],
            "type": "histogram2dcontour"
           }
          ],
          "mesh3d": [
           {
            "colorbar": {
             "outlinewidth": 0,
             "ticks": ""
            },
            "type": "mesh3d"
           }
          ],
          "parcoords": [
           {
            "line": {
             "colorbar": {
              "outlinewidth": 0,
              "ticks": ""
             }
            },
            "type": "parcoords"
           }
          ],
          "pie": [
           {
            "automargin": true,
            "type": "pie"
           }
          ],
          "scatter": [
           {
            "marker": {
             "colorbar": {
              "outlinewidth": 0,
              "ticks": ""
             }
            },
            "type": "scatter"
           }
          ],
          "scatter3d": [
           {
            "line": {
             "colorbar": {
              "outlinewidth": 0,
              "ticks": ""
             }
            },
            "marker": {
             "colorbar": {
              "outlinewidth": 0,
              "ticks": ""
             }
            },
            "type": "scatter3d"
           }
          ],
          "scattercarpet": [
           {
            "marker": {
             "colorbar": {
              "outlinewidth": 0,
              "ticks": ""
             }
            },
            "type": "scattercarpet"
           }
          ],
          "scattergeo": [
           {
            "marker": {
             "colorbar": {
              "outlinewidth": 0,
              "ticks": ""
             }
            },
            "type": "scattergeo"
           }
          ],
          "scattergl": [
           {
            "marker": {
             "colorbar": {
              "outlinewidth": 0,
              "ticks": ""
             }
            },
            "type": "scattergl"
           }
          ],
          "scattermapbox": [
           {
            "marker": {
             "colorbar": {
              "outlinewidth": 0,
              "ticks": ""
             }
            },
            "type": "scattermapbox"
           }
          ],
          "scatterpolar": [
           {
            "marker": {
             "colorbar": {
              "outlinewidth": 0,
              "ticks": ""
             }
            },
            "type": "scatterpolar"
           }
          ],
          "scatterpolargl": [
           {
            "marker": {
             "colorbar": {
              "outlinewidth": 0,
              "ticks": ""
             }
            },
            "type": "scatterpolargl"
           }
          ],
          "scatterternary": [
           {
            "marker": {
             "colorbar": {
              "outlinewidth": 0,
              "ticks": ""
             }
            },
            "type": "scatterternary"
           }
          ],
          "surface": [
           {
            "colorbar": {
             "outlinewidth": 0,
             "ticks": ""
            },
            "colorscale": [
             [
              0,
              "#0d0887"
             ],
             [
              0.1111111111111111,
              "#46039f"
             ],
             [
              0.2222222222222222,
              "#7201a8"
             ],
             [
              0.3333333333333333,
              "#9c179e"
             ],
             [
              0.4444444444444444,
              "#bd3786"
             ],
             [
              0.5555555555555556,
              "#d8576b"
             ],
             [
              0.6666666666666666,
              "#ed7953"
             ],
             [
              0.7777777777777778,
              "#fb9f3a"
             ],
             [
              0.8888888888888888,
              "#fdca26"
             ],
             [
              1,
              "#f0f921"
             ]
            ],
            "type": "surface"
           }
          ],
          "table": [
           {
            "cells": {
             "fill": {
              "color": "#EBF0F8"
             },
             "line": {
              "color": "white"
             }
            },
            "header": {
             "fill": {
              "color": "#C8D4E3"
             },
             "line": {
              "color": "white"
             }
            },
            "type": "table"
           }
          ]
         },
         "layout": {
          "annotationdefaults": {
           "arrowcolor": "#2a3f5f",
           "arrowhead": 0,
           "arrowwidth": 1
          },
          "autotypenumbers": "strict",
          "coloraxis": {
           "colorbar": {
            "outlinewidth": 0,
            "ticks": ""
           }
          },
          "colorscale": {
           "diverging": [
            [
             0,
             "#8e0152"
            ],
            [
             0.1,
             "#c51b7d"
            ],
            [
             0.2,
             "#de77ae"
            ],
            [
             0.3,
             "#f1b6da"
            ],
            [
             0.4,
             "#fde0ef"
            ],
            [
             0.5,
             "#f7f7f7"
            ],
            [
             0.6,
             "#e6f5d0"
            ],
            [
             0.7,
             "#b8e186"
            ],
            [
             0.8,
             "#7fbc41"
            ],
            [
             0.9,
             "#4d9221"
            ],
            [
             1,
             "#276419"
            ]
           ],
           "sequential": [
            [
             0,
             "#0d0887"
            ],
            [
             0.1111111111111111,
             "#46039f"
            ],
            [
             0.2222222222222222,
             "#7201a8"
            ],
            [
             0.3333333333333333,
             "#9c179e"
            ],
            [
             0.4444444444444444,
             "#bd3786"
            ],
            [
             0.5555555555555556,
             "#d8576b"
            ],
            [
             0.6666666666666666,
             "#ed7953"
            ],
            [
             0.7777777777777778,
             "#fb9f3a"
            ],
            [
             0.8888888888888888,
             "#fdca26"
            ],
            [
             1,
             "#f0f921"
            ]
           ],
           "sequentialminus": [
            [
             0,
             "#0d0887"
            ],
            [
             0.1111111111111111,
             "#46039f"
            ],
            [
             0.2222222222222222,
             "#7201a8"
            ],
            [
             0.3333333333333333,
             "#9c179e"
            ],
            [
             0.4444444444444444,
             "#bd3786"
            ],
            [
             0.5555555555555556,
             "#d8576b"
            ],
            [
             0.6666666666666666,
             "#ed7953"
            ],
            [
             0.7777777777777778,
             "#fb9f3a"
            ],
            [
             0.8888888888888888,
             "#fdca26"
            ],
            [
             1,
             "#f0f921"
            ]
           ]
          },
          "colorway": [
           "#636efa",
           "#EF553B",
           "#00cc96",
           "#ab63fa",
           "#FFA15A",
           "#19d3f3",
           "#FF6692",
           "#B6E880",
           "#FF97FF",
           "#FECB52"
          ],
          "font": {
           "color": "#2a3f5f"
          },
          "geo": {
           "bgcolor": "white",
           "lakecolor": "white",
           "landcolor": "#E5ECF6",
           "showlakes": true,
           "showland": true,
           "subunitcolor": "white"
          },
          "hoverlabel": {
           "align": "left"
          },
          "hovermode": "closest",
          "mapbox": {
           "style": "light"
          },
          "paper_bgcolor": "white",
          "plot_bgcolor": "#E5ECF6",
          "polar": {
           "angularaxis": {
            "gridcolor": "white",
            "linecolor": "white",
            "ticks": ""
           },
           "bgcolor": "#E5ECF6",
           "radialaxis": {
            "gridcolor": "white",
            "linecolor": "white",
            "ticks": ""
           }
          },
          "scene": {
           "xaxis": {
            "backgroundcolor": "#E5ECF6",
            "gridcolor": "white",
            "gridwidth": 2,
            "linecolor": "white",
            "showbackground": true,
            "ticks": "",
            "zerolinecolor": "white"
           },
           "yaxis": {
            "backgroundcolor": "#E5ECF6",
            "gridcolor": "white",
            "gridwidth": 2,
            "linecolor": "white",
            "showbackground": true,
            "ticks": "",
            "zerolinecolor": "white"
           },
           "zaxis": {
            "backgroundcolor": "#E5ECF6",
            "gridcolor": "white",
            "gridwidth": 2,
            "linecolor": "white",
            "showbackground": true,
            "ticks": "",
            "zerolinecolor": "white"
           }
          },
          "shapedefaults": {
           "line": {
            "color": "#2a3f5f"
           }
          },
          "ternary": {
           "aaxis": {
            "gridcolor": "white",
            "linecolor": "white",
            "ticks": ""
           },
           "baxis": {
            "gridcolor": "white",
            "linecolor": "white",
            "ticks": ""
           },
           "bgcolor": "#E5ECF6",
           "caxis": {
            "gridcolor": "white",
            "linecolor": "white",
            "ticks": ""
           }
          },
          "title": {
           "x": 0.05
          },
          "xaxis": {
           "automargin": true,
           "gridcolor": "white",
           "linecolor": "white",
           "ticks": "",
           "title": {
            "standoff": 15
           },
           "zerolinecolor": "white",
           "zerolinewidth": 2
          },
          "yaxis": {
           "automargin": true,
           "gridcolor": "white",
           "linecolor": "white",
           "ticks": "",
           "title": {
            "standoff": 15
           },
           "zerolinecolor": "white",
           "zerolinewidth": 2
          }
         }
        }
       }
      },
      "text/html": [
       "<div>                            <div id=\"d4ef95d1-05d9-48bc-9769-c84aee1d2f46\" class=\"plotly-graph-div\" style=\"height:525px; width:100%;\"></div>            <script type=\"text/javascript\">                require([\"plotly\"], function(Plotly) {                    window.PLOTLYENV=window.PLOTLYENV || {};                                    if (document.getElementById(\"d4ef95d1-05d9-48bc-9769-c84aee1d2f46\")) {                    Plotly.newPlot(                        \"d4ef95d1-05d9-48bc-9769-c84aee1d2f46\",                        [{\"lat\": [35.5739818, 35.5739954, 35.5740535, 35.5740535, 35.5744634, 35.5744634, 35.5744443, 35.5744116, 35.574214, 35.574214, 35.5740806, 35.5740535, 35.5740535, 35.574028, 35.5739972, 35.5738934, 35.5734559, 35.5732776, 35.5729574, 35.5727314, 35.5726118, 35.5722823, 35.5720539, 35.5718735, 35.5718735, 35.5718941, 35.572018, 35.5720405, 35.5720336, 35.5720336, 35.5720327, 35.572029, 35.5721126, 35.572179, 35.5722071, 35.5722071, 35.5722511, 35.5722608, 35.5723568, 35.5724576, 35.5725766, 35.5728138, 35.5730574, 35.5730574, 35.5730571, 35.5730476, 35.5730476, 35.5730571, 35.5730574, 35.5730574, 35.5732283, 35.5733957, 35.5735709, 35.5736897, 35.5737326, 35.5738136, 35.5738136, 35.573929, 35.574065, 35.5741585, 35.5742045, 35.5742474, 35.5742474, 35.5746579, 35.574994, 35.5751701, 35.575185, 35.575185, 35.5751509, 35.5750519, 35.5750519, 35.5751509, 35.575185, 35.575185, 35.5755519, 35.5757671, 35.5758702, 35.575923, 35.575979, 35.575979, 35.5759256, 35.575386, 35.5752393, 35.5750819, 35.5749367, 35.5745884, 35.5744558, 35.5743985, 35.5743985, 35.574103, 35.5739818], \"line\": {\"color\": \"grey\", \"width\": 4.5}, \"lon\": [-78.8131853, -78.8129821, -78.8121107, -78.8121107, -78.812128, -78.812128, -78.8120305, -78.8118631, -78.8113316, -78.8113316, -78.811979, -78.8121107, -78.8121107, -78.812113, -78.8121189, -78.812139, -78.8123675, -78.8124114, -78.8123995, -78.8124158, -78.8124499, -78.8126676, -78.8128297, -78.8129339, -78.8129339, -78.8130097, -78.813467, -78.8136691, -78.8138161, -78.8138161, -78.8138718, -78.814098, -78.8145684, -78.814823, -78.8148838, -78.8148838, -78.8149429, -78.814956, -78.815036, -78.8150872, -78.8151185, -78.8151034, -78.8150872, -78.8150872, -78.8150058, -78.8143864, -78.8143864, -78.8150058, -78.8150872, -78.8150872, -78.8151015, -78.8151584, -78.8152729, -78.8153566, -78.8153854, -78.8154399, -78.8154399, -78.8154666, -78.8154678, -78.8154343, -78.815395, -78.8153584, -78.8153584, -78.8149573, -78.8146184, -78.8144508, -78.8144414, -78.8144414, -78.8143794, -78.8141912, -78.8141912, -78.8143794, -78.8144414, -78.8144414, -78.8142098, -78.8140831, -78.8139894, -78.8139163, -78.8138387, -78.8138387, -78.8137961, -78.8133662, -78.8132533, -78.8131809, -78.8131609, -78.8131425, -78.8131357, -78.8131327, -78.8131327, -78.8131313, -78.8131853], \"marker\": {\"size\": 10}, \"mode\": \"lines\", \"name\": \"Path\", \"type\": \"scattermapbox\"}, {\"lat\": [35.5739818], \"lon\": [-78.8131853], \"marker\": {\"color\": \"red\", \"size\": 12}, \"mode\": \"markers\", \"name\": \"Source\", \"type\": \"scattermapbox\"}, {\"lat\": [35.5739818], \"lon\": [-78.8131853], \"marker\": {\"color\": \"green\", \"size\": 12}, \"mode\": \"markers\", \"name\": \"Destination\", \"type\": \"scattermapbox\"}],                        {\"mapbox\": {\"center\": {\"lat\": 35.57379220769231, \"lon\": -78.81384096813188}, \"style\": \"carto-darkmatter\", \"zoom\": 13}, \"margin\": {\"b\": 0, \"l\": 0, \"r\": 0, \"t\": 0}, \"template\": {\"data\": {\"bar\": [{\"error_x\": {\"color\": \"#2a3f5f\"}, \"error_y\": {\"color\": \"#2a3f5f\"}, \"marker\": {\"line\": {\"color\": \"#E5ECF6\", \"width\": 0.5}}, \"type\": \"bar\"}], \"barpolar\": [{\"marker\": {\"line\": {\"color\": \"#E5ECF6\", \"width\": 0.5}}, \"type\": \"barpolar\"}], \"carpet\": [{\"aaxis\": {\"endlinecolor\": \"#2a3f5f\", \"gridcolor\": \"white\", \"linecolor\": \"white\", \"minorgridcolor\": \"white\", \"startlinecolor\": \"#2a3f5f\"}, \"baxis\": {\"endlinecolor\": \"#2a3f5f\", \"gridcolor\": \"white\", \"linecolor\": \"white\", \"minorgridcolor\": \"white\", \"startlinecolor\": \"#2a3f5f\"}, \"type\": \"carpet\"}], \"choropleth\": [{\"colorbar\": {\"outlinewidth\": 0, \"ticks\": \"\"}, \"type\": \"choropleth\"}], \"contour\": [{\"colorbar\": {\"outlinewidth\": 0, \"ticks\": \"\"}, \"colorscale\": [[0.0, \"#0d0887\"], [0.1111111111111111, \"#46039f\"], [0.2222222222222222, \"#7201a8\"], [0.3333333333333333, \"#9c179e\"], [0.4444444444444444, \"#bd3786\"], [0.5555555555555556, \"#d8576b\"], [0.6666666666666666, \"#ed7953\"], [0.7777777777777778, \"#fb9f3a\"], [0.8888888888888888, \"#fdca26\"], [1.0, \"#f0f921\"]], \"type\": \"contour\"}], \"contourcarpet\": [{\"colorbar\": {\"outlinewidth\": 0, \"ticks\": \"\"}, \"type\": \"contourcarpet\"}], \"heatmap\": [{\"colorbar\": {\"outlinewidth\": 0, \"ticks\": \"\"}, \"colorscale\": [[0.0, \"#0d0887\"], [0.1111111111111111, \"#46039f\"], [0.2222222222222222, \"#7201a8\"], [0.3333333333333333, \"#9c179e\"], [0.4444444444444444, \"#bd3786\"], [0.5555555555555556, \"#d8576b\"], [0.6666666666666666, \"#ed7953\"], [0.7777777777777778, \"#fb9f3a\"], [0.8888888888888888, \"#fdca26\"], [1.0, \"#f0f921\"]], \"type\": \"heatmap\"}], \"heatmapgl\": [{\"colorbar\": {\"outlinewidth\": 0, \"ticks\": \"\"}, \"colorscale\": [[0.0, \"#0d0887\"], [0.1111111111111111, \"#46039f\"], [0.2222222222222222, \"#7201a8\"], [0.3333333333333333, \"#9c179e\"], [0.4444444444444444, \"#bd3786\"], [0.5555555555555556, \"#d8576b\"], [0.6666666666666666, \"#ed7953\"], [0.7777777777777778, \"#fb9f3a\"], [0.8888888888888888, \"#fdca26\"], [1.0, \"#f0f921\"]], \"type\": \"heatmapgl\"}], \"histogram\": [{\"marker\": {\"colorbar\": {\"outlinewidth\": 0, \"ticks\": \"\"}}, \"type\": \"histogram\"}], \"histogram2d\": [{\"colorbar\": {\"outlinewidth\": 0, \"ticks\": \"\"}, \"colorscale\": [[0.0, \"#0d0887\"], [0.1111111111111111, \"#46039f\"], [0.2222222222222222, \"#7201a8\"], [0.3333333333333333, \"#9c179e\"], [0.4444444444444444, \"#bd3786\"], [0.5555555555555556, \"#d8576b\"], [0.6666666666666666, \"#ed7953\"], [0.7777777777777778, \"#fb9f3a\"], [0.8888888888888888, \"#fdca26\"], [1.0, \"#f0f921\"]], \"type\": \"histogram2d\"}], \"histogram2dcontour\": [{\"colorbar\": {\"outlinewidth\": 0, \"ticks\": \"\"}, \"colorscale\": [[0.0, \"#0d0887\"], [0.1111111111111111, \"#46039f\"], [0.2222222222222222, \"#7201a8\"], [0.3333333333333333, \"#9c179e\"], [0.4444444444444444, \"#bd3786\"], [0.5555555555555556, \"#d8576b\"], [0.6666666666666666, \"#ed7953\"], [0.7777777777777778, \"#fb9f3a\"], [0.8888888888888888, \"#fdca26\"], [1.0, \"#f0f921\"]], \"type\": \"histogram2dcontour\"}], \"mesh3d\": [{\"colorbar\": {\"outlinewidth\": 0, \"ticks\": \"\"}, \"type\": \"mesh3d\"}], \"parcoords\": [{\"line\": {\"colorbar\": {\"outlinewidth\": 0, \"ticks\": \"\"}}, \"type\": \"parcoords\"}], \"pie\": [{\"automargin\": true, \"type\": \"pie\"}], \"scatter\": [{\"marker\": {\"colorbar\": {\"outlinewidth\": 0, \"ticks\": \"\"}}, \"type\": \"scatter\"}], \"scatter3d\": [{\"line\": {\"colorbar\": {\"outlinewidth\": 0, \"ticks\": \"\"}}, \"marker\": {\"colorbar\": {\"outlinewidth\": 0, \"ticks\": \"\"}}, \"type\": \"scatter3d\"}], \"scattercarpet\": [{\"marker\": {\"colorbar\": {\"outlinewidth\": 0, \"ticks\": \"\"}}, \"type\": \"scattercarpet\"}], \"scattergeo\": [{\"marker\": {\"colorbar\": {\"outlinewidth\": 0, \"ticks\": \"\"}}, \"type\": \"scattergeo\"}], \"scattergl\": [{\"marker\": {\"colorbar\": {\"outlinewidth\": 0, \"ticks\": \"\"}}, \"type\": \"scattergl\"}], \"scattermapbox\": [{\"marker\": {\"colorbar\": {\"outlinewidth\": 0, \"ticks\": \"\"}}, \"type\": \"scattermapbox\"}], \"scatterpolar\": [{\"marker\": {\"colorbar\": {\"outlinewidth\": 0, \"ticks\": \"\"}}, \"type\": \"scatterpolar\"}], \"scatterpolargl\": [{\"marker\": {\"colorbar\": {\"outlinewidth\": 0, \"ticks\": \"\"}}, \"type\": \"scatterpolargl\"}], \"scatterternary\": [{\"marker\": {\"colorbar\": {\"outlinewidth\": 0, \"ticks\": \"\"}}, \"type\": \"scatterternary\"}], \"surface\": [{\"colorbar\": {\"outlinewidth\": 0, \"ticks\": \"\"}, \"colorscale\": [[0.0, \"#0d0887\"], [0.1111111111111111, \"#46039f\"], [0.2222222222222222, \"#7201a8\"], [0.3333333333333333, \"#9c179e\"], [0.4444444444444444, \"#bd3786\"], [0.5555555555555556, \"#d8576b\"], [0.6666666666666666, \"#ed7953\"], [0.7777777777777778, \"#fb9f3a\"], [0.8888888888888888, \"#fdca26\"], [1.0, \"#f0f921\"]], \"type\": \"surface\"}], \"table\": [{\"cells\": {\"fill\": {\"color\": \"#EBF0F8\"}, \"line\": {\"color\": \"white\"}}, \"header\": {\"fill\": {\"color\": \"#C8D4E3\"}, \"line\": {\"color\": \"white\"}}, \"type\": \"table\"}]}, \"layout\": {\"annotationdefaults\": {\"arrowcolor\": \"#2a3f5f\", \"arrowhead\": 0, \"arrowwidth\": 1}, \"autotypenumbers\": \"strict\", \"coloraxis\": {\"colorbar\": {\"outlinewidth\": 0, \"ticks\": \"\"}}, \"colorscale\": {\"diverging\": [[0, \"#8e0152\"], [0.1, \"#c51b7d\"], [0.2, \"#de77ae\"], [0.3, \"#f1b6da\"], [0.4, \"#fde0ef\"], [0.5, \"#f7f7f7\"], [0.6, \"#e6f5d0\"], [0.7, \"#b8e186\"], [0.8, \"#7fbc41\"], [0.9, \"#4d9221\"], [1, \"#276419\"]], \"sequential\": [[0.0, \"#0d0887\"], [0.1111111111111111, \"#46039f\"], [0.2222222222222222, \"#7201a8\"], [0.3333333333333333, \"#9c179e\"], [0.4444444444444444, \"#bd3786\"], [0.5555555555555556, \"#d8576b\"], [0.6666666666666666, \"#ed7953\"], [0.7777777777777778, \"#fb9f3a\"], [0.8888888888888888, \"#fdca26\"], [1.0, \"#f0f921\"]], \"sequentialminus\": [[0.0, \"#0d0887\"], [0.1111111111111111, \"#46039f\"], [0.2222222222222222, \"#7201a8\"], [0.3333333333333333, \"#9c179e\"], [0.4444444444444444, \"#bd3786\"], [0.5555555555555556, \"#d8576b\"], [0.6666666666666666, \"#ed7953\"], [0.7777777777777778, \"#fb9f3a\"], [0.8888888888888888, \"#fdca26\"], [1.0, \"#f0f921\"]]}, \"colorway\": [\"#636efa\", \"#EF553B\", \"#00cc96\", \"#ab63fa\", \"#FFA15A\", \"#19d3f3\", \"#FF6692\", \"#B6E880\", \"#FF97FF\", \"#FECB52\"], \"font\": {\"color\": \"#2a3f5f\"}, \"geo\": {\"bgcolor\": \"white\", \"lakecolor\": \"white\", \"landcolor\": \"#E5ECF6\", \"showlakes\": true, \"showland\": true, \"subunitcolor\": \"white\"}, \"hoverlabel\": {\"align\": \"left\"}, \"hovermode\": \"closest\", \"mapbox\": {\"style\": \"light\"}, \"paper_bgcolor\": \"white\", \"plot_bgcolor\": \"#E5ECF6\", \"polar\": {\"angularaxis\": {\"gridcolor\": \"white\", \"linecolor\": \"white\", \"ticks\": \"\"}, \"bgcolor\": \"#E5ECF6\", \"radialaxis\": {\"gridcolor\": \"white\", \"linecolor\": \"white\", \"ticks\": \"\"}}, \"scene\": {\"xaxis\": {\"backgroundcolor\": \"#E5ECF6\", \"gridcolor\": \"white\", \"gridwidth\": 2, \"linecolor\": \"white\", \"showbackground\": true, \"ticks\": \"\", \"zerolinecolor\": \"white\"}, \"yaxis\": {\"backgroundcolor\": \"#E5ECF6\", \"gridcolor\": \"white\", \"gridwidth\": 2, \"linecolor\": \"white\", \"showbackground\": true, \"ticks\": \"\", \"zerolinecolor\": \"white\"}, \"zaxis\": {\"backgroundcolor\": \"#E5ECF6\", \"gridcolor\": \"white\", \"gridwidth\": 2, \"linecolor\": \"white\", \"showbackground\": true, \"ticks\": \"\", \"zerolinecolor\": \"white\"}}, \"shapedefaults\": {\"line\": {\"color\": \"#2a3f5f\"}}, \"ternary\": {\"aaxis\": {\"gridcolor\": \"white\", \"linecolor\": \"white\", \"ticks\": \"\"}, \"baxis\": {\"gridcolor\": \"white\", \"linecolor\": \"white\", \"ticks\": \"\"}, \"bgcolor\": \"#E5ECF6\", \"caxis\": {\"gridcolor\": \"white\", \"linecolor\": \"white\", \"ticks\": \"\"}}, \"title\": {\"x\": 0.05}, \"xaxis\": {\"automargin\": true, \"gridcolor\": \"white\", \"linecolor\": \"white\", \"ticks\": \"\", \"title\": {\"standoff\": 15}, \"zerolinecolor\": \"white\", \"zerolinewidth\": 2}, \"yaxis\": {\"automargin\": true, \"gridcolor\": \"white\", \"linecolor\": \"white\", \"ticks\": \"\", \"title\": {\"standoff\": 15}, \"zerolinecolor\": \"white\", \"zerolinewidth\": 2}}}},                        {\"responsive\": true}                    ).then(function(){\n",
       "                            \n",
       "var gd = document.getElementById('d4ef95d1-05d9-48bc-9769-c84aee1d2f46');\n",
       "var x = new MutationObserver(function (mutations, observer) {{\n",
       "        var display = window.getComputedStyle(gd).display;\n",
       "        if (!display || display === 'none') {{\n",
       "            console.log([gd, 'removed!']);\n",
       "            Plotly.purge(gd);\n",
       "            observer.disconnect();\n",
       "        }}\n",
       "}});\n",
       "\n",
       "// Listen for the removal of the full notebook cells\n",
       "var notebookContainer = gd.closest('#notebook-container');\n",
       "if (notebookContainer) {{\n",
       "    x.observe(notebookContainer, {childList: true});\n",
       "}}\n",
       "\n",
       "// Listen for the clearing of the current output cell\n",
       "var outputEl = gd.closest('.output');\n",
       "if (outputEl) {{\n",
       "    x.observe(outputEl, {childList: true});\n",
       "}}\n",
       "\n",
       "                        })                };                });            </script>        </div>"
      ]
     },
     "metadata": {},
     "output_type": "display_data"
    }
   ],
   "source": [
    "#Creating a bounding box\n",
    "east, north, west, south = -78.815562,35.571590,-78.811184,35.576442  \n",
    "G = ox.graph_from_bbox(north, south, east, west, network_type=\"drive_service\")\n",
    "colors = plt.rcParams['axes.prop_cycle'].by_key()['color']\n",
    "ox.plot.plot_graph(G, bgcolor='#FFFFFF', node_color=colors[0], edge_color='lightgray', node_size=5)\n",
    "\n",
    "\n",
    "    #Extracting Node Information from G\n",
    "Nodes = []\n",
    "for i in G.nodes:\n",
    "    Nodes.append(i)\n",
    "\n",
    "data = pd.DataFrame(Nodes)\n",
    "data.rename(columns = {0:'Nodes'}, inplace = True)\n",
    "\n",
    "\n",
    "lat1 = []\n",
    "long1 = []\n",
    "for i in Nodes:\n",
    "    lat1.append(G.nodes[i].get('y'))\n",
    "    long1.append(G.nodes[i].get('x'))\n",
    "data['Latitude'] = lat1\n",
    "data['Longitude'] = long1\n",
    "df1 = data\n",
    "G = ox.graph_from_place('Fuquay Varina, NC, USA', network_type='drive')\n",
    "\n",
    "df1 = df1.drop(['Nodes'],axis=1)\n",
    "df1.rename(columns = {'Latitude':'Left'}, inplace = True)\n",
    "df1.rename(columns = {'Longitude':'Right'}, inplace = True)\n",
    "\n",
    "    #Calculating Distance and the distance matrix for all coordinates in the Bounding Box\n",
    "df3 = pd.DataFrame()\n",
    "for j in df1.index:\n",
    "    list1 = []\n",
    "    for i in df1.index:\n",
    "        r = requests.get(f\"\"\"http://router.project-osrm.org/route/v1/car/{df1.loc[j, \"Right\"]},{df1.loc[j, \"Left\"]};{df1.loc[i, \"Right\"]},{df1.loc[i, \"Left\"]}?overview=false\"\"\")\n",
    "        list1.append(json.loads(r.content)[\"routes\"][0][\"distance\"])\n",
    "    df3[j] = list1\n",
    "df = df1\n",
    "df['coordinate'] = list(zip(df['Right'],df['Left']))\n",
    "df['ID'] = df.index\n",
    "\n",
    "locations = dict( ( ID, (df.loc[ID, 'Right'], df.loc[ID, 'Left']) ) for ID in df.index)\n",
    "distances_df = df3\n",
    "distance = distances_df\n",
    "distances = dict( ((l1,l2), distance.iloc[l1, l2] ) for l1 in locations for l2 in locations if l1!=l2)\n",
    "\n",
    "\n",
    "    ## V: This defines the total number of vehicles that will traverse the path.\n",
    "V = 1\n",
    "    ## prob: This initializes the problem that will run using provided constraints.\n",
    "\n",
    "prob=LpProblem(\"vehicle\", LpMinimize)\n",
    "    ## indicator: This defines the variable dictionary consisting of distances and indicates if location i is connected to location j along route\n",
    "indicator = LpVariable.dicts('indicator',distances, 0,1,LpBinary)\n",
    "    ## eliminator: This defines the variable dictionary consisting of the node ID's and elimiate subtours\n",
    "eliminator = LpVariable.dicts('eliminator', df.ID, 0, len(df.ID)-1, LpInteger)\n",
    "    ## cost: This stores the result of distances calculations.\n",
    "cost = lpSum([indicator[(i,j)]*distances[(i,j)] for (i,j) in distances])\n",
    "prob+=cost\n",
    "\n",
    "start1 = 2\n",
    "for v in df.ID:\n",
    "        ## cap: This considers a particular node at a time. \n",
    "    cap = 1 if v != start1 else V\n",
    "        #inward possible route\n",
    "    prob+= lpSum([ indicator[(i,v)] for i in df.ID if (i,v) in indicator]) ==cap\n",
    "        #outward possible route\n",
    "    prob+=lpSum([ indicator[(v,i)] for i in df.ID if (v,i) in indicator]) ==cap\n",
    "    ## num: This stores the result of the number of nodes and the number of vehicles.    \n",
    "num=len(df.ID)/V\n",
    "for i in df.ID:\n",
    "    for j in df.ID:\n",
    "        if i != j and (i != start1 and j!= start1) and (i,j) in indicator:\n",
    "             prob += eliminator[i] - eliminator[j] <= (num)*(1-indicator[(i,j)]) - 1         \n",
    "prob.solve()\n",
    "    ## feasibleedges: This stores values of edges after the calculations are done.\n",
    "feasible_edges = [ e for e in indicator if value(indicator[e]) != 0 ]\n",
    "    ##@get_next_loc\n",
    "    # This provides with the next coordinates for the next node in the path.\n",
    "def get_next_loc(initial):\n",
    "    edges = [e for e in feasible_edges if e[0]==initial]\n",
    "    for e in edges:\n",
    "        feasible_edges.remove(e)\n",
    "    return edges\n",
    "    ## routes: This stores information regarding paths.    \n",
    "routes = get_next_loc(2)\n",
    "routes = [ [e] for e in routes ]\n",
    "\n",
    "for r in routes:\n",
    "    while r[-1][1] !=start1:\n",
    "        r.append(get_next_loc(r[-1][1])[-1])\n",
    "\n",
    "\n",
    "\n",
    "\n",
    "df2 = df[['Left', 'Right', 'ID']].copy()\n",
    "df2.rename(columns = {'Left':'Latitude'}, inplace = True)\n",
    "df2.rename(columns = {'Right':'Longitude'}, inplace = True)\n",
    "a=[]\n",
    "for i in range(data.index.stop):\n",
    "    #print(routes[0][i][0])\n",
    "    a.append(routes[0][i][0]) \n",
    "\n",
    "df3 = pd.DataFrame()\n",
    "for i in a:\n",
    "    df3 = df3.append(df2.loc[i])\n",
    "\n",
    "df3.reset_index(inplace = True)\n",
    "\n",
    "df3 = df3.append(df3.loc[0])\n",
    "df3.reset_index(inplace = True)\n",
    "df4 = df3\n",
    "dfnodes = pd.DataFrame(Nodes)\n",
    "dfnodes.rename(columns = {0:'Nodes'}, inplace = True)\n",
    "dfnodes = dfnodes.reindex(a)\n",
    "dfnodes = dfnodes.append({\"Nodes\":Nodes[a[0]]},ignore_index=True)\n",
    "df4 = pd.concat([df4,dfnodes],axis=1)\n",
    "    \n",
    "    \n",
    "def node_list_to_path2(G, node_list):\n",
    "   \n",
    "    edge_nodes = list(zip(node_list[:-1], node_list[1:]))\n",
    "    lines = []\n",
    "    newlist=[]\n",
    "    \n",
    "    \n",
    "    \n",
    "    \n",
    "    #for u, v in edge_nodes:\n",
    "    #    if(G.get_edge_data(u, v)):\n",
    "    #        newlist.append((u,v))\n",
    "            \n",
    "            \n",
    "            \n",
    "    for u, v in edge_nodes:\n",
    "        if(G.get_edge_data(u, v)):\n",
    "            newlist.append((u,v))\n",
    "        else:    \n",
    "            path1 = nx.shortest_path(G,u, v, weight='travel_time')\n",
    "            path2 = list(zip(path1[:-1], path1[1:]))\n",
    "            newlist = newlist+path2        \n",
    "    #print(newlist)\n",
    "    #print(len(newlist))\n",
    "    \n",
    "    for u, v in newlist:\n",
    "        # if there are parallel edges, select the shortest in length\n",
    "        \n",
    "        data = min(G.get_edge_data(u, v).values(), \n",
    "                key=lambda x: x['length'])\n",
    "            # if it has a geometry attribute\n",
    "        if 'geometry' in data:\n",
    "            # add them to the list of lines to plot\n",
    "            xs, ys = data['geometry'].xy\n",
    "            lines.append(list(zip(xs, ys)))\n",
    "        else:\n",
    "            # if it doesn't have a geometry attribute,\n",
    "            # then the edge is a straight line from node to node\n",
    "            x1 = G.nodes[u]['x']\n",
    "            y1 = G.nodes[u]['y']\n",
    "            x2 = G.nodes[v]['x']\n",
    "            y2 = G.nodes[v]['y']\n",
    "            line = [(x1, y1), (x2, y2)]\n",
    "            lines.append(line)\n",
    "            \n",
    "    return lines    \n",
    "    \n",
    "    \n",
    "    \n",
    "def plot_path(lat, long, origin_point, destination_point):\n",
    "    fig = go.Figure(go.Scattermapbox(\n",
    "        name = \"Path\",\n",
    "        mode = \"lines\",\n",
    "        lon = long,\n",
    "        lat = lat,\n",
    "        marker = {'size': 10},\n",
    "        line = dict(width = 4.5, color = 'grey')))\n",
    "    fig.add_trace(go.Scattermapbox(\n",
    "        name = \"Source\",\n",
    "        mode = \"markers\",\n",
    "        lon = [origin_point[1]],\n",
    "        lat = [origin_point[0]],\n",
    "        marker = {'size': 12, 'color':\"red\"}))\n",
    "    fig.add_trace(go.Scattermapbox(\n",
    "        name = \"Destination\",\n",
    "        mode = \"markers\",\n",
    "        lon = [destination_point[1]],\n",
    "        lat = [destination_point[0]],\n",
    "        marker = {'size': 12, 'color':'green'}))\n",
    "    lat_center = np.mean(lat)\n",
    "    long_center = np.mean(long)\n",
    "    fig.update_layout(mapbox_style=\"carto-darkmatter\",\n",
    "        mapbox_center_lat = 30, mapbox_center_lon=-80)\n",
    "    fig.update_layout(margin={\"r\":0,\"t\":0,\"l\":0,\"b\":0},\n",
    "                        mapbox = {\n",
    "                            'center': {'lat': lat_center, \n",
    "                            'lon': long_center},\n",
    "                            'zoom': 13})\n",
    "    fig.show()\n",
    "\n",
    "\n",
    "pathlist = []\n",
    "for i in range(df4['Nodes'].count()-1):\n",
    "    path1 = nx.shortest_path(G, df4.iloc[i]['Nodes'],df4.iloc[i+1]['Nodes'], weight='travel_time')\n",
    "    pathlist = pathlist+path1\n",
    "#pathlist1 = list(dict.fromkeys(pathlist))\n",
    "#pathlist1.append(pathlist1[0])\n",
    "data4 = pd.DataFrame(pathlist)\n",
    "data4.rename(columns = {0:'Nodes'}, inplace = True)\n",
    "lat1 = []\n",
    "long1 = []\n",
    "lines = node_list_to_path2(G, pathlist)\n",
    "long2 = []\n",
    "lat2 = []\n",
    "for i in range(len(lines)):\n",
    "    z = list(lines[i])\n",
    "    l1 = list(list(zip(*z))[0])\n",
    "    l2 = list(list(zip(*z))[1])\n",
    "    for j in range(len(l1)):\n",
    "        long2.append(l1[j])\n",
    "        lat2.append(l2[j])\n",
    "        \n",
    "newdf = pd.DataFrame()\n",
    "newdf['Latitude'] = lat2\n",
    "newdf['Longitude'] = long2\n",
    "Trash = []\n",
    "for i in newdf.index:\n",
    "    Trash.append(random.randint(6,10))\n",
    "newdf['Trash'] = Trash\n",
    "\n",
    "duration1= []\n",
    "for i in range(newdf.index.stop-1):\n",
    "    r = requests.get(f\"\"\"http://router.project-osrm.org/route/v1/car/{newdf.loc[i, \"Longitude\"]},{newdf.loc[i, \"Latitude\"]};{newdf.loc[i+1, \"Longitude\"]},{newdf.loc[i+1, \"Latitude\"]}?overview=false\"\"\")\n",
    "    duration1.append(json.loads(r.content)[\"routes\"][0][\"duration\"])        \n",
    "        \n",
    "for i in pathlist:\n",
    "    lat1.append(G.nodes[i].get('y'))\n",
    "    long1.append(G.nodes[i].get('x'))\n",
    "data4['Latitude'] = lat1\n",
    "data4['Longitude'] = long1\n",
    "origin_point = (data4.loc[0][\"Latitude\"], data4.loc[0][\"Longitude\"]) \n",
    "destination_point = (data4.iloc[-1][\"Latitude\"], data4.iloc[-1][\"Longitude\"])\n",
    "#plot_path(lat1, long1, origin_point, destination_point)\n",
    "\n",
    "\n",
    "plot_path(lat2, long2, origin_point, destination_point)"
   ]
  },
  {
   "cell_type": "code",
   "execution_count": 34,
   "id": "available-committee",
   "metadata": {},
   "outputs": [],
   "source": [
    "path3 = pathlist"
   ]
  },
  {
   "cell_type": "code",
   "execution_count": 35,
   "id": "sporting-output",
   "metadata": {},
   "outputs": [],
   "source": [
    "trash3 = Trash"
   ]
  },
  {
   "cell_type": "code",
   "execution_count": 36,
   "id": "vocal-continuity",
   "metadata": {},
   "outputs": [],
   "source": [
    "duration3 = duration1"
   ]
  },
  {
   "cell_type": "code",
   "execution_count": 37,
   "id": "demonstrated-cigarette",
   "metadata": {},
   "outputs": [
    {
     "data": {
      "image/png": "[encoded data removed]",
      "text/plain": [
       "<Figure size 576x576 with 1 Axes>"
      ]
     },
     "metadata": {},
     "output_type": "display_data"
    },
    {
     "data": {
      "application/vnd.plotly.v1+json": {
       "config": {
        "plotlyServerURL": "https://plot.ly"
       },
       "data": [
        {
         "lat": [
          35.5729766,
          35.5730207,
          35.5731518,
          35.5732731,
          35.5733541,
          35.5734202,
          35.5734202,
          35.5734456,
          35.5735018,
          35.5736081,
          35.5736874,
          35.5737545,
          35.5737892,
          35.5738449,
          35.5738449,
          35.5738204,
          35.5737353,
          35.5736329,
          35.573579,
          35.5735569,
          35.5735569,
          35.5734961,
          35.5733908,
          35.5731944,
          35.5728523,
          35.5727038,
          35.5727038,
          35.5721171,
          35.5721171,
          35.57167,
          35.571618,
          35.571618,
          35.5716792,
          35.5719181,
          35.5720624,
          35.572149,
          35.5721787,
          35.5721787,
          35.5722176,
          35.5727274,
          35.5729766
         ],
         "line": {
          "color": "grey",
          "width": 4.5
         },
         "lon": [
          -78.8094367,
          -78.8093826,
          -78.8092218,
          -78.8089743,
          -78.8086842,
          -78.8084202,
          -78.8084202,
          -78.8083434,
          -78.8081733,
          -78.8080278,
          -78.8079608,
          -78.8079206,
          -78.8078999,
          -78.8078667,
          -78.8078667,
          -78.807797,
          -78.8075547,
          -78.8072315,
          -78.807026,
          -78.8069416,
          -78.8069416,
          -78.8069635,
          -78.8070015,
          -78.8071094,
          -78.8074184,
          -78.8076113,
          -78.8076113,
          -78.8084741,
          -78.8084741,
          -78.8091311,
          -78.8092075,
          -78.8092075,
          -78.8092694,
          -78.8095112,
          -78.8097492,
          -78.8099112,
          -78.8099667,
          -78.8099667,
          -78.8099443,
          -78.8096503,
          -78.8094367
         ],
         "marker": {
          "size": 10
         },
         "mode": "lines",
         "name": "Path",
         "type": "scattermapbox"
        },
        {
         "lat": [
          35.5729766
         ],
         "lon": [
          -78.8094367
         ],
         "marker": {
          "color": "red",
          "size": 12
         },
         "mode": "markers",
         "name": "Source",
         "type": "scattermapbox"
        },
        {
         "lat": [
          35.5729766
         ],
         "lon": [
          -78.8094367
         ],
         "marker": {
          "color": "green",
          "size": 12
         },
         "mode": "markers",
         "name": "Destination",
         "type": "scattermapbox"
        }
       ],
       "layout": {
        "mapbox": {
         "center": {
          "lat": 35.572964478048775,
          "lon": -78.80843187804878
         },
         "style": "carto-darkmatter",
         "zoom": 13
        },
        "margin": {
         "b": 0,
         "l": 0,
         "r": 0,
         "t": 0
        },
        "template": {
         "data": {
          "bar": [
           {
            "error_x": {
             "color": "#2a3f5f"
            },
            "error_y": {
             "color": "#2a3f5f"
            },
            "marker": {
             "line": {
              "color": "#E5ECF6",
              "width": 0.5
             }
            },
            "type": "bar"
           }
          ],
          "barpolar": [
           {
            "marker": {
             "line": {
              "color": "#E5ECF6",
              "width": 0.5
             }
            },
            "type": "barpolar"
           }
          ],
          "carpet": [
           {
            "aaxis": {
             "endlinecolor": "#2a3f5f",
             "gridcolor": "white",
             "linecolor": "white",
             "minorgridcolor": "white",
             "startlinecolor": "#2a3f5f"
            },
            "baxis": {
             "endlinecolor": "#2a3f5f",
             "gridcolor": "white",
             "linecolor": "white",
             "minorgridcolor": "white",
             "startlinecolor": "#2a3f5f"
            },
            "type": "carpet"
           }
          ],
          "choropleth": [
           {
            "colorbar": {
             "outlinewidth": 0,
             "ticks": ""
            },
            "type": "choropleth"
           }
          ],
          "contour": [
           {
            "colorbar": {
             "outlinewidth": 0,
             "ticks": ""
            },
            "colorscale": [
             [
              0,
              "#0d0887"
             ],
             [
              0.1111111111111111,
              "#46039f"
             ],
             [
              0.2222222222222222,
              "#7201a8"
             ],
             [
              0.3333333333333333,
              "#9c179e"
             ],
             [
              0.4444444444444444,
              "#bd3786"
             ],
             [
              0.5555555555555556,
              "#d8576b"
             ],
             [
              0.6666666666666666,
              "#ed7953"
             ],
             [
              0.7777777777777778,
              "#fb9f3a"
             ],
             [
              0.8888888888888888,
              "#fdca26"
             ],
             [
              1,
              "#f0f921"
             ]
            ],
            "type": "contour"
           }
          ],
          "contourcarpet": [
           {
            "colorbar": {
             "outlinewidth": 0,
             "ticks": ""
            },
            "type": "contourcarpet"
           }
          ],
          "heatmap": [
           {
            "colorbar": {
             "outlinewidth": 0,
             "ticks": ""
            },
            "colorscale": [
             [
              0,
              "#0d0887"
             ],
             [
              0.1111111111111111,
              "#46039f"
             ],
             [
              0.2222222222222222,
              "#7201a8"
             ],
             [
              0.3333333333333333,
              "#9c179e"
             ],
             [
              0.4444444444444444,
              "#bd3786"
             ],
             [
              0.5555555555555556,
              "#d8576b"
             ],
             [
              0.6666666666666666,
              "#ed7953"
             ],
             [
              0.7777777777777778,
              "#fb9f3a"
             ],
             [
              0.8888888888888888,
              "#fdca26"
             ],
             [
              1,
              "#f0f921"
             ]
            ],
            "type": "heatmap"
           }
          ],
          "heatmapgl": [
           {
            "colorbar": {
             "outlinewidth": 0,
             "ticks": ""
            },
            "colorscale": [
             [
              0,
              "#0d0887"
             ],
             [
              0.1111111111111111,
              "#46039f"
             ],
             [
              0.2222222222222222,
              "#7201a8"
             ],
             [
              0.3333333333333333,
              "#9c179e"
             ],
             [
              0.4444444444444444,
              "#bd3786"
             ],
             [
              0.5555555555555556,
              "#d8576b"
             ],
             [
              0.6666666666666666,
              "#ed7953"
             ],
             [
              0.7777777777777778,
              "#fb9f3a"
             ],
             [
              0.8888888888888888,
              "#fdca26"
             ],
             [
              1,
              "#f0f921"
             ]
            ],
            "type": "heatmapgl"
           }
          ],
          "histogram": [
           {
            "marker": {
             "colorbar": {
              "outlinewidth": 0,
              "ticks": ""
             }
            },
            "type": "histogram"
           }
          ],
          "histogram2d": [
           {
            "colorbar": {
             "outlinewidth": 0,
             "ticks": ""
            },
            "colorscale": [
             [
              0,
              "#0d0887"
             ],
             [
              0.1111111111111111,
              "#46039f"
             ],
             [
              0.2222222222222222,
              "#7201a8"
             ],
             [
              0.3333333333333333,
              "#9c179e"
             ],
             [
              0.4444444444444444,
              "#bd3786"
             ],
             [
              0.5555555555555556,
              "#d8576b"
             ],
             [
              0.6666666666666666,
              "#ed7953"
             ],
             [
              0.7777777777777778,
              "#fb9f3a"
             ],
             [
              0.8888888888888888,
              "#fdca26"
             ],
             [
              1,
              "#f0f921"
             ]
            ],
            "type": "histogram2d"
           }
          ],
          "histogram2dcontour": [
           {
            "colorbar": {
             "outlinewidth": 0,
             "ticks": ""
            },
            "colorscale": [
             [
              0,
              "#0d0887"
             ],
             [
              0.1111111111111111,
              "#46039f"
             ],
             [
              0.2222222222222222,
              "#7201a8"
             ],
             [
              0.3333333333333333,
              "#9c179e"
             ],
             [
              0.4444444444444444,
              "#bd3786"
             ],
             [
              0.5555555555555556,
              "#d8576b"
             ],
             [
              0.6666666666666666,
              "#ed7953"
             ],
             [
              0.7777777777777778,
              "#fb9f3a"
             ],
             [
              0.8888888888888888,
              "#fdca26"
             ],
             [
              1,
              "#f0f921"
             ]
            ],
            "type": "histogram2dcontour"
           }
          ],
          "mesh3d": [
           {
            "colorbar": {
             "outlinewidth": 0,
             "ticks": ""
            },
            "type": "mesh3d"
           }
          ],
          "parcoords": [
           {
            "line": {
             "colorbar": {
              "outlinewidth": 0,
              "ticks": ""
             }
            },
            "type": "parcoords"
           }
          ],
          "pie": [
           {
            "automargin": true,
            "type": "pie"
           }
          ],
          "scatter": [
           {
            "marker": {
             "colorbar": {
              "outlinewidth": 0,
              "ticks": ""
             }
            },
            "type": "scatter"
           }
          ],
          "scatter3d": [
           {
            "line": {
             "colorbar": {
              "outlinewidth": 0,
              "ticks": ""
             }
            },
            "marker": {
             "colorbar": {
              "outlinewidth": 0,
              "ticks": ""
             }
            },
            "type": "scatter3d"
           }
          ],
          "scattercarpet": [
           {
            "marker": {
             "colorbar": {
              "outlinewidth": 0,
              "ticks": ""
             }
            },
            "type": "scattercarpet"
           }
          ],
          "scattergeo": [
           {
            "marker": {
             "colorbar": {
              "outlinewidth": 0,
              "ticks": ""
             }
            },
            "type": "scattergeo"
           }
          ],
          "scattergl": [
           {
            "marker": {
             "colorbar": {
              "outlinewidth": 0,
              "ticks": ""
             }
            },
            "type": "scattergl"
           }
          ],
          "scattermapbox": [
           {
            "marker": {
             "colorbar": {
              "outlinewidth": 0,
              "ticks": ""
             }
            },
            "type": "scattermapbox"
           }
          ],
          "scatterpolar": [
           {
            "marker": {
             "colorbar": {
              "outlinewidth": 0,
              "ticks": ""
             }
            },
            "type": "scatterpolar"
           }
          ],
          "scatterpolargl": [
           {
            "marker": {
             "colorbar": {
              "outlinewidth": 0,
              "ticks": ""
             }
            },
            "type": "scatterpolargl"
           }
          ],
          "scatterternary": [
           {
            "marker": {
             "colorbar": {
              "outlinewidth": 0,
              "ticks": ""
             }
            },
            "type": "scatterternary"
           }
          ],
          "surface": [
           {
            "colorbar": {
             "outlinewidth": 0,
             "ticks": ""
            },
            "colorscale": [
             [
              0,
              "#0d0887"
             ],
             [
              0.1111111111111111,
              "#46039f"
             ],
             [
              0.2222222222222222,
              "#7201a8"
             ],
             [
              0.3333333333333333,
              "#9c179e"
             ],
             [
              0.4444444444444444,
              "#bd3786"
             ],
             [
              0.5555555555555556,
              "#d8576b"
             ],
             [
              0.6666666666666666,
              "#ed7953"
             ],
             [
              0.7777777777777778,
              "#fb9f3a"
             ],
             [
              0.8888888888888888,
              "#fdca26"
             ],
             [
              1,
              "#f0f921"
             ]
            ],
            "type": "surface"
           }
          ],
          "table": [
           {
            "cells": {
             "fill": {
              "color": "#EBF0F8"
             },
             "line": {
              "color": "white"
             }
            },
            "header": {
             "fill": {
              "color": "#C8D4E3"
             },
             "line": {
              "color": "white"
             }
            },
            "type": "table"
           }
          ]
         },
         "layout": {
          "annotationdefaults": {
           "arrowcolor": "#2a3f5f",
           "arrowhead": 0,
           "arrowwidth": 1
          },
          "autotypenumbers": "strict",
          "coloraxis": {
           "colorbar": {
            "outlinewidth": 0,
            "ticks": ""
           }
          },
          "colorscale": {
           "diverging": [
            [
             0,
             "#8e0152"
            ],
            [
             0.1,
             "#c51b7d"
            ],
            [
             0.2,
             "#de77ae"
            ],
            [
             0.3,
             "#f1b6da"
            ],
            [
             0.4,
             "#fde0ef"
            ],
            [
             0.5,
             "#f7f7f7"
            ],
            [
             0.6,
             "#e6f5d0"
            ],
            [
             0.7,
             "#b8e186"
            ],
            [
             0.8,
             "#7fbc41"
            ],
            [
             0.9,
             "#4d9221"
            ],
            [
             1,
             "#276419"
            ]
           ],
           "sequential": [
            [
             0,
             "#0d0887"
            ],
            [
             0.1111111111111111,
             "#46039f"
            ],
            [
             0.2222222222222222,
             "#7201a8"
            ],
            [
             0.3333333333333333,
             "#9c179e"
            ],
            [
             0.4444444444444444,
             "#bd3786"
            ],
            [
             0.5555555555555556,
             "#d8576b"
            ],
            [
             0.6666666666666666,
             "#ed7953"
            ],
            [
             0.7777777777777778,
             "#fb9f3a"
            ],
            [
             0.8888888888888888,
             "#fdca26"
            ],
            [
             1,
             "#f0f921"
            ]
           ],
           "sequentialminus": [
            [
             0,
             "#0d0887"
            ],
            [
             0.1111111111111111,
             "#46039f"
            ],
            [
             0.2222222222222222,
             "#7201a8"
            ],
            [
             0.3333333333333333,
             "#9c179e"
            ],
            [
             0.4444444444444444,
             "#bd3786"
            ],
            [
             0.5555555555555556,
             "#d8576b"
            ],
            [
             0.6666666666666666,
             "#ed7953"
            ],
            [
             0.7777777777777778,
             "#fb9f3a"
            ],
            [
             0.8888888888888888,
             "#fdca26"
            ],
            [
             1,
             "#f0f921"
            ]
           ]
          },
          "colorway": [
           "#636efa",
           "#EF553B",
           "#00cc96",
           "#ab63fa",
           "#FFA15A",
           "#19d3f3",
           "#FF6692",
           "#B6E880",
           "#FF97FF",
           "#FECB52"
          ],
          "font": {
           "color": "#2a3f5f"
          },
          "geo": {
           "bgcolor": "white",
           "lakecolor": "white",
           "landcolor": "#E5ECF6",
           "showlakes": true,
           "showland": true,
           "subunitcolor": "white"
          },
          "hoverlabel": {
           "align": "left"
          },
          "hovermode": "closest",
          "mapbox": {
           "style": "light"
          },
          "paper_bgcolor": "white",
          "plot_bgcolor": "#E5ECF6",
          "polar": {
           "angularaxis": {
            "gridcolor": "white",
            "linecolor": "white",
            "ticks": ""
           },
           "bgcolor": "#E5ECF6",
           "radialaxis": {
            "gridcolor": "white",
            "linecolor": "white",
            "ticks": ""
           }
          },
          "scene": {
           "xaxis": {
            "backgroundcolor": "#E5ECF6",
            "gridcolor": "white",
            "gridwidth": 2,
            "linecolor": "white",
            "showbackground": true,
            "ticks": "",
            "zerolinecolor": "white"
           },
           "yaxis": {
            "backgroundcolor": "#E5ECF6",
            "gridcolor": "white",
            "gridwidth": 2,
            "linecolor": "white",
            "showbackground": true,
            "ticks": "",
            "zerolinecolor": "white"
           },
           "zaxis": {
            "backgroundcolor": "#E5ECF6",
            "gridcolor": "white",
            "gridwidth": 2,
            "linecolor": "white",
            "showbackground": true,
            "ticks": "",
            "zerolinecolor": "white"
           }
          },
          "shapedefaults": {
           "line": {
            "color": "#2a3f5f"
           }
          },
          "ternary": {
           "aaxis": {
            "gridcolor": "white",
            "linecolor": "white",
            "ticks": ""
           },
           "baxis": {
            "gridcolor": "white",
            "linecolor": "white",
            "ticks": ""
           },
           "bgcolor": "#E5ECF6",
           "caxis": {
            "gridcolor": "white",
            "linecolor": "white",
            "ticks": ""
           }
          },
          "title": {
           "x": 0.05
          },
          "xaxis": {
           "automargin": true,
           "gridcolor": "white",
           "linecolor": "white",
           "ticks": "",
           "title": {
            "standoff": 15
           },
           "zerolinecolor": "white",
           "zerolinewidth": 2
          },
          "yaxis": {
           "automargin": true,
           "gridcolor": "white",
           "linecolor": "white",
           "ticks": "",
           "title": {
            "standoff": 15
           },
           "zerolinecolor": "white",
           "zerolinewidth": 2
          }
         }
        }
       }
      },
      "text/html": [
       "<div>                            <div id=\"f4aa40a2-f6c2-4100-af30-b03cac3097e4\" class=\"plotly-graph-div\" style=\"height:525px; width:100%;\"></div>            <script type=\"text/javascript\">                require([\"plotly\"], function(Plotly) {                    window.PLOTLYENV=window.PLOTLYENV || {};                                    if (document.getElementById(\"f4aa40a2-f6c2-4100-af30-b03cac3097e4\")) {                    Plotly.newPlot(                        \"f4aa40a2-f6c2-4100-af30-b03cac3097e4\",                        [{\"lat\": [35.5729766, 35.5730207, 35.5731518, 35.5732731, 35.5733541, 35.5734202, 35.5734202, 35.5734456, 35.5735018, 35.5736081, 35.5736874, 35.5737545, 35.5737892, 35.5738449, 35.5738449, 35.5738204, 35.5737353, 35.5736329, 35.573579, 35.5735569, 35.5735569, 35.5734961, 35.5733908, 35.5731944, 35.5728523, 35.5727038, 35.5727038, 35.5721171, 35.5721171, 35.57167, 35.571618, 35.571618, 35.5716792, 35.5719181, 35.5720624, 35.572149, 35.5721787, 35.5721787, 35.5722176, 35.5727274, 35.5729766], \"line\": {\"color\": \"grey\", \"width\": 4.5}, \"lon\": [-78.8094367, -78.8093826, -78.8092218, -78.8089743, -78.8086842, -78.8084202, -78.8084202, -78.8083434, -78.8081733, -78.8080278, -78.8079608, -78.8079206, -78.8078999, -78.8078667, -78.8078667, -78.807797, -78.8075547, -78.8072315, -78.807026, -78.8069416, -78.8069416, -78.8069635, -78.8070015, -78.8071094, -78.8074184, -78.8076113, -78.8076113, -78.8084741, -78.8084741, -78.8091311, -78.8092075, -78.8092075, -78.8092694, -78.8095112, -78.8097492, -78.8099112, -78.8099667, -78.8099667, -78.8099443, -78.8096503, -78.8094367], \"marker\": {\"size\": 10}, \"mode\": \"lines\", \"name\": \"Path\", \"type\": \"scattermapbox\"}, {\"lat\": [35.5729766], \"lon\": [-78.8094367], \"marker\": {\"color\": \"red\", \"size\": 12}, \"mode\": \"markers\", \"name\": \"Source\", \"type\": \"scattermapbox\"}, {\"lat\": [35.5729766], \"lon\": [-78.8094367], \"marker\": {\"color\": \"green\", \"size\": 12}, \"mode\": \"markers\", \"name\": \"Destination\", \"type\": \"scattermapbox\"}],                        {\"mapbox\": {\"center\": {\"lat\": 35.572964478048775, \"lon\": -78.80843187804878}, \"style\": \"carto-darkmatter\", \"zoom\": 13}, \"margin\": {\"b\": 0, \"l\": 0, \"r\": 0, \"t\": 0}, \"template\": {\"data\": {\"bar\": [{\"error_x\": {\"color\": \"#2a3f5f\"}, \"error_y\": {\"color\": \"#2a3f5f\"}, \"marker\": {\"line\": {\"color\": \"#E5ECF6\", \"width\": 0.5}}, \"type\": \"bar\"}], \"barpolar\": [{\"marker\": {\"line\": {\"color\": \"#E5ECF6\", \"width\": 0.5}}, \"type\": \"barpolar\"}], \"carpet\": [{\"aaxis\": {\"endlinecolor\": \"#2a3f5f\", \"gridcolor\": \"white\", \"linecolor\": \"white\", \"minorgridcolor\": \"white\", \"startlinecolor\": \"#2a3f5f\"}, \"baxis\": {\"endlinecolor\": \"#2a3f5f\", \"gridcolor\": \"white\", \"linecolor\": \"white\", \"minorgridcolor\": \"white\", \"startlinecolor\": \"#2a3f5f\"}, \"type\": \"carpet\"}], \"choropleth\": [{\"colorbar\": {\"outlinewidth\": 0, \"ticks\": \"\"}, \"type\": \"choropleth\"}], \"contour\": [{\"colorbar\": {\"outlinewidth\": 0, \"ticks\": \"\"}, \"colorscale\": [[0.0, \"#0d0887\"], [0.1111111111111111, \"#46039f\"], [0.2222222222222222, \"#7201a8\"], [0.3333333333333333, \"#9c179e\"], [0.4444444444444444, \"#bd3786\"], [0.5555555555555556, \"#d8576b\"], [0.6666666666666666, \"#ed7953\"], [0.7777777777777778, \"#fb9f3a\"], [0.8888888888888888, \"#fdca26\"], [1.0, \"#f0f921\"]], \"type\": \"contour\"}], \"contourcarpet\": [{\"colorbar\": {\"outlinewidth\": 0, \"ticks\": \"\"}, \"type\": \"contourcarpet\"}], \"heatmap\": [{\"colorbar\": {\"outlinewidth\": 0, \"ticks\": \"\"}, \"colorscale\": [[0.0, \"#0d0887\"], [0.1111111111111111, \"#46039f\"], [0.2222222222222222, \"#7201a8\"], [0.3333333333333333, \"#9c179e\"], [0.4444444444444444, \"#bd3786\"], [0.5555555555555556, \"#d8576b\"], [0.6666666666666666, \"#ed7953\"], [0.7777777777777778, \"#fb9f3a\"], [0.8888888888888888, \"#fdca26\"], [1.0, \"#f0f921\"]], \"type\": \"heatmap\"}], \"heatmapgl\": [{\"colorbar\": {\"outlinewidth\": 0, \"ticks\": \"\"}, \"colorscale\": [[0.0, \"#0d0887\"], [0.1111111111111111, \"#46039f\"], [0.2222222222222222, \"#7201a8\"], [0.3333333333333333, \"#9c179e\"], [0.4444444444444444, \"#bd3786\"], [0.5555555555555556, \"#d8576b\"], [0.6666666666666666, \"#ed7953\"], [0.7777777777777778, \"#fb9f3a\"], [0.8888888888888888, \"#fdca26\"], [1.0, \"#f0f921\"]], \"type\": \"heatmapgl\"}], \"histogram\": [{\"marker\": {\"colorbar\": {\"outlinewidth\": 0, \"ticks\": \"\"}}, \"type\": \"histogram\"}], \"histogram2d\": [{\"colorbar\": {\"outlinewidth\": 0, \"ticks\": \"\"}, \"colorscale\": [[0.0, \"#0d0887\"], [0.1111111111111111, \"#46039f\"], [0.2222222222222222, \"#7201a8\"], [0.3333333333333333, \"#9c179e\"], [0.4444444444444444, \"#bd3786\"], [0.5555555555555556, \"#d8576b\"], [0.6666666666666666, \"#ed7953\"], [0.7777777777777778, \"#fb9f3a\"], [0.8888888888888888, \"#fdca26\"], [1.0, \"#f0f921\"]], \"type\": \"histogram2d\"}], \"histogram2dcontour\": [{\"colorbar\": {\"outlinewidth\": 0, \"ticks\": \"\"}, \"colorscale\": [[0.0, \"#0d0887\"], [0.1111111111111111, \"#46039f\"], [0.2222222222222222, \"#7201a8\"], [0.3333333333333333, \"#9c179e\"], [0.4444444444444444, \"#bd3786\"], [0.5555555555555556, \"#d8576b\"], [0.6666666666666666, \"#ed7953\"], [0.7777777777777778, \"#fb9f3a\"], [0.8888888888888888, \"#fdca26\"], [1.0, \"#f0f921\"]], \"type\": \"histogram2dcontour\"}], \"mesh3d\": [{\"colorbar\": {\"outlinewidth\": 0, \"ticks\": \"\"}, \"type\": \"mesh3d\"}], \"parcoords\": [{\"line\": {\"colorbar\": {\"outlinewidth\": 0, \"ticks\": \"\"}}, \"type\": \"parcoords\"}], \"pie\": [{\"automargin\": true, \"type\": \"pie\"}], \"scatter\": [{\"marker\": {\"colorbar\": {\"outlinewidth\": 0, \"ticks\": \"\"}}, \"type\": \"scatter\"}], \"scatter3d\": [{\"line\": {\"colorbar\": {\"outlinewidth\": 0, \"ticks\": \"\"}}, \"marker\": {\"colorbar\": {\"outlinewidth\": 0, \"ticks\": \"\"}}, \"type\": \"scatter3d\"}], \"scattercarpet\": [{\"marker\": {\"colorbar\": {\"outlinewidth\": 0, \"ticks\": \"\"}}, \"type\": \"scattercarpet\"}], \"scattergeo\": [{\"marker\": {\"colorbar\": {\"outlinewidth\": 0, \"ticks\": \"\"}}, \"type\": \"scattergeo\"}], \"scattergl\": [{\"marker\": {\"colorbar\": {\"outlinewidth\": 0, \"ticks\": \"\"}}, \"type\": \"scattergl\"}], \"scattermapbox\": [{\"marker\": {\"colorbar\": {\"outlinewidth\": 0, \"ticks\": \"\"}}, \"type\": \"scattermapbox\"}], \"scatterpolar\": [{\"marker\": {\"colorbar\": {\"outlinewidth\": 0, \"ticks\": \"\"}}, \"type\": \"scatterpolar\"}], \"scatterpolargl\": [{\"marker\": {\"colorbar\": {\"outlinewidth\": 0, \"ticks\": \"\"}}, \"type\": \"scatterpolargl\"}], \"scatterternary\": [{\"marker\": {\"colorbar\": {\"outlinewidth\": 0, \"ticks\": \"\"}}, \"type\": \"scatterternary\"}], \"surface\": [{\"colorbar\": {\"outlinewidth\": 0, \"ticks\": \"\"}, \"colorscale\": [[0.0, \"#0d0887\"], [0.1111111111111111, \"#46039f\"], [0.2222222222222222, \"#7201a8\"], [0.3333333333333333, \"#9c179e\"], [0.4444444444444444, \"#bd3786\"], [0.5555555555555556, \"#d8576b\"], [0.6666666666666666, \"#ed7953\"], [0.7777777777777778, \"#fb9f3a\"], [0.8888888888888888, \"#fdca26\"], [1.0, \"#f0f921\"]], \"type\": \"surface\"}], \"table\": [{\"cells\": {\"fill\": {\"color\": \"#EBF0F8\"}, \"line\": {\"color\": \"white\"}}, \"header\": {\"fill\": {\"color\": \"#C8D4E3\"}, \"line\": {\"color\": \"white\"}}, \"type\": \"table\"}]}, \"layout\": {\"annotationdefaults\": {\"arrowcolor\": \"#2a3f5f\", \"arrowhead\": 0, \"arrowwidth\": 1}, \"autotypenumbers\": \"strict\", \"coloraxis\": {\"colorbar\": {\"outlinewidth\": 0, \"ticks\": \"\"}}, \"colorscale\": {\"diverging\": [[0, \"#8e0152\"], [0.1, \"#c51b7d\"], [0.2, \"#de77ae\"], [0.3, \"#f1b6da\"], [0.4, \"#fde0ef\"], [0.5, \"#f7f7f7\"], [0.6, \"#e6f5d0\"], [0.7, \"#b8e186\"], [0.8, \"#7fbc41\"], [0.9, \"#4d9221\"], [1, \"#276419\"]], \"sequential\": [[0.0, \"#0d0887\"], [0.1111111111111111, \"#46039f\"], [0.2222222222222222, \"#7201a8\"], [0.3333333333333333, \"#9c179e\"], [0.4444444444444444, \"#bd3786\"], [0.5555555555555556, \"#d8576b\"], [0.6666666666666666, \"#ed7953\"], [0.7777777777777778, \"#fb9f3a\"], [0.8888888888888888, \"#fdca26\"], [1.0, \"#f0f921\"]], \"sequentialminus\": [[0.0, \"#0d0887\"], [0.1111111111111111, \"#46039f\"], [0.2222222222222222, \"#7201a8\"], [0.3333333333333333, \"#9c179e\"], [0.4444444444444444, \"#bd3786\"], [0.5555555555555556, \"#d8576b\"], [0.6666666666666666, \"#ed7953\"], [0.7777777777777778, \"#fb9f3a\"], [0.8888888888888888, \"#fdca26\"], [1.0, \"#f0f921\"]]}, \"colorway\": [\"#636efa\", \"#EF553B\", \"#00cc96\", \"#ab63fa\", \"#FFA15A\", \"#19d3f3\", \"#FF6692\", \"#B6E880\", \"#FF97FF\", \"#FECB52\"], \"font\": {\"color\": \"#2a3f5f\"}, \"geo\": {\"bgcolor\": \"white\", \"lakecolor\": \"white\", \"landcolor\": \"#E5ECF6\", \"showlakes\": true, \"showland\": true, \"subunitcolor\": \"white\"}, \"hoverlabel\": {\"align\": \"left\"}, \"hovermode\": \"closest\", \"mapbox\": {\"style\": \"light\"}, \"paper_bgcolor\": \"white\", \"plot_bgcolor\": \"#E5ECF6\", \"polar\": {\"angularaxis\": {\"gridcolor\": \"white\", \"linecolor\": \"white\", \"ticks\": \"\"}, \"bgcolor\": \"#E5ECF6\", \"radialaxis\": {\"gridcolor\": \"white\", \"linecolor\": \"white\", \"ticks\": \"\"}}, \"scene\": {\"xaxis\": {\"backgroundcolor\": \"#E5ECF6\", \"gridcolor\": \"white\", \"gridwidth\": 2, \"linecolor\": \"white\", \"showbackground\": true, \"ticks\": \"\", \"zerolinecolor\": \"white\"}, \"yaxis\": {\"backgroundcolor\": \"#E5ECF6\", \"gridcolor\": \"white\", \"gridwidth\": 2, \"linecolor\": \"white\", \"showbackground\": true, \"ticks\": \"\", \"zerolinecolor\": \"white\"}, \"zaxis\": {\"backgroundcolor\": \"#E5ECF6\", \"gridcolor\": \"white\", \"gridwidth\": 2, \"linecolor\": \"white\", \"showbackground\": true, \"ticks\": \"\", \"zerolinecolor\": \"white\"}}, \"shapedefaults\": {\"line\": {\"color\": \"#2a3f5f\"}}, \"ternary\": {\"aaxis\": {\"gridcolor\": \"white\", \"linecolor\": \"white\", \"ticks\": \"\"}, \"baxis\": {\"gridcolor\": \"white\", \"linecolor\": \"white\", \"ticks\": \"\"}, \"bgcolor\": \"#E5ECF6\", \"caxis\": {\"gridcolor\": \"white\", \"linecolor\": \"white\", \"ticks\": \"\"}}, \"title\": {\"x\": 0.05}, \"xaxis\": {\"automargin\": true, \"gridcolor\": \"white\", \"linecolor\": \"white\", \"ticks\": \"\", \"title\": {\"standoff\": 15}, \"zerolinecolor\": \"white\", \"zerolinewidth\": 2}, \"yaxis\": {\"automargin\": true, \"gridcolor\": \"white\", \"linecolor\": \"white\", \"ticks\": \"\", \"title\": {\"standoff\": 15}, \"zerolinecolor\": \"white\", \"zerolinewidth\": 2}}}},                        {\"responsive\": true}                    ).then(function(){\n",
       "                            \n",
       "var gd = document.getElementById('f4aa40a2-f6c2-4100-af30-b03cac3097e4');\n",
       "var x = new MutationObserver(function (mutations, observer) {{\n",
       "        var display = window.getComputedStyle(gd).display;\n",
       "        if (!display || display === 'none') {{\n",
       "            console.log([gd, 'removed!']);\n",
       "            Plotly.purge(gd);\n",
       "            observer.disconnect();\n",
       "        }}\n",
       "}});\n",
       "\n",
       "// Listen for the removal of the full notebook cells\n",
       "var notebookContainer = gd.closest('#notebook-container');\n",
       "if (notebookContainer) {{\n",
       "    x.observe(notebookContainer, {childList: true});\n",
       "}}\n",
       "\n",
       "// Listen for the clearing of the current output cell\n",
       "var outputEl = gd.closest('.output');\n",
       "if (outputEl) {{\n",
       "    x.observe(outputEl, {childList: true});\n",
       "}}\n",
       "\n",
       "                        })                };                });            </script>        </div>"
      ]
     },
     "metadata": {},
     "output_type": "display_data"
    }
   ],
   "source": [
    "#Creating a bounding box\n",
    "east, north, west, south = -78.810579,35.571185,-78.806234,35.574300  \n",
    "G = ox.graph_from_bbox(north, south, east, west, network_type=\"drive_service\")\n",
    "colors = plt.rcParams['axes.prop_cycle'].by_key()['color']\n",
    "ox.plot.plot_graph(G, bgcolor='#FFFFFF', node_color=colors[0], edge_color='lightgray', node_size=5)\n",
    "\n",
    "\n",
    "    #Extracting Node Information from G\n",
    "Nodes = []\n",
    "for i in G.nodes:\n",
    "    Nodes.append(i)\n",
    "\n",
    "data = pd.DataFrame(Nodes)\n",
    "data.rename(columns = {0:'Nodes'}, inplace = True)\n",
    "\n",
    "\n",
    "lat1 = []\n",
    "long1 = []\n",
    "for i in Nodes:\n",
    "    lat1.append(G.nodes[i].get('y'))\n",
    "    long1.append(G.nodes[i].get('x'))\n",
    "data['Latitude'] = lat1\n",
    "data['Longitude'] = long1\n",
    "df1 = data\n",
    "G = ox.graph_from_place('Fuquay Varina, NC, USA', network_type='drive')\n",
    "\n",
    "df1 = df1.drop(['Nodes'],axis=1)\n",
    "df1.rename(columns = {'Latitude':'Left'}, inplace = True)\n",
    "df1.rename(columns = {'Longitude':'Right'}, inplace = True)\n",
    "\n",
    "    #Calculating Distance and the distance matrix for all coordinates in the Bounding Box\n",
    "df3 = pd.DataFrame()\n",
    "for j in df1.index:\n",
    "    list1 = []\n",
    "    for i in df1.index:\n",
    "        r = requests.get(f\"\"\"http://router.project-osrm.org/route/v1/car/{df1.loc[j, \"Right\"]},{df1.loc[j, \"Left\"]};{df1.loc[i, \"Right\"]},{df1.loc[i, \"Left\"]}?overview=false\"\"\")\n",
    "        list1.append(json.loads(r.content)[\"routes\"][0][\"distance\"])\n",
    "    df3[j] = list1\n",
    "df = df1\n",
    "df['coordinate'] = list(zip(df['Right'],df['Left']))\n",
    "df['ID'] = df.index\n",
    "\n",
    "locations = dict( ( ID, (df.loc[ID, 'Right'], df.loc[ID, 'Left']) ) for ID in df.index)\n",
    "distances_df = df3\n",
    "distance = distances_df\n",
    "distances = dict( ((l1,l2), distance.iloc[l1, l2] ) for l1 in locations for l2 in locations if l1!=l2)\n",
    "\n",
    "\n",
    "    ## V: This defines the total number of vehicles that will traverse the path.\n",
    "V = 1\n",
    "    ## prob: This initializes the problem that will run using provided constraints.\n",
    "\n",
    "prob=LpProblem(\"vehicle\", LpMinimize)\n",
    "    ## indicator: This defines the variable dictionary consisting of distances and indicates if location i is connected to location j along route\n",
    "indicator = LpVariable.dicts('indicator',distances, 0,1,LpBinary)\n",
    "    ## eliminator: This defines the variable dictionary consisting of the node ID's and elimiate subtours\n",
    "eliminator = LpVariable.dicts('eliminator', df.ID, 0, len(df.ID)-1, LpInteger)\n",
    "    ## cost: This stores the result of distances calculations.\n",
    "cost = lpSum([indicator[(i,j)]*distances[(i,j)] for (i,j) in distances])\n",
    "prob+=cost\n",
    "\n",
    "start1 = 2\n",
    "for v in df.ID:\n",
    "        ## cap: This considers a particular node at a time. \n",
    "    cap = 1 if v != start1 else V\n",
    "        #inward possible route\n",
    "    prob+= lpSum([ indicator[(i,v)] for i in df.ID if (i,v) in indicator]) ==cap\n",
    "        #outward possible route\n",
    "    prob+=lpSum([ indicator[(v,i)] for i in df.ID if (v,i) in indicator]) ==cap\n",
    "    ## num: This stores the result of the number of nodes and the number of vehicles.    \n",
    "num=len(df.ID)/V\n",
    "for i in df.ID:\n",
    "    for j in df.ID:\n",
    "        if i != j and (i != start1 and j!= start1) and (i,j) in indicator:\n",
    "             prob += eliminator[i] - eliminator[j] <= (num)*(1-indicator[(i,j)]) - 1         \n",
    "prob.solve()\n",
    "    ## feasibleedges: This stores values of edges after the calculations are done.\n",
    "feasible_edges = [ e for e in indicator if value(indicator[e]) != 0 ]\n",
    "    ##@get_next_loc\n",
    "    # This provides with the next coordinates for the next node in the path.\n",
    "def get_next_loc(initial):\n",
    "    edges = [e for e in feasible_edges if e[0]==initial]\n",
    "    for e in edges:\n",
    "        feasible_edges.remove(e)\n",
    "    return edges\n",
    "    ## routes: This stores information regarding paths.    \n",
    "routes = get_next_loc(2)\n",
    "routes = [ [e] for e in routes ]\n",
    "\n",
    "for r in routes:\n",
    "    while r[-1][1] !=start1:\n",
    "        r.append(get_next_loc(r[-1][1])[-1])\n",
    "\n",
    "\n",
    "\n",
    "\n",
    "df2 = df[['Left', 'Right', 'ID']].copy()\n",
    "df2.rename(columns = {'Left':'Latitude'}, inplace = True)\n",
    "df2.rename(columns = {'Right':'Longitude'}, inplace = True)\n",
    "a=[]\n",
    "for i in range(data.index.stop):\n",
    "    #print(routes[0][i][0])\n",
    "    a.append(routes[0][i][0]) \n",
    "\n",
    "df3 = pd.DataFrame()\n",
    "for i in a:\n",
    "    df3 = df3.append(df2.loc[i])\n",
    "\n",
    "df3.reset_index(inplace = True)\n",
    "\n",
    "df3 = df3.append(df3.loc[0])\n",
    "df3.reset_index(inplace = True)\n",
    "df4 = df3\n",
    "dfnodes = pd.DataFrame(Nodes)\n",
    "dfnodes.rename(columns = {0:'Nodes'}, inplace = True)\n",
    "dfnodes = dfnodes.reindex(a)\n",
    "dfnodes = dfnodes.append({\"Nodes\":Nodes[a[0]]},ignore_index=True)\n",
    "df4 = pd.concat([df4,dfnodes],axis=1)\n",
    "    \n",
    "    \n",
    "def node_list_to_path2(G, node_list):\n",
    "   \n",
    "    edge_nodes = list(zip(node_list[:-1], node_list[1:]))\n",
    "    lines = []\n",
    "    newlist=[]\n",
    "    \n",
    "    \n",
    "    \n",
    "    \n",
    "    #for u, v in edge_nodes:\n",
    "    #    if(G.get_edge_data(u, v)):\n",
    "    #        newlist.append((u,v))\n",
    "            \n",
    "            \n",
    "            \n",
    "    for u, v in edge_nodes:\n",
    "        if(G.get_edge_data(u, v)):\n",
    "            newlist.append((u,v))\n",
    "        else:    \n",
    "            path1 = nx.shortest_path(G,u, v, weight='travel_time')\n",
    "            path2 = list(zip(path1[:-1], path1[1:]))\n",
    "            newlist = newlist+path2        \n",
    "    #print(newlist)\n",
    "    #print(len(newlist))\n",
    "    \n",
    "    for u, v in newlist:\n",
    "        # if there are parallel edges, select the shortest in length\n",
    "        \n",
    "        data = min(G.get_edge_data(u, v).values(), \n",
    "                key=lambda x: x['length'])\n",
    "            # if it has a geometry attribute\n",
    "        if 'geometry' in data:\n",
    "            # add them to the list of lines to plot\n",
    "            xs, ys = data['geometry'].xy\n",
    "            lines.append(list(zip(xs, ys)))\n",
    "        else:\n",
    "            # if it doesn't have a geometry attribute,\n",
    "            # then the edge is a straight line from node to node\n",
    "            x1 = G.nodes[u]['x']\n",
    "            y1 = G.nodes[u]['y']\n",
    "            x2 = G.nodes[v]['x']\n",
    "            y2 = G.nodes[v]['y']\n",
    "            line = [(x1, y1), (x2, y2)]\n",
    "            lines.append(line)\n",
    "            \n",
    "    return lines    \n",
    "    \n",
    "    \n",
    "    \n",
    "def plot_path(lat, long, origin_point, destination_point):\n",
    "    fig = go.Figure(go.Scattermapbox(\n",
    "        name = \"Path\",\n",
    "        mode = \"lines\",\n",
    "        lon = long,\n",
    "        lat = lat,\n",
    "        marker = {'size': 10},\n",
    "        line = dict(width = 4.5, color = 'grey')))\n",
    "    fig.add_trace(go.Scattermapbox(\n",
    "        name = \"Source\",\n",
    "        mode = \"markers\",\n",
    "        lon = [origin_point[1]],\n",
    "        lat = [origin_point[0]],\n",
    "        marker = {'size': 12, 'color':\"red\"}))\n",
    "    fig.add_trace(go.Scattermapbox(\n",
    "        name = \"Destination\",\n",
    "        mode = \"markers\",\n",
    "        lon = [destination_point[1]],\n",
    "        lat = [destination_point[0]],\n",
    "        marker = {'size': 12, 'color':'green'}))\n",
    "    lat_center = np.mean(lat)\n",
    "    long_center = np.mean(long)\n",
    "    fig.update_layout(mapbox_style=\"carto-darkmatter\",\n",
    "        mapbox_center_lat = 30, mapbox_center_lon=-80)\n",
    "    fig.update_layout(margin={\"r\":0,\"t\":0,\"l\":0,\"b\":0},\n",
    "                        mapbox = {\n",
    "                            'center': {'lat': lat_center, \n",
    "                            'lon': long_center},\n",
    "                            'zoom': 13})\n",
    "    fig.show()\n",
    "\n",
    "\n",
    "pathlist = []\n",
    "for i in range(df4['Nodes'].count()-1):\n",
    "    path1 = nx.shortest_path(G, df4.iloc[i]['Nodes'],df4.iloc[i+1]['Nodes'], weight='travel_time')\n",
    "    pathlist = pathlist+path1\n",
    "#pathlist1 = list(dict.fromkeys(pathlist))\n",
    "#pathlist1.append(pathlist1[0])\n",
    "data4 = pd.DataFrame(pathlist)\n",
    "data4.rename(columns = {0:'Nodes'}, inplace = True)\n",
    "lat1 = []\n",
    "long1 = []\n",
    "lines = node_list_to_path2(G, pathlist)\n",
    "long2 = []\n",
    "lat2 = []\n",
    "for i in range(len(lines)):\n",
    "    z = list(lines[i])\n",
    "    l1 = list(list(zip(*z))[0])\n",
    "    l2 = list(list(zip(*z))[1])\n",
    "    for j in range(len(l1)):\n",
    "        long2.append(l1[j])\n",
    "        lat2.append(l2[j])\n",
    "        \n",
    "newdf = pd.DataFrame()\n",
    "newdf['Latitude'] = lat2\n",
    "newdf['Longitude'] = long2\n",
    "Trash = []\n",
    "for i in newdf.index:\n",
    "    Trash.append(random.randint(6,10))\n",
    "newdf['Trash'] = Trash\n",
    "\n",
    "duration1= []\n",
    "for i in range(newdf.index.stop-1):\n",
    "    r = requests.get(f\"\"\"http://router.project-osrm.org/route/v1/car/{newdf.loc[i, \"Longitude\"]},{newdf.loc[i, \"Latitude\"]};{newdf.loc[i+1, \"Longitude\"]},{newdf.loc[i+1, \"Latitude\"]}?overview=false\"\"\")\n",
    "    duration1.append(json.loads(r.content)[\"routes\"][0][\"duration\"])          \n",
    "        \n",
    "for i in pathlist:\n",
    "    lat1.append(G.nodes[i].get('y'))\n",
    "    long1.append(G.nodes[i].get('x'))\n",
    "data4['Latitude'] = lat1\n",
    "data4['Longitude'] = long1\n",
    "origin_point = (data4.loc[0][\"Latitude\"], data4.loc[0][\"Longitude\"]) \n",
    "destination_point = (data4.iloc[-1][\"Latitude\"], data4.iloc[-1][\"Longitude\"])\n",
    "#plot_path(lat1, long1, origin_point, destination_point)\n",
    "\n",
    "\n",
    "plot_path(lat2, long2, origin_point, destination_point)"
   ]
  },
  {
   "cell_type": "code",
   "execution_count": 38,
   "id": "wicked-athens",
   "metadata": {},
   "outputs": [],
   "source": [
    "path4 = pathlist"
   ]
  },
  {
   "cell_type": "code",
   "execution_count": 39,
   "id": "sufficient-bradford",
   "metadata": {},
   "outputs": [],
   "source": [
    "trash4 = Trash"
   ]
  },
  {
   "cell_type": "code",
   "execution_count": 40,
   "id": "peripheral-george",
   "metadata": {},
   "outputs": [],
   "source": [
    "duration4 = duration1"
   ]
  },
  {
   "cell_type": "code",
   "execution_count": 41,
   "id": "handmade-ocean",
   "metadata": {},
   "outputs": [
    {
     "data": {
      "image/png": "[encoded data removed]",
      "text/plain": [
       "<Figure size 576x576 with 1 Axes>"
      ]
     },
     "metadata": {},
     "output_type": "display_data"
    },
    {
     "data": {
      "application/vnd.plotly.v1+json": {
       "config": {
        "plotlyServerURL": "https://plot.ly"
       },
       "data": [
        {
         "lat": [
          35.568139,
          35.5682083,
          35.569225,
          35.5696339,
          35.5697011,
          35.5697011,
          35.5697471,
          35.5698197,
          35.5700451,
          35.5701717,
          35.5701871,
          35.5702227,
          35.5702227,
          35.570155,
          35.5694491,
          35.5694491,
          35.5694787,
          35.5697,
          35.569923,
          35.5699905,
          35.57004,
          35.57004,
          35.569975,
          35.5699388,
          35.5698645,
          35.5697497,
          35.569653,
          35.5695668,
          35.5687103,
          35.5685803,
          35.5684931,
          35.5682114,
          35.568081,
          35.5677659,
          35.567541,
          35.5673849,
          35.5672076,
          35.567095,
          35.5669112,
          35.5668394,
          35.5667274,
          35.5666292,
          35.5665036,
          35.5664715,
          35.5664715,
          35.5665398,
          35.5680563,
          35.568139
         ],
         "line": {
          "color": "grey",
          "width": 4.5
         },
         "lon": [
          -78.813101,
          -78.8131413,
          -78.813733,
          -78.8140689,
          -78.8141241,
          -78.8141241,
          -78.8140532,
          -78.8139415,
          -78.8135851,
          -78.8133389,
          -78.8132983,
          -78.8132046,
          -78.8132046,
          -78.8131627,
          -78.8127255,
          -78.8127255,
          -78.8126568,
          -78.812144,
          -78.81179,
          -78.8117086,
          -78.811649,
          -78.811649,
          -78.8115591,
          -78.8115091,
          -78.8114172,
          -78.8113384,
          -78.811304,
          -78.8112847,
          -78.8113299,
          -78.8113106,
          -78.8112715,
          -78.811118,
          -78.811065,
          -78.8110191,
          -78.8109834,
          -78.8109974,
          -78.8110578,
          -78.811111,
          -78.8112608,
          -78.811355,
          -78.8115268,
          -78.8117489,
          -78.8120781,
          -78.8121623,
          -78.8121623,
          -78.8122008,
          -78.8130545,
          -78.813101
         ],
         "marker": {
          "size": 10
         },
         "mode": "lines",
         "name": "Path",
         "type": "scattermapbox"
        },
        {
         "lat": [
          35.568139
         ],
         "lon": [
          -78.813101
         ],
         "marker": {
          "color": "red",
          "size": 12
         },
         "mode": "markers",
         "name": "Source",
         "type": "scattermapbox"
        },
        {
         "lat": [
          35.568139
         ],
         "lon": [
          -78.813101
         ],
         "marker": {
          "color": "green",
          "size": 12
         },
         "mode": "markers",
         "name": "Destination",
         "type": "scattermapbox"
        }
       ],
       "layout": {
        "mapbox": {
         "center": {
          "lat": 35.56875743958333,
          "lon": -78.812238675
         },
         "style": "carto-darkmatter",
         "zoom": 13
        },
        "margin": {
         "b": 0,
         "l": 0,
         "r": 0,
         "t": 0
        },
        "template": {
         "data": {
          "bar": [
           {
            "error_x": {
             "color": "#2a3f5f"
            },
            "error_y": {
             "color": "#2a3f5f"
            },
            "marker": {
             "line": {
              "color": "#E5ECF6",
              "width": 0.5
             }
            },
            "type": "bar"
           }
          ],
          "barpolar": [
           {
            "marker": {
             "line": {
              "color": "#E5ECF6",
              "width": 0.5
             }
            },
            "type": "barpolar"
           }
          ],
          "carpet": [
           {
            "aaxis": {
             "endlinecolor": "#2a3f5f",
             "gridcolor": "white",
             "linecolor": "white",
             "minorgridcolor": "white",
             "startlinecolor": "#2a3f5f"
            },
            "baxis": {
             "endlinecolor": "#2a3f5f",
             "gridcolor": "white",
             "linecolor": "white",
             "minorgridcolor": "white",
             "startlinecolor": "#2a3f5f"
            },
            "type": "carpet"
           }
          ],
          "choropleth": [
           {
            "colorbar": {
             "outlinewidth": 0,
             "ticks": ""
            },
            "type": "choropleth"
           }
          ],
          "contour": [
           {
            "colorbar": {
             "outlinewidth": 0,
             "ticks": ""
            },
            "colorscale": [
             [
              0,
              "#0d0887"
             ],
             [
              0.1111111111111111,
              "#46039f"
             ],
             [
              0.2222222222222222,
              "#7201a8"
             ],
             [
              0.3333333333333333,
              "#9c179e"
             ],
             [
              0.4444444444444444,
              "#bd3786"
             ],
             [
              0.5555555555555556,
              "#d8576b"
             ],
             [
              0.6666666666666666,
              "#ed7953"
             ],
             [
              0.7777777777777778,
              "#fb9f3a"
             ],
             [
              0.8888888888888888,
              "#fdca26"
             ],
             [
              1,
              "#f0f921"
             ]
            ],
            "type": "contour"
           }
          ],
          "contourcarpet": [
           {
            "colorbar": {
             "outlinewidth": 0,
             "ticks": ""
            },
            "type": "contourcarpet"
           }
          ],
          "heatmap": [
           {
            "colorbar": {
             "outlinewidth": 0,
             "ticks": ""
            },
            "colorscale": [
             [
              0,
              "#0d0887"
             ],
             [
              0.1111111111111111,
              "#46039f"
             ],
             [
              0.2222222222222222,
              "#7201a8"
             ],
             [
              0.3333333333333333,
              "#9c179e"
             ],
             [
              0.4444444444444444,
              "#bd3786"
             ],
             [
              0.5555555555555556,
              "#d8576b"
             ],
             [
              0.6666666666666666,
              "#ed7953"
             ],
             [
              0.7777777777777778,
              "#fb9f3a"
             ],
             [
              0.8888888888888888,
              "#fdca26"
             ],
             [
              1,
              "#f0f921"
             ]
            ],
            "type": "heatmap"
           }
          ],
          "heatmapgl": [
           {
            "colorbar": {
             "outlinewidth": 0,
             "ticks": ""
            },
            "colorscale": [
             [
              0,
              "#0d0887"
             ],
             [
              0.1111111111111111,
              "#46039f"
             ],
             [
              0.2222222222222222,
              "#7201a8"
             ],
             [
              0.3333333333333333,
              "#9c179e"
             ],
             [
              0.4444444444444444,
              "#bd3786"
             ],
             [
              0.5555555555555556,
              "#d8576b"
             ],
             [
              0.6666666666666666,
              "#ed7953"
             ],
             [
              0.7777777777777778,
              "#fb9f3a"
             ],
             [
              0.8888888888888888,
              "#fdca26"
             ],
             [
              1,
              "#f0f921"
             ]
            ],
            "type": "heatmapgl"
           }
          ],
          "histogram": [
           {
            "marker": {
             "colorbar": {
              "outlinewidth": 0,
              "ticks": ""
             }
            },
            "type": "histogram"
           }
          ],
          "histogram2d": [
           {
            "colorbar": {
             "outlinewidth": 0,
             "ticks": ""
            },
            "colorscale": [
             [
              0,
              "#0d0887"
             ],
             [
              0.1111111111111111,
              "#46039f"
             ],
             [
              0.2222222222222222,
              "#7201a8"
             ],
             [
              0.3333333333333333,
              "#9c179e"
             ],
             [
              0.4444444444444444,
              "#bd3786"
             ],
             [
              0.5555555555555556,
              "#d8576b"
             ],
             [
              0.6666666666666666,
              "#ed7953"
             ],
             [
              0.7777777777777778,
              "#fb9f3a"
             ],
             [
              0.8888888888888888,
              "#fdca26"
             ],
             [
              1,
              "#f0f921"
             ]
            ],
            "type": "histogram2d"
           }
          ],
          "histogram2dcontour": [
           {
            "colorbar": {
             "outlinewidth": 0,
             "ticks": ""
            },
            "colorscale": [
             [
              0,
              "#0d0887"
             ],
             [
              0.1111111111111111,
              "#46039f"
             ],
             [
              0.2222222222222222,
              "#7201a8"
             ],
             [
              0.3333333333333333,
              "#9c179e"
             ],
             [
              0.4444444444444444,
              "#bd3786"
             ],
             [
              0.5555555555555556,
              "#d8576b"
             ],
             [
              0.6666666666666666,
              "#ed7953"
             ],
             [
              0.7777777777777778,
              "#fb9f3a"
             ],
             [
              0.8888888888888888,
              "#fdca26"
             ],
             [
              1,
              "#f0f921"
             ]
            ],
            "type": "histogram2dcontour"
           }
          ],
          "mesh3d": [
           {
            "colorbar": {
             "outlinewidth": 0,
             "ticks": ""
            },
            "type": "mesh3d"
           }
          ],
          "parcoords": [
           {
            "line": {
             "colorbar": {
              "outlinewidth": 0,
              "ticks": ""
             }
            },
            "type": "parcoords"
           }
          ],
          "pie": [
           {
            "automargin": true,
            "type": "pie"
           }
          ],
          "scatter": [
           {
            "marker": {
             "colorbar": {
              "outlinewidth": 0,
              "ticks": ""
             }
            },
            "type": "scatter"
           }
          ],
          "scatter3d": [
           {
            "line": {
             "colorbar": {
              "outlinewidth": 0,
              "ticks": ""
             }
            },
            "marker": {
             "colorbar": {
              "outlinewidth": 0,
              "ticks": ""
             }
            },
            "type": "scatter3d"
           }
          ],
          "scattercarpet": [
           {
            "marker": {
             "colorbar": {
              "outlinewidth": 0,
              "ticks": ""
             }
            },
            "type": "scattercarpet"
           }
          ],
          "scattergeo": [
           {
            "marker": {
             "colorbar": {
              "outlinewidth": 0,
              "ticks": ""
             }
            },
            "type": "scattergeo"
           }
          ],
          "scattergl": [
           {
            "marker": {
             "colorbar": {
              "outlinewidth": 0,
              "ticks": ""
             }
            },
            "type": "scattergl"
           }
          ],
          "scattermapbox": [
           {
            "marker": {
             "colorbar": {
              "outlinewidth": 0,
              "ticks": ""
             }
            },
            "type": "scattermapbox"
           }
          ],
          "scatterpolar": [
           {
            "marker": {
             "colorbar": {
              "outlinewidth": 0,
              "ticks": ""
             }
            },
            "type": "scatterpolar"
           }
          ],
          "scatterpolargl": [
           {
            "marker": {
             "colorbar": {
              "outlinewidth": 0,
              "ticks": ""
             }
            },
            "type": "scatterpolargl"
           }
          ],
          "scatterternary": [
           {
            "marker": {
             "colorbar": {
              "outlinewidth": 0,
              "ticks": ""
             }
            },
            "type": "scatterternary"
           }
          ],
          "surface": [
           {
            "colorbar": {
             "outlinewidth": 0,
             "ticks": ""
            },
            "colorscale": [
             [
              0,
              "#0d0887"
             ],
             [
              0.1111111111111111,
              "#46039f"
             ],
             [
              0.2222222222222222,
              "#7201a8"
             ],
             [
              0.3333333333333333,
              "#9c179e"
             ],
             [
              0.4444444444444444,
              "#bd3786"
             ],
             [
              0.5555555555555556,
              "#d8576b"
             ],
             [
              0.6666666666666666,
              "#ed7953"
             ],
             [
              0.7777777777777778,
              "#fb9f3a"
             ],
             [
              0.8888888888888888,
              "#fdca26"
             ],
             [
              1,
              "#f0f921"
             ]
            ],
            "type": "surface"
           }
          ],
          "table": [
           {
            "cells": {
             "fill": {
              "color": "#EBF0F8"
             },
             "line": {
              "color": "white"
             }
            },
            "header": {
             "fill": {
              "color": "#C8D4E3"
             },
             "line": {
              "color": "white"
             }
            },
            "type": "table"
           }
          ]
         },
         "layout": {
          "annotationdefaults": {
           "arrowcolor": "#2a3f5f",
           "arrowhead": 0,
           "arrowwidth": 1
          },
          "autotypenumbers": "strict",
          "coloraxis": {
           "colorbar": {
            "outlinewidth": 0,
            "ticks": ""
           }
          },
          "colorscale": {
           "diverging": [
            [
             0,
             "#8e0152"
            ],
            [
             0.1,
             "#c51b7d"
            ],
            [
             0.2,
             "#de77ae"
            ],
            [
             0.3,
             "#f1b6da"
            ],
            [
             0.4,
             "#fde0ef"
            ],
            [
             0.5,
             "#f7f7f7"
            ],
            [
             0.6,
             "#e6f5d0"
            ],
            [
             0.7,
             "#b8e186"
            ],
            [
             0.8,
             "#7fbc41"
            ],
            [
             0.9,
             "#4d9221"
            ],
            [
             1,
             "#276419"
            ]
           ],
           "sequential": [
            [
             0,
             "#0d0887"
            ],
            [
             0.1111111111111111,
             "#46039f"
            ],
            [
             0.2222222222222222,
             "#7201a8"
            ],
            [
             0.3333333333333333,
             "#9c179e"
            ],
            [
             0.4444444444444444,
             "#bd3786"
            ],
            [
             0.5555555555555556,
             "#d8576b"
            ],
            [
             0.6666666666666666,
             "#ed7953"
            ],
            [
             0.7777777777777778,
             "#fb9f3a"
            ],
            [
             0.8888888888888888,
             "#fdca26"
            ],
            [
             1,
             "#f0f921"
            ]
           ],
           "sequentialminus": [
            [
             0,
             "#0d0887"
            ],
            [
             0.1111111111111111,
             "#46039f"
            ],
            [
             0.2222222222222222,
             "#7201a8"
            ],
            [
             0.3333333333333333,
             "#9c179e"
            ],
            [
             0.4444444444444444,
             "#bd3786"
            ],
            [
             0.5555555555555556,
             "#d8576b"
            ],
            [
             0.6666666666666666,
             "#ed7953"
            ],
            [
             0.7777777777777778,
             "#fb9f3a"
            ],
            [
             0.8888888888888888,
             "#fdca26"
            ],
            [
             1,
             "#f0f921"
            ]
           ]
          },
          "colorway": [
           "#636efa",
           "#EF553B",
           "#00cc96",
           "#ab63fa",
           "#FFA15A",
           "#19d3f3",
           "#FF6692",
           "#B6E880",
           "#FF97FF",
           "#FECB52"
          ],
          "font": {
           "color": "#2a3f5f"
          },
          "geo": {
           "bgcolor": "white",
           "lakecolor": "white",
           "landcolor": "#E5ECF6",
           "showlakes": true,
           "showland": true,
           "subunitcolor": "white"
          },
          "hoverlabel": {
           "align": "left"
          },
          "hovermode": "closest",
          "mapbox": {
           "style": "light"
          },
          "paper_bgcolor": "white",
          "plot_bgcolor": "#E5ECF6",
          "polar": {
           "angularaxis": {
            "gridcolor": "white",
            "linecolor": "white",
            "ticks": ""
           },
           "bgcolor": "#E5ECF6",
           "radialaxis": {
            "gridcolor": "white",
            "linecolor": "white",
            "ticks": ""
           }
          },
          "scene": {
           "xaxis": {
            "backgroundcolor": "#E5ECF6",
            "gridcolor": "white",
            "gridwidth": 2,
            "linecolor": "white",
            "showbackground": true,
            "ticks": "",
            "zerolinecolor": "white"
           },
           "yaxis": {
            "backgroundcolor": "#E5ECF6",
            "gridcolor": "white",
            "gridwidth": 2,
            "linecolor": "white",
            "showbackground": true,
            "ticks": "",
            "zerolinecolor": "white"
           },
           "zaxis": {
            "backgroundcolor": "#E5ECF6",
            "gridcolor": "white",
            "gridwidth": 2,
            "linecolor": "white",
            "showbackground": true,
            "ticks": "",
            "zerolinecolor": "white"
           }
          },
          "shapedefaults": {
           "line": {
            "color": "#2a3f5f"
           }
          },
          "ternary": {
           "aaxis": {
            "gridcolor": "white",
            "linecolor": "white",
            "ticks": ""
           },
           "baxis": {
            "gridcolor": "white",
            "linecolor": "white",
            "ticks": ""
           },
           "bgcolor": "#E5ECF6",
           "caxis": {
            "gridcolor": "white",
            "linecolor": "white",
            "ticks": ""
           }
          },
          "title": {
           "x": 0.05
          },
          "xaxis": {
           "automargin": true,
           "gridcolor": "white",
           "linecolor": "white",
           "ticks": "",
           "title": {
            "standoff": 15
           },
           "zerolinecolor": "white",
           "zerolinewidth": 2
          },
          "yaxis": {
           "automargin": true,
           "gridcolor": "white",
           "linecolor": "white",
           "ticks": "",
           "title": {
            "standoff": 15
           },
           "zerolinecolor": "white",
           "zerolinewidth": 2
          }
         }
        }
       }
      },
      "text/html": [
       "<div>                            <div id=\"9326131f-86c0-45d7-b3eb-792a8187c27c\" class=\"plotly-graph-div\" style=\"height:525px; width:100%;\"></div>            <script type=\"text/javascript\">                require([\"plotly\"], function(Plotly) {                    window.PLOTLYENV=window.PLOTLYENV || {};                                    if (document.getElementById(\"9326131f-86c0-45d7-b3eb-792a8187c27c\")) {                    Plotly.newPlot(                        \"9326131f-86c0-45d7-b3eb-792a8187c27c\",                        [{\"lat\": [35.568139, 35.5682083, 35.569225, 35.5696339, 35.5697011, 35.5697011, 35.5697471, 35.5698197, 35.5700451, 35.5701717, 35.5701871, 35.5702227, 35.5702227, 35.570155, 35.5694491, 35.5694491, 35.5694787, 35.5697, 35.569923, 35.5699905, 35.57004, 35.57004, 35.569975, 35.5699388, 35.5698645, 35.5697497, 35.569653, 35.5695668, 35.5687103, 35.5685803, 35.5684931, 35.5682114, 35.568081, 35.5677659, 35.567541, 35.5673849, 35.5672076, 35.567095, 35.5669112, 35.5668394, 35.5667274, 35.5666292, 35.5665036, 35.5664715, 35.5664715, 35.5665398, 35.5680563, 35.568139], \"line\": {\"color\": \"grey\", \"width\": 4.5}, \"lon\": [-78.813101, -78.8131413, -78.813733, -78.8140689, -78.8141241, -78.8141241, -78.8140532, -78.8139415, -78.8135851, -78.8133389, -78.8132983, -78.8132046, -78.8132046, -78.8131627, -78.8127255, -78.8127255, -78.8126568, -78.812144, -78.81179, -78.8117086, -78.811649, -78.811649, -78.8115591, -78.8115091, -78.8114172, -78.8113384, -78.811304, -78.8112847, -78.8113299, -78.8113106, -78.8112715, -78.811118, -78.811065, -78.8110191, -78.8109834, -78.8109974, -78.8110578, -78.811111, -78.8112608, -78.811355, -78.8115268, -78.8117489, -78.8120781, -78.8121623, -78.8121623, -78.8122008, -78.8130545, -78.813101], \"marker\": {\"size\": 10}, \"mode\": \"lines\", \"name\": \"Path\", \"type\": \"scattermapbox\"}, {\"lat\": [35.568139], \"lon\": [-78.813101], \"marker\": {\"color\": \"red\", \"size\": 12}, \"mode\": \"markers\", \"name\": \"Source\", \"type\": \"scattermapbox\"}, {\"lat\": [35.568139], \"lon\": [-78.813101], \"marker\": {\"color\": \"green\", \"size\": 12}, \"mode\": \"markers\", \"name\": \"Destination\", \"type\": \"scattermapbox\"}],                        {\"mapbox\": {\"center\": {\"lat\": 35.56875743958333, \"lon\": -78.812238675}, \"style\": \"carto-darkmatter\", \"zoom\": 13}, \"margin\": {\"b\": 0, \"l\": 0, \"r\": 0, \"t\": 0}, \"template\": {\"data\": {\"bar\": [{\"error_x\": {\"color\": \"#2a3f5f\"}, \"error_y\": {\"color\": \"#2a3f5f\"}, \"marker\": {\"line\": {\"color\": \"#E5ECF6\", \"width\": 0.5}}, \"type\": \"bar\"}], \"barpolar\": [{\"marker\": {\"line\": {\"color\": \"#E5ECF6\", \"width\": 0.5}}, \"type\": \"barpolar\"}], \"carpet\": [{\"aaxis\": {\"endlinecolor\": \"#2a3f5f\", \"gridcolor\": \"white\", \"linecolor\": \"white\", \"minorgridcolor\": \"white\", \"startlinecolor\": \"#2a3f5f\"}, \"baxis\": {\"endlinecolor\": \"#2a3f5f\", \"gridcolor\": \"white\", \"linecolor\": \"white\", \"minorgridcolor\": \"white\", \"startlinecolor\": \"#2a3f5f\"}, \"type\": \"carpet\"}], \"choropleth\": [{\"colorbar\": {\"outlinewidth\": 0, \"ticks\": \"\"}, \"type\": \"choropleth\"}], \"contour\": [{\"colorbar\": {\"outlinewidth\": 0, \"ticks\": \"\"}, \"colorscale\": [[0.0, \"#0d0887\"], [0.1111111111111111, \"#46039f\"], [0.2222222222222222, \"#7201a8\"], [0.3333333333333333, \"#9c179e\"], [0.4444444444444444, \"#bd3786\"], [0.5555555555555556, \"#d8576b\"], [0.6666666666666666, \"#ed7953\"], [0.7777777777777778, \"#fb9f3a\"], [0.8888888888888888, \"#fdca26\"], [1.0, \"#f0f921\"]], \"type\": \"contour\"}], \"contourcarpet\": [{\"colorbar\": {\"outlinewidth\": 0, \"ticks\": \"\"}, \"type\": \"contourcarpet\"}], \"heatmap\": [{\"colorbar\": {\"outlinewidth\": 0, \"ticks\": \"\"}, \"colorscale\": [[0.0, \"#0d0887\"], [0.1111111111111111, \"#46039f\"], [0.2222222222222222, \"#7201a8\"], [0.3333333333333333, \"#9c179e\"], [0.4444444444444444, \"#bd3786\"], [0.5555555555555556, \"#d8576b\"], [0.6666666666666666, \"#ed7953\"], [0.7777777777777778, \"#fb9f3a\"], [0.8888888888888888, \"#fdca26\"], [1.0, \"#f0f921\"]], \"type\": \"heatmap\"}], \"heatmapgl\": [{\"colorbar\": {\"outlinewidth\": 0, \"ticks\": \"\"}, \"colorscale\": [[0.0, \"#0d0887\"], [0.1111111111111111, \"#46039f\"], [0.2222222222222222, \"#7201a8\"], [0.3333333333333333, \"#9c179e\"], [0.4444444444444444, \"#bd3786\"], [0.5555555555555556, \"#d8576b\"], [0.6666666666666666, \"#ed7953\"], [0.7777777777777778, \"#fb9f3a\"], [0.8888888888888888, \"#fdca26\"], [1.0, \"#f0f921\"]], \"type\": \"heatmapgl\"}], \"histogram\": [{\"marker\": {\"colorbar\": {\"outlinewidth\": 0, \"ticks\": \"\"}}, \"type\": \"histogram\"}], \"histogram2d\": [{\"colorbar\": {\"outlinewidth\": 0, \"ticks\": \"\"}, \"colorscale\": [[0.0, \"#0d0887\"], [0.1111111111111111, \"#46039f\"], [0.2222222222222222, \"#7201a8\"], [0.3333333333333333, \"#9c179e\"], [0.4444444444444444, \"#bd3786\"], [0.5555555555555556, \"#d8576b\"], [0.6666666666666666, \"#ed7953\"], [0.7777777777777778, \"#fb9f3a\"], [0.8888888888888888, \"#fdca26\"], [1.0, \"#f0f921\"]], \"type\": \"histogram2d\"}], \"histogram2dcontour\": [{\"colorbar\": {\"outlinewidth\": 0, \"ticks\": \"\"}, \"colorscale\": [[0.0, \"#0d0887\"], [0.1111111111111111, \"#46039f\"], [0.2222222222222222, \"#7201a8\"], [0.3333333333333333, \"#9c179e\"], [0.4444444444444444, \"#bd3786\"], [0.5555555555555556, \"#d8576b\"], [0.6666666666666666, \"#ed7953\"], [0.7777777777777778, \"#fb9f3a\"], [0.8888888888888888, \"#fdca26\"], [1.0, \"#f0f921\"]], \"type\": \"histogram2dcontour\"}], \"mesh3d\": [{\"colorbar\": {\"outlinewidth\": 0, \"ticks\": \"\"}, \"type\": \"mesh3d\"}], \"parcoords\": [{\"line\": {\"colorbar\": {\"outlinewidth\": 0, \"ticks\": \"\"}}, \"type\": \"parcoords\"}], \"pie\": [{\"automargin\": true, \"type\": \"pie\"}], \"scatter\": [{\"marker\": {\"colorbar\": {\"outlinewidth\": 0, \"ticks\": \"\"}}, \"type\": \"scatter\"}], \"scatter3d\": [{\"line\": {\"colorbar\": {\"outlinewidth\": 0, \"ticks\": \"\"}}, \"marker\": {\"colorbar\": {\"outlinewidth\": 0, \"ticks\": \"\"}}, \"type\": \"scatter3d\"}], \"scattercarpet\": [{\"marker\": {\"colorbar\": {\"outlinewidth\": 0, \"ticks\": \"\"}}, \"type\": \"scattercarpet\"}], \"scattergeo\": [{\"marker\": {\"colorbar\": {\"outlinewidth\": 0, \"ticks\": \"\"}}, \"type\": \"scattergeo\"}], \"scattergl\": [{\"marker\": {\"colorbar\": {\"outlinewidth\": 0, \"ticks\": \"\"}}, \"type\": \"scattergl\"}], \"scattermapbox\": [{\"marker\": {\"colorbar\": {\"outlinewidth\": 0, \"ticks\": \"\"}}, \"type\": \"scattermapbox\"}], \"scatterpolar\": [{\"marker\": {\"colorbar\": {\"outlinewidth\": 0, \"ticks\": \"\"}}, \"type\": \"scatterpolar\"}], \"scatterpolargl\": [{\"marker\": {\"colorbar\": {\"outlinewidth\": 0, \"ticks\": \"\"}}, \"type\": \"scatterpolargl\"}], \"scatterternary\": [{\"marker\": {\"colorbar\": {\"outlinewidth\": 0, \"ticks\": \"\"}}, \"type\": \"scatterternary\"}], \"surface\": [{\"colorbar\": {\"outlinewidth\": 0, \"ticks\": \"\"}, \"colorscale\": [[0.0, \"#0d0887\"], [0.1111111111111111, \"#46039f\"], [0.2222222222222222, \"#7201a8\"], [0.3333333333333333, \"#9c179e\"], [0.4444444444444444, \"#bd3786\"], [0.5555555555555556, \"#d8576b\"], [0.6666666666666666, \"#ed7953\"], [0.7777777777777778, \"#fb9f3a\"], [0.8888888888888888, \"#fdca26\"], [1.0, \"#f0f921\"]], \"type\": \"surface\"}], \"table\": [{\"cells\": {\"fill\": {\"color\": \"#EBF0F8\"}, \"line\": {\"color\": \"white\"}}, \"header\": {\"fill\": {\"color\": \"#C8D4E3\"}, \"line\": {\"color\": \"white\"}}, \"type\": \"table\"}]}, \"layout\": {\"annotationdefaults\": {\"arrowcolor\": \"#2a3f5f\", \"arrowhead\": 0, \"arrowwidth\": 1}, \"autotypenumbers\": \"strict\", \"coloraxis\": {\"colorbar\": {\"outlinewidth\": 0, \"ticks\": \"\"}}, \"colorscale\": {\"diverging\": [[0, \"#8e0152\"], [0.1, \"#c51b7d\"], [0.2, \"#de77ae\"], [0.3, \"#f1b6da\"], [0.4, \"#fde0ef\"], [0.5, \"#f7f7f7\"], [0.6, \"#e6f5d0\"], [0.7, \"#b8e186\"], [0.8, \"#7fbc41\"], [0.9, \"#4d9221\"], [1, \"#276419\"]], \"sequential\": [[0.0, \"#0d0887\"], [0.1111111111111111, \"#46039f\"], [0.2222222222222222, \"#7201a8\"], [0.3333333333333333, \"#9c179e\"], [0.4444444444444444, \"#bd3786\"], [0.5555555555555556, \"#d8576b\"], [0.6666666666666666, \"#ed7953\"], [0.7777777777777778, \"#fb9f3a\"], [0.8888888888888888, \"#fdca26\"], [1.0, \"#f0f921\"]], \"sequentialminus\": [[0.0, \"#0d0887\"], [0.1111111111111111, \"#46039f\"], [0.2222222222222222, \"#7201a8\"], [0.3333333333333333, \"#9c179e\"], [0.4444444444444444, \"#bd3786\"], [0.5555555555555556, \"#d8576b\"], [0.6666666666666666, \"#ed7953\"], [0.7777777777777778, \"#fb9f3a\"], [0.8888888888888888, \"#fdca26\"], [1.0, \"#f0f921\"]]}, \"colorway\": [\"#636efa\", \"#EF553B\", \"#00cc96\", \"#ab63fa\", \"#FFA15A\", \"#19d3f3\", \"#FF6692\", \"#B6E880\", \"#FF97FF\", \"#FECB52\"], \"font\": {\"color\": \"#2a3f5f\"}, \"geo\": {\"bgcolor\": \"white\", \"lakecolor\": \"white\", \"landcolor\": \"#E5ECF6\", \"showlakes\": true, \"showland\": true, \"subunitcolor\": \"white\"}, \"hoverlabel\": {\"align\": \"left\"}, \"hovermode\": \"closest\", \"mapbox\": {\"style\": \"light\"}, \"paper_bgcolor\": \"white\", \"plot_bgcolor\": \"#E5ECF6\", \"polar\": {\"angularaxis\": {\"gridcolor\": \"white\", \"linecolor\": \"white\", \"ticks\": \"\"}, \"bgcolor\": \"#E5ECF6\", \"radialaxis\": {\"gridcolor\": \"white\", \"linecolor\": \"white\", \"ticks\": \"\"}}, \"scene\": {\"xaxis\": {\"backgroundcolor\": \"#E5ECF6\", \"gridcolor\": \"white\", \"gridwidth\": 2, \"linecolor\": \"white\", \"showbackground\": true, \"ticks\": \"\", \"zerolinecolor\": \"white\"}, \"yaxis\": {\"backgroundcolor\": \"#E5ECF6\", \"gridcolor\": \"white\", \"gridwidth\": 2, \"linecolor\": \"white\", \"showbackground\": true, \"ticks\": \"\", \"zerolinecolor\": \"white\"}, \"zaxis\": {\"backgroundcolor\": \"#E5ECF6\", \"gridcolor\": \"white\", \"gridwidth\": 2, \"linecolor\": \"white\", \"showbackground\": true, \"ticks\": \"\", \"zerolinecolor\": \"white\"}}, \"shapedefaults\": {\"line\": {\"color\": \"#2a3f5f\"}}, \"ternary\": {\"aaxis\": {\"gridcolor\": \"white\", \"linecolor\": \"white\", \"ticks\": \"\"}, \"baxis\": {\"gridcolor\": \"white\", \"linecolor\": \"white\", \"ticks\": \"\"}, \"bgcolor\": \"#E5ECF6\", \"caxis\": {\"gridcolor\": \"white\", \"linecolor\": \"white\", \"ticks\": \"\"}}, \"title\": {\"x\": 0.05}, \"xaxis\": {\"automargin\": true, \"gridcolor\": \"white\", \"linecolor\": \"white\", \"ticks\": \"\", \"title\": {\"standoff\": 15}, \"zerolinecolor\": \"white\", \"zerolinewidth\": 2}, \"yaxis\": {\"automargin\": true, \"gridcolor\": \"white\", \"linecolor\": \"white\", \"ticks\": \"\", \"title\": {\"standoff\": 15}, \"zerolinecolor\": \"white\", \"zerolinewidth\": 2}}}},                        {\"responsive\": true}                    ).then(function(){\n",
       "                            \n",
       "var gd = document.getElementById('9326131f-86c0-45d7-b3eb-792a8187c27c');\n",
       "var x = new MutationObserver(function (mutations, observer) {{\n",
       "        var display = window.getComputedStyle(gd).display;\n",
       "        if (!display || display === 'none') {{\n",
       "            console.log([gd, 'removed!']);\n",
       "            Plotly.purge(gd);\n",
       "            observer.disconnect();\n",
       "        }}\n",
       "}});\n",
       "\n",
       "// Listen for the removal of the full notebook cells\n",
       "var notebookContainer = gd.closest('#notebook-container');\n",
       "if (notebookContainer) {{\n",
       "    x.observe(notebookContainer, {childList: true});\n",
       "}}\n",
       "\n",
       "// Listen for the clearing of the current output cell\n",
       "var outputEl = gd.closest('.output');\n",
       "if (outputEl) {{\n",
       "    x.observe(outputEl, {childList: true});\n",
       "}}\n",
       "\n",
       "                        })                };                });            </script>        </div>"
      ]
     },
     "metadata": {},
     "output_type": "display_data"
    }
   ],
   "source": [
    "#Creating a bounding box\n",
    "east, north, west, south = -78.814231,35.566406,-78.810755,35.570595\n",
    "G = ox.graph_from_bbox(north, south, east, west, network_type=\"drive_service\")\n",
    "colors = plt.rcParams['axes.prop_cycle'].by_key()['color']\n",
    "ox.plot.plot_graph(G, bgcolor='#FFFFFF', node_color=colors[0], edge_color='lightgray', node_size=5)\n",
    "\n",
    "\n",
    "    #Extracting Node Information from G\n",
    "Nodes = []\n",
    "for i in G.nodes:\n",
    "    Nodes.append(i)\n",
    "\n",
    "data = pd.DataFrame(Nodes)\n",
    "data.rename(columns = {0:'Nodes'}, inplace = True)\n",
    "\n",
    "\n",
    "lat1 = []\n",
    "long1 = []\n",
    "for i in Nodes:\n",
    "    lat1.append(G.nodes[i].get('y'))\n",
    "    long1.append(G.nodes[i].get('x'))\n",
    "data['Latitude'] = lat1\n",
    "data['Longitude'] = long1\n",
    "df1 = data\n",
    "G = ox.graph_from_place('Fuquay Varina, NC, USA', network_type='drive')\n",
    "\n",
    "df1 = df1.drop(['Nodes'],axis=1)\n",
    "df1.rename(columns = {'Latitude':'Left'}, inplace = True)\n",
    "df1.rename(columns = {'Longitude':'Right'}, inplace = True)\n",
    "\n",
    "    #Calculating Distance and the distance matrix for all coordinates in the Bounding Box\n",
    "df3 = pd.DataFrame()\n",
    "for j in df1.index:\n",
    "    list1 = []\n",
    "    for i in df1.index:\n",
    "        r = requests.get(f\"\"\"http://router.project-osrm.org/route/v1/car/{df1.loc[j, \"Right\"]},{df1.loc[j, \"Left\"]};{df1.loc[i, \"Right\"]},{df1.loc[i, \"Left\"]}?overview=false\"\"\")\n",
    "        list1.append(json.loads(r.content)[\"routes\"][0][\"distance\"])\n",
    "    df3[j] = list1\n",
    "df = df1\n",
    "df['coordinate'] = list(zip(df['Right'],df['Left']))\n",
    "df['ID'] = df.index\n",
    "\n",
    "locations = dict( ( ID, (df.loc[ID, 'Right'], df.loc[ID, 'Left']) ) for ID in df.index)\n",
    "distances_df = df3\n",
    "distance = distances_df\n",
    "distances = dict( ((l1,l2), distance.iloc[l1, l2] ) for l1 in locations for l2 in locations if l1!=l2)\n",
    "\n",
    "\n",
    "    ## V: This defines the total number of vehicles that will traverse the path.\n",
    "V = 1\n",
    "    ## prob: This initializes the problem that will run using provided constraints.\n",
    "\n",
    "prob=LpProblem(\"vehicle\", LpMinimize)\n",
    "    ## indicator: This defines the variable dictionary consisting of distances and indicates if location i is connected to location j along route\n",
    "indicator = LpVariable.dicts('indicator',distances, 0,1,LpBinary)\n",
    "    ## eliminator: This defines the variable dictionary consisting of the node ID's and elimiate subtours\n",
    "eliminator = LpVariable.dicts('eliminator', df.ID, 0, len(df.ID)-1, LpInteger)\n",
    "    ## cost: This stores the result of distances calculations.\n",
    "cost = lpSum([indicator[(i,j)]*distances[(i,j)] for (i,j) in distances])\n",
    "prob+=cost\n",
    "\n",
    "start1 = 2\n",
    "for v in df.ID:\n",
    "        ## cap: This considers a particular node at a time. \n",
    "    cap = 1 if v != start1 else V\n",
    "        #inward possible route\n",
    "    prob+= lpSum([ indicator[(i,v)] for i in df.ID if (i,v) in indicator]) ==cap\n",
    "        #outward possible route\n",
    "    prob+=lpSum([ indicator[(v,i)] for i in df.ID if (v,i) in indicator]) ==cap\n",
    "    ## num: This stores the result of the number of nodes and the number of vehicles.    \n",
    "num=len(df.ID)/V\n",
    "for i in df.ID:\n",
    "    for j in df.ID:\n",
    "        if i != j and (i != start1 and j!= start1) and (i,j) in indicator:\n",
    "             prob += eliminator[i] - eliminator[j] <= (num)*(1-indicator[(i,j)]) - 1         \n",
    "prob.solve()\n",
    "    ## feasibleedges: This stores values of edges after the calculations are done.\n",
    "feasible_edges = [ e for e in indicator if value(indicator[e]) != 0 ]\n",
    "    ##@get_next_loc\n",
    "    # This provides with the next coordinates for the next node in the path.\n",
    "def get_next_loc(initial):\n",
    "    edges = [e for e in feasible_edges if e[0]==initial]\n",
    "    for e in edges:\n",
    "        feasible_edges.remove(e)\n",
    "    return edges\n",
    "    ## routes: This stores information regarding paths.    \n",
    "routes = get_next_loc(2)\n",
    "routes = [ [e] for e in routes ]\n",
    "\n",
    "for r in routes:\n",
    "    while r[-1][1] !=start1:\n",
    "        r.append(get_next_loc(r[-1][1])[-1])\n",
    "\n",
    "\n",
    "\n",
    "\n",
    "df2 = df[['Left', 'Right', 'ID']].copy()\n",
    "df2.rename(columns = {'Left':'Latitude'}, inplace = True)\n",
    "df2.rename(columns = {'Right':'Longitude'}, inplace = True)\n",
    "a=[]\n",
    "for i in range(data.index.stop):\n",
    "    #print(routes[0][i][0])\n",
    "    a.append(routes[0][i][0]) \n",
    "\n",
    "df3 = pd.DataFrame()\n",
    "for i in a:\n",
    "    df3 = df3.append(df2.loc[i])\n",
    "\n",
    "df3.reset_index(inplace = True)\n",
    "\n",
    "df3 = df3.append(df3.loc[0])\n",
    "df3.reset_index(inplace = True)\n",
    "df4 = df3\n",
    "dfnodes = pd.DataFrame(Nodes)\n",
    "dfnodes.rename(columns = {0:'Nodes'}, inplace = True)\n",
    "dfnodes = dfnodes.reindex(a)\n",
    "dfnodes = dfnodes.append({\"Nodes\":Nodes[a[0]]},ignore_index=True)\n",
    "df4 = pd.concat([df4,dfnodes],axis=1)\n",
    "    \n",
    "    \n",
    "def node_list_to_path2(G, node_list):\n",
    "   \n",
    "    edge_nodes = list(zip(node_list[:-1], node_list[1:]))\n",
    "    lines = []\n",
    "    newlist=[]\n",
    "    \n",
    "    \n",
    "    \n",
    "    \n",
    "    #for u, v in edge_nodes:\n",
    "    #    if(G.get_edge_data(u, v)):\n",
    "    #        newlist.append((u,v))\n",
    "            \n",
    "            \n",
    "            \n",
    "    for u, v in edge_nodes:\n",
    "        if(G.get_edge_data(u, v)):\n",
    "            newlist.append((u,v))\n",
    "        else:    \n",
    "            path1 = nx.shortest_path(G,u, v, weight='travel_time')\n",
    "            path2 = list(zip(path1[:-1], path1[1:]))\n",
    "            newlist = newlist+path2        \n",
    "    #print(newlist)\n",
    "    #print(len(newlist))\n",
    "    \n",
    "    for u, v in newlist:\n",
    "        # if there are parallel edges, select the shortest in length\n",
    "        \n",
    "        data = min(G.get_edge_data(u, v).values(), \n",
    "                key=lambda x: x['length'])\n",
    "            # if it has a geometry attribute\n",
    "        if 'geometry' in data:\n",
    "            # add them to the list of lines to plot\n",
    "            xs, ys = data['geometry'].xy\n",
    "            lines.append(list(zip(xs, ys)))\n",
    "        else:\n",
    "            # if it doesn't have a geometry attribute,\n",
    "            # then the edge is a straight line from node to node\n",
    "            x1 = G.nodes[u]['x']\n",
    "            y1 = G.nodes[u]['y']\n",
    "            x2 = G.nodes[v]['x']\n",
    "            y2 = G.nodes[v]['y']\n",
    "            line = [(x1, y1), (x2, y2)]\n",
    "            lines.append(line)\n",
    "            \n",
    "    return lines    \n",
    "    \n",
    "    \n",
    "    \n",
    "def plot_path(lat, long, origin_point, destination_point):\n",
    "    fig = go.Figure(go.Scattermapbox(\n",
    "        name = \"Path\",\n",
    "        mode = \"lines\",\n",
    "        lon = long,\n",
    "        lat = lat,\n",
    "        marker = {'size': 10},\n",
    "        line = dict(width = 4.5, color = 'grey')))\n",
    "    fig.add_trace(go.Scattermapbox(\n",
    "        name = \"Source\",\n",
    "        mode = \"markers\",\n",
    "        lon = [origin_point[1]],\n",
    "        lat = [origin_point[0]],\n",
    "        marker = {'size': 12, 'color':\"red\"}))\n",
    "    fig.add_trace(go.Scattermapbox(\n",
    "        name = \"Destination\",\n",
    "        mode = \"markers\",\n",
    "        lon = [destination_point[1]],\n",
    "        lat = [destination_point[0]],\n",
    "        marker = {'size': 12, 'color':'green'}))\n",
    "    lat_center = np.mean(lat)\n",
    "    long_center = np.mean(long)\n",
    "    fig.update_layout(mapbox_style=\"carto-darkmatter\",\n",
    "        mapbox_center_lat = 30, mapbox_center_lon=-80)\n",
    "    fig.update_layout(margin={\"r\":0,\"t\":0,\"l\":0,\"b\":0},\n",
    "                        mapbox = {\n",
    "                            'center': {'lat': lat_center, \n",
    "                            'lon': long_center},\n",
    "                            'zoom': 13})\n",
    "    fig.show()\n",
    "\n",
    "\n",
    "pathlist = []\n",
    "for i in range(df4['Nodes'].count()-1):\n",
    "    path1 = nx.shortest_path(G, df4.iloc[i]['Nodes'],df4.iloc[i+1]['Nodes'], weight='travel_time')\n",
    "    pathlist = pathlist+path1\n",
    "#pathlist1 = list(dict.fromkeys(pathlist))\n",
    "#pathlist1.append(pathlist1[0])\n",
    "data4 = pd.DataFrame(pathlist)\n",
    "data4.rename(columns = {0:'Nodes'}, inplace = True)\n",
    "lat1 = []\n",
    "long1 = []\n",
    "lines = node_list_to_path2(G, pathlist)\n",
    "long2 = []\n",
    "lat2 = []\n",
    "for i in range(len(lines)):\n",
    "    z = list(lines[i])\n",
    "    l1 = list(list(zip(*z))[0])\n",
    "    l2 = list(list(zip(*z))[1])\n",
    "    for j in range(len(l1)):\n",
    "        long2.append(l1[j])\n",
    "        lat2.append(l2[j])\n",
    "        \n",
    "newdf = pd.DataFrame()\n",
    "newdf['Latitude'] = lat2\n",
    "newdf['Longitude'] = long2\n",
    "Trash = []\n",
    "for i in newdf.index:\n",
    "    Trash.append(random.randint(6,10))\n",
    "newdf['Trash'] = Trash\n",
    "\n",
    "duration1= []\n",
    "for i in range(newdf.index.stop-1):\n",
    "    r = requests.get(f\"\"\"http://router.project-osrm.org/route/v1/car/{newdf.loc[i, \"Longitude\"]},{newdf.loc[i, \"Latitude\"]};{newdf.loc[i+1, \"Longitude\"]},{newdf.loc[i+1, \"Latitude\"]}?overview=false\"\"\")\n",
    "    duration1.append(json.loads(r.content)[\"routes\"][0][\"duration\"])            \n",
    "        \n",
    "for i in pathlist:\n",
    "    lat1.append(G.nodes[i].get('y'))\n",
    "    long1.append(G.nodes[i].get('x'))\n",
    "data4['Latitude'] = lat1\n",
    "data4['Longitude'] = long1\n",
    "origin_point = (data4.loc[0][\"Latitude\"], data4.loc[0][\"Longitude\"]) \n",
    "destination_point = (data4.iloc[-1][\"Latitude\"], data4.iloc[-1][\"Longitude\"])\n",
    "#plot_path(lat1, long1, origin_point, destination_point)\n",
    "\n",
    "\n",
    "plot_path(lat2, long2, origin_point, destination_point)"
   ]
  },
  {
   "cell_type": "code",
   "execution_count": 42,
   "id": "defensive-member",
   "metadata": {},
   "outputs": [],
   "source": [
    "path5 = pathlist"
   ]
  },
  {
   "cell_type": "code",
   "execution_count": 43,
   "id": "leading-disorder",
   "metadata": {},
   "outputs": [],
   "source": [
    "trash5 = Trash"
   ]
  },
  {
   "cell_type": "code",
   "execution_count": 44,
   "id": "major-hotel",
   "metadata": {},
   "outputs": [],
   "source": [
    "duration5 = duration1"
   ]
  },
  {
   "cell_type": "code",
   "execution_count": 45,
   "id": "rational-halloween",
   "metadata": {},
   "outputs": [
    {
     "data": {
      "image/png": "[encoded data removed]",
      "text/plain": [
       "<Figure size 576x576 with 1 Axes>"
      ]
     },
     "metadata": {},
     "output_type": "display_data"
    },
    {
     "data": {
      "application/vnd.plotly.v1+json": {
       "config": {
        "plotlyServerURL": "https://plot.ly"
       },
       "data": [
        {
         "lat": [
          35.5738449,
          35.57407,
          35.5742387,
          35.5743456,
          35.5743456,
          35.5744584,
          35.5746013,
          35.5747568,
          35.5748836,
          35.5750203,
          35.5751097,
          35.5752013,
          35.5753431,
          35.5755088,
          35.5757532,
          35.5758095,
          35.575882,
          35.575882,
          35.5759811,
          35.5759903,
          35.5759903,
          35.5758697,
          35.5757513,
          35.5756387,
          35.5755413,
          35.5754469,
          35.5753765,
          35.5753072,
          35.5752049,
          35.5749879,
          35.574981,
          35.574885,
          35.574885,
          35.5748004,
          35.5744968,
          35.5744372,
          35.5744372,
          35.5744835,
          35.5747186,
          35.5750115,
          35.5750115,
          35.5751411,
          35.5751929,
          35.5751929,
          35.5751411,
          35.5750115,
          35.5750115,
          35.5748969,
          35.5747631,
          35.574645,
          35.57453,
          35.5740239,
          35.5739386,
          35.5739386,
          35.5738752,
          35.5737989,
          35.5731317,
          35.5729622,
          35.5728439,
          35.572527,
          35.5723934,
          35.5723934,
          35.572527,
          35.5728439,
          35.5729622,
          35.5731317,
          35.5737989,
          35.5738752,
          35.5739386,
          35.5739386,
          35.574214,
          35.574214,
          35.5740806,
          35.5740535,
          35.5740535,
          35.574028,
          35.5739972,
          35.5738934,
          35.5734559,
          35.5732776,
          35.5729574,
          35.5727314,
          35.5726118,
          35.5722823,
          35.5720539,
          35.5718735,
          35.5718735,
          35.5718941,
          35.572018,
          35.5720405,
          35.5720336,
          35.5720336,
          35.5721042,
          35.5722152,
          35.572351,
          35.5724724,
          35.5727863,
          35.5729304,
          35.573194,
          35.5734647,
          35.5736117,
          35.5738937,
          35.5739818,
          35.5739818,
          35.574103,
          35.5743985,
          35.5743985,
          35.5744558,
          35.5745884,
          35.5749367,
          35.5750819,
          35.5752393,
          35.575386,
          35.5759256,
          35.575979,
          35.575979,
          35.5759256,
          35.575386,
          35.5752393,
          35.5750819,
          35.5749367,
          35.5745884,
          35.5744558,
          35.5743985,
          35.5743985,
          35.574405,
          35.5744634,
          35.5744634,
          35.5744443,
          35.5744116,
          35.574214,
          35.574214,
          35.5739386,
          35.5739386,
          35.5739441,
          35.573973,
          35.5740336,
          35.5741384,
          35.5742914,
          35.5743824,
          35.5744372,
          35.5744372,
          35.5743933,
          35.5741428,
          35.5740014,
          35.57389,
          35.5738449,
          35.5738449,
          35.5738204,
          35.5737353,
          35.5736329,
          35.573579,
          35.5735569,
          35.5735569,
          35.5734961,
          35.5733908,
          35.5731944,
          35.5728523,
          35.5727038,
          35.5727038,
          35.5721171,
          35.5721171,
          35.57167,
          35.571618,
          35.571618,
          35.5716792,
          35.5719181,
          35.5720624,
          35.572149,
          35.5721787,
          35.5721787,
          35.5722176,
          35.5727274,
          35.5729766,
          35.5729766,
          35.5730207,
          35.5731518,
          35.5732731,
          35.5733541,
          35.5734202,
          35.5734202,
          35.5734456,
          35.5735018,
          35.5736081,
          35.5736874,
          35.5737545,
          35.5737892,
          35.5738449
         ],
         "line": {
          "color": "grey",
          "width": 4.5
         },
         "lon": [
          -78.8078667,
          -78.8077365,
          -78.8076371,
          -78.8075693,
          -78.8075693,
          -78.8075015,
          -78.8074221,
          -78.8073476,
          -78.8073009,
          -78.8072609,
          -78.8072371,
          -78.8072186,
          -78.807195,
          -78.8071705,
          -78.8071352,
          -78.8071264,
          -78.807115,
          -78.807115,
          -78.8079689,
          -78.8080484,
          -78.8080484,
          -78.8080691,
          -78.8080991,
          -78.8081404,
          -78.8081856,
          -78.8082358,
          -78.8082778,
          -78.8083265,
          -78.80841,
          -78.8085963,
          -78.8086024,
          -78.808687,
          -78.808687,
          -78.8087667,
          -78.809048,
          -78.8091032,
          -78.8091032,
          -78.8091726,
          -78.8095246,
          -78.8099298,
          -78.8099298,
          -78.8100721,
          -78.8102444,
          -78.8102444,
          -78.8100721,
          -78.8099298,
          -78.8099298,
          -78.8100837,
          -78.8102316,
          -78.8103276,
          -78.8103634,
          -78.8104367,
          -78.810449,
          -78.810449,
          -78.8104634,
          -78.8104807,
          -78.8108203,
          -78.8108753,
          -78.8108946,
          -78.8108959,
          -78.8109519,
          -78.8109519,
          -78.8108959,
          -78.8108946,
          -78.8108753,
          -78.8108203,
          -78.8104807,
          -78.8104634,
          -78.810449,
          -78.810449,
          -78.8113316,
          -78.8113316,
          -78.811979,
          -78.8121107,
          -78.8121107,
          -78.812113,
          -78.8121189,
          -78.812139,
          -78.8123675,
          -78.8124114,
          -78.8123995,
          -78.8124158,
          -78.8124499,
          -78.8126676,
          -78.8128297,
          -78.8129339,
          -78.8129339,
          -78.8130097,
          -78.813467,
          -78.8136691,
          -78.8138161,
          -78.8138161,
          -78.8138101,
          -78.8138006,
          -78.8137716,
          -78.8137188,
          -78.8134952,
          -78.8134431,
          -78.8134138,
          -78.8133868,
          -78.8133663,
          -78.8132284,
          -78.8131853,
          -78.8131853,
          -78.8131313,
          -78.8131327,
          -78.8131327,
          -78.8131357,
          -78.8131425,
          -78.8131609,
          -78.8131809,
          -78.8132533,
          -78.8133662,
          -78.8137961,
          -78.8138387,
          -78.8138387,
          -78.8137961,
          -78.8133662,
          -78.8132533,
          -78.8131809,
          -78.8131609,
          -78.8131425,
          -78.8131357,
          -78.8131327,
          -78.8131327,
          -78.813032,
          -78.812128,
          -78.812128,
          -78.8120305,
          -78.8118631,
          -78.8113316,
          -78.8113316,
          -78.810449,
          -78.810449,
          -78.8103453,
          -78.8098024,
          -78.8095571,
          -78.8093881,
          -78.8092186,
          -78.8091466,
          -78.8091032,
          -78.8091032,
          -78.8090221,
          -78.8085596,
          -78.8082457,
          -78.8079728,
          -78.8078667,
          -78.8078667,
          -78.807797,
          -78.8075547,
          -78.8072315,
          -78.807026,
          -78.8069416,
          -78.8069416,
          -78.8069635,
          -78.8070015,
          -78.8071094,
          -78.8074184,
          -78.8076113,
          -78.8076113,
          -78.8084741,
          -78.8084741,
          -78.8091311,
          -78.8092075,
          -78.8092075,
          -78.8092694,
          -78.8095112,
          -78.8097492,
          -78.8099112,
          -78.8099667,
          -78.8099667,
          -78.8099443,
          -78.8096503,
          -78.8094367,
          -78.8094367,
          -78.8093826,
          -78.8092218,
          -78.8089743,
          -78.8086842,
          -78.8084202,
          -78.8084202,
          -78.8083434,
          -78.8081733,
          -78.8080278,
          -78.8079608,
          -78.8079206,
          -78.8078999,
          -78.8078667
         ],
         "marker": {
          "size": 10
         },
         "mode": "lines",
         "name": "Path",
         "type": "scattermapbox"
        },
        {
         "lat": [
          35.5738449
         ],
         "lon": [
          -78.8078667
         ],
         "marker": {
          "color": "red",
          "size": 12
         },
         "mode": "markers",
         "name": "Source",
         "type": "scattermapbox"
        },
        {
         "lat": [
          35.5738449
         ],
         "lon": [
          -78.8078667
         ],
         "marker": {
          "color": "green",
          "size": 12
         },
         "mode": "markers",
         "name": "Destination",
         "type": "scattermapbox"
        }
       ],
       "layout": {
        "mapbox": {
         "center": {
          "lat": 35.57394757765958,
          "lon": -78.81022021276596
         },
         "style": "carto-darkmatter",
         "zoom": 13
        },
        "margin": {
         "b": 0,
         "l": 0,
         "r": 0,
         "t": 0
        },
        "template": {
         "data": {
          "bar": [
           {
            "error_x": {
             "color": "#2a3f5f"
            },
            "error_y": {
             "color": "#2a3f5f"
            },
            "marker": {
             "line": {
              "color": "#E5ECF6",
              "width": 0.5
             }
            },
            "type": "bar"
           }
          ],
          "barpolar": [
           {
            "marker": {
             "line": {
              "color": "#E5ECF6",
              "width": 0.5
             }
            },
            "type": "barpolar"
           }
          ],
          "carpet": [
           {
            "aaxis": {
             "endlinecolor": "#2a3f5f",
             "gridcolor": "white",
             "linecolor": "white",
             "minorgridcolor": "white",
             "startlinecolor": "#2a3f5f"
            },
            "baxis": {
             "endlinecolor": "#2a3f5f",
             "gridcolor": "white",
             "linecolor": "white",
             "minorgridcolor": "white",
             "startlinecolor": "#2a3f5f"
            },
            "type": "carpet"
           }
          ],
          "choropleth": [
           {
            "colorbar": {
             "outlinewidth": 0,
             "ticks": ""
            },
            "type": "choropleth"
           }
          ],
          "contour": [
           {
            "colorbar": {
             "outlinewidth": 0,
             "ticks": ""
            },
            "colorscale": [
             [
              0,
              "#0d0887"
             ],
             [
              0.1111111111111111,
              "#46039f"
             ],
             [
              0.2222222222222222,
              "#7201a8"
             ],
             [
              0.3333333333333333,
              "#9c179e"
             ],
             [
              0.4444444444444444,
              "#bd3786"
             ],
             [
              0.5555555555555556,
              "#d8576b"
             ],
             [
              0.6666666666666666,
              "#ed7953"
             ],
             [
              0.7777777777777778,
              "#fb9f3a"
             ],
             [
              0.8888888888888888,
              "#fdca26"
             ],
             [
              1,
              "#f0f921"
             ]
            ],
            "type": "contour"
           }
          ],
          "contourcarpet": [
           {
            "colorbar": {
             "outlinewidth": 0,
             "ticks": ""
            },
            "type": "contourcarpet"
           }
          ],
          "heatmap": [
           {
            "colorbar": {
             "outlinewidth": 0,
             "ticks": ""
            },
            "colorscale": [
             [
              0,
              "#0d0887"
             ],
             [
              0.1111111111111111,
              "#46039f"
             ],
             [
              0.2222222222222222,
              "#7201a8"
             ],
             [
              0.3333333333333333,
              "#9c179e"
             ],
             [
              0.4444444444444444,
              "#bd3786"
             ],
             [
              0.5555555555555556,
              "#d8576b"
             ],
             [
              0.6666666666666666,
              "#ed7953"
             ],
             [
              0.7777777777777778,
              "#fb9f3a"
             ],
             [
              0.8888888888888888,
              "#fdca26"
             ],
             [
              1,
              "#f0f921"
             ]
            ],
            "type": "heatmap"
           }
          ],
          "heatmapgl": [
           {
            "colorbar": {
             "outlinewidth": 0,
             "ticks": ""
            },
            "colorscale": [
             [
              0,
              "#0d0887"
             ],
             [
              0.1111111111111111,
              "#46039f"
             ],
             [
              0.2222222222222222,
              "#7201a8"
             ],
             [
              0.3333333333333333,
              "#9c179e"
             ],
             [
              0.4444444444444444,
              "#bd3786"
             ],
             [
              0.5555555555555556,
              "#d8576b"
             ],
             [
              0.6666666666666666,
              "#ed7953"
             ],
             [
              0.7777777777777778,
              "#fb9f3a"
             ],
             [
              0.8888888888888888,
              "#fdca26"
             ],
             [
              1,
              "#f0f921"
             ]
            ],
            "type": "heatmapgl"
           }
          ],
          "histogram": [
           {
            "marker": {
             "colorbar": {
              "outlinewidth": 0,
              "ticks": ""
             }
            },
            "type": "histogram"
           }
          ],
          "histogram2d": [
           {
            "colorbar": {
             "outlinewidth": 0,
             "ticks": ""
            },
            "colorscale": [
             [
              0,
              "#0d0887"
             ],
             [
              0.1111111111111111,
              "#46039f"
             ],
             [
              0.2222222222222222,
              "#7201a8"
             ],
             [
              0.3333333333333333,
              "#9c179e"
             ],
             [
              0.4444444444444444,
              "#bd3786"
             ],
             [
              0.5555555555555556,
              "#d8576b"
             ],
             [
              0.6666666666666666,
              "#ed7953"
             ],
             [
              0.7777777777777778,
              "#fb9f3a"
             ],
             [
              0.8888888888888888,
              "#fdca26"
             ],
             [
              1,
              "#f0f921"
             ]
            ],
            "type": "histogram2d"
           }
          ],
          "histogram2dcontour": [
           {
            "colorbar": {
             "outlinewidth": 0,
             "ticks": ""
            },
            "colorscale": [
             [
              0,
              "#0d0887"
             ],
             [
              0.1111111111111111,
              "#46039f"
             ],
             [
              0.2222222222222222,
              "#7201a8"
             ],
             [
              0.3333333333333333,
              "#9c179e"
             ],
             [
              0.4444444444444444,
              "#bd3786"
             ],
             [
              0.5555555555555556,
              "#d8576b"
             ],
             [
              0.6666666666666666,
              "#ed7953"
             ],
             [
              0.7777777777777778,
              "#fb9f3a"
             ],
             [
              0.8888888888888888,
              "#fdca26"
             ],
             [
              1,
              "#f0f921"
             ]
            ],
            "type": "histogram2dcontour"
           }
          ],
          "mesh3d": [
           {
            "colorbar": {
             "outlinewidth": 0,
             "ticks": ""
            },
            "type": "mesh3d"
           }
          ],
          "parcoords": [
           {
            "line": {
             "colorbar": {
              "outlinewidth": 0,
              "ticks": ""
             }
            },
            "type": "parcoords"
           }
          ],
          "pie": [
           {
            "automargin": true,
            "type": "pie"
           }
          ],
          "scatter": [
           {
            "marker": {
             "colorbar": {
              "outlinewidth": 0,
              "ticks": ""
             }
            },
            "type": "scatter"
           }
          ],
          "scatter3d": [
           {
            "line": {
             "colorbar": {
              "outlinewidth": 0,
              "ticks": ""
             }
            },
            "marker": {
             "colorbar": {
              "outlinewidth": 0,
              "ticks": ""
             }
            },
            "type": "scatter3d"
           }
          ],
          "scattercarpet": [
           {
            "marker": {
             "colorbar": {
              "outlinewidth": 0,
              "ticks": ""
             }
            },
            "type": "scattercarpet"
           }
          ],
          "scattergeo": [
           {
            "marker": {
             "colorbar": {
              "outlinewidth": 0,
              "ticks": ""
             }
            },
            "type": "scattergeo"
           }
          ],
          "scattergl": [
           {
            "marker": {
             "colorbar": {
              "outlinewidth": 0,
              "ticks": ""
             }
            },
            "type": "scattergl"
           }
          ],
          "scattermapbox": [
           {
            "marker": {
             "colorbar": {
              "outlinewidth": 0,
              "ticks": ""
             }
            },
            "type": "scattermapbox"
           }
          ],
          "scatterpolar": [
           {
            "marker": {
             "colorbar": {
              "outlinewidth": 0,
              "ticks": ""
             }
            },
            "type": "scatterpolar"
           }
          ],
          "scatterpolargl": [
           {
            "marker": {
             "colorbar": {
              "outlinewidth": 0,
              "ticks": ""
             }
            },
            "type": "scatterpolargl"
           }
          ],
          "scatterternary": [
           {
            "marker": {
             "colorbar": {
              "outlinewidth": 0,
              "ticks": ""
             }
            },
            "type": "scatterternary"
           }
          ],
          "surface": [
           {
            "colorbar": {
             "outlinewidth": 0,
             "ticks": ""
            },
            "colorscale": [
             [
              0,
              "#0d0887"
             ],
             [
              0.1111111111111111,
              "#46039f"
             ],
             [
              0.2222222222222222,
              "#7201a8"
             ],
             [
              0.3333333333333333,
              "#9c179e"
             ],
             [
              0.4444444444444444,
              "#bd3786"
             ],
             [
              0.5555555555555556,
              "#d8576b"
             ],
             [
              0.6666666666666666,
              "#ed7953"
             ],
             [
              0.7777777777777778,
              "#fb9f3a"
             ],
             [
              0.8888888888888888,
              "#fdca26"
             ],
             [
              1,
              "#f0f921"
             ]
            ],
            "type": "surface"
           }
          ],
          "table": [
           {
            "cells": {
             "fill": {
              "color": "#EBF0F8"
             },
             "line": {
              "color": "white"
             }
            },
            "header": {
             "fill": {
              "color": "#C8D4E3"
             },
             "line": {
              "color": "white"
             }
            },
            "type": "table"
           }
          ]
         },
         "layout": {
          "annotationdefaults": {
           "arrowcolor": "#2a3f5f",
           "arrowhead": 0,
           "arrowwidth": 1
          },
          "autotypenumbers": "strict",
          "coloraxis": {
           "colorbar": {
            "outlinewidth": 0,
            "ticks": ""
           }
          },
          "colorscale": {
           "diverging": [
            [
             0,
             "#8e0152"
            ],
            [
             0.1,
             "#c51b7d"
            ],
            [
             0.2,
             "#de77ae"
            ],
            [
             0.3,
             "#f1b6da"
            ],
            [
             0.4,
             "#fde0ef"
            ],
            [
             0.5,
             "#f7f7f7"
            ],
            [
             0.6,
             "#e6f5d0"
            ],
            [
             0.7,
             "#b8e186"
            ],
            [
             0.8,
             "#7fbc41"
            ],
            [
             0.9,
             "#4d9221"
            ],
            [
             1,
             "#276419"
            ]
           ],
           "sequential": [
            [
             0,
             "#0d0887"
            ],
            [
             0.1111111111111111,
             "#46039f"
            ],
            [
             0.2222222222222222,
             "#7201a8"
            ],
            [
             0.3333333333333333,
             "#9c179e"
            ],
            [
             0.4444444444444444,
             "#bd3786"
            ],
            [
             0.5555555555555556,
             "#d8576b"
            ],
            [
             0.6666666666666666,
             "#ed7953"
            ],
            [
             0.7777777777777778,
             "#fb9f3a"
            ],
            [
             0.8888888888888888,
             "#fdca26"
            ],
            [
             1,
             "#f0f921"
            ]
           ],
           "sequentialminus": [
            [
             0,
             "#0d0887"
            ],
            [
             0.1111111111111111,
             "#46039f"
            ],
            [
             0.2222222222222222,
             "#7201a8"
            ],
            [
             0.3333333333333333,
             "#9c179e"
            ],
            [
             0.4444444444444444,
             "#bd3786"
            ],
            [
             0.5555555555555556,
             "#d8576b"
            ],
            [
             0.6666666666666666,
             "#ed7953"
            ],
            [
             0.7777777777777778,
             "#fb9f3a"
            ],
            [
             0.8888888888888888,
             "#fdca26"
            ],
            [
             1,
             "#f0f921"
            ]
           ]
          },
          "colorway": [
           "#636efa",
           "#EF553B",
           "#00cc96",
           "#ab63fa",
           "#FFA15A",
           "#19d3f3",
           "#FF6692",
           "#B6E880",
           "#FF97FF",
           "#FECB52"
          ],
          "font": {
           "color": "#2a3f5f"
          },
          "geo": {
           "bgcolor": "white",
           "lakecolor": "white",
           "landcolor": "#E5ECF6",
           "showlakes": true,
           "showland": true,
           "subunitcolor": "white"
          },
          "hoverlabel": {
           "align": "left"
          },
          "hovermode": "closest",
          "mapbox": {
           "style": "light"
          },
          "paper_bgcolor": "white",
          "plot_bgcolor": "#E5ECF6",
          "polar": {
           "angularaxis": {
            "gridcolor": "white",
            "linecolor": "white",
            "ticks": ""
           },
           "bgcolor": "#E5ECF6",
           "radialaxis": {
            "gridcolor": "white",
            "linecolor": "white",
            "ticks": ""
           }
          },
          "scene": {
           "xaxis": {
            "backgroundcolor": "#E5ECF6",
            "gridcolor": "white",
            "gridwidth": 2,
            "linecolor": "white",
            "showbackground": true,
            "ticks": "",
            "zerolinecolor": "white"
           },
           "yaxis": {
            "backgroundcolor": "#E5ECF6",
            "gridcolor": "white",
            "gridwidth": 2,
            "linecolor": "white",
            "showbackground": true,
            "ticks": "",
            "zerolinecolor": "white"
           },
           "zaxis": {
            "backgroundcolor": "#E5ECF6",
            "gridcolor": "white",
            "gridwidth": 2,
            "linecolor": "white",
            "showbackground": true,
            "ticks": "",
            "zerolinecolor": "white"
           }
          },
          "shapedefaults": {
           "line": {
            "color": "#2a3f5f"
           }
          },
          "ternary": {
           "aaxis": {
            "gridcolor": "white",
            "linecolor": "white",
            "ticks": ""
           },
           "baxis": {
            "gridcolor": "white",
            "linecolor": "white",
            "ticks": ""
           },
           "bgcolor": "#E5ECF6",
           "caxis": {
            "gridcolor": "white",
            "linecolor": "white",
            "ticks": ""
           }
          },
          "title": {
           "x": 0.05
          },
          "xaxis": {
           "automargin": true,
           "gridcolor": "white",
           "linecolor": "white",
           "ticks": "",
           "title": {
            "standoff": 15
           },
           "zerolinecolor": "white",
           "zerolinewidth": 2
          },
          "yaxis": {
           "automargin": true,
           "gridcolor": "white",
           "linecolor": "white",
           "ticks": "",
           "title": {
            "standoff": 15
           },
           "zerolinecolor": "white",
           "zerolinewidth": 2
          }
         }
        }
       }
      },
      "text/html": [
       "<div>                            <div id=\"0abfc019-f456-4ecc-b1a5-86b33d2bbba3\" class=\"plotly-graph-div\" style=\"height:525px; width:100%;\"></div>            <script type=\"text/javascript\">                require([\"plotly\"], function(Plotly) {                    window.PLOTLYENV=window.PLOTLYENV || {};                                    if (document.getElementById(\"0abfc019-f456-4ecc-b1a5-86b33d2bbba3\")) {                    Plotly.newPlot(                        \"0abfc019-f456-4ecc-b1a5-86b33d2bbba3\",                        [{\"lat\": [35.5738449, 35.57407, 35.5742387, 35.5743456, 35.5743456, 35.5744584, 35.5746013, 35.5747568, 35.5748836, 35.5750203, 35.5751097, 35.5752013, 35.5753431, 35.5755088, 35.5757532, 35.5758095, 35.575882, 35.575882, 35.5759811, 35.5759903, 35.5759903, 35.5758697, 35.5757513, 35.5756387, 35.5755413, 35.5754469, 35.5753765, 35.5753072, 35.5752049, 35.5749879, 35.574981, 35.574885, 35.574885, 35.5748004, 35.5744968, 35.5744372, 35.5744372, 35.5744835, 35.5747186, 35.5750115, 35.5750115, 35.5751411, 35.5751929, 35.5751929, 35.5751411, 35.5750115, 35.5750115, 35.5748969, 35.5747631, 35.574645, 35.57453, 35.5740239, 35.5739386, 35.5739386, 35.5738752, 35.5737989, 35.5731317, 35.5729622, 35.5728439, 35.572527, 35.5723934, 35.5723934, 35.572527, 35.5728439, 35.5729622, 35.5731317, 35.5737989, 35.5738752, 35.5739386, 35.5739386, 35.574214, 35.574214, 35.5740806, 35.5740535, 35.5740535, 35.574028, 35.5739972, 35.5738934, 35.5734559, 35.5732776, 35.5729574, 35.5727314, 35.5726118, 35.5722823, 35.5720539, 35.5718735, 35.5718735, 35.5718941, 35.572018, 35.5720405, 35.5720336, 35.5720336, 35.5721042, 35.5722152, 35.572351, 35.5724724, 35.5727863, 35.5729304, 35.573194, 35.5734647, 35.5736117, 35.5738937, 35.5739818, 35.5739818, 35.574103, 35.5743985, 35.5743985, 35.5744558, 35.5745884, 35.5749367, 35.5750819, 35.5752393, 35.575386, 35.5759256, 35.575979, 35.575979, 35.5759256, 35.575386, 35.5752393, 35.5750819, 35.5749367, 35.5745884, 35.5744558, 35.5743985, 35.5743985, 35.574405, 35.5744634, 35.5744634, 35.5744443, 35.5744116, 35.574214, 35.574214, 35.5739386, 35.5739386, 35.5739441, 35.573973, 35.5740336, 35.5741384, 35.5742914, 35.5743824, 35.5744372, 35.5744372, 35.5743933, 35.5741428, 35.5740014, 35.57389, 35.5738449, 35.5738449, 35.5738204, 35.5737353, 35.5736329, 35.573579, 35.5735569, 35.5735569, 35.5734961, 35.5733908, 35.5731944, 35.5728523, 35.5727038, 35.5727038, 35.5721171, 35.5721171, 35.57167, 35.571618, 35.571618, 35.5716792, 35.5719181, 35.5720624, 35.572149, 35.5721787, 35.5721787, 35.5722176, 35.5727274, 35.5729766, 35.5729766, 35.5730207, 35.5731518, 35.5732731, 35.5733541, 35.5734202, 35.5734202, 35.5734456, 35.5735018, 35.5736081, 35.5736874, 35.5737545, 35.5737892, 35.5738449], \"line\": {\"color\": \"grey\", \"width\": 4.5}, \"lon\": [-78.8078667, -78.8077365, -78.8076371, -78.8075693, -78.8075693, -78.8075015, -78.8074221, -78.8073476, -78.8073009, -78.8072609, -78.8072371, -78.8072186, -78.807195, -78.8071705, -78.8071352, -78.8071264, -78.807115, -78.807115, -78.8079689, -78.8080484, -78.8080484, -78.8080691, -78.8080991, -78.8081404, -78.8081856, -78.8082358, -78.8082778, -78.8083265, -78.80841, -78.8085963, -78.8086024, -78.808687, -78.808687, -78.8087667, -78.809048, -78.8091032, -78.8091032, -78.8091726, -78.8095246, -78.8099298, -78.8099298, -78.8100721, -78.8102444, -78.8102444, -78.8100721, -78.8099298, -78.8099298, -78.8100837, -78.8102316, -78.8103276, -78.8103634, -78.8104367, -78.810449, -78.810449, -78.8104634, -78.8104807, -78.8108203, -78.8108753, -78.8108946, -78.8108959, -78.8109519, -78.8109519, -78.8108959, -78.8108946, -78.8108753, -78.8108203, -78.8104807, -78.8104634, -78.810449, -78.810449, -78.8113316, -78.8113316, -78.811979, -78.8121107, -78.8121107, -78.812113, -78.8121189, -78.812139, -78.8123675, -78.8124114, -78.8123995, -78.8124158, -78.8124499, -78.8126676, -78.8128297, -78.8129339, -78.8129339, -78.8130097, -78.813467, -78.8136691, -78.8138161, -78.8138161, -78.8138101, -78.8138006, -78.8137716, -78.8137188, -78.8134952, -78.8134431, -78.8134138, -78.8133868, -78.8133663, -78.8132284, -78.8131853, -78.8131853, -78.8131313, -78.8131327, -78.8131327, -78.8131357, -78.8131425, -78.8131609, -78.8131809, -78.8132533, -78.8133662, -78.8137961, -78.8138387, -78.8138387, -78.8137961, -78.8133662, -78.8132533, -78.8131809, -78.8131609, -78.8131425, -78.8131357, -78.8131327, -78.8131327, -78.813032, -78.812128, -78.812128, -78.8120305, -78.8118631, -78.8113316, -78.8113316, -78.810449, -78.810449, -78.8103453, -78.8098024, -78.8095571, -78.8093881, -78.8092186, -78.8091466, -78.8091032, -78.8091032, -78.8090221, -78.8085596, -78.8082457, -78.8079728, -78.8078667, -78.8078667, -78.807797, -78.8075547, -78.8072315, -78.807026, -78.8069416, -78.8069416, -78.8069635, -78.8070015, -78.8071094, -78.8074184, -78.8076113, -78.8076113, -78.8084741, -78.8084741, -78.8091311, -78.8092075, -78.8092075, -78.8092694, -78.8095112, -78.8097492, -78.8099112, -78.8099667, -78.8099667, -78.8099443, -78.8096503, -78.8094367, -78.8094367, -78.8093826, -78.8092218, -78.8089743, -78.8086842, -78.8084202, -78.8084202, -78.8083434, -78.8081733, -78.8080278, -78.8079608, -78.8079206, -78.8078999, -78.8078667], \"marker\": {\"size\": 10}, \"mode\": \"lines\", \"name\": \"Path\", \"type\": \"scattermapbox\"}, {\"lat\": [35.5738449], \"lon\": [-78.8078667], \"marker\": {\"color\": \"red\", \"size\": 12}, \"mode\": \"markers\", \"name\": \"Source\", \"type\": \"scattermapbox\"}, {\"lat\": [35.5738449], \"lon\": [-78.8078667], \"marker\": {\"color\": \"green\", \"size\": 12}, \"mode\": \"markers\", \"name\": \"Destination\", \"type\": \"scattermapbox\"}],                        {\"mapbox\": {\"center\": {\"lat\": 35.57394757765958, \"lon\": -78.81022021276596}, \"style\": \"carto-darkmatter\", \"zoom\": 13}, \"margin\": {\"b\": 0, \"l\": 0, \"r\": 0, \"t\": 0}, \"template\": {\"data\": {\"bar\": [{\"error_x\": {\"color\": \"#2a3f5f\"}, \"error_y\": {\"color\": \"#2a3f5f\"}, \"marker\": {\"line\": {\"color\": \"#E5ECF6\", \"width\": 0.5}}, \"type\": \"bar\"}], \"barpolar\": [{\"marker\": {\"line\": {\"color\": \"#E5ECF6\", \"width\": 0.5}}, \"type\": \"barpolar\"}], \"carpet\": [{\"aaxis\": {\"endlinecolor\": \"#2a3f5f\", \"gridcolor\": \"white\", \"linecolor\": \"white\", \"minorgridcolor\": \"white\", \"startlinecolor\": \"#2a3f5f\"}, \"baxis\": {\"endlinecolor\": \"#2a3f5f\", \"gridcolor\": \"white\", \"linecolor\": \"white\", \"minorgridcolor\": \"white\", \"startlinecolor\": \"#2a3f5f\"}, \"type\": \"carpet\"}], \"choropleth\": [{\"colorbar\": {\"outlinewidth\": 0, \"ticks\": \"\"}, \"type\": \"choropleth\"}], \"contour\": [{\"colorbar\": {\"outlinewidth\": 0, \"ticks\": \"\"}, \"colorscale\": [[0.0, \"#0d0887\"], [0.1111111111111111, \"#46039f\"], [0.2222222222222222, \"#7201a8\"], [0.3333333333333333, \"#9c179e\"], [0.4444444444444444, \"#bd3786\"], [0.5555555555555556, \"#d8576b\"], [0.6666666666666666, \"#ed7953\"], [0.7777777777777778, \"#fb9f3a\"], [0.8888888888888888, \"#fdca26\"], [1.0, \"#f0f921\"]], \"type\": \"contour\"}], \"contourcarpet\": [{\"colorbar\": {\"outlinewidth\": 0, \"ticks\": \"\"}, \"type\": \"contourcarpet\"}], \"heatmap\": [{\"colorbar\": {\"outlinewidth\": 0, \"ticks\": \"\"}, \"colorscale\": [[0.0, \"#0d0887\"], [0.1111111111111111, \"#46039f\"], [0.2222222222222222, \"#7201a8\"], [0.3333333333333333, \"#9c179e\"], [0.4444444444444444, \"#bd3786\"], [0.5555555555555556, \"#d8576b\"], [0.6666666666666666, \"#ed7953\"], [0.7777777777777778, \"#fb9f3a\"], [0.8888888888888888, \"#fdca26\"], [1.0, \"#f0f921\"]], \"type\": \"heatmap\"}], \"heatmapgl\": [{\"colorbar\": {\"outlinewidth\": 0, \"ticks\": \"\"}, \"colorscale\": [[0.0, \"#0d0887\"], [0.1111111111111111, \"#46039f\"], [0.2222222222222222, \"#7201a8\"], [0.3333333333333333, \"#9c179e\"], [0.4444444444444444, \"#bd3786\"], [0.5555555555555556, \"#d8576b\"], [0.6666666666666666, \"#ed7953\"], [0.7777777777777778, \"#fb9f3a\"], [0.8888888888888888, \"#fdca26\"], [1.0, \"#f0f921\"]], \"type\": \"heatmapgl\"}], \"histogram\": [{\"marker\": {\"colorbar\": {\"outlinewidth\": 0, \"ticks\": \"\"}}, \"type\": \"histogram\"}], \"histogram2d\": [{\"colorbar\": {\"outlinewidth\": 0, \"ticks\": \"\"}, \"colorscale\": [[0.0, \"#0d0887\"], [0.1111111111111111, \"#46039f\"], [0.2222222222222222, \"#7201a8\"], [0.3333333333333333, \"#9c179e\"], [0.4444444444444444, \"#bd3786\"], [0.5555555555555556, \"#d8576b\"], [0.6666666666666666, \"#ed7953\"], [0.7777777777777778, \"#fb9f3a\"], [0.8888888888888888, \"#fdca26\"], [1.0, \"#f0f921\"]], \"type\": \"histogram2d\"}], \"histogram2dcontour\": [{\"colorbar\": {\"outlinewidth\": 0, \"ticks\": \"\"}, \"colorscale\": [[0.0, \"#0d0887\"], [0.1111111111111111, \"#46039f\"], [0.2222222222222222, \"#7201a8\"], [0.3333333333333333, \"#9c179e\"], [0.4444444444444444, \"#bd3786\"], [0.5555555555555556, \"#d8576b\"], [0.6666666666666666, \"#ed7953\"], [0.7777777777777778, \"#fb9f3a\"], [0.8888888888888888, \"#fdca26\"], [1.0, \"#f0f921\"]], \"type\": \"histogram2dcontour\"}], \"mesh3d\": [{\"colorbar\": {\"outlinewidth\": 0, \"ticks\": \"\"}, \"type\": \"mesh3d\"}], \"parcoords\": [{\"line\": {\"colorbar\": {\"outlinewidth\": 0, \"ticks\": \"\"}}, \"type\": \"parcoords\"}], \"pie\": [{\"automargin\": true, \"type\": \"pie\"}], \"scatter\": [{\"marker\": {\"colorbar\": {\"outlinewidth\": 0, \"ticks\": \"\"}}, \"type\": \"scatter\"}], \"scatter3d\": [{\"line\": {\"colorbar\": {\"outlinewidth\": 0, \"ticks\": \"\"}}, \"marker\": {\"colorbar\": {\"outlinewidth\": 0, \"ticks\": \"\"}}, \"type\": \"scatter3d\"}], \"scattercarpet\": [{\"marker\": {\"colorbar\": {\"outlinewidth\": 0, \"ticks\": \"\"}}, \"type\": \"scattercarpet\"}], \"scattergeo\": [{\"marker\": {\"colorbar\": {\"outlinewidth\": 0, \"ticks\": \"\"}}, \"type\": \"scattergeo\"}], \"scattergl\": [{\"marker\": {\"colorbar\": {\"outlinewidth\": 0, \"ticks\": \"\"}}, \"type\": \"scattergl\"}], \"scattermapbox\": [{\"marker\": {\"colorbar\": {\"outlinewidth\": 0, \"ticks\": \"\"}}, \"type\": \"scattermapbox\"}], \"scatterpolar\": [{\"marker\": {\"colorbar\": {\"outlinewidth\": 0, \"ticks\": \"\"}}, \"type\": \"scatterpolar\"}], \"scatterpolargl\": [{\"marker\": {\"colorbar\": {\"outlinewidth\": 0, \"ticks\": \"\"}}, \"type\": \"scatterpolargl\"}], \"scatterternary\": [{\"marker\": {\"colorbar\": {\"outlinewidth\": 0, \"ticks\": \"\"}}, \"type\": \"scatterternary\"}], \"surface\": [{\"colorbar\": {\"outlinewidth\": 0, \"ticks\": \"\"}, \"colorscale\": [[0.0, \"#0d0887\"], [0.1111111111111111, \"#46039f\"], [0.2222222222222222, \"#7201a8\"], [0.3333333333333333, \"#9c179e\"], [0.4444444444444444, \"#bd3786\"], [0.5555555555555556, \"#d8576b\"], [0.6666666666666666, \"#ed7953\"], [0.7777777777777778, \"#fb9f3a\"], [0.8888888888888888, \"#fdca26\"], [1.0, \"#f0f921\"]], \"type\": \"surface\"}], \"table\": [{\"cells\": {\"fill\": {\"color\": \"#EBF0F8\"}, \"line\": {\"color\": \"white\"}}, \"header\": {\"fill\": {\"color\": \"#C8D4E3\"}, \"line\": {\"color\": \"white\"}}, \"type\": \"table\"}]}, \"layout\": {\"annotationdefaults\": {\"arrowcolor\": \"#2a3f5f\", \"arrowhead\": 0, \"arrowwidth\": 1}, \"autotypenumbers\": \"strict\", \"coloraxis\": {\"colorbar\": {\"outlinewidth\": 0, \"ticks\": \"\"}}, \"colorscale\": {\"diverging\": [[0, \"#8e0152\"], [0.1, \"#c51b7d\"], [0.2, \"#de77ae\"], [0.3, \"#f1b6da\"], [0.4, \"#fde0ef\"], [0.5, \"#f7f7f7\"], [0.6, \"#e6f5d0\"], [0.7, \"#b8e186\"], [0.8, \"#7fbc41\"], [0.9, \"#4d9221\"], [1, \"#276419\"]], \"sequential\": [[0.0, \"#0d0887\"], [0.1111111111111111, \"#46039f\"], [0.2222222222222222, \"#7201a8\"], [0.3333333333333333, \"#9c179e\"], [0.4444444444444444, \"#bd3786\"], [0.5555555555555556, \"#d8576b\"], [0.6666666666666666, \"#ed7953\"], [0.7777777777777778, \"#fb9f3a\"], [0.8888888888888888, \"#fdca26\"], [1.0, \"#f0f921\"]], \"sequentialminus\": [[0.0, \"#0d0887\"], [0.1111111111111111, \"#46039f\"], [0.2222222222222222, \"#7201a8\"], [0.3333333333333333, \"#9c179e\"], [0.4444444444444444, \"#bd3786\"], [0.5555555555555556, \"#d8576b\"], [0.6666666666666666, \"#ed7953\"], [0.7777777777777778, \"#fb9f3a\"], [0.8888888888888888, \"#fdca26\"], [1.0, \"#f0f921\"]]}, \"colorway\": [\"#636efa\", \"#EF553B\", \"#00cc96\", \"#ab63fa\", \"#FFA15A\", \"#19d3f3\", \"#FF6692\", \"#B6E880\", \"#FF97FF\", \"#FECB52\"], \"font\": {\"color\": \"#2a3f5f\"}, \"geo\": {\"bgcolor\": \"white\", \"lakecolor\": \"white\", \"landcolor\": \"#E5ECF6\", \"showlakes\": true, \"showland\": true, \"subunitcolor\": \"white\"}, \"hoverlabel\": {\"align\": \"left\"}, \"hovermode\": \"closest\", \"mapbox\": {\"style\": \"light\"}, \"paper_bgcolor\": \"white\", \"plot_bgcolor\": \"#E5ECF6\", \"polar\": {\"angularaxis\": {\"gridcolor\": \"white\", \"linecolor\": \"white\", \"ticks\": \"\"}, \"bgcolor\": \"#E5ECF6\", \"radialaxis\": {\"gridcolor\": \"white\", \"linecolor\": \"white\", \"ticks\": \"\"}}, \"scene\": {\"xaxis\": {\"backgroundcolor\": \"#E5ECF6\", \"gridcolor\": \"white\", \"gridwidth\": 2, \"linecolor\": \"white\", \"showbackground\": true, \"ticks\": \"\", \"zerolinecolor\": \"white\"}, \"yaxis\": {\"backgroundcolor\": \"#E5ECF6\", \"gridcolor\": \"white\", \"gridwidth\": 2, \"linecolor\": \"white\", \"showbackground\": true, \"ticks\": \"\", \"zerolinecolor\": \"white\"}, \"zaxis\": {\"backgroundcolor\": \"#E5ECF6\", \"gridcolor\": \"white\", \"gridwidth\": 2, \"linecolor\": \"white\", \"showbackground\": true, \"ticks\": \"\", \"zerolinecolor\": \"white\"}}, \"shapedefaults\": {\"line\": {\"color\": \"#2a3f5f\"}}, \"ternary\": {\"aaxis\": {\"gridcolor\": \"white\", \"linecolor\": \"white\", \"ticks\": \"\"}, \"baxis\": {\"gridcolor\": \"white\", \"linecolor\": \"white\", \"ticks\": \"\"}, \"bgcolor\": \"#E5ECF6\", \"caxis\": {\"gridcolor\": \"white\", \"linecolor\": \"white\", \"ticks\": \"\"}}, \"title\": {\"x\": 0.05}, \"xaxis\": {\"automargin\": true, \"gridcolor\": \"white\", \"linecolor\": \"white\", \"ticks\": \"\", \"title\": {\"standoff\": 15}, \"zerolinecolor\": \"white\", \"zerolinewidth\": 2}, \"yaxis\": {\"automargin\": true, \"gridcolor\": \"white\", \"linecolor\": \"white\", \"ticks\": \"\", \"title\": {\"standoff\": 15}, \"zerolinecolor\": \"white\", \"zerolinewidth\": 2}}}},                        {\"responsive\": true}                    ).then(function(){\n",
       "                            \n",
       "var gd = document.getElementById('0abfc019-f456-4ecc-b1a5-86b33d2bbba3');\n",
       "var x = new MutationObserver(function (mutations, observer) {{\n",
       "        var display = window.getComputedStyle(gd).display;\n",
       "        if (!display || display === 'none') {{\n",
       "            console.log([gd, 'removed!']);\n",
       "            Plotly.purge(gd);\n",
       "            observer.disconnect();\n",
       "        }}\n",
       "}});\n",
       "\n",
       "// Listen for the removal of the full notebook cells\n",
       "var notebookContainer = gd.closest('#notebook-container');\n",
       "if (notebookContainer) {{\n",
       "    x.observe(notebookContainer, {childList: true});\n",
       "}}\n",
       "\n",
       "// Listen for the clearing of the current output cell\n",
       "var outputEl = gd.closest('.output');\n",
       "if (outputEl) {{\n",
       "    x.observe(outputEl, {childList: true});\n",
       "}}\n",
       "\n",
       "                        })                };                });            </script>        </div>"
      ]
     },
     "metadata": {},
     "output_type": "display_data"
    }
   ],
   "source": [
    "#Creating a bounding box\n",
    "east, north, west, south = -78.814085,35.571632,-78.806876,35.576170  \n",
    "G = ox.graph_from_bbox(north, south, east, west, network_type=\"drive_service\")\n",
    "colors = plt.rcParams['axes.prop_cycle'].by_key()['color']\n",
    "ox.plot.plot_graph(G, bgcolor='#FFFFFF', node_color=colors[0], edge_color='lightgray', node_size=5)\n",
    "\n",
    "\n",
    "    #Extracting Node Information from G\n",
    "Nodes = []\n",
    "for i in G.nodes:\n",
    "    Nodes.append(i)\n",
    "\n",
    "data = pd.DataFrame(Nodes)\n",
    "data.rename(columns = {0:'Nodes'}, inplace = True)\n",
    "\n",
    "\n",
    "lat1 = []\n",
    "long1 = []\n",
    "for i in Nodes:\n",
    "    lat1.append(G.nodes[i].get('y'))\n",
    "    long1.append(G.nodes[i].get('x'))\n",
    "data['Latitude'] = lat1\n",
    "data['Longitude'] = long1\n",
    "df1 = data\n",
    "G = ox.graph_from_place('Fuquay Varina, NC, USA', network_type='drive')\n",
    "\n",
    "df1 = df1.drop(['Nodes'],axis=1)\n",
    "df1.rename(columns = {'Latitude':'Left'}, inplace = True)\n",
    "df1.rename(columns = {'Longitude':'Right'}, inplace = True)\n",
    "\n",
    "    #Calculating Distance and the distance matrix for all coordinates in the Bounding Box\n",
    "df3 = pd.DataFrame()\n",
    "for j in df1.index:\n",
    "    list1 = []\n",
    "    for i in df1.index:\n",
    "        r = requests.get(f\"\"\"http://router.project-osrm.org/route/v1/car/{df1.loc[j, \"Right\"]},{df1.loc[j, \"Left\"]};{df1.loc[i, \"Right\"]},{df1.loc[i, \"Left\"]}?overview=false\"\"\")\n",
    "        list1.append(json.loads(r.content)[\"routes\"][0][\"distance\"])\n",
    "    df3[j] = list1\n",
    "df = df1\n",
    "df['coordinate'] = list(zip(df['Right'],df['Left']))\n",
    "df['ID'] = df.index\n",
    "\n",
    "locations = dict( ( ID, (df.loc[ID, 'Right'], df.loc[ID, 'Left']) ) for ID in df.index)\n",
    "distances_df = df3\n",
    "distance = distances_df\n",
    "distances = dict( ((l1,l2), distance.iloc[l1, l2] ) for l1 in locations for l2 in locations if l1!=l2)\n",
    "\n",
    "\n",
    "    ## V: This defines the total number of vehicles that will traverse the path.\n",
    "V = 1\n",
    "    ## prob: This initializes the problem that will run using provided constraints.\n",
    "\n",
    "prob=LpProblem(\"vehicle\", LpMinimize)\n",
    "    ## indicator: This defines the variable dictionary consisting of distances and indicates if location i is connected to location j along route\n",
    "indicator = LpVariable.dicts('indicator',distances, 0,1,LpBinary)\n",
    "    ## eliminator: This defines the variable dictionary consisting of the node ID's and elimiate subtours\n",
    "eliminator = LpVariable.dicts('eliminator', df.ID, 0, len(df.ID)-1, LpInteger)\n",
    "    ## cost: This stores the result of distances calculations.\n",
    "cost = lpSum([indicator[(i,j)]*distances[(i,j)] for (i,j) in distances])\n",
    "prob+=cost\n",
    "\n",
    "start1 = 2\n",
    "for v in df.ID:\n",
    "        ## cap: This considers a particular node at a time. \n",
    "    cap = 1 if v != start1 else V\n",
    "        #inward possible route\n",
    "    prob+= lpSum([ indicator[(i,v)] for i in df.ID if (i,v) in indicator]) ==cap\n",
    "        #outward possible route\n",
    "    prob+=lpSum([ indicator[(v,i)] for i in df.ID if (v,i) in indicator]) ==cap\n",
    "    ## num: This stores the result of the number of nodes and the number of vehicles.    \n",
    "num=len(df.ID)/V\n",
    "for i in df.ID:\n",
    "    for j in df.ID:\n",
    "        if i != j and (i != start1 and j!= start1) and (i,j) in indicator:\n",
    "             prob += eliminator[i] - eliminator[j] <= (num)*(1-indicator[(i,j)]) - 1         \n",
    "prob.solve()\n",
    "    ## feasibleedges: This stores values of edges after the calculations are done.\n",
    "feasible_edges = [ e for e in indicator if value(indicator[e]) != 0 ]\n",
    "    ##@get_next_loc\n",
    "    # This provides with the next coordinates for the next node in the path.\n",
    "def get_next_loc(initial):\n",
    "    edges = [e for e in feasible_edges if e[0]==initial]\n",
    "    for e in edges:\n",
    "        feasible_edges.remove(e)\n",
    "    return edges\n",
    "    ## routes: This stores information regarding paths.    \n",
    "routes = get_next_loc(2)\n",
    "routes = [ [e] for e in routes ]\n",
    "\n",
    "for r in routes:\n",
    "    while r[-1][1] !=start1:\n",
    "        r.append(get_next_loc(r[-1][1])[-1])\n",
    "\n",
    "\n",
    "\n",
    "\n",
    "df2 = df[['Left', 'Right', 'ID']].copy()\n",
    "df2.rename(columns = {'Left':'Latitude'}, inplace = True)\n",
    "df2.rename(columns = {'Right':'Longitude'}, inplace = True)\n",
    "a=[]\n",
    "for i in range(data.index.stop):\n",
    "    #print(routes[0][i][0])\n",
    "    a.append(routes[0][i][0]) \n",
    "\n",
    "df3 = pd.DataFrame()\n",
    "for i in a:\n",
    "    df3 = df3.append(df2.loc[i])\n",
    "\n",
    "df3.reset_index(inplace = True)\n",
    "\n",
    "df3 = df3.append(df3.loc[0])\n",
    "df3.reset_index(inplace = True)\n",
    "df4 = df3\n",
    "dfnodes = pd.DataFrame(Nodes)\n",
    "dfnodes.rename(columns = {0:'Nodes'}, inplace = True)\n",
    "dfnodes = dfnodes.reindex(a)\n",
    "dfnodes = dfnodes.append({\"Nodes\":Nodes[a[0]]},ignore_index=True)\n",
    "df4 = pd.concat([df4,dfnodes],axis=1)\n",
    "    \n",
    "    \n",
    "def node_list_to_path2(G, node_list):\n",
    "   \n",
    "    edge_nodes = list(zip(node_list[:-1], node_list[1:]))\n",
    "    lines = []\n",
    "    newlist=[]\n",
    "    \n",
    "    \n",
    "    \n",
    "    \n",
    "    #for u, v in edge_nodes:\n",
    "    #    if(G.get_edge_data(u, v)):\n",
    "    #        newlist.append((u,v))\n",
    "            \n",
    "            \n",
    "            \n",
    "    for u, v in edge_nodes:\n",
    "        if(G.get_edge_data(u, v)):\n",
    "            newlist.append((u,v))\n",
    "        else:    \n",
    "            path1 = nx.shortest_path(G,u, v, weight='travel_time')\n",
    "            path2 = list(zip(path1[:-1], path1[1:]))\n",
    "            newlist = newlist+path2        \n",
    "    #print(newlist)\n",
    "    #print(len(newlist))\n",
    "    \n",
    "    for u, v in newlist:\n",
    "        # if there are parallel edges, select the shortest in length\n",
    "        \n",
    "        data = min(G.get_edge_data(u, v).values(), \n",
    "                key=lambda x: x['length'])\n",
    "            # if it has a geometry attribute\n",
    "        if 'geometry' in data:\n",
    "            # add them to the list of lines to plot\n",
    "            xs, ys = data['geometry'].xy\n",
    "            lines.append(list(zip(xs, ys)))\n",
    "        else:\n",
    "            # if it doesn't have a geometry attribute,\n",
    "            # then the edge is a straight line from node to node\n",
    "            x1 = G.nodes[u]['x']\n",
    "            y1 = G.nodes[u]['y']\n",
    "            x2 = G.nodes[v]['x']\n",
    "            y2 = G.nodes[v]['y']\n",
    "            line = [(x1, y1), (x2, y2)]\n",
    "            lines.append(line)\n",
    "            \n",
    "    return lines    \n",
    "    \n",
    "    \n",
    "    \n",
    "def plot_path(lat, long, origin_point, destination_point):\n",
    "    fig = go.Figure(go.Scattermapbox(\n",
    "        name = \"Path\",\n",
    "        mode = \"lines\",\n",
    "        lon = long,\n",
    "        lat = lat,\n",
    "        marker = {'size': 10},\n",
    "        line = dict(width = 4.5, color = 'grey')))\n",
    "    fig.add_trace(go.Scattermapbox(\n",
    "        name = \"Source\",\n",
    "        mode = \"markers\",\n",
    "        lon = [origin_point[1]],\n",
    "        lat = [origin_point[0]],\n",
    "        marker = {'size': 12, 'color':\"red\"}))\n",
    "    fig.add_trace(go.Scattermapbox(\n",
    "        name = \"Destination\",\n",
    "        mode = \"markers\",\n",
    "        lon = [destination_point[1]],\n",
    "        lat = [destination_point[0]],\n",
    "        marker = {'size': 12, 'color':'green'}))\n",
    "    lat_center = np.mean(lat)\n",
    "    long_center = np.mean(long)\n",
    "    fig.update_layout(mapbox_style=\"carto-darkmatter\",\n",
    "        mapbox_center_lat = 30, mapbox_center_lon=-80)\n",
    "    fig.update_layout(margin={\"r\":0,\"t\":0,\"l\":0,\"b\":0},\n",
    "                        mapbox = {\n",
    "                            'center': {'lat': lat_center, \n",
    "                            'lon': long_center},\n",
    "                            'zoom': 13})\n",
    "    fig.show()\n",
    "\n",
    "\n",
    "pathlist = []\n",
    "for i in range(df4['Nodes'].count()-1):\n",
    "    path1 = nx.shortest_path(G, df4.iloc[i]['Nodes'],df4.iloc[i+1]['Nodes'], weight='travel_time')\n",
    "    pathlist = pathlist+path1\n",
    "#pathlist1 = list(dict.fromkeys(pathlist))\n",
    "#pathlist1.append(pathlist1[0])\n",
    "data4 = pd.DataFrame(pathlist)\n",
    "data4.rename(columns = {0:'Nodes'}, inplace = True)\n",
    "lat1 = []\n",
    "long1 = []\n",
    "lines = node_list_to_path2(G, pathlist)\n",
    "long2 = []\n",
    "lat2 = []\n",
    "for i in range(len(lines)):\n",
    "    z = list(lines[i])\n",
    "    l1 = list(list(zip(*z))[0])\n",
    "    l2 = list(list(zip(*z))[1])\n",
    "    for j in range(len(l1)):\n",
    "        long2.append(l1[j])\n",
    "        lat2.append(l2[j])\n",
    "        \n",
    "newdf = pd.DataFrame()\n",
    "newdf['Latitude'] = lat2\n",
    "newdf['Longitude'] = long2\n",
    "Trash = []\n",
    "for i in newdf.index:\n",
    "    Trash.append(random.randint(6,10))\n",
    "newdf['Trash'] = Trash\n",
    "\n",
    "duration1= []\n",
    "for i in range(newdf.index.stop-1):\n",
    "    r = requests.get(f\"\"\"http://router.project-osrm.org/route/v1/car/{newdf.loc[i, \"Longitude\"]},{newdf.loc[i, \"Latitude\"]};{newdf.loc[i+1, \"Longitude\"]},{newdf.loc[i+1, \"Latitude\"]}?overview=false\"\"\")\n",
    "    duration1.append(json.loads(r.content)[\"routes\"][0][\"duration\"])              \n",
    "        \n",
    "for i in pathlist:\n",
    "    lat1.append(G.nodes[i].get('y'))\n",
    "    long1.append(G.nodes[i].get('x'))\n",
    "data4['Latitude'] = lat1\n",
    "data4['Longitude'] = long1\n",
    "origin_point = (data4.loc[0][\"Latitude\"], data4.loc[0][\"Longitude\"]) \n",
    "destination_point = (data4.iloc[-1][\"Latitude\"], data4.iloc[-1][\"Longitude\"])\n",
    "#plot_path(lat1, long1, origin_point, destination_point)\n",
    "\n",
    "\n",
    "plot_path(lat2, long2, origin_point, destination_point)"
   ]
  },
  {
   "cell_type": "code",
   "execution_count": 46,
   "id": "activated-stanford",
   "metadata": {},
   "outputs": [],
   "source": [
    "path6 = pathlist"
   ]
  },
  {
   "cell_type": "code",
   "execution_count": 47,
   "id": "suspended-buffer",
   "metadata": {},
   "outputs": [],
   "source": [
    "trash6 = Trash"
   ]
  },
  {
   "cell_type": "code",
   "execution_count": 48,
   "id": "downtown-lincoln",
   "metadata": {},
   "outputs": [],
   "source": [
    "duration6 = duration1"
   ]
  },
  {
   "cell_type": "code",
   "execution_count": 49,
   "id": "limiting-calcium",
   "metadata": {},
   "outputs": [],
   "source": [
    "path1_2 = nx.shortest_path(G, path11[0],path2[0], weight='travel_time')\n",
    "path2_3 = nx.shortest_path(G, path2[0],path3[0], weight='travel_time')\n",
    "path3_4 = nx.shortest_path(G, path3[0],path4[0], weight='travel_time')\n",
    "path4_5 = nx.shortest_path(G, path4[0],path5[0], weight='travel_time')\n",
    "path5_6 = nx.shortest_path(G, path5[0],path6[0], weight='travel_time')"
   ]
  },
  {
   "cell_type": "code",
   "execution_count": 50,
   "id": "durable-mineral",
   "metadata": {},
   "outputs": [],
   "source": [
    "mainroute = path11+path1_2+path2+path2_3+path3+path3_4+path4+path4_5+path5+path5_6+path6"
   ]
  },
  {
   "cell_type": "code",
   "execution_count": 51,
   "id": "skilled-constitutional",
   "metadata": {},
   "outputs": [
    {
     "data": {
      "application/vnd.plotly.v1+json": {
       "config": {
        "plotlyServerURL": "https://plot.ly"
       },
       "data": [
        {
         "lat": [
          35.5675956,
          35.5676306,
          35.5677218,
          35.5677522,
          35.5678222,
          35.5678703,
          35.5679118,
          35.5679782,
          35.5680488,
          35.568112,
          35.568699,
          35.5689755,
          35.5690585,
          35.5690585,
          35.5690743,
          35.5692139,
          35.5692139,
          35.5679081,
          35.5679081,
          35.5673494,
          35.5673494,
          35.5679081,
          35.5679081,
          35.5679882,
          35.5680303,
          35.5680303,
          35.5679882,
          35.5679081,
          35.5679081,
          35.5692139,
          35.5692139,
          35.569436,
          35.5694585,
          35.5694643,
          35.5694643,
          35.5694585,
          35.5694585,
          35.5694643,
          35.5694643,
          35.5685272,
          35.5683425,
          35.5680671,
          35.5680671,
          35.5683425,
          35.5685272,
          35.5694643,
          35.5694643,
          35.5694585,
          35.569436,
          35.5692139,
          35.5692139,
          35.5690743,
          35.5690585,
          35.5690585,
          35.5689755,
          35.568699,
          35.568112,
          35.5680488,
          35.5679782,
          35.5679118,
          35.5678703,
          35.5678222,
          35.5677522,
          35.5677218,
          35.5676306,
          35.5675956,
          35.5675956,
          35.5675288,
          35.5674454,
          35.5673623,
          35.5672457,
          35.5670056,
          35.5670056,
          35.5669838,
          35.5669484,
          35.566949,
          35.5670259,
          35.5670259,
          35.566949,
          35.5669484,
          35.5669838,
          35.5670056,
          35.5670056,
          35.5672457,
          35.5673623,
          35.5674454,
          35.5675288,
          35.5675956,
          35.5675956,
          35.5676306,
          35.5677218,
          35.5677522,
          35.5678222,
          35.5678703,
          35.5679118,
          35.5679782,
          35.5680488,
          35.568112,
          35.568699,
          35.5689755,
          35.5690585,
          35.5690585,
          35.5690743,
          35.5692139,
          35.5692139,
          35.569436,
          35.5694585,
          35.5694643,
          35.5694643,
          35.5685272,
          35.5683425,
          35.5680671,
          35.5680671,
          35.568091,
          35.5681697,
          35.5682404,
          35.5685033,
          35.5686805,
          35.5687272,
          35.5687352,
          35.5687346,
          35.5687346,
          35.5686477,
          35.568559,
          35.5685287,
          35.5685287,
          35.5687632,
          35.5689448,
          35.5692108,
          35.569413,
          35.5697979,
          35.569993,
          35.570172,
          35.570484,
          35.570484,
          35.570746,
          35.5719066,
          35.5720357,
          35.5724582,
          35.5733426,
          35.5734473,
          35.5734473,
          35.5734531,
          35.5734597,
          35.5734873,
          35.5735146,
          35.5735361,
          35.5735574,
          35.5735842,
          35.5735891,
          35.5736109,
          35.5736492,
          35.5737279,
          35.5737791,
          35.5738116,
          35.5738336,
          35.5738514,
          35.5738605,
          35.5738605,
          35.5738694,
          35.5738914,
          35.5739165,
          35.5739469,
          35.5739801,
          35.5740114,
          35.5740631,
          35.5741122,
          35.5741529,
          35.5742087,
          35.5743119,
          35.5743456,
          35.5743456,
          35.5742387,
          35.57407,
          35.5738449,
          35.5738449,
          35.5738204,
          35.5737353,
          35.5736329,
          35.573579,
          35.5735569,
          35.5735569,
          35.5734364,
          35.5733725,
          35.5732536,
          35.5731211,
          35.5728128,
          35.57261,
          35.5722063,
          35.5720531,
          35.5719467,
          35.5718077,
          35.5717087,
          35.5714447,
          35.5714105,
          35.5714105,
          35.5708791,
          35.5707195,
          35.5706088,
          35.5704823,
          35.5703933,
          35.5703564,
          35.5703457,
          35.5703457,
          35.5703334,
          35.5703003,
          35.5703133,
          35.5703613,
          35.5703613,
          35.5703133,
          35.5703003,
          35.5703334,
          35.5703457,
          35.5703457,
          35.5704113,
          35.5705646,
          35.5706892,
          35.5707594,
          35.5715509,
          35.571618,
          35.571618,
          35.5716792,
          35.5719181,
          35.5720624,
          35.572149,
          35.5721787,
          35.5721787,
          35.572149,
          35.5720624,
          35.5719181,
          35.5716792,
          35.571618,
          35.571618,
          35.57167,
          35.5721171,
          35.5721171,
          35.5727038,
          35.5727038,
          35.5728523,
          35.5731944,
          35.5733908,
          35.5734961,
          35.5735569,
          35.5735569,
          35.5734364,
          35.5733725,
          35.5732536,
          35.5731211,
          35.5728128,
          35.57261,
          35.5722063,
          35.5720531,
          35.5719467,
          35.5718077,
          35.5717087,
          35.5714447,
          35.5714105,
          35.5714105,
          35.5714592,
          35.571851,
          35.5719352,
          35.572086,
          35.5722324,
          35.5722324,
          35.572086,
          35.5719352,
          35.571851,
          35.5714592,
          35.5714105,
          35.5714105,
          35.5708791,
          35.5707195,
          35.5706088,
          35.5704823,
          35.5703933,
          35.5703564,
          35.5703457,
          35.5703457,
          35.5703564,
          35.5703933,
          35.5704823,
          35.5706088,
          35.5707195,
          35.5708791,
          35.5714105,
          35.5714105,
          35.5714447,
          35.5717087,
          35.5718077,
          35.5719467,
          35.5720531,
          35.5722063,
          35.57261,
          35.5728128,
          35.5731211,
          35.5732536,
          35.5733725,
          35.5734364,
          35.5735569,
          35.5735569,
          35.573579,
          35.5736329,
          35.5737353,
          35.5738204,
          35.5738449,
          35.5738449,
          35.57389,
          35.5740014,
          35.5741428,
          35.5743933,
          35.5744372,
          35.5744372,
          35.5743824,
          35.5742914,
          35.5741384,
          35.5740336,
          35.573973,
          35.5739441,
          35.5739386,
          35.5739386,
          35.574214,
          35.574214,
          35.5740806,
          35.5740535,
          35.5740535,
          35.5739954,
          35.5739818,
          35.5739818,
          35.5739954,
          35.5740535,
          35.5740535,
          35.5744634,
          35.5744634,
          35.5744443,
          35.5744116,
          35.574214,
          35.574214,
          35.5740806,
          35.5740535,
          35.5740535,
          35.574028,
          35.5739972,
          35.5738934,
          35.5734559,
          35.5732776,
          35.5729574,
          35.5727314,
          35.5726118,
          35.5722823,
          35.5720539,
          35.5718735,
          35.5718735,
          35.5718941,
          35.572018,
          35.5720405,
          35.5720336,
          35.5720336,
          35.5720327,
          35.572029,
          35.5721126,
          35.572179,
          35.5722071,
          35.5722071,
          35.5722511,
          35.5722608,
          35.5723568,
          35.5724576,
          35.5725766,
          35.5728138,
          35.5730574,
          35.5730574,
          35.5730571,
          35.5730476,
          35.5730476,
          35.5730571,
          35.5730574,
          35.5730574,
          35.5732283,
          35.5733957,
          35.5735709,
          35.5736897,
          35.5737326,
          35.5738136,
          35.5738136,
          35.573929,
          35.574065,
          35.5741585,
          35.5742045,
          35.5742474,
          35.5742474,
          35.5746579,
          35.574994,
          35.5751701,
          35.575185,
          35.575185,
          35.5751509,
          35.5750519,
          35.5750519,
          35.5751509,
          35.575185,
          35.575185,
          35.5755519,
          35.5757671,
          35.5758702,
          35.575923,
          35.575979,
          35.575979,
          35.5759256,
          35.575386,
          35.5752393,
          35.5750819,
          35.5749367,
          35.5745884,
          35.5744558,
          35.5743985,
          35.5743985,
          35.574103,
          35.5739818,
          35.5739818,
          35.5739954,
          35.5740535,
          35.5740535,
          35.5740806,
          35.574214,
          35.574214,
          35.5739386,
          35.5739386,
          35.5739441,
          35.573973,
          35.5740336,
          35.5741384,
          35.5742914,
          35.5743824,
          35.5744372,
          35.5744372,
          35.5743933,
          35.5741428,
          35.5740014,
          35.57389,
          35.5738449,
          35.5738449,
          35.5737892,
          35.5737545,
          35.5736874,
          35.5736081,
          35.5735018,
          35.5734456,
          35.5734202,
          35.5734202,
          35.5733541,
          35.5732731,
          35.5731518,
          35.5730207,
          35.5729766,
          35.5729766,
          35.5730207,
          35.5731518,
          35.5732731,
          35.5733541,
          35.5734202,
          35.5734202,
          35.5734456,
          35.5735018,
          35.5736081,
          35.5736874,
          35.5737545,
          35.5737892,
          35.5738449,
          35.5738449,
          35.5738204,
          35.5737353,
          35.5736329,
          35.573579,
          35.5735569,
          35.5735569,
          35.5734961,
          35.5733908,
          35.5731944,
          35.5728523,
          35.5727038,
          35.5727038,
          35.5721171,
          35.5721171,
          35.57167,
          35.571618,
          35.571618,
          35.5716792,
          35.5719181,
          35.5720624,
          35.572149,
          35.5721787,
          35.5721787,
          35.5722176,
          35.5727274,
          35.5729766,
          35.5729766,
          35.5727274,
          35.5722176,
          35.5721787,
          35.5721787,
          35.5721312,
          35.5719167,
          35.571724,
          35.5707295,
          35.5706845,
          35.5706845,
          35.5706326,
          35.570554,
          35.5703781,
          35.5702562,
          35.5702227,
          35.5702227,
          35.5701871,
          35.5701717,
          35.5700451,
          35.5698197,
          35.5697471,
          35.5697011,
          35.5697011,
          35.5696339,
          35.569225,
          35.5682083,
          35.568139,
          35.568139,
          35.5682083,
          35.569225,
          35.5696339,
          35.5697011,
          35.5697011,
          35.5697471,
          35.5698197,
          35.5700451,
          35.5701717,
          35.5701871,
          35.5702227,
          35.5702227,
          35.570155,
          35.5694491,
          35.5694491,
          35.5694787,
          35.5697,
          35.569923,
          35.5699905,
          35.57004,
          35.57004,
          35.569975,
          35.5699388,
          35.5698645,
          35.5697497,
          35.569653,
          35.5695668,
          35.5687103,
          35.5685803,
          35.5684931,
          35.5682114,
          35.568081,
          35.5677659,
          35.567541,
          35.5673849,
          35.5672076,
          35.567095,
          35.5669112,
          35.5668394,
          35.5667274,
          35.5666292,
          35.5665036,
          35.5664715,
          35.5664715,
          35.5665398,
          35.5680563,
          35.568139,
          35.568139,
          35.568169,
          35.568308,
          35.568423,
          35.5685874,
          35.5687046,
          35.5688705,
          35.5689908,
          35.5694491,
          35.5694491,
          35.5694787,
          35.5697,
          35.569923,
          35.5699905,
          35.57004,
          35.57004,
          35.5701059,
          35.5702949,
          35.570507,
          35.5706223,
          35.5706845,
          35.5706845,
          35.5707295,
          35.571724,
          35.5719167,
          35.5721312,
          35.5721787,
          35.5721787,
          35.5722176,
          35.5727274,
          35.5729766,
          35.5729766,
          35.5730207,
          35.5731518,
          35.5732731,
          35.5733541,
          35.5734202,
          35.5734202,
          35.5734456,
          35.5735018,
          35.5736081,
          35.5736874,
          35.5737545,
          35.5737892,
          35.5738449,
          35.5738449,
          35.57407,
          35.5742387,
          35.5743456,
          35.5743456,
          35.5744584,
          35.5746013,
          35.5747568,
          35.5748836,
          35.5750203,
          35.5751097,
          35.5752013,
          35.5753431,
          35.5755088,
          35.5757532,
          35.5758095,
          35.575882,
          35.575882,
          35.5759811,
          35.5759903,
          35.5759903,
          35.5758697,
          35.5757513,
          35.5756387,
          35.5755413,
          35.5754469,
          35.5753765,
          35.5753072,
          35.5752049,
          35.5749879,
          35.574981,
          35.574885,
          35.574885,
          35.5748004,
          35.5744968,
          35.5744372,
          35.5744372,
          35.5744835,
          35.5747186,
          35.5750115,
          35.5750115,
          35.5751411,
          35.5751929,
          35.5751929,
          35.5751411,
          35.5750115,
          35.5750115,
          35.5748969,
          35.5747631,
          35.574645,
          35.57453,
          35.5740239,
          35.5739386,
          35.5739386,
          35.5738752,
          35.5737989,
          35.5731317,
          35.5729622,
          35.5728439,
          35.572527,
          35.5723934,
          35.5723934,
          35.572527,
          35.5728439,
          35.5729622,
          35.5731317,
          35.5737989,
          35.5738752,
          35.5739386,
          35.5739386,
          35.574214,
          35.574214,
          35.5740806,
          35.5740535,
          35.5740535,
          35.574028,
          35.5739972,
          35.5738934,
          35.5734559,
          35.5732776,
          35.5729574,
          35.5727314,
          35.5726118,
          35.5722823,
          35.5720539,
          35.5718735,
          35.5718735,
          35.5718941,
          35.572018,
          35.5720405,
          35.5720336,
          35.5720336,
          35.5721042,
          35.5722152,
          35.572351,
          35.5724724,
          35.5727863,
          35.5729304,
          35.573194,
          35.5734647,
          35.5736117,
          35.5738937,
          35.5739818,
          35.5739818,
          35.574103,
          35.5743985,
          35.5743985,
          35.5744558,
          35.5745884,
          35.5749367,
          35.5750819,
          35.5752393,
          35.575386,
          35.5759256,
          35.575979,
          35.575979,
          35.5759256,
          35.575386,
          35.5752393,
          35.5750819,
          35.5749367,
          35.5745884,
          35.5744558,
          35.5743985,
          35.5743985,
          35.574405,
          35.5744634,
          35.5744634,
          35.5744443,
          35.5744116,
          35.574214,
          35.574214,
          35.5739386,
          35.5739386,
          35.5739441,
          35.573973,
          35.5740336,
          35.5741384,
          35.5742914,
          35.5743824,
          35.5744372,
          35.5744372,
          35.5743933,
          35.5741428,
          35.5740014,
          35.57389,
          35.5738449,
          35.5738449,
          35.5738204,
          35.5737353,
          35.5736329,
          35.573579,
          35.5735569,
          35.5735569,
          35.5734961,
          35.5733908,
          35.5731944,
          35.5728523,
          35.5727038,
          35.5727038,
          35.5721171,
          35.5721171,
          35.57167,
          35.571618,
          35.571618,
          35.5716792,
          35.5719181,
          35.5720624,
          35.572149,
          35.5721787,
          35.5721787,
          35.5722176,
          35.5727274,
          35.5729766,
          35.5729766,
          35.5730207,
          35.5731518,
          35.5732731,
          35.5733541,
          35.5734202,
          35.5734202,
          35.5734456,
          35.5735018,
          35.5736081,
          35.5736874,
          35.5737545,
          35.5737892,
          35.5738449
         ],
         "line": {
          "color": "grey",
          "width": 4.5
         },
         "lon": [
          -78.8089909,
          -78.8089262,
          -78.8087575,
          -78.8086577,
          -78.8083489,
          -78.8082478,
          -78.8081972,
          -78.8081524,
          -78.8081301,
          -78.8081305,
          -78.8082866,
          -78.8083598,
          -78.8083818,
          -78.8083818,
          -78.8082864,
          -78.8074274,
          -78.8074274,
          -78.8070709,
          -78.8070709,
          -78.8069184,
          -78.8069184,
          -78.8070709,
          -78.8070709,
          -78.8066112,
          -78.8062902,
          -78.8062902,
          -78.8066112,
          -78.8070709,
          -78.8070709,
          -78.8074274,
          -78.8074274,
          -78.8060612,
          -78.8059058,
          -78.8057714,
          -78.8057714,
          -78.8052122,
          -78.8052122,
          -78.8057714,
          -78.8057714,
          -78.8057913,
          -78.8057862,
          -78.8056218,
          -78.8056218,
          -78.8057862,
          -78.8057913,
          -78.8057714,
          -78.8057714,
          -78.8059058,
          -78.8060612,
          -78.8074274,
          -78.8074274,
          -78.8082864,
          -78.8083818,
          -78.8083818,
          -78.8083598,
          -78.8082866,
          -78.8081305,
          -78.8081301,
          -78.8081524,
          -78.8081972,
          -78.8082478,
          -78.8083489,
          -78.8086577,
          -78.8087575,
          -78.8089262,
          -78.8089909,
          -78.8089909,
          -78.808946,
          -78.8089079,
          -78.8088961,
          -78.8089109,
          -78.808993,
          -78.808993,
          -78.8089,
          -78.8087493,
          -78.8086293,
          -78.8082313,
          -78.8082313,
          -78.8086293,
          -78.8087493,
          -78.8089,
          -78.808993,
          -78.808993,
          -78.8089109,
          -78.8088961,
          -78.8089079,
          -78.808946,
          -78.8089909,
          -78.8089909,
          -78.8089262,
          -78.8087575,
          -78.8086577,
          -78.8083489,
          -78.8082478,
          -78.8081972,
          -78.8081524,
          -78.8081301,
          -78.8081305,
          -78.8082866,
          -78.8083598,
          -78.8083818,
          -78.8083818,
          -78.8082864,
          -78.8074274,
          -78.8074274,
          -78.8060612,
          -78.8059058,
          -78.8057714,
          -78.8057714,
          -78.8057913,
          -78.8057862,
          -78.8056218,
          -78.8056218,
          -78.8055739,
          -78.8053733,
          -78.8051251,
          -78.8040726,
          -78.8033239,
          -78.8030229,
          -78.8027938,
          -78.8025767,
          -78.8025767,
          -78.801832,
          -78.8012082,
          -78.8010445,
          -78.8010445,
          -78.8009264,
          -78.800835,
          -78.800746,
          -78.800692,
          -78.8006096,
          -78.800608,
          -78.800603,
          -78.800594,
          -78.800594,
          -78.8005945,
          -78.8005967,
          -78.8005969,
          -78.8005977,
          -78.8005917,
          -78.800591,
          -78.800591,
          -78.8007184,
          -78.8007777,
          -78.8011038,
          -78.8014149,
          -78.8016596,
          -78.8019128,
          -78.8022326,
          -78.8022865,
          -78.8025242,
          -78.8029947,
          -78.8038795,
          -78.8044639,
          -78.8048452,
          -78.8050929,
          -78.805294,
          -78.8054067,
          -78.8054067,
          -78.805518,
          -78.8057286,
          -78.805919,
          -78.8061059,
          -78.806291,
          -78.8064474,
          -78.8066628,
          -78.8068562,
          -78.8070002,
          -78.8071827,
          -78.8074797,
          -78.8075693,
          -78.8075693,
          -78.8076371,
          -78.8077365,
          -78.8078667,
          -78.8078667,
          -78.807797,
          -78.8075547,
          -78.8072315,
          -78.807026,
          -78.8069416,
          -78.8069416,
          -78.8064213,
          -78.8062913,
          -78.8061595,
          -78.8061194,
          -78.8060692,
          -78.8059952,
          -78.8056016,
          -78.8055523,
          -78.805569,
          -78.805632,
          -78.8057366,
          -78.8060651,
          -78.8061076,
          -78.8061076,
          -78.8067943,
          -78.8070525,
          -78.8072831,
          -78.8075944,
          -78.8079187,
          -78.8080813,
          -78.808151,
          -78.808151,
          -78.8082278,
          -78.8085735,
          -78.8091336,
          -78.8093078,
          -78.8093078,
          -78.8091336,
          -78.8085735,
          -78.8082278,
          -78.808151,
          -78.808151,
          -78.8081701,
          -78.8082143,
          -78.8082763,
          -78.8083302,
          -78.809139,
          -78.8092075,
          -78.8092075,
          -78.8092694,
          -78.8095112,
          -78.8097492,
          -78.8099112,
          -78.8099667,
          -78.8099667,
          -78.8099112,
          -78.8097492,
          -78.8095112,
          -78.8092694,
          -78.8092075,
          -78.8092075,
          -78.8091311,
          -78.8084741,
          -78.8084741,
          -78.8076113,
          -78.8076113,
          -78.8074184,
          -78.8071094,
          -78.8070015,
          -78.8069635,
          -78.8069416,
          -78.8069416,
          -78.8064213,
          -78.8062913,
          -78.8061595,
          -78.8061194,
          -78.8060692,
          -78.8059952,
          -78.8056016,
          -78.8055523,
          -78.805569,
          -78.805632,
          -78.8057366,
          -78.8060651,
          -78.8061076,
          -78.8061076,
          -78.8061636,
          -78.806615,
          -78.8066817,
          -78.8067378,
          -78.8068354,
          -78.8068354,
          -78.8067378,
          -78.8066817,
          -78.806615,
          -78.8061636,
          -78.8061076,
          -78.8061076,
          -78.8067943,
          -78.8070525,
          -78.8072831,
          -78.8075944,
          -78.8079187,
          -78.8080813,
          -78.808151,
          -78.808151,
          -78.8080813,
          -78.8079187,
          -78.8075944,
          -78.8072831,
          -78.8070525,
          -78.8067943,
          -78.8061076,
          -78.8061076,
          -78.8060651,
          -78.8057366,
          -78.805632,
          -78.805569,
          -78.8055523,
          -78.8056016,
          -78.8059952,
          -78.8060692,
          -78.8061194,
          -78.8061595,
          -78.8062913,
          -78.8064213,
          -78.8069416,
          -78.8069416,
          -78.807026,
          -78.8072315,
          -78.8075547,
          -78.807797,
          -78.8078667,
          -78.8078667,
          -78.8079728,
          -78.8082457,
          -78.8085596,
          -78.8090221,
          -78.8091032,
          -78.8091032,
          -78.8091466,
          -78.8092186,
          -78.8093881,
          -78.8095571,
          -78.8098024,
          -78.8103453,
          -78.810449,
          -78.810449,
          -78.8113316,
          -78.8113316,
          -78.811979,
          -78.8121107,
          -78.8121107,
          -78.8129821,
          -78.8131853,
          -78.8131853,
          -78.8129821,
          -78.8121107,
          -78.8121107,
          -78.812128,
          -78.812128,
          -78.8120305,
          -78.8118631,
          -78.8113316,
          -78.8113316,
          -78.811979,
          -78.8121107,
          -78.8121107,
          -78.812113,
          -78.8121189,
          -78.812139,
          -78.8123675,
          -78.8124114,
          -78.8123995,
          -78.8124158,
          -78.8124499,
          -78.8126676,
          -78.8128297,
          -78.8129339,
          -78.8129339,
          -78.8130097,
          -78.813467,
          -78.8136691,
          -78.8138161,
          -78.8138161,
          -78.8138718,
          -78.814098,
          -78.8145684,
          -78.814823,
          -78.8148838,
          -78.8148838,
          -78.8149429,
          -78.814956,
          -78.815036,
          -78.8150872,
          -78.8151185,
          -78.8151034,
          -78.8150872,
          -78.8150872,
          -78.8150058,
          -78.8143864,
          -78.8143864,
          -78.8150058,
          -78.8150872,
          -78.8150872,
          -78.8151015,
          -78.8151584,
          -78.8152729,
          -78.8153566,
          -78.8153854,
          -78.8154399,
          -78.8154399,
          -78.8154666,
          -78.8154678,
          -78.8154343,
          -78.815395,
          -78.8153584,
          -78.8153584,
          -78.8149573,
          -78.8146184,
          -78.8144508,
          -78.8144414,
          -78.8144414,
          -78.8143794,
          -78.8141912,
          -78.8141912,
          -78.8143794,
          -78.8144414,
          -78.8144414,
          -78.8142098,
          -78.8140831,
          -78.8139894,
          -78.8139163,
          -78.8138387,
          -78.8138387,
          -78.8137961,
          -78.8133662,
          -78.8132533,
          -78.8131809,
          -78.8131609,
          -78.8131425,
          -78.8131357,
          -78.8131327,
          -78.8131327,
          -78.8131313,
          -78.8131853,
          -78.8131853,
          -78.8129821,
          -78.8121107,
          -78.8121107,
          -78.811979,
          -78.8113316,
          -78.8113316,
          -78.810449,
          -78.810449,
          -78.8103453,
          -78.8098024,
          -78.8095571,
          -78.8093881,
          -78.8092186,
          -78.8091466,
          -78.8091032,
          -78.8091032,
          -78.8090221,
          -78.8085596,
          -78.8082457,
          -78.8079728,
          -78.8078667,
          -78.8078667,
          -78.8078999,
          -78.8079206,
          -78.8079608,
          -78.8080278,
          -78.8081733,
          -78.8083434,
          -78.8084202,
          -78.8084202,
          -78.8086842,
          -78.8089743,
          -78.8092218,
          -78.8093826,
          -78.8094367,
          -78.8094367,
          -78.8093826,
          -78.8092218,
          -78.8089743,
          -78.8086842,
          -78.8084202,
          -78.8084202,
          -78.8083434,
          -78.8081733,
          -78.8080278,
          -78.8079608,
          -78.8079206,
          -78.8078999,
          -78.8078667,
          -78.8078667,
          -78.807797,
          -78.8075547,
          -78.8072315,
          -78.807026,
          -78.8069416,
          -78.8069416,
          -78.8069635,
          -78.8070015,
          -78.8071094,
          -78.8074184,
          -78.8076113,
          -78.8076113,
          -78.8084741,
          -78.8084741,
          -78.8091311,
          -78.8092075,
          -78.8092075,
          -78.8092694,
          -78.8095112,
          -78.8097492,
          -78.8099112,
          -78.8099667,
          -78.8099667,
          -78.8099443,
          -78.8096503,
          -78.8094367,
          -78.8094367,
          -78.8096503,
          -78.8099443,
          -78.8099667,
          -78.8099667,
          -78.8100125,
          -78.8102194,
          -78.8104852,
          -78.812221,
          -78.8122995,
          -78.8122995,
          -78.8123895,
          -78.8125258,
          -78.8128322,
          -78.8131244,
          -78.8132046,
          -78.8132046,
          -78.8132983,
          -78.8133389,
          -78.8135851,
          -78.8139415,
          -78.8140532,
          -78.8141241,
          -78.8141241,
          -78.8140689,
          -78.813733,
          -78.8131413,
          -78.813101,
          -78.813101,
          -78.8131413,
          -78.813733,
          -78.8140689,
          -78.8141241,
          -78.8141241,
          -78.8140532,
          -78.8139415,
          -78.8135851,
          -78.8133389,
          -78.8132983,
          -78.8132046,
          -78.8132046,
          -78.8131627,
          -78.8127255,
          -78.8127255,
          -78.8126568,
          -78.812144,
          -78.81179,
          -78.8117086,
          -78.811649,
          -78.811649,
          -78.8115591,
          -78.8115091,
          -78.8114172,
          -78.8113384,
          -78.811304,
          -78.8112847,
          -78.8113299,
          -78.8113106,
          -78.8112715,
          -78.811118,
          -78.811065,
          -78.8110191,
          -78.8109834,
          -78.8109974,
          -78.8110578,
          -78.811111,
          -78.8112608,
          -78.811355,
          -78.8115268,
          -78.8117489,
          -78.8120781,
          -78.8121623,
          -78.8121623,
          -78.8122008,
          -78.8130545,
          -78.813101,
          -78.813101,
          -78.8130235,
          -78.812664,
          -78.8125228,
          -78.8124199,
          -78.8123871,
          -78.8123916,
          -78.8124354,
          -78.8127255,
          -78.8127255,
          -78.8126568,
          -78.812144,
          -78.81179,
          -78.8117086,
          -78.811649,
          -78.811649,
          -78.8117276,
          -78.8119531,
          -78.812157,
          -78.8122495,
          -78.8122995,
          -78.8122995,
          -78.812221,
          -78.8104852,
          -78.8102194,
          -78.8100125,
          -78.8099667,
          -78.8099667,
          -78.8099443,
          -78.8096503,
          -78.8094367,
          -78.8094367,
          -78.8093826,
          -78.8092218,
          -78.8089743,
          -78.8086842,
          -78.8084202,
          -78.8084202,
          -78.8083434,
          -78.8081733,
          -78.8080278,
          -78.8079608,
          -78.8079206,
          -78.8078999,
          -78.8078667,
          -78.8078667,
          -78.8077365,
          -78.8076371,
          -78.8075693,
          -78.8075693,
          -78.8075015,
          -78.8074221,
          -78.8073476,
          -78.8073009,
          -78.8072609,
          -78.8072371,
          -78.8072186,
          -78.807195,
          -78.8071705,
          -78.8071352,
          -78.8071264,
          -78.807115,
          -78.807115,
          -78.8079689,
          -78.8080484,
          -78.8080484,
          -78.8080691,
          -78.8080991,
          -78.8081404,
          -78.8081856,
          -78.8082358,
          -78.8082778,
          -78.8083265,
          -78.80841,
          -78.8085963,
          -78.8086024,
          -78.808687,
          -78.808687,
          -78.8087667,
          -78.809048,
          -78.8091032,
          -78.8091032,
          -78.8091726,
          -78.8095246,
          -78.8099298,
          -78.8099298,
          -78.8100721,
          -78.8102444,
          -78.8102444,
          -78.8100721,
          -78.8099298,
          -78.8099298,
          -78.8100837,
          -78.8102316,
          -78.8103276,
          -78.8103634,
          -78.8104367,
          -78.810449,
          -78.810449,
          -78.8104634,
          -78.8104807,
          -78.8108203,
          -78.8108753,
          -78.8108946,
          -78.8108959,
          -78.8109519,
          -78.8109519,
          -78.8108959,
          -78.8108946,
          -78.8108753,
          -78.8108203,
          -78.8104807,
          -78.8104634,
          -78.810449,
          -78.810449,
          -78.8113316,
          -78.8113316,
          -78.811979,
          -78.8121107,
          -78.8121107,
          -78.812113,
          -78.8121189,
          -78.812139,
          -78.8123675,
          -78.8124114,
          -78.8123995,
          -78.8124158,
          -78.8124499,
          -78.8126676,
          -78.8128297,
          -78.8129339,
          -78.8129339,
          -78.8130097,
          -78.813467,
          -78.8136691,
          -78.8138161,
          -78.8138161,
          -78.8138101,
          -78.8138006,
          -78.8137716,
          -78.8137188,
          -78.8134952,
          -78.8134431,
          -78.8134138,
          -78.8133868,
          -78.8133663,
          -78.8132284,
          -78.8131853,
          -78.8131853,
          -78.8131313,
          -78.8131327,
          -78.8131327,
          -78.8131357,
          -78.8131425,
          -78.8131609,
          -78.8131809,
          -78.8132533,
          -78.8133662,
          -78.8137961,
          -78.8138387,
          -78.8138387,
          -78.8137961,
          -78.8133662,
          -78.8132533,
          -78.8131809,
          -78.8131609,
          -78.8131425,
          -78.8131357,
          -78.8131327,
          -78.8131327,
          -78.813032,
          -78.812128,
          -78.812128,
          -78.8120305,
          -78.8118631,
          -78.8113316,
          -78.8113316,
          -78.810449,
          -78.810449,
          -78.8103453,
          -78.8098024,
          -78.8095571,
          -78.8093881,
          -78.8092186,
          -78.8091466,
          -78.8091032,
          -78.8091032,
          -78.8090221,
          -78.8085596,
          -78.8082457,
          -78.8079728,
          -78.8078667,
          -78.8078667,
          -78.807797,
          -78.8075547,
          -78.8072315,
          -78.807026,
          -78.8069416,
          -78.8069416,
          -78.8069635,
          -78.8070015,
          -78.8071094,
          -78.8074184,
          -78.8076113,
          -78.8076113,
          -78.8084741,
          -78.8084741,
          -78.8091311,
          -78.8092075,
          -78.8092075,
          -78.8092694,
          -78.8095112,
          -78.8097492,
          -78.8099112,
          -78.8099667,
          -78.8099667,
          -78.8099443,
          -78.8096503,
          -78.8094367,
          -78.8094367,
          -78.8093826,
          -78.8092218,
          -78.8089743,
          -78.8086842,
          -78.8084202,
          -78.8084202,
          -78.8083434,
          -78.8081733,
          -78.8080278,
          -78.8079608,
          -78.8079206,
          -78.8078999,
          -78.8078667
         ],
         "marker": {
          "size": 10
         },
         "mode": "lines",
         "name": "Path",
         "type": "scattermapbox"
        },
        {
         "lat": [
          35.5675956
         ],
         "lon": [
          -78.8089909
         ],
         "marker": {
          "color": "red",
          "size": 12
         },
         "mode": "markers",
         "name": "Source",
         "type": "scattermapbox"
        },
        {
         "lat": [
          35.5675956
         ],
         "lon": [
          -78.8089909
         ],
         "marker": {
          "color": "green",
          "size": 12
         },
         "mode": "markers",
         "name": "Destination",
         "type": "scattermapbox"
        }
       ],
       "layout": {
        "mapbox": {
         "center": {
          "lat": 35.57201805348259,
          "lon": -78.80935942300995
         },
         "style": "carto-darkmatter",
         "zoom": 13
        },
        "margin": {
         "b": 0,
         "l": 0,
         "r": 0,
         "t": 0
        },
        "template": {
         "data": {
          "bar": [
           {
            "error_x": {
             "color": "#2a3f5f"
            },
            "error_y": {
             "color": "#2a3f5f"
            },
            "marker": {
             "line": {
              "color": "#E5ECF6",
              "width": 0.5
             }
            },
            "type": "bar"
           }
          ],
          "barpolar": [
           {
            "marker": {
             "line": {
              "color": "#E5ECF6",
              "width": 0.5
             }
            },
            "type": "barpolar"
           }
          ],
          "carpet": [
           {
            "aaxis": {
             "endlinecolor": "#2a3f5f",
             "gridcolor": "white",
             "linecolor": "white",
             "minorgridcolor": "white",
             "startlinecolor": "#2a3f5f"
            },
            "baxis": {
             "endlinecolor": "#2a3f5f",
             "gridcolor": "white",
             "linecolor": "white",
             "minorgridcolor": "white",
             "startlinecolor": "#2a3f5f"
            },
            "type": "carpet"
           }
          ],
          "choropleth": [
           {
            "colorbar": {
             "outlinewidth": 0,
             "ticks": ""
            },
            "type": "choropleth"
           }
          ],
          "contour": [
           {
            "colorbar": {
             "outlinewidth": 0,
             "ticks": ""
            },
            "colorscale": [
             [
              0,
              "#0d0887"
             ],
             [
              0.1111111111111111,
              "#46039f"
             ],
             [
              0.2222222222222222,
              "#7201a8"
             ],
             [
              0.3333333333333333,
              "#9c179e"
             ],
             [
              0.4444444444444444,
              "#bd3786"
             ],
             [
              0.5555555555555556,
              "#d8576b"
             ],
             [
              0.6666666666666666,
              "#ed7953"
             ],
             [
              0.7777777777777778,
              "#fb9f3a"
             ],
             [
              0.8888888888888888,
              "#fdca26"
             ],
             [
              1,
              "#f0f921"
             ]
            ],
            "type": "contour"
           }
          ],
          "contourcarpet": [
           {
            "colorbar": {
             "outlinewidth": 0,
             "ticks": ""
            },
            "type": "contourcarpet"
           }
          ],
          "heatmap": [
           {
            "colorbar": {
             "outlinewidth": 0,
             "ticks": ""
            },
            "colorscale": [
             [
              0,
              "#0d0887"
             ],
             [
              0.1111111111111111,
              "#46039f"
             ],
             [
              0.2222222222222222,
              "#7201a8"
             ],
             [
              0.3333333333333333,
              "#9c179e"
             ],
             [
              0.4444444444444444,
              "#bd3786"
             ],
             [
              0.5555555555555556,
              "#d8576b"
             ],
             [
              0.6666666666666666,
              "#ed7953"
             ],
             [
              0.7777777777777778,
              "#fb9f3a"
             ],
             [
              0.8888888888888888,
              "#fdca26"
             ],
             [
              1,
              "#f0f921"
             ]
            ],
            "type": "heatmap"
           }
          ],
          "heatmapgl": [
           {
            "colorbar": {
             "outlinewidth": 0,
             "ticks": ""
            },
            "colorscale": [
             [
              0,
              "#0d0887"
             ],
             [
              0.1111111111111111,
              "#46039f"
             ],
             [
              0.2222222222222222,
              "#7201a8"
             ],
             [
              0.3333333333333333,
              "#9c179e"
             ],
             [
              0.4444444444444444,
              "#bd3786"
             ],
             [
              0.5555555555555556,
              "#d8576b"
             ],
             [
              0.6666666666666666,
              "#ed7953"
             ],
             [
              0.7777777777777778,
              "#fb9f3a"
             ],
             [
              0.8888888888888888,
              "#fdca26"
             ],
             [
              1,
              "#f0f921"
             ]
            ],
            "type": "heatmapgl"
           }
          ],
          "histogram": [
           {
            "marker": {
             "colorbar": {
              "outlinewidth": 0,
              "ticks": ""
             }
            },
            "type": "histogram"
           }
          ],
          "histogram2d": [
           {
            "colorbar": {
             "outlinewidth": 0,
             "ticks": ""
            },
            "colorscale": [
             [
              0,
              "#0d0887"
             ],
             [
              0.1111111111111111,
              "#46039f"
             ],
             [
              0.2222222222222222,
              "#7201a8"
             ],
             [
              0.3333333333333333,
              "#9c179e"
             ],
             [
              0.4444444444444444,
              "#bd3786"
             ],
             [
              0.5555555555555556,
              "#d8576b"
             ],
             [
              0.6666666666666666,
              "#ed7953"
             ],
             [
              0.7777777777777778,
              "#fb9f3a"
             ],
             [
              0.8888888888888888,
              "#fdca26"
             ],
             [
              1,
              "#f0f921"
             ]
            ],
            "type": "histogram2d"
           }
          ],
          "histogram2dcontour": [
           {
            "colorbar": {
             "outlinewidth": 0,
             "ticks": ""
            },
            "colorscale": [
             [
              0,
              "#0d0887"
             ],
             [
              0.1111111111111111,
              "#46039f"
             ],
             [
              0.2222222222222222,
              "#7201a8"
             ],
             [
              0.3333333333333333,
              "#9c179e"
             ],
             [
              0.4444444444444444,
              "#bd3786"
             ],
             [
              0.5555555555555556,
              "#d8576b"
             ],
             [
              0.6666666666666666,
              "#ed7953"
             ],
             [
              0.7777777777777778,
              "#fb9f3a"
             ],
             [
              0.8888888888888888,
              "#fdca26"
             ],
             [
              1,
              "#f0f921"
             ]
            ],
            "type": "histogram2dcontour"
           }
          ],
          "mesh3d": [
           {
            "colorbar": {
             "outlinewidth": 0,
             "ticks": ""
            },
            "type": "mesh3d"
           }
          ],
          "parcoords": [
           {
            "line": {
             "colorbar": {
              "outlinewidth": 0,
              "ticks": ""
             }
            },
            "type": "parcoords"
           }
          ],
          "pie": [
           {
            "automargin": true,
            "type": "pie"
           }
          ],
          "scatter": [
           {
            "marker": {
             "colorbar": {
              "outlinewidth": 0,
              "ticks": ""
             }
            },
            "type": "scatter"
           }
          ],
          "scatter3d": [
           {
            "line": {
             "colorbar": {
              "outlinewidth": 0,
              "ticks": ""
             }
            },
            "marker": {
             "colorbar": {
              "outlinewidth": 0,
              "ticks": ""
             }
            },
            "type": "scatter3d"
           }
          ],
          "scattercarpet": [
           {
            "marker": {
             "colorbar": {
              "outlinewidth": 0,
              "ticks": ""
             }
            },
            "type": "scattercarpet"
           }
          ],
          "scattergeo": [
           {
            "marker": {
             "colorbar": {
              "outlinewidth": 0,
              "ticks": ""
             }
            },
            "type": "scattergeo"
           }
          ],
          "scattergl": [
           {
            "marker": {
             "colorbar": {
              "outlinewidth": 0,
              "ticks": ""
             }
            },
            "type": "scattergl"
           }
          ],
          "scattermapbox": [
           {
            "marker": {
             "colorbar": {
              "outlinewidth": 0,
              "ticks": ""
             }
            },
            "type": "scattermapbox"
           }
          ],
          "scatterpolar": [
           {
            "marker": {
             "colorbar": {
              "outlinewidth": 0,
              "ticks": ""
             }
            },
            "type": "scatterpolar"
           }
          ],
          "scatterpolargl": [
           {
            "marker": {
             "colorbar": {
              "outlinewidth": 0,
              "ticks": ""
             }
            },
            "type": "scatterpolargl"
           }
          ],
          "scatterternary": [
           {
            "marker": {
             "colorbar": {
              "outlinewidth": 0,
              "ticks": ""
             }
            },
            "type": "scatterternary"
           }
          ],
          "surface": [
           {
            "colorbar": {
             "outlinewidth": 0,
             "ticks": ""
            },
            "colorscale": [
             [
              0,
              "#0d0887"
             ],
             [
              0.1111111111111111,
              "#46039f"
             ],
             [
              0.2222222222222222,
              "#7201a8"
             ],
             [
              0.3333333333333333,
              "#9c179e"
             ],
             [
              0.4444444444444444,
              "#bd3786"
             ],
             [
              0.5555555555555556,
              "#d8576b"
             ],
             [
              0.6666666666666666,
              "#ed7953"
             ],
             [
              0.7777777777777778,
              "#fb9f3a"
             ],
             [
              0.8888888888888888,
              "#fdca26"
             ],
             [
              1,
              "#f0f921"
             ]
            ],
            "type": "surface"
           }
          ],
          "table": [
           {
            "cells": {
             "fill": {
              "color": "#EBF0F8"
             },
             "line": {
              "color": "white"
             }
            },
            "header": {
             "fill": {
              "color": "#C8D4E3"
             },
             "line": {
              "color": "white"
             }
            },
            "type": "table"
           }
          ]
         },
         "layout": {
          "annotationdefaults": {
           "arrowcolor": "#2a3f5f",
           "arrowhead": 0,
           "arrowwidth": 1
          },
          "autotypenumbers": "strict",
          "coloraxis": {
           "colorbar": {
            "outlinewidth": 0,
            "ticks": ""
           }
          },
          "colorscale": {
           "diverging": [
            [
             0,
             "#8e0152"
            ],
            [
             0.1,
             "#c51b7d"
            ],
            [
             0.2,
             "#de77ae"
            ],
            [
             0.3,
             "#f1b6da"
            ],
            [
             0.4,
             "#fde0ef"
            ],
            [
             0.5,
             "#f7f7f7"
            ],
            [
             0.6,
             "#e6f5d0"
            ],
            [
             0.7,
             "#b8e186"
            ],
            [
             0.8,
             "#7fbc41"
            ],
            [
             0.9,
             "#4d9221"
            ],
            [
             1,
             "#276419"
            ]
           ],
           "sequential": [
            [
             0,
             "#0d0887"
            ],
            [
             0.1111111111111111,
             "#46039f"
            ],
            [
             0.2222222222222222,
             "#7201a8"
            ],
            [
             0.3333333333333333,
             "#9c179e"
            ],
            [
             0.4444444444444444,
             "#bd3786"
            ],
            [
             0.5555555555555556,
             "#d8576b"
            ],
            [
             0.6666666666666666,
             "#ed7953"
            ],
            [
             0.7777777777777778,
             "#fb9f3a"
            ],
            [
             0.8888888888888888,
             "#fdca26"
            ],
            [
             1,
             "#f0f921"
            ]
           ],
           "sequentialminus": [
            [
             0,
             "#0d0887"
            ],
            [
             0.1111111111111111,
             "#46039f"
            ],
            [
             0.2222222222222222,
             "#7201a8"
            ],
            [
             0.3333333333333333,
             "#9c179e"
            ],
            [
             0.4444444444444444,
             "#bd3786"
            ],
            [
             0.5555555555555556,
             "#d8576b"
            ],
            [
             0.6666666666666666,
             "#ed7953"
            ],
            [
             0.7777777777777778,
             "#fb9f3a"
            ],
            [
             0.8888888888888888,
             "#fdca26"
            ],
            [
             1,
             "#f0f921"
            ]
           ]
          },
          "colorway": [
           "#636efa",
           "#EF553B",
           "#00cc96",
           "#ab63fa",
           "#FFA15A",
           "#19d3f3",
           "#FF6692",
           "#B6E880",
           "#FF97FF",
           "#FECB52"
          ],
          "font": {
           "color": "#2a3f5f"
          },
          "geo": {
           "bgcolor": "white",
           "lakecolor": "white",
           "landcolor": "#E5ECF6",
           "showlakes": true,
           "showland": true,
           "subunitcolor": "white"
          },
          "hoverlabel": {
           "align": "left"
          },
          "hovermode": "closest",
          "mapbox": {
           "style": "light"
          },
          "paper_bgcolor": "white",
          "plot_bgcolor": "#E5ECF6",
          "polar": {
           "angularaxis": {
            "gridcolor": "white",
            "linecolor": "white",
            "ticks": ""
           },
           "bgcolor": "#E5ECF6",
           "radialaxis": {
            "gridcolor": "white",
            "linecolor": "white",
            "ticks": ""
           }
          },
          "scene": {
           "xaxis": {
            "backgroundcolor": "#E5ECF6",
            "gridcolor": "white",
            "gridwidth": 2,
            "linecolor": "white",
            "showbackground": true,
            "ticks": "",
            "zerolinecolor": "white"
           },
           "yaxis": {
            "backgroundcolor": "#E5ECF6",
            "gridcolor": "white",
            "gridwidth": 2,
            "linecolor": "white",
            "showbackground": true,
            "ticks": "",
            "zerolinecolor": "white"
           },
           "zaxis": {
            "backgroundcolor": "#E5ECF6",
            "gridcolor": "white",
            "gridwidth": 2,
            "linecolor": "white",
            "showbackground": true,
            "ticks": "",
            "zerolinecolor": "white"
           }
          },
          "shapedefaults": {
           "line": {
            "color": "#2a3f5f"
           }
          },
          "ternary": {
           "aaxis": {
            "gridcolor": "white",
            "linecolor": "white",
            "ticks": ""
           },
           "baxis": {
            "gridcolor": "white",
            "linecolor": "white",
            "ticks": ""
           },
           "bgcolor": "#E5ECF6",
           "caxis": {
            "gridcolor": "white",
            "linecolor": "white",
            "ticks": ""
           }
          },
          "title": {
           "x": 0.05
          },
          "xaxis": {
           "automargin": true,
           "gridcolor": "white",
           "linecolor": "white",
           "ticks": "",
           "title": {
            "standoff": 15
           },
           "zerolinecolor": "white",
           "zerolinewidth": 2
          },
          "yaxis": {
           "automargin": true,
           "gridcolor": "white",
           "linecolor": "white",
           "ticks": "",
           "title": {
            "standoff": 15
           },
           "zerolinecolor": "white",
           "zerolinewidth": 2
          }
         }
        }
       }
      },
      "text/html": [
       "<div>                            <div id=\"b9d7e0ae-e8fe-4f42-a5c7-0705f81d3c60\" class=\"plotly-graph-div\" style=\"height:525px; width:100%;\"></div>            <script type=\"text/javascript\">                require([\"plotly\"], function(Plotly) {                    window.PLOTLYENV=window.PLOTLYENV || {};                                    if (document.getElementById(\"b9d7e0ae-e8fe-4f42-a5c7-0705f81d3c60\")) {                    Plotly.newPlot(                        \"b9d7e0ae-e8fe-4f42-a5c7-0705f81d3c60\",                        [{\"lat\": [35.5675956, 35.5676306, 35.5677218, 35.5677522, 35.5678222, 35.5678703, 35.5679118, 35.5679782, 35.5680488, 35.568112, 35.568699, 35.5689755, 35.5690585, 35.5690585, 35.5690743, 35.5692139, 35.5692139, 35.5679081, 35.5679081, 35.5673494, 35.5673494, 35.5679081, 35.5679081, 35.5679882, 35.5680303, 35.5680303, 35.5679882, 35.5679081, 35.5679081, 35.5692139, 35.5692139, 35.569436, 35.5694585, 35.5694643, 35.5694643, 35.5694585, 35.5694585, 35.5694643, 35.5694643, 35.5685272, 35.5683425, 35.5680671, 35.5680671, 35.5683425, 35.5685272, 35.5694643, 35.5694643, 35.5694585, 35.569436, 35.5692139, 35.5692139, 35.5690743, 35.5690585, 35.5690585, 35.5689755, 35.568699, 35.568112, 35.5680488, 35.5679782, 35.5679118, 35.5678703, 35.5678222, 35.5677522, 35.5677218, 35.5676306, 35.5675956, 35.5675956, 35.5675288, 35.5674454, 35.5673623, 35.5672457, 35.5670056, 35.5670056, 35.5669838, 35.5669484, 35.566949, 35.5670259, 35.5670259, 35.566949, 35.5669484, 35.5669838, 35.5670056, 35.5670056, 35.5672457, 35.5673623, 35.5674454, 35.5675288, 35.5675956, 35.5675956, 35.5676306, 35.5677218, 35.5677522, 35.5678222, 35.5678703, 35.5679118, 35.5679782, 35.5680488, 35.568112, 35.568699, 35.5689755, 35.5690585, 35.5690585, 35.5690743, 35.5692139, 35.5692139, 35.569436, 35.5694585, 35.5694643, 35.5694643, 35.5685272, 35.5683425, 35.5680671, 35.5680671, 35.568091, 35.5681697, 35.5682404, 35.5685033, 35.5686805, 35.5687272, 35.5687352, 35.5687346, 35.5687346, 35.5686477, 35.568559, 35.5685287, 35.5685287, 35.5687632, 35.5689448, 35.5692108, 35.569413, 35.5697979, 35.569993, 35.570172, 35.570484, 35.570484, 35.570746, 35.5719066, 35.5720357, 35.5724582, 35.5733426, 35.5734473, 35.5734473, 35.5734531, 35.5734597, 35.5734873, 35.5735146, 35.5735361, 35.5735574, 35.5735842, 35.5735891, 35.5736109, 35.5736492, 35.5737279, 35.5737791, 35.5738116, 35.5738336, 35.5738514, 35.5738605, 35.5738605, 35.5738694, 35.5738914, 35.5739165, 35.5739469, 35.5739801, 35.5740114, 35.5740631, 35.5741122, 35.5741529, 35.5742087, 35.5743119, 35.5743456, 35.5743456, 35.5742387, 35.57407, 35.5738449, 35.5738449, 35.5738204, 35.5737353, 35.5736329, 35.573579, 35.5735569, 35.5735569, 35.5734364, 35.5733725, 35.5732536, 35.5731211, 35.5728128, 35.57261, 35.5722063, 35.5720531, 35.5719467, 35.5718077, 35.5717087, 35.5714447, 35.5714105, 35.5714105, 35.5708791, 35.5707195, 35.5706088, 35.5704823, 35.5703933, 35.5703564, 35.5703457, 35.5703457, 35.5703334, 35.5703003, 35.5703133, 35.5703613, 35.5703613, 35.5703133, 35.5703003, 35.5703334, 35.5703457, 35.5703457, 35.5704113, 35.5705646, 35.5706892, 35.5707594, 35.5715509, 35.571618, 35.571618, 35.5716792, 35.5719181, 35.5720624, 35.572149, 35.5721787, 35.5721787, 35.572149, 35.5720624, 35.5719181, 35.5716792, 35.571618, 35.571618, 35.57167, 35.5721171, 35.5721171, 35.5727038, 35.5727038, 35.5728523, 35.5731944, 35.5733908, 35.5734961, 35.5735569, 35.5735569, 35.5734364, 35.5733725, 35.5732536, 35.5731211, 35.5728128, 35.57261, 35.5722063, 35.5720531, 35.5719467, 35.5718077, 35.5717087, 35.5714447, 35.5714105, 35.5714105, 35.5714592, 35.571851, 35.5719352, 35.572086, 35.5722324, 35.5722324, 35.572086, 35.5719352, 35.571851, 35.5714592, 35.5714105, 35.5714105, 35.5708791, 35.5707195, 35.5706088, 35.5704823, 35.5703933, 35.5703564, 35.5703457, 35.5703457, 35.5703564, 35.5703933, 35.5704823, 35.5706088, 35.5707195, 35.5708791, 35.5714105, 35.5714105, 35.5714447, 35.5717087, 35.5718077, 35.5719467, 35.5720531, 35.5722063, 35.57261, 35.5728128, 35.5731211, 35.5732536, 35.5733725, 35.5734364, 35.5735569, 35.5735569, 35.573579, 35.5736329, 35.5737353, 35.5738204, 35.5738449, 35.5738449, 35.57389, 35.5740014, 35.5741428, 35.5743933, 35.5744372, 35.5744372, 35.5743824, 35.5742914, 35.5741384, 35.5740336, 35.573973, 35.5739441, 35.5739386, 35.5739386, 35.574214, 35.574214, 35.5740806, 35.5740535, 35.5740535, 35.5739954, 35.5739818, 35.5739818, 35.5739954, 35.5740535, 35.5740535, 35.5744634, 35.5744634, 35.5744443, 35.5744116, 35.574214, 35.574214, 35.5740806, 35.5740535, 35.5740535, 35.574028, 35.5739972, 35.5738934, 35.5734559, 35.5732776, 35.5729574, 35.5727314, 35.5726118, 35.5722823, 35.5720539, 35.5718735, 35.5718735, 35.5718941, 35.572018, 35.5720405, 35.5720336, 35.5720336, 35.5720327, 35.572029, 35.5721126, 35.572179, 35.5722071, 35.5722071, 35.5722511, 35.5722608, 35.5723568, 35.5724576, 35.5725766, 35.5728138, 35.5730574, 35.5730574, 35.5730571, 35.5730476, 35.5730476, 35.5730571, 35.5730574, 35.5730574, 35.5732283, 35.5733957, 35.5735709, 35.5736897, 35.5737326, 35.5738136, 35.5738136, 35.573929, 35.574065, 35.5741585, 35.5742045, 35.5742474, 35.5742474, 35.5746579, 35.574994, 35.5751701, 35.575185, 35.575185, 35.5751509, 35.5750519, 35.5750519, 35.5751509, 35.575185, 35.575185, 35.5755519, 35.5757671, 35.5758702, 35.575923, 35.575979, 35.575979, 35.5759256, 35.575386, 35.5752393, 35.5750819, 35.5749367, 35.5745884, 35.5744558, 35.5743985, 35.5743985, 35.574103, 35.5739818, 35.5739818, 35.5739954, 35.5740535, 35.5740535, 35.5740806, 35.574214, 35.574214, 35.5739386, 35.5739386, 35.5739441, 35.573973, 35.5740336, 35.5741384, 35.5742914, 35.5743824, 35.5744372, 35.5744372, 35.5743933, 35.5741428, 35.5740014, 35.57389, 35.5738449, 35.5738449, 35.5737892, 35.5737545, 35.5736874, 35.5736081, 35.5735018, 35.5734456, 35.5734202, 35.5734202, 35.5733541, 35.5732731, 35.5731518, 35.5730207, 35.5729766, 35.5729766, 35.5730207, 35.5731518, 35.5732731, 35.5733541, 35.5734202, 35.5734202, 35.5734456, 35.5735018, 35.5736081, 35.5736874, 35.5737545, 35.5737892, 35.5738449, 35.5738449, 35.5738204, 35.5737353, 35.5736329, 35.573579, 35.5735569, 35.5735569, 35.5734961, 35.5733908, 35.5731944, 35.5728523, 35.5727038, 35.5727038, 35.5721171, 35.5721171, 35.57167, 35.571618, 35.571618, 35.5716792, 35.5719181, 35.5720624, 35.572149, 35.5721787, 35.5721787, 35.5722176, 35.5727274, 35.5729766, 35.5729766, 35.5727274, 35.5722176, 35.5721787, 35.5721787, 35.5721312, 35.5719167, 35.571724, 35.5707295, 35.5706845, 35.5706845, 35.5706326, 35.570554, 35.5703781, 35.5702562, 35.5702227, 35.5702227, 35.5701871, 35.5701717, 35.5700451, 35.5698197, 35.5697471, 35.5697011, 35.5697011, 35.5696339, 35.569225, 35.5682083, 35.568139, 35.568139, 35.5682083, 35.569225, 35.5696339, 35.5697011, 35.5697011, 35.5697471, 35.5698197, 35.5700451, 35.5701717, 35.5701871, 35.5702227, 35.5702227, 35.570155, 35.5694491, 35.5694491, 35.5694787, 35.5697, 35.569923, 35.5699905, 35.57004, 35.57004, 35.569975, 35.5699388, 35.5698645, 35.5697497, 35.569653, 35.5695668, 35.5687103, 35.5685803, 35.5684931, 35.5682114, 35.568081, 35.5677659, 35.567541, 35.5673849, 35.5672076, 35.567095, 35.5669112, 35.5668394, 35.5667274, 35.5666292, 35.5665036, 35.5664715, 35.5664715, 35.5665398, 35.5680563, 35.568139, 35.568139, 35.568169, 35.568308, 35.568423, 35.5685874, 35.5687046, 35.5688705, 35.5689908, 35.5694491, 35.5694491, 35.5694787, 35.5697, 35.569923, 35.5699905, 35.57004, 35.57004, 35.5701059, 35.5702949, 35.570507, 35.5706223, 35.5706845, 35.5706845, 35.5707295, 35.571724, 35.5719167, 35.5721312, 35.5721787, 35.5721787, 35.5722176, 35.5727274, 35.5729766, 35.5729766, 35.5730207, 35.5731518, 35.5732731, 35.5733541, 35.5734202, 35.5734202, 35.5734456, 35.5735018, 35.5736081, 35.5736874, 35.5737545, 35.5737892, 35.5738449, 35.5738449, 35.57407, 35.5742387, 35.5743456, 35.5743456, 35.5744584, 35.5746013, 35.5747568, 35.5748836, 35.5750203, 35.5751097, 35.5752013, 35.5753431, 35.5755088, 35.5757532, 35.5758095, 35.575882, 35.575882, 35.5759811, 35.5759903, 35.5759903, 35.5758697, 35.5757513, 35.5756387, 35.5755413, 35.5754469, 35.5753765, 35.5753072, 35.5752049, 35.5749879, 35.574981, 35.574885, 35.574885, 35.5748004, 35.5744968, 35.5744372, 35.5744372, 35.5744835, 35.5747186, 35.5750115, 35.5750115, 35.5751411, 35.5751929, 35.5751929, 35.5751411, 35.5750115, 35.5750115, 35.5748969, 35.5747631, 35.574645, 35.57453, 35.5740239, 35.5739386, 35.5739386, 35.5738752, 35.5737989, 35.5731317, 35.5729622, 35.5728439, 35.572527, 35.5723934, 35.5723934, 35.572527, 35.5728439, 35.5729622, 35.5731317, 35.5737989, 35.5738752, 35.5739386, 35.5739386, 35.574214, 35.574214, 35.5740806, 35.5740535, 35.5740535, 35.574028, 35.5739972, 35.5738934, 35.5734559, 35.5732776, 35.5729574, 35.5727314, 35.5726118, 35.5722823, 35.5720539, 35.5718735, 35.5718735, 35.5718941, 35.572018, 35.5720405, 35.5720336, 35.5720336, 35.5721042, 35.5722152, 35.572351, 35.5724724, 35.5727863, 35.5729304, 35.573194, 35.5734647, 35.5736117, 35.5738937, 35.5739818, 35.5739818, 35.574103, 35.5743985, 35.5743985, 35.5744558, 35.5745884, 35.5749367, 35.5750819, 35.5752393, 35.575386, 35.5759256, 35.575979, 35.575979, 35.5759256, 35.575386, 35.5752393, 35.5750819, 35.5749367, 35.5745884, 35.5744558, 35.5743985, 35.5743985, 35.574405, 35.5744634, 35.5744634, 35.5744443, 35.5744116, 35.574214, 35.574214, 35.5739386, 35.5739386, 35.5739441, 35.573973, 35.5740336, 35.5741384, 35.5742914, 35.5743824, 35.5744372, 35.5744372, 35.5743933, 35.5741428, 35.5740014, 35.57389, 35.5738449, 35.5738449, 35.5738204, 35.5737353, 35.5736329, 35.573579, 35.5735569, 35.5735569, 35.5734961, 35.5733908, 35.5731944, 35.5728523, 35.5727038, 35.5727038, 35.5721171, 35.5721171, 35.57167, 35.571618, 35.571618, 35.5716792, 35.5719181, 35.5720624, 35.572149, 35.5721787, 35.5721787, 35.5722176, 35.5727274, 35.5729766, 35.5729766, 35.5730207, 35.5731518, 35.5732731, 35.5733541, 35.5734202, 35.5734202, 35.5734456, 35.5735018, 35.5736081, 35.5736874, 35.5737545, 35.5737892, 35.5738449], \"line\": {\"color\": \"grey\", \"width\": 4.5}, \"lon\": [-78.8089909, -78.8089262, -78.8087575, -78.8086577, -78.8083489, -78.8082478, -78.8081972, -78.8081524, -78.8081301, -78.8081305, -78.8082866, -78.8083598, -78.8083818, -78.8083818, -78.8082864, -78.8074274, -78.8074274, -78.8070709, -78.8070709, -78.8069184, -78.8069184, -78.8070709, -78.8070709, -78.8066112, -78.8062902, -78.8062902, -78.8066112, -78.8070709, -78.8070709, -78.8074274, -78.8074274, -78.8060612, -78.8059058, -78.8057714, -78.8057714, -78.8052122, -78.8052122, -78.8057714, -78.8057714, -78.8057913, -78.8057862, -78.8056218, -78.8056218, -78.8057862, -78.8057913, -78.8057714, -78.8057714, -78.8059058, -78.8060612, -78.8074274, -78.8074274, -78.8082864, -78.8083818, -78.8083818, -78.8083598, -78.8082866, -78.8081305, -78.8081301, -78.8081524, -78.8081972, -78.8082478, -78.8083489, -78.8086577, -78.8087575, -78.8089262, -78.8089909, -78.8089909, -78.808946, -78.8089079, -78.8088961, -78.8089109, -78.808993, -78.808993, -78.8089, -78.8087493, -78.8086293, -78.8082313, -78.8082313, -78.8086293, -78.8087493, -78.8089, -78.808993, -78.808993, -78.8089109, -78.8088961, -78.8089079, -78.808946, -78.8089909, -78.8089909, -78.8089262, -78.8087575, -78.8086577, -78.8083489, -78.8082478, -78.8081972, -78.8081524, -78.8081301, -78.8081305, -78.8082866, -78.8083598, -78.8083818, -78.8083818, -78.8082864, -78.8074274, -78.8074274, -78.8060612, -78.8059058, -78.8057714, -78.8057714, -78.8057913, -78.8057862, -78.8056218, -78.8056218, -78.8055739, -78.8053733, -78.8051251, -78.8040726, -78.8033239, -78.8030229, -78.8027938, -78.8025767, -78.8025767, -78.801832, -78.8012082, -78.8010445, -78.8010445, -78.8009264, -78.800835, -78.800746, -78.800692, -78.8006096, -78.800608, -78.800603, -78.800594, -78.800594, -78.8005945, -78.8005967, -78.8005969, -78.8005977, -78.8005917, -78.800591, -78.800591, -78.8007184, -78.8007777, -78.8011038, -78.8014149, -78.8016596, -78.8019128, -78.8022326, -78.8022865, -78.8025242, -78.8029947, -78.8038795, -78.8044639, -78.8048452, -78.8050929, -78.805294, -78.8054067, -78.8054067, -78.805518, -78.8057286, -78.805919, -78.8061059, -78.806291, -78.8064474, -78.8066628, -78.8068562, -78.8070002, -78.8071827, -78.8074797, -78.8075693, -78.8075693, -78.8076371, -78.8077365, -78.8078667, -78.8078667, -78.807797, -78.8075547, -78.8072315, -78.807026, -78.8069416, -78.8069416, -78.8064213, -78.8062913, -78.8061595, -78.8061194, -78.8060692, -78.8059952, -78.8056016, -78.8055523, -78.805569, -78.805632, -78.8057366, -78.8060651, -78.8061076, -78.8061076, -78.8067943, -78.8070525, -78.8072831, -78.8075944, -78.8079187, -78.8080813, -78.808151, -78.808151, -78.8082278, -78.8085735, -78.8091336, -78.8093078, -78.8093078, -78.8091336, -78.8085735, -78.8082278, -78.808151, -78.808151, -78.8081701, -78.8082143, -78.8082763, -78.8083302, -78.809139, -78.8092075, -78.8092075, -78.8092694, -78.8095112, -78.8097492, -78.8099112, -78.8099667, -78.8099667, -78.8099112, -78.8097492, -78.8095112, -78.8092694, -78.8092075, -78.8092075, -78.8091311, -78.8084741, -78.8084741, -78.8076113, -78.8076113, -78.8074184, -78.8071094, -78.8070015, -78.8069635, -78.8069416, -78.8069416, -78.8064213, -78.8062913, -78.8061595, -78.8061194, -78.8060692, -78.8059952, -78.8056016, -78.8055523, -78.805569, -78.805632, -78.8057366, -78.8060651, -78.8061076, -78.8061076, -78.8061636, -78.806615, -78.8066817, -78.8067378, -78.8068354, -78.8068354, -78.8067378, -78.8066817, -78.806615, -78.8061636, -78.8061076, -78.8061076, -78.8067943, -78.8070525, -78.8072831, -78.8075944, -78.8079187, -78.8080813, -78.808151, -78.808151, -78.8080813, -78.8079187, -78.8075944, -78.8072831, -78.8070525, -78.8067943, -78.8061076, -78.8061076, -78.8060651, -78.8057366, -78.805632, -78.805569, -78.8055523, -78.8056016, -78.8059952, -78.8060692, -78.8061194, -78.8061595, -78.8062913, -78.8064213, -78.8069416, -78.8069416, -78.807026, -78.8072315, -78.8075547, -78.807797, -78.8078667, -78.8078667, -78.8079728, -78.8082457, -78.8085596, -78.8090221, -78.8091032, -78.8091032, -78.8091466, -78.8092186, -78.8093881, -78.8095571, -78.8098024, -78.8103453, -78.810449, -78.810449, -78.8113316, -78.8113316, -78.811979, -78.8121107, -78.8121107, -78.8129821, -78.8131853, -78.8131853, -78.8129821, -78.8121107, -78.8121107, -78.812128, -78.812128, -78.8120305, -78.8118631, -78.8113316, -78.8113316, -78.811979, -78.8121107, -78.8121107, -78.812113, -78.8121189, -78.812139, -78.8123675, -78.8124114, -78.8123995, -78.8124158, -78.8124499, -78.8126676, -78.8128297, -78.8129339, -78.8129339, -78.8130097, -78.813467, -78.8136691, -78.8138161, -78.8138161, -78.8138718, -78.814098, -78.8145684, -78.814823, -78.8148838, -78.8148838, -78.8149429, -78.814956, -78.815036, -78.8150872, -78.8151185, -78.8151034, -78.8150872, -78.8150872, -78.8150058, -78.8143864, -78.8143864, -78.8150058, -78.8150872, -78.8150872, -78.8151015, -78.8151584, -78.8152729, -78.8153566, -78.8153854, -78.8154399, -78.8154399, -78.8154666, -78.8154678, -78.8154343, -78.815395, -78.8153584, -78.8153584, -78.8149573, -78.8146184, -78.8144508, -78.8144414, -78.8144414, -78.8143794, -78.8141912, -78.8141912, -78.8143794, -78.8144414, -78.8144414, -78.8142098, -78.8140831, -78.8139894, -78.8139163, -78.8138387, -78.8138387, -78.8137961, -78.8133662, -78.8132533, -78.8131809, -78.8131609, -78.8131425, -78.8131357, -78.8131327, -78.8131327, -78.8131313, -78.8131853, -78.8131853, -78.8129821, -78.8121107, -78.8121107, -78.811979, -78.8113316, -78.8113316, -78.810449, -78.810449, -78.8103453, -78.8098024, -78.8095571, -78.8093881, -78.8092186, -78.8091466, -78.8091032, -78.8091032, -78.8090221, -78.8085596, -78.8082457, -78.8079728, -78.8078667, -78.8078667, -78.8078999, -78.8079206, -78.8079608, -78.8080278, -78.8081733, -78.8083434, -78.8084202, -78.8084202, -78.8086842, -78.8089743, -78.8092218, -78.8093826, -78.8094367, -78.8094367, -78.8093826, -78.8092218, -78.8089743, -78.8086842, -78.8084202, -78.8084202, -78.8083434, -78.8081733, -78.8080278, -78.8079608, -78.8079206, -78.8078999, -78.8078667, -78.8078667, -78.807797, -78.8075547, -78.8072315, -78.807026, -78.8069416, -78.8069416, -78.8069635, -78.8070015, -78.8071094, -78.8074184, -78.8076113, -78.8076113, -78.8084741, -78.8084741, -78.8091311, -78.8092075, -78.8092075, -78.8092694, -78.8095112, -78.8097492, -78.8099112, -78.8099667, -78.8099667, -78.8099443, -78.8096503, -78.8094367, -78.8094367, -78.8096503, -78.8099443, -78.8099667, -78.8099667, -78.8100125, -78.8102194, -78.8104852, -78.812221, -78.8122995, -78.8122995, -78.8123895, -78.8125258, -78.8128322, -78.8131244, -78.8132046, -78.8132046, -78.8132983, -78.8133389, -78.8135851, -78.8139415, -78.8140532, -78.8141241, -78.8141241, -78.8140689, -78.813733, -78.8131413, -78.813101, -78.813101, -78.8131413, -78.813733, -78.8140689, -78.8141241, -78.8141241, -78.8140532, -78.8139415, -78.8135851, -78.8133389, -78.8132983, -78.8132046, -78.8132046, -78.8131627, -78.8127255, -78.8127255, -78.8126568, -78.812144, -78.81179, -78.8117086, -78.811649, -78.811649, -78.8115591, -78.8115091, -78.8114172, -78.8113384, -78.811304, -78.8112847, -78.8113299, -78.8113106, -78.8112715, -78.811118, -78.811065, -78.8110191, -78.8109834, -78.8109974, -78.8110578, -78.811111, -78.8112608, -78.811355, -78.8115268, -78.8117489, -78.8120781, -78.8121623, -78.8121623, -78.8122008, -78.8130545, -78.813101, -78.813101, -78.8130235, -78.812664, -78.8125228, -78.8124199, -78.8123871, -78.8123916, -78.8124354, -78.8127255, -78.8127255, -78.8126568, -78.812144, -78.81179, -78.8117086, -78.811649, -78.811649, -78.8117276, -78.8119531, -78.812157, -78.8122495, -78.8122995, -78.8122995, -78.812221, -78.8104852, -78.8102194, -78.8100125, -78.8099667, -78.8099667, -78.8099443, -78.8096503, -78.8094367, -78.8094367, -78.8093826, -78.8092218, -78.8089743, -78.8086842, -78.8084202, -78.8084202, -78.8083434, -78.8081733, -78.8080278, -78.8079608, -78.8079206, -78.8078999, -78.8078667, -78.8078667, -78.8077365, -78.8076371, -78.8075693, -78.8075693, -78.8075015, -78.8074221, -78.8073476, -78.8073009, -78.8072609, -78.8072371, -78.8072186, -78.807195, -78.8071705, -78.8071352, -78.8071264, -78.807115, -78.807115, -78.8079689, -78.8080484, -78.8080484, -78.8080691, -78.8080991, -78.8081404, -78.8081856, -78.8082358, -78.8082778, -78.8083265, -78.80841, -78.8085963, -78.8086024, -78.808687, -78.808687, -78.8087667, -78.809048, -78.8091032, -78.8091032, -78.8091726, -78.8095246, -78.8099298, -78.8099298, -78.8100721, -78.8102444, -78.8102444, -78.8100721, -78.8099298, -78.8099298, -78.8100837, -78.8102316, -78.8103276, -78.8103634, -78.8104367, -78.810449, -78.810449, -78.8104634, -78.8104807, -78.8108203, -78.8108753, -78.8108946, -78.8108959, -78.8109519, -78.8109519, -78.8108959, -78.8108946, -78.8108753, -78.8108203, -78.8104807, -78.8104634, -78.810449, -78.810449, -78.8113316, -78.8113316, -78.811979, -78.8121107, -78.8121107, -78.812113, -78.8121189, -78.812139, -78.8123675, -78.8124114, -78.8123995, -78.8124158, -78.8124499, -78.8126676, -78.8128297, -78.8129339, -78.8129339, -78.8130097, -78.813467, -78.8136691, -78.8138161, -78.8138161, -78.8138101, -78.8138006, -78.8137716, -78.8137188, -78.8134952, -78.8134431, -78.8134138, -78.8133868, -78.8133663, -78.8132284, -78.8131853, -78.8131853, -78.8131313, -78.8131327, -78.8131327, -78.8131357, -78.8131425, -78.8131609, -78.8131809, -78.8132533, -78.8133662, -78.8137961, -78.8138387, -78.8138387, -78.8137961, -78.8133662, -78.8132533, -78.8131809, -78.8131609, -78.8131425, -78.8131357, -78.8131327, -78.8131327, -78.813032, -78.812128, -78.812128, -78.8120305, -78.8118631, -78.8113316, -78.8113316, -78.810449, -78.810449, -78.8103453, -78.8098024, -78.8095571, -78.8093881, -78.8092186, -78.8091466, -78.8091032, -78.8091032, -78.8090221, -78.8085596, -78.8082457, -78.8079728, -78.8078667, -78.8078667, -78.807797, -78.8075547, -78.8072315, -78.807026, -78.8069416, -78.8069416, -78.8069635, -78.8070015, -78.8071094, -78.8074184, -78.8076113, -78.8076113, -78.8084741, -78.8084741, -78.8091311, -78.8092075, -78.8092075, -78.8092694, -78.8095112, -78.8097492, -78.8099112, -78.8099667, -78.8099667, -78.8099443, -78.8096503, -78.8094367, -78.8094367, -78.8093826, -78.8092218, -78.8089743, -78.8086842, -78.8084202, -78.8084202, -78.8083434, -78.8081733, -78.8080278, -78.8079608, -78.8079206, -78.8078999, -78.8078667], \"marker\": {\"size\": 10}, \"mode\": \"lines\", \"name\": \"Path\", \"type\": \"scattermapbox\"}, {\"lat\": [35.5675956], \"lon\": [-78.8089909], \"marker\": {\"color\": \"red\", \"size\": 12}, \"mode\": \"markers\", \"name\": \"Source\", \"type\": \"scattermapbox\"}, {\"lat\": [35.5675956], \"lon\": [-78.8089909], \"marker\": {\"color\": \"green\", \"size\": 12}, \"mode\": \"markers\", \"name\": \"Destination\", \"type\": \"scattermapbox\"}],                        {\"mapbox\": {\"center\": {\"lat\": 35.57201805348259, \"lon\": -78.80935942300995}, \"style\": \"carto-darkmatter\", \"zoom\": 13}, \"margin\": {\"b\": 0, \"l\": 0, \"r\": 0, \"t\": 0}, \"template\": {\"data\": {\"bar\": [{\"error_x\": {\"color\": \"#2a3f5f\"}, \"error_y\": {\"color\": \"#2a3f5f\"}, \"marker\": {\"line\": {\"color\": \"#E5ECF6\", \"width\": 0.5}}, \"type\": \"bar\"}], \"barpolar\": [{\"marker\": {\"line\": {\"color\": \"#E5ECF6\", \"width\": 0.5}}, \"type\": \"barpolar\"}], \"carpet\": [{\"aaxis\": {\"endlinecolor\": \"#2a3f5f\", \"gridcolor\": \"white\", \"linecolor\": \"white\", \"minorgridcolor\": \"white\", \"startlinecolor\": \"#2a3f5f\"}, \"baxis\": {\"endlinecolor\": \"#2a3f5f\", \"gridcolor\": \"white\", \"linecolor\": \"white\", \"minorgridcolor\": \"white\", \"startlinecolor\": \"#2a3f5f\"}, \"type\": \"carpet\"}], \"choropleth\": [{\"colorbar\": {\"outlinewidth\": 0, \"ticks\": \"\"}, \"type\": \"choropleth\"}], \"contour\": [{\"colorbar\": {\"outlinewidth\": 0, \"ticks\": \"\"}, \"colorscale\": [[0.0, \"#0d0887\"], [0.1111111111111111, \"#46039f\"], [0.2222222222222222, \"#7201a8\"], [0.3333333333333333, \"#9c179e\"], [0.4444444444444444, \"#bd3786\"], [0.5555555555555556, \"#d8576b\"], [0.6666666666666666, \"#ed7953\"], [0.7777777777777778, \"#fb9f3a\"], [0.8888888888888888, \"#fdca26\"], [1.0, \"#f0f921\"]], \"type\": \"contour\"}], \"contourcarpet\": [{\"colorbar\": {\"outlinewidth\": 0, \"ticks\": \"\"}, \"type\": \"contourcarpet\"}], \"heatmap\": [{\"colorbar\": {\"outlinewidth\": 0, \"ticks\": \"\"}, \"colorscale\": [[0.0, \"#0d0887\"], [0.1111111111111111, \"#46039f\"], [0.2222222222222222, \"#7201a8\"], [0.3333333333333333, \"#9c179e\"], [0.4444444444444444, \"#bd3786\"], [0.5555555555555556, \"#d8576b\"], [0.6666666666666666, \"#ed7953\"], [0.7777777777777778, \"#fb9f3a\"], [0.8888888888888888, \"#fdca26\"], [1.0, \"#f0f921\"]], \"type\": \"heatmap\"}], \"heatmapgl\": [{\"colorbar\": {\"outlinewidth\": 0, \"ticks\": \"\"}, \"colorscale\": [[0.0, \"#0d0887\"], [0.1111111111111111, \"#46039f\"], [0.2222222222222222, \"#7201a8\"], [0.3333333333333333, \"#9c179e\"], [0.4444444444444444, \"#bd3786\"], [0.5555555555555556, \"#d8576b\"], [0.6666666666666666, \"#ed7953\"], [0.7777777777777778, \"#fb9f3a\"], [0.8888888888888888, \"#fdca26\"], [1.0, \"#f0f921\"]], \"type\": \"heatmapgl\"}], \"histogram\": [{\"marker\": {\"colorbar\": {\"outlinewidth\": 0, \"ticks\": \"\"}}, \"type\": \"histogram\"}], \"histogram2d\": [{\"colorbar\": {\"outlinewidth\": 0, \"ticks\": \"\"}, \"colorscale\": [[0.0, \"#0d0887\"], [0.1111111111111111, \"#46039f\"], [0.2222222222222222, \"#7201a8\"], [0.3333333333333333, \"#9c179e\"], [0.4444444444444444, \"#bd3786\"], [0.5555555555555556, \"#d8576b\"], [0.6666666666666666, \"#ed7953\"], [0.7777777777777778, \"#fb9f3a\"], [0.8888888888888888, \"#fdca26\"], [1.0, \"#f0f921\"]], \"type\": \"histogram2d\"}], \"histogram2dcontour\": [{\"colorbar\": {\"outlinewidth\": 0, \"ticks\": \"\"}, \"colorscale\": [[0.0, \"#0d0887\"], [0.1111111111111111, \"#46039f\"], [0.2222222222222222, \"#7201a8\"], [0.3333333333333333, \"#9c179e\"], [0.4444444444444444, \"#bd3786\"], [0.5555555555555556, \"#d8576b\"], [0.6666666666666666, \"#ed7953\"], [0.7777777777777778, \"#fb9f3a\"], [0.8888888888888888, \"#fdca26\"], [1.0, \"#f0f921\"]], \"type\": \"histogram2dcontour\"}], \"mesh3d\": [{\"colorbar\": {\"outlinewidth\": 0, \"ticks\": \"\"}, \"type\": \"mesh3d\"}], \"parcoords\": [{\"line\": {\"colorbar\": {\"outlinewidth\": 0, \"ticks\": \"\"}}, \"type\": \"parcoords\"}], \"pie\": [{\"automargin\": true, \"type\": \"pie\"}], \"scatter\": [{\"marker\": {\"colorbar\": {\"outlinewidth\": 0, \"ticks\": \"\"}}, \"type\": \"scatter\"}], \"scatter3d\": [{\"line\": {\"colorbar\": {\"outlinewidth\": 0, \"ticks\": \"\"}}, \"marker\": {\"colorbar\": {\"outlinewidth\": 0, \"ticks\": \"\"}}, \"type\": \"scatter3d\"}], \"scattercarpet\": [{\"marker\": {\"colorbar\": {\"outlinewidth\": 0, \"ticks\": \"\"}}, \"type\": \"scattercarpet\"}], \"scattergeo\": [{\"marker\": {\"colorbar\": {\"outlinewidth\": 0, \"ticks\": \"\"}}, \"type\": \"scattergeo\"}], \"scattergl\": [{\"marker\": {\"colorbar\": {\"outlinewidth\": 0, \"ticks\": \"\"}}, \"type\": \"scattergl\"}], \"scattermapbox\": [{\"marker\": {\"colorbar\": {\"outlinewidth\": 0, \"ticks\": \"\"}}, \"type\": \"scattermapbox\"}], \"scatterpolar\": [{\"marker\": {\"colorbar\": {\"outlinewidth\": 0, \"ticks\": \"\"}}, \"type\": \"scatterpolar\"}], \"scatterpolargl\": [{\"marker\": {\"colorbar\": {\"outlinewidth\": 0, \"ticks\": \"\"}}, \"type\": \"scatterpolargl\"}], \"scatterternary\": [{\"marker\": {\"colorbar\": {\"outlinewidth\": 0, \"ticks\": \"\"}}, \"type\": \"scatterternary\"}], \"surface\": [{\"colorbar\": {\"outlinewidth\": 0, \"ticks\": \"\"}, \"colorscale\": [[0.0, \"#0d0887\"], [0.1111111111111111, \"#46039f\"], [0.2222222222222222, \"#7201a8\"], [0.3333333333333333, \"#9c179e\"], [0.4444444444444444, \"#bd3786\"], [0.5555555555555556, \"#d8576b\"], [0.6666666666666666, \"#ed7953\"], [0.7777777777777778, \"#fb9f3a\"], [0.8888888888888888, \"#fdca26\"], [1.0, \"#f0f921\"]], \"type\": \"surface\"}], \"table\": [{\"cells\": {\"fill\": {\"color\": \"#EBF0F8\"}, \"line\": {\"color\": \"white\"}}, \"header\": {\"fill\": {\"color\": \"#C8D4E3\"}, \"line\": {\"color\": \"white\"}}, \"type\": \"table\"}]}, \"layout\": {\"annotationdefaults\": {\"arrowcolor\": \"#2a3f5f\", \"arrowhead\": 0, \"arrowwidth\": 1}, \"autotypenumbers\": \"strict\", \"coloraxis\": {\"colorbar\": {\"outlinewidth\": 0, \"ticks\": \"\"}}, \"colorscale\": {\"diverging\": [[0, \"#8e0152\"], [0.1, \"#c51b7d\"], [0.2, \"#de77ae\"], [0.3, \"#f1b6da\"], [0.4, \"#fde0ef\"], [0.5, \"#f7f7f7\"], [0.6, \"#e6f5d0\"], [0.7, \"#b8e186\"], [0.8, \"#7fbc41\"], [0.9, \"#4d9221\"], [1, \"#276419\"]], \"sequential\": [[0.0, \"#0d0887\"], [0.1111111111111111, \"#46039f\"], [0.2222222222222222, \"#7201a8\"], [0.3333333333333333, \"#9c179e\"], [0.4444444444444444, \"#bd3786\"], [0.5555555555555556, \"#d8576b\"], [0.6666666666666666, \"#ed7953\"], [0.7777777777777778, \"#fb9f3a\"], [0.8888888888888888, \"#fdca26\"], [1.0, \"#f0f921\"]], \"sequentialminus\": [[0.0, \"#0d0887\"], [0.1111111111111111, \"#46039f\"], [0.2222222222222222, \"#7201a8\"], [0.3333333333333333, \"#9c179e\"], [0.4444444444444444, \"#bd3786\"], [0.5555555555555556, \"#d8576b\"], [0.6666666666666666, \"#ed7953\"], [0.7777777777777778, \"#fb9f3a\"], [0.8888888888888888, \"#fdca26\"], [1.0, \"#f0f921\"]]}, \"colorway\": [\"#636efa\", \"#EF553B\", \"#00cc96\", \"#ab63fa\", \"#FFA15A\", \"#19d3f3\", \"#FF6692\", \"#B6E880\", \"#FF97FF\", \"#FECB52\"], \"font\": {\"color\": \"#2a3f5f\"}, \"geo\": {\"bgcolor\": \"white\", \"lakecolor\": \"white\", \"landcolor\": \"#E5ECF6\", \"showlakes\": true, \"showland\": true, \"subunitcolor\": \"white\"}, \"hoverlabel\": {\"align\": \"left\"}, \"hovermode\": \"closest\", \"mapbox\": {\"style\": \"light\"}, \"paper_bgcolor\": \"white\", \"plot_bgcolor\": \"#E5ECF6\", \"polar\": {\"angularaxis\": {\"gridcolor\": \"white\", \"linecolor\": \"white\", \"ticks\": \"\"}, \"bgcolor\": \"#E5ECF6\", \"radialaxis\": {\"gridcolor\": \"white\", \"linecolor\": \"white\", \"ticks\": \"\"}}, \"scene\": {\"xaxis\": {\"backgroundcolor\": \"#E5ECF6\", \"gridcolor\": \"white\", \"gridwidth\": 2, \"linecolor\": \"white\", \"showbackground\": true, \"ticks\": \"\", \"zerolinecolor\": \"white\"}, \"yaxis\": {\"backgroundcolor\": \"#E5ECF6\", \"gridcolor\": \"white\", \"gridwidth\": 2, \"linecolor\": \"white\", \"showbackground\": true, \"ticks\": \"\", \"zerolinecolor\": \"white\"}, \"zaxis\": {\"backgroundcolor\": \"#E5ECF6\", \"gridcolor\": \"white\", \"gridwidth\": 2, \"linecolor\": \"white\", \"showbackground\": true, \"ticks\": \"\", \"zerolinecolor\": \"white\"}}, \"shapedefaults\": {\"line\": {\"color\": \"#2a3f5f\"}}, \"ternary\": {\"aaxis\": {\"gridcolor\": \"white\", \"linecolor\": \"white\", \"ticks\": \"\"}, \"baxis\": {\"gridcolor\": \"white\", \"linecolor\": \"white\", \"ticks\": \"\"}, \"bgcolor\": \"#E5ECF6\", \"caxis\": {\"gridcolor\": \"white\", \"linecolor\": \"white\", \"ticks\": \"\"}}, \"title\": {\"x\": 0.05}, \"xaxis\": {\"automargin\": true, \"gridcolor\": \"white\", \"linecolor\": \"white\", \"ticks\": \"\", \"title\": {\"standoff\": 15}, \"zerolinecolor\": \"white\", \"zerolinewidth\": 2}, \"yaxis\": {\"automargin\": true, \"gridcolor\": \"white\", \"linecolor\": \"white\", \"ticks\": \"\", \"title\": {\"standoff\": 15}, \"zerolinecolor\": \"white\", \"zerolinewidth\": 2}}}},                        {\"responsive\": true}                    ).then(function(){\n",
       "                            \n",
       "var gd = document.getElementById('b9d7e0ae-e8fe-4f42-a5c7-0705f81d3c60');\n",
       "var x = new MutationObserver(function (mutations, observer) {{\n",
       "        var display = window.getComputedStyle(gd).display;\n",
       "        if (!display || display === 'none') {{\n",
       "            console.log([gd, 'removed!']);\n",
       "            Plotly.purge(gd);\n",
       "            observer.disconnect();\n",
       "        }}\n",
       "}});\n",
       "\n",
       "// Listen for the removal of the full notebook cells\n",
       "var notebookContainer = gd.closest('#notebook-container');\n",
       "if (notebookContainer) {{\n",
       "    x.observe(notebookContainer, {childList: true});\n",
       "}}\n",
       "\n",
       "// Listen for the clearing of the current output cell\n",
       "var outputEl = gd.closest('.output');\n",
       "if (outputEl) {{\n",
       "    x.observe(outputEl, {childList: true});\n",
       "}}\n",
       "\n",
       "                        })                };                });            </script>        </div>"
      ]
     },
     "metadata": {},
     "output_type": "display_data"
    }
   ],
   "source": [
    "lines = node_list_to_path2(G, mainroute)\n",
    "long2 = []\n",
    "lat2 = []\n",
    "for i in range(len(lines)):\n",
    "    z = list(lines[i])\n",
    "    l1 = list(list(zip(*z))[0])\n",
    "    l2 = list(list(zip(*z))[1])\n",
    "    for j in range(len(l1)):\n",
    "        long2.append(l1[j])\n",
    "        lat2.append(l2[j])\n",
    "origin_point = (lat2[0],long2[0]) \n",
    "destination_point = (lat2[0],long2[0])\n",
    "plot_path(lat2, long2, origin_point, destination_point)"
   ]
  },
  {
   "cell_type": "code",
   "execution_count": 52,
   "id": "dietary-mathematics",
   "metadata": {},
   "outputs": [
    {
     "data": {
      "text/plain": [
       "214"
      ]
     },
     "execution_count": 52,
     "metadata": {},
     "output_type": "execute_result"
    }
   ],
   "source": [
    "len(mainroute)"
   ]
  },
  {
   "cell_type": "code",
   "execution_count": 53,
   "id": "patient-japan",
   "metadata": {},
   "outputs": [],
   "source": [
    "South_Wake = 'South Wake Landfill, 6300, Old Smithfield Road, Apex, NC, 27539'\n",
    "North_Wake = 'North Wake Landfill, 9300, Deponie Drive, Raleigh, NC, 27614'\n",
    "South_Wake_Hazard = 'South Wake Household Hazardous Waste Facility, 6150, Old Smithfield Road, Apex, NC, 27539'\n",
    "North_Wake_Hazard = 'North Wake Household Hazardous Waste Facility, 9037, Deponie Dr, Raleigh, NC, 27614'\n",
    "East_Wake_Hazard = 'East Wake Household Hazardous Waste Facility, 5051, Wendell Boulevard, Wendell, NC, 27591'\n",
    "South_Wake_Material = 'South Wake Multi-Material Recycling Facility, 6130, Old Smithfield Road, Apex, NC, 27539'\n",
    "North_Wake_Material = 'North Wake Multi-Material Recycling Facility, 9029, Deponie Drive, Raleigh, NC, 27614'\n",
    "East_Wake_Material = 'East Wake Multi-Material Recycling Facility, 5051, Wendell Boulevard, Wendell, NC, 27591'\n",
    "Old_Stage_Road = 'Convenience Center Site 1, 10505, Old Stage Road, Raleigh, NC, 27603'\n",
    "Old_SmithField_Road = 'Convenience Center Site 2, 6120, Old Smithfield Road, Apex, NC, 27539'\n",
    "Aviation_Parkway = 'Convenience Center Site, 3266, Aviation Parkway, Morrisville, NC, 27560'\n",
    "Yates_Mill = 'Convenience Center Site 4, 3600, Yates Mill Pond Road, Raleigh, NC, 27606'\n",
    "Battle_Bridge = 'Convenience Center Site 5, 8401, Battle Bridge Road, Raleigh, NC, 27610'\n",
    "Lillie_Liles = 'Convenience Center Site 6, 3913, Lillie Liles Road, Wake Forest, NC, 27587'\n",
    "Deponie_Drive = 'Convenience Center Site 7, 9029, Deponie Drive, Raleigh, NC, 27614'\n",
    "Durham_Highway = 'Convenience Center Site 8, 2001, Durham Road, Wake Forest, NC, 27587'\n",
    "New_Hill_Holeman = 'Convenience Center Site 9, 3337, New Hill-Holleman Road, New Hill, NC, 27562'\n",
    "KnightDale_Eagle_Rock = 'Convenience Center Site 10, 5216, Knightdale-Eagle Rock Road, Knightdale, NC, 27545'\n",
    "Wendell_Boulevard = 'Convenience Center Site 11, 5051, Wendell Boulevard, Wendell, NC, 27591'"
   ]
  },
  {
   "cell_type": "code",
   "execution_count": 54,
   "id": "urban-insider",
   "metadata": {},
   "outputs": [
    {
     "name": "stderr",
     "output_type": "stream",
     "text": [
      "[nltk_data] Downloading package averaged_perceptron_tagger to\n",
      "[nltk_data]     C:\\Users\\sawag\\AppData\\Roaming\\nltk_data...\n",
      "[nltk_data]   Package averaged_perceptron_tagger is already up-to-\n",
      "[nltk_data]       date!\n",
      "[nltk_data] Downloading package maxent_ne_chunker to\n",
      "[nltk_data]     C:\\Users\\sawag\\AppData\\Roaming\\nltk_data...\n",
      "[nltk_data]   Package maxent_ne_chunker is already up-to-date!\n",
      "[nltk_data] Downloading package words to\n",
      "[nltk_data]     C:\\Users\\sawag\\AppData\\Roaming\\nltk_data...\n",
      "[nltk_data]   Package words is already up-to-date!\n"
     ]
    },
    {
     "name": "stdout",
     "output_type": "stream",
     "text": [
      "True\n",
      "True\n",
      "True\n"
     ]
    }
   ],
   "source": [
    "import nltk \n",
    "nltk.download('averaged_perceptron_tagger')\n",
    "nltk.download('maxent_ne_chunker')\n",
    "nltk.download('words')\n",
    "def check_location(text):\n",
    "    for chunk in nltk.ne_chunk(nltk.pos_tag(nltk.word_tokenize(text))):\n",
    "        if hasattr(chunk, \"label\"):\n",
    "            if chunk.label() == \"GPE\" or chunk.label() == \"GSP\":\n",
    "                return \"True\"\n",
    "    return \"False\"\n",
    "\n",
    "text=\"Convenience Center Site 10, 5216, Knightdale-Eagle Rock Road, Knightdale, NC, 27545\"\n",
    "print(check_location(South_Wake))\n",
    "\n",
    "text=\"Convenience Center Site 11, 5051, Wendell Boulevard, Wendell, NC, 27591\"\n",
    "print(check_location(text))\n",
    "\n",
    "text = \"Convenience Center Site 9, 3337, New Hill-Holleman Road, New Hill, NC, 27562\"\n",
    "print(check_location(text))"
   ]
  },
  {
   "cell_type": "code",
   "execution_count": 55,
   "id": "local-purse",
   "metadata": {},
   "outputs": [],
   "source": [
    "Adlist = [South_Wake, North_Wake, South_Wake_Hazard, North_Wake_Hazard, East_Wake_Hazard, South_Wake_Material, \n",
    "          North_Wake_Material, East_Wake_Material, Old_Stage_Road, Old_SmithField_Road, Aviation_Parkway, Yates_Mill,\n",
    "          Battle_Bridge, Lillie_Liles, Deponie_Drive, Durham_Highway,\n",
    "          New_Hill_Holeman, KnightDale_Eagle_Rock, Wendell_Boulevard]\n",
    "Adata= pd.DataFrame([North_Wake1.split(\",\") for North_Wake1 in Adlist])\n",
    "Adata.rename(columns={0: 'Site Name',1: 'Code',2: 'Locality',3: 'Zone',4: 'State',5: 'Pin-Code'}, inplace=True)"
   ]
  },
  {
   "cell_type": "code",
   "execution_count": 56,
   "id": "threaded-adjustment",
   "metadata": {},
   "outputs": [],
   "source": [
    "Adata['Address'] = Adata['Code']+Adata['Locality']+Adata['Zone']+Adata['State']+Adata['Pin-Code']"
   ]
  },
  {
   "cell_type": "code",
   "execution_count": 57,
   "id": "statewide-discipline",
   "metadata": {},
   "outputs": [],
   "source": [
    "import geopandas as gpd\n",
    "from geopandas.tools import geocode\n",
    "from geopy.geocoders import Nominatim\n",
    "from geopy.extra.rate_limiter import RateLimiter\n",
    "locator = Nominatim(user_agent=\"myGeocoder\")\n",
    "#geocode = RateLimiter(locator.geocode, min_delay_seconds=1)\n",
    "geolocator = Nominatim(user_agent=\"example app\")"
   ]
  },
  {
   "cell_type": "code",
   "execution_count": 58,
   "id": "valued-active",
   "metadata": {},
   "outputs": [],
   "source": [
    "Adata[\"loc\"] = Adata[\"Address\"].apply(geolocator.geocode)\n",
    "Adata[\"point\"]= Adata[\"loc\"].apply(lambda loc: tuple(loc.point) if loc else None)\n",
    "Adata[['lat', 'lon', 'altitude']] = pd.DataFrame(Adata['point'].to_list(), index=Adata.index)"
   ]
  },
  {
   "cell_type": "code",
   "execution_count": 59,
   "id": "positive-reminder",
   "metadata": {},
   "outputs": [
    {
     "data": {
      "text/html": [
       "<div>\n",
       "<style scoped>\n",
       "    .dataframe tbody tr th:only-of-type {\n",
       "        vertical-align: middle;\n",
       "    }\n",
       "\n",
       "    .dataframe tbody tr th {\n",
       "        vertical-align: top;\n",
       "    }\n",
       "\n",
       "    .dataframe thead th {\n",
       "        text-align: right;\n",
       "    }\n",
       "</style>\n",
       "<table border=\"1\" class=\"dataframe\">\n",
       "  <thead>\n",
       "    <tr style=\"text-align: right;\">\n",
       "      <th></th>\n",
       "      <th>Site Name</th>\n",
       "      <th>Code</th>\n",
       "      <th>Locality</th>\n",
       "      <th>Zone</th>\n",
       "      <th>State</th>\n",
       "      <th>Pin-Code</th>\n",
       "      <th>Address</th>\n",
       "      <th>loc</th>\n",
       "      <th>point</th>\n",
       "      <th>lat</th>\n",
       "      <th>lon</th>\n",
       "      <th>altitude</th>\n",
       "    </tr>\n",
       "  </thead>\n",
       "  <tbody>\n",
       "    <tr>\n",
       "      <th>0</th>\n",
       "      <td>South Wake Landfill</td>\n",
       "      <td>6300</td>\n",
       "      <td>Old Smithfield Road</td>\n",
       "      <td>Apex</td>\n",
       "      <td>NC</td>\n",
       "      <td>27539</td>\n",
       "      <td>6300 Old Smithfield Road Apex NC 27539</td>\n",
       "      <td>(Old Smithfield Road, Apex, Wake County, North...</td>\n",
       "      <td>(35.6833174, -78.8336113, 0.0)</td>\n",
       "      <td>35.683317</td>\n",
       "      <td>-78.833611</td>\n",
       "      <td>0.0</td>\n",
       "    </tr>\n",
       "    <tr>\n",
       "      <th>1</th>\n",
       "      <td>North Wake Landfill</td>\n",
       "      <td>9300</td>\n",
       "      <td>Deponie Drive</td>\n",
       "      <td>Raleigh</td>\n",
       "      <td>NC</td>\n",
       "      <td>27614</td>\n",
       "      <td>9300 Deponie Drive Raleigh NC 27614</td>\n",
       "      <td>(Deponie Drive, Raleigh, Wake County, North Ca...</td>\n",
       "      <td>(35.904685, -78.584217, 0.0)</td>\n",
       "      <td>35.904685</td>\n",
       "      <td>-78.584217</td>\n",
       "      <td>0.0</td>\n",
       "    </tr>\n",
       "    <tr>\n",
       "      <th>2</th>\n",
       "      <td>South Wake Household Hazardous Waste Facility</td>\n",
       "      <td>6150</td>\n",
       "      <td>Old Smithfield Road</td>\n",
       "      <td>Apex</td>\n",
       "      <td>NC</td>\n",
       "      <td>27539</td>\n",
       "      <td>6150 Old Smithfield Road Apex NC 27539</td>\n",
       "      <td>(Old Smithfield Road, Apex, Wake County, North...</td>\n",
       "      <td>(35.6833174, -78.8336113, 0.0)</td>\n",
       "      <td>35.683317</td>\n",
       "      <td>-78.833611</td>\n",
       "      <td>0.0</td>\n",
       "    </tr>\n",
       "    <tr>\n",
       "      <th>3</th>\n",
       "      <td>North Wake Household Hazardous Waste Facility</td>\n",
       "      <td>9037</td>\n",
       "      <td>Deponie Dr</td>\n",
       "      <td>Raleigh</td>\n",
       "      <td>NC</td>\n",
       "      <td>27614</td>\n",
       "      <td>9037 Deponie Dr Raleigh NC 27614</td>\n",
       "      <td>(Deponie Drive, Raleigh, Wake County, North Ca...</td>\n",
       "      <td>(35.904685, -78.584217, 0.0)</td>\n",
       "      <td>35.904685</td>\n",
       "      <td>-78.584217</td>\n",
       "      <td>0.0</td>\n",
       "    </tr>\n",
       "    <tr>\n",
       "      <th>4</th>\n",
       "      <td>East Wake Household Hazardous Waste Facility</td>\n",
       "      <td>5051</td>\n",
       "      <td>Wendell Boulevard</td>\n",
       "      <td>Wendell</td>\n",
       "      <td>NC</td>\n",
       "      <td>27591</td>\n",
       "      <td>5051 Wendell Boulevard Wendell NC 27591</td>\n",
       "      <td>(Wendell Boulevard, Wendell, Wake County, Nort...</td>\n",
       "      <td>(35.7896528, -78.3768986, 0.0)</td>\n",
       "      <td>35.789653</td>\n",
       "      <td>-78.376899</td>\n",
       "      <td>0.0</td>\n",
       "    </tr>\n",
       "    <tr>\n",
       "      <th>5</th>\n",
       "      <td>South Wake Multi-Material Recycling Facility</td>\n",
       "      <td>6130</td>\n",
       "      <td>Old Smithfield Road</td>\n",
       "      <td>Apex</td>\n",
       "      <td>NC</td>\n",
       "      <td>27539</td>\n",
       "      <td>6130 Old Smithfield Road Apex NC 27539</td>\n",
       "      <td>(Old Smithfield Road, Apex, Wake County, North...</td>\n",
       "      <td>(35.6833174, -78.8336113, 0.0)</td>\n",
       "      <td>35.683317</td>\n",
       "      <td>-78.833611</td>\n",
       "      <td>0.0</td>\n",
       "    </tr>\n",
       "    <tr>\n",
       "      <th>6</th>\n",
       "      <td>North Wake Multi-Material Recycling Facility</td>\n",
       "      <td>9029</td>\n",
       "      <td>Deponie Drive</td>\n",
       "      <td>Raleigh</td>\n",
       "      <td>NC</td>\n",
       "      <td>27614</td>\n",
       "      <td>9029 Deponie Drive Raleigh NC 27614</td>\n",
       "      <td>(Deponie Drive, Raleigh, Wake County, North Ca...</td>\n",
       "      <td>(35.904685, -78.584217, 0.0)</td>\n",
       "      <td>35.904685</td>\n",
       "      <td>-78.584217</td>\n",
       "      <td>0.0</td>\n",
       "    </tr>\n",
       "    <tr>\n",
       "      <th>7</th>\n",
       "      <td>East Wake Multi-Material Recycling Facility</td>\n",
       "      <td>5051</td>\n",
       "      <td>Wendell Boulevard</td>\n",
       "      <td>Wendell</td>\n",
       "      <td>NC</td>\n",
       "      <td>27591</td>\n",
       "      <td>5051 Wendell Boulevard Wendell NC 27591</td>\n",
       "      <td>(Wendell Boulevard, Wendell, Wake County, Nort...</td>\n",
       "      <td>(35.7896528, -78.3768986, 0.0)</td>\n",
       "      <td>35.789653</td>\n",
       "      <td>-78.376899</td>\n",
       "      <td>0.0</td>\n",
       "    </tr>\n",
       "    <tr>\n",
       "      <th>8</th>\n",
       "      <td>Convenience Center Site 1</td>\n",
       "      <td>10505</td>\n",
       "      <td>Old Stage Road</td>\n",
       "      <td>Raleigh</td>\n",
       "      <td>NC</td>\n",
       "      <td>27603</td>\n",
       "      <td>10505 Old Stage Road Raleigh NC 27603</td>\n",
       "      <td>(10505, Old Stage Road, Williams Crossroads, C...</td>\n",
       "      <td>(35.6264121, -78.677047, 0.0)</td>\n",
       "      <td>35.626412</td>\n",
       "      <td>-78.677047</td>\n",
       "      <td>0.0</td>\n",
       "    </tr>\n",
       "    <tr>\n",
       "      <th>9</th>\n",
       "      <td>Convenience Center Site 2</td>\n",
       "      <td>6120</td>\n",
       "      <td>Old Smithfield Road</td>\n",
       "      <td>Apex</td>\n",
       "      <td>NC</td>\n",
       "      <td>27539</td>\n",
       "      <td>6120 Old Smithfield Road Apex NC 27539</td>\n",
       "      <td>(6120, Old Smithfield Road, Apex, Wake County,...</td>\n",
       "      <td>(35.6829485, -78.8446749, 0.0)</td>\n",
       "      <td>35.682949</td>\n",
       "      <td>-78.844675</td>\n",
       "      <td>0.0</td>\n",
       "    </tr>\n",
       "    <tr>\n",
       "      <th>10</th>\n",
       "      <td>Convenience Center Site</td>\n",
       "      <td>3266</td>\n",
       "      <td>Aviation Parkway</td>\n",
       "      <td>Morrisville</td>\n",
       "      <td>NC</td>\n",
       "      <td>27560</td>\n",
       "      <td>3266 Aviation Parkway Morrisville NC 27560</td>\n",
       "      <td>(Aviation Parkway, Morrisville, Wake County, N...</td>\n",
       "      <td>(35.8399932, -78.8094177, 0.0)</td>\n",
       "      <td>35.839993</td>\n",
       "      <td>-78.809418</td>\n",
       "      <td>0.0</td>\n",
       "    </tr>\n",
       "    <tr>\n",
       "      <th>11</th>\n",
       "      <td>Convenience Center Site 4</td>\n",
       "      <td>3600</td>\n",
       "      <td>Yates Mill Pond Road</td>\n",
       "      <td>Raleigh</td>\n",
       "      <td>NC</td>\n",
       "      <td>27606</td>\n",
       "      <td>3600 Yates Mill Pond Road Raleigh NC 27606</td>\n",
       "      <td>(Yates Mill Pond Road, Bryarton Village Townho...</td>\n",
       "      <td>(35.7465697, -78.7331822, 0.0)</td>\n",
       "      <td>35.746570</td>\n",
       "      <td>-78.733182</td>\n",
       "      <td>0.0</td>\n",
       "    </tr>\n",
       "    <tr>\n",
       "      <th>12</th>\n",
       "      <td>Convenience Center Site 5</td>\n",
       "      <td>8401</td>\n",
       "      <td>Battle Bridge Road</td>\n",
       "      <td>Raleigh</td>\n",
       "      <td>NC</td>\n",
       "      <td>27610</td>\n",
       "      <td>8401 Battle Bridge Road Raleigh NC 27610</td>\n",
       "      <td>(Battle Bridge Road, Raleigh, Wake County, Nor...</td>\n",
       "      <td>(35.7257974, -78.5493627, 0.0)</td>\n",
       "      <td>35.725797</td>\n",
       "      <td>-78.549363</td>\n",
       "      <td>0.0</td>\n",
       "    </tr>\n",
       "    <tr>\n",
       "      <th>13</th>\n",
       "      <td>Convenience Center Site 6</td>\n",
       "      <td>3913</td>\n",
       "      <td>Lillie Liles Road</td>\n",
       "      <td>Wake Forest</td>\n",
       "      <td>NC</td>\n",
       "      <td>27587</td>\n",
       "      <td>3913 Lillie Liles Road Wake Forest NC 27587</td>\n",
       "      <td>(Wake County Convenience Center, 3913, Lillie ...</td>\n",
       "      <td>(35.906651600000004, -78.50022986590909, 0.0)</td>\n",
       "      <td>35.906652</td>\n",
       "      <td>-78.500230</td>\n",
       "      <td>0.0</td>\n",
       "    </tr>\n",
       "    <tr>\n",
       "      <th>14</th>\n",
       "      <td>Convenience Center Site 7</td>\n",
       "      <td>9029</td>\n",
       "      <td>Deponie Drive</td>\n",
       "      <td>Raleigh</td>\n",
       "      <td>NC</td>\n",
       "      <td>27614</td>\n",
       "      <td>9029 Deponie Drive Raleigh NC 27614</td>\n",
       "      <td>(Deponie Drive, Raleigh, Wake County, North Ca...</td>\n",
       "      <td>(35.904685, -78.584217, 0.0)</td>\n",
       "      <td>35.904685</td>\n",
       "      <td>-78.584217</td>\n",
       "      <td>0.0</td>\n",
       "    </tr>\n",
       "    <tr>\n",
       "      <th>15</th>\n",
       "      <td>Convenience Center Site 8</td>\n",
       "      <td>2001</td>\n",
       "      <td>Durham Road</td>\n",
       "      <td>Wake Forest</td>\n",
       "      <td>NC</td>\n",
       "      <td>27587</td>\n",
       "      <td>2001 Durham Road Wake Forest NC 27587</td>\n",
       "      <td>(2001, Durham Road, Chartwell, Town of Wake Fo...</td>\n",
       "      <td>(35.97874535, -78.59321427342616, 0.0)</td>\n",
       "      <td>35.978745</td>\n",
       "      <td>-78.593214</td>\n",
       "      <td>0.0</td>\n",
       "    </tr>\n",
       "    <tr>\n",
       "      <th>16</th>\n",
       "      <td>Convenience Center Site 9</td>\n",
       "      <td>3337</td>\n",
       "      <td>New Hill-Holleman Road</td>\n",
       "      <td>New Hill</td>\n",
       "      <td>NC</td>\n",
       "      <td>27562</td>\n",
       "      <td>3337 New Hill-Holleman Road New Hill NC 27562</td>\n",
       "      <td>(3337, New Hill Holleman Road, Hollemans Cross...</td>\n",
       "      <td>(35.6647827, -78.9287717, 0.0)</td>\n",
       "      <td>35.664783</td>\n",
       "      <td>-78.928772</td>\n",
       "      <td>0.0</td>\n",
       "    </tr>\n",
       "    <tr>\n",
       "      <th>17</th>\n",
       "      <td>Convenience Center Site 10</td>\n",
       "      <td>5216</td>\n",
       "      <td>Knightdale-Eagle Rock Road</td>\n",
       "      <td>Knightdale</td>\n",
       "      <td>NC</td>\n",
       "      <td>27545</td>\n",
       "      <td>5216 Knightdale-Eagle Rock Road Knightdale NC...</td>\n",
       "      <td>(5216, Knightdale Eagle Rock Road, Town of Kni...</td>\n",
       "      <td>(35.7869656, -78.45497165819222, 0.0)</td>\n",
       "      <td>35.786966</td>\n",
       "      <td>-78.454972</td>\n",
       "      <td>0.0</td>\n",
       "    </tr>\n",
       "    <tr>\n",
       "      <th>18</th>\n",
       "      <td>Convenience Center Site 11</td>\n",
       "      <td>5051</td>\n",
       "      <td>Wendell Boulevard</td>\n",
       "      <td>Wendell</td>\n",
       "      <td>NC</td>\n",
       "      <td>27591</td>\n",
       "      <td>5051 Wendell Boulevard Wendell NC 27591</td>\n",
       "      <td>(Wendell Boulevard, Wendell, Wake County, Nort...</td>\n",
       "      <td>(35.7896528, -78.3768986, 0.0)</td>\n",
       "      <td>35.789653</td>\n",
       "      <td>-78.376899</td>\n",
       "      <td>0.0</td>\n",
       "    </tr>\n",
       "  </tbody>\n",
       "</table>\n",
       "</div>"
      ],
      "text/plain": [
       "                                        Site Name    Code  \\\n",
       "0                             South Wake Landfill    6300   \n",
       "1                             North Wake Landfill    9300   \n",
       "2   South Wake Household Hazardous Waste Facility    6150   \n",
       "3   North Wake Household Hazardous Waste Facility    9037   \n",
       "4    East Wake Household Hazardous Waste Facility    5051   \n",
       "5    South Wake Multi-Material Recycling Facility    6130   \n",
       "6    North Wake Multi-Material Recycling Facility    9029   \n",
       "7     East Wake Multi-Material Recycling Facility    5051   \n",
       "8                       Convenience Center Site 1   10505   \n",
       "9                       Convenience Center Site 2    6120   \n",
       "10                        Convenience Center Site    3266   \n",
       "11                      Convenience Center Site 4    3600   \n",
       "12                      Convenience Center Site 5    8401   \n",
       "13                      Convenience Center Site 6    3913   \n",
       "14                      Convenience Center Site 7    9029   \n",
       "15                      Convenience Center Site 8    2001   \n",
       "16                      Convenience Center Site 9    3337   \n",
       "17                     Convenience Center Site 10    5216   \n",
       "18                     Convenience Center Site 11    5051   \n",
       "\n",
       "                       Locality          Zone State Pin-Code  \\\n",
       "0           Old Smithfield Road          Apex    NC    27539   \n",
       "1                 Deponie Drive       Raleigh    NC    27614   \n",
       "2           Old Smithfield Road          Apex    NC    27539   \n",
       "3                    Deponie Dr       Raleigh    NC    27614   \n",
       "4             Wendell Boulevard       Wendell    NC    27591   \n",
       "5           Old Smithfield Road          Apex    NC    27539   \n",
       "6                 Deponie Drive       Raleigh    NC    27614   \n",
       "7             Wendell Boulevard       Wendell    NC    27591   \n",
       "8                Old Stage Road       Raleigh    NC    27603   \n",
       "9           Old Smithfield Road          Apex    NC    27539   \n",
       "10             Aviation Parkway   Morrisville    NC    27560   \n",
       "11         Yates Mill Pond Road       Raleigh    NC    27606   \n",
       "12           Battle Bridge Road       Raleigh    NC    27610   \n",
       "13            Lillie Liles Road   Wake Forest    NC    27587   \n",
       "14                Deponie Drive       Raleigh    NC    27614   \n",
       "15                  Durham Road   Wake Forest    NC    27587   \n",
       "16       New Hill-Holleman Road      New Hill    NC    27562   \n",
       "17   Knightdale-Eagle Rock Road    Knightdale    NC    27545   \n",
       "18            Wendell Boulevard       Wendell    NC    27591   \n",
       "\n",
       "                                              Address  \\\n",
       "0              6300 Old Smithfield Road Apex NC 27539   \n",
       "1                 9300 Deponie Drive Raleigh NC 27614   \n",
       "2              6150 Old Smithfield Road Apex NC 27539   \n",
       "3                    9037 Deponie Dr Raleigh NC 27614   \n",
       "4             5051 Wendell Boulevard Wendell NC 27591   \n",
       "5              6130 Old Smithfield Road Apex NC 27539   \n",
       "6                 9029 Deponie Drive Raleigh NC 27614   \n",
       "7             5051 Wendell Boulevard Wendell NC 27591   \n",
       "8               10505 Old Stage Road Raleigh NC 27603   \n",
       "9              6120 Old Smithfield Road Apex NC 27539   \n",
       "10         3266 Aviation Parkway Morrisville NC 27560   \n",
       "11         3600 Yates Mill Pond Road Raleigh NC 27606   \n",
       "12           8401 Battle Bridge Road Raleigh NC 27610   \n",
       "13        3913 Lillie Liles Road Wake Forest NC 27587   \n",
       "14                9029 Deponie Drive Raleigh NC 27614   \n",
       "15              2001 Durham Road Wake Forest NC 27587   \n",
       "16      3337 New Hill-Holleman Road New Hill NC 27562   \n",
       "17   5216 Knightdale-Eagle Rock Road Knightdale NC...   \n",
       "18            5051 Wendell Boulevard Wendell NC 27591   \n",
       "\n",
       "                                                  loc  \\\n",
       "0   (Old Smithfield Road, Apex, Wake County, North...   \n",
       "1   (Deponie Drive, Raleigh, Wake County, North Ca...   \n",
       "2   (Old Smithfield Road, Apex, Wake County, North...   \n",
       "3   (Deponie Drive, Raleigh, Wake County, North Ca...   \n",
       "4   (Wendell Boulevard, Wendell, Wake County, Nort...   \n",
       "5   (Old Smithfield Road, Apex, Wake County, North...   \n",
       "6   (Deponie Drive, Raleigh, Wake County, North Ca...   \n",
       "7   (Wendell Boulevard, Wendell, Wake County, Nort...   \n",
       "8   (10505, Old Stage Road, Williams Crossroads, C...   \n",
       "9   (6120, Old Smithfield Road, Apex, Wake County,...   \n",
       "10  (Aviation Parkway, Morrisville, Wake County, N...   \n",
       "11  (Yates Mill Pond Road, Bryarton Village Townho...   \n",
       "12  (Battle Bridge Road, Raleigh, Wake County, Nor...   \n",
       "13  (Wake County Convenience Center, 3913, Lillie ...   \n",
       "14  (Deponie Drive, Raleigh, Wake County, North Ca...   \n",
       "15  (2001, Durham Road, Chartwell, Town of Wake Fo...   \n",
       "16  (3337, New Hill Holleman Road, Hollemans Cross...   \n",
       "17  (5216, Knightdale Eagle Rock Road, Town of Kni...   \n",
       "18  (Wendell Boulevard, Wendell, Wake County, Nort...   \n",
       "\n",
       "                                            point        lat        lon  \\\n",
       "0                  (35.6833174, -78.8336113, 0.0)  35.683317 -78.833611   \n",
       "1                    (35.904685, -78.584217, 0.0)  35.904685 -78.584217   \n",
       "2                  (35.6833174, -78.8336113, 0.0)  35.683317 -78.833611   \n",
       "3                    (35.904685, -78.584217, 0.0)  35.904685 -78.584217   \n",
       "4                  (35.7896528, -78.3768986, 0.0)  35.789653 -78.376899   \n",
       "5                  (35.6833174, -78.8336113, 0.0)  35.683317 -78.833611   \n",
       "6                    (35.904685, -78.584217, 0.0)  35.904685 -78.584217   \n",
       "7                  (35.7896528, -78.3768986, 0.0)  35.789653 -78.376899   \n",
       "8                   (35.6264121, -78.677047, 0.0)  35.626412 -78.677047   \n",
       "9                  (35.6829485, -78.8446749, 0.0)  35.682949 -78.844675   \n",
       "10                 (35.8399932, -78.8094177, 0.0)  35.839993 -78.809418   \n",
       "11                 (35.7465697, -78.7331822, 0.0)  35.746570 -78.733182   \n",
       "12                 (35.7257974, -78.5493627, 0.0)  35.725797 -78.549363   \n",
       "13  (35.906651600000004, -78.50022986590909, 0.0)  35.906652 -78.500230   \n",
       "14                   (35.904685, -78.584217, 0.0)  35.904685 -78.584217   \n",
       "15         (35.97874535, -78.59321427342616, 0.0)  35.978745 -78.593214   \n",
       "16                 (35.6647827, -78.9287717, 0.0)  35.664783 -78.928772   \n",
       "17          (35.7869656, -78.45497165819222, 0.0)  35.786966 -78.454972   \n",
       "18                 (35.7896528, -78.3768986, 0.0)  35.789653 -78.376899   \n",
       "\n",
       "    altitude  \n",
       "0        0.0  \n",
       "1        0.0  \n",
       "2        0.0  \n",
       "3        0.0  \n",
       "4        0.0  \n",
       "5        0.0  \n",
       "6        0.0  \n",
       "7        0.0  \n",
       "8        0.0  \n",
       "9        0.0  \n",
       "10       0.0  \n",
       "11       0.0  \n",
       "12       0.0  \n",
       "13       0.0  \n",
       "14       0.0  \n",
       "15       0.0  \n",
       "16       0.0  \n",
       "17       0.0  \n",
       "18       0.0  "
      ]
     },
     "execution_count": 59,
     "metadata": {},
     "output_type": "execute_result"
    }
   ],
   "source": [
    "Adata"
   ]
  },
  {
   "cell_type": "code",
   "execution_count": 60,
   "id": "frequent-cameroon",
   "metadata": {},
   "outputs": [
    {
     "data": {
      "text/html": [
       "<div style=\"width:100%;\"><div style=\"position:relative;width:100%;height:0;padding-bottom:60%;\"><span style=\"color:#565656\">Make this Notebook Trusted to load map: File -> Trust Notebook</span><iframe src=\"about:blank\" style=\"position:absolute;width:100%;height:100%;left:0;top:0;border:none !important;\" data-html=%3C%21DOCTYPE%20html%3E%0A%3Chead%3E%20%20%20%20%0A%20%20%20%20%3Cmeta%20http-equiv%3D%22content-type%22%20content%3D%22text/html%3B%20charset%3DUTF-8%22%20/%3E%0A%20%20%20%20%0A%20%20%20%20%20%20%20%20%3Cscript%3E%0A%20%20%20%20%20%20%20%20%20%20%20%20L_NO_TOUCH%20%3D%20false%3B%0A%20%20%20%20%20%20%20%20%20%20%20%20L_DISABLE_3D%20%3D%20false%3B%0A%20%20%20%20%20%20%20%20%3C/script%3E%0A%20%20%20%20%0A%20%20%20%20%3Cstyle%3Ehtml%2C%20body%20%7Bwidth%3A%20100%25%3Bheight%3A%20100%25%3Bmargin%3A%200%3Bpadding%3A%200%3B%7D%3C/style%3E%0A%20%20%20%20%3Cstyle%3E%23map%20%7Bposition%3Aabsolute%3Btop%3A0%3Bbottom%3A0%3Bright%3A0%3Bleft%3A0%3B%7D%3C/style%3E%0A%20%20%20%20%3Cscript%20src%3D%22https%3A//cdn.jsdelivr.net/npm/leaflet%401.6.0/dist/leaflet.js%22%3E%3C/script%3E%0A%20%20%20%20%3Cscript%20src%3D%22https%3A//code.jquery.com/jquery-1.12.4.min.js%22%3E%3C/script%3E%0A%20%20%20%20%3Cscript%20src%3D%22https%3A//maxcdn.bootstrapcdn.com/bootstrap/3.2.0/js/bootstrap.min.js%22%3E%3C/script%3E%0A%20%20%20%20%3Cscript%20src%3D%22https%3A//cdnjs.cloudflare.com/ajax/libs/Leaflet.awesome-markers/2.0.2/leaflet.awesome-markers.js%22%3E%3C/script%3E%0A%20%20%20%20%3Clink%20rel%3D%22stylesheet%22%20href%3D%22https%3A//cdn.jsdelivr.net/npm/leaflet%401.6.0/dist/leaflet.css%22/%3E%0A%20%20%20%20%3Clink%20rel%3D%22stylesheet%22%20href%3D%22https%3A//maxcdn.bootstrapcdn.com/bootstrap/3.2.0/css/bootstrap.min.css%22/%3E%0A%20%20%20%20%3Clink%20rel%3D%22stylesheet%22%20href%3D%22https%3A//maxcdn.bootstrapcdn.com/bootstrap/3.2.0/css/bootstrap-theme.min.css%22/%3E%0A%20%20%20%20%3Clink%20rel%3D%22stylesheet%22%20href%3D%22https%3A//maxcdn.bootstrapcdn.com/font-awesome/4.6.3/css/font-awesome.min.css%22/%3E%0A%20%20%20%20%3Clink%20rel%3D%22stylesheet%22%20href%3D%22https%3A//cdnjs.cloudflare.com/ajax/libs/Leaflet.awesome-markers/2.0.2/leaflet.awesome-markers.css%22/%3E%0A%20%20%20%20%3Clink%20rel%3D%22stylesheet%22%20href%3D%22https%3A//cdn.jsdelivr.net/gh/python-visualization/folium/folium/templates/leaflet.awesome.rotate.min.css%22/%3E%0A%20%20%20%20%0A%20%20%20%20%20%20%20%20%20%20%20%20%3Cmeta%20name%3D%22viewport%22%20content%3D%22width%3Ddevice-width%2C%0A%20%20%20%20%20%20%20%20%20%20%20%20%20%20%20%20initial-scale%3D1.0%2C%20maximum-scale%3D1.0%2C%20user-scalable%3Dno%22%20/%3E%0A%20%20%20%20%20%20%20%20%20%20%20%20%3Cstyle%3E%0A%20%20%20%20%20%20%20%20%20%20%20%20%20%20%20%20%23map_a5581c3212ba4486b35fa859cd9d4607%20%7B%0A%20%20%20%20%20%20%20%20%20%20%20%20%20%20%20%20%20%20%20%20position%3A%20relative%3B%0A%20%20%20%20%20%20%20%20%20%20%20%20%20%20%20%20%20%20%20%20width%3A%20100.0%25%3B%0A%20%20%20%20%20%20%20%20%20%20%20%20%20%20%20%20%20%20%20%20height%3A%20100.0%25%3B%0A%20%20%20%20%20%20%20%20%20%20%20%20%20%20%20%20%20%20%20%20left%3A%200.0%25%3B%0A%20%20%20%20%20%20%20%20%20%20%20%20%20%20%20%20%20%20%20%20top%3A%200.0%25%3B%0A%20%20%20%20%20%20%20%20%20%20%20%20%20%20%20%20%7D%0A%20%20%20%20%20%20%20%20%20%20%20%20%3C/style%3E%0A%20%20%20%20%20%20%20%20%0A%3C/head%3E%0A%3Cbody%3E%20%20%20%20%0A%20%20%20%20%0A%20%20%20%20%20%20%20%20%20%20%20%20%3Cdiv%20class%3D%22folium-map%22%20id%3D%22map_a5581c3212ba4486b35fa859cd9d4607%22%20%3E%3C/div%3E%0A%20%20%20%20%20%20%20%20%0A%3C/body%3E%0A%3Cscript%3E%20%20%20%20%0A%20%20%20%20%0A%20%20%20%20%20%20%20%20%20%20%20%20var%20map_a5581c3212ba4486b35fa859cd9d4607%20%3D%20L.map%28%0A%20%20%20%20%20%20%20%20%20%20%20%20%20%20%20%20%22map_a5581c3212ba4486b35fa859cd9d4607%22%2C%0A%20%20%20%20%20%20%20%20%20%20%20%20%20%20%20%20%7B%0A%20%20%20%20%20%20%20%20%20%20%20%20%20%20%20%20%20%20%20%20center%3A%20%5B35.7896528%2C%20-78.3768986%5D%2C%0A%20%20%20%20%20%20%20%20%20%20%20%20%20%20%20%20%20%20%20%20crs%3A%20L.CRS.EPSG3857%2C%0A%20%20%20%20%20%20%20%20%20%20%20%20%20%20%20%20%20%20%20%20zoom%3A%2012%2C%0A%20%20%20%20%20%20%20%20%20%20%20%20%20%20%20%20%20%20%20%20zoomControl%3A%20true%2C%0A%20%20%20%20%20%20%20%20%20%20%20%20%20%20%20%20%20%20%20%20preferCanvas%3A%20false%2C%0A%20%20%20%20%20%20%20%20%20%20%20%20%20%20%20%20%7D%0A%20%20%20%20%20%20%20%20%20%20%20%20%29%3B%0A%0A%20%20%20%20%20%20%20%20%20%20%20%20%0A%0A%20%20%20%20%20%20%20%20%0A%20%20%20%20%0A%20%20%20%20%20%20%20%20%20%20%20%20var%20tile_layer_29f9e1b7f29945a6a44a455aa10c2703%20%3D%20L.tileLayer%28%0A%20%20%20%20%20%20%20%20%20%20%20%20%20%20%20%20%22https%3A//cartodb-basemaps-%7Bs%7D.global.ssl.fastly.net/light_all/%7Bz%7D/%7Bx%7D/%7By%7D.png%22%2C%0A%20%20%20%20%20%20%20%20%20%20%20%20%20%20%20%20%7B%22attribution%22%3A%20%22%5Cu0026copy%3B%20%5Cu003ca%20href%3D%5C%22http%3A//www.openstreetmap.org/copyright%5C%22%5Cu003eOpenStreetMap%5Cu003c/a%5Cu003e%20contributors%20%5Cu0026copy%3B%20%5Cu003ca%20href%3D%5C%22http%3A//cartodb.com/attributions%5C%22%5Cu003eCartoDB%5Cu003c/a%5Cu003e%2C%20CartoDB%20%5Cu003ca%20href%20%3D%5C%22http%3A//cartodb.com/attributions%5C%22%5Cu003eattributions%5Cu003c/a%5Cu003e%22%2C%20%22detectRetina%22%3A%20false%2C%20%22maxNativeZoom%22%3A%2018%2C%20%22maxZoom%22%3A%2018%2C%20%22minZoom%22%3A%200%2C%20%22noWrap%22%3A%20false%2C%20%22opacity%22%3A%201%2C%20%22subdomains%22%3A%20%22abc%22%2C%20%22tms%22%3A%20false%7D%0A%20%20%20%20%20%20%20%20%20%20%20%20%29.addTo%28map_a5581c3212ba4486b35fa859cd9d4607%29%3B%0A%20%20%20%20%20%20%20%20%0A%20%20%20%20%0A%20%20%20%20%20%20%20%20%20%20%20%20var%20circle_marker_c3660f3828b3432fab2f889c61b793b6%20%3D%20L.circleMarker%28%0A%20%20%20%20%20%20%20%20%20%20%20%20%20%20%20%20%5B35.6833174%2C%20-78.8336113%5D%2C%0A%20%20%20%20%20%20%20%20%20%20%20%20%20%20%20%20%7B%22bubblingMouseEvents%22%3A%20true%2C%20%22color%22%3A%20%22%233388ff%22%2C%20%22dashArray%22%3A%20null%2C%20%22dashOffset%22%3A%20null%2C%20%22fill%22%3A%20false%2C%20%22fillColor%22%3A%20%22%233388ff%22%2C%20%22fillOpacity%22%3A%200.2%2C%20%22fillRule%22%3A%20%22evenodd%22%2C%20%22lineCap%22%3A%20%22round%22%2C%20%22lineJoin%22%3A%20%22round%22%2C%20%22opacity%22%3A%201.0%2C%20%22radius%22%3A%2010%2C%20%22stroke%22%3A%20true%2C%20%22weight%22%3A%203%7D%0A%20%20%20%20%20%20%20%20%20%20%20%20%29.addTo%28map_a5581c3212ba4486b35fa859cd9d4607%29%3B%0A%20%20%20%20%20%20%20%20%0A%20%20%20%20%0A%20%20%20%20%20%20%20%20%20%20%20%20var%20circle_marker_dc2dba5417d549a983c615fb39af84d9%20%3D%20L.circleMarker%28%0A%20%20%20%20%20%20%20%20%20%20%20%20%20%20%20%20%5B35.904685%2C%20-78.584217%5D%2C%0A%20%20%20%20%20%20%20%20%20%20%20%20%20%20%20%20%7B%22bubblingMouseEvents%22%3A%20true%2C%20%22color%22%3A%20%22%233388ff%22%2C%20%22dashArray%22%3A%20null%2C%20%22dashOffset%22%3A%20null%2C%20%22fill%22%3A%20false%2C%20%22fillColor%22%3A%20%22%233388ff%22%2C%20%22fillOpacity%22%3A%200.2%2C%20%22fillRule%22%3A%20%22evenodd%22%2C%20%22lineCap%22%3A%20%22round%22%2C%20%22lineJoin%22%3A%20%22round%22%2C%20%22opacity%22%3A%201.0%2C%20%22radius%22%3A%2010%2C%20%22stroke%22%3A%20true%2C%20%22weight%22%3A%203%7D%0A%20%20%20%20%20%20%20%20%20%20%20%20%29.addTo%28map_a5581c3212ba4486b35fa859cd9d4607%29%3B%0A%20%20%20%20%20%20%20%20%0A%20%20%20%20%0A%20%20%20%20%20%20%20%20%20%20%20%20var%20circle_marker_0f72799e4ed5413599f68ae34653c73b%20%3D%20L.circleMarker%28%0A%20%20%20%20%20%20%20%20%20%20%20%20%20%20%20%20%5B35.6833174%2C%20-78.8336113%5D%2C%0A%20%20%20%20%20%20%20%20%20%20%20%20%20%20%20%20%7B%22bubblingMouseEvents%22%3A%20true%2C%20%22color%22%3A%20%22%233388ff%22%2C%20%22dashArray%22%3A%20null%2C%20%22dashOffset%22%3A%20null%2C%20%22fill%22%3A%20false%2C%20%22fillColor%22%3A%20%22%233388ff%22%2C%20%22fillOpacity%22%3A%200.2%2C%20%22fillRule%22%3A%20%22evenodd%22%2C%20%22lineCap%22%3A%20%22round%22%2C%20%22lineJoin%22%3A%20%22round%22%2C%20%22opacity%22%3A%201.0%2C%20%22radius%22%3A%2010%2C%20%22stroke%22%3A%20true%2C%20%22weight%22%3A%203%7D%0A%20%20%20%20%20%20%20%20%20%20%20%20%29.addTo%28map_a5581c3212ba4486b35fa859cd9d4607%29%3B%0A%20%20%20%20%20%20%20%20%0A%20%20%20%20%0A%20%20%20%20%20%20%20%20%20%20%20%20var%20circle_marker_7c0892a0a09d4035bdbc8bc25dd5039f%20%3D%20L.circleMarker%28%0A%20%20%20%20%20%20%20%20%20%20%20%20%20%20%20%20%5B35.904685%2C%20-78.584217%5D%2C%0A%20%20%20%20%20%20%20%20%20%20%20%20%20%20%20%20%7B%22bubblingMouseEvents%22%3A%20true%2C%20%22color%22%3A%20%22%233388ff%22%2C%20%22dashArray%22%3A%20null%2C%20%22dashOffset%22%3A%20null%2C%20%22fill%22%3A%20false%2C%20%22fillColor%22%3A%20%22%233388ff%22%2C%20%22fillOpacity%22%3A%200.2%2C%20%22fillRule%22%3A%20%22evenodd%22%2C%20%22lineCap%22%3A%20%22round%22%2C%20%22lineJoin%22%3A%20%22round%22%2C%20%22opacity%22%3A%201.0%2C%20%22radius%22%3A%2010%2C%20%22stroke%22%3A%20true%2C%20%22weight%22%3A%203%7D%0A%20%20%20%20%20%20%20%20%20%20%20%20%29.addTo%28map_a5581c3212ba4486b35fa859cd9d4607%29%3B%0A%20%20%20%20%20%20%20%20%0A%20%20%20%20%0A%20%20%20%20%20%20%20%20%20%20%20%20var%20circle_marker_2435f7d26ee049c2bcd745765187144d%20%3D%20L.circleMarker%28%0A%20%20%20%20%20%20%20%20%20%20%20%20%20%20%20%20%5B35.7896528%2C%20-78.3768986%5D%2C%0A%20%20%20%20%20%20%20%20%20%20%20%20%20%20%20%20%7B%22bubblingMouseEvents%22%3A%20true%2C%20%22color%22%3A%20%22%233388ff%22%2C%20%22dashArray%22%3A%20null%2C%20%22dashOffset%22%3A%20null%2C%20%22fill%22%3A%20false%2C%20%22fillColor%22%3A%20%22%233388ff%22%2C%20%22fillOpacity%22%3A%200.2%2C%20%22fillRule%22%3A%20%22evenodd%22%2C%20%22lineCap%22%3A%20%22round%22%2C%20%22lineJoin%22%3A%20%22round%22%2C%20%22opacity%22%3A%201.0%2C%20%22radius%22%3A%2010%2C%20%22stroke%22%3A%20true%2C%20%22weight%22%3A%203%7D%0A%20%20%20%20%20%20%20%20%20%20%20%20%29.addTo%28map_a5581c3212ba4486b35fa859cd9d4607%29%3B%0A%20%20%20%20%20%20%20%20%0A%20%20%20%20%0A%20%20%20%20%20%20%20%20%20%20%20%20var%20circle_marker_fb4ee8567d4346dca6e4fd8c5328187c%20%3D%20L.circleMarker%28%0A%20%20%20%20%20%20%20%20%20%20%20%20%20%20%20%20%5B35.6833174%2C%20-78.8336113%5D%2C%0A%20%20%20%20%20%20%20%20%20%20%20%20%20%20%20%20%7B%22bubblingMouseEvents%22%3A%20true%2C%20%22color%22%3A%20%22%233388ff%22%2C%20%22dashArray%22%3A%20null%2C%20%22dashOffset%22%3A%20null%2C%20%22fill%22%3A%20false%2C%20%22fillColor%22%3A%20%22%233388ff%22%2C%20%22fillOpacity%22%3A%200.2%2C%20%22fillRule%22%3A%20%22evenodd%22%2C%20%22lineCap%22%3A%20%22round%22%2C%20%22lineJoin%22%3A%20%22round%22%2C%20%22opacity%22%3A%201.0%2C%20%22radius%22%3A%2010%2C%20%22stroke%22%3A%20true%2C%20%22weight%22%3A%203%7D%0A%20%20%20%20%20%20%20%20%20%20%20%20%29.addTo%28map_a5581c3212ba4486b35fa859cd9d4607%29%3B%0A%20%20%20%20%20%20%20%20%0A%20%20%20%20%0A%20%20%20%20%20%20%20%20%20%20%20%20var%20circle_marker_d6cd7a2ecb784965bd5386b9d328489d%20%3D%20L.circleMarker%28%0A%20%20%20%20%20%20%20%20%20%20%20%20%20%20%20%20%5B35.904685%2C%20-78.584217%5D%2C%0A%20%20%20%20%20%20%20%20%20%20%20%20%20%20%20%20%7B%22bubblingMouseEvents%22%3A%20true%2C%20%22color%22%3A%20%22%233388ff%22%2C%20%22dashArray%22%3A%20null%2C%20%22dashOffset%22%3A%20null%2C%20%22fill%22%3A%20false%2C%20%22fillColor%22%3A%20%22%233388ff%22%2C%20%22fillOpacity%22%3A%200.2%2C%20%22fillRule%22%3A%20%22evenodd%22%2C%20%22lineCap%22%3A%20%22round%22%2C%20%22lineJoin%22%3A%20%22round%22%2C%20%22opacity%22%3A%201.0%2C%20%22radius%22%3A%2010%2C%20%22stroke%22%3A%20true%2C%20%22weight%22%3A%203%7D%0A%20%20%20%20%20%20%20%20%20%20%20%20%29.addTo%28map_a5581c3212ba4486b35fa859cd9d4607%29%3B%0A%20%20%20%20%20%20%20%20%0A%20%20%20%20%0A%20%20%20%20%20%20%20%20%20%20%20%20var%20circle_marker_af0134371fe6435682c3775dbc0dc324%20%3D%20L.circleMarker%28%0A%20%20%20%20%20%20%20%20%20%20%20%20%20%20%20%20%5B35.7896528%2C%20-78.3768986%5D%2C%0A%20%20%20%20%20%20%20%20%20%20%20%20%20%20%20%20%7B%22bubblingMouseEvents%22%3A%20true%2C%20%22color%22%3A%20%22%233388ff%22%2C%20%22dashArray%22%3A%20null%2C%20%22dashOffset%22%3A%20null%2C%20%22fill%22%3A%20false%2C%20%22fillColor%22%3A%20%22%233388ff%22%2C%20%22fillOpacity%22%3A%200.2%2C%20%22fillRule%22%3A%20%22evenodd%22%2C%20%22lineCap%22%3A%20%22round%22%2C%20%22lineJoin%22%3A%20%22round%22%2C%20%22opacity%22%3A%201.0%2C%20%22radius%22%3A%2010%2C%20%22stroke%22%3A%20true%2C%20%22weight%22%3A%203%7D%0A%20%20%20%20%20%20%20%20%20%20%20%20%29.addTo%28map_a5581c3212ba4486b35fa859cd9d4607%29%3B%0A%20%20%20%20%20%20%20%20%0A%20%20%20%20%0A%20%20%20%20%20%20%20%20%20%20%20%20var%20circle_marker_f7bab6195e494b869e4ccb8a01d58d37%20%3D%20L.circleMarker%28%0A%20%20%20%20%20%20%20%20%20%20%20%20%20%20%20%20%5B35.6264121%2C%20-78.677047%5D%2C%0A%20%20%20%20%20%20%20%20%20%20%20%20%20%20%20%20%7B%22bubblingMouseEvents%22%3A%20true%2C%20%22color%22%3A%20%22%233388ff%22%2C%20%22dashArray%22%3A%20null%2C%20%22dashOffset%22%3A%20null%2C%20%22fill%22%3A%20false%2C%20%22fillColor%22%3A%20%22%233388ff%22%2C%20%22fillOpacity%22%3A%200.2%2C%20%22fillRule%22%3A%20%22evenodd%22%2C%20%22lineCap%22%3A%20%22round%22%2C%20%22lineJoin%22%3A%20%22round%22%2C%20%22opacity%22%3A%201.0%2C%20%22radius%22%3A%2010%2C%20%22stroke%22%3A%20true%2C%20%22weight%22%3A%203%7D%0A%20%20%20%20%20%20%20%20%20%20%20%20%29.addTo%28map_a5581c3212ba4486b35fa859cd9d4607%29%3B%0A%20%20%20%20%20%20%20%20%0A%20%20%20%20%0A%20%20%20%20%20%20%20%20%20%20%20%20var%20circle_marker_bc15cf3decc34f10bf82661a660aec4d%20%3D%20L.circleMarker%28%0A%20%20%20%20%20%20%20%20%20%20%20%20%20%20%20%20%5B35.6829485%2C%20-78.8446749%5D%2C%0A%20%20%20%20%20%20%20%20%20%20%20%20%20%20%20%20%7B%22bubblingMouseEvents%22%3A%20true%2C%20%22color%22%3A%20%22%233388ff%22%2C%20%22dashArray%22%3A%20null%2C%20%22dashOffset%22%3A%20null%2C%20%22fill%22%3A%20false%2C%20%22fillColor%22%3A%20%22%233388ff%22%2C%20%22fillOpacity%22%3A%200.2%2C%20%22fillRule%22%3A%20%22evenodd%22%2C%20%22lineCap%22%3A%20%22round%22%2C%20%22lineJoin%22%3A%20%22round%22%2C%20%22opacity%22%3A%201.0%2C%20%22radius%22%3A%2010%2C%20%22stroke%22%3A%20true%2C%20%22weight%22%3A%203%7D%0A%20%20%20%20%20%20%20%20%20%20%20%20%29.addTo%28map_a5581c3212ba4486b35fa859cd9d4607%29%3B%0A%20%20%20%20%20%20%20%20%0A%20%20%20%20%0A%20%20%20%20%20%20%20%20%20%20%20%20var%20circle_marker_d6e525cdb6db4ef489745e94f6a962c4%20%3D%20L.circleMarker%28%0A%20%20%20%20%20%20%20%20%20%20%20%20%20%20%20%20%5B35.8399932%2C%20-78.8094177%5D%2C%0A%20%20%20%20%20%20%20%20%20%20%20%20%20%20%20%20%7B%22bubblingMouseEvents%22%3A%20true%2C%20%22color%22%3A%20%22%233388ff%22%2C%20%22dashArray%22%3A%20null%2C%20%22dashOffset%22%3A%20null%2C%20%22fill%22%3A%20false%2C%20%22fillColor%22%3A%20%22%233388ff%22%2C%20%22fillOpacity%22%3A%200.2%2C%20%22fillRule%22%3A%20%22evenodd%22%2C%20%22lineCap%22%3A%20%22round%22%2C%20%22lineJoin%22%3A%20%22round%22%2C%20%22opacity%22%3A%201.0%2C%20%22radius%22%3A%2010%2C%20%22stroke%22%3A%20true%2C%20%22weight%22%3A%203%7D%0A%20%20%20%20%20%20%20%20%20%20%20%20%29.addTo%28map_a5581c3212ba4486b35fa859cd9d4607%29%3B%0A%20%20%20%20%20%20%20%20%0A%20%20%20%20%0A%20%20%20%20%20%20%20%20%20%20%20%20var%20circle_marker_083dda182f6d40839652b2211db0a42f%20%3D%20L.circleMarker%28%0A%20%20%20%20%20%20%20%20%20%20%20%20%20%20%20%20%5B35.7465697%2C%20-78.7331822%5D%2C%0A%20%20%20%20%20%20%20%20%20%20%20%20%20%20%20%20%7B%22bubblingMouseEvents%22%3A%20true%2C%20%22color%22%3A%20%22%233388ff%22%2C%20%22dashArray%22%3A%20null%2C%20%22dashOffset%22%3A%20null%2C%20%22fill%22%3A%20false%2C%20%22fillColor%22%3A%20%22%233388ff%22%2C%20%22fillOpacity%22%3A%200.2%2C%20%22fillRule%22%3A%20%22evenodd%22%2C%20%22lineCap%22%3A%20%22round%22%2C%20%22lineJoin%22%3A%20%22round%22%2C%20%22opacity%22%3A%201.0%2C%20%22radius%22%3A%2010%2C%20%22stroke%22%3A%20true%2C%20%22weight%22%3A%203%7D%0A%20%20%20%20%20%20%20%20%20%20%20%20%29.addTo%28map_a5581c3212ba4486b35fa859cd9d4607%29%3B%0A%20%20%20%20%20%20%20%20%0A%20%20%20%20%0A%20%20%20%20%20%20%20%20%20%20%20%20var%20circle_marker_fa6c673523e84ed79e00ec50f8ec977f%20%3D%20L.circleMarker%28%0A%20%20%20%20%20%20%20%20%20%20%20%20%20%20%20%20%5B35.7257974%2C%20-78.5493627%5D%2C%0A%20%20%20%20%20%20%20%20%20%20%20%20%20%20%20%20%7B%22bubblingMouseEvents%22%3A%20true%2C%20%22color%22%3A%20%22%233388ff%22%2C%20%22dashArray%22%3A%20null%2C%20%22dashOffset%22%3A%20null%2C%20%22fill%22%3A%20false%2C%20%22fillColor%22%3A%20%22%233388ff%22%2C%20%22fillOpacity%22%3A%200.2%2C%20%22fillRule%22%3A%20%22evenodd%22%2C%20%22lineCap%22%3A%20%22round%22%2C%20%22lineJoin%22%3A%20%22round%22%2C%20%22opacity%22%3A%201.0%2C%20%22radius%22%3A%2010%2C%20%22stroke%22%3A%20true%2C%20%22weight%22%3A%203%7D%0A%20%20%20%20%20%20%20%20%20%20%20%20%29.addTo%28map_a5581c3212ba4486b35fa859cd9d4607%29%3B%0A%20%20%20%20%20%20%20%20%0A%20%20%20%20%0A%20%20%20%20%20%20%20%20%20%20%20%20var%20circle_marker_4054b4ba594745febf7a92f66d6642ac%20%3D%20L.circleMarker%28%0A%20%20%20%20%20%20%20%20%20%20%20%20%20%20%20%20%5B35.906651600000004%2C%20-78.50022986590909%5D%2C%0A%20%20%20%20%20%20%20%20%20%20%20%20%20%20%20%20%7B%22bubblingMouseEvents%22%3A%20true%2C%20%22color%22%3A%20%22%233388ff%22%2C%20%22dashArray%22%3A%20null%2C%20%22dashOffset%22%3A%20null%2C%20%22fill%22%3A%20false%2C%20%22fillColor%22%3A%20%22%233388ff%22%2C%20%22fillOpacity%22%3A%200.2%2C%20%22fillRule%22%3A%20%22evenodd%22%2C%20%22lineCap%22%3A%20%22round%22%2C%20%22lineJoin%22%3A%20%22round%22%2C%20%22opacity%22%3A%201.0%2C%20%22radius%22%3A%2010%2C%20%22stroke%22%3A%20true%2C%20%22weight%22%3A%203%7D%0A%20%20%20%20%20%20%20%20%20%20%20%20%29.addTo%28map_a5581c3212ba4486b35fa859cd9d4607%29%3B%0A%20%20%20%20%20%20%20%20%0A%20%20%20%20%0A%20%20%20%20%20%20%20%20%20%20%20%20var%20circle_marker_55069f72fa6648c0a84eb40decb28266%20%3D%20L.circleMarker%28%0A%20%20%20%20%20%20%20%20%20%20%20%20%20%20%20%20%5B35.904685%2C%20-78.584217%5D%2C%0A%20%20%20%20%20%20%20%20%20%20%20%20%20%20%20%20%7B%22bubblingMouseEvents%22%3A%20true%2C%20%22color%22%3A%20%22%233388ff%22%2C%20%22dashArray%22%3A%20null%2C%20%22dashOffset%22%3A%20null%2C%20%22fill%22%3A%20false%2C%20%22fillColor%22%3A%20%22%233388ff%22%2C%20%22fillOpacity%22%3A%200.2%2C%20%22fillRule%22%3A%20%22evenodd%22%2C%20%22lineCap%22%3A%20%22round%22%2C%20%22lineJoin%22%3A%20%22round%22%2C%20%22opacity%22%3A%201.0%2C%20%22radius%22%3A%2010%2C%20%22stroke%22%3A%20true%2C%20%22weight%22%3A%203%7D%0A%20%20%20%20%20%20%20%20%20%20%20%20%29.addTo%28map_a5581c3212ba4486b35fa859cd9d4607%29%3B%0A%20%20%20%20%20%20%20%20%0A%20%20%20%20%0A%20%20%20%20%20%20%20%20%20%20%20%20var%20circle_marker_8f4c210f3f5c44c68a2184e452679486%20%3D%20L.circleMarker%28%0A%20%20%20%20%20%20%20%20%20%20%20%20%20%20%20%20%5B35.97874535%2C%20-78.59321427342616%5D%2C%0A%20%20%20%20%20%20%20%20%20%20%20%20%20%20%20%20%7B%22bubblingMouseEvents%22%3A%20true%2C%20%22color%22%3A%20%22%233388ff%22%2C%20%22dashArray%22%3A%20null%2C%20%22dashOffset%22%3A%20null%2C%20%22fill%22%3A%20false%2C%20%22fillColor%22%3A%20%22%233388ff%22%2C%20%22fillOpacity%22%3A%200.2%2C%20%22fillRule%22%3A%20%22evenodd%22%2C%20%22lineCap%22%3A%20%22round%22%2C%20%22lineJoin%22%3A%20%22round%22%2C%20%22opacity%22%3A%201.0%2C%20%22radius%22%3A%2010%2C%20%22stroke%22%3A%20true%2C%20%22weight%22%3A%203%7D%0A%20%20%20%20%20%20%20%20%20%20%20%20%29.addTo%28map_a5581c3212ba4486b35fa859cd9d4607%29%3B%0A%20%20%20%20%20%20%20%20%0A%20%20%20%20%0A%20%20%20%20%20%20%20%20%20%20%20%20var%20circle_marker_016fa767b08e44d7b36d5a7084803477%20%3D%20L.circleMarker%28%0A%20%20%20%20%20%20%20%20%20%20%20%20%20%20%20%20%5B35.6647827%2C%20-78.9287717%5D%2C%0A%20%20%20%20%20%20%20%20%20%20%20%20%20%20%20%20%7B%22bubblingMouseEvents%22%3A%20true%2C%20%22color%22%3A%20%22%233388ff%22%2C%20%22dashArray%22%3A%20null%2C%20%22dashOffset%22%3A%20null%2C%20%22fill%22%3A%20false%2C%20%22fillColor%22%3A%20%22%233388ff%22%2C%20%22fillOpacity%22%3A%200.2%2C%20%22fillRule%22%3A%20%22evenodd%22%2C%20%22lineCap%22%3A%20%22round%22%2C%20%22lineJoin%22%3A%20%22round%22%2C%20%22opacity%22%3A%201.0%2C%20%22radius%22%3A%2010%2C%20%22stroke%22%3A%20true%2C%20%22weight%22%3A%203%7D%0A%20%20%20%20%20%20%20%20%20%20%20%20%29.addTo%28map_a5581c3212ba4486b35fa859cd9d4607%29%3B%0A%20%20%20%20%20%20%20%20%0A%20%20%20%20%0A%20%20%20%20%20%20%20%20%20%20%20%20var%20circle_marker_e6a162da588b493dab41619037e33c12%20%3D%20L.circleMarker%28%0A%20%20%20%20%20%20%20%20%20%20%20%20%20%20%20%20%5B35.7869656%2C%20-78.45497165819222%5D%2C%0A%20%20%20%20%20%20%20%20%20%20%20%20%20%20%20%20%7B%22bubblingMouseEvents%22%3A%20true%2C%20%22color%22%3A%20%22%233388ff%22%2C%20%22dashArray%22%3A%20null%2C%20%22dashOffset%22%3A%20null%2C%20%22fill%22%3A%20false%2C%20%22fillColor%22%3A%20%22%233388ff%22%2C%20%22fillOpacity%22%3A%200.2%2C%20%22fillRule%22%3A%20%22evenodd%22%2C%20%22lineCap%22%3A%20%22round%22%2C%20%22lineJoin%22%3A%20%22round%22%2C%20%22opacity%22%3A%201.0%2C%20%22radius%22%3A%2010%2C%20%22stroke%22%3A%20true%2C%20%22weight%22%3A%203%7D%0A%20%20%20%20%20%20%20%20%20%20%20%20%29.addTo%28map_a5581c3212ba4486b35fa859cd9d4607%29%3B%0A%20%20%20%20%20%20%20%20%0A%20%20%20%20%0A%20%20%20%20%20%20%20%20%20%20%20%20var%20circle_marker_c8187c7db04f4a90a15551cb4ab61016%20%3D%20L.circleMarker%28%0A%20%20%20%20%20%20%20%20%20%20%20%20%20%20%20%20%5B35.7896528%2C%20-78.3768986%5D%2C%0A%20%20%20%20%20%20%20%20%20%20%20%20%20%20%20%20%7B%22bubblingMouseEvents%22%3A%20true%2C%20%22color%22%3A%20%22%233388ff%22%2C%20%22dashArray%22%3A%20null%2C%20%22dashOffset%22%3A%20null%2C%20%22fill%22%3A%20false%2C%20%22fillColor%22%3A%20%22%233388ff%22%2C%20%22fillOpacity%22%3A%200.2%2C%20%22fillRule%22%3A%20%22evenodd%22%2C%20%22lineCap%22%3A%20%22round%22%2C%20%22lineJoin%22%3A%20%22round%22%2C%20%22opacity%22%3A%201.0%2C%20%22radius%22%3A%2010%2C%20%22stroke%22%3A%20true%2C%20%22weight%22%3A%203%7D%0A%20%20%20%20%20%20%20%20%20%20%20%20%29.addTo%28map_a5581c3212ba4486b35fa859cd9d4607%29%3B%0A%20%20%20%20%20%20%20%20%0A%3C/script%3E onload=\"this.contentDocument.open();this.contentDocument.write(    decodeURIComponent(this.getAttribute('data-html')));this.contentDocument.close();\" allowfullscreen webkitallowfullscreen mozallowfullscreen></iframe></div></div>"
      ],
      "text/plain": [
       "<folium.folium.Map at 0x181ca6d9fa0>"
      ]
     },
     "execution_count": 60,
     "metadata": {},
     "output_type": "execute_result"
    }
   ],
   "source": [
    "import folium\n",
    "map1 = folium.Map(\n",
    "    location=[35.7896528, -78.3768986],\n",
    "    tiles='cartodbpositron',\n",
    "    zoom_start=12,\n",
    ")\n",
    "Adata.apply(lambda row:folium.CircleMarker(location=[row[\"lat\"], row[\"lon\"]]).add_to(map1), axis=1)\n",
    "map1"
   ]
  },
  {
   "cell_type": "code",
   "execution_count": 61,
   "id": "improved-fruit",
   "metadata": {},
   "outputs": [],
   "source": [
    "first = []\n",
    "for i in Adata.index:\n",
    "    r = requests.get(f\"\"\"http://router.project-osrm.org/route/v1/car/{df4.loc[0][\"Longitude\"]},{df4.loc[0][\"Latitude\"]};{Adata.loc[i][\"lon\"]},{Adata.loc[i][\"lat\"]}?overview=false\"\"\")\n",
    "    first.append(json.loads(r.content)[\"routes\"][0][\"distance\"])"
   ]
  },
  {
   "cell_type": "code",
   "execution_count": 62,
   "id": "mobile-trinidad",
   "metadata": {},
   "outputs": [],
   "source": [
    "origin_node = ox.nearest_nodes(G, Adata.loc[first.index(min(first))][\"lat\"],Adata.loc[first.index(min(first))][\"lon\"])"
   ]
  },
  {
   "cell_type": "code",
   "execution_count": 63,
   "id": "angry-afternoon",
   "metadata": {},
   "outputs": [],
   "source": [
    "paths_d = nx.shortest_path(G, mainroute[0],origin_node, weight='travel_time')"
   ]
  },
  {
   "cell_type": "code",
   "execution_count": 64,
   "id": "american-designation",
   "metadata": {},
   "outputs": [],
   "source": [
    "mainroute2 = mainroute+paths_d"
   ]
  },
  {
   "cell_type": "code",
   "execution_count": 65,
   "id": "eastern-battery",
   "metadata": {},
   "outputs": [
    {
     "data": {
      "application/vnd.plotly.v1+json": {
       "config": {
        "plotlyServerURL": "https://plot.ly"
       },
       "data": [
        {
         "lat": [
          35.5675956,
          35.5676306,
          35.5677218,
          35.5677522,
          35.5678222,
          35.5678703,
          35.5679118,
          35.5679782,
          35.5680488,
          35.568112,
          35.568699,
          35.5689755,
          35.5690585,
          35.5690585,
          35.5690743,
          35.5692139,
          35.5692139,
          35.5679081,
          35.5679081,
          35.5673494,
          35.5673494,
          35.5679081,
          35.5679081,
          35.5679882,
          35.5680303,
          35.5680303,
          35.5679882,
          35.5679081,
          35.5679081,
          35.5692139,
          35.5692139,
          35.569436,
          35.5694585,
          35.5694643,
          35.5694643,
          35.5694585,
          35.5694585,
          35.5694643,
          35.5694643,
          35.5685272,
          35.5683425,
          35.5680671,
          35.5680671,
          35.5683425,
          35.5685272,
          35.5694643,
          35.5694643,
          35.5694585,
          35.569436,
          35.5692139,
          35.5692139,
          35.5690743,
          35.5690585,
          35.5690585,
          35.5689755,
          35.568699,
          35.568112,
          35.5680488,
          35.5679782,
          35.5679118,
          35.5678703,
          35.5678222,
          35.5677522,
          35.5677218,
          35.5676306,
          35.5675956,
          35.5675956,
          35.5675288,
          35.5674454,
          35.5673623,
          35.5672457,
          35.5670056,
          35.5670056,
          35.5669838,
          35.5669484,
          35.566949,
          35.5670259,
          35.5670259,
          35.566949,
          35.5669484,
          35.5669838,
          35.5670056,
          35.5670056,
          35.5672457,
          35.5673623,
          35.5674454,
          35.5675288,
          35.5675956,
          35.5675956,
          35.5676306,
          35.5677218,
          35.5677522,
          35.5678222,
          35.5678703,
          35.5679118,
          35.5679782,
          35.5680488,
          35.568112,
          35.568699,
          35.5689755,
          35.5690585,
          35.5690585,
          35.5690743,
          35.5692139,
          35.5692139,
          35.569436,
          35.5694585,
          35.5694643,
          35.5694643,
          35.5685272,
          35.5683425,
          35.5680671,
          35.5680671,
          35.568091,
          35.5681697,
          35.5682404,
          35.5685033,
          35.5686805,
          35.5687272,
          35.5687352,
          35.5687346,
          35.5687346,
          35.5686477,
          35.568559,
          35.5685287,
          35.5685287,
          35.5687632,
          35.5689448,
          35.5692108,
          35.569413,
          35.5697979,
          35.569993,
          35.570172,
          35.570484,
          35.570484,
          35.570746,
          35.5719066,
          35.5720357,
          35.5724582,
          35.5733426,
          35.5734473,
          35.5734473,
          35.5734531,
          35.5734597,
          35.5734873,
          35.5735146,
          35.5735361,
          35.5735574,
          35.5735842,
          35.5735891,
          35.5736109,
          35.5736492,
          35.5737279,
          35.5737791,
          35.5738116,
          35.5738336,
          35.5738514,
          35.5738605,
          35.5738605,
          35.5738694,
          35.5738914,
          35.5739165,
          35.5739469,
          35.5739801,
          35.5740114,
          35.5740631,
          35.5741122,
          35.5741529,
          35.5742087,
          35.5743119,
          35.5743456,
          35.5743456,
          35.5742387,
          35.57407,
          35.5738449,
          35.5738449,
          35.5738204,
          35.5737353,
          35.5736329,
          35.573579,
          35.5735569,
          35.5735569,
          35.5734364,
          35.5733725,
          35.5732536,
          35.5731211,
          35.5728128,
          35.57261,
          35.5722063,
          35.5720531,
          35.5719467,
          35.5718077,
          35.5717087,
          35.5714447,
          35.5714105,
          35.5714105,
          35.5708791,
          35.5707195,
          35.5706088,
          35.5704823,
          35.5703933,
          35.5703564,
          35.5703457,
          35.5703457,
          35.5703334,
          35.5703003,
          35.5703133,
          35.5703613,
          35.5703613,
          35.5703133,
          35.5703003,
          35.5703334,
          35.5703457,
          35.5703457,
          35.5704113,
          35.5705646,
          35.5706892,
          35.5707594,
          35.5715509,
          35.571618,
          35.571618,
          35.5716792,
          35.5719181,
          35.5720624,
          35.572149,
          35.5721787,
          35.5721787,
          35.572149,
          35.5720624,
          35.5719181,
          35.5716792,
          35.571618,
          35.571618,
          35.57167,
          35.5721171,
          35.5721171,
          35.5727038,
          35.5727038,
          35.5728523,
          35.5731944,
          35.5733908,
          35.5734961,
          35.5735569,
          35.5735569,
          35.5734364,
          35.5733725,
          35.5732536,
          35.5731211,
          35.5728128,
          35.57261,
          35.5722063,
          35.5720531,
          35.5719467,
          35.5718077,
          35.5717087,
          35.5714447,
          35.5714105,
          35.5714105,
          35.5714592,
          35.571851,
          35.5719352,
          35.572086,
          35.5722324,
          35.5722324,
          35.572086,
          35.5719352,
          35.571851,
          35.5714592,
          35.5714105,
          35.5714105,
          35.5708791,
          35.5707195,
          35.5706088,
          35.5704823,
          35.5703933,
          35.5703564,
          35.5703457,
          35.5703457,
          35.5703564,
          35.5703933,
          35.5704823,
          35.5706088,
          35.5707195,
          35.5708791,
          35.5714105,
          35.5714105,
          35.5714447,
          35.5717087,
          35.5718077,
          35.5719467,
          35.5720531,
          35.5722063,
          35.57261,
          35.5728128,
          35.5731211,
          35.5732536,
          35.5733725,
          35.5734364,
          35.5735569,
          35.5735569,
          35.573579,
          35.5736329,
          35.5737353,
          35.5738204,
          35.5738449,
          35.5738449,
          35.57389,
          35.5740014,
          35.5741428,
          35.5743933,
          35.5744372,
          35.5744372,
          35.5743824,
          35.5742914,
          35.5741384,
          35.5740336,
          35.573973,
          35.5739441,
          35.5739386,
          35.5739386,
          35.574214,
          35.574214,
          35.5740806,
          35.5740535,
          35.5740535,
          35.5739954,
          35.5739818,
          35.5739818,
          35.5739954,
          35.5740535,
          35.5740535,
          35.5744634,
          35.5744634,
          35.5744443,
          35.5744116,
          35.574214,
          35.574214,
          35.5740806,
          35.5740535,
          35.5740535,
          35.574028,
          35.5739972,
          35.5738934,
          35.5734559,
          35.5732776,
          35.5729574,
          35.5727314,
          35.5726118,
          35.5722823,
          35.5720539,
          35.5718735,
          35.5718735,
          35.5718941,
          35.572018,
          35.5720405,
          35.5720336,
          35.5720336,
          35.5720327,
          35.572029,
          35.5721126,
          35.572179,
          35.5722071,
          35.5722071,
          35.5722511,
          35.5722608,
          35.5723568,
          35.5724576,
          35.5725766,
          35.5728138,
          35.5730574,
          35.5730574,
          35.5730571,
          35.5730476,
          35.5730476,
          35.5730571,
          35.5730574,
          35.5730574,
          35.5732283,
          35.5733957,
          35.5735709,
          35.5736897,
          35.5737326,
          35.5738136,
          35.5738136,
          35.573929,
          35.574065,
          35.5741585,
          35.5742045,
          35.5742474,
          35.5742474,
          35.5746579,
          35.574994,
          35.5751701,
          35.575185,
          35.575185,
          35.5751509,
          35.5750519,
          35.5750519,
          35.5751509,
          35.575185,
          35.575185,
          35.5755519,
          35.5757671,
          35.5758702,
          35.575923,
          35.575979,
          35.575979,
          35.5759256,
          35.575386,
          35.5752393,
          35.5750819,
          35.5749367,
          35.5745884,
          35.5744558,
          35.5743985,
          35.5743985,
          35.574103,
          35.5739818,
          35.5739818,
          35.5739954,
          35.5740535,
          35.5740535,
          35.5740806,
          35.574214,
          35.574214,
          35.5739386,
          35.5739386,
          35.5739441,
          35.573973,
          35.5740336,
          35.5741384,
          35.5742914,
          35.5743824,
          35.5744372,
          35.5744372,
          35.5743933,
          35.5741428,
          35.5740014,
          35.57389,
          35.5738449,
          35.5738449,
          35.5737892,
          35.5737545,
          35.5736874,
          35.5736081,
          35.5735018,
          35.5734456,
          35.5734202,
          35.5734202,
          35.5733541,
          35.5732731,
          35.5731518,
          35.5730207,
          35.5729766,
          35.5729766,
          35.5730207,
          35.5731518,
          35.5732731,
          35.5733541,
          35.5734202,
          35.5734202,
          35.5734456,
          35.5735018,
          35.5736081,
          35.5736874,
          35.5737545,
          35.5737892,
          35.5738449,
          35.5738449,
          35.5738204,
          35.5737353,
          35.5736329,
          35.573579,
          35.5735569,
          35.5735569,
          35.5734961,
          35.5733908,
          35.5731944,
          35.5728523,
          35.5727038,
          35.5727038,
          35.5721171,
          35.5721171,
          35.57167,
          35.571618,
          35.571618,
          35.5716792,
          35.5719181,
          35.5720624,
          35.572149,
          35.5721787,
          35.5721787,
          35.5722176,
          35.5727274,
          35.5729766,
          35.5729766,
          35.5727274,
          35.5722176,
          35.5721787,
          35.5721787,
          35.5721312,
          35.5719167,
          35.571724,
          35.5707295,
          35.5706845,
          35.5706845,
          35.5706326,
          35.570554,
          35.5703781,
          35.5702562,
          35.5702227,
          35.5702227,
          35.5701871,
          35.5701717,
          35.5700451,
          35.5698197,
          35.5697471,
          35.5697011,
          35.5697011,
          35.5696339,
          35.569225,
          35.5682083,
          35.568139,
          35.568139,
          35.5682083,
          35.569225,
          35.5696339,
          35.5697011,
          35.5697011,
          35.5697471,
          35.5698197,
          35.5700451,
          35.5701717,
          35.5701871,
          35.5702227,
          35.5702227,
          35.570155,
          35.5694491,
          35.5694491,
          35.5694787,
          35.5697,
          35.569923,
          35.5699905,
          35.57004,
          35.57004,
          35.569975,
          35.5699388,
          35.5698645,
          35.5697497,
          35.569653,
          35.5695668,
          35.5687103,
          35.5685803,
          35.5684931,
          35.5682114,
          35.568081,
          35.5677659,
          35.567541,
          35.5673849,
          35.5672076,
          35.567095,
          35.5669112,
          35.5668394,
          35.5667274,
          35.5666292,
          35.5665036,
          35.5664715,
          35.5664715,
          35.5665398,
          35.5680563,
          35.568139,
          35.568139,
          35.568169,
          35.568308,
          35.568423,
          35.5685874,
          35.5687046,
          35.5688705,
          35.5689908,
          35.5694491,
          35.5694491,
          35.5694787,
          35.5697,
          35.569923,
          35.5699905,
          35.57004,
          35.57004,
          35.5701059,
          35.5702949,
          35.570507,
          35.5706223,
          35.5706845,
          35.5706845,
          35.5707295,
          35.571724,
          35.5719167,
          35.5721312,
          35.5721787,
          35.5721787,
          35.5722176,
          35.5727274,
          35.5729766,
          35.5729766,
          35.5730207,
          35.5731518,
          35.5732731,
          35.5733541,
          35.5734202,
          35.5734202,
          35.5734456,
          35.5735018,
          35.5736081,
          35.5736874,
          35.5737545,
          35.5737892,
          35.5738449,
          35.5738449,
          35.57407,
          35.5742387,
          35.5743456,
          35.5743456,
          35.5744584,
          35.5746013,
          35.5747568,
          35.5748836,
          35.5750203,
          35.5751097,
          35.5752013,
          35.5753431,
          35.5755088,
          35.5757532,
          35.5758095,
          35.575882,
          35.575882,
          35.5759811,
          35.5759903,
          35.5759903,
          35.5758697,
          35.5757513,
          35.5756387,
          35.5755413,
          35.5754469,
          35.5753765,
          35.5753072,
          35.5752049,
          35.5749879,
          35.574981,
          35.574885,
          35.574885,
          35.5748004,
          35.5744968,
          35.5744372,
          35.5744372,
          35.5744835,
          35.5747186,
          35.5750115,
          35.5750115,
          35.5751411,
          35.5751929,
          35.5751929,
          35.5751411,
          35.5750115,
          35.5750115,
          35.5748969,
          35.5747631,
          35.574645,
          35.57453,
          35.5740239,
          35.5739386,
          35.5739386,
          35.5738752,
          35.5737989,
          35.5731317,
          35.5729622,
          35.5728439,
          35.572527,
          35.5723934,
          35.5723934,
          35.572527,
          35.5728439,
          35.5729622,
          35.5731317,
          35.5737989,
          35.5738752,
          35.5739386,
          35.5739386,
          35.574214,
          35.574214,
          35.5740806,
          35.5740535,
          35.5740535,
          35.574028,
          35.5739972,
          35.5738934,
          35.5734559,
          35.5732776,
          35.5729574,
          35.5727314,
          35.5726118,
          35.5722823,
          35.5720539,
          35.5718735,
          35.5718735,
          35.5718941,
          35.572018,
          35.5720405,
          35.5720336,
          35.5720336,
          35.5721042,
          35.5722152,
          35.572351,
          35.5724724,
          35.5727863,
          35.5729304,
          35.573194,
          35.5734647,
          35.5736117,
          35.5738937,
          35.5739818,
          35.5739818,
          35.574103,
          35.5743985,
          35.5743985,
          35.5744558,
          35.5745884,
          35.5749367,
          35.5750819,
          35.5752393,
          35.575386,
          35.5759256,
          35.575979,
          35.575979,
          35.5759256,
          35.575386,
          35.5752393,
          35.5750819,
          35.5749367,
          35.5745884,
          35.5744558,
          35.5743985,
          35.5743985,
          35.574405,
          35.5744634,
          35.5744634,
          35.5744443,
          35.5744116,
          35.574214,
          35.574214,
          35.5739386,
          35.5739386,
          35.5739441,
          35.573973,
          35.5740336,
          35.5741384,
          35.5742914,
          35.5743824,
          35.5744372,
          35.5744372,
          35.5743933,
          35.5741428,
          35.5740014,
          35.57389,
          35.5738449,
          35.5738449,
          35.5738204,
          35.5737353,
          35.5736329,
          35.573579,
          35.5735569,
          35.5735569,
          35.5734961,
          35.5733908,
          35.5731944,
          35.5728523,
          35.5727038,
          35.5727038,
          35.5721171,
          35.5721171,
          35.57167,
          35.571618,
          35.571618,
          35.5716792,
          35.5719181,
          35.5720624,
          35.572149,
          35.5721787,
          35.5721787,
          35.5722176,
          35.5727274,
          35.5729766,
          35.5729766,
          35.5730207,
          35.5731518,
          35.5732731,
          35.5733541,
          35.5734202,
          35.5734202,
          35.5734456,
          35.5735018,
          35.5736081,
          35.5736874,
          35.5737545,
          35.5737892,
          35.5738449,
          35.5738449,
          35.57407,
          35.5742387,
          35.5743456,
          35.5743456,
          35.5743119,
          35.5742087,
          35.5741529,
          35.5741122,
          35.5740631,
          35.5740114,
          35.5739801,
          35.5739469,
          35.5739165,
          35.5738914,
          35.5738694,
          35.5738605,
          35.5738605,
          35.5738514,
          35.5738336,
          35.5738116,
          35.5737791,
          35.5737279,
          35.5736492,
          35.5736109,
          35.5735891,
          35.5735842,
          35.5735574,
          35.5735361,
          35.5735146,
          35.5734873,
          35.5734597,
          35.5734531,
          35.5734473,
          35.5734473,
          35.5733426,
          35.5724582,
          35.5720357,
          35.5719066,
          35.570746,
          35.570484,
          35.570484,
          35.570172,
          35.569993,
          35.5697979,
          35.569413,
          35.5692108,
          35.5689448,
          35.5687632,
          35.5685287,
          35.5685287,
          35.568559,
          35.5686477,
          35.5687346,
          35.5687346,
          35.5687352,
          35.5687272,
          35.5686805,
          35.5685033,
          35.5682404,
          35.5681697,
          35.568091,
          35.5680671,
          35.5680671,
          35.5683425,
          35.5685272,
          35.5694643,
          35.5694643,
          35.5694585,
          35.569436,
          35.5692139,
          35.5692139,
          35.5690743,
          35.5690585,
          35.5690585,
          35.5689755,
          35.568699,
          35.568112,
          35.5680488,
          35.5679782,
          35.5679118,
          35.5678703,
          35.5678222,
          35.5677522,
          35.5677218,
          35.5676306,
          35.5675956,
          35.5675956,
          35.5676306,
          35.5677218,
          35.5677522,
          35.5678222,
          35.5678703,
          35.5679118,
          35.5679782,
          35.5680488,
          35.568112,
          35.568699,
          35.5689755,
          35.5690585,
          35.5690585,
          35.5690743,
          35.5692139,
          35.5692139,
          35.569436,
          35.5694585,
          35.5694643,
          35.5694643,
          35.5685272,
          35.5683425,
          35.5680671,
          35.5680671,
          35.568091,
          35.5681697,
          35.5682404,
          35.5685033,
          35.5686805,
          35.5687272,
          35.5687352,
          35.5687346,
          35.5687346,
          35.5686477,
          35.568559,
          35.5685287,
          35.5685287,
          35.5687632,
          35.5689448,
          35.5692108,
          35.569413,
          35.5697979,
          35.569993,
          35.570172,
          35.570484,
          35.570484,
          35.570746,
          35.5719066,
          35.5720357,
          35.5724582,
          35.5733426,
          35.5734473,
          35.5734473,
          35.573448,
          35.5734482,
          35.5734011,
          35.5733409,
          35.5733026,
          35.573273,
          35.5732453,
          35.573247,
          35.5732538,
          35.5732697,
          35.5732697,
          35.5732706,
          35.5732706,
          35.5732827,
          35.5732861,
          35.5732997,
          35.573315,
          35.5733235,
          35.5733235,
          35.5733412,
          35.5734,
          35.5735632,
          35.5737995,
          35.5740476,
          35.574258,
          35.5746409,
          35.5751859,
          35.5751859,
          35.575969,
          35.5765192,
          35.5765192,
          35.5769934,
          35.5772246,
          35.5779266,
          35.5782818,
          35.5784545,
          35.5784545,
          35.578722,
          35.57882,
          35.579176,
          35.579176,
          35.5792414,
          35.5792414,
          35.580759,
          35.580759,
          35.581146,
          35.581339,
          35.5816608,
          35.5823605,
          35.5837427,
          35.5838501,
          35.5838501,
          35.5838261,
          35.5838128,
          35.583798,
          35.5837858,
          35.583783,
          35.5837978,
          35.5838178,
          35.583845,
          35.5838836,
          35.5838836,
          35.5839311,
          35.5839836,
          35.5840396,
          35.5841001,
          35.5843196,
          35.5844488,
          35.5844978,
          35.5844978,
          35.5845832,
          35.5849259,
          35.5849774,
          35.5853229,
          35.5857199,
          35.5858959,
          35.5860175,
          35.5864325,
          35.5866781,
          35.5866781,
          35.5868022,
          35.5868372,
          35.5869351,
          35.5870045,
          35.5870827,
          35.5871583,
          35.5872379,
          35.5873459,
          35.5874347,
          35.5875334,
          35.587687,
          35.5880969,
          35.5883013,
          35.5884251,
          35.5884251,
          35.5885276,
          35.5887847,
          35.588866,
          35.588866,
          35.588837,
          35.588832,
          35.588752,
          35.5887459,
          35.58857,
          35.5885642,
          35.58856,
          35.5885942,
          35.5885942,
          35.588595,
          35.5885652,
          35.5885136,
          35.5884451,
          35.5883569,
          35.5882216,
          35.5867218,
          35.5866425,
          35.5866425,
          35.5863534,
          35.5861896,
          35.585661,
          35.585294,
          35.585294,
          35.5845061,
          35.5839973,
          35.5837467,
          35.5834977,
          35.5834977,
          35.5834115,
          35.5833345,
          35.5832839,
          35.5832315,
          35.583186,
          35.5831261,
          35.5830906,
          35.5830603,
          35.5830233,
          35.5829918,
          35.5829678,
          35.582949,
          35.5829113,
          35.5829113,
          35.5829,
          35.5829008,
          35.5829068,
          35.582908,
          35.5829119,
          35.5829396,
          35.5829396,
          35.5823939,
          35.5822352,
          35.5814412,
          35.5808961,
          35.580643,
          35.5796239,
          35.579548,
          35.5788166,
          35.5785442,
          35.5781693,
          35.5776406,
          35.5769411,
          35.5769411,
          35.5762687,
          35.5757082,
          35.575241,
          35.575241,
          35.5747139,
          35.5746963,
          35.5741384,
          35.5733805,
          35.5733805,
          35.5717517,
          35.5717517,
          35.5716929,
          35.5717175,
          35.5717486,
          35.5717486,
          35.5717668,
          35.571786,
          35.5717875,
          35.5717708,
          35.5717657,
          35.5717657,
          35.5717587,
          35.5716855,
          35.5716042,
          35.5715895,
          35.5715796,
          35.5715796,
          35.5715637,
          35.5715288,
          35.5714511,
          35.5713503,
          35.5713072,
          35.5712854,
          35.5712854,
          35.5712418,
          35.5711288,
          35.5709507,
          35.5708286,
          35.5707973,
          35.5707973,
          35.5707689,
          35.5707647,
          35.5707232,
          35.5706755,
          35.5706032,
          35.5704575,
          35.5704112,
          35.5704112,
          35.5703771,
          35.570331,
          35.570282,
          35.5702438,
          35.5702223,
          35.5702142,
          35.5702115,
          35.5702436,
          35.5703197,
          35.5703904,
          35.5703904,
          35.5704685,
          35.5705376,
          35.5707357,
          35.5707851,
          35.5707851,
          35.5707136,
          35.5704475,
          35.5703126
         ],
         "line": {
          "color": "grey",
          "width": 4.5
         },
         "lon": [
          -78.8089909,
          -78.8089262,
          -78.8087575,
          -78.8086577,
          -78.8083489,
          -78.8082478,
          -78.8081972,
          -78.8081524,
          -78.8081301,
          -78.8081305,
          -78.8082866,
          -78.8083598,
          -78.8083818,
          -78.8083818,
          -78.8082864,
          -78.8074274,
          -78.8074274,
          -78.8070709,
          -78.8070709,
          -78.8069184,
          -78.8069184,
          -78.8070709,
          -78.8070709,
          -78.8066112,
          -78.8062902,
          -78.8062902,
          -78.8066112,
          -78.8070709,
          -78.8070709,
          -78.8074274,
          -78.8074274,
          -78.8060612,
          -78.8059058,
          -78.8057714,
          -78.8057714,
          -78.8052122,
          -78.8052122,
          -78.8057714,
          -78.8057714,
          -78.8057913,
          -78.8057862,
          -78.8056218,
          -78.8056218,
          -78.8057862,
          -78.8057913,
          -78.8057714,
          -78.8057714,
          -78.8059058,
          -78.8060612,
          -78.8074274,
          -78.8074274,
          -78.8082864,
          -78.8083818,
          -78.8083818,
          -78.8083598,
          -78.8082866,
          -78.8081305,
          -78.8081301,
          -78.8081524,
          -78.8081972,
          -78.8082478,
          -78.8083489,
          -78.8086577,
          -78.8087575,
          -78.8089262,
          -78.8089909,
          -78.8089909,
          -78.808946,
          -78.8089079,
          -78.8088961,
          -78.8089109,
          -78.808993,
          -78.808993,
          -78.8089,
          -78.8087493,
          -78.8086293,
          -78.8082313,
          -78.8082313,
          -78.8086293,
          -78.8087493,
          -78.8089,
          -78.808993,
          -78.808993,
          -78.8089109,
          -78.8088961,
          -78.8089079,
          -78.808946,
          -78.8089909,
          -78.8089909,
          -78.8089262,
          -78.8087575,
          -78.8086577,
          -78.8083489,
          -78.8082478,
          -78.8081972,
          -78.8081524,
          -78.8081301,
          -78.8081305,
          -78.8082866,
          -78.8083598,
          -78.8083818,
          -78.8083818,
          -78.8082864,
          -78.8074274,
          -78.8074274,
          -78.8060612,
          -78.8059058,
          -78.8057714,
          -78.8057714,
          -78.8057913,
          -78.8057862,
          -78.8056218,
          -78.8056218,
          -78.8055739,
          -78.8053733,
          -78.8051251,
          -78.8040726,
          -78.8033239,
          -78.8030229,
          -78.8027938,
          -78.8025767,
          -78.8025767,
          -78.801832,
          -78.8012082,
          -78.8010445,
          -78.8010445,
          -78.8009264,
          -78.800835,
          -78.800746,
          -78.800692,
          -78.8006096,
          -78.800608,
          -78.800603,
          -78.800594,
          -78.800594,
          -78.8005945,
          -78.8005967,
          -78.8005969,
          -78.8005977,
          -78.8005917,
          -78.800591,
          -78.800591,
          -78.8007184,
          -78.8007777,
          -78.8011038,
          -78.8014149,
          -78.8016596,
          -78.8019128,
          -78.8022326,
          -78.8022865,
          -78.8025242,
          -78.8029947,
          -78.8038795,
          -78.8044639,
          -78.8048452,
          -78.8050929,
          -78.805294,
          -78.8054067,
          -78.8054067,
          -78.805518,
          -78.8057286,
          -78.805919,
          -78.8061059,
          -78.806291,
          -78.8064474,
          -78.8066628,
          -78.8068562,
          -78.8070002,
          -78.8071827,
          -78.8074797,
          -78.8075693,
          -78.8075693,
          -78.8076371,
          -78.8077365,
          -78.8078667,
          -78.8078667,
          -78.807797,
          -78.8075547,
          -78.8072315,
          -78.807026,
          -78.8069416,
          -78.8069416,
          -78.8064213,
          -78.8062913,
          -78.8061595,
          -78.8061194,
          -78.8060692,
          -78.8059952,
          -78.8056016,
          -78.8055523,
          -78.805569,
          -78.805632,
          -78.8057366,
          -78.8060651,
          -78.8061076,
          -78.8061076,
          -78.8067943,
          -78.8070525,
          -78.8072831,
          -78.8075944,
          -78.8079187,
          -78.8080813,
          -78.808151,
          -78.808151,
          -78.8082278,
          -78.8085735,
          -78.8091336,
          -78.8093078,
          -78.8093078,
          -78.8091336,
          -78.8085735,
          -78.8082278,
          -78.808151,
          -78.808151,
          -78.8081701,
          -78.8082143,
          -78.8082763,
          -78.8083302,
          -78.809139,
          -78.8092075,
          -78.8092075,
          -78.8092694,
          -78.8095112,
          -78.8097492,
          -78.8099112,
          -78.8099667,
          -78.8099667,
          -78.8099112,
          -78.8097492,
          -78.8095112,
          -78.8092694,
          -78.8092075,
          -78.8092075,
          -78.8091311,
          -78.8084741,
          -78.8084741,
          -78.8076113,
          -78.8076113,
          -78.8074184,
          -78.8071094,
          -78.8070015,
          -78.8069635,
          -78.8069416,
          -78.8069416,
          -78.8064213,
          -78.8062913,
          -78.8061595,
          -78.8061194,
          -78.8060692,
          -78.8059952,
          -78.8056016,
          -78.8055523,
          -78.805569,
          -78.805632,
          -78.8057366,
          -78.8060651,
          -78.8061076,
          -78.8061076,
          -78.8061636,
          -78.806615,
          -78.8066817,
          -78.8067378,
          -78.8068354,
          -78.8068354,
          -78.8067378,
          -78.8066817,
          -78.806615,
          -78.8061636,
          -78.8061076,
          -78.8061076,
          -78.8067943,
          -78.8070525,
          -78.8072831,
          -78.8075944,
          -78.8079187,
          -78.8080813,
          -78.808151,
          -78.808151,
          -78.8080813,
          -78.8079187,
          -78.8075944,
          -78.8072831,
          -78.8070525,
          -78.8067943,
          -78.8061076,
          -78.8061076,
          -78.8060651,
          -78.8057366,
          -78.805632,
          -78.805569,
          -78.8055523,
          -78.8056016,
          -78.8059952,
          -78.8060692,
          -78.8061194,
          -78.8061595,
          -78.8062913,
          -78.8064213,
          -78.8069416,
          -78.8069416,
          -78.807026,
          -78.8072315,
          -78.8075547,
          -78.807797,
          -78.8078667,
          -78.8078667,
          -78.8079728,
          -78.8082457,
          -78.8085596,
          -78.8090221,
          -78.8091032,
          -78.8091032,
          -78.8091466,
          -78.8092186,
          -78.8093881,
          -78.8095571,
          -78.8098024,
          -78.8103453,
          -78.810449,
          -78.810449,
          -78.8113316,
          -78.8113316,
          -78.811979,
          -78.8121107,
          -78.8121107,
          -78.8129821,
          -78.8131853,
          -78.8131853,
          -78.8129821,
          -78.8121107,
          -78.8121107,
          -78.812128,
          -78.812128,
          -78.8120305,
          -78.8118631,
          -78.8113316,
          -78.8113316,
          -78.811979,
          -78.8121107,
          -78.8121107,
          -78.812113,
          -78.8121189,
          -78.812139,
          -78.8123675,
          -78.8124114,
          -78.8123995,
          -78.8124158,
          -78.8124499,
          -78.8126676,
          -78.8128297,
          -78.8129339,
          -78.8129339,
          -78.8130097,
          -78.813467,
          -78.8136691,
          -78.8138161,
          -78.8138161,
          -78.8138718,
          -78.814098,
          -78.8145684,
          -78.814823,
          -78.8148838,
          -78.8148838,
          -78.8149429,
          -78.814956,
          -78.815036,
          -78.8150872,
          -78.8151185,
          -78.8151034,
          -78.8150872,
          -78.8150872,
          -78.8150058,
          -78.8143864,
          -78.8143864,
          -78.8150058,
          -78.8150872,
          -78.8150872,
          -78.8151015,
          -78.8151584,
          -78.8152729,
          -78.8153566,
          -78.8153854,
          -78.8154399,
          -78.8154399,
          -78.8154666,
          -78.8154678,
          -78.8154343,
          -78.815395,
          -78.8153584,
          -78.8153584,
          -78.8149573,
          -78.8146184,
          -78.8144508,
          -78.8144414,
          -78.8144414,
          -78.8143794,
          -78.8141912,
          -78.8141912,
          -78.8143794,
          -78.8144414,
          -78.8144414,
          -78.8142098,
          -78.8140831,
          -78.8139894,
          -78.8139163,
          -78.8138387,
          -78.8138387,
          -78.8137961,
          -78.8133662,
          -78.8132533,
          -78.8131809,
          -78.8131609,
          -78.8131425,
          -78.8131357,
          -78.8131327,
          -78.8131327,
          -78.8131313,
          -78.8131853,
          -78.8131853,
          -78.8129821,
          -78.8121107,
          -78.8121107,
          -78.811979,
          -78.8113316,
          -78.8113316,
          -78.810449,
          -78.810449,
          -78.8103453,
          -78.8098024,
          -78.8095571,
          -78.8093881,
          -78.8092186,
          -78.8091466,
          -78.8091032,
          -78.8091032,
          -78.8090221,
          -78.8085596,
          -78.8082457,
          -78.8079728,
          -78.8078667,
          -78.8078667,
          -78.8078999,
          -78.8079206,
          -78.8079608,
          -78.8080278,
          -78.8081733,
          -78.8083434,
          -78.8084202,
          -78.8084202,
          -78.8086842,
          -78.8089743,
          -78.8092218,
          -78.8093826,
          -78.8094367,
          -78.8094367,
          -78.8093826,
          -78.8092218,
          -78.8089743,
          -78.8086842,
          -78.8084202,
          -78.8084202,
          -78.8083434,
          -78.8081733,
          -78.8080278,
          -78.8079608,
          -78.8079206,
          -78.8078999,
          -78.8078667,
          -78.8078667,
          -78.807797,
          -78.8075547,
          -78.8072315,
          -78.807026,
          -78.8069416,
          -78.8069416,
          -78.8069635,
          -78.8070015,
          -78.8071094,
          -78.8074184,
          -78.8076113,
          -78.8076113,
          -78.8084741,
          -78.8084741,
          -78.8091311,
          -78.8092075,
          -78.8092075,
          -78.8092694,
          -78.8095112,
          -78.8097492,
          -78.8099112,
          -78.8099667,
          -78.8099667,
          -78.8099443,
          -78.8096503,
          -78.8094367,
          -78.8094367,
          -78.8096503,
          -78.8099443,
          -78.8099667,
          -78.8099667,
          -78.8100125,
          -78.8102194,
          -78.8104852,
          -78.812221,
          -78.8122995,
          -78.8122995,
          -78.8123895,
          -78.8125258,
          -78.8128322,
          -78.8131244,
          -78.8132046,
          -78.8132046,
          -78.8132983,
          -78.8133389,
          -78.8135851,
          -78.8139415,
          -78.8140532,
          -78.8141241,
          -78.8141241,
          -78.8140689,
          -78.813733,
          -78.8131413,
          -78.813101,
          -78.813101,
          -78.8131413,
          -78.813733,
          -78.8140689,
          -78.8141241,
          -78.8141241,
          -78.8140532,
          -78.8139415,
          -78.8135851,
          -78.8133389,
          -78.8132983,
          -78.8132046,
          -78.8132046,
          -78.8131627,
          -78.8127255,
          -78.8127255,
          -78.8126568,
          -78.812144,
          -78.81179,
          -78.8117086,
          -78.811649,
          -78.811649,
          -78.8115591,
          -78.8115091,
          -78.8114172,
          -78.8113384,
          -78.811304,
          -78.8112847,
          -78.8113299,
          -78.8113106,
          -78.8112715,
          -78.811118,
          -78.811065,
          -78.8110191,
          -78.8109834,
          -78.8109974,
          -78.8110578,
          -78.811111,
          -78.8112608,
          -78.811355,
          -78.8115268,
          -78.8117489,
          -78.8120781,
          -78.8121623,
          -78.8121623,
          -78.8122008,
          -78.8130545,
          -78.813101,
          -78.813101,
          -78.8130235,
          -78.812664,
          -78.8125228,
          -78.8124199,
          -78.8123871,
          -78.8123916,
          -78.8124354,
          -78.8127255,
          -78.8127255,
          -78.8126568,
          -78.812144,
          -78.81179,
          -78.8117086,
          -78.811649,
          -78.811649,
          -78.8117276,
          -78.8119531,
          -78.812157,
          -78.8122495,
          -78.8122995,
          -78.8122995,
          -78.812221,
          -78.8104852,
          -78.8102194,
          -78.8100125,
          -78.8099667,
          -78.8099667,
          -78.8099443,
          -78.8096503,
          -78.8094367,
          -78.8094367,
          -78.8093826,
          -78.8092218,
          -78.8089743,
          -78.8086842,
          -78.8084202,
          -78.8084202,
          -78.8083434,
          -78.8081733,
          -78.8080278,
          -78.8079608,
          -78.8079206,
          -78.8078999,
          -78.8078667,
          -78.8078667,
          -78.8077365,
          -78.8076371,
          -78.8075693,
          -78.8075693,
          -78.8075015,
          -78.8074221,
          -78.8073476,
          -78.8073009,
          -78.8072609,
          -78.8072371,
          -78.8072186,
          -78.807195,
          -78.8071705,
          -78.8071352,
          -78.8071264,
          -78.807115,
          -78.807115,
          -78.8079689,
          -78.8080484,
          -78.8080484,
          -78.8080691,
          -78.8080991,
          -78.8081404,
          -78.8081856,
          -78.8082358,
          -78.8082778,
          -78.8083265,
          -78.80841,
          -78.8085963,
          -78.8086024,
          -78.808687,
          -78.808687,
          -78.8087667,
          -78.809048,
          -78.8091032,
          -78.8091032,
          -78.8091726,
          -78.8095246,
          -78.8099298,
          -78.8099298,
          -78.8100721,
          -78.8102444,
          -78.8102444,
          -78.8100721,
          -78.8099298,
          -78.8099298,
          -78.8100837,
          -78.8102316,
          -78.8103276,
          -78.8103634,
          -78.8104367,
          -78.810449,
          -78.810449,
          -78.8104634,
          -78.8104807,
          -78.8108203,
          -78.8108753,
          -78.8108946,
          -78.8108959,
          -78.8109519,
          -78.8109519,
          -78.8108959,
          -78.8108946,
          -78.8108753,
          -78.8108203,
          -78.8104807,
          -78.8104634,
          -78.810449,
          -78.810449,
          -78.8113316,
          -78.8113316,
          -78.811979,
          -78.8121107,
          -78.8121107,
          -78.812113,
          -78.8121189,
          -78.812139,
          -78.8123675,
          -78.8124114,
          -78.8123995,
          -78.8124158,
          -78.8124499,
          -78.8126676,
          -78.8128297,
          -78.8129339,
          -78.8129339,
          -78.8130097,
          -78.813467,
          -78.8136691,
          -78.8138161,
          -78.8138161,
          -78.8138101,
          -78.8138006,
          -78.8137716,
          -78.8137188,
          -78.8134952,
          -78.8134431,
          -78.8134138,
          -78.8133868,
          -78.8133663,
          -78.8132284,
          -78.8131853,
          -78.8131853,
          -78.8131313,
          -78.8131327,
          -78.8131327,
          -78.8131357,
          -78.8131425,
          -78.8131609,
          -78.8131809,
          -78.8132533,
          -78.8133662,
          -78.8137961,
          -78.8138387,
          -78.8138387,
          -78.8137961,
          -78.8133662,
          -78.8132533,
          -78.8131809,
          -78.8131609,
          -78.8131425,
          -78.8131357,
          -78.8131327,
          -78.8131327,
          -78.813032,
          -78.812128,
          -78.812128,
          -78.8120305,
          -78.8118631,
          -78.8113316,
          -78.8113316,
          -78.810449,
          -78.810449,
          -78.8103453,
          -78.8098024,
          -78.8095571,
          -78.8093881,
          -78.8092186,
          -78.8091466,
          -78.8091032,
          -78.8091032,
          -78.8090221,
          -78.8085596,
          -78.8082457,
          -78.8079728,
          -78.8078667,
          -78.8078667,
          -78.807797,
          -78.8075547,
          -78.8072315,
          -78.807026,
          -78.8069416,
          -78.8069416,
          -78.8069635,
          -78.8070015,
          -78.8071094,
          -78.8074184,
          -78.8076113,
          -78.8076113,
          -78.8084741,
          -78.8084741,
          -78.8091311,
          -78.8092075,
          -78.8092075,
          -78.8092694,
          -78.8095112,
          -78.8097492,
          -78.8099112,
          -78.8099667,
          -78.8099667,
          -78.8099443,
          -78.8096503,
          -78.8094367,
          -78.8094367,
          -78.8093826,
          -78.8092218,
          -78.8089743,
          -78.8086842,
          -78.8084202,
          -78.8084202,
          -78.8083434,
          -78.8081733,
          -78.8080278,
          -78.8079608,
          -78.8079206,
          -78.8078999,
          -78.8078667,
          -78.8078667,
          -78.8077365,
          -78.8076371,
          -78.8075693,
          -78.8075693,
          -78.8074797,
          -78.8071827,
          -78.8070002,
          -78.8068562,
          -78.8066628,
          -78.8064474,
          -78.806291,
          -78.8061059,
          -78.805919,
          -78.8057286,
          -78.805518,
          -78.8054067,
          -78.8054067,
          -78.805294,
          -78.8050929,
          -78.8048452,
          -78.8044639,
          -78.8038795,
          -78.8029947,
          -78.8025242,
          -78.8022865,
          -78.8022326,
          -78.8019128,
          -78.8016596,
          -78.8014149,
          -78.8011038,
          -78.8007777,
          -78.8007184,
          -78.800591,
          -78.800591,
          -78.8005917,
          -78.8005977,
          -78.8005969,
          -78.8005967,
          -78.8005945,
          -78.800594,
          -78.800594,
          -78.800603,
          -78.800608,
          -78.8006096,
          -78.800692,
          -78.800746,
          -78.800835,
          -78.8009264,
          -78.8010445,
          -78.8010445,
          -78.8012082,
          -78.801832,
          -78.8025767,
          -78.8025767,
          -78.8027938,
          -78.8030229,
          -78.8033239,
          -78.8040726,
          -78.8051251,
          -78.8053733,
          -78.8055739,
          -78.8056218,
          -78.8056218,
          -78.8057862,
          -78.8057913,
          -78.8057714,
          -78.8057714,
          -78.8059058,
          -78.8060612,
          -78.8074274,
          -78.8074274,
          -78.8082864,
          -78.8083818,
          -78.8083818,
          -78.8083598,
          -78.8082866,
          -78.8081305,
          -78.8081301,
          -78.8081524,
          -78.8081972,
          -78.8082478,
          -78.8083489,
          -78.8086577,
          -78.8087575,
          -78.8089262,
          -78.8089909,
          -78.8089909,
          -78.8089262,
          -78.8087575,
          -78.8086577,
          -78.8083489,
          -78.8082478,
          -78.8081972,
          -78.8081524,
          -78.8081301,
          -78.8081305,
          -78.8082866,
          -78.8083598,
          -78.8083818,
          -78.8083818,
          -78.8082864,
          -78.8074274,
          -78.8074274,
          -78.8060612,
          -78.8059058,
          -78.8057714,
          -78.8057714,
          -78.8057913,
          -78.8057862,
          -78.8056218,
          -78.8056218,
          -78.8055739,
          -78.8053733,
          -78.8051251,
          -78.8040726,
          -78.8033239,
          -78.8030229,
          -78.8027938,
          -78.8025767,
          -78.8025767,
          -78.801832,
          -78.8012082,
          -78.8010445,
          -78.8010445,
          -78.8009264,
          -78.800835,
          -78.800746,
          -78.800692,
          -78.8006096,
          -78.800608,
          -78.800603,
          -78.800594,
          -78.800594,
          -78.8005945,
          -78.8005967,
          -78.8005969,
          -78.8005977,
          -78.8005917,
          -78.800591,
          -78.800591,
          -78.8004537,
          -78.8004099,
          -78.8000464,
          -78.7997104,
          -78.7994507,
          -78.799191,
          -78.798942,
          -78.7975292,
          -78.7966327,
          -78.7960352,
          -78.7960352,
          -78.7959463,
          -78.7959463,
          -78.7947852,
          -78.7935187,
          -78.7910381,
          -78.7904675,
          -78.7903024,
          -78.7903024,
          -78.7901958,
          -78.7898406,
          -78.7893578,
          -78.7889315,
          -78.7885971,
          -78.788377,
          -78.7881143,
          -78.7878129,
          -78.7878129,
          -78.787374,
          -78.7870819,
          -78.7870819,
          -78.7868123,
          -78.7866723,
          -78.7861498,
          -78.7858384,
          -78.7856605,
          -78.7856605,
          -78.785385,
          -78.785293,
          -78.7849314,
          -78.7849314,
          -78.7848615,
          -78.7848615,
          -78.783238,
          -78.783238,
          -78.782966,
          -78.782888,
          -78.7828,
          -78.7826989,
          -78.782522,
          -78.7825087,
          -78.7825087,
          -78.7823736,
          -78.7822921,
          -78.7821343,
          -78.7819044,
          -78.7816846,
          -78.7814526,
          -78.7812189,
          -78.7810259,
          -78.7808004,
          -78.7808004,
          -78.7806023,
          -78.7804034,
          -78.780236,
          -78.7800726,
          -78.7795505,
          -78.7792682,
          -78.7791611,
          -78.7791611,
          -78.7792206,
          -78.7794593,
          -78.7794948,
          -78.7797329,
          -78.7800172,
          -78.7801156,
          -78.7801613,
          -78.7802693,
          -78.7803332,
          -78.7803332,
          -78.7800333,
          -78.7799461,
          -78.7797026,
          -78.77953,
          -78.779391,
          -78.77929,
          -78.7792121,
          -78.7791449,
          -78.7791029,
          -78.7790744,
          -78.7790548,
          -78.779013,
          -78.778982,
          -78.7789633,
          -78.7789633,
          -78.7788921,
          -78.7788643,
          -78.7788923,
          -78.7788923,
          -78.778297,
          -78.778235,
          -78.777082,
          -78.7769951,
          -78.774475,
          -78.7740782,
          -78.773789,
          -78.7731576,
          -78.7731576,
          -78.7729684,
          -78.7726898,
          -78.7724863,
          -78.7722727,
          -78.7720912,
          -78.7718778,
          -78.7696465,
          -78.7695285,
          -78.7695285,
          -78.7691151,
          -78.7688881,
          -78.768115,
          -78.7675943,
          -78.7675943,
          -78.7664673,
          -78.7657516,
          -78.7653832,
          -78.7650191,
          -78.7650191,
          -78.7649011,
          -78.7647735,
          -78.7646784,
          -78.764576,
          -78.7644728,
          -78.7643228,
          -78.7642119,
          -78.7640811,
          -78.7638766,
          -78.7636524,
          -78.7633021,
          -78.7629501,
          -78.7612912,
          -78.7612912,
          -78.760193,
          -78.7600296,
          -78.758726,
          -78.75847,
          -78.7582517,
          -78.7568629,
          -78.7568629,
          -78.7568151,
          -78.7568012,
          -78.7567175,
          -78.7566628,
          -78.7566331,
          -78.7565299,
          -78.7565206,
          -78.7564529,
          -78.7564209,
          -78.7563814,
          -78.75633,
          -78.7562571,
          -78.7562571,
          -78.7561909,
          -78.756148,
          -78.7560892,
          -78.7560892,
          -78.7560331,
          -78.7560311,
          -78.7559666,
          -78.7558791,
          -78.7558791,
          -78.755689,
          -78.755689,
          -78.7555178,
          -78.7553321,
          -78.7551978,
          -78.7551978,
          -78.7549741,
          -78.7547269,
          -78.7543264,
          -78.7538544,
          -78.753752,
          -78.753752,
          -78.7536372,
          -78.7525481,
          -78.751628,
          -78.7514843,
          -78.7513843,
          -78.7513843,
          -78.7512919,
          -78.7510217,
          -78.7505214,
          -78.7499699,
          -78.7497273,
          -78.7496045,
          -78.7496045,
          -78.7494373,
          -78.7489551,
          -78.7482452,
          -78.7477904,
          -78.7476798,
          -78.7476798,
          -78.7475907,
          -78.7475735,
          -78.7474205,
          -78.7472675,
          -78.747093,
          -78.7468449,
          -78.7467564,
          -78.7467564,
          -78.7466955,
          -78.7465975,
          -78.7464781,
          -78.7463436,
          -78.7462177,
          -78.7460822,
          -78.7459385,
          -78.7457212,
          -78.7454799,
          -78.7452941,
          -78.7452941,
          -78.7450969,
          -78.7449215,
          -78.7444325,
          -78.7442883,
          -78.7442883,
          -78.7442474,
          -78.7440888,
          -78.7440051
         ],
         "marker": {
          "size": 10
         },
         "mode": "lines",
         "name": "Path",
         "type": "scattermapbox"
        },
        {
         "lat": [
          35.5675956
         ],
         "lon": [
          -78.8089909
         ],
         "marker": {
          "color": "red",
          "size": 12
         },
         "mode": "markers",
         "name": "Source",
         "type": "scattermapbox"
        },
        {
         "lat": [
          35.5675956
         ],
         "lon": [
          -78.8089909
         ],
         "marker": {
          "color": "green",
          "size": 12
         },
         "mode": "markers",
         "name": "Destination",
         "type": "scattermapbox"
        }
       ],
       "layout": {
        "mapbox": {
         "center": {
          "lat": 35.57317115191816,
          "lon": -78.80099047800512
         },
         "style": "carto-darkmatter",
         "zoom": 13
        },
        "margin": {
         "b": 0,
         "l": 0,
         "r": 0,
         "t": 0
        },
        "template": {
         "data": {
          "bar": [
           {
            "error_x": {
             "color": "#2a3f5f"
            },
            "error_y": {
             "color": "#2a3f5f"
            },
            "marker": {
             "line": {
              "color": "#E5ECF6",
              "width": 0.5
             }
            },
            "type": "bar"
           }
          ],
          "barpolar": [
           {
            "marker": {
             "line": {
              "color": "#E5ECF6",
              "width": 0.5
             }
            },
            "type": "barpolar"
           }
          ],
          "carpet": [
           {
            "aaxis": {
             "endlinecolor": "#2a3f5f",
             "gridcolor": "white",
             "linecolor": "white",
             "minorgridcolor": "white",
             "startlinecolor": "#2a3f5f"
            },
            "baxis": {
             "endlinecolor": "#2a3f5f",
             "gridcolor": "white",
             "linecolor": "white",
             "minorgridcolor": "white",
             "startlinecolor": "#2a3f5f"
            },
            "type": "carpet"
           }
          ],
          "choropleth": [
           {
            "colorbar": {
             "outlinewidth": 0,
             "ticks": ""
            },
            "type": "choropleth"
           }
          ],
          "contour": [
           {
            "colorbar": {
             "outlinewidth": 0,
             "ticks": ""
            },
            "colorscale": [
             [
              0,
              "#0d0887"
             ],
             [
              0.1111111111111111,
              "#46039f"
             ],
             [
              0.2222222222222222,
              "#7201a8"
             ],
             [
              0.3333333333333333,
              "#9c179e"
             ],
             [
              0.4444444444444444,
              "#bd3786"
             ],
             [
              0.5555555555555556,
              "#d8576b"
             ],
             [
              0.6666666666666666,
              "#ed7953"
             ],
             [
              0.7777777777777778,
              "#fb9f3a"
             ],
             [
              0.8888888888888888,
              "#fdca26"
             ],
             [
              1,
              "#f0f921"
             ]
            ],
            "type": "contour"
           }
          ],
          "contourcarpet": [
           {
            "colorbar": {
             "outlinewidth": 0,
             "ticks": ""
            },
            "type": "contourcarpet"
           }
          ],
          "heatmap": [
           {
            "colorbar": {
             "outlinewidth": 0,
             "ticks": ""
            },
            "colorscale": [
             [
              0,
              "#0d0887"
             ],
             [
              0.1111111111111111,
              "#46039f"
             ],
             [
              0.2222222222222222,
              "#7201a8"
             ],
             [
              0.3333333333333333,
              "#9c179e"
             ],
             [
              0.4444444444444444,
              "#bd3786"
             ],
             [
              0.5555555555555556,
              "#d8576b"
             ],
             [
              0.6666666666666666,
              "#ed7953"
             ],
             [
              0.7777777777777778,
              "#fb9f3a"
             ],
             [
              0.8888888888888888,
              "#fdca26"
             ],
             [
              1,
              "#f0f921"
             ]
            ],
            "type": "heatmap"
           }
          ],
          "heatmapgl": [
           {
            "colorbar": {
             "outlinewidth": 0,
             "ticks": ""
            },
            "colorscale": [
             [
              0,
              "#0d0887"
             ],
             [
              0.1111111111111111,
              "#46039f"
             ],
             [
              0.2222222222222222,
              "#7201a8"
             ],
             [
              0.3333333333333333,
              "#9c179e"
             ],
             [
              0.4444444444444444,
              "#bd3786"
             ],
             [
              0.5555555555555556,
              "#d8576b"
             ],
             [
              0.6666666666666666,
              "#ed7953"
             ],
             [
              0.7777777777777778,
              "#fb9f3a"
             ],
             [
              0.8888888888888888,
              "#fdca26"
             ],
             [
              1,
              "#f0f921"
             ]
            ],
            "type": "heatmapgl"
           }
          ],
          "histogram": [
           {
            "marker": {
             "colorbar": {
              "outlinewidth": 0,
              "ticks": ""
             }
            },
            "type": "histogram"
           }
          ],
          "histogram2d": [
           {
            "colorbar": {
             "outlinewidth": 0,
             "ticks": ""
            },
            "colorscale": [
             [
              0,
              "#0d0887"
             ],
             [
              0.1111111111111111,
              "#46039f"
             ],
             [
              0.2222222222222222,
              "#7201a8"
             ],
             [
              0.3333333333333333,
              "#9c179e"
             ],
             [
              0.4444444444444444,
              "#bd3786"
             ],
             [
              0.5555555555555556,
              "#d8576b"
             ],
             [
              0.6666666666666666,
              "#ed7953"
             ],
             [
              0.7777777777777778,
              "#fb9f3a"
             ],
             [
              0.8888888888888888,
              "#fdca26"
             ],
             [
              1,
              "#f0f921"
             ]
            ],
            "type": "histogram2d"
           }
          ],
          "histogram2dcontour": [
           {
            "colorbar": {
             "outlinewidth": 0,
             "ticks": ""
            },
            "colorscale": [
             [
              0,
              "#0d0887"
             ],
             [
              0.1111111111111111,
              "#46039f"
             ],
             [
              0.2222222222222222,
              "#7201a8"
             ],
             [
              0.3333333333333333,
              "#9c179e"
             ],
             [
              0.4444444444444444,
              "#bd3786"
             ],
             [
              0.5555555555555556,
              "#d8576b"
             ],
             [
              0.6666666666666666,
              "#ed7953"
             ],
             [
              0.7777777777777778,
              "#fb9f3a"
             ],
             [
              0.8888888888888888,
              "#fdca26"
             ],
             [
              1,
              "#f0f921"
             ]
            ],
            "type": "histogram2dcontour"
           }
          ],
          "mesh3d": [
           {
            "colorbar": {
             "outlinewidth": 0,
             "ticks": ""
            },
            "type": "mesh3d"
           }
          ],
          "parcoords": [
           {
            "line": {
             "colorbar": {
              "outlinewidth": 0,
              "ticks": ""
             }
            },
            "type": "parcoords"
           }
          ],
          "pie": [
           {
            "automargin": true,
            "type": "pie"
           }
          ],
          "scatter": [
           {
            "marker": {
             "colorbar": {
              "outlinewidth": 0,
              "ticks": ""
             }
            },
            "type": "scatter"
           }
          ],
          "scatter3d": [
           {
            "line": {
             "colorbar": {
              "outlinewidth": 0,
              "ticks": ""
             }
            },
            "marker": {
             "colorbar": {
              "outlinewidth": 0,
              "ticks": ""
             }
            },
            "type": "scatter3d"
           }
          ],
          "scattercarpet": [
           {
            "marker": {
             "colorbar": {
              "outlinewidth": 0,
              "ticks": ""
             }
            },
            "type": "scattercarpet"
           }
          ],
          "scattergeo": [
           {
            "marker": {
             "colorbar": {
              "outlinewidth": 0,
              "ticks": ""
             }
            },
            "type": "scattergeo"
           }
          ],
          "scattergl": [
           {
            "marker": {
             "colorbar": {
              "outlinewidth": 0,
              "ticks": ""
             }
            },
            "type": "scattergl"
           }
          ],
          "scattermapbox": [
           {
            "marker": {
             "colorbar": {
              "outlinewidth": 0,
              "ticks": ""
             }
            },
            "type": "scattermapbox"
           }
          ],
          "scatterpolar": [
           {
            "marker": {
             "colorbar": {
              "outlinewidth": 0,
              "ticks": ""
             }
            },
            "type": "scatterpolar"
           }
          ],
          "scatterpolargl": [
           {
            "marker": {
             "colorbar": {
              "outlinewidth": 0,
              "ticks": ""
             }
            },
            "type": "scatterpolargl"
           }
          ],
          "scatterternary": [
           {
            "marker": {
             "colorbar": {
              "outlinewidth": 0,
              "ticks": ""
             }
            },
            "type": "scatterternary"
           }
          ],
          "surface": [
           {
            "colorbar": {
             "outlinewidth": 0,
             "ticks": ""
            },
            "colorscale": [
             [
              0,
              "#0d0887"
             ],
             [
              0.1111111111111111,
              "#46039f"
             ],
             [
              0.2222222222222222,
              "#7201a8"
             ],
             [
              0.3333333333333333,
              "#9c179e"
             ],
             [
              0.4444444444444444,
              "#bd3786"
             ],
             [
              0.5555555555555556,
              "#d8576b"
             ],
             [
              0.6666666666666666,
              "#ed7953"
             ],
             [
              0.7777777777777778,
              "#fb9f3a"
             ],
             [
              0.8888888888888888,
              "#fdca26"
             ],
             [
              1,
              "#f0f921"
             ]
            ],
            "type": "surface"
           }
          ],
          "table": [
           {
            "cells": {
             "fill": {
              "color": "#EBF0F8"
             },
             "line": {
              "color": "white"
             }
            },
            "header": {
             "fill": {
              "color": "#C8D4E3"
             },
             "line": {
              "color": "white"
             }
            },
            "type": "table"
           }
          ]
         },
         "layout": {
          "annotationdefaults": {
           "arrowcolor": "#2a3f5f",
           "arrowhead": 0,
           "arrowwidth": 1
          },
          "autotypenumbers": "strict",
          "coloraxis": {
           "colorbar": {
            "outlinewidth": 0,
            "ticks": ""
           }
          },
          "colorscale": {
           "diverging": [
            [
             0,
             "#8e0152"
            ],
            [
             0.1,
             "#c51b7d"
            ],
            [
             0.2,
             "#de77ae"
            ],
            [
             0.3,
             "#f1b6da"
            ],
            [
             0.4,
             "#fde0ef"
            ],
            [
             0.5,
             "#f7f7f7"
            ],
            [
             0.6,
             "#e6f5d0"
            ],
            [
             0.7,
             "#b8e186"
            ],
            [
             0.8,
             "#7fbc41"
            ],
            [
             0.9,
             "#4d9221"
            ],
            [
             1,
             "#276419"
            ]
           ],
           "sequential": [
            [
             0,
             "#0d0887"
            ],
            [
             0.1111111111111111,
             "#46039f"
            ],
            [
             0.2222222222222222,
             "#7201a8"
            ],
            [
             0.3333333333333333,
             "#9c179e"
            ],
            [
             0.4444444444444444,
             "#bd3786"
            ],
            [
             0.5555555555555556,
             "#d8576b"
            ],
            [
             0.6666666666666666,
             "#ed7953"
            ],
            [
             0.7777777777777778,
             "#fb9f3a"
            ],
            [
             0.8888888888888888,
             "#fdca26"
            ],
            [
             1,
             "#f0f921"
            ]
           ],
           "sequentialminus": [
            [
             0,
             "#0d0887"
            ],
            [
             0.1111111111111111,
             "#46039f"
            ],
            [
             0.2222222222222222,
             "#7201a8"
            ],
            [
             0.3333333333333333,
             "#9c179e"
            ],
            [
             0.4444444444444444,
             "#bd3786"
            ],
            [
             0.5555555555555556,
             "#d8576b"
            ],
            [
             0.6666666666666666,
             "#ed7953"
            ],
            [
             0.7777777777777778,
             "#fb9f3a"
            ],
            [
             0.8888888888888888,
             "#fdca26"
            ],
            [
             1,
             "#f0f921"
            ]
           ]
          },
          "colorway": [
           "#636efa",
           "#EF553B",
           "#00cc96",
           "#ab63fa",
           "#FFA15A",
           "#19d3f3",
           "#FF6692",
           "#B6E880",
           "#FF97FF",
           "#FECB52"
          ],
          "font": {
           "color": "#2a3f5f"
          },
          "geo": {
           "bgcolor": "white",
           "lakecolor": "white",
           "landcolor": "#E5ECF6",
           "showlakes": true,
           "showland": true,
           "subunitcolor": "white"
          },
          "hoverlabel": {
           "align": "left"
          },
          "hovermode": "closest",
          "mapbox": {
           "style": "light"
          },
          "paper_bgcolor": "white",
          "plot_bgcolor": "#E5ECF6",
          "polar": {
           "angularaxis": {
            "gridcolor": "white",
            "linecolor": "white",
            "ticks": ""
           },
           "bgcolor": "#E5ECF6",
           "radialaxis": {
            "gridcolor": "white",
            "linecolor": "white",
            "ticks": ""
           }
          },
          "scene": {
           "xaxis": {
            "backgroundcolor": "#E5ECF6",
            "gridcolor": "white",
            "gridwidth": 2,
            "linecolor": "white",
            "showbackground": true,
            "ticks": "",
            "zerolinecolor": "white"
           },
           "yaxis": {
            "backgroundcolor": "#E5ECF6",
            "gridcolor": "white",
            "gridwidth": 2,
            "linecolor": "white",
            "showbackground": true,
            "ticks": "",
            "zerolinecolor": "white"
           },
           "zaxis": {
            "backgroundcolor": "#E5ECF6",
            "gridcolor": "white",
            "gridwidth": 2,
            "linecolor": "white",
            "showbackground": true,
            "ticks": "",
            "zerolinecolor": "white"
           }
          },
          "shapedefaults": {
           "line": {
            "color": "#2a3f5f"
           }
          },
          "ternary": {
           "aaxis": {
            "gridcolor": "white",
            "linecolor": "white",
            "ticks": ""
           },
           "baxis": {
            "gridcolor": "white",
            "linecolor": "white",
            "ticks": ""
           },
           "bgcolor": "#E5ECF6",
           "caxis": {
            "gridcolor": "white",
            "linecolor": "white",
            "ticks": ""
           }
          },
          "title": {
           "x": 0.05
          },
          "xaxis": {
           "automargin": true,
           "gridcolor": "white",
           "linecolor": "white",
           "ticks": "",
           "title": {
            "standoff": 15
           },
           "zerolinecolor": "white",
           "zerolinewidth": 2
          },
          "yaxis": {
           "automargin": true,
           "gridcolor": "white",
           "linecolor": "white",
           "ticks": "",
           "title": {
            "standoff": 15
           },
           "zerolinecolor": "white",
           "zerolinewidth": 2
          }
         }
        }
       }
      },
      "text/html": [
       "<div>                            <div id=\"78930e54-1b98-4911-9da8-39aebe64164b\" class=\"plotly-graph-div\" style=\"height:525px; width:100%;\"></div>            <script type=\"text/javascript\">                require([\"plotly\"], function(Plotly) {                    window.PLOTLYENV=window.PLOTLYENV || {};                                    if (document.getElementById(\"78930e54-1b98-4911-9da8-39aebe64164b\")) {                    Plotly.newPlot(                        \"78930e54-1b98-4911-9da8-39aebe64164b\",                        [{\"lat\": [35.5675956, 35.5676306, 35.5677218, 35.5677522, 35.5678222, 35.5678703, 35.5679118, 35.5679782, 35.5680488, 35.568112, 35.568699, 35.5689755, 35.5690585, 35.5690585, 35.5690743, 35.5692139, 35.5692139, 35.5679081, 35.5679081, 35.5673494, 35.5673494, 35.5679081, 35.5679081, 35.5679882, 35.5680303, 35.5680303, 35.5679882, 35.5679081, 35.5679081, 35.5692139, 35.5692139, 35.569436, 35.5694585, 35.5694643, 35.5694643, 35.5694585, 35.5694585, 35.5694643, 35.5694643, 35.5685272, 35.5683425, 35.5680671, 35.5680671, 35.5683425, 35.5685272, 35.5694643, 35.5694643, 35.5694585, 35.569436, 35.5692139, 35.5692139, 35.5690743, 35.5690585, 35.5690585, 35.5689755, 35.568699, 35.568112, 35.5680488, 35.5679782, 35.5679118, 35.5678703, 35.5678222, 35.5677522, 35.5677218, 35.5676306, 35.5675956, 35.5675956, 35.5675288, 35.5674454, 35.5673623, 35.5672457, 35.5670056, 35.5670056, 35.5669838, 35.5669484, 35.566949, 35.5670259, 35.5670259, 35.566949, 35.5669484, 35.5669838, 35.5670056, 35.5670056, 35.5672457, 35.5673623, 35.5674454, 35.5675288, 35.5675956, 35.5675956, 35.5676306, 35.5677218, 35.5677522, 35.5678222, 35.5678703, 35.5679118, 35.5679782, 35.5680488, 35.568112, 35.568699, 35.5689755, 35.5690585, 35.5690585, 35.5690743, 35.5692139, 35.5692139, 35.569436, 35.5694585, 35.5694643, 35.5694643, 35.5685272, 35.5683425, 35.5680671, 35.5680671, 35.568091, 35.5681697, 35.5682404, 35.5685033, 35.5686805, 35.5687272, 35.5687352, 35.5687346, 35.5687346, 35.5686477, 35.568559, 35.5685287, 35.5685287, 35.5687632, 35.5689448, 35.5692108, 35.569413, 35.5697979, 35.569993, 35.570172, 35.570484, 35.570484, 35.570746, 35.5719066, 35.5720357, 35.5724582, 35.5733426, 35.5734473, 35.5734473, 35.5734531, 35.5734597, 35.5734873, 35.5735146, 35.5735361, 35.5735574, 35.5735842, 35.5735891, 35.5736109, 35.5736492, 35.5737279, 35.5737791, 35.5738116, 35.5738336, 35.5738514, 35.5738605, 35.5738605, 35.5738694, 35.5738914, 35.5739165, 35.5739469, 35.5739801, 35.5740114, 35.5740631, 35.5741122, 35.5741529, 35.5742087, 35.5743119, 35.5743456, 35.5743456, 35.5742387, 35.57407, 35.5738449, 35.5738449, 35.5738204, 35.5737353, 35.5736329, 35.573579, 35.5735569, 35.5735569, 35.5734364, 35.5733725, 35.5732536, 35.5731211, 35.5728128, 35.57261, 35.5722063, 35.5720531, 35.5719467, 35.5718077, 35.5717087, 35.5714447, 35.5714105, 35.5714105, 35.5708791, 35.5707195, 35.5706088, 35.5704823, 35.5703933, 35.5703564, 35.5703457, 35.5703457, 35.5703334, 35.5703003, 35.5703133, 35.5703613, 35.5703613, 35.5703133, 35.5703003, 35.5703334, 35.5703457, 35.5703457, 35.5704113, 35.5705646, 35.5706892, 35.5707594, 35.5715509, 35.571618, 35.571618, 35.5716792, 35.5719181, 35.5720624, 35.572149, 35.5721787, 35.5721787, 35.572149, 35.5720624, 35.5719181, 35.5716792, 35.571618, 35.571618, 35.57167, 35.5721171, 35.5721171, 35.5727038, 35.5727038, 35.5728523, 35.5731944, 35.5733908, 35.5734961, 35.5735569, 35.5735569, 35.5734364, 35.5733725, 35.5732536, 35.5731211, 35.5728128, 35.57261, 35.5722063, 35.5720531, 35.5719467, 35.5718077, 35.5717087, 35.5714447, 35.5714105, 35.5714105, 35.5714592, 35.571851, 35.5719352, 35.572086, 35.5722324, 35.5722324, 35.572086, 35.5719352, 35.571851, 35.5714592, 35.5714105, 35.5714105, 35.5708791, 35.5707195, 35.5706088, 35.5704823, 35.5703933, 35.5703564, 35.5703457, 35.5703457, 35.5703564, 35.5703933, 35.5704823, 35.5706088, 35.5707195, 35.5708791, 35.5714105, 35.5714105, 35.5714447, 35.5717087, 35.5718077, 35.5719467, 35.5720531, 35.5722063, 35.57261, 35.5728128, 35.5731211, 35.5732536, 35.5733725, 35.5734364, 35.5735569, 35.5735569, 35.573579, 35.5736329, 35.5737353, 35.5738204, 35.5738449, 35.5738449, 35.57389, 35.5740014, 35.5741428, 35.5743933, 35.5744372, 35.5744372, 35.5743824, 35.5742914, 35.5741384, 35.5740336, 35.573973, 35.5739441, 35.5739386, 35.5739386, 35.574214, 35.574214, 35.5740806, 35.5740535, 35.5740535, 35.5739954, 35.5739818, 35.5739818, 35.5739954, 35.5740535, 35.5740535, 35.5744634, 35.5744634, 35.5744443, 35.5744116, 35.574214, 35.574214, 35.5740806, 35.5740535, 35.5740535, 35.574028, 35.5739972, 35.5738934, 35.5734559, 35.5732776, 35.5729574, 35.5727314, 35.5726118, 35.5722823, 35.5720539, 35.5718735, 35.5718735, 35.5718941, 35.572018, 35.5720405, 35.5720336, 35.5720336, 35.5720327, 35.572029, 35.5721126, 35.572179, 35.5722071, 35.5722071, 35.5722511, 35.5722608, 35.5723568, 35.5724576, 35.5725766, 35.5728138, 35.5730574, 35.5730574, 35.5730571, 35.5730476, 35.5730476, 35.5730571, 35.5730574, 35.5730574, 35.5732283, 35.5733957, 35.5735709, 35.5736897, 35.5737326, 35.5738136, 35.5738136, 35.573929, 35.574065, 35.5741585, 35.5742045, 35.5742474, 35.5742474, 35.5746579, 35.574994, 35.5751701, 35.575185, 35.575185, 35.5751509, 35.5750519, 35.5750519, 35.5751509, 35.575185, 35.575185, 35.5755519, 35.5757671, 35.5758702, 35.575923, 35.575979, 35.575979, 35.5759256, 35.575386, 35.5752393, 35.5750819, 35.5749367, 35.5745884, 35.5744558, 35.5743985, 35.5743985, 35.574103, 35.5739818, 35.5739818, 35.5739954, 35.5740535, 35.5740535, 35.5740806, 35.574214, 35.574214, 35.5739386, 35.5739386, 35.5739441, 35.573973, 35.5740336, 35.5741384, 35.5742914, 35.5743824, 35.5744372, 35.5744372, 35.5743933, 35.5741428, 35.5740014, 35.57389, 35.5738449, 35.5738449, 35.5737892, 35.5737545, 35.5736874, 35.5736081, 35.5735018, 35.5734456, 35.5734202, 35.5734202, 35.5733541, 35.5732731, 35.5731518, 35.5730207, 35.5729766, 35.5729766, 35.5730207, 35.5731518, 35.5732731, 35.5733541, 35.5734202, 35.5734202, 35.5734456, 35.5735018, 35.5736081, 35.5736874, 35.5737545, 35.5737892, 35.5738449, 35.5738449, 35.5738204, 35.5737353, 35.5736329, 35.573579, 35.5735569, 35.5735569, 35.5734961, 35.5733908, 35.5731944, 35.5728523, 35.5727038, 35.5727038, 35.5721171, 35.5721171, 35.57167, 35.571618, 35.571618, 35.5716792, 35.5719181, 35.5720624, 35.572149, 35.5721787, 35.5721787, 35.5722176, 35.5727274, 35.5729766, 35.5729766, 35.5727274, 35.5722176, 35.5721787, 35.5721787, 35.5721312, 35.5719167, 35.571724, 35.5707295, 35.5706845, 35.5706845, 35.5706326, 35.570554, 35.5703781, 35.5702562, 35.5702227, 35.5702227, 35.5701871, 35.5701717, 35.5700451, 35.5698197, 35.5697471, 35.5697011, 35.5697011, 35.5696339, 35.569225, 35.5682083, 35.568139, 35.568139, 35.5682083, 35.569225, 35.5696339, 35.5697011, 35.5697011, 35.5697471, 35.5698197, 35.5700451, 35.5701717, 35.5701871, 35.5702227, 35.5702227, 35.570155, 35.5694491, 35.5694491, 35.5694787, 35.5697, 35.569923, 35.5699905, 35.57004, 35.57004, 35.569975, 35.5699388, 35.5698645, 35.5697497, 35.569653, 35.5695668, 35.5687103, 35.5685803, 35.5684931, 35.5682114, 35.568081, 35.5677659, 35.567541, 35.5673849, 35.5672076, 35.567095, 35.5669112, 35.5668394, 35.5667274, 35.5666292, 35.5665036, 35.5664715, 35.5664715, 35.5665398, 35.5680563, 35.568139, 35.568139, 35.568169, 35.568308, 35.568423, 35.5685874, 35.5687046, 35.5688705, 35.5689908, 35.5694491, 35.5694491, 35.5694787, 35.5697, 35.569923, 35.5699905, 35.57004, 35.57004, 35.5701059, 35.5702949, 35.570507, 35.5706223, 35.5706845, 35.5706845, 35.5707295, 35.571724, 35.5719167, 35.5721312, 35.5721787, 35.5721787, 35.5722176, 35.5727274, 35.5729766, 35.5729766, 35.5730207, 35.5731518, 35.5732731, 35.5733541, 35.5734202, 35.5734202, 35.5734456, 35.5735018, 35.5736081, 35.5736874, 35.5737545, 35.5737892, 35.5738449, 35.5738449, 35.57407, 35.5742387, 35.5743456, 35.5743456, 35.5744584, 35.5746013, 35.5747568, 35.5748836, 35.5750203, 35.5751097, 35.5752013, 35.5753431, 35.5755088, 35.5757532, 35.5758095, 35.575882, 35.575882, 35.5759811, 35.5759903, 35.5759903, 35.5758697, 35.5757513, 35.5756387, 35.5755413, 35.5754469, 35.5753765, 35.5753072, 35.5752049, 35.5749879, 35.574981, 35.574885, 35.574885, 35.5748004, 35.5744968, 35.5744372, 35.5744372, 35.5744835, 35.5747186, 35.5750115, 35.5750115, 35.5751411, 35.5751929, 35.5751929, 35.5751411, 35.5750115, 35.5750115, 35.5748969, 35.5747631, 35.574645, 35.57453, 35.5740239, 35.5739386, 35.5739386, 35.5738752, 35.5737989, 35.5731317, 35.5729622, 35.5728439, 35.572527, 35.5723934, 35.5723934, 35.572527, 35.5728439, 35.5729622, 35.5731317, 35.5737989, 35.5738752, 35.5739386, 35.5739386, 35.574214, 35.574214, 35.5740806, 35.5740535, 35.5740535, 35.574028, 35.5739972, 35.5738934, 35.5734559, 35.5732776, 35.5729574, 35.5727314, 35.5726118, 35.5722823, 35.5720539, 35.5718735, 35.5718735, 35.5718941, 35.572018, 35.5720405, 35.5720336, 35.5720336, 35.5721042, 35.5722152, 35.572351, 35.5724724, 35.5727863, 35.5729304, 35.573194, 35.5734647, 35.5736117, 35.5738937, 35.5739818, 35.5739818, 35.574103, 35.5743985, 35.5743985, 35.5744558, 35.5745884, 35.5749367, 35.5750819, 35.5752393, 35.575386, 35.5759256, 35.575979, 35.575979, 35.5759256, 35.575386, 35.5752393, 35.5750819, 35.5749367, 35.5745884, 35.5744558, 35.5743985, 35.5743985, 35.574405, 35.5744634, 35.5744634, 35.5744443, 35.5744116, 35.574214, 35.574214, 35.5739386, 35.5739386, 35.5739441, 35.573973, 35.5740336, 35.5741384, 35.5742914, 35.5743824, 35.5744372, 35.5744372, 35.5743933, 35.5741428, 35.5740014, 35.57389, 35.5738449, 35.5738449, 35.5738204, 35.5737353, 35.5736329, 35.573579, 35.5735569, 35.5735569, 35.5734961, 35.5733908, 35.5731944, 35.5728523, 35.5727038, 35.5727038, 35.5721171, 35.5721171, 35.57167, 35.571618, 35.571618, 35.5716792, 35.5719181, 35.5720624, 35.572149, 35.5721787, 35.5721787, 35.5722176, 35.5727274, 35.5729766, 35.5729766, 35.5730207, 35.5731518, 35.5732731, 35.5733541, 35.5734202, 35.5734202, 35.5734456, 35.5735018, 35.5736081, 35.5736874, 35.5737545, 35.5737892, 35.5738449, 35.5738449, 35.57407, 35.5742387, 35.5743456, 35.5743456, 35.5743119, 35.5742087, 35.5741529, 35.5741122, 35.5740631, 35.5740114, 35.5739801, 35.5739469, 35.5739165, 35.5738914, 35.5738694, 35.5738605, 35.5738605, 35.5738514, 35.5738336, 35.5738116, 35.5737791, 35.5737279, 35.5736492, 35.5736109, 35.5735891, 35.5735842, 35.5735574, 35.5735361, 35.5735146, 35.5734873, 35.5734597, 35.5734531, 35.5734473, 35.5734473, 35.5733426, 35.5724582, 35.5720357, 35.5719066, 35.570746, 35.570484, 35.570484, 35.570172, 35.569993, 35.5697979, 35.569413, 35.5692108, 35.5689448, 35.5687632, 35.5685287, 35.5685287, 35.568559, 35.5686477, 35.5687346, 35.5687346, 35.5687352, 35.5687272, 35.5686805, 35.5685033, 35.5682404, 35.5681697, 35.568091, 35.5680671, 35.5680671, 35.5683425, 35.5685272, 35.5694643, 35.5694643, 35.5694585, 35.569436, 35.5692139, 35.5692139, 35.5690743, 35.5690585, 35.5690585, 35.5689755, 35.568699, 35.568112, 35.5680488, 35.5679782, 35.5679118, 35.5678703, 35.5678222, 35.5677522, 35.5677218, 35.5676306, 35.5675956, 35.5675956, 35.5676306, 35.5677218, 35.5677522, 35.5678222, 35.5678703, 35.5679118, 35.5679782, 35.5680488, 35.568112, 35.568699, 35.5689755, 35.5690585, 35.5690585, 35.5690743, 35.5692139, 35.5692139, 35.569436, 35.5694585, 35.5694643, 35.5694643, 35.5685272, 35.5683425, 35.5680671, 35.5680671, 35.568091, 35.5681697, 35.5682404, 35.5685033, 35.5686805, 35.5687272, 35.5687352, 35.5687346, 35.5687346, 35.5686477, 35.568559, 35.5685287, 35.5685287, 35.5687632, 35.5689448, 35.5692108, 35.569413, 35.5697979, 35.569993, 35.570172, 35.570484, 35.570484, 35.570746, 35.5719066, 35.5720357, 35.5724582, 35.5733426, 35.5734473, 35.5734473, 35.573448, 35.5734482, 35.5734011, 35.5733409, 35.5733026, 35.573273, 35.5732453, 35.573247, 35.5732538, 35.5732697, 35.5732697, 35.5732706, 35.5732706, 35.5732827, 35.5732861, 35.5732997, 35.573315, 35.5733235, 35.5733235, 35.5733412, 35.5734, 35.5735632, 35.5737995, 35.5740476, 35.574258, 35.5746409, 35.5751859, 35.5751859, 35.575969, 35.5765192, 35.5765192, 35.5769934, 35.5772246, 35.5779266, 35.5782818, 35.5784545, 35.5784545, 35.578722, 35.57882, 35.579176, 35.579176, 35.5792414, 35.5792414, 35.580759, 35.580759, 35.581146, 35.581339, 35.5816608, 35.5823605, 35.5837427, 35.5838501, 35.5838501, 35.5838261, 35.5838128, 35.583798, 35.5837858, 35.583783, 35.5837978, 35.5838178, 35.583845, 35.5838836, 35.5838836, 35.5839311, 35.5839836, 35.5840396, 35.5841001, 35.5843196, 35.5844488, 35.5844978, 35.5844978, 35.5845832, 35.5849259, 35.5849774, 35.5853229, 35.5857199, 35.5858959, 35.5860175, 35.5864325, 35.5866781, 35.5866781, 35.5868022, 35.5868372, 35.5869351, 35.5870045, 35.5870827, 35.5871583, 35.5872379, 35.5873459, 35.5874347, 35.5875334, 35.587687, 35.5880969, 35.5883013, 35.5884251, 35.5884251, 35.5885276, 35.5887847, 35.588866, 35.588866, 35.588837, 35.588832, 35.588752, 35.5887459, 35.58857, 35.5885642, 35.58856, 35.5885942, 35.5885942, 35.588595, 35.5885652, 35.5885136, 35.5884451, 35.5883569, 35.5882216, 35.5867218, 35.5866425, 35.5866425, 35.5863534, 35.5861896, 35.585661, 35.585294, 35.585294, 35.5845061, 35.5839973, 35.5837467, 35.5834977, 35.5834977, 35.5834115, 35.5833345, 35.5832839, 35.5832315, 35.583186, 35.5831261, 35.5830906, 35.5830603, 35.5830233, 35.5829918, 35.5829678, 35.582949, 35.5829113, 35.5829113, 35.5829, 35.5829008, 35.5829068, 35.582908, 35.5829119, 35.5829396, 35.5829396, 35.5823939, 35.5822352, 35.5814412, 35.5808961, 35.580643, 35.5796239, 35.579548, 35.5788166, 35.5785442, 35.5781693, 35.5776406, 35.5769411, 35.5769411, 35.5762687, 35.5757082, 35.575241, 35.575241, 35.5747139, 35.5746963, 35.5741384, 35.5733805, 35.5733805, 35.5717517, 35.5717517, 35.5716929, 35.5717175, 35.5717486, 35.5717486, 35.5717668, 35.571786, 35.5717875, 35.5717708, 35.5717657, 35.5717657, 35.5717587, 35.5716855, 35.5716042, 35.5715895, 35.5715796, 35.5715796, 35.5715637, 35.5715288, 35.5714511, 35.5713503, 35.5713072, 35.5712854, 35.5712854, 35.5712418, 35.5711288, 35.5709507, 35.5708286, 35.5707973, 35.5707973, 35.5707689, 35.5707647, 35.5707232, 35.5706755, 35.5706032, 35.5704575, 35.5704112, 35.5704112, 35.5703771, 35.570331, 35.570282, 35.5702438, 35.5702223, 35.5702142, 35.5702115, 35.5702436, 35.5703197, 35.5703904, 35.5703904, 35.5704685, 35.5705376, 35.5707357, 35.5707851, 35.5707851, 35.5707136, 35.5704475, 35.5703126], \"line\": {\"color\": \"grey\", \"width\": 4.5}, \"lon\": [-78.8089909, -78.8089262, -78.8087575, -78.8086577, -78.8083489, -78.8082478, -78.8081972, -78.8081524, -78.8081301, -78.8081305, -78.8082866, -78.8083598, -78.8083818, -78.8083818, -78.8082864, -78.8074274, -78.8074274, -78.8070709, -78.8070709, -78.8069184, -78.8069184, -78.8070709, -78.8070709, -78.8066112, -78.8062902, -78.8062902, -78.8066112, -78.8070709, -78.8070709, -78.8074274, -78.8074274, -78.8060612, -78.8059058, -78.8057714, -78.8057714, -78.8052122, -78.8052122, -78.8057714, -78.8057714, -78.8057913, -78.8057862, -78.8056218, -78.8056218, -78.8057862, -78.8057913, -78.8057714, -78.8057714, -78.8059058, -78.8060612, -78.8074274, -78.8074274, -78.8082864, -78.8083818, -78.8083818, -78.8083598, -78.8082866, -78.8081305, -78.8081301, -78.8081524, -78.8081972, -78.8082478, -78.8083489, -78.8086577, -78.8087575, -78.8089262, -78.8089909, -78.8089909, -78.808946, -78.8089079, -78.8088961, -78.8089109, -78.808993, -78.808993, -78.8089, -78.8087493, -78.8086293, -78.8082313, -78.8082313, -78.8086293, -78.8087493, -78.8089, -78.808993, -78.808993, -78.8089109, -78.8088961, -78.8089079, -78.808946, -78.8089909, -78.8089909, -78.8089262, -78.8087575, -78.8086577, -78.8083489, -78.8082478, -78.8081972, -78.8081524, -78.8081301, -78.8081305, -78.8082866, -78.8083598, -78.8083818, -78.8083818, -78.8082864, -78.8074274, -78.8074274, -78.8060612, -78.8059058, -78.8057714, -78.8057714, -78.8057913, -78.8057862, -78.8056218, -78.8056218, -78.8055739, -78.8053733, -78.8051251, -78.8040726, -78.8033239, -78.8030229, -78.8027938, -78.8025767, -78.8025767, -78.801832, -78.8012082, -78.8010445, -78.8010445, -78.8009264, -78.800835, -78.800746, -78.800692, -78.8006096, -78.800608, -78.800603, -78.800594, -78.800594, -78.8005945, -78.8005967, -78.8005969, -78.8005977, -78.8005917, -78.800591, -78.800591, -78.8007184, -78.8007777, -78.8011038, -78.8014149, -78.8016596, -78.8019128, -78.8022326, -78.8022865, -78.8025242, -78.8029947, -78.8038795, -78.8044639, -78.8048452, -78.8050929, -78.805294, -78.8054067, -78.8054067, -78.805518, -78.8057286, -78.805919, -78.8061059, -78.806291, -78.8064474, -78.8066628, -78.8068562, -78.8070002, -78.8071827, -78.8074797, -78.8075693, -78.8075693, -78.8076371, -78.8077365, -78.8078667, -78.8078667, -78.807797, -78.8075547, -78.8072315, -78.807026, -78.8069416, -78.8069416, -78.8064213, -78.8062913, -78.8061595, -78.8061194, -78.8060692, -78.8059952, -78.8056016, -78.8055523, -78.805569, -78.805632, -78.8057366, -78.8060651, -78.8061076, -78.8061076, -78.8067943, -78.8070525, -78.8072831, -78.8075944, -78.8079187, -78.8080813, -78.808151, -78.808151, -78.8082278, -78.8085735, -78.8091336, -78.8093078, -78.8093078, -78.8091336, -78.8085735, -78.8082278, -78.808151, -78.808151, -78.8081701, -78.8082143, -78.8082763, -78.8083302, -78.809139, -78.8092075, -78.8092075, -78.8092694, -78.8095112, -78.8097492, -78.8099112, -78.8099667, -78.8099667, -78.8099112, -78.8097492, -78.8095112, -78.8092694, -78.8092075, -78.8092075, -78.8091311, -78.8084741, -78.8084741, -78.8076113, -78.8076113, -78.8074184, -78.8071094, -78.8070015, -78.8069635, -78.8069416, -78.8069416, -78.8064213, -78.8062913, -78.8061595, -78.8061194, -78.8060692, -78.8059952, -78.8056016, -78.8055523, -78.805569, -78.805632, -78.8057366, -78.8060651, -78.8061076, -78.8061076, -78.8061636, -78.806615, -78.8066817, -78.8067378, -78.8068354, -78.8068354, -78.8067378, -78.8066817, -78.806615, -78.8061636, -78.8061076, -78.8061076, -78.8067943, -78.8070525, -78.8072831, -78.8075944, -78.8079187, -78.8080813, -78.808151, -78.808151, -78.8080813, -78.8079187, -78.8075944, -78.8072831, -78.8070525, -78.8067943, -78.8061076, -78.8061076, -78.8060651, -78.8057366, -78.805632, -78.805569, -78.8055523, -78.8056016, -78.8059952, -78.8060692, -78.8061194, -78.8061595, -78.8062913, -78.8064213, -78.8069416, -78.8069416, -78.807026, -78.8072315, -78.8075547, -78.807797, -78.8078667, -78.8078667, -78.8079728, -78.8082457, -78.8085596, -78.8090221, -78.8091032, -78.8091032, -78.8091466, -78.8092186, -78.8093881, -78.8095571, -78.8098024, -78.8103453, -78.810449, -78.810449, -78.8113316, -78.8113316, -78.811979, -78.8121107, -78.8121107, -78.8129821, -78.8131853, -78.8131853, -78.8129821, -78.8121107, -78.8121107, -78.812128, -78.812128, -78.8120305, -78.8118631, -78.8113316, -78.8113316, -78.811979, -78.8121107, -78.8121107, -78.812113, -78.8121189, -78.812139, -78.8123675, -78.8124114, -78.8123995, -78.8124158, -78.8124499, -78.8126676, -78.8128297, -78.8129339, -78.8129339, -78.8130097, -78.813467, -78.8136691, -78.8138161, -78.8138161, -78.8138718, -78.814098, -78.8145684, -78.814823, -78.8148838, -78.8148838, -78.8149429, -78.814956, -78.815036, -78.8150872, -78.8151185, -78.8151034, -78.8150872, -78.8150872, -78.8150058, -78.8143864, -78.8143864, -78.8150058, -78.8150872, -78.8150872, -78.8151015, -78.8151584, -78.8152729, -78.8153566, -78.8153854, -78.8154399, -78.8154399, -78.8154666, -78.8154678, -78.8154343, -78.815395, -78.8153584, -78.8153584, -78.8149573, -78.8146184, -78.8144508, -78.8144414, -78.8144414, -78.8143794, -78.8141912, -78.8141912, -78.8143794, -78.8144414, -78.8144414, -78.8142098, -78.8140831, -78.8139894, -78.8139163, -78.8138387, -78.8138387, -78.8137961, -78.8133662, -78.8132533, -78.8131809, -78.8131609, -78.8131425, -78.8131357, -78.8131327, -78.8131327, -78.8131313, -78.8131853, -78.8131853, -78.8129821, -78.8121107, -78.8121107, -78.811979, -78.8113316, -78.8113316, -78.810449, -78.810449, -78.8103453, -78.8098024, -78.8095571, -78.8093881, -78.8092186, -78.8091466, -78.8091032, -78.8091032, -78.8090221, -78.8085596, -78.8082457, -78.8079728, -78.8078667, -78.8078667, -78.8078999, -78.8079206, -78.8079608, -78.8080278, -78.8081733, -78.8083434, -78.8084202, -78.8084202, -78.8086842, -78.8089743, -78.8092218, -78.8093826, -78.8094367, -78.8094367, -78.8093826, -78.8092218, -78.8089743, -78.8086842, -78.8084202, -78.8084202, -78.8083434, -78.8081733, -78.8080278, -78.8079608, -78.8079206, -78.8078999, -78.8078667, -78.8078667, -78.807797, -78.8075547, -78.8072315, -78.807026, -78.8069416, -78.8069416, -78.8069635, -78.8070015, -78.8071094, -78.8074184, -78.8076113, -78.8076113, -78.8084741, -78.8084741, -78.8091311, -78.8092075, -78.8092075, -78.8092694, -78.8095112, -78.8097492, -78.8099112, -78.8099667, -78.8099667, -78.8099443, -78.8096503, -78.8094367, -78.8094367, -78.8096503, -78.8099443, -78.8099667, -78.8099667, -78.8100125, -78.8102194, -78.8104852, -78.812221, -78.8122995, -78.8122995, -78.8123895, -78.8125258, -78.8128322, -78.8131244, -78.8132046, -78.8132046, -78.8132983, -78.8133389, -78.8135851, -78.8139415, -78.8140532, -78.8141241, -78.8141241, -78.8140689, -78.813733, -78.8131413, -78.813101, -78.813101, -78.8131413, -78.813733, -78.8140689, -78.8141241, -78.8141241, -78.8140532, -78.8139415, -78.8135851, -78.8133389, -78.8132983, -78.8132046, -78.8132046, -78.8131627, -78.8127255, -78.8127255, -78.8126568, -78.812144, -78.81179, -78.8117086, -78.811649, -78.811649, -78.8115591, -78.8115091, -78.8114172, -78.8113384, -78.811304, -78.8112847, -78.8113299, -78.8113106, -78.8112715, -78.811118, -78.811065, -78.8110191, -78.8109834, -78.8109974, -78.8110578, -78.811111, -78.8112608, -78.811355, -78.8115268, -78.8117489, -78.8120781, -78.8121623, -78.8121623, -78.8122008, -78.8130545, -78.813101, -78.813101, -78.8130235, -78.812664, -78.8125228, -78.8124199, -78.8123871, -78.8123916, -78.8124354, -78.8127255, -78.8127255, -78.8126568, -78.812144, -78.81179, -78.8117086, -78.811649, -78.811649, -78.8117276, -78.8119531, -78.812157, -78.8122495, -78.8122995, -78.8122995, -78.812221, -78.8104852, -78.8102194, -78.8100125, -78.8099667, -78.8099667, -78.8099443, -78.8096503, -78.8094367, -78.8094367, -78.8093826, -78.8092218, -78.8089743, -78.8086842, -78.8084202, -78.8084202, -78.8083434, -78.8081733, -78.8080278, -78.8079608, -78.8079206, -78.8078999, -78.8078667, -78.8078667, -78.8077365, -78.8076371, -78.8075693, -78.8075693, -78.8075015, -78.8074221, -78.8073476, -78.8073009, -78.8072609, -78.8072371, -78.8072186, -78.807195, -78.8071705, -78.8071352, -78.8071264, -78.807115, -78.807115, -78.8079689, -78.8080484, -78.8080484, -78.8080691, -78.8080991, -78.8081404, -78.8081856, -78.8082358, -78.8082778, -78.8083265, -78.80841, -78.8085963, -78.8086024, -78.808687, -78.808687, -78.8087667, -78.809048, -78.8091032, -78.8091032, -78.8091726, -78.8095246, -78.8099298, -78.8099298, -78.8100721, -78.8102444, -78.8102444, -78.8100721, -78.8099298, -78.8099298, -78.8100837, -78.8102316, -78.8103276, -78.8103634, -78.8104367, -78.810449, -78.810449, -78.8104634, -78.8104807, -78.8108203, -78.8108753, -78.8108946, -78.8108959, -78.8109519, -78.8109519, -78.8108959, -78.8108946, -78.8108753, -78.8108203, -78.8104807, -78.8104634, -78.810449, -78.810449, -78.8113316, -78.8113316, -78.811979, -78.8121107, -78.8121107, -78.812113, -78.8121189, -78.812139, -78.8123675, -78.8124114, -78.8123995, -78.8124158, -78.8124499, -78.8126676, -78.8128297, -78.8129339, -78.8129339, -78.8130097, -78.813467, -78.8136691, -78.8138161, -78.8138161, -78.8138101, -78.8138006, -78.8137716, -78.8137188, -78.8134952, -78.8134431, -78.8134138, -78.8133868, -78.8133663, -78.8132284, -78.8131853, -78.8131853, -78.8131313, -78.8131327, -78.8131327, -78.8131357, -78.8131425, -78.8131609, -78.8131809, -78.8132533, -78.8133662, -78.8137961, -78.8138387, -78.8138387, -78.8137961, -78.8133662, -78.8132533, -78.8131809, -78.8131609, -78.8131425, -78.8131357, -78.8131327, -78.8131327, -78.813032, -78.812128, -78.812128, -78.8120305, -78.8118631, -78.8113316, -78.8113316, -78.810449, -78.810449, -78.8103453, -78.8098024, -78.8095571, -78.8093881, -78.8092186, -78.8091466, -78.8091032, -78.8091032, -78.8090221, -78.8085596, -78.8082457, -78.8079728, -78.8078667, -78.8078667, -78.807797, -78.8075547, -78.8072315, -78.807026, -78.8069416, -78.8069416, -78.8069635, -78.8070015, -78.8071094, -78.8074184, -78.8076113, -78.8076113, -78.8084741, -78.8084741, -78.8091311, -78.8092075, -78.8092075, -78.8092694, -78.8095112, -78.8097492, -78.8099112, -78.8099667, -78.8099667, -78.8099443, -78.8096503, -78.8094367, -78.8094367, -78.8093826, -78.8092218, -78.8089743, -78.8086842, -78.8084202, -78.8084202, -78.8083434, -78.8081733, -78.8080278, -78.8079608, -78.8079206, -78.8078999, -78.8078667, -78.8078667, -78.8077365, -78.8076371, -78.8075693, -78.8075693, -78.8074797, -78.8071827, -78.8070002, -78.8068562, -78.8066628, -78.8064474, -78.806291, -78.8061059, -78.805919, -78.8057286, -78.805518, -78.8054067, -78.8054067, -78.805294, -78.8050929, -78.8048452, -78.8044639, -78.8038795, -78.8029947, -78.8025242, -78.8022865, -78.8022326, -78.8019128, -78.8016596, -78.8014149, -78.8011038, -78.8007777, -78.8007184, -78.800591, -78.800591, -78.8005917, -78.8005977, -78.8005969, -78.8005967, -78.8005945, -78.800594, -78.800594, -78.800603, -78.800608, -78.8006096, -78.800692, -78.800746, -78.800835, -78.8009264, -78.8010445, -78.8010445, -78.8012082, -78.801832, -78.8025767, -78.8025767, -78.8027938, -78.8030229, -78.8033239, -78.8040726, -78.8051251, -78.8053733, -78.8055739, -78.8056218, -78.8056218, -78.8057862, -78.8057913, -78.8057714, -78.8057714, -78.8059058, -78.8060612, -78.8074274, -78.8074274, -78.8082864, -78.8083818, -78.8083818, -78.8083598, -78.8082866, -78.8081305, -78.8081301, -78.8081524, -78.8081972, -78.8082478, -78.8083489, -78.8086577, -78.8087575, -78.8089262, -78.8089909, -78.8089909, -78.8089262, -78.8087575, -78.8086577, -78.8083489, -78.8082478, -78.8081972, -78.8081524, -78.8081301, -78.8081305, -78.8082866, -78.8083598, -78.8083818, -78.8083818, -78.8082864, -78.8074274, -78.8074274, -78.8060612, -78.8059058, -78.8057714, -78.8057714, -78.8057913, -78.8057862, -78.8056218, -78.8056218, -78.8055739, -78.8053733, -78.8051251, -78.8040726, -78.8033239, -78.8030229, -78.8027938, -78.8025767, -78.8025767, -78.801832, -78.8012082, -78.8010445, -78.8010445, -78.8009264, -78.800835, -78.800746, -78.800692, -78.8006096, -78.800608, -78.800603, -78.800594, -78.800594, -78.8005945, -78.8005967, -78.8005969, -78.8005977, -78.8005917, -78.800591, -78.800591, -78.8004537, -78.8004099, -78.8000464, -78.7997104, -78.7994507, -78.799191, -78.798942, -78.7975292, -78.7966327, -78.7960352, -78.7960352, -78.7959463, -78.7959463, -78.7947852, -78.7935187, -78.7910381, -78.7904675, -78.7903024, -78.7903024, -78.7901958, -78.7898406, -78.7893578, -78.7889315, -78.7885971, -78.788377, -78.7881143, -78.7878129, -78.7878129, -78.787374, -78.7870819, -78.7870819, -78.7868123, -78.7866723, -78.7861498, -78.7858384, -78.7856605, -78.7856605, -78.785385, -78.785293, -78.7849314, -78.7849314, -78.7848615, -78.7848615, -78.783238, -78.783238, -78.782966, -78.782888, -78.7828, -78.7826989, -78.782522, -78.7825087, -78.7825087, -78.7823736, -78.7822921, -78.7821343, -78.7819044, -78.7816846, -78.7814526, -78.7812189, -78.7810259, -78.7808004, -78.7808004, -78.7806023, -78.7804034, -78.780236, -78.7800726, -78.7795505, -78.7792682, -78.7791611, -78.7791611, -78.7792206, -78.7794593, -78.7794948, -78.7797329, -78.7800172, -78.7801156, -78.7801613, -78.7802693, -78.7803332, -78.7803332, -78.7800333, -78.7799461, -78.7797026, -78.77953, -78.779391, -78.77929, -78.7792121, -78.7791449, -78.7791029, -78.7790744, -78.7790548, -78.779013, -78.778982, -78.7789633, -78.7789633, -78.7788921, -78.7788643, -78.7788923, -78.7788923, -78.778297, -78.778235, -78.777082, -78.7769951, -78.774475, -78.7740782, -78.773789, -78.7731576, -78.7731576, -78.7729684, -78.7726898, -78.7724863, -78.7722727, -78.7720912, -78.7718778, -78.7696465, -78.7695285, -78.7695285, -78.7691151, -78.7688881, -78.768115, -78.7675943, -78.7675943, -78.7664673, -78.7657516, -78.7653832, -78.7650191, -78.7650191, -78.7649011, -78.7647735, -78.7646784, -78.764576, -78.7644728, -78.7643228, -78.7642119, -78.7640811, -78.7638766, -78.7636524, -78.7633021, -78.7629501, -78.7612912, -78.7612912, -78.760193, -78.7600296, -78.758726, -78.75847, -78.7582517, -78.7568629, -78.7568629, -78.7568151, -78.7568012, -78.7567175, -78.7566628, -78.7566331, -78.7565299, -78.7565206, -78.7564529, -78.7564209, -78.7563814, -78.75633, -78.7562571, -78.7562571, -78.7561909, -78.756148, -78.7560892, -78.7560892, -78.7560331, -78.7560311, -78.7559666, -78.7558791, -78.7558791, -78.755689, -78.755689, -78.7555178, -78.7553321, -78.7551978, -78.7551978, -78.7549741, -78.7547269, -78.7543264, -78.7538544, -78.753752, -78.753752, -78.7536372, -78.7525481, -78.751628, -78.7514843, -78.7513843, -78.7513843, -78.7512919, -78.7510217, -78.7505214, -78.7499699, -78.7497273, -78.7496045, -78.7496045, -78.7494373, -78.7489551, -78.7482452, -78.7477904, -78.7476798, -78.7476798, -78.7475907, -78.7475735, -78.7474205, -78.7472675, -78.747093, -78.7468449, -78.7467564, -78.7467564, -78.7466955, -78.7465975, -78.7464781, -78.7463436, -78.7462177, -78.7460822, -78.7459385, -78.7457212, -78.7454799, -78.7452941, -78.7452941, -78.7450969, -78.7449215, -78.7444325, -78.7442883, -78.7442883, -78.7442474, -78.7440888, -78.7440051], \"marker\": {\"size\": 10}, \"mode\": \"lines\", \"name\": \"Path\", \"type\": \"scattermapbox\"}, {\"lat\": [35.5675956], \"lon\": [-78.8089909], \"marker\": {\"color\": \"red\", \"size\": 12}, \"mode\": \"markers\", \"name\": \"Source\", \"type\": \"scattermapbox\"}, {\"lat\": [35.5675956], \"lon\": [-78.8089909], \"marker\": {\"color\": \"green\", \"size\": 12}, \"mode\": \"markers\", \"name\": \"Destination\", \"type\": \"scattermapbox\"}],                        {\"mapbox\": {\"center\": {\"lat\": 35.57317115191816, \"lon\": -78.80099047800512}, \"style\": \"carto-darkmatter\", \"zoom\": 13}, \"margin\": {\"b\": 0, \"l\": 0, \"r\": 0, \"t\": 0}, \"template\": {\"data\": {\"bar\": [{\"error_x\": {\"color\": \"#2a3f5f\"}, \"error_y\": {\"color\": \"#2a3f5f\"}, \"marker\": {\"line\": {\"color\": \"#E5ECF6\", \"width\": 0.5}}, \"type\": \"bar\"}], \"barpolar\": [{\"marker\": {\"line\": {\"color\": \"#E5ECF6\", \"width\": 0.5}}, \"type\": \"barpolar\"}], \"carpet\": [{\"aaxis\": {\"endlinecolor\": \"#2a3f5f\", \"gridcolor\": \"white\", \"linecolor\": \"white\", \"minorgridcolor\": \"white\", \"startlinecolor\": \"#2a3f5f\"}, \"baxis\": {\"endlinecolor\": \"#2a3f5f\", \"gridcolor\": \"white\", \"linecolor\": \"white\", \"minorgridcolor\": \"white\", \"startlinecolor\": \"#2a3f5f\"}, \"type\": \"carpet\"}], \"choropleth\": [{\"colorbar\": {\"outlinewidth\": 0, \"ticks\": \"\"}, \"type\": \"choropleth\"}], \"contour\": [{\"colorbar\": {\"outlinewidth\": 0, \"ticks\": \"\"}, \"colorscale\": [[0.0, \"#0d0887\"], [0.1111111111111111, \"#46039f\"], [0.2222222222222222, \"#7201a8\"], [0.3333333333333333, \"#9c179e\"], [0.4444444444444444, \"#bd3786\"], [0.5555555555555556, \"#d8576b\"], [0.6666666666666666, \"#ed7953\"], [0.7777777777777778, \"#fb9f3a\"], [0.8888888888888888, \"#fdca26\"], [1.0, \"#f0f921\"]], \"type\": \"contour\"}], \"contourcarpet\": [{\"colorbar\": {\"outlinewidth\": 0, \"ticks\": \"\"}, \"type\": \"contourcarpet\"}], \"heatmap\": [{\"colorbar\": {\"outlinewidth\": 0, \"ticks\": \"\"}, \"colorscale\": [[0.0, \"#0d0887\"], [0.1111111111111111, \"#46039f\"], [0.2222222222222222, \"#7201a8\"], [0.3333333333333333, \"#9c179e\"], [0.4444444444444444, \"#bd3786\"], [0.5555555555555556, \"#d8576b\"], [0.6666666666666666, \"#ed7953\"], [0.7777777777777778, \"#fb9f3a\"], [0.8888888888888888, \"#fdca26\"], [1.0, \"#f0f921\"]], \"type\": \"heatmap\"}], \"heatmapgl\": [{\"colorbar\": {\"outlinewidth\": 0, \"ticks\": \"\"}, \"colorscale\": [[0.0, \"#0d0887\"], [0.1111111111111111, \"#46039f\"], [0.2222222222222222, \"#7201a8\"], [0.3333333333333333, \"#9c179e\"], [0.4444444444444444, \"#bd3786\"], [0.5555555555555556, \"#d8576b\"], [0.6666666666666666, \"#ed7953\"], [0.7777777777777778, \"#fb9f3a\"], [0.8888888888888888, \"#fdca26\"], [1.0, \"#f0f921\"]], \"type\": \"heatmapgl\"}], \"histogram\": [{\"marker\": {\"colorbar\": {\"outlinewidth\": 0, \"ticks\": \"\"}}, \"type\": \"histogram\"}], \"histogram2d\": [{\"colorbar\": {\"outlinewidth\": 0, \"ticks\": \"\"}, \"colorscale\": [[0.0, \"#0d0887\"], [0.1111111111111111, \"#46039f\"], [0.2222222222222222, \"#7201a8\"], [0.3333333333333333, \"#9c179e\"], [0.4444444444444444, \"#bd3786\"], [0.5555555555555556, \"#d8576b\"], [0.6666666666666666, \"#ed7953\"], [0.7777777777777778, \"#fb9f3a\"], [0.8888888888888888, \"#fdca26\"], [1.0, \"#f0f921\"]], \"type\": \"histogram2d\"}], \"histogram2dcontour\": [{\"colorbar\": {\"outlinewidth\": 0, \"ticks\": \"\"}, \"colorscale\": [[0.0, \"#0d0887\"], [0.1111111111111111, \"#46039f\"], [0.2222222222222222, \"#7201a8\"], [0.3333333333333333, \"#9c179e\"], [0.4444444444444444, \"#bd3786\"], [0.5555555555555556, \"#d8576b\"], [0.6666666666666666, \"#ed7953\"], [0.7777777777777778, \"#fb9f3a\"], [0.8888888888888888, \"#fdca26\"], [1.0, \"#f0f921\"]], \"type\": \"histogram2dcontour\"}], \"mesh3d\": [{\"colorbar\": {\"outlinewidth\": 0, \"ticks\": \"\"}, \"type\": \"mesh3d\"}], \"parcoords\": [{\"line\": {\"colorbar\": {\"outlinewidth\": 0, \"ticks\": \"\"}}, \"type\": \"parcoords\"}], \"pie\": [{\"automargin\": true, \"type\": \"pie\"}], \"scatter\": [{\"marker\": {\"colorbar\": {\"outlinewidth\": 0, \"ticks\": \"\"}}, \"type\": \"scatter\"}], \"scatter3d\": [{\"line\": {\"colorbar\": {\"outlinewidth\": 0, \"ticks\": \"\"}}, \"marker\": {\"colorbar\": {\"outlinewidth\": 0, \"ticks\": \"\"}}, \"type\": \"scatter3d\"}], \"scattercarpet\": [{\"marker\": {\"colorbar\": {\"outlinewidth\": 0, \"ticks\": \"\"}}, \"type\": \"scattercarpet\"}], \"scattergeo\": [{\"marker\": {\"colorbar\": {\"outlinewidth\": 0, \"ticks\": \"\"}}, \"type\": \"scattergeo\"}], \"scattergl\": [{\"marker\": {\"colorbar\": {\"outlinewidth\": 0, \"ticks\": \"\"}}, \"type\": \"scattergl\"}], \"scattermapbox\": [{\"marker\": {\"colorbar\": {\"outlinewidth\": 0, \"ticks\": \"\"}}, \"type\": \"scattermapbox\"}], \"scatterpolar\": [{\"marker\": {\"colorbar\": {\"outlinewidth\": 0, \"ticks\": \"\"}}, \"type\": \"scatterpolar\"}], \"scatterpolargl\": [{\"marker\": {\"colorbar\": {\"outlinewidth\": 0, \"ticks\": \"\"}}, \"type\": \"scatterpolargl\"}], \"scatterternary\": [{\"marker\": {\"colorbar\": {\"outlinewidth\": 0, \"ticks\": \"\"}}, \"type\": \"scatterternary\"}], \"surface\": [{\"colorbar\": {\"outlinewidth\": 0, \"ticks\": \"\"}, \"colorscale\": [[0.0, \"#0d0887\"], [0.1111111111111111, \"#46039f\"], [0.2222222222222222, \"#7201a8\"], [0.3333333333333333, \"#9c179e\"], [0.4444444444444444, \"#bd3786\"], [0.5555555555555556, \"#d8576b\"], [0.6666666666666666, \"#ed7953\"], [0.7777777777777778, \"#fb9f3a\"], [0.8888888888888888, \"#fdca26\"], [1.0, \"#f0f921\"]], \"type\": \"surface\"}], \"table\": [{\"cells\": {\"fill\": {\"color\": \"#EBF0F8\"}, \"line\": {\"color\": \"white\"}}, \"header\": {\"fill\": {\"color\": \"#C8D4E3\"}, \"line\": {\"color\": \"white\"}}, \"type\": \"table\"}]}, \"layout\": {\"annotationdefaults\": {\"arrowcolor\": \"#2a3f5f\", \"arrowhead\": 0, \"arrowwidth\": 1}, \"autotypenumbers\": \"strict\", \"coloraxis\": {\"colorbar\": {\"outlinewidth\": 0, \"ticks\": \"\"}}, \"colorscale\": {\"diverging\": [[0, \"#8e0152\"], [0.1, \"#c51b7d\"], [0.2, \"#de77ae\"], [0.3, \"#f1b6da\"], [0.4, \"#fde0ef\"], [0.5, \"#f7f7f7\"], [0.6, \"#e6f5d0\"], [0.7, \"#b8e186\"], [0.8, \"#7fbc41\"], [0.9, \"#4d9221\"], [1, \"#276419\"]], \"sequential\": [[0.0, \"#0d0887\"], [0.1111111111111111, \"#46039f\"], [0.2222222222222222, \"#7201a8\"], [0.3333333333333333, \"#9c179e\"], [0.4444444444444444, \"#bd3786\"], [0.5555555555555556, \"#d8576b\"], [0.6666666666666666, \"#ed7953\"], [0.7777777777777778, \"#fb9f3a\"], [0.8888888888888888, \"#fdca26\"], [1.0, \"#f0f921\"]], \"sequentialminus\": [[0.0, \"#0d0887\"], [0.1111111111111111, \"#46039f\"], [0.2222222222222222, \"#7201a8\"], [0.3333333333333333, \"#9c179e\"], [0.4444444444444444, \"#bd3786\"], [0.5555555555555556, \"#d8576b\"], [0.6666666666666666, \"#ed7953\"], [0.7777777777777778, \"#fb9f3a\"], [0.8888888888888888, \"#fdca26\"], [1.0, \"#f0f921\"]]}, \"colorway\": [\"#636efa\", \"#EF553B\", \"#00cc96\", \"#ab63fa\", \"#FFA15A\", \"#19d3f3\", \"#FF6692\", \"#B6E880\", \"#FF97FF\", \"#FECB52\"], \"font\": {\"color\": \"#2a3f5f\"}, \"geo\": {\"bgcolor\": \"white\", \"lakecolor\": \"white\", \"landcolor\": \"#E5ECF6\", \"showlakes\": true, \"showland\": true, \"subunitcolor\": \"white\"}, \"hoverlabel\": {\"align\": \"left\"}, \"hovermode\": \"closest\", \"mapbox\": {\"style\": \"light\"}, \"paper_bgcolor\": \"white\", \"plot_bgcolor\": \"#E5ECF6\", \"polar\": {\"angularaxis\": {\"gridcolor\": \"white\", \"linecolor\": \"white\", \"ticks\": \"\"}, \"bgcolor\": \"#E5ECF6\", \"radialaxis\": {\"gridcolor\": \"white\", \"linecolor\": \"white\", \"ticks\": \"\"}}, \"scene\": {\"xaxis\": {\"backgroundcolor\": \"#E5ECF6\", \"gridcolor\": \"white\", \"gridwidth\": 2, \"linecolor\": \"white\", \"showbackground\": true, \"ticks\": \"\", \"zerolinecolor\": \"white\"}, \"yaxis\": {\"backgroundcolor\": \"#E5ECF6\", \"gridcolor\": \"white\", \"gridwidth\": 2, \"linecolor\": \"white\", \"showbackground\": true, \"ticks\": \"\", \"zerolinecolor\": \"white\"}, \"zaxis\": {\"backgroundcolor\": \"#E5ECF6\", \"gridcolor\": \"white\", \"gridwidth\": 2, \"linecolor\": \"white\", \"showbackground\": true, \"ticks\": \"\", \"zerolinecolor\": \"white\"}}, \"shapedefaults\": {\"line\": {\"color\": \"#2a3f5f\"}}, \"ternary\": {\"aaxis\": {\"gridcolor\": \"white\", \"linecolor\": \"white\", \"ticks\": \"\"}, \"baxis\": {\"gridcolor\": \"white\", \"linecolor\": \"white\", \"ticks\": \"\"}, \"bgcolor\": \"#E5ECF6\", \"caxis\": {\"gridcolor\": \"white\", \"linecolor\": \"white\", \"ticks\": \"\"}}, \"title\": {\"x\": 0.05}, \"xaxis\": {\"automargin\": true, \"gridcolor\": \"white\", \"linecolor\": \"white\", \"ticks\": \"\", \"title\": {\"standoff\": 15}, \"zerolinecolor\": \"white\", \"zerolinewidth\": 2}, \"yaxis\": {\"automargin\": true, \"gridcolor\": \"white\", \"linecolor\": \"white\", \"ticks\": \"\", \"title\": {\"standoff\": 15}, \"zerolinecolor\": \"white\", \"zerolinewidth\": 2}}}},                        {\"responsive\": true}                    ).then(function(){\n",
       "                            \n",
       "var gd = document.getElementById('78930e54-1b98-4911-9da8-39aebe64164b');\n",
       "var x = new MutationObserver(function (mutations, observer) {{\n",
       "        var display = window.getComputedStyle(gd).display;\n",
       "        if (!display || display === 'none') {{\n",
       "            console.log([gd, 'removed!']);\n",
       "            Plotly.purge(gd);\n",
       "            observer.disconnect();\n",
       "        }}\n",
       "}});\n",
       "\n",
       "// Listen for the removal of the full notebook cells\n",
       "var notebookContainer = gd.closest('#notebook-container');\n",
       "if (notebookContainer) {{\n",
       "    x.observe(notebookContainer, {childList: true});\n",
       "}}\n",
       "\n",
       "// Listen for the clearing of the current output cell\n",
       "var outputEl = gd.closest('.output');\n",
       "if (outputEl) {{\n",
       "    x.observe(outputEl, {childList: true});\n",
       "}}\n",
       "\n",
       "                        })                };                });            </script>        </div>"
      ]
     },
     "metadata": {},
     "output_type": "display_data"
    }
   ],
   "source": [
    "lines = node_list_to_path2(G, mainroute2)\n",
    "long2 = []\n",
    "lat2 = []\n",
    "for i in range(len(lines)):\n",
    "    z = list(lines[i])\n",
    "    l1 = list(list(zip(*z))[0])\n",
    "    l2 = list(list(zip(*z))[1])\n",
    "    for j in range(len(l1)):\n",
    "        long2.append(l1[j])\n",
    "        lat2.append(l2[j])\n",
    "origin_point = (lat2[0],long2[0]) \n",
    "destination_point = (lat2[0],long2[0])\n",
    "plot_path(lat2, long2, origin_point, destination_point)"
   ]
  },
  {
   "cell_type": "code",
   "execution_count": 80,
   "id": "crucial-graduation",
   "metadata": {},
   "outputs": [
    {
     "data": {
      "text/plain": [
       "510.6"
      ]
     },
     "execution_count": 80,
     "metadata": {},
     "output_type": "execute_result"
    }
   ],
   "source": [
    "sum(duration6)"
   ]
  },
  {
   "cell_type": "code",
   "execution_count": 82,
   "id": "frank-tackle",
   "metadata": {},
   "outputs": [],
   "source": [
    "totalduration = sum(duration11) + sum(duration2) + sum(duration3) + sum(duration4) + sum(duration5) + sum(duration6)"
   ]
  },
  {
   "cell_type": "code",
   "execution_count": 83,
   "id": "stuffed-domestic",
   "metadata": {},
   "outputs": [
    {
     "data": {
      "text/plain": [
       "1545.9"
      ]
     },
     "execution_count": 83,
     "metadata": {},
     "output_type": "execute_result"
    }
   ],
   "source": [
    "totalduration"
   ]
  },
  {
   "cell_type": "code",
   "execution_count": null,
   "id": "secondary-expert",
   "metadata": {},
   "outputs": [],
   "source": []
  },
  {
   "cell_type": "code",
   "execution_count": 92,
   "id": "grand-original",
   "metadata": {},
   "outputs": [
    {
     "data": {
      "text/plain": [
       "35.5675956"
      ]
     },
     "execution_count": 92,
     "metadata": {},
     "output_type": "execute_result"
    }
   ],
   "source": [
    "G.nodes[mainroute[0]].get('y')"
   ]
  },
  {
   "cell_type": "code",
   "execution_count": 93,
   "id": "clinical-galaxy",
   "metadata": {},
   "outputs": [
    {
     "data": {
      "text/plain": [
       "-78.8089909"
      ]
     },
     "execution_count": 93,
     "metadata": {},
     "output_type": "execute_result"
    }
   ],
   "source": [
    "G.nodes[mainroute[0]].get('x')"
   ]
  },
  {
   "cell_type": "code",
   "execution_count": 94,
   "id": "modified-steam",
   "metadata": {},
   "outputs": [
    {
     "data": {
      "text/plain": [
       "35.5703126"
      ]
     },
     "execution_count": 94,
     "metadata": {},
     "output_type": "execute_result"
    }
   ],
   "source": [
    "G.nodes[origin_node].get('y')"
   ]
  },
  {
   "cell_type": "code",
   "execution_count": 95,
   "id": "enabling-sewing",
   "metadata": {},
   "outputs": [
    {
     "data": {
      "text/plain": [
       "-78.7440051"
      ]
     },
     "execution_count": 95,
     "metadata": {},
     "output_type": "execute_result"
    }
   ],
   "source": [
    "G.nodes[origin_node].get('x')"
   ]
  },
  {
   "cell_type": "code",
   "execution_count": 100,
   "id": "russian-person",
   "metadata": {},
   "outputs": [],
   "source": [
    "r = requests.get(f\"\"\"http://router.project-osrm.org/route/v1/car/{Adata.loc[first.index(min(first))][\"lon\"]},{Adata.loc[first.index(min(first))][\"lat\"]};{G.nodes[mainroute[0]].get('x')},{G.nodes[mainroute[0]].get('y')}?overview=false\"\"\")"
   ]
  },
  {
   "cell_type": "code",
   "execution_count": 101,
   "id": "numeric-trinity",
   "metadata": {},
   "outputs": [
    {
     "data": {
      "text/plain": [
       "{'legs': [{'steps': [],\n",
       "   'weight': 1094.7,\n",
       "   'distance': 16830,\n",
       "   'summary': '',\n",
       "   'duration': 1094.7}],\n",
       " 'weight_name': 'routability',\n",
       " 'weight': 1094.7,\n",
       " 'distance': 16830,\n",
       " 'duration': 1094.7}"
      ]
     },
     "execution_count": 101,
     "metadata": {},
     "output_type": "execute_result"
    }
   ],
   "source": [
    "json.loads(r.content)[\"routes\"][0]"
   ]
  },
  {
   "cell_type": "code",
   "execution_count": 102,
   "id": "middle-wright",
   "metadata": {},
   "outputs": [
    {
     "data": {
      "text/plain": [
       "1094.7"
      ]
     },
     "execution_count": 102,
     "metadata": {},
     "output_type": "execute_result"
    }
   ],
   "source": [
    "json.loads(r.content)[\"routes\"][0][\"duration\"]"
   ]
  },
  {
   "cell_type": "code",
   "execution_count": 104,
   "id": "fourth-evidence",
   "metadata": {},
   "outputs": [],
   "source": [
    "disposal_site_duration = totalduration + json.loads(r.content)[\"routes\"][0][\"duration\"]"
   ]
  },
  {
   "cell_type": "code",
   "execution_count": 105,
   "id": "consecutive-training",
   "metadata": {},
   "outputs": [
    {
     "data": {
      "text/plain": [
       "2640.6000000000004"
      ]
     },
     "execution_count": 105,
     "metadata": {},
     "output_type": "execute_result"
    }
   ],
   "source": [
    "disposal_site_duration"
   ]
  },
  {
   "cell_type": "code",
   "execution_count": 106,
   "id": "improving-thong",
   "metadata": {},
   "outputs": [
    {
     "data": {
      "text/plain": [
       "44.0"
      ]
     },
     "execution_count": 106,
     "metadata": {},
     "output_type": "execute_result"
    }
   ],
   "source": [
    "2640/60"
   ]
  },
  {
   "cell_type": "code",
   "execution_count": 107,
   "id": "lesser-saturn",
   "metadata": {},
   "outputs": [],
   "source": [
    "totaltrash = sum(trash11) + sum(trash2) + sum(trash3) + sum(trash4) + sum(trash5) + sum(trash6) "
   ]
  },
  {
   "cell_type": "code",
   "execution_count": 108,
   "id": "diverse-sugar",
   "metadata": {},
   "outputs": [
    {
     "data": {
      "text/plain": [
       "4218"
      ]
     },
     "execution_count": 108,
     "metadata": {},
     "output_type": "execute_result"
    }
   ],
   "source": [
    "totaltrash"
   ]
  },
  {
   "cell_type": "code",
   "execution_count": null,
   "id": "lesser-tours",
   "metadata": {},
   "outputs": [],
   "source": []
  }
 ],
 "metadata": {
  "kernelspec": {
   "display_name": "Python 3",
   "language": "python",
   "name": "python3"
  },
  "language_info": {
   "codemirror_mode": {
    "name": "ipython",
    "version": 3
   },
   "file_extension": ".py",
   "mimetype": "text/x-python",
   "name": "python",
   "nbconvert_exporter": "python",
   "pygments_lexer": "ipython3",
   "version": "3.8.8"
  }
 },
 "nbformat": 4,
 "nbformat_minor": 5
}
