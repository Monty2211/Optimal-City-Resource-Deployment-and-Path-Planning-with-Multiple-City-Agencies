{
 "cells": [
  {
   "cell_type": "code",
   "execution_count": 1,
   "id": "9425d53d",
   "metadata": {},
   "outputs": [],
   "source": [
    "import osmnx as ox\n",
    "import matplotlib.pyplot as plt\n",
    "import pandas as pd\n",
    "from geopy import distance\n",
    "import requests\n",
    "import json\n",
    "import datetime\n",
    "import math\n",
    "import itertools\n",
    "import numpy as np\n",
    "import networkx as nx\n",
    "import plotly.graph_objects as go\n",
    "from pulp import *\n",
    "import seaborn as sn\n",
    "from ortools.constraint_solver import routing_enums_pb2\n",
    "from ortools.constraint_solver import pywrapcp"
   ]
  },
  {
   "cell_type": "code",
   "execution_count": 2,
   "id": "85e9873c",
   "metadata": {},
   "outputs": [],
   "source": [
    "path1=[212696984.0,\n",
    " 212903621,\n",
    " 212903621.0,\n",
    " 212696984,\n",
    " 212633053.0,\n",
    " 212633053.0,\n",
    " 212696988,\n",
    " 212696988.0,\n",
    " 212696990,\n",
    " 212696990.0,\n",
    " 212696993,\n",
    " 212696993.0,\n",
    " 212696996,\n",
    " 212696996.0,\n",
    " 212697004,\n",
    " 212697011.0,\n",
    " 212697011.0,\n",
    " 212697004,\n",
    " 212697004.0,\n",
    " 212643444,\n",
    " 212643444.0,\n",
    " 212643441,\n",
    " 212643441.0,\n",
    " 212643439,\n",
    " 212643439.0,\n",
    " 212643436,\n",
    " 212643436.0,\n",
    " 212643433,\n",
    " 212643433.0,\n",
    " 7085465650,\n",
    " 7085465650.0,\n",
    " 212633055,\n",
    " 212633055.0,\n",
    " 212643431,\n",
    " 212643427.0,\n",
    " 212643427.0,\n",
    " 212643431,\n",
    " 212643431.0,\n",
    " 212626130,\n",
    " 212626130.0,\n",
    " 212670532,\n",
    " 212670532.0,\n",
    " 212696984]"
   ]
  },
  {
   "cell_type": "code",
   "execution_count": 3,
   "id": "745ef0c1",
   "metadata": {},
   "outputs": [],
   "source": [
    "path2=[212643473.0,\n",
    " 212643476,\n",
    " 212643476.0,\n",
    " 212632105,\n",
    " 212632105.0,\n",
    " 212643478,\n",
    " 212643478.0,\n",
    " 212643481,\n",
    " 212643481.0,\n",
    " 212697035,\n",
    " 212697039.0,\n",
    " 212697039.0,\n",
    " 212697035,\n",
    " 212697035.0,\n",
    " 212632102,\n",
    " 212632102.0,\n",
    " 212697032,\n",
    " 212697032.0,\n",
    " 212643473,\n",
    " 212643469,\n",
    " 212643467.0,\n",
    " 212643467.0,\n",
    " 212643469,\n",
    " 212643469.0,\n",
    " 212643473]"
   ]
  },
  {
   "cell_type": "code",
   "execution_count": 4,
   "id": "4799e50b",
   "metadata": {},
   "outputs": [],
   "source": [
    "path3=[212696984.0,\n",
    " 212903621,\n",
    " 212903621.0,\n",
    " 212696984,\n",
    " 212633053.0,\n",
    " 212633053.0,\n",
    " 212696988,\n",
    " 212696988.0,\n",
    " 212696990,\n",
    " 212696990.0,\n",
    " 212696993,\n",
    " 212696993.0,\n",
    " 212696996,\n",
    " 212696996.0,\n",
    " 212697004,\n",
    " 212697011.0,\n",
    " 212697011.0,\n",
    " 212697004,\n",
    " 212697004.0,\n",
    " 212643444,\n",
    " 212643444.0,\n",
    " 212643441,\n",
    " 212643441.0,\n",
    " 212643439,\n",
    " 212643439.0,\n",
    " 212643436,\n",
    " 212643436.0,\n",
    " 212643433,\n",
    " 212643433.0,\n",
    " 7085465650,\n",
    " 7085465650.0,\n",
    " 212633055,\n",
    " 212633055.0,\n",
    " 212643431,\n",
    " 212643427.0,\n",
    " 212643427.0,\n",
    " 212643431,\n",
    " 212643431.0,\n",
    " 212626130,\n",
    " 212626130.0,\n",
    " 212670532,\n",
    " 212670532.0,\n",
    " 212696984]"
   ]
  },
  {
   "cell_type": "code",
   "execution_count": 6,
   "id": "d68e449e",
   "metadata": {},
   "outputs": [
    {
     "name": "stderr",
     "output_type": "stream",
     "text": [
      "/Users/rochelleallan/anaconda3/envs/ox/lib/python3.9/site-packages/osmnx/utils_geo.py:335: ShapelyDeprecationWarning: Iteration over multi-part geometries is deprecated and will be removed in Shapely 2.0. Use the `geoms` property to access the constituent parts of a multi-part geometry.\n",
      "  for polygon in geometry:\n",
      "/Users/rochelleallan/anaconda3/envs/ox/lib/python3.9/site-packages/osmnx/utils_geo.py:426: ShapelyDeprecationWarning: Iteration over multi-part geometries is deprecated and will be removed in Shapely 2.0. Use the `geoms` property to access the constituent parts of a multi-part geometry.\n",
      "  for poly in multipoly:\n",
      "/Users/rochelleallan/anaconda3/envs/ox/lib/python3.9/site-packages/osmnx/utils_geo.py:426: ShapelyDeprecationWarning: Iteration over multi-part geometries is deprecated and will be removed in Shapely 2.0. Use the `geoms` property to access the constituent parts of a multi-part geometry.\n",
      "  for poly in multipoly:\n"
     ]
    }
   ],
   "source": [
    "G = ox.graph_from_place('Rochester, NY, USA', network_type='drive')"
   ]
  },
  {
   "cell_type": "code",
   "execution_count": 7,
   "id": "3153ee17",
   "metadata": {},
   "outputs": [],
   "source": [
    "path12 = nx.shortest_path(G, 212696984,212643473, weight='travel_time')"
   ]
  },
  {
   "cell_type": "code",
   "execution_count": 8,
   "id": "cec9d80e",
   "metadata": {},
   "outputs": [],
   "source": [
    "path23 = nx.shortest_path(G, 212643473,212696984, weight='travel_time')"
   ]
  },
  {
   "cell_type": "code",
   "execution_count": 27,
   "id": "5c757eb8",
   "metadata": {},
   "outputs": [],
   "source": [
    "path12=[212633053,\n",
    " 212633055,\n",
    " 212643431,\n",
    " 212731609,\n",
    " 212642331,\n",
    " 212731612,\n",
    " 212881997,\n",
    " 212870974,\n",
    " 212643467,\n",
    " 212643469]"
   ]
  },
  {
   "cell_type": "code",
   "execution_count": 28,
   "id": "f8c27d89",
   "metadata": {},
   "outputs": [],
   "source": [
    "path23=[212643469,\n",
    " 212643467,\n",
    " 212870974,\n",
    " 212881997,\n",
    " 212731612,\n",
    " 212642331,\n",
    " 212731609,\n",
    " 212643431,\n",
    " 212633055,\n",
    " 212633053]"
   ]
  },
  {
   "cell_type": "code",
   "execution_count": 29,
   "id": "b593413a",
   "metadata": {},
   "outputs": [],
   "source": [
    "mainroute = path1+path12+path2+path23+path3"
   ]
  },
  {
   "cell_type": "code",
   "execution_count": null,
   "id": "d7ea34bb",
   "metadata": {},
   "outputs": [],
   "source": []
  }
 ],
 "metadata": {
  "kernelspec": {
   "display_name": "Python (ox)",
   "language": "python",
   "name": "ox"
  },
  "language_info": {
   "codemirror_mode": {
    "name": "ipython",
    "version": 3
   },
   "file_extension": ".py",
   "mimetype": "text/x-python",
   "name": "python",
   "nbconvert_exporter": "python",
   "pygments_lexer": "ipython3",
   "version": "3.9.7"
  }
 },
 "nbformat": 4,
 "nbformat_minor": 5
}
