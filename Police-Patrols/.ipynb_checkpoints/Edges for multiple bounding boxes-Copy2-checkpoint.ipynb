{
 "cells": [
  {
   "cell_type": "code",
   "execution_count": 59,
   "id": "respiratory-primary",
   "metadata": {},
   "outputs": [],
   "source": [
    "import osmnx as ox\n",
    "import matplotlib.pyplot as plt\n",
    "import pandas as pd\n",
    "from geopy import distance\n",
    "import requests\n",
    "import json\n",
    "import datetime\n",
    "import math\n",
    "import itertools\n",
    "import numpy as np\n",
    "import networkx as nx\n",
    "import plotly.graph_objects as go\n",
    "from pulp import *\n",
    "import seaborn as sn\n",
    "from ortools.constraint_solver import routing_enums_pb2\n",
    "from ortools.constraint_solver import pywrapcp"
   ]
  },
  {
   "cell_type": "code",
   "execution_count": 92,
   "id": "noticed-gabriel",
   "metadata": {},
   "outputs": [
    {
     "name": "stderr",
     "output_type": "stream",
     "text": [
      "/Users/rochelleallan/anaconda3/envs/ox/lib/python3.9/site-packages/osmnx/utils_geo.py:335: ShapelyDeprecationWarning:\n",
      "\n",
      "Iteration over multi-part geometries is deprecated and will be removed in Shapely 2.0. Use the `geoms` property to access the constituent parts of a multi-part geometry.\n",
      "\n",
      "/Users/rochelleallan/anaconda3/envs/ox/lib/python3.9/site-packages/osmnx/utils_geo.py:426: ShapelyDeprecationWarning:\n",
      "\n",
      "Iteration over multi-part geometries is deprecated and will be removed in Shapely 2.0. Use the `geoms` property to access the constituent parts of a multi-part geometry.\n",
      "\n",
      "/Users/rochelleallan/anaconda3/envs/ox/lib/python3.9/site-packages/osmnx/utils_geo.py:426: ShapelyDeprecationWarning:\n",
      "\n",
      "Iteration over multi-part geometries is deprecated and will be removed in Shapely 2.0. Use the `geoms` property to access the constituent parts of a multi-part geometry.\n",
      "\n"
     ]
    },
    {
     "data": {
      "image/png": "[encoded data removed]",
      "text/plain": [
       "<Figure size 576x576 with 1 Axes>"
      ]
     },
     "metadata": {},
     "output_type": "display_data"
    },
    {
     "name": "stdout",
     "output_type": "stream",
     "text": [
      "Welcome to the CBC MILP Solver \n",
      "Version: 2.10.3 \n",
      "Build Date: Dec 15 2019 \n",
      "\n",
      "command line - /Users/rochelleallan/anaconda3/envs/ox/lib/python3.9/site-packages/pulp/apis/../solverdir/cbc/osx/64/cbc /var/folders/0f/0wx77bhd2sl15rhs858yxhtc0000gn/T/b19c80b16edd4205a4d291b41f051277-pulp.mps timeMode elapsed branch printingOptions all solution /var/folders/0f/0wx77bhd2sl15rhs858yxhtc0000gn/T/b19c80b16edd4205a4d291b41f051277-pulp.sol (default strategy 1)\n",
      "At line 2 NAME          MODEL\n",
      "At line 3 ROWS\n",
      "At line 97 COLUMNS\n",
      "At line 782 RHS\n",
      "At line 875 BOUNDS\n",
      "At line 975 ENDATA\n",
      "Problem MODEL has 92 rows, 99 columns and 396 elements\n",
      "Coin0008I MODEL read with 0 errors\n",
      "Option for timeMode changed from cpu to elapsed\n",
      "Continuous objective value is 609.18 - 0.00 seconds\n",
      "Cgl0003I 0 fixed, 0 tightened bounds, 72 strengthened rows, 0 substitutions\n",
      "Cgl0003I 0 fixed, 0 tightened bounds, 72 strengthened rows, 0 substitutions\n",
      "Cgl0003I 0 fixed, 0 tightened bounds, 72 strengthened rows, 0 substitutions\n",
      "Cgl0003I 0 fixed, 0 tightened bounds, 72 strengthened rows, 0 substitutions\n",
      "Cgl0003I 0 fixed, 0 tightened bounds, 72 strengthened rows, 0 substitutions\n",
      "Cgl0003I 0 fixed, 0 tightened bounds, 72 strengthened rows, 0 substitutions\n",
      "Cgl0003I 0 fixed, 0 tightened bounds, 72 strengthened rows, 0 substitutions\n",
      "Cgl0004I processed model has 92 rows, 99 columns (99 integer (90 of which binary)) and 900 elements\n",
      "Cutoff increment increased from 1e-05 to 0.0999\n",
      "Cbc0038I Initial state - 12 integers unsatisfied sum - 1.77778\n",
      "Cbc0038I Pass   1: suminf.    1.77778 (8) obj. 739.733 iterations 14\n",
      "Cbc0038I Pass   2: suminf.    1.77778 (4) obj. 1210.19 iterations 19\n",
      "Cbc0038I Pass   3: suminf.    1.77778 (4) obj. 1149.01 iterations 9\n",
      "Cbc0038I Pass   4: suminf.    1.77778 (4) obj. 1766.49 iterations 28\n",
      "Cbc0038I Pass   5: suminf.    1.55556 (8) obj. 2011.2 iterations 17\n",
      "Cbc0038I Pass   6: suminf.    1.55556 (8) obj. 2076.56 iterations 15\n",
      "Cbc0038I Pass   7: suminf.    1.55556 (8) obj. 2387.04 iterations 11\n",
      "Cbc0038I Pass   8: suminf.    2.16667 (7) obj. 3166.89 iterations 37\n",
      "Cbc0038I Pass   9: suminf.    2.11111 (9) obj. 3190.74 iterations 15\n",
      "Cbc0038I Pass  10: suminf.    2.11111 (6) obj. 3115.87 iterations 11\n",
      "Cbc0038I Pass  11: suminf.    1.11111 (7) obj. 3253.71 iterations 19\n",
      "Cbc0038I Pass  12: suminf.    1.33333 (4) obj. 3400.43 iterations 34\n",
      "Cbc0038I Pass  13: suminf.    1.77778 (11) obj. 3440.34 iterations 13\n",
      "Cbc0038I Pass  14: suminf.    1.33333 (4) obj. 3322.5 iterations 29\n",
      "Cbc0038I Pass  15: suminf.    1.11111 (7) obj. 3470.09 iterations 23\n",
      "Cbc0038I Pass  16: suminf.    1.61111 (10) obj. 3050.03 iterations 22\n",
      "Cbc0038I Pass  17: suminf.    1.61111 (10) obj. 3050.03 iterations 1\n",
      "Cbc0038I Pass  18: suminf.    2.11111 (9) obj. 2615.75 iterations 26\n",
      "Cbc0038I Pass  19: suminf.    2.11111 (6) obj. 2664.79 iterations 12\n",
      "Cbc0038I Pass  20: suminf.    1.77778 (11) obj. 2946.12 iterations 14\n",
      "Cbc0038I Pass  21: suminf.    1.33333 (4) obj. 2980.5 iterations 21\n",
      "Cbc0038I Pass  22: suminf.    2.61111 (12) obj. 3050.03 iterations 17\n",
      "Cbc0038I Pass  23: suminf.    2.11111 (9) obj. 2615.75 iterations 20\n",
      "Cbc0038I Pass  24: suminf.    2.11111 (6) obj. 2664.79 iterations 14\n",
      "Cbc0038I Pass  25: suminf.    1.77778 (11) obj. 2946.12 iterations 16\n",
      "Cbc0038I Pass  26: suminf.    1.33333 (4) obj. 2980.5 iterations 21\n",
      "Cbc0038I Pass  27: suminf.    2.61111 (12) obj. 3050.03 iterations 19\n",
      "Cbc0038I Pass  28: suminf.    2.11111 (9) obj. 2615.75 iterations 20\n",
      "Cbc0038I Pass  29: suminf.    2.11111 (6) obj. 2664.79 iterations 14\n",
      "Cbc0038I Pass  30: suminf.    1.77778 (11) obj. 2946.12 iterations 14\n",
      "Cbc0038I No solution found this major pass\n",
      "Cbc0038I Before mini branch and bound, 47 integers at bound fixed and 0 continuous\n",
      "Cbc0038I Full problem 92 rows 99 columns, reduced to 90 rows 50 columns\n",
      "Cbc0038I Mini branch and bound improved solution from 1.79769e+308 to 1253.7 (0.13 seconds)\n",
      "Cbc0038I Round again with cutoff of 1189.9\n",
      "Cbc0038I Pass  30: suminf.    1.77778 (8) obj. 739.733 iterations 0\n",
      "Cbc0038I Pass  31: suminf.    3.58845 (9) obj. 1189.9 iterations 25\n",
      "Cbc0038I Pass  32: suminf.    1.77778 (4) obj. 1149.01 iterations 28\n",
      "Cbc0038I Pass  33: suminf.    6.37972 (14) obj. 1189.9 iterations 37\n",
      "Cbc0038I Pass  34: suminf.    4.01337 (13) obj. 1189.9 iterations 14\n",
      "Cbc0038I Pass  35: suminf.    1.77778 (8) obj. 788.178 iterations 20\n",
      "Cbc0038I Pass  36: suminf.    1.77778 (7) obj. 966.378 iterations 14\n",
      "Cbc0038I Pass  37: suminf.    2.52979 (9) obj. 1189.9 iterations 18\n",
      "Cbc0038I Pass  38: suminf.    1.77778 (7) obj. 1089.13 iterations 16\n",
      "Cbc0038I Pass  39: suminf.    3.72856 (11) obj. 1189.9 iterations 23\n",
      "Cbc0038I Pass  40: suminf.    3.72856 (11) obj. 1189.9 iterations 6\n",
      "Cbc0038I Pass  41: suminf.    2.77778 (14) obj. 970.974 iterations 27\n",
      "Cbc0038I Pass  42: suminf.    1.77778 (4) obj. 1149.01 iterations 4\n",
      "Cbc0038I Pass  43: suminf.    3.25173 (8) obj. 1189.9 iterations 11\n",
      "Cbc0038I Pass  44: suminf.    2.86577 (10) obj. 1189.9 iterations 9\n",
      "Cbc0038I Pass  45: suminf.    3.25173 (8) obj. 1189.9 iterations 7\n",
      "Cbc0038I Pass  46: suminf.    3.92543 (8) obj. 1189.9 iterations 12\n",
      "Cbc0038I Pass  47: suminf.    0.88889 (4) obj. 972.556 iterations 15\n",
      "Cbc0038I Pass  48: suminf.    1.55556 (8) obj. 1130.7 iterations 22\n",
      "Cbc0038I Pass  49: suminf.    1.97523 (17) obj. 1189.9 iterations 19\n",
      "Cbc0038I Pass  50: suminf.    1.77778 (8) obj. 739.733 iterations 22\n",
      "Cbc0038I Pass  51: suminf.    2.58845 (6) obj. 1189.9 iterations 16\n",
      "Cbc0038I Pass  52: suminf.    1.77778 (4) obj. 1149.01 iterations 18\n",
      "Cbc0038I Pass  53: suminf.    2.90138 (15) obj. 1189.9 iterations 24\n",
      "Cbc0038I Pass  54: suminf.    1.77778 (4) obj. 1149.01 iterations 33\n",
      "Cbc0038I Pass  55: suminf.    2.90527 (17) obj. 1189.9 iterations 30\n",
      "Cbc0038I Pass  56: suminf.    1.55556 (8) obj. 1130.7 iterations 24\n",
      "Cbc0038I Pass  57: suminf.    1.86505 (12) obj. 1189.9 iterations 25\n",
      "Cbc0038I Pass  58: suminf.    1.33333 (6) obj. 936.589 iterations 30\n",
      "Cbc0038I Pass  59: suminf.    2.13565 (9) obj. 1189.9 iterations 25\n",
      "Cbc0038I No solution found this major pass\n",
      "Cbc0038I Before mini branch and bound, 51 integers at bound fixed and 0 continuous\n",
      "Cbc0038I Full problem 92 rows 99 columns, reduced to 90 rows 46 columns\n",
      "Cbc0038I Mini branch and bound did not improve solution (0.19 seconds)\n",
      "Cbc0038I After 0.19 seconds - Feasibility pump exiting with objective of 1253.7 - took 0.12 seconds\n",
      "Cbc0012I Integer solution of 1253.7 found by feasibility pump after 0 iterations and 0 nodes (0.19 seconds)\n",
      "Cbc0031I 13 added rows had average density of 34.615385\n",
      "Cbc0013I At root node, 13 cuts changed objective from 617.37778 to 1102.716 in 100 passes\n",
      "Cbc0014I Cut generator 0 (Probing) - 238 row cuts average 4.1 elements, 0 column cuts (0 active)  in 0.053 seconds - new frequency is 1\n",
      "Cbc0014I Cut generator 1 (Gomory) - 1021 row cuts average 64.4 elements, 0 column cuts (0 active)  in 0.024 seconds - new frequency is 1\n",
      "Cbc0014I Cut generator 2 (Knapsack) - 3 row cuts average 6.3 elements, 0 column cuts (0 active)  in 0.035 seconds - new frequency is -100\n",
      "Cbc0014I Cut generator 3 (Clique) - 0 row cuts average 0.0 elements, 0 column cuts (0 active)  in 0.003 seconds - new frequency is -100\n",
      "Cbc0014I Cut generator 4 (MixedIntegerRounding2) - 55 row cuts average 60.3 elements, 0 column cuts (0 active)  in 0.016 seconds - new frequency is 1\n",
      "Cbc0014I Cut generator 5 (FlowCover) - 28 row cuts average 2.1 elements, 0 column cuts (0 active)  in 0.025 seconds - new frequency is -100\n",
      "Cbc0014I Cut generator 6 (TwoMirCuts) - 176 row cuts average 38.7 elements, 0 column cuts (0 active)  in 0.015 seconds - new frequency is 1\n",
      "Cbc0014I Cut generator 7 (ZeroHalf) - 71 row cuts average 12.1 elements, 0 column cuts (0 active)  in 0.742 seconds - new frequency is 1\n",
      "Cbc0010I After 0 nodes, 1 on tree, 1253.7 best solution, best possible 1102.716 (1.89 seconds)\n",
      "Cbc0016I Integer solution of 1144.3 found by strong branching after 3702 iterations and 19 nodes (2.90 seconds)\n",
      "Cbc0001I Search completed - best objective 1144.3, took 4169 iterations and 28 nodes (3.29 seconds)\n",
      "Cbc0032I Strong branching done 612 times (5959 iterations), fathomed 4 nodes and fixed 8 variables\n",
      "Cbc0035I Maximum depth 5, 150 variables fixed on reduced cost\n",
      "Cuts at root node changed objective from 617.378 to 1102.72\n",
      "Probing was tried 186 times and created 823 cuts of which 0 were active after adding rounds of cuts (0.066 seconds)\n",
      "Gomory was tried 182 times and created 1085 cuts of which 0 were active after adding rounds of cuts (0.033 seconds)\n",
      "Knapsack was tried 100 times and created 3 cuts of which 0 were active after adding rounds of cuts (0.035 seconds)\n",
      "Clique was tried 100 times and created 0 cuts of which 0 were active after adding rounds of cuts (0.003 seconds)\n",
      "MixedIntegerRounding2 was tried 182 times and created 77 cuts of which 0 were active after adding rounds of cuts (0.024 seconds)\n",
      "FlowCover was tried 100 times and created 28 cuts of which 0 were active after adding rounds of cuts (0.025 seconds)\n",
      "TwoMirCuts was tried 182 times and created 469 cuts of which 0 were active after adding rounds of cuts (0.032 seconds)\n",
      "ZeroHalf was tried 182 times and created 113 cuts of which 0 were active after adding rounds of cuts (1.372 seconds)\n",
      "ImplicationCuts was tried 82 times and created 4 cuts of which 0 were active after adding rounds of cuts (0.001 seconds)\n",
      "\n",
      "Result - Optimal solution found\n",
      "\n",
      "Objective value:                1144.30000000\n",
      "Enumerated nodes:               28\n",
      "Total iterations:               4169\n",
      "Time (CPU seconds):             2.01\n",
      "Time (Wallclock seconds):       3.30\n",
      "\n",
      "Option for printingOptions changed from normal to all\n",
      "Total time (CPU seconds):       2.01   (Wallclock seconds):       3.31\n",
      "\n"
     ]
    },
    {
     "data": {
      "application/vnd.plotly.v1+json": {
       "config": {
        "plotlyServerURL": "https://plot.ly"
       },
       "data": [
        {
         "lat": [
          43.149976,
          43.1493233,
          43.1493233,
          43.1471815,
          43.1471815,
          43.1471921,
          43.1472671,
          43.1472375,
          43.1471773,
          43.1470609,
          43.1470609,
          43.147388,
          43.147388,
          43.1474841,
          43.1474841,
          43.147388,
          43.147388,
          43.1477942,
          43.1478732,
          43.1479886,
          43.1493243,
          43.1493243,
          43.1499787,
          43.1499787,
          43.1499814,
          43.1499814,
          43.1499817,
          43.1499817,
          43.1499814,
          43.1499814,
          43.1499787,
          43.1499787,
          43.149976
         ],
         "line": {
          "color": "grey",
          "width": 4.5
         },
         "lon": [
          -77.6464172,
          -77.6464005,
          -77.6464005,
          -77.6464029,
          -77.6464029,
          -77.6462877,
          -77.6460358,
          -77.6459504,
          -77.645891,
          -77.6458108,
          -77.6458108,
          -77.6448587,
          -77.6448587,
          -77.6445764,
          -77.6445764,
          -77.6448587,
          -77.6448587,
          -77.645127,
          -77.6451553,
          -77.645165,
          -77.6451596,
          -77.6451596,
          -77.6451775,
          -77.6451775,
          -77.6439568,
          -77.6439568,
          -77.6438511,
          -77.6438511,
          -77.6439568,
          -77.6439568,
          -77.6451775,
          -77.6451775,
          -77.6464172
         ],
         "marker": {
          "size": 10
         },
         "mode": "lines",
         "name": "Path",
         "type": "scattermapbox"
        },
        {
         "lat": [
          43.149976
         ],
         "lon": [
          -77.6464172
         ],
         "marker": {
          "color": "red",
          "size": 12
         },
         "mode": "markers",
         "name": "Source",
         "type": "scattermapbox"
        },
        {
         "lat": [
          43.149976
         ],
         "lon": [
          -77.6464172
         ],
         "marker": {
          "color": "green",
          "size": 12
         },
         "mode": "markers",
         "name": "Destination",
         "type": "scattermapbox"
        }
       ],
       "layout": {
        "mapbox": {
         "center": {
          "lat": 43.14856321212121,
          "lon": -77.64523700606061
         },
         "style": "carto-darkmatter",
         "zoom": 13
        },
        "margin": {
         "b": 0,
         "l": 0,
         "r": 0,
         "t": 0
        },
        "template": {
         "data": {
          "bar": [
           {
            "error_x": {
             "color": "#2a3f5f"
            },
            "error_y": {
             "color": "#2a3f5f"
            },
            "marker": {
             "line": {
              "color": "#E5ECF6",
              "width": 0.5
             },
             "pattern": {
              "fillmode": "overlay",
              "size": 10,
              "solidity": 0.2
             }
            },
            "type": "bar"
           }
          ],
          "barpolar": [
           {
            "marker": {
             "line": {
              "color": "#E5ECF6",
              "width": 0.5
             },
             "pattern": {
              "fillmode": "overlay",
              "size": 10,
              "solidity": 0.2
             }
            },
            "type": "barpolar"
           }
          ],
          "carpet": [
           {
            "aaxis": {
             "endlinecolor": "#2a3f5f",
             "gridcolor": "white",
             "linecolor": "white",
             "minorgridcolor": "white",
             "startlinecolor": "#2a3f5f"
            },
            "baxis": {
             "endlinecolor": "#2a3f5f",
             "gridcolor": "white",
             "linecolor": "white",
             "minorgridcolor": "white",
             "startlinecolor": "#2a3f5f"
            },
            "type": "carpet"
           }
          ],
          "choropleth": [
           {
            "colorbar": {
             "outlinewidth": 0,
             "ticks": ""
            },
            "type": "choropleth"
           }
          ],
          "contour": [
           {
            "colorbar": {
             "outlinewidth": 0,
             "ticks": ""
            },
            "colorscale": [
             [
              0,
              "#0d0887"
             ],
             [
              0.1111111111111111,
              "#46039f"
             ],
             [
              0.2222222222222222,
              "#7201a8"
             ],
             [
              0.3333333333333333,
              "#9c179e"
             ],
             [
              0.4444444444444444,
              "#bd3786"
             ],
             [
              0.5555555555555556,
              "#d8576b"
             ],
             [
              0.6666666666666666,
              "#ed7953"
             ],
             [
              0.7777777777777778,
              "#fb9f3a"
             ],
             [
              0.8888888888888888,
              "#fdca26"
             ],
             [
              1,
              "#f0f921"
             ]
            ],
            "type": "contour"
           }
          ],
          "contourcarpet": [
           {
            "colorbar": {
             "outlinewidth": 0,
             "ticks": ""
            },
            "type": "contourcarpet"
           }
          ],
          "heatmap": [
           {
            "colorbar": {
             "outlinewidth": 0,
             "ticks": ""
            },
            "colorscale": [
             [
              0,
              "#0d0887"
             ],
             [
              0.1111111111111111,
              "#46039f"
             ],
             [
              0.2222222222222222,
              "#7201a8"
             ],
             [
              0.3333333333333333,
              "#9c179e"
             ],
             [
              0.4444444444444444,
              "#bd3786"
             ],
             [
              0.5555555555555556,
              "#d8576b"
             ],
             [
              0.6666666666666666,
              "#ed7953"
             ],
             [
              0.7777777777777778,
              "#fb9f3a"
             ],
             [
              0.8888888888888888,
              "#fdca26"
             ],
             [
              1,
              "#f0f921"
             ]
            ],
            "type": "heatmap"
           }
          ],
          "heatmapgl": [
           {
            "colorbar": {
             "outlinewidth": 0,
             "ticks": ""
            },
            "colorscale": [
             [
              0,
              "#0d0887"
             ],
             [
              0.1111111111111111,
              "#46039f"
             ],
             [
              0.2222222222222222,
              "#7201a8"
             ],
             [
              0.3333333333333333,
              "#9c179e"
             ],
             [
              0.4444444444444444,
              "#bd3786"
             ],
             [
              0.5555555555555556,
              "#d8576b"
             ],
             [
              0.6666666666666666,
              "#ed7953"
             ],
             [
              0.7777777777777778,
              "#fb9f3a"
             ],
             [
              0.8888888888888888,
              "#fdca26"
             ],
             [
              1,
              "#f0f921"
             ]
            ],
            "type": "heatmapgl"
           }
          ],
          "histogram": [
           {
            "marker": {
             "pattern": {
              "fillmode": "overlay",
              "size": 10,
              "solidity": 0.2
             }
            },
            "type": "histogram"
           }
          ],
          "histogram2d": [
           {
            "colorbar": {
             "outlinewidth": 0,
             "ticks": ""
            },
            "colorscale": [
             [
              0,
              "#0d0887"
             ],
             [
              0.1111111111111111,
              "#46039f"
             ],
             [
              0.2222222222222222,
              "#7201a8"
             ],
             [
              0.3333333333333333,
              "#9c179e"
             ],
             [
              0.4444444444444444,
              "#bd3786"
             ],
             [
              0.5555555555555556,
              "#d8576b"
             ],
             [
              0.6666666666666666,
              "#ed7953"
             ],
             [
              0.7777777777777778,
              "#fb9f3a"
             ],
             [
              0.8888888888888888,
              "#fdca26"
             ],
             [
              1,
              "#f0f921"
             ]
            ],
            "type": "histogram2d"
           }
          ],
          "histogram2dcontour": [
           {
            "colorbar": {
             "outlinewidth": 0,
             "ticks": ""
            },
            "colorscale": [
             [
              0,
              "#0d0887"
             ],
             [
              0.1111111111111111,
              "#46039f"
             ],
             [
              0.2222222222222222,
              "#7201a8"
             ],
             [
              0.3333333333333333,
              "#9c179e"
             ],
             [
              0.4444444444444444,
              "#bd3786"
             ],
             [
              0.5555555555555556,
              "#d8576b"
             ],
             [
              0.6666666666666666,
              "#ed7953"
             ],
             [
              0.7777777777777778,
              "#fb9f3a"
             ],
             [
              0.8888888888888888,
              "#fdca26"
             ],
             [
              1,
              "#f0f921"
             ]
            ],
            "type": "histogram2dcontour"
           }
          ],
          "mesh3d": [
           {
            "colorbar": {
             "outlinewidth": 0,
             "ticks": ""
            },
            "type": "mesh3d"
           }
          ],
          "parcoords": [
           {
            "line": {
             "colorbar": {
              "outlinewidth": 0,
              "ticks": ""
             }
            },
            "type": "parcoords"
           }
          ],
          "pie": [
           {
            "automargin": true,
            "type": "pie"
           }
          ],
          "scatter": [
           {
            "marker": {
             "colorbar": {
              "outlinewidth": 0,
              "ticks": ""
             }
            },
            "type": "scatter"
           }
          ],
          "scatter3d": [
           {
            "line": {
             "colorbar": {
              "outlinewidth": 0,
              "ticks": ""
             }
            },
            "marker": {
             "colorbar": {
              "outlinewidth": 0,
              "ticks": ""
             }
            },
            "type": "scatter3d"
           }
          ],
          "scattercarpet": [
           {
            "marker": {
             "colorbar": {
              "outlinewidth": 0,
              "ticks": ""
             }
            },
            "type": "scattercarpet"
           }
          ],
          "scattergeo": [
           {
            "marker": {
             "colorbar": {
              "outlinewidth": 0,
              "ticks": ""
             }
            },
            "type": "scattergeo"
           }
          ],
          "scattergl": [
           {
            "marker": {
             "colorbar": {
              "outlinewidth": 0,
              "ticks": ""
             }
            },
            "type": "scattergl"
           }
          ],
          "scattermapbox": [
           {
            "marker": {
             "colorbar": {
              "outlinewidth": 0,
              "ticks": ""
             }
            },
            "type": "scattermapbox"
           }
          ],
          "scatterpolar": [
           {
            "marker": {
             "colorbar": {
              "outlinewidth": 0,
              "ticks": ""
             }
            },
            "type": "scatterpolar"
           }
          ],
          "scatterpolargl": [
           {
            "marker": {
             "colorbar": {
              "outlinewidth": 0,
              "ticks": ""
             }
            },
            "type": "scatterpolargl"
           }
          ],
          "scatterternary": [
           {
            "marker": {
             "colorbar": {
              "outlinewidth": 0,
              "ticks": ""
             }
            },
            "type": "scatterternary"
           }
          ],
          "surface": [
           {
            "colorbar": {
             "outlinewidth": 0,
             "ticks": ""
            },
            "colorscale": [
             [
              0,
              "#0d0887"
             ],
             [
              0.1111111111111111,
              "#46039f"
             ],
             [
              0.2222222222222222,
              "#7201a8"
             ],
             [
              0.3333333333333333,
              "#9c179e"
             ],
             [
              0.4444444444444444,
              "#bd3786"
             ],
             [
              0.5555555555555556,
              "#d8576b"
             ],
             [
              0.6666666666666666,
              "#ed7953"
             ],
             [
              0.7777777777777778,
              "#fb9f3a"
             ],
             [
              0.8888888888888888,
              "#fdca26"
             ],
             [
              1,
              "#f0f921"
             ]
            ],
            "type": "surface"
           }
          ],
          "table": [
           {
            "cells": {
             "fill": {
              "color": "#EBF0F8"
             },
             "line": {
              "color": "white"
             }
            },
            "header": {
             "fill": {
              "color": "#C8D4E3"
             },
             "line": {
              "color": "white"
             }
            },
            "type": "table"
           }
          ]
         },
         "layout": {
          "annotationdefaults": {
           "arrowcolor": "#2a3f5f",
           "arrowhead": 0,
           "arrowwidth": 1
          },
          "autotypenumbers": "strict",
          "coloraxis": {
           "colorbar": {
            "outlinewidth": 0,
            "ticks": ""
           }
          },
          "colorscale": {
           "diverging": [
            [
             0,
             "#8e0152"
            ],
            [
             0.1,
             "#c51b7d"
            ],
            [
             0.2,
             "#de77ae"
            ],
            [
             0.3,
             "#f1b6da"
            ],
            [
             0.4,
             "#fde0ef"
            ],
            [
             0.5,
             "#f7f7f7"
            ],
            [
             0.6,
             "#e6f5d0"
            ],
            [
             0.7,
             "#b8e186"
            ],
            [
             0.8,
             "#7fbc41"
            ],
            [
             0.9,
             "#4d9221"
            ],
            [
             1,
             "#276419"
            ]
           ],
           "sequential": [
            [
             0,
             "#0d0887"
            ],
            [
             0.1111111111111111,
             "#46039f"
            ],
            [
             0.2222222222222222,
             "#7201a8"
            ],
            [
             0.3333333333333333,
             "#9c179e"
            ],
            [
             0.4444444444444444,
             "#bd3786"
            ],
            [
             0.5555555555555556,
             "#d8576b"
            ],
            [
             0.6666666666666666,
             "#ed7953"
            ],
            [
             0.7777777777777778,
             "#fb9f3a"
            ],
            [
             0.8888888888888888,
             "#fdca26"
            ],
            [
             1,
             "#f0f921"
            ]
           ],
           "sequentialminus": [
            [
             0,
             "#0d0887"
            ],
            [
             0.1111111111111111,
             "#46039f"
            ],
            [
             0.2222222222222222,
             "#7201a8"
            ],
            [
             0.3333333333333333,
             "#9c179e"
            ],
            [
             0.4444444444444444,
             "#bd3786"
            ],
            [
             0.5555555555555556,
             "#d8576b"
            ],
            [
             0.6666666666666666,
             "#ed7953"
            ],
            [
             0.7777777777777778,
             "#fb9f3a"
            ],
            [
             0.8888888888888888,
             "#fdca26"
            ],
            [
             1,
             "#f0f921"
            ]
           ]
          },
          "colorway": [
           "#636efa",
           "#EF553B",
           "#00cc96",
           "#ab63fa",
           "#FFA15A",
           "#19d3f3",
           "#FF6692",
           "#B6E880",
           "#FF97FF",
           "#FECB52"
          ],
          "font": {
           "color": "#2a3f5f"
          },
          "geo": {
           "bgcolor": "white",
           "lakecolor": "white",
           "landcolor": "#E5ECF6",
           "showlakes": true,
           "showland": true,
           "subunitcolor": "white"
          },
          "hoverlabel": {
           "align": "left"
          },
          "hovermode": "closest",
          "mapbox": {
           "style": "light"
          },
          "paper_bgcolor": "white",
          "plot_bgcolor": "#E5ECF6",
          "polar": {
           "angularaxis": {
            "gridcolor": "white",
            "linecolor": "white",
            "ticks": ""
           },
           "bgcolor": "#E5ECF6",
           "radialaxis": {
            "gridcolor": "white",
            "linecolor": "white",
            "ticks": ""
           }
          },
          "scene": {
           "xaxis": {
            "backgroundcolor": "#E5ECF6",
            "gridcolor": "white",
            "gridwidth": 2,
            "linecolor": "white",
            "showbackground": true,
            "ticks": "",
            "zerolinecolor": "white"
           },
           "yaxis": {
            "backgroundcolor": "#E5ECF6",
            "gridcolor": "white",
            "gridwidth": 2,
            "linecolor": "white",
            "showbackground": true,
            "ticks": "",
            "zerolinecolor": "white"
           },
           "zaxis": {
            "backgroundcolor": "#E5ECF6",
            "gridcolor": "white",
            "gridwidth": 2,
            "linecolor": "white",
            "showbackground": true,
            "ticks": "",
            "zerolinecolor": "white"
           }
          },
          "shapedefaults": {
           "line": {
            "color": "#2a3f5f"
           }
          },
          "ternary": {
           "aaxis": {
            "gridcolor": "white",
            "linecolor": "white",
            "ticks": ""
           },
           "baxis": {
            "gridcolor": "white",
            "linecolor": "white",
            "ticks": ""
           },
           "bgcolor": "#E5ECF6",
           "caxis": {
            "gridcolor": "white",
            "linecolor": "white",
            "ticks": ""
           }
          },
          "title": {
           "x": 0.05
          },
          "xaxis": {
           "automargin": true,
           "gridcolor": "white",
           "linecolor": "white",
           "ticks": "",
           "title": {
            "standoff": 15
           },
           "zerolinecolor": "white",
           "zerolinewidth": 2
          },
          "yaxis": {
           "automargin": true,
           "gridcolor": "white",
           "linecolor": "white",
           "ticks": "",
           "title": {
            "standoff": 15
           },
           "zerolinecolor": "white",
           "zerolinewidth": 2
          }
         }
        }
       }
      },
      "text/html": [
       "<div>                            <div id=\"cd636447-6ea5-4f21-a8e3-9d1d9f39bd45\" class=\"plotly-graph-div\" style=\"height:525px; width:100%;\"></div>            <script type=\"text/javascript\">                require([\"plotly\"], function(Plotly) {                    window.PLOTLYENV=window.PLOTLYENV || {};                                    if (document.getElementById(\"cd636447-6ea5-4f21-a8e3-9d1d9f39bd45\")) {                    Plotly.newPlot(                        \"cd636447-6ea5-4f21-a8e3-9d1d9f39bd45\",                        [{\"lat\":[43.149976,43.1493233,43.1493233,43.1471815,43.1471815,43.1471921,43.1472671,43.1472375,43.1471773,43.1470609,43.1470609,43.147388,43.147388,43.1474841,43.1474841,43.147388,43.147388,43.1477942,43.1478732,43.1479886,43.1493243,43.1493243,43.1499787,43.1499787,43.1499814,43.1499814,43.1499817,43.1499817,43.1499814,43.1499814,43.1499787,43.1499787,43.149976],\"line\":{\"color\":\"grey\",\"width\":4.5},\"lon\":[-77.6464172,-77.6464005,-77.6464005,-77.6464029,-77.6464029,-77.6462877,-77.6460358,-77.6459504,-77.645891,-77.6458108,-77.6458108,-77.6448587,-77.6448587,-77.6445764,-77.6445764,-77.6448587,-77.6448587,-77.645127,-77.6451553,-77.645165,-77.6451596,-77.6451596,-77.6451775,-77.6451775,-77.6439568,-77.6439568,-77.6438511,-77.6438511,-77.6439568,-77.6439568,-77.6451775,-77.6451775,-77.6464172],\"marker\":{\"size\":10},\"mode\":\"lines\",\"name\":\"Path\",\"type\":\"scattermapbox\"},{\"lat\":[43.149976],\"lon\":[-77.6464172],\"marker\":{\"color\":\"red\",\"size\":12},\"mode\":\"markers\",\"name\":\"Source\",\"type\":\"scattermapbox\"},{\"lat\":[43.149976],\"lon\":[-77.6464172],\"marker\":{\"color\":\"green\",\"size\":12},\"mode\":\"markers\",\"name\":\"Destination\",\"type\":\"scattermapbox\"}],                        {\"mapbox\":{\"center\":{\"lat\":43.14856321212121,\"lon\":-77.64523700606061},\"style\":\"carto-darkmatter\",\"zoom\":13},\"margin\":{\"b\":0,\"l\":0,\"r\":0,\"t\":0},\"template\":{\"data\":{\"bar\":[{\"error_x\":{\"color\":\"#2a3f5f\"},\"error_y\":{\"color\":\"#2a3f5f\"},\"marker\":{\"line\":{\"color\":\"#E5ECF6\",\"width\":0.5},\"pattern\":{\"fillmode\":\"overlay\",\"size\":10,\"solidity\":0.2}},\"type\":\"bar\"}],\"barpolar\":[{\"marker\":{\"line\":{\"color\":\"#E5ECF6\",\"width\":0.5},\"pattern\":{\"fillmode\":\"overlay\",\"size\":10,\"solidity\":0.2}},\"type\":\"barpolar\"}],\"carpet\":[{\"aaxis\":{\"endlinecolor\":\"#2a3f5f\",\"gridcolor\":\"white\",\"linecolor\":\"white\",\"minorgridcolor\":\"white\",\"startlinecolor\":\"#2a3f5f\"},\"baxis\":{\"endlinecolor\":\"#2a3f5f\",\"gridcolor\":\"white\",\"linecolor\":\"white\",\"minorgridcolor\":\"white\",\"startlinecolor\":\"#2a3f5f\"},\"type\":\"carpet\"}],\"choropleth\":[{\"colorbar\":{\"outlinewidth\":0,\"ticks\":\"\"},\"type\":\"choropleth\"}],\"contour\":[{\"colorbar\":{\"outlinewidth\":0,\"ticks\":\"\"},\"colorscale\":[[0.0,\"#0d0887\"],[0.1111111111111111,\"#46039f\"],[0.2222222222222222,\"#7201a8\"],[0.3333333333333333,\"#9c179e\"],[0.4444444444444444,\"#bd3786\"],[0.5555555555555556,\"#d8576b\"],[0.6666666666666666,\"#ed7953\"],[0.7777777777777778,\"#fb9f3a\"],[0.8888888888888888,\"#fdca26\"],[1.0,\"#f0f921\"]],\"type\":\"contour\"}],\"contourcarpet\":[{\"colorbar\":{\"outlinewidth\":0,\"ticks\":\"\"},\"type\":\"contourcarpet\"}],\"heatmap\":[{\"colorbar\":{\"outlinewidth\":0,\"ticks\":\"\"},\"colorscale\":[[0.0,\"#0d0887\"],[0.1111111111111111,\"#46039f\"],[0.2222222222222222,\"#7201a8\"],[0.3333333333333333,\"#9c179e\"],[0.4444444444444444,\"#bd3786\"],[0.5555555555555556,\"#d8576b\"],[0.6666666666666666,\"#ed7953\"],[0.7777777777777778,\"#fb9f3a\"],[0.8888888888888888,\"#fdca26\"],[1.0,\"#f0f921\"]],\"type\":\"heatmap\"}],\"heatmapgl\":[{\"colorbar\":{\"outlinewidth\":0,\"ticks\":\"\"},\"colorscale\":[[0.0,\"#0d0887\"],[0.1111111111111111,\"#46039f\"],[0.2222222222222222,\"#7201a8\"],[0.3333333333333333,\"#9c179e\"],[0.4444444444444444,\"#bd3786\"],[0.5555555555555556,\"#d8576b\"],[0.6666666666666666,\"#ed7953\"],[0.7777777777777778,\"#fb9f3a\"],[0.8888888888888888,\"#fdca26\"],[1.0,\"#f0f921\"]],\"type\":\"heatmapgl\"}],\"histogram\":[{\"marker\":{\"pattern\":{\"fillmode\":\"overlay\",\"size\":10,\"solidity\":0.2}},\"type\":\"histogram\"}],\"histogram2d\":[{\"colorbar\":{\"outlinewidth\":0,\"ticks\":\"\"},\"colorscale\":[[0.0,\"#0d0887\"],[0.1111111111111111,\"#46039f\"],[0.2222222222222222,\"#7201a8\"],[0.3333333333333333,\"#9c179e\"],[0.4444444444444444,\"#bd3786\"],[0.5555555555555556,\"#d8576b\"],[0.6666666666666666,\"#ed7953\"],[0.7777777777777778,\"#fb9f3a\"],[0.8888888888888888,\"#fdca26\"],[1.0,\"#f0f921\"]],\"type\":\"histogram2d\"}],\"histogram2dcontour\":[{\"colorbar\":{\"outlinewidth\":0,\"ticks\":\"\"},\"colorscale\":[[0.0,\"#0d0887\"],[0.1111111111111111,\"#46039f\"],[0.2222222222222222,\"#7201a8\"],[0.3333333333333333,\"#9c179e\"],[0.4444444444444444,\"#bd3786\"],[0.5555555555555556,\"#d8576b\"],[0.6666666666666666,\"#ed7953\"],[0.7777777777777778,\"#fb9f3a\"],[0.8888888888888888,\"#fdca26\"],[1.0,\"#f0f921\"]],\"type\":\"histogram2dcontour\"}],\"mesh3d\":[{\"colorbar\":{\"outlinewidth\":0,\"ticks\":\"\"},\"type\":\"mesh3d\"}],\"parcoords\":[{\"line\":{\"colorbar\":{\"outlinewidth\":0,\"ticks\":\"\"}},\"type\":\"parcoords\"}],\"pie\":[{\"automargin\":true,\"type\":\"pie\"}],\"scatter\":[{\"marker\":{\"colorbar\":{\"outlinewidth\":0,\"ticks\":\"\"}},\"type\":\"scatter\"}],\"scatter3d\":[{\"line\":{\"colorbar\":{\"outlinewidth\":0,\"ticks\":\"\"}},\"marker\":{\"colorbar\":{\"outlinewidth\":0,\"ticks\":\"\"}},\"type\":\"scatter3d\"}],\"scattercarpet\":[{\"marker\":{\"colorbar\":{\"outlinewidth\":0,\"ticks\":\"\"}},\"type\":\"scattercarpet\"}],\"scattergeo\":[{\"marker\":{\"colorbar\":{\"outlinewidth\":0,\"ticks\":\"\"}},\"type\":\"scattergeo\"}],\"scattergl\":[{\"marker\":{\"colorbar\":{\"outlinewidth\":0,\"ticks\":\"\"}},\"type\":\"scattergl\"}],\"scattermapbox\":[{\"marker\":{\"colorbar\":{\"outlinewidth\":0,\"ticks\":\"\"}},\"type\":\"scattermapbox\"}],\"scatterpolar\":[{\"marker\":{\"colorbar\":{\"outlinewidth\":0,\"ticks\":\"\"}},\"type\":\"scatterpolar\"}],\"scatterpolargl\":[{\"marker\":{\"colorbar\":{\"outlinewidth\":0,\"ticks\":\"\"}},\"type\":\"scatterpolargl\"}],\"scatterternary\":[{\"marker\":{\"colorbar\":{\"outlinewidth\":0,\"ticks\":\"\"}},\"type\":\"scatterternary\"}],\"surface\":[{\"colorbar\":{\"outlinewidth\":0,\"ticks\":\"\"},\"colorscale\":[[0.0,\"#0d0887\"],[0.1111111111111111,\"#46039f\"],[0.2222222222222222,\"#7201a8\"],[0.3333333333333333,\"#9c179e\"],[0.4444444444444444,\"#bd3786\"],[0.5555555555555556,\"#d8576b\"],[0.6666666666666666,\"#ed7953\"],[0.7777777777777778,\"#fb9f3a\"],[0.8888888888888888,\"#fdca26\"],[1.0,\"#f0f921\"]],\"type\":\"surface\"}],\"table\":[{\"cells\":{\"fill\":{\"color\":\"#EBF0F8\"},\"line\":{\"color\":\"white\"}},\"header\":{\"fill\":{\"color\":\"#C8D4E3\"},\"line\":{\"color\":\"white\"}},\"type\":\"table\"}]},\"layout\":{\"annotationdefaults\":{\"arrowcolor\":\"#2a3f5f\",\"arrowhead\":0,\"arrowwidth\":1},\"autotypenumbers\":\"strict\",\"coloraxis\":{\"colorbar\":{\"outlinewidth\":0,\"ticks\":\"\"}},\"colorscale\":{\"diverging\":[[0,\"#8e0152\"],[0.1,\"#c51b7d\"],[0.2,\"#de77ae\"],[0.3,\"#f1b6da\"],[0.4,\"#fde0ef\"],[0.5,\"#f7f7f7\"],[0.6,\"#e6f5d0\"],[0.7,\"#b8e186\"],[0.8,\"#7fbc41\"],[0.9,\"#4d9221\"],[1,\"#276419\"]],\"sequential\":[[0.0,\"#0d0887\"],[0.1111111111111111,\"#46039f\"],[0.2222222222222222,\"#7201a8\"],[0.3333333333333333,\"#9c179e\"],[0.4444444444444444,\"#bd3786\"],[0.5555555555555556,\"#d8576b\"],[0.6666666666666666,\"#ed7953\"],[0.7777777777777778,\"#fb9f3a\"],[0.8888888888888888,\"#fdca26\"],[1.0,\"#f0f921\"]],\"sequentialminus\":[[0.0,\"#0d0887\"],[0.1111111111111111,\"#46039f\"],[0.2222222222222222,\"#7201a8\"],[0.3333333333333333,\"#9c179e\"],[0.4444444444444444,\"#bd3786\"],[0.5555555555555556,\"#d8576b\"],[0.6666666666666666,\"#ed7953\"],[0.7777777777777778,\"#fb9f3a\"],[0.8888888888888888,\"#fdca26\"],[1.0,\"#f0f921\"]]},\"colorway\":[\"#636efa\",\"#EF553B\",\"#00cc96\",\"#ab63fa\",\"#FFA15A\",\"#19d3f3\",\"#FF6692\",\"#B6E880\",\"#FF97FF\",\"#FECB52\"],\"font\":{\"color\":\"#2a3f5f\"},\"geo\":{\"bgcolor\":\"white\",\"lakecolor\":\"white\",\"landcolor\":\"#E5ECF6\",\"showlakes\":true,\"showland\":true,\"subunitcolor\":\"white\"},\"hoverlabel\":{\"align\":\"left\"},\"hovermode\":\"closest\",\"mapbox\":{\"style\":\"light\"},\"paper_bgcolor\":\"white\",\"plot_bgcolor\":\"#E5ECF6\",\"polar\":{\"angularaxis\":{\"gridcolor\":\"white\",\"linecolor\":\"white\",\"ticks\":\"\"},\"bgcolor\":\"#E5ECF6\",\"radialaxis\":{\"gridcolor\":\"white\",\"linecolor\":\"white\",\"ticks\":\"\"}},\"scene\":{\"xaxis\":{\"backgroundcolor\":\"#E5ECF6\",\"gridcolor\":\"white\",\"gridwidth\":2,\"linecolor\":\"white\",\"showbackground\":true,\"ticks\":\"\",\"zerolinecolor\":\"white\"},\"yaxis\":{\"backgroundcolor\":\"#E5ECF6\",\"gridcolor\":\"white\",\"gridwidth\":2,\"linecolor\":\"white\",\"showbackground\":true,\"ticks\":\"\",\"zerolinecolor\":\"white\"},\"zaxis\":{\"backgroundcolor\":\"#E5ECF6\",\"gridcolor\":\"white\",\"gridwidth\":2,\"linecolor\":\"white\",\"showbackground\":true,\"ticks\":\"\",\"zerolinecolor\":\"white\"}},\"shapedefaults\":{\"line\":{\"color\":\"#2a3f5f\"}},\"ternary\":{\"aaxis\":{\"gridcolor\":\"white\",\"linecolor\":\"white\",\"ticks\":\"\"},\"baxis\":{\"gridcolor\":\"white\",\"linecolor\":\"white\",\"ticks\":\"\"},\"bgcolor\":\"#E5ECF6\",\"caxis\":{\"gridcolor\":\"white\",\"linecolor\":\"white\",\"ticks\":\"\"}},\"title\":{\"x\":0.05},\"xaxis\":{\"automargin\":true,\"gridcolor\":\"white\",\"linecolor\":\"white\",\"ticks\":\"\",\"title\":{\"standoff\":15},\"zerolinecolor\":\"white\",\"zerolinewidth\":2},\"yaxis\":{\"automargin\":true,\"gridcolor\":\"white\",\"linecolor\":\"white\",\"ticks\":\"\",\"title\":{\"standoff\":15},\"zerolinecolor\":\"white\",\"zerolinewidth\":2}}}},                        {\"responsive\": true}                    ).then(function(){\n",
       "                            \n",
       "var gd = document.getElementById('cd636447-6ea5-4f21-a8e3-9d1d9f39bd45');\n",
       "var x = new MutationObserver(function (mutations, observer) {{\n",
       "        var display = window.getComputedStyle(gd).display;\n",
       "        if (!display || display === 'none') {{\n",
       "            console.log([gd, 'removed!']);\n",
       "            Plotly.purge(gd);\n",
       "            observer.disconnect();\n",
       "        }}\n",
       "}});\n",
       "\n",
       "// Listen for the removal of the full notebook cells\n",
       "var notebookContainer = gd.closest('#notebook-container');\n",
       "if (notebookContainer) {{\n",
       "    x.observe(notebookContainer, {childList: true});\n",
       "}}\n",
       "\n",
       "// Listen for the clearing of the current output cell\n",
       "var outputEl = gd.closest('.output');\n",
       "if (outputEl) {{\n",
       "    x.observe(outputEl, {childList: true});\n",
       "}}\n",
       "\n",
       "                        })                };                });            </script>        </div>"
      ]
     },
     "metadata": {},
     "output_type": "display_data"
    }
   ],
   "source": [
    "\n",
    "#Creating a bounding box\n",
    "north, south, east, west = 43.146918,43.150018,-77.646432,-77.643836\n",
    "G = ox.graph_from_bbox(north, south, east, west, network_type=\"drive_service\")\n",
    "colors = plt.rcParams['axes.prop_cycle'].by_key()['color']\n",
    "ox.plot.plot_graph(G, bgcolor='#FFFFFF', node_color=colors[0], edge_color='lightgray', node_size=5)\n",
    "\n",
    "\n",
    "    #Extracting Node Information from G\n",
    "Nodes = []\n",
    "for i in G.nodes:\n",
    "    Nodes.append(i)\n",
    "\n",
    "data = pd.DataFrame(Nodes)\n",
    "data.rename(columns = {0:'Nodes'}, inplace = True)\n",
    "#G = ox.graph_from_place('Rochester, NY, USA', network_type='drive')\n",
    "\n",
    "lat1 = []\n",
    "long1 = []\n",
    "for i in Nodes:\n",
    "    lat1.append(G.nodes[i].get('y'))\n",
    "    long1.append(G.nodes[i].get('x'))\n",
    "data['Latitude'] = lat1\n",
    "data['Longitude'] = long1\n",
    "df1 = data\n",
    "\n",
    "\n",
    "df1 = df1.drop(['Nodes'],axis=1)\n",
    "df1.rename(columns = {'Latitude':'Left'}, inplace = True)\n",
    "df1.rename(columns = {'Longitude':'Right'}, inplace = True)\n",
    "\n",
    "    #Calculating Distance and the distance matrix for all coordinates in the Bounding Box\n",
    "df3 = pd.DataFrame()\n",
    "for j in df1.index:\n",
    "    list1 = []\n",
    "    for i in df1.index:\n",
    "        r = requests.get(f\"\"\"http://router.project-osrm.org/route/v1/car/{df1.loc[j, \"Right\"]},{df1.loc[j, \"Left\"]};{df1.loc[i, \"Right\"]},{df1.loc[i, \"Left\"]}?overview=false\"\"\")\n",
    "        list1.append(json.loads(r.content)[\"routes\"][0][\"distance\"])\n",
    "    df3[j] = list1\n",
    "df = df1\n",
    "df['coordinate'] = list(zip(df['Right'],df['Left']))\n",
    "df['ID'] = df.index\n",
    "\n",
    "locations = dict( ( ID, (df.loc[ID, 'Right'], df.loc[ID, 'Left']) ) for ID in df.index)\n",
    "distances_df = df3\n",
    "distance = distances_df\n",
    "distances = dict( ((l1,l2), distance.iloc[l1, l2] ) for l1 in locations for l2 in locations if l1!=l2)\n",
    "\n",
    "\n",
    "    ## V: This defines the total number of vehicles that will traverse the path.\n",
    "V = 1\n",
    "    ## prob: This initializes the problem that will run using provided constraints.\n",
    "\n",
    "prob=LpProblem(\"vehicle\", LpMinimize)\n",
    "    ## indicator: This defines the variable dictionary consisting of distances and indicates if location i is connected to location j along route\n",
    "indicator = LpVariable.dicts('indicator',distances, 0,1,LpBinary)\n",
    "    ## eliminator: This defines the variable dictionary consisting of the node ID's and elimiate subtours\n",
    "eliminator = LpVariable.dicts('eliminator', df.ID, 0, len(df.ID)-1, LpInteger)\n",
    "    ## cost: This stores the result of distances calculations.\n",
    "cost = lpSum([indicator[(i,j)]*distances[(i,j)] for (i,j) in distances])\n",
    "prob+=cost\n",
    "\n",
    "start1 = 2\n",
    "for v in df.ID:\n",
    "        ## cap: This considers a particular node at a time. \n",
    "    cap = 1 if v != start1 else V\n",
    "        #inward possible route\n",
    "    prob+= lpSum([ indicator[(i,v)] for i in df.ID if (i,v) in indicator]) ==cap\n",
    "        #outward possible route\n",
    "    prob+=lpSum([ indicator[(v,i)] for i in df.ID if (v,i) in indicator]) ==cap\n",
    "    ## num: This stores the result of the number of nodes and the number of vehicles.    \n",
    "num=len(df.ID)/V\n",
    "for i in df.ID:\n",
    "    for j in df.ID:\n",
    "        if i != j and (i != start1 and j!= start1) and (i,j) in indicator:\n",
    "             prob += eliminator[i] - eliminator[j] <= (num)*(1-indicator[(i,j)]) - 1         \n",
    "prob.solve()\n",
    "    ## feasibleedges: This stores values of edges after the calculations are done.\n",
    "feasible_edges = [ e for e in indicator if value(indicator[e]) != 0 ]\n",
    "    ##@get_next_loc\n",
    "    # This provides with the next coordinates for the next node in the path.\n",
    "def get_next_loc(initial):\n",
    "    edges = [e for e in feasible_edges if e[0]==initial]\n",
    "    for e in edges:\n",
    "        feasible_edges.remove(e)\n",
    "    return edges\n",
    "    ## routes: This stores information regarding paths.    \n",
    "routes = get_next_loc(start1)\n",
    "routes = [ [e] for e in routes ]\n",
    "\n",
    "for r in routes:\n",
    "    while r[-1][1] !=start1:\n",
    "        r.append(get_next_loc(r[-1][1])[-1])\n",
    "\n",
    "\n",
    "\n",
    "\n",
    "df2 = df[['Left', 'Right', 'ID']].copy()\n",
    "df2.rename(columns = {'Left':'Latitude'}, inplace = True)\n",
    "df2.rename(columns = {'Right':'Longitude'}, inplace = True)\n",
    "a=[]\n",
    "for i in range(data.index.stop):\n",
    "    #print(routes[0][i][0])\n",
    "    a.append(routes[0][i][0]) \n",
    "\n",
    "df3 = pd.DataFrame()\n",
    "for i in a:\n",
    "    df3 = df3.append(df2.loc[i])\n",
    "\n",
    "df3.reset_index(inplace = True)\n",
    "\n",
    "df3 = df3.append(df3.loc[0])\n",
    "df3.reset_index(inplace = True)\n",
    "df4 = df3\n",
    "dfnodes = pd.DataFrame(Nodes)\n",
    "dfnodes.rename(columns = {0:'Nodes'}, inplace = True)\n",
    "dfnodes = dfnodes.reindex(a)\n",
    "dfnodes = dfnodes.append({\"Nodes\":Nodes[a[0]]},ignore_index=True)\n",
    "df4 = pd.concat([df4,dfnodes],axis=1)\n",
    "    \n",
    "    \n",
    "def node_list_to_path2(G, node_list):\n",
    "   \n",
    "    edge_nodes = list(zip(node_list[:-1], node_list[1:]))\n",
    "    lines = []\n",
    "    newlist=[]\n",
    "    \n",
    "    \n",
    "    \n",
    "    \n",
    "    #for u, v in edge_nodes:\n",
    "    #    if(G.get_edge_data(u, v)):\n",
    "    #        newlist.append((u,v))\n",
    "            \n",
    "            \n",
    "            \n",
    "    for u, v in edge_nodes:\n",
    "        if(G.get_edge_data(u, v)):\n",
    "            newlist.append((u,v))\n",
    "        else:    \n",
    "            path1 = nx.shortest_path(G,u, v, weight='travel_time')\n",
    "            path2 = list(zip(path1[:-1], path1[1:]))\n",
    "            newlist = newlist+path2        \n",
    "    #print(newlist)\n",
    "    #print(len(newlist))\n",
    "    \n",
    "    for u, v in newlist:\n",
    "        # if there are parallel edges, select the shortest in length\n",
    "        \n",
    "        data = min(G.get_edge_data(u, v).values(), \n",
    "                key=lambda x: x['length'])\n",
    "            # if it has a geometry attribute\n",
    "        if 'geometry' in data:\n",
    "            # add them to the list of lines to plot\n",
    "            xs, ys = data['geometry'].xy\n",
    "            lines.append(list(zip(xs, ys)))\n",
    "        else:\n",
    "            # if it doesn't have a geometry attribute,\n",
    "            # then the edge is a straight line from node to node\n",
    "            x1 = G.nodes[u]['x']\n",
    "            y1 = G.nodes[u]['y']\n",
    "            x2 = G.nodes[v]['x']\n",
    "            y2 = G.nodes[v]['y']\n",
    "            line = [(x1, y1), (x2, y2)]\n",
    "            lines.append(line)\n",
    "            \n",
    "    return lines       \n",
    "    \n",
    "    \n",
    "    \n",
    "def plot_path(lat, long, origin_point, destination_point):\n",
    "    fig = go.Figure(go.Scattermapbox(\n",
    "        name = \"Path\",\n",
    "        mode = \"lines\",\n",
    "        lon = long,\n",
    "        lat = lat,\n",
    "        marker = {'size': 10},\n",
    "        line = dict(width = 4.5, color = 'grey')))\n",
    "    fig.add_trace(go.Scattermapbox(\n",
    "        name = \"Source\",\n",
    "        mode = \"markers\",\n",
    "        lon = [origin_point[1]],\n",
    "        lat = [origin_point[0]],\n",
    "        marker = {'size': 12, 'color':\"red\"}))\n",
    "    fig.add_trace(go.Scattermapbox(\n",
    "        name = \"Destination\",\n",
    "        mode = \"markers\",\n",
    "        lon = [destination_point[1]],\n",
    "        lat = [destination_point[0]],\n",
    "        marker = {'size': 12, 'color':'green'}))\n",
    "    lat_center = np.mean(lat)\n",
    "    long_center = np.mean(long)\n",
    "    fig.update_layout(mapbox_style=\"carto-darkmatter\",\n",
    "        mapbox_center_lat = 30, mapbox_center_lon=-80)\n",
    "    fig.update_layout(margin={\"r\":0,\"t\":0,\"l\":0,\"b\":0},\n",
    "                        mapbox = {\n",
    "                            'center': {'lat': lat_center, \n",
    "                            'lon': long_center},\n",
    "                            'zoom': 13})\n",
    "    fig.show()\n",
    "\n",
    "\n",
    "pathlist = []\n",
    "for i in range(df4['Nodes'].count()-1):\n",
    "    path1 = nx.shortest_path(G, df4.iloc[i]['Nodes'],df4.iloc[i+1]['Nodes'], weight='travel_time')\n",
    "    pathlist = pathlist+path1\n",
    "#pathlist1 = list(dict.fromkeys(pathlist))\n",
    "#pathlist1.append(pathlist1[0])\n",
    "data4 = pd.DataFrame(pathlist)\n",
    "data4.rename(columns = {0:'Nodes'}, inplace = True)\n",
    "lat1 = []\n",
    "long1 = []\n",
    "lines = node_list_to_path2(G, pathlist)\n",
    "long2 = []\n",
    "lat2 = []\n",
    "for i in range(len(lines)):\n",
    "    z = list(lines[i])\n",
    "    l1 = list(list(zip(*z))[0])\n",
    "    l2 = list(list(zip(*z))[1])\n",
    "    for j in range(len(l1)):\n",
    "        long2.append(l1[j])\n",
    "        lat2.append(l2[j])\n",
    "for i in pathlist:\n",
    "    lat1.append(G.nodes[i].get('y'))\n",
    "    long1.append(G.nodes[i].get('x'))\n",
    "data4['Latitude'] = lat1\n",
    "data4['Longitude'] = long1\n",
    "origin_point = (data4.loc[0][\"Latitude\"], data4.loc[0][\"Longitude\"]) \n",
    "destination_point = (data4.iloc[-1][\"Latitude\"], data4.iloc[-1][\"Longitude\"])\n",
    "#plot_path(lat1, long1, origin_point, destination_point)\n",
    "\n",
    "\n",
    "plot_path(lat2, long2, origin_point, destination_point)\n",
    "\n",
    "\n"
   ]
  },
  {
   "cell_type": "code",
   "execution_count": 93,
   "id": "6936d2c0",
   "metadata": {},
   "outputs": [],
   "source": [
    "path1=pathlist"
   ]
  },
  {
   "cell_type": "code",
   "execution_count": 91,
   "id": "f89ada12",
   "metadata": {},
   "outputs": [
    {
     "data": {
      "text/plain": [
       "[212624947.0, 212624944]"
      ]
     },
     "execution_count": 91,
     "metadata": {},
     "output_type": "execute_result"
    }
   ],
   "source": [
    "path1"
   ]
  },
  {
   "cell_type": "code",
   "execution_count": 62,
   "id": "laden-vampire",
   "metadata": {},
   "outputs": [],
   "source": [
    "#finalroutes = []"
   ]
  },
  {
   "cell_type": "code",
   "execution_count": 63,
   "id": "choice-russell",
   "metadata": {},
   "outputs": [],
   "source": [
    "#bb = []\n",
    "#bb1 = [-77.566137,43.174168,-77.561975,43.176296]\n",
    "#bb2 = [-77.565536,43.169786,-77.559657,43.171602]\n",
    "#b.append(bb1)\n",
    "#b.append(bb2)"
   ]
  },
  {
   "cell_type": "code",
   "execution_count": 64,
   "id": "latter-cotton",
   "metadata": {},
   "outputs": [
    {
     "name": "stderr",
     "output_type": "stream",
     "text": [
      "/Users/rochelleallan/anaconda3/envs/ox/lib/python3.9/site-packages/osmnx/utils_geo.py:335: ShapelyDeprecationWarning:\n",
      "\n",
      "Iteration over multi-part geometries is deprecated and will be removed in Shapely 2.0. Use the `geoms` property to access the constituent parts of a multi-part geometry.\n",
      "\n",
      "/Users/rochelleallan/anaconda3/envs/ox/lib/python3.9/site-packages/osmnx/utils_geo.py:426: ShapelyDeprecationWarning:\n",
      "\n",
      "Iteration over multi-part geometries is deprecated and will be removed in Shapely 2.0. Use the `geoms` property to access the constituent parts of a multi-part geometry.\n",
      "\n",
      "/Users/rochelleallan/anaconda3/envs/ox/lib/python3.9/site-packages/osmnx/utils_geo.py:426: ShapelyDeprecationWarning:\n",
      "\n",
      "Iteration over multi-part geometries is deprecated and will be removed in Shapely 2.0. Use the `geoms` property to access the constituent parts of a multi-part geometry.\n",
      "\n"
     ]
    },
    {
     "data": {
      "image/png": "[encoded data removed]",
      "text/plain": [
       "<Figure size 576x576 with 1 Axes>"
      ]
     },
     "metadata": {},
     "output_type": "display_data"
    },
    {
     "name": "stdout",
     "output_type": "stream",
     "text": [
      "Welcome to the CBC MILP Solver \n",
      "Version: 2.10.3 \n",
      "Build Date: Dec 15 2019 \n",
      "\n",
      "command line - /Users/rochelleallan/anaconda3/envs/ox/lib/python3.9/site-packages/pulp/apis/../solverdir/cbc/osx/64/cbc /var/folders/0f/0wx77bhd2sl15rhs858yxhtc0000gn/T/90171d7ec8fe4e9197babb63a56f70bc-pulp.mps timeMode elapsed branch printingOptions all solution /var/folders/0f/0wx77bhd2sl15rhs858yxhtc0000gn/T/90171d7ec8fe4e9197babb63a56f70bc-pulp.sol (default strategy 1)\n",
      "At line 2 NAME          MODEL\n",
      "At line 3 ROWS\n",
      "At line 49 COLUMNS\n",
      "At line 362 RHS\n",
      "At line 407 BOUNDS\n",
      "At line 456 ENDATA\n",
      "Problem MODEL has 44 rows, 48 columns and 174 elements\n",
      "Coin0008I MODEL read with 0 errors\n",
      "Option for timeMode changed from cpu to elapsed\n",
      "Continuous objective value is 986.129 - 0.00 seconds\n",
      "Cgl0003I 0 fixed, 0 tightened bounds, 30 strengthened rows, 0 substitutions\n",
      "Cgl0003I 0 fixed, 0 tightened bounds, 30 strengthened rows, 0 substitutions\n",
      "Cgl0003I 0 fixed, 0 tightened bounds, 30 strengthened rows, 0 substitutions\n",
      "Cgl0003I 0 fixed, 0 tightened bounds, 30 strengthened rows, 0 substitutions\n",
      "Cgl0004I processed model has 44 rows, 48 columns (48 integer (42 of which binary)) and 294 elements\n",
      "Cutoff increment increased from 1e-05 to 0.0999\n",
      "Cbc0038I Initial state - 11 integers unsatisfied sum - 2.66667\n",
      "Cbc0038I Pass   1: suminf.    1.14286 (4) obj. 1113.3 iterations 18\n",
      "Cbc0038I Pass   2: suminf.    0.00000 (0) obj. 1535.8 iterations 5\n",
      "Cbc0038I Solution found of 1535.8\n",
      "Cbc0038I Cleaned solution of 1535.8\n",
      "Cbc0038I Before mini branch and bound, 29 integers at bound fixed and 0 continuous\n",
      "Cbc0038I Full problem 44 rows 48 columns, reduced to 4 rows 3 columns\n",
      "Cbc0038I Mini branch and bound did not improve solution (0.03 seconds)\n",
      "Cbc0038I Round again with cutoff of 1481.4\n",
      "Cbc0038I Reduced cost fixing fixed 6 variables on major pass 2\n",
      "Cbc0038I Pass   3: suminf.    1.14286 (4) obj. 1113.3 iterations 0\n",
      "Cbc0038I Pass   4: suminf.    0.90803 (6) obj. 1481.4 iterations 15\n",
      "Cbc0038I Pass   5: suminf.    0.90803 (6) obj. 1481.4 iterations 3\n",
      "Cbc0038I Pass   6: suminf.    0.90803 (6) obj. 1481.4 iterations 3\n",
      "Cbc0038I Pass   7: suminf.    0.90803 (6) obj. 1481.4 iterations 4\n",
      "Cbc0038I Pass   8: suminf.    1.32375 (7) obj. 1481.4 iterations 18\n",
      "Cbc0038I Pass   9: suminf.    1.32375 (7) obj. 1481.4 iterations 5\n",
      "Cbc0038I Pass  10: suminf.    2.29688 (8) obj. 1481.4 iterations 17\n",
      "Cbc0038I Pass  11: suminf.    2.07803 (7) obj. 1481.4 iterations 2\n",
      "Cbc0038I Pass  12: suminf.    1.71429 (6) obj. 1223.5 iterations 14\n",
      "Cbc0038I Pass  13: suminf.    2.45241 (8) obj. 1481.4 iterations 9\n",
      "Cbc0038I Pass  14: suminf.    2.45241 (8) obj. 1481.4 iterations 4\n",
      "Cbc0038I Pass  15: suminf.    2.45241 (8) obj. 1481.4 iterations 4\n",
      "Cbc0038I Pass  16: suminf.    3.62654 (11) obj. 1481.4 iterations 14\n",
      "Cbc0038I Pass  17: suminf.    2.22419 (12) obj. 1481.4 iterations 7\n",
      "Cbc0038I Pass  18: suminf.    2.25000 (8) obj. 1459.27 iterations 18\n",
      "Cbc0038I Pass  19: suminf.    2.20954 (12) obj. 1481.4 iterations 8\n",
      "Cbc0038I Pass  20: suminf.    2.33333 (7) obj. 1238 iterations 15\n",
      "Cbc0038I Pass  21: suminf.    1.71429 (6) obj. 1223.5 iterations 6\n",
      "Cbc0038I Pass  22: suminf.    2.45241 (8) obj. 1481.4 iterations 9\n",
      "Cbc0038I Pass  23: suminf.    4.26509 (13) obj. 1481.4 iterations 13\n",
      "Cbc0038I Pass  24: suminf.    3.31804 (11) obj. 1481.4 iterations 6\n",
      "Cbc0038I Pass  25: suminf.    0.00000 (0) obj. 1453.8 iterations 18\n",
      "Cbc0038I Solution found of 1453.8\n",
      "Cbc0038I Cleaned solution of 1453.8\n",
      "Cbc0038I Before mini branch and bound, 16 integers at bound fixed and 0 continuous\n",
      "Cbc0038I Full problem 44 rows 48 columns, reduced to 42 rows 30 columns\n",
      "Cbc0038I Mini branch and bound improved solution from 1453.8 to 1296.8 (0.06 seconds)\n",
      "Cbc0038I Round again with cutoff of 1235.9\n",
      "Cbc0038I Reduced cost fixing fixed 15 variables on major pass 3\n",
      "Cbc0038I Pass  26: suminf.    1.33333 (4) obj. 1061.8 iterations 10\n",
      "Cbc0038I Pass  27: suminf.    0.76426 (6) obj. 1235.9 iterations 8\n",
      "Cbc0038I Pass  28: suminf.    0.76426 (6) obj. 1235.9 iterations 0\n",
      "Cbc0038I Pass  29: suminf.    0.76426 (6) obj. 1235.9 iterations 0\n",
      "Cbc0038I Pass  30: suminf.    0.76426 (6) obj. 1235.9 iterations 3\n",
      "Cbc0038I Pass  31: suminf.    0.76426 (6) obj. 1235.9 iterations 4\n",
      "Cbc0038I Pass  32: suminf.    0.76426 (6) obj. 1235.9 iterations 3\n",
      "Cbc0038I Pass  33: suminf.    0.76426 (6) obj. 1235.9 iterations 2\n",
      "Cbc0038I Pass  34: suminf.    0.76426 (6) obj. 1235.9 iterations 4\n",
      "Cbc0038I Pass  35: suminf.    0.76426 (6) obj. 1235.9 iterations 3\n",
      "Cbc0038I Pass  36: suminf.    0.76426 (6) obj. 1235.9 iterations 2\n",
      "Cbc0038I Pass  37: suminf.    2.70179 (8) obj. 1235.9 iterations 8\n",
      "Cbc0038I Pass  38: suminf.    2.70179 (8) obj. 1235.9 iterations 1\n",
      "Cbc0038I Pass  39: suminf.    2.70761 (9) obj. 1235.9 iterations 3\n",
      "Cbc0038I Pass  40: suminf.    2.70179 (8) obj. 1235.9 iterations 4\n",
      "Cbc0038I Pass  41: suminf.    1.33333 (4) obj. 1061.8 iterations 8\n",
      "Cbc0038I Pass  42: suminf.    2.80952 (9) obj. 1129.91 iterations 10\n",
      "Cbc0038I Pass  43: suminf.    2.76190 (12) obj. 1163.47 iterations 8\n",
      "Cbc0038I Pass  44: suminf.    2.46154 (11) obj. 1234.76 iterations 4\n",
      "Cbc0038I Pass  45: suminf.    2.77256 (14) obj. 1235.9 iterations 11\n",
      "Cbc0038I Pass  46: suminf.    2.77256 (14) obj. 1235.9 iterations 1\n",
      "Cbc0038I Pass  47: suminf.    2.00000 (7) obj. 1163.47 iterations 16\n",
      "Cbc0038I Pass  48: suminf.    1.33333 (4) obj. 1218.8 iterations 5\n",
      "Cbc0038I Pass  49: suminf.    2.10950 (6) obj. 1235.9 iterations 5\n",
      "Cbc0038I Pass  50: suminf.    2.66667 (8) obj. 1218.8 iterations 8\n",
      "Cbc0038I Pass  51: suminf.    2.46154 (11) obj. 1234.76 iterations 8\n",
      "Cbc0038I Pass  52: suminf.    2.77256 (14) obj. 1235.9 iterations 11\n",
      "Cbc0038I Pass  53: suminf.    2.77256 (14) obj. 1235.9 iterations 1\n",
      "Cbc0038I Pass  54: suminf.    2.00000 (7) obj. 1163.47 iterations 13\n",
      "Cbc0038I Pass  55: suminf.    1.33333 (4) obj. 1218.8 iterations 6\n",
      "Cbc0038I No solution found this major pass\n",
      "Cbc0038I Before mini branch and bound, 20 integers at bound fixed and 0 continuous\n",
      "Cbc0038I Full problem 44 rows 48 columns, reduced to 42 rows 26 columns\n",
      "Cbc0038I Mini branch and bound did not improve solution (0.10 seconds)\n",
      "Cbc0038I After 0.10 seconds - Feasibility pump exiting with objective of 1296.8 - took 0.07 seconds\n",
      "Cbc0012I Integer solution of 1296.8 found by feasibility pump after 0 iterations and 0 nodes (0.10 seconds)\n",
      "Cbc0038I Full problem 44 rows 48 columns, reduced to 3 rows 3 columns\n",
      "Cbc0006I The LP relaxation is infeasible or too expensive\n",
      "Cbc0031I 4 added rows had average density of 11.25\n",
      "Cbc0013I At root node, 4 cuts changed objective from 993.1 to 1296.6722 in 17 passes\n",
      "Cbc0014I Cut generator 0 (Probing) - 79 row cuts average 3.1 elements, 9 column cuts (9 active)  in 0.003 seconds - new frequency is 1\n",
      "Cbc0014I Cut generator 1 (Gomory) - 84 row cuts average 18.8 elements, 0 column cuts (0 active)  in 0.002 seconds - new frequency is 1\n",
      "Cbc0014I Cut generator 2 (Knapsack) - 6 row cuts average 7.5 elements, 0 column cuts (0 active)  in 0.004 seconds - new frequency is 1\n",
      "Cbc0014I Cut generator 3 (Clique) - 0 row cuts average 0.0 elements, 0 column cuts (0 active)  in 0.000 seconds - new frequency is -100\n",
      "Cbc0014I Cut generator 4 (MixedIntegerRounding2) - 9 row cuts average 17.0 elements, 0 column cuts (0 active)  in 0.001 seconds - new frequency is 1\n",
      "Cbc0014I Cut generator 5 (FlowCover) - 7 row cuts average 2.0 elements, 0 column cuts (0 active)  in 0.002 seconds - new frequency is -100\n",
      "Cbc0014I Cut generator 6 (TwoMirCuts) - 98 row cuts average 10.7 elements, 0 column cuts (0 active)  in 0.003 seconds - new frequency is 1\n",
      "Cbc0014I Cut generator 7 (ZeroHalf) - 12 row cuts average 8.8 elements, 0 column cuts (0 active)  in 0.129 seconds - new frequency is 1\n",
      "Cbc0001I Search completed - best objective 1296.8, took 241 iterations and 0 nodes (0.38 seconds)\n",
      "Cbc0035I Maximum depth 0, 22 variables fixed on reduced cost\n",
      "Cuts at root node changed objective from 993.1 to 1296.67\n",
      "Probing was tried 17 times and created 88 cuts of which 0 were active after adding rounds of cuts (0.003 seconds)\n",
      "Gomory was tried 16 times and created 84 cuts of which 0 were active after adding rounds of cuts (0.002 seconds)\n",
      "Knapsack was tried 16 times and created 6 cuts of which 0 were active after adding rounds of cuts (0.004 seconds)\n",
      "Clique was tried 16 times and created 0 cuts of which 0 were active after adding rounds of cuts (0.000 seconds)\n",
      "MixedIntegerRounding2 was tried 16 times and created 9 cuts of which 0 were active after adding rounds of cuts (0.001 seconds)\n",
      "FlowCover was tried 16 times and created 7 cuts of which 0 were active after adding rounds of cuts (0.002 seconds)\n",
      "TwoMirCuts was tried 16 times and created 98 cuts of which 0 were active after adding rounds of cuts (0.003 seconds)\n",
      "ZeroHalf was tried 16 times and created 12 cuts of which 0 were active after adding rounds of cuts (0.129 seconds)\n",
      "\n",
      "Result - Optimal solution found\n",
      "\n",
      "Objective value:                1296.80000000\n",
      "Enumerated nodes:               0\n",
      "Total iterations:               241\n",
      "Time (CPU seconds):             0.24\n",
      "Time (Wallclock seconds):       0.39\n",
      "\n",
      "Option for printingOptions changed from normal to all\n",
      "Total time (CPU seconds):       0.24   (Wallclock seconds):       0.40\n",
      "\n"
     ]
    },
    {
     "data": {
      "application/vnd.plotly.v1+json": {
       "config": {
        "plotlyServerURL": "https://plot.ly"
       },
       "data": [
        {
         "lat": [
          43.1465261,
          43.1488383,
          43.1488383,
          43.1485397,
          43.1485397,
          43.1483304,
          43.1483304,
          43.146497,
          43.146497,
          43.1438699,
          43.1438699,
          43.1438681,
          43.1438681,
          43.1465261
         ],
         "line": {
          "color": "grey",
          "width": 4.5
         },
         "lon": [
          -77.6406171,
          -77.6405975,
          -77.6405975,
          -77.6414748,
          -77.6414748,
          -77.6420897,
          -77.6420897,
          -77.642112,
          -77.642112,
          -77.642125,
          -77.642125,
          -77.6407193,
          -77.6407193,
          -77.6406171
         ],
         "marker": {
          "size": 10
         },
         "mode": "lines",
         "name": "Path",
         "type": "scattermapbox"
        },
        {
         "lat": [
          43.1465261
         ],
         "lon": [
          -77.6406171
         ],
         "marker": {
          "color": "red",
          "size": 12
         },
         "mode": "markers",
         "name": "Source",
         "type": "scattermapbox"
        },
        {
         "lat": [
          43.1465261
         ],
         "lon": [
          -77.6406171
         ],
         "marker": {
          "color": "green",
          "size": 12
         },
         "mode": "markers",
         "name": "Destination",
         "type": "scattermapbox"
        }
       ],
       "layout": {
        "mapbox": {
         "center": {
          "lat": 43.146638499999995,
          "lon": -77.64139077142856
         },
         "style": "carto-darkmatter",
         "zoom": 13
        },
        "margin": {
         "b": 0,
         "l": 0,
         "r": 0,
         "t": 0
        },
        "template": {
         "data": {
          "bar": [
           {
            "error_x": {
             "color": "#2a3f5f"
            },
            "error_y": {
             "color": "#2a3f5f"
            },
            "marker": {
             "line": {
              "color": "#E5ECF6",
              "width": 0.5
             },
             "pattern": {
              "fillmode": "overlay",
              "size": 10,
              "solidity": 0.2
             }
            },
            "type": "bar"
           }
          ],
          "barpolar": [
           {
            "marker": {
             "line": {
              "color": "#E5ECF6",
              "width": 0.5
             },
             "pattern": {
              "fillmode": "overlay",
              "size": 10,
              "solidity": 0.2
             }
            },
            "type": "barpolar"
           }
          ],
          "carpet": [
           {
            "aaxis": {
             "endlinecolor": "#2a3f5f",
             "gridcolor": "white",
             "linecolor": "white",
             "minorgridcolor": "white",
             "startlinecolor": "#2a3f5f"
            },
            "baxis": {
             "endlinecolor": "#2a3f5f",
             "gridcolor": "white",
             "linecolor": "white",
             "minorgridcolor": "white",
             "startlinecolor": "#2a3f5f"
            },
            "type": "carpet"
           }
          ],
          "choropleth": [
           {
            "colorbar": {
             "outlinewidth": 0,
             "ticks": ""
            },
            "type": "choropleth"
           }
          ],
          "contour": [
           {
            "colorbar": {
             "outlinewidth": 0,
             "ticks": ""
            },
            "colorscale": [
             [
              0,
              "#0d0887"
             ],
             [
              0.1111111111111111,
              "#46039f"
             ],
             [
              0.2222222222222222,
              "#7201a8"
             ],
             [
              0.3333333333333333,
              "#9c179e"
             ],
             [
              0.4444444444444444,
              "#bd3786"
             ],
             [
              0.5555555555555556,
              "#d8576b"
             ],
             [
              0.6666666666666666,
              "#ed7953"
             ],
             [
              0.7777777777777778,
              "#fb9f3a"
             ],
             [
              0.8888888888888888,
              "#fdca26"
             ],
             [
              1,
              "#f0f921"
             ]
            ],
            "type": "contour"
           }
          ],
          "contourcarpet": [
           {
            "colorbar": {
             "outlinewidth": 0,
             "ticks": ""
            },
            "type": "contourcarpet"
           }
          ],
          "heatmap": [
           {
            "colorbar": {
             "outlinewidth": 0,
             "ticks": ""
            },
            "colorscale": [
             [
              0,
              "#0d0887"
             ],
             [
              0.1111111111111111,
              "#46039f"
             ],
             [
              0.2222222222222222,
              "#7201a8"
             ],
             [
              0.3333333333333333,
              "#9c179e"
             ],
             [
              0.4444444444444444,
              "#bd3786"
             ],
             [
              0.5555555555555556,
              "#d8576b"
             ],
             [
              0.6666666666666666,
              "#ed7953"
             ],
             [
              0.7777777777777778,
              "#fb9f3a"
             ],
             [
              0.8888888888888888,
              "#fdca26"
             ],
             [
              1,
              "#f0f921"
             ]
            ],
            "type": "heatmap"
           }
          ],
          "heatmapgl": [
           {
            "colorbar": {
             "outlinewidth": 0,
             "ticks": ""
            },
            "colorscale": [
             [
              0,
              "#0d0887"
             ],
             [
              0.1111111111111111,
              "#46039f"
             ],
             [
              0.2222222222222222,
              "#7201a8"
             ],
             [
              0.3333333333333333,
              "#9c179e"
             ],
             [
              0.4444444444444444,
              "#bd3786"
             ],
             [
              0.5555555555555556,
              "#d8576b"
             ],
             [
              0.6666666666666666,
              "#ed7953"
             ],
             [
              0.7777777777777778,
              "#fb9f3a"
             ],
             [
              0.8888888888888888,
              "#fdca26"
             ],
             [
              1,
              "#f0f921"
             ]
            ],
            "type": "heatmapgl"
           }
          ],
          "histogram": [
           {
            "marker": {
             "pattern": {
              "fillmode": "overlay",
              "size": 10,
              "solidity": 0.2
             }
            },
            "type": "histogram"
           }
          ],
          "histogram2d": [
           {
            "colorbar": {
             "outlinewidth": 0,
             "ticks": ""
            },
            "colorscale": [
             [
              0,
              "#0d0887"
             ],
             [
              0.1111111111111111,
              "#46039f"
             ],
             [
              0.2222222222222222,
              "#7201a8"
             ],
             [
              0.3333333333333333,
              "#9c179e"
             ],
             [
              0.4444444444444444,
              "#bd3786"
             ],
             [
              0.5555555555555556,
              "#d8576b"
             ],
             [
              0.6666666666666666,
              "#ed7953"
             ],
             [
              0.7777777777777778,
              "#fb9f3a"
             ],
             [
              0.8888888888888888,
              "#fdca26"
             ],
             [
              1,
              "#f0f921"
             ]
            ],
            "type": "histogram2d"
           }
          ],
          "histogram2dcontour": [
           {
            "colorbar": {
             "outlinewidth": 0,
             "ticks": ""
            },
            "colorscale": [
             [
              0,
              "#0d0887"
             ],
             [
              0.1111111111111111,
              "#46039f"
             ],
             [
              0.2222222222222222,
              "#7201a8"
             ],
             [
              0.3333333333333333,
              "#9c179e"
             ],
             [
              0.4444444444444444,
              "#bd3786"
             ],
             [
              0.5555555555555556,
              "#d8576b"
             ],
             [
              0.6666666666666666,
              "#ed7953"
             ],
             [
              0.7777777777777778,
              "#fb9f3a"
             ],
             [
              0.8888888888888888,
              "#fdca26"
             ],
             [
              1,
              "#f0f921"
             ]
            ],
            "type": "histogram2dcontour"
           }
          ],
          "mesh3d": [
           {
            "colorbar": {
             "outlinewidth": 0,
             "ticks": ""
            },
            "type": "mesh3d"
           }
          ],
          "parcoords": [
           {
            "line": {
             "colorbar": {
              "outlinewidth": 0,
              "ticks": ""
             }
            },
            "type": "parcoords"
           }
          ],
          "pie": [
           {
            "automargin": true,
            "type": "pie"
           }
          ],
          "scatter": [
           {
            "marker": {
             "colorbar": {
              "outlinewidth": 0,
              "ticks": ""
             }
            },
            "type": "scatter"
           }
          ],
          "scatter3d": [
           {
            "line": {
             "colorbar": {
              "outlinewidth": 0,
              "ticks": ""
             }
            },
            "marker": {
             "colorbar": {
              "outlinewidth": 0,
              "ticks": ""
             }
            },
            "type": "scatter3d"
           }
          ],
          "scattercarpet": [
           {
            "marker": {
             "colorbar": {
              "outlinewidth": 0,
              "ticks": ""
             }
            },
            "type": "scattercarpet"
           }
          ],
          "scattergeo": [
           {
            "marker": {
             "colorbar": {
              "outlinewidth": 0,
              "ticks": ""
             }
            },
            "type": "scattergeo"
           }
          ],
          "scattergl": [
           {
            "marker": {
             "colorbar": {
              "outlinewidth": 0,
              "ticks": ""
             }
            },
            "type": "scattergl"
           }
          ],
          "scattermapbox": [
           {
            "marker": {
             "colorbar": {
              "outlinewidth": 0,
              "ticks": ""
             }
            },
            "type": "scattermapbox"
           }
          ],
          "scatterpolar": [
           {
            "marker": {
             "colorbar": {
              "outlinewidth": 0,
              "ticks": ""
             }
            },
            "type": "scatterpolar"
           }
          ],
          "scatterpolargl": [
           {
            "marker": {
             "colorbar": {
              "outlinewidth": 0,
              "ticks": ""
             }
            },
            "type": "scatterpolargl"
           }
          ],
          "scatterternary": [
           {
            "marker": {
             "colorbar": {
              "outlinewidth": 0,
              "ticks": ""
             }
            },
            "type": "scatterternary"
           }
          ],
          "surface": [
           {
            "colorbar": {
             "outlinewidth": 0,
             "ticks": ""
            },
            "colorscale": [
             [
              0,
              "#0d0887"
             ],
             [
              0.1111111111111111,
              "#46039f"
             ],
             [
              0.2222222222222222,
              "#7201a8"
             ],
             [
              0.3333333333333333,
              "#9c179e"
             ],
             [
              0.4444444444444444,
              "#bd3786"
             ],
             [
              0.5555555555555556,
              "#d8576b"
             ],
             [
              0.6666666666666666,
              "#ed7953"
             ],
             [
              0.7777777777777778,
              "#fb9f3a"
             ],
             [
              0.8888888888888888,
              "#fdca26"
             ],
             [
              1,
              "#f0f921"
             ]
            ],
            "type": "surface"
           }
          ],
          "table": [
           {
            "cells": {
             "fill": {
              "color": "#EBF0F8"
             },
             "line": {
              "color": "white"
             }
            },
            "header": {
             "fill": {
              "color": "#C8D4E3"
             },
             "line": {
              "color": "white"
             }
            },
            "type": "table"
           }
          ]
         },
         "layout": {
          "annotationdefaults": {
           "arrowcolor": "#2a3f5f",
           "arrowhead": 0,
           "arrowwidth": 1
          },
          "autotypenumbers": "strict",
          "coloraxis": {
           "colorbar": {
            "outlinewidth": 0,
            "ticks": ""
           }
          },
          "colorscale": {
           "diverging": [
            [
             0,
             "#8e0152"
            ],
            [
             0.1,
             "#c51b7d"
            ],
            [
             0.2,
             "#de77ae"
            ],
            [
             0.3,
             "#f1b6da"
            ],
            [
             0.4,
             "#fde0ef"
            ],
            [
             0.5,
             "#f7f7f7"
            ],
            [
             0.6,
             "#e6f5d0"
            ],
            [
             0.7,
             "#b8e186"
            ],
            [
             0.8,
             "#7fbc41"
            ],
            [
             0.9,
             "#4d9221"
            ],
            [
             1,
             "#276419"
            ]
           ],
           "sequential": [
            [
             0,
             "#0d0887"
            ],
            [
             0.1111111111111111,
             "#46039f"
            ],
            [
             0.2222222222222222,
             "#7201a8"
            ],
            [
             0.3333333333333333,
             "#9c179e"
            ],
            [
             0.4444444444444444,
             "#bd3786"
            ],
            [
             0.5555555555555556,
             "#d8576b"
            ],
            [
             0.6666666666666666,
             "#ed7953"
            ],
            [
             0.7777777777777778,
             "#fb9f3a"
            ],
            [
             0.8888888888888888,
             "#fdca26"
            ],
            [
             1,
             "#f0f921"
            ]
           ],
           "sequentialminus": [
            [
             0,
             "#0d0887"
            ],
            [
             0.1111111111111111,
             "#46039f"
            ],
            [
             0.2222222222222222,
             "#7201a8"
            ],
            [
             0.3333333333333333,
             "#9c179e"
            ],
            [
             0.4444444444444444,
             "#bd3786"
            ],
            [
             0.5555555555555556,
             "#d8576b"
            ],
            [
             0.6666666666666666,
             "#ed7953"
            ],
            [
             0.7777777777777778,
             "#fb9f3a"
            ],
            [
             0.8888888888888888,
             "#fdca26"
            ],
            [
             1,
             "#f0f921"
            ]
           ]
          },
          "colorway": [
           "#636efa",
           "#EF553B",
           "#00cc96",
           "#ab63fa",
           "#FFA15A",
           "#19d3f3",
           "#FF6692",
           "#B6E880",
           "#FF97FF",
           "#FECB52"
          ],
          "font": {
           "color": "#2a3f5f"
          },
          "geo": {
           "bgcolor": "white",
           "lakecolor": "white",
           "landcolor": "#E5ECF6",
           "showlakes": true,
           "showland": true,
           "subunitcolor": "white"
          },
          "hoverlabel": {
           "align": "left"
          },
          "hovermode": "closest",
          "mapbox": {
           "style": "light"
          },
          "paper_bgcolor": "white",
          "plot_bgcolor": "#E5ECF6",
          "polar": {
           "angularaxis": {
            "gridcolor": "white",
            "linecolor": "white",
            "ticks": ""
           },
           "bgcolor": "#E5ECF6",
           "radialaxis": {
            "gridcolor": "white",
            "linecolor": "white",
            "ticks": ""
           }
          },
          "scene": {
           "xaxis": {
            "backgroundcolor": "#E5ECF6",
            "gridcolor": "white",
            "gridwidth": 2,
            "linecolor": "white",
            "showbackground": true,
            "ticks": "",
            "zerolinecolor": "white"
           },
           "yaxis": {
            "backgroundcolor": "#E5ECF6",
            "gridcolor": "white",
            "gridwidth": 2,
            "linecolor": "white",
            "showbackground": true,
            "ticks": "",
            "zerolinecolor": "white"
           },
           "zaxis": {
            "backgroundcolor": "#E5ECF6",
            "gridcolor": "white",
            "gridwidth": 2,
            "linecolor": "white",
            "showbackground": true,
            "ticks": "",
            "zerolinecolor": "white"
           }
          },
          "shapedefaults": {
           "line": {
            "color": "#2a3f5f"
           }
          },
          "ternary": {
           "aaxis": {
            "gridcolor": "white",
            "linecolor": "white",
            "ticks": ""
           },
           "baxis": {
            "gridcolor": "white",
            "linecolor": "white",
            "ticks": ""
           },
           "bgcolor": "#E5ECF6",
           "caxis": {
            "gridcolor": "white",
            "linecolor": "white",
            "ticks": ""
           }
          },
          "title": {
           "x": 0.05
          },
          "xaxis": {
           "automargin": true,
           "gridcolor": "white",
           "linecolor": "white",
           "ticks": "",
           "title": {
            "standoff": 15
           },
           "zerolinecolor": "white",
           "zerolinewidth": 2
          },
          "yaxis": {
           "automargin": true,
           "gridcolor": "white",
           "linecolor": "white",
           "ticks": "",
           "title": {
            "standoff": 15
           },
           "zerolinecolor": "white",
           "zerolinewidth": 2
          }
         }
        }
       }
      },
      "text/html": [
       "<div>                            <div id=\"0505e1b5-fd38-41a6-87b3-fddb764c2572\" class=\"plotly-graph-div\" style=\"height:525px; width:100%;\"></div>            <script type=\"text/javascript\">                require([\"plotly\"], function(Plotly) {                    window.PLOTLYENV=window.PLOTLYENV || {};                                    if (document.getElementById(\"0505e1b5-fd38-41a6-87b3-fddb764c2572\")) {                    Plotly.newPlot(                        \"0505e1b5-fd38-41a6-87b3-fddb764c2572\",                        [{\"lat\":[43.1465261,43.1488383,43.1488383,43.1485397,43.1485397,43.1483304,43.1483304,43.146497,43.146497,43.1438699,43.1438699,43.1438681,43.1438681,43.1465261],\"line\":{\"color\":\"grey\",\"width\":4.5},\"lon\":[-77.6406171,-77.6405975,-77.6405975,-77.6414748,-77.6414748,-77.6420897,-77.6420897,-77.642112,-77.642112,-77.642125,-77.642125,-77.6407193,-77.6407193,-77.6406171],\"marker\":{\"size\":10},\"mode\":\"lines\",\"name\":\"Path\",\"type\":\"scattermapbox\"},{\"lat\":[43.1465261],\"lon\":[-77.6406171],\"marker\":{\"color\":\"red\",\"size\":12},\"mode\":\"markers\",\"name\":\"Source\",\"type\":\"scattermapbox\"},{\"lat\":[43.1465261],\"lon\":[-77.6406171],\"marker\":{\"color\":\"green\",\"size\":12},\"mode\":\"markers\",\"name\":\"Destination\",\"type\":\"scattermapbox\"}],                        {\"mapbox\":{\"center\":{\"lat\":43.146638499999995,\"lon\":-77.64139077142856},\"style\":\"carto-darkmatter\",\"zoom\":13},\"margin\":{\"b\":0,\"l\":0,\"r\":0,\"t\":0},\"template\":{\"data\":{\"bar\":[{\"error_x\":{\"color\":\"#2a3f5f\"},\"error_y\":{\"color\":\"#2a3f5f\"},\"marker\":{\"line\":{\"color\":\"#E5ECF6\",\"width\":0.5},\"pattern\":{\"fillmode\":\"overlay\",\"size\":10,\"solidity\":0.2}},\"type\":\"bar\"}],\"barpolar\":[{\"marker\":{\"line\":{\"color\":\"#E5ECF6\",\"width\":0.5},\"pattern\":{\"fillmode\":\"overlay\",\"size\":10,\"solidity\":0.2}},\"type\":\"barpolar\"}],\"carpet\":[{\"aaxis\":{\"endlinecolor\":\"#2a3f5f\",\"gridcolor\":\"white\",\"linecolor\":\"white\",\"minorgridcolor\":\"white\",\"startlinecolor\":\"#2a3f5f\"},\"baxis\":{\"endlinecolor\":\"#2a3f5f\",\"gridcolor\":\"white\",\"linecolor\":\"white\",\"minorgridcolor\":\"white\",\"startlinecolor\":\"#2a3f5f\"},\"type\":\"carpet\"}],\"choropleth\":[{\"colorbar\":{\"outlinewidth\":0,\"ticks\":\"\"},\"type\":\"choropleth\"}],\"contour\":[{\"colorbar\":{\"outlinewidth\":0,\"ticks\":\"\"},\"colorscale\":[[0.0,\"#0d0887\"],[0.1111111111111111,\"#46039f\"],[0.2222222222222222,\"#7201a8\"],[0.3333333333333333,\"#9c179e\"],[0.4444444444444444,\"#bd3786\"],[0.5555555555555556,\"#d8576b\"],[0.6666666666666666,\"#ed7953\"],[0.7777777777777778,\"#fb9f3a\"],[0.8888888888888888,\"#fdca26\"],[1.0,\"#f0f921\"]],\"type\":\"contour\"}],\"contourcarpet\":[{\"colorbar\":{\"outlinewidth\":0,\"ticks\":\"\"},\"type\":\"contourcarpet\"}],\"heatmap\":[{\"colorbar\":{\"outlinewidth\":0,\"ticks\":\"\"},\"colorscale\":[[0.0,\"#0d0887\"],[0.1111111111111111,\"#46039f\"],[0.2222222222222222,\"#7201a8\"],[0.3333333333333333,\"#9c179e\"],[0.4444444444444444,\"#bd3786\"],[0.5555555555555556,\"#d8576b\"],[0.6666666666666666,\"#ed7953\"],[0.7777777777777778,\"#fb9f3a\"],[0.8888888888888888,\"#fdca26\"],[1.0,\"#f0f921\"]],\"type\":\"heatmap\"}],\"heatmapgl\":[{\"colorbar\":{\"outlinewidth\":0,\"ticks\":\"\"},\"colorscale\":[[0.0,\"#0d0887\"],[0.1111111111111111,\"#46039f\"],[0.2222222222222222,\"#7201a8\"],[0.3333333333333333,\"#9c179e\"],[0.4444444444444444,\"#bd3786\"],[0.5555555555555556,\"#d8576b\"],[0.6666666666666666,\"#ed7953\"],[0.7777777777777778,\"#fb9f3a\"],[0.8888888888888888,\"#fdca26\"],[1.0,\"#f0f921\"]],\"type\":\"heatmapgl\"}],\"histogram\":[{\"marker\":{\"pattern\":{\"fillmode\":\"overlay\",\"size\":10,\"solidity\":0.2}},\"type\":\"histogram\"}],\"histogram2d\":[{\"colorbar\":{\"outlinewidth\":0,\"ticks\":\"\"},\"colorscale\":[[0.0,\"#0d0887\"],[0.1111111111111111,\"#46039f\"],[0.2222222222222222,\"#7201a8\"],[0.3333333333333333,\"#9c179e\"],[0.4444444444444444,\"#bd3786\"],[0.5555555555555556,\"#d8576b\"],[0.6666666666666666,\"#ed7953\"],[0.7777777777777778,\"#fb9f3a\"],[0.8888888888888888,\"#fdca26\"],[1.0,\"#f0f921\"]],\"type\":\"histogram2d\"}],\"histogram2dcontour\":[{\"colorbar\":{\"outlinewidth\":0,\"ticks\":\"\"},\"colorscale\":[[0.0,\"#0d0887\"],[0.1111111111111111,\"#46039f\"],[0.2222222222222222,\"#7201a8\"],[0.3333333333333333,\"#9c179e\"],[0.4444444444444444,\"#bd3786\"],[0.5555555555555556,\"#d8576b\"],[0.6666666666666666,\"#ed7953\"],[0.7777777777777778,\"#fb9f3a\"],[0.8888888888888888,\"#fdca26\"],[1.0,\"#f0f921\"]],\"type\":\"histogram2dcontour\"}],\"mesh3d\":[{\"colorbar\":{\"outlinewidth\":0,\"ticks\":\"\"},\"type\":\"mesh3d\"}],\"parcoords\":[{\"line\":{\"colorbar\":{\"outlinewidth\":0,\"ticks\":\"\"}},\"type\":\"parcoords\"}],\"pie\":[{\"automargin\":true,\"type\":\"pie\"}],\"scatter\":[{\"marker\":{\"colorbar\":{\"outlinewidth\":0,\"ticks\":\"\"}},\"type\":\"scatter\"}],\"scatter3d\":[{\"line\":{\"colorbar\":{\"outlinewidth\":0,\"ticks\":\"\"}},\"marker\":{\"colorbar\":{\"outlinewidth\":0,\"ticks\":\"\"}},\"type\":\"scatter3d\"}],\"scattercarpet\":[{\"marker\":{\"colorbar\":{\"outlinewidth\":0,\"ticks\":\"\"}},\"type\":\"scattercarpet\"}],\"scattergeo\":[{\"marker\":{\"colorbar\":{\"outlinewidth\":0,\"ticks\":\"\"}},\"type\":\"scattergeo\"}],\"scattergl\":[{\"marker\":{\"colorbar\":{\"outlinewidth\":0,\"ticks\":\"\"}},\"type\":\"scattergl\"}],\"scattermapbox\":[{\"marker\":{\"colorbar\":{\"outlinewidth\":0,\"ticks\":\"\"}},\"type\":\"scattermapbox\"}],\"scatterpolar\":[{\"marker\":{\"colorbar\":{\"outlinewidth\":0,\"ticks\":\"\"}},\"type\":\"scatterpolar\"}],\"scatterpolargl\":[{\"marker\":{\"colorbar\":{\"outlinewidth\":0,\"ticks\":\"\"}},\"type\":\"scatterpolargl\"}],\"scatterternary\":[{\"marker\":{\"colorbar\":{\"outlinewidth\":0,\"ticks\":\"\"}},\"type\":\"scatterternary\"}],\"surface\":[{\"colorbar\":{\"outlinewidth\":0,\"ticks\":\"\"},\"colorscale\":[[0.0,\"#0d0887\"],[0.1111111111111111,\"#46039f\"],[0.2222222222222222,\"#7201a8\"],[0.3333333333333333,\"#9c179e\"],[0.4444444444444444,\"#bd3786\"],[0.5555555555555556,\"#d8576b\"],[0.6666666666666666,\"#ed7953\"],[0.7777777777777778,\"#fb9f3a\"],[0.8888888888888888,\"#fdca26\"],[1.0,\"#f0f921\"]],\"type\":\"surface\"}],\"table\":[{\"cells\":{\"fill\":{\"color\":\"#EBF0F8\"},\"line\":{\"color\":\"white\"}},\"header\":{\"fill\":{\"color\":\"#C8D4E3\"},\"line\":{\"color\":\"white\"}},\"type\":\"table\"}]},\"layout\":{\"annotationdefaults\":{\"arrowcolor\":\"#2a3f5f\",\"arrowhead\":0,\"arrowwidth\":1},\"autotypenumbers\":\"strict\",\"coloraxis\":{\"colorbar\":{\"outlinewidth\":0,\"ticks\":\"\"}},\"colorscale\":{\"diverging\":[[0,\"#8e0152\"],[0.1,\"#c51b7d\"],[0.2,\"#de77ae\"],[0.3,\"#f1b6da\"],[0.4,\"#fde0ef\"],[0.5,\"#f7f7f7\"],[0.6,\"#e6f5d0\"],[0.7,\"#b8e186\"],[0.8,\"#7fbc41\"],[0.9,\"#4d9221\"],[1,\"#276419\"]],\"sequential\":[[0.0,\"#0d0887\"],[0.1111111111111111,\"#46039f\"],[0.2222222222222222,\"#7201a8\"],[0.3333333333333333,\"#9c179e\"],[0.4444444444444444,\"#bd3786\"],[0.5555555555555556,\"#d8576b\"],[0.6666666666666666,\"#ed7953\"],[0.7777777777777778,\"#fb9f3a\"],[0.8888888888888888,\"#fdca26\"],[1.0,\"#f0f921\"]],\"sequentialminus\":[[0.0,\"#0d0887\"],[0.1111111111111111,\"#46039f\"],[0.2222222222222222,\"#7201a8\"],[0.3333333333333333,\"#9c179e\"],[0.4444444444444444,\"#bd3786\"],[0.5555555555555556,\"#d8576b\"],[0.6666666666666666,\"#ed7953\"],[0.7777777777777778,\"#fb9f3a\"],[0.8888888888888888,\"#fdca26\"],[1.0,\"#f0f921\"]]},\"colorway\":[\"#636efa\",\"#EF553B\",\"#00cc96\",\"#ab63fa\",\"#FFA15A\",\"#19d3f3\",\"#FF6692\",\"#B6E880\",\"#FF97FF\",\"#FECB52\"],\"font\":{\"color\":\"#2a3f5f\"},\"geo\":{\"bgcolor\":\"white\",\"lakecolor\":\"white\",\"landcolor\":\"#E5ECF6\",\"showlakes\":true,\"showland\":true,\"subunitcolor\":\"white\"},\"hoverlabel\":{\"align\":\"left\"},\"hovermode\":\"closest\",\"mapbox\":{\"style\":\"light\"},\"paper_bgcolor\":\"white\",\"plot_bgcolor\":\"#E5ECF6\",\"polar\":{\"angularaxis\":{\"gridcolor\":\"white\",\"linecolor\":\"white\",\"ticks\":\"\"},\"bgcolor\":\"#E5ECF6\",\"radialaxis\":{\"gridcolor\":\"white\",\"linecolor\":\"white\",\"ticks\":\"\"}},\"scene\":{\"xaxis\":{\"backgroundcolor\":\"#E5ECF6\",\"gridcolor\":\"white\",\"gridwidth\":2,\"linecolor\":\"white\",\"showbackground\":true,\"ticks\":\"\",\"zerolinecolor\":\"white\"},\"yaxis\":{\"backgroundcolor\":\"#E5ECF6\",\"gridcolor\":\"white\",\"gridwidth\":2,\"linecolor\":\"white\",\"showbackground\":true,\"ticks\":\"\",\"zerolinecolor\":\"white\"},\"zaxis\":{\"backgroundcolor\":\"#E5ECF6\",\"gridcolor\":\"white\",\"gridwidth\":2,\"linecolor\":\"white\",\"showbackground\":true,\"ticks\":\"\",\"zerolinecolor\":\"white\"}},\"shapedefaults\":{\"line\":{\"color\":\"#2a3f5f\"}},\"ternary\":{\"aaxis\":{\"gridcolor\":\"white\",\"linecolor\":\"white\",\"ticks\":\"\"},\"baxis\":{\"gridcolor\":\"white\",\"linecolor\":\"white\",\"ticks\":\"\"},\"bgcolor\":\"#E5ECF6\",\"caxis\":{\"gridcolor\":\"white\",\"linecolor\":\"white\",\"ticks\":\"\"}},\"title\":{\"x\":0.05},\"xaxis\":{\"automargin\":true,\"gridcolor\":\"white\",\"linecolor\":\"white\",\"ticks\":\"\",\"title\":{\"standoff\":15},\"zerolinecolor\":\"white\",\"zerolinewidth\":2},\"yaxis\":{\"automargin\":true,\"gridcolor\":\"white\",\"linecolor\":\"white\",\"ticks\":\"\",\"title\":{\"standoff\":15},\"zerolinecolor\":\"white\",\"zerolinewidth\":2}}}},                        {\"responsive\": true}                    ).then(function(){\n",
       "                            \n",
       "var gd = document.getElementById('0505e1b5-fd38-41a6-87b3-fddb764c2572');\n",
       "var x = new MutationObserver(function (mutations, observer) {{\n",
       "        var display = window.getComputedStyle(gd).display;\n",
       "        if (!display || display === 'none') {{\n",
       "            console.log([gd, 'removed!']);\n",
       "            Plotly.purge(gd);\n",
       "            observer.disconnect();\n",
       "        }}\n",
       "}});\n",
       "\n",
       "// Listen for the removal of the full notebook cells\n",
       "var notebookContainer = gd.closest('#notebook-container');\n",
       "if (notebookContainer) {{\n",
       "    x.observe(notebookContainer, {childList: true});\n",
       "}}\n",
       "\n",
       "// Listen for the clearing of the current output cell\n",
       "var outputEl = gd.closest('.output');\n",
       "if (outputEl) {{\n",
       "    x.observe(outputEl, {childList: true});\n",
       "}}\n",
       "\n",
       "                        })                };                });            </script>        </div>"
      ]
     },
     "metadata": {},
     "output_type": "display_data"
    }
   ],
   "source": [
    "\n",
    "#Creating a bounding box\n",
    "north, south, east, west = 43.143614,43.149031,-77.642269,-77.640467 \n",
    "G = ox.graph_from_bbox(north, south, east, west, network_type=\"drive_service\")\n",
    "colors = plt.rcParams['axes.prop_cycle'].by_key()['color']\n",
    "ox.plot.plot_graph(G, bgcolor='#FFFFFF', node_color=colors[0], edge_color='lightgray', node_size=5)\n",
    "\n",
    "\n",
    "    #Extracting Node Information from G\n",
    "Nodes = []\n",
    "for i in G.nodes:\n",
    "    Nodes.append(i)\n",
    "\n",
    "data = pd.DataFrame(Nodes)\n",
    "data.rename(columns = {0:'Nodes'}, inplace = True)\n",
    "#G = ox.graph_from_place('Rochester, NY, USA', network_type='drive')\n",
    "\n",
    "lat1 = []\n",
    "long1 = []\n",
    "for i in Nodes:\n",
    "    lat1.append(G.nodes[i].get('y'))\n",
    "    long1.append(G.nodes[i].get('x'))\n",
    "data['Latitude'] = lat1\n",
    "data['Longitude'] = long1\n",
    "df1 = data\n",
    "\n",
    "\n",
    "df1 = df1.drop(['Nodes'],axis=1)\n",
    "df1.rename(columns = {'Latitude':'Left'}, inplace = True)\n",
    "df1.rename(columns = {'Longitude':'Right'}, inplace = True)\n",
    "\n",
    "    #Calculating Distance and the distance matrix for all coordinates in the Bounding Box\n",
    "df3 = pd.DataFrame()\n",
    "for j in df1.index:\n",
    "    list1 = []\n",
    "    for i in df1.index:\n",
    "        r = requests.get(f\"\"\"http://router.project-osrm.org/route/v1/car/{df1.loc[j, \"Right\"]},{df1.loc[j, \"Left\"]};{df1.loc[i, \"Right\"]},{df1.loc[i, \"Left\"]}?overview=false\"\"\")\n",
    "        list1.append(json.loads(r.content)[\"routes\"][0][\"distance\"])\n",
    "    df3[j] = list1\n",
    "df = df1\n",
    "df['coordinate'] = list(zip(df['Right'],df['Left']))\n",
    "df['ID'] = df.index\n",
    "\n",
    "locations = dict( ( ID, (df.loc[ID, 'Right'], df.loc[ID, 'Left']) ) for ID in df.index)\n",
    "distances_df = df3\n",
    "distance = distances_df\n",
    "distances = dict( ((l1,l2), distance.iloc[l1, l2] ) for l1 in locations for l2 in locations if l1!=l2)\n",
    "\n",
    "\n",
    "    ## V: This defines the total number of vehicles that will traverse the path.\n",
    "V = 1\n",
    "    ## prob: This initializes the problem that will run using provided constraints.\n",
    "\n",
    "prob=LpProblem(\"vehicle\", LpMinimize)\n",
    "    ## indicator: This defines the variable dictionary consisting of distances and indicates if location i is connected to location j along route\n",
    "indicator = LpVariable.dicts('indicator',distances, 0,1,LpBinary)\n",
    "    ## eliminator: This defines the variable dictionary consisting of the node ID's and elimiate subtours\n",
    "eliminator = LpVariable.dicts('eliminator', df.ID, 0, len(df.ID)-1, LpInteger)\n",
    "    ## cost: This stores the result of distances calculations.\n",
    "cost = lpSum([indicator[(i,j)]*distances[(i,j)] for (i,j) in distances])\n",
    "prob+=cost\n",
    "\n",
    "start1 = 2\n",
    "for v in df.ID:\n",
    "        ## cap: This considers a particular node at a time. \n",
    "    cap = 1 if v != start1 else V\n",
    "        #inward possible route\n",
    "    prob+= lpSum([ indicator[(i,v)] for i in df.ID if (i,v) in indicator]) ==cap\n",
    "        #outward possible route\n",
    "    prob+=lpSum([ indicator[(v,i)] for i in df.ID if (v,i) in indicator]) ==cap\n",
    "    ## num: This stores the result of the number of nodes and the number of vehicles.    \n",
    "num=len(df.ID)/V\n",
    "for i in df.ID:\n",
    "    for j in df.ID:\n",
    "        if i != j and (i != start1 and j!= start1) and (i,j) in indicator:\n",
    "             prob += eliminator[i] - eliminator[j] <= (num)*(1-indicator[(i,j)]) - 1         \n",
    "prob.solve()\n",
    "    ## feasibleedges: This stores values of edges after the calculations are done.\n",
    "feasible_edges = [ e for e in indicator if value(indicator[e]) != 0 ]\n",
    "    ##@get_next_loc\n",
    "    # This provides with the next coordinates for the next node in the path.\n",
    "def get_next_loc(initial):\n",
    "    edges = [e for e in feasible_edges if e[0]==initial]\n",
    "    for e in edges:\n",
    "        feasible_edges.remove(e)\n",
    "    return edges\n",
    "    ## routes: This stores information regarding paths.    \n",
    "routes = get_next_loc(start1)\n",
    "routes = [ [e] for e in routes ]\n",
    "\n",
    "for r in routes:\n",
    "    while r[-1][1] !=start1:\n",
    "        r.append(get_next_loc(r[-1][1])[-1])\n",
    "\n",
    "\n",
    "\n",
    "\n",
    "df2 = df[['Left', 'Right', 'ID']].copy()\n",
    "df2.rename(columns = {'Left':'Latitude'}, inplace = True)\n",
    "df2.rename(columns = {'Right':'Longitude'}, inplace = True)\n",
    "a=[]\n",
    "for i in range(data.index.stop):\n",
    "    #print(routes[0][i][0])\n",
    "    a.append(routes[0][i][0]) \n",
    "\n",
    "df3 = pd.DataFrame()\n",
    "for i in a:\n",
    "    df3 = df3.append(df2.loc[i])\n",
    "\n",
    "df3.reset_index(inplace = True)\n",
    "\n",
    "df3 = df3.append(df3.loc[0])\n",
    "df3.reset_index(inplace = True)\n",
    "df4 = df3\n",
    "dfnodes = pd.DataFrame(Nodes)\n",
    "dfnodes.rename(columns = {0:'Nodes'}, inplace = True)\n",
    "dfnodes = dfnodes.reindex(a)\n",
    "dfnodes = dfnodes.append({\"Nodes\":Nodes[a[0]]},ignore_index=True)\n",
    "df4 = pd.concat([df4,dfnodes],axis=1)\n",
    "    \n",
    "    \n",
    "def node_list_to_path2(G, node_list):\n",
    "   \n",
    "    edge_nodes = list(zip(node_list[:-1], node_list[1:]))\n",
    "    lines = []\n",
    "    newlist=[]\n",
    "    \n",
    "    \n",
    "    \n",
    "    \n",
    "    #for u, v in edge_nodes:\n",
    "    #    if(G.get_edge_data(u, v)):\n",
    "    #        newlist.append((u,v))\n",
    "            \n",
    "            \n",
    "            \n",
    "    for u, v in edge_nodes:\n",
    "        if(G.get_edge_data(u, v)):\n",
    "            newlist.append((u,v))\n",
    "        else:    \n",
    "            path1 = nx.shortest_path(G,u, v, weight='travel_time')\n",
    "            path2 = list(zip(path1[:-1], path1[1:]))\n",
    "            newlist = newlist+path2        \n",
    "    #print(newlist)\n",
    "    #print(len(newlist))\n",
    "    \n",
    "    for u, v in newlist:\n",
    "        # if there are parallel edges, select the shortest in length\n",
    "        \n",
    "        data = min(G.get_edge_data(u, v).values(), \n",
    "                key=lambda x: x['length'])\n",
    "            # if it has a geometry attribute\n",
    "        if 'geometry' in data:\n",
    "            # add them to the list of lines to plot\n",
    "            xs, ys = data['geometry'].xy\n",
    "            lines.append(list(zip(xs, ys)))\n",
    "        else:\n",
    "            # if it doesn't have a geometry attribute,\n",
    "            # then the edge is a straight line from node to node\n",
    "            x1 = G.nodes[u]['x']\n",
    "            y1 = G.nodes[u]['y']\n",
    "            x2 = G.nodes[v]['x']\n",
    "            y2 = G.nodes[v]['y']\n",
    "            line = [(x1, y1), (x2, y2)]\n",
    "            lines.append(line)\n",
    "            \n",
    "    return lines       \n",
    "    \n",
    "    \n",
    "    \n",
    "def plot_path(lat, long, origin_point, destination_point):\n",
    "    fig = go.Figure(go.Scattermapbox(\n",
    "        name = \"Path\",\n",
    "        mode = \"lines\",\n",
    "        lon = long,\n",
    "        lat = lat,\n",
    "        marker = {'size': 10},\n",
    "        line = dict(width = 4.5, color = 'grey')))\n",
    "    fig.add_trace(go.Scattermapbox(\n",
    "        name = \"Source\",\n",
    "        mode = \"markers\",\n",
    "        lon = [origin_point[1]],\n",
    "        lat = [origin_point[0]],\n",
    "        marker = {'size': 12, 'color':\"red\"}))\n",
    "    fig.add_trace(go.Scattermapbox(\n",
    "        name = \"Destination\",\n",
    "        mode = \"markers\",\n",
    "        lon = [destination_point[1]],\n",
    "        lat = [destination_point[0]],\n",
    "        marker = {'size': 12, 'color':'green'}))\n",
    "    lat_center = np.mean(lat)\n",
    "    long_center = np.mean(long)\n",
    "    fig.update_layout(mapbox_style=\"carto-darkmatter\",\n",
    "        mapbox_center_lat = 30, mapbox_center_lon=-80)\n",
    "    fig.update_layout(margin={\"r\":0,\"t\":0,\"l\":0,\"b\":0},\n",
    "                        mapbox = {\n",
    "                            'center': {'lat': lat_center, \n",
    "                            'lon': long_center},\n",
    "                            'zoom': 13})\n",
    "    fig.show()\n",
    "\n",
    "\n",
    "pathlist = []\n",
    "for i in range(df4['Nodes'].count()-1):\n",
    "    path1 = nx.shortest_path(G, df4.iloc[i]['Nodes'],df4.iloc[i+1]['Nodes'], weight='travel_time')\n",
    "    pathlist = pathlist+path1\n",
    "#pathlist1 = list(dict.fromkeys(pathlist))\n",
    "#pathlist1.append(pathlist1[0])\n",
    "data4 = pd.DataFrame(pathlist)\n",
    "data4.rename(columns = {0:'Nodes'}, inplace = True)\n",
    "lat1 = []\n",
    "long1 = []\n",
    "lines = node_list_to_path2(G, pathlist)\n",
    "long2 = []\n",
    "lat2 = []\n",
    "for i in range(len(lines)):\n",
    "    z = list(lines[i])\n",
    "    l1 = list(list(zip(*z))[0])\n",
    "    l2 = list(list(zip(*z))[1])\n",
    "    for j in range(len(l1)):\n",
    "        long2.append(l1[j])\n",
    "        lat2.append(l2[j])\n",
    "for i in pathlist:\n",
    "    lat1.append(G.nodes[i].get('y'))\n",
    "    long1.append(G.nodes[i].get('x'))\n",
    "data4['Latitude'] = lat1\n",
    "data4['Longitude'] = long1\n",
    "origin_point = (data4.loc[0][\"Latitude\"], data4.loc[0][\"Longitude\"]) \n",
    "destination_point = (data4.iloc[-1][\"Latitude\"], data4.iloc[-1][\"Longitude\"])\n",
    "#plot_path(lat1, long1, origin_point, destination_point)\n",
    "\n",
    "\n",
    "plot_path(lat2, long2, origin_point, destination_point)\n",
    "\n"
   ]
  },
  {
   "cell_type": "code",
   "execution_count": 65,
   "id": "5c37061d",
   "metadata": {},
   "outputs": [],
   "source": [
    "path2=pathlist"
   ]
  },
  {
   "cell_type": "code",
   "execution_count": 66,
   "id": "663edd90",
   "metadata": {},
   "outputs": [
    {
     "name": "stderr",
     "output_type": "stream",
     "text": [
      "/Users/rochelleallan/anaconda3/envs/ox/lib/python3.9/site-packages/osmnx/utils_geo.py:335: ShapelyDeprecationWarning:\n",
      "\n",
      "Iteration over multi-part geometries is deprecated and will be removed in Shapely 2.0. Use the `geoms` property to access the constituent parts of a multi-part geometry.\n",
      "\n",
      "/Users/rochelleallan/anaconda3/envs/ox/lib/python3.9/site-packages/osmnx/utils_geo.py:426: ShapelyDeprecationWarning:\n",
      "\n",
      "Iteration over multi-part geometries is deprecated and will be removed in Shapely 2.0. Use the `geoms` property to access the constituent parts of a multi-part geometry.\n",
      "\n",
      "/Users/rochelleallan/anaconda3/envs/ox/lib/python3.9/site-packages/osmnx/utils_geo.py:426: ShapelyDeprecationWarning:\n",
      "\n",
      "Iteration over multi-part geometries is deprecated and will be removed in Shapely 2.0. Use the `geoms` property to access the constituent parts of a multi-part geometry.\n",
      "\n"
     ]
    },
    {
     "data": {
      "image/png": "[encoded data removed]",
      "text/plain": [
       "<Figure size 576x576 with 1 Axes>"
      ]
     },
     "metadata": {},
     "output_type": "display_data"
    },
    {
     "name": "stdout",
     "output_type": "stream",
     "text": [
      "Welcome to the CBC MILP Solver \n",
      "Version: 2.10.3 \n",
      "Build Date: Dec 15 2019 \n",
      "\n",
      "command line - /Users/rochelleallan/anaconda3/envs/ox/lib/python3.9/site-packages/pulp/apis/../solverdir/cbc/osx/64/cbc /var/folders/0f/0wx77bhd2sl15rhs858yxhtc0000gn/T/3c0d0b342cd241448201cf5e6621928a-pulp.mps timeMode elapsed branch printingOptions all solution /var/folders/0f/0wx77bhd2sl15rhs858yxhtc0000gn/T/3c0d0b342cd241448201cf5e6621928a-pulp.sol (default strategy 1)\n",
      "At line 2 NAME          MODEL\n",
      "At line 3 ROWS\n",
      "At line 97 COLUMNS\n",
      "At line 782 RHS\n",
      "At line 875 BOUNDS\n",
      "At line 975 ENDATA\n",
      "Problem MODEL has 92 rows, 99 columns and 396 elements\n",
      "Coin0008I MODEL read with 0 errors\n",
      "Option for timeMode changed from cpu to elapsed\n",
      "Continuous objective value is 1041.92 - 0.00 seconds\n",
      "Cgl0003I 0 fixed, 0 tightened bounds, 72 strengthened rows, 0 substitutions\n",
      "Cgl0003I 0 fixed, 0 tightened bounds, 72 strengthened rows, 0 substitutions\n",
      "Cgl0003I 0 fixed, 0 tightened bounds, 72 strengthened rows, 0 substitutions\n",
      "Cgl0003I 0 fixed, 0 tightened bounds, 72 strengthened rows, 0 substitutions\n",
      "Cgl0003I 0 fixed, 0 tightened bounds, 72 strengthened rows, 0 substitutions\n",
      "Cgl0003I 0 fixed, 0 tightened bounds, 72 strengthened rows, 0 substitutions\n",
      "Cgl0003I 0 fixed, 0 tightened bounds, 72 strengthened rows, 0 substitutions\n",
      "Cgl0004I processed model has 92 rows, 99 columns (99 integer (90 of which binary)) and 900 elements\n",
      "Cutoff increment increased from 1e-05 to 0.0999\n",
      "Cbc0038I Initial state - 10 integers unsatisfied sum - 2.22222\n",
      "Cbc0038I Pass   1: suminf.    1.77778 (8) obj. 1249.31 iterations 30\n",
      "Cbc0038I Pass   2: suminf.    1.77778 (4) obj. 2000.8 iterations 18\n",
      "Cbc0038I Pass   3: suminf.    1.77778 (4) obj. 2000.8 iterations 12\n",
      "Cbc0038I Pass   4: suminf.    3.70370 (12) obj. 2183.01 iterations 22\n",
      "Cbc0038I Pass   5: suminf.    1.77778 (8) obj. 2250.44 iterations 18\n",
      "Cbc0038I Pass   6: suminf.    1.77778 (4) obj. 2300.66 iterations 21\n",
      "Cbc0038I Pass   7: suminf.    1.77778 (4) obj. 2233.54 iterations 9\n",
      "Cbc0038I Pass   8: suminf.    2.66667 (13) obj. 2896.66 iterations 41\n",
      "Cbc0038I Pass   9: suminf.    1.77778 (7) obj. 2735.11 iterations 20\n",
      "Cbc0038I Pass  10: suminf.    1.77778 (4) obj. 2477.61 iterations 15\n",
      "Cbc0038I Pass  11: suminf.    1.77778 (4) obj. 2730.32 iterations 9\n",
      "Cbc0038I Pass  12: suminf.    1.77778 (4) obj. 2752.98 iterations 7\n",
      "Cbc0038I Pass  13: suminf.    2.72222 (9) obj. 2643.24 iterations 37\n",
      "Cbc0038I Pass  14: suminf.    2.11111 (6) obj. 2585.38 iterations 22\n",
      "Cbc0038I Pass  15: suminf.    1.11111 (7) obj. 2404.14 iterations 31\n",
      "Cbc0038I Pass  16: suminf.    1.77778 (11) obj. 2029.73 iterations 18\n",
      "Cbc0038I Pass  17: suminf.    1.11111 (7) obj. 2029.94 iterations 10\n",
      "Cbc0038I Pass  18: suminf.    1.33333 (4) obj. 2468.27 iterations 23\n",
      "Cbc0038I Pass  19: suminf.    1.11111 (7) obj. 2362.04 iterations 25\n",
      "Cbc0038I Pass  20: suminf.    1.77778 (11) obj. 1941.8 iterations 15\n",
      "Cbc0038I Pass  21: suminf.    0.88889 (4) obj. 2478.98 iterations 35\n",
      "Cbc0038I Pass  22: suminf.    0.80000 (4) obj. 2542.84 iterations 17\n",
      "Cbc0038I Pass  23: suminf.    0.00000 (0) obj. 2798.2 iterations 17\n",
      "Cbc0038I Solution found of 2798.2\n",
      "Cbc0038I Cleaned solution of 2798.2\n",
      "Cbc0038I Before mini branch and bound, 34 integers at bound fixed and 0 continuous\n",
      "Cbc0038I Full problem 92 rows 99 columns, reduced to 92 rows 65 columns\n",
      "Cbc0038I Mini branch and bound improved solution from 2798.2 to 1071.2 (0.12 seconds)\n",
      "Cbc0038I Round again with cutoff of 1068.2\n",
      "Cbc0038I Reduced cost fixing fixed 62 variables on major pass 2\n",
      "Cbc0038I Pass  24: suminf.    2.22222 (10) obj. 1042.73 iterations 21\n",
      "Cbc0038I Pass  25: suminf.    3.05479 (16) obj. 1068.2 iterations 26\n",
      "Cbc0038I Pass  26: suminf.    3.97778 (24) obj. 1042.83 iterations 18\n",
      "Cbc0038I Pass  27: suminf.    3.92572 (21) obj. 1068.2 iterations 18\n",
      "Cbc0038I Pass  28: suminf.    3.92572 (21) obj. 1068.2 iterations 0\n",
      "Cbc0038I Pass  29: suminf.    2.22222 (10) obj. 1042.73 iterations 22\n",
      "Cbc0038I Pass  30: suminf.    3.05479 (16) obj. 1068.2 iterations 23\n",
      "Cbc0038I Pass  31: suminf.    3.97778 (24) obj. 1042.83 iterations 17\n",
      "Cbc0038I Pass  32: suminf.    1.67466 (18) obj. 1068.2 iterations 18\n",
      "Cbc0038I Pass  33: suminf.    3.92572 (21) obj. 1068.2 iterations 3\n",
      "Cbc0038I Pass  34: suminf.    2.22222 (10) obj. 1042.73 iterations 22\n",
      "Cbc0038I Pass  35: suminf.    3.05479 (16) obj. 1068.2 iterations 22\n",
      "Cbc0038I Pass  36: suminf.    3.97778 (24) obj. 1042.83 iterations 17\n",
      "Cbc0038I Pass  37: suminf.    3.92572 (21) obj. 1068.2 iterations 14\n",
      "Cbc0038I Pass  38: suminf.    3.92572 (21) obj. 1068.2 iterations 0\n",
      "Cbc0038I Pass  39: suminf.    2.22222 (10) obj. 1042.73 iterations 14\n",
      "Cbc0038I Pass  40: suminf.    2.22222 (10) obj. 1042.73 iterations 5\n",
      "Cbc0038I Pass  41: suminf.    3.05479 (16) obj. 1068.2 iterations 14\n",
      "Cbc0038I Pass  42: suminf.    3.97778 (24) obj. 1042.83 iterations 15\n",
      "Cbc0038I Pass  43: suminf.    1.67466 (18) obj. 1068.2 iterations 19\n",
      "Cbc0038I Pass  44: suminf.    3.92572 (21) obj. 1068.2 iterations 3\n",
      "Cbc0038I Pass  45: suminf.    2.22222 (10) obj. 1042.73 iterations 22\n",
      "Cbc0038I Pass  46: suminf.    3.05479 (16) obj. 1068.2 iterations 22\n",
      "Cbc0038I Pass  47: suminf.    3.97778 (24) obj. 1042.83 iterations 18\n",
      "Cbc0038I Pass  48: suminf.    3.22222 (16) obj. 1042.82 iterations 14\n",
      "Cbc0038I Pass  49: suminf.    3.97778 (24) obj. 1042.83 iterations 9\n",
      "Cbc0038I Pass  50: suminf.    1.67466 (18) obj. 1068.2 iterations 19\n",
      "Cbc0038I Pass  51: suminf.    3.92572 (21) obj. 1068.2 iterations 3\n",
      "Cbc0038I Pass  52: suminf.    2.22222 (10) obj. 1042.73 iterations 22\n",
      "Cbc0038I Pass  53: suminf.    3.05479 (16) obj. 1068.2 iterations 22\n",
      "Cbc0038I No solution found this major pass\n",
      "Cbc0038I Before mini branch and bound, 65 integers at bound fixed and 0 continuous\n",
      "Cbc0038I Full problem 92 rows 99 columns, reduced to 79 rows 21 columns\n",
      "Cbc0038I Mini branch and bound did not improve solution (0.14 seconds)\n",
      "Cbc0038I After 0.14 seconds - Feasibility pump exiting with objective of 1071.2 - took 0.06 seconds\n",
      "Cbc0012I Integer solution of 1071.2 found by feasibility pump after 0 iterations and 0 nodes (0.14 seconds)\n",
      "Cbc0006I The LP relaxation is infeasible or too expensive\n",
      "Cbc0031I 7 added rows had average density of 4.8571429\n",
      "Cbc0013I At root node, 7 cuts changed objective from 1042.7333 to 1056.28 in 4 passes\n",
      "Cbc0014I Cut generator 0 (Probing) - 122 row cuts average 3.6 elements, 7 column cuts (7 active)  in 0.003 seconds - new frequency is 1\n",
      "Cbc0014I Cut generator 1 (Gomory) - 18 row cuts average 12.1 elements, 0 column cuts (0 active)  in 0.001 seconds - new frequency is 1\n",
      "Cbc0014I Cut generator 2 (Knapsack) - 0 row cuts average 0.0 elements, 0 column cuts (0 active)  in 0.001 seconds - new frequency is -100\n",
      "Cbc0014I Cut generator 3 (Clique) - 0 row cuts average 0.0 elements, 0 column cuts (0 active)  in 0.000 seconds - new frequency is -100\n",
      "Cbc0014I Cut generator 4 (MixedIntegerRounding2) - 0 row cuts average 0.0 elements, 0 column cuts (0 active)  in 0.000 seconds - new frequency is -100\n",
      "Cbc0014I Cut generator 5 (FlowCover) - 2 row cuts average 2.0 elements, 0 column cuts (0 active)  in 0.001 seconds - new frequency is -100\n",
      "Cbc0014I Cut generator 6 (TwoMirCuts) - 84 row cuts average 10.5 elements, 0 column cuts (0 active)  in 0.002 seconds - new frequency is 1\n",
      "Cbc0014I Cut generator 7 (ZeroHalf) - 19 row cuts average 11.3 elements, 0 column cuts (0 active)  in 0.039 seconds - new frequency is 1\n",
      "Cbc0001I Search completed - best objective 1071.2, took 70 iterations and 0 nodes (0.24 seconds)\n",
      "Cbc0035I Maximum depth 0, 68 variables fixed on reduced cost\n",
      "Cuts at root node changed objective from 1042.73 to 1056.28\n",
      "Probing was tried 4 times and created 129 cuts of which 0 were active after adding rounds of cuts (0.003 seconds)\n",
      "Gomory was tried 3 times and created 18 cuts of which 0 were active after adding rounds of cuts (0.001 seconds)\n",
      "Knapsack was tried 3 times and created 0 cuts of which 0 were active after adding rounds of cuts (0.001 seconds)\n",
      "Clique was tried 3 times and created 0 cuts of which 0 were active after adding rounds of cuts (0.000 seconds)\n",
      "MixedIntegerRounding2 was tried 3 times and created 0 cuts of which 0 were active after adding rounds of cuts (0.000 seconds)\n",
      "FlowCover was tried 3 times and created 2 cuts of which 0 were active after adding rounds of cuts (0.001 seconds)\n",
      "TwoMirCuts was tried 3 times and created 84 cuts of which 0 were active after adding rounds of cuts (0.002 seconds)\n",
      "ZeroHalf was tried 3 times and created 19 cuts of which 0 were active after adding rounds of cuts (0.039 seconds)\n",
      "\n",
      "Result - Optimal solution found\n",
      "\n",
      "Objective value:                1071.20000000\n",
      "Enumerated nodes:               0\n",
      "Total iterations:               70\n",
      "Time (CPU seconds):             0.16\n",
      "Time (Wallclock seconds):       0.25\n",
      "\n",
      "Option for printingOptions changed from normal to all\n",
      "Total time (CPU seconds):       0.16   (Wallclock seconds):       0.27\n",
      "\n"
     ]
    },
    {
     "data": {
      "application/vnd.plotly.v1+json": {
       "config": {
        "plotlyServerURL": "https://plot.ly"
       },
       "data": [
        {
         "lat": [
          43.1438699,
          43.1427982,
          43.1427982,
          43.1422334,
          43.1422334,
          43.1422328,
          43.1422328,
          43.1422334,
          43.1422334,
          43.1422345,
          43.1422345,
          43.1422357,
          43.1422357,
          43.1422355,
          43.1422355,
          43.1423406,
          43.1424266,
          43.1425066,
          43.143875,
          43.143875,
          43.1438736,
          43.1438736,
          43.1438765,
          43.1438765,
          43.1438699
         ],
         "line": {
          "color": "grey",
          "width": 4.5
         },
         "lon": [
          -77.642125,
          -77.6421411,
          -77.6421411,
          -77.6421496,
          -77.6421496,
          -77.6415081,
          -77.6415081,
          -77.6421496,
          -77.6421496,
          -77.643348,
          -77.643348,
          -77.644599,
          -77.644599,
          -77.6458712,
          -77.6458712,
          -77.6458572,
          -77.6458494,
          -77.6458444,
          -77.6458295,
          -77.6458295,
          -77.6445695,
          -77.6445695,
          -77.6433538,
          -77.6433538,
          -77.642125
         ],
         "marker": {
          "size": 10
         },
         "mode": "lines",
         "name": "Path",
         "type": "scattermapbox"
        },
        {
         "lat": [
          43.1438699
         ],
         "lon": [
          -77.642125
         ],
         "marker": {
          "color": "red",
          "size": 12
         },
         "mode": "markers",
         "name": "Source",
         "type": "scattermapbox"
        },
        {
         "lat": [
          43.1438699
         ],
         "lon": [
          -77.642125
         ],
         "marker": {
          "color": "green",
          "size": 12
         },
         "mode": "markers",
         "name": "Destination",
         "type": "scattermapbox"
        }
       ],
       "layout": {
        "mapbox": {
         "center": {
          "lat": 43.142826832,
          "lon": -77.643713592
         },
         "style": "carto-darkmatter",
         "zoom": 13
        },
        "margin": {
         "b": 0,
         "l": 0,
         "r": 0,
         "t": 0
        },
        "template": {
         "data": {
          "bar": [
           {
            "error_x": {
             "color": "#2a3f5f"
            },
            "error_y": {
             "color": "#2a3f5f"
            },
            "marker": {
             "line": {
              "color": "#E5ECF6",
              "width": 0.5
             },
             "pattern": {
              "fillmode": "overlay",
              "size": 10,
              "solidity": 0.2
             }
            },
            "type": "bar"
           }
          ],
          "barpolar": [
           {
            "marker": {
             "line": {
              "color": "#E5ECF6",
              "width": 0.5
             },
             "pattern": {
              "fillmode": "overlay",
              "size": 10,
              "solidity": 0.2
             }
            },
            "type": "barpolar"
           }
          ],
          "carpet": [
           {
            "aaxis": {
             "endlinecolor": "#2a3f5f",
             "gridcolor": "white",
             "linecolor": "white",
             "minorgridcolor": "white",
             "startlinecolor": "#2a3f5f"
            },
            "baxis": {
             "endlinecolor": "#2a3f5f",
             "gridcolor": "white",
             "linecolor": "white",
             "minorgridcolor": "white",
             "startlinecolor": "#2a3f5f"
            },
            "type": "carpet"
           }
          ],
          "choropleth": [
           {
            "colorbar": {
             "outlinewidth": 0,
             "ticks": ""
            },
            "type": "choropleth"
           }
          ],
          "contour": [
           {
            "colorbar": {
             "outlinewidth": 0,
             "ticks": ""
            },
            "colorscale": [
             [
              0,
              "#0d0887"
             ],
             [
              0.1111111111111111,
              "#46039f"
             ],
             [
              0.2222222222222222,
              "#7201a8"
             ],
             [
              0.3333333333333333,
              "#9c179e"
             ],
             [
              0.4444444444444444,
              "#bd3786"
             ],
             [
              0.5555555555555556,
              "#d8576b"
             ],
             [
              0.6666666666666666,
              "#ed7953"
             ],
             [
              0.7777777777777778,
              "#fb9f3a"
             ],
             [
              0.8888888888888888,
              "#fdca26"
             ],
             [
              1,
              "#f0f921"
             ]
            ],
            "type": "contour"
           }
          ],
          "contourcarpet": [
           {
            "colorbar": {
             "outlinewidth": 0,
             "ticks": ""
            },
            "type": "contourcarpet"
           }
          ],
          "heatmap": [
           {
            "colorbar": {
             "outlinewidth": 0,
             "ticks": ""
            },
            "colorscale": [
             [
              0,
              "#0d0887"
             ],
             [
              0.1111111111111111,
              "#46039f"
             ],
             [
              0.2222222222222222,
              "#7201a8"
             ],
             [
              0.3333333333333333,
              "#9c179e"
             ],
             [
              0.4444444444444444,
              "#bd3786"
             ],
             [
              0.5555555555555556,
              "#d8576b"
             ],
             [
              0.6666666666666666,
              "#ed7953"
             ],
             [
              0.7777777777777778,
              "#fb9f3a"
             ],
             [
              0.8888888888888888,
              "#fdca26"
             ],
             [
              1,
              "#f0f921"
             ]
            ],
            "type": "heatmap"
           }
          ],
          "heatmapgl": [
           {
            "colorbar": {
             "outlinewidth": 0,
             "ticks": ""
            },
            "colorscale": [
             [
              0,
              "#0d0887"
             ],
             [
              0.1111111111111111,
              "#46039f"
             ],
             [
              0.2222222222222222,
              "#7201a8"
             ],
             [
              0.3333333333333333,
              "#9c179e"
             ],
             [
              0.4444444444444444,
              "#bd3786"
             ],
             [
              0.5555555555555556,
              "#d8576b"
             ],
             [
              0.6666666666666666,
              "#ed7953"
             ],
             [
              0.7777777777777778,
              "#fb9f3a"
             ],
             [
              0.8888888888888888,
              "#fdca26"
             ],
             [
              1,
              "#f0f921"
             ]
            ],
            "type": "heatmapgl"
           }
          ],
          "histogram": [
           {
            "marker": {
             "pattern": {
              "fillmode": "overlay",
              "size": 10,
              "solidity": 0.2
             }
            },
            "type": "histogram"
           }
          ],
          "histogram2d": [
           {
            "colorbar": {
             "outlinewidth": 0,
             "ticks": ""
            },
            "colorscale": [
             [
              0,
              "#0d0887"
             ],
             [
              0.1111111111111111,
              "#46039f"
             ],
             [
              0.2222222222222222,
              "#7201a8"
             ],
             [
              0.3333333333333333,
              "#9c179e"
             ],
             [
              0.4444444444444444,
              "#bd3786"
             ],
             [
              0.5555555555555556,
              "#d8576b"
             ],
             [
              0.6666666666666666,
              "#ed7953"
             ],
             [
              0.7777777777777778,
              "#fb9f3a"
             ],
             [
              0.8888888888888888,
              "#fdca26"
             ],
             [
              1,
              "#f0f921"
             ]
            ],
            "type": "histogram2d"
           }
          ],
          "histogram2dcontour": [
           {
            "colorbar": {
             "outlinewidth": 0,
             "ticks": ""
            },
            "colorscale": [
             [
              0,
              "#0d0887"
             ],
             [
              0.1111111111111111,
              "#46039f"
             ],
             [
              0.2222222222222222,
              "#7201a8"
             ],
             [
              0.3333333333333333,
              "#9c179e"
             ],
             [
              0.4444444444444444,
              "#bd3786"
             ],
             [
              0.5555555555555556,
              "#d8576b"
             ],
             [
              0.6666666666666666,
              "#ed7953"
             ],
             [
              0.7777777777777778,
              "#fb9f3a"
             ],
             [
              0.8888888888888888,
              "#fdca26"
             ],
             [
              1,
              "#f0f921"
             ]
            ],
            "type": "histogram2dcontour"
           }
          ],
          "mesh3d": [
           {
            "colorbar": {
             "outlinewidth": 0,
             "ticks": ""
            },
            "type": "mesh3d"
           }
          ],
          "parcoords": [
           {
            "line": {
             "colorbar": {
              "outlinewidth": 0,
              "ticks": ""
             }
            },
            "type": "parcoords"
           }
          ],
          "pie": [
           {
            "automargin": true,
            "type": "pie"
           }
          ],
          "scatter": [
           {
            "marker": {
             "colorbar": {
              "outlinewidth": 0,
              "ticks": ""
             }
            },
            "type": "scatter"
           }
          ],
          "scatter3d": [
           {
            "line": {
             "colorbar": {
              "outlinewidth": 0,
              "ticks": ""
             }
            },
            "marker": {
             "colorbar": {
              "outlinewidth": 0,
              "ticks": ""
             }
            },
            "type": "scatter3d"
           }
          ],
          "scattercarpet": [
           {
            "marker": {
             "colorbar": {
              "outlinewidth": 0,
              "ticks": ""
             }
            },
            "type": "scattercarpet"
           }
          ],
          "scattergeo": [
           {
            "marker": {
             "colorbar": {
              "outlinewidth": 0,
              "ticks": ""
             }
            },
            "type": "scattergeo"
           }
          ],
          "scattergl": [
           {
            "marker": {
             "colorbar": {
              "outlinewidth": 0,
              "ticks": ""
             }
            },
            "type": "scattergl"
           }
          ],
          "scattermapbox": [
           {
            "marker": {
             "colorbar": {
              "outlinewidth": 0,
              "ticks": ""
             }
            },
            "type": "scattermapbox"
           }
          ],
          "scatterpolar": [
           {
            "marker": {
             "colorbar": {
              "outlinewidth": 0,
              "ticks": ""
             }
            },
            "type": "scatterpolar"
           }
          ],
          "scatterpolargl": [
           {
            "marker": {
             "colorbar": {
              "outlinewidth": 0,
              "ticks": ""
             }
            },
            "type": "scatterpolargl"
           }
          ],
          "scatterternary": [
           {
            "marker": {
             "colorbar": {
              "outlinewidth": 0,
              "ticks": ""
             }
            },
            "type": "scatterternary"
           }
          ],
          "surface": [
           {
            "colorbar": {
             "outlinewidth": 0,
             "ticks": ""
            },
            "colorscale": [
             [
              0,
              "#0d0887"
             ],
             [
              0.1111111111111111,
              "#46039f"
             ],
             [
              0.2222222222222222,
              "#7201a8"
             ],
             [
              0.3333333333333333,
              "#9c179e"
             ],
             [
              0.4444444444444444,
              "#bd3786"
             ],
             [
              0.5555555555555556,
              "#d8576b"
             ],
             [
              0.6666666666666666,
              "#ed7953"
             ],
             [
              0.7777777777777778,
              "#fb9f3a"
             ],
             [
              0.8888888888888888,
              "#fdca26"
             ],
             [
              1,
              "#f0f921"
             ]
            ],
            "type": "surface"
           }
          ],
          "table": [
           {
            "cells": {
             "fill": {
              "color": "#EBF0F8"
             },
             "line": {
              "color": "white"
             }
            },
            "header": {
             "fill": {
              "color": "#C8D4E3"
             },
             "line": {
              "color": "white"
             }
            },
            "type": "table"
           }
          ]
         },
         "layout": {
          "annotationdefaults": {
           "arrowcolor": "#2a3f5f",
           "arrowhead": 0,
           "arrowwidth": 1
          },
          "autotypenumbers": "strict",
          "coloraxis": {
           "colorbar": {
            "outlinewidth": 0,
            "ticks": ""
           }
          },
          "colorscale": {
           "diverging": [
            [
             0,
             "#8e0152"
            ],
            [
             0.1,
             "#c51b7d"
            ],
            [
             0.2,
             "#de77ae"
            ],
            [
             0.3,
             "#f1b6da"
            ],
            [
             0.4,
             "#fde0ef"
            ],
            [
             0.5,
             "#f7f7f7"
            ],
            [
             0.6,
             "#e6f5d0"
            ],
            [
             0.7,
             "#b8e186"
            ],
            [
             0.8,
             "#7fbc41"
            ],
            [
             0.9,
             "#4d9221"
            ],
            [
             1,
             "#276419"
            ]
           ],
           "sequential": [
            [
             0,
             "#0d0887"
            ],
            [
             0.1111111111111111,
             "#46039f"
            ],
            [
             0.2222222222222222,
             "#7201a8"
            ],
            [
             0.3333333333333333,
             "#9c179e"
            ],
            [
             0.4444444444444444,
             "#bd3786"
            ],
            [
             0.5555555555555556,
             "#d8576b"
            ],
            [
             0.6666666666666666,
             "#ed7953"
            ],
            [
             0.7777777777777778,
             "#fb9f3a"
            ],
            [
             0.8888888888888888,
             "#fdca26"
            ],
            [
             1,
             "#f0f921"
            ]
           ],
           "sequentialminus": [
            [
             0,
             "#0d0887"
            ],
            [
             0.1111111111111111,
             "#46039f"
            ],
            [
             0.2222222222222222,
             "#7201a8"
            ],
            [
             0.3333333333333333,
             "#9c179e"
            ],
            [
             0.4444444444444444,
             "#bd3786"
            ],
            [
             0.5555555555555556,
             "#d8576b"
            ],
            [
             0.6666666666666666,
             "#ed7953"
            ],
            [
             0.7777777777777778,
             "#fb9f3a"
            ],
            [
             0.8888888888888888,
             "#fdca26"
            ],
            [
             1,
             "#f0f921"
            ]
           ]
          },
          "colorway": [
           "#636efa",
           "#EF553B",
           "#00cc96",
           "#ab63fa",
           "#FFA15A",
           "#19d3f3",
           "#FF6692",
           "#B6E880",
           "#FF97FF",
           "#FECB52"
          ],
          "font": {
           "color": "#2a3f5f"
          },
          "geo": {
           "bgcolor": "white",
           "lakecolor": "white",
           "landcolor": "#E5ECF6",
           "showlakes": true,
           "showland": true,
           "subunitcolor": "white"
          },
          "hoverlabel": {
           "align": "left"
          },
          "hovermode": "closest",
          "mapbox": {
           "style": "light"
          },
          "paper_bgcolor": "white",
          "plot_bgcolor": "#E5ECF6",
          "polar": {
           "angularaxis": {
            "gridcolor": "white",
            "linecolor": "white",
            "ticks": ""
           },
           "bgcolor": "#E5ECF6",
           "radialaxis": {
            "gridcolor": "white",
            "linecolor": "white",
            "ticks": ""
           }
          },
          "scene": {
           "xaxis": {
            "backgroundcolor": "#E5ECF6",
            "gridcolor": "white",
            "gridwidth": 2,
            "linecolor": "white",
            "showbackground": true,
            "ticks": "",
            "zerolinecolor": "white"
           },
           "yaxis": {
            "backgroundcolor": "#E5ECF6",
            "gridcolor": "white",
            "gridwidth": 2,
            "linecolor": "white",
            "showbackground": true,
            "ticks": "",
            "zerolinecolor": "white"
           },
           "zaxis": {
            "backgroundcolor": "#E5ECF6",
            "gridcolor": "white",
            "gridwidth": 2,
            "linecolor": "white",
            "showbackground": true,
            "ticks": "",
            "zerolinecolor": "white"
           }
          },
          "shapedefaults": {
           "line": {
            "color": "#2a3f5f"
           }
          },
          "ternary": {
           "aaxis": {
            "gridcolor": "white",
            "linecolor": "white",
            "ticks": ""
           },
           "baxis": {
            "gridcolor": "white",
            "linecolor": "white",
            "ticks": ""
           },
           "bgcolor": "#E5ECF6",
           "caxis": {
            "gridcolor": "white",
            "linecolor": "white",
            "ticks": ""
           }
          },
          "title": {
           "x": 0.05
          },
          "xaxis": {
           "automargin": true,
           "gridcolor": "white",
           "linecolor": "white",
           "ticks": "",
           "title": {
            "standoff": 15
           },
           "zerolinecolor": "white",
           "zerolinewidth": 2
          },
          "yaxis": {
           "automargin": true,
           "gridcolor": "white",
           "linecolor": "white",
           "ticks": "",
           "title": {
            "standoff": 15
           },
           "zerolinecolor": "white",
           "zerolinewidth": 2
          }
         }
        }
       }
      },
      "text/html": [
       "<div>                            <div id=\"67b18494-b73f-4d43-b48a-330fbb8552f8\" class=\"plotly-graph-div\" style=\"height:525px; width:100%;\"></div>            <script type=\"text/javascript\">                require([\"plotly\"], function(Plotly) {                    window.PLOTLYENV=window.PLOTLYENV || {};                                    if (document.getElementById(\"67b18494-b73f-4d43-b48a-330fbb8552f8\")) {                    Plotly.newPlot(                        \"67b18494-b73f-4d43-b48a-330fbb8552f8\",                        [{\"lat\":[43.1438699,43.1427982,43.1427982,43.1422334,43.1422334,43.1422328,43.1422328,43.1422334,43.1422334,43.1422345,43.1422345,43.1422357,43.1422357,43.1422355,43.1422355,43.1423406,43.1424266,43.1425066,43.143875,43.143875,43.1438736,43.1438736,43.1438765,43.1438765,43.1438699],\"line\":{\"color\":\"grey\",\"width\":4.5},\"lon\":[-77.642125,-77.6421411,-77.6421411,-77.6421496,-77.6421496,-77.6415081,-77.6415081,-77.6421496,-77.6421496,-77.643348,-77.643348,-77.644599,-77.644599,-77.6458712,-77.6458712,-77.6458572,-77.6458494,-77.6458444,-77.6458295,-77.6458295,-77.6445695,-77.6445695,-77.6433538,-77.6433538,-77.642125],\"marker\":{\"size\":10},\"mode\":\"lines\",\"name\":\"Path\",\"type\":\"scattermapbox\"},{\"lat\":[43.1438699],\"lon\":[-77.642125],\"marker\":{\"color\":\"red\",\"size\":12},\"mode\":\"markers\",\"name\":\"Source\",\"type\":\"scattermapbox\"},{\"lat\":[43.1438699],\"lon\":[-77.642125],\"marker\":{\"color\":\"green\",\"size\":12},\"mode\":\"markers\",\"name\":\"Destination\",\"type\":\"scattermapbox\"}],                        {\"mapbox\":{\"center\":{\"lat\":43.142826832,\"lon\":-77.643713592},\"style\":\"carto-darkmatter\",\"zoom\":13},\"margin\":{\"b\":0,\"l\":0,\"r\":0,\"t\":0},\"template\":{\"data\":{\"bar\":[{\"error_x\":{\"color\":\"#2a3f5f\"},\"error_y\":{\"color\":\"#2a3f5f\"},\"marker\":{\"line\":{\"color\":\"#E5ECF6\",\"width\":0.5},\"pattern\":{\"fillmode\":\"overlay\",\"size\":10,\"solidity\":0.2}},\"type\":\"bar\"}],\"barpolar\":[{\"marker\":{\"line\":{\"color\":\"#E5ECF6\",\"width\":0.5},\"pattern\":{\"fillmode\":\"overlay\",\"size\":10,\"solidity\":0.2}},\"type\":\"barpolar\"}],\"carpet\":[{\"aaxis\":{\"endlinecolor\":\"#2a3f5f\",\"gridcolor\":\"white\",\"linecolor\":\"white\",\"minorgridcolor\":\"white\",\"startlinecolor\":\"#2a3f5f\"},\"baxis\":{\"endlinecolor\":\"#2a3f5f\",\"gridcolor\":\"white\",\"linecolor\":\"white\",\"minorgridcolor\":\"white\",\"startlinecolor\":\"#2a3f5f\"},\"type\":\"carpet\"}],\"choropleth\":[{\"colorbar\":{\"outlinewidth\":0,\"ticks\":\"\"},\"type\":\"choropleth\"}],\"contour\":[{\"colorbar\":{\"outlinewidth\":0,\"ticks\":\"\"},\"colorscale\":[[0.0,\"#0d0887\"],[0.1111111111111111,\"#46039f\"],[0.2222222222222222,\"#7201a8\"],[0.3333333333333333,\"#9c179e\"],[0.4444444444444444,\"#bd3786\"],[0.5555555555555556,\"#d8576b\"],[0.6666666666666666,\"#ed7953\"],[0.7777777777777778,\"#fb9f3a\"],[0.8888888888888888,\"#fdca26\"],[1.0,\"#f0f921\"]],\"type\":\"contour\"}],\"contourcarpet\":[{\"colorbar\":{\"outlinewidth\":0,\"ticks\":\"\"},\"type\":\"contourcarpet\"}],\"heatmap\":[{\"colorbar\":{\"outlinewidth\":0,\"ticks\":\"\"},\"colorscale\":[[0.0,\"#0d0887\"],[0.1111111111111111,\"#46039f\"],[0.2222222222222222,\"#7201a8\"],[0.3333333333333333,\"#9c179e\"],[0.4444444444444444,\"#bd3786\"],[0.5555555555555556,\"#d8576b\"],[0.6666666666666666,\"#ed7953\"],[0.7777777777777778,\"#fb9f3a\"],[0.8888888888888888,\"#fdca26\"],[1.0,\"#f0f921\"]],\"type\":\"heatmap\"}],\"heatmapgl\":[{\"colorbar\":{\"outlinewidth\":0,\"ticks\":\"\"},\"colorscale\":[[0.0,\"#0d0887\"],[0.1111111111111111,\"#46039f\"],[0.2222222222222222,\"#7201a8\"],[0.3333333333333333,\"#9c179e\"],[0.4444444444444444,\"#bd3786\"],[0.5555555555555556,\"#d8576b\"],[0.6666666666666666,\"#ed7953\"],[0.7777777777777778,\"#fb9f3a\"],[0.8888888888888888,\"#fdca26\"],[1.0,\"#f0f921\"]],\"type\":\"heatmapgl\"}],\"histogram\":[{\"marker\":{\"pattern\":{\"fillmode\":\"overlay\",\"size\":10,\"solidity\":0.2}},\"type\":\"histogram\"}],\"histogram2d\":[{\"colorbar\":{\"outlinewidth\":0,\"ticks\":\"\"},\"colorscale\":[[0.0,\"#0d0887\"],[0.1111111111111111,\"#46039f\"],[0.2222222222222222,\"#7201a8\"],[0.3333333333333333,\"#9c179e\"],[0.4444444444444444,\"#bd3786\"],[0.5555555555555556,\"#d8576b\"],[0.6666666666666666,\"#ed7953\"],[0.7777777777777778,\"#fb9f3a\"],[0.8888888888888888,\"#fdca26\"],[1.0,\"#f0f921\"]],\"type\":\"histogram2d\"}],\"histogram2dcontour\":[{\"colorbar\":{\"outlinewidth\":0,\"ticks\":\"\"},\"colorscale\":[[0.0,\"#0d0887\"],[0.1111111111111111,\"#46039f\"],[0.2222222222222222,\"#7201a8\"],[0.3333333333333333,\"#9c179e\"],[0.4444444444444444,\"#bd3786\"],[0.5555555555555556,\"#d8576b\"],[0.6666666666666666,\"#ed7953\"],[0.7777777777777778,\"#fb9f3a\"],[0.8888888888888888,\"#fdca26\"],[1.0,\"#f0f921\"]],\"type\":\"histogram2dcontour\"}],\"mesh3d\":[{\"colorbar\":{\"outlinewidth\":0,\"ticks\":\"\"},\"type\":\"mesh3d\"}],\"parcoords\":[{\"line\":{\"colorbar\":{\"outlinewidth\":0,\"ticks\":\"\"}},\"type\":\"parcoords\"}],\"pie\":[{\"automargin\":true,\"type\":\"pie\"}],\"scatter\":[{\"marker\":{\"colorbar\":{\"outlinewidth\":0,\"ticks\":\"\"}},\"type\":\"scatter\"}],\"scatter3d\":[{\"line\":{\"colorbar\":{\"outlinewidth\":0,\"ticks\":\"\"}},\"marker\":{\"colorbar\":{\"outlinewidth\":0,\"ticks\":\"\"}},\"type\":\"scatter3d\"}],\"scattercarpet\":[{\"marker\":{\"colorbar\":{\"outlinewidth\":0,\"ticks\":\"\"}},\"type\":\"scattercarpet\"}],\"scattergeo\":[{\"marker\":{\"colorbar\":{\"outlinewidth\":0,\"ticks\":\"\"}},\"type\":\"scattergeo\"}],\"scattergl\":[{\"marker\":{\"colorbar\":{\"outlinewidth\":0,\"ticks\":\"\"}},\"type\":\"scattergl\"}],\"scattermapbox\":[{\"marker\":{\"colorbar\":{\"outlinewidth\":0,\"ticks\":\"\"}},\"type\":\"scattermapbox\"}],\"scatterpolar\":[{\"marker\":{\"colorbar\":{\"outlinewidth\":0,\"ticks\":\"\"}},\"type\":\"scatterpolar\"}],\"scatterpolargl\":[{\"marker\":{\"colorbar\":{\"outlinewidth\":0,\"ticks\":\"\"}},\"type\":\"scatterpolargl\"}],\"scatterternary\":[{\"marker\":{\"colorbar\":{\"outlinewidth\":0,\"ticks\":\"\"}},\"type\":\"scatterternary\"}],\"surface\":[{\"colorbar\":{\"outlinewidth\":0,\"ticks\":\"\"},\"colorscale\":[[0.0,\"#0d0887\"],[0.1111111111111111,\"#46039f\"],[0.2222222222222222,\"#7201a8\"],[0.3333333333333333,\"#9c179e\"],[0.4444444444444444,\"#bd3786\"],[0.5555555555555556,\"#d8576b\"],[0.6666666666666666,\"#ed7953\"],[0.7777777777777778,\"#fb9f3a\"],[0.8888888888888888,\"#fdca26\"],[1.0,\"#f0f921\"]],\"type\":\"surface\"}],\"table\":[{\"cells\":{\"fill\":{\"color\":\"#EBF0F8\"},\"line\":{\"color\":\"white\"}},\"header\":{\"fill\":{\"color\":\"#C8D4E3\"},\"line\":{\"color\":\"white\"}},\"type\":\"table\"}]},\"layout\":{\"annotationdefaults\":{\"arrowcolor\":\"#2a3f5f\",\"arrowhead\":0,\"arrowwidth\":1},\"autotypenumbers\":\"strict\",\"coloraxis\":{\"colorbar\":{\"outlinewidth\":0,\"ticks\":\"\"}},\"colorscale\":{\"diverging\":[[0,\"#8e0152\"],[0.1,\"#c51b7d\"],[0.2,\"#de77ae\"],[0.3,\"#f1b6da\"],[0.4,\"#fde0ef\"],[0.5,\"#f7f7f7\"],[0.6,\"#e6f5d0\"],[0.7,\"#b8e186\"],[0.8,\"#7fbc41\"],[0.9,\"#4d9221\"],[1,\"#276419\"]],\"sequential\":[[0.0,\"#0d0887\"],[0.1111111111111111,\"#46039f\"],[0.2222222222222222,\"#7201a8\"],[0.3333333333333333,\"#9c179e\"],[0.4444444444444444,\"#bd3786\"],[0.5555555555555556,\"#d8576b\"],[0.6666666666666666,\"#ed7953\"],[0.7777777777777778,\"#fb9f3a\"],[0.8888888888888888,\"#fdca26\"],[1.0,\"#f0f921\"]],\"sequentialminus\":[[0.0,\"#0d0887\"],[0.1111111111111111,\"#46039f\"],[0.2222222222222222,\"#7201a8\"],[0.3333333333333333,\"#9c179e\"],[0.4444444444444444,\"#bd3786\"],[0.5555555555555556,\"#d8576b\"],[0.6666666666666666,\"#ed7953\"],[0.7777777777777778,\"#fb9f3a\"],[0.8888888888888888,\"#fdca26\"],[1.0,\"#f0f921\"]]},\"colorway\":[\"#636efa\",\"#EF553B\",\"#00cc96\",\"#ab63fa\",\"#FFA15A\",\"#19d3f3\",\"#FF6692\",\"#B6E880\",\"#FF97FF\",\"#FECB52\"],\"font\":{\"color\":\"#2a3f5f\"},\"geo\":{\"bgcolor\":\"white\",\"lakecolor\":\"white\",\"landcolor\":\"#E5ECF6\",\"showlakes\":true,\"showland\":true,\"subunitcolor\":\"white\"},\"hoverlabel\":{\"align\":\"left\"},\"hovermode\":\"closest\",\"mapbox\":{\"style\":\"light\"},\"paper_bgcolor\":\"white\",\"plot_bgcolor\":\"#E5ECF6\",\"polar\":{\"angularaxis\":{\"gridcolor\":\"white\",\"linecolor\":\"white\",\"ticks\":\"\"},\"bgcolor\":\"#E5ECF6\",\"radialaxis\":{\"gridcolor\":\"white\",\"linecolor\":\"white\",\"ticks\":\"\"}},\"scene\":{\"xaxis\":{\"backgroundcolor\":\"#E5ECF6\",\"gridcolor\":\"white\",\"gridwidth\":2,\"linecolor\":\"white\",\"showbackground\":true,\"ticks\":\"\",\"zerolinecolor\":\"white\"},\"yaxis\":{\"backgroundcolor\":\"#E5ECF6\",\"gridcolor\":\"white\",\"gridwidth\":2,\"linecolor\":\"white\",\"showbackground\":true,\"ticks\":\"\",\"zerolinecolor\":\"white\"},\"zaxis\":{\"backgroundcolor\":\"#E5ECF6\",\"gridcolor\":\"white\",\"gridwidth\":2,\"linecolor\":\"white\",\"showbackground\":true,\"ticks\":\"\",\"zerolinecolor\":\"white\"}},\"shapedefaults\":{\"line\":{\"color\":\"#2a3f5f\"}},\"ternary\":{\"aaxis\":{\"gridcolor\":\"white\",\"linecolor\":\"white\",\"ticks\":\"\"},\"baxis\":{\"gridcolor\":\"white\",\"linecolor\":\"white\",\"ticks\":\"\"},\"bgcolor\":\"#E5ECF6\",\"caxis\":{\"gridcolor\":\"white\",\"linecolor\":\"white\",\"ticks\":\"\"}},\"title\":{\"x\":0.05},\"xaxis\":{\"automargin\":true,\"gridcolor\":\"white\",\"linecolor\":\"white\",\"ticks\":\"\",\"title\":{\"standoff\":15},\"zerolinecolor\":\"white\",\"zerolinewidth\":2},\"yaxis\":{\"automargin\":true,\"gridcolor\":\"white\",\"linecolor\":\"white\",\"ticks\":\"\",\"title\":{\"standoff\":15},\"zerolinecolor\":\"white\",\"zerolinewidth\":2}}}},                        {\"responsive\": true}                    ).then(function(){\n",
       "                            \n",
       "var gd = document.getElementById('67b18494-b73f-4d43-b48a-330fbb8552f8');\n",
       "var x = new MutationObserver(function (mutations, observer) {{\n",
       "        var display = window.getComputedStyle(gd).display;\n",
       "        if (!display || display === 'none') {{\n",
       "            console.log([gd, 'removed!']);\n",
       "            Plotly.purge(gd);\n",
       "            observer.disconnect();\n",
       "        }}\n",
       "}});\n",
       "\n",
       "// Listen for the removal of the full notebook cells\n",
       "var notebookContainer = gd.closest('#notebook-container');\n",
       "if (notebookContainer) {{\n",
       "    x.observe(notebookContainer, {childList: true});\n",
       "}}\n",
       "\n",
       "// Listen for the clearing of the current output cell\n",
       "var outputEl = gd.closest('.output');\n",
       "if (outputEl) {{\n",
       "    x.observe(outputEl, {childList: true});\n",
       "}}\n",
       "\n",
       "                        })                };                });            </script>        </div>"
      ]
     },
     "metadata": {},
     "output_type": "display_data"
    }
   ],
   "source": [
    "\n",
    "#Creating a bounding box\n",
    "north, south, east, west = 43.142049,43.144241,-77.646089,-77.641239\n",
    "G = ox.graph_from_bbox(north, south, east, west, network_type=\"drive_service\")\n",
    "colors = plt.rcParams['axes.prop_cycle'].by_key()['color']\n",
    "ox.plot.plot_graph(G, bgcolor='#FFFFFF', node_color=colors[0], edge_color='lightgray', node_size=5)\n",
    "\n",
    "\n",
    "    #Extracting Node Information from G\n",
    "Nodes = []\n",
    "for i in G.nodes:\n",
    "    Nodes.append(i)\n",
    "\n",
    "data = pd.DataFrame(Nodes)\n",
    "data.rename(columns = {0:'Nodes'}, inplace = True)\n",
    "#G = ox.graph_from_place('Rochester, NY, USA', network_type='drive')\n",
    "\n",
    "lat1 = []\n",
    "long1 = []\n",
    "for i in Nodes:\n",
    "    lat1.append(G.nodes[i].get('y'))\n",
    "    long1.append(G.nodes[i].get('x'))\n",
    "data['Latitude'] = lat1\n",
    "data['Longitude'] = long1\n",
    "df1 = data\n",
    "\n",
    "\n",
    "df1 = df1.drop(['Nodes'],axis=1)\n",
    "df1.rename(columns = {'Latitude':'Left'}, inplace = True)\n",
    "df1.rename(columns = {'Longitude':'Right'}, inplace = True)\n",
    "\n",
    "    #Calculating Distance and the distance matrix for all coordinates in the Bounding Box\n",
    "df3 = pd.DataFrame()\n",
    "for j in df1.index:\n",
    "    list1 = []\n",
    "    for i in df1.index:\n",
    "        r = requests.get(f\"\"\"http://router.project-osrm.org/route/v1/car/{df1.loc[j, \"Right\"]},{df1.loc[j, \"Left\"]};{df1.loc[i, \"Right\"]},{df1.loc[i, \"Left\"]}?overview=false\"\"\")\n",
    "        list1.append(json.loads(r.content)[\"routes\"][0][\"distance\"])\n",
    "    df3[j] = list1\n",
    "df = df1\n",
    "df['coordinate'] = list(zip(df['Right'],df['Left']))\n",
    "df['ID'] = df.index\n",
    "\n",
    "locations = dict( ( ID, (df.loc[ID, 'Right'], df.loc[ID, 'Left']) ) for ID in df.index)\n",
    "distances_df = df3\n",
    "distance = distances_df\n",
    "distances = dict( ((l1,l2), distance.iloc[l1, l2] ) for l1 in locations for l2 in locations if l1!=l2)\n",
    "\n",
    "\n",
    "    ## V: This defines the total number of vehicles that will traverse the path.\n",
    "V = 1\n",
    "    ## prob: This initializes the problem that will run using provided constraints.\n",
    "\n",
    "prob=LpProblem(\"vehicle\", LpMinimize)\n",
    "    ## indicator: This defines the variable dictionary consisting of distances and indicates if location i is connected to location j along route\n",
    "indicator = LpVariable.dicts('indicator',distances, 0,1,LpBinary)\n",
    "    ## eliminator: This defines the variable dictionary consisting of the node ID's and elimiate subtours\n",
    "eliminator = LpVariable.dicts('eliminator', df.ID, 0, len(df.ID)-1, LpInteger)\n",
    "    ## cost: This stores the result of distances calculations.\n",
    "cost = lpSum([indicator[(i,j)]*distances[(i,j)] for (i,j) in distances])\n",
    "prob+=cost\n",
    "\n",
    "start1 = 2\n",
    "for v in df.ID:\n",
    "        ## cap: This considers a particular node at a time. \n",
    "    cap = 1 if v != start1 else V\n",
    "        #inward possible route\n",
    "    prob+= lpSum([ indicator[(i,v)] for i in df.ID if (i,v) in indicator]) ==cap\n",
    "        #outward possible route\n",
    "    prob+=lpSum([ indicator[(v,i)] for i in df.ID if (v,i) in indicator]) ==cap\n",
    "    ## num: This stores the result of the number of nodes and the number of vehicles.    \n",
    "num=len(df.ID)/V\n",
    "for i in df.ID:\n",
    "    for j in df.ID:\n",
    "        if i != j and (i != start1 and j!= start1) and (i,j) in indicator:\n",
    "             prob += eliminator[i] - eliminator[j] <= (num)*(1-indicator[(i,j)]) - 1         \n",
    "prob.solve()\n",
    "    ## feasibleedges: This stores values of edges after the calculations are done.\n",
    "feasible_edges = [ e for e in indicator if value(indicator[e]) != 0 ]\n",
    "    ##@get_next_loc\n",
    "    # This provides with the next coordinates for the next node in the path.\n",
    "def get_next_loc(initial):\n",
    "    edges = [e for e in feasible_edges if e[0]==initial]\n",
    "    for e in edges:\n",
    "        feasible_edges.remove(e)\n",
    "    return edges\n",
    "    ## routes: This stores information regarding paths.    \n",
    "routes = get_next_loc(start1)\n",
    "routes = [ [e] for e in routes ]\n",
    "\n",
    "for r in routes:\n",
    "    while r[-1][1] !=start1:\n",
    "        r.append(get_next_loc(r[-1][1])[-1])\n",
    "\n",
    "\n",
    "\n",
    "\n",
    "df2 = df[['Left', 'Right', 'ID']].copy()\n",
    "df2.rename(columns = {'Left':'Latitude'}, inplace = True)\n",
    "df2.rename(columns = {'Right':'Longitude'}, inplace = True)\n",
    "a=[]\n",
    "for i in range(data.index.stop):\n",
    "    #print(routes[0][i][0])\n",
    "    a.append(routes[0][i][0]) \n",
    "\n",
    "df3 = pd.DataFrame()\n",
    "for i in a:\n",
    "    df3 = df3.append(df2.loc[i])\n",
    "\n",
    "df3.reset_index(inplace = True)\n",
    "\n",
    "df3 = df3.append(df3.loc[0])\n",
    "df3.reset_index(inplace = True)\n",
    "df4 = df3\n",
    "dfnodes = pd.DataFrame(Nodes)\n",
    "dfnodes.rename(columns = {0:'Nodes'}, inplace = True)\n",
    "dfnodes = dfnodes.reindex(a)\n",
    "dfnodes = dfnodes.append({\"Nodes\":Nodes[a[0]]},ignore_index=True)\n",
    "df4 = pd.concat([df4,dfnodes],axis=1)\n",
    "    \n",
    "    \n",
    "def node_list_to_path2(G, node_list):\n",
    "   \n",
    "    edge_nodes = list(zip(node_list[:-1], node_list[1:]))\n",
    "    lines = []\n",
    "    newlist=[]\n",
    "    \n",
    "    \n",
    "    \n",
    "    \n",
    "    #for u, v in edge_nodes:\n",
    "    #    if(G.get_edge_data(u, v)):\n",
    "    #        newlist.append((u,v))\n",
    "            \n",
    "            \n",
    "            \n",
    "    for u, v in edge_nodes:\n",
    "        if(G.get_edge_data(u, v)):\n",
    "            newlist.append((u,v))\n",
    "        else:    \n",
    "            path1 = nx.shortest_path(G,u, v, weight='travel_time')\n",
    "            path2 = list(zip(path1[:-1], path1[1:]))\n",
    "            newlist = newlist+path2        \n",
    "    #print(newlist)\n",
    "    #print(len(newlist))\n",
    "    \n",
    "    for u, v in newlist:\n",
    "        # if there are parallel edges, select the shortest in length\n",
    "        \n",
    "        data = min(G.get_edge_data(u, v).values(), \n",
    "                key=lambda x: x['length'])\n",
    "            # if it has a geometry attribute\n",
    "        if 'geometry' in data:\n",
    "            # add them to the list of lines to plot\n",
    "            xs, ys = data['geometry'].xy\n",
    "            lines.append(list(zip(xs, ys)))\n",
    "        else:\n",
    "            # if it doesn't have a geometry attribute,\n",
    "            # then the edge is a straight line from node to node\n",
    "            x1 = G.nodes[u]['x']\n",
    "            y1 = G.nodes[u]['y']\n",
    "            x2 = G.nodes[v]['x']\n",
    "            y2 = G.nodes[v]['y']\n",
    "            line = [(x1, y1), (x2, y2)]\n",
    "            lines.append(line)\n",
    "            \n",
    "    return lines       \n",
    "    \n",
    "    \n",
    "    \n",
    "def plot_path(lat, long, origin_point, destination_point):\n",
    "    fig = go.Figure(go.Scattermapbox(\n",
    "        name = \"Path\",\n",
    "        mode = \"lines\",\n",
    "        lon = long,\n",
    "        lat = lat,\n",
    "        marker = {'size': 10},\n",
    "        line = dict(width = 4.5, color = 'grey')))\n",
    "    fig.add_trace(go.Scattermapbox(\n",
    "        name = \"Source\",\n",
    "        mode = \"markers\",\n",
    "        lon = [origin_point[1]],\n",
    "        lat = [origin_point[0]],\n",
    "        marker = {'size': 12, 'color':\"red\"}))\n",
    "    fig.add_trace(go.Scattermapbox(\n",
    "        name = \"Destination\",\n",
    "        mode = \"markers\",\n",
    "        lon = [destination_point[1]],\n",
    "        lat = [destination_point[0]],\n",
    "        marker = {'size': 12, 'color':'green'}))\n",
    "    lat_center = np.mean(lat)\n",
    "    long_center = np.mean(long)\n",
    "    fig.update_layout(mapbox_style=\"carto-darkmatter\",\n",
    "        mapbox_center_lat = 30, mapbox_center_lon=-80)\n",
    "    fig.update_layout(margin={\"r\":0,\"t\":0,\"l\":0,\"b\":0},\n",
    "                        mapbox = {\n",
    "                            'center': {'lat': lat_center, \n",
    "                            'lon': long_center},\n",
    "                            'zoom': 13})\n",
    "    fig.show()\n",
    "\n",
    "\n",
    "pathlist = []\n",
    "for i in range(df4['Nodes'].count()-1):\n",
    "    path1 = nx.shortest_path(G, df4.iloc[i]['Nodes'],df4.iloc[i+1]['Nodes'], weight='travel_time')\n",
    "    pathlist = pathlist+path1\n",
    "#pathlist1 = list(dict.fromkeys(pathlist))\n",
    "#pathlist1.append(pathlist1[0])\n",
    "data4 = pd.DataFrame(pathlist)\n",
    "data4.rename(columns = {0:'Nodes'}, inplace = True)\n",
    "lat1 = []\n",
    "long1 = []\n",
    "lines = node_list_to_path2(G, pathlist)\n",
    "long2 = []\n",
    "lat2 = []\n",
    "for i in range(len(lines)):\n",
    "    z = list(lines[i])\n",
    "    l1 = list(list(zip(*z))[0])\n",
    "    l2 = list(list(zip(*z))[1])\n",
    "    for j in range(len(l1)):\n",
    "        long2.append(l1[j])\n",
    "        lat2.append(l2[j])\n",
    "for i in pathlist:\n",
    "    lat1.append(G.nodes[i].get('y'))\n",
    "    long1.append(G.nodes[i].get('x'))\n",
    "data4['Latitude'] = lat1\n",
    "data4['Longitude'] = long1\n",
    "origin_point = (data4.loc[0][\"Latitude\"], data4.loc[0][\"Longitude\"]) \n",
    "destination_point = (data4.iloc[-1][\"Latitude\"], data4.iloc[-1][\"Longitude\"])\n",
    "#plot_path(lat1, long1, origin_point, destination_point)\n",
    "\n",
    "\n",
    "plot_path(lat2, long2, origin_point, destination_point)\n",
    "\n",
    "\n"
   ]
  },
  {
   "cell_type": "code",
   "execution_count": 67,
   "id": "65f172c3",
   "metadata": {},
   "outputs": [],
   "source": [
    "path3=pathlist"
   ]
  },
  {
   "cell_type": "code",
   "execution_count": 68,
   "id": "filled-tissue",
   "metadata": {},
   "outputs": [],
   "source": [
    "mainpath=path1+path2+path3"
   ]
  },
  {
   "cell_type": "code",
   "execution_count": 69,
   "id": "672595bb",
   "metadata": {},
   "outputs": [
    {
     "data": {
      "text/plain": [
       "[212624947.0, 212624944]"
      ]
     },
     "execution_count": 69,
     "metadata": {},
     "output_type": "execute_result"
    }
   ],
   "source": [
    "path1"
   ]
  },
  {
   "cell_type": "code",
   "execution_count": 70,
   "id": "8aaa137b",
   "metadata": {},
   "outputs": [
    {
     "data": {
      "text/plain": [
       "[212650634.0,\n",
       " 212765270,\n",
       " 212765270.0,\n",
       " 212765265,\n",
       " 212765265.0,\n",
       " 212765262,\n",
       " 212765262.0,\n",
       " 212650636,\n",
       " 212650636.0,\n",
       " 212624944,\n",
       " 212624944.0,\n",
       " 212624940,\n",
       " 212624940.0,\n",
       " 212650634]"
      ]
     },
     "execution_count": 70,
     "metadata": {},
     "output_type": "execute_result"
    }
   ],
   "source": [
    "path2"
   ]
  },
  {
   "cell_type": "code",
   "execution_count": 71,
   "id": "c2dbd907",
   "metadata": {},
   "outputs": [
    {
     "data": {
      "text/plain": [
       "[212624944.0,\n",
       " 7199136342,\n",
       " 7199136342.0,\n",
       " 212787665,\n",
       " 212787665.0,\n",
       " 7199136346,\n",
       " 7199136346.0,\n",
       " 212787665,\n",
       " 212787668.0,\n",
       " 212787668.0,\n",
       " 212624740,\n",
       " 212624740.0,\n",
       " 212673089,\n",
       " 212673089.0,\n",
       " 212624950,\n",
       " 212624950.0,\n",
       " 212624737,\n",
       " 212624737.0,\n",
       " 212624947,\n",
       " 212624947.0,\n",
       " 212624944]"
      ]
     },
     "execution_count": 71,
     "metadata": {},
     "output_type": "execute_result"
    }
   ],
   "source": [
    "path3"
   ]
  },
  {
   "cell_type": "code",
   "execution_count": 72,
   "id": "bcd5ec67",
   "metadata": {},
   "outputs": [
    {
     "name": "stderr",
     "output_type": "stream",
     "text": [
      "/Users/rochelleallan/anaconda3/envs/ox/lib/python3.9/site-packages/osmnx/utils_geo.py:335: ShapelyDeprecationWarning:\n",
      "\n",
      "Iteration over multi-part geometries is deprecated and will be removed in Shapely 2.0. Use the `geoms` property to access the constituent parts of a multi-part geometry.\n",
      "\n",
      "/Users/rochelleallan/anaconda3/envs/ox/lib/python3.9/site-packages/osmnx/utils_geo.py:426: ShapelyDeprecationWarning:\n",
      "\n",
      "Iteration over multi-part geometries is deprecated and will be removed in Shapely 2.0. Use the `geoms` property to access the constituent parts of a multi-part geometry.\n",
      "\n",
      "/Users/rochelleallan/anaconda3/envs/ox/lib/python3.9/site-packages/osmnx/utils_geo.py:426: ShapelyDeprecationWarning:\n",
      "\n",
      "Iteration over multi-part geometries is deprecated and will be removed in Shapely 2.0. Use the `geoms` property to access the constituent parts of a multi-part geometry.\n",
      "\n"
     ]
    }
   ],
   "source": [
    "G = ox.graph_from_place('Rochester, NY, USA', network_type='drive')"
   ]
  },
  {
   "cell_type": "code",
   "execution_count": 73,
   "id": "liked-bridge",
   "metadata": {},
   "outputs": [],
   "source": [
    "path12 = nx.shortest_path(G, 212667644,212650634, weight='travel_time')"
   ]
  },
  {
   "cell_type": "code",
   "execution_count": 74,
   "id": "emerging-flash",
   "metadata": {},
   "outputs": [],
   "source": [
    "path23 = nx.shortest_path(G, 212650634,212624944, weight='travel_time')"
   ]
  },
  {
   "cell_type": "code",
   "execution_count": 75,
   "id": "unique-philip",
   "metadata": {},
   "outputs": [
    {
     "data": {
      "text/plain": [
       "[212667644,\n",
       " 212768219,\n",
       " 212765257,\n",
       " 212624736,\n",
       " 212624737,\n",
       " 212624947,\n",
       " 212624944,\n",
       " 212624940,\n",
       " 212650634]"
      ]
     },
     "execution_count": 75,
     "metadata": {},
     "output_type": "execute_result"
    }
   ],
   "source": [
    "\n",
    "\n",
    "path12"
   ]
  },
  {
   "cell_type": "code",
   "execution_count": 76,
   "id": "improved-treasurer",
   "metadata": {},
   "outputs": [
    {
     "data": {
      "text/plain": [
       "[212768219, 212765257, 212624736, 212624737, 212624947, 212624944, 212624940]"
      ]
     },
     "execution_count": 76,
     "metadata": {},
     "output_type": "execute_result"
    }
   ],
   "source": [
    "path12[1:-1]"
   ]
  },
  {
   "cell_type": "code",
   "execution_count": 77,
   "id": "commercial-denver",
   "metadata": {},
   "outputs": [
    {
     "data": {
      "text/plain": [
       "[212650634, 212624940, 212624944]"
      ]
     },
     "execution_count": 77,
     "metadata": {},
     "output_type": "execute_result"
    }
   ],
   "source": [
    "path23"
   ]
  },
  {
   "cell_type": "code",
   "execution_count": 78,
   "id": "alleged-ireland",
   "metadata": {},
   "outputs": [
    {
     "data": {
      "text/plain": [
       "[212624940]"
      ]
     },
     "execution_count": 78,
     "metadata": {},
     "output_type": "execute_result"
    }
   ],
   "source": [
    "path23[1:-1]"
   ]
  },
  {
   "cell_type": "code",
   "execution_count": 79,
   "id": "commercial-jacob",
   "metadata": {},
   "outputs": [],
   "source": [
    "mainroute = path1+path12[1:-1]+path2+path23[1:-1]+path3"
   ]
  },
  {
   "cell_type": "code",
   "execution_count": 84,
   "id": "35b881f6",
   "metadata": {},
   "outputs": [],
   "source": [
    "mainroute=[212624947.0,\n",
    " 212768219,\n",
    " 212765257,\n",
    " 212624736,\n",
    " 212624737,\n",
    " 212624947,\n",
    " 212624944,\n",
    " 212624940,\n",
    " 212650634.0,\n",
    " 212765270,\n",
    " 212765270.0,\n",
    " 212765265,\n",
    " 212765265.0,\n",
    " 212765262,\n",
    " 212765262.0,\n",
    " 212650636,\n",
    " 212650636.0,\n",
    " 212624944.0,\n",
    " 212624940,\n",
    " 212624940.0,\n",
    " 212650634,\n",
    " 212624940,\n",
    " 212787665,\n",
    " 212787665.0,\n",
    " 212787665,\n",
    " 212787668.0,\n",
    " 212787668.0,\n",
    " 212624740,\n",
    " 212624740.0,\n",
    " 212673089,\n",
    " 212673089.0,\n",
    " 212624950,\n",
    " 212624950.0,\n",
    " 212624737,\n",
    " 212624737.0,\n",
    " 212624947,\n",
    " 212624947.0,]"
   ]
  },
  {
   "cell_type": "code",
   "execution_count": 85,
   "id": "greatest-watts",
   "metadata": {},
   "outputs": [],
   "source": [
    "mainroute1 = []\n",
    "for i in mainroute:\n",
    "    mainroute1.append(int(i))"
   ]
  },
  {
   "cell_type": "code",
   "execution_count": 81,
   "id": "certified-kingston",
   "metadata": {},
   "outputs": [],
   "source": [
    "#mainroute1 = []\n",
    "#for i in mainroute:\n",
    "#    if i != 7085465650:\n",
    "#        mainroute1.append(int(i))\n",
    "    "
   ]
  },
  {
   "cell_type": "code",
   "execution_count": 86,
   "id": "pediatric-greek",
   "metadata": {},
   "outputs": [],
   "source": [
    "lines = node_list_to_path2(G, mainroute1)"
   ]
  },
  {
   "cell_type": "code",
   "execution_count": 87,
   "id": "emerging-hudson",
   "metadata": {},
   "outputs": [],
   "source": [
    "long2 = []\n",
    "lat2 = []"
   ]
  },
  {
   "cell_type": "code",
   "execution_count": 88,
   "id": "organic-authentication",
   "metadata": {},
   "outputs": [],
   "source": [
    "for i in range(len(lines)):\n",
    "    z = list(lines[i])\n",
    "    l1 = list(list(zip(*z))[0])\n",
    "    l2 = list(list(zip(*z))[1])\n",
    "    for j in range(len(l1)):\n",
    "        long2.append(l1[j])\n",
    "        lat2.append(l2[j])"
   ]
  },
  {
   "cell_type": "code",
   "execution_count": 89,
   "id": "focused-communist",
   "metadata": {},
   "outputs": [
    {
     "data": {
      "application/vnd.plotly.v1+json": {
       "config": {
        "plotlyServerURL": "https://plot.ly"
       },
       "data": [
        {
         "lat": [
          43.1438765,
          43.1438736,
          43.1438736,
          43.1474841,
          43.1474841,
          43.147388,
          43.147388,
          43.1477942,
          43.1478732,
          43.1479886,
          43.1493243,
          43.1499787,
          43.1499787,
          43.1493243,
          43.1479886,
          43.1478732,
          43.1477942,
          43.147388,
          43.147388,
          43.1474841,
          43.1474841,
          43.1438736,
          43.1438736,
          43.1438765,
          43.1438765,
          43.1438699,
          43.1438699,
          43.1438681,
          43.1438681,
          43.1465261,
          43.1465261,
          43.1488383,
          43.1488383,
          43.1485397,
          43.1485397,
          43.1483304,
          43.1483304,
          43.146497,
          43.146497,
          43.1438699,
          43.1438699,
          43.1438681,
          43.1438681,
          43.1465261,
          43.1465261,
          43.1438681,
          43.1438681,
          43.1438699,
          43.1438699,
          43.1427982,
          43.1422334,
          43.1422334,
          43.1422345,
          43.1422345,
          43.1422357,
          43.1422357,
          43.1422355,
          43.1422355,
          43.1423406,
          43.1424266,
          43.1425066,
          43.143875,
          43.143875,
          43.1438736,
          43.1438736,
          43.1438765
         ],
         "line": {
          "color": "grey",
          "width": 4.5
         },
         "lon": [
          -77.6433538,
          -77.6445695,
          -77.6445695,
          -77.6445764,
          -77.6445764,
          -77.6448587,
          -77.6448587,
          -77.645127,
          -77.6451553,
          -77.645165,
          -77.6451596,
          -77.6451775,
          -77.6451775,
          -77.6451596,
          -77.645165,
          -77.6451553,
          -77.645127,
          -77.6448587,
          -77.6448587,
          -77.6445764,
          -77.6445764,
          -77.6445695,
          -77.6445695,
          -77.6433538,
          -77.6433538,
          -77.642125,
          -77.642125,
          -77.6407193,
          -77.6407193,
          -77.6406171,
          -77.6406171,
          -77.6405975,
          -77.6405975,
          -77.6414748,
          -77.6414748,
          -77.6420897,
          -77.6420897,
          -77.642112,
          -77.642112,
          -77.642125,
          -77.642125,
          -77.6407193,
          -77.6407193,
          -77.6406171,
          -77.6406171,
          -77.6407193,
          -77.6407193,
          -77.642125,
          -77.642125,
          -77.6421411,
          -77.6421496,
          -77.6421496,
          -77.643348,
          -77.643348,
          -77.644599,
          -77.644599,
          -77.6458712,
          -77.6458712,
          -77.6458572,
          -77.6458494,
          -77.6458444,
          -77.6458295,
          -77.6458295,
          -77.6445695,
          -77.6445695,
          -77.6433538
         ],
         "marker": {
          "size": 10
         },
         "mode": "lines",
         "name": "Path",
         "type": "scattermapbox"
        },
        {
         "lat": [
          43.1438699
         ],
         "lon": [
          -77.642125
         ],
         "marker": {
          "color": "red",
          "size": 12
         },
         "mode": "markers",
         "name": "Source",
         "type": "scattermapbox"
        },
        {
         "lat": [
          43.1438699
         ],
         "lon": [
          -77.642125
         ],
         "marker": {
          "color": "green",
          "size": 12
         },
         "mode": "markers",
         "name": "Destination",
         "type": "scattermapbox"
        }
       ],
       "layout": {
        "mapbox": {
         "center": {
          "lat": 43.145406021212125,
          "lon": -77.64341682272727
         },
         "style": "carto-darkmatter",
         "zoom": 13
        },
        "margin": {
         "b": 0,
         "l": 0,
         "r": 0,
         "t": 0
        },
        "template": {
         "data": {
          "bar": [
           {
            "error_x": {
             "color": "#2a3f5f"
            },
            "error_y": {
             "color": "#2a3f5f"
            },
            "marker": {
             "line": {
              "color": "#E5ECF6",
              "width": 0.5
             },
             "pattern": {
              "fillmode": "overlay",
              "size": 10,
              "solidity": 0.2
             }
            },
            "type": "bar"
           }
          ],
          "barpolar": [
           {
            "marker": {
             "line": {
              "color": "#E5ECF6",
              "width": 0.5
             },
             "pattern": {
              "fillmode": "overlay",
              "size": 10,
              "solidity": 0.2
             }
            },
            "type": "barpolar"
           }
          ],
          "carpet": [
           {
            "aaxis": {
             "endlinecolor": "#2a3f5f",
             "gridcolor": "white",
             "linecolor": "white",
             "minorgridcolor": "white",
             "startlinecolor": "#2a3f5f"
            },
            "baxis": {
             "endlinecolor": "#2a3f5f",
             "gridcolor": "white",
             "linecolor": "white",
             "minorgridcolor": "white",
             "startlinecolor": "#2a3f5f"
            },
            "type": "carpet"
           }
          ],
          "choropleth": [
           {
            "colorbar": {
             "outlinewidth": 0,
             "ticks": ""
            },
            "type": "choropleth"
           }
          ],
          "contour": [
           {
            "colorbar": {
             "outlinewidth": 0,
             "ticks": ""
            },
            "colorscale": [
             [
              0,
              "#0d0887"
             ],
             [
              0.1111111111111111,
              "#46039f"
             ],
             [
              0.2222222222222222,
              "#7201a8"
             ],
             [
              0.3333333333333333,
              "#9c179e"
             ],
             [
              0.4444444444444444,
              "#bd3786"
             ],
             [
              0.5555555555555556,
              "#d8576b"
             ],
             [
              0.6666666666666666,
              "#ed7953"
             ],
             [
              0.7777777777777778,
              "#fb9f3a"
             ],
             [
              0.8888888888888888,
              "#fdca26"
             ],
             [
              1,
              "#f0f921"
             ]
            ],
            "type": "contour"
           }
          ],
          "contourcarpet": [
           {
            "colorbar": {
             "outlinewidth": 0,
             "ticks": ""
            },
            "type": "contourcarpet"
           }
          ],
          "heatmap": [
           {
            "colorbar": {
             "outlinewidth": 0,
             "ticks": ""
            },
            "colorscale": [
             [
              0,
              "#0d0887"
             ],
             [
              0.1111111111111111,
              "#46039f"
             ],
             [
              0.2222222222222222,
              "#7201a8"
             ],
             [
              0.3333333333333333,
              "#9c179e"
             ],
             [
              0.4444444444444444,
              "#bd3786"
             ],
             [
              0.5555555555555556,
              "#d8576b"
             ],
             [
              0.6666666666666666,
              "#ed7953"
             ],
             [
              0.7777777777777778,
              "#fb9f3a"
             ],
             [
              0.8888888888888888,
              "#fdca26"
             ],
             [
              1,
              "#f0f921"
             ]
            ],
            "type": "heatmap"
           }
          ],
          "heatmapgl": [
           {
            "colorbar": {
             "outlinewidth": 0,
             "ticks": ""
            },
            "colorscale": [
             [
              0,
              "#0d0887"
             ],
             [
              0.1111111111111111,
              "#46039f"
             ],
             [
              0.2222222222222222,
              "#7201a8"
             ],
             [
              0.3333333333333333,
              "#9c179e"
             ],
             [
              0.4444444444444444,
              "#bd3786"
             ],
             [
              0.5555555555555556,
              "#d8576b"
             ],
             [
              0.6666666666666666,
              "#ed7953"
             ],
             [
              0.7777777777777778,
              "#fb9f3a"
             ],
             [
              0.8888888888888888,
              "#fdca26"
             ],
             [
              1,
              "#f0f921"
             ]
            ],
            "type": "heatmapgl"
           }
          ],
          "histogram": [
           {
            "marker": {
             "pattern": {
              "fillmode": "overlay",
              "size": 10,
              "solidity": 0.2
             }
            },
            "type": "histogram"
           }
          ],
          "histogram2d": [
           {
            "colorbar": {
             "outlinewidth": 0,
             "ticks": ""
            },
            "colorscale": [
             [
              0,
              "#0d0887"
             ],
             [
              0.1111111111111111,
              "#46039f"
             ],
             [
              0.2222222222222222,
              "#7201a8"
             ],
             [
              0.3333333333333333,
              "#9c179e"
             ],
             [
              0.4444444444444444,
              "#bd3786"
             ],
             [
              0.5555555555555556,
              "#d8576b"
             ],
             [
              0.6666666666666666,
              "#ed7953"
             ],
             [
              0.7777777777777778,
              "#fb9f3a"
             ],
             [
              0.8888888888888888,
              "#fdca26"
             ],
             [
              1,
              "#f0f921"
             ]
            ],
            "type": "histogram2d"
           }
          ],
          "histogram2dcontour": [
           {
            "colorbar": {
             "outlinewidth": 0,
             "ticks": ""
            },
            "colorscale": [
             [
              0,
              "#0d0887"
             ],
             [
              0.1111111111111111,
              "#46039f"
             ],
             [
              0.2222222222222222,
              "#7201a8"
             ],
             [
              0.3333333333333333,
              "#9c179e"
             ],
             [
              0.4444444444444444,
              "#bd3786"
             ],
             [
              0.5555555555555556,
              "#d8576b"
             ],
             [
              0.6666666666666666,
              "#ed7953"
             ],
             [
              0.7777777777777778,
              "#fb9f3a"
             ],
             [
              0.8888888888888888,
              "#fdca26"
             ],
             [
              1,
              "#f0f921"
             ]
            ],
            "type": "histogram2dcontour"
           }
          ],
          "mesh3d": [
           {
            "colorbar": {
             "outlinewidth": 0,
             "ticks": ""
            },
            "type": "mesh3d"
           }
          ],
          "parcoords": [
           {
            "line": {
             "colorbar": {
              "outlinewidth": 0,
              "ticks": ""
             }
            },
            "type": "parcoords"
           }
          ],
          "pie": [
           {
            "automargin": true,
            "type": "pie"
           }
          ],
          "scatter": [
           {
            "marker": {
             "colorbar": {
              "outlinewidth": 0,
              "ticks": ""
             }
            },
            "type": "scatter"
           }
          ],
          "scatter3d": [
           {
            "line": {
             "colorbar": {
              "outlinewidth": 0,
              "ticks": ""
             }
            },
            "marker": {
             "colorbar": {
              "outlinewidth": 0,
              "ticks": ""
             }
            },
            "type": "scatter3d"
           }
          ],
          "scattercarpet": [
           {
            "marker": {
             "colorbar": {
              "outlinewidth": 0,
              "ticks": ""
             }
            },
            "type": "scattercarpet"
           }
          ],
          "scattergeo": [
           {
            "marker": {
             "colorbar": {
              "outlinewidth": 0,
              "ticks": ""
             }
            },
            "type": "scattergeo"
           }
          ],
          "scattergl": [
           {
            "marker": {
             "colorbar": {
              "outlinewidth": 0,
              "ticks": ""
             }
            },
            "type": "scattergl"
           }
          ],
          "scattermapbox": [
           {
            "marker": {
             "colorbar": {
              "outlinewidth": 0,
              "ticks": ""
             }
            },
            "type": "scattermapbox"
           }
          ],
          "scatterpolar": [
           {
            "marker": {
             "colorbar": {
              "outlinewidth": 0,
              "ticks": ""
             }
            },
            "type": "scatterpolar"
           }
          ],
          "scatterpolargl": [
           {
            "marker": {
             "colorbar": {
              "outlinewidth": 0,
              "ticks": ""
             }
            },
            "type": "scatterpolargl"
           }
          ],
          "scatterternary": [
           {
            "marker": {
             "colorbar": {
              "outlinewidth": 0,
              "ticks": ""
             }
            },
            "type": "scatterternary"
           }
          ],
          "surface": [
           {
            "colorbar": {
             "outlinewidth": 0,
             "ticks": ""
            },
            "colorscale": [
             [
              0,
              "#0d0887"
             ],
             [
              0.1111111111111111,
              "#46039f"
             ],
             [
              0.2222222222222222,
              "#7201a8"
             ],
             [
              0.3333333333333333,
              "#9c179e"
             ],
             [
              0.4444444444444444,
              "#bd3786"
             ],
             [
              0.5555555555555556,
              "#d8576b"
             ],
             [
              0.6666666666666666,
              "#ed7953"
             ],
             [
              0.7777777777777778,
              "#fb9f3a"
             ],
             [
              0.8888888888888888,
              "#fdca26"
             ],
             [
              1,
              "#f0f921"
             ]
            ],
            "type": "surface"
           }
          ],
          "table": [
           {
            "cells": {
             "fill": {
              "color": "#EBF0F8"
             },
             "line": {
              "color": "white"
             }
            },
            "header": {
             "fill": {
              "color": "#C8D4E3"
             },
             "line": {
              "color": "white"
             }
            },
            "type": "table"
           }
          ]
         },
         "layout": {
          "annotationdefaults": {
           "arrowcolor": "#2a3f5f",
           "arrowhead": 0,
           "arrowwidth": 1
          },
          "autotypenumbers": "strict",
          "coloraxis": {
           "colorbar": {
            "outlinewidth": 0,
            "ticks": ""
           }
          },
          "colorscale": {
           "diverging": [
            [
             0,
             "#8e0152"
            ],
            [
             0.1,
             "#c51b7d"
            ],
            [
             0.2,
             "#de77ae"
            ],
            [
             0.3,
             "#f1b6da"
            ],
            [
             0.4,
             "#fde0ef"
            ],
            [
             0.5,
             "#f7f7f7"
            ],
            [
             0.6,
             "#e6f5d0"
            ],
            [
             0.7,
             "#b8e186"
            ],
            [
             0.8,
             "#7fbc41"
            ],
            [
             0.9,
             "#4d9221"
            ],
            [
             1,
             "#276419"
            ]
           ],
           "sequential": [
            [
             0,
             "#0d0887"
            ],
            [
             0.1111111111111111,
             "#46039f"
            ],
            [
             0.2222222222222222,
             "#7201a8"
            ],
            [
             0.3333333333333333,
             "#9c179e"
            ],
            [
             0.4444444444444444,
             "#bd3786"
            ],
            [
             0.5555555555555556,
             "#d8576b"
            ],
            [
             0.6666666666666666,
             "#ed7953"
            ],
            [
             0.7777777777777778,
             "#fb9f3a"
            ],
            [
             0.8888888888888888,
             "#fdca26"
            ],
            [
             1,
             "#f0f921"
            ]
           ],
           "sequentialminus": [
            [
             0,
             "#0d0887"
            ],
            [
             0.1111111111111111,
             "#46039f"
            ],
            [
             0.2222222222222222,
             "#7201a8"
            ],
            [
             0.3333333333333333,
             "#9c179e"
            ],
            [
             0.4444444444444444,
             "#bd3786"
            ],
            [
             0.5555555555555556,
             "#d8576b"
            ],
            [
             0.6666666666666666,
             "#ed7953"
            ],
            [
             0.7777777777777778,
             "#fb9f3a"
            ],
            [
             0.8888888888888888,
             "#fdca26"
            ],
            [
             1,
             "#f0f921"
            ]
           ]
          },
          "colorway": [
           "#636efa",
           "#EF553B",
           "#00cc96",
           "#ab63fa",
           "#FFA15A",
           "#19d3f3",
           "#FF6692",
           "#B6E880",
           "#FF97FF",
           "#FECB52"
          ],
          "font": {
           "color": "#2a3f5f"
          },
          "geo": {
           "bgcolor": "white",
           "lakecolor": "white",
           "landcolor": "#E5ECF6",
           "showlakes": true,
           "showland": true,
           "subunitcolor": "white"
          },
          "hoverlabel": {
           "align": "left"
          },
          "hovermode": "closest",
          "mapbox": {
           "style": "light"
          },
          "paper_bgcolor": "white",
          "plot_bgcolor": "#E5ECF6",
          "polar": {
           "angularaxis": {
            "gridcolor": "white",
            "linecolor": "white",
            "ticks": ""
           },
           "bgcolor": "#E5ECF6",
           "radialaxis": {
            "gridcolor": "white",
            "linecolor": "white",
            "ticks": ""
           }
          },
          "scene": {
           "xaxis": {
            "backgroundcolor": "#E5ECF6",
            "gridcolor": "white",
            "gridwidth": 2,
            "linecolor": "white",
            "showbackground": true,
            "ticks": "",
            "zerolinecolor": "white"
           },
           "yaxis": {
            "backgroundcolor": "#E5ECF6",
            "gridcolor": "white",
            "gridwidth": 2,
            "linecolor": "white",
            "showbackground": true,
            "ticks": "",
            "zerolinecolor": "white"
           },
           "zaxis": {
            "backgroundcolor": "#E5ECF6",
            "gridcolor": "white",
            "gridwidth": 2,
            "linecolor": "white",
            "showbackground": true,
            "ticks": "",
            "zerolinecolor": "white"
           }
          },
          "shapedefaults": {
           "line": {
            "color": "#2a3f5f"
           }
          },
          "ternary": {
           "aaxis": {
            "gridcolor": "white",
            "linecolor": "white",
            "ticks": ""
           },
           "baxis": {
            "gridcolor": "white",
            "linecolor": "white",
            "ticks": ""
           },
           "bgcolor": "#E5ECF6",
           "caxis": {
            "gridcolor": "white",
            "linecolor": "white",
            "ticks": ""
           }
          },
          "title": {
           "x": 0.05
          },
          "xaxis": {
           "automargin": true,
           "gridcolor": "white",
           "linecolor": "white",
           "ticks": "",
           "title": {
            "standoff": 15
           },
           "zerolinecolor": "white",
           "zerolinewidth": 2
          },
          "yaxis": {
           "automargin": true,
           "gridcolor": "white",
           "linecolor": "white",
           "ticks": "",
           "title": {
            "standoff": 15
           },
           "zerolinecolor": "white",
           "zerolinewidth": 2
          }
         }
        }
       }
      },
      "text/html": [
       "<div>                            <div id=\"50fc6a60-e3d5-4114-8c05-170ecbdb5499\" class=\"plotly-graph-div\" style=\"height:525px; width:100%;\"></div>            <script type=\"text/javascript\">                require([\"plotly\"], function(Plotly) {                    window.PLOTLYENV=window.PLOTLYENV || {};                                    if (document.getElementById(\"50fc6a60-e3d5-4114-8c05-170ecbdb5499\")) {                    Plotly.newPlot(                        \"50fc6a60-e3d5-4114-8c05-170ecbdb5499\",                        [{\"lat\":[43.1438765,43.1438736,43.1438736,43.1474841,43.1474841,43.147388,43.147388,43.1477942,43.1478732,43.1479886,43.1493243,43.1499787,43.1499787,43.1493243,43.1479886,43.1478732,43.1477942,43.147388,43.147388,43.1474841,43.1474841,43.1438736,43.1438736,43.1438765,43.1438765,43.1438699,43.1438699,43.1438681,43.1438681,43.1465261,43.1465261,43.1488383,43.1488383,43.1485397,43.1485397,43.1483304,43.1483304,43.146497,43.146497,43.1438699,43.1438699,43.1438681,43.1438681,43.1465261,43.1465261,43.1438681,43.1438681,43.1438699,43.1438699,43.1427982,43.1422334,43.1422334,43.1422345,43.1422345,43.1422357,43.1422357,43.1422355,43.1422355,43.1423406,43.1424266,43.1425066,43.143875,43.143875,43.1438736,43.1438736,43.1438765],\"line\":{\"color\":\"grey\",\"width\":4.5},\"lon\":[-77.6433538,-77.6445695,-77.6445695,-77.6445764,-77.6445764,-77.6448587,-77.6448587,-77.645127,-77.6451553,-77.645165,-77.6451596,-77.6451775,-77.6451775,-77.6451596,-77.645165,-77.6451553,-77.645127,-77.6448587,-77.6448587,-77.6445764,-77.6445764,-77.6445695,-77.6445695,-77.6433538,-77.6433538,-77.642125,-77.642125,-77.6407193,-77.6407193,-77.6406171,-77.6406171,-77.6405975,-77.6405975,-77.6414748,-77.6414748,-77.6420897,-77.6420897,-77.642112,-77.642112,-77.642125,-77.642125,-77.6407193,-77.6407193,-77.6406171,-77.6406171,-77.6407193,-77.6407193,-77.642125,-77.642125,-77.6421411,-77.6421496,-77.6421496,-77.643348,-77.643348,-77.644599,-77.644599,-77.6458712,-77.6458712,-77.6458572,-77.6458494,-77.6458444,-77.6458295,-77.6458295,-77.6445695,-77.6445695,-77.6433538],\"marker\":{\"size\":10},\"mode\":\"lines\",\"name\":\"Path\",\"type\":\"scattermapbox\"},{\"lat\":[43.1438699],\"lon\":[-77.642125],\"marker\":{\"color\":\"red\",\"size\":12},\"mode\":\"markers\",\"name\":\"Source\",\"type\":\"scattermapbox\"},{\"lat\":[43.1438699],\"lon\":[-77.642125],\"marker\":{\"color\":\"green\",\"size\":12},\"mode\":\"markers\",\"name\":\"Destination\",\"type\":\"scattermapbox\"}],                        {\"mapbox\":{\"center\":{\"lat\":43.145406021212125,\"lon\":-77.64341682272727},\"style\":\"carto-darkmatter\",\"zoom\":13},\"margin\":{\"b\":0,\"l\":0,\"r\":0,\"t\":0},\"template\":{\"data\":{\"bar\":[{\"error_x\":{\"color\":\"#2a3f5f\"},\"error_y\":{\"color\":\"#2a3f5f\"},\"marker\":{\"line\":{\"color\":\"#E5ECF6\",\"width\":0.5},\"pattern\":{\"fillmode\":\"overlay\",\"size\":10,\"solidity\":0.2}},\"type\":\"bar\"}],\"barpolar\":[{\"marker\":{\"line\":{\"color\":\"#E5ECF6\",\"width\":0.5},\"pattern\":{\"fillmode\":\"overlay\",\"size\":10,\"solidity\":0.2}},\"type\":\"barpolar\"}],\"carpet\":[{\"aaxis\":{\"endlinecolor\":\"#2a3f5f\",\"gridcolor\":\"white\",\"linecolor\":\"white\",\"minorgridcolor\":\"white\",\"startlinecolor\":\"#2a3f5f\"},\"baxis\":{\"endlinecolor\":\"#2a3f5f\",\"gridcolor\":\"white\",\"linecolor\":\"white\",\"minorgridcolor\":\"white\",\"startlinecolor\":\"#2a3f5f\"},\"type\":\"carpet\"}],\"choropleth\":[{\"colorbar\":{\"outlinewidth\":0,\"ticks\":\"\"},\"type\":\"choropleth\"}],\"contour\":[{\"colorbar\":{\"outlinewidth\":0,\"ticks\":\"\"},\"colorscale\":[[0.0,\"#0d0887\"],[0.1111111111111111,\"#46039f\"],[0.2222222222222222,\"#7201a8\"],[0.3333333333333333,\"#9c179e\"],[0.4444444444444444,\"#bd3786\"],[0.5555555555555556,\"#d8576b\"],[0.6666666666666666,\"#ed7953\"],[0.7777777777777778,\"#fb9f3a\"],[0.8888888888888888,\"#fdca26\"],[1.0,\"#f0f921\"]],\"type\":\"contour\"}],\"contourcarpet\":[{\"colorbar\":{\"outlinewidth\":0,\"ticks\":\"\"},\"type\":\"contourcarpet\"}],\"heatmap\":[{\"colorbar\":{\"outlinewidth\":0,\"ticks\":\"\"},\"colorscale\":[[0.0,\"#0d0887\"],[0.1111111111111111,\"#46039f\"],[0.2222222222222222,\"#7201a8\"],[0.3333333333333333,\"#9c179e\"],[0.4444444444444444,\"#bd3786\"],[0.5555555555555556,\"#d8576b\"],[0.6666666666666666,\"#ed7953\"],[0.7777777777777778,\"#fb9f3a\"],[0.8888888888888888,\"#fdca26\"],[1.0,\"#f0f921\"]],\"type\":\"heatmap\"}],\"heatmapgl\":[{\"colorbar\":{\"outlinewidth\":0,\"ticks\":\"\"},\"colorscale\":[[0.0,\"#0d0887\"],[0.1111111111111111,\"#46039f\"],[0.2222222222222222,\"#7201a8\"],[0.3333333333333333,\"#9c179e\"],[0.4444444444444444,\"#bd3786\"],[0.5555555555555556,\"#d8576b\"],[0.6666666666666666,\"#ed7953\"],[0.7777777777777778,\"#fb9f3a\"],[0.8888888888888888,\"#fdca26\"],[1.0,\"#f0f921\"]],\"type\":\"heatmapgl\"}],\"histogram\":[{\"marker\":{\"pattern\":{\"fillmode\":\"overlay\",\"size\":10,\"solidity\":0.2}},\"type\":\"histogram\"}],\"histogram2d\":[{\"colorbar\":{\"outlinewidth\":0,\"ticks\":\"\"},\"colorscale\":[[0.0,\"#0d0887\"],[0.1111111111111111,\"#46039f\"],[0.2222222222222222,\"#7201a8\"],[0.3333333333333333,\"#9c179e\"],[0.4444444444444444,\"#bd3786\"],[0.5555555555555556,\"#d8576b\"],[0.6666666666666666,\"#ed7953\"],[0.7777777777777778,\"#fb9f3a\"],[0.8888888888888888,\"#fdca26\"],[1.0,\"#f0f921\"]],\"type\":\"histogram2d\"}],\"histogram2dcontour\":[{\"colorbar\":{\"outlinewidth\":0,\"ticks\":\"\"},\"colorscale\":[[0.0,\"#0d0887\"],[0.1111111111111111,\"#46039f\"],[0.2222222222222222,\"#7201a8\"],[0.3333333333333333,\"#9c179e\"],[0.4444444444444444,\"#bd3786\"],[0.5555555555555556,\"#d8576b\"],[0.6666666666666666,\"#ed7953\"],[0.7777777777777778,\"#fb9f3a\"],[0.8888888888888888,\"#fdca26\"],[1.0,\"#f0f921\"]],\"type\":\"histogram2dcontour\"}],\"mesh3d\":[{\"colorbar\":{\"outlinewidth\":0,\"ticks\":\"\"},\"type\":\"mesh3d\"}],\"parcoords\":[{\"line\":{\"colorbar\":{\"outlinewidth\":0,\"ticks\":\"\"}},\"type\":\"parcoords\"}],\"pie\":[{\"automargin\":true,\"type\":\"pie\"}],\"scatter\":[{\"marker\":{\"colorbar\":{\"outlinewidth\":0,\"ticks\":\"\"}},\"type\":\"scatter\"}],\"scatter3d\":[{\"line\":{\"colorbar\":{\"outlinewidth\":0,\"ticks\":\"\"}},\"marker\":{\"colorbar\":{\"outlinewidth\":0,\"ticks\":\"\"}},\"type\":\"scatter3d\"}],\"scattercarpet\":[{\"marker\":{\"colorbar\":{\"outlinewidth\":0,\"ticks\":\"\"}},\"type\":\"scattercarpet\"}],\"scattergeo\":[{\"marker\":{\"colorbar\":{\"outlinewidth\":0,\"ticks\":\"\"}},\"type\":\"scattergeo\"}],\"scattergl\":[{\"marker\":{\"colorbar\":{\"outlinewidth\":0,\"ticks\":\"\"}},\"type\":\"scattergl\"}],\"scattermapbox\":[{\"marker\":{\"colorbar\":{\"outlinewidth\":0,\"ticks\":\"\"}},\"type\":\"scattermapbox\"}],\"scatterpolar\":[{\"marker\":{\"colorbar\":{\"outlinewidth\":0,\"ticks\":\"\"}},\"type\":\"scatterpolar\"}],\"scatterpolargl\":[{\"marker\":{\"colorbar\":{\"outlinewidth\":0,\"ticks\":\"\"}},\"type\":\"scatterpolargl\"}],\"scatterternary\":[{\"marker\":{\"colorbar\":{\"outlinewidth\":0,\"ticks\":\"\"}},\"type\":\"scatterternary\"}],\"surface\":[{\"colorbar\":{\"outlinewidth\":0,\"ticks\":\"\"},\"colorscale\":[[0.0,\"#0d0887\"],[0.1111111111111111,\"#46039f\"],[0.2222222222222222,\"#7201a8\"],[0.3333333333333333,\"#9c179e\"],[0.4444444444444444,\"#bd3786\"],[0.5555555555555556,\"#d8576b\"],[0.6666666666666666,\"#ed7953\"],[0.7777777777777778,\"#fb9f3a\"],[0.8888888888888888,\"#fdca26\"],[1.0,\"#f0f921\"]],\"type\":\"surface\"}],\"table\":[{\"cells\":{\"fill\":{\"color\":\"#EBF0F8\"},\"line\":{\"color\":\"white\"}},\"header\":{\"fill\":{\"color\":\"#C8D4E3\"},\"line\":{\"color\":\"white\"}},\"type\":\"table\"}]},\"layout\":{\"annotationdefaults\":{\"arrowcolor\":\"#2a3f5f\",\"arrowhead\":0,\"arrowwidth\":1},\"autotypenumbers\":\"strict\",\"coloraxis\":{\"colorbar\":{\"outlinewidth\":0,\"ticks\":\"\"}},\"colorscale\":{\"diverging\":[[0,\"#8e0152\"],[0.1,\"#c51b7d\"],[0.2,\"#de77ae\"],[0.3,\"#f1b6da\"],[0.4,\"#fde0ef\"],[0.5,\"#f7f7f7\"],[0.6,\"#e6f5d0\"],[0.7,\"#b8e186\"],[0.8,\"#7fbc41\"],[0.9,\"#4d9221\"],[1,\"#276419\"]],\"sequential\":[[0.0,\"#0d0887\"],[0.1111111111111111,\"#46039f\"],[0.2222222222222222,\"#7201a8\"],[0.3333333333333333,\"#9c179e\"],[0.4444444444444444,\"#bd3786\"],[0.5555555555555556,\"#d8576b\"],[0.6666666666666666,\"#ed7953\"],[0.7777777777777778,\"#fb9f3a\"],[0.8888888888888888,\"#fdca26\"],[1.0,\"#f0f921\"]],\"sequentialminus\":[[0.0,\"#0d0887\"],[0.1111111111111111,\"#46039f\"],[0.2222222222222222,\"#7201a8\"],[0.3333333333333333,\"#9c179e\"],[0.4444444444444444,\"#bd3786\"],[0.5555555555555556,\"#d8576b\"],[0.6666666666666666,\"#ed7953\"],[0.7777777777777778,\"#fb9f3a\"],[0.8888888888888888,\"#fdca26\"],[1.0,\"#f0f921\"]]},\"colorway\":[\"#636efa\",\"#EF553B\",\"#00cc96\",\"#ab63fa\",\"#FFA15A\",\"#19d3f3\",\"#FF6692\",\"#B6E880\",\"#FF97FF\",\"#FECB52\"],\"font\":{\"color\":\"#2a3f5f\"},\"geo\":{\"bgcolor\":\"white\",\"lakecolor\":\"white\",\"landcolor\":\"#E5ECF6\",\"showlakes\":true,\"showland\":true,\"subunitcolor\":\"white\"},\"hoverlabel\":{\"align\":\"left\"},\"hovermode\":\"closest\",\"mapbox\":{\"style\":\"light\"},\"paper_bgcolor\":\"white\",\"plot_bgcolor\":\"#E5ECF6\",\"polar\":{\"angularaxis\":{\"gridcolor\":\"white\",\"linecolor\":\"white\",\"ticks\":\"\"},\"bgcolor\":\"#E5ECF6\",\"radialaxis\":{\"gridcolor\":\"white\",\"linecolor\":\"white\",\"ticks\":\"\"}},\"scene\":{\"xaxis\":{\"backgroundcolor\":\"#E5ECF6\",\"gridcolor\":\"white\",\"gridwidth\":2,\"linecolor\":\"white\",\"showbackground\":true,\"ticks\":\"\",\"zerolinecolor\":\"white\"},\"yaxis\":{\"backgroundcolor\":\"#E5ECF6\",\"gridcolor\":\"white\",\"gridwidth\":2,\"linecolor\":\"white\",\"showbackground\":true,\"ticks\":\"\",\"zerolinecolor\":\"white\"},\"zaxis\":{\"backgroundcolor\":\"#E5ECF6\",\"gridcolor\":\"white\",\"gridwidth\":2,\"linecolor\":\"white\",\"showbackground\":true,\"ticks\":\"\",\"zerolinecolor\":\"white\"}},\"shapedefaults\":{\"line\":{\"color\":\"#2a3f5f\"}},\"ternary\":{\"aaxis\":{\"gridcolor\":\"white\",\"linecolor\":\"white\",\"ticks\":\"\"},\"baxis\":{\"gridcolor\":\"white\",\"linecolor\":\"white\",\"ticks\":\"\"},\"bgcolor\":\"#E5ECF6\",\"caxis\":{\"gridcolor\":\"white\",\"linecolor\":\"white\",\"ticks\":\"\"}},\"title\":{\"x\":0.05},\"xaxis\":{\"automargin\":true,\"gridcolor\":\"white\",\"linecolor\":\"white\",\"ticks\":\"\",\"title\":{\"standoff\":15},\"zerolinecolor\":\"white\",\"zerolinewidth\":2},\"yaxis\":{\"automargin\":true,\"gridcolor\":\"white\",\"linecolor\":\"white\",\"ticks\":\"\",\"title\":{\"standoff\":15},\"zerolinecolor\":\"white\",\"zerolinewidth\":2}}}},                        {\"responsive\": true}                    ).then(function(){\n",
       "                            \n",
       "var gd = document.getElementById('50fc6a60-e3d5-4114-8c05-170ecbdb5499');\n",
       "var x = new MutationObserver(function (mutations, observer) {{\n",
       "        var display = window.getComputedStyle(gd).display;\n",
       "        if (!display || display === 'none') {{\n",
       "            console.log([gd, 'removed!']);\n",
       "            Plotly.purge(gd);\n",
       "            observer.disconnect();\n",
       "        }}\n",
       "}});\n",
       "\n",
       "// Listen for the removal of the full notebook cells\n",
       "var notebookContainer = gd.closest('#notebook-container');\n",
       "if (notebookContainer) {{\n",
       "    x.observe(notebookContainer, {childList: true});\n",
       "}}\n",
       "\n",
       "// Listen for the clearing of the current output cell\n",
       "var outputEl = gd.closest('.output');\n",
       "if (outputEl) {{\n",
       "    x.observe(outputEl, {childList: true});\n",
       "}}\n",
       "\n",
       "                        })                };                });            </script>        </div>"
      ]
     },
     "metadata": {},
     "output_type": "display_data"
    }
   ],
   "source": [
    "plot_path(lat2, long2, origin_point, destination_point)"
   ]
  },
  {
   "cell_type": "code",
   "execution_count": null,
   "id": "convenient-finland",
   "metadata": {},
   "outputs": [],
   "source": []
  },
  {
   "cell_type": "code",
   "execution_count": null,
   "id": "collective-straight",
   "metadata": {},
   "outputs": [],
   "source": []
  }
 ],
 "metadata": {
  "kernelspec": {
   "display_name": "Python 3 (ipykernel)",
   "language": "python",
   "name": "python3"
  },
  "language_info": {
   "codemirror_mode": {
    "name": "ipython",
    "version": 3
   },
   "file_extension": ".py",
   "mimetype": "text/x-python",
   "name": "python",
   "nbconvert_exporter": "python",
   "pygments_lexer": "ipython3",
   "version": "3.9.7"
  }
 },
 "nbformat": 4,
 "nbformat_minor": 5
}
