{
 "cells": [
  {
   "cell_type": "code",
   "execution_count": 28,
   "id": "continent-office",
   "metadata": {},
   "outputs": [],
   "source": [
    "import osmnx as ox\n",
    "import matplotlib.pyplot as plt\n",
    "import pandas as pd\n",
    "from geopy import distance\n",
    "import requests\n",
    "import json\n",
    "import datetime\n",
    "import math\n",
    "import itertools\n",
    "import numpy as np\n",
    "import networkx as nx\n",
    "import plotly.graph_objects as go\n",
    "from pulp import *\n",
    "import seaborn as sn\n",
    "from ortools.constraint_solver import routing_enums_pb2\n",
    "from ortools.constraint_solver import pywrapcp\n",
    "import random"
   ]
  },
  {
   "cell_type": "code",
   "execution_count": 29,
   "id": "neutral-turning",
   "metadata": {},
   "outputs": [
    {
     "data": {
      "image/png": "[encoded data removed]",
      "text/plain": [
       "<Figure size 576x576 with 1 Axes>"
      ]
     },
     "metadata": {},
     "output_type": "display_data"
    },
    {
     "data": {
      "application/vnd.plotly.v1+json": {
       "config": {
        "plotlyServerURL": "https://plot.ly"
       },
       "data": [
        {
         "lat": [
          35.568139,
          35.5682083,
          35.569225,
          35.5696339,
          35.5697011,
          35.5697011,
          35.5697471,
          35.5698197,
          35.5700451,
          35.5701717,
          35.5701871,
          35.5702227,
          35.5702227,
          35.570155,
          35.5694491,
          35.5694491,
          35.5694787,
          35.5697,
          35.569923,
          35.5699905,
          35.57004,
          35.57004,
          35.569975,
          35.5699388,
          35.5698645,
          35.5697497,
          35.569653,
          35.5695668,
          35.5687103,
          35.5685803,
          35.5684931,
          35.5682114,
          35.568081,
          35.5677659,
          35.567541,
          35.5673849,
          35.5672076,
          35.567095,
          35.5669112,
          35.5668394,
          35.5667274,
          35.5666292,
          35.5665036,
          35.5664715,
          35.5664715,
          35.5665398,
          35.5680563,
          35.568139
         ],
         "line": {
          "color": "grey",
          "width": 4.5
         },
         "lon": [
          -78.813101,
          -78.8131413,
          -78.813733,
          -78.8140689,
          -78.8141241,
          -78.8141241,
          -78.8140532,
          -78.8139415,
          -78.8135851,
          -78.8133389,
          -78.8132983,
          -78.8132046,
          -78.8132046,
          -78.8131627,
          -78.8127255,
          -78.8127255,
          -78.8126568,
          -78.812144,
          -78.81179,
          -78.8117086,
          -78.811649,
          -78.811649,
          -78.8115591,
          -78.8115091,
          -78.8114172,
          -78.8113384,
          -78.811304,
          -78.8112847,
          -78.8113299,
          -78.8113106,
          -78.8112715,
          -78.811118,
          -78.811065,
          -78.8110191,
          -78.8109834,
          -78.8109974,
          -78.8110578,
          -78.811111,
          -78.8112608,
          -78.811355,
          -78.8115268,
          -78.8117489,
          -78.8120781,
          -78.8121623,
          -78.8121623,
          -78.8122008,
          -78.8130545,
          -78.813101
         ],
         "marker": {
          "size": 10
         },
         "mode": "lines",
         "name": "Path",
         "type": "scattermapbox"
        },
        {
         "lat": [
          35.568139
         ],
         "lon": [
          -78.813101
         ],
         "marker": {
          "color": "red",
          "size": 12
         },
         "mode": "markers",
         "name": "Source",
         "type": "scattermapbox"
        },
        {
         "lat": [
          35.568139
         ],
         "lon": [
          -78.813101
         ],
         "marker": {
          "color": "green",
          "size": 12
         },
         "mode": "markers",
         "name": "Destination",
         "type": "scattermapbox"
        }
       ],
       "layout": {
        "mapbox": {
         "center": {
          "lat": 35.56875743958333,
          "lon": -78.812238675
         },
         "style": "carto-darkmatter",
         "zoom": 13
        },
        "margin": {
         "b": 0,
         "l": 0,
         "r": 0,
         "t": 0
        },
        "template": {
         "data": {
          "bar": [
           {
            "error_x": {
             "color": "#2a3f5f"
            },
            "error_y": {
             "color": "#2a3f5f"
            },
            "marker": {
             "line": {
              "color": "#E5ECF6",
              "width": 0.5
             }
            },
            "type": "bar"
           }
          ],
          "barpolar": [
           {
            "marker": {
             "line": {
              "color": "#E5ECF6",
              "width": 0.5
             }
            },
            "type": "barpolar"
           }
          ],
          "carpet": [
           {
            "aaxis": {
             "endlinecolor": "#2a3f5f",
             "gridcolor": "white",
             "linecolor": "white",
             "minorgridcolor": "white",
             "startlinecolor": "#2a3f5f"
            },
            "baxis": {
             "endlinecolor": "#2a3f5f",
             "gridcolor": "white",
             "linecolor": "white",
             "minorgridcolor": "white",
             "startlinecolor": "#2a3f5f"
            },
            "type": "carpet"
           }
          ],
          "choropleth": [
           {
            "colorbar": {
             "outlinewidth": 0,
             "ticks": ""
            },
            "type": "choropleth"
           }
          ],
          "contour": [
           {
            "colorbar": {
             "outlinewidth": 0,
             "ticks": ""
            },
            "colorscale": [
             [
              0,
              "#0d0887"
             ],
             [
              0.1111111111111111,
              "#46039f"
             ],
             [
              0.2222222222222222,
              "#7201a8"
             ],
             [
              0.3333333333333333,
              "#9c179e"
             ],
             [
              0.4444444444444444,
              "#bd3786"
             ],
             [
              0.5555555555555556,
              "#d8576b"
             ],
             [
              0.6666666666666666,
              "#ed7953"
             ],
             [
              0.7777777777777778,
              "#fb9f3a"
             ],
             [
              0.8888888888888888,
              "#fdca26"
             ],
             [
              1,
              "#f0f921"
             ]
            ],
            "type": "contour"
           }
          ],
          "contourcarpet": [
           {
            "colorbar": {
             "outlinewidth": 0,
             "ticks": ""
            },
            "type": "contourcarpet"
           }
          ],
          "heatmap": [
           {
            "colorbar": {
             "outlinewidth": 0,
             "ticks": ""
            },
            "colorscale": [
             [
              0,
              "#0d0887"
             ],
             [
              0.1111111111111111,
              "#46039f"
             ],
             [
              0.2222222222222222,
              "#7201a8"
             ],
             [
              0.3333333333333333,
              "#9c179e"
             ],
             [
              0.4444444444444444,
              "#bd3786"
             ],
             [
              0.5555555555555556,
              "#d8576b"
             ],
             [
              0.6666666666666666,
              "#ed7953"
             ],
             [
              0.7777777777777778,
              "#fb9f3a"
             ],
             [
              0.8888888888888888,
              "#fdca26"
             ],
             [
              1,
              "#f0f921"
             ]
            ],
            "type": "heatmap"
           }
          ],
          "heatmapgl": [
           {
            "colorbar": {
             "outlinewidth": 0,
             "ticks": ""
            },
            "colorscale": [
             [
              0,
              "#0d0887"
             ],
             [
              0.1111111111111111,
              "#46039f"
             ],
             [
              0.2222222222222222,
              "#7201a8"
             ],
             [
              0.3333333333333333,
              "#9c179e"
             ],
             [
              0.4444444444444444,
              "#bd3786"
             ],
             [
              0.5555555555555556,
              "#d8576b"
             ],
             [
              0.6666666666666666,
              "#ed7953"
             ],
             [
              0.7777777777777778,
              "#fb9f3a"
             ],
             [
              0.8888888888888888,
              "#fdca26"
             ],
             [
              1,
              "#f0f921"
             ]
            ],
            "type": "heatmapgl"
           }
          ],
          "histogram": [
           {
            "marker": {
             "colorbar": {
              "outlinewidth": 0,
              "ticks": ""
             }
            },
            "type": "histogram"
           }
          ],
          "histogram2d": [
           {
            "colorbar": {
             "outlinewidth": 0,
             "ticks": ""
            },
            "colorscale": [
             [
              0,
              "#0d0887"
             ],
             [
              0.1111111111111111,
              "#46039f"
             ],
             [
              0.2222222222222222,
              "#7201a8"
             ],
             [
              0.3333333333333333,
              "#9c179e"
             ],
             [
              0.4444444444444444,
              "#bd3786"
             ],
             [
              0.5555555555555556,
              "#d8576b"
             ],
             [
              0.6666666666666666,
              "#ed7953"
             ],
             [
              0.7777777777777778,
              "#fb9f3a"
             ],
             [
              0.8888888888888888,
              "#fdca26"
             ],
             [
              1,
              "#f0f921"
             ]
            ],
            "type": "histogram2d"
           }
          ],
          "histogram2dcontour": [
           {
            "colorbar": {
             "outlinewidth": 0,
             "ticks": ""
            },
            "colorscale": [
             [
              0,
              "#0d0887"
             ],
             [
              0.1111111111111111,
              "#46039f"
             ],
             [
              0.2222222222222222,
              "#7201a8"
             ],
             [
              0.3333333333333333,
              "#9c179e"
             ],
             [
              0.4444444444444444,
              "#bd3786"
             ],
             [
              0.5555555555555556,
              "#d8576b"
             ],
             [
              0.6666666666666666,
              "#ed7953"
             ],
             [
              0.7777777777777778,
              "#fb9f3a"
             ],
             [
              0.8888888888888888,
              "#fdca26"
             ],
             [
              1,
              "#f0f921"
             ]
            ],
            "type": "histogram2dcontour"
           }
          ],
          "mesh3d": [
           {
            "colorbar": {
             "outlinewidth": 0,
             "ticks": ""
            },
            "type": "mesh3d"
           }
          ],
          "parcoords": [
           {
            "line": {
             "colorbar": {
              "outlinewidth": 0,
              "ticks": ""
             }
            },
            "type": "parcoords"
           }
          ],
          "pie": [
           {
            "automargin": true,
            "type": "pie"
           }
          ],
          "scatter": [
           {
            "marker": {
             "colorbar": {
              "outlinewidth": 0,
              "ticks": ""
             }
            },
            "type": "scatter"
           }
          ],
          "scatter3d": [
           {
            "line": {
             "colorbar": {
              "outlinewidth": 0,
              "ticks": ""
             }
            },
            "marker": {
             "colorbar": {
              "outlinewidth": 0,
              "ticks": ""
             }
            },
            "type": "scatter3d"
           }
          ],
          "scattercarpet": [
           {
            "marker": {
             "colorbar": {
              "outlinewidth": 0,
              "ticks": ""
             }
            },
            "type": "scattercarpet"
           }
          ],
          "scattergeo": [
           {
            "marker": {
             "colorbar": {
              "outlinewidth": 0,
              "ticks": ""
             }
            },
            "type": "scattergeo"
           }
          ],
          "scattergl": [
           {
            "marker": {
             "colorbar": {
              "outlinewidth": 0,
              "ticks": ""
             }
            },
            "type": "scattergl"
           }
          ],
          "scattermapbox": [
           {
            "marker": {
             "colorbar": {
              "outlinewidth": 0,
              "ticks": ""
             }
            },
            "type": "scattermapbox"
           }
          ],
          "scatterpolar": [
           {
            "marker": {
             "colorbar": {
              "outlinewidth": 0,
              "ticks": ""
             }
            },
            "type": "scatterpolar"
           }
          ],
          "scatterpolargl": [
           {
            "marker": {
             "colorbar": {
              "outlinewidth": 0,
              "ticks": ""
             }
            },
            "type": "scatterpolargl"
           }
          ],
          "scatterternary": [
           {
            "marker": {
             "colorbar": {
              "outlinewidth": 0,
              "ticks": ""
             }
            },
            "type": "scatterternary"
           }
          ],
          "surface": [
           {
            "colorbar": {
             "outlinewidth": 0,
             "ticks": ""
            },
            "colorscale": [
             [
              0,
              "#0d0887"
             ],
             [
              0.1111111111111111,
              "#46039f"
             ],
             [
              0.2222222222222222,
              "#7201a8"
             ],
             [
              0.3333333333333333,
              "#9c179e"
             ],
             [
              0.4444444444444444,
              "#bd3786"
             ],
             [
              0.5555555555555556,
              "#d8576b"
             ],
             [
              0.6666666666666666,
              "#ed7953"
             ],
             [
              0.7777777777777778,
              "#fb9f3a"
             ],
             [
              0.8888888888888888,
              "#fdca26"
             ],
             [
              1,
              "#f0f921"
             ]
            ],
            "type": "surface"
           }
          ],
          "table": [
           {
            "cells": {
             "fill": {
              "color": "#EBF0F8"
             },
             "line": {
              "color": "white"
             }
            },
            "header": {
             "fill": {
              "color": "#C8D4E3"
             },
             "line": {
              "color": "white"
             }
            },
            "type": "table"
           }
          ]
         },
         "layout": {
          "annotationdefaults": {
           "arrowcolor": "#2a3f5f",
           "arrowhead": 0,
           "arrowwidth": 1
          },
          "autotypenumbers": "strict",
          "coloraxis": {
           "colorbar": {
            "outlinewidth": 0,
            "ticks": ""
           }
          },
          "colorscale": {
           "diverging": [
            [
             0,
             "#8e0152"
            ],
            [
             0.1,
             "#c51b7d"
            ],
            [
             0.2,
             "#de77ae"
            ],
            [
             0.3,
             "#f1b6da"
            ],
            [
             0.4,
             "#fde0ef"
            ],
            [
             0.5,
             "#f7f7f7"
            ],
            [
             0.6,
             "#e6f5d0"
            ],
            [
             0.7,
             "#b8e186"
            ],
            [
             0.8,
             "#7fbc41"
            ],
            [
             0.9,
             "#4d9221"
            ],
            [
             1,
             "#276419"
            ]
           ],
           "sequential": [
            [
             0,
             "#0d0887"
            ],
            [
             0.1111111111111111,
             "#46039f"
            ],
            [
             0.2222222222222222,
             "#7201a8"
            ],
            [
             0.3333333333333333,
             "#9c179e"
            ],
            [
             0.4444444444444444,
             "#bd3786"
            ],
            [
             0.5555555555555556,
             "#d8576b"
            ],
            [
             0.6666666666666666,
             "#ed7953"
            ],
            [
             0.7777777777777778,
             "#fb9f3a"
            ],
            [
             0.8888888888888888,
             "#fdca26"
            ],
            [
             1,
             "#f0f921"
            ]
           ],
           "sequentialminus": [
            [
             0,
             "#0d0887"
            ],
            [
             0.1111111111111111,
             "#46039f"
            ],
            [
             0.2222222222222222,
             "#7201a8"
            ],
            [
             0.3333333333333333,
             "#9c179e"
            ],
            [
             0.4444444444444444,
             "#bd3786"
            ],
            [
             0.5555555555555556,
             "#d8576b"
            ],
            [
             0.6666666666666666,
             "#ed7953"
            ],
            [
             0.7777777777777778,
             "#fb9f3a"
            ],
            [
             0.8888888888888888,
             "#fdca26"
            ],
            [
             1,
             "#f0f921"
            ]
           ]
          },
          "colorway": [
           "#636efa",
           "#EF553B",
           "#00cc96",
           "#ab63fa",
           "#FFA15A",
           "#19d3f3",
           "#FF6692",
           "#B6E880",
           "#FF97FF",
           "#FECB52"
          ],
          "font": {
           "color": "#2a3f5f"
          },
          "geo": {
           "bgcolor": "white",
           "lakecolor": "white",
           "landcolor": "#E5ECF6",
           "showlakes": true,
           "showland": true,
           "subunitcolor": "white"
          },
          "hoverlabel": {
           "align": "left"
          },
          "hovermode": "closest",
          "mapbox": {
           "style": "light"
          },
          "paper_bgcolor": "white",
          "plot_bgcolor": "#E5ECF6",
          "polar": {
           "angularaxis": {
            "gridcolor": "white",
            "linecolor": "white",
            "ticks": ""
           },
           "bgcolor": "#E5ECF6",
           "radialaxis": {
            "gridcolor": "white",
            "linecolor": "white",
            "ticks": ""
           }
          },
          "scene": {
           "xaxis": {
            "backgroundcolor": "#E5ECF6",
            "gridcolor": "white",
            "gridwidth": 2,
            "linecolor": "white",
            "showbackground": true,
            "ticks": "",
            "zerolinecolor": "white"
           },
           "yaxis": {
            "backgroundcolor": "#E5ECF6",
            "gridcolor": "white",
            "gridwidth": 2,
            "linecolor": "white",
            "showbackground": true,
            "ticks": "",
            "zerolinecolor": "white"
           },
           "zaxis": {
            "backgroundcolor": "#E5ECF6",
            "gridcolor": "white",
            "gridwidth": 2,
            "linecolor": "white",
            "showbackground": true,
            "ticks": "",
            "zerolinecolor": "white"
           }
          },
          "shapedefaults": {
           "line": {
            "color": "#2a3f5f"
           }
          },
          "ternary": {
           "aaxis": {
            "gridcolor": "white",
            "linecolor": "white",
            "ticks": ""
           },
           "baxis": {
            "gridcolor": "white",
            "linecolor": "white",
            "ticks": ""
           },
           "bgcolor": "#E5ECF6",
           "caxis": {
            "gridcolor": "white",
            "linecolor": "white",
            "ticks": ""
           }
          },
          "title": {
           "x": 0.05
          },
          "xaxis": {
           "automargin": true,
           "gridcolor": "white",
           "linecolor": "white",
           "ticks": "",
           "title": {
            "standoff": 15
           },
           "zerolinecolor": "white",
           "zerolinewidth": 2
          },
          "yaxis": {
           "automargin": true,
           "gridcolor": "white",
           "linecolor": "white",
           "ticks": "",
           "title": {
            "standoff": 15
           },
           "zerolinecolor": "white",
           "zerolinewidth": 2
          }
         }
        }
       }
      },
      "text/html": [
       "<div>                            <div id=\"ab5d82ea-2aa4-4ebb-88ee-d1feb8ad5c21\" class=\"plotly-graph-div\" style=\"height:525px; width:100%;\"></div>            <script type=\"text/javascript\">                require([\"plotly\"], function(Plotly) {                    window.PLOTLYENV=window.PLOTLYENV || {};                                    if (document.getElementById(\"ab5d82ea-2aa4-4ebb-88ee-d1feb8ad5c21\")) {                    Plotly.newPlot(                        \"ab5d82ea-2aa4-4ebb-88ee-d1feb8ad5c21\",                        [{\"lat\": [35.568139, 35.5682083, 35.569225, 35.5696339, 35.5697011, 35.5697011, 35.5697471, 35.5698197, 35.5700451, 35.5701717, 35.5701871, 35.5702227, 35.5702227, 35.570155, 35.5694491, 35.5694491, 35.5694787, 35.5697, 35.569923, 35.5699905, 35.57004, 35.57004, 35.569975, 35.5699388, 35.5698645, 35.5697497, 35.569653, 35.5695668, 35.5687103, 35.5685803, 35.5684931, 35.5682114, 35.568081, 35.5677659, 35.567541, 35.5673849, 35.5672076, 35.567095, 35.5669112, 35.5668394, 35.5667274, 35.5666292, 35.5665036, 35.5664715, 35.5664715, 35.5665398, 35.5680563, 35.568139], \"line\": {\"color\": \"grey\", \"width\": 4.5}, \"lon\": [-78.813101, -78.8131413, -78.813733, -78.8140689, -78.8141241, -78.8141241, -78.8140532, -78.8139415, -78.8135851, -78.8133389, -78.8132983, -78.8132046, -78.8132046, -78.8131627, -78.8127255, -78.8127255, -78.8126568, -78.812144, -78.81179, -78.8117086, -78.811649, -78.811649, -78.8115591, -78.8115091, -78.8114172, -78.8113384, -78.811304, -78.8112847, -78.8113299, -78.8113106, -78.8112715, -78.811118, -78.811065, -78.8110191, -78.8109834, -78.8109974, -78.8110578, -78.811111, -78.8112608, -78.811355, -78.8115268, -78.8117489, -78.8120781, -78.8121623, -78.8121623, -78.8122008, -78.8130545, -78.813101], \"marker\": {\"size\": 10}, \"mode\": \"lines\", \"name\": \"Path\", \"type\": \"scattermapbox\"}, {\"lat\": [35.568139], \"lon\": [-78.813101], \"marker\": {\"color\": \"red\", \"size\": 12}, \"mode\": \"markers\", \"name\": \"Source\", \"type\": \"scattermapbox\"}, {\"lat\": [35.568139], \"lon\": [-78.813101], \"marker\": {\"color\": \"green\", \"size\": 12}, \"mode\": \"markers\", \"name\": \"Destination\", \"type\": \"scattermapbox\"}],                        {\"mapbox\": {\"center\": {\"lat\": 35.56875743958333, \"lon\": -78.812238675}, \"style\": \"carto-darkmatter\", \"zoom\": 13}, \"margin\": {\"b\": 0, \"l\": 0, \"r\": 0, \"t\": 0}, \"template\": {\"data\": {\"bar\": [{\"error_x\": {\"color\": \"#2a3f5f\"}, \"error_y\": {\"color\": \"#2a3f5f\"}, \"marker\": {\"line\": {\"color\": \"#E5ECF6\", \"width\": 0.5}}, \"type\": \"bar\"}], \"barpolar\": [{\"marker\": {\"line\": {\"color\": \"#E5ECF6\", \"width\": 0.5}}, \"type\": \"barpolar\"}], \"carpet\": [{\"aaxis\": {\"endlinecolor\": \"#2a3f5f\", \"gridcolor\": \"white\", \"linecolor\": \"white\", \"minorgridcolor\": \"white\", \"startlinecolor\": \"#2a3f5f\"}, \"baxis\": {\"endlinecolor\": \"#2a3f5f\", \"gridcolor\": \"white\", \"linecolor\": \"white\", \"minorgridcolor\": \"white\", \"startlinecolor\": \"#2a3f5f\"}, \"type\": \"carpet\"}], \"choropleth\": [{\"colorbar\": {\"outlinewidth\": 0, \"ticks\": \"\"}, \"type\": \"choropleth\"}], \"contour\": [{\"colorbar\": {\"outlinewidth\": 0, \"ticks\": \"\"}, \"colorscale\": [[0.0, \"#0d0887\"], [0.1111111111111111, \"#46039f\"], [0.2222222222222222, \"#7201a8\"], [0.3333333333333333, \"#9c179e\"], [0.4444444444444444, \"#bd3786\"], [0.5555555555555556, \"#d8576b\"], [0.6666666666666666, \"#ed7953\"], [0.7777777777777778, \"#fb9f3a\"], [0.8888888888888888, \"#fdca26\"], [1.0, \"#f0f921\"]], \"type\": \"contour\"}], \"contourcarpet\": [{\"colorbar\": {\"outlinewidth\": 0, \"ticks\": \"\"}, \"type\": \"contourcarpet\"}], \"heatmap\": [{\"colorbar\": {\"outlinewidth\": 0, \"ticks\": \"\"}, \"colorscale\": [[0.0, \"#0d0887\"], [0.1111111111111111, \"#46039f\"], [0.2222222222222222, \"#7201a8\"], [0.3333333333333333, \"#9c179e\"], [0.4444444444444444, \"#bd3786\"], [0.5555555555555556, \"#d8576b\"], [0.6666666666666666, \"#ed7953\"], [0.7777777777777778, \"#fb9f3a\"], [0.8888888888888888, \"#fdca26\"], [1.0, \"#f0f921\"]], \"type\": \"heatmap\"}], \"heatmapgl\": [{\"colorbar\": {\"outlinewidth\": 0, \"ticks\": \"\"}, \"colorscale\": [[0.0, \"#0d0887\"], [0.1111111111111111, \"#46039f\"], [0.2222222222222222, \"#7201a8\"], [0.3333333333333333, \"#9c179e\"], [0.4444444444444444, \"#bd3786\"], [0.5555555555555556, \"#d8576b\"], [0.6666666666666666, \"#ed7953\"], [0.7777777777777778, \"#fb9f3a\"], [0.8888888888888888, \"#fdca26\"], [1.0, \"#f0f921\"]], \"type\": \"heatmapgl\"}], \"histogram\": [{\"marker\": {\"colorbar\": {\"outlinewidth\": 0, \"ticks\": \"\"}}, \"type\": \"histogram\"}], \"histogram2d\": [{\"colorbar\": {\"outlinewidth\": 0, \"ticks\": \"\"}, \"colorscale\": [[0.0, \"#0d0887\"], [0.1111111111111111, \"#46039f\"], [0.2222222222222222, \"#7201a8\"], [0.3333333333333333, \"#9c179e\"], [0.4444444444444444, \"#bd3786\"], [0.5555555555555556, \"#d8576b\"], [0.6666666666666666, \"#ed7953\"], [0.7777777777777778, \"#fb9f3a\"], [0.8888888888888888, \"#fdca26\"], [1.0, \"#f0f921\"]], \"type\": \"histogram2d\"}], \"histogram2dcontour\": [{\"colorbar\": {\"outlinewidth\": 0, \"ticks\": \"\"}, \"colorscale\": [[0.0, \"#0d0887\"], [0.1111111111111111, \"#46039f\"], [0.2222222222222222, \"#7201a8\"], [0.3333333333333333, \"#9c179e\"], [0.4444444444444444, \"#bd3786\"], [0.5555555555555556, \"#d8576b\"], [0.6666666666666666, \"#ed7953\"], [0.7777777777777778, \"#fb9f3a\"], [0.8888888888888888, \"#fdca26\"], [1.0, \"#f0f921\"]], \"type\": \"histogram2dcontour\"}], \"mesh3d\": [{\"colorbar\": {\"outlinewidth\": 0, \"ticks\": \"\"}, \"type\": \"mesh3d\"}], \"parcoords\": [{\"line\": {\"colorbar\": {\"outlinewidth\": 0, \"ticks\": \"\"}}, \"type\": \"parcoords\"}], \"pie\": [{\"automargin\": true, \"type\": \"pie\"}], \"scatter\": [{\"marker\": {\"colorbar\": {\"outlinewidth\": 0, \"ticks\": \"\"}}, \"type\": \"scatter\"}], \"scatter3d\": [{\"line\": {\"colorbar\": {\"outlinewidth\": 0, \"ticks\": \"\"}}, \"marker\": {\"colorbar\": {\"outlinewidth\": 0, \"ticks\": \"\"}}, \"type\": \"scatter3d\"}], \"scattercarpet\": [{\"marker\": {\"colorbar\": {\"outlinewidth\": 0, \"ticks\": \"\"}}, \"type\": \"scattercarpet\"}], \"scattergeo\": [{\"marker\": {\"colorbar\": {\"outlinewidth\": 0, \"ticks\": \"\"}}, \"type\": \"scattergeo\"}], \"scattergl\": [{\"marker\": {\"colorbar\": {\"outlinewidth\": 0, \"ticks\": \"\"}}, \"type\": \"scattergl\"}], \"scattermapbox\": [{\"marker\": {\"colorbar\": {\"outlinewidth\": 0, \"ticks\": \"\"}}, \"type\": \"scattermapbox\"}], \"scatterpolar\": [{\"marker\": {\"colorbar\": {\"outlinewidth\": 0, \"ticks\": \"\"}}, \"type\": \"scatterpolar\"}], \"scatterpolargl\": [{\"marker\": {\"colorbar\": {\"outlinewidth\": 0, \"ticks\": \"\"}}, \"type\": \"scatterpolargl\"}], \"scatterternary\": [{\"marker\": {\"colorbar\": {\"outlinewidth\": 0, \"ticks\": \"\"}}, \"type\": \"scatterternary\"}], \"surface\": [{\"colorbar\": {\"outlinewidth\": 0, \"ticks\": \"\"}, \"colorscale\": [[0.0, \"#0d0887\"], [0.1111111111111111, \"#46039f\"], [0.2222222222222222, \"#7201a8\"], [0.3333333333333333, \"#9c179e\"], [0.4444444444444444, \"#bd3786\"], [0.5555555555555556, \"#d8576b\"], [0.6666666666666666, \"#ed7953\"], [0.7777777777777778, \"#fb9f3a\"], [0.8888888888888888, \"#fdca26\"], [1.0, \"#f0f921\"]], \"type\": \"surface\"}], \"table\": [{\"cells\": {\"fill\": {\"color\": \"#EBF0F8\"}, \"line\": {\"color\": \"white\"}}, \"header\": {\"fill\": {\"color\": \"#C8D4E3\"}, \"line\": {\"color\": \"white\"}}, \"type\": \"table\"}]}, \"layout\": {\"annotationdefaults\": {\"arrowcolor\": \"#2a3f5f\", \"arrowhead\": 0, \"arrowwidth\": 1}, \"autotypenumbers\": \"strict\", \"coloraxis\": {\"colorbar\": {\"outlinewidth\": 0, \"ticks\": \"\"}}, \"colorscale\": {\"diverging\": [[0, \"#8e0152\"], [0.1, \"#c51b7d\"], [0.2, \"#de77ae\"], [0.3, \"#f1b6da\"], [0.4, \"#fde0ef\"], [0.5, \"#f7f7f7\"], [0.6, \"#e6f5d0\"], [0.7, \"#b8e186\"], [0.8, \"#7fbc41\"], [0.9, \"#4d9221\"], [1, \"#276419\"]], \"sequential\": [[0.0, \"#0d0887\"], [0.1111111111111111, \"#46039f\"], [0.2222222222222222, \"#7201a8\"], [0.3333333333333333, \"#9c179e\"], [0.4444444444444444, \"#bd3786\"], [0.5555555555555556, \"#d8576b\"], [0.6666666666666666, \"#ed7953\"], [0.7777777777777778, \"#fb9f3a\"], [0.8888888888888888, \"#fdca26\"], [1.0, \"#f0f921\"]], \"sequentialminus\": [[0.0, \"#0d0887\"], [0.1111111111111111, \"#46039f\"], [0.2222222222222222, \"#7201a8\"], [0.3333333333333333, \"#9c179e\"], [0.4444444444444444, \"#bd3786\"], [0.5555555555555556, \"#d8576b\"], [0.6666666666666666, \"#ed7953\"], [0.7777777777777778, \"#fb9f3a\"], [0.8888888888888888, \"#fdca26\"], [1.0, \"#f0f921\"]]}, \"colorway\": [\"#636efa\", \"#EF553B\", \"#00cc96\", \"#ab63fa\", \"#FFA15A\", \"#19d3f3\", \"#FF6692\", \"#B6E880\", \"#FF97FF\", \"#FECB52\"], \"font\": {\"color\": \"#2a3f5f\"}, \"geo\": {\"bgcolor\": \"white\", \"lakecolor\": \"white\", \"landcolor\": \"#E5ECF6\", \"showlakes\": true, \"showland\": true, \"subunitcolor\": \"white\"}, \"hoverlabel\": {\"align\": \"left\"}, \"hovermode\": \"closest\", \"mapbox\": {\"style\": \"light\"}, \"paper_bgcolor\": \"white\", \"plot_bgcolor\": \"#E5ECF6\", \"polar\": {\"angularaxis\": {\"gridcolor\": \"white\", \"linecolor\": \"white\", \"ticks\": \"\"}, \"bgcolor\": \"#E5ECF6\", \"radialaxis\": {\"gridcolor\": \"white\", \"linecolor\": \"white\", \"ticks\": \"\"}}, \"scene\": {\"xaxis\": {\"backgroundcolor\": \"#E5ECF6\", \"gridcolor\": \"white\", \"gridwidth\": 2, \"linecolor\": \"white\", \"showbackground\": true, \"ticks\": \"\", \"zerolinecolor\": \"white\"}, \"yaxis\": {\"backgroundcolor\": \"#E5ECF6\", \"gridcolor\": \"white\", \"gridwidth\": 2, \"linecolor\": \"white\", \"showbackground\": true, \"ticks\": \"\", \"zerolinecolor\": \"white\"}, \"zaxis\": {\"backgroundcolor\": \"#E5ECF6\", \"gridcolor\": \"white\", \"gridwidth\": 2, \"linecolor\": \"white\", \"showbackground\": true, \"ticks\": \"\", \"zerolinecolor\": \"white\"}}, \"shapedefaults\": {\"line\": {\"color\": \"#2a3f5f\"}}, \"ternary\": {\"aaxis\": {\"gridcolor\": \"white\", \"linecolor\": \"white\", \"ticks\": \"\"}, \"baxis\": {\"gridcolor\": \"white\", \"linecolor\": \"white\", \"ticks\": \"\"}, \"bgcolor\": \"#E5ECF6\", \"caxis\": {\"gridcolor\": \"white\", \"linecolor\": \"white\", \"ticks\": \"\"}}, \"title\": {\"x\": 0.05}, \"xaxis\": {\"automargin\": true, \"gridcolor\": \"white\", \"linecolor\": \"white\", \"ticks\": \"\", \"title\": {\"standoff\": 15}, \"zerolinecolor\": \"white\", \"zerolinewidth\": 2}, \"yaxis\": {\"automargin\": true, \"gridcolor\": \"white\", \"linecolor\": \"white\", \"ticks\": \"\", \"title\": {\"standoff\": 15}, \"zerolinecolor\": \"white\", \"zerolinewidth\": 2}}}},                        {\"responsive\": true}                    ).then(function(){\n",
       "                            \n",
       "var gd = document.getElementById('ab5d82ea-2aa4-4ebb-88ee-d1feb8ad5c21');\n",
       "var x = new MutationObserver(function (mutations, observer) {{\n",
       "        var display = window.getComputedStyle(gd).display;\n",
       "        if (!display || display === 'none') {{\n",
       "            console.log([gd, 'removed!']);\n",
       "            Plotly.purge(gd);\n",
       "            observer.disconnect();\n",
       "        }}\n",
       "}});\n",
       "\n",
       "// Listen for the removal of the full notebook cells\n",
       "var notebookContainer = gd.closest('#notebook-container');\n",
       "if (notebookContainer) {{\n",
       "    x.observe(notebookContainer, {childList: true});\n",
       "}}\n",
       "\n",
       "// Listen for the clearing of the current output cell\n",
       "var outputEl = gd.closest('.output');\n",
       "if (outputEl) {{\n",
       "    x.observe(outputEl, {childList: true});\n",
       "}}\n",
       "\n",
       "                        })                };                });            </script>        </div>"
      ]
     },
     "metadata": {},
     "output_type": "display_data"
    }
   ],
   "source": [
    "\n",
    "#Creating a bounding box\n",
    "east, north, west, south = -78.814231,35.566406,-78.810755,35.570595\n",
    "G = ox.graph_from_bbox(north, south, east, west, network_type=\"drive_service\")\n",
    "colors = plt.rcParams['axes.prop_cycle'].by_key()['color']\n",
    "ox.plot.plot_graph(G, bgcolor='#FFFFFF', node_color=colors[0], edge_color='lightgray', node_size=5)\n",
    "\n",
    "\n",
    "    #Extracting Node Information from G\n",
    "Nodes = []\n",
    "for i in G.nodes:\n",
    "    Nodes.append(i)\n",
    "\n",
    "data = pd.DataFrame(Nodes)\n",
    "data.rename(columns = {0:'Nodes'}, inplace = True)\n",
    "\n",
    "\n",
    "lat1 = []\n",
    "long1 = []\n",
    "for i in Nodes:\n",
    "    lat1.append(G.nodes[i].get('y'))\n",
    "    long1.append(G.nodes[i].get('x'))\n",
    "data['Latitude'] = lat1\n",
    "data['Longitude'] = long1\n",
    "df1 = data\n",
    "G = ox.graph_from_place('Fuquay Varina, NC, USA', network_type='drive')\n",
    "\n",
    "df1 = df1.drop(['Nodes'],axis=1)\n",
    "df1.rename(columns = {'Latitude':'Left'}, inplace = True)\n",
    "df1.rename(columns = {'Longitude':'Right'}, inplace = True)\n",
    "\n",
    "    #Calculating Distance and the distance matrix for all coordinates in the Bounding Box\n",
    "df3 = pd.DataFrame()\n",
    "for j in df1.index:\n",
    "    list1 = []\n",
    "    for i in df1.index:\n",
    "        r = requests.get(f\"\"\"http://router.project-osrm.org/route/v1/car/{df1.loc[j, \"Right\"]},{df1.loc[j, \"Left\"]};{df1.loc[i, \"Right\"]},{df1.loc[i, \"Left\"]}?overview=false\"\"\")\n",
    "        list1.append(json.loads(r.content)[\"routes\"][0][\"distance\"])\n",
    "    df3[j] = list1\n",
    "df = df1\n",
    "df['coordinate'] = list(zip(df['Right'],df['Left']))\n",
    "df['ID'] = df.index\n",
    "\n",
    "locations = dict( ( ID, (df.loc[ID, 'Right'], df.loc[ID, 'Left']) ) for ID in df.index)\n",
    "distances_df = df3\n",
    "distance = distances_df\n",
    "distances = dict( ((l1,l2), distance.iloc[l1, l2] ) for l1 in locations for l2 in locations if l1!=l2)\n",
    "\n",
    "\n",
    "    ## V: This defines the total number of vehicles that will traverse the path.\n",
    "V = 1\n",
    "    ## prob: This initializes the problem that will run using provided constraints.\n",
    "\n",
    "prob=LpProblem(\"vehicle\", LpMinimize)\n",
    "    ## indicator: This defines the variable dictionary consisting of distances and indicates if location i is connected to location j along route\n",
    "indicator = LpVariable.dicts('indicator',distances, 0,1,LpBinary)\n",
    "    ## eliminator: This defines the variable dictionary consisting of the node ID's and elimiate subtours\n",
    "eliminator = LpVariable.dicts('eliminator', df.ID, 0, len(df.ID)-1, LpInteger)\n",
    "    ## cost: This stores the result of distances calculations.\n",
    "cost = lpSum([indicator[(i,j)]*distances[(i,j)] for (i,j) in distances])\n",
    "prob+=cost\n",
    "\n",
    "start1 = 2\n",
    "for v in df.ID:\n",
    "        ## cap: This considers a particular node at a time. \n",
    "    cap = 1 if v != start1 else V\n",
    "        #inward possible route\n",
    "    prob+= lpSum([ indicator[(i,v)] for i in df.ID if (i,v) in indicator]) ==cap\n",
    "        #outward possible route\n",
    "    prob+=lpSum([ indicator[(v,i)] for i in df.ID if (v,i) in indicator]) ==cap\n",
    "    ## num: This stores the result of the number of nodes and the number of vehicles.    \n",
    "num=len(df.ID)/V\n",
    "for i in df.ID:\n",
    "    for j in df.ID:\n",
    "        if i != j and (i != start1 and j!= start1) and (i,j) in indicator:\n",
    "             prob += eliminator[i] - eliminator[j] <= (num)*(1-indicator[(i,j)]) - 1         \n",
    "prob.solve()\n",
    "    ## feasibleedges: This stores values of edges after the calculations are done.\n",
    "feasible_edges = [ e for e in indicator if value(indicator[e]) != 0 ]\n",
    "    ##@get_next_loc\n",
    "    # This provides with the next coordinates for the next node in the path.\n",
    "def get_next_loc(initial):\n",
    "    edges = [e for e in feasible_edges if e[0]==initial]\n",
    "    for e in edges:\n",
    "        feasible_edges.remove(e)\n",
    "    return edges\n",
    "    ## routes: This stores information regarding paths.    \n",
    "routes = get_next_loc(2)\n",
    "routes = [ [e] for e in routes ]\n",
    "\n",
    "for r in routes:\n",
    "    while r[-1][1] !=start1:\n",
    "        r.append(get_next_loc(r[-1][1])[-1])\n",
    "\n",
    "\n",
    "\n",
    "\n",
    "df2 = df[['Left', 'Right', 'ID']].copy()\n",
    "df2.rename(columns = {'Left':'Latitude'}, inplace = True)\n",
    "df2.rename(columns = {'Right':'Longitude'}, inplace = True)\n",
    "a=[]\n",
    "for i in range(data.index.stop):\n",
    "    #print(routes[0][i][0])\n",
    "    a.append(routes[0][i][0]) \n",
    "\n",
    "df3 = pd.DataFrame()\n",
    "for i in a:\n",
    "    df3 = df3.append(df2.loc[i])\n",
    "\n",
    "df3.reset_index(inplace = True)\n",
    "\n",
    "df3 = df3.append(df3.loc[0])\n",
    "df3.reset_index(inplace = True)\n",
    "df4 = df3\n",
    "dfnodes = pd.DataFrame(Nodes)\n",
    "dfnodes.rename(columns = {0:'Nodes'}, inplace = True)\n",
    "dfnodes = dfnodes.reindex(a)\n",
    "dfnodes = dfnodes.append({\"Nodes\":Nodes[a[0]]},ignore_index=True)\n",
    "df4 = pd.concat([df4,dfnodes],axis=1)\n",
    "    \n",
    "    \n",
    "def node_list_to_path2(G, node_list):\n",
    "   \n",
    "    edge_nodes = list(zip(node_list[:-1], node_list[1:]))\n",
    "    lines = []\n",
    "    newlist=[]\n",
    "    \n",
    "    \n",
    "    \n",
    "    \n",
    "    #for u, v in edge_nodes:\n",
    "    #    if(G.get_edge_data(u, v)):\n",
    "    #        newlist.append((u,v))\n",
    "            \n",
    "            \n",
    "            \n",
    "    for u, v in edge_nodes:\n",
    "        if(G.get_edge_data(u, v)):\n",
    "            newlist.append((u,v))\n",
    "        else:    \n",
    "            path1 = nx.shortest_path(G,u, v, weight='travel_time')\n",
    "            path2 = list(zip(path1[:-1], path1[1:]))\n",
    "            newlist = newlist+path2        \n",
    "    #print(newlist)\n",
    "    #print(len(newlist))\n",
    "    \n",
    "    for u, v in newlist:\n",
    "        # if there are parallel edges, select the shortest in length\n",
    "        \n",
    "        data = min(G.get_edge_data(u, v).values(), \n",
    "                key=lambda x: x['length'])\n",
    "            # if it has a geometry attribute\n",
    "        if 'geometry' in data:\n",
    "            # add them to the list of lines to plot\n",
    "            xs, ys = data['geometry'].xy\n",
    "            lines.append(list(zip(xs, ys)))\n",
    "        else:\n",
    "            # if it doesn't have a geometry attribute,\n",
    "            # then the edge is a straight line from node to node\n",
    "            x1 = G.nodes[u]['x']\n",
    "            y1 = G.nodes[u]['y']\n",
    "            x2 = G.nodes[v]['x']\n",
    "            y2 = G.nodes[v]['y']\n",
    "            line = [(x1, y1), (x2, y2)]\n",
    "            lines.append(line)\n",
    "            \n",
    "    return lines    \n",
    "    \n",
    "    \n",
    "    \n",
    "def plot_path(lat, long, origin_point, destination_point):\n",
    "    fig = go.Figure(go.Scattermapbox(\n",
    "        name = \"Path\",\n",
    "        mode = \"lines\",\n",
    "        lon = long,\n",
    "        lat = lat,\n",
    "        marker = {'size': 10},\n",
    "        line = dict(width = 4.5, color = 'grey')))\n",
    "    fig.add_trace(go.Scattermapbox(\n",
    "        name = \"Source\",\n",
    "        mode = \"markers\",\n",
    "        lon = [origin_point[1]],\n",
    "        lat = [origin_point[0]],\n",
    "        marker = {'size': 12, 'color':\"red\"}))\n",
    "    fig.add_trace(go.Scattermapbox(\n",
    "        name = \"Destination\",\n",
    "        mode = \"markers\",\n",
    "        lon = [destination_point[1]],\n",
    "        lat = [destination_point[0]],\n",
    "        marker = {'size': 12, 'color':'green'}))\n",
    "    lat_center = np.mean(lat)\n",
    "    long_center = np.mean(long)\n",
    "    fig.update_layout(mapbox_style=\"carto-darkmatter\",\n",
    "        mapbox_center_lat = 30, mapbox_center_lon=-80)\n",
    "    fig.update_layout(margin={\"r\":0,\"t\":0,\"l\":0,\"b\":0},\n",
    "                        mapbox = {\n",
    "                            'center': {'lat': lat_center, \n",
    "                            'lon': long_center},\n",
    "                            'zoom': 13})\n",
    "    fig.show()\n",
    "\n",
    "\n",
    "pathlist = []\n",
    "for i in range(df4['Nodes'].count()-1):\n",
    "    path1 = nx.shortest_path(G, df4.iloc[i]['Nodes'],df4.iloc[i+1]['Nodes'], weight='travel_time')\n",
    "    pathlist = pathlist+path1\n",
    "#pathlist1 = list(dict.fromkeys(pathlist))\n",
    "#pathlist1.append(pathlist1[0])\n",
    "data4 = pd.DataFrame(pathlist)\n",
    "data4.rename(columns = {0:'Nodes'}, inplace = True)\n",
    "lat1 = []\n",
    "long1 = []\n",
    "lines = node_list_to_path2(G, pathlist)\n",
    "long2 = []\n",
    "lat2 = []\n",
    "for i in range(len(lines)):\n",
    "    z = list(lines[i])\n",
    "    l1 = list(list(zip(*z))[0])\n",
    "    l2 = list(list(zip(*z))[1])\n",
    "    for j in range(len(l1)):\n",
    "        long2.append(l1[j])\n",
    "        lat2.append(l2[j])\n",
    "for i in pathlist:\n",
    "    lat1.append(G.nodes[i].get('y'))\n",
    "    long1.append(G.nodes[i].get('x'))\n",
    "data4['Latitude'] = lat1\n",
    "data4['Longitude'] = long1\n",
    "origin_point = (data4.loc[0][\"Latitude\"], data4.loc[0][\"Longitude\"]) \n",
    "destination_point = (data4.iloc[-1][\"Latitude\"], data4.iloc[-1][\"Longitude\"])\n",
    "#plot_path(lat1, long1, origin_point, destination_point)\n",
    "\n",
    "\n",
    "plot_path(lat2, long2, origin_point, destination_point)\n"
   ]
  },
  {
   "cell_type": "code",
   "execution_count": 30,
   "id": "parliamentary-parliament",
   "metadata": {},
   "outputs": [
    {
     "data": {
      "text/plain": [
       "[1278913066.0,\n",
       " 1278913077,\n",
       " 1278913077.0,\n",
       " 1278913206,\n",
       " 1278913206.0,\n",
       " 1278912898,\n",
       " 1278912898.0,\n",
       " 1278913064,\n",
       " 1278913064.0,\n",
       " 1278913223,\n",
       " 1278913223.0,\n",
       " 1278913066]"
      ]
     },
     "execution_count": 30,
     "metadata": {},
     "output_type": "execute_result"
    }
   ],
   "source": [
    "pathlist"
   ]
  },
  {
   "cell_type": "code",
   "execution_count": 31,
   "id": "timely-beach",
   "metadata": {},
   "outputs": [
    {
     "data": {
      "text/plain": [
       "[[(2, 3), (3, 4), (4, 0), (0, 1), (1, 5), (5, 2)]]"
      ]
     },
     "execution_count": 31,
     "metadata": {},
     "output_type": "execute_result"
    }
   ],
   "source": [
    "routes"
   ]
  },
  {
   "cell_type": "code",
   "execution_count": 32,
   "id": "advance-seminar",
   "metadata": {},
   "outputs": [
    {
     "data": {
      "text/html": [
       "<div>\n",
       "<style scoped>\n",
       "    .dataframe tbody tr th:only-of-type {\n",
       "        vertical-align: middle;\n",
       "    }\n",
       "\n",
       "    .dataframe tbody tr th {\n",
       "        vertical-align: top;\n",
       "    }\n",
       "\n",
       "    .dataframe thead th {\n",
       "        text-align: right;\n",
       "    }\n",
       "</style>\n",
       "<table border=\"1\" class=\"dataframe\">\n",
       "  <thead>\n",
       "    <tr style=\"text-align: right;\">\n",
       "      <th></th>\n",
       "      <th>Nodes</th>\n",
       "      <th>Latitude</th>\n",
       "      <th>Longitude</th>\n",
       "    </tr>\n",
       "  </thead>\n",
       "  <tbody>\n",
       "    <tr>\n",
       "      <th>0</th>\n",
       "      <td>1.278913e+09</td>\n",
       "      <td>35.568139</td>\n",
       "      <td>-78.813101</td>\n",
       "    </tr>\n",
       "    <tr>\n",
       "      <th>1</th>\n",
       "      <td>1.278913e+09</td>\n",
       "      <td>35.569701</td>\n",
       "      <td>-78.814124</td>\n",
       "    </tr>\n",
       "    <tr>\n",
       "      <th>2</th>\n",
       "      <td>1.278913e+09</td>\n",
       "      <td>35.569701</td>\n",
       "      <td>-78.814124</td>\n",
       "    </tr>\n",
       "    <tr>\n",
       "      <th>3</th>\n",
       "      <td>1.278913e+09</td>\n",
       "      <td>35.570223</td>\n",
       "      <td>-78.813205</td>\n",
       "    </tr>\n",
       "    <tr>\n",
       "      <th>4</th>\n",
       "      <td>1.278913e+09</td>\n",
       "      <td>35.570223</td>\n",
       "      <td>-78.813205</td>\n",
       "    </tr>\n",
       "    <tr>\n",
       "      <th>5</th>\n",
       "      <td>1.278913e+09</td>\n",
       "      <td>35.569449</td>\n",
       "      <td>-78.812725</td>\n",
       "    </tr>\n",
       "    <tr>\n",
       "      <th>6</th>\n",
       "      <td>1.278913e+09</td>\n",
       "      <td>35.569449</td>\n",
       "      <td>-78.812725</td>\n",
       "    </tr>\n",
       "    <tr>\n",
       "      <th>7</th>\n",
       "      <td>1.278913e+09</td>\n",
       "      <td>35.570040</td>\n",
       "      <td>-78.811649</td>\n",
       "    </tr>\n",
       "    <tr>\n",
       "      <th>8</th>\n",
       "      <td>1.278913e+09</td>\n",
       "      <td>35.570040</td>\n",
       "      <td>-78.811649</td>\n",
       "    </tr>\n",
       "    <tr>\n",
       "      <th>9</th>\n",
       "      <td>1.278913e+09</td>\n",
       "      <td>35.566471</td>\n",
       "      <td>-78.812162</td>\n",
       "    </tr>\n",
       "    <tr>\n",
       "      <th>10</th>\n",
       "      <td>1.278913e+09</td>\n",
       "      <td>35.566471</td>\n",
       "      <td>-78.812162</td>\n",
       "    </tr>\n",
       "    <tr>\n",
       "      <th>11</th>\n",
       "      <td>1.278913e+09</td>\n",
       "      <td>35.568139</td>\n",
       "      <td>-78.813101</td>\n",
       "    </tr>\n",
       "  </tbody>\n",
       "</table>\n",
       "</div>"
      ],
      "text/plain": [
       "           Nodes   Latitude  Longitude\n",
       "0   1.278913e+09  35.568139 -78.813101\n",
       "1   1.278913e+09  35.569701 -78.814124\n",
       "2   1.278913e+09  35.569701 -78.814124\n",
       "3   1.278913e+09  35.570223 -78.813205\n",
       "4   1.278913e+09  35.570223 -78.813205\n",
       "5   1.278913e+09  35.569449 -78.812725\n",
       "6   1.278913e+09  35.569449 -78.812725\n",
       "7   1.278913e+09  35.570040 -78.811649\n",
       "8   1.278913e+09  35.570040 -78.811649\n",
       "9   1.278913e+09  35.566471 -78.812162\n",
       "10  1.278913e+09  35.566471 -78.812162\n",
       "11  1.278913e+09  35.568139 -78.813101"
      ]
     },
     "execution_count": 32,
     "metadata": {},
     "output_type": "execute_result"
    }
   ],
   "source": [
    "data4"
   ]
  },
  {
   "cell_type": "code",
   "execution_count": 33,
   "id": "corresponding-angola",
   "metadata": {},
   "outputs": [
    {
     "data": {
      "text/plain": [
       "[35.568139,\n",
       " 35.5682083,\n",
       " 35.569225,\n",
       " 35.5696339,\n",
       " 35.5697011,\n",
       " 35.5697011,\n",
       " 35.5697471,\n",
       " 35.5698197,\n",
       " 35.5700451,\n",
       " 35.5701717,\n",
       " 35.5701871,\n",
       " 35.5702227,\n",
       " 35.5702227,\n",
       " 35.570155,\n",
       " 35.5694491,\n",
       " 35.5694491,\n",
       " 35.5694787,\n",
       " 35.5697,\n",
       " 35.569923,\n",
       " 35.5699905,\n",
       " 35.57004,\n",
       " 35.57004,\n",
       " 35.569975,\n",
       " 35.5699388,\n",
       " 35.5698645,\n",
       " 35.5697497,\n",
       " 35.569653,\n",
       " 35.5695668,\n",
       " 35.5687103,\n",
       " 35.5685803,\n",
       " 35.5684931,\n",
       " 35.5682114,\n",
       " 35.568081,\n",
       " 35.5677659,\n",
       " 35.567541,\n",
       " 35.5673849,\n",
       " 35.5672076,\n",
       " 35.567095,\n",
       " 35.5669112,\n",
       " 35.5668394,\n",
       " 35.5667274,\n",
       " 35.5666292,\n",
       " 35.5665036,\n",
       " 35.5664715,\n",
       " 35.5664715,\n",
       " 35.5665398,\n",
       " 35.5680563,\n",
       " 35.568139]"
      ]
     },
     "execution_count": 33,
     "metadata": {},
     "output_type": "execute_result"
    }
   ],
   "source": [
    "lat2"
   ]
  },
  {
   "cell_type": "code",
   "execution_count": 34,
   "id": "classified-eight",
   "metadata": {},
   "outputs": [
    {
     "data": {
      "text/plain": [
       "[-78.813101,\n",
       " -78.8131413,\n",
       " -78.813733,\n",
       " -78.8140689,\n",
       " -78.8141241,\n",
       " -78.8141241,\n",
       " -78.8140532,\n",
       " -78.8139415,\n",
       " -78.8135851,\n",
       " -78.8133389,\n",
       " -78.8132983,\n",
       " -78.8132046,\n",
       " -78.8132046,\n",
       " -78.8131627,\n",
       " -78.8127255,\n",
       " -78.8127255,\n",
       " -78.8126568,\n",
       " -78.812144,\n",
       " -78.81179,\n",
       " -78.8117086,\n",
       " -78.811649,\n",
       " -78.811649,\n",
       " -78.8115591,\n",
       " -78.8115091,\n",
       " -78.8114172,\n",
       " -78.8113384,\n",
       " -78.811304,\n",
       " -78.8112847,\n",
       " -78.8113299,\n",
       " -78.8113106,\n",
       " -78.8112715,\n",
       " -78.811118,\n",
       " -78.811065,\n",
       " -78.8110191,\n",
       " -78.8109834,\n",
       " -78.8109974,\n",
       " -78.8110578,\n",
       " -78.811111,\n",
       " -78.8112608,\n",
       " -78.811355,\n",
       " -78.8115268,\n",
       " -78.8117489,\n",
       " -78.8120781,\n",
       " -78.8121623,\n",
       " -78.8121623,\n",
       " -78.8122008,\n",
       " -78.8130545,\n",
       " -78.813101]"
      ]
     },
     "execution_count": 34,
     "metadata": {},
     "output_type": "execute_result"
    }
   ],
   "source": [
    "long2"
   ]
  },
  {
   "cell_type": "code",
   "execution_count": 35,
   "id": "revolutionary-albany",
   "metadata": {},
   "outputs": [],
   "source": [
    "newdf = pd.DataFrame()\n",
    "newdf['Latitude'] = lat2\n",
    "newdf['Longitude'] = long2"
   ]
  },
  {
   "cell_type": "code",
   "execution_count": 36,
   "id": "favorite-tackle",
   "metadata": {},
   "outputs": [
    {
     "data": {
      "text/html": [
       "<div>\n",
       "<style scoped>\n",
       "    .dataframe tbody tr th:only-of-type {\n",
       "        vertical-align: middle;\n",
       "    }\n",
       "\n",
       "    .dataframe tbody tr th {\n",
       "        vertical-align: top;\n",
       "    }\n",
       "\n",
       "    .dataframe thead th {\n",
       "        text-align: right;\n",
       "    }\n",
       "</style>\n",
       "<table border=\"1\" class=\"dataframe\">\n",
       "  <thead>\n",
       "    <tr style=\"text-align: right;\">\n",
       "      <th></th>\n",
       "      <th>Latitude</th>\n",
       "      <th>Longitude</th>\n",
       "    </tr>\n",
       "  </thead>\n",
       "  <tbody>\n",
       "    <tr>\n",
       "      <th>0</th>\n",
       "      <td>35.568139</td>\n",
       "      <td>-78.813101</td>\n",
       "    </tr>\n",
       "    <tr>\n",
       "      <th>1</th>\n",
       "      <td>35.568208</td>\n",
       "      <td>-78.813141</td>\n",
       "    </tr>\n",
       "    <tr>\n",
       "      <th>2</th>\n",
       "      <td>35.569225</td>\n",
       "      <td>-78.813733</td>\n",
       "    </tr>\n",
       "    <tr>\n",
       "      <th>3</th>\n",
       "      <td>35.569634</td>\n",
       "      <td>-78.814069</td>\n",
       "    </tr>\n",
       "    <tr>\n",
       "      <th>4</th>\n",
       "      <td>35.569701</td>\n",
       "      <td>-78.814124</td>\n",
       "    </tr>\n",
       "    <tr>\n",
       "      <th>5</th>\n",
       "      <td>35.569701</td>\n",
       "      <td>-78.814124</td>\n",
       "    </tr>\n",
       "    <tr>\n",
       "      <th>6</th>\n",
       "      <td>35.569747</td>\n",
       "      <td>-78.814053</td>\n",
       "    </tr>\n",
       "    <tr>\n",
       "      <th>7</th>\n",
       "      <td>35.569820</td>\n",
       "      <td>-78.813941</td>\n",
       "    </tr>\n",
       "    <tr>\n",
       "      <th>8</th>\n",
       "      <td>35.570045</td>\n",
       "      <td>-78.813585</td>\n",
       "    </tr>\n",
       "    <tr>\n",
       "      <th>9</th>\n",
       "      <td>35.570172</td>\n",
       "      <td>-78.813339</td>\n",
       "    </tr>\n",
       "    <tr>\n",
       "      <th>10</th>\n",
       "      <td>35.570187</td>\n",
       "      <td>-78.813298</td>\n",
       "    </tr>\n",
       "    <tr>\n",
       "      <th>11</th>\n",
       "      <td>35.570223</td>\n",
       "      <td>-78.813205</td>\n",
       "    </tr>\n",
       "    <tr>\n",
       "      <th>12</th>\n",
       "      <td>35.570223</td>\n",
       "      <td>-78.813205</td>\n",
       "    </tr>\n",
       "    <tr>\n",
       "      <th>13</th>\n",
       "      <td>35.570155</td>\n",
       "      <td>-78.813163</td>\n",
       "    </tr>\n",
       "    <tr>\n",
       "      <th>14</th>\n",
       "      <td>35.569449</td>\n",
       "      <td>-78.812725</td>\n",
       "    </tr>\n",
       "    <tr>\n",
       "      <th>15</th>\n",
       "      <td>35.569449</td>\n",
       "      <td>-78.812725</td>\n",
       "    </tr>\n",
       "    <tr>\n",
       "      <th>16</th>\n",
       "      <td>35.569479</td>\n",
       "      <td>-78.812657</td>\n",
       "    </tr>\n",
       "    <tr>\n",
       "      <th>17</th>\n",
       "      <td>35.569700</td>\n",
       "      <td>-78.812144</td>\n",
       "    </tr>\n",
       "    <tr>\n",
       "      <th>18</th>\n",
       "      <td>35.569923</td>\n",
       "      <td>-78.811790</td>\n",
       "    </tr>\n",
       "    <tr>\n",
       "      <th>19</th>\n",
       "      <td>35.569991</td>\n",
       "      <td>-78.811709</td>\n",
       "    </tr>\n",
       "    <tr>\n",
       "      <th>20</th>\n",
       "      <td>35.570040</td>\n",
       "      <td>-78.811649</td>\n",
       "    </tr>\n",
       "    <tr>\n",
       "      <th>21</th>\n",
       "      <td>35.570040</td>\n",
       "      <td>-78.811649</td>\n",
       "    </tr>\n",
       "    <tr>\n",
       "      <th>22</th>\n",
       "      <td>35.569975</td>\n",
       "      <td>-78.811559</td>\n",
       "    </tr>\n",
       "    <tr>\n",
       "      <th>23</th>\n",
       "      <td>35.569939</td>\n",
       "      <td>-78.811509</td>\n",
       "    </tr>\n",
       "    <tr>\n",
       "      <th>24</th>\n",
       "      <td>35.569865</td>\n",
       "      <td>-78.811417</td>\n",
       "    </tr>\n",
       "    <tr>\n",
       "      <th>25</th>\n",
       "      <td>35.569750</td>\n",
       "      <td>-78.811338</td>\n",
       "    </tr>\n",
       "    <tr>\n",
       "      <th>26</th>\n",
       "      <td>35.569653</td>\n",
       "      <td>-78.811304</td>\n",
       "    </tr>\n",
       "    <tr>\n",
       "      <th>27</th>\n",
       "      <td>35.569567</td>\n",
       "      <td>-78.811285</td>\n",
       "    </tr>\n",
       "    <tr>\n",
       "      <th>28</th>\n",
       "      <td>35.568710</td>\n",
       "      <td>-78.811330</td>\n",
       "    </tr>\n",
       "    <tr>\n",
       "      <th>29</th>\n",
       "      <td>35.568580</td>\n",
       "      <td>-78.811311</td>\n",
       "    </tr>\n",
       "    <tr>\n",
       "      <th>30</th>\n",
       "      <td>35.568493</td>\n",
       "      <td>-78.811272</td>\n",
       "    </tr>\n",
       "    <tr>\n",
       "      <th>31</th>\n",
       "      <td>35.568211</td>\n",
       "      <td>-78.811118</td>\n",
       "    </tr>\n",
       "    <tr>\n",
       "      <th>32</th>\n",
       "      <td>35.568081</td>\n",
       "      <td>-78.811065</td>\n",
       "    </tr>\n",
       "    <tr>\n",
       "      <th>33</th>\n",
       "      <td>35.567766</td>\n",
       "      <td>-78.811019</td>\n",
       "    </tr>\n",
       "    <tr>\n",
       "      <th>34</th>\n",
       "      <td>35.567541</td>\n",
       "      <td>-78.810983</td>\n",
       "    </tr>\n",
       "    <tr>\n",
       "      <th>35</th>\n",
       "      <td>35.567385</td>\n",
       "      <td>-78.810997</td>\n",
       "    </tr>\n",
       "    <tr>\n",
       "      <th>36</th>\n",
       "      <td>35.567208</td>\n",
       "      <td>-78.811058</td>\n",
       "    </tr>\n",
       "    <tr>\n",
       "      <th>37</th>\n",
       "      <td>35.567095</td>\n",
       "      <td>-78.811111</td>\n",
       "    </tr>\n",
       "    <tr>\n",
       "      <th>38</th>\n",
       "      <td>35.566911</td>\n",
       "      <td>-78.811261</td>\n",
       "    </tr>\n",
       "    <tr>\n",
       "      <th>39</th>\n",
       "      <td>35.566839</td>\n",
       "      <td>-78.811355</td>\n",
       "    </tr>\n",
       "    <tr>\n",
       "      <th>40</th>\n",
       "      <td>35.566727</td>\n",
       "      <td>-78.811527</td>\n",
       "    </tr>\n",
       "    <tr>\n",
       "      <th>41</th>\n",
       "      <td>35.566629</td>\n",
       "      <td>-78.811749</td>\n",
       "    </tr>\n",
       "    <tr>\n",
       "      <th>42</th>\n",
       "      <td>35.566504</td>\n",
       "      <td>-78.812078</td>\n",
       "    </tr>\n",
       "    <tr>\n",
       "      <th>43</th>\n",
       "      <td>35.566471</td>\n",
       "      <td>-78.812162</td>\n",
       "    </tr>\n",
       "    <tr>\n",
       "      <th>44</th>\n",
       "      <td>35.566471</td>\n",
       "      <td>-78.812162</td>\n",
       "    </tr>\n",
       "    <tr>\n",
       "      <th>45</th>\n",
       "      <td>35.566540</td>\n",
       "      <td>-78.812201</td>\n",
       "    </tr>\n",
       "    <tr>\n",
       "      <th>46</th>\n",
       "      <td>35.568056</td>\n",
       "      <td>-78.813055</td>\n",
       "    </tr>\n",
       "    <tr>\n",
       "      <th>47</th>\n",
       "      <td>35.568139</td>\n",
       "      <td>-78.813101</td>\n",
       "    </tr>\n",
       "  </tbody>\n",
       "</table>\n",
       "</div>"
      ],
      "text/plain": [
       "     Latitude  Longitude\n",
       "0   35.568139 -78.813101\n",
       "1   35.568208 -78.813141\n",
       "2   35.569225 -78.813733\n",
       "3   35.569634 -78.814069\n",
       "4   35.569701 -78.814124\n",
       "5   35.569701 -78.814124\n",
       "6   35.569747 -78.814053\n",
       "7   35.569820 -78.813941\n",
       "8   35.570045 -78.813585\n",
       "9   35.570172 -78.813339\n",
       "10  35.570187 -78.813298\n",
       "11  35.570223 -78.813205\n",
       "12  35.570223 -78.813205\n",
       "13  35.570155 -78.813163\n",
       "14  35.569449 -78.812725\n",
       "15  35.569449 -78.812725\n",
       "16  35.569479 -78.812657\n",
       "17  35.569700 -78.812144\n",
       "18  35.569923 -78.811790\n",
       "19  35.569991 -78.811709\n",
       "20  35.570040 -78.811649\n",
       "21  35.570040 -78.811649\n",
       "22  35.569975 -78.811559\n",
       "23  35.569939 -78.811509\n",
       "24  35.569865 -78.811417\n",
       "25  35.569750 -78.811338\n",
       "26  35.569653 -78.811304\n",
       "27  35.569567 -78.811285\n",
       "28  35.568710 -78.811330\n",
       "29  35.568580 -78.811311\n",
       "30  35.568493 -78.811272\n",
       "31  35.568211 -78.811118\n",
       "32  35.568081 -78.811065\n",
       "33  35.567766 -78.811019\n",
       "34  35.567541 -78.810983\n",
       "35  35.567385 -78.810997\n",
       "36  35.567208 -78.811058\n",
       "37  35.567095 -78.811111\n",
       "38  35.566911 -78.811261\n",
       "39  35.566839 -78.811355\n",
       "40  35.566727 -78.811527\n",
       "41  35.566629 -78.811749\n",
       "42  35.566504 -78.812078\n",
       "43  35.566471 -78.812162\n",
       "44  35.566471 -78.812162\n",
       "45  35.566540 -78.812201\n",
       "46  35.568056 -78.813055\n",
       "47  35.568139 -78.813101"
      ]
     },
     "execution_count": 36,
     "metadata": {},
     "output_type": "execute_result"
    }
   ],
   "source": [
    "newdf"
   ]
  },
  {
   "cell_type": "code",
   "execution_count": 37,
   "id": "alternative-paraguay",
   "metadata": {},
   "outputs": [
    {
     "data": {
      "text/plain": [
       "8"
      ]
     },
     "execution_count": 37,
     "metadata": {},
     "output_type": "execute_result"
    }
   ],
   "source": [
    "random.randint(1,10)"
   ]
  },
  {
   "cell_type": "code",
   "execution_count": 42,
   "id": "suited-commercial",
   "metadata": {},
   "outputs": [
    {
     "data": {
      "text/plain": [
       "60"
      ]
     },
     "execution_count": 42,
     "metadata": {},
     "output_type": "execute_result"
    }
   ],
   "source": [
    "random.randint(35,64)"
   ]
  },
  {
   "cell_type": "code",
   "execution_count": 58,
   "id": "grateful-interference",
   "metadata": {},
   "outputs": [],
   "source": [
    "Trash = []\n",
    "for i in newdf.index:\n",
    "    Trash.append(random.randint(10,25))"
   ]
  },
  {
   "cell_type": "code",
   "execution_count": 59,
   "id": "fixed-eligibility",
   "metadata": {},
   "outputs": [
    {
     "data": {
      "text/plain": [
       "48"
      ]
     },
     "execution_count": 59,
     "metadata": {},
     "output_type": "execute_result"
    }
   ],
   "source": [
    "len(Trash)"
   ]
  },
  {
   "cell_type": "code",
   "execution_count": 60,
   "id": "grave-detective",
   "metadata": {},
   "outputs": [],
   "source": [
    "newdf['Trash'] = Trash"
   ]
  },
  {
   "cell_type": "code",
   "execution_count": 61,
   "id": "broad-crack",
   "metadata": {},
   "outputs": [
    {
     "data": {
      "text/html": [
       "<div>\n",
       "<style scoped>\n",
       "    .dataframe tbody tr th:only-of-type {\n",
       "        vertical-align: middle;\n",
       "    }\n",
       "\n",
       "    .dataframe tbody tr th {\n",
       "        vertical-align: top;\n",
       "    }\n",
       "\n",
       "    .dataframe thead th {\n",
       "        text-align: right;\n",
       "    }\n",
       "</style>\n",
       "<table border=\"1\" class=\"dataframe\">\n",
       "  <thead>\n",
       "    <tr style=\"text-align: right;\">\n",
       "      <th></th>\n",
       "      <th>Latitude</th>\n",
       "      <th>Longitude</th>\n",
       "      <th>Trash</th>\n",
       "    </tr>\n",
       "  </thead>\n",
       "  <tbody>\n",
       "    <tr>\n",
       "      <th>0</th>\n",
       "      <td>35.568139</td>\n",
       "      <td>-78.813101</td>\n",
       "      <td>12</td>\n",
       "    </tr>\n",
       "    <tr>\n",
       "      <th>1</th>\n",
       "      <td>35.568208</td>\n",
       "      <td>-78.813141</td>\n",
       "      <td>23</td>\n",
       "    </tr>\n",
       "    <tr>\n",
       "      <th>2</th>\n",
       "      <td>35.569225</td>\n",
       "      <td>-78.813733</td>\n",
       "      <td>14</td>\n",
       "    </tr>\n",
       "    <tr>\n",
       "      <th>3</th>\n",
       "      <td>35.569634</td>\n",
       "      <td>-78.814069</td>\n",
       "      <td>23</td>\n",
       "    </tr>\n",
       "    <tr>\n",
       "      <th>4</th>\n",
       "      <td>35.569701</td>\n",
       "      <td>-78.814124</td>\n",
       "      <td>25</td>\n",
       "    </tr>\n",
       "    <tr>\n",
       "      <th>5</th>\n",
       "      <td>35.569701</td>\n",
       "      <td>-78.814124</td>\n",
       "      <td>11</td>\n",
       "    </tr>\n",
       "    <tr>\n",
       "      <th>6</th>\n",
       "      <td>35.569747</td>\n",
       "      <td>-78.814053</td>\n",
       "      <td>24</td>\n",
       "    </tr>\n",
       "    <tr>\n",
       "      <th>7</th>\n",
       "      <td>35.569820</td>\n",
       "      <td>-78.813941</td>\n",
       "      <td>23</td>\n",
       "    </tr>\n",
       "    <tr>\n",
       "      <th>8</th>\n",
       "      <td>35.570045</td>\n",
       "      <td>-78.813585</td>\n",
       "      <td>20</td>\n",
       "    </tr>\n",
       "    <tr>\n",
       "      <th>9</th>\n",
       "      <td>35.570172</td>\n",
       "      <td>-78.813339</td>\n",
       "      <td>13</td>\n",
       "    </tr>\n",
       "    <tr>\n",
       "      <th>10</th>\n",
       "      <td>35.570187</td>\n",
       "      <td>-78.813298</td>\n",
       "      <td>20</td>\n",
       "    </tr>\n",
       "    <tr>\n",
       "      <th>11</th>\n",
       "      <td>35.570223</td>\n",
       "      <td>-78.813205</td>\n",
       "      <td>12</td>\n",
       "    </tr>\n",
       "    <tr>\n",
       "      <th>12</th>\n",
       "      <td>35.570223</td>\n",
       "      <td>-78.813205</td>\n",
       "      <td>22</td>\n",
       "    </tr>\n",
       "    <tr>\n",
       "      <th>13</th>\n",
       "      <td>35.570155</td>\n",
       "      <td>-78.813163</td>\n",
       "      <td>13</td>\n",
       "    </tr>\n",
       "    <tr>\n",
       "      <th>14</th>\n",
       "      <td>35.569449</td>\n",
       "      <td>-78.812725</td>\n",
       "      <td>17</td>\n",
       "    </tr>\n",
       "    <tr>\n",
       "      <th>15</th>\n",
       "      <td>35.569449</td>\n",
       "      <td>-78.812725</td>\n",
       "      <td>11</td>\n",
       "    </tr>\n",
       "    <tr>\n",
       "      <th>16</th>\n",
       "      <td>35.569479</td>\n",
       "      <td>-78.812657</td>\n",
       "      <td>23</td>\n",
       "    </tr>\n",
       "    <tr>\n",
       "      <th>17</th>\n",
       "      <td>35.569700</td>\n",
       "      <td>-78.812144</td>\n",
       "      <td>16</td>\n",
       "    </tr>\n",
       "    <tr>\n",
       "      <th>18</th>\n",
       "      <td>35.569923</td>\n",
       "      <td>-78.811790</td>\n",
       "      <td>18</td>\n",
       "    </tr>\n",
       "    <tr>\n",
       "      <th>19</th>\n",
       "      <td>35.569991</td>\n",
       "      <td>-78.811709</td>\n",
       "      <td>14</td>\n",
       "    </tr>\n",
       "    <tr>\n",
       "      <th>20</th>\n",
       "      <td>35.570040</td>\n",
       "      <td>-78.811649</td>\n",
       "      <td>10</td>\n",
       "    </tr>\n",
       "    <tr>\n",
       "      <th>21</th>\n",
       "      <td>35.570040</td>\n",
       "      <td>-78.811649</td>\n",
       "      <td>11</td>\n",
       "    </tr>\n",
       "    <tr>\n",
       "      <th>22</th>\n",
       "      <td>35.569975</td>\n",
       "      <td>-78.811559</td>\n",
       "      <td>20</td>\n",
       "    </tr>\n",
       "    <tr>\n",
       "      <th>23</th>\n",
       "      <td>35.569939</td>\n",
       "      <td>-78.811509</td>\n",
       "      <td>16</td>\n",
       "    </tr>\n",
       "    <tr>\n",
       "      <th>24</th>\n",
       "      <td>35.569865</td>\n",
       "      <td>-78.811417</td>\n",
       "      <td>10</td>\n",
       "    </tr>\n",
       "    <tr>\n",
       "      <th>25</th>\n",
       "      <td>35.569750</td>\n",
       "      <td>-78.811338</td>\n",
       "      <td>17</td>\n",
       "    </tr>\n",
       "    <tr>\n",
       "      <th>26</th>\n",
       "      <td>35.569653</td>\n",
       "      <td>-78.811304</td>\n",
       "      <td>17</td>\n",
       "    </tr>\n",
       "    <tr>\n",
       "      <th>27</th>\n",
       "      <td>35.569567</td>\n",
       "      <td>-78.811285</td>\n",
       "      <td>15</td>\n",
       "    </tr>\n",
       "    <tr>\n",
       "      <th>28</th>\n",
       "      <td>35.568710</td>\n",
       "      <td>-78.811330</td>\n",
       "      <td>15</td>\n",
       "    </tr>\n",
       "    <tr>\n",
       "      <th>29</th>\n",
       "      <td>35.568580</td>\n",
       "      <td>-78.811311</td>\n",
       "      <td>18</td>\n",
       "    </tr>\n",
       "    <tr>\n",
       "      <th>30</th>\n",
       "      <td>35.568493</td>\n",
       "      <td>-78.811272</td>\n",
       "      <td>19</td>\n",
       "    </tr>\n",
       "    <tr>\n",
       "      <th>31</th>\n",
       "      <td>35.568211</td>\n",
       "      <td>-78.811118</td>\n",
       "      <td>17</td>\n",
       "    </tr>\n",
       "    <tr>\n",
       "      <th>32</th>\n",
       "      <td>35.568081</td>\n",
       "      <td>-78.811065</td>\n",
       "      <td>24</td>\n",
       "    </tr>\n",
       "    <tr>\n",
       "      <th>33</th>\n",
       "      <td>35.567766</td>\n",
       "      <td>-78.811019</td>\n",
       "      <td>21</td>\n",
       "    </tr>\n",
       "    <tr>\n",
       "      <th>34</th>\n",
       "      <td>35.567541</td>\n",
       "      <td>-78.810983</td>\n",
       "      <td>24</td>\n",
       "    </tr>\n",
       "    <tr>\n",
       "      <th>35</th>\n",
       "      <td>35.567385</td>\n",
       "      <td>-78.810997</td>\n",
       "      <td>14</td>\n",
       "    </tr>\n",
       "    <tr>\n",
       "      <th>36</th>\n",
       "      <td>35.567208</td>\n",
       "      <td>-78.811058</td>\n",
       "      <td>18</td>\n",
       "    </tr>\n",
       "    <tr>\n",
       "      <th>37</th>\n",
       "      <td>35.567095</td>\n",
       "      <td>-78.811111</td>\n",
       "      <td>17</td>\n",
       "    </tr>\n",
       "    <tr>\n",
       "      <th>38</th>\n",
       "      <td>35.566911</td>\n",
       "      <td>-78.811261</td>\n",
       "      <td>14</td>\n",
       "    </tr>\n",
       "    <tr>\n",
       "      <th>39</th>\n",
       "      <td>35.566839</td>\n",
       "      <td>-78.811355</td>\n",
       "      <td>18</td>\n",
       "    </tr>\n",
       "    <tr>\n",
       "      <th>40</th>\n",
       "      <td>35.566727</td>\n",
       "      <td>-78.811527</td>\n",
       "      <td>14</td>\n",
       "    </tr>\n",
       "    <tr>\n",
       "      <th>41</th>\n",
       "      <td>35.566629</td>\n",
       "      <td>-78.811749</td>\n",
       "      <td>25</td>\n",
       "    </tr>\n",
       "    <tr>\n",
       "      <th>42</th>\n",
       "      <td>35.566504</td>\n",
       "      <td>-78.812078</td>\n",
       "      <td>12</td>\n",
       "    </tr>\n",
       "    <tr>\n",
       "      <th>43</th>\n",
       "      <td>35.566471</td>\n",
       "      <td>-78.812162</td>\n",
       "      <td>12</td>\n",
       "    </tr>\n",
       "    <tr>\n",
       "      <th>44</th>\n",
       "      <td>35.566471</td>\n",
       "      <td>-78.812162</td>\n",
       "      <td>14</td>\n",
       "    </tr>\n",
       "    <tr>\n",
       "      <th>45</th>\n",
       "      <td>35.566540</td>\n",
       "      <td>-78.812201</td>\n",
       "      <td>12</td>\n",
       "    </tr>\n",
       "    <tr>\n",
       "      <th>46</th>\n",
       "      <td>35.568056</td>\n",
       "      <td>-78.813055</td>\n",
       "      <td>14</td>\n",
       "    </tr>\n",
       "    <tr>\n",
       "      <th>47</th>\n",
       "      <td>35.568139</td>\n",
       "      <td>-78.813101</td>\n",
       "      <td>25</td>\n",
       "    </tr>\n",
       "  </tbody>\n",
       "</table>\n",
       "</div>"
      ],
      "text/plain": [
       "     Latitude  Longitude  Trash\n",
       "0   35.568139 -78.813101     12\n",
       "1   35.568208 -78.813141     23\n",
       "2   35.569225 -78.813733     14\n",
       "3   35.569634 -78.814069     23\n",
       "4   35.569701 -78.814124     25\n",
       "5   35.569701 -78.814124     11\n",
       "6   35.569747 -78.814053     24\n",
       "7   35.569820 -78.813941     23\n",
       "8   35.570045 -78.813585     20\n",
       "9   35.570172 -78.813339     13\n",
       "10  35.570187 -78.813298     20\n",
       "11  35.570223 -78.813205     12\n",
       "12  35.570223 -78.813205     22\n",
       "13  35.570155 -78.813163     13\n",
       "14  35.569449 -78.812725     17\n",
       "15  35.569449 -78.812725     11\n",
       "16  35.569479 -78.812657     23\n",
       "17  35.569700 -78.812144     16\n",
       "18  35.569923 -78.811790     18\n",
       "19  35.569991 -78.811709     14\n",
       "20  35.570040 -78.811649     10\n",
       "21  35.570040 -78.811649     11\n",
       "22  35.569975 -78.811559     20\n",
       "23  35.569939 -78.811509     16\n",
       "24  35.569865 -78.811417     10\n",
       "25  35.569750 -78.811338     17\n",
       "26  35.569653 -78.811304     17\n",
       "27  35.569567 -78.811285     15\n",
       "28  35.568710 -78.811330     15\n",
       "29  35.568580 -78.811311     18\n",
       "30  35.568493 -78.811272     19\n",
       "31  35.568211 -78.811118     17\n",
       "32  35.568081 -78.811065     24\n",
       "33  35.567766 -78.811019     21\n",
       "34  35.567541 -78.810983     24\n",
       "35  35.567385 -78.810997     14\n",
       "36  35.567208 -78.811058     18\n",
       "37  35.567095 -78.811111     17\n",
       "38  35.566911 -78.811261     14\n",
       "39  35.566839 -78.811355     18\n",
       "40  35.566727 -78.811527     14\n",
       "41  35.566629 -78.811749     25\n",
       "42  35.566504 -78.812078     12\n",
       "43  35.566471 -78.812162     12\n",
       "44  35.566471 -78.812162     14\n",
       "45  35.566540 -78.812201     12\n",
       "46  35.568056 -78.813055     14\n",
       "47  35.568139 -78.813101     25"
      ]
     },
     "execution_count": 61,
     "metadata": {},
     "output_type": "execute_result"
    }
   ],
   "source": [
    "newdf"
   ]
  },
  {
   "cell_type": "code",
   "execution_count": 62,
   "id": "agreed-fluid",
   "metadata": {},
   "outputs": [
    {
     "data": {
      "text/plain": [
       "817"
      ]
     },
     "execution_count": 62,
     "metadata": {},
     "output_type": "execute_result"
    }
   ],
   "source": [
    "sum(Trash)"
   ]
  },
  {
   "cell_type": "code",
   "execution_count": 63,
   "id": "bibliographic-break",
   "metadata": {},
   "outputs": [
    {
     "data": {
      "image/png": "[encoded data removed]",
      "text/plain": [
       "<Figure size 576x576 with 1 Axes>"
      ]
     },
     "metadata": {},
     "output_type": "display_data"
    },
    {
     "data": {
      "application/vnd.plotly.v1+json": {
       "config": {
        "plotlyServerURL": "https://plot.ly"
       },
       "data": [
        {
         "lat": [
          35.568139,
          35.5682083,
          35.569225,
          35.5696339,
          35.5697011,
          35.5697011,
          35.5697471,
          35.5698197,
          35.5700451,
          35.5701717,
          35.5701871,
          35.5702227,
          35.5702227,
          35.570155,
          35.5694491,
          35.5694491,
          35.5694787,
          35.5697,
          35.569923,
          35.5699905,
          35.57004,
          35.57004,
          35.569975,
          35.5699388,
          35.5698645,
          35.5697497,
          35.569653,
          35.5695668,
          35.5687103,
          35.5685803,
          35.5684931,
          35.5682114,
          35.568081,
          35.5677659,
          35.567541,
          35.5673849,
          35.5672076,
          35.567095,
          35.5669112,
          35.5668394,
          35.5667274,
          35.5666292,
          35.5665036,
          35.5664715,
          35.5664715,
          35.5665398,
          35.5680563,
          35.568139
         ],
         "line": {
          "color": "grey",
          "width": 4.5
         },
         "lon": [
          -78.813101,
          -78.8131413,
          -78.813733,
          -78.8140689,
          -78.8141241,
          -78.8141241,
          -78.8140532,
          -78.8139415,
          -78.8135851,
          -78.8133389,
          -78.8132983,
          -78.8132046,
          -78.8132046,
          -78.8131627,
          -78.8127255,
          -78.8127255,
          -78.8126568,
          -78.812144,
          -78.81179,
          -78.8117086,
          -78.811649,
          -78.811649,
          -78.8115591,
          -78.8115091,
          -78.8114172,
          -78.8113384,
          -78.811304,
          -78.8112847,
          -78.8113299,
          -78.8113106,
          -78.8112715,
          -78.811118,
          -78.811065,
          -78.8110191,
          -78.8109834,
          -78.8109974,
          -78.8110578,
          -78.811111,
          -78.8112608,
          -78.811355,
          -78.8115268,
          -78.8117489,
          -78.8120781,
          -78.8121623,
          -78.8121623,
          -78.8122008,
          -78.8130545,
          -78.813101
         ],
         "marker": {
          "size": 10
         },
         "mode": "lines",
         "name": "Path",
         "type": "scattermapbox"
        },
        {
         "lat": [
          35.568139
         ],
         "lon": [
          -78.813101
         ],
         "marker": {
          "color": "red",
          "size": 12
         },
         "mode": "markers",
         "name": "Source",
         "type": "scattermapbox"
        },
        {
         "lat": [
          35.568139
         ],
         "lon": [
          -78.813101
         ],
         "marker": {
          "color": "green",
          "size": 12
         },
         "mode": "markers",
         "name": "Destination",
         "type": "scattermapbox"
        }
       ],
       "layout": {
        "mapbox": {
         "center": {
          "lat": 35.56875743958333,
          "lon": -78.812238675
         },
         "style": "carto-darkmatter",
         "zoom": 13
        },
        "margin": {
         "b": 0,
         "l": 0,
         "r": 0,
         "t": 0
        },
        "template": {
         "data": {
          "bar": [
           {
            "error_x": {
             "color": "#2a3f5f"
            },
            "error_y": {
             "color": "#2a3f5f"
            },
            "marker": {
             "line": {
              "color": "#E5ECF6",
              "width": 0.5
             }
            },
            "type": "bar"
           }
          ],
          "barpolar": [
           {
            "marker": {
             "line": {
              "color": "#E5ECF6",
              "width": 0.5
             }
            },
            "type": "barpolar"
           }
          ],
          "carpet": [
           {
            "aaxis": {
             "endlinecolor": "#2a3f5f",
             "gridcolor": "white",
             "linecolor": "white",
             "minorgridcolor": "white",
             "startlinecolor": "#2a3f5f"
            },
            "baxis": {
             "endlinecolor": "#2a3f5f",
             "gridcolor": "white",
             "linecolor": "white",
             "minorgridcolor": "white",
             "startlinecolor": "#2a3f5f"
            },
            "type": "carpet"
           }
          ],
          "choropleth": [
           {
            "colorbar": {
             "outlinewidth": 0,
             "ticks": ""
            },
            "type": "choropleth"
           }
          ],
          "contour": [
           {
            "colorbar": {
             "outlinewidth": 0,
             "ticks": ""
            },
            "colorscale": [
             [
              0,
              "#0d0887"
             ],
             [
              0.1111111111111111,
              "#46039f"
             ],
             [
              0.2222222222222222,
              "#7201a8"
             ],
             [
              0.3333333333333333,
              "#9c179e"
             ],
             [
              0.4444444444444444,
              "#bd3786"
             ],
             [
              0.5555555555555556,
              "#d8576b"
             ],
             [
              0.6666666666666666,
              "#ed7953"
             ],
             [
              0.7777777777777778,
              "#fb9f3a"
             ],
             [
              0.8888888888888888,
              "#fdca26"
             ],
             [
              1,
              "#f0f921"
             ]
            ],
            "type": "contour"
           }
          ],
          "contourcarpet": [
           {
            "colorbar": {
             "outlinewidth": 0,
             "ticks": ""
            },
            "type": "contourcarpet"
           }
          ],
          "heatmap": [
           {
            "colorbar": {
             "outlinewidth": 0,
             "ticks": ""
            },
            "colorscale": [
             [
              0,
              "#0d0887"
             ],
             [
              0.1111111111111111,
              "#46039f"
             ],
             [
              0.2222222222222222,
              "#7201a8"
             ],
             [
              0.3333333333333333,
              "#9c179e"
             ],
             [
              0.4444444444444444,
              "#bd3786"
             ],
             [
              0.5555555555555556,
              "#d8576b"
             ],
             [
              0.6666666666666666,
              "#ed7953"
             ],
             [
              0.7777777777777778,
              "#fb9f3a"
             ],
             [
              0.8888888888888888,
              "#fdca26"
             ],
             [
              1,
              "#f0f921"
             ]
            ],
            "type": "heatmap"
           }
          ],
          "heatmapgl": [
           {
            "colorbar": {
             "outlinewidth": 0,
             "ticks": ""
            },
            "colorscale": [
             [
              0,
              "#0d0887"
             ],
             [
              0.1111111111111111,
              "#46039f"
             ],
             [
              0.2222222222222222,
              "#7201a8"
             ],
             [
              0.3333333333333333,
              "#9c179e"
             ],
             [
              0.4444444444444444,
              "#bd3786"
             ],
             [
              0.5555555555555556,
              "#d8576b"
             ],
             [
              0.6666666666666666,
              "#ed7953"
             ],
             [
              0.7777777777777778,
              "#fb9f3a"
             ],
             [
              0.8888888888888888,
              "#fdca26"
             ],
             [
              1,
              "#f0f921"
             ]
            ],
            "type": "heatmapgl"
           }
          ],
          "histogram": [
           {
            "marker": {
             "colorbar": {
              "outlinewidth": 0,
              "ticks": ""
             }
            },
            "type": "histogram"
           }
          ],
          "histogram2d": [
           {
            "colorbar": {
             "outlinewidth": 0,
             "ticks": ""
            },
            "colorscale": [
             [
              0,
              "#0d0887"
             ],
             [
              0.1111111111111111,
              "#46039f"
             ],
             [
              0.2222222222222222,
              "#7201a8"
             ],
             [
              0.3333333333333333,
              "#9c179e"
             ],
             [
              0.4444444444444444,
              "#bd3786"
             ],
             [
              0.5555555555555556,
              "#d8576b"
             ],
             [
              0.6666666666666666,
              "#ed7953"
             ],
             [
              0.7777777777777778,
              "#fb9f3a"
             ],
             [
              0.8888888888888888,
              "#fdca26"
             ],
             [
              1,
              "#f0f921"
             ]
            ],
            "type": "histogram2d"
           }
          ],
          "histogram2dcontour": [
           {
            "colorbar": {
             "outlinewidth": 0,
             "ticks": ""
            },
            "colorscale": [
             [
              0,
              "#0d0887"
             ],
             [
              0.1111111111111111,
              "#46039f"
             ],
             [
              0.2222222222222222,
              "#7201a8"
             ],
             [
              0.3333333333333333,
              "#9c179e"
             ],
             [
              0.4444444444444444,
              "#bd3786"
             ],
             [
              0.5555555555555556,
              "#d8576b"
             ],
             [
              0.6666666666666666,
              "#ed7953"
             ],
             [
              0.7777777777777778,
              "#fb9f3a"
             ],
             [
              0.8888888888888888,
              "#fdca26"
             ],
             [
              1,
              "#f0f921"
             ]
            ],
            "type": "histogram2dcontour"
           }
          ],
          "mesh3d": [
           {
            "colorbar": {
             "outlinewidth": 0,
             "ticks": ""
            },
            "type": "mesh3d"
           }
          ],
          "parcoords": [
           {
            "line": {
             "colorbar": {
              "outlinewidth": 0,
              "ticks": ""
             }
            },
            "type": "parcoords"
           }
          ],
          "pie": [
           {
            "automargin": true,
            "type": "pie"
           }
          ],
          "scatter": [
           {
            "marker": {
             "colorbar": {
              "outlinewidth": 0,
              "ticks": ""
             }
            },
            "type": "scatter"
           }
          ],
          "scatter3d": [
           {
            "line": {
             "colorbar": {
              "outlinewidth": 0,
              "ticks": ""
             }
            },
            "marker": {
             "colorbar": {
              "outlinewidth": 0,
              "ticks": ""
             }
            },
            "type": "scatter3d"
           }
          ],
          "scattercarpet": [
           {
            "marker": {
             "colorbar": {
              "outlinewidth": 0,
              "ticks": ""
             }
            },
            "type": "scattercarpet"
           }
          ],
          "scattergeo": [
           {
            "marker": {
             "colorbar": {
              "outlinewidth": 0,
              "ticks": ""
             }
            },
            "type": "scattergeo"
           }
          ],
          "scattergl": [
           {
            "marker": {
             "colorbar": {
              "outlinewidth": 0,
              "ticks": ""
             }
            },
            "type": "scattergl"
           }
          ],
          "scattermapbox": [
           {
            "marker": {
             "colorbar": {
              "outlinewidth": 0,
              "ticks": ""
             }
            },
            "type": "scattermapbox"
           }
          ],
          "scatterpolar": [
           {
            "marker": {
             "colorbar": {
              "outlinewidth": 0,
              "ticks": ""
             }
            },
            "type": "scatterpolar"
           }
          ],
          "scatterpolargl": [
           {
            "marker": {
             "colorbar": {
              "outlinewidth": 0,
              "ticks": ""
             }
            },
            "type": "scatterpolargl"
           }
          ],
          "scatterternary": [
           {
            "marker": {
             "colorbar": {
              "outlinewidth": 0,
              "ticks": ""
             }
            },
            "type": "scatterternary"
           }
          ],
          "surface": [
           {
            "colorbar": {
             "outlinewidth": 0,
             "ticks": ""
            },
            "colorscale": [
             [
              0,
              "#0d0887"
             ],
             [
              0.1111111111111111,
              "#46039f"
             ],
             [
              0.2222222222222222,
              "#7201a8"
             ],
             [
              0.3333333333333333,
              "#9c179e"
             ],
             [
              0.4444444444444444,
              "#bd3786"
             ],
             [
              0.5555555555555556,
              "#d8576b"
             ],
             [
              0.6666666666666666,
              "#ed7953"
             ],
             [
              0.7777777777777778,
              "#fb9f3a"
             ],
             [
              0.8888888888888888,
              "#fdca26"
             ],
             [
              1,
              "#f0f921"
             ]
            ],
            "type": "surface"
           }
          ],
          "table": [
           {
            "cells": {
             "fill": {
              "color": "#EBF0F8"
             },
             "line": {
              "color": "white"
             }
            },
            "header": {
             "fill": {
              "color": "#C8D4E3"
             },
             "line": {
              "color": "white"
             }
            },
            "type": "table"
           }
          ]
         },
         "layout": {
          "annotationdefaults": {
           "arrowcolor": "#2a3f5f",
           "arrowhead": 0,
           "arrowwidth": 1
          },
          "autotypenumbers": "strict",
          "coloraxis": {
           "colorbar": {
            "outlinewidth": 0,
            "ticks": ""
           }
          },
          "colorscale": {
           "diverging": [
            [
             0,
             "#8e0152"
            ],
            [
             0.1,
             "#c51b7d"
            ],
            [
             0.2,
             "#de77ae"
            ],
            [
             0.3,
             "#f1b6da"
            ],
            [
             0.4,
             "#fde0ef"
            ],
            [
             0.5,
             "#f7f7f7"
            ],
            [
             0.6,
             "#e6f5d0"
            ],
            [
             0.7,
             "#b8e186"
            ],
            [
             0.8,
             "#7fbc41"
            ],
            [
             0.9,
             "#4d9221"
            ],
            [
             1,
             "#276419"
            ]
           ],
           "sequential": [
            [
             0,
             "#0d0887"
            ],
            [
             0.1111111111111111,
             "#46039f"
            ],
            [
             0.2222222222222222,
             "#7201a8"
            ],
            [
             0.3333333333333333,
             "#9c179e"
            ],
            [
             0.4444444444444444,
             "#bd3786"
            ],
            [
             0.5555555555555556,
             "#d8576b"
            ],
            [
             0.6666666666666666,
             "#ed7953"
            ],
            [
             0.7777777777777778,
             "#fb9f3a"
            ],
            [
             0.8888888888888888,
             "#fdca26"
            ],
            [
             1,
             "#f0f921"
            ]
           ],
           "sequentialminus": [
            [
             0,
             "#0d0887"
            ],
            [
             0.1111111111111111,
             "#46039f"
            ],
            [
             0.2222222222222222,
             "#7201a8"
            ],
            [
             0.3333333333333333,
             "#9c179e"
            ],
            [
             0.4444444444444444,
             "#bd3786"
            ],
            [
             0.5555555555555556,
             "#d8576b"
            ],
            [
             0.6666666666666666,
             "#ed7953"
            ],
            [
             0.7777777777777778,
             "#fb9f3a"
            ],
            [
             0.8888888888888888,
             "#fdca26"
            ],
            [
             1,
             "#f0f921"
            ]
           ]
          },
          "colorway": [
           "#636efa",
           "#EF553B",
           "#00cc96",
           "#ab63fa",
           "#FFA15A",
           "#19d3f3",
           "#FF6692",
           "#B6E880",
           "#FF97FF",
           "#FECB52"
          ],
          "font": {
           "color": "#2a3f5f"
          },
          "geo": {
           "bgcolor": "white",
           "lakecolor": "white",
           "landcolor": "#E5ECF6",
           "showlakes": true,
           "showland": true,
           "subunitcolor": "white"
          },
          "hoverlabel": {
           "align": "left"
          },
          "hovermode": "closest",
          "mapbox": {
           "style": "light"
          },
          "paper_bgcolor": "white",
          "plot_bgcolor": "#E5ECF6",
          "polar": {
           "angularaxis": {
            "gridcolor": "white",
            "linecolor": "white",
            "ticks": ""
           },
           "bgcolor": "#E5ECF6",
           "radialaxis": {
            "gridcolor": "white",
            "linecolor": "white",
            "ticks": ""
           }
          },
          "scene": {
           "xaxis": {
            "backgroundcolor": "#E5ECF6",
            "gridcolor": "white",
            "gridwidth": 2,
            "linecolor": "white",
            "showbackground": true,
            "ticks": "",
            "zerolinecolor": "white"
           },
           "yaxis": {
            "backgroundcolor": "#E5ECF6",
            "gridcolor": "white",
            "gridwidth": 2,
            "linecolor": "white",
            "showbackground": true,
            "ticks": "",
            "zerolinecolor": "white"
           },
           "zaxis": {
            "backgroundcolor": "#E5ECF6",
            "gridcolor": "white",
            "gridwidth": 2,
            "linecolor": "white",
            "showbackground": true,
            "ticks": "",
            "zerolinecolor": "white"
           }
          },
          "shapedefaults": {
           "line": {
            "color": "#2a3f5f"
           }
          },
          "ternary": {
           "aaxis": {
            "gridcolor": "white",
            "linecolor": "white",
            "ticks": ""
           },
           "baxis": {
            "gridcolor": "white",
            "linecolor": "white",
            "ticks": ""
           },
           "bgcolor": "#E5ECF6",
           "caxis": {
            "gridcolor": "white",
            "linecolor": "white",
            "ticks": ""
           }
          },
          "title": {
           "x": 0.05
          },
          "xaxis": {
           "automargin": true,
           "gridcolor": "white",
           "linecolor": "white",
           "ticks": "",
           "title": {
            "standoff": 15
           },
           "zerolinecolor": "white",
           "zerolinewidth": 2
          },
          "yaxis": {
           "automargin": true,
           "gridcolor": "white",
           "linecolor": "white",
           "ticks": "",
           "title": {
            "standoff": 15
           },
           "zerolinecolor": "white",
           "zerolinewidth": 2
          }
         }
        }
       }
      },
      "text/html": [
       "<div>                            <div id=\"ace1f1aa-9c05-4666-b346-fbb4ac78c703\" class=\"plotly-graph-div\" style=\"height:525px; width:100%;\"></div>            <script type=\"text/javascript\">                require([\"plotly\"], function(Plotly) {                    window.PLOTLYENV=window.PLOTLYENV || {};                                    if (document.getElementById(\"ace1f1aa-9c05-4666-b346-fbb4ac78c703\")) {                    Plotly.newPlot(                        \"ace1f1aa-9c05-4666-b346-fbb4ac78c703\",                        [{\"lat\": [35.568139, 35.5682083, 35.569225, 35.5696339, 35.5697011, 35.5697011, 35.5697471, 35.5698197, 35.5700451, 35.5701717, 35.5701871, 35.5702227, 35.5702227, 35.570155, 35.5694491, 35.5694491, 35.5694787, 35.5697, 35.569923, 35.5699905, 35.57004, 35.57004, 35.569975, 35.5699388, 35.5698645, 35.5697497, 35.569653, 35.5695668, 35.5687103, 35.5685803, 35.5684931, 35.5682114, 35.568081, 35.5677659, 35.567541, 35.5673849, 35.5672076, 35.567095, 35.5669112, 35.5668394, 35.5667274, 35.5666292, 35.5665036, 35.5664715, 35.5664715, 35.5665398, 35.5680563, 35.568139], \"line\": {\"color\": \"grey\", \"width\": 4.5}, \"lon\": [-78.813101, -78.8131413, -78.813733, -78.8140689, -78.8141241, -78.8141241, -78.8140532, -78.8139415, -78.8135851, -78.8133389, -78.8132983, -78.8132046, -78.8132046, -78.8131627, -78.8127255, -78.8127255, -78.8126568, -78.812144, -78.81179, -78.8117086, -78.811649, -78.811649, -78.8115591, -78.8115091, -78.8114172, -78.8113384, -78.811304, -78.8112847, -78.8113299, -78.8113106, -78.8112715, -78.811118, -78.811065, -78.8110191, -78.8109834, -78.8109974, -78.8110578, -78.811111, -78.8112608, -78.811355, -78.8115268, -78.8117489, -78.8120781, -78.8121623, -78.8121623, -78.8122008, -78.8130545, -78.813101], \"marker\": {\"size\": 10}, \"mode\": \"lines\", \"name\": \"Path\", \"type\": \"scattermapbox\"}, {\"lat\": [35.568139], \"lon\": [-78.813101], \"marker\": {\"color\": \"red\", \"size\": 12}, \"mode\": \"markers\", \"name\": \"Source\", \"type\": \"scattermapbox\"}, {\"lat\": [35.568139], \"lon\": [-78.813101], \"marker\": {\"color\": \"green\", \"size\": 12}, \"mode\": \"markers\", \"name\": \"Destination\", \"type\": \"scattermapbox\"}],                        {\"mapbox\": {\"center\": {\"lat\": 35.56875743958333, \"lon\": -78.812238675}, \"style\": \"carto-darkmatter\", \"zoom\": 13}, \"margin\": {\"b\": 0, \"l\": 0, \"r\": 0, \"t\": 0}, \"template\": {\"data\": {\"bar\": [{\"error_x\": {\"color\": \"#2a3f5f\"}, \"error_y\": {\"color\": \"#2a3f5f\"}, \"marker\": {\"line\": {\"color\": \"#E5ECF6\", \"width\": 0.5}}, \"type\": \"bar\"}], \"barpolar\": [{\"marker\": {\"line\": {\"color\": \"#E5ECF6\", \"width\": 0.5}}, \"type\": \"barpolar\"}], \"carpet\": [{\"aaxis\": {\"endlinecolor\": \"#2a3f5f\", \"gridcolor\": \"white\", \"linecolor\": \"white\", \"minorgridcolor\": \"white\", \"startlinecolor\": \"#2a3f5f\"}, \"baxis\": {\"endlinecolor\": \"#2a3f5f\", \"gridcolor\": \"white\", \"linecolor\": \"white\", \"minorgridcolor\": \"white\", \"startlinecolor\": \"#2a3f5f\"}, \"type\": \"carpet\"}], \"choropleth\": [{\"colorbar\": {\"outlinewidth\": 0, \"ticks\": \"\"}, \"type\": \"choropleth\"}], \"contour\": [{\"colorbar\": {\"outlinewidth\": 0, \"ticks\": \"\"}, \"colorscale\": [[0.0, \"#0d0887\"], [0.1111111111111111, \"#46039f\"], [0.2222222222222222, \"#7201a8\"], [0.3333333333333333, \"#9c179e\"], [0.4444444444444444, \"#bd3786\"], [0.5555555555555556, \"#d8576b\"], [0.6666666666666666, \"#ed7953\"], [0.7777777777777778, \"#fb9f3a\"], [0.8888888888888888, \"#fdca26\"], [1.0, \"#f0f921\"]], \"type\": \"contour\"}], \"contourcarpet\": [{\"colorbar\": {\"outlinewidth\": 0, \"ticks\": \"\"}, \"type\": \"contourcarpet\"}], \"heatmap\": [{\"colorbar\": {\"outlinewidth\": 0, \"ticks\": \"\"}, \"colorscale\": [[0.0, \"#0d0887\"], [0.1111111111111111, \"#46039f\"], [0.2222222222222222, \"#7201a8\"], [0.3333333333333333, \"#9c179e\"], [0.4444444444444444, \"#bd3786\"], [0.5555555555555556, \"#d8576b\"], [0.6666666666666666, \"#ed7953\"], [0.7777777777777778, \"#fb9f3a\"], [0.8888888888888888, \"#fdca26\"], [1.0, \"#f0f921\"]], \"type\": \"heatmap\"}], \"heatmapgl\": [{\"colorbar\": {\"outlinewidth\": 0, \"ticks\": \"\"}, \"colorscale\": [[0.0, \"#0d0887\"], [0.1111111111111111, \"#46039f\"], [0.2222222222222222, \"#7201a8\"], [0.3333333333333333, \"#9c179e\"], [0.4444444444444444, \"#bd3786\"], [0.5555555555555556, \"#d8576b\"], [0.6666666666666666, \"#ed7953\"], [0.7777777777777778, \"#fb9f3a\"], [0.8888888888888888, \"#fdca26\"], [1.0, \"#f0f921\"]], \"type\": \"heatmapgl\"}], \"histogram\": [{\"marker\": {\"colorbar\": {\"outlinewidth\": 0, \"ticks\": \"\"}}, \"type\": \"histogram\"}], \"histogram2d\": [{\"colorbar\": {\"outlinewidth\": 0, \"ticks\": \"\"}, \"colorscale\": [[0.0, \"#0d0887\"], [0.1111111111111111, \"#46039f\"], [0.2222222222222222, \"#7201a8\"], [0.3333333333333333, \"#9c179e\"], [0.4444444444444444, \"#bd3786\"], [0.5555555555555556, \"#d8576b\"], [0.6666666666666666, \"#ed7953\"], [0.7777777777777778, \"#fb9f3a\"], [0.8888888888888888, \"#fdca26\"], [1.0, \"#f0f921\"]], \"type\": \"histogram2d\"}], \"histogram2dcontour\": [{\"colorbar\": {\"outlinewidth\": 0, \"ticks\": \"\"}, \"colorscale\": [[0.0, \"#0d0887\"], [0.1111111111111111, \"#46039f\"], [0.2222222222222222, \"#7201a8\"], [0.3333333333333333, \"#9c179e\"], [0.4444444444444444, \"#bd3786\"], [0.5555555555555556, \"#d8576b\"], [0.6666666666666666, \"#ed7953\"], [0.7777777777777778, \"#fb9f3a\"], [0.8888888888888888, \"#fdca26\"], [1.0, \"#f0f921\"]], \"type\": \"histogram2dcontour\"}], \"mesh3d\": [{\"colorbar\": {\"outlinewidth\": 0, \"ticks\": \"\"}, \"type\": \"mesh3d\"}], \"parcoords\": [{\"line\": {\"colorbar\": {\"outlinewidth\": 0, \"ticks\": \"\"}}, \"type\": \"parcoords\"}], \"pie\": [{\"automargin\": true, \"type\": \"pie\"}], \"scatter\": [{\"marker\": {\"colorbar\": {\"outlinewidth\": 0, \"ticks\": \"\"}}, \"type\": \"scatter\"}], \"scatter3d\": [{\"line\": {\"colorbar\": {\"outlinewidth\": 0, \"ticks\": \"\"}}, \"marker\": {\"colorbar\": {\"outlinewidth\": 0, \"ticks\": \"\"}}, \"type\": \"scatter3d\"}], \"scattercarpet\": [{\"marker\": {\"colorbar\": {\"outlinewidth\": 0, \"ticks\": \"\"}}, \"type\": \"scattercarpet\"}], \"scattergeo\": [{\"marker\": {\"colorbar\": {\"outlinewidth\": 0, \"ticks\": \"\"}}, \"type\": \"scattergeo\"}], \"scattergl\": [{\"marker\": {\"colorbar\": {\"outlinewidth\": 0, \"ticks\": \"\"}}, \"type\": \"scattergl\"}], \"scattermapbox\": [{\"marker\": {\"colorbar\": {\"outlinewidth\": 0, \"ticks\": \"\"}}, \"type\": \"scattermapbox\"}], \"scatterpolar\": [{\"marker\": {\"colorbar\": {\"outlinewidth\": 0, \"ticks\": \"\"}}, \"type\": \"scatterpolar\"}], \"scatterpolargl\": [{\"marker\": {\"colorbar\": {\"outlinewidth\": 0, \"ticks\": \"\"}}, \"type\": \"scatterpolargl\"}], \"scatterternary\": [{\"marker\": {\"colorbar\": {\"outlinewidth\": 0, \"ticks\": \"\"}}, \"type\": \"scatterternary\"}], \"surface\": [{\"colorbar\": {\"outlinewidth\": 0, \"ticks\": \"\"}, \"colorscale\": [[0.0, \"#0d0887\"], [0.1111111111111111, \"#46039f\"], [0.2222222222222222, \"#7201a8\"], [0.3333333333333333, \"#9c179e\"], [0.4444444444444444, \"#bd3786\"], [0.5555555555555556, \"#d8576b\"], [0.6666666666666666, \"#ed7953\"], [0.7777777777777778, \"#fb9f3a\"], [0.8888888888888888, \"#fdca26\"], [1.0, \"#f0f921\"]], \"type\": \"surface\"}], \"table\": [{\"cells\": {\"fill\": {\"color\": \"#EBF0F8\"}, \"line\": {\"color\": \"white\"}}, \"header\": {\"fill\": {\"color\": \"#C8D4E3\"}, \"line\": {\"color\": \"white\"}}, \"type\": \"table\"}]}, \"layout\": {\"annotationdefaults\": {\"arrowcolor\": \"#2a3f5f\", \"arrowhead\": 0, \"arrowwidth\": 1}, \"autotypenumbers\": \"strict\", \"coloraxis\": {\"colorbar\": {\"outlinewidth\": 0, \"ticks\": \"\"}}, \"colorscale\": {\"diverging\": [[0, \"#8e0152\"], [0.1, \"#c51b7d\"], [0.2, \"#de77ae\"], [0.3, \"#f1b6da\"], [0.4, \"#fde0ef\"], [0.5, \"#f7f7f7\"], [0.6, \"#e6f5d0\"], [0.7, \"#b8e186\"], [0.8, \"#7fbc41\"], [0.9, \"#4d9221\"], [1, \"#276419\"]], \"sequential\": [[0.0, \"#0d0887\"], [0.1111111111111111, \"#46039f\"], [0.2222222222222222, \"#7201a8\"], [0.3333333333333333, \"#9c179e\"], [0.4444444444444444, \"#bd3786\"], [0.5555555555555556, \"#d8576b\"], [0.6666666666666666, \"#ed7953\"], [0.7777777777777778, \"#fb9f3a\"], [0.8888888888888888, \"#fdca26\"], [1.0, \"#f0f921\"]], \"sequentialminus\": [[0.0, \"#0d0887\"], [0.1111111111111111, \"#46039f\"], [0.2222222222222222, \"#7201a8\"], [0.3333333333333333, \"#9c179e\"], [0.4444444444444444, \"#bd3786\"], [0.5555555555555556, \"#d8576b\"], [0.6666666666666666, \"#ed7953\"], [0.7777777777777778, \"#fb9f3a\"], [0.8888888888888888, \"#fdca26\"], [1.0, \"#f0f921\"]]}, \"colorway\": [\"#636efa\", \"#EF553B\", \"#00cc96\", \"#ab63fa\", \"#FFA15A\", \"#19d3f3\", \"#FF6692\", \"#B6E880\", \"#FF97FF\", \"#FECB52\"], \"font\": {\"color\": \"#2a3f5f\"}, \"geo\": {\"bgcolor\": \"white\", \"lakecolor\": \"white\", \"landcolor\": \"#E5ECF6\", \"showlakes\": true, \"showland\": true, \"subunitcolor\": \"white\"}, \"hoverlabel\": {\"align\": \"left\"}, \"hovermode\": \"closest\", \"mapbox\": {\"style\": \"light\"}, \"paper_bgcolor\": \"white\", \"plot_bgcolor\": \"#E5ECF6\", \"polar\": {\"angularaxis\": {\"gridcolor\": \"white\", \"linecolor\": \"white\", \"ticks\": \"\"}, \"bgcolor\": \"#E5ECF6\", \"radialaxis\": {\"gridcolor\": \"white\", \"linecolor\": \"white\", \"ticks\": \"\"}}, \"scene\": {\"xaxis\": {\"backgroundcolor\": \"#E5ECF6\", \"gridcolor\": \"white\", \"gridwidth\": 2, \"linecolor\": \"white\", \"showbackground\": true, \"ticks\": \"\", \"zerolinecolor\": \"white\"}, \"yaxis\": {\"backgroundcolor\": \"#E5ECF6\", \"gridcolor\": \"white\", \"gridwidth\": 2, \"linecolor\": \"white\", \"showbackground\": true, \"ticks\": \"\", \"zerolinecolor\": \"white\"}, \"zaxis\": {\"backgroundcolor\": \"#E5ECF6\", \"gridcolor\": \"white\", \"gridwidth\": 2, \"linecolor\": \"white\", \"showbackground\": true, \"ticks\": \"\", \"zerolinecolor\": \"white\"}}, \"shapedefaults\": {\"line\": {\"color\": \"#2a3f5f\"}}, \"ternary\": {\"aaxis\": {\"gridcolor\": \"white\", \"linecolor\": \"white\", \"ticks\": \"\"}, \"baxis\": {\"gridcolor\": \"white\", \"linecolor\": \"white\", \"ticks\": \"\"}, \"bgcolor\": \"#E5ECF6\", \"caxis\": {\"gridcolor\": \"white\", \"linecolor\": \"white\", \"ticks\": \"\"}}, \"title\": {\"x\": 0.05}, \"xaxis\": {\"automargin\": true, \"gridcolor\": \"white\", \"linecolor\": \"white\", \"ticks\": \"\", \"title\": {\"standoff\": 15}, \"zerolinecolor\": \"white\", \"zerolinewidth\": 2}, \"yaxis\": {\"automargin\": true, \"gridcolor\": \"white\", \"linecolor\": \"white\", \"ticks\": \"\", \"title\": {\"standoff\": 15}, \"zerolinecolor\": \"white\", \"zerolinewidth\": 2}}}},                        {\"responsive\": true}                    ).then(function(){\n",
       "                            \n",
       "var gd = document.getElementById('ace1f1aa-9c05-4666-b346-fbb4ac78c703');\n",
       "var x = new MutationObserver(function (mutations, observer) {{\n",
       "        var display = window.getComputedStyle(gd).display;\n",
       "        if (!display || display === 'none') {{\n",
       "            console.log([gd, 'removed!']);\n",
       "            Plotly.purge(gd);\n",
       "            observer.disconnect();\n",
       "        }}\n",
       "}});\n",
       "\n",
       "// Listen for the removal of the full notebook cells\n",
       "var notebookContainer = gd.closest('#notebook-container');\n",
       "if (notebookContainer) {{\n",
       "    x.observe(notebookContainer, {childList: true});\n",
       "}}\n",
       "\n",
       "// Listen for the clearing of the current output cell\n",
       "var outputEl = gd.closest('.output');\n",
       "if (outputEl) {{\n",
       "    x.observe(outputEl, {childList: true});\n",
       "}}\n",
       "\n",
       "                        })                };                });            </script>        </div>"
      ]
     },
     "metadata": {},
     "output_type": "display_data"
    }
   ],
   "source": [
    "\n",
    "#Creating a bounding box\n",
    "east, north, west, south = -78.814231,35.566406,-78.810755,35.570595\n",
    "G = ox.graph_from_bbox(north, south, east, west, network_type=\"drive_service\")\n",
    "colors = plt.rcParams['axes.prop_cycle'].by_key()['color']\n",
    "ox.plot.plot_graph(G, bgcolor='#FFFFFF', node_color=colors[0], edge_color='lightgray', node_size=5)\n",
    "\n",
    "\n",
    "    #Extracting Node Information from G\n",
    "Nodes = []\n",
    "for i in G.nodes:\n",
    "    Nodes.append(i)\n",
    "\n",
    "data = pd.DataFrame(Nodes)\n",
    "data.rename(columns = {0:'Nodes'}, inplace = True)\n",
    "\n",
    "\n",
    "lat1 = []\n",
    "long1 = []\n",
    "for i in Nodes:\n",
    "    lat1.append(G.nodes[i].get('y'))\n",
    "    long1.append(G.nodes[i].get('x'))\n",
    "data['Latitude'] = lat1\n",
    "data['Longitude'] = long1\n",
    "df1 = data\n",
    "G = ox.graph_from_place('Fuquay Varina, NC, USA', network_type='drive')\n",
    "\n",
    "df1 = df1.drop(['Nodes'],axis=1)\n",
    "df1.rename(columns = {'Latitude':'Left'}, inplace = True)\n",
    "df1.rename(columns = {'Longitude':'Right'}, inplace = True)\n",
    "\n",
    "    #Calculating Distance and the distance matrix for all coordinates in the Bounding Box\n",
    "df3 = pd.DataFrame()\n",
    "for j in df1.index:\n",
    "    list1 = []\n",
    "    for i in df1.index:\n",
    "        r = requests.get(f\"\"\"http://router.project-osrm.org/route/v1/car/{df1.loc[j, \"Right\"]},{df1.loc[j, \"Left\"]};{df1.loc[i, \"Right\"]},{df1.loc[i, \"Left\"]}?overview=false\"\"\")\n",
    "        list1.append(json.loads(r.content)[\"routes\"][0][\"distance\"])\n",
    "    df3[j] = list1\n",
    "df = df1\n",
    "df['coordinate'] = list(zip(df['Right'],df['Left']))\n",
    "df['ID'] = df.index\n",
    "\n",
    "locations = dict( ( ID, (df.loc[ID, 'Right'], df.loc[ID, 'Left']) ) for ID in df.index)\n",
    "distances_df = df3\n",
    "distance = distances_df\n",
    "distances = dict( ((l1,l2), distance.iloc[l1, l2] ) for l1 in locations for l2 in locations if l1!=l2)\n",
    "\n",
    "\n",
    "    ## V: This defines the total number of vehicles that will traverse the path.\n",
    "V = 1\n",
    "    ## prob: This initializes the problem that will run using provided constraints.\n",
    "\n",
    "prob=LpProblem(\"vehicle\", LpMinimize)\n",
    "    ## indicator: This defines the variable dictionary consisting of distances and indicates if location i is connected to location j along route\n",
    "indicator = LpVariable.dicts('indicator',distances, 0,1,LpBinary)\n",
    "    ## eliminator: This defines the variable dictionary consisting of the node ID's and elimiate subtours\n",
    "eliminator = LpVariable.dicts('eliminator', df.ID, 0, len(df.ID)-1, LpInteger)\n",
    "    ## cost: This stores the result of distances calculations.\n",
    "cost = lpSum([indicator[(i,j)]*distances[(i,j)] for (i,j) in distances])\n",
    "prob+=cost\n",
    "\n",
    "start1 = 2\n",
    "for v in df.ID:\n",
    "        ## cap: This considers a particular node at a time. \n",
    "    cap = 1 if v != start1 else V\n",
    "        #inward possible route\n",
    "    prob+= lpSum([ indicator[(i,v)] for i in df.ID if (i,v) in indicator]) ==cap\n",
    "        #outward possible route\n",
    "    prob+=lpSum([ indicator[(v,i)] for i in df.ID if (v,i) in indicator]) ==cap\n",
    "    ## num: This stores the result of the number of nodes and the number of vehicles.    \n",
    "num=len(df.ID)/V\n",
    "for i in df.ID:\n",
    "    for j in df.ID:\n",
    "        if i != j and (i != start1 and j!= start1) and (i,j) in indicator:\n",
    "             prob += eliminator[i] - eliminator[j] <= (num)*(1-indicator[(i,j)]) - 1         \n",
    "prob.solve()\n",
    "    ## feasibleedges: This stores values of edges after the calculations are done.\n",
    "feasible_edges = [ e for e in indicator if value(indicator[e]) != 0 ]\n",
    "    ##@get_next_loc\n",
    "    # This provides with the next coordinates for the next node in the path.\n",
    "def get_next_loc(initial):\n",
    "    edges = [e for e in feasible_edges if e[0]==initial]\n",
    "    for e in edges:\n",
    "        feasible_edges.remove(e)\n",
    "    return edges\n",
    "    ## routes: This stores information regarding paths.    \n",
    "routes = get_next_loc(2)\n",
    "routes = [ [e] for e in routes ]\n",
    "\n",
    "for r in routes:\n",
    "    while r[-1][1] !=start1:\n",
    "        r.append(get_next_loc(r[-1][1])[-1])\n",
    "\n",
    "\n",
    "\n",
    "\n",
    "df2 = df[['Left', 'Right', 'ID']].copy()\n",
    "df2.rename(columns = {'Left':'Latitude'}, inplace = True)\n",
    "df2.rename(columns = {'Right':'Longitude'}, inplace = True)\n",
    "a=[]\n",
    "for i in range(data.index.stop):\n",
    "    #print(routes[0][i][0])\n",
    "    a.append(routes[0][i][0]) \n",
    "\n",
    "df3 = pd.DataFrame()\n",
    "for i in a:\n",
    "    df3 = df3.append(df2.loc[i])\n",
    "\n",
    "df3.reset_index(inplace = True)\n",
    "\n",
    "df3 = df3.append(df3.loc[0])\n",
    "df3.reset_index(inplace = True)\n",
    "df4 = df3\n",
    "dfnodes = pd.DataFrame(Nodes)\n",
    "dfnodes.rename(columns = {0:'Nodes'}, inplace = True)\n",
    "dfnodes = dfnodes.reindex(a)\n",
    "dfnodes = dfnodes.append({\"Nodes\":Nodes[a[0]]},ignore_index=True)\n",
    "df4 = pd.concat([df4,dfnodes],axis=1)\n",
    "    \n",
    "    \n",
    "def node_list_to_path2(G, node_list):\n",
    "   \n",
    "    edge_nodes = list(zip(node_list[:-1], node_list[1:]))\n",
    "    lines = []\n",
    "    newlist=[]\n",
    "    \n",
    "    \n",
    "    \n",
    "    \n",
    "    #for u, v in edge_nodes:\n",
    "    #    if(G.get_edge_data(u, v)):\n",
    "    #        newlist.append((u,v))\n",
    "            \n",
    "            \n",
    "            \n",
    "    for u, v in edge_nodes:\n",
    "        if(G.get_edge_data(u, v)):\n",
    "            newlist.append((u,v))\n",
    "        else:    \n",
    "            path1 = nx.shortest_path(G,u, v, weight='travel_time')\n",
    "            path2 = list(zip(path1[:-1], path1[1:]))\n",
    "            newlist = newlist+path2        \n",
    "    #print(newlist)\n",
    "    #print(len(newlist))\n",
    "    \n",
    "    for u, v in newlist:\n",
    "        # if there are parallel edges, select the shortest in length\n",
    "        \n",
    "        data = min(G.get_edge_data(u, v).values(), \n",
    "                key=lambda x: x['length'])\n",
    "            # if it has a geometry attribute\n",
    "        if 'geometry' in data:\n",
    "            # add them to the list of lines to plot\n",
    "            xs, ys = data['geometry'].xy\n",
    "            lines.append(list(zip(xs, ys)))\n",
    "        else:\n",
    "            # if it doesn't have a geometry attribute,\n",
    "            # then the edge is a straight line from node to node\n",
    "            x1 = G.nodes[u]['x']\n",
    "            y1 = G.nodes[u]['y']\n",
    "            x2 = G.nodes[v]['x']\n",
    "            y2 = G.nodes[v]['y']\n",
    "            line = [(x1, y1), (x2, y2)]\n",
    "            lines.append(line)\n",
    "            \n",
    "    return lines    \n",
    "    \n",
    "    \n",
    "    \n",
    "def plot_path(lat, long, origin_point, destination_point):\n",
    "    fig = go.Figure(go.Scattermapbox(\n",
    "        name = \"Path\",\n",
    "        mode = \"lines\",\n",
    "        lon = long,\n",
    "        lat = lat,\n",
    "        marker = {'size': 10},\n",
    "        line = dict(width = 4.5, color = 'grey')))\n",
    "    fig.add_trace(go.Scattermapbox(\n",
    "        name = \"Source\",\n",
    "        mode = \"markers\",\n",
    "        lon = [origin_point[1]],\n",
    "        lat = [origin_point[0]],\n",
    "        marker = {'size': 12, 'color':\"red\"}))\n",
    "    fig.add_trace(go.Scattermapbox(\n",
    "        name = \"Destination\",\n",
    "        mode = \"markers\",\n",
    "        lon = [destination_point[1]],\n",
    "        lat = [destination_point[0]],\n",
    "        marker = {'size': 12, 'color':'green'}))\n",
    "    lat_center = np.mean(lat)\n",
    "    long_center = np.mean(long)\n",
    "    fig.update_layout(mapbox_style=\"carto-darkmatter\",\n",
    "        mapbox_center_lat = 30, mapbox_center_lon=-80)\n",
    "    fig.update_layout(margin={\"r\":0,\"t\":0,\"l\":0,\"b\":0},\n",
    "                        mapbox = {\n",
    "                            'center': {'lat': lat_center, \n",
    "                            'lon': long_center},\n",
    "                            'zoom': 13})\n",
    "    fig.show()\n",
    "\n",
    "\n",
    "pathlist = []\n",
    "for i in range(df4['Nodes'].count()-1):\n",
    "    path1 = nx.shortest_path(G, df4.iloc[i]['Nodes'],df4.iloc[i+1]['Nodes'], weight='travel_time')\n",
    "    pathlist = pathlist+path1\n",
    "#pathlist1 = list(dict.fromkeys(pathlist))\n",
    "#pathlist1.append(pathlist1[0])\n",
    "data4 = pd.DataFrame(pathlist)\n",
    "data4.rename(columns = {0:'Nodes'}, inplace = True)\n",
    "lat1 = []\n",
    "long1 = []\n",
    "lines = node_list_to_path2(G, pathlist)\n",
    "long2 = []\n",
    "lat2 = []\n",
    "for i in range(len(lines)):\n",
    "    z = list(lines[i])\n",
    "    l1 = list(list(zip(*z))[0])\n",
    "    l2 = list(list(zip(*z))[1])\n",
    "    for j in range(len(l1)):\n",
    "        long2.append(l1[j])\n",
    "        lat2.append(l2[j])\n",
    "        \n",
    "newdf = pd.DataFrame()\n",
    "newdf['Latitude'] = lat2\n",
    "newdf['Longitude'] = long2\n",
    "Trash = []\n",
    "for i in newdf.index:\n",
    "    Trash.append(random.randint(10,25))\n",
    "newdf['Trash'] = Trash\n",
    "            \n",
    "for i in pathlist:\n",
    "    lat1.append(G.nodes[i].get('y'))\n",
    "    long1.append(G.nodes[i].get('x'))\n",
    "data4['Latitude'] = lat1\n",
    "data4['Longitude'] = long1\n",
    "origin_point = (data4.loc[0][\"Latitude\"], data4.loc[0][\"Longitude\"]) \n",
    "destination_point = (data4.iloc[-1][\"Latitude\"], data4.iloc[-1][\"Longitude\"])\n",
    "#plot_path(lat1, long1, origin_point, destination_point)\n",
    "\n",
    "\n",
    "plot_path(lat2, long2, origin_point, destination_point)\n"
   ]
  },
  {
   "cell_type": "code",
   "execution_count": 64,
   "id": "dominant-albert",
   "metadata": {},
   "outputs": [
    {
     "data": {
      "text/plain": [
       "830"
      ]
     },
     "execution_count": 64,
     "metadata": {},
     "output_type": "execute_result"
    }
   ],
   "source": [
    "sum(Trash)"
   ]
  },
  {
   "cell_type": "code",
   "execution_count": 65,
   "id": "failing-rider",
   "metadata": {},
   "outputs": [],
   "source": [
    "#Time SPent: 100 - 600 seconds\n",
    "#Collection Point Type: Freestanding Container, Covered and Open, Covered and Closed\n",
    "#Building Type: Single Family Housing, Multi Family Housing, Work Places\n",
    "#Surface Type: Paved, Unpaved\n",
    "#Number of Loaders: 1, 2\n",
    "#Planned Cleaning: No cleaning, Bin Cleaning\n",
    "#Truck Distance from Collection Point: 0-15 m, 15-30 m, >30m"
   ]
  },
  {
   "cell_type": "code",
   "execution_count": 71,
   "id": "administrative-pittsburgh",
   "metadata": {},
   "outputs": [
    {
     "data": {
      "text/plain": [
       "'Single Family Housing'"
      ]
     },
     "execution_count": 71,
     "metadata": {},
     "output_type": "execute_result"
    }
   ],
   "source": [
    "random.choice(['Single Family Housing', 'Multi Family Housing', 'Work Places'])"
   ]
  },
  {
   "cell_type": "code",
   "execution_count": 79,
   "id": "confident-situation",
   "metadata": {},
   "outputs": [],
   "source": [
    "Time_Spent = []\n",
    "Collection_Point_Type = []\n",
    "Building_Type = []\n",
    "Surface_Type = []\n",
    "Number_of_Loaders = []\n",
    "Planned_Cleaning = []\n",
    "Truck_Distance = []\n",
    "for i in newdf.index:\n",
    "    Trash.append(random.randint(10,25))\n",
    "    Time_Spent.append(random.choice(['<300','>300']))\n",
    "    Collection_Point_Type.append(random.choice(['Freestanding Container', 'Covered and Open', 'Covered and Closed']))\n",
    "    Building_Type.append(random.choice(['Single Family Housing', 'Multi Family Housing', 'Work Places']))\n",
    "    Surface_Type.append(random.choice(['Paved', 'Unpaved']))\n",
    "    Number_of_Loaders.append(random.choice(['1', '2']))\n",
    "    Planned_Cleaning.append(random.choice(['No Cleaning', 'Bin Cleaning']))\n",
    "    Truck_Distance.append(random.choice(['0-15 m', '15-30 m', '>30m']))\n"
   ]
  },
  {
   "cell_type": "code",
   "execution_count": 80,
   "id": "reserved-racing",
   "metadata": {},
   "outputs": [],
   "source": [
    "newdf['Time_Spent'] = Time_Spent\n",
    "newdf['Collection_Point_Type'] = Collection_Point_Type\n",
    "newdf['Building_Type'] = Building_Type\n",
    "newdf['Surface_Type'] = Surface_Type\n",
    "newdf['Number_of_Loaders'] = Number_of_Loaders\n",
    "newdf['Planned_Cleaning'] = Planned_Cleaning\n",
    "newdf['Truck_Distance'] = Truck_Distance"
   ]
  },
  {
   "cell_type": "code",
   "execution_count": 81,
   "id": "lesbian-longer",
   "metadata": {},
   "outputs": [
    {
     "data": {
      "text/html": [
       "<div>\n",
       "<style scoped>\n",
       "    .dataframe tbody tr th:only-of-type {\n",
       "        vertical-align: middle;\n",
       "    }\n",
       "\n",
       "    .dataframe tbody tr th {\n",
       "        vertical-align: top;\n",
       "    }\n",
       "\n",
       "    .dataframe thead th {\n",
       "        text-align: right;\n",
       "    }\n",
       "</style>\n",
       "<table border=\"1\" class=\"dataframe\">\n",
       "  <thead>\n",
       "    <tr style=\"text-align: right;\">\n",
       "      <th></th>\n",
       "      <th>Latitude</th>\n",
       "      <th>Longitude</th>\n",
       "      <th>Trash</th>\n",
       "      <th>Time_Spent</th>\n",
       "      <th>Collection_Point_Type</th>\n",
       "      <th>Building_Type</th>\n",
       "      <th>Surface_Type</th>\n",
       "      <th>Number_of_Loaders</th>\n",
       "      <th>Planned_Cleaning</th>\n",
       "      <th>Truck_Distance</th>\n",
       "    </tr>\n",
       "  </thead>\n",
       "  <tbody>\n",
       "    <tr>\n",
       "      <th>0</th>\n",
       "      <td>35.568139</td>\n",
       "      <td>-78.813101</td>\n",
       "      <td>15</td>\n",
       "      <td>&lt;300</td>\n",
       "      <td>Freestanding Container</td>\n",
       "      <td>Single Family Housing</td>\n",
       "      <td>Unpaved</td>\n",
       "      <td>2</td>\n",
       "      <td>No Cleaning</td>\n",
       "      <td>15-30 m</td>\n",
       "    </tr>\n",
       "    <tr>\n",
       "      <th>1</th>\n",
       "      <td>35.568208</td>\n",
       "      <td>-78.813141</td>\n",
       "      <td>20</td>\n",
       "      <td>&lt;300</td>\n",
       "      <td>Freestanding Container</td>\n",
       "      <td>Work Places</td>\n",
       "      <td>Unpaved</td>\n",
       "      <td>2</td>\n",
       "      <td>No Cleaning</td>\n",
       "      <td>0-15 m</td>\n",
       "    </tr>\n",
       "    <tr>\n",
       "      <th>2</th>\n",
       "      <td>35.569225</td>\n",
       "      <td>-78.813733</td>\n",
       "      <td>24</td>\n",
       "      <td>&lt;300</td>\n",
       "      <td>Covered and Closed</td>\n",
       "      <td>Single Family Housing</td>\n",
       "      <td>Unpaved</td>\n",
       "      <td>1</td>\n",
       "      <td>No Cleaning</td>\n",
       "      <td>0-15 m</td>\n",
       "    </tr>\n",
       "    <tr>\n",
       "      <th>3</th>\n",
       "      <td>35.569634</td>\n",
       "      <td>-78.814069</td>\n",
       "      <td>22</td>\n",
       "      <td>&lt;300</td>\n",
       "      <td>Covered and Open</td>\n",
       "      <td>Multi Family Housing</td>\n",
       "      <td>Paved</td>\n",
       "      <td>1</td>\n",
       "      <td>No Cleaning</td>\n",
       "      <td>0-15 m</td>\n",
       "    </tr>\n",
       "    <tr>\n",
       "      <th>4</th>\n",
       "      <td>35.569701</td>\n",
       "      <td>-78.814124</td>\n",
       "      <td>23</td>\n",
       "      <td>&lt;300</td>\n",
       "      <td>Covered and Closed</td>\n",
       "      <td>Work Places</td>\n",
       "      <td>Unpaved</td>\n",
       "      <td>2</td>\n",
       "      <td>Bin Cleaning</td>\n",
       "      <td>&gt;30m</td>\n",
       "    </tr>\n",
       "    <tr>\n",
       "      <th>5</th>\n",
       "      <td>35.569701</td>\n",
       "      <td>-78.814124</td>\n",
       "      <td>21</td>\n",
       "      <td>&lt;300</td>\n",
       "      <td>Covered and Open</td>\n",
       "      <td>Single Family Housing</td>\n",
       "      <td>Paved</td>\n",
       "      <td>1</td>\n",
       "      <td>Bin Cleaning</td>\n",
       "      <td>0-15 m</td>\n",
       "    </tr>\n",
       "    <tr>\n",
       "      <th>6</th>\n",
       "      <td>35.569747</td>\n",
       "      <td>-78.814053</td>\n",
       "      <td>21</td>\n",
       "      <td>&lt;300</td>\n",
       "      <td>Freestanding Container</td>\n",
       "      <td>Multi Family Housing</td>\n",
       "      <td>Paved</td>\n",
       "      <td>1</td>\n",
       "      <td>No Cleaning</td>\n",
       "      <td>15-30 m</td>\n",
       "    </tr>\n",
       "    <tr>\n",
       "      <th>7</th>\n",
       "      <td>35.569820</td>\n",
       "      <td>-78.813941</td>\n",
       "      <td>12</td>\n",
       "      <td>&lt;300</td>\n",
       "      <td>Covered and Open</td>\n",
       "      <td>Single Family Housing</td>\n",
       "      <td>Paved</td>\n",
       "      <td>2</td>\n",
       "      <td>Bin Cleaning</td>\n",
       "      <td>&gt;30m</td>\n",
       "    </tr>\n",
       "    <tr>\n",
       "      <th>8</th>\n",
       "      <td>35.570045</td>\n",
       "      <td>-78.813585</td>\n",
       "      <td>24</td>\n",
       "      <td>&gt;300</td>\n",
       "      <td>Covered and Closed</td>\n",
       "      <td>Multi Family Housing</td>\n",
       "      <td>Paved</td>\n",
       "      <td>1</td>\n",
       "      <td>No Cleaning</td>\n",
       "      <td>&gt;30m</td>\n",
       "    </tr>\n",
       "    <tr>\n",
       "      <th>9</th>\n",
       "      <td>35.570172</td>\n",
       "      <td>-78.813339</td>\n",
       "      <td>24</td>\n",
       "      <td>&gt;300</td>\n",
       "      <td>Freestanding Container</td>\n",
       "      <td>Work Places</td>\n",
       "      <td>Unpaved</td>\n",
       "      <td>2</td>\n",
       "      <td>No Cleaning</td>\n",
       "      <td>15-30 m</td>\n",
       "    </tr>\n",
       "    <tr>\n",
       "      <th>10</th>\n",
       "      <td>35.570187</td>\n",
       "      <td>-78.813298</td>\n",
       "      <td>11</td>\n",
       "      <td>&gt;300</td>\n",
       "      <td>Covered and Open</td>\n",
       "      <td>Work Places</td>\n",
       "      <td>Unpaved</td>\n",
       "      <td>1</td>\n",
       "      <td>Bin Cleaning</td>\n",
       "      <td>0-15 m</td>\n",
       "    </tr>\n",
       "    <tr>\n",
       "      <th>11</th>\n",
       "      <td>35.570223</td>\n",
       "      <td>-78.813205</td>\n",
       "      <td>19</td>\n",
       "      <td>&gt;300</td>\n",
       "      <td>Freestanding Container</td>\n",
       "      <td>Multi Family Housing</td>\n",
       "      <td>Unpaved</td>\n",
       "      <td>2</td>\n",
       "      <td>Bin Cleaning</td>\n",
       "      <td>&gt;30m</td>\n",
       "    </tr>\n",
       "    <tr>\n",
       "      <th>12</th>\n",
       "      <td>35.570223</td>\n",
       "      <td>-78.813205</td>\n",
       "      <td>12</td>\n",
       "      <td>&gt;300</td>\n",
       "      <td>Freestanding Container</td>\n",
       "      <td>Single Family Housing</td>\n",
       "      <td>Unpaved</td>\n",
       "      <td>1</td>\n",
       "      <td>No Cleaning</td>\n",
       "      <td>&gt;30m</td>\n",
       "    </tr>\n",
       "    <tr>\n",
       "      <th>13</th>\n",
       "      <td>35.570155</td>\n",
       "      <td>-78.813163</td>\n",
       "      <td>10</td>\n",
       "      <td>&lt;300</td>\n",
       "      <td>Covered and Open</td>\n",
       "      <td>Multi Family Housing</td>\n",
       "      <td>Paved</td>\n",
       "      <td>2</td>\n",
       "      <td>Bin Cleaning</td>\n",
       "      <td>15-30 m</td>\n",
       "    </tr>\n",
       "    <tr>\n",
       "      <th>14</th>\n",
       "      <td>35.569449</td>\n",
       "      <td>-78.812725</td>\n",
       "      <td>25</td>\n",
       "      <td>&lt;300</td>\n",
       "      <td>Freestanding Container</td>\n",
       "      <td>Multi Family Housing</td>\n",
       "      <td>Unpaved</td>\n",
       "      <td>2</td>\n",
       "      <td>Bin Cleaning</td>\n",
       "      <td>0-15 m</td>\n",
       "    </tr>\n",
       "    <tr>\n",
       "      <th>15</th>\n",
       "      <td>35.569449</td>\n",
       "      <td>-78.812725</td>\n",
       "      <td>19</td>\n",
       "      <td>&gt;300</td>\n",
       "      <td>Covered and Open</td>\n",
       "      <td>Multi Family Housing</td>\n",
       "      <td>Paved</td>\n",
       "      <td>1</td>\n",
       "      <td>No Cleaning</td>\n",
       "      <td>&gt;30m</td>\n",
       "    </tr>\n",
       "    <tr>\n",
       "      <th>16</th>\n",
       "      <td>35.569479</td>\n",
       "      <td>-78.812657</td>\n",
       "      <td>13</td>\n",
       "      <td>&lt;300</td>\n",
       "      <td>Covered and Closed</td>\n",
       "      <td>Single Family Housing</td>\n",
       "      <td>Unpaved</td>\n",
       "      <td>1</td>\n",
       "      <td>Bin Cleaning</td>\n",
       "      <td>15-30 m</td>\n",
       "    </tr>\n",
       "    <tr>\n",
       "      <th>17</th>\n",
       "      <td>35.569700</td>\n",
       "      <td>-78.812144</td>\n",
       "      <td>23</td>\n",
       "      <td>&gt;300</td>\n",
       "      <td>Covered and Open</td>\n",
       "      <td>Multi Family Housing</td>\n",
       "      <td>Unpaved</td>\n",
       "      <td>1</td>\n",
       "      <td>No Cleaning</td>\n",
       "      <td>&gt;30m</td>\n",
       "    </tr>\n",
       "    <tr>\n",
       "      <th>18</th>\n",
       "      <td>35.569923</td>\n",
       "      <td>-78.811790</td>\n",
       "      <td>16</td>\n",
       "      <td>&gt;300</td>\n",
       "      <td>Covered and Open</td>\n",
       "      <td>Single Family Housing</td>\n",
       "      <td>Paved</td>\n",
       "      <td>1</td>\n",
       "      <td>Bin Cleaning</td>\n",
       "      <td>0-15 m</td>\n",
       "    </tr>\n",
       "    <tr>\n",
       "      <th>19</th>\n",
       "      <td>35.569991</td>\n",
       "      <td>-78.811709</td>\n",
       "      <td>18</td>\n",
       "      <td>&lt;300</td>\n",
       "      <td>Freestanding Container</td>\n",
       "      <td>Single Family Housing</td>\n",
       "      <td>Paved</td>\n",
       "      <td>1</td>\n",
       "      <td>Bin Cleaning</td>\n",
       "      <td>0-15 m</td>\n",
       "    </tr>\n",
       "    <tr>\n",
       "      <th>20</th>\n",
       "      <td>35.570040</td>\n",
       "      <td>-78.811649</td>\n",
       "      <td>12</td>\n",
       "      <td>&lt;300</td>\n",
       "      <td>Covered and Open</td>\n",
       "      <td>Work Places</td>\n",
       "      <td>Paved</td>\n",
       "      <td>2</td>\n",
       "      <td>No Cleaning</td>\n",
       "      <td>&gt;30m</td>\n",
       "    </tr>\n",
       "    <tr>\n",
       "      <th>21</th>\n",
       "      <td>35.570040</td>\n",
       "      <td>-78.811649</td>\n",
       "      <td>20</td>\n",
       "      <td>&gt;300</td>\n",
       "      <td>Covered and Open</td>\n",
       "      <td>Multi Family Housing</td>\n",
       "      <td>Paved</td>\n",
       "      <td>2</td>\n",
       "      <td>No Cleaning</td>\n",
       "      <td>&gt;30m</td>\n",
       "    </tr>\n",
       "    <tr>\n",
       "      <th>22</th>\n",
       "      <td>35.569975</td>\n",
       "      <td>-78.811559</td>\n",
       "      <td>21</td>\n",
       "      <td>&gt;300</td>\n",
       "      <td>Freestanding Container</td>\n",
       "      <td>Work Places</td>\n",
       "      <td>Unpaved</td>\n",
       "      <td>2</td>\n",
       "      <td>No Cleaning</td>\n",
       "      <td>15-30 m</td>\n",
       "    </tr>\n",
       "    <tr>\n",
       "      <th>23</th>\n",
       "      <td>35.569939</td>\n",
       "      <td>-78.811509</td>\n",
       "      <td>14</td>\n",
       "      <td>&gt;300</td>\n",
       "      <td>Freestanding Container</td>\n",
       "      <td>Single Family Housing</td>\n",
       "      <td>Paved</td>\n",
       "      <td>1</td>\n",
       "      <td>No Cleaning</td>\n",
       "      <td>15-30 m</td>\n",
       "    </tr>\n",
       "    <tr>\n",
       "      <th>24</th>\n",
       "      <td>35.569865</td>\n",
       "      <td>-78.811417</td>\n",
       "      <td>20</td>\n",
       "      <td>&lt;300</td>\n",
       "      <td>Covered and Closed</td>\n",
       "      <td>Work Places</td>\n",
       "      <td>Paved</td>\n",
       "      <td>2</td>\n",
       "      <td>No Cleaning</td>\n",
       "      <td>&gt;30m</td>\n",
       "    </tr>\n",
       "    <tr>\n",
       "      <th>25</th>\n",
       "      <td>35.569750</td>\n",
       "      <td>-78.811338</td>\n",
       "      <td>11</td>\n",
       "      <td>&lt;300</td>\n",
       "      <td>Covered and Closed</td>\n",
       "      <td>Multi Family Housing</td>\n",
       "      <td>Unpaved</td>\n",
       "      <td>1</td>\n",
       "      <td>Bin Cleaning</td>\n",
       "      <td>0-15 m</td>\n",
       "    </tr>\n",
       "    <tr>\n",
       "      <th>26</th>\n",
       "      <td>35.569653</td>\n",
       "      <td>-78.811304</td>\n",
       "      <td>10</td>\n",
       "      <td>&gt;300</td>\n",
       "      <td>Covered and Closed</td>\n",
       "      <td>Single Family Housing</td>\n",
       "      <td>Unpaved</td>\n",
       "      <td>1</td>\n",
       "      <td>Bin Cleaning</td>\n",
       "      <td>0-15 m</td>\n",
       "    </tr>\n",
       "    <tr>\n",
       "      <th>27</th>\n",
       "      <td>35.569567</td>\n",
       "      <td>-78.811285</td>\n",
       "      <td>21</td>\n",
       "      <td>&lt;300</td>\n",
       "      <td>Covered and Open</td>\n",
       "      <td>Single Family Housing</td>\n",
       "      <td>Unpaved</td>\n",
       "      <td>1</td>\n",
       "      <td>Bin Cleaning</td>\n",
       "      <td>15-30 m</td>\n",
       "    </tr>\n",
       "    <tr>\n",
       "      <th>28</th>\n",
       "      <td>35.568710</td>\n",
       "      <td>-78.811330</td>\n",
       "      <td>19</td>\n",
       "      <td>&lt;300</td>\n",
       "      <td>Covered and Closed</td>\n",
       "      <td>Work Places</td>\n",
       "      <td>Paved</td>\n",
       "      <td>2</td>\n",
       "      <td>No Cleaning</td>\n",
       "      <td>15-30 m</td>\n",
       "    </tr>\n",
       "    <tr>\n",
       "      <th>29</th>\n",
       "      <td>35.568580</td>\n",
       "      <td>-78.811311</td>\n",
       "      <td>14</td>\n",
       "      <td>&lt;300</td>\n",
       "      <td>Covered and Open</td>\n",
       "      <td>Single Family Housing</td>\n",
       "      <td>Unpaved</td>\n",
       "      <td>2</td>\n",
       "      <td>Bin Cleaning</td>\n",
       "      <td>15-30 m</td>\n",
       "    </tr>\n",
       "    <tr>\n",
       "      <th>30</th>\n",
       "      <td>35.568493</td>\n",
       "      <td>-78.811272</td>\n",
       "      <td>12</td>\n",
       "      <td>&lt;300</td>\n",
       "      <td>Covered and Closed</td>\n",
       "      <td>Multi Family Housing</td>\n",
       "      <td>Paved</td>\n",
       "      <td>1</td>\n",
       "      <td>No Cleaning</td>\n",
       "      <td>15-30 m</td>\n",
       "    </tr>\n",
       "    <tr>\n",
       "      <th>31</th>\n",
       "      <td>35.568211</td>\n",
       "      <td>-78.811118</td>\n",
       "      <td>12</td>\n",
       "      <td>&gt;300</td>\n",
       "      <td>Covered and Open</td>\n",
       "      <td>Work Places</td>\n",
       "      <td>Unpaved</td>\n",
       "      <td>2</td>\n",
       "      <td>Bin Cleaning</td>\n",
       "      <td>0-15 m</td>\n",
       "    </tr>\n",
       "    <tr>\n",
       "      <th>32</th>\n",
       "      <td>35.568081</td>\n",
       "      <td>-78.811065</td>\n",
       "      <td>13</td>\n",
       "      <td>&lt;300</td>\n",
       "      <td>Covered and Open</td>\n",
       "      <td>Multi Family Housing</td>\n",
       "      <td>Unpaved</td>\n",
       "      <td>1</td>\n",
       "      <td>Bin Cleaning</td>\n",
       "      <td>&gt;30m</td>\n",
       "    </tr>\n",
       "    <tr>\n",
       "      <th>33</th>\n",
       "      <td>35.567766</td>\n",
       "      <td>-78.811019</td>\n",
       "      <td>13</td>\n",
       "      <td>&lt;300</td>\n",
       "      <td>Freestanding Container</td>\n",
       "      <td>Multi Family Housing</td>\n",
       "      <td>Paved</td>\n",
       "      <td>1</td>\n",
       "      <td>No Cleaning</td>\n",
       "      <td>15-30 m</td>\n",
       "    </tr>\n",
       "    <tr>\n",
       "      <th>34</th>\n",
       "      <td>35.567541</td>\n",
       "      <td>-78.810983</td>\n",
       "      <td>22</td>\n",
       "      <td>&lt;300</td>\n",
       "      <td>Covered and Open</td>\n",
       "      <td>Multi Family Housing</td>\n",
       "      <td>Unpaved</td>\n",
       "      <td>1</td>\n",
       "      <td>Bin Cleaning</td>\n",
       "      <td>0-15 m</td>\n",
       "    </tr>\n",
       "    <tr>\n",
       "      <th>35</th>\n",
       "      <td>35.567385</td>\n",
       "      <td>-78.810997</td>\n",
       "      <td>23</td>\n",
       "      <td>&lt;300</td>\n",
       "      <td>Covered and Closed</td>\n",
       "      <td>Single Family Housing</td>\n",
       "      <td>Unpaved</td>\n",
       "      <td>1</td>\n",
       "      <td>No Cleaning</td>\n",
       "      <td>0-15 m</td>\n",
       "    </tr>\n",
       "    <tr>\n",
       "      <th>36</th>\n",
       "      <td>35.567208</td>\n",
       "      <td>-78.811058</td>\n",
       "      <td>14</td>\n",
       "      <td>&gt;300</td>\n",
       "      <td>Covered and Open</td>\n",
       "      <td>Work Places</td>\n",
       "      <td>Paved</td>\n",
       "      <td>1</td>\n",
       "      <td>No Cleaning</td>\n",
       "      <td>&gt;30m</td>\n",
       "    </tr>\n",
       "    <tr>\n",
       "      <th>37</th>\n",
       "      <td>35.567095</td>\n",
       "      <td>-78.811111</td>\n",
       "      <td>19</td>\n",
       "      <td>&lt;300</td>\n",
       "      <td>Covered and Open</td>\n",
       "      <td>Work Places</td>\n",
       "      <td>Paved</td>\n",
       "      <td>1</td>\n",
       "      <td>No Cleaning</td>\n",
       "      <td>&gt;30m</td>\n",
       "    </tr>\n",
       "    <tr>\n",
       "      <th>38</th>\n",
       "      <td>35.566911</td>\n",
       "      <td>-78.811261</td>\n",
       "      <td>11</td>\n",
       "      <td>&lt;300</td>\n",
       "      <td>Covered and Open</td>\n",
       "      <td>Multi Family Housing</td>\n",
       "      <td>Paved</td>\n",
       "      <td>2</td>\n",
       "      <td>Bin Cleaning</td>\n",
       "      <td>15-30 m</td>\n",
       "    </tr>\n",
       "    <tr>\n",
       "      <th>39</th>\n",
       "      <td>35.566839</td>\n",
       "      <td>-78.811355</td>\n",
       "      <td>21</td>\n",
       "      <td>&lt;300</td>\n",
       "      <td>Covered and Open</td>\n",
       "      <td>Work Places</td>\n",
       "      <td>Unpaved</td>\n",
       "      <td>2</td>\n",
       "      <td>Bin Cleaning</td>\n",
       "      <td>0-15 m</td>\n",
       "    </tr>\n",
       "    <tr>\n",
       "      <th>40</th>\n",
       "      <td>35.566727</td>\n",
       "      <td>-78.811527</td>\n",
       "      <td>17</td>\n",
       "      <td>&gt;300</td>\n",
       "      <td>Covered and Closed</td>\n",
       "      <td>Single Family Housing</td>\n",
       "      <td>Paved</td>\n",
       "      <td>1</td>\n",
       "      <td>No Cleaning</td>\n",
       "      <td>0-15 m</td>\n",
       "    </tr>\n",
       "    <tr>\n",
       "      <th>41</th>\n",
       "      <td>35.566629</td>\n",
       "      <td>-78.811749</td>\n",
       "      <td>14</td>\n",
       "      <td>&lt;300</td>\n",
       "      <td>Freestanding Container</td>\n",
       "      <td>Work Places</td>\n",
       "      <td>Paved</td>\n",
       "      <td>2</td>\n",
       "      <td>Bin Cleaning</td>\n",
       "      <td>15-30 m</td>\n",
       "    </tr>\n",
       "    <tr>\n",
       "      <th>42</th>\n",
       "      <td>35.566504</td>\n",
       "      <td>-78.812078</td>\n",
       "      <td>20</td>\n",
       "      <td>&lt;300</td>\n",
       "      <td>Freestanding Container</td>\n",
       "      <td>Work Places</td>\n",
       "      <td>Unpaved</td>\n",
       "      <td>1</td>\n",
       "      <td>No Cleaning</td>\n",
       "      <td>15-30 m</td>\n",
       "    </tr>\n",
       "    <tr>\n",
       "      <th>43</th>\n",
       "      <td>35.566471</td>\n",
       "      <td>-78.812162</td>\n",
       "      <td>10</td>\n",
       "      <td>&lt;300</td>\n",
       "      <td>Freestanding Container</td>\n",
       "      <td>Multi Family Housing</td>\n",
       "      <td>Unpaved</td>\n",
       "      <td>2</td>\n",
       "      <td>Bin Cleaning</td>\n",
       "      <td>15-30 m</td>\n",
       "    </tr>\n",
       "    <tr>\n",
       "      <th>44</th>\n",
       "      <td>35.566471</td>\n",
       "      <td>-78.812162</td>\n",
       "      <td>10</td>\n",
       "      <td>&gt;300</td>\n",
       "      <td>Covered and Closed</td>\n",
       "      <td>Work Places</td>\n",
       "      <td>Unpaved</td>\n",
       "      <td>2</td>\n",
       "      <td>Bin Cleaning</td>\n",
       "      <td>15-30 m</td>\n",
       "    </tr>\n",
       "    <tr>\n",
       "      <th>45</th>\n",
       "      <td>35.566540</td>\n",
       "      <td>-78.812201</td>\n",
       "      <td>24</td>\n",
       "      <td>&lt;300</td>\n",
       "      <td>Covered and Closed</td>\n",
       "      <td>Single Family Housing</td>\n",
       "      <td>Unpaved</td>\n",
       "      <td>2</td>\n",
       "      <td>Bin Cleaning</td>\n",
       "      <td>15-30 m</td>\n",
       "    </tr>\n",
       "    <tr>\n",
       "      <th>46</th>\n",
       "      <td>35.568056</td>\n",
       "      <td>-78.813055</td>\n",
       "      <td>21</td>\n",
       "      <td>&lt;300</td>\n",
       "      <td>Covered and Closed</td>\n",
       "      <td>Multi Family Housing</td>\n",
       "      <td>Paved</td>\n",
       "      <td>2</td>\n",
       "      <td>No Cleaning</td>\n",
       "      <td>15-30 m</td>\n",
       "    </tr>\n",
       "    <tr>\n",
       "      <th>47</th>\n",
       "      <td>35.568139</td>\n",
       "      <td>-78.813101</td>\n",
       "      <td>20</td>\n",
       "      <td>&lt;300</td>\n",
       "      <td>Covered and Closed</td>\n",
       "      <td>Single Family Housing</td>\n",
       "      <td>Paved</td>\n",
       "      <td>2</td>\n",
       "      <td>Bin Cleaning</td>\n",
       "      <td>&gt;30m</td>\n",
       "    </tr>\n",
       "  </tbody>\n",
       "</table>\n",
       "</div>"
      ],
      "text/plain": [
       "     Latitude  Longitude  Trash Time_Spent   Collection_Point_Type  \\\n",
       "0   35.568139 -78.813101     15       <300  Freestanding Container   \n",
       "1   35.568208 -78.813141     20       <300  Freestanding Container   \n",
       "2   35.569225 -78.813733     24       <300      Covered and Closed   \n",
       "3   35.569634 -78.814069     22       <300        Covered and Open   \n",
       "4   35.569701 -78.814124     23       <300      Covered and Closed   \n",
       "5   35.569701 -78.814124     21       <300        Covered and Open   \n",
       "6   35.569747 -78.814053     21       <300  Freestanding Container   \n",
       "7   35.569820 -78.813941     12       <300        Covered and Open   \n",
       "8   35.570045 -78.813585     24       >300      Covered and Closed   \n",
       "9   35.570172 -78.813339     24       >300  Freestanding Container   \n",
       "10  35.570187 -78.813298     11       >300        Covered and Open   \n",
       "11  35.570223 -78.813205     19       >300  Freestanding Container   \n",
       "12  35.570223 -78.813205     12       >300  Freestanding Container   \n",
       "13  35.570155 -78.813163     10       <300        Covered and Open   \n",
       "14  35.569449 -78.812725     25       <300  Freestanding Container   \n",
       "15  35.569449 -78.812725     19       >300        Covered and Open   \n",
       "16  35.569479 -78.812657     13       <300      Covered and Closed   \n",
       "17  35.569700 -78.812144     23       >300        Covered and Open   \n",
       "18  35.569923 -78.811790     16       >300        Covered and Open   \n",
       "19  35.569991 -78.811709     18       <300  Freestanding Container   \n",
       "20  35.570040 -78.811649     12       <300        Covered and Open   \n",
       "21  35.570040 -78.811649     20       >300        Covered and Open   \n",
       "22  35.569975 -78.811559     21       >300  Freestanding Container   \n",
       "23  35.569939 -78.811509     14       >300  Freestanding Container   \n",
       "24  35.569865 -78.811417     20       <300      Covered and Closed   \n",
       "25  35.569750 -78.811338     11       <300      Covered and Closed   \n",
       "26  35.569653 -78.811304     10       >300      Covered and Closed   \n",
       "27  35.569567 -78.811285     21       <300        Covered and Open   \n",
       "28  35.568710 -78.811330     19       <300      Covered and Closed   \n",
       "29  35.568580 -78.811311     14       <300        Covered and Open   \n",
       "30  35.568493 -78.811272     12       <300      Covered and Closed   \n",
       "31  35.568211 -78.811118     12       >300        Covered and Open   \n",
       "32  35.568081 -78.811065     13       <300        Covered and Open   \n",
       "33  35.567766 -78.811019     13       <300  Freestanding Container   \n",
       "34  35.567541 -78.810983     22       <300        Covered and Open   \n",
       "35  35.567385 -78.810997     23       <300      Covered and Closed   \n",
       "36  35.567208 -78.811058     14       >300        Covered and Open   \n",
       "37  35.567095 -78.811111     19       <300        Covered and Open   \n",
       "38  35.566911 -78.811261     11       <300        Covered and Open   \n",
       "39  35.566839 -78.811355     21       <300        Covered and Open   \n",
       "40  35.566727 -78.811527     17       >300      Covered and Closed   \n",
       "41  35.566629 -78.811749     14       <300  Freestanding Container   \n",
       "42  35.566504 -78.812078     20       <300  Freestanding Container   \n",
       "43  35.566471 -78.812162     10       <300  Freestanding Container   \n",
       "44  35.566471 -78.812162     10       >300      Covered and Closed   \n",
       "45  35.566540 -78.812201     24       <300      Covered and Closed   \n",
       "46  35.568056 -78.813055     21       <300      Covered and Closed   \n",
       "47  35.568139 -78.813101     20       <300      Covered and Closed   \n",
       "\n",
       "            Building_Type Surface_Type Number_of_Loaders Planned_Cleaning  \\\n",
       "0   Single Family Housing      Unpaved                 2      No Cleaning   \n",
       "1             Work Places      Unpaved                 2      No Cleaning   \n",
       "2   Single Family Housing      Unpaved                 1      No Cleaning   \n",
       "3    Multi Family Housing        Paved                 1      No Cleaning   \n",
       "4             Work Places      Unpaved                 2     Bin Cleaning   \n",
       "5   Single Family Housing        Paved                 1     Bin Cleaning   \n",
       "6    Multi Family Housing        Paved                 1      No Cleaning   \n",
       "7   Single Family Housing        Paved                 2     Bin Cleaning   \n",
       "8    Multi Family Housing        Paved                 1      No Cleaning   \n",
       "9             Work Places      Unpaved                 2      No Cleaning   \n",
       "10            Work Places      Unpaved                 1     Bin Cleaning   \n",
       "11   Multi Family Housing      Unpaved                 2     Bin Cleaning   \n",
       "12  Single Family Housing      Unpaved                 1      No Cleaning   \n",
       "13   Multi Family Housing        Paved                 2     Bin Cleaning   \n",
       "14   Multi Family Housing      Unpaved                 2     Bin Cleaning   \n",
       "15   Multi Family Housing        Paved                 1      No Cleaning   \n",
       "16  Single Family Housing      Unpaved                 1     Bin Cleaning   \n",
       "17   Multi Family Housing      Unpaved                 1      No Cleaning   \n",
       "18  Single Family Housing        Paved                 1     Bin Cleaning   \n",
       "19  Single Family Housing        Paved                 1     Bin Cleaning   \n",
       "20            Work Places        Paved                 2      No Cleaning   \n",
       "21   Multi Family Housing        Paved                 2      No Cleaning   \n",
       "22            Work Places      Unpaved                 2      No Cleaning   \n",
       "23  Single Family Housing        Paved                 1      No Cleaning   \n",
       "24            Work Places        Paved                 2      No Cleaning   \n",
       "25   Multi Family Housing      Unpaved                 1     Bin Cleaning   \n",
       "26  Single Family Housing      Unpaved                 1     Bin Cleaning   \n",
       "27  Single Family Housing      Unpaved                 1     Bin Cleaning   \n",
       "28            Work Places        Paved                 2      No Cleaning   \n",
       "29  Single Family Housing      Unpaved                 2     Bin Cleaning   \n",
       "30   Multi Family Housing        Paved                 1      No Cleaning   \n",
       "31            Work Places      Unpaved                 2     Bin Cleaning   \n",
       "32   Multi Family Housing      Unpaved                 1     Bin Cleaning   \n",
       "33   Multi Family Housing        Paved                 1      No Cleaning   \n",
       "34   Multi Family Housing      Unpaved                 1     Bin Cleaning   \n",
       "35  Single Family Housing      Unpaved                 1      No Cleaning   \n",
       "36            Work Places        Paved                 1      No Cleaning   \n",
       "37            Work Places        Paved                 1      No Cleaning   \n",
       "38   Multi Family Housing        Paved                 2     Bin Cleaning   \n",
       "39            Work Places      Unpaved                 2     Bin Cleaning   \n",
       "40  Single Family Housing        Paved                 1      No Cleaning   \n",
       "41            Work Places        Paved                 2     Bin Cleaning   \n",
       "42            Work Places      Unpaved                 1      No Cleaning   \n",
       "43   Multi Family Housing      Unpaved                 2     Bin Cleaning   \n",
       "44            Work Places      Unpaved                 2     Bin Cleaning   \n",
       "45  Single Family Housing      Unpaved                 2     Bin Cleaning   \n",
       "46   Multi Family Housing        Paved                 2      No Cleaning   \n",
       "47  Single Family Housing        Paved                 2     Bin Cleaning   \n",
       "\n",
       "   Truck_Distance  \n",
       "0         15-30 m  \n",
       "1          0-15 m  \n",
       "2          0-15 m  \n",
       "3          0-15 m  \n",
       "4            >30m  \n",
       "5          0-15 m  \n",
       "6         15-30 m  \n",
       "7            >30m  \n",
       "8            >30m  \n",
       "9         15-30 m  \n",
       "10         0-15 m  \n",
       "11           >30m  \n",
       "12           >30m  \n",
       "13        15-30 m  \n",
       "14         0-15 m  \n",
       "15           >30m  \n",
       "16        15-30 m  \n",
       "17           >30m  \n",
       "18         0-15 m  \n",
       "19         0-15 m  \n",
       "20           >30m  \n",
       "21           >30m  \n",
       "22        15-30 m  \n",
       "23        15-30 m  \n",
       "24           >30m  \n",
       "25         0-15 m  \n",
       "26         0-15 m  \n",
       "27        15-30 m  \n",
       "28        15-30 m  \n",
       "29        15-30 m  \n",
       "30        15-30 m  \n",
       "31         0-15 m  \n",
       "32           >30m  \n",
       "33        15-30 m  \n",
       "34         0-15 m  \n",
       "35         0-15 m  \n",
       "36           >30m  \n",
       "37           >30m  \n",
       "38        15-30 m  \n",
       "39         0-15 m  \n",
       "40         0-15 m  \n",
       "41        15-30 m  \n",
       "42        15-30 m  \n",
       "43        15-30 m  \n",
       "44        15-30 m  \n",
       "45        15-30 m  \n",
       "46        15-30 m  \n",
       "47           >30m  "
      ]
     },
     "execution_count": 81,
     "metadata": {},
     "output_type": "execute_result"
    }
   ],
   "source": [
    "newdf"
   ]
  },
  {
   "cell_type": "code",
   "execution_count": 82,
   "id": "unusual-terror",
   "metadata": {},
   "outputs": [],
   "source": [
    "dummy1 = pd.get_dummies(newdf)"
   ]
  },
  {
   "cell_type": "code",
   "execution_count": 85,
   "id": "appointed-scholarship",
   "metadata": {},
   "outputs": [],
   "source": [
    "dummy1 = dummy1.drop(['Latitude','Longitude'],axis=1)"
   ]
  },
  {
   "cell_type": "code",
   "execution_count": 87,
   "id": "under-insider",
   "metadata": {},
   "outputs": [],
   "source": [
    "response = dummy1['Time_Spent_>300']"
   ]
  },
  {
   "cell_type": "code",
   "execution_count": 91,
   "id": "outer-barrel",
   "metadata": {},
   "outputs": [],
   "source": [
    "dummy1 = dummy1.drop(['Time_Spent_<300','Time_Spent_>300'],axis=1)"
   ]
  },
  {
   "cell_type": "code",
   "execution_count": 93,
   "id": "endless-appearance",
   "metadata": {},
   "outputs": [
    {
     "data": {
      "text/html": [
       "<div>\n",
       "<style scoped>\n",
       "    .dataframe tbody tr th:only-of-type {\n",
       "        vertical-align: middle;\n",
       "    }\n",
       "\n",
       "    .dataframe tbody tr th {\n",
       "        vertical-align: top;\n",
       "    }\n",
       "\n",
       "    .dataframe thead th {\n",
       "        text-align: right;\n",
       "    }\n",
       "</style>\n",
       "<table border=\"1\" class=\"dataframe\">\n",
       "  <thead>\n",
       "    <tr style=\"text-align: right;\">\n",
       "      <th></th>\n",
       "      <th>Trash</th>\n",
       "      <th>Collection_Point_Type_Covered and Closed</th>\n",
       "      <th>Collection_Point_Type_Covered and Open</th>\n",
       "      <th>Collection_Point_Type_Freestanding Container</th>\n",
       "      <th>Building_Type_Multi Family Housing</th>\n",
       "      <th>Building_Type_Single Family Housing</th>\n",
       "      <th>Building_Type_Work Places</th>\n",
       "      <th>Surface_Type_Paved</th>\n",
       "      <th>Surface_Type_Unpaved</th>\n",
       "      <th>Number_of_Loaders_1</th>\n",
       "      <th>Number_of_Loaders_2</th>\n",
       "      <th>Planned_Cleaning_Bin Cleaning</th>\n",
       "      <th>Planned_Cleaning_No Cleaning</th>\n",
       "      <th>Truck_Distance_0-15 m</th>\n",
       "      <th>Truck_Distance_15-30 m</th>\n",
       "      <th>Truck_Distance_&gt;30m</th>\n",
       "    </tr>\n",
       "  </thead>\n",
       "  <tbody>\n",
       "    <tr>\n",
       "      <th>0</th>\n",
       "      <td>15</td>\n",
       "      <td>0</td>\n",
       "      <td>0</td>\n",
       "      <td>1</td>\n",
       "      <td>0</td>\n",
       "      <td>1</td>\n",
       "      <td>0</td>\n",
       "      <td>0</td>\n",
       "      <td>1</td>\n",
       "      <td>0</td>\n",
       "      <td>1</td>\n",
       "      <td>0</td>\n",
       "      <td>1</td>\n",
       "      <td>0</td>\n",
       "      <td>1</td>\n",
       "      <td>0</td>\n",
       "    </tr>\n",
       "    <tr>\n",
       "      <th>1</th>\n",
       "      <td>20</td>\n",
       "      <td>0</td>\n",
       "      <td>0</td>\n",
       "      <td>1</td>\n",
       "      <td>0</td>\n",
       "      <td>0</td>\n",
       "      <td>1</td>\n",
       "      <td>0</td>\n",
       "      <td>1</td>\n",
       "      <td>0</td>\n",
       "      <td>1</td>\n",
       "      <td>0</td>\n",
       "      <td>1</td>\n",
       "      <td>1</td>\n",
       "      <td>0</td>\n",
       "      <td>0</td>\n",
       "    </tr>\n",
       "    <tr>\n",
       "      <th>2</th>\n",
       "      <td>24</td>\n",
       "      <td>1</td>\n",
       "      <td>0</td>\n",
       "      <td>0</td>\n",
       "      <td>0</td>\n",
       "      <td>1</td>\n",
       "      <td>0</td>\n",
       "      <td>0</td>\n",
       "      <td>1</td>\n",
       "      <td>1</td>\n",
       "      <td>0</td>\n",
       "      <td>0</td>\n",
       "      <td>1</td>\n",
       "      <td>1</td>\n",
       "      <td>0</td>\n",
       "      <td>0</td>\n",
       "    </tr>\n",
       "    <tr>\n",
       "      <th>3</th>\n",
       "      <td>22</td>\n",
       "      <td>0</td>\n",
       "      <td>1</td>\n",
       "      <td>0</td>\n",
       "      <td>1</td>\n",
       "      <td>0</td>\n",
       "      <td>0</td>\n",
       "      <td>1</td>\n",
       "      <td>0</td>\n",
       "      <td>1</td>\n",
       "      <td>0</td>\n",
       "      <td>0</td>\n",
       "      <td>1</td>\n",
       "      <td>1</td>\n",
       "      <td>0</td>\n",
       "      <td>0</td>\n",
       "    </tr>\n",
       "    <tr>\n",
       "      <th>4</th>\n",
       "      <td>23</td>\n",
       "      <td>1</td>\n",
       "      <td>0</td>\n",
       "      <td>0</td>\n",
       "      <td>0</td>\n",
       "      <td>0</td>\n",
       "      <td>1</td>\n",
       "      <td>0</td>\n",
       "      <td>1</td>\n",
       "      <td>0</td>\n",
       "      <td>1</td>\n",
       "      <td>1</td>\n",
       "      <td>0</td>\n",
       "      <td>0</td>\n",
       "      <td>0</td>\n",
       "      <td>1</td>\n",
       "    </tr>\n",
       "    <tr>\n",
       "      <th>5</th>\n",
       "      <td>21</td>\n",
       "      <td>0</td>\n",
       "      <td>1</td>\n",
       "      <td>0</td>\n",
       "      <td>0</td>\n",
       "      <td>1</td>\n",
       "      <td>0</td>\n",
       "      <td>1</td>\n",
       "      <td>0</td>\n",
       "      <td>1</td>\n",
       "      <td>0</td>\n",
       "      <td>1</td>\n",
       "      <td>0</td>\n",
       "      <td>1</td>\n",
       "      <td>0</td>\n",
       "      <td>0</td>\n",
       "    </tr>\n",
       "    <tr>\n",
       "      <th>6</th>\n",
       "      <td>21</td>\n",
       "      <td>0</td>\n",
       "      <td>0</td>\n",
       "      <td>1</td>\n",
       "      <td>1</td>\n",
       "      <td>0</td>\n",
       "      <td>0</td>\n",
       "      <td>1</td>\n",
       "      <td>0</td>\n",
       "      <td>1</td>\n",
       "      <td>0</td>\n",
       "      <td>0</td>\n",
       "      <td>1</td>\n",
       "      <td>0</td>\n",
       "      <td>1</td>\n",
       "      <td>0</td>\n",
       "    </tr>\n",
       "    <tr>\n",
       "      <th>7</th>\n",
       "      <td>12</td>\n",
       "      <td>0</td>\n",
       "      <td>1</td>\n",
       "      <td>0</td>\n",
       "      <td>0</td>\n",
       "      <td>1</td>\n",
       "      <td>0</td>\n",
       "      <td>1</td>\n",
       "      <td>0</td>\n",
       "      <td>0</td>\n",
       "      <td>1</td>\n",
       "      <td>1</td>\n",
       "      <td>0</td>\n",
       "      <td>0</td>\n",
       "      <td>0</td>\n",
       "      <td>1</td>\n",
       "    </tr>\n",
       "    <tr>\n",
       "      <th>8</th>\n",
       "      <td>24</td>\n",
       "      <td>1</td>\n",
       "      <td>0</td>\n",
       "      <td>0</td>\n",
       "      <td>1</td>\n",
       "      <td>0</td>\n",
       "      <td>0</td>\n",
       "      <td>1</td>\n",
       "      <td>0</td>\n",
       "      <td>1</td>\n",
       "      <td>0</td>\n",
       "      <td>0</td>\n",
       "      <td>1</td>\n",
       "      <td>0</td>\n",
       "      <td>0</td>\n",
       "      <td>1</td>\n",
       "    </tr>\n",
       "    <tr>\n",
       "      <th>9</th>\n",
       "      <td>24</td>\n",
       "      <td>0</td>\n",
       "      <td>0</td>\n",
       "      <td>1</td>\n",
       "      <td>0</td>\n",
       "      <td>0</td>\n",
       "      <td>1</td>\n",
       "      <td>0</td>\n",
       "      <td>1</td>\n",
       "      <td>0</td>\n",
       "      <td>1</td>\n",
       "      <td>0</td>\n",
       "      <td>1</td>\n",
       "      <td>0</td>\n",
       "      <td>1</td>\n",
       "      <td>0</td>\n",
       "    </tr>\n",
       "    <tr>\n",
       "      <th>10</th>\n",
       "      <td>11</td>\n",
       "      <td>0</td>\n",
       "      <td>1</td>\n",
       "      <td>0</td>\n",
       "      <td>0</td>\n",
       "      <td>0</td>\n",
       "      <td>1</td>\n",
       "      <td>0</td>\n",
       "      <td>1</td>\n",
       "      <td>1</td>\n",
       "      <td>0</td>\n",
       "      <td>1</td>\n",
       "      <td>0</td>\n",
       "      <td>1</td>\n",
       "      <td>0</td>\n",
       "      <td>0</td>\n",
       "    </tr>\n",
       "    <tr>\n",
       "      <th>11</th>\n",
       "      <td>19</td>\n",
       "      <td>0</td>\n",
       "      <td>0</td>\n",
       "      <td>1</td>\n",
       "      <td>1</td>\n",
       "      <td>0</td>\n",
       "      <td>0</td>\n",
       "      <td>0</td>\n",
       "      <td>1</td>\n",
       "      <td>0</td>\n",
       "      <td>1</td>\n",
       "      <td>1</td>\n",
       "      <td>0</td>\n",
       "      <td>0</td>\n",
       "      <td>0</td>\n",
       "      <td>1</td>\n",
       "    </tr>\n",
       "    <tr>\n",
       "      <th>12</th>\n",
       "      <td>12</td>\n",
       "      <td>0</td>\n",
       "      <td>0</td>\n",
       "      <td>1</td>\n",
       "      <td>0</td>\n",
       "      <td>1</td>\n",
       "      <td>0</td>\n",
       "      <td>0</td>\n",
       "      <td>1</td>\n",
       "      <td>1</td>\n",
       "      <td>0</td>\n",
       "      <td>0</td>\n",
       "      <td>1</td>\n",
       "      <td>0</td>\n",
       "      <td>0</td>\n",
       "      <td>1</td>\n",
       "    </tr>\n",
       "    <tr>\n",
       "      <th>13</th>\n",
       "      <td>10</td>\n",
       "      <td>0</td>\n",
       "      <td>1</td>\n",
       "      <td>0</td>\n",
       "      <td>1</td>\n",
       "      <td>0</td>\n",
       "      <td>0</td>\n",
       "      <td>1</td>\n",
       "      <td>0</td>\n",
       "      <td>0</td>\n",
       "      <td>1</td>\n",
       "      <td>1</td>\n",
       "      <td>0</td>\n",
       "      <td>0</td>\n",
       "      <td>1</td>\n",
       "      <td>0</td>\n",
       "    </tr>\n",
       "    <tr>\n",
       "      <th>14</th>\n",
       "      <td>25</td>\n",
       "      <td>0</td>\n",
       "      <td>0</td>\n",
       "      <td>1</td>\n",
       "      <td>1</td>\n",
       "      <td>0</td>\n",
       "      <td>0</td>\n",
       "      <td>0</td>\n",
       "      <td>1</td>\n",
       "      <td>0</td>\n",
       "      <td>1</td>\n",
       "      <td>1</td>\n",
       "      <td>0</td>\n",
       "      <td>1</td>\n",
       "      <td>0</td>\n",
       "      <td>0</td>\n",
       "    </tr>\n",
       "    <tr>\n",
       "      <th>15</th>\n",
       "      <td>19</td>\n",
       "      <td>0</td>\n",
       "      <td>1</td>\n",
       "      <td>0</td>\n",
       "      <td>1</td>\n",
       "      <td>0</td>\n",
       "      <td>0</td>\n",
       "      <td>1</td>\n",
       "      <td>0</td>\n",
       "      <td>1</td>\n",
       "      <td>0</td>\n",
       "      <td>0</td>\n",
       "      <td>1</td>\n",
       "      <td>0</td>\n",
       "      <td>0</td>\n",
       "      <td>1</td>\n",
       "    </tr>\n",
       "    <tr>\n",
       "      <th>16</th>\n",
       "      <td>13</td>\n",
       "      <td>1</td>\n",
       "      <td>0</td>\n",
       "      <td>0</td>\n",
       "      <td>0</td>\n",
       "      <td>1</td>\n",
       "      <td>0</td>\n",
       "      <td>0</td>\n",
       "      <td>1</td>\n",
       "      <td>1</td>\n",
       "      <td>0</td>\n",
       "      <td>1</td>\n",
       "      <td>0</td>\n",
       "      <td>0</td>\n",
       "      <td>1</td>\n",
       "      <td>0</td>\n",
       "    </tr>\n",
       "    <tr>\n",
       "      <th>17</th>\n",
       "      <td>23</td>\n",
       "      <td>0</td>\n",
       "      <td>1</td>\n",
       "      <td>0</td>\n",
       "      <td>1</td>\n",
       "      <td>0</td>\n",
       "      <td>0</td>\n",
       "      <td>0</td>\n",
       "      <td>1</td>\n",
       "      <td>1</td>\n",
       "      <td>0</td>\n",
       "      <td>0</td>\n",
       "      <td>1</td>\n",
       "      <td>0</td>\n",
       "      <td>0</td>\n",
       "      <td>1</td>\n",
       "    </tr>\n",
       "    <tr>\n",
       "      <th>18</th>\n",
       "      <td>16</td>\n",
       "      <td>0</td>\n",
       "      <td>1</td>\n",
       "      <td>0</td>\n",
       "      <td>0</td>\n",
       "      <td>1</td>\n",
       "      <td>0</td>\n",
       "      <td>1</td>\n",
       "      <td>0</td>\n",
       "      <td>1</td>\n",
       "      <td>0</td>\n",
       "      <td>1</td>\n",
       "      <td>0</td>\n",
       "      <td>1</td>\n",
       "      <td>0</td>\n",
       "      <td>0</td>\n",
       "    </tr>\n",
       "    <tr>\n",
       "      <th>19</th>\n",
       "      <td>18</td>\n",
       "      <td>0</td>\n",
       "      <td>0</td>\n",
       "      <td>1</td>\n",
       "      <td>0</td>\n",
       "      <td>1</td>\n",
       "      <td>0</td>\n",
       "      <td>1</td>\n",
       "      <td>0</td>\n",
       "      <td>1</td>\n",
       "      <td>0</td>\n",
       "      <td>1</td>\n",
       "      <td>0</td>\n",
       "      <td>1</td>\n",
       "      <td>0</td>\n",
       "      <td>0</td>\n",
       "    </tr>\n",
       "    <tr>\n",
       "      <th>20</th>\n",
       "      <td>12</td>\n",
       "      <td>0</td>\n",
       "      <td>1</td>\n",
       "      <td>0</td>\n",
       "      <td>0</td>\n",
       "      <td>0</td>\n",
       "      <td>1</td>\n",
       "      <td>1</td>\n",
       "      <td>0</td>\n",
       "      <td>0</td>\n",
       "      <td>1</td>\n",
       "      <td>0</td>\n",
       "      <td>1</td>\n",
       "      <td>0</td>\n",
       "      <td>0</td>\n",
       "      <td>1</td>\n",
       "    </tr>\n",
       "    <tr>\n",
       "      <th>21</th>\n",
       "      <td>20</td>\n",
       "      <td>0</td>\n",
       "      <td>1</td>\n",
       "      <td>0</td>\n",
       "      <td>1</td>\n",
       "      <td>0</td>\n",
       "      <td>0</td>\n",
       "      <td>1</td>\n",
       "      <td>0</td>\n",
       "      <td>0</td>\n",
       "      <td>1</td>\n",
       "      <td>0</td>\n",
       "      <td>1</td>\n",
       "      <td>0</td>\n",
       "      <td>0</td>\n",
       "      <td>1</td>\n",
       "    </tr>\n",
       "    <tr>\n",
       "      <th>22</th>\n",
       "      <td>21</td>\n",
       "      <td>0</td>\n",
       "      <td>0</td>\n",
       "      <td>1</td>\n",
       "      <td>0</td>\n",
       "      <td>0</td>\n",
       "      <td>1</td>\n",
       "      <td>0</td>\n",
       "      <td>1</td>\n",
       "      <td>0</td>\n",
       "      <td>1</td>\n",
       "      <td>0</td>\n",
       "      <td>1</td>\n",
       "      <td>0</td>\n",
       "      <td>1</td>\n",
       "      <td>0</td>\n",
       "    </tr>\n",
       "    <tr>\n",
       "      <th>23</th>\n",
       "      <td>14</td>\n",
       "      <td>0</td>\n",
       "      <td>0</td>\n",
       "      <td>1</td>\n",
       "      <td>0</td>\n",
       "      <td>1</td>\n",
       "      <td>0</td>\n",
       "      <td>1</td>\n",
       "      <td>0</td>\n",
       "      <td>1</td>\n",
       "      <td>0</td>\n",
       "      <td>0</td>\n",
       "      <td>1</td>\n",
       "      <td>0</td>\n",
       "      <td>1</td>\n",
       "      <td>0</td>\n",
       "    </tr>\n",
       "    <tr>\n",
       "      <th>24</th>\n",
       "      <td>20</td>\n",
       "      <td>1</td>\n",
       "      <td>0</td>\n",
       "      <td>0</td>\n",
       "      <td>0</td>\n",
       "      <td>0</td>\n",
       "      <td>1</td>\n",
       "      <td>1</td>\n",
       "      <td>0</td>\n",
       "      <td>0</td>\n",
       "      <td>1</td>\n",
       "      <td>0</td>\n",
       "      <td>1</td>\n",
       "      <td>0</td>\n",
       "      <td>0</td>\n",
       "      <td>1</td>\n",
       "    </tr>\n",
       "    <tr>\n",
       "      <th>25</th>\n",
       "      <td>11</td>\n",
       "      <td>1</td>\n",
       "      <td>0</td>\n",
       "      <td>0</td>\n",
       "      <td>1</td>\n",
       "      <td>0</td>\n",
       "      <td>0</td>\n",
       "      <td>0</td>\n",
       "      <td>1</td>\n",
       "      <td>1</td>\n",
       "      <td>0</td>\n",
       "      <td>1</td>\n",
       "      <td>0</td>\n",
       "      <td>1</td>\n",
       "      <td>0</td>\n",
       "      <td>0</td>\n",
       "    </tr>\n",
       "    <tr>\n",
       "      <th>26</th>\n",
       "      <td>10</td>\n",
       "      <td>1</td>\n",
       "      <td>0</td>\n",
       "      <td>0</td>\n",
       "      <td>0</td>\n",
       "      <td>1</td>\n",
       "      <td>0</td>\n",
       "      <td>0</td>\n",
       "      <td>1</td>\n",
       "      <td>1</td>\n",
       "      <td>0</td>\n",
       "      <td>1</td>\n",
       "      <td>0</td>\n",
       "      <td>1</td>\n",
       "      <td>0</td>\n",
       "      <td>0</td>\n",
       "    </tr>\n",
       "    <tr>\n",
       "      <th>27</th>\n",
       "      <td>21</td>\n",
       "      <td>0</td>\n",
       "      <td>1</td>\n",
       "      <td>0</td>\n",
       "      <td>0</td>\n",
       "      <td>1</td>\n",
       "      <td>0</td>\n",
       "      <td>0</td>\n",
       "      <td>1</td>\n",
       "      <td>1</td>\n",
       "      <td>0</td>\n",
       "      <td>1</td>\n",
       "      <td>0</td>\n",
       "      <td>0</td>\n",
       "      <td>1</td>\n",
       "      <td>0</td>\n",
       "    </tr>\n",
       "    <tr>\n",
       "      <th>28</th>\n",
       "      <td>19</td>\n",
       "      <td>1</td>\n",
       "      <td>0</td>\n",
       "      <td>0</td>\n",
       "      <td>0</td>\n",
       "      <td>0</td>\n",
       "      <td>1</td>\n",
       "      <td>1</td>\n",
       "      <td>0</td>\n",
       "      <td>0</td>\n",
       "      <td>1</td>\n",
       "      <td>0</td>\n",
       "      <td>1</td>\n",
       "      <td>0</td>\n",
       "      <td>1</td>\n",
       "      <td>0</td>\n",
       "    </tr>\n",
       "    <tr>\n",
       "      <th>29</th>\n",
       "      <td>14</td>\n",
       "      <td>0</td>\n",
       "      <td>1</td>\n",
       "      <td>0</td>\n",
       "      <td>0</td>\n",
       "      <td>1</td>\n",
       "      <td>0</td>\n",
       "      <td>0</td>\n",
       "      <td>1</td>\n",
       "      <td>0</td>\n",
       "      <td>1</td>\n",
       "      <td>1</td>\n",
       "      <td>0</td>\n",
       "      <td>0</td>\n",
       "      <td>1</td>\n",
       "      <td>0</td>\n",
       "    </tr>\n",
       "    <tr>\n",
       "      <th>30</th>\n",
       "      <td>12</td>\n",
       "      <td>1</td>\n",
       "      <td>0</td>\n",
       "      <td>0</td>\n",
       "      <td>1</td>\n",
       "      <td>0</td>\n",
       "      <td>0</td>\n",
       "      <td>1</td>\n",
       "      <td>0</td>\n",
       "      <td>1</td>\n",
       "      <td>0</td>\n",
       "      <td>0</td>\n",
       "      <td>1</td>\n",
       "      <td>0</td>\n",
       "      <td>1</td>\n",
       "      <td>0</td>\n",
       "    </tr>\n",
       "    <tr>\n",
       "      <th>31</th>\n",
       "      <td>12</td>\n",
       "      <td>0</td>\n",
       "      <td>1</td>\n",
       "      <td>0</td>\n",
       "      <td>0</td>\n",
       "      <td>0</td>\n",
       "      <td>1</td>\n",
       "      <td>0</td>\n",
       "      <td>1</td>\n",
       "      <td>0</td>\n",
       "      <td>1</td>\n",
       "      <td>1</td>\n",
       "      <td>0</td>\n",
       "      <td>1</td>\n",
       "      <td>0</td>\n",
       "      <td>0</td>\n",
       "    </tr>\n",
       "    <tr>\n",
       "      <th>32</th>\n",
       "      <td>13</td>\n",
       "      <td>0</td>\n",
       "      <td>1</td>\n",
       "      <td>0</td>\n",
       "      <td>1</td>\n",
       "      <td>0</td>\n",
       "      <td>0</td>\n",
       "      <td>0</td>\n",
       "      <td>1</td>\n",
       "      <td>1</td>\n",
       "      <td>0</td>\n",
       "      <td>1</td>\n",
       "      <td>0</td>\n",
       "      <td>0</td>\n",
       "      <td>0</td>\n",
       "      <td>1</td>\n",
       "    </tr>\n",
       "    <tr>\n",
       "      <th>33</th>\n",
       "      <td>13</td>\n",
       "      <td>0</td>\n",
       "      <td>0</td>\n",
       "      <td>1</td>\n",
       "      <td>1</td>\n",
       "      <td>0</td>\n",
       "      <td>0</td>\n",
       "      <td>1</td>\n",
       "      <td>0</td>\n",
       "      <td>1</td>\n",
       "      <td>0</td>\n",
       "      <td>0</td>\n",
       "      <td>1</td>\n",
       "      <td>0</td>\n",
       "      <td>1</td>\n",
       "      <td>0</td>\n",
       "    </tr>\n",
       "    <tr>\n",
       "      <th>34</th>\n",
       "      <td>22</td>\n",
       "      <td>0</td>\n",
       "      <td>1</td>\n",
       "      <td>0</td>\n",
       "      <td>1</td>\n",
       "      <td>0</td>\n",
       "      <td>0</td>\n",
       "      <td>0</td>\n",
       "      <td>1</td>\n",
       "      <td>1</td>\n",
       "      <td>0</td>\n",
       "      <td>1</td>\n",
       "      <td>0</td>\n",
       "      <td>1</td>\n",
       "      <td>0</td>\n",
       "      <td>0</td>\n",
       "    </tr>\n",
       "    <tr>\n",
       "      <th>35</th>\n",
       "      <td>23</td>\n",
       "      <td>1</td>\n",
       "      <td>0</td>\n",
       "      <td>0</td>\n",
       "      <td>0</td>\n",
       "      <td>1</td>\n",
       "      <td>0</td>\n",
       "      <td>0</td>\n",
       "      <td>1</td>\n",
       "      <td>1</td>\n",
       "      <td>0</td>\n",
       "      <td>0</td>\n",
       "      <td>1</td>\n",
       "      <td>1</td>\n",
       "      <td>0</td>\n",
       "      <td>0</td>\n",
       "    </tr>\n",
       "    <tr>\n",
       "      <th>36</th>\n",
       "      <td>14</td>\n",
       "      <td>0</td>\n",
       "      <td>1</td>\n",
       "      <td>0</td>\n",
       "      <td>0</td>\n",
       "      <td>0</td>\n",
       "      <td>1</td>\n",
       "      <td>1</td>\n",
       "      <td>0</td>\n",
       "      <td>1</td>\n",
       "      <td>0</td>\n",
       "      <td>0</td>\n",
       "      <td>1</td>\n",
       "      <td>0</td>\n",
       "      <td>0</td>\n",
       "      <td>1</td>\n",
       "    </tr>\n",
       "    <tr>\n",
       "      <th>37</th>\n",
       "      <td>19</td>\n",
       "      <td>0</td>\n",
       "      <td>1</td>\n",
       "      <td>0</td>\n",
       "      <td>0</td>\n",
       "      <td>0</td>\n",
       "      <td>1</td>\n",
       "      <td>1</td>\n",
       "      <td>0</td>\n",
       "      <td>1</td>\n",
       "      <td>0</td>\n",
       "      <td>0</td>\n",
       "      <td>1</td>\n",
       "      <td>0</td>\n",
       "      <td>0</td>\n",
       "      <td>1</td>\n",
       "    </tr>\n",
       "    <tr>\n",
       "      <th>38</th>\n",
       "      <td>11</td>\n",
       "      <td>0</td>\n",
       "      <td>1</td>\n",
       "      <td>0</td>\n",
       "      <td>1</td>\n",
       "      <td>0</td>\n",
       "      <td>0</td>\n",
       "      <td>1</td>\n",
       "      <td>0</td>\n",
       "      <td>0</td>\n",
       "      <td>1</td>\n",
       "      <td>1</td>\n",
       "      <td>0</td>\n",
       "      <td>0</td>\n",
       "      <td>1</td>\n",
       "      <td>0</td>\n",
       "    </tr>\n",
       "    <tr>\n",
       "      <th>39</th>\n",
       "      <td>21</td>\n",
       "      <td>0</td>\n",
       "      <td>1</td>\n",
       "      <td>0</td>\n",
       "      <td>0</td>\n",
       "      <td>0</td>\n",
       "      <td>1</td>\n",
       "      <td>0</td>\n",
       "      <td>1</td>\n",
       "      <td>0</td>\n",
       "      <td>1</td>\n",
       "      <td>1</td>\n",
       "      <td>0</td>\n",
       "      <td>1</td>\n",
       "      <td>0</td>\n",
       "      <td>0</td>\n",
       "    </tr>\n",
       "    <tr>\n",
       "      <th>40</th>\n",
       "      <td>17</td>\n",
       "      <td>1</td>\n",
       "      <td>0</td>\n",
       "      <td>0</td>\n",
       "      <td>0</td>\n",
       "      <td>1</td>\n",
       "      <td>0</td>\n",
       "      <td>1</td>\n",
       "      <td>0</td>\n",
       "      <td>1</td>\n",
       "      <td>0</td>\n",
       "      <td>0</td>\n",
       "      <td>1</td>\n",
       "      <td>1</td>\n",
       "      <td>0</td>\n",
       "      <td>0</td>\n",
       "    </tr>\n",
       "    <tr>\n",
       "      <th>41</th>\n",
       "      <td>14</td>\n",
       "      <td>0</td>\n",
       "      <td>0</td>\n",
       "      <td>1</td>\n",
       "      <td>0</td>\n",
       "      <td>0</td>\n",
       "      <td>1</td>\n",
       "      <td>1</td>\n",
       "      <td>0</td>\n",
       "      <td>0</td>\n",
       "      <td>1</td>\n",
       "      <td>1</td>\n",
       "      <td>0</td>\n",
       "      <td>0</td>\n",
       "      <td>1</td>\n",
       "      <td>0</td>\n",
       "    </tr>\n",
       "    <tr>\n",
       "      <th>42</th>\n",
       "      <td>20</td>\n",
       "      <td>0</td>\n",
       "      <td>0</td>\n",
       "      <td>1</td>\n",
       "      <td>0</td>\n",
       "      <td>0</td>\n",
       "      <td>1</td>\n",
       "      <td>0</td>\n",
       "      <td>1</td>\n",
       "      <td>1</td>\n",
       "      <td>0</td>\n",
       "      <td>0</td>\n",
       "      <td>1</td>\n",
       "      <td>0</td>\n",
       "      <td>1</td>\n",
       "      <td>0</td>\n",
       "    </tr>\n",
       "    <tr>\n",
       "      <th>43</th>\n",
       "      <td>10</td>\n",
       "      <td>0</td>\n",
       "      <td>0</td>\n",
       "      <td>1</td>\n",
       "      <td>1</td>\n",
       "      <td>0</td>\n",
       "      <td>0</td>\n",
       "      <td>0</td>\n",
       "      <td>1</td>\n",
       "      <td>0</td>\n",
       "      <td>1</td>\n",
       "      <td>1</td>\n",
       "      <td>0</td>\n",
       "      <td>0</td>\n",
       "      <td>1</td>\n",
       "      <td>0</td>\n",
       "    </tr>\n",
       "    <tr>\n",
       "      <th>44</th>\n",
       "      <td>10</td>\n",
       "      <td>1</td>\n",
       "      <td>0</td>\n",
       "      <td>0</td>\n",
       "      <td>0</td>\n",
       "      <td>0</td>\n",
       "      <td>1</td>\n",
       "      <td>0</td>\n",
       "      <td>1</td>\n",
       "      <td>0</td>\n",
       "      <td>1</td>\n",
       "      <td>1</td>\n",
       "      <td>0</td>\n",
       "      <td>0</td>\n",
       "      <td>1</td>\n",
       "      <td>0</td>\n",
       "    </tr>\n",
       "    <tr>\n",
       "      <th>45</th>\n",
       "      <td>24</td>\n",
       "      <td>1</td>\n",
       "      <td>0</td>\n",
       "      <td>0</td>\n",
       "      <td>0</td>\n",
       "      <td>1</td>\n",
       "      <td>0</td>\n",
       "      <td>0</td>\n",
       "      <td>1</td>\n",
       "      <td>0</td>\n",
       "      <td>1</td>\n",
       "      <td>1</td>\n",
       "      <td>0</td>\n",
       "      <td>0</td>\n",
       "      <td>1</td>\n",
       "      <td>0</td>\n",
       "    </tr>\n",
       "    <tr>\n",
       "      <th>46</th>\n",
       "      <td>21</td>\n",
       "      <td>1</td>\n",
       "      <td>0</td>\n",
       "      <td>0</td>\n",
       "      <td>1</td>\n",
       "      <td>0</td>\n",
       "      <td>0</td>\n",
       "      <td>1</td>\n",
       "      <td>0</td>\n",
       "      <td>0</td>\n",
       "      <td>1</td>\n",
       "      <td>0</td>\n",
       "      <td>1</td>\n",
       "      <td>0</td>\n",
       "      <td>1</td>\n",
       "      <td>0</td>\n",
       "    </tr>\n",
       "    <tr>\n",
       "      <th>47</th>\n",
       "      <td>20</td>\n",
       "      <td>1</td>\n",
       "      <td>0</td>\n",
       "      <td>0</td>\n",
       "      <td>0</td>\n",
       "      <td>1</td>\n",
       "      <td>0</td>\n",
       "      <td>1</td>\n",
       "      <td>0</td>\n",
       "      <td>0</td>\n",
       "      <td>1</td>\n",
       "      <td>1</td>\n",
       "      <td>0</td>\n",
       "      <td>0</td>\n",
       "      <td>0</td>\n",
       "      <td>1</td>\n",
       "    </tr>\n",
       "  </tbody>\n",
       "</table>\n",
       "</div>"
      ],
      "text/plain": [
       "    Trash  Collection_Point_Type_Covered and Closed  \\\n",
       "0      15                                         0   \n",
       "1      20                                         0   \n",
       "2      24                                         1   \n",
       "3      22                                         0   \n",
       "4      23                                         1   \n",
       "5      21                                         0   \n",
       "6      21                                         0   \n",
       "7      12                                         0   \n",
       "8      24                                         1   \n",
       "9      24                                         0   \n",
       "10     11                                         0   \n",
       "11     19                                         0   \n",
       "12     12                                         0   \n",
       "13     10                                         0   \n",
       "14     25                                         0   \n",
       "15     19                                         0   \n",
       "16     13                                         1   \n",
       "17     23                                         0   \n",
       "18     16                                         0   \n",
       "19     18                                         0   \n",
       "20     12                                         0   \n",
       "21     20                                         0   \n",
       "22     21                                         0   \n",
       "23     14                                         0   \n",
       "24     20                                         1   \n",
       "25     11                                         1   \n",
       "26     10                                         1   \n",
       "27     21                                         0   \n",
       "28     19                                         1   \n",
       "29     14                                         0   \n",
       "30     12                                         1   \n",
       "31     12                                         0   \n",
       "32     13                                         0   \n",
       "33     13                                         0   \n",
       "34     22                                         0   \n",
       "35     23                                         1   \n",
       "36     14                                         0   \n",
       "37     19                                         0   \n",
       "38     11                                         0   \n",
       "39     21                                         0   \n",
       "40     17                                         1   \n",
       "41     14                                         0   \n",
       "42     20                                         0   \n",
       "43     10                                         0   \n",
       "44     10                                         1   \n",
       "45     24                                         1   \n",
       "46     21                                         1   \n",
       "47     20                                         1   \n",
       "\n",
       "    Collection_Point_Type_Covered and Open  \\\n",
       "0                                        0   \n",
       "1                                        0   \n",
       "2                                        0   \n",
       "3                                        1   \n",
       "4                                        0   \n",
       "5                                        1   \n",
       "6                                        0   \n",
       "7                                        1   \n",
       "8                                        0   \n",
       "9                                        0   \n",
       "10                                       1   \n",
       "11                                       0   \n",
       "12                                       0   \n",
       "13                                       1   \n",
       "14                                       0   \n",
       "15                                       1   \n",
       "16                                       0   \n",
       "17                                       1   \n",
       "18                                       1   \n",
       "19                                       0   \n",
       "20                                       1   \n",
       "21                                       1   \n",
       "22                                       0   \n",
       "23                                       0   \n",
       "24                                       0   \n",
       "25                                       0   \n",
       "26                                       0   \n",
       "27                                       1   \n",
       "28                                       0   \n",
       "29                                       1   \n",
       "30                                       0   \n",
       "31                                       1   \n",
       "32                                       1   \n",
       "33                                       0   \n",
       "34                                       1   \n",
       "35                                       0   \n",
       "36                                       1   \n",
       "37                                       1   \n",
       "38                                       1   \n",
       "39                                       1   \n",
       "40                                       0   \n",
       "41                                       0   \n",
       "42                                       0   \n",
       "43                                       0   \n",
       "44                                       0   \n",
       "45                                       0   \n",
       "46                                       0   \n",
       "47                                       0   \n",
       "\n",
       "    Collection_Point_Type_Freestanding Container  \\\n",
       "0                                              1   \n",
       "1                                              1   \n",
       "2                                              0   \n",
       "3                                              0   \n",
       "4                                              0   \n",
       "5                                              0   \n",
       "6                                              1   \n",
       "7                                              0   \n",
       "8                                              0   \n",
       "9                                              1   \n",
       "10                                             0   \n",
       "11                                             1   \n",
       "12                                             1   \n",
       "13                                             0   \n",
       "14                                             1   \n",
       "15                                             0   \n",
       "16                                             0   \n",
       "17                                             0   \n",
       "18                                             0   \n",
       "19                                             1   \n",
       "20                                             0   \n",
       "21                                             0   \n",
       "22                                             1   \n",
       "23                                             1   \n",
       "24                                             0   \n",
       "25                                             0   \n",
       "26                                             0   \n",
       "27                                             0   \n",
       "28                                             0   \n",
       "29                                             0   \n",
       "30                                             0   \n",
       "31                                             0   \n",
       "32                                             0   \n",
       "33                                             1   \n",
       "34                                             0   \n",
       "35                                             0   \n",
       "36                                             0   \n",
       "37                                             0   \n",
       "38                                             0   \n",
       "39                                             0   \n",
       "40                                             0   \n",
       "41                                             1   \n",
       "42                                             1   \n",
       "43                                             1   \n",
       "44                                             0   \n",
       "45                                             0   \n",
       "46                                             0   \n",
       "47                                             0   \n",
       "\n",
       "    Building_Type_Multi Family Housing  Building_Type_Single Family Housing  \\\n",
       "0                                    0                                    1   \n",
       "1                                    0                                    0   \n",
       "2                                    0                                    1   \n",
       "3                                    1                                    0   \n",
       "4                                    0                                    0   \n",
       "5                                    0                                    1   \n",
       "6                                    1                                    0   \n",
       "7                                    0                                    1   \n",
       "8                                    1                                    0   \n",
       "9                                    0                                    0   \n",
       "10                                   0                                    0   \n",
       "11                                   1                                    0   \n",
       "12                                   0                                    1   \n",
       "13                                   1                                    0   \n",
       "14                                   1                                    0   \n",
       "15                                   1                                    0   \n",
       "16                                   0                                    1   \n",
       "17                                   1                                    0   \n",
       "18                                   0                                    1   \n",
       "19                                   0                                    1   \n",
       "20                                   0                                    0   \n",
       "21                                   1                                    0   \n",
       "22                                   0                                    0   \n",
       "23                                   0                                    1   \n",
       "24                                   0                                    0   \n",
       "25                                   1                                    0   \n",
       "26                                   0                                    1   \n",
       "27                                   0                                    1   \n",
       "28                                   0                                    0   \n",
       "29                                   0                                    1   \n",
       "30                                   1                                    0   \n",
       "31                                   0                                    0   \n",
       "32                                   1                                    0   \n",
       "33                                   1                                    0   \n",
       "34                                   1                                    0   \n",
       "35                                   0                                    1   \n",
       "36                                   0                                    0   \n",
       "37                                   0                                    0   \n",
       "38                                   1                                    0   \n",
       "39                                   0                                    0   \n",
       "40                                   0                                    1   \n",
       "41                                   0                                    0   \n",
       "42                                   0                                    0   \n",
       "43                                   1                                    0   \n",
       "44                                   0                                    0   \n",
       "45                                   0                                    1   \n",
       "46                                   1                                    0   \n",
       "47                                   0                                    1   \n",
       "\n",
       "    Building_Type_Work Places  Surface_Type_Paved  Surface_Type_Unpaved  \\\n",
       "0                           0                   0                     1   \n",
       "1                           1                   0                     1   \n",
       "2                           0                   0                     1   \n",
       "3                           0                   1                     0   \n",
       "4                           1                   0                     1   \n",
       "5                           0                   1                     0   \n",
       "6                           0                   1                     0   \n",
       "7                           0                   1                     0   \n",
       "8                           0                   1                     0   \n",
       "9                           1                   0                     1   \n",
       "10                          1                   0                     1   \n",
       "11                          0                   0                     1   \n",
       "12                          0                   0                     1   \n",
       "13                          0                   1                     0   \n",
       "14                          0                   0                     1   \n",
       "15                          0                   1                     0   \n",
       "16                          0                   0                     1   \n",
       "17                          0                   0                     1   \n",
       "18                          0                   1                     0   \n",
       "19                          0                   1                     0   \n",
       "20                          1                   1                     0   \n",
       "21                          0                   1                     0   \n",
       "22                          1                   0                     1   \n",
       "23                          0                   1                     0   \n",
       "24                          1                   1                     0   \n",
       "25                          0                   0                     1   \n",
       "26                          0                   0                     1   \n",
       "27                          0                   0                     1   \n",
       "28                          1                   1                     0   \n",
       "29                          0                   0                     1   \n",
       "30                          0                   1                     0   \n",
       "31                          1                   0                     1   \n",
       "32                          0                   0                     1   \n",
       "33                          0                   1                     0   \n",
       "34                          0                   0                     1   \n",
       "35                          0                   0                     1   \n",
       "36                          1                   1                     0   \n",
       "37                          1                   1                     0   \n",
       "38                          0                   1                     0   \n",
       "39                          1                   0                     1   \n",
       "40                          0                   1                     0   \n",
       "41                          1                   1                     0   \n",
       "42                          1                   0                     1   \n",
       "43                          0                   0                     1   \n",
       "44                          1                   0                     1   \n",
       "45                          0                   0                     1   \n",
       "46                          0                   1                     0   \n",
       "47                          0                   1                     0   \n",
       "\n",
       "    Number_of_Loaders_1  Number_of_Loaders_2  Planned_Cleaning_Bin Cleaning  \\\n",
       "0                     0                    1                              0   \n",
       "1                     0                    1                              0   \n",
       "2                     1                    0                              0   \n",
       "3                     1                    0                              0   \n",
       "4                     0                    1                              1   \n",
       "5                     1                    0                              1   \n",
       "6                     1                    0                              0   \n",
       "7                     0                    1                              1   \n",
       "8                     1                    0                              0   \n",
       "9                     0                    1                              0   \n",
       "10                    1                    0                              1   \n",
       "11                    0                    1                              1   \n",
       "12                    1                    0                              0   \n",
       "13                    0                    1                              1   \n",
       "14                    0                    1                              1   \n",
       "15                    1                    0                              0   \n",
       "16                    1                    0                              1   \n",
       "17                    1                    0                              0   \n",
       "18                    1                    0                              1   \n",
       "19                    1                    0                              1   \n",
       "20                    0                    1                              0   \n",
       "21                    0                    1                              0   \n",
       "22                    0                    1                              0   \n",
       "23                    1                    0                              0   \n",
       "24                    0                    1                              0   \n",
       "25                    1                    0                              1   \n",
       "26                    1                    0                              1   \n",
       "27                    1                    0                              1   \n",
       "28                    0                    1                              0   \n",
       "29                    0                    1                              1   \n",
       "30                    1                    0                              0   \n",
       "31                    0                    1                              1   \n",
       "32                    1                    0                              1   \n",
       "33                    1                    0                              0   \n",
       "34                    1                    0                              1   \n",
       "35                    1                    0                              0   \n",
       "36                    1                    0                              0   \n",
       "37                    1                    0                              0   \n",
       "38                    0                    1                              1   \n",
       "39                    0                    1                              1   \n",
       "40                    1                    0                              0   \n",
       "41                    0                    1                              1   \n",
       "42                    1                    0                              0   \n",
       "43                    0                    1                              1   \n",
       "44                    0                    1                              1   \n",
       "45                    0                    1                              1   \n",
       "46                    0                    1                              0   \n",
       "47                    0                    1                              1   \n",
       "\n",
       "    Planned_Cleaning_No Cleaning  Truck_Distance_0-15 m  \\\n",
       "0                              1                      0   \n",
       "1                              1                      1   \n",
       "2                              1                      1   \n",
       "3                              1                      1   \n",
       "4                              0                      0   \n",
       "5                              0                      1   \n",
       "6                              1                      0   \n",
       "7                              0                      0   \n",
       "8                              1                      0   \n",
       "9                              1                      0   \n",
       "10                             0                      1   \n",
       "11                             0                      0   \n",
       "12                             1                      0   \n",
       "13                             0                      0   \n",
       "14                             0                      1   \n",
       "15                             1                      0   \n",
       "16                             0                      0   \n",
       "17                             1                      0   \n",
       "18                             0                      1   \n",
       "19                             0                      1   \n",
       "20                             1                      0   \n",
       "21                             1                      0   \n",
       "22                             1                      0   \n",
       "23                             1                      0   \n",
       "24                             1                      0   \n",
       "25                             0                      1   \n",
       "26                             0                      1   \n",
       "27                             0                      0   \n",
       "28                             1                      0   \n",
       "29                             0                      0   \n",
       "30                             1                      0   \n",
       "31                             0                      1   \n",
       "32                             0                      0   \n",
       "33                             1                      0   \n",
       "34                             0                      1   \n",
       "35                             1                      1   \n",
       "36                             1                      0   \n",
       "37                             1                      0   \n",
       "38                             0                      0   \n",
       "39                             0                      1   \n",
       "40                             1                      1   \n",
       "41                             0                      0   \n",
       "42                             1                      0   \n",
       "43                             0                      0   \n",
       "44                             0                      0   \n",
       "45                             0                      0   \n",
       "46                             1                      0   \n",
       "47                             0                      0   \n",
       "\n",
       "    Truck_Distance_15-30 m  Truck_Distance_>30m  \n",
       "0                        1                    0  \n",
       "1                        0                    0  \n",
       "2                        0                    0  \n",
       "3                        0                    0  \n",
       "4                        0                    1  \n",
       "5                        0                    0  \n",
       "6                        1                    0  \n",
       "7                        0                    1  \n",
       "8                        0                    1  \n",
       "9                        1                    0  \n",
       "10                       0                    0  \n",
       "11                       0                    1  \n",
       "12                       0                    1  \n",
       "13                       1                    0  \n",
       "14                       0                    0  \n",
       "15                       0                    1  \n",
       "16                       1                    0  \n",
       "17                       0                    1  \n",
       "18                       0                    0  \n",
       "19                       0                    0  \n",
       "20                       0                    1  \n",
       "21                       0                    1  \n",
       "22                       1                    0  \n",
       "23                       1                    0  \n",
       "24                       0                    1  \n",
       "25                       0                    0  \n",
       "26                       0                    0  \n",
       "27                       1                    0  \n",
       "28                       1                    0  \n",
       "29                       1                    0  \n",
       "30                       1                    0  \n",
       "31                       0                    0  \n",
       "32                       0                    1  \n",
       "33                       1                    0  \n",
       "34                       0                    0  \n",
       "35                       0                    0  \n",
       "36                       0                    1  \n",
       "37                       0                    1  \n",
       "38                       1                    0  \n",
       "39                       0                    0  \n",
       "40                       0                    0  \n",
       "41                       1                    0  \n",
       "42                       1                    0  \n",
       "43                       1                    0  \n",
       "44                       1                    0  \n",
       "45                       1                    0  \n",
       "46                       1                    0  \n",
       "47                       0                    1  "
      ]
     },
     "execution_count": 93,
     "metadata": {},
     "output_type": "execute_result"
    }
   ],
   "source": [
    "dummy1"
   ]
  },
  {
   "cell_type": "code",
   "execution_count": 96,
   "id": "closing-institute",
   "metadata": {},
   "outputs": [
    {
     "data": {
      "text/plain": [
       "LinearRegression()"
      ]
     },
     "execution_count": 96,
     "metadata": {},
     "output_type": "execute_result"
    }
   ],
   "source": [
    "from sklearn import linear_model\n",
    "regr = linear_model.LinearRegression()\n",
    "regr.fit(dummy1, response)"
   ]
  },
  {
   "cell_type": "code",
   "execution_count": 119,
   "id": "entertaining-validity",
   "metadata": {},
   "outputs": [],
   "source": [
    "#print(regr.coef_)"
   ]
  },
  {
   "cell_type": "code",
   "execution_count": 99,
   "id": "billion-harassment",
   "metadata": {},
   "outputs": [],
   "source": [
    "from sklearn.model_selection import train_test_split\n",
    "x_train, x_test, y_train, y_test = train_test_split(dummy1, response, test_size = 0.2, random_state = 42)"
   ]
  },
  {
   "cell_type": "code",
   "execution_count": 101,
   "id": "vulnerable-valuable",
   "metadata": {},
   "outputs": [],
   "source": [
    "LR = linear_model.LinearRegression()\n",
    "LR.fit(x_train,y_train)\n",
    "y_prediction =  LR.predict(x_test)"
   ]
  },
  {
   "cell_type": "code",
   "execution_count": 116,
   "id": "latin-enhancement",
   "metadata": {},
   "outputs": [],
   "source": [
    "y_prediction1 = []\n",
    "for i in y_prediction:\n",
    "    y_prediction1.append(int(i))"
   ]
  },
  {
   "cell_type": "code",
   "execution_count": 118,
   "id": "mental-newman",
   "metadata": {},
   "outputs": [],
   "source": [
    "#from sklearn.metrics import r2_score\n",
    "#from sklearn.metrics import mean_squared_error\n",
    "#score=r2_score(y_test,y_prediction1)\n",
    "#print('r2 score is',score)\n",
    "#print('mean_sqrd_error is==',mean_squared_error(y_test,y_prediction1))\n",
    "#print('root_mean_squared error of is==',np.sqrt(mean_squared_error(y_test,y_prediction1)))"
   ]
  },
  {
   "cell_type": "code",
   "execution_count": null,
   "id": "animated-differential",
   "metadata": {},
   "outputs": [],
   "source": []
  },
  {
   "cell_type": "code",
   "execution_count": null,
   "id": "verbal-database",
   "metadata": {},
   "outputs": [],
   "source": []
  }
 ],
 "metadata": {
  "kernelspec": {
   "display_name": "Python 3",
   "language": "python",
   "name": "python3"
  },
  "language_info": {
   "codemirror_mode": {
    "name": "ipython",
    "version": 3
   },
   "file_extension": ".py",
   "mimetype": "text/x-python",
   "name": "python",
   "nbconvert_exporter": "python",
   "pygments_lexer": "ipython3",
   "version": "3.8.8"
  }
 },
 "nbformat": 4,
 "nbformat_minor": 5
}
