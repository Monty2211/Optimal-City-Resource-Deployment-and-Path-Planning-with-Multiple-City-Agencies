{
 "cells": [
  {
   "cell_type": "code",
   "execution_count": 43,
   "id": "bb7993ba",
   "metadata": {},
   "outputs": [
    {
     "name": "stdout",
     "output_type": "stream",
     "text": [
      "1.1.1\n",
      "0.9.6\n"
     ]
    },
    {
     "data": {
      "image/png": "[encoded data removed]",
      "text/plain": [
       "<Figure size 432x288 with 1 Axes>"
      ]
     },
     "metadata": {
      "needs_background": "light"
     },
     "output_type": "display_data"
    }
   ],
   "source": [
    "import folium\n",
    "import openrouteservice as ors\n",
    "\n",
    "%matplotlib inline\n",
    "\n",
    "import matplotlib.pyplot as plt\n",
    "import geopandas as gpd\n",
    "import pysal as ps\n",
    "\n",
    "\n",
    "import pandas as pd\n",
    "import osmnx as ox\n",
    "city = ox.geocode_to_gdf('Washington, D.C.')\n",
    "ax = ox.project_gdf(city).plot()\n",
    "_ = ax.axis('off')\n",
    "\n",
    "\n",
    "import geopandas as gpd\n",
    "from shapely.geometry import Point, Polygon\n",
    "import pandas as pd\n",
    "\n",
    "import networkx as nx\n",
    "\n",
    "import igraph as ig\n",
    "print(ox.__version__)\n",
    "print(ig.__version__)\n",
    "\n",
    "weight = \"length\"\n",
    "\n",
    "\n",
    "import numpy\n",
    "from scipy.spatial.distance import pdist\n",
    "from scipy.spatial.distance import squareform \n"
   ]
  },
  {
   "cell_type": "code",
   "execution_count": 44,
   "id": "647a2478",
   "metadata": {},
   "outputs": [
    {
     "data": {
      "text/html": [
       "<div>\n",
       "<style scoped>\n",
       "    .dataframe tbody tr th:only-of-type {\n",
       "        vertical-align: middle;\n",
       "    }\n",
       "\n",
       "    .dataframe tbody tr th {\n",
       "        vertical-align: top;\n",
       "    }\n",
       "\n",
       "    .dataframe thead th {\n",
       "        text-align: right;\n",
       "    }\n",
       "</style>\n",
       "<table border=\"1\" class=\"dataframe\">\n",
       "  <thead>\n",
       "    <tr style=\"text-align: right;\">\n",
       "      <th></th>\n",
       "      <th>Name</th>\n",
       "      <th>Description</th>\n",
       "      <th>geometry</th>\n",
       "    </tr>\n",
       "  </thead>\n",
       "  <tbody>\n",
       "    <tr>\n",
       "      <th>0</th>\n",
       "      <td></td>\n",
       "      <td></td>\n",
       "      <td>POLYGON ((-77.00884 38.95484, -77.00866 38.954...</td>\n",
       "    </tr>\n",
       "    <tr>\n",
       "      <th>1</th>\n",
       "      <td></td>\n",
       "      <td></td>\n",
       "      <td>POLYGON ((-76.98949 38.94730, -76.98932 38.947...</td>\n",
       "    </tr>\n",
       "    <tr>\n",
       "      <th>2</th>\n",
       "      <td></td>\n",
       "      <td></td>\n",
       "      <td>POLYGON ((-77.00868 38.94796, -77.00870 38.948...</td>\n",
       "    </tr>\n",
       "    <tr>\n",
       "      <th>3</th>\n",
       "      <td></td>\n",
       "      <td></td>\n",
       "      <td>POLYGON ((-77.00595 38.95549, -77.00611 38.955...</td>\n",
       "    </tr>\n",
       "    <tr>\n",
       "      <th>4</th>\n",
       "      <td></td>\n",
       "      <td></td>\n",
       "      <td>POLYGON ((-76.98145 38.94078, -76.98165 38.940...</td>\n",
       "    </tr>\n",
       "    <tr>\n",
       "      <th>...</th>\n",
       "      <td>...</td>\n",
       "      <td>...</td>\n",
       "      <td>...</td>\n",
       "    </tr>\n",
       "    <tr>\n",
       "      <th>77</th>\n",
       "      <td></td>\n",
       "      <td></td>\n",
       "      <td>POLYGON ((-77.02132 38.94811, -77.02107 38.948...</td>\n",
       "    </tr>\n",
       "    <tr>\n",
       "      <th>78</th>\n",
       "      <td></td>\n",
       "      <td></td>\n",
       "      <td>POLYGON ((-77.02270 38.94625, -77.02283 38.946...</td>\n",
       "    </tr>\n",
       "    <tr>\n",
       "      <th>79</th>\n",
       "      <td></td>\n",
       "      <td></td>\n",
       "      <td>POLYGON ((-77.03779 38.93769, -77.03771 38.937...</td>\n",
       "    </tr>\n",
       "    <tr>\n",
       "      <th>80</th>\n",
       "      <td></td>\n",
       "      <td></td>\n",
       "      <td>POLYGON ((-76.98398 38.87971, -76.98427 38.879...</td>\n",
       "    </tr>\n",
       "    <tr>\n",
       "      <th>81</th>\n",
       "      <td></td>\n",
       "      <td></td>\n",
       "      <td>POLYGON ((-77.00352 38.88763, -77.00398 38.887...</td>\n",
       "    </tr>\n",
       "  </tbody>\n",
       "</table>\n",
       "<p>82 rows × 3 columns</p>\n",
       "</div>"
      ],
      "text/plain": [
       "   Name Description                                           geometry\n",
       "0                    POLYGON ((-77.00884 38.95484, -77.00866 38.954...\n",
       "1                    POLYGON ((-76.98949 38.94730, -76.98932 38.947...\n",
       "2                    POLYGON ((-77.00868 38.94796, -77.00870 38.948...\n",
       "3                    POLYGON ((-77.00595 38.95549, -77.00611 38.955...\n",
       "4                    POLYGON ((-76.98145 38.94078, -76.98165 38.940...\n",
       "..  ...         ...                                                ...\n",
       "77                   POLYGON ((-77.02132 38.94811, -77.02107 38.948...\n",
       "78                   POLYGON ((-77.02270 38.94625, -77.02283 38.946...\n",
       "79                   POLYGON ((-77.03779 38.93769, -77.03771 38.937...\n",
       "80                   POLYGON ((-76.98398 38.87971, -76.98427 38.879...\n",
       "81                   POLYGON ((-77.00352 38.88763, -77.00398 38.887...\n",
       "\n",
       "[82 rows x 3 columns]"
      ]
     },
     "execution_count": 44,
     "metadata": {},
     "output_type": "execute_result"
    }
   ],
   "source": [
    "gpd.io.file.fiona.drvsupport.supported_drivers['KML'] = 'rw'\n",
    "my_map = gpd.read_file('Snow_Removal_Areas.kml', driver='KML')\n",
    "my_map"
   ]
  },
  {
   "cell_type": "code",
   "execution_count": 45,
   "id": "823cd013",
   "metadata": {},
   "outputs": [],
   "source": [
    "coords = my_map.iloc[0]\n",
    "finalcoords = coords[2]\n",
    "\n",
    "G1 = ox.graph_from_polygon(finalcoords, network_type=\"drive\",\n",
    "                            simplify=True, retain_all=True, truncate_by_edge=True, \n",
    "                            clean_periphery=True, custom_filter=None)"
   ]
  },
  {
   "cell_type": "code",
   "execution_count": 46,
   "id": "06d2a5ee",
   "metadata": {},
   "outputs": [
    {
     "data": {
      "image/png": "[encoded data removed]",
      "text/plain": [
       "<Figure size 576x576 with 1 Axes>"
      ]
     },
     "metadata": {},
     "output_type": "display_data"
    }
   ],
   "source": [
    "fig, ax = ox.plot_graph(G1, node_color=\"r\")"
   ]
  },
  {
   "cell_type": "code",
   "execution_count": 47,
   "id": "29188e45",
   "metadata": {},
   "outputs": [
    {
     "data": {
      "text/plain": [
       "3"
      ]
     },
     "execution_count": 47,
     "metadata": {},
     "output_type": "execute_result"
    }
   ],
   "source": [
    "G1.nodes[49226047].get('street_count')"
   ]
  },
  {
   "cell_type": "code",
   "execution_count": null,
   "id": "7229e07a",
   "metadata": {},
   "outputs": [],
   "source": []
  },
  {
   "cell_type": "code",
   "execution_count": 48,
   "id": "1396a4d6",
   "metadata": {},
   "outputs": [],
   "source": [
    "nodes, edges = ox.graph_to_gdfs(G1)"
   ]
  },
  {
   "cell_type": "code",
   "execution_count": 49,
   "id": "2f646099",
   "metadata": {},
   "outputs": [
    {
     "data": {
      "text/html": [
       "<div>\n",
       "<style scoped>\n",
       "    .dataframe tbody tr th:only-of-type {\n",
       "        vertical-align: middle;\n",
       "    }\n",
       "\n",
       "    .dataframe tbody tr th {\n",
       "        vertical-align: top;\n",
       "    }\n",
       "\n",
       "    .dataframe thead th {\n",
       "        text-align: right;\n",
       "    }\n",
       "</style>\n",
       "<table border=\"1\" class=\"dataframe\">\n",
       "  <thead>\n",
       "    <tr style=\"text-align: right;\">\n",
       "      <th></th>\n",
       "      <th></th>\n",
       "      <th></th>\n",
       "      <th>osmid</th>\n",
       "      <th>name</th>\n",
       "      <th>highway</th>\n",
       "      <th>oneway</th>\n",
       "      <th>length</th>\n",
       "      <th>geometry</th>\n",
       "      <th>lanes</th>\n",
       "      <th>bridge</th>\n",
       "    </tr>\n",
       "    <tr>\n",
       "      <th>u</th>\n",
       "      <th>v</th>\n",
       "      <th>key</th>\n",
       "      <th></th>\n",
       "      <th></th>\n",
       "      <th></th>\n",
       "      <th></th>\n",
       "      <th></th>\n",
       "      <th></th>\n",
       "      <th></th>\n",
       "      <th></th>\n",
       "    </tr>\n",
       "  </thead>\n",
       "  <tbody>\n",
       "    <tr>\n",
       "      <th>49226047</th>\n",
       "      <th>647098998</th>\n",
       "      <th>0</th>\n",
       "      <td>[583912538, 5977894]</td>\n",
       "      <td>[Sligo Mill Road, Sligo Mill Road Northeast]</td>\n",
       "      <td>residential</td>\n",
       "      <td>False</td>\n",
       "      <td>251.466</td>\n",
       "      <td>LINESTRING (-77.00163 38.96825, -77.00173 38.9...</td>\n",
       "      <td>NaN</td>\n",
       "      <td>NaN</td>\n",
       "    </tr>\n",
       "    <tr>\n",
       "      <th rowspan=\"2\" valign=\"top\">49277063</th>\n",
       "      <th>49277064</th>\n",
       "      <th>0</th>\n",
       "      <td>5979644</td>\n",
       "      <td>Westmoreland Avenue</td>\n",
       "      <td>residential</td>\n",
       "      <td>False</td>\n",
       "      <td>99.911</td>\n",
       "      <td>LINESTRING (-77.00347 38.96801, -77.00429 38.9...</td>\n",
       "      <td>NaN</td>\n",
       "      <td>NaN</td>\n",
       "    </tr>\n",
       "    <tr>\n",
       "      <th>49782669</th>\n",
       "      <th>0</th>\n",
       "      <td>5989589</td>\n",
       "      <td>5th Avenue</td>\n",
       "      <td>residential</td>\n",
       "      <td>False</td>\n",
       "      <td>119.174</td>\n",
       "      <td>LINESTRING (-77.00347 38.96801, -77.00445 38.9...</td>\n",
       "      <td>NaN</td>\n",
       "      <td>NaN</td>\n",
       "    </tr>\n",
       "    <tr>\n",
       "      <th rowspan=\"2\" valign=\"top\">49277064</th>\n",
       "      <th>4135067936</th>\n",
       "      <th>0</th>\n",
       "      <td>5979644</td>\n",
       "      <td>Westmoreland Avenue</td>\n",
       "      <td>residential</td>\n",
       "      <td>False</td>\n",
       "      <td>100.458</td>\n",
       "      <td>LINESTRING (-77.00429 38.96864, -77.00512 38.9...</td>\n",
       "      <td>NaN</td>\n",
       "      <td>NaN</td>\n",
       "    </tr>\n",
       "    <tr>\n",
       "      <th>49277063</th>\n",
       "      <th>0</th>\n",
       "      <td>5979644</td>\n",
       "      <td>Westmoreland Avenue</td>\n",
       "      <td>residential</td>\n",
       "      <td>False</td>\n",
       "      <td>99.911</td>\n",
       "      <td>LINESTRING (-77.00429 38.96864, -77.00347 38.9...</td>\n",
       "      <td>NaN</td>\n",
       "      <td>NaN</td>\n",
       "    </tr>\n",
       "  </tbody>\n",
       "</table>\n",
       "</div>"
      ],
      "text/plain": [
       "                                        osmid  \\\n",
       "u        v          key                         \n",
       "49226047 647098998  0    [583912538, 5977894]   \n",
       "49277063 49277064   0                 5979644   \n",
       "         49782669   0                 5989589   \n",
       "49277064 4135067936 0                 5979644   \n",
       "         49277063   0                 5979644   \n",
       "\n",
       "                                                                 name  \\\n",
       "u        v          key                                                 \n",
       "49226047 647098998  0    [Sligo Mill Road, Sligo Mill Road Northeast]   \n",
       "49277063 49277064   0                             Westmoreland Avenue   \n",
       "         49782669   0                                      5th Avenue   \n",
       "49277064 4135067936 0                             Westmoreland Avenue   \n",
       "         49277063   0                             Westmoreland Avenue   \n",
       "\n",
       "                             highway  oneway   length  \\\n",
       "u        v          key                                 \n",
       "49226047 647098998  0    residential   False  251.466   \n",
       "49277063 49277064   0    residential   False   99.911   \n",
       "         49782669   0    residential   False  119.174   \n",
       "49277064 4135067936 0    residential   False  100.458   \n",
       "         49277063   0    residential   False   99.911   \n",
       "\n",
       "                                                                  geometry  \\\n",
       "u        v          key                                                      \n",
       "49226047 647098998  0    LINESTRING (-77.00163 38.96825, -77.00173 38.9...   \n",
       "49277063 49277064   0    LINESTRING (-77.00347 38.96801, -77.00429 38.9...   \n",
       "         49782669   0    LINESTRING (-77.00347 38.96801, -77.00445 38.9...   \n",
       "49277064 4135067936 0    LINESTRING (-77.00429 38.96864, -77.00512 38.9...   \n",
       "         49277063   0    LINESTRING (-77.00429 38.96864, -77.00347 38.9...   \n",
       "\n",
       "                        lanes bridge  \n",
       "u        v          key               \n",
       "49226047 647098998  0     NaN    NaN  \n",
       "49277063 49277064   0     NaN    NaN  \n",
       "         49782669   0     NaN    NaN  \n",
       "49277064 4135067936 0     NaN    NaN  \n",
       "         49277063   0     NaN    NaN  "
      ]
     },
     "execution_count": 49,
     "metadata": {},
     "output_type": "execute_result"
    }
   ],
   "source": [
    "edges.head()"
   ]
  },
  {
   "cell_type": "code",
   "execution_count": 56,
   "id": "f4c49968",
   "metadata": {},
   "outputs": [],
   "source": [
    "totalEdges = pd.DataFrame()"
   ]
  },
  {
   "cell_type": "code",
   "execution_count": 57,
   "id": "1f10c8c0",
   "metadata": {},
   "outputs": [],
   "source": [
    "totalEdges = edges['lanes']"
   ]
  },
  {
   "cell_type": "code",
   "execution_count": 58,
   "id": "b68e6d13",
   "metadata": {},
   "outputs": [
    {
     "data": {
      "text/plain": [
       "u         v           key\n",
       "49226047  647098998   0      NaN\n",
       "49277063  49277064    0      NaN\n",
       "          49782669    0      NaN\n",
       "49277064  4135067936  0      NaN\n",
       "          49277063    0      NaN\n",
       "Name: lanes, dtype: object"
      ]
     },
     "execution_count": 58,
     "metadata": {},
     "output_type": "execute_result"
    }
   ],
   "source": [
    "totalEdges.head()"
   ]
  },
  {
   "cell_type": "code",
   "execution_count": 59,
   "id": "35c8f51d",
   "metadata": {},
   "outputs": [],
   "source": [
    "EdgesWithInfox = totalEdges.dropna()"
   ]
  },
  {
   "cell_type": "code",
   "execution_count": 60,
   "id": "8de5157f",
   "metadata": {},
   "outputs": [
    {
     "data": {
      "text/plain": [
       "432"
      ]
     },
     "execution_count": 60,
     "metadata": {},
     "output_type": "execute_result"
    }
   ],
   "source": [
    "len(totalEdges)"
   ]
  },
  {
   "cell_type": "code",
   "execution_count": 61,
   "id": "95f2e82a",
   "metadata": {},
   "outputs": [
    {
     "data": {
      "text/plain": [
       "191"
      ]
     },
     "execution_count": 61,
     "metadata": {},
     "output_type": "execute_result"
    }
   ],
   "source": [
    "len(EdgesWithInfox)"
   ]
  },
  {
   "cell_type": "code",
   "execution_count": null,
   "id": "a5425a5e",
   "metadata": {},
   "outputs": [],
   "source": []
  },
  {
   "cell_type": "code",
   "execution_count": 62,
   "id": "ecaf4e7e",
   "metadata": {},
   "outputs": [
    {
     "data": {
      "text/plain": [
       "u           v           key\n",
       "49226047    647098998   0      residential\n",
       "49277063    49277064    0      residential\n",
       "            49782669    0      residential\n",
       "49277064    4135067936  0      residential\n",
       "            49277063    0      residential\n",
       "                                  ...     \n",
       "8825268120  8825268119  0        secondary\n",
       "            49812437    0         tertiary\n",
       "8825268121  49781334    0      residential\n",
       "            5354789679  0         tertiary\n",
       "9068829825  3366676344  0          primary\n",
       "Name: highway, Length: 432, dtype: object"
      ]
     },
     "execution_count": 62,
     "metadata": {},
     "output_type": "execute_result"
    }
   ],
   "source": [
    "edges['highway']"
   ]
  },
  {
   "cell_type": "code",
   "execution_count": null,
   "id": "4a53a76b",
   "metadata": {},
   "outputs": [],
   "source": []
  }
 ],
 "metadata": {
  "kernelspec": {
   "display_name": "Python 3 (ipykernel)",
   "language": "python",
   "name": "python3"
  },
  "language_info": {
   "codemirror_mode": {
    "name": "ipython",
    "version": 3
   },
   "file_extension": ".py",
   "mimetype": "text/x-python",
   "name": "python",
   "nbconvert_exporter": "python",
   "pygments_lexer": "ipython3",
   "version": "3.9.7"
  }
 },
 "nbformat": 4,
 "nbformat_minor": 5
}
