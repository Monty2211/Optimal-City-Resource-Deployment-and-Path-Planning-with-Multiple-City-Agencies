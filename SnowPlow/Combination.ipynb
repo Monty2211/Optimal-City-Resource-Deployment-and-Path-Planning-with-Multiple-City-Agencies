{
 "cells": [
  {
   "cell_type": "code",
   "execution_count": 2,
   "id": "a3db7fad",
   "metadata": {},
   "outputs": [
    {
     "name": "stdout",
     "output_type": "stream",
     "text": [
      "1.1.1\n",
      "0.9.6\n"
     ]
    },
    {
     "data": {
      "image/png": "[encoded data removed]",
      "text/plain": [
       "<Figure size 432x288 with 1 Axes>"
      ]
     },
     "metadata": {
      "needs_background": "light"
     },
     "output_type": "display_data"
    }
   ],
   "source": [
    "import folium\n",
    "import openrouteservice as ors\n",
    "\n",
    "%matplotlib inline\n",
    "\n",
    "import matplotlib.pyplot as plt\n",
    "import geopandas as gpd\n",
    "import pysal as ps\n",
    "\n",
    "\n",
    "import pandas as pd\n",
    "import osmnx as ox\n",
    "city = ox.geocode_to_gdf('Washington, D.C.')\n",
    "ax = ox.project_gdf(city).plot()\n",
    "_ = ax.axis('off')\n",
    "\n",
    "\n",
    "import geopandas as gpd\n",
    "from shapely.geometry import Point, Polygon\n",
    "import pandas as pd\n",
    "\n",
    "import networkx as nx\n",
    "\n",
    "import igraph as ig\n",
    "print(ox.__version__)\n",
    "print(ig.__version__)\n",
    "\n",
    "weight = \"length\"\n",
    "\n",
    "\n",
    "import numpy\n",
    "from scipy.spatial.distance import pdist\n",
    "from scipy.spatial.distance import squareform \n"
   ]
  },
  {
   "cell_type": "code",
   "execution_count": 3,
   "id": "49c3e0da",
   "metadata": {},
   "outputs": [
    {
     "data": {
      "text/html": [
       "<div>\n",
       "<style scoped>\n",
       "    .dataframe tbody tr th:only-of-type {\n",
       "        vertical-align: middle;\n",
       "    }\n",
       "\n",
       "    .dataframe tbody tr th {\n",
       "        vertical-align: top;\n",
       "    }\n",
       "\n",
       "    .dataframe thead th {\n",
       "        text-align: right;\n",
       "    }\n",
       "</style>\n",
       "<table border=\"1\" class=\"dataframe\">\n",
       "  <thead>\n",
       "    <tr style=\"text-align: right;\">\n",
       "      <th></th>\n",
       "      <th>Name</th>\n",
       "      <th>Description</th>\n",
       "      <th>geometry</th>\n",
       "    </tr>\n",
       "  </thead>\n",
       "  <tbody>\n",
       "    <tr>\n",
       "      <th>0</th>\n",
       "      <td></td>\n",
       "      <td></td>\n",
       "      <td>POLYGON ((-77.00884 38.95484, -77.00866 38.954...</td>\n",
       "    </tr>\n",
       "    <tr>\n",
       "      <th>1</th>\n",
       "      <td></td>\n",
       "      <td></td>\n",
       "      <td>POLYGON ((-76.98949 38.94730, -76.98932 38.947...</td>\n",
       "    </tr>\n",
       "    <tr>\n",
       "      <th>2</th>\n",
       "      <td></td>\n",
       "      <td></td>\n",
       "      <td>POLYGON ((-77.00868 38.94796, -77.00870 38.948...</td>\n",
       "    </tr>\n",
       "    <tr>\n",
       "      <th>3</th>\n",
       "      <td></td>\n",
       "      <td></td>\n",
       "      <td>POLYGON ((-77.00595 38.95549, -77.00611 38.955...</td>\n",
       "    </tr>\n",
       "    <tr>\n",
       "      <th>4</th>\n",
       "      <td></td>\n",
       "      <td></td>\n",
       "      <td>POLYGON ((-76.98145 38.94078, -76.98165 38.940...</td>\n",
       "    </tr>\n",
       "    <tr>\n",
       "      <th>...</th>\n",
       "      <td>...</td>\n",
       "      <td>...</td>\n",
       "      <td>...</td>\n",
       "    </tr>\n",
       "    <tr>\n",
       "      <th>77</th>\n",
       "      <td></td>\n",
       "      <td></td>\n",
       "      <td>POLYGON ((-77.02132 38.94811, -77.02107 38.948...</td>\n",
       "    </tr>\n",
       "    <tr>\n",
       "      <th>78</th>\n",
       "      <td></td>\n",
       "      <td></td>\n",
       "      <td>POLYGON ((-77.02270 38.94625, -77.02283 38.946...</td>\n",
       "    </tr>\n",
       "    <tr>\n",
       "      <th>79</th>\n",
       "      <td></td>\n",
       "      <td></td>\n",
       "      <td>POLYGON ((-77.03779 38.93769, -77.03771 38.937...</td>\n",
       "    </tr>\n",
       "    <tr>\n",
       "      <th>80</th>\n",
       "      <td></td>\n",
       "      <td></td>\n",
       "      <td>POLYGON ((-76.98398 38.87971, -76.98427 38.879...</td>\n",
       "    </tr>\n",
       "    <tr>\n",
       "      <th>81</th>\n",
       "      <td></td>\n",
       "      <td></td>\n",
       "      <td>POLYGON ((-77.00352 38.88763, -77.00398 38.887...</td>\n",
       "    </tr>\n",
       "  </tbody>\n",
       "</table>\n",
       "<p>82 rows × 3 columns</p>\n",
       "</div>"
      ],
      "text/plain": [
       "   Name Description                                           geometry\n",
       "0                    POLYGON ((-77.00884 38.95484, -77.00866 38.954...\n",
       "1                    POLYGON ((-76.98949 38.94730, -76.98932 38.947...\n",
       "2                    POLYGON ((-77.00868 38.94796, -77.00870 38.948...\n",
       "3                    POLYGON ((-77.00595 38.95549, -77.00611 38.955...\n",
       "4                    POLYGON ((-76.98145 38.94078, -76.98165 38.940...\n",
       "..  ...         ...                                                ...\n",
       "77                   POLYGON ((-77.02132 38.94811, -77.02107 38.948...\n",
       "78                   POLYGON ((-77.02270 38.94625, -77.02283 38.946...\n",
       "79                   POLYGON ((-77.03779 38.93769, -77.03771 38.937...\n",
       "80                   POLYGON ((-76.98398 38.87971, -76.98427 38.879...\n",
       "81                   POLYGON ((-77.00352 38.88763, -77.00398 38.887...\n",
       "\n",
       "[82 rows x 3 columns]"
      ]
     },
     "execution_count": 3,
     "metadata": {},
     "output_type": "execute_result"
    }
   ],
   "source": [
    "gpd.io.file.fiona.drvsupport.supported_drivers['KML'] = 'rw'\n",
    "my_map = gpd.read_file('Snow_Removal_Areas.kml', driver='KML')\n",
    "my_map"
   ]
  },
  {
   "cell_type": "code",
   "execution_count": 21,
   "id": "50560b82",
   "metadata": {},
   "outputs": [
    {
     "data": {
      "text/plain": [
       "82"
      ]
     },
     "execution_count": 21,
     "metadata": {},
     "output_type": "execute_result"
    }
   ],
   "source": [
    "len(my_map)"
   ]
  },
  {
   "cell_type": "code",
   "execution_count": null,
   "id": "0cc635f7",
   "metadata": {},
   "outputs": [],
   "source": []
  },
  {
   "cell_type": "code",
   "execution_count": null,
   "id": "170a8ab8",
   "metadata": {},
   "outputs": [],
   "source": []
  },
  {
   "cell_type": "code",
   "execution_count": 13,
   "id": "dfb6e469",
   "metadata": {},
   "outputs": [],
   "source": [
    "polys = []\n",
    "coordinates = []"
   ]
  },
  {
   "cell_type": "code",
   "execution_count": 23,
   "id": "a0caad83",
   "metadata": {},
   "outputs": [],
   "source": [
    "for i in range( len(my_map)):\n",
    "    polys.append(my_map.iloc[i])\n",
    "    coordinates.append(polys[i][2])"
   ]
  },
  {
   "cell_type": "code",
   "execution_count": 28,
   "id": "05e7e62b",
   "metadata": {},
   "outputs": [
    {
     "data": {
      "text/plain": [
       "list"
      ]
     },
     "execution_count": 28,
     "metadata": {},
     "output_type": "execute_result"
    }
   ],
   "source": [
    "type(coordinates)"
   ]
  },
  {
   "cell_type": "code",
   "execution_count": 30,
   "id": "0e619b36",
   "metadata": {},
   "outputs": [
    {
     "data": {
      "text/plain": [
       "list"
      ]
     },
     "execution_count": 30,
     "metadata": {},
     "output_type": "execute_result"
    }
   ],
   "source": [
    "type(coordinates)"
   ]
  },
  {
   "cell_type": "code",
   "execution_count": 35,
   "id": "851d57aa",
   "metadata": {},
   "outputs": [],
   "source": [
    "Graphs = []"
   ]
  },
  {
   "cell_type": "code",
   "execution_count": 36,
   "id": "9bbbddda",
   "metadata": {},
   "outputs": [
    {
     "name": "stdout",
     "output_type": "stream",
     "text": [
      "Current Time = 17:38:26\n"
     ]
    }
   ],
   "source": [
    "from datetime import datetime\n",
    "\n",
    "now = datetime.now()\n",
    "\n",
    "current_time = now.strftime(\"%H:%M:%S\")\n",
    "print(\"Current Time =\", current_time)"
   ]
  },
  {
   "cell_type": "code",
   "execution_count": 37,
   "id": "43fdd35d",
   "metadata": {},
   "outputs": [],
   "source": [
    "for i in range(len(coordinates)):\n",
    "    Graphs.append(ox.graph_from_polygon(coordinates[i], network_type=\"drive\",\n",
    "                            simplify=True, retain_all=True, truncate_by_edge=True, \n",
    "                            clean_periphery=True, custom_filter=None))"
   ]
  },
  {
   "cell_type": "code",
   "execution_count": 40,
   "id": "8e59b5a9",
   "metadata": {},
   "outputs": [
    {
     "name": "stdout",
     "output_type": "stream",
     "text": [
      "Current Time = 17:56:40\n"
     ]
    }
   ],
   "source": [
    "now = datetime.now()\n",
    "current_time = now.strftime(\"%H:%M:%S\")\n",
    "print(\"Current Time =\", current_time)"
   ]
  },
  {
   "cell_type": "code",
   "execution_count": 90,
   "id": "3a43cbd5",
   "metadata": {},
   "outputs": [
    {
     "data": {
      "text/plain": [
       "[<networkx.classes.multidigraph.MultiDiGraph at 0x13543231e50>,\n",
       " <networkx.classes.multidigraph.MultiDiGraph at 0x135430dac70>,\n",
       " <networkx.classes.multidigraph.MultiDiGraph at 0x135433b6cd0>,\n",
       " <networkx.classes.multidigraph.MultiDiGraph at 0x135436e0a00>,\n",
       " <networkx.classes.multidigraph.MultiDiGraph at 0x1354351ad30>,\n",
       " <networkx.classes.multidigraph.MultiDiGraph at 0x1354332fe50>,\n",
       " <networkx.classes.multidigraph.MultiDiGraph at 0x13543685cd0>,\n",
       " <networkx.classes.multidigraph.MultiDiGraph at 0x135438d6df0>,\n",
       " <networkx.classes.multidigraph.MultiDiGraph at 0x13543c44eb0>,\n",
       " <networkx.classes.multidigraph.MultiDiGraph at 0x13543a9acd0>,\n",
       " <networkx.classes.multidigraph.MultiDiGraph at 0x13543a76a90>,\n",
       " <networkx.classes.multidigraph.MultiDiGraph at 0x13543c6d670>,\n",
       " <networkx.classes.multidigraph.MultiDiGraph at 0x13543d74af0>,\n",
       " <networkx.classes.multidigraph.MultiDiGraph at 0x13543a766a0>,\n",
       " <networkx.classes.multidigraph.MultiDiGraph at 0x13543d11b20>,\n",
       " <networkx.classes.multidigraph.MultiDiGraph at 0x135437777c0>,\n",
       " <networkx.classes.multidigraph.MultiDiGraph at 0x135437ed760>,\n",
       " <networkx.classes.multidigraph.MultiDiGraph at 0x135441c6b50>,\n",
       " <networkx.classes.multidigraph.MultiDiGraph at 0x1354318c9d0>,\n",
       " <networkx.classes.multidigraph.MultiDiGraph at 0x13543ddb550>,\n",
       " <networkx.classes.multidigraph.MultiDiGraph at 0x13543f3f730>,\n",
       " <networkx.classes.multidigraph.MultiDiGraph at 0x135434fd8e0>,\n",
       " <networkx.classes.multidigraph.MultiDiGraph at 0x135434fdb50>,\n",
       " <networkx.classes.multidigraph.MultiDiGraph at 0x1354426dac0>,\n",
       " <networkx.classes.multidigraph.MultiDiGraph at 0x13543e4ca90>,\n",
       " <networkx.classes.multidigraph.MultiDiGraph at 0x13543f06f40>,\n",
       " <networkx.classes.multidigraph.MultiDiGraph at 0x13543efdc10>,\n",
       " <networkx.classes.multidigraph.MultiDiGraph at 0x1354452db20>,\n",
       " <networkx.classes.multidigraph.MultiDiGraph at 0x13544709b50>,\n",
       " <networkx.classes.multidigraph.MultiDiGraph at 0x13544072ac0>,\n",
       " <networkx.classes.multidigraph.MultiDiGraph at 0x13543d91e80>,\n",
       " <networkx.classes.multidigraph.MultiDiGraph at 0x135446deb80>,\n",
       " <networkx.classes.multidigraph.MultiDiGraph at 0x13543a0e640>,\n",
       " <networkx.classes.multidigraph.MultiDiGraph at 0x13544b9b940>,\n",
       " <networkx.classes.multidigraph.MultiDiGraph at 0x13544467d00>,\n",
       " <networkx.classes.multidigraph.MultiDiGraph at 0x1354489e250>,\n",
       " <networkx.classes.multidigraph.MultiDiGraph at 0x13543f503a0>,\n",
       " <networkx.classes.multidigraph.MultiDiGraph at 0x13544f7bc10>,\n",
       " <networkx.classes.multidigraph.MultiDiGraph at 0x13544b05eb0>,\n",
       " <networkx.classes.multidigraph.MultiDiGraph at 0x13544ab8a90>,\n",
       " <networkx.classes.multidigraph.MultiDiGraph at 0x13544375af0>,\n",
       " <networkx.classes.multidigraph.MultiDiGraph at 0x13544375790>,\n",
       " <networkx.classes.multidigraph.MultiDiGraph at 0x13544b3aa90>,\n",
       " <networkx.classes.multidigraph.MultiDiGraph at 0x1354498dc70>,\n",
       " <networkx.classes.multidigraph.MultiDiGraph at 0x13544c0ad00>,\n",
       " <networkx.classes.multidigraph.MultiDiGraph at 0x13544c0aeb0>,\n",
       " <networkx.classes.multidigraph.MultiDiGraph at 0x13544edbac0>,\n",
       " <networkx.classes.multidigraph.MultiDiGraph at 0x13544e68a30>,\n",
       " <networkx.classes.multidigraph.MultiDiGraph at 0x1354472aa30>,\n",
       " <networkx.classes.multidigraph.MultiDiGraph at 0x13544bc8c40>,\n",
       " <networkx.classes.multidigraph.MultiDiGraph at 0x135446467c0>,\n",
       " <networkx.classes.multidigraph.MultiDiGraph at 0x135446452b0>,\n",
       " <networkx.classes.multidigraph.MultiDiGraph at 0x13545445cd0>,\n",
       " <networkx.classes.multidigraph.MultiDiGraph at 0x13545445c10>,\n",
       " <networkx.classes.multidigraph.MultiDiGraph at 0x13544d5ce20>,\n",
       " <networkx.classes.multidigraph.MultiDiGraph at 0x13544e3f940>,\n",
       " <networkx.classes.multidigraph.MultiDiGraph at 0x13544e3fd00>,\n",
       " <networkx.classes.multidigraph.MultiDiGraph at 0x13545053340>,\n",
       " <networkx.classes.multidigraph.MultiDiGraph at 0x13545599be0>,\n",
       " <networkx.classes.multidigraph.MultiDiGraph at 0x13545599c40>,\n",
       " <networkx.classes.multidigraph.MultiDiGraph at 0x13544d6cbe0>,\n",
       " <networkx.classes.multidigraph.MultiDiGraph at 0x13545191e80>,\n",
       " <networkx.classes.multidigraph.MultiDiGraph at 0x13544e1eeb0>,\n",
       " <networkx.classes.multidigraph.MultiDiGraph at 0x13544e6f9d0>,\n",
       " <networkx.classes.multidigraph.MultiDiGraph at 0x13544e58c70>,\n",
       " <networkx.classes.multidigraph.MultiDiGraph at 0x13544e10e20>,\n",
       " <networkx.classes.multidigraph.MultiDiGraph at 0x13544dcab20>,\n",
       " <networkx.classes.multidigraph.MultiDiGraph at 0x13544de9f70>,\n",
       " <networkx.classes.multidigraph.MultiDiGraph at 0x1354495c430>,\n",
       " <networkx.classes.multidigraph.MultiDiGraph at 0x13545927af0>,\n",
       " <networkx.classes.multidigraph.MultiDiGraph at 0x13544de8c70>,\n",
       " <networkx.classes.multidigraph.MultiDiGraph at 0x135454d1e50>,\n",
       " <networkx.classes.multidigraph.MultiDiGraph at 0x13545625e20>,\n",
       " <networkx.classes.multidigraph.MultiDiGraph at 0x13546ac9940>,\n",
       " <networkx.classes.multidigraph.MultiDiGraph at 0x13544dc1970>,\n",
       " <networkx.classes.multidigraph.MultiDiGraph at 0x13547042f10>,\n",
       " <networkx.classes.multidigraph.MultiDiGraph at 0x13547042760>,\n",
       " <networkx.classes.multidigraph.MultiDiGraph at 0x13545419790>,\n",
       " <networkx.classes.multidigraph.MultiDiGraph at 0x13544f16b50>,\n",
       " <networkx.classes.multidigraph.MultiDiGraph at 0x13547190c40>,\n",
       " <networkx.classes.multidigraph.MultiDiGraph at 0x13547190970>,\n",
       " <networkx.classes.multidigraph.MultiDiGraph at 0x13546941d60>]"
      ]
     },
     "execution_count": 90,
     "metadata": {},
     "output_type": "execute_result"
    }
   ],
   "source": [
    "(Graphs)"
   ]
  },
  {
   "cell_type": "code",
   "execution_count": 91,
   "id": "b8e97d33",
   "metadata": {},
   "outputs": [],
   "source": [
    "denseGraphs1 = []"
   ]
  },
  {
   "cell_type": "code",
   "execution_count": 187,
   "id": "630050d7",
   "metadata": {},
   "outputs": [],
   "source": [
    "Graphs2 = []"
   ]
  },
  {
   "cell_type": "code",
   "execution_count": 188,
   "id": "bbc9a398",
   "metadata": {},
   "outputs": [],
   "source": [
    "Graphs2 = Graphs.copy()"
   ]
  },
  {
   "cell_type": "code",
   "execution_count": 189,
   "id": "d3a3e322",
   "metadata": {},
   "outputs": [
    {
     "data": {
      "text/plain": [
       "[<networkx.classes.multidigraph.MultiDiGraph at 0x13543231e50>,\n",
       " <networkx.classes.multidigraph.MultiDiGraph at 0x135430dac70>,\n",
       " <networkx.classes.multidigraph.MultiDiGraph at 0x135433b6cd0>,\n",
       " <networkx.classes.multidigraph.MultiDiGraph at 0x135436e0a00>,\n",
       " <networkx.classes.multidigraph.MultiDiGraph at 0x1354351ad30>,\n",
       " <networkx.classes.multidigraph.MultiDiGraph at 0x1354332fe50>,\n",
       " <networkx.classes.multidigraph.MultiDiGraph at 0x13543685cd0>,\n",
       " <networkx.classes.multidigraph.MultiDiGraph at 0x135438d6df0>,\n",
       " <networkx.classes.multidigraph.MultiDiGraph at 0x13543c44eb0>,\n",
       " <networkx.classes.multidigraph.MultiDiGraph at 0x13543a9acd0>,\n",
       " <networkx.classes.multidigraph.MultiDiGraph at 0x13543a76a90>,\n",
       " <networkx.classes.multidigraph.MultiDiGraph at 0x13543c6d670>,\n",
       " <networkx.classes.multidigraph.MultiDiGraph at 0x13543d74af0>,\n",
       " <networkx.classes.multidigraph.MultiDiGraph at 0x13543a766a0>,\n",
       " <networkx.classes.multidigraph.MultiDiGraph at 0x13543d11b20>,\n",
       " <networkx.classes.multidigraph.MultiDiGraph at 0x135437777c0>,\n",
       " <networkx.classes.multidigraph.MultiDiGraph at 0x135437ed760>,\n",
       " <networkx.classes.multidigraph.MultiDiGraph at 0x135441c6b50>,\n",
       " <networkx.classes.multidigraph.MultiDiGraph at 0x1354318c9d0>,\n",
       " <networkx.classes.multidigraph.MultiDiGraph at 0x13543ddb550>,\n",
       " <networkx.classes.multidigraph.MultiDiGraph at 0x13543f3f730>,\n",
       " <networkx.classes.multidigraph.MultiDiGraph at 0x135434fd8e0>,\n",
       " <networkx.classes.multidigraph.MultiDiGraph at 0x135434fdb50>,\n",
       " <networkx.classes.multidigraph.MultiDiGraph at 0x1354426dac0>,\n",
       " <networkx.classes.multidigraph.MultiDiGraph at 0x13543e4ca90>,\n",
       " <networkx.classes.multidigraph.MultiDiGraph at 0x13543f06f40>,\n",
       " <networkx.classes.multidigraph.MultiDiGraph at 0x13543efdc10>,\n",
       " <networkx.classes.multidigraph.MultiDiGraph at 0x1354452db20>,\n",
       " <networkx.classes.multidigraph.MultiDiGraph at 0x13544709b50>,\n",
       " <networkx.classes.multidigraph.MultiDiGraph at 0x13544072ac0>,\n",
       " <networkx.classes.multidigraph.MultiDiGraph at 0x13543d91e80>,\n",
       " <networkx.classes.multidigraph.MultiDiGraph at 0x135446deb80>,\n",
       " <networkx.classes.multidigraph.MultiDiGraph at 0x13543a0e640>,\n",
       " <networkx.classes.multidigraph.MultiDiGraph at 0x13544b9b940>,\n",
       " <networkx.classes.multidigraph.MultiDiGraph at 0x13544467d00>,\n",
       " <networkx.classes.multidigraph.MultiDiGraph at 0x1354489e250>,\n",
       " <networkx.classes.multidigraph.MultiDiGraph at 0x13543f503a0>,\n",
       " <networkx.classes.multidigraph.MultiDiGraph at 0x13544f7bc10>,\n",
       " <networkx.classes.multidigraph.MultiDiGraph at 0x13544b05eb0>,\n",
       " <networkx.classes.multidigraph.MultiDiGraph at 0x13544ab8a90>,\n",
       " <networkx.classes.multidigraph.MultiDiGraph at 0x13544375af0>,\n",
       " <networkx.classes.multidigraph.MultiDiGraph at 0x13544375790>,\n",
       " <networkx.classes.multidigraph.MultiDiGraph at 0x13544b3aa90>,\n",
       " <networkx.classes.multidigraph.MultiDiGraph at 0x1354498dc70>,\n",
       " <networkx.classes.multidigraph.MultiDiGraph at 0x13544c0ad00>,\n",
       " <networkx.classes.multidigraph.MultiDiGraph at 0x13544c0aeb0>,\n",
       " <networkx.classes.multidigraph.MultiDiGraph at 0x13544edbac0>,\n",
       " <networkx.classes.multidigraph.MultiDiGraph at 0x13544e68a30>,\n",
       " <networkx.classes.multidigraph.MultiDiGraph at 0x1354472aa30>,\n",
       " <networkx.classes.multidigraph.MultiDiGraph at 0x13544bc8c40>,\n",
       " <networkx.classes.multidigraph.MultiDiGraph at 0x135446467c0>,\n",
       " <networkx.classes.multidigraph.MultiDiGraph at 0x135446452b0>,\n",
       " <networkx.classes.multidigraph.MultiDiGraph at 0x13545445cd0>,\n",
       " <networkx.classes.multidigraph.MultiDiGraph at 0x13545445c10>,\n",
       " <networkx.classes.multidigraph.MultiDiGraph at 0x13544d5ce20>,\n",
       " <networkx.classes.multidigraph.MultiDiGraph at 0x13544e3f940>,\n",
       " <networkx.classes.multidigraph.MultiDiGraph at 0x13544e3fd00>,\n",
       " <networkx.classes.multidigraph.MultiDiGraph at 0x13545053340>,\n",
       " <networkx.classes.multidigraph.MultiDiGraph at 0x13545599be0>,\n",
       " <networkx.classes.multidigraph.MultiDiGraph at 0x13545599c40>,\n",
       " <networkx.classes.multidigraph.MultiDiGraph at 0x13544d6cbe0>,\n",
       " <networkx.classes.multidigraph.MultiDiGraph at 0x13545191e80>,\n",
       " <networkx.classes.multidigraph.MultiDiGraph at 0x13544e1eeb0>,\n",
       " <networkx.classes.multidigraph.MultiDiGraph at 0x13544e6f9d0>,\n",
       " <networkx.classes.multidigraph.MultiDiGraph at 0x13544e58c70>,\n",
       " <networkx.classes.multidigraph.MultiDiGraph at 0x13544e10e20>,\n",
       " <networkx.classes.multidigraph.MultiDiGraph at 0x13544dcab20>,\n",
       " <networkx.classes.multidigraph.MultiDiGraph at 0x13544de9f70>,\n",
       " <networkx.classes.multidigraph.MultiDiGraph at 0x1354495c430>,\n",
       " <networkx.classes.multidigraph.MultiDiGraph at 0x13545927af0>,\n",
       " <networkx.classes.multidigraph.MultiDiGraph at 0x13544de8c70>,\n",
       " <networkx.classes.multidigraph.MultiDiGraph at 0x135454d1e50>,\n",
       " <networkx.classes.multidigraph.MultiDiGraph at 0x13545625e20>,\n",
       " <networkx.classes.multidigraph.MultiDiGraph at 0x13546ac9940>,\n",
       " <networkx.classes.multidigraph.MultiDiGraph at 0x13544dc1970>,\n",
       " <networkx.classes.multidigraph.MultiDiGraph at 0x13547042f10>,\n",
       " <networkx.classes.multidigraph.MultiDiGraph at 0x13547042760>,\n",
       " <networkx.classes.multidigraph.MultiDiGraph at 0x13545419790>,\n",
       " <networkx.classes.multidigraph.MultiDiGraph at 0x13544f16b50>,\n",
       " <networkx.classes.multidigraph.MultiDiGraph at 0x13547190c40>,\n",
       " <networkx.classes.multidigraph.MultiDiGraph at 0x13547190970>,\n",
       " <networkx.classes.multidigraph.MultiDiGraph at 0x13546941d60>]"
      ]
     },
     "execution_count": 189,
     "metadata": {},
     "output_type": "execute_result"
    }
   ],
   "source": [
    "Graphs2"
   ]
  },
  {
   "cell_type": "code",
   "execution_count": null,
   "id": "b68994a3",
   "metadata": {},
   "outputs": [],
   "source": []
  },
  {
   "cell_type": "code",
   "execution_count": null,
   "id": "4e137e5f",
   "metadata": {},
   "outputs": [],
   "source": []
  },
  {
   "cell_type": "code",
   "execution_count": null,
   "id": "50309002",
   "metadata": {},
   "outputs": [],
   "source": []
  },
  {
   "cell_type": "code",
   "execution_count": null,
   "id": "338ff377",
   "metadata": {},
   "outputs": [],
   "source": []
  },
  {
   "cell_type": "code",
   "execution_count": null,
   "id": "1d4a71fe",
   "metadata": {},
   "outputs": [],
   "source": []
  },
  {
   "cell_type": "code",
   "execution_count": null,
   "id": "5158cb54",
   "metadata": {},
   "outputs": [],
   "source": []
  },
  {
   "cell_type": "code",
   "execution_count": 183,
   "id": "5beffd61",
   "metadata": {},
   "outputs": [
    {
     "name": "stdout",
     "output_type": "stream",
     "text": [
      "Current Time = 19:37:22\n"
     ]
    }
   ],
   "source": [
    "now = datetime.now()\n",
    "current_time = now.strftime(\"%H:%M:%S\")\n",
    "print(\"Current Time =\", current_time)"
   ]
  },
  {
   "cell_type": "code",
   "execution_count": 184,
   "id": "12bd5ab0",
   "metadata": {},
   "outputs": [],
   "source": [
    "for i in range(len(Graphs)):\n",
    "    G_proj = ox.project_graph(Graphs[i])\n",
    "    dense = ox.consolidate_intersections(G_proj, rebuild_graph=False, tolerance=15, dead_ends=False)\n",
    "    denseGraphs1.append(dense)\n",
    "    "
   ]
  },
  {
   "cell_type": "code",
   "execution_count": 185,
   "id": "6e84e9f6",
   "metadata": {},
   "outputs": [
    {
     "name": "stdout",
     "output_type": "stream",
     "text": [
      "Current Time = 19:38:17\n"
     ]
    }
   ],
   "source": [
    "now = datetime.now()\n",
    "current_time = now.strftime(\"%H:%M:%S\")\n",
    "print(\"Current Time =\", current_time)"
   ]
  },
  {
   "cell_type": "code",
   "execution_count": 186,
   "id": "87b4489c",
   "metadata": {},
   "outputs": [
    {
     "data": {
      "text/plain": [
       "NodeView((0, 1, 2, 3, 4, 5, 6, 7, 8, 9, 10, 11, 12, 13, 14, 15, 16, 17, 18, 19, 20, 21, 22, 23, 24, 25, 26, 27, 28, 29, 30, 31, 32, 33, 34, 35, 36, 37, 38, 39, 40, 41, 42, 43, 44, 45, 46, 47, 48, 49, 50, 51, 52, 53, 54, 55, 56, 57, 58, 59, 60, 61, 62, 63, 64, 65, 66, 67, 68, 69, 70, 71, 72, 73, 74, 75, 76, 77, 78, 79, 80, 81, 82, 83, 84, 85, 86, 87, 88, 89, 90, 91, 92, 93, 94, 95, 96, 97, 98, 99, 100, 101, 102, 103, 104, 105, 106, 107, 108, 109, 110, 111, 112, 113, 114, 115, 116, 117, 118, 119, 120, 121, 122, 123, 124, 125, 126))"
      ]
     },
     "execution_count": 186,
     "metadata": {},
     "output_type": "execute_result"
    }
   ],
   "source": [
    "(denseGraphs1[0].nodes)"
   ]
  },
  {
   "cell_type": "code",
   "execution_count": null,
   "id": "f3826a50",
   "metadata": {},
   "outputs": [],
   "source": []
  },
  {
   "cell_type": "code",
   "execution_count": null,
   "id": "9d4454a8",
   "metadata": {},
   "outputs": [],
   "source": []
  },
  {
   "cell_type": "code",
   "execution_count": null,
   "id": "19c44ced",
   "metadata": {},
   "outputs": [],
   "source": []
  },
  {
   "cell_type": "code",
   "execution_count": 96,
   "id": "4425af08",
   "metadata": {},
   "outputs": [],
   "source": [
    "nxGraphs = []"
   ]
  },
  {
   "cell_type": "code",
   "execution_count": 97,
   "id": "8f882433",
   "metadata": {},
   "outputs": [],
   "source": [
    "denseGraphs = denseGraphs1"
   ]
  },
  {
   "cell_type": "code",
   "execution_count": 165,
   "id": "0904724e",
   "metadata": {
    "scrolled": true
   },
   "outputs": [
    {
     "data": {
      "text/plain": [
       "[<networkx.classes.multidigraph.MultiDiGraph at 0x135530c55e0>,\n",
       " <networkx.classes.multidigraph.MultiDiGraph at 0x135530c5df0>,\n",
       " <networkx.classes.multidigraph.MultiDiGraph at 0x1354fcd0100>,\n",
       " <networkx.classes.multidigraph.MultiDiGraph at 0x135530c58b0>,\n",
       " <networkx.classes.multidigraph.MultiDiGraph at 0x1354fcb7e50>,\n",
       " <networkx.classes.multidigraph.MultiDiGraph at 0x135530c5cd0>,\n",
       " <networkx.classes.multidigraph.MultiDiGraph at 0x135530c5d60>,\n",
       " <networkx.classes.multidigraph.MultiDiGraph at 0x1354fe124f0>,\n",
       " <networkx.classes.multidigraph.MultiDiGraph at 0x1354fcb70d0>,\n",
       " <networkx.classes.multidigraph.MultiDiGraph at 0x13552e7f610>,\n",
       " <networkx.classes.multidigraph.MultiDiGraph at 0x1354fcd09d0>,\n",
       " <networkx.classes.multidigraph.MultiDiGraph at 0x13552ce89a0>,\n",
       " <networkx.classes.multidigraph.MultiDiGraph at 0x1354fa56640>,\n",
       " <networkx.classes.multidigraph.MultiDiGraph at 0x13552e20880>,\n",
       " <networkx.classes.multidigraph.MultiDiGraph at 0x1354a51a460>,\n",
       " <networkx.classes.multidigraph.MultiDiGraph at 0x135528ea730>,\n",
       " <networkx.classes.multidigraph.MultiDiGraph at 0x1355005e880>,\n",
       " <networkx.classes.multidigraph.MultiDiGraph at 0x13550253970>,\n",
       " <networkx.classes.multidigraph.MultiDiGraph at 0x135501c4b80>,\n",
       " <networkx.classes.multidigraph.MultiDiGraph at 0x1355009b2b0>,\n",
       " <networkx.classes.multidigraph.MultiDiGraph at 0x135501e64c0>,\n",
       " <networkx.classes.multidigraph.MultiDiGraph at 0x1355034ecd0>,\n",
       " <networkx.classes.multidigraph.MultiDiGraph at 0x1354a719760>,\n",
       " <networkx.classes.multidigraph.MultiDiGraph at 0x1354bd72370>,\n",
       " <networkx.classes.multidigraph.MultiDiGraph at 0x13552e7fd60>,\n",
       " <networkx.classes.multidigraph.MultiDiGraph at 0x135504bc040>,\n",
       " <networkx.classes.multidigraph.MultiDiGraph at 0x135501e6f70>,\n",
       " <networkx.classes.multidigraph.MultiDiGraph at 0x135504bfa00>,\n",
       " <networkx.classes.multidigraph.MultiDiGraph at 0x135503f33d0>,\n",
       " <networkx.classes.multidigraph.MultiDiGraph at 0x135504fcc10>,\n",
       " <networkx.classes.multidigraph.MultiDiGraph at 0x1355062e4f0>,\n",
       " <networkx.classes.multidigraph.MultiDiGraph at 0x135504ff400>,\n",
       " <networkx.classes.multidigraph.MultiDiGraph at 0x135505f2cd0>,\n",
       " <networkx.classes.multidigraph.MultiDiGraph at 0x135507fc8b0>,\n",
       " <networkx.classes.multidigraph.MultiDiGraph at 0x135503f3190>,\n",
       " <networkx.classes.multidigraph.MultiDiGraph at 0x13550620fd0>,\n",
       " <networkx.classes.multidigraph.MultiDiGraph at 0x135507fce80>,\n",
       " <networkx.classes.multidigraph.MultiDiGraph at 0x13550852eb0>,\n",
       " <networkx.classes.multidigraph.MultiDiGraph at 0x135507aca60>,\n",
       " <networkx.classes.multidigraph.MultiDiGraph at 0x135509cba60>,\n",
       " <networkx.classes.multidigraph.MultiDiGraph at 0x1355089af40>,\n",
       " <networkx.classes.multidigraph.MultiDiGraph at 0x1355096b760>,\n",
       " <networkx.classes.multidigraph.MultiDiGraph at 0x1355096b6d0>,\n",
       " <networkx.classes.multidigraph.MultiDiGraph at 0x13550965eb0>,\n",
       " <networkx.classes.multidigraph.MultiDiGraph at 0x13550b3cdc0>,\n",
       " <networkx.classes.multidigraph.MultiDiGraph at 0x13550a58340>,\n",
       " <networkx.classes.multidigraph.MultiDiGraph at 0x13550be70d0>,\n",
       " <networkx.classes.multidigraph.MultiDiGraph at 0x13550f7d490>,\n",
       " <networkx.classes.multidigraph.MultiDiGraph at 0x135509e7430>,\n",
       " <networkx.classes.multidigraph.MultiDiGraph at 0x13551013850>,\n",
       " <networkx.classes.multidigraph.MultiDiGraph at 0x13550b3cdf0>,\n",
       " <networkx.classes.multidigraph.MultiDiGraph at 0x13550e94a00>,\n",
       " <networkx.classes.multidigraph.MultiDiGraph at 0x13551013eb0>,\n",
       " <networkx.classes.multidigraph.MultiDiGraph at 0x13551013700>,\n",
       " <networkx.classes.multidigraph.MultiDiGraph at 0x13551072760>,\n",
       " <networkx.classes.multidigraph.MultiDiGraph at 0x13550f6deb0>,\n",
       " <networkx.classes.multidigraph.MultiDiGraph at 0x135511f4fd0>,\n",
       " <networkx.classes.multidigraph.MultiDiGraph at 0x13550af8d90>,\n",
       " <networkx.classes.multidigraph.MultiDiGraph at 0x135511f4400>,\n",
       " <networkx.classes.multidigraph.MultiDiGraph at 0x135510f5e80>,\n",
       " <networkx.classes.multidigraph.MultiDiGraph at 0x13550fcf370>,\n",
       " <networkx.classes.multidigraph.MultiDiGraph at 0x135515b6460>,\n",
       " <networkx.classes.multidigraph.MultiDiGraph at 0x1355151a130>,\n",
       " <networkx.classes.multidigraph.MultiDiGraph at 0x13551322ca0>,\n",
       " <networkx.classes.multidigraph.MultiDiGraph at 0x135511c6b80>,\n",
       " <networkx.classes.multidigraph.MultiDiGraph at 0x13551617f40>,\n",
       " <networkx.classes.multidigraph.MultiDiGraph at 0x135515bf4c0>,\n",
       " <networkx.classes.multidigraph.MultiDiGraph at 0x1355125f940>,\n",
       " <networkx.classes.multidigraph.MultiDiGraph at 0x1355151a3d0>,\n",
       " <networkx.classes.multidigraph.MultiDiGraph at 0x135529b78e0>,\n",
       " <networkx.classes.multidigraph.MultiDiGraph at 0x135529b7f70>,\n",
       " <networkx.classes.multidigraph.MultiDiGraph at 0x1355265f8e0>,\n",
       " <networkx.classes.multidigraph.MultiDiGraph at 0x13552d14640>,\n",
       " <networkx.classes.multidigraph.MultiDiGraph at 0x13552a1b850>,\n",
       " <networkx.classes.multidigraph.MultiDiGraph at 0x135527209a0>,\n",
       " <networkx.classes.multidigraph.MultiDiGraph at 0x135515b52e0>,\n",
       " <networkx.classes.multidigraph.MultiDiGraph at 0x135515ba3d0>,\n",
       " <networkx.classes.multidigraph.MultiDiGraph at 0x1355124a2e0>,\n",
       " <networkx.classes.multidigraph.MultiDiGraph at 0x1354f970cd0>,\n",
       " <networkx.classes.multidigraph.MultiDiGraph at 0x13552a9dd60>,\n",
       " <networkx.classes.multidigraph.MultiDiGraph at 0x13552ce37f0>,\n",
       " <networkx.classes.multidigraph.MultiDiGraph at 0x135504fcfd0>]"
      ]
     },
     "execution_count": 165,
     "metadata": {},
     "output_type": "execute_result"
    }
   ],
   "source": [
    "denseGraphs"
   ]
  },
  {
   "cell_type": "code",
   "execution_count": null,
   "id": "ca5c5676",
   "metadata": {},
   "outputs": [],
   "source": []
  },
  {
   "cell_type": "code",
   "execution_count": null,
   "id": "2a2fa9fb",
   "metadata": {},
   "outputs": [],
   "source": []
  },
  {
   "cell_type": "code",
   "execution_count": 271,
   "id": "dfc0dd4c",
   "metadata": {},
   "outputs": [],
   "source": [
    "idenseGraphs = []"
   ]
  },
  {
   "cell_type": "code",
   "execution_count": null,
   "id": "8473ffc8",
   "metadata": {},
   "outputs": [],
   "source": []
  },
  {
   "cell_type": "code",
   "execution_count": 272,
   "id": "d30b1f62",
   "metadata": {},
   "outputs": [
    {
     "name": "stdout",
     "output_type": "stream",
     "text": [
      "Current Time = 04:56:43\n"
     ]
    }
   ],
   "source": [
    "now = datetime.now()\n",
    "current_time = now.strftime(\"%H:%M:%S\")\n",
    "print(\"Current Time =\", current_time)"
   ]
  },
  {
   "cell_type": "code",
   "execution_count": 273,
   "id": "40aa9986",
   "metadata": {},
   "outputs": [],
   "source": [
    "for i in range(len(Graphs)):\n",
    "    osmids = list(Graphs[i].nodes)\n",
    "    Graphs[i] = nx.relabel.convert_node_labels_to_integers(Graphs[i])\n",
    "    osmid_values = {k: v for k, v in zip(Graphs[i].nodes, osmids)}\n",
    "    nx.set_node_attributes(Graphs[i], osmid_values, \"osmid\")"
   ]
  },
  {
   "cell_type": "code",
   "execution_count": null,
   "id": "0b8c7764",
   "metadata": {},
   "outputs": [],
   "source": []
  },
  {
   "cell_type": "code",
   "execution_count": 274,
   "id": "e6ee7c46",
   "metadata": {},
   "outputs": [],
   "source": [
    "numberOfAreas = len(Graphs)"
   ]
  },
  {
   "cell_type": "code",
   "execution_count": 275,
   "id": "c5a2c2ba",
   "metadata": {},
   "outputs": [
    {
     "data": {
      "text/plain": [
       "82"
      ]
     },
     "execution_count": 275,
     "metadata": {},
     "output_type": "execute_result"
    }
   ],
   "source": [
    "numberOfAreas"
   ]
  },
  {
   "cell_type": "code",
   "execution_count": 276,
   "id": "934e4c12",
   "metadata": {},
   "outputs": [],
   "source": [
    "for i in range(numberOfAreas):\n",
    "    idenseGraphs.insert( i, ig.Graph(directed=True))\n",
    "    idenseGraphs[i].add_vertices(Graphs[i].nodes)\n",
    "    idenseGraphs[i].add_edges(Graphs[i].edges())\n",
    "    idenseGraphs[i].vs[\"osmid\"] = osmids\n",
    "    idenseGraphs[i].es[weight] = list(nx.get_edge_attributes(Graphs[i], weight).values())"
   ]
  },
  {
   "cell_type": "code",
   "execution_count": 277,
   "id": "9ffd0bbb",
   "metadata": {},
   "outputs": [
    {
     "data": {
      "text/plain": [
       "82"
      ]
     },
     "execution_count": 277,
     "metadata": {},
     "output_type": "execute_result"
    }
   ],
   "source": [
    "len(idenseGraphs)"
   ]
  },
  {
   "cell_type": "code",
   "execution_count": 278,
   "id": "56a975f7",
   "metadata": {},
   "outputs": [
    {
     "name": "stdout",
     "output_type": "stream",
     "text": [
      "Current Time = 04:56:47\n"
     ]
    }
   ],
   "source": [
    "now = datetime.now()\n",
    "current_time = now.strftime(\"%H:%M:%S\")\n",
    "print(\"Current Time =\", current_time)"
   ]
  },
  {
   "cell_type": "code",
   "execution_count": 279,
   "id": "14ce2186",
   "metadata": {},
   "outputs": [
    {
     "data": {
      "text/plain": [
       "82"
      ]
     },
     "execution_count": 279,
     "metadata": {},
     "output_type": "execute_result"
    }
   ],
   "source": [
    "len(idenseGraphs)"
   ]
  },
  {
   "cell_type": "code",
   "execution_count": null,
   "id": "3ac4ec7c",
   "metadata": {},
   "outputs": [],
   "source": []
  },
  {
   "cell_type": "code",
   "execution_count": null,
   "id": "2c908a78",
   "metadata": {},
   "outputs": [],
   "source": []
  },
  {
   "cell_type": "code",
   "execution_count": 280,
   "id": "ab4aadc6",
   "metadata": {},
   "outputs": [],
   "source": [
    "eccentricities = []\n",
    "neighbors = []"
   ]
  },
  {
   "cell_type": "code",
   "execution_count": 281,
   "id": "4a4743e1",
   "metadata": {},
   "outputs": [],
   "source": [
    "for i in range(len(idenseGraphs)):\n",
    "    eccentricities.append(idenseGraphs[i].eccentricity(vertices=None, mode='in'))\n",
    "    neighbors.append(idenseGraphs[i].neighborhood(vertices=None, order=1, mode='all', mindist=0))"
   ]
  },
  {
   "cell_type": "code",
   "execution_count": 282,
   "id": "c40ea73b",
   "metadata": {},
   "outputs": [
    {
     "data": {
      "text/plain": [
       "82"
      ]
     },
     "execution_count": 282,
     "metadata": {},
     "output_type": "execute_result"
    }
   ],
   "source": [
    "len(eccentricities)"
   ]
  },
  {
   "cell_type": "code",
   "execution_count": 283,
   "id": "6e948f61",
   "metadata": {},
   "outputs": [
    {
     "data": {
      "text/plain": [
       "167"
      ]
     },
     "execution_count": 283,
     "metadata": {},
     "output_type": "execute_result"
    }
   ],
   "source": [
    "len(neighbors[0])"
   ]
  },
  {
   "cell_type": "code",
   "execution_count": 284,
   "id": "3d5a842b",
   "metadata": {},
   "outputs": [
    {
     "data": {
      "text/plain": [
       "167"
      ]
     },
     "execution_count": 284,
     "metadata": {},
     "output_type": "execute_result"
    }
   ],
   "source": [
    "len(Graphs[0].nodes)"
   ]
  },
  {
   "cell_type": "code",
   "execution_count": 285,
   "id": "7d27cc34",
   "metadata": {},
   "outputs": [],
   "source": [
    "df1 = pd.DataFrame()\n",
    "Nodes = []"
   ]
  },
  {
   "cell_type": "code",
   "execution_count": 286,
   "id": "240028cc",
   "metadata": {},
   "outputs": [
    {
     "data": {
      "text/plain": [
       "167"
      ]
     },
     "execution_count": 286,
     "metadata": {},
     "output_type": "execute_result"
    }
   ],
   "source": [
    "df1 = pd.DataFrame()\n",
    "Nodes = []\n",
    "\n",
    "G23 = Graphs[0]\n",
    "for i in G23.nodes:\n",
    "    Nodes.append(i)\n",
    "df1 = pd.DataFrame(Nodes)\n",
    "df1.rename(columns = {0:'Nodes'}, inplace = True)\n",
    "\n",
    "df1 = pd.DataFrame(Nodes)\n",
    "\n",
    "df1.rename(columns = {0:'Nodes'}, inplace = True)\n",
    "\n",
    "lats = []\n",
    "longs = []\n",
    "\n",
    "for i in Nodes:\n",
    "    lats.append(G23.nodes[i].get('y'))\n",
    "    longs.append(G23.nodes[i].get('x'))\n",
    "    \n",
    "df1['Latitude'] = lats\n",
    "df1['Longitude'] = longs\n",
    "\n",
    "df1.head()\n",
    "\n",
    "subset = df1[['Latitude', 'Longitude']]\n",
    "tuples = [tuple(x) for x in subset.to_numpy()]\n",
    "\n",
    "len(tuples)"
   ]
  },
  {
   "cell_type": "code",
   "execution_count": 294,
   "id": "654b8d87",
   "metadata": {},
   "outputs": [],
   "source": [
    "arrayofTuples = numpy.array_split(tuples, 5)"
   ]
  },
  {
   "cell_type": "code",
   "execution_count": 295,
   "id": "21954a24",
   "metadata": {},
   "outputs": [],
   "source": [
    "arrayofEccentricity = numpy.array_split(eccentricities[0], 5)"
   ]
  },
  {
   "cell_type": "code",
   "execution_count": 297,
   "id": "b0a984aa",
   "metadata": {},
   "outputs": [
    {
     "data": {
      "text/plain": [
       "34"
      ]
     },
     "execution_count": 297,
     "metadata": {},
     "output_type": "execute_result"
    }
   ],
   "source": [
    "len(arrayofTuples[0])"
   ]
  },
  {
   "cell_type": "code",
   "execution_count": 299,
   "id": "0802112a",
   "metadata": {},
   "outputs": [
    {
     "data": {
      "text/plain": [
       "34"
      ]
     },
     "execution_count": 299,
     "metadata": {},
     "output_type": "execute_result"
    }
   ],
   "source": [
    "len(arrayofEccentricity[0])"
   ]
  },
  {
   "cell_type": "code",
   "execution_count": 321,
   "id": "e4158b77",
   "metadata": {},
   "outputs": [],
   "source": [
    "class PrioritySet(object):\n",
    "    \n",
    "    def __init__(self):\n",
    "        self.heap = []\n",
    "        self.set = set()\n",
    "\n",
    "    def push(self, d):\n",
    "        if not d in self.set:\n",
    "            heapq.heappush(self.heap, d)\n",
    "            self.set.add(d)\n",
    "\n",
    "    def pop(self):\n",
    "        d = heapq.heappop(self.heap)\n",
    "        self.set.remove(d)\n",
    "        return d\n",
    "\n",
    "    def size(self):\n",
    "        return len(self.heap)\n",
    "\n",
    "    def __str__(self):\n",
    "        op = \"\"\n",
    "        for i in self.heap:\n",
    "            op += str(i[0]) + \" : \" + i[1].__str__()\n",
    "            op += \"\\n\"\n",
    "        return op\n",
    "\n",
    "    def __getitem__(self, index):\n",
    "        return self.heap[index]"
   ]
  },
  {
   "cell_type": "code",
   "execution_count": 322,
   "id": "fad93ea8",
   "metadata": {},
   "outputs": [],
   "source": [
    "class Position:\n",
    "\n",
    "    def __init__(self,x,y):\n",
    "        self.x = x\n",
    "        self.y = y\t\t\n",
    "\n",
    "    def __str__(self):\n",
    "        return \"(\" + str(self.x) + \", \" + str(self.y) + \") \"\n",
    "\n",
    "    def x_coor(self):\n",
    "        return self.x\n",
    "\n",
    "    def y_coor(self):\n",
    "        return self.y"
   ]
  },
  {
   "cell_type": "code",
   "execution_count": 323,
   "id": "fdd5b71b",
   "metadata": {},
   "outputs": [],
   "source": [
    "class Vehicle:\n",
    "\n",
    "    def __init__(self, capacity):\n",
    "        self.capacity = capacity\n",
    "\n",
    "    def capacity(self):\n",
    "        return self.capacity"
   ]
  },
  {
   "cell_type": "code",
   "execution_count": 337,
   "id": "44f4ea98",
   "metadata": {},
   "outputs": [],
   "source": [
    "class Node:\n",
    "\n",
    "    pos = Position(-1,-1)\n",
    "    demand = 0\n",
    "\n",
    "    def __init__(self,name):\n",
    "        self.name = name\n",
    "\n",
    "    def setPosition(self,x,y):\n",
    "        self.pos = Position(x, y)\n",
    "\n",
    "    def setDemand(self,d):\n",
    "        self.demand = d\n",
    "\n",
    "    def __str__(self):\n",
    "        return \"(\" + str(self.pos.x) + \",\" + \\\n",
    "                   str(self.pos.y) + \")\""
   ]
  },
  {
   "cell_type": "code",
   "execution_count": 338,
   "id": "bed2114a",
   "metadata": {},
   "outputs": [],
   "source": [
    "def copy(li):\n",
    "    return [i for i in li]\n",
    "\n",
    "def getProb():\n",
    "    return random.random()\n",
    "\n",
    "def get_random(li):\n",
    "    index = random.randint(0, len(li)-1)\n",
    "    return li[index]\n",
    "\n",
    "def get_distance(cus1, cus2):\n",
    "    # Euclideian\n",
    "    #change to vincenty later\n",
    "    dist = 0 \n",
    "    dist = math.sqrt(((cus1.pos.x - cus2.pos.x) ** 2) + ((cus1.pos.y - cus2.pos.y) ** 2))\n",
    "    return dist\n",
    "\n",
    "def print_tuple(t):\n",
    "    print( \"0\"), \n",
    "    for i in t:\n",
    "        print(i),        \n",
    "    print( \"0\"),\n",
    "    print (\" -> f: \" + str(get_fitness(t)))\n",
    "\n",
    "def print_population(p):\n",
    "    for i in p:\n",
    "        for c in i:\n",
    "            print(c),\n",
    "        print(\"\\n\")\n",
    "    \n",
    "def print_population_heap(p):\n",
    "    count = 1\n",
    "    for i in p:\n",
    "        print (count, \" )  \")\n",
    "        print_tuple(i[1])\n",
    "        count += 1\n",
    "        print(\"\\n\")\n",
    "\n"
   ]
  },
  {
   "cell_type": "code",
   "execution_count": 339,
   "id": "093118b0",
   "metadata": {},
   "outputs": [],
   "source": [
    "def mutate(chromosome):\n",
    "\n",
    "    temp = [i for i in chromosome]\n",
    "    \n",
    "    if getProb() < MUTATION_RATE:\n",
    "        left = random.randint(1, len(temp) - 2)\n",
    "        right = random.randint(left, len(temp) - 1)   \n",
    "        temp[left], temp[right] = temp[right], temp[left]\n",
    "    return temp\n"
   ]
  },
  {
   "cell_type": "code",
   "execution_count": 340,
   "id": "7df0e523",
   "metadata": {},
   "outputs": [],
   "source": [
    "\n",
    "def crossover(a,b):\n",
    "\n",
    "    if getProb() < CROSSOVER_RATE:\n",
    "        left = random.randint(1, len(a) - 2)\n",
    "        right = random.randint(left, len(a) - 1)\n",
    "        # print left, \" \", right\n",
    "        c1 = [c for c in a[0:] if c not in b[left:right+1]]\n",
    "        # print len(c1)\n",
    "        a1 = c1[:left] + b[left:right+1] + c1[left:]\n",
    "        # print len(p1)\n",
    "        c2 = [c for c in b[0:] if c not in a[left:right+1]]\n",
    "        b1 = c2[:left] + a[left:right+1] + c2[left:]\n",
    "        return a1, b1\n",
    "       \n",
    "    return a, b\n"
   ]
  },
  {
   "cell_type": "code",
   "execution_count": 341,
   "id": "bc76898c",
   "metadata": {},
   "outputs": [],
   "source": [
    "\n",
    "def get_fitness(li):\n",
    "    \n",
    "    num_custo = len(li)\n",
    "    fitness = 0\n",
    "\n",
    "    for i in range(num_custo - 1):\n",
    "        fitness += get_distance(li[i], li[i+1])\n",
    "\n",
    "    fitness += get_distance(DEPOT, li[0])\n",
    "    fitness += get_distance(li[-1], DEPOT)\n",
    "\n",
    "    # chk for valid capacity\n",
    "    temp = copy(li)\n",
    "    temp.insert(0,DEPOT)\n",
    "    temp.append(DEPOT)\n",
    "    valid = 1\n",
    "    curr_demand = 0\n",
    "    for i in range(len(temp)):\n",
    "        if temp[i] == DEPOT and curr_demand > CAPACITY:\n",
    "            fitness = INF\n",
    "        elif temp[i] == DEPOT:\n",
    "            curr_demand = 0\n",
    "        else:\n",
    "            curr_demand += temp[i].demand\n",
    "\n",
    "    return fitness"
   ]
  },
  {
   "cell_type": "code",
   "execution_count": 342,
   "id": "d04cba66",
   "metadata": {},
   "outputs": [],
   "source": [
    "\n",
    "def getPopulationFitness(p):\n",
    "    \n",
    "    h = PrioritySet()\n",
    "    for i in p:\n",
    "        h.push((get_fitness(i),i))\n",
    "    return h\n",
    "\n",
    "def create_new():\n",
    "\n",
    "    TempSet = copy(Nodes)\n",
    "    chromosome = []\n",
    "    while len(TempSet) > 0:\n",
    "        index = (int)(getProb() * len(TempSet))\n",
    "        chromosome.append(TempSet.pop(index))\n",
    "\n",
    "    return chromosome "
   ]
  },
  {
   "cell_type": "code",
   "execution_count": 343,
   "id": "c37bbf76",
   "metadata": {},
   "outputs": [],
   "source": [
    "\n",
    "def initialize_population():\n",
    "\n",
    "    while len(population) < POPULATION_SIZE:\n",
    "        TempSet = copy(Nodes)\n",
    "        chromosome = []\n",
    "        while len(TempSet) > 0:\n",
    "            index = (int)(getProb() * len(TempSet))\n",
    "            chromosome.append(TempSet.pop(index))\n",
    "\n",
    "        if get_fitness(chromosome) != INF:\n",
    "            population.add(tuple(chromosome))"
   ]
  },
  {
   "cell_type": "code",
   "execution_count": 344,
   "id": "072b8dfd",
   "metadata": {},
   "outputs": [],
   "source": [
    "MUTATION_RATE = 0.1\n",
    "CROSSOVER_RATE = 0.9\n",
    "POPULATION_SIZE = 100\n",
    "FITNESS = 0\n",
    "TRUCKS = 15\n",
    "DEPOT = None\n",
    "CAPACITY = 100\n",
    "INF = float(\"inf\")"
   ]
  },
  {
   "cell_type": "code",
   "execution_count": null,
   "id": "af4d9f2b",
   "metadata": {},
   "outputs": [],
   "source": []
  },
  {
   "cell_type": "code",
   "execution_count": null,
   "id": "4648cc59",
   "metadata": {},
   "outputs": [],
   "source": []
  },
  {
   "cell_type": "code",
   "execution_count": null,
   "id": "8f8a0215",
   "metadata": {},
   "outputs": [],
   "source": []
  },
  {
   "cell_type": "code",
   "execution_count": null,
   "id": "73d59c97",
   "metadata": {},
   "outputs": [],
   "source": []
  },
  {
   "cell_type": "code",
   "execution_count": 345,
   "id": "afdf9554",
   "metadata": {},
   "outputs": [],
   "source": [
    "import sys"
   ]
  },
  {
   "cell_type": "code",
   "execution_count": 346,
   "id": "70af4e5c",
   "metadata": {},
   "outputs": [],
   "source": [
    "\n",
    "def Genetic_Algo():\n",
    "\n",
    "    print (\"POPULATION GENERATED... EVOLUTION BEGINING ...\")\n",
    "    minimum_chrom = h[0]\n",
    "    print( \"Curr Min: \", minimum_chrom[0])\n",
    "    count = 0\n",
    "    # while h[0][0] > 1800:\n",
    "    while count < 1000:\n",
    "        ax = h.pop()\n",
    "        bx = h.pop()\n",
    "        a,b = crossover(list(ax[1]),list(bx[1]))\n",
    "        a = mutate(a)\n",
    "        while get_fitness(a) == INF:\n",
    "            a = create_new()\n",
    "        b = mutate(b)\n",
    "        while get_fitness(b) == INF:\n",
    "            b = create_new()\n",
    "        if get_fitness(a) != INF:\n",
    "            h.push((get_fitness(a),tuple(a)))\n",
    "        else:\n",
    "            h.push(ax)\n",
    "        if get_fitness(b) != INF:\n",
    "            h.push((get_fitness(b),tuple(b)))\n",
    "        else:\n",
    "            h.push(bx)\n",
    "\n",
    "        while h.size() < POPULATION_SIZE:\n",
    "            TempSet = copy(Nodes)\n",
    "            chromosome = []\n",
    "            count += 1\n",
    "            while len(TempSet) > 0:\n",
    "                index = (int)(getProb() * len(TempSet))\n",
    "                chromosome.append(TempSet.pop(index))\n",
    "            h.push((get_fitness(chromosome),tuple(chromosome)))\n",
    "        count = count + 1\n",
    "\n",
    "        if count % 1000 == 0:\n",
    "            print (count),\n",
    "            print (\" Generation done\")\n",
    "\n",
    "        if h[0][0] < minimum_chrom[0]:\n",
    "            minimum_chrom = h[0] \n",
    "            print (\"CurrMin: \",)\n",
    "            print (minimum_chrom[0])\n",
    "\n",
    "    print_tuple(minimum_chrom[1])\n",
    "    print(count)\n"
   ]
  },
  {
   "cell_type": "code",
   "execution_count": 347,
   "id": "03b169f1",
   "metadata": {},
   "outputs": [],
   "source": [
    "import heapq\n",
    "import random, math"
   ]
  },
  {
   "cell_type": "code",
   "execution_count": 348,
   "id": "eec49b88",
   "metadata": {},
   "outputs": [],
   "source": [
    "\n",
    "def create_data_array():\n",
    "    locations = arrayofTuples[0]\n",
    "\n",
    "\n",
    "    demands = arrayofEccentricity[0]\n",
    "\n",
    "\n",
    "    for i in range(1,len(locations)):\n",
    "        c = Node(i)\n",
    "        c.setPosition(locations[i][0],locations[i][1])\n",
    "        c.setDemand(demands[i])\n",
    "        Nodes.append(c)\n",
    "\n",
    "    i = 0\n",
    "    c = Node(i)\n",
    "    c.setPosition(locations[i][0],locations[i][1])\n",
    "    c.setDemand(demands[i])\n",
    "    global DEPOT\n",
    "    DEPOT = c\n",
    "\n",
    "    for j in range(TRUCKS-1):\n",
    "        Nodes.append(DEPOT)\n",
    "\n",
    "\n",
    "\n",
    "\n",
    "\n",
    "\n",
    "Nodes = []\n",
    "population = set()\n",
    "\n",
    "if __name__ == '__main__':\n",
    "    create_data_array()\n",
    "    initialize_population()\n",
    "\n",
    "    newListofNodes = []\n",
    "    h = getPopulationFitness(population)\n",
    "    sys.stdout = open(\"testingMaterial0.txt\", \"w\")\n",
    "    Genetic_Algo()"
   ]
  },
  {
   "cell_type": "code",
   "execution_count": 349,
   "id": "1b239b74",
   "metadata": {},
   "outputs": [],
   "source": [
    "\n",
    "def create_data_array():\n",
    "    locations = arrayofTuples[1]\n",
    "\n",
    "\n",
    "    demands = arrayofEccentricity[1]\n",
    "\n",
    "\n",
    "    for i in range(1,len(locations)):\n",
    "        c = Node(i)\n",
    "        c.setPosition(locations[i][0],locations[i][1])\n",
    "        c.setDemand(demands[i])\n",
    "        Nodes.append(c)\n",
    "\n",
    "    i = 0\n",
    "    c = Node(i)\n",
    "    c.setPosition(locations[i][0],locations[i][1])\n",
    "    c.setDemand(demands[i])\n",
    "    global DEPOT\n",
    "    DEPOT = c\n",
    "\n",
    "    for j in range(TRUCKS-1):\n",
    "        Nodes.append(DEPOT)\n",
    "\n",
    "\n",
    "\n",
    "\n",
    "\n",
    "\n",
    "Nodes = []\n",
    "population = set()\n",
    "\n",
    "if __name__ == '__main__':\n",
    "    create_data_array()\n",
    "    initialize_population()\n",
    "\n",
    "    newListofNodes = []\n",
    "    h = getPopulationFitness(population)\n",
    "    sys.stdout = open(\"testingMaterial1.txt\", \"w\")\n",
    "    Genetic_Algo()"
   ]
  },
  {
   "cell_type": "code",
   "execution_count": 350,
   "id": "aded4013",
   "metadata": {},
   "outputs": [],
   "source": [
    "\n",
    "def create_data_array():\n",
    "    locations = arrayofTuples[2]\n",
    "\n",
    "\n",
    "    demands = arrayofEccentricity[2]\n",
    "\n",
    "\n",
    "    for i in range(1,len(locations)):\n",
    "        c = Node(i)\n",
    "        c.setPosition(locations[i][0],locations[i][1])\n",
    "        c.setDemand(demands[i])\n",
    "        Nodes.append(c)\n",
    "\n",
    "    i = 0\n",
    "    c = Node(i)\n",
    "    c.setPosition(locations[i][0],locations[i][1])\n",
    "    c.setDemand(demands[i])\n",
    "    global DEPOT\n",
    "    DEPOT = c\n",
    "\n",
    "    for j in range(TRUCKS-1):\n",
    "        Nodes.append(DEPOT)\n",
    "\n",
    "\n",
    "\n",
    "\n",
    "\n",
    "\n",
    "Nodes = []\n",
    "population = set()\n",
    "\n",
    "if __name__ == '__main__':\n",
    "    create_data_array()\n",
    "    initialize_population()\n",
    "\n",
    "    newListofNodes = []\n",
    "    h = getPopulationFitness(population)\n",
    "    sys.stdout = open(\"testingMaterial2.txt\", \"w\")\n",
    "    Genetic_Algo()"
   ]
  },
  {
   "cell_type": "code",
   "execution_count": 351,
   "id": "1c81cd4c",
   "metadata": {},
   "outputs": [],
   "source": [
    "\n",
    "def create_data_array():\n",
    "    locations = arrayofTuples[3]\n",
    "\n",
    "\n",
    "    demands = arrayofEccentricity[3]\n",
    "\n",
    "\n",
    "    for i in range(1,len(locations)):\n",
    "        c = Node(i)\n",
    "        c.setPosition(locations[i][0],locations[i][1])\n",
    "        c.setDemand(demands[i])\n",
    "        Nodes.append(c)\n",
    "\n",
    "    i = 0\n",
    "    c = Node(i)\n",
    "    c.setPosition(locations[i][0],locations[i][1])\n",
    "    c.setDemand(demands[i])\n",
    "    global DEPOT\n",
    "    DEPOT = c\n",
    "\n",
    "    for j in range(TRUCKS-1):\n",
    "        Nodes.append(DEPOT)\n",
    "\n",
    "\n",
    "\n",
    "\n",
    "\n",
    "\n",
    "Nodes = []\n",
    "population = set()\n",
    "\n",
    "if __name__ == '__main__':\n",
    "    create_data_array()\n",
    "    initialize_population()\n",
    "\n",
    "    newListofNodes = []\n",
    "    h = getPopulationFitness(population)\n",
    "    sys.stdout = open(\"testingMaterial3.txt\", \"w\")\n",
    "    Genetic_Algo()"
   ]
  },
  {
   "cell_type": "code",
   "execution_count": 352,
   "id": "151f727e",
   "metadata": {},
   "outputs": [],
   "source": [
    "\n",
    "def create_data_array():\n",
    "    locations = arrayofTuples[4]\n",
    "\n",
    "\n",
    "    demands = arrayofEccentricity[4]\n",
    "\n",
    "\n",
    "    for i in range(1,len(locations)):\n",
    "        c = Node(i)\n",
    "        c.setPosition(locations[i][0],locations[i][1])\n",
    "        c.setDemand(demands[i])\n",
    "        Nodes.append(c)\n",
    "\n",
    "    i = 0\n",
    "    c = Node(i)\n",
    "    c.setPosition(locations[i][0],locations[i][1])\n",
    "    c.setDemand(demands[i])\n",
    "    global DEPOT\n",
    "    DEPOT = c\n",
    "\n",
    "    for j in range(TRUCKS-1):\n",
    "        Nodes.append(DEPOT)\n",
    "\n",
    "\n",
    "\n",
    "\n",
    "\n",
    "\n",
    "Nodes = []\n",
    "population = set()\n",
    "\n",
    "if __name__ == '__main__':\n",
    "    create_data_array()\n",
    "    initialize_population()\n",
    "\n",
    "    newListofNodes = []\n",
    "    h = getPopulationFitness(population)\n",
    "    sys.stdout = open(\"testingMaterial4.txt\", \"w\")\n",
    "    Genetic_Algo()"
   ]
  },
  {
   "cell_type": "code",
   "execution_count": null,
   "id": "675714d4",
   "metadata": {},
   "outputs": [],
   "source": []
  },
  {
   "cell_type": "code",
   "execution_count": null,
   "id": "ece8b3c5",
   "metadata": {},
   "outputs": [],
   "source": []
  },
  {
   "cell_type": "code",
   "execution_count": null,
   "id": "a7cfad5c",
   "metadata": {},
   "outputs": [],
   "source": []
  },
  {
   "cell_type": "code",
   "execution_count": null,
   "id": "a09b9498",
   "metadata": {},
   "outputs": [],
   "source": []
  },
  {
   "cell_type": "code",
   "execution_count": 353,
   "id": "619dfa6b",
   "metadata": {},
   "outputs": [],
   "source": [
    "import folium\n",
    "import openrouteservice as ors\n",
    "\n",
    "%matplotlib inline\n",
    "\n",
    "import matplotlib.pyplot as plt\n",
    "import geopandas as gpd\n",
    "import pysal as ps\n"
   ]
  },
  {
   "cell_type": "code",
   "execution_count": 355,
   "id": "a372f719",
   "metadata": {},
   "outputs": [],
   "source": []
  },
  {
   "cell_type": "code",
   "execution_count": 358,
   "id": "16288359",
   "metadata": {},
   "outputs": [
    {
     "data": {
      "text/html": [
       "<div>\n",
       "<style scoped>\n",
       "    .dataframe tbody tr th:only-of-type {\n",
       "        vertical-align: middle;\n",
       "    }\n",
       "\n",
       "    .dataframe tbody tr th {\n",
       "        vertical-align: top;\n",
       "    }\n",
       "\n",
       "    .dataframe thead th {\n",
       "        text-align: right;\n",
       "    }\n",
       "</style>\n",
       "<table border=\"1\" class=\"dataframe\">\n",
       "  <thead>\n",
       "    <tr style=\"text-align: right;\">\n",
       "      <th></th>\n",
       "      <th>0</th>\n",
       "      <th>1</th>\n",
       "      <th>2</th>\n",
       "      <th>3</th>\n",
       "      <th>4</th>\n",
       "    </tr>\n",
       "  </thead>\n",
       "  <tbody>\n",
       "    <tr>\n",
       "      <th>0</th>\n",
       "      <td>(</td>\n",
       "      <td>38.968246</td>\n",
       "      <td>,</td>\n",
       "      <td>-77.001625</td>\n",
       "      <td>)</td>\n",
       "    </tr>\n",
       "    <tr>\n",
       "      <th>1</th>\n",
       "      <td>(</td>\n",
       "      <td>38.961549</td>\n",
       "      <td>,</td>\n",
       "      <td>-77.005567</td>\n",
       "      <td>)</td>\n",
       "    </tr>\n",
       "    <tr>\n",
       "      <th>2</th>\n",
       "      <td>(</td>\n",
       "      <td>38.955699</td>\n",
       "      <td>,</td>\n",
       "      <td>-77.009047</td>\n",
       "      <td>)</td>\n",
       "    </tr>\n",
       "    <tr>\n",
       "      <th>3</th>\n",
       "      <td>(</td>\n",
       "      <td>38.958390</td>\n",
       "      <td>,</td>\n",
       "      <td>-77.013661</td>\n",
       "      <td>)</td>\n",
       "    </tr>\n",
       "    <tr>\n",
       "      <th>4</th>\n",
       "      <td>(</td>\n",
       "      <td>38.958726</td>\n",
       "      <td>,</td>\n",
       "      <td>-77.007660</td>\n",
       "      <td>)</td>\n",
       "    </tr>\n",
       "  </tbody>\n",
       "</table>\n",
       "</div>"
      ],
      "text/plain": [
       "   0          1  2          3  4\n",
       "0  (  38.968246  , -77.001625  )\n",
       "1  (  38.961549  , -77.005567  )\n",
       "2  (  38.955699  , -77.009047  )\n",
       "3  (  38.958390  , -77.013661  )\n",
       "4  (  38.958726  , -77.007660  )"
      ]
     },
     "execution_count": 358,
     "metadata": {},
     "output_type": "execute_result"
    }
   ],
   "source": [
    "df = pd.read_table('tests1/testingMaterial0.txt',header=None,sep=\" \")\n",
    "df.head()"
   ]
  },
  {
   "cell_type": "code",
   "execution_count": 360,
   "id": "0b6e6a14",
   "metadata": {},
   "outputs": [],
   "source": [
    "df1 = df [[1, 3]].copy()\n",
    "col_list = list(df1)\n",
    "\n",
    "col_list[0] = \"lat\"\n",
    "col_list[1] = \"long\"\n",
    "\n",
    "df1.columns = col_list\n",
    "\n",
    "df1[\"D\"] = df1[[\"long\",\"lat\"]].apply(tuple, axis=1)\n",
    "df1.head\n",
    "\n",
    "df2 = df1[[\"D\"]].copy()"
   ]
  },
  {
   "cell_type": "code",
   "execution_count": 361,
   "id": "f1298168",
   "metadata": {},
   "outputs": [],
   "source": [
    "listnew = []"
   ]
  },
  {
   "cell_type": "code",
   "execution_count": 362,
   "id": "d672022e",
   "metadata": {},
   "outputs": [],
   "source": [
    "listnew = df2['D'].to_list()"
   ]
  },
  {
   "cell_type": "code",
   "execution_count": 363,
   "id": "fe8bd2ee",
   "metadata": {},
   "outputs": [
    {
     "data": {
      "text/html": [
       "<div style=\"width:100%;\"><div style=\"position:relative;width:100%;height:0;padding-bottom:60%;\"><span style=\"color:#565656\">Make this Notebook Trusted to load map: File -> Trust Notebook</span><iframe src=\"about:blank\" style=\"position:absolute;width:100%;height:100%;left:0;top:0;border:none !important;\" data-html=%3C%21DOCTYPE%20html%3E%0A%3Chead%3E%20%20%20%20%0A%20%20%20%20%3Cmeta%20http-equiv%3D%22content-type%22%20content%3D%22text/html%3B%20charset%3DUTF-8%22%20/%3E%0A%20%20%20%20%0A%20%20%20%20%20%20%20%20%3Cscript%3E%0A%20%20%20%20%20%20%20%20%20%20%20%20L_NO_TOUCH%20%3D%20false%3B%0A%20%20%20%20%20%20%20%20%20%20%20%20L_DISABLE_3D%20%3D%20false%3B%0A%20%20%20%20%20%20%20%20%3C/script%3E%0A%20%20%20%20%0A%20%20%20%20%3Cstyle%3Ehtml%2C%20body%20%7Bwidth%3A%20100%25%3Bheight%3A%20100%25%3Bmargin%3A%200%3Bpadding%3A%200%3B%7D%3C/style%3E%0A%20%20%20%20%3Cstyle%3E%23map%20%7Bposition%3Aabsolute%3Btop%3A0%3Bbottom%3A0%3Bright%3A0%3Bleft%3A0%3B%7D%3C/style%3E%0A%20%20%20%20%3Cscript%20src%3D%22https%3A//cdn.jsdelivr.net/npm/leaflet%401.6.0/dist/leaflet.js%22%3E%3C/script%3E%0A%20%20%20%20%3Cscript%20src%3D%22https%3A//code.jquery.com/jquery-1.12.4.min.js%22%3E%3C/script%3E%0A%20%20%20%20%3Cscript%20src%3D%22https%3A//maxcdn.bootstrapcdn.com/bootstrap/3.2.0/js/bootstrap.min.js%22%3E%3C/script%3E%0A%20%20%20%20%3Cscript%20src%3D%22https%3A//cdnjs.cloudflare.com/ajax/libs/Leaflet.awesome-markers/2.0.2/leaflet.awesome-markers.js%22%3E%3C/script%3E%0A%20%20%20%20%3Clink%20rel%3D%22stylesheet%22%20href%3D%22https%3A//cdn.jsdelivr.net/npm/leaflet%401.6.0/dist/leaflet.css%22/%3E%0A%20%20%20%20%3Clink%20rel%3D%22stylesheet%22%20href%3D%22https%3A//maxcdn.bootstrapcdn.com/bootstrap/3.2.0/css/bootstrap.min.css%22/%3E%0A%20%20%20%20%3Clink%20rel%3D%22stylesheet%22%20href%3D%22https%3A//maxcdn.bootstrapcdn.com/bootstrap/3.2.0/css/bootstrap-theme.min.css%22/%3E%0A%20%20%20%20%3Clink%20rel%3D%22stylesheet%22%20href%3D%22https%3A//maxcdn.bootstrapcdn.com/font-awesome/4.6.3/css/font-awesome.min.css%22/%3E%0A%20%20%20%20%3Clink%20rel%3D%22stylesheet%22%20href%3D%22https%3A//cdnjs.cloudflare.com/ajax/libs/Leaflet.awesome-markers/2.0.2/leaflet.awesome-markers.css%22/%3E%0A%20%20%20%20%3Clink%20rel%3D%22stylesheet%22%20href%3D%22https%3A//cdn.jsdelivr.net/gh/python-visualization/folium/folium/templates/leaflet.awesome.rotate.min.css%22/%3E%0A%20%20%20%20%0A%20%20%20%20%20%20%20%20%20%20%20%20%3Cmeta%20name%3D%22viewport%22%20content%3D%22width%3Ddevice-width%2C%0A%20%20%20%20%20%20%20%20%20%20%20%20%20%20%20%20initial-scale%3D1.0%2C%20maximum-scale%3D1.0%2C%20user-scalable%3Dno%22%20/%3E%0A%20%20%20%20%20%20%20%20%20%20%20%20%3Cstyle%3E%0A%20%20%20%20%20%20%20%20%20%20%20%20%20%20%20%20%23map_52ff1bede44643e293a16ab3b6c5a0f3%20%7B%0A%20%20%20%20%20%20%20%20%20%20%20%20%20%20%20%20%20%20%20%20position%3A%20relative%3B%0A%20%20%20%20%20%20%20%20%20%20%20%20%20%20%20%20%20%20%20%20width%3A%20100.0%25%3B%0A%20%20%20%20%20%20%20%20%20%20%20%20%20%20%20%20%20%20%20%20height%3A%20100.0%25%3B%0A%20%20%20%20%20%20%20%20%20%20%20%20%20%20%20%20%20%20%20%20left%3A%200.0%25%3B%0A%20%20%20%20%20%20%20%20%20%20%20%20%20%20%20%20%20%20%20%20top%3A%200.0%25%3B%0A%20%20%20%20%20%20%20%20%20%20%20%20%20%20%20%20%7D%0A%20%20%20%20%20%20%20%20%20%20%20%20%3C/style%3E%0A%20%20%20%20%20%20%20%20%0A%3C/head%3E%0A%3Cbody%3E%20%20%20%20%0A%20%20%20%20%0A%20%20%20%20%20%20%20%20%20%20%20%20%3Cdiv%20class%3D%22folium-map%22%20id%3D%22map_52ff1bede44643e293a16ab3b6c5a0f3%22%20%3E%3C/div%3E%0A%20%20%20%20%20%20%20%20%0A%3C/body%3E%0A%3Cscript%3E%20%20%20%20%0A%20%20%20%20%0A%20%20%20%20%20%20%20%20%20%20%20%20var%20map_52ff1bede44643e293a16ab3b6c5a0f3%20%3D%20L.map%28%0A%20%20%20%20%20%20%20%20%20%20%20%20%20%20%20%20%22map_52ff1bede44643e293a16ab3b6c5a0f3%22%2C%0A%20%20%20%20%20%20%20%20%20%20%20%20%20%20%20%20%7B%0A%20%20%20%20%20%20%20%20%20%20%20%20%20%20%20%20%20%20%20%20center%3A%20%5B38.93254453117472%2C%20-77.07254111766814%5D%2C%0A%20%20%20%20%20%20%20%20%20%20%20%20%20%20%20%20%20%20%20%20crs%3A%20L.CRS.EPSG3857%2C%0A%20%20%20%20%20%20%20%20%20%20%20%20%20%20%20%20%20%20%20%20zoom%3A%2015%2C%0A%20%20%20%20%20%20%20%20%20%20%20%20%20%20%20%20%20%20%20%20zoomControl%3A%20true%2C%0A%20%20%20%20%20%20%20%20%20%20%20%20%20%20%20%20%20%20%20%20preferCanvas%3A%20false%2C%0A%20%20%20%20%20%20%20%20%20%20%20%20%20%20%20%20%7D%0A%20%20%20%20%20%20%20%20%20%20%20%20%29%3B%0A%0A%20%20%20%20%20%20%20%20%20%20%20%20%0A%0A%20%20%20%20%20%20%20%20%0A%20%20%20%20%0A%20%20%20%20%20%20%20%20%20%20%20%20var%20tile_layer_d6bd3e82592f46fc9f3e44d491a4480b%20%3D%20L.tileLayer%28%0A%20%20%20%20%20%20%20%20%20%20%20%20%20%20%20%20%22https%3A//%7Bs%7D.tile.openstreetmap.org/%7Bz%7D/%7Bx%7D/%7By%7D.png%22%2C%0A%20%20%20%20%20%20%20%20%20%20%20%20%20%20%20%20%7B%22attribution%22%3A%20%22Data%20by%20%5Cu0026copy%3B%20%5Cu003ca%20href%3D%5C%22http%3A//openstreetmap.org%5C%22%5Cu003eOpenStreetMap%5Cu003c/a%5Cu003e%2C%20under%20%5Cu003ca%20href%3D%5C%22http%3A//www.openstreetmap.org/copyright%5C%22%5Cu003eODbL%5Cu003c/a%5Cu003e.%22%2C%20%22detectRetina%22%3A%20false%2C%20%22maxNativeZoom%22%3A%2018%2C%20%22maxZoom%22%3A%2018%2C%20%22minZoom%22%3A%200%2C%20%22noWrap%22%3A%20false%2C%20%22opacity%22%3A%201%2C%20%22subdomains%22%3A%20%22abc%22%2C%20%22tms%22%3A%20false%7D%0A%20%20%20%20%20%20%20%20%20%20%20%20%29.addTo%28map_52ff1bede44643e293a16ab3b6c5a0f3%29%3B%0A%20%20%20%20%20%20%20%20%0A%20%20%20%20%0A%0A%20%20%20%20%20%20%20%20function%20geo_json_de8945a165b84053822824f22431e3c1_onEachFeature%28feature%2C%20layer%29%20%7B%0A%20%20%20%20%20%20%20%20%20%20%20%20layer.on%28%7B%0A%20%20%20%20%20%20%20%20%20%20%20%20%7D%29%3B%0A%20%20%20%20%20%20%20%20%7D%3B%0A%20%20%20%20%20%20%20%20var%20geo_json_de8945a165b84053822824f22431e3c1%20%3D%20L.geoJson%28null%2C%20%7B%0A%20%20%20%20%20%20%20%20%20%20%20%20%20%20%20%20onEachFeature%3A%20geo_json_de8945a165b84053822824f22431e3c1_onEachFeature%2C%0A%20%20%20%20%20%20%20%20%20%20%20%20%0A%20%20%20%20%20%20%20%20%7D%29%3B%0A%0A%20%20%20%20%20%20%20%20function%20geo_json_de8945a165b84053822824f22431e3c1_add%20%28data%29%20%7B%0A%20%20%20%20%20%20%20%20%20%20%20%20geo_json_de8945a165b84053822824f22431e3c1%0A%20%20%20%20%20%20%20%20%20%20%20%20%20%20%20%20.addData%28data%29%0A%20%20%20%20%20%20%20%20%20%20%20%20%20%20%20%20.addTo%28map_52ff1bede44643e293a16ab3b6c5a0f3%29%3B%0A%20%20%20%20%20%20%20%20%7D%0A%20%20%20%20%20%20%20%20%20%20%20%20geo_json_de8945a165b84053822824f22431e3c1_add%28%7B%22bbox%22%3A%20%5B-77.014919%2C%2038.955191%2C%20-77.001625%2C%2038.970392%5D%2C%20%22features%22%3A%20%5B%7B%22bbox%22%3A%20%5B-77.014919%2C%2038.955191%2C%20-77.001625%2C%2038.970392%5D%2C%20%22geometry%22%3A%20%7B%22coordinates%22%3A%20%5B%5B-77.001625%2C%2038.968246%5D%2C%20%5B-77.002036%2C%2038.968593%5D%2C%20%5B-77.002113%2C%2038.968658%5D%2C%20%5B-77.002189%2C%2038.968753%5D%2C%20%5B-77.002288%2C%2038.968929%5D%2C%20%5B-77.003471%2C%2038.968009%5D%2C%20%5B-77.003471%2C%2038.968009%5D%2C%20%5B-77.004295%2C%2038.968639%5D%2C%20%5B-77.004295%2C%2038.968639%5D%2C%20%5B-77.005119%2C%2038.969276%5D%2C%20%5B-77.006083%2C%2038.968531%5D%2C%20%5B-77.00657%2C%2038.968904%5D%2C%20%5B-77.006994%2C%2038.969243%5D%2C%20%5B-77.007205%2C%2038.969408%5D%2C%20%5B-77.007782%2C%2038.969859%5D%2C%20%5B-77.008464%2C%2038.970392%5D%2C%20%5B-77.008464%2C%2038.970392%5D%2C%20%5B-77.008464%2C%2038.970392%5D%2C%20%5B-77.007782%2C%2038.969859%5D%2C%20%5B-77.007205%2C%2038.969408%5D%2C%20%5B-77.006994%2C%2038.969243%5D%2C%20%5B-77.00657%2C%2038.968904%5D%2C%20%5B-77.006083%2C%2038.968531%5D%2C%20%5B-77.006185%2C%2038.968453%5D%2C%20%5B-77.006548%2C%2038.96795%5D%2C%20%5B-77.006643%2C%2038.967827%5D%2C%20%5B-77.007005%2C%2038.967338%5D%2C%20%5B-77.007158%2C%2038.967338%5D%2C%20%5B-77.008206%2C%2038.967341%5D%2C%20%5B-77.008386%2C%2038.967346%5D%2C%20%5B-77.008516%2C%2038.967341%5D%2C%20%5B-77.008926%2C%2038.967339%5D%2C%20%5B-77.009048%2C%2038.967339%5D%2C%20%5B-77.009047%2C%2038.966419%5D%2C%20%5B-77.008607%2C%2038.966419%5D%2C%20%5B-77.008049%2C%2038.966418%5D%2C%20%5B-77.007691%2C%2038.966418%5D%2C%20%5B-77.007309%2C%2038.966417%5D%2C%20%5B-77.003704%2C%2038.966414%5D%2C%20%5B-77.003375%2C%2038.966414%5D%2C%20%5B-77.002777%2C%2038.965944%5D%2C%20%5B-77.002744%2C%2038.965918%5D%2C%20%5B-77.002476%2C%2038.965711%5D%2C%20%5B-77.002661%2C%2038.965463%5D%2C%20%5B-77.002687%2C%2038.965424%5D%2C%20%5B-77.002793%2C%2038.965279%5D%2C%20%5B-77.002837%2C%2038.965222%5D%2C%20%5B-77.002861%2C%2038.965189%5D%2C%20%5B-77.00294%2C%2038.965082%5D%2C%20%5B-77.003043%2C%2038.964943%5D%2C%20%5B-77.003089%2C%2038.964879%5D%2C%20%5B-77.003729%2C%2038.96402%5D%2C%20%5B-77.003904%2C%2038.963769%5D%2C%20%5B-77.003965%2C%2038.963685%5D%2C%20%5B-77.004106%2C%2038.963514%5D%2C%20%5B-77.004371%2C%2038.963157%5D%2C%20%5B-77.004712%2C%2038.962698%5D%2C%20%5B-77.004712%2C%2038.962698%5D%2C%20%5B-77.005869%2C%2038.962698%5D%2C%20%5B-77.006299%2C%2038.962698%5D%2C%20%5B-77.006542%2C%2038.962701%5D%2C%20%5B-77.006572%2C%2038.962705%5D%2C%20%5B-77.006814%2C%2038.962711%5D%2C%20%5B-77.00717%2C%2038.962717%5D%2C%20%5B-77.007275%2C%2038.9627%5D%2C%20%5B-77.007343%2C%2038.962675%5D%2C%20%5B-77.007499%2C%2038.962462%5D%2C%20%5B-77.007343%2C%2038.962675%5D%2C%20%5B-77.007275%2C%2038.9627%5D%2C%20%5B-77.00717%2C%2038.962717%5D%2C%20%5B-77.006814%2C%2038.962711%5D%2C%20%5B-77.006572%2C%2038.962705%5D%2C%20%5B-77.006542%2C%2038.962701%5D%2C%20%5B-77.006299%2C%2038.962698%5D%2C%20%5B-77.005869%2C%2038.962698%5D%2C%20%5B-77.005886%2C%2038.962588%5D%2C%20%5B-77.005883%2C%2038.962346%5D%2C%20%5B-77.005877%2C%2038.962153%5D%2C%20%5B-77.005821%2C%2038.962059%5D%2C%20%5B-77.005793%2C%2038.962039%5D%2C%20%5B-77.005746%2C%2038.962022%5D%2C%20%5B-77.005654%2C%2038.962013%5D%2C%20%5B-77.005223%2C%2038.962012%5D%2C%20%5B-77.005567%2C%2038.961549%5D%2C%20%5B-77.005772%2C%2038.961273%5D%2C%20%5B-77.005772%2C%2038.961273%5D%2C%20%5B-77.005898%2C%2038.961106%5D%2C%20%5B-77.006335%2C%2038.960513%5D%2C%20%5B-77.00675%2C%2038.959951%5D%2C%20%5B-77.007014%2C%2038.959596%5D%2C%20%5B-77.00729%2C%2038.959225%5D%2C%20%5B-77.00766%2C%2038.958726%5D%2C%20%5B-77.008275%2C%2038.957893%5D%2C%20%5B-77.008275%2C%2038.957893%5D%2C%20%5B-77.008275%2C%2038.957893%5D%2C%20%5B-77.008448%2C%2038.957661%5D%2C%20%5B-77.008448%2C%2038.957661%5D%2C%20%5B-77.009048%2C%2038.95766%5D%2C%20%5B-77.009048%2C%2038.957296%5D%2C%20%5B-77.009048%2C%2038.957145%5D%2C%20%5B-77.009048%2C%2038.956972%5D%2C%20%5B-77.009052%2C%2038.956878%5D%2C%20%5B-77.008884%2C%2038.957037%5D%2C%20%5B-77.008659%2C%2038.957339%5D%2C%20%5B-77.008617%2C%2038.957396%5D%2C%20%5B-77.008553%2C%2038.957528%5D%2C%20%5B-77.008553%2C%2038.957528%5D%2C%20%5B-77.008612%2C%2038.957499%5D%2C%20%5B-77.008924%2C%2038.957347%5D%2C%20%5B-77.009048%2C%2038.957296%5D%2C%20%5B-77.009048%2C%2038.95766%5D%2C%20%5B-77.009048%2C%2038.95766%5D%2C%20%5B-77.009048%2C%2038.95766%5D%2C%20%5B-77.009048%2C%2038.957296%5D%2C%20%5B-77.009048%2C%2038.957145%5D%2C%20%5B-77.009048%2C%2038.956972%5D%2C%20%5B-77.009052%2C%2038.956878%5D%2C%20%5B-77.009047%2C%2038.956587%5D%2C%20%5B-77.009047%2C%2038.956587%5D%2C%20%5B-77.009047%2C%2038.956587%5D%2C%20%5B-77.009047%2C%2038.956315%5D%2C%20%5B-77.009052%2C%2038.956206%5D%2C%20%5B-77.009047%2C%2038.955699%5D%2C%20%5B-77.009052%2C%2038.956206%5D%2C%20%5B-77.009047%2C%2038.956315%5D%2C%20%5B-77.009047%2C%2038.956587%5D%2C%20%5B-77.0093%2C%2038.956587%5D%2C%20%5B-77.009363%2C%2038.956496%5D%2C%20%5B-77.009462%2C%2038.956358%5D%2C%20%5B-77.009525%2C%2038.956271%5D%2C%20%5B-77.009606%2C%2038.95616%5D%2C%20%5B-77.009757%2C%2038.955926%5D%2C%20%5B-77.009858%2C%2038.955768%5D%2C%20%5B-77.009761%2C%2038.955846%5D%2C%20%5B-77.009576%2C%2038.955994%5D%2C%20%5B-77.009373%2C%2038.956109%5D%2C%20%5B-77.009141%2C%2038.956197%5D%2C%20%5B-77.009052%2C%2038.956206%5D%2C%20%5B-77.009047%2C%2038.956315%5D%2C%20%5B-77.009047%2C%2038.956587%5D%2C%20%5B-77.0093%2C%2038.956587%5D%2C%20%5B-77.009639%2C%2038.956587%5D%2C%20%5B-77.009684%2C%2038.956587%5D%2C%20%5B-77.009974%2C%2038.956586%5D%2C%20%5B-77.010118%2C%2038.956586%5D%2C%20%5B-77.010121%2C%2038.956464%5D%2C%20%5B-77.010121%2C%2038.955638%5D%2C%20%5B-77.010067%2C%2038.95552%5D%2C%20%5B-77.010053%2C%2038.955505%5D%2C%20%5B-77.010053%2C%2038.955505%5D%2C%20%5B-77.010205%2C%2038.9553%5D%2C%20%5B-77.010289%2C%2038.955191%5D%2C%20%5B-77.010687%2C%2038.955318%5D%2C%20%5B-77.011062%2C%2038.955435%5D%2C%20%5B-77.011207%2C%2038.955483%5D%2C%20%5B-77.011609%2C%2038.955611%5D%2C%20%5B-77.011876%2C%2038.955696%5D%2C%20%5B-77.012209%2C%2038.955806%5D%2C%20%5B-77.013053%2C%2038.956083%5D%2C%20%5B-77.01311%2C%2038.956101%5D%2C%20%5B-77.013654%2C%2038.956279%5D%2C%20%5B-77.014016%2C%2038.956402%5D%2C%20%5B-77.014151%2C%2038.956448%5D%2C%20%5B-77.014248%2C%2038.95648%5D%2C%20%5B-77.014346%2C%2038.956512%5D%2C%20%5B-77.014422%2C%2038.956537%5D%2C%20%5B-77.014618%2C%2038.956599%5D%2C%20%5B-77.014919%2C%2038.956696%5D%2C%20%5B-77.014827%2C%2038.956806%5D%2C%20%5B-77.014684%2C%2038.957003%5D%2C%20%5B-77.014615%2C%2038.957097%5D%2C%20%5B-77.014563%2C%2038.95717%5D%2C%20%5B-77.014208%2C%2038.957654%5D%2C%20%5B-77.01366%2C%2038.95839%5D%2C%20%5B-77.013605%2C%2038.958465%5D%2C%20%5B-77.01341%2C%2038.958728%5D%2C%20%5B-77.013087%2C%2038.959162%5D%2C%20%5B-77.012335%2C%2038.960126%5D%2C%20%5B-77.012296%2C%2038.960185%5D%2C%20%5B-77.011635%2C%2038.96109%5D%2C%20%5B-77.01096%2C%2038.961965%5D%2C%20%5B-77.010705%2C%2038.962316%5D%2C%20%5B-77.010513%2C%2038.962077%5D%2C%20%5B-77.010416%2C%2038.96203%5D%2C%20%5B-77.010133%2C%2038.961675%5D%2C%20%5B-77.01009%2C%2038.961622%5D%2C%20%5B-77.009948%2C%2038.961449%5D%2C%20%5B-77.009887%2C%2038.961376%5D%2C%20%5B-77.009858%2C%2038.961339%5D%2C%20%5B-77.00968%2C%2038.961106%5D%2C%20%5B-77.009643%2C%2038.961049%5D%2C%20%5B-77.008995%2C%2038.961069%5D%2C%20%5B-77.008771%2C%2038.961076%5D%2C%20%5B-77.008322%2C%2038.96109%5D%2C%20%5B-77.008129%2C%2038.961096%5D%2C%20%5B-77.008021%2C%2038.961483%5D%2C%20%5B-77.007772%2C%2038.961954%5D%2C%20%5B-77.007754%2C%2038.961988%5D%2C%20%5B-77.007772%2C%2038.961954%5D%2C%20%5B-77.008021%2C%2038.961483%5D%2C%20%5B-77.008129%2C%2038.961096%5D%2C%20%5B-77.008322%2C%2038.96109%5D%2C%20%5B-77.008771%2C%2038.961076%5D%2C%20%5B-77.008995%2C%2038.961069%5D%2C%20%5B-77.009643%2C%2038.961049%5D%2C%20%5B-77.009579%2C%2038.960946%5D%2C%20%5B-77.009452%2C%2038.960698%5D%2C%20%5B-77.009263%2C%2038.960213%5D%2C%20%5B-77.009251%2C%2038.960184%5D%2C%20%5B-77.009191%2C%2038.960033%5D%2C%20%5B-77.009068%2C%2038.959692%5D%2C%20%5B-77.009057%2C%2038.959646%5D%2C%20%5B-77.009051%2C%2038.959608%5D%2C%20%5B-77.009048%2C%2038.959551%5D%2C%20%5B-77.00905%2C%2038.959446%5D%2C%20%5B-77.009049%2C%2038.958729%5D%2C%20%5B-77.008576%2C%2038.958728%5D%2C%20%5B-77.008358%2C%2038.958728%5D%2C%20%5B-77.00766%2C%2038.958726%5D%2C%20%5B-77.00729%2C%2038.959225%5D%2C%20%5B-77.007014%2C%2038.959596%5D%2C%20%5B-77.00675%2C%2038.959951%5D%2C%20%5B-77.006335%2C%2038.960513%5D%2C%20%5B-77.005898%2C%2038.961106%5D%2C%20%5B-77.005772%2C%2038.961273%5D%2C%20%5B-77.005103%2C%2038.961271%5D%2C%20%5B-77.002763%2C%2038.961269%5D%2C%20%5B-77.002763%2C%2038.960873%5D%2C%20%5B-77.002765%2C%2038.960511%5D%2C%20%5B-77.002943%2C%2038.960509%5D%2C%20%5B-77.003649%2C%2038.960507%5D%2C%20%5B-77.003849%2C%2038.960493%5D%2C%20%5B-77.004103%2C%2038.960453%5D%2C%20%5B-77.004192%2C%2038.960433%5D%2C%20%5B-77.004279%2C%2038.960409%5D%2C%20%5B-77.004325%2C%2038.960395%5D%2C%20%5B-77.004365%2C%2038.960383%5D%2C%20%5B-77.004588%2C%2038.960296%5D%2C%20%5B-77.004695%2C%2038.960246%5D%2C%20%5B-77.004747%2C%2038.960308%5D%2C%20%5B-77.004939%2C%2038.960496%5D%2C%20%5B-77.00511%2C%2038.960622%5D%2C%20%5B-77.005141%2C%2038.960641%5D%2C%20%5B-77.00511%2C%2038.960622%5D%2C%20%5B-77.004939%2C%2038.960496%5D%2C%20%5B-77.004747%2C%2038.960308%5D%2C%20%5B-77.004695%2C%2038.960246%5D%5D%2C%20%22type%22%3A%20%22LineString%22%7D%2C%20%22properties%22%3A%20%7B%22segments%22%3A%20%5B%7B%22distance%22%3A%200.0%2C%20%22duration%22%3A%200.0%2C%20%22steps%22%3A%20%5B%7B%22distance%22%3A%200.0%2C%20%22duration%22%3A%200.0%2C%20%22instruction%22%3A%20%22Head%20east%22%2C%20%22name%22%3A%20%22-%22%2C%20%22type%22%3A%2011%2C%20%22way_points%22%3A%20%5B0%2C%200%5D%7D%5D%7D%2C%20%7B%22distance%22%3A%200.0%2C%20%22duration%22%3A%200.0%2C%20%22steps%22%3A%20%5B%7B%22distance%22%3A%200.0%2C%20%22duration%22%3A%200.0%2C%20%22instruction%22%3A%20%22Head%20east%22%2C%20%22name%22%3A%20%22-%22%2C%20%22type%22%3A%2011%2C%20%22way_points%22%3A%20%5B0%2C%200%5D%7D%5D%7D%2C%20%7B%22distance%22%3A%200.0%2C%20%22duration%22%3A%200.0%2C%20%22steps%22%3A%20%5B%7B%22distance%22%3A%200.0%2C%20%22duration%22%3A%200.0%2C%20%22instruction%22%3A%20%22Head%20east%22%2C%20%22name%22%3A%20%22-%22%2C%20%22type%22%3A%2011%2C%20%22way_points%22%3A%20%5B0%2C%200%5D%7D%5D%7D%2C%20%7B%22distance%22%3A%200.0%2C%20%22duration%22%3A%200.0%2C%20%22steps%22%3A%20%5B%7B%22distance%22%3A%200.0%2C%20%22duration%22%3A%200.0%2C%20%22instruction%22%3A%20%22Head%20east%22%2C%20%22name%22%3A%20%22-%22%2C%20%22type%22%3A%2011%2C%20%22way_points%22%3A%20%5B0%2C%200%5D%7D%5D%7D%2C%20%7B%22distance%22%3A%200.0%2C%20%22duration%22%3A%200.0%2C%20%22steps%22%3A%20%5B%7B%22distance%22%3A%200.0%2C%20%22duration%22%3A%200.0%2C%20%22instruction%22%3A%20%22Head%20east%22%2C%20%22name%22%3A%20%22-%22%2C%20%22type%22%3A%2011%2C%20%22way_points%22%3A%20%5B0%2C%200%5D%7D%5D%7D%2C%20%7B%22distance%22%3A%200.0%2C%20%22duration%22%3A%200.0%2C%20%22steps%22%3A%20%5B%7B%22distance%22%3A%200.0%2C%20%22duration%22%3A%200.0%2C%20%22instruction%22%3A%20%22Head%20east%22%2C%20%22name%22%3A%20%22-%22%2C%20%22type%22%3A%2011%2C%20%22way_points%22%3A%20%5B0%2C%200%5D%7D%5D%7D%2C%20%7B%22distance%22%3A%200.0%2C%20%22duration%22%3A%200.0%2C%20%22steps%22%3A%20%5B%7B%22distance%22%3A%200.0%2C%20%22duration%22%3A%200.0%2C%20%22instruction%22%3A%20%22Head%20east%22%2C%20%22name%22%3A%20%22-%22%2C%20%22type%22%3A%2011%2C%20%22way_points%22%3A%20%5B0%2C%200%5D%7D%5D%7D%2C%20%7B%22distance%22%3A%200.0%2C%20%22duration%22%3A%200.0%2C%20%22steps%22%3A%20%5B%7B%22distance%22%3A%200.0%2C%20%22duration%22%3A%200.0%2C%20%22instruction%22%3A%20%22Head%20east%22%2C%20%22name%22%3A%20%22-%22%2C%20%22type%22%3A%2011%2C%20%22way_points%22%3A%20%5B0%2C%200%5D%7D%5D%7D%2C%20%7B%22distance%22%3A%200.0%2C%20%22duration%22%3A%200.0%2C%20%22steps%22%3A%20%5B%7B%22distance%22%3A%200.0%2C%20%22duration%22%3A%200.0%2C%20%22instruction%22%3A%20%22Head%20east%22%2C%20%22name%22%3A%20%22-%22%2C%20%22type%22%3A%2011%2C%20%22way_points%22%3A%20%5B0%2C%200%5D%7D%5D%7D%2C%20%7B%22distance%22%3A%200.0%2C%20%22duration%22%3A%200.0%2C%20%22steps%22%3A%20%5B%7B%22distance%22%3A%200.0%2C%20%22duration%22%3A%200.0%2C%20%22instruction%22%3A%20%22Head%20east%22%2C%20%22name%22%3A%20%22-%22%2C%20%22type%22%3A%2011%2C%20%22way_points%22%3A%20%5B0%2C%200%5D%7D%5D%7D%2C%20%7B%22distance%22%3A%200.0%2C%20%22duration%22%3A%200.0%2C%20%22steps%22%3A%20%5B%7B%22distance%22%3A%200.0%2C%20%22duration%22%3A%200.0%2C%20%22instruction%22%3A%20%22Head%20east%22%2C%20%22name%22%3A%20%22-%22%2C%20%22type%22%3A%2011%2C%20%22way_points%22%3A%20%5B0%2C%200%5D%7D%5D%7D%2C%20%7B%22distance%22%3A%200.0%2C%20%22duration%22%3A%200.0%2C%20%22steps%22%3A%20%5B%7B%22distance%22%3A%200.0%2C%20%22duration%22%3A%200.0%2C%20%22instruction%22%3A%20%22Head%20east%22%2C%20%22name%22%3A%20%22-%22%2C%20%22type%22%3A%2011%2C%20%22way_points%22%3A%20%5B0%2C%200%5D%7D%5D%7D%2C%20%7B%22distance%22%3A%200.0%2C%20%22duration%22%3A%200.0%2C%20%22steps%22%3A%20%5B%7B%22distance%22%3A%200.0%2C%20%22duration%22%3A%200.0%2C%20%22instruction%22%3A%20%22Head%20east%22%2C%20%22name%22%3A%20%22-%22%2C%20%22type%22%3A%2011%2C%20%22way_points%22%3A%20%5B0%2C%200%5D%7D%5D%7D%2C%20%7B%22distance%22%3A%20246.2%2C%20%22duration%22%3A%2041.1%2C%20%22steps%22%3A%20%5B%7B%22distance%22%3A%2096.1%2C%20%22duration%22%3A%2023.1%2C%20%22instruction%22%3A%20%22Head%20northwest%20on%20Orchard%20Avenue%22%2C%20%22name%22%3A%20%22Orchard%20Avenue%22%2C%20%22type%22%3A%2011%2C%20%22way_points%22%3A%20%5B0%2C%204%5D%7D%2C%20%7B%22distance%22%3A%20144.7%2C%20%22duration%22%3A%2017.4%2C%20%22instruction%22%3A%20%22Turn%20sharp%20left%20onto%205th%20Avenue%22%2C%20%22name%22%3A%20%225th%20Avenue%22%2C%20%22type%22%3A%202%2C%20%22way_points%22%3A%20%5B4%2C%205%5D%7D%2C%20%7B%22distance%22%3A%205.5%2C%20%22duration%22%3A%200.7%2C%20%22instruction%22%3A%20%22Turn%20right%20onto%20Westmoreland%20Avenue%22%2C%20%22name%22%3A%20%22Westmoreland%20Avenue%22%2C%20%22type%22%3A%201%2C%20%22way_points%22%3A%20%5B5%2C%206%5D%7D%2C%20%7B%22distance%22%3A%200.0%2C%20%22duration%22%3A%200.0%2C%20%22instruction%22%3A%20%22Arrive%20at%20Westmoreland%20Avenue%2C%20on%20the%20left%22%2C%20%22name%22%3A%20%22-%22%2C%20%22type%22%3A%2010%2C%20%22way_points%22%3A%20%5B6%2C%206%5D%7D%5D%7D%2C%20%7B%22distance%22%3A%20104.0%2C%20%22duration%22%3A%2012.5%2C%20%22steps%22%3A%20%5B%7B%22distance%22%3A%20104.0%2C%20%22duration%22%3A%2012.5%2C%20%22instruction%22%3A%20%22Head%20northwest%20on%20Westmoreland%20Avenue%22%2C%20%22name%22%3A%20%22Westmoreland%20Avenue%22%2C%20%22type%22%3A%2011%2C%20%22way_points%22%3A%20%5B6%2C%208%5D%7D%2C%20%7B%22distance%22%3A%200.0%2C%20%22duration%22%3A%200.0%2C%20%22instruction%22%3A%20%22Arrive%20at%20Westmoreland%20Avenue%2C%20on%20the%20left%22%2C%20%22name%22%3A%20%22-%22%2C%20%22type%22%3A%2010%2C%20%22way_points%22%3A%20%5B8%2C%208%5D%7D%5D%7D%2C%20%7B%22distance%22%3A%20513.6%2C%20%22duration%22%3A%2049.8%2C%20%22steps%22%3A%20%5B%7B%22distance%22%3A%20100.5%2C%20%22duration%22%3A%2012.1%2C%20%22instruction%22%3A%20%22Head%20northwest%20on%20Westmoreland%20Avenue%22%2C%20%22name%22%3A%20%22Westmoreland%20Avenue%22%2C%20%22type%22%3A%2011%2C%20%22way_points%22%3A%20%5B8%2C%209%5D%7D%2C%20%7B%22distance%22%3A%20117.5%2C%20%22duration%22%3A%2014.1%2C%20%22instruction%22%3A%20%22Turn%20left%20onto%20Kansas%20Lane%22%2C%20%22name%22%3A%20%22Kansas%20Lane%22%2C%20%22type%22%3A%200%2C%20%22way_points%22%3A%20%5B9%2C%2010%5D%7D%2C%20%7B%22distance%22%3A%20295.6%2C%20%22duration%22%3A%2023.6%2C%20%22instruction%22%3A%20%22Turn%20right%20onto%20Eastern%20Avenue%20Northeast%22%2C%20%22name%22%3A%20%22Eastern%20Avenue%20Northeast%22%2C%20%22type%22%3A%201%2C%20%22way_points%22%3A%20%5B10%2C%2016%5D%7D%2C%20%7B%22distance%22%3A%200.0%2C%20%22duration%22%3A%200.0%2C%20%22instruction%22%3A%20%22Arrive%20at%20Eastern%20Avenue%20Northeast%2C%20on%20the%20left%22%2C%20%22name%22%3A%20%22-%22%2C%20%22type%22%3A%2010%2C%20%22way_points%22%3A%20%5B16%2C%2016%5D%7D%5D%7D%2C%20%7B%22distance%22%3A%20627.4%2C%20%22duration%22%3A%2078.5%2C%20%22steps%22%3A%20%5B%7B%22distance%22%3A%20295.6%2C%20%22duration%22%3A%2023.6%2C%20%22instruction%22%3A%20%22Head%20southeast%20on%20Eastern%20Avenue%20Northwest%22%2C%20%22name%22%3A%20%22Eastern%20Avenue%20Northwest%22%2C%20%22type%22%3A%2011%2C%20%22way_points%22%3A%20%5B16%2C%2022%5D%7D%2C%20%7B%22distance%22%3A%20155.2%2C%20%22duration%22%3A%2012.4%2C%20%22instruction%22%3A%20%22Turn%20right%20onto%20Kansas%20Avenue%20Northeast%22%2C%20%22name%22%3A%20%22Kansas%20Avenue%20Northeast%22%2C%20%22type%22%3A%201%2C%20%22way_points%22%3A%20%5B22%2C%2026%5D%7D%2C%20%7B%22distance%22%3A%20176.7%2C%20%22duration%22%3A%2042.4%2C%20%22instruction%22%3A%20%22Turn%20right%20onto%20Tuckerman%20Street%20Northeast%22%2C%20%22name%22%3A%20%22Tuckerman%20Street%20Northeast%22%2C%20%22type%22%3A%201%2C%20%22way_points%22%3A%20%5B26%2C%2032%5D%7D%2C%20%7B%22distance%22%3A%200.0%2C%20%22duration%22%3A%200.0%2C%20%22instruction%22%3A%20%22Arrive%20at%20Tuckerman%20Street%20Northeast%2C%20on%20the%20left%22%2C%20%22name%22%3A%20%22-%22%2C%20%22type%22%3A%2010%2C%20%22way_points%22%3A%20%5B32%2C%2032%5D%7D%5D%7D%2C%20%7B%22distance%22%3A%20102.3%2C%20%22duration%22%3A%2024.6%2C%20%22steps%22%3A%20%5B%7B%22distance%22%3A%20102.3%2C%20%22duration%22%3A%2024.6%2C%20%22instruction%22%3A%20%22Head%20south%20on%20North%20Capitol%20Street%20Northeast%22%2C%20%22name%22%3A%20%22North%20Capitol%20Street%20Northeast%22%2C%20%22type%22%3A%2011%2C%20%22way_points%22%3A%20%5B32%2C%2033%5D%7D%2C%20%7B%22distance%22%3A%200.0%2C%20%22duration%22%3A%200.0%2C%20%22instruction%22%3A%20%22Arrive%20at%20North%20Capitol%20Street%20Northeast%2C%20on%20the%20left%22%2C%20%22name%22%3A%20%22-%22%2C%20%22type%22%3A%2010%2C%20%22way_points%22%3A%20%5B33%2C%2033%5D%7D%5D%7D%2C%20%7B%22distance%22%3A%20490.4%2C%20%22duration%22%3A%2076.3%2C%20%22steps%22%3A%20%5B%7B%22distance%22%3A%20490.4%2C%20%22duration%22%3A%2076.3%2C%20%22instruction%22%3A%20%22Head%20east%20on%20Sheridan%20Street%20Northeast%22%2C%20%22name%22%3A%20%22Sheridan%20Street%20Northeast%22%2C%20%22type%22%3A%2011%2C%20%22way_points%22%3A%20%5B33%2C%2039%5D%7D%2C%20%7B%22distance%22%3A%200.0%2C%20%22duration%22%3A%200.0%2C%20%22instruction%22%3A%20%22Arrive%20at%20Sheridan%20Street%20Northeast%2C%20on%20the%20right%22%2C%20%22name%22%3A%20%22-%22%2C%20%22type%22%3A%2010%2C%20%22way_points%22%3A%20%5B39%2C%2039%5D%7D%5D%7D%2C%20%7B%22distance%22%3A%20190.9%2C%20%22duration%22%3A%2038.2%2C%20%22steps%22%3A%20%5B%7B%22distance%22%3A%20110.2%2C%20%22duration%22%3A%2019.0%2C%20%22instruction%22%3A%20%22Head%20southeast%20on%20Eastern%20Avenue%20Northeast%22%2C%20%22name%22%3A%20%22Eastern%20Avenue%20Northeast%22%2C%20%22type%22%3A%2011%2C%20%22way_points%22%3A%20%5B39%2C%2042%5D%7D%2C%20%7B%22distance%22%3A%2080.7%2C%20%22duration%22%3A%2019.2%2C%20%22instruction%22%3A%20%22Turn%20right%20onto%20New%20Hampshire%20Avenue%20Northeast%22%2C%20%22name%22%3A%20%22New%20Hampshire%20Avenue%20Northeast%22%2C%20%22type%22%3A%201%2C%20%22way_points%22%3A%20%5B42%2C%2048%5D%7D%2C%20%7B%22distance%22%3A%200.0%2C%20%22duration%22%3A%200.0%2C%20%22instruction%22%3A%20%22Arrive%20at%20New%20Hampshire%20Avenue%20Northeast%2C%20on%20the%20left%22%2C%20%22name%22%3A%20%22-%22%2C%20%22type%22%3A%2010%2C%20%22way_points%22%3A%20%5B48%2C%2048%5D%7D%5D%7D%2C%20%7B%22distance%22%3A%20306.3%2C%20%22duration%22%3A%2042.7%2C%20%22steps%22%3A%20%5B%7B%22distance%22%3A%20306.3%2C%20%22duration%22%3A%2042.7%2C%20%22instruction%22%3A%20%22Head%20southwest%20on%20New%20Hampshire%20Avenue%20Northeast%22%2C%20%22name%22%3A%20%22New%20Hampshire%20Avenue%20Northeast%22%2C%20%22type%22%3A%2011%2C%20%22way_points%22%3A%20%5B48%2C%2056%5D%7D%2C%20%7B%22distance%22%3A%200.0%2C%20%22duration%22%3A%200.0%2C%20%22instruction%22%3A%20%22Arrive%20at%20New%20Hampshire%20Avenue%20Northeast%2C%20on%20the%20left%22%2C%20%22name%22%3A%20%22-%22%2C%20%22type%22%3A%2010%2C%20%22way_points%22%3A%20%5B56%2C%2056%5D%7D%5D%7D%2C%20%7B%22distance%22%3A%20222.3%2C%20%22duration%22%3A%2053.3%2C%20%22steps%22%3A%20%5B%7B%22distance%22%3A%200.5%2C%20%22duration%22%3A%200.1%2C%20%22instruction%22%3A%20%22Head%20southwest%20on%20New%20Hampshire%20Avenue%20Northeast%22%2C%20%22name%22%3A%20%22New%20Hampshire%20Avenue%20Northeast%22%2C%20%22type%22%3A%2011%2C%20%22way_points%22%3A%20%5B56%2C%2057%5D%7D%2C%20%7B%22distance%22%3A%20160.8%2C%20%22duration%22%3A%2038.6%2C%20%22instruction%22%3A%20%22Turn%20right%20onto%20Peabody%20Street%20Northeast%22%2C%20%22name%22%3A%20%22Peabody%20Street%20Northeast%22%2C%20%22type%22%3A%201%2C%20%22way_points%22%3A%20%5B57%2C%2061%5D%7D%2C%20%7B%22distance%22%3A%2061.0%2C%20%22duration%22%3A%2014.6%2C%20%22instruction%22%3A%20%22Keep%20left%20onto%20Peabody%20Street%20Northeast%22%2C%20%22name%22%3A%20%22Peabody%20Street%20Northeast%22%2C%20%22type%22%3A%2012%2C%20%22way_points%22%3A%20%5B61%2C%2064%5D%7D%2C%20%7B%22distance%22%3A%200.0%2C%20%22duration%22%3A%200.0%2C%20%22instruction%22%3A%20%22Arrive%20at%20Peabody%20Street%20Northeast%2C%20on%20the%20left%22%2C%20%22name%22%3A%20%22-%22%2C%20%22type%22%3A%2010%2C%20%22way_points%22%3A%20%5B64%2C%2064%5D%7D%5D%7D%2C%20%7B%22distance%22%3A%2033.8%2C%20%22duration%22%3A%208.1%2C%20%22steps%22%3A%20%5B%7B%22distance%22%3A%2033.8%2C%20%22duration%22%3A%208.1%2C%20%22instruction%22%3A%20%22Head%20southwest%20on%20Sligo%20Mill%20Road%20Northeast%22%2C%20%22name%22%3A%20%22Sligo%20Mill%20Road%20Northeast%22%2C%20%22type%22%3A%2011%2C%20%22way_points%22%3A%20%5B64%2C%2066%5D%7D%2C%20%7B%22distance%22%3A%200.0%2C%20%22duration%22%3A%200.0%2C%20%22instruction%22%3A%20%22Arrive%20at%20Sligo%20Mill%20Road%20Northeast%2C%20on%20the%20left%22%2C%20%22name%22%3A%20%22-%22%2C%20%22type%22%3A%2010%2C%20%22way_points%22%3A%20%5B66%2C%2066%5D%7D%5D%7D%2C%20%7B%22distance%22%3A%20281.1%2C%20%22duration%22%3A%2067.5%2C%20%22steps%22%3A%20%5B%7B%22distance%22%3A%20155.6%2C%20%22duration%22%3A%2037.3%2C%20%22instruction%22%3A%20%22Head%20northeast%20on%20Sligo%20Mill%20Road%20Northeast%22%2C%20%22name%22%3A%20%22Sligo%20Mill%20Road%20Northeast%22%2C%20%22type%22%3A%2011%2C%20%22way_points%22%3A%20%5B66%2C%2074%5D%7D%2C%20%7B%22distance%22%3A%20125.5%2C%20%22duration%22%3A%2030.1%2C%20%22instruction%22%3A%20%22Turn%20right%20onto%201st%20Place%20Northeast%22%2C%20%22name%22%3A%20%221st%20Place%20Northeast%22%2C%20%22type%22%3A%201%2C%20%22way_points%22%3A%20%5B74%2C%2082%5D%7D%2C%20%7B%22distance%22%3A%200.0%2C%20%22duration%22%3A%200.0%2C%20%22instruction%22%3A%20%22Arrive%20at%201st%20Place%20Northeast%2C%20on%20the%20right%22%2C%20%22name%22%3A%20%22-%22%2C%20%22type%22%3A%2010%2C%20%22way_points%22%3A%20%5B82%2C%2082%5D%7D%5D%7D%2C%20%7B%22distance%22%3A%2059.5%2C%20%22duration%22%3A%207.1%2C%20%22steps%22%3A%20%5B%7B%22distance%22%3A%2059.5%2C%20%22duration%22%3A%207.1%2C%20%22instruction%22%3A%20%22Head%20southwest%20on%20New%20Hampshire%20Avenue%20Northeast%22%2C%20%22name%22%3A%20%22New%20Hampshire%20Avenue%20Northeast%22%2C%20%22type%22%3A%2011%2C%20%22way_points%22%3A%20%5B82%2C%2083%5D%7D%2C%20%7B%22distance%22%3A%200.0%2C%20%22duration%22%3A%200.0%2C%20%22instruction%22%3A%20%22Arrive%20at%20New%20Hampshire%20Avenue%20Northeast%2C%20on%20the%20left%22%2C%20%22name%22%3A%20%22-%22%2C%20%22type%22%3A%2010%2C%20%22way_points%22%3A%20%5B83%2C%2083%5D%7D%5D%7D%2C%20%7B%22distance%22%3A%2035.5%2C%20%22duration%22%3A%204.3%2C%20%22steps%22%3A%20%5B%7B%22distance%22%3A%2035.5%2C%20%22duration%22%3A%204.3%2C%20%22instruction%22%3A%20%22Head%20southwest%20on%20New%20Hampshire%20Avenue%20Northeast%22%2C%20%22name%22%3A%20%22New%20Hampshire%20Avenue%20Northeast%22%2C%20%22type%22%3A%2011%2C%20%22way_points%22%3A%20%5B83%2C%2084%5D%7D%2C%20%7B%22distance%22%3A%200.0%2C%20%22duration%22%3A%200.0%2C%20%22instruction%22%3A%20%22Arrive%20at%20New%20Hampshire%20Avenue%20Northeast%2C%20on%20the%20left%22%2C%20%22name%22%3A%20%22-%22%2C%20%22type%22%3A%2010%2C%20%22way_points%22%3A%20%5B84%2C%2084%5D%7D%5D%7D%2C%20%7B%22distance%22%3A%20436.0%2C%20%22duration%22%3A%2057.0%2C%20%22steps%22%3A%20%5B%7B%22distance%22%3A%20433.7%2C%20%22duration%22%3A%2056.4%2C%20%22instruction%22%3A%20%22Head%20southwest%20on%20New%20Hampshire%20Avenue%20Northeast%22%2C%20%22name%22%3A%20%22New%20Hampshire%20Avenue%20Northeast%22%2C%20%22type%22%3A%2011%2C%20%22way_points%22%3A%20%5B84%2C%2092%5D%7D%2C%20%7B%22distance%22%3A%202.3%2C%20%22duration%22%3A%200.6%2C%20%22instruction%22%3A%20%22Turn%20sharp%20right%20onto%20Blair%20Road%20Northeast%22%2C%20%22name%22%3A%20%22Blair%20Road%20Northeast%22%2C%20%22type%22%3A%203%2C%20%22way_points%22%3A%20%5B92%2C%2093%5D%7D%2C%20%7B%22distance%22%3A%200.0%2C%20%22duration%22%3A%200.0%2C%20%22instruction%22%3A%20%22Arrive%20at%20Blair%20Road%20Northeast%2C%20on%20the%20right%22%2C%20%22name%22%3A%20%22-%22%2C%20%22type%22%3A%2010%2C%20%22way_points%22%3A%20%5B93%2C%2093%5D%7D%5D%7D%2C%20%7B%22distance%22%3A%2032.7%2C%20%22duration%22%3A%203.7%2C%20%22steps%22%3A%20%5B%7B%22distance%22%3A%202.3%2C%20%22duration%22%3A%200.6%2C%20%22instruction%22%3A%20%22Head%20south%20on%20Blair%20Road%20Northeast%22%2C%20%22name%22%3A%20%22Blair%20Road%20Northeast%22%2C%20%22type%22%3A%2011%2C%20%22way_points%22%3A%20%5B93%2C%2094%5D%7D%2C%20%7B%22distance%22%3A%2029.8%2C%20%22duration%22%3A%203.1%2C%20%22instruction%22%3A%20%22Turn%20right%20onto%20New%20Hampshire%20Avenue%20Northeast%22%2C%20%22name%22%3A%20%22New%20Hampshire%20Avenue%20Northeast%22%2C%20%22type%22%3A%201%2C%20%22way_points%22%3A%20%5B94%2C%2095%5D%7D%2C%20%7B%22distance%22%3A%200.5%2C%20%22duration%22%3A%200.1%2C%20%22instruction%22%3A%20%22Turn%20right%20onto%20Longfellow%20Street%20Northeast%22%2C%20%22name%22%3A%20%22Longfellow%20Street%20Northeast%22%2C%20%22type%22%3A%201%2C%20%22way_points%22%3A%20%5B95%2C%2096%5D%7D%2C%20%7B%22distance%22%3A%200.0%2C%20%22duration%22%3A%200.0%2C%20%22instruction%22%3A%20%22Arrive%20at%20Longfellow%20Street%20Northeast%2C%20on%20the%20right%22%2C%20%22name%22%3A%20%22-%22%2C%20%22type%22%3A%2010%2C%20%22way_points%22%3A%20%5B96%2C%2096%5D%7D%5D%7D%2C%20%7B%22distance%22%3A%20223.5%2C%20%22duration%22%3A%2038.9%2C%20%22steps%22%3A%20%5B%7B%22distance%22%3A%2051.9%2C%20%22duration%22%3A%2012.5%2C%20%22instruction%22%3A%20%22Head%20west%20on%20Longfellow%20Street%20Northeast%22%2C%20%22name%22%3A%20%22Longfellow%20Street%20Northeast%22%2C%20%22type%22%3A%2011%2C%20%22way_points%22%3A%20%5B96%2C%2097%5D%7D%2C%20%7B%22distance%22%3A%2086.9%2C%20%22duration%22%3A%2014.3%2C%20%22instruction%22%3A%20%22Turn%20left%20onto%20North%20Capitol%20Street%20Northwest%22%2C%20%22name%22%3A%20%22North%20Capitol%20Street%20Northwest%22%2C%20%22type%22%3A%200%2C%20%22way_points%22%3A%20%5B97%2C%20101%5D%7D%2C%20%7B%22distance%22%3A%2084.7%2C%20%22duration%22%3A%2012.2%2C%20%22instruction%22%3A%20%22Turn%20sharp%20left%20onto%20New%20Hampshire%20Avenue%20Northeast%22%2C%20%22name%22%3A%20%22New%20Hampshire%20Avenue%20Northeast%22%2C%20%22type%22%3A%202%2C%20%22way_points%22%3A%20%5B101%2C%20105%5D%7D%2C%20%7B%22distance%22%3A%200.0%2C%20%22duration%22%3A%200.0%2C%20%22instruction%22%3A%20%22Turn%20sharp%20left%22%2C%20%22name%22%3A%20%22-%22%2C%20%22type%22%3A%202%2C%20%22way_points%22%3A%20%5B105%2C%20106%5D%7D%2C%20%7B%22distance%22%3A%200.0%2C%20%22duration%22%3A%200.0%2C%20%22instruction%22%3A%20%22Arrive%20at%20your%20destination%2C%20on%20the%20right%22%2C%20%22name%22%3A%20%22-%22%2C%20%22type%22%3A%2010%2C%20%22way_points%22%3A%20%5B106%2C%20106%5D%7D%5D%7D%2C%20%7B%22distance%22%3A%2050.0%2C%20%22duration%22%3A%207.2%2C%20%22steps%22%3A%20%5B%7B%22distance%22%3A%2050.0%2C%20%22duration%22%3A%207.2%2C%20%22instruction%22%3A%20%22Head%20southwest%22%2C%20%22name%22%3A%20%22-%22%2C%20%22type%22%3A%2011%2C%20%22way_points%22%3A%20%5B106%2C%20109%5D%7D%2C%20%7B%22distance%22%3A%200.0%2C%20%22duration%22%3A%200.0%2C%20%22instruction%22%3A%20%22Arrive%20at%20your%20destination%2C%20on%20the%20right%22%2C%20%22name%22%3A%20%22-%22%2C%20%22type%22%3A%2010%2C%20%22way_points%22%3A%20%5B109%2C%20109%5D%7D%5D%7D%2C%20%7B%22distance%22%3A%2045.0%2C%20%22duration%22%3A%203.2%2C%20%22steps%22%3A%20%5B%7B%22distance%22%3A%2045.0%2C%20%22duration%22%3A%203.2%2C%20%22instruction%22%3A%20%22Head%20north%20on%20North%20Capitol%20Street%20Northwest%22%2C%20%22name%22%3A%20%22North%20Capitol%20Street%20Northwest%22%2C%20%22type%22%3A%2011%2C%20%22way_points%22%3A%20%5B109%2C%20111%5D%7D%2C%20%7B%22distance%22%3A%200.0%2C%20%22duration%22%3A%200.0%2C%20%22instruction%22%3A%20%22Arrive%20at%20North%20Capitol%20Street%20Northwest%2C%20on%20the%20right%22%2C%20%22name%22%3A%20%22-%22%2C%20%22type%22%3A%2010%2C%20%22way_points%22%3A%20%5B111%2C%20111%5D%7D%5D%7D%2C%20%7B%22distance%22%3A%20123.8%2C%20%22duration%22%3A%2022.4%2C%20%22steps%22%3A%20%5B%7B%22distance%22%3A%2091.4%2C%20%22duration%22%3A%2014.6%2C%20%22instruction%22%3A%20%22Head%20south%20on%20North%20Capitol%20Street%20Northwest%22%2C%20%22name%22%3A%20%22North%20Capitol%20Street%20Northwest%22%2C%20%22type%22%3A%2011%2C%20%22way_points%22%3A%20%5B111%2C%20116%5D%7D%2C%20%7B%22distance%22%3A%2032.4%2C%20%22duration%22%3A%207.8%2C%20%22instruction%22%3A%20%22Continue%20straight%20onto%20North%20Capitol%20Street%20Northwest%22%2C%20%22name%22%3A%20%22North%20Capitol%20Street%20Northwest%22%2C%20%22type%22%3A%206%2C%20%22way_points%22%3A%20%5B116%2C%20117%5D%7D%2C%20%7B%22distance%22%3A%200.0%2C%20%22duration%22%3A%200.0%2C%20%22instruction%22%3A%20%22Turn%20right%20onto%20Kennedy%20Street%20Northwest%22%2C%20%22name%22%3A%20%22Kennedy%20Street%20Northwest%22%2C%20%22type%22%3A%201%2C%20%22way_points%22%3A%20%5B117%2C%20118%5D%7D%2C%20%7B%22distance%22%3A%200.0%2C%20%22duration%22%3A%200.0%2C%20%22instruction%22%3A%20%22Arrive%20at%20Kennedy%20Street%20Northwest%2C%20on%20the%20right%22%2C%20%22name%22%3A%20%22-%22%2C%20%22type%22%3A%2010%2C%20%22way_points%22%3A%20%5B118%2C%20118%5D%7D%5D%7D%2C%20%7B%22distance%22%3A%2098.8%2C%20%22duration%22%3A%2017.8%2C%20%22steps%22%3A%20%5B%7B%22distance%22%3A%200.0%2C%20%22duration%22%3A%200.0%2C%20%22instruction%22%3A%20%22Head%20east%20on%20Kennedy%20Street%20Northwest%22%2C%20%22name%22%3A%20%22Kennedy%20Street%20Northwest%22%2C%20%22type%22%3A%2011%2C%20%22way_points%22%3A%20%5B118%2C%20119%5D%7D%2C%20%7B%22distance%22%3A%2098.8%2C%20%22duration%22%3A%2017.8%2C%20%22instruction%22%3A%20%22Turn%20right%20onto%20North%20Capitol%20Street%20Northwest%22%2C%20%22name%22%3A%20%22North%20Capitol%20Street%20Northwest%22%2C%20%22type%22%3A%201%2C%20%22way_points%22%3A%20%5B119%2C%20122%5D%7D%2C%20%7B%22distance%22%3A%200.0%2C%20%22duration%22%3A%200.0%2C%20%22instruction%22%3A%20%22Arrive%20at%20North%20Capitol%20Street%20Northwest%2C%20on%20the%20left%22%2C%20%22name%22%3A%20%22-%22%2C%20%22type%22%3A%2010%2C%20%22way_points%22%3A%20%5B122%2C%20122%5D%7D%5D%7D%2C%20%7B%22distance%22%3A%2056.4%2C%20%22duration%22%3A%2010.1%2C%20%22steps%22%3A%20%5B%7B%22distance%22%3A%2056.4%2C%20%22duration%22%3A%2010.1%2C%20%22instruction%22%3A%20%22Head%20north%20on%20North%20Capitol%20Street%20Northwest%22%2C%20%22name%22%3A%20%22North%20Capitol%20Street%20Northwest%22%2C%20%22type%22%3A%2011%2C%20%22way_points%22%3A%20%5B122%2C%20123%5D%7D%2C%20%7B%22distance%22%3A%200.0%2C%20%22duration%22%3A%200.0%2C%20%22instruction%22%3A%20%22Arrive%20at%20North%20Capitol%20Street%20Northwest%2C%20on%20the%20right%22%2C%20%22name%22%3A%20%22-%22%2C%20%22type%22%3A%2010%2C%20%22way_points%22%3A%20%5B123%2C%20123%5D%7D%5D%7D%2C%20%7B%22distance%22%3A%2064.2%2C%20%22duration%22%3A%2012.9%2C%20%22steps%22%3A%20%5B%7B%22distance%22%3A%2042.4%2C%20%22duration%22%3A%207.6%2C%20%22instruction%22%3A%20%22Head%20north%20on%20North%20Capitol%20Street%20Northwest%22%2C%20%22name%22%3A%20%22North%20Capitol%20Street%20Northwest%22%2C%20%22type%22%3A%2011%2C%20%22way_points%22%3A%20%5B123%2C%20125%5D%7D%2C%20%7B%22distance%22%3A%2021.8%2C%20%22duration%22%3A%205.2%2C%20%22instruction%22%3A%20%22Turn%20left%20onto%20Kennedy%20Street%20Northwest%22%2C%20%22name%22%3A%20%22Kennedy%20Street%20Northwest%22%2C%20%22type%22%3A%200%2C%20%22way_points%22%3A%20%5B125%2C%20126%5D%7D%2C%20%7B%22distance%22%3A%200.0%2C%20%22duration%22%3A%200.0%2C%20%22instruction%22%3A%20%22Arrive%20at%20Kennedy%20Street%20Northwest%2C%20on%20the%20right%22%2C%20%22name%22%3A%20%22-%22%2C%20%22type%22%3A%2010%2C%20%22way_points%22%3A%20%5B126%2C%20126%5D%7D%5D%7D%2C%20%7B%22distance%22%3A%20103.0%2C%20%22duration%22%3A%2012.4%2C%20%22steps%22%3A%20%5B%7B%22distance%22%3A%20103.0%2C%20%22duration%22%3A%2012.4%2C%20%22instruction%22%3A%20%22Head%20southwest%20on%20New%20Hampshire%20Avenue%20Northwest%22%2C%20%22name%22%3A%20%22New%20Hampshire%20Avenue%20Northwest%22%2C%20%22type%22%3A%2011%2C%20%22way_points%22%3A%20%5B126%2C%20132%5D%7D%2C%20%7B%22distance%22%3A%200.0%2C%20%22duration%22%3A%200.0%2C%20%22instruction%22%3A%20%22Arrive%20at%20New%20Hampshire%20Avenue%20Northwest%2C%20on%20the%20left%22%2C%20%22name%22%3A%20%22-%22%2C%20%22type%22%3A%2010%2C%20%22way_points%22%3A%20%5B132%2C%20132%5D%7D%5D%7D%2C%20%7B%22distance%22%3A%20343.7%2C%20%22duration%22%3A%2063.2%2C%20%22steps%22%3A%20%5B%7B%22distance%22%3A%2086.8%2C%20%22duration%22%3A%2012.5%2C%20%22instruction%22%3A%20%22Head%20northeast%20on%20New%20Hampshire%20Avenue%20Northwest%22%2C%20%22name%22%3A%20%22New%20Hampshire%20Avenue%20Northwest%22%2C%20%22type%22%3A%2011%2C%20%22way_points%22%3A%20%5B132%2C%20137%5D%7D%2C%20%7B%22distance%22%3A%2042.4%2C%20%22duration%22%3A%207.6%2C%20%22instruction%22%3A%20%22Turn%20left%20onto%20North%20Capitol%20Street%20Northwest%22%2C%20%22name%22%3A%20%22North%20Capitol%20Street%20Northwest%22%2C%20%22type%22%3A%200%2C%20%22way_points%22%3A%20%5B137%2C%20139%5D%7D%2C%20%7B%22distance%22%3A%2092.6%2C%20%22duration%22%3A%2013.8%2C%20%22instruction%22%3A%20%22Turn%20left%20onto%20Kennedy%20Street%20Northwest%22%2C%20%22name%22%3A%20%22Kennedy%20Street%20Northwest%22%2C%20%22type%22%3A%200%2C%20%22way_points%22%3A%20%5B139%2C%20144%5D%7D%2C%20%7B%22distance%22%3A%20121.8%2C%20%22duration%22%3A%2029.2%2C%20%22instruction%22%3A%20%22Turn%20left%20onto%201st%20Place%20Northwest%22%2C%20%22name%22%3A%20%221st%20Place%20Northwest%22%2C%20%22type%22%3A%200%2C%20%22way_points%22%3A%20%5B144%2C%20148%5D%7D%2C%20%7B%22distance%22%3A%200.0%2C%20%22duration%22%3A%200.0%2C%20%22instruction%22%3A%20%22Arrive%20at%201st%20Place%20Northwest%2C%20on%20the%20left%22%2C%20%22name%22%3A%20%22-%22%2C%20%22type%22%3A%2010%2C%20%22way_points%22%3A%20%5B148%2C%20148%5D%7D%5D%7D%2C%20%7B%22distance%22%3A%20692.2%2C%20%22duration%22%3A%2087.7%2C%20%22steps%22%3A%20%5B%7B%22distance%22%3A%200.4%2C%20%22duration%22%3A%200.1%2C%20%22instruction%22%3A%20%22Head%20southeast%20on%201st%20Place%20Northwest%22%2C%20%22name%22%3A%20%221st%20Place%20Northwest%22%2C%20%22type%22%3A%2011%2C%20%22way_points%22%3A%20%5B148%2C%20149%5D%7D%2C%20%7B%22distance%22%3A%2040.4%2C%20%22duration%22%3A%205.8%2C%20%22instruction%22%3A%20%22Turn%20right%20onto%20New%20Hampshire%20Avenue%20Northwest%22%2C%20%22name%22%3A%20%22New%20Hampshire%20Avenue%20Northwest%22%2C%20%22type%22%3A%201%2C%20%22way_points%22%3A%20%5B149%2C%20151%5D%7D%2C%20%7B%22distance%22%3A%20433.9%2C%20%22duration%22%3A%2061.6%2C%20%22instruction%22%3A%20%22Turn%20right%20onto%20Missouri%20Ave%20NW%22%2C%20%22name%22%3A%20%22Missouri%20Ave%20NW%22%2C%20%22type%22%3A%201%2C%20%22way_points%22%3A%20%5B151%2C%20167%5D%7D%2C%20%7B%22distance%22%3A%20217.6%2C%20%22duration%22%3A%2020.2%2C%20%22instruction%22%3A%20%22Turn%20right%20onto%20Kansas%20Avenue%20Northwest%22%2C%20%22name%22%3A%20%22Kansas%20Avenue%20Northwest%22%2C%20%22type%22%3A%201%2C%20%22way_points%22%3A%20%5B167%2C%20173%5D%7D%2C%20%7B%22distance%22%3A%200.0%2C%20%22duration%22%3A%200.0%2C%20%22instruction%22%3A%20%22Arrive%20at%20Kansas%20Avenue%20Northwest%2C%20on%20the%20right%22%2C%20%22name%22%3A%20%22-%22%2C%20%22type%22%3A%2010%2C%20%22way_points%22%3A%20%5B173%2C%20173%5D%7D%5D%7D%2C%20%7B%22distance%22%3A%20910.6%2C%20%22duration%22%3A%20120.4%2C%20%22steps%22%3A%20%5B%7B%22distance%22%3A%20505.8%2C%20%22duration%22%3A%2047.2%2C%20%22instruction%22%3A%20%22Head%20northeast%20on%20Kansas%20Avenue%20Northwest%22%2C%20%22name%22%3A%20%22Kansas%20Avenue%20Northwest%22%2C%20%22type%22%3A%2011%2C%20%22way_points%22%3A%20%5B173%2C%20181%5D%7D%2C%20%7B%22distance%22%3A%2041.1%2C%20%22duration%22%3A%207.4%2C%20%22instruction%22%3A%20%22Turn%20sharp%20right%20onto%20Blair%20Road%20Northwest%22%2C%20%22name%22%3A%20%22Blair%20Road%20Northwest%22%2C%20%22type%22%3A%203%2C%20%22way_points%22%3A%20%5B181%2C%20183%5D%7D%2C%20%7B%22distance%22%3A%20127.9%2C%20%22duration%22%3A%209.2%2C%20%22instruction%22%3A%20%22Turn%20slight%20right%20onto%20Blair%20Road%20Northwest%22%2C%20%22name%22%3A%20%22Blair%20Road%20Northwest%22%2C%20%22type%22%3A%205%2C%20%22way_points%22%3A%20%5B183%2C%20190%5D%7D%2C%20%7B%22distance%22%3A%20131.0%2C%20%22duration%22%3A%2031.4%2C%20%22instruction%22%3A%20%22Turn%20left%20onto%20Oglethorpe%20Street%20Northwest%22%2C%20%22name%22%3A%20%22Oglethorpe%20Street%20Northwest%22%2C%20%22type%22%3A%200%2C%20%22way_points%22%3A%20%5B190%2C%20194%5D%7D%2C%20%7B%22distance%22%3A%20104.7%2C%20%22duration%22%3A%2025.1%2C%20%22instruction%22%3A%20%22Turn%20left%22%2C%20%22name%22%3A%20%22-%22%2C%20%22type%22%3A%200%2C%20%22way_points%22%3A%20%5B194%2C%20197%5D%7D%2C%20%7B%22distance%22%3A%200.0%2C%20%22duration%22%3A%200.0%2C%20%22instruction%22%3A%20%22Arrive%20at%20your%20destination%2C%20on%20the%20right%22%2C%20%22name%22%3A%20%22-%22%2C%20%22type%22%3A%2010%2C%20%22way_points%22%3A%20%5B197%2C%20197%5D%7D%5D%7D%2C%20%7B%22distance%22%3A%20422.3%2C%20%22duration%22%3A%2073.7%2C%20%22steps%22%3A%20%5B%7B%22distance%22%3A%20104.7%2C%20%22duration%22%3A%2025.1%2C%20%22instruction%22%3A%20%22Head%20south%22%2C%20%22name%22%3A%20%22-%22%2C%20%22type%22%3A%2011%2C%20%22way_points%22%3A%20%5B197%2C%20200%5D%7D%2C%20%7B%22distance%22%3A%20131.0%2C%20%22duration%22%3A%2031.4%2C%20%22instruction%22%3A%20%22Turn%20right%20onto%20Oglethorpe%20Street%20Northwest%22%2C%20%22name%22%3A%20%22Oglethorpe%20Street%20Northwest%22%2C%20%22type%22%3A%201%2C%20%22way_points%22%3A%20%5B200%2C%20204%5D%7D%2C%20%7B%22distance%22%3A%20186.6%2C%20%22duration%22%3A%2017.2%2C%20%22instruction%22%3A%20%22Turn%20sharp%20left%20onto%20Blair%20Road%20Northwest%22%2C%20%22name%22%3A%20%22Blair%20Road%20Northwest%22%2C%20%22type%22%3A%202%2C%20%22way_points%22%3A%20%5B204%2C%20214%5D%7D%2C%20%7B%22distance%22%3A%200.0%2C%20%22duration%22%3A%200.0%2C%20%22instruction%22%3A%20%22Arrive%20at%20Blair%20Road%20Northwest%2C%20on%20the%20left%22%2C%20%22name%22%3A%20%22-%22%2C%20%22type%22%3A%2010%2C%20%22way_points%22%3A%20%5B214%2C%20214%5D%7D%5D%7D%2C%20%7B%22distance%22%3A%2079.7%2C%20%22duration%22%3A%205.7%2C%20%22steps%22%3A%20%5B%7B%22distance%22%3A%2079.7%2C%20%22duration%22%3A%205.7%2C%20%22instruction%22%3A%20%22Head%20south%20on%20North%20Capitol%20Street%20Northwest%22%2C%20%22name%22%3A%20%22North%20Capitol%20Street%20Northwest%22%2C%20%22type%22%3A%2011%2C%20%22way_points%22%3A%20%5B214%2C%20215%5D%7D%2C%20%7B%22distance%22%3A%200.0%2C%20%22duration%22%3A%200.0%2C%20%22instruction%22%3A%20%22Arrive%20at%20North%20Capitol%20Street%20Northwest%2C%20on%20the%20left%22%2C%20%22name%22%3A%20%22-%22%2C%20%22type%22%3A%2010%2C%20%22way_points%22%3A%20%5B215%2C%20215%5D%7D%5D%7D%2C%20%7B%22distance%22%3A%20120.1%2C%20%22duration%22%3A%2028.8%2C%20%22steps%22%3A%20%5B%7B%22distance%22%3A%20120.1%2C%20%22duration%22%3A%2028.8%2C%20%22instruction%22%3A%20%22Head%20east%20on%20Madison%20Street%20Northeast%22%2C%20%22name%22%3A%20%22Madison%20Street%20Northeast%22%2C%20%22type%22%3A%2011%2C%20%22way_points%22%3A%20%5B215%2C%20218%5D%7D%2C%20%7B%22distance%22%3A%200.0%2C%20%22duration%22%3A%200.0%2C%20%22instruction%22%3A%20%22Arrive%20at%20Madison%20Street%20Northeast%2C%20on%20the%20left%22%2C%20%22name%22%3A%20%22-%22%2C%20%22type%22%3A%2010%2C%20%22way_points%22%3A%20%5B218%2C%20218%5D%7D%5D%7D%2C%20%7B%22distance%22%3A%20111.7%2C%20%22duration%22%3A%2017.8%2C%20%22steps%22%3A%20%5B%7B%22distance%22%3A%20111.7%2C%20%22duration%22%3A%2017.8%2C%20%22instruction%22%3A%20%22Head%20northeast%20on%20New%20Hampshire%20Avenue%20Northeast%22%2C%20%22name%22%3A%20%22New%20Hampshire%20Avenue%20Northeast%22%2C%20%22type%22%3A%2011%2C%20%22way_points%22%3A%20%5B218%2C%20220%5D%7D%2C%20%7B%22distance%22%3A%200.0%2C%20%22duration%22%3A%200.0%2C%20%22instruction%22%3A%20%22Arrive%20at%20New%20Hampshire%20Avenue%20Northeast%2C%20on%20the%20right%22%2C%20%22name%22%3A%20%22-%22%2C%20%22type%22%3A%2010%2C%20%22way_points%22%3A%20%5B220%2C%20220%5D%7D%5D%7D%2C%20%7B%22distance%22%3A%20273.0%2C%20%22duration%22%3A%2041.5%2C%20%22steps%22%3A%20%5B%7B%22distance%22%3A%20215.1%2C%20%22duration%22%3A%2027.6%2C%20%22instruction%22%3A%20%22Head%20northeast%20on%20New%20Hampshire%20Avenue%20Northeast%22%2C%20%22name%22%3A%20%22New%20Hampshire%20Avenue%20Northeast%22%2C%20%22type%22%3A%2011%2C%20%22way_points%22%3A%20%5B220%2C%20224%5D%7D%2C%20%7B%22distance%22%3A%2057.9%2C%20%22duration%22%3A%2013.9%2C%20%22instruction%22%3A%20%22Turn%20right%20onto%20Oglethorpe%20Street%20Northeast%22%2C%20%22name%22%3A%20%22Oglethorpe%20Street%20Northeast%22%2C%20%22type%22%3A%201%2C%20%22way_points%22%3A%20%5B224%2C%20225%5D%7D%2C%20%7B%22distance%22%3A%200.0%2C%20%22duration%22%3A%200.0%2C%20%22instruction%22%3A%20%22Arrive%20at%20Oglethorpe%20Street%20Northeast%2C%20on%20the%20right%22%2C%20%22name%22%3A%20%22-%22%2C%20%22type%22%3A%2010%2C%20%22way_points%22%3A%20%5B225%2C%20225%5D%7D%5D%7D%2C%20%7B%22distance%22%3A%20517.9%2C%20%22duration%22%3A%20110.8%2C%20%22steps%22%3A%20%5B%7B%22distance%22%3A%20202.3%2C%20%22duration%22%3A%2048.6%2C%20%22instruction%22%3A%20%22Head%20east%20on%20Oglethorpe%20Street%20Northeast%22%2C%20%22name%22%3A%20%22Oglethorpe%20Street%20Northeast%22%2C%20%22type%22%3A%2011%2C%20%22way_points%22%3A%20%5B225%2C%20226%5D%7D%2C%20%7B%22distance%22%3A%2084.3%2C%20%22duration%22%3A%206.7%2C%20%22instruction%22%3A%20%22Turn%20right%20onto%203rd%20Street%20Northeast%22%2C%20%22name%22%3A%20%223rd%20Street%20Northeast%22%2C%20%22type%22%3A%201%2C%20%22way_points%22%3A%20%5B226%2C%20228%5D%7D%2C%20%7B%22distance%22%3A%20172.6%2C%20%22duration%22%3A%2041.4%2C%20%22instruction%22%3A%20%22Turn%20right%20onto%20Nicholson%20Street%20Northeast%22%2C%20%22name%22%3A%20%22Nicholson%20Street%20Northeast%22%2C%20%22type%22%3A%201%2C%20%22way_points%22%3A%20%5B228%2C%20238%5D%7D%2C%20%7B%22distance%22%3A%2058.7%2C%20%22duration%22%3A%2014.1%2C%20%22instruction%22%3A%20%22Turn%20right%20onto%202nd%20Street%20Northeast%22%2C%20%22name%22%3A%20%222nd%20Street%20Northeast%22%2C%20%22type%22%3A%201%2C%20%22way_points%22%3A%20%5B238%2C%20242%5D%7D%2C%20%7B%22distance%22%3A%200.0%2C%20%22duration%22%3A%200.0%2C%20%22instruction%22%3A%20%22Arrive%20at%202nd%20Street%20Northeast%2C%20on%20the%20left%22%2C%20%22name%22%3A%20%22-%22%2C%20%22type%22%3A%2010%2C%20%22way_points%22%3A%20%5B242%2C%20242%5D%7D%5D%7D%2C%20%7B%22distance%22%3A%2059.0%2C%20%22duration%22%3A%2014.2%2C%20%22steps%22%3A%20%5B%7B%22distance%22%3A%2059.0%2C%20%22duration%22%3A%2014.2%2C%20%22instruction%22%3A%20%22Head%20southeast%20on%202nd%20Street%20Northeast%22%2C%20%22name%22%3A%20%222nd%20Street%20Northeast%22%2C%20%22type%22%3A%2011%2C%20%22way_points%22%3A%20%5B242%2C%20246%5D%7D%2C%20%7B%22distance%22%3A%200.0%2C%20%22duration%22%3A%200.0%2C%20%22instruction%22%3A%20%22Arrive%20at%202nd%20Street%20Northeast%2C%20straight%20ahead%22%2C%20%22name%22%3A%20%22-%22%2C%20%22type%22%3A%2010%2C%20%22way_points%22%3A%20%5B246%2C%20246%5D%7D%5D%7D%5D%2C%20%22summary%22%3A%20%7B%22distance%22%3A%207976.9%2C%20%22duration%22%3A%201253.4%7D%2C%20%22way_points%22%3A%20%5B0%2C%200%2C%200%2C%200%2C%200%2C%200%2C%200%2C%200%2C%200%2C%200%2C%200%2C%200%2C%200%2C%200%2C%206%2C%208%2C%2016%2C%2032%2C%2033%2C%2039%2C%2048%2C%2056%2C%2064%2C%2066%2C%2082%2C%2083%2C%2084%2C%2093%2C%2096%2C%20106%2C%20109%2C%20111%2C%20118%2C%20122%2C%20123%2C%20126%2C%20132%2C%20148%2C%20173%2C%20197%2C%20214%2C%20215%2C%20218%2C%20220%2C%20225%2C%20242%2C%20246%5D%7D%2C%20%22type%22%3A%20%22Feature%22%7D%5D%2C%20%22metadata%22%3A%20%7B%22attribution%22%3A%20%22openrouteservice.org%20%7C%20OpenStreetMap%20contributors%22%2C%20%22engine%22%3A%20%7B%22build_date%22%3A%20%222021-07-05T10%3A57%3A48Z%22%2C%20%22graph_date%22%3A%20%222021-10-20T10%3A19%3A22Z%22%2C%20%22version%22%3A%20%226.6.1%22%7D%2C%20%22query%22%3A%20%7B%22coordinates%22%3A%20%5B%5B-77.001625%2C%2038.968246%5D%2C%20%5B-77.001625%2C%2038.968246%5D%2C%20%5B-77.001625%2C%2038.968246%5D%2C%20%5B-77.001625%2C%2038.968246%5D%2C%20%5B-77.001625%2C%2038.968246%5D%2C%20%5B-77.001625%2C%2038.968246%5D%2C%20%5B-77.001625%2C%2038.968246%5D%2C%20%5B-77.001625%2C%2038.968246%5D%2C%20%5B-77.001625%2C%2038.968246%5D%2C%20%5B-77.001625%2C%2038.968246%5D%2C%20%5B-77.001625%2C%2038.968246%5D%2C%20%5B-77.001625%2C%2038.968246%5D%2C%20%5B-77.001625%2C%2038.968246%5D%2C%20%5B-77.001625%2C%2038.968246%5D%2C%20%5B-77.003471%2C%2038.968009%5D%2C%20%5B-77.004295%2C%2038.968639%5D%2C%20%5B-77.0084638%2C%2038.9703917%5D%2C%20%5B-77.009048%2C%2038.967339%5D%2C%20%5B-77.009047%2C%2038.966419%5D%2C%20%5B-77.0033751%2C%2038.9664143%5D%2C%20%5B-77.0029398%2C%2038.9650822%5D%2C%20%5B-77.0047125%2C%2038.9626982%5D%2C%20%5B-77.0072746%2C%2038.9627005%5D%2C%20%5B-77.007499%2C%2038.962462%5D%2C%20%5B-77.0052228%2C%2038.9620118%5D%2C%20%5B-77.005567%2C%2038.961549%5D%2C%20%5B-77.0057725%2C%2038.9612727%5D%2C%20%5B-77.0082748%2C%2038.9578927%5D%2C%20%5B-77.0084482%2C%2038.9576607%5D%2C%20%5B-77.0085528%2C%2038.9575282%5D%2C%20%5B-77.009048%2C%2038.957296%5D%2C%20%5B-77.0090483%2C%2038.95766%5D%2C%20%5B-77.0090474%2C%2038.956587%5D%2C%20%5B-77.0090467%2C%2038.955699%5D%2C%20%5B-77.0090522%2C%2038.9562058%5D%2C%20%5B-77.0093%2C%2038.9565868%5D%2C%20%5B-77.0098582%2C%2038.9557685%5D%2C%20%5B-77.0100531%2C%2038.9555046%5D%2C%20%5B-77.0136606%2C%2038.9583903%5D%2C%20%5B-77.007754%2C%2038.961988%5D%2C%20%5B-77.00905%2C%2038.959446%5D%2C%20%5B-77.0090493%2C%2038.958729%5D%2C%20%5B-77.0076601%2C%2038.9587265%5D%2C%20%5B-77.0070142%2C%2038.9595963%5D%2C%20%5B-77.005103%2C%2038.9612713%5D%2C%20%5B-77.005141%2C%2038.960641%5D%2C%20%5B-77.004695%2C%2038.960246%5D%5D%2C%20%22format%22%3A%20%22geojson%22%2C%20%22profile%22%3A%20%22driving-car%22%7D%2C%20%22service%22%3A%20%22routing%22%2C%20%22timestamp%22%3A%201636886691369%7D%2C%20%22type%22%3A%20%22FeatureCollection%22%7D%29%3B%0A%0A%20%20%20%20%20%20%20%20%0A%20%20%20%20%0A%20%20%20%20%20%20%20%20%20%20%20%20var%20layer_control_1e4ba092c52142a4adffebf8e79620e5%20%3D%20%7B%0A%20%20%20%20%20%20%20%20%20%20%20%20%20%20%20%20base_layers%20%3A%20%7B%0A%20%20%20%20%20%20%20%20%20%20%20%20%20%20%20%20%20%20%20%20%22openstreetmap%22%20%3A%20tile_layer_d6bd3e82592f46fc9f3e44d491a4480b%2C%0A%20%20%20%20%20%20%20%20%20%20%20%20%20%20%20%20%7D%2C%0A%20%20%20%20%20%20%20%20%20%20%20%20%20%20%20%20overlays%20%3A%20%20%7B%0A%20%20%20%20%20%20%20%20%20%20%20%20%20%20%20%20%20%20%20%20%22routes%22%20%3A%20geo_json_de8945a165b84053822824f22431e3c1%2C%0A%20%20%20%20%20%20%20%20%20%20%20%20%20%20%20%20%7D%2C%0A%20%20%20%20%20%20%20%20%20%20%20%20%7D%3B%0A%20%20%20%20%20%20%20%20%20%20%20%20L.control.layers%28%0A%20%20%20%20%20%20%20%20%20%20%20%20%20%20%20%20layer_control_1e4ba092c52142a4adffebf8e79620e5.base_layers%2C%0A%20%20%20%20%20%20%20%20%20%20%20%20%20%20%20%20layer_control_1e4ba092c52142a4adffebf8e79620e5.overlays%2C%0A%20%20%20%20%20%20%20%20%20%20%20%20%20%20%20%20%7B%22autoZIndex%22%3A%20true%2C%20%22collapsed%22%3A%20true%2C%20%22position%22%3A%20%22topright%22%7D%0A%20%20%20%20%20%20%20%20%20%20%20%20%29.addTo%28map_52ff1bede44643e293a16ab3b6c5a0f3%29%3B%0A%20%20%20%20%20%20%20%20%0A%3C/script%3E onload=\"this.contentDocument.open();this.contentDocument.write(    decodeURIComponent(this.getAttribute('data-html')));this.contentDocument.close();\" allowfullscreen webkitallowfullscreen mozallowfullscreen></iframe></div></div>"
      ],
      "text/plain": [
       "<folium.folium.Map at 0x13539018a00>"
      ]
     },
     "execution_count": 363,
     "metadata": {},
     "output_type": "execute_result"
    }
   ],
   "source": [
    "map_geocode = folium.Map(location=[38.97286421371762, -77.06145286560059], tiles='cartodbpositron', zoom_start=13)\n",
    "coords = listnew\n",
    " \n",
    "\n",
    "\n",
    "client = ors.Client(key='5b3ce3597851110001cf6248fc30f10b77b5410dab564eac271c1b0d') # Specify your personal API key\n",
    "#routes = client.directions(coords)\n",
    "\n",
    "routes = client.directions(coords, optimize_waypoints=True, format='geojson') \n",
    "#optimization requires at least 4 or more coordinates. \n",
    "#Take the entire coords of the city itself\n",
    "\n",
    "print(routes)\n",
    "\n",
    "map_directions = folium.Map(location=[38.93254453117472, -77.07254111766814 ], zoom_start=15)\n",
    "\n",
    "folium.GeoJson(routes, name='routes').add_to(map_directions)\n",
    "folium.LayerControl().add_to(map_directions)\n",
    "map_directions\n"
   ]
  },
  {
   "cell_type": "code",
   "execution_count": 364,
   "id": "23ab7d5a",
   "metadata": {},
   "outputs": [],
   "source": [
    "map_directions.save(outfile = \"File1.html\")"
   ]
  },
  {
   "cell_type": "code",
   "execution_count": null,
   "id": "8bb80575",
   "metadata": {},
   "outputs": [],
   "source": []
  },
  {
   "cell_type": "code",
   "execution_count": null,
   "id": "b7adb70f",
   "metadata": {},
   "outputs": [],
   "source": []
  },
  {
   "cell_type": "code",
   "execution_count": null,
   "id": "8e8420a3",
   "metadata": {},
   "outputs": [],
   "source": []
  },
  {
   "cell_type": "code",
   "execution_count": null,
   "id": "4a2696e9",
   "metadata": {},
   "outputs": [],
   "source": []
  },
  {
   "cell_type": "code",
   "execution_count": 400,
   "id": "c6641882",
   "metadata": {},
   "outputs": [],
   "source": [
    "df = pd.read_table('tests1/testingMaterial0.txt',header=None,sep=\" \")\n",
    "df1 = df [[1, 3]].copy()\n",
    "col_list = list(df1)\n",
    "\n",
    "col_list[0] = \"lat\"\n",
    "col_list[1] = \"long\"\n",
    "\n",
    "df1.columns = col_list\n",
    "\n",
    "df1[\"D\"] = df1[[\"long\",\"lat\"]].apply(tuple, axis=1)\n",
    "df1.head\n",
    "\n",
    "df2 = df1[[\"D\"]].copy()\n",
    "\n",
    "\n",
    "listnew = []\n",
    "\n",
    "listnew = df2['D'].to_list()\n",
    "\n",
    "map_geocode = folium.Map(location=[38.961880, -77.006330], tiles='cartodbpositron', zoom_start=13)\n",
    "coords = listnew\n",
    " \n",
    "\n",
    "\n",
    "client = ors.Client(key='5b3ce3597851110001cf6248fc30f10b77b5410dab564eac271c1b0d') # Specify your personal API key\n",
    "#routes = client.directions(coords)\n",
    "\n",
    "routes = client.directions(coords, optimize_waypoints=True, format='geojson') \n",
    "#optimization requires at least 4 or more coordinates. \n",
    "#Take the entire coords of the city itself\n",
    "\n",
    "print(routes)\n",
    "\n",
    "map_directions = folium.Map(location=[38.961880, -77.006330], zoom_start=15)\n",
    "\n",
    "folium.GeoJson(routes, name='routes').add_to(map_directions)\n",
    "folium.LayerControl().add_to(map_directions)\n",
    "map_directions\n",
    "\n",
    "map_directions.save(outfile = \"File0.html\")"
   ]
  },
  {
   "cell_type": "code",
   "execution_count": 401,
   "id": "49ccfb33",
   "metadata": {},
   "outputs": [],
   "source": [
    "df = pd.read_table('tests1/testingMaterial1.txt',header=None,sep=\" \")\n",
    "df1 = df [[1, 3]].copy()\n",
    "col_list = list(df1)\n",
    "\n",
    "col_list[0] = \"lat\"\n",
    "col_list[1] = \"long\"\n",
    "\n",
    "df1.columns = col_list\n",
    "\n",
    "df1[\"D\"] = df1[[\"long\",\"lat\"]].apply(tuple, axis=1)\n",
    "df1.head\n",
    "\n",
    "df2 = df1[[\"D\"]].copy()\n",
    "\n",
    "\n",
    "listnew = []\n",
    "\n",
    "listnew = df2['D'].to_list()\n",
    "\n",
    "map_geocode = folium.Map(location=[38.961880, -77.006330], tiles='cartodbpositron', zoom_start=13)\n",
    "coords = listnew\n",
    " \n",
    "\n",
    "\n",
    "client = ors.Client(key='5b3ce3597851110001cf6248fc30f10b77b5410dab564eac271c1b0d') # Specify your personal API key\n",
    "#routes = client.directions(coords)\n",
    "\n",
    "routes = client.directions(coords, optimize_waypoints=True, format='geojson') \n",
    "#optimization requires at least 4 or more coordinates. \n",
    "#Take the entire coords of the city itself\n",
    "\n",
    "print(routes)\n",
    "\n",
    "map_directions = folium.Map(location=[38.961880, -77.006330], zoom_start=15)\n",
    "\n",
    "folium.GeoJson(routes, name='routes').add_to(map_directions)\n",
    "folium.LayerControl().add_to(map_directions)\n",
    "map_directions\n",
    "\n",
    "map_directions.save(outfile = \"File1.html\")"
   ]
  },
  {
   "cell_type": "code",
   "execution_count": 402,
   "id": "fa5ba3ca",
   "metadata": {},
   "outputs": [],
   "source": [
    "df = pd.read_table('tests1/testingMaterial2.txt',header=None,sep=\" \")\n",
    "df1 = df [[1, 3]].copy()\n",
    "col_list = list(df1)\n",
    "\n",
    "col_list[0] = \"lat\"\n",
    "col_list[1] = \"long\"\n",
    "\n",
    "df1.columns = col_list\n",
    "\n",
    "df1[\"D\"] = df1[[\"long\",\"lat\"]].apply(tuple, axis=1)\n",
    "df1.head\n",
    "\n",
    "df2 = df1[[\"D\"]].copy()\n",
    "\n",
    "\n",
    "listnew = []\n",
    "\n",
    "listnew = df2['D'].to_list()\n",
    "\n",
    "map_geocode = folium.Map(location=[38.961880, -77.006330], tiles='cartodbpositron', zoom_start=13)\n",
    "coords = listnew\n",
    " \n",
    "\n",
    "\n",
    "client = ors.Client(key='5b3ce3597851110001cf6248fc30f10b77b5410dab564eac271c1b0d') # Specify your personal API key\n",
    "#routes = client.directions(coords)\n",
    "\n",
    "routes = client.directions(coords, optimize_waypoints=True, format='geojson') \n",
    "#optimization requires at least 4 or more coordinates. \n",
    "#Take the entire coords of the city itself\n",
    "\n",
    "print(routes)\n",
    "\n",
    "map_directions = folium.Map(location=[38.961880, -77.006330], zoom_start=15)\n",
    "\n",
    "folium.GeoJson(routes, name='routes').add_to(map_directions)\n",
    "folium.LayerControl().add_to(map_directions)\n",
    "map_directions\n",
    "\n",
    "map_directions.save(outfile = \"File2.html\")"
   ]
  },
  {
   "cell_type": "code",
   "execution_count": 403,
   "id": "60e27e26",
   "metadata": {},
   "outputs": [],
   "source": [
    "df = pd.read_table('tests1/testingMaterial3.txt',header=None,sep=\" \")\n",
    "df1 = df [[1, 3]].copy()\n",
    "col_list = list(df1)\n",
    "\n",
    "col_list[0] = \"lat\"\n",
    "col_list[1] = \"long\"\n",
    "\n",
    "df1.columns = col_list\n",
    "\n",
    "df1[\"D\"] = df1[[\"long\",\"lat\"]].apply(tuple, axis=1)\n",
    "df1.head\n",
    "\n",
    "df2 = df1[[\"D\"]].copy()\n",
    "\n",
    "\n",
    "listnew = []\n",
    "\n",
    "listnew = df2['D'].to_list()\n",
    "\n",
    "map_geocode = folium.Map(location=[38.961880, -77.006330], tiles='cartodbpositron', zoom_start=13)\n",
    "coords = listnew\n",
    " \n",
    "\n",
    "\n",
    "client = ors.Client(key='5b3ce3597851110001cf6248fc30f10b77b5410dab564eac271c1b0d') # Specify your personal API key\n",
    "#routes = client.directions(coords)\n",
    "\n",
    "routes = client.directions(coords, optimize_waypoints=True, format='geojson') \n",
    "#optimization requires at least 4 or more coordinates. \n",
    "#Take the entire coords of the city itself\n",
    "\n",
    "print(routes)\n",
    "\n",
    "map_directions = folium.Map(location=[38.961880, -77.006330], zoom_start=15)\n",
    "\n",
    "folium.GeoJson(routes, name='routes').add_to(map_directions)\n",
    "folium.LayerControl().add_to(map_directions)\n",
    "map_directions\n",
    "\n",
    "map_directions.save(outfile = \"File3.html\")"
   ]
  },
  {
   "cell_type": "code",
   "execution_count": 404,
   "id": "d82b28e3",
   "metadata": {},
   "outputs": [],
   "source": [
    "df = pd.read_table('tests1/testingMaterial4.txt',header=None,sep=\" \")\n",
    "df1 = df [[1, 3]].copy()\n",
    "col_list = list(df1)\n",
    "\n",
    "col_list[0] = \"lat\"\n",
    "col_list[1] = \"long\"\n",
    "\n",
    "df1.columns = col_list\n",
    "\n",
    "df1[\"D\"] = df1[[\"long\",\"lat\"]].apply(tuple, axis=1)\n",
    "df1.head\n",
    "\n",
    "df2 = df1[[\"D\"]].copy()\n",
    "\n",
    "\n",
    "listnew = []\n",
    "\n",
    "listnew = df2['D'].to_list()\n",
    "\n",
    "map_geocode = folium.Map(location=[38.961880, -77.006330], tiles='cartodbpositron', zoom_start=13)\n",
    "coords = listnew\n",
    " \n",
    "\n",
    "\n",
    "client = ors.Client(key='5b3ce3597851110001cf6248fc30f10b77b5410dab564eac271c1b0d') # Specify your personal API key\n",
    "#routes = client.directions(coords)\n",
    "\n",
    "routes = client.directions(coords, optimize_waypoints=True, format='geojson') \n",
    "#optimization requires at least 4 or more coordinates. \n",
    "#Take the entire coords of the city itself\n",
    "\n",
    "print(routes)\n",
    "\n",
    "map_directions = folium.Map(location=[38.961880, -77.006330 ], zoom_start=15)\n",
    "\n",
    "folium.GeoJson(routes, name='routes').add_to(map_directions)\n",
    "folium.LayerControl().add_to(map_directions)\n",
    "map_directions\n",
    "\n",
    "map_directions.save(outfile = \"File4.html\")"
   ]
  },
  {
   "cell_type": "code",
   "execution_count": null,
   "id": "e1a68200",
   "metadata": {},
   "outputs": [],
   "source": []
  },
  {
   "cell_type": "code",
   "execution_count": null,
   "id": "7b35cf56",
   "metadata": {},
   "outputs": [],
   "source": []
  },
  {
   "cell_type": "code",
   "execution_count": null,
   "id": "20b95b97",
   "metadata": {},
   "outputs": [],
   "source": []
  },
  {
   "cell_type": "code",
   "execution_count": 377,
   "id": "b11812ca",
   "metadata": {},
   "outputs": [],
   "source": [
    "df0 = pd.read_table('tests1/testingMaterial0.txt',header=None,sep=\" \")\n",
    "df1 = pd.read_table('tests1/testingMaterial1.txt',header=None,sep=\" \")\n",
    "df2 = pd.read_table('tests1/testingMaterial2.txt',header=None,sep=\" \")\n",
    "df3 = pd.read_table('tests1/testingMaterial3.txt',header=None,sep=\" \")\n",
    "df4 = pd.read_table('tests1/testingMaterial4.txt',header=None,sep=\" \")\n",
    "\n",
    "\n",
    "\n",
    "\n",
    "df01 = df0 [[1, 3]].copy()\n",
    "df11 = df1 [[1, 3]].copy()\n",
    "df21 = df2 [[1, 3]].copy()\n",
    "df31 = df3 [[1, 3]].copy()\n",
    "df41 = df4 [[1, 3]].copy()\n",
    "\n",
    "col_list0 = list(df01)\n",
    "col_list1 = list(df11)\n",
    "col_list2 = list(df21)\n",
    "col_list3 = list(df31)\n",
    "col_list4 = list(df41)\n",
    "\n",
    "col_list0[0] = \"lat\"\n",
    "col_list0[1] = \"long\"\n",
    "\n",
    "col_list1[0] = \"lat\"\n",
    "col_list1[1] = \"long\"\n",
    "\n",
    "col_list2[0] = \"lat\"\n",
    "col_list2[1] = \"long\"\n",
    "\n",
    "col_list3[0] = \"lat\"\n",
    "col_list3[1] = \"long\"\n",
    "\n",
    "col_list4[0] = \"lat\"\n",
    "col_list4[1] = \"long\"\n",
    "\n",
    "df01.columns = col_list0\n",
    "df11.columns = col_list1\n",
    "df21.columns = col_list2\n",
    "df31.columns = col_list3\n",
    "df41.columns = col_list4\n",
    "\n",
    "df01[\"D\"] = df01[[\"long\",\"lat\"]].apply(tuple, axis=1)\n",
    "df11[\"D\"] = df11[[\"long\",\"lat\"]].apply(tuple, axis=1)\n",
    "df21[\"D\"] = df21[[\"long\",\"lat\"]].apply(tuple, axis=1)\n",
    "df31[\"D\"] = df31[[\"long\",\"lat\"]].apply(tuple, axis=1)\n",
    "df41[\"D\"] = df41[[\"long\",\"lat\"]].apply(tuple, axis=1)\n",
    "\n",
    "\n",
    "df20 = df01[[\"D\"]].copy()\n",
    "df21 = df11[[\"D\"]].copy()\n",
    "df22 = df21[[\"D\"]].copy()\n",
    "df23 = df31[[\"D\"]].copy()\n",
    "df24 = df41[[\"D\"]].copy()"
   ]
  },
  {
   "cell_type": "code",
   "execution_count": 379,
   "id": "567ad486",
   "metadata": {},
   "outputs": [],
   "source": [
    "list1 = []\n",
    "\n"
   ]
  },
  {
   "cell_type": "code",
   "execution_count": 386,
   "id": "a047d1d2",
   "metadata": {},
   "outputs": [],
   "source": [
    "list1 = df20['D'].to_list() + df21['D'].to_list() + df22['D'].to_list() + df23['D'].to_list() + df24['D'].to_list()"
   ]
  },
  {
   "cell_type": "code",
   "execution_count": 388,
   "id": "81e1b4ab",
   "metadata": {},
   "outputs": [],
   "source": [
    "finalList = []"
   ]
  },
  {
   "cell_type": "code",
   "execution_count": 389,
   "id": "e6455e04",
   "metadata": {},
   "outputs": [],
   "source": [
    "for i in list1:\n",
    "    if i not in finalList:\n",
    "        finalList.append(i)"
   ]
  },
  {
   "cell_type": "code",
   "execution_count": null,
   "id": "75943ed8",
   "metadata": {},
   "outputs": [],
   "source": []
  },
  {
   "cell_type": "code",
   "execution_count": null,
   "id": "7da9f99b",
   "metadata": {},
   "outputs": [],
   "source": []
  },
  {
   "cell_type": "code",
   "execution_count": null,
   "id": "78e409e4",
   "metadata": {},
   "outputs": [],
   "source": []
  },
  {
   "cell_type": "code",
   "execution_count": null,
   "id": "9118ee50",
   "metadata": {},
   "outputs": [],
   "source": []
  },
  {
   "cell_type": "code",
   "execution_count": null,
   "id": "b3128ec9",
   "metadata": {},
   "outputs": [],
   "source": []
  },
  {
   "cell_type": "code",
   "execution_count": null,
   "id": "bb232db0",
   "metadata": {},
   "outputs": [],
   "source": []
  },
  {
   "cell_type": "code",
   "execution_count": 399,
   "id": "336d8ed8",
   "metadata": {},
   "outputs": [],
   "source": [
    "now = datetime.now()\n",
    "current_time = now.strftime(\"%H:%M:%S\")\n",
    "print(\"Current Time =\", current_time)"
   ]
  },
  {
   "cell_type": "code",
   "execution_count": null,
   "id": "6b466eda",
   "metadata": {},
   "outputs": [],
   "source": []
  },
  {
   "cell_type": "code",
   "execution_count": null,
   "id": "2e6dd922",
   "metadata": {},
   "outputs": [],
   "source": []
  },
  {
   "cell_type": "code",
   "execution_count": null,
   "id": "10847d33",
   "metadata": {},
   "outputs": [],
   "source": []
  },
  {
   "cell_type": "code",
   "execution_count": null,
   "id": "2d76e2b3",
   "metadata": {},
   "outputs": [],
   "source": []
  },
  {
   "cell_type": "code",
   "execution_count": null,
   "id": "e2574dfd",
   "metadata": {},
   "outputs": [],
   "source": []
  },
  {
   "cell_type": "code",
   "execution_count": null,
   "id": "c4a8233f",
   "metadata": {},
   "outputs": [],
   "source": []
  },
  {
   "cell_type": "code",
   "execution_count": null,
   "id": "ae4d57ba",
   "metadata": {},
   "outputs": [],
   "source": []
  },
  {
   "cell_type": "code",
   "execution_count": null,
   "id": "1db0d438",
   "metadata": {},
   "outputs": [],
   "source": []
  },
  {
   "cell_type": "code",
   "execution_count": null,
   "id": "bce60c9b",
   "metadata": {},
   "outputs": [],
   "source": []
  }
 ],
 "metadata": {
  "kernelspec": {
   "display_name": "Python 3 (ipykernel)",
   "language": "python",
   "name": "python3"
  },
  "language_info": {
   "codemirror_mode": {
    "name": "ipython",
    "version": 3
   },
   "file_extension": ".py",
   "mimetype": "text/x-python",
   "name": "python",
   "nbconvert_exporter": "python",
   "pygments_lexer": "ipython3",
   "version": "3.9.7"
  }
 },
 "nbformat": 4,
 "nbformat_minor": 5
}
