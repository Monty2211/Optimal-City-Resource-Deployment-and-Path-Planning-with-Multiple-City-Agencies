{
 "cells": [
  {
   "cell_type": "code",
   "execution_count": 2,
   "id": "e5f6c17f",
   "metadata": {},
   "outputs": [],
   "source": [
    "import folium\n",
    "import openrouteservice as ors\n"
   ]
  },
  {
   "cell_type": "code",
   "execution_count": 5,
   "id": "6e0f1fb2",
   "metadata": {},
   "outputs": [],
   "source": [
    "%matplotlib inline\n",
    "\n",
    "import matplotlib.pyplot as plt\n",
    "import geopandas as gpd\n",
    "import pysal as ps\n"
   ]
  },
  {
   "cell_type": "code",
   "execution_count": 33,
   "id": "47ecf501",
   "metadata": {},
   "outputs": [
    {
     "name": "stdout",
     "output_type": "stream",
     "text": [
      "{'type': 'FeatureCollection', 'features': [{'bbox': [-77.070411, 38.940966, -77.060875, 38.972861], 'type': 'Feature', 'properties': {'segments': [{'distance': 4072.4, 'duration': 378.6, 'steps': [{'distance': 3.9, 'duration': 0.9, 'type': 11, 'instruction': 'Head southwest on 31st Place Northwest', 'name': '31st Place Northwest', 'way_points': [0, 1]}, {'distance': 212.5, 'duration': 51.0, 'type': 6, 'instruction': 'Continue straight onto 31st Place Northwest', 'name': '31st Place Northwest', 'way_points': [1, 7]}, {'distance': 538.2, 'duration': 43.1, 'type': 0, 'instruction': 'Turn left onto Utah Avenue Northwest', 'name': 'Utah Avenue Northwest', 'way_points': [7, 22]}, {'distance': 1479.0, 'duration': 121.8, 'type': 1, 'instruction': 'Turn right onto Nebraska Avenue Northwest', 'name': 'Nebraska Avenue Northwest', 'way_points': [22, 56]}, {'distance': 207.1, 'duration': 22.5, 'type': 0, 'instruction': 'Turn left onto Connecticut Avenue Northwest', 'name': 'Connecticut Avenue Northwest', 'way_points': [56, 65]}, {'distance': 1631.6, 'duration': 139.3, 'type': 6, 'instruction': 'Continue straight onto Connecticut Avenue Northwest', 'name': 'Connecticut Avenue Northwest', 'way_points': [65, 105]}, {'distance': 0.0, 'duration': 0.0, 'type': 10, 'instruction': 'Arrive at Connecticut Avenue Northwest, on the right', 'name': '-', 'way_points': [105, 105]}]}], 'summary': {'distance': 4072.4, 'duration': 378.6}, 'way_points': [0, 105]}, 'geometry': {'coordinates': [[-77.061448, 38.972861], [-77.06148, 38.972836], [-77.061585, 38.972755], [-77.061993, 38.972433], [-77.062792, 38.971807], [-77.063122, 38.971549], [-77.063171, 38.971517], [-77.063225, 38.971492], [-77.062664, 38.970708], [-77.06237, 38.970298], [-77.061989, 38.969766], [-77.061622, 38.969244], [-77.061533, 38.969063], [-77.061473, 38.968875], [-77.061463, 38.968829], [-77.061344, 38.968305], [-77.061325, 38.96822], [-77.061197, 38.967694], [-77.061172, 38.967624], [-77.061167, 38.967611], [-77.061144, 38.967554], [-77.060898, 38.967092], [-77.060875, 38.967061], [-77.060965, 38.967016], [-77.061097, 38.96692], [-77.061126, 38.96689], [-77.061305, 38.966679], [-77.062046, 38.965813], [-77.062218, 38.965611], [-77.062826, 38.964904], [-77.062969, 38.964735], [-77.063603, 38.963992], [-77.063881, 38.963668], [-77.064412, 38.963047], [-77.066064, 38.961154], [-77.066135, 38.961069], [-77.066171, 38.961026], [-77.066238, 38.960941], [-77.066287, 38.960876], [-77.066303, 38.960856], [-77.066611, 38.960484], [-77.066734, 38.960342], [-77.067167, 38.959824], [-77.067198, 38.959787], [-77.067468, 38.959472], [-77.067503, 38.95943], [-77.06754, 38.959387], [-77.067716, 38.959181], [-77.067787, 38.959098], [-77.067886, 38.958983], [-77.068461, 38.958311], [-77.068802, 38.957913], [-77.068839, 38.95788], [-77.069877, 38.956657], [-77.070042, 38.956464], [-77.07009, 38.956408], [-77.070411, 38.956033], [-77.0702, 38.955669], [-77.07016, 38.955602], [-77.070066, 38.95544], [-77.069867, 38.955099], [-77.069785, 38.954959], [-77.069739, 38.954881], [-77.06964, 38.954687], [-77.069494, 38.954448], [-77.069425, 38.954336], [-77.069239, 38.954016], [-77.069143, 38.953852], [-77.069042, 38.953679], [-77.06887, 38.953384], [-77.068825, 38.953308], [-77.068774, 38.95322], [-77.068183, 38.952201], [-77.068123, 38.952096], [-77.067921, 38.951745], [-77.067728, 38.951415], [-77.067325, 38.950726], [-77.066753, 38.94975], [-77.066714, 38.949683], [-77.066676, 38.949618], [-77.066254, 38.948895], [-77.066215, 38.948825], [-77.066182, 38.948767], [-77.066069, 38.948569], [-77.065924, 38.948319], [-77.06589, 38.94826], [-77.065739, 38.948001], [-77.065678, 38.947895], [-77.065632, 38.947814], [-77.065051, 38.946814], [-77.065006, 38.946736], [-77.064973, 38.946678], [-77.064365, 38.94563], [-77.064282, 38.945482], [-77.063774, 38.944624], [-77.063611, 38.944342], [-77.063559, 38.944252], [-77.063524, 38.944191], [-77.062983, 38.943272], [-77.062921, 38.943154], [-77.06287, 38.94307], [-77.062263, 38.942016], [-77.061962, 38.941497], [-77.061723, 38.94109], [-77.061681, 38.941012], [-77.061653, 38.940966]], 'type': 'LineString'}}], 'bbox': [-77.070411, 38.940966, -77.060875, 38.972861], 'metadata': {'attribution': 'openrouteservice.org | OpenStreetMap contributors', 'service': 'routing', 'timestamp': 1631206073091, 'query': {'coordinates': [[-77.06145286560059, 38.97286421371762], [-77.0616888999939, 38.94095244130547]], 'profile': 'driving-car', 'format': 'geojson'}, 'engine': {'version': '6.6.1', 'build_date': '2021-07-05T10:57:48Z', 'graph_date': '2021-08-29T10:11:37Z'}}}\n"
     ]
    },
    {
     "data": {
      "text/html": [
       "<div style=\"width:100%;\"><div style=\"position:relative;width:100%;height:0;padding-bottom:60%;\"><span style=\"color:#565656\">Make this Notebook Trusted to load map: File -> Trust Notebook</span><iframe src=\"about:blank\" style=\"position:absolute;width:100%;height:100%;left:0;top:0;border:none !important;\" data-html=%3C%21DOCTYPE%20html%3E%0A%3Chead%3E%20%20%20%20%0A%20%20%20%20%3Cmeta%20http-equiv%3D%22content-type%22%20content%3D%22text/html%3B%20charset%3DUTF-8%22%20/%3E%0A%20%20%20%20%0A%20%20%20%20%20%20%20%20%3Cscript%3E%0A%20%20%20%20%20%20%20%20%20%20%20%20L_NO_TOUCH%20%3D%20false%3B%0A%20%20%20%20%20%20%20%20%20%20%20%20L_DISABLE_3D%20%3D%20false%3B%0A%20%20%20%20%20%20%20%20%3C/script%3E%0A%20%20%20%20%0A%20%20%20%20%3Cstyle%3Ehtml%2C%20body%20%7Bwidth%3A%20100%25%3Bheight%3A%20100%25%3Bmargin%3A%200%3Bpadding%3A%200%3B%7D%3C/style%3E%0A%20%20%20%20%3Cstyle%3E%23map%20%7Bposition%3Aabsolute%3Btop%3A0%3Bbottom%3A0%3Bright%3A0%3Bleft%3A0%3B%7D%3C/style%3E%0A%20%20%20%20%3Cscript%20src%3D%22https%3A//cdn.jsdelivr.net/npm/leaflet%401.6.0/dist/leaflet.js%22%3E%3C/script%3E%0A%20%20%20%20%3Cscript%20src%3D%22https%3A//code.jquery.com/jquery-1.12.4.min.js%22%3E%3C/script%3E%0A%20%20%20%20%3Cscript%20src%3D%22https%3A//maxcdn.bootstrapcdn.com/bootstrap/3.2.0/js/bootstrap.min.js%22%3E%3C/script%3E%0A%20%20%20%20%3Cscript%20src%3D%22https%3A//cdnjs.cloudflare.com/ajax/libs/Leaflet.awesome-markers/2.0.2/leaflet.awesome-markers.js%22%3E%3C/script%3E%0A%20%20%20%20%3Clink%20rel%3D%22stylesheet%22%20href%3D%22https%3A//cdn.jsdelivr.net/npm/leaflet%401.6.0/dist/leaflet.css%22/%3E%0A%20%20%20%20%3Clink%20rel%3D%22stylesheet%22%20href%3D%22https%3A//maxcdn.bootstrapcdn.com/bootstrap/3.2.0/css/bootstrap.min.css%22/%3E%0A%20%20%20%20%3Clink%20rel%3D%22stylesheet%22%20href%3D%22https%3A//maxcdn.bootstrapcdn.com/bootstrap/3.2.0/css/bootstrap-theme.min.css%22/%3E%0A%20%20%20%20%3Clink%20rel%3D%22stylesheet%22%20href%3D%22https%3A//maxcdn.bootstrapcdn.com/font-awesome/4.6.3/css/font-awesome.min.css%22/%3E%0A%20%20%20%20%3Clink%20rel%3D%22stylesheet%22%20href%3D%22https%3A//cdnjs.cloudflare.com/ajax/libs/Leaflet.awesome-markers/2.0.2/leaflet.awesome-markers.css%22/%3E%0A%20%20%20%20%3Clink%20rel%3D%22stylesheet%22%20href%3D%22https%3A//cdn.jsdelivr.net/gh/python-visualization/folium/folium/templates/leaflet.awesome.rotate.min.css%22/%3E%0A%20%20%20%20%0A%20%20%20%20%20%20%20%20%20%20%20%20%3Cmeta%20name%3D%22viewport%22%20content%3D%22width%3Ddevice-width%2C%0A%20%20%20%20%20%20%20%20%20%20%20%20%20%20%20%20initial-scale%3D1.0%2C%20maximum-scale%3D1.0%2C%20user-scalable%3Dno%22%20/%3E%0A%20%20%20%20%20%20%20%20%20%20%20%20%3Cstyle%3E%0A%20%20%20%20%20%20%20%20%20%20%20%20%20%20%20%20%23map_6557f7c4c750471f855c7511a798632b%20%7B%0A%20%20%20%20%20%20%20%20%20%20%20%20%20%20%20%20%20%20%20%20position%3A%20relative%3B%0A%20%20%20%20%20%20%20%20%20%20%20%20%20%20%20%20%20%20%20%20width%3A%20100.0%25%3B%0A%20%20%20%20%20%20%20%20%20%20%20%20%20%20%20%20%20%20%20%20height%3A%20100.0%25%3B%0A%20%20%20%20%20%20%20%20%20%20%20%20%20%20%20%20%20%20%20%20left%3A%200.0%25%3B%0A%20%20%20%20%20%20%20%20%20%20%20%20%20%20%20%20%20%20%20%20top%3A%200.0%25%3B%0A%20%20%20%20%20%20%20%20%20%20%20%20%20%20%20%20%7D%0A%20%20%20%20%20%20%20%20%20%20%20%20%3C/style%3E%0A%20%20%20%20%20%20%20%20%0A%3C/head%3E%0A%3Cbody%3E%20%20%20%20%0A%20%20%20%20%0A%20%20%20%20%20%20%20%20%20%20%20%20%3Cdiv%20class%3D%22folium-map%22%20id%3D%22map_6557f7c4c750471f855c7511a798632b%22%20%3E%3C/div%3E%0A%20%20%20%20%20%20%20%20%0A%3C/body%3E%0A%3Cscript%3E%20%20%20%20%0A%20%20%20%20%0A%20%20%20%20%20%20%20%20%20%20%20%20var%20map_6557f7c4c750471f855c7511a798632b%20%3D%20L.map%28%0A%20%20%20%20%20%20%20%20%20%20%20%20%20%20%20%20%22map_6557f7c4c750471f855c7511a798632b%22%2C%0A%20%20%20%20%20%20%20%20%20%20%20%20%20%20%20%20%7B%0A%20%20%20%20%20%20%20%20%20%20%20%20%20%20%20%20%20%20%20%20center%3A%20%5B38.93254453117472%2C%20-77.07254111766814%5D%2C%0A%20%20%20%20%20%20%20%20%20%20%20%20%20%20%20%20%20%20%20%20crs%3A%20L.CRS.EPSG3857%2C%0A%20%20%20%20%20%20%20%20%20%20%20%20%20%20%20%20%20%20%20%20zoom%3A%2015%2C%0A%20%20%20%20%20%20%20%20%20%20%20%20%20%20%20%20%20%20%20%20zoomControl%3A%20true%2C%0A%20%20%20%20%20%20%20%20%20%20%20%20%20%20%20%20%20%20%20%20preferCanvas%3A%20false%2C%0A%20%20%20%20%20%20%20%20%20%20%20%20%20%20%20%20%7D%0A%20%20%20%20%20%20%20%20%20%20%20%20%29%3B%0A%0A%20%20%20%20%20%20%20%20%20%20%20%20%0A%0A%20%20%20%20%20%20%20%20%0A%20%20%20%20%0A%20%20%20%20%20%20%20%20%20%20%20%20var%20tile_layer_559bb48d808941e9a1fe3035fa9d27d2%20%3D%20L.tileLayer%28%0A%20%20%20%20%20%20%20%20%20%20%20%20%20%20%20%20%22https%3A//%7Bs%7D.tile.openstreetmap.org/%7Bz%7D/%7Bx%7D/%7By%7D.png%22%2C%0A%20%20%20%20%20%20%20%20%20%20%20%20%20%20%20%20%7B%22attribution%22%3A%20%22Data%20by%20%5Cu0026copy%3B%20%5Cu003ca%20href%3D%5C%22http%3A//openstreetmap.org%5C%22%5Cu003eOpenStreetMap%5Cu003c/a%5Cu003e%2C%20under%20%5Cu003ca%20href%3D%5C%22http%3A//www.openstreetmap.org/copyright%5C%22%5Cu003eODbL%5Cu003c/a%5Cu003e.%22%2C%20%22detectRetina%22%3A%20false%2C%20%22maxNativeZoom%22%3A%2018%2C%20%22maxZoom%22%3A%2018%2C%20%22minZoom%22%3A%200%2C%20%22noWrap%22%3A%20false%2C%20%22opacity%22%3A%201%2C%20%22subdomains%22%3A%20%22abc%22%2C%20%22tms%22%3A%20false%7D%0A%20%20%20%20%20%20%20%20%20%20%20%20%29.addTo%28map_6557f7c4c750471f855c7511a798632b%29%3B%0A%20%20%20%20%20%20%20%20%0A%20%20%20%20%0A%0A%20%20%20%20%20%20%20%20function%20geo_json_0294035006314e82b95f3f139c4baad2_onEachFeature%28feature%2C%20layer%29%20%7B%0A%20%20%20%20%20%20%20%20%20%20%20%20layer.on%28%7B%0A%20%20%20%20%20%20%20%20%20%20%20%20%7D%29%3B%0A%20%20%20%20%20%20%20%20%7D%3B%0A%20%20%20%20%20%20%20%20var%20geo_json_0294035006314e82b95f3f139c4baad2%20%3D%20L.geoJson%28null%2C%20%7B%0A%20%20%20%20%20%20%20%20%20%20%20%20%20%20%20%20onEachFeature%3A%20geo_json_0294035006314e82b95f3f139c4baad2_onEachFeature%2C%0A%20%20%20%20%20%20%20%20%20%20%20%20%0A%20%20%20%20%20%20%20%20%7D%29%3B%0A%0A%20%20%20%20%20%20%20%20function%20geo_json_0294035006314e82b95f3f139c4baad2_add%20%28data%29%20%7B%0A%20%20%20%20%20%20%20%20%20%20%20%20geo_json_0294035006314e82b95f3f139c4baad2%0A%20%20%20%20%20%20%20%20%20%20%20%20%20%20%20%20.addData%28data%29%0A%20%20%20%20%20%20%20%20%20%20%20%20%20%20%20%20.addTo%28map_6557f7c4c750471f855c7511a798632b%29%3B%0A%20%20%20%20%20%20%20%20%7D%0A%20%20%20%20%20%20%20%20%20%20%20%20geo_json_0294035006314e82b95f3f139c4baad2_add%28%7B%22bbox%22%3A%20%5B-77.070411%2C%2038.940966%2C%20-77.060875%2C%2038.972861%5D%2C%20%22features%22%3A%20%5B%7B%22bbox%22%3A%20%5B-77.070411%2C%2038.940966%2C%20-77.060875%2C%2038.972861%5D%2C%20%22geometry%22%3A%20%7B%22coordinates%22%3A%20%5B%5B-77.061448%2C%2038.972861%5D%2C%20%5B-77.06148%2C%2038.972836%5D%2C%20%5B-77.061585%2C%2038.972755%5D%2C%20%5B-77.061993%2C%2038.972433%5D%2C%20%5B-77.062792%2C%2038.971807%5D%2C%20%5B-77.063122%2C%2038.971549%5D%2C%20%5B-77.063171%2C%2038.971517%5D%2C%20%5B-77.063225%2C%2038.971492%5D%2C%20%5B-77.062664%2C%2038.970708%5D%2C%20%5B-77.06237%2C%2038.970298%5D%2C%20%5B-77.061989%2C%2038.969766%5D%2C%20%5B-77.061622%2C%2038.969244%5D%2C%20%5B-77.061533%2C%2038.969063%5D%2C%20%5B-77.061473%2C%2038.968875%5D%2C%20%5B-77.061463%2C%2038.968829%5D%2C%20%5B-77.061344%2C%2038.968305%5D%2C%20%5B-77.061325%2C%2038.96822%5D%2C%20%5B-77.061197%2C%2038.967694%5D%2C%20%5B-77.061172%2C%2038.967624%5D%2C%20%5B-77.061167%2C%2038.967611%5D%2C%20%5B-77.061144%2C%2038.967554%5D%2C%20%5B-77.060898%2C%2038.967092%5D%2C%20%5B-77.060875%2C%2038.967061%5D%2C%20%5B-77.060965%2C%2038.967016%5D%2C%20%5B-77.061097%2C%2038.96692%5D%2C%20%5B-77.061126%2C%2038.96689%5D%2C%20%5B-77.061305%2C%2038.966679%5D%2C%20%5B-77.062046%2C%2038.965813%5D%2C%20%5B-77.062218%2C%2038.965611%5D%2C%20%5B-77.062826%2C%2038.964904%5D%2C%20%5B-77.062969%2C%2038.964735%5D%2C%20%5B-77.063603%2C%2038.963992%5D%2C%20%5B-77.063881%2C%2038.963668%5D%2C%20%5B-77.064412%2C%2038.963047%5D%2C%20%5B-77.066064%2C%2038.961154%5D%2C%20%5B-77.066135%2C%2038.961069%5D%2C%20%5B-77.066171%2C%2038.961026%5D%2C%20%5B-77.066238%2C%2038.960941%5D%2C%20%5B-77.066287%2C%2038.960876%5D%2C%20%5B-77.066303%2C%2038.960856%5D%2C%20%5B-77.066611%2C%2038.960484%5D%2C%20%5B-77.066734%2C%2038.960342%5D%2C%20%5B-77.067167%2C%2038.959824%5D%2C%20%5B-77.067198%2C%2038.959787%5D%2C%20%5B-77.067468%2C%2038.959472%5D%2C%20%5B-77.067503%2C%2038.95943%5D%2C%20%5B-77.06754%2C%2038.959387%5D%2C%20%5B-77.067716%2C%2038.959181%5D%2C%20%5B-77.067787%2C%2038.959098%5D%2C%20%5B-77.067886%2C%2038.958983%5D%2C%20%5B-77.068461%2C%2038.958311%5D%2C%20%5B-77.068802%2C%2038.957913%5D%2C%20%5B-77.068839%2C%2038.95788%5D%2C%20%5B-77.069877%2C%2038.956657%5D%2C%20%5B-77.070042%2C%2038.956464%5D%2C%20%5B-77.07009%2C%2038.956408%5D%2C%20%5B-77.070411%2C%2038.956033%5D%2C%20%5B-77.0702%2C%2038.955669%5D%2C%20%5B-77.07016%2C%2038.955602%5D%2C%20%5B-77.070066%2C%2038.95544%5D%2C%20%5B-77.069867%2C%2038.955099%5D%2C%20%5B-77.069785%2C%2038.954959%5D%2C%20%5B-77.069739%2C%2038.954881%5D%2C%20%5B-77.06964%2C%2038.954687%5D%2C%20%5B-77.069494%2C%2038.954448%5D%2C%20%5B-77.069425%2C%2038.954336%5D%2C%20%5B-77.069239%2C%2038.954016%5D%2C%20%5B-77.069143%2C%2038.953852%5D%2C%20%5B-77.069042%2C%2038.953679%5D%2C%20%5B-77.06887%2C%2038.953384%5D%2C%20%5B-77.068825%2C%2038.953308%5D%2C%20%5B-77.068774%2C%2038.95322%5D%2C%20%5B-77.068183%2C%2038.952201%5D%2C%20%5B-77.068123%2C%2038.952096%5D%2C%20%5B-77.067921%2C%2038.951745%5D%2C%20%5B-77.067728%2C%2038.951415%5D%2C%20%5B-77.067325%2C%2038.950726%5D%2C%20%5B-77.066753%2C%2038.94975%5D%2C%20%5B-77.066714%2C%2038.949683%5D%2C%20%5B-77.066676%2C%2038.949618%5D%2C%20%5B-77.066254%2C%2038.948895%5D%2C%20%5B-77.066215%2C%2038.948825%5D%2C%20%5B-77.066182%2C%2038.948767%5D%2C%20%5B-77.066069%2C%2038.948569%5D%2C%20%5B-77.065924%2C%2038.948319%5D%2C%20%5B-77.06589%2C%2038.94826%5D%2C%20%5B-77.065739%2C%2038.948001%5D%2C%20%5B-77.065678%2C%2038.947895%5D%2C%20%5B-77.065632%2C%2038.947814%5D%2C%20%5B-77.065051%2C%2038.946814%5D%2C%20%5B-77.065006%2C%2038.946736%5D%2C%20%5B-77.064973%2C%2038.946678%5D%2C%20%5B-77.064365%2C%2038.94563%5D%2C%20%5B-77.064282%2C%2038.945482%5D%2C%20%5B-77.063774%2C%2038.944624%5D%2C%20%5B-77.063611%2C%2038.944342%5D%2C%20%5B-77.063559%2C%2038.944252%5D%2C%20%5B-77.063524%2C%2038.944191%5D%2C%20%5B-77.062983%2C%2038.943272%5D%2C%20%5B-77.062921%2C%2038.943154%5D%2C%20%5B-77.06287%2C%2038.94307%5D%2C%20%5B-77.062263%2C%2038.942016%5D%2C%20%5B-77.061962%2C%2038.941497%5D%2C%20%5B-77.061723%2C%2038.94109%5D%2C%20%5B-77.061681%2C%2038.941012%5D%2C%20%5B-77.061653%2C%2038.940966%5D%5D%2C%20%22type%22%3A%20%22LineString%22%7D%2C%20%22properties%22%3A%20%7B%22segments%22%3A%20%5B%7B%22distance%22%3A%204072.4%2C%20%22duration%22%3A%20378.6%2C%20%22steps%22%3A%20%5B%7B%22distance%22%3A%203.9%2C%20%22duration%22%3A%200.9%2C%20%22instruction%22%3A%20%22Head%20southwest%20on%2031st%20Place%20Northwest%22%2C%20%22name%22%3A%20%2231st%20Place%20Northwest%22%2C%20%22type%22%3A%2011%2C%20%22way_points%22%3A%20%5B0%2C%201%5D%7D%2C%20%7B%22distance%22%3A%20212.5%2C%20%22duration%22%3A%2051.0%2C%20%22instruction%22%3A%20%22Continue%20straight%20onto%2031st%20Place%20Northwest%22%2C%20%22name%22%3A%20%2231st%20Place%20Northwest%22%2C%20%22type%22%3A%206%2C%20%22way_points%22%3A%20%5B1%2C%207%5D%7D%2C%20%7B%22distance%22%3A%20538.2%2C%20%22duration%22%3A%2043.1%2C%20%22instruction%22%3A%20%22Turn%20left%20onto%20Utah%20Avenue%20Northwest%22%2C%20%22name%22%3A%20%22Utah%20Avenue%20Northwest%22%2C%20%22type%22%3A%200%2C%20%22way_points%22%3A%20%5B7%2C%2022%5D%7D%2C%20%7B%22distance%22%3A%201479.0%2C%20%22duration%22%3A%20121.8%2C%20%22instruction%22%3A%20%22Turn%20right%20onto%20Nebraska%20Avenue%20Northwest%22%2C%20%22name%22%3A%20%22Nebraska%20Avenue%20Northwest%22%2C%20%22type%22%3A%201%2C%20%22way_points%22%3A%20%5B22%2C%2056%5D%7D%2C%20%7B%22distance%22%3A%20207.1%2C%20%22duration%22%3A%2022.5%2C%20%22instruction%22%3A%20%22Turn%20left%20onto%20Connecticut%20Avenue%20Northwest%22%2C%20%22name%22%3A%20%22Connecticut%20Avenue%20Northwest%22%2C%20%22type%22%3A%200%2C%20%22way_points%22%3A%20%5B56%2C%2065%5D%7D%2C%20%7B%22distance%22%3A%201631.6%2C%20%22duration%22%3A%20139.3%2C%20%22instruction%22%3A%20%22Continue%20straight%20onto%20Connecticut%20Avenue%20Northwest%22%2C%20%22name%22%3A%20%22Connecticut%20Avenue%20Northwest%22%2C%20%22type%22%3A%206%2C%20%22way_points%22%3A%20%5B65%2C%20105%5D%7D%2C%20%7B%22distance%22%3A%200.0%2C%20%22duration%22%3A%200.0%2C%20%22instruction%22%3A%20%22Arrive%20at%20Connecticut%20Avenue%20Northwest%2C%20on%20the%20right%22%2C%20%22name%22%3A%20%22-%22%2C%20%22type%22%3A%2010%2C%20%22way_points%22%3A%20%5B105%2C%20105%5D%7D%5D%7D%5D%2C%20%22summary%22%3A%20%7B%22distance%22%3A%204072.4%2C%20%22duration%22%3A%20378.6%7D%2C%20%22way_points%22%3A%20%5B0%2C%20105%5D%7D%2C%20%22type%22%3A%20%22Feature%22%7D%5D%2C%20%22metadata%22%3A%20%7B%22attribution%22%3A%20%22openrouteservice.org%20%7C%20OpenStreetMap%20contributors%22%2C%20%22engine%22%3A%20%7B%22build_date%22%3A%20%222021-07-05T10%3A57%3A48Z%22%2C%20%22graph_date%22%3A%20%222021-08-29T10%3A11%3A37Z%22%2C%20%22version%22%3A%20%226.6.1%22%7D%2C%20%22query%22%3A%20%7B%22coordinates%22%3A%20%5B%5B-77.06145286560059%2C%2038.97286421371762%5D%2C%20%5B-77.0616888999939%2C%2038.94095244130547%5D%5D%2C%20%22format%22%3A%20%22geojson%22%2C%20%22profile%22%3A%20%22driving-car%22%7D%2C%20%22service%22%3A%20%22routing%22%2C%20%22timestamp%22%3A%201631206073091%7D%2C%20%22type%22%3A%20%22FeatureCollection%22%7D%29%3B%0A%0A%20%20%20%20%20%20%20%20%0A%20%20%20%20%0A%20%20%20%20%20%20%20%20%20%20%20%20var%20layer_control_f12c0fed3db845dc9a0055af286b66c2%20%3D%20%7B%0A%20%20%20%20%20%20%20%20%20%20%20%20%20%20%20%20base_layers%20%3A%20%7B%0A%20%20%20%20%20%20%20%20%20%20%20%20%20%20%20%20%20%20%20%20%22openstreetmap%22%20%3A%20tile_layer_559bb48d808941e9a1fe3035fa9d27d2%2C%0A%20%20%20%20%20%20%20%20%20%20%20%20%20%20%20%20%7D%2C%0A%20%20%20%20%20%20%20%20%20%20%20%20%20%20%20%20overlays%20%3A%20%20%7B%0A%20%20%20%20%20%20%20%20%20%20%20%20%20%20%20%20%20%20%20%20%22routes%22%20%3A%20geo_json_0294035006314e82b95f3f139c4baad2%2C%0A%20%20%20%20%20%20%20%20%20%20%20%20%20%20%20%20%7D%2C%0A%20%20%20%20%20%20%20%20%20%20%20%20%7D%3B%0A%20%20%20%20%20%20%20%20%20%20%20%20L.control.layers%28%0A%20%20%20%20%20%20%20%20%20%20%20%20%20%20%20%20layer_control_f12c0fed3db845dc9a0055af286b66c2.base_layers%2C%0A%20%20%20%20%20%20%20%20%20%20%20%20%20%20%20%20layer_control_f12c0fed3db845dc9a0055af286b66c2.overlays%2C%0A%20%20%20%20%20%20%20%20%20%20%20%20%20%20%20%20%7B%22autoZIndex%22%3A%20true%2C%20%22collapsed%22%3A%20true%2C%20%22position%22%3A%20%22topright%22%7D%0A%20%20%20%20%20%20%20%20%20%20%20%20%29.addTo%28map_6557f7c4c750471f855c7511a798632b%29%3B%0A%20%20%20%20%20%20%20%20%0A%3C/script%3E onload=\"this.contentDocument.open();this.contentDocument.write(    decodeURIComponent(this.getAttribute('data-html')));this.contentDocument.close();\" allowfullscreen webkitallowfullscreen mozallowfullscreen></iframe></div></div>"
      ],
      "text/plain": [
       "<folium.folium.Map at 0x120feb8ec10>"
      ]
     },
     "execution_count": 33,
     "metadata": {},
     "output_type": "execute_result"
    }
   ],
   "source": [
    "map_geocode = folium.Map(location=[38.97286421371762, -77.06145286560059], tiles='cartodbpositron', zoom_start=13)\n",
    "coords = [\n",
    "     \n",
    "    \n",
    "    \n",
    "    \n",
    "    [\n",
    "            -77.06145286560059,\n",
    "            38.97286421371762\n",
    "          ],\n",
    "          [\n",
    "            -77.0608788728714,\n",
    "            38.967058592160974\n",
    "          ],\n",
    "          [\n",
    "            -77.05748319625854,\n",
    "            38.961027248630586\n",
    "          ],\n",
    "          [\n",
    "            -77.06758975982666,\n",
    "            38.95940879245423\n",
    "          ],\n",
    "          [\n",
    "            -77.0616888999939,\n",
    "            38.94095244130547\n",
    "          ]\n",
    "    \n",
    "#     (-77.07254111766814, 38.93254453117472),\n",
    "#     (-77.07087814807892, 38.93348342914227)\n",
    "\n",
    "]\n",
    "\n",
    "client = ors.Client(key='5b3ce3597851110001cf6248fc30f10b77b5410dab564eac271c1b0d') # Specify your personal API key\n",
    "#routes = client.directions(coords)\n",
    "\n",
    "routes = client.directions(coords, optimize_waypoints=True, format='geojson') \n",
    "#optimization requires at least 4 or more coordinates. \n",
    "#Take the entire coords of the city itself.\n",
    "\n",
    "print(routes)\n",
    "\n",
    "map_directions = folium.Map(location=[38.93254453117472, -77.07254111766814 ], zoom_start=15)\n",
    "\n",
    "folium.GeoJson(routes, name='routes').add_to(map_directions)\n",
    "folium.LayerControl().add_to(map_directions)\n",
    "map_directions\n"
   ]
  },
  {
   "cell_type": "code",
   "execution_count": 29,
   "id": "e6e5d966",
   "metadata": {},
   "outputs": [
    {
     "name": "stdout",
     "output_type": "stream",
     "text": [
      "0.4691972421 miles\n",
      "0.026416687799999998 hours\n",
      "\n"
     ]
    }
   ],
   "source": [
    "# distance and duration\n",
    "print(routes['features'][0]['properties']['segments'][0]['distance']*0.000621371, 'miles')\n",
    "print(routes['features'][0]['properties']['segments'][0]['duration']*0.000277778, 'hours\\n')\n",
    "\n"
   ]
  },
  {
   "cell_type": "code",
   "execution_count": 34,
   "id": "0b5312f5",
   "metadata": {},
   "outputs": [
    {
     "name": "stdout",
     "output_type": "stream",
     "text": [
      "2.5304712604 miles\n",
      "0.10516675080000001 hours\n",
      "\n"
     ]
    }
   ],
   "source": [
    "# distance and duration\n",
    "print(routes['features'][0]['properties']['segments'][0]['distance']*0.000621371, 'miles')\n",
    "print(routes['features'][0]['properties']['segments'][0]['duration']*0.000277778, 'hours\\n')\n",
    "\n"
   ]
  },
  {
   "cell_type": "code",
   "execution_count": null,
   "id": "e07529bf",
   "metadata": {},
   "outputs": [],
   "source": []
  }
 ],
 "metadata": {
  "kernelspec": {
   "display_name": "Python 3 (ipykernel)",
   "language": "python",
   "name": "python3"
  },
  "language_info": {
   "codemirror_mode": {
    "name": "ipython",
    "version": 3
   },
   "file_extension": ".py",
   "mimetype": "text/x-python",
   "name": "python",
   "nbconvert_exporter": "python",
   "pygments_lexer": "ipython3",
   "version": "3.8.11"
  }
 },
 "nbformat": 4,
 "nbformat_minor": 5
}
