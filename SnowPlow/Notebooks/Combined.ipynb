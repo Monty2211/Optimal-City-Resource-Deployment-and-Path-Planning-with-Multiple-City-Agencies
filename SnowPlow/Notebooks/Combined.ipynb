{
 "cells": [
  {
   "cell_type": "code",
   "execution_count": 1,
   "id": "856f5de3",
   "metadata": {},
   "outputs": [
    {
     "name": "stdout",
     "output_type": "stream",
     "text": [
      "1.1.1\n",
      "0.9.6\n"
     ]
    },
    {
     "data": {
      "image/png": "[encoded data removed]",
      "text/plain": [
       "<Figure size 432x288 with 1 Axes>"
      ]
     },
     "metadata": {
      "needs_background": "light"
     },
     "output_type": "display_data"
    }
   ],
   "source": [
    "import folium\n",
    "import openrouteservice as ors\n",
    "import sys\n",
    "import heapq\n",
    "import random, math\n",
    "\n",
    "%matplotlib inline\n",
    "\n",
    "import matplotlib.pyplot as plt\n",
    "import geopandas as gpd\n",
    "import pysal as ps\n",
    "\n",
    "\n",
    "import pandas as pd\n",
    "import osmnx as ox\n",
    "city = ox.geocode_to_gdf('Washington, D.C.')\n",
    "ax = ox.project_gdf(city).plot()\n",
    "_ = ax.axis('off')\n",
    "\n",
    "\n",
    "import geopandas as gpd\n",
    "from shapely.geometry import Point, Polygon\n",
    "import pandas as pd\n",
    "\n",
    "import networkx as nx\n",
    "\n",
    "import igraph as ig\n",
    "print(ox.__version__)\n",
    "print(ig.__version__)\n",
    "\n",
    "weight = \"length\"\n",
    "\n",
    "\n",
    "import numpy\n",
    "from scipy.spatial.distance import pdist\n",
    "from scipy.spatial.distance import squareform \n"
   ]
  },
  {
   "cell_type": "code",
   "execution_count": 2,
   "id": "0032e17a",
   "metadata": {},
   "outputs": [
    {
     "data": {
      "text/html": [
       "<div>\n",
       "<style scoped>\n",
       "    .dataframe tbody tr th:only-of-type {\n",
       "        vertical-align: middle;\n",
       "    }\n",
       "\n",
       "    .dataframe tbody tr th {\n",
       "        vertical-align: top;\n",
       "    }\n",
       "\n",
       "    .dataframe thead th {\n",
       "        text-align: right;\n",
       "    }\n",
       "</style>\n",
       "<table border=\"1\" class=\"dataframe\">\n",
       "  <thead>\n",
       "    <tr style=\"text-align: right;\">\n",
       "      <th></th>\n",
       "      <th>Name</th>\n",
       "      <th>Description</th>\n",
       "      <th>geometry</th>\n",
       "    </tr>\n",
       "  </thead>\n",
       "  <tbody>\n",
       "    <tr>\n",
       "      <th>0</th>\n",
       "      <td></td>\n",
       "      <td></td>\n",
       "      <td>POLYGON ((-77.00884 38.95484, -77.00866 38.954...</td>\n",
       "    </tr>\n",
       "    <tr>\n",
       "      <th>1</th>\n",
       "      <td></td>\n",
       "      <td></td>\n",
       "      <td>POLYGON ((-76.98949 38.94730, -76.98932 38.947...</td>\n",
       "    </tr>\n",
       "    <tr>\n",
       "      <th>2</th>\n",
       "      <td></td>\n",
       "      <td></td>\n",
       "      <td>POLYGON ((-77.00868 38.94796, -77.00870 38.948...</td>\n",
       "    </tr>\n",
       "    <tr>\n",
       "      <th>3</th>\n",
       "      <td></td>\n",
       "      <td></td>\n",
       "      <td>POLYGON ((-77.00595 38.95549, -77.00611 38.955...</td>\n",
       "    </tr>\n",
       "    <tr>\n",
       "      <th>4</th>\n",
       "      <td></td>\n",
       "      <td></td>\n",
       "      <td>POLYGON ((-76.98145 38.94078, -76.98165 38.940...</td>\n",
       "    </tr>\n",
       "    <tr>\n",
       "      <th>...</th>\n",
       "      <td>...</td>\n",
       "      <td>...</td>\n",
       "      <td>...</td>\n",
       "    </tr>\n",
       "    <tr>\n",
       "      <th>77</th>\n",
       "      <td></td>\n",
       "      <td></td>\n",
       "      <td>POLYGON ((-77.02132 38.94811, -77.02107 38.948...</td>\n",
       "    </tr>\n",
       "    <tr>\n",
       "      <th>78</th>\n",
       "      <td></td>\n",
       "      <td></td>\n",
       "      <td>POLYGON ((-77.02270 38.94625, -77.02283 38.946...</td>\n",
       "    </tr>\n",
       "    <tr>\n",
       "      <th>79</th>\n",
       "      <td></td>\n",
       "      <td></td>\n",
       "      <td>POLYGON ((-77.03779 38.93769, -77.03771 38.937...</td>\n",
       "    </tr>\n",
       "    <tr>\n",
       "      <th>80</th>\n",
       "      <td></td>\n",
       "      <td></td>\n",
       "      <td>POLYGON ((-76.98398 38.87971, -76.98427 38.879...</td>\n",
       "    </tr>\n",
       "    <tr>\n",
       "      <th>81</th>\n",
       "      <td></td>\n",
       "      <td></td>\n",
       "      <td>POLYGON ((-77.00352 38.88763, -77.00398 38.887...</td>\n",
       "    </tr>\n",
       "  </tbody>\n",
       "</table>\n",
       "<p>82 rows × 3 columns</p>\n",
       "</div>"
      ],
      "text/plain": [
       "   Name Description                                           geometry\n",
       "0                    POLYGON ((-77.00884 38.95484, -77.00866 38.954...\n",
       "1                    POLYGON ((-76.98949 38.94730, -76.98932 38.947...\n",
       "2                    POLYGON ((-77.00868 38.94796, -77.00870 38.948...\n",
       "3                    POLYGON ((-77.00595 38.95549, -77.00611 38.955...\n",
       "4                    POLYGON ((-76.98145 38.94078, -76.98165 38.940...\n",
       "..  ...         ...                                                ...\n",
       "77                   POLYGON ((-77.02132 38.94811, -77.02107 38.948...\n",
       "78                   POLYGON ((-77.02270 38.94625, -77.02283 38.946...\n",
       "79                   POLYGON ((-77.03779 38.93769, -77.03771 38.937...\n",
       "80                   POLYGON ((-76.98398 38.87971, -76.98427 38.879...\n",
       "81                   POLYGON ((-77.00352 38.88763, -77.00398 38.887...\n",
       "\n",
       "[82 rows x 3 columns]"
      ]
     },
     "execution_count": 2,
     "metadata": {},
     "output_type": "execute_result"
    }
   ],
   "source": [
    "gpd.io.file.fiona.drvsupport.supported_drivers['KML'] = 'rw'\n",
    "my_map = gpd.read_file('Snow_Removal_Areas.kml', driver='KML')\n",
    "my_map"
   ]
  },
  {
   "cell_type": "code",
   "execution_count": 3,
   "id": "84c8aaa3",
   "metadata": {},
   "outputs": [],
   "source": [
    "polys = []\n",
    "coordinates = []"
   ]
  },
  {
   "cell_type": "code",
   "execution_count": 4,
   "id": "bdb402e2",
   "metadata": {},
   "outputs": [],
   "source": [
    "for i in range( len(my_map)):\n",
    "    polys.append(my_map.iloc[i])\n",
    "    coordinates.append(polys[i][2])"
   ]
  },
  {
   "cell_type": "code",
   "execution_count": 5,
   "id": "99528c13",
   "metadata": {},
   "outputs": [],
   "source": [
    "Graphs = []"
   ]
  },
  {
   "cell_type": "code",
   "execution_count": 6,
   "id": "82c7b98b",
   "metadata": {},
   "outputs": [
    {
     "name": "stdout",
     "output_type": "stream",
     "text": [
      "Current Time = 20:31:07\n"
     ]
    }
   ],
   "source": [
    "from datetime import datetime\n",
    "\n",
    "now = datetime.now()\n",
    "\n",
    "current_time = now.strftime(\"%H:%M:%S\")\n",
    "print(\"Current Time =\", current_time)"
   ]
  },
  {
   "cell_type": "code",
   "execution_count": 7,
   "id": "182e80d6",
   "metadata": {},
   "outputs": [],
   "source": [
    "for i in range(len(coordinates)):\n",
    "    Graphs.append(ox.graph_from_polygon(coordinates[i], network_type=\"drive\",\n",
    "                            simplify=True, retain_all=True, truncate_by_edge=True, \n",
    "                            clean_periphery=True, custom_filter=None))"
   ]
  },
  {
   "cell_type": "code",
   "execution_count": 8,
   "id": "2c3a51a6",
   "metadata": {},
   "outputs": [
    {
     "name": "stdout",
     "output_type": "stream",
     "text": [
      "Current Time = 20:33:12\n"
     ]
    }
   ],
   "source": [
    "now = datetime.now()\n",
    "current_time = now.strftime(\"%H:%M:%S\")\n",
    "print(\"Current Time =\", current_time)"
   ]
  },
  {
   "cell_type": "code",
   "execution_count": 9,
   "id": "95ec0369",
   "metadata": {},
   "outputs": [],
   "source": [
    "denseGraphs1 = []"
   ]
  },
  {
   "cell_type": "code",
   "execution_count": 10,
   "id": "65823591",
   "metadata": {},
   "outputs": [],
   "source": [
    "Graphs2 = []"
   ]
  },
  {
   "cell_type": "code",
   "execution_count": 11,
   "id": "cfccdb93",
   "metadata": {},
   "outputs": [],
   "source": [
    "Graphs2 = Graphs.copy()"
   ]
  },
  {
   "cell_type": "code",
   "execution_count": 12,
   "id": "ba76c5e8",
   "metadata": {},
   "outputs": [
    {
     "name": "stdout",
     "output_type": "stream",
     "text": [
      "Current Time = 20:33:12\n"
     ]
    }
   ],
   "source": [
    "now = datetime.now()\n",
    "current_time = now.strftime(\"%H:%M:%S\")\n",
    "print(\"Current Time =\", current_time)"
   ]
  },
  {
   "cell_type": "code",
   "execution_count": 13,
   "id": "353c308d",
   "metadata": {},
   "outputs": [],
   "source": [
    "for i in range(len(Graphs)):\n",
    "    G_proj = ox.project_graph(Graphs[i])\n",
    "    dense = ox.consolidate_intersections(G_proj, rebuild_graph=False, tolerance=15, dead_ends=False)\n",
    "    denseGraphs1.append(dense)\n",
    "    "
   ]
  },
  {
   "cell_type": "code",
   "execution_count": 14,
   "id": "47053910",
   "metadata": {},
   "outputs": [
    {
     "name": "stdout",
     "output_type": "stream",
     "text": [
      "Current Time = 20:33:45\n"
     ]
    }
   ],
   "source": [
    "now = datetime.now()\n",
    "current_time = now.strftime(\"%H:%M:%S\")\n",
    "print(\"Current Time =\", current_time)"
   ]
  },
  {
   "cell_type": "code",
   "execution_count": 15,
   "id": "894b2229",
   "metadata": {},
   "outputs": [],
   "source": [
    "nxGraphs = []"
   ]
  },
  {
   "cell_type": "code",
   "execution_count": 16,
   "id": "098196b8",
   "metadata": {},
   "outputs": [],
   "source": [
    "denseGraphs = denseGraphs1"
   ]
  },
  {
   "cell_type": "code",
   "execution_count": 17,
   "id": "c310c184",
   "metadata": {},
   "outputs": [],
   "source": [
    "idenseGraphs = []"
   ]
  },
  {
   "cell_type": "code",
   "execution_count": 18,
   "id": "a82a1115",
   "metadata": {},
   "outputs": [
    {
     "name": "stdout",
     "output_type": "stream",
     "text": [
      "Current Time = 20:33:45\n"
     ]
    }
   ],
   "source": [
    "now = datetime.now()\n",
    "current_time = now.strftime(\"%H:%M:%S\")\n",
    "print(\"Current Time =\", current_time)"
   ]
  },
  {
   "cell_type": "code",
   "execution_count": 19,
   "id": "412fc33c",
   "metadata": {},
   "outputs": [],
   "source": [
    "for i in range(len(Graphs)):\n",
    "    osmids = list(Graphs[i].nodes)\n",
    "    Graphs[i] = nx.relabel.convert_node_labels_to_integers(Graphs[i])\n",
    "    osmid_values = {k: v for k, v in zip(Graphs[i].nodes, osmids)}\n",
    "    nx.set_node_attributes(Graphs[i], osmid_values, \"osmid\")"
   ]
  },
  {
   "cell_type": "code",
   "execution_count": 20,
   "id": "a820a639",
   "metadata": {},
   "outputs": [],
   "source": [
    "numberOfAreas = len(Graphs)"
   ]
  },
  {
   "cell_type": "code",
   "execution_count": 21,
   "id": "7b5133b3",
   "metadata": {},
   "outputs": [
    {
     "data": {
      "text/plain": [
       "82"
      ]
     },
     "execution_count": 21,
     "metadata": {},
     "output_type": "execute_result"
    }
   ],
   "source": [
    "numberOfAreas"
   ]
  },
  {
   "cell_type": "code",
   "execution_count": 22,
   "id": "c9c0fbb7",
   "metadata": {},
   "outputs": [],
   "source": [
    "for i in range(numberOfAreas):\n",
    "    idenseGraphs.insert( i, ig.Graph(directed=True))\n",
    "    idenseGraphs[i].add_vertices(Graphs[i].nodes)\n",
    "    idenseGraphs[i].add_edges(Graphs[i].edges())\n",
    "    idenseGraphs[i].vs[\"osmid\"] = osmids\n",
    "    idenseGraphs[i].es[weight] = list(nx.get_edge_attributes(Graphs[i], weight).values())"
   ]
  },
  {
   "cell_type": "code",
   "execution_count": 23,
   "id": "390ecbca",
   "metadata": {},
   "outputs": [
    {
     "name": "stdout",
     "output_type": "stream",
     "text": [
      "Current Time = 20:33:45\n"
     ]
    }
   ],
   "source": [
    "now = datetime.now()\n",
    "current_time = now.strftime(\"%H:%M:%S\")\n",
    "print(\"Current Time =\", current_time)"
   ]
  },
  {
   "cell_type": "code",
   "execution_count": 24,
   "id": "3812bf84",
   "metadata": {},
   "outputs": [],
   "source": [
    "eccentricities = []\n",
    "neighbors = []"
   ]
  },
  {
   "cell_type": "code",
   "execution_count": 25,
   "id": "1ccf03a7",
   "metadata": {},
   "outputs": [],
   "source": [
    "for i in range(len(idenseGraphs)):\n",
    "    eccentricities.append(idenseGraphs[i].eccentricity(vertices=None, mode='in'))\n",
    "    neighbors.append(idenseGraphs[i].neighborhood(vertices=None, order=1, mode='all', mindist=0))"
   ]
  },
  {
   "cell_type": "code",
   "execution_count": 26,
   "id": "2a7acd54",
   "metadata": {},
   "outputs": [
    {
     "data": {
      "text/plain": [
       "82"
      ]
     },
     "execution_count": 26,
     "metadata": {},
     "output_type": "execute_result"
    }
   ],
   "source": [
    "len(eccentricities)"
   ]
  },
  {
   "cell_type": "code",
   "execution_count": 27,
   "id": "5c93931f",
   "metadata": {},
   "outputs": [],
   "source": [
    "df1 = pd.DataFrame()\n",
    "Nodes = []"
   ]
  },
  {
   "cell_type": "code",
   "execution_count": 28,
   "id": "6cec97e6",
   "metadata": {},
   "outputs": [
    {
     "data": {
      "text/plain": [
       "166"
      ]
     },
     "execution_count": 28,
     "metadata": {},
     "output_type": "execute_result"
    }
   ],
   "source": [
    "df1 = pd.DataFrame()\n",
    "Nodes = []\n",
    "\n",
    "G23 = Graphs[3]\n",
    "for i in G23.nodes:\n",
    "    Nodes.append(i)\n",
    "df1 = pd.DataFrame(Nodes)\n",
    "df1.rename(columns = {0:'Nodes'}, inplace = True)\n",
    "\n",
    "df1 = pd.DataFrame(Nodes)\n",
    "\n",
    "df1.rename(columns = {0:'Nodes'}, inplace = True)\n",
    "\n",
    "lats = []\n",
    "longs = []\n",
    "\n",
    "for i in Nodes:\n",
    "    lats.append(G23.nodes[i].get('y'))\n",
    "    longs.append(G23.nodes[i].get('x'))\n",
    "    \n",
    "df1['Latitude'] = lats\n",
    "df1['Longitude'] = longs\n",
    "\n",
    "df1.head()\n",
    "\n",
    "subset = df1[['Latitude', 'Longitude']]\n",
    "tuples = [tuple(x) for x in subset.to_numpy()]\n",
    "\n",
    "len(tuples)"
   ]
  },
  {
   "cell_type": "code",
   "execution_count": 29,
   "id": "46c41829",
   "metadata": {},
   "outputs": [],
   "source": [
    "arrayofTuples = numpy.array_split(tuples, 5)"
   ]
  },
  {
   "cell_type": "code",
   "execution_count": 30,
   "id": "c71baf76",
   "metadata": {},
   "outputs": [],
   "source": [
    "arrayofEccentricity = numpy.array_split(eccentricities[0], 5)"
   ]
  },
  {
   "cell_type": "code",
   "execution_count": 31,
   "id": "9f3e64e3",
   "metadata": {},
   "outputs": [],
   "source": [
    "class PrioritySet(object):\n",
    "    \n",
    "    def __init__(self):\n",
    "        self.heap = []\n",
    "        self.set = set()\n",
    "\n",
    "    def push(self, d):\n",
    "        if not d in self.set:\n",
    "            heapq.heappush(self.heap, d)\n",
    "            self.set.add(d)\n",
    "\n",
    "    def pop(self):\n",
    "        d = heapq.heappop(self.heap)\n",
    "        self.set.remove(d)\n",
    "        return d\n",
    "\n",
    "    def size(self):\n",
    "        return len(self.heap)\n",
    "\n",
    "    def __str__(self):\n",
    "        op = \"\"\n",
    "        for i in self.heap:\n",
    "            op += str(i[0]) + \" : \" + i[1].__str__()\n",
    "            op += \"\\n\"\n",
    "        return op\n",
    "\n",
    "    def __getitem__(self, index):\n",
    "        return self.heap[index]"
   ]
  },
  {
   "cell_type": "code",
   "execution_count": 32,
   "id": "4ab219b6",
   "metadata": {},
   "outputs": [],
   "source": [
    "class Position:\n",
    "\n",
    "    def __init__(self,x,y):\n",
    "        self.x = x\n",
    "        self.y = y\t\t\n",
    "\n",
    "    def __str__(self):\n",
    "        return \"(\" + str(self.x) + \", \" + str(self.y) + \") \"\n",
    "\n",
    "    def x_coor(self):\n",
    "        return self.x\n",
    "\n",
    "    def y_coor(self):\n",
    "        return self.y"
   ]
  },
  {
   "cell_type": "code",
   "execution_count": 33,
   "id": "d26fb852",
   "metadata": {},
   "outputs": [],
   "source": [
    "class Vehicle:\n",
    "\n",
    "    def __init__(self, capacity):\n",
    "        self.capacity = capacity\n",
    "\n",
    "    def capacity(self):\n",
    "        return self.capacity"
   ]
  },
  {
   "cell_type": "code",
   "execution_count": 34,
   "id": "7bedfad6",
   "metadata": {},
   "outputs": [],
   "source": [
    "class Node:\n",
    "\n",
    "    pos = Position(-1,-1)\n",
    "    demand = 0\n",
    "\n",
    "    def __init__(self,name):\n",
    "        self.name = name\n",
    "\n",
    "    def setPosition(self,x,y):\n",
    "        self.pos = Position(x, y)\n",
    "\n",
    "    def setDemand(self,d):\n",
    "        self.demand = d\n",
    "\n",
    "    def __str__(self):\n",
    "        return \"( \" + str(self.pos.x) + \" , \" + \\\n",
    "                   str(self.pos.y) + \" )\""
   ]
  },
  {
   "cell_type": "code",
   "execution_count": 35,
   "id": "04182d4f",
   "metadata": {},
   "outputs": [],
   "source": [
    "def copy(li):\n",
    "    return [i for i in li]\n",
    "\n",
    "def getProb():\n",
    "    return random.random()\n",
    "\n",
    "def get_random(li):\n",
    "    index = random.randint(0, len(li)-1)\n",
    "    return li[index]\n",
    "\n",
    "def get_distance(cus1, cus2):\n",
    "    # Euclideian\n",
    "    #change to vincenty later\n",
    "    dist = 0 \n",
    "    dist = math.sqrt(((cus1.pos.x - cus2.pos.x) ** 2) + ((cus1.pos.y - cus2.pos.y) ** 2))\n",
    "    return dist\n",
    "\n",
    "def print_tuple(t):\n",
    "#     print( \"0\"), \n",
    "    for i in t:\n",
    "        print(i),        \n",
    "#     print( \"0\"),\n",
    "#     print (\" -> f: \" + str(get_fitness(t)))\n",
    "\n",
    "def print_population(p):\n",
    "    for i in p:\n",
    "        for c in i:\n",
    "            print(c),\n",
    "        print(\"\\n\")\n",
    "    \n",
    "def print_population_heap(p):\n",
    "    count = 1\n",
    "    for i in p:\n",
    "        print (count, \" )  \")\n",
    "        print_tuple(i[1])\n",
    "        count += 1\n",
    "        print(\"\\n\")\n",
    "\n"
   ]
  },
  {
   "cell_type": "code",
   "execution_count": 36,
   "id": "f0923ce9",
   "metadata": {},
   "outputs": [],
   "source": [
    "def mutate(chromosome):\n",
    "\n",
    "    temp = [i for i in chromosome]\n",
    "    \n",
    "    if getProb() < MUTATION_RATE:\n",
    "        left = random.randint(1, len(temp) - 2)\n",
    "        right = random.randint(left, len(temp) - 1)   \n",
    "        temp[left], temp[right] = temp[right], temp[left]\n",
    "    return temp\n"
   ]
  },
  {
   "cell_type": "code",
   "execution_count": 37,
   "id": "e588e608",
   "metadata": {},
   "outputs": [],
   "source": [
    "\n",
    "def crossover(a,b):\n",
    "\n",
    "    if getProb() < CROSSOVER_RATE:\n",
    "        left = random.randint(1, len(a) - 2)\n",
    "        right = random.randint(left, len(a) - 1)\n",
    "        # print left, \" \", right\n",
    "        c1 = [c for c in a[0:] if c not in b[left:right+1]]\n",
    "        # print len(c1)\n",
    "        a1 = c1[:left] + b[left:right+1] + c1[left:]\n",
    "        # print len(p1)\n",
    "        c2 = [c for c in b[0:] if c not in a[left:right+1]]\n",
    "        b1 = c2[:left] + a[left:right+1] + c2[left:]\n",
    "        return a1, b1\n",
    "       \n",
    "    return a, b\n"
   ]
  },
  {
   "cell_type": "code",
   "execution_count": 38,
   "id": "bfd0855c",
   "metadata": {},
   "outputs": [],
   "source": [
    "\n",
    "def get_fitness(li):\n",
    "    \n",
    "    num_custo = len(li)\n",
    "    fitness = 0\n",
    "\n",
    "    for i in range(num_custo - 1):\n",
    "        fitness += get_distance(li[i], li[i+1])\n",
    "\n",
    "    fitness += get_distance(DEPOT, li[0])\n",
    "    fitness += get_distance(li[-1], DEPOT)\n",
    "\n",
    "    temp = copy(li)\n",
    "    temp.insert(0,DEPOT)\n",
    "    temp.append(DEPOT)\n",
    "    valid = 1\n",
    "    curr_demand = 0\n",
    "    for i in range(len(temp)):\n",
    "        if temp[i] == DEPOT and curr_demand > CAPACITY:\n",
    "            fitness = INF\n",
    "        elif temp[i] == DEPOT:\n",
    "            curr_demand = 0\n",
    "        else:\n",
    "            curr_demand += temp[i].demand\n",
    "\n",
    "    return fitness"
   ]
  },
  {
   "cell_type": "code",
   "execution_count": 39,
   "id": "6e2d269d",
   "metadata": {},
   "outputs": [],
   "source": [
    "\n",
    "def getPopulationFitness(p):\n",
    "    \n",
    "    h = PrioritySet()\n",
    "    for i in p:\n",
    "        h.push((get_fitness(i),i))\n",
    "    return h\n",
    "\n",
    "def create_new():\n",
    "\n",
    "    TempSet = copy(Nodes)\n",
    "    chromosome = []\n",
    "    while len(TempSet) > 0:\n",
    "        index = (int)(getProb() * len(TempSet))\n",
    "        chromosome.append(TempSet.pop(index))\n",
    "\n",
    "    return chromosome "
   ]
  },
  {
   "cell_type": "code",
   "execution_count": 40,
   "id": "f195872e",
   "metadata": {},
   "outputs": [],
   "source": [
    "\n",
    "def initialize_population():\n",
    "\n",
    "    while len(population) < POPULATION_SIZE:\n",
    "        TempSet = copy(Nodes)\n",
    "        chromosome = []\n",
    "        while len(TempSet) > 0:\n",
    "            index = (int)(getProb() * len(TempSet))\n",
    "            chromosome.append(TempSet.pop(index))\n",
    "\n",
    "        if get_fitness(chromosome) != INF:\n",
    "            population.add(tuple(chromosome))"
   ]
  },
  {
   "cell_type": "code",
   "execution_count": 41,
   "id": "72f57df1",
   "metadata": {},
   "outputs": [],
   "source": [
    "MUTATION_RATE = 0.1\n",
    "CROSSOVER_RATE = 0.9\n",
    "POPULATION_SIZE = 100\n",
    "FITNESS = 0\n",
    "TRUCKS = 15\n",
    "DEPOT = None\n",
    "CAPACITY = 100\n",
    "INF = float(\"inf\")"
   ]
  },
  {
   "cell_type": "code",
   "execution_count": 42,
   "id": "d92fd44d",
   "metadata": {},
   "outputs": [],
   "source": [
    "\n",
    "def Genetic_Algo():\n",
    "\n",
    "#     print (\"POPULATION GENERATED... EVOLUTION BEGINING ...\")\n",
    "    minimum_chrom = h[0]\n",
    "#     print( \"Curr Min: \", minimum_chrom[0])\n",
    "    count = 0\n",
    "    # while h[0][0] > 1800:\n",
    "    while count < 1000:\n",
    "        ax = h.pop()\n",
    "        bx = h.pop()\n",
    "        a,b = crossover(list(ax[1]),list(bx[1]))\n",
    "        a = mutate(a)\n",
    "        while get_fitness(a) == INF:\n",
    "            a = create_new()\n",
    "        b = mutate(b)\n",
    "        while get_fitness(b) == INF:\n",
    "            b = create_new()\n",
    "        if get_fitness(a) != INF:\n",
    "            h.push((get_fitness(a),tuple(a)))\n",
    "        else:\n",
    "            h.push(ax)\n",
    "        if get_fitness(b) != INF:\n",
    "            h.push((get_fitness(b),tuple(b)))\n",
    "        else:\n",
    "            h.push(bx)\n",
    "\n",
    "        while h.size() < POPULATION_SIZE:\n",
    "            TempSet = copy(Nodes)\n",
    "            chromosome = []\n",
    "            count += 1\n",
    "            while len(TempSet) > 0:\n",
    "                index = (int)(getProb() * len(TempSet))\n",
    "                chromosome.append(TempSet.pop(index))\n",
    "            h.push((get_fitness(chromosome),tuple(chromosome)))\n",
    "        count = count + 1\n",
    "        if h[0][0] < minimum_chrom[0]:\n",
    "            minimum_chrom = h[0] \n",
    "\n",
    "\n",
    "    print_tuple(minimum_chrom[1])\n",
    "    print(count)\n"
   ]
  },
  {
   "cell_type": "code",
   "execution_count": 43,
   "id": "86c64409",
   "metadata": {},
   "outputs": [],
   "source": [
    "\n",
    "def create_data_array():\n",
    "    locations = arrayofTuples[0]\n",
    "\n",
    "\n",
    "    demands = arrayofEccentricity[0]\n",
    "\n",
    "\n",
    "    for i in range(1,len(locations)):\n",
    "        c = Node(i)\n",
    "        c.setPosition(locations[i][0],locations[i][1])\n",
    "        c.setDemand(demands[i])\n",
    "        Nodes.append(c)\n",
    "\n",
    "    i = 0\n",
    "    c = Node(i)\n",
    "    c.setPosition(locations[i][0],locations[i][1])\n",
    "    c.setDemand(demands[i])\n",
    "    global DEPOT\n",
    "    DEPOT = c\n",
    "\n",
    "    for j in range(TRUCKS-1):\n",
    "        Nodes.append(DEPOT)\n",
    "\n",
    "\n",
    "\n",
    "\n",
    "\n",
    "\n",
    "Nodes = []\n",
    "population = set()\n",
    "\n",
    "if __name__ == '__main__':\n",
    "    create_data_array()\n",
    "    initialize_population()\n",
    "\n",
    "    newListofNodes = []\n",
    "    h = getPopulationFitness(population)\n",
    "    sys.stdout = open(\"testingMaterial0.txt\", \"w\")\n",
    "    Genetic_Algo()"
   ]
  },
  {
   "cell_type": "code",
   "execution_count": 44,
   "id": "48655017",
   "metadata": {},
   "outputs": [],
   "source": [
    "\n",
    "def create_data_array():\n",
    "    locations = arrayofTuples[1]\n",
    "\n",
    "\n",
    "    demands = arrayofEccentricity[1]\n",
    "\n",
    "\n",
    "    for i in range(1,len(locations)):\n",
    "        c = Node(i)\n",
    "        c.setPosition(locations[i][0],locations[i][1])\n",
    "        c.setDemand(demands[i])\n",
    "        Nodes.append(c)\n",
    "\n",
    "    i = 0\n",
    "    c = Node(i)\n",
    "    c.setPosition(locations[i][0],locations[i][1])\n",
    "    c.setDemand(demands[i])\n",
    "    global DEPOT\n",
    "    DEPOT = c\n",
    "\n",
    "    for j in range(TRUCKS-1):\n",
    "        Nodes.append(DEPOT)\n",
    "\n",
    "\n",
    "\n",
    "\n",
    "\n",
    "\n",
    "Nodes = []\n",
    "population = set()\n",
    "\n",
    "if __name__ == '__main__':\n",
    "    create_data_array()\n",
    "    initialize_population()\n",
    "\n",
    "    newListofNodes = []\n",
    "    h = getPopulationFitness(population)\n",
    "    sys.stdout = open(\"testingMaterial1.txt\", \"w\")\n",
    "    Genetic_Algo()"
   ]
  },
  {
   "cell_type": "code",
   "execution_count": 45,
   "id": "42b990b6",
   "metadata": {},
   "outputs": [],
   "source": [
    "\n",
    "def create_data_array():\n",
    "    locations = arrayofTuples[2]\n",
    "\n",
    "\n",
    "    demands = arrayofEccentricity[2]\n",
    "\n",
    "\n",
    "    for i in range(1,len(locations)):\n",
    "        c = Node(i)\n",
    "        c.setPosition(locations[i][0],locations[i][1])\n",
    "        c.setDemand(demands[i])\n",
    "        Nodes.append(c)\n",
    "\n",
    "    i = 0\n",
    "    c = Node(i)\n",
    "    c.setPosition(locations[i][0],locations[i][1])\n",
    "    c.setDemand(demands[i])\n",
    "    global DEPOT\n",
    "    DEPOT = c\n",
    "\n",
    "    for j in range(TRUCKS-1):\n",
    "        Nodes.append(DEPOT)\n",
    "\n",
    "\n",
    "\n",
    "\n",
    "\n",
    "\n",
    "Nodes = []\n",
    "population = set()\n",
    "\n",
    "if __name__ == '__main__':\n",
    "    create_data_array()\n",
    "    initialize_population()\n",
    "\n",
    "    newListofNodes = []\n",
    "    h = getPopulationFitness(population)\n",
    "    sys.stdout = open(\"testingMaterial2.txt\", \"w\")\n",
    "    Genetic_Algo()"
   ]
  },
  {
   "cell_type": "code",
   "execution_count": 46,
   "id": "0600d4f4",
   "metadata": {},
   "outputs": [],
   "source": [
    "\n",
    "def create_data_array():\n",
    "    locations = arrayofTuples[3]\n",
    "\n",
    "\n",
    "    demands = arrayofEccentricity[3]\n",
    "\n",
    "\n",
    "    for i in range(1,len(locations)):\n",
    "        c = Node(i)\n",
    "        c.setPosition(locations[i][0],locations[i][1])\n",
    "        c.setDemand(demands[i])\n",
    "        Nodes.append(c)\n",
    "\n",
    "    i = 0\n",
    "    c = Node(i)\n",
    "    c.setPosition(locations[i][0],locations[i][1])\n",
    "    c.setDemand(demands[i])\n",
    "    global DEPOT\n",
    "    DEPOT = c\n",
    "\n",
    "    for j in range(TRUCKS-1):\n",
    "        Nodes.append(DEPOT)\n",
    "\n",
    "\n",
    "\n",
    "\n",
    "\n",
    "\n",
    "Nodes = []\n",
    "population = set()\n",
    "\n",
    "if __name__ == '__main__':\n",
    "    create_data_array()\n",
    "    initialize_population()\n",
    "\n",
    "    newListofNodes = []\n",
    "    h = getPopulationFitness(population)\n",
    "    sys.stdout = open(\"testingMaterial3.txt\", \"w\")\n",
    "    Genetic_Algo()"
   ]
  },
  {
   "cell_type": "code",
   "execution_count": 47,
   "id": "a6eb854a",
   "metadata": {},
   "outputs": [],
   "source": [
    "\n",
    "def create_data_array():\n",
    "    locations = arrayofTuples[4]\n",
    "\n",
    "\n",
    "    demands = arrayofEccentricity[4]\n",
    "\n",
    "\n",
    "    for i in range(1,len(locations)):\n",
    "        c = Node(i)\n",
    "        c.setPosition(locations[i][0],locations[i][1])\n",
    "        c.setDemand(demands[i])\n",
    "        Nodes.append(c)\n",
    "\n",
    "    i = 0\n",
    "    c = Node(i)\n",
    "    c.setPosition(locations[i][0],locations[i][1])\n",
    "    c.setDemand(demands[i])\n",
    "    global DEPOT\n",
    "    DEPOT = c\n",
    "\n",
    "    for j in range(TRUCKS-1):\n",
    "        Nodes.append(DEPOT)\n",
    "\n",
    "\n",
    "\n",
    "\n",
    "\n",
    "\n",
    "Nodes = []\n",
    "population = set()\n",
    "\n",
    "if __name__ == '__main__':\n",
    "    create_data_array()\n",
    "    initialize_population()\n",
    "\n",
    "    newListofNodes = []\n",
    "    h = getPopulationFitness(population)\n",
    "    sys.stdout = open(\"testingMaterial4.txt\", \"w\")\n",
    "    Genetic_Algo()"
   ]
  },
  {
   "cell_type": "code",
   "execution_count": null,
   "id": "ff579690",
   "metadata": {},
   "outputs": [],
   "source": []
  },
  {
   "cell_type": "code",
   "execution_count": null,
   "id": "33808ae1",
   "metadata": {},
   "outputs": [],
   "source": []
  },
  {
   "cell_type": "code",
   "execution_count": 48,
   "id": "4fdc1996",
   "metadata": {},
   "outputs": [
    {
     "data": {
      "text/html": [
       "<div>\n",
       "<style scoped>\n",
       "    .dataframe tbody tr th:only-of-type {\n",
       "        vertical-align: middle;\n",
       "    }\n",
       "\n",
       "    .dataframe tbody tr th {\n",
       "        vertical-align: top;\n",
       "    }\n",
       "\n",
       "    .dataframe thead th {\n",
       "        text-align: right;\n",
       "    }\n",
       "</style>\n",
       "<table border=\"1\" class=\"dataframe\">\n",
       "  <thead>\n",
       "    <tr style=\"text-align: right;\">\n",
       "      <th></th>\n",
       "      <th>0</th>\n",
       "      <th>1</th>\n",
       "      <th>2</th>\n",
       "      <th>3</th>\n",
       "      <th>4</th>\n",
       "    </tr>\n",
       "  </thead>\n",
       "  <tbody>\n",
       "    <tr>\n",
       "      <th>0</th>\n",
       "      <td>(</td>\n",
       "      <td>38.953452</td>\n",
       "      <td>,</td>\n",
       "      <td>-77.009047</td>\n",
       "      <td>)</td>\n",
       "    </tr>\n",
       "    <tr>\n",
       "      <th>1</th>\n",
       "      <td>(</td>\n",
       "      <td>38.938765</td>\n",
       "      <td>,</td>\n",
       "      <td>-76.990234</td>\n",
       "      <td>)</td>\n",
       "    </tr>\n",
       "    <tr>\n",
       "      <th>2</th>\n",
       "      <td>(</td>\n",
       "      <td>38.940550</td>\n",
       "      <td>,</td>\n",
       "      <td>-77.003308</td>\n",
       "      <td>)</td>\n",
       "    </tr>\n",
       "    <tr>\n",
       "      <th>3</th>\n",
       "      <td>(</td>\n",
       "      <td>38.931215</td>\n",
       "      <td>,</td>\n",
       "      <td>-77.000982</td>\n",
       "      <td>)</td>\n",
       "    </tr>\n",
       "    <tr>\n",
       "      <th>4</th>\n",
       "      <td>(</td>\n",
       "      <td>38.942014</td>\n",
       "      <td>,</td>\n",
       "      <td>-77.006979</td>\n",
       "      <td>)</td>\n",
       "    </tr>\n",
       "  </tbody>\n",
       "</table>\n",
       "</div>"
      ],
      "text/plain": [
       "   0          1  2          3  4\n",
       "0  (  38.953452  , -77.009047  )\n",
       "1  (  38.938765  , -76.990234  )\n",
       "2  (  38.940550  , -77.003308  )\n",
       "3  (  38.931215  , -77.000982  )\n",
       "4  (  38.942014  , -77.006979  )"
      ]
     },
     "execution_count": 48,
     "metadata": {},
     "output_type": "execute_result"
    }
   ],
   "source": [
    "df = pd.read_table('tests1/testingMaterial0.txt',header=None,sep=\" \")\n",
    "df.head()"
   ]
  },
  {
   "cell_type": "code",
   "execution_count": 49,
   "id": "7bf19b0a",
   "metadata": {},
   "outputs": [],
   "source": [
    "df1 = df [[1, 3]].copy()\n",
    "col_list = list(df1)\n",
    "\n",
    "col_list[0] = \"lat\"\n",
    "col_list[1] = \"long\"\n",
    "\n",
    "df1.columns = col_list\n",
    "\n",
    "df1[\"D\"] = df1[[\"long\",\"lat\"]].apply(tuple, axis=1)\n",
    "df1.head\n",
    "\n",
    "df2 = df1[[\"D\"]].copy()"
   ]
  },
  {
   "cell_type": "code",
   "execution_count": 50,
   "id": "5724816b",
   "metadata": {},
   "outputs": [
    {
     "data": {
      "text/plain": [
       "47"
      ]
     },
     "execution_count": 50,
     "metadata": {},
     "output_type": "execute_result"
    }
   ],
   "source": [
    "len(df2)"
   ]
  },
  {
   "cell_type": "code",
   "execution_count": null,
   "id": "ea6110db",
   "metadata": {},
   "outputs": [],
   "source": []
  },
  {
   "cell_type": "code",
   "execution_count": 51,
   "id": "bfb95b4f",
   "metadata": {},
   "outputs": [],
   "source": [
    "now = datetime.now()\n",
    "current_time = now.strftime(\"%H:%M:%S\")\n",
    "print(\"Current Time =\", current_time)"
   ]
  },
  {
   "cell_type": "code",
   "execution_count": null,
   "id": "f0e40617",
   "metadata": {},
   "outputs": [],
   "source": []
  },
  {
   "cell_type": "code",
   "execution_count": 58,
   "id": "0cb7dd79",
   "metadata": {},
   "outputs": [],
   "source": [
    "df = pd.read_table('tests1/testingMaterial0.txt',header=None,sep=\" \")\n",
    "df1 = df [[1, 3]].copy()\n",
    "col_list = list(df1)\n",
    "\n",
    "col_list[0] = \"lat\"\n",
    "col_list[1] = \"long\"\n",
    "\n",
    "df1.columns = col_list\n",
    "\n",
    "df1[\"D\"] = df1[[\"long\",\"lat\"]].apply(tuple, axis=1)\n",
    "df1.head\n",
    "\n",
    "df2 = df1[[\"D\"]].copy()\n",
    "\n",
    "\n",
    "listnew = []\n",
    "\n",
    "listnew = df2['D'].to_list()\n",
    "\n",
    "coordslist0 = listnew\n",
    "\n",
    "\n",
    "map_geocode = folium.Map(location=[38.961880, -77.006330], tiles='cartodbpositron', zoom_start=13)\n",
    "coords = listnew\n",
    " \n",
    "\n",
    "\n",
    "client = ors.Client(key='5b3ce3597851110001cf6248fc30f10b77b5410dab564eac271c1b0d') # Specify your personal API key\n",
    "#routes = client.directions(coords)\n",
    "\n",
    "routes = client.directions(coords, optimize_waypoints=True, format='geojson') \n",
    "#optimization requires at least 4 or more coordinates. \n",
    "#Take the entire coords of the city itself\n",
    "\n",
    "print(routes)\n",
    "\n",
    "map_directions = folium.Map(location=[38.940783, -76.997869], zoom_start=15)\n",
    "\n",
    "folium.GeoJson(routes, name='routes').add_to(map_directions)\n",
    "folium.LayerControl().add_to(map_directions)\n",
    "map_directions\n",
    "\n",
    "map_directions.save(outfile = \"File0.html\")"
   ]
  },
  {
   "cell_type": "code",
   "execution_count": 59,
   "id": "f8142071",
   "metadata": {},
   "outputs": [],
   "source": [
    "df = pd.read_table('tests1/testingMaterial1.txt',header=None,sep=\" \")\n",
    "df1 = df [[1, 3]].copy()\n",
    "col_list = list(df1)\n",
    "\n",
    "col_list[0] = \"lat\"\n",
    "col_list[1] = \"long\"\n",
    "\n",
    "df1.columns = col_list\n",
    "\n",
    "df1[\"D\"] = df1[[\"long\",\"lat\"]].apply(tuple, axis=1)\n",
    "df1.head\n",
    "\n",
    "df2 = df1[[\"D\"]].copy()\n",
    "\n",
    "\n",
    "listnew = []\n",
    "\n",
    "listnew = df2['D'].to_list()\n",
    "coordslist1 = listnew\n",
    "map_geocode = folium.Map(location=[38.961880, -77.006330], tiles='cartodbpositron', zoom_start=13)\n",
    "coords = listnew\n",
    " \n",
    "\n",
    "\n",
    "client = ors.Client(key='5b3ce3597851110001cf6248fc30f10b77b5410dab564eac271c1b0d') # Specify your personal API key\n",
    "#routes = client.directions(coords)\n",
    "\n",
    "routes = client.directions(coords, optimize_waypoints=True, format='geojson') \n",
    "#optimization requires at least 4 or more coordinates. \n",
    "#Take the entire coords of the city itself\n",
    "\n",
    "print(routes)\n",
    "\n",
    "map_directions = folium.Map(location=[38.940783, -76.997869], zoom_start=15)\n",
    "\n",
    "folium.GeoJson(routes, name='routes').add_to(map_directions)\n",
    "folium.LayerControl().add_to(map_directions)\n",
    "map_directions\n",
    "\n",
    "map_directions.save(outfile = \"File1.html\")"
   ]
  },
  {
   "cell_type": "code",
   "execution_count": 60,
   "id": "49ced5e8",
   "metadata": {},
   "outputs": [],
   "source": [
    "df = pd.read_table('tests1/testingMaterial2.txt',header=None,sep=\" \")\n",
    "df1 = df [[1, 3]].copy()\n",
    "col_list = list(df1)\n",
    "\n",
    "col_list[0] = \"lat\"\n",
    "col_list[1] = \"long\"\n",
    "\n",
    "df1.columns = col_list\n",
    "\n",
    "df1[\"D\"] = df1[[\"long\",\"lat\"]].apply(tuple, axis=1)\n",
    "df1.head\n",
    "\n",
    "df2 = df1[[\"D\"]].copy()\n",
    "\n",
    "\n",
    "listnew = []\n",
    "\n",
    "listnew = df2['D'].to_list()\n",
    "coordslist2 = listnew\n",
    "map_geocode = folium.Map(location=[38.961880, -77.006330], tiles='cartodbpositron', zoom_start=13)\n",
    "coords = listnew\n",
    " \n",
    "\n",
    "\n",
    "client = ors.Client(key='5b3ce3597851110001cf6248fc30f10b77b5410dab564eac271c1b0d') # Specify your personal API key\n",
    "#routes = client.directions(coords)\n",
    "\n",
    "routes = client.directions(coords, optimize_waypoints=True, format='geojson') \n",
    "#optimization requires at least 4 or more coordinates. \n",
    "#Take the entire coords of the city itself\n",
    "\n",
    "print(routes)\n",
    "\n",
    "map_directions = folium.Map(location=[38.940783, -76.997869], zoom_start=15)\n",
    "\n",
    "folium.GeoJson(routes, name='routes').add_to(map_directions)\n",
    "folium.LayerControl().add_to(map_directions)\n",
    "map_directions\n",
    "\n",
    "map_directions.save(outfile = \"File2.html\")"
   ]
  },
  {
   "cell_type": "code",
   "execution_count": 61,
   "id": "ea9b5d2c",
   "metadata": {},
   "outputs": [],
   "source": [
    "df = pd.read_table('tests1/testingMaterial3.txt',header=None,sep=\" \")\n",
    "df1 = df [[1, 3]].copy()\n",
    "col_list = list(df1)\n",
    "\n",
    "col_list[0] = \"lat\"\n",
    "col_list[1] = \"long\"\n",
    "\n",
    "df1.columns = col_list\n",
    "\n",
    "df1[\"D\"] = df1[[\"long\",\"lat\"]].apply(tuple, axis=1)\n",
    "df1.head\n",
    "\n",
    "df2 = df1[[\"D\"]].copy()\n",
    "\n",
    "\n",
    "listnew = []\n",
    "\n",
    "listnew = df2['D'].to_list()\n",
    "coordslist3 = listnew\n",
    "map_geocode = folium.Map(location=[38.961880, -77.006330], tiles='cartodbpositron', zoom_start=13)\n",
    "coords = listnew\n",
    " \n",
    "\n",
    "\n",
    "client = ors.Client(key='5b3ce3597851110001cf6248fc30f10b77b5410dab564eac271c1b0d') # Specify your personal API key\n",
    "#routes = client.directions(coords)\n",
    "\n",
    "routes = client.directions(coords, optimize_waypoints=True, format='geojson') \n",
    "#optimization requires at least 4 or more coordinates. \n",
    "#Take the entire coords of the city itself\n",
    "\n",
    "print(routes)\n",
    "\n",
    "map_directions = folium.Map(location=[38.940783, -76.997869], zoom_start=15)\n",
    "\n",
    "folium.GeoJson(routes, name='routes').add_to(map_directions)\n",
    "folium.LayerControl().add_to(map_directions)\n",
    "map_directions\n",
    "\n",
    "map_directions.save(outfile = \"File3.html\")"
   ]
  },
  {
   "cell_type": "code",
   "execution_count": 63,
   "id": "40324259",
   "metadata": {},
   "outputs": [],
   "source": [
    "df = pd.read_table('tests1/testingMaterial4.txt',header=None,sep=\" \")\n",
    "df1 = df [[1, 3]].copy()\n",
    "col_list = list(df1)\n",
    "\n",
    "col_list[0] = \"lat\"\n",
    "col_list[1] = \"long\"\n",
    "\n",
    "df1.columns = col_list\n",
    "\n",
    "df1[\"D\"] = df1[[\"long\",\"lat\"]].apply(tuple, axis=1)\n",
    "df1.head\n",
    "\n",
    "df2 = df1[[\"D\"]].copy()\n",
    "\n",
    "\n",
    "listnew = []\n",
    "\n",
    "listnew = df2['D'].to_list()\n",
    "coordslist4 = listnew\n",
    "map_geocode = folium.Map(location=[38.940783, -76.997869], tiles='cartodbpositron', zoom_start=13)\n",
    "coords = listnew\n",
    " \n",
    "\n",
    "\n",
    "client = ors.Client(key='5b3ce3597851110001cf6248fc30f10b77b5410dab564eac271c1b0d') # Specify your personal API key\n",
    "#routes = client.directions(coords)\n",
    "\n",
    "routes = client.directions(coords, optimize_waypoints=True, format='geojson') \n",
    "#optimization requires at least 4 or more coordinates. \n",
    "#Take the entire coords of the city itself\n",
    "\n",
    "print(routes)\n",
    "\n",
    "map_directions = folium.Map(location=[38.940783, -76.997869 ], zoom_start=15)\n",
    "\n",
    "folium.GeoJson(routes, name='routes').add_to(map_directions)\n",
    "folium.LayerControl().add_to(map_directions)\n",
    "map_directions\n",
    "\n",
    "map_directions.save(outfile = \"File4.html\")"
   ]
  },
  {
   "cell_type": "code",
   "execution_count": null,
   "id": "ddd427a6",
   "metadata": {},
   "outputs": [],
   "source": []
  },
  {
   "cell_type": "code",
   "execution_count": null,
   "id": "311671d0",
   "metadata": {},
   "outputs": [],
   "source": []
  },
  {
   "cell_type": "code",
   "execution_count": 57,
   "id": "ba554c04",
   "metadata": {},
   "outputs": [],
   "source": [
    "# Routes are displayed in the map in HTML files "
   ]
  },
  {
   "cell_type": "code",
   "execution_count": null,
   "id": "6b20b09b",
   "metadata": {},
   "outputs": [],
   "source": []
  },
  {
   "cell_type": "code",
   "execution_count": null,
   "id": "82960847",
   "metadata": {},
   "outputs": [],
   "source": []
  }
 ],
 "metadata": {
  "kernelspec": {
   "display_name": "Python 3 (ipykernel)",
   "language": "python",
   "name": "python3"
  },
  "language_info": {
   "codemirror_mode": {
    "name": "ipython",
    "version": 3
   },
   "file_extension": ".py",
   "mimetype": "text/x-python",
   "name": "python",
   "nbconvert_exporter": "python",
   "pygments_lexer": "ipython3",
   "version": "3.9.7"
  }
 },
 "nbformat": 4,
 "nbformat_minor": 5
}
