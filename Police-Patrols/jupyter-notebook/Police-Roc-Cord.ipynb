{
 "cells": [
  {
   "cell_type": "code",
   "execution_count": 61,
   "metadata": {},
   "outputs": [],
   "source": [
    "import pandas as pd\n",
    "import matplotlib.pyplot as plt\n",
    "import numpy as np\n",
    "from mpl_toolkits.basemap import Basemap"
   ]
  },
  {
   "cell_type": "code",
   "execution_count": 62,
   "metadata": {},
   "outputs": [],
   "source": [
    "data = pd.read_csv('Shootings.csv')"
   ]
  },
  {
   "cell_type": "code",
   "execution_count": 63,
   "metadata": {},
   "outputs": [
    {
     "data": {
      "text/html": [
       "<div>\n",
       "<style scoped>\n",
       "    .dataframe tbody tr th:only-of-type {\n",
       "        vertical-align: middle;\n",
       "    }\n",
       "\n",
       "    .dataframe tbody tr th {\n",
       "        vertical-align: top;\n",
       "    }\n",
       "\n",
       "    .dataframe thead th {\n",
       "        text-align: right;\n",
       "    }\n",
       "</style>\n",
       "<table border=\"1\" class=\"dataframe\">\n",
       "  <thead>\n",
       "    <tr style=\"text-align: right;\">\n",
       "      <th></th>\n",
       "      <th>X</th>\n",
       "      <th>Y</th>\n",
       "      <th>ID</th>\n",
       "      <th>Case_Number</th>\n",
       "      <th>Address</th>\n",
       "      <th>Occurred_Date</th>\n",
       "      <th>Occurred_Month</th>\n",
       "      <th>Occurred_Year</th>\n",
       "      <th>Crime_Type</th>\n",
       "      <th>Multiple_Shooting</th>\n",
       "      <th>Gender</th>\n",
       "      <th>Race</th>\n",
       "      <th>Ethnicity</th>\n",
       "      <th>Victim_Age</th>\n",
       "      <th>Victim_Age_Band</th>\n",
       "      <th>Latitude</th>\n",
       "      <th>Longitude</th>\n",
       "      <th>ObjectId</th>\n",
       "    </tr>\n",
       "  </thead>\n",
       "  <tbody>\n",
       "    <tr>\n",
       "      <th>0</th>\n",
       "      <td>-77.607990</td>\n",
       "      <td>43.183680</td>\n",
       "      <td>d981912bde17ff11baeec440d2962c55</td>\n",
       "      <td>20-180265</td>\n",
       "      <td>1010 Joseph Ave</td>\n",
       "      <td>2020/08/09 04:00:00+00</td>\n",
       "      <td>8</td>\n",
       "      <td>2020</td>\n",
       "      <td>Shooting</td>\n",
       "      <td>No</td>\n",
       "      <td>M</td>\n",
       "      <td>BLACK</td>\n",
       "      <td>NON HISPANIC</td>\n",
       "      <td>23</td>\n",
       "      <td>15-24</td>\n",
       "      <td>43.183680</td>\n",
       "      <td>-77.607990</td>\n",
       "      <td>1</td>\n",
       "    </tr>\n",
       "    <tr>\n",
       "      <th>1</th>\n",
       "      <td>-77.643147</td>\n",
       "      <td>43.141723</td>\n",
       "      <td>9aed9ae5ee7f83638ee33ccff49cf6b9</td>\n",
       "      <td>20-180404</td>\n",
       "      <td>294 Rugby Ave</td>\n",
       "      <td>2020/08/09 04:00:00+00</td>\n",
       "      <td>8</td>\n",
       "      <td>2020</td>\n",
       "      <td>Shooting</td>\n",
       "      <td>No</td>\n",
       "      <td>F</td>\n",
       "      <td>BLACK</td>\n",
       "      <td>NON HISPANIC</td>\n",
       "      <td>28</td>\n",
       "      <td>25-44</td>\n",
       "      <td>43.141723</td>\n",
       "      <td>-77.643147</td>\n",
       "      <td>2</td>\n",
       "    </tr>\n",
       "    <tr>\n",
       "      <th>2</th>\n",
       "      <td>-77.611200</td>\n",
       "      <td>43.178448</td>\n",
       "      <td>b0c3f83c934aeea9486ccc2362e0cee6</td>\n",
       "      <td>20-179396</td>\n",
       "      <td>77 Ketchum St</td>\n",
       "      <td>2020/08/08 04:00:00+00</td>\n",
       "      <td>8</td>\n",
       "      <td>2020</td>\n",
       "      <td>Shooting</td>\n",
       "      <td>No</td>\n",
       "      <td>M</td>\n",
       "      <td>WHITE</td>\n",
       "      <td>NON HISPANIC</td>\n",
       "      <td>49</td>\n",
       "      <td>45-Older</td>\n",
       "      <td>43.178448</td>\n",
       "      <td>-77.611200</td>\n",
       "      <td>3</td>\n",
       "    </tr>\n",
       "    <tr>\n",
       "      <th>3</th>\n",
       "      <td>-77.613357</td>\n",
       "      <td>43.168276</td>\n",
       "      <td>b83cd8b57bb9048cca4830620cbfab07</td>\n",
       "      <td>20-179526</td>\n",
       "      <td>123 Upper Falls Blvd</td>\n",
       "      <td>2020/08/08 04:00:00+00</td>\n",
       "      <td>8</td>\n",
       "      <td>2020</td>\n",
       "      <td>Shooting</td>\n",
       "      <td>No</td>\n",
       "      <td>M</td>\n",
       "      <td>BLACK</td>\n",
       "      <td>NON HISPANIC</td>\n",
       "      <td>23</td>\n",
       "      <td>15-24</td>\n",
       "      <td>43.168276</td>\n",
       "      <td>-77.613357</td>\n",
       "      <td>4</td>\n",
       "    </tr>\n",
       "    <tr>\n",
       "      <th>4</th>\n",
       "      <td>-77.589725</td>\n",
       "      <td>43.181775</td>\n",
       "      <td>42bb767348c1f8a5e4c085b67ab14732</td>\n",
       "      <td>20-177327</td>\n",
       "      <td>334 Roycroft Dr</td>\n",
       "      <td>2020/08/06 04:00:00+00</td>\n",
       "      <td>8</td>\n",
       "      <td>2020</td>\n",
       "      <td>Shooting</td>\n",
       "      <td>Yes</td>\n",
       "      <td>M</td>\n",
       "      <td>BLACK</td>\n",
       "      <td>NON HISPANIC</td>\n",
       "      <td>22</td>\n",
       "      <td>15-24</td>\n",
       "      <td>43.181775</td>\n",
       "      <td>-77.589725</td>\n",
       "      <td>5</td>\n",
       "    </tr>\n",
       "    <tr>\n",
       "      <th>...</th>\n",
       "      <td>...</td>\n",
       "      <td>...</td>\n",
       "      <td>...</td>\n",
       "      <td>...</td>\n",
       "      <td>...</td>\n",
       "      <td>...</td>\n",
       "      <td>...</td>\n",
       "      <td>...</td>\n",
       "      <td>...</td>\n",
       "      <td>...</td>\n",
       "      <td>...</td>\n",
       "      <td>...</td>\n",
       "      <td>...</td>\n",
       "      <td>...</td>\n",
       "      <td>...</td>\n",
       "      <td>...</td>\n",
       "      <td>...</td>\n",
       "      <td>...</td>\n",
       "    </tr>\n",
       "    <tr>\n",
       "      <th>192</th>\n",
       "      <td>-77.603529</td>\n",
       "      <td>43.186527</td>\n",
       "      <td>25baf3637287b913da75ce7a82c02e76</td>\n",
       "      <td>20-248542</td>\n",
       "      <td>735 Norton St</td>\n",
       "      <td>2020/11/06 05:00:00+00</td>\n",
       "      <td>11</td>\n",
       "      <td>2020</td>\n",
       "      <td>Shooting</td>\n",
       "      <td>Yes</td>\n",
       "      <td>F</td>\n",
       "      <td>WHITE</td>\n",
       "      <td>HISPANIC</td>\n",
       "      <td>38</td>\n",
       "      <td>25-44</td>\n",
       "      <td>43.186527</td>\n",
       "      <td>-77.603529</td>\n",
       "      <td>193</td>\n",
       "    </tr>\n",
       "    <tr>\n",
       "      <th>193</th>\n",
       "      <td>-77.638011</td>\n",
       "      <td>43.177847</td>\n",
       "      <td>e7e65cbf4cbea4fb5a4b84213e4bff7c</td>\n",
       "      <td>20-247120</td>\n",
       "      <td>124 Maryland St</td>\n",
       "      <td>2020/11/05 05:00:00+00</td>\n",
       "      <td>11</td>\n",
       "      <td>2020</td>\n",
       "      <td>Shooting</td>\n",
       "      <td>No</td>\n",
       "      <td>M</td>\n",
       "      <td>WHITE</td>\n",
       "      <td>HISPANIC</td>\n",
       "      <td>45</td>\n",
       "      <td>45-Older</td>\n",
       "      <td>43.177847</td>\n",
       "      <td>-77.638011</td>\n",
       "      <td>194</td>\n",
       "    </tr>\n",
       "    <tr>\n",
       "      <th>194</th>\n",
       "      <td>-77.580387</td>\n",
       "      <td>43.163797</td>\n",
       "      <td>f9fc4e2caadd80ba41912e99a4198db3</td>\n",
       "      <td>20-247753</td>\n",
       "      <td>266 Garson Ave</td>\n",
       "      <td>2020/11/05 05:00:00+00</td>\n",
       "      <td>11</td>\n",
       "      <td>2020</td>\n",
       "      <td>Shooting</td>\n",
       "      <td>No</td>\n",
       "      <td>M</td>\n",
       "      <td>BLACK</td>\n",
       "      <td>NON HISPANIC</td>\n",
       "      <td>36</td>\n",
       "      <td>25-44</td>\n",
       "      <td>43.163797</td>\n",
       "      <td>-77.580387</td>\n",
       "      <td>195</td>\n",
       "    </tr>\n",
       "    <tr>\n",
       "      <th>195</th>\n",
       "      <td>-77.584300</td>\n",
       "      <td>43.177547</td>\n",
       "      <td>756cd79a8fb43560d781eb216e430d4d</td>\n",
       "      <td>20-246912</td>\n",
       "      <td>201 Fernwood Ave</td>\n",
       "      <td>2020/11/04 05:00:00+00</td>\n",
       "      <td>11</td>\n",
       "      <td>2020</td>\n",
       "      <td>Shooting</td>\n",
       "      <td>No</td>\n",
       "      <td>M</td>\n",
       "      <td>WHITE</td>\n",
       "      <td>NON HISPANIC</td>\n",
       "      <td>24</td>\n",
       "      <td>15-24</td>\n",
       "      <td>43.177547</td>\n",
       "      <td>-77.584300</td>\n",
       "      <td>196</td>\n",
       "    </tr>\n",
       "    <tr>\n",
       "      <th>196</th>\n",
       "      <td>-77.629139</td>\n",
       "      <td>43.151774</td>\n",
       "      <td>1f67441c2eae1d31776b1c961eb74d82</td>\n",
       "      <td>20-245631</td>\n",
       "      <td>615 W Main St</td>\n",
       "      <td>2020/11/02 05:00:00+00</td>\n",
       "      <td>11</td>\n",
       "      <td>2020</td>\n",
       "      <td>Shooting</td>\n",
       "      <td>No</td>\n",
       "      <td>M</td>\n",
       "      <td>BLACK</td>\n",
       "      <td>NON HISPANIC</td>\n",
       "      <td>44</td>\n",
       "      <td>25-44</td>\n",
       "      <td>43.151774</td>\n",
       "      <td>-77.629139</td>\n",
       "      <td>197</td>\n",
       "    </tr>\n",
       "  </tbody>\n",
       "</table>\n",
       "<p>197 rows × 18 columns</p>\n",
       "</div>"
      ],
      "text/plain": [
       "             X          Y                                ID Case_Number  \\\n",
       "0   -77.607990  43.183680  d981912bde17ff11baeec440d2962c55   20-180265   \n",
       "1   -77.643147  43.141723  9aed9ae5ee7f83638ee33ccff49cf6b9   20-180404   \n",
       "2   -77.611200  43.178448  b0c3f83c934aeea9486ccc2362e0cee6   20-179396   \n",
       "3   -77.613357  43.168276  b83cd8b57bb9048cca4830620cbfab07   20-179526   \n",
       "4   -77.589725  43.181775  42bb767348c1f8a5e4c085b67ab14732   20-177327   \n",
       "..         ...        ...                               ...         ...   \n",
       "192 -77.603529  43.186527  25baf3637287b913da75ce7a82c02e76   20-248542   \n",
       "193 -77.638011  43.177847  e7e65cbf4cbea4fb5a4b84213e4bff7c   20-247120   \n",
       "194 -77.580387  43.163797  f9fc4e2caadd80ba41912e99a4198db3   20-247753   \n",
       "195 -77.584300  43.177547  756cd79a8fb43560d781eb216e430d4d   20-246912   \n",
       "196 -77.629139  43.151774  1f67441c2eae1d31776b1c961eb74d82   20-245631   \n",
       "\n",
       "                  Address           Occurred_Date  Occurred_Month  \\\n",
       "0         1010 Joseph Ave  2020/08/09 04:00:00+00               8   \n",
       "1           294 Rugby Ave  2020/08/09 04:00:00+00               8   \n",
       "2           77 Ketchum St  2020/08/08 04:00:00+00               8   \n",
       "3    123 Upper Falls Blvd  2020/08/08 04:00:00+00               8   \n",
       "4         334 Roycroft Dr  2020/08/06 04:00:00+00               8   \n",
       "..                    ...                     ...             ...   \n",
       "192         735 Norton St  2020/11/06 05:00:00+00              11   \n",
       "193       124 Maryland St  2020/11/05 05:00:00+00              11   \n",
       "194        266 Garson Ave  2020/11/05 05:00:00+00              11   \n",
       "195      201 Fernwood Ave  2020/11/04 05:00:00+00              11   \n",
       "196         615 W Main St  2020/11/02 05:00:00+00              11   \n",
       "\n",
       "     Occurred_Year Crime_Type Multiple_Shooting Gender   Race     Ethnicity  \\\n",
       "0             2020   Shooting                No      M  BLACK  NON HISPANIC   \n",
       "1             2020   Shooting                No      F  BLACK  NON HISPANIC   \n",
       "2             2020   Shooting                No      M  WHITE  NON HISPANIC   \n",
       "3             2020   Shooting                No      M  BLACK  NON HISPANIC   \n",
       "4             2020   Shooting               Yes      M  BLACK  NON HISPANIC   \n",
       "..             ...        ...               ...    ...    ...           ...   \n",
       "192           2020   Shooting               Yes      F  WHITE      HISPANIC   \n",
       "193           2020   Shooting                No      M  WHITE      HISPANIC   \n",
       "194           2020   Shooting                No      M  BLACK  NON HISPANIC   \n",
       "195           2020   Shooting                No      M  WHITE  NON HISPANIC   \n",
       "196           2020   Shooting                No      M  BLACK  NON HISPANIC   \n",
       "\n",
       "     Victim_Age Victim_Age_Band   Latitude  Longitude  ObjectId  \n",
       "0            23           15-24  43.183680 -77.607990         1  \n",
       "1            28           25-44  43.141723 -77.643147         2  \n",
       "2            49        45-Older  43.178448 -77.611200         3  \n",
       "3            23           15-24  43.168276 -77.613357         4  \n",
       "4            22           15-24  43.181775 -77.589725         5  \n",
       "..          ...             ...        ...        ...       ...  \n",
       "192          38           25-44  43.186527 -77.603529       193  \n",
       "193          45        45-Older  43.177847 -77.638011       194  \n",
       "194          36           25-44  43.163797 -77.580387       195  \n",
       "195          24           15-24  43.177547 -77.584300       196  \n",
       "196          44           25-44  43.151774 -77.629139       197  \n",
       "\n",
       "[197 rows x 18 columns]"
      ]
     },
     "execution_count": 63,
     "metadata": {},
     "output_type": "execute_result"
    }
   ],
   "source": [
    "data"
   ]
  },
  {
   "cell_type": "code",
   "execution_count": 64,
   "metadata": {},
   "outputs": [],
   "source": [
    "#example cordinates\n",
    "my_coords = [38.9719980,-76.9219820]"
   ]
  },
  {
   "cell_type": "code",
   "execution_count": 65,
   "metadata": {},
   "outputs": [],
   "source": [
    "#zoom from coordinates (in degrees)\n",
    "zoom_scale = 1"
   ]
  },
  {
   "cell_type": "code",
   "execution_count": 66,
   "metadata": {},
   "outputs": [],
   "source": [
    "# Setup the bounding box for the zoom and bounds of the map\n",
    "bbox = [my_coords[0]-zoom_scale,my_coords[0]+zoom_scale,\\\n",
    "my_coords[1]-zoom_scale,my_coords[1]+zoom_scale]"
   ]
  },
  {
   "cell_type": "code",
   "execution_count": 67,
   "metadata": {},
   "outputs": [
    {
     "data": {
      "text/plain": [
       "<Figure size 864x432 with 0 Axes>"
      ]
     },
     "execution_count": 67,
     "metadata": {},
     "output_type": "execute_result"
    },
    {
     "data": {
      "text/plain": [
       "<Figure size 864x432 with 0 Axes>"
      ]
     },
     "metadata": {},
     "output_type": "display_data"
    }
   ],
   "source": [
    "plt.figure(figsize=(12,6))"
   ]
  },
  {
   "cell_type": "code",
   "execution_count": 68,
   "metadata": {},
   "outputs": [],
   "source": [
    "# Define the projection, scale, the corners of the map, and the resolution.\n",
    "m = Basemap(projection='merc',llcrnrlat=bbox[0],urcrnrlat=bbox[1],\\\n",
    "llcrnrlon=bbox[2],urcrnrlon=bbox[3],lat_ts=10,resolution='i')"
   ]
  },
  {
   "cell_type": "code",
   "execution_count": 69,
   "metadata": {},
   "outputs": [
    {
     "data": {
      "text/plain": [
       "[<matplotlib.patches.Polygon at 0x7fb392443a60>,\n",
       " <matplotlib.patches.Polygon at 0x7fb3907c1610>,\n",
       " <matplotlib.patches.Polygon at 0x7fb3907c1820>,\n",
       " <matplotlib.patches.Polygon at 0x7fb3907c19d0>]"
      ]
     },
     "execution_count": 69,
     "metadata": {},
     "output_type": "execute_result"
    },
    {
     "data": {
      "image/png": "[encoded data removed]",
      "text/plain": [
       "<Figure size 432x288 with 1 Axes>"
      ]
     },
     "metadata": {},
     "output_type": "display_data"
    }
   ],
   "source": [
    "m.drawcoastlines()\n",
    "m.fillcontinents(color='green',lake_color='blue')"
   ]
  },
  {
   "cell_type": "code",
   "execution_count": 70,
   "metadata": {},
   "outputs": [
    {
     "data": {
      "text/plain": [
       "<matplotlib.patches.Rectangle at 0x7fb3905f29d0>"
      ]
     },
     "execution_count": 70,
     "metadata": {},
     "output_type": "execute_result"
    },
    {
     "data": {
      "image/png": "[encoded data removed]",
      "text/plain": [
       "<Figure size 432x288 with 1 Axes>"
      ]
     },
     "metadata": {},
     "output_type": "display_data"
    }
   ],
   "source": [
    "# draw parallels, meridians, and color boundaries\n",
    "m.drawparallels(np.arange(bbox[0],bbox[1],(bbox[1]-bbox[0])/5),labels=[1,0,0,0])\n",
    "m.drawmeridians(np.arange(bbox[2],bbox[3],(bbox[3]-bbox[2])/5),labels=[0,0,0,1],rotation=45)\n",
    "m.drawmapboundary(fill_color='lightblue')"
   ]
  },
  {
   "cell_type": "code",
   "execution_count": 71,
   "metadata": {},
   "outputs": [
    {
     "data": {
      "image/png": "[encoded data removed]",
      "text/plain": [
       "<Figure size 432x288 with 1 Axes>"
      ]
     },
     "metadata": {
      "needs_background": "light"
     },
     "output_type": "display_data"
    }
   ],
   "source": [
    "# build and plot coordinates onto map\n",
    "x,y = m(my_coords[1],my_coords[0])\n",
    "plt.title(\"Rochester, NY Police Patrol Locations\")\n",
    "plt.savefig('Patrolling_area.png', format='png', dpi=500)"
   ]
  },
  {
   "cell_type": "code",
   "execution_count": null,
   "metadata": {},
   "outputs": [],
   "source": []
  },
  {
   "cell_type": "code",
   "execution_count": null,
   "metadata": {},
   "outputs": [],
   "source": []
  }
 ],
 "metadata": {
  "kernelspec": {
   "display_name": "Python 3",
   "language": "python",
   "name": "python3"
  },
  "language_info": {
   "codemirror_mode": {
    "name": "ipython",
    "version": 3
   },
   "file_extension": ".py",
   "mimetype": "text/x-python",
   "name": "python",
   "nbconvert_exporter": "python",
   "pygments_lexer": "ipython3",
   "version": "3.8.3"
  }
 },
 "nbformat": 4,
 "nbformat_minor": 4
}
