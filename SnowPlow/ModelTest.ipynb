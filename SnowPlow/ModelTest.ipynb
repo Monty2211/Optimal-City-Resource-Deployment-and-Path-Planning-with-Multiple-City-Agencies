{
 "cells": [
  {
   "cell_type": "code",
   "execution_count": 1,
   "id": "bbfa4e1d",
   "metadata": {},
   "outputs": [],
   "source": [
    "import pandas as pd\n",
    "from geopy import distance\n",
    "import requests # to call the openmap/google apis\n",
    "import json\n",
    "import datetime\n",
    "import math\n",
    "import itertools\n",
    "import numpy as np\n",
    "import json\n",
    "import matplotlib.pyplot as plt\n",
    "import requests \n",
    "import networkx as nx\n",
    "from pulp import *\n",
    "import seaborn as sn"
   ]
  },
  {
   "cell_type": "code",
   "execution_count": 2,
   "id": "cee19ad2",
   "metadata": {},
   "outputs": [
    {
     "data": {
      "text/html": [
       "<div>\n",
       "<style scoped>\n",
       "    .dataframe tbody tr th:only-of-type {\n",
       "        vertical-align: middle;\n",
       "    }\n",
       "\n",
       "    .dataframe tbody tr th {\n",
       "        vertical-align: top;\n",
       "    }\n",
       "\n",
       "    .dataframe thead th {\n",
       "        text-align: right;\n",
       "    }\n",
       "</style>\n",
       "<table border=\"1\" class=\"dataframe\">\n",
       "  <thead>\n",
       "    <tr style=\"text-align: right;\">\n",
       "      <th></th>\n",
       "      <th>Unnamed: 0</th>\n",
       "      <th>Nodes</th>\n",
       "      <th>Latitude</th>\n",
       "      <th>Longitude</th>\n",
       "    </tr>\n",
       "  </thead>\n",
       "  <tbody>\n",
       "    <tr>\n",
       "      <th>0</th>\n",
       "      <td>0</td>\n",
       "      <td>49735507</td>\n",
       "      <td>38.936283</td>\n",
       "      <td>-77.072975</td>\n",
       "    </tr>\n",
       "    <tr>\n",
       "      <th>1</th>\n",
       "      <td>1</td>\n",
       "      <td>49748328</td>\n",
       "      <td>38.937335</td>\n",
       "      <td>-77.066387</td>\n",
       "    </tr>\n",
       "    <tr>\n",
       "      <th>2</th>\n",
       "      <td>2</td>\n",
       "      <td>49748340</td>\n",
       "      <td>38.938151</td>\n",
       "      <td>-77.066389</td>\n",
       "    </tr>\n",
       "    <tr>\n",
       "      <th>3</th>\n",
       "      <td>3</td>\n",
       "      <td>49748353</td>\n",
       "      <td>38.938586</td>\n",
       "      <td>-77.066455</td>\n",
       "    </tr>\n",
       "    <tr>\n",
       "      <th>4</th>\n",
       "      <td>4</td>\n",
       "      <td>49753268</td>\n",
       "      <td>38.937332</td>\n",
       "      <td>-77.068636</td>\n",
       "    </tr>\n",
       "  </tbody>\n",
       "</table>\n",
       "</div>"
      ],
      "text/plain": [
       "   Unnamed: 0     Nodes   Latitude  Longitude\n",
       "0           0  49735507  38.936283 -77.072975\n",
       "1           1  49748328  38.937335 -77.066387\n",
       "2           2  49748340  38.938151 -77.066389\n",
       "3           3  49748353  38.938586 -77.066455\n",
       "4           4  49753268  38.937332 -77.068636"
      ]
     },
     "execution_count": 2,
     "metadata": {},
     "output_type": "execute_result"
    }
   ],
   "source": [
    "df = pd.read_csv(\"Cluster.csv\")\n",
    "df.head()"
   ]
  },
  {
   "cell_type": "code",
   "execution_count": 3,
   "id": "4614b52a",
   "metadata": {},
   "outputs": [],
   "source": [
    "dataPart1 = df.head(10)"
   ]
  },
  {
   "cell_type": "code",
   "execution_count": 4,
   "id": "e0ea1472",
   "metadata": {},
   "outputs": [
    {
     "data": {
      "text/html": [
       "<div>\n",
       "<style scoped>\n",
       "    .dataframe tbody tr th:only-of-type {\n",
       "        vertical-align: middle;\n",
       "    }\n",
       "\n",
       "    .dataframe tbody tr th {\n",
       "        vertical-align: top;\n",
       "    }\n",
       "\n",
       "    .dataframe thead th {\n",
       "        text-align: right;\n",
       "    }\n",
       "</style>\n",
       "<table border=\"1\" class=\"dataframe\">\n",
       "  <thead>\n",
       "    <tr style=\"text-align: right;\">\n",
       "      <th></th>\n",
       "      <th>Unnamed: 0</th>\n",
       "      <th>Nodes</th>\n",
       "      <th>Latitude</th>\n",
       "      <th>Longitude</th>\n",
       "    </tr>\n",
       "  </thead>\n",
       "  <tbody>\n",
       "    <tr>\n",
       "      <th>0</th>\n",
       "      <td>0</td>\n",
       "      <td>49735507</td>\n",
       "      <td>38.936283</td>\n",
       "      <td>-77.072975</td>\n",
       "    </tr>\n",
       "    <tr>\n",
       "      <th>1</th>\n",
       "      <td>1</td>\n",
       "      <td>49748328</td>\n",
       "      <td>38.937335</td>\n",
       "      <td>-77.066387</td>\n",
       "    </tr>\n",
       "    <tr>\n",
       "      <th>2</th>\n",
       "      <td>2</td>\n",
       "      <td>49748340</td>\n",
       "      <td>38.938151</td>\n",
       "      <td>-77.066389</td>\n",
       "    </tr>\n",
       "    <tr>\n",
       "      <th>3</th>\n",
       "      <td>3</td>\n",
       "      <td>49748353</td>\n",
       "      <td>38.938586</td>\n",
       "      <td>-77.066455</td>\n",
       "    </tr>\n",
       "    <tr>\n",
       "      <th>4</th>\n",
       "      <td>4</td>\n",
       "      <td>49753268</td>\n",
       "      <td>38.937332</td>\n",
       "      <td>-77.068636</td>\n",
       "    </tr>\n",
       "    <tr>\n",
       "      <th>5</th>\n",
       "      <td>5</td>\n",
       "      <td>49753270</td>\n",
       "      <td>38.937332</td>\n",
       "      <td>-77.070886</td>\n",
       "    </tr>\n",
       "    <tr>\n",
       "      <th>6</th>\n",
       "      <td>6</td>\n",
       "      <td>49753272</td>\n",
       "      <td>38.937331</td>\n",
       "      <td>-77.072112</td>\n",
       "    </tr>\n",
       "    <tr>\n",
       "      <th>7</th>\n",
       "      <td>7</td>\n",
       "      <td>49753274</td>\n",
       "      <td>38.937330</td>\n",
       "      <td>-77.072418</td>\n",
       "    </tr>\n",
       "    <tr>\n",
       "      <th>8</th>\n",
       "      <td>8</td>\n",
       "      <td>49753280</td>\n",
       "      <td>38.937287</td>\n",
       "      <td>-77.073793</td>\n",
       "    </tr>\n",
       "    <tr>\n",
       "      <th>9</th>\n",
       "      <td>9</td>\n",
       "      <td>49756456</td>\n",
       "      <td>38.938602</td>\n",
       "      <td>-77.065426</td>\n",
       "    </tr>\n",
       "  </tbody>\n",
       "</table>\n",
       "</div>"
      ],
      "text/plain": [
       "   Unnamed: 0     Nodes   Latitude  Longitude\n",
       "0           0  49735507  38.936283 -77.072975\n",
       "1           1  49748328  38.937335 -77.066387\n",
       "2           2  49748340  38.938151 -77.066389\n",
       "3           3  49748353  38.938586 -77.066455\n",
       "4           4  49753268  38.937332 -77.068636\n",
       "5           5  49753270  38.937332 -77.070886\n",
       "6           6  49753272  38.937331 -77.072112\n",
       "7           7  49753274  38.937330 -77.072418\n",
       "8           8  49753280  38.937287 -77.073793\n",
       "9           9  49756456  38.938602 -77.065426"
      ]
     },
     "execution_count": 4,
     "metadata": {},
     "output_type": "execute_result"
    }
   ],
   "source": [
    "dataPart1"
   ]
  },
  {
   "cell_type": "code",
   "execution_count": 5,
   "id": "11e591f3",
   "metadata": {},
   "outputs": [],
   "source": [
    "df = dataPart1"
   ]
  },
  {
   "cell_type": "code",
   "execution_count": null,
   "id": "6a953a15",
   "metadata": {},
   "outputs": [],
   "source": []
  },
  {
   "cell_type": "code",
   "execution_count": null,
   "id": "8b4e0fc3",
   "metadata": {},
   "outputs": [],
   "source": []
  },
  {
   "cell_type": "code",
   "execution_count": 6,
   "id": "0b1511a5",
   "metadata": {},
   "outputs": [
    {
     "data": {
      "text/html": [
       "<div>\n",
       "<style scoped>\n",
       "    .dataframe tbody tr th:only-of-type {\n",
       "        vertical-align: middle;\n",
       "    }\n",
       "\n",
       "    .dataframe tbody tr th {\n",
       "        vertical-align: top;\n",
       "    }\n",
       "\n",
       "    .dataframe thead th {\n",
       "        text-align: right;\n",
       "    }\n",
       "</style>\n",
       "<table border=\"1\" class=\"dataframe\">\n",
       "  <thead>\n",
       "    <tr style=\"text-align: right;\">\n",
       "      <th></th>\n",
       "      <th>Latitude</th>\n",
       "      <th>Longitude</th>\n",
       "    </tr>\n",
       "  </thead>\n",
       "  <tbody>\n",
       "    <tr>\n",
       "      <th>0</th>\n",
       "      <td>38.936283</td>\n",
       "      <td>-77.072975</td>\n",
       "    </tr>\n",
       "    <tr>\n",
       "      <th>1</th>\n",
       "      <td>38.937335</td>\n",
       "      <td>-77.066387</td>\n",
       "    </tr>\n",
       "    <tr>\n",
       "      <th>2</th>\n",
       "      <td>38.938151</td>\n",
       "      <td>-77.066389</td>\n",
       "    </tr>\n",
       "    <tr>\n",
       "      <th>3</th>\n",
       "      <td>38.938586</td>\n",
       "      <td>-77.066455</td>\n",
       "    </tr>\n",
       "    <tr>\n",
       "      <th>4</th>\n",
       "      <td>38.937332</td>\n",
       "      <td>-77.068636</td>\n",
       "    </tr>\n",
       "    <tr>\n",
       "      <th>5</th>\n",
       "      <td>38.937332</td>\n",
       "      <td>-77.070886</td>\n",
       "    </tr>\n",
       "    <tr>\n",
       "      <th>6</th>\n",
       "      <td>38.937331</td>\n",
       "      <td>-77.072112</td>\n",
       "    </tr>\n",
       "    <tr>\n",
       "      <th>7</th>\n",
       "      <td>38.937330</td>\n",
       "      <td>-77.072418</td>\n",
       "    </tr>\n",
       "    <tr>\n",
       "      <th>8</th>\n",
       "      <td>38.937287</td>\n",
       "      <td>-77.073793</td>\n",
       "    </tr>\n",
       "    <tr>\n",
       "      <th>9</th>\n",
       "      <td>38.938602</td>\n",
       "      <td>-77.065426</td>\n",
       "    </tr>\n",
       "  </tbody>\n",
       "</table>\n",
       "</div>"
      ],
      "text/plain": [
       "    Latitude  Longitude\n",
       "0  38.936283 -77.072975\n",
       "1  38.937335 -77.066387\n",
       "2  38.938151 -77.066389\n",
       "3  38.938586 -77.066455\n",
       "4  38.937332 -77.068636\n",
       "5  38.937332 -77.070886\n",
       "6  38.937331 -77.072112\n",
       "7  38.937330 -77.072418\n",
       "8  38.937287 -77.073793\n",
       "9  38.938602 -77.065426"
      ]
     },
     "execution_count": 6,
     "metadata": {},
     "output_type": "execute_result"
    }
   ],
   "source": [
    "selected_columns = df[[\"Latitude\",\"Longitude\"]]\n",
    "\n",
    "df0 = selected_columns.copy()\n",
    "df0"
   ]
  },
  {
   "cell_type": "code",
   "execution_count": 7,
   "id": "ebcdcdca",
   "metadata": {},
   "outputs": [
    {
     "data": {
      "text/plain": [
       "numpy.ndarray"
      ]
     },
     "execution_count": 7,
     "metadata": {},
     "output_type": "execute_result"
    }
   ],
   "source": [
    "from scipy.spatial.distance import pdist\n",
    "from scipy.spatial.distance import squareform \n",
    "subset = df0[['Latitude', 'Longitude']]\n",
    "tuples = [tuple(x) for x in subset.to_numpy()]\n",
    "# print(tuples)\n",
    "coordinates_array = np.array(tuples)\n",
    "dist_array = pdist(coordinates_array)\n",
    "\n",
    "dist_matrix = squareform(dist_array)\n",
    "\n",
    "type(dist_matrix)"
   ]
  },
  {
   "cell_type": "code",
   "execution_count": 14,
   "id": "72c24459",
   "metadata": {},
   "outputs": [],
   "source": [
    "distances = pd.DataFrame(dist_matrix, columns = ['0','1','2','3','4','5','6','7','8','9'])"
   ]
  },
  {
   "cell_type": "code",
   "execution_count": 15,
   "id": "548ff338",
   "metadata": {},
   "outputs": [
    {
     "data": {
      "text/html": [
       "<div>\n",
       "<style scoped>\n",
       "    .dataframe tbody tr th:only-of-type {\n",
       "        vertical-align: middle;\n",
       "    }\n",
       "\n",
       "    .dataframe tbody tr th {\n",
       "        vertical-align: top;\n",
       "    }\n",
       "\n",
       "    .dataframe thead th {\n",
       "        text-align: right;\n",
       "    }\n",
       "</style>\n",
       "<table border=\"1\" class=\"dataframe\">\n",
       "  <thead>\n",
       "    <tr style=\"text-align: right;\">\n",
       "      <th></th>\n",
       "      <th>0</th>\n",
       "      <th>1</th>\n",
       "      <th>2</th>\n",
       "      <th>3</th>\n",
       "      <th>4</th>\n",
       "      <th>5</th>\n",
       "      <th>6</th>\n",
       "      <th>7</th>\n",
       "      <th>8</th>\n",
       "      <th>9</th>\n",
       "    </tr>\n",
       "  </thead>\n",
       "  <tbody>\n",
       "    <tr>\n",
       "      <th>0</th>\n",
       "      <td>0.000000</td>\n",
       "      <td>0.006671</td>\n",
       "      <td>0.006846</td>\n",
       "      <td>0.006915</td>\n",
       "      <td>0.004464</td>\n",
       "      <td>0.002338</td>\n",
       "      <td>0.001358</td>\n",
       "      <td>0.001186</td>\n",
       "      <td>0.001295</td>\n",
       "      <td>0.007897</td>\n",
       "    </tr>\n",
       "    <tr>\n",
       "      <th>1</th>\n",
       "      <td>0.006671</td>\n",
       "      <td>0.000000</td>\n",
       "      <td>0.000816</td>\n",
       "      <td>0.001253</td>\n",
       "      <td>0.002249</td>\n",
       "      <td>0.004499</td>\n",
       "      <td>0.005725</td>\n",
       "      <td>0.006031</td>\n",
       "      <td>0.007406</td>\n",
       "      <td>0.001590</td>\n",
       "    </tr>\n",
       "    <tr>\n",
       "      <th>2</th>\n",
       "      <td>0.006846</td>\n",
       "      <td>0.000816</td>\n",
       "      <td>0.000000</td>\n",
       "      <td>0.000440</td>\n",
       "      <td>0.002392</td>\n",
       "      <td>0.004571</td>\n",
       "      <td>0.005781</td>\n",
       "      <td>0.006085</td>\n",
       "      <td>0.007454</td>\n",
       "      <td>0.001063</td>\n",
       "    </tr>\n",
       "    <tr>\n",
       "      <th>3</th>\n",
       "      <td>0.006915</td>\n",
       "      <td>0.001253</td>\n",
       "      <td>0.000440</td>\n",
       "      <td>0.000000</td>\n",
       "      <td>0.002516</td>\n",
       "      <td>0.004605</td>\n",
       "      <td>0.005795</td>\n",
       "      <td>0.006094</td>\n",
       "      <td>0.007452</td>\n",
       "      <td>0.001029</td>\n",
       "    </tr>\n",
       "    <tr>\n",
       "      <th>4</th>\n",
       "      <td>0.004464</td>\n",
       "      <td>0.002249</td>\n",
       "      <td>0.002392</td>\n",
       "      <td>0.002516</td>\n",
       "      <td>0.000000</td>\n",
       "      <td>0.002250</td>\n",
       "      <td>0.003476</td>\n",
       "      <td>0.003782</td>\n",
       "      <td>0.005157</td>\n",
       "      <td>0.003452</td>\n",
       "    </tr>\n",
       "  </tbody>\n",
       "</table>\n",
       "</div>"
      ],
      "text/plain": [
       "          0         1         2         3         4         5         6  \\\n",
       "0  0.000000  0.006671  0.006846  0.006915  0.004464  0.002338  0.001358   \n",
       "1  0.006671  0.000000  0.000816  0.001253  0.002249  0.004499  0.005725   \n",
       "2  0.006846  0.000816  0.000000  0.000440  0.002392  0.004571  0.005781   \n",
       "3  0.006915  0.001253  0.000440  0.000000  0.002516  0.004605  0.005795   \n",
       "4  0.004464  0.002249  0.002392  0.002516  0.000000  0.002250  0.003476   \n",
       "\n",
       "          7         8         9  \n",
       "0  0.001186  0.001295  0.007897  \n",
       "1  0.006031  0.007406  0.001590  \n",
       "2  0.006085  0.007454  0.001063  \n",
       "3  0.006094  0.007452  0.001029  \n",
       "4  0.003782  0.005157  0.003452  "
      ]
     },
     "execution_count": 15,
     "metadata": {},
     "output_type": "execute_result"
    }
   ],
   "source": [
    "distances.head()"
   ]
  },
  {
   "cell_type": "code",
   "execution_count": 16,
   "id": "11e63b0b",
   "metadata": {},
   "outputs": [
    {
     "data": {
      "text/html": [
       "<div>\n",
       "<style scoped>\n",
       "    .dataframe tbody tr th:only-of-type {\n",
       "        vertical-align: middle;\n",
       "    }\n",
       "\n",
       "    .dataframe tbody tr th {\n",
       "        vertical-align: top;\n",
       "    }\n",
       "\n",
       "    .dataframe thead th {\n",
       "        text-align: right;\n",
       "    }\n",
       "</style>\n",
       "<table border=\"1\" class=\"dataframe\">\n",
       "  <thead>\n",
       "    <tr style=\"text-align: right;\">\n",
       "      <th></th>\n",
       "      <th>Latitude</th>\n",
       "      <th>Longitude</th>\n",
       "      <th>Coords</th>\n",
       "      <th>ID</th>\n",
       "    </tr>\n",
       "  </thead>\n",
       "  <tbody>\n",
       "    <tr>\n",
       "      <th>0</th>\n",
       "      <td>38.936283</td>\n",
       "      <td>-77.072975</td>\n",
       "      <td>(38.936283, -77.072975)</td>\n",
       "      <td>0</td>\n",
       "    </tr>\n",
       "    <tr>\n",
       "      <th>1</th>\n",
       "      <td>38.937335</td>\n",
       "      <td>-77.066387</td>\n",
       "      <td>(38.937335, -77.066387)</td>\n",
       "      <td>1</td>\n",
       "    </tr>\n",
       "    <tr>\n",
       "      <th>2</th>\n",
       "      <td>38.938151</td>\n",
       "      <td>-77.066389</td>\n",
       "      <td>(38.938151, -77.066389)</td>\n",
       "      <td>2</td>\n",
       "    </tr>\n",
       "    <tr>\n",
       "      <th>3</th>\n",
       "      <td>38.938586</td>\n",
       "      <td>-77.066455</td>\n",
       "      <td>(38.938586, -77.066455)</td>\n",
       "      <td>3</td>\n",
       "    </tr>\n",
       "    <tr>\n",
       "      <th>4</th>\n",
       "      <td>38.937332</td>\n",
       "      <td>-77.068636</td>\n",
       "      <td>(38.937332, -77.068636)</td>\n",
       "      <td>4</td>\n",
       "    </tr>\n",
       "    <tr>\n",
       "      <th>5</th>\n",
       "      <td>38.937332</td>\n",
       "      <td>-77.070886</td>\n",
       "      <td>(38.937332, -77.070886)</td>\n",
       "      <td>5</td>\n",
       "    </tr>\n",
       "    <tr>\n",
       "      <th>6</th>\n",
       "      <td>38.937331</td>\n",
       "      <td>-77.072112</td>\n",
       "      <td>(38.937331, -77.072112)</td>\n",
       "      <td>6</td>\n",
       "    </tr>\n",
       "    <tr>\n",
       "      <th>7</th>\n",
       "      <td>38.937330</td>\n",
       "      <td>-77.072418</td>\n",
       "      <td>(38.93733, -77.072418)</td>\n",
       "      <td>7</td>\n",
       "    </tr>\n",
       "    <tr>\n",
       "      <th>8</th>\n",
       "      <td>38.937287</td>\n",
       "      <td>-77.073793</td>\n",
       "      <td>(38.937287, -77.073793)</td>\n",
       "      <td>8</td>\n",
       "    </tr>\n",
       "    <tr>\n",
       "      <th>9</th>\n",
       "      <td>38.938602</td>\n",
       "      <td>-77.065426</td>\n",
       "      <td>(38.938602, -77.065426)</td>\n",
       "      <td>9</td>\n",
       "    </tr>\n",
       "  </tbody>\n",
       "</table>\n",
       "</div>"
      ],
      "text/plain": [
       "    Latitude  Longitude                   Coords  ID\n",
       "0  38.936283 -77.072975  (38.936283, -77.072975)   0\n",
       "1  38.937335 -77.066387  (38.937335, -77.066387)   1\n",
       "2  38.938151 -77.066389  (38.938151, -77.066389)   2\n",
       "3  38.938586 -77.066455  (38.938586, -77.066455)   3\n",
       "4  38.937332 -77.068636  (38.937332, -77.068636)   4\n",
       "5  38.937332 -77.070886  (38.937332, -77.070886)   5\n",
       "6  38.937331 -77.072112  (38.937331, -77.072112)   6\n",
       "7  38.937330 -77.072418   (38.93733, -77.072418)   7\n",
       "8  38.937287 -77.073793  (38.937287, -77.073793)   8\n",
       "9  38.938602 -77.065426  (38.938602, -77.065426)   9"
      ]
     },
     "execution_count": 16,
     "metadata": {},
     "output_type": "execute_result"
    }
   ],
   "source": [
    "df0['Coords'] = list(zip(df0['Latitude'],df0['Longitude']))\n",
    "df0['ID'] = df0.index\n",
    "\n",
    "df0"
   ]
  },
  {
   "cell_type": "code",
   "execution_count": 17,
   "id": "4ef786bc",
   "metadata": {},
   "outputs": [
    {
     "data": {
      "text/plain": [
       "{0: (38.936283, -77.072975),\n",
       " 1: (38.937335, -77.066387),\n",
       " 2: (38.938151, -77.066389),\n",
       " 3: (38.938586, -77.066455),\n",
       " 4: (38.937332, -77.068636),\n",
       " 5: (38.937332, -77.070886),\n",
       " 6: (38.937331, -77.072112),\n",
       " 7: (38.93733, -77.072418),\n",
       " 8: (38.937287, -77.073793),\n",
       " 9: (38.938602, -77.065426)}"
      ]
     },
     "execution_count": 17,
     "metadata": {},
     "output_type": "execute_result"
    }
   ],
   "source": [
    "location = dict( ( ID, (df0.loc[ID, 'Latitude'], df0.loc[ID, 'Longitude']) ) for ID in df0.index)\n",
    "location"
   ]
  },
  {
   "cell_type": "code",
   "execution_count": 18,
   "id": "887c4f81",
   "metadata": {},
   "outputs": [
    {
     "data": {
      "text/plain": [
       "(38.93616705, 38.938717950000004, -77.07421135, -77.06500765)"
      ]
     },
     "execution_count": 18,
     "metadata": {},
     "output_type": "execute_result"
    },
    {
     "data": {
      "image/png": "[encoded data removed]",
      "text/plain": [
       "<Figure size 432x288 with 1 Axes>"
      ]
     },
     "metadata": {
      "needs_background": "light"
     },
     "output_type": "display_data"
    }
   ],
   "source": [
    "import matplotlib.pyplot as plt\n",
    "for i in location:\n",
    "    lo = location[i]\n",
    "    plt.plot(lo[0],lo[1],'o')\n",
    "    plt.text(lo[0]+.01,lo[1],i,horizontalalignment='center',\n",
    "             verticalalignment='center')\n",
    "    \n",
    "plt.gca().axis('off')"
   ]
  },
  {
   "cell_type": "code",
   "execution_count": 19,
   "id": "3c698153",
   "metadata": {},
   "outputs": [
    {
     "data": {
      "text/plain": [
       "{(0, 1): 0.006671465206377353,\n",
       " (0, 2): 0.006845788486358764,\n",
       " (0, 3): 0.006914781919910496,\n",
       " (0, 4): 0.004464002912185796,\n",
       " (0, 5): 0.002337588928785526,\n",
       " (0, 6): 0.0013575982469001414,\n",
       " (0, 7): 0.0011859418198209507,\n",
       " (0, 8): 0.0012950444007761496,\n",
       " (0, 9): 0.00789716164200531,\n",
       " (1, 0): 0.006671465206377353,\n",
       " (1, 2): 0.0008160024509770708,\n",
       " (1, 3): 0.0012528467583900512,\n",
       " (1, 4): 0.0022490020008803452,\n",
       " (1, 5): 0.00449900100021775,\n",
       " (1, 6): 0.005725001397377944,\n",
       " (1, 7): 0.006031002072617426,\n",
       " (1, 8): 0.007406155547909851,\n",
       " (1, 9): 0.00159022325477325,\n",
       " (2, 0): 0.006845788486358764,\n",
       " (2, 1): 0.0008160024509770708,\n",
       " (2, 3): 0.000439978408564769,\n",
       " (2, 4): 0.002391604064218483,\n",
       " (2, 5): 0.004570970356500422,\n",
       " (2, 6): 0.005781446964215182,\n",
       " (2, 7): 0.006084643128398592,\n",
       " (2, 8): 0.007454241208862958,\n",
       " (2, 9): 0.001063376697131507,\n",
       " (3, 0): 0.006914781919910496,\n",
       " (3, 1): 0.0012528467583900512,\n",
       " (3, 2): 0.000439978408564769,\n",
       " (3, 4): 0.0025158054376237813,\n",
       " (3, 5): 0.004605027361479907,\n",
       " (3, 6): 0.0057945382904933725,\n",
       " (3, 7): 0.006093841563408523,\n",
       " (3, 8): 0.007452089975292988,\n",
       " (3, 9): 0.0010291243850990247,\n",
       " (4, 0): 0.004464002912185796,\n",
       " (4, 1): 0.0022490020008803452,\n",
       " (4, 2): 0.002391604064218483,\n",
       " (4, 3): 0.0025158054376237813,\n",
       " (4, 5): 0.002250000000003638,\n",
       " (4, 6): 0.0034760001438497463,\n",
       " (4, 7): 0.0037820005288217527,\n",
       " (4, 8): 0.005157196331338254,\n",
       " (4, 9): 0.003452100809649935,\n",
       " (5, 0): 0.002337588928785526,\n",
       " (5, 1): 0.00449900100021775,\n",
       " (5, 2): 0.004570970356500422,\n",
       " (5, 3): 0.004605027361479907,\n",
       " (5, 4): 0.002250000000003638,\n",
       " (5, 6): 0.0012260004078328867,\n",
       " (5, 7): 0.0015320013054798901,\n",
       " (5, 8): 0.002907348276344139,\n",
       " (5, 9): 0.005605755970429518,\n",
       " (6, 0): 0.0013575982469001414,\n",
       " (6, 1): 0.005725001397377944,\n",
       " (6, 2): 0.005781446964215182,\n",
       " (6, 3): 0.0057945382904933725,\n",
       " (6, 4): 0.0034760001438497463,\n",
       " (6, 5): 0.0012260004078328867,\n",
       " (6, 7): 0.0003060016339773677,\n",
       " (6, 8): 0.001681575749102318,\n",
       " (6, 9): 0.006805735595806903,\n",
       " (7, 0): 0.0011859418198209507,\n",
       " (7, 1): 0.006031002072617426,\n",
       " (7, 2): 0.006084643128398592,\n",
       " (7, 3): 0.006093841563408523,\n",
       " (7, 4): 0.0037820005288217527,\n",
       " (7, 5): 0.0015320013054798901,\n",
       " (7, 6): 0.0003060016339773677,\n",
       " (7, 8): 0.0013756721993226386,\n",
       " (7, 9): 0.007106760724827829,\n",
       " (8, 0): 0.0012950444007761496,\n",
       " (8, 1): 0.007406155547909851,\n",
       " (8, 2): 0.007454241208862958,\n",
       " (8, 3): 0.007452089975292988,\n",
       " (8, 4): 0.005157196331338254,\n",
       " (8, 5): 0.002907348276344139,\n",
       " (8, 6): 0.001681575749102318,\n",
       " (8, 7): 0.0013756721993226386,\n",
       " (8, 9): 0.008469705661939587,\n",
       " (9, 0): 0.00789716164200531,\n",
       " (9, 1): 0.00159022325477325,\n",
       " (9, 2): 0.001063376697131507,\n",
       " (9, 3): 0.0010291243850990247,\n",
       " (9, 4): 0.003452100809649935,\n",
       " (9, 5): 0.005605755970429518,\n",
       " (9, 6): 0.006805735595806903,\n",
       " (9, 7): 0.007106760724827829,\n",
       " (9, 8): 0.008469705661939587}"
      ]
     },
     "execution_count": 19,
     "metadata": {},
     "output_type": "execute_result"
    }
   ],
   "source": [
    "nodeDist = dict( ((i,j), distances.iloc[i, j] ) for i in location for j in location if i != j)\n",
    "\n",
    "nodeDist"
   ]
  },
  {
   "cell_type": "code",
   "execution_count": 20,
   "id": "e4fe148a",
   "metadata": {},
   "outputs": [],
   "source": [
    "vehicles = 3"
   ]
  },
  {
   "cell_type": "code",
   "execution_count": 21,
   "id": "94e462f4",
   "metadata": {},
   "outputs": [],
   "source": [
    "prob=LpProblem(\"vehicle\", LpMinimize)"
   ]
  },
  {
   "cell_type": "code",
   "execution_count": 22,
   "id": "91d55365",
   "metadata": {},
   "outputs": [],
   "source": [
    "#indicates if location i is connected to location j along route \n",
    "indicator = LpVariable.dicts('indicator',nodeDist, 0,1,LpBinary)\n",
    "#elimiate subtours\n",
    "eliminator = LpVariable.dicts('eliminator', df0.ID, 0, len(df0.ID)-1, LpInteger)"
   ]
  },
  {
   "cell_type": "code",
   "execution_count": 23,
   "id": "a6732ca2",
   "metadata": {},
   "outputs": [],
   "source": [
    "cost = lpSum([indicator[(i,j)]*nodeDist[(i,j)] for (i,j) in nodeDist])\n",
    "prob+=cost"
   ]
  },
  {
   "cell_type": "code",
   "execution_count": 24,
   "id": "1f0f603e",
   "metadata": {},
   "outputs": [],
   "source": [
    "for v in df0.ID:\n",
    "    cap = 1 if v != 8 else vehicles\n",
    "    #inward possible route\n",
    "    prob+= lpSum([ indicator[(i,v)] for i in df0.ID if (i,v) in indicator]) ==cap\n",
    "    #outward possible route\n",
    "    prob+=lpSum([ indicator[(v,i)] for i in df0.ID if (v,i) in indicator]) ==cap\n",
    "    \n",
    "#subtour elimination\n",
    "num=len(df0.ID)/vehicles\n",
    "for i in df0.ID:\n",
    "    for j in df0.ID:\n",
    "        if i != j and (i != 8 and j!= 8) and (i,j) in indicator:\n",
    "            prob += eliminator[i] - eliminator[j] <= (num)*(1-indicator[(i,j)]) - 1"
   ]
  },
  {
   "cell_type": "code",
   "execution_count": 25,
   "id": "e73ca24e",
   "metadata": {},
   "outputs": [
    {
     "name": "stdout",
     "output_type": "stream",
     "text": [
      "Wall time: 3.81 s\n",
      "Optimal\n"
     ]
    }
   ],
   "source": [
    "%time prob.solve()\n",
    "print(LpStatus[prob.status])"
   ]
  },
  {
   "cell_type": "code",
   "execution_count": 26,
   "id": "fb781534",
   "metadata": {},
   "outputs": [],
   "source": [
    "feasible_edges = [ e for e in indicator if value(indicator[e]) != 0 ]\n",
    "\n",
    "def get_next_loc(initial):\n",
    "    '''to get the next edge'''\n",
    "    edges = [e for e in feasible_edges if e[0]==initial]\n",
    "    for e in edges:\n",
    "        feasible_edges.remove(e)\n",
    "    return edges"
   ]
  },
  {
   "cell_type": "code",
   "execution_count": 27,
   "id": "9de6700b",
   "metadata": {},
   "outputs": [],
   "source": [
    "routes = get_next_loc(8)\n",
    "routes = [ [e] for e in routes ]\n",
    "\n",
    "for r in routes:\n",
    "    while r[-1][1] !=8:\n",
    "        r.append(get_next_loc(r[-1][1])[-1])"
   ]
  },
  {
   "cell_type": "code",
   "execution_count": 28,
   "id": "f59d71a4",
   "metadata": {},
   "outputs": [
    {
     "data": {
      "text/plain": [
       "[[(8, 0), (0, 6), (6, 7), (7, 8)],\n",
       " [(8, 1), (1, 4), (4, 5), (5, 8)],\n",
       " [(8, 3), (3, 9), (9, 2), (2, 8)]]"
      ]
     },
     "execution_count": 28,
     "metadata": {},
     "output_type": "execute_result"
    }
   ],
   "source": [
    "routes\n"
   ]
  },
  {
   "cell_type": "code",
   "execution_count": 30,
   "id": "b8f2c42d",
   "metadata": {},
   "outputs": [
    {
     "data": {
      "image/png": "[encoded data removed]",
      "text/plain": [
       "<Figure size 432x288 with 1 Axes>"
      ]
     },
     "metadata": {
      "needs_background": "light"
     },
     "output_type": "display_data"
    }
   ],
   "source": [
    "coloured_loc = [np.random.rand(3) for i in range(len(routes))]\n",
    "for r,co in zip(routes,coloured_loc):\n",
    "    for a,b in r:\n",
    "        l1,l2 = location[a], location[b]\n",
    "        plt.plot([l1[0],l2[0]],[l1[1],l2[1]], color=co)"
   ]
  },
  {
   "cell_type": "code",
   "execution_count": 32,
   "id": "0603c0bc",
   "metadata": {},
   "outputs": [
    {
     "data": {
      "image/png": "[encoded data removed]",
      "text/plain": [
       "<Figure size 432x288 with 1 Axes>"
      ]
     },
     "metadata": {
      "needs_background": "light"
     },
     "output_type": "display_data"
    }
   ],
   "source": [
    "#outline the routes\n",
    "coloured_loc = [np.random.rand(3) for i in range(len(routes))]\n",
    "for r,co in zip(routes,coloured_loc):\n",
    "    for a,b in r:\n",
    "        l1,l2 = location[a], location[b]\n",
    "        plt.plot([l1[0],l2[0]],[l1[1],l2[1]], color=co)\n",
    "for l in location:\n",
    "    lo = location[l]\n",
    "    plt.plot(lo[0],lo[1],'o')\n",
    "    plt.text(lo[0]+.01,lo[1],l,horizontalalignment='center',verticalalignment='center')\n",
    "    \n",
    "    \n",
    "plt.title('%d '%vehicles + 'Vehicle routes' if vehicles > 1 else 'Vehicle route')\n",
    "plt.xlabel('Left')\n",
    "plt.ylabel('Right')\n",
    "plt.show()"
   ]
  },
  {
   "cell_type": "code",
   "execution_count": null,
   "id": "36a8071d",
   "metadata": {},
   "outputs": [],
   "source": []
  }
 ],
 "metadata": {
  "kernelspec": {
   "display_name": "Python 3 (ipykernel)",
   "language": "python",
   "name": "python3"
  },
  "language_info": {
   "codemirror_mode": {
    "name": "ipython",
    "version": 3
   },
   "file_extension": ".py",
   "mimetype": "text/x-python",
   "name": "python",
   "nbconvert_exporter": "python",
   "pygments_lexer": "ipython3",
   "version": "3.9.7"
  }
 },
 "nbformat": 4,
 "nbformat_minor": 5
}
