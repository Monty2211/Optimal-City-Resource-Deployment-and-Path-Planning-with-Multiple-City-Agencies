{
 "cells": [
  {
   "cell_type": "code",
   "execution_count": 1,
   "id": "respiratory-primary",
   "metadata": {},
   "outputs": [],
   "source": [
    "import osmnx as ox\n",
    "import matplotlib.pyplot as plt\n",
    "import pandas as pd\n",
    "from geopy import distance\n",
    "import requests\n",
    "import json\n",
    "import datetime\n",
    "import math\n",
    "import itertools\n",
    "import numpy as np\n",
    "import networkx as nx\n",
    "import plotly.graph_objects as go\n",
    "from pulp import *\n",
    "import seaborn as sn\n",
    "from ortools.constraint_solver import routing_enums_pb2\n",
    "from ortools.constraint_solver import pywrapcp"
   ]
  },
  {
   "cell_type": "code",
   "execution_count": 25,
   "id": "noticed-gabriel",
   "metadata": {},
   "outputs": [
    {
     "name": "stderr",
     "output_type": "stream",
     "text": [
      "/Users/rochelleallan/anaconda3/envs/ox/lib/python3.9/site-packages/osmnx/utils_geo.py:335: ShapelyDeprecationWarning:\n",
      "\n",
      "Iteration over multi-part geometries is deprecated and will be removed in Shapely 2.0. Use the `geoms` property to access the constituent parts of a multi-part geometry.\n",
      "\n",
      "/Users/rochelleallan/anaconda3/envs/ox/lib/python3.9/site-packages/osmnx/utils_geo.py:426: ShapelyDeprecationWarning:\n",
      "\n",
      "Iteration over multi-part geometries is deprecated and will be removed in Shapely 2.0. Use the `geoms` property to access the constituent parts of a multi-part geometry.\n",
      "\n",
      "/Users/rochelleallan/anaconda3/envs/ox/lib/python3.9/site-packages/osmnx/utils_geo.py:426: ShapelyDeprecationWarning:\n",
      "\n",
      "Iteration over multi-part geometries is deprecated and will be removed in Shapely 2.0. Use the `geoms` property to access the constituent parts of a multi-part geometry.\n",
      "\n"
     ]
    },
    {
     "data": {
      "image/png": "[encoded data removed]",
      "text/plain": [
       "<Figure size 576x576 with 1 Axes>"
      ]
     },
     "metadata": {},
     "output_type": "display_data"
    },
    {
     "name": "stdout",
     "output_type": "stream",
     "text": [
      "Welcome to the CBC MILP Solver \n",
      "Version: 2.10.3 \n",
      "Build Date: Dec 15 2019 \n",
      "\n",
      "command line - /Users/rochelleallan/anaconda3/envs/ox/lib/python3.9/site-packages/pulp/apis/../solverdir/cbc/osx/64/cbc /var/folders/0f/0wx77bhd2sl15rhs858yxhtc0000gn/T/abd8b76958a44d7ebb8932468d72c6ab-pulp.mps timeMode elapsed branch printingOptions all solution /var/folders/0f/0wx77bhd2sl15rhs858yxhtc0000gn/T/abd8b76958a44d7ebb8932468d72c6ab-pulp.sol (default strategy 1)\n",
      "At line 2 NAME          MODEL\n",
      "At line 3 ROWS\n",
      "At line 387 COLUMNS\n",
      "At line 3352 RHS\n",
      "At line 3735 BOUNDS\n",
      "At line 4135 ENDATA\n",
      "Problem MODEL has 382 rows, 399 columns and 1786 elements\n",
      "Coin0008I MODEL read with 0 errors\n",
      "Option for timeMode changed from cpu to elapsed\n",
      "Continuous objective value is 1428.49 - 0.00 seconds\n",
      "Cgl0003I 0 fixed, 0 tightened bounds, 342 strengthened rows, 0 substitutions\n",
      "Cgl0003I 0 fixed, 0 tightened bounds, 342 strengthened rows, 0 substitutions\n",
      "Cgl0003I 0 fixed, 0 tightened bounds, 342 strengthened rows, 0 substitutions\n",
      "Cgl0003I 0 fixed, 0 tightened bounds, 342 strengthened rows, 0 substitutions\n",
      "Cgl0003I 0 fixed, 0 tightened bounds, 342 strengthened rows, 0 substitutions\n",
      "Cgl0003I 0 fixed, 0 tightened bounds, 342 strengthened rows, 0 substitutions\n",
      "Cgl0003I 0 fixed, 0 tightened bounds, 342 strengthened rows, 0 substitutions\n",
      "Cgl0003I 0 fixed, 0 tightened bounds, 342 strengthened rows, 0 substitutions\n",
      "Cgl0003I 0 fixed, 0 tightened bounds, 342 strengthened rows, 0 substitutions\n",
      "Cgl0004I processed model has 382 rows, 399 columns (399 integer (380 of which binary)) and 4864 elements\n",
      "Cutoff increment increased from 1e-05 to 0.0999\n",
      "Cbc0038I Initial state - 40 integers unsatisfied sum - 3\n",
      "Cbc0038I Pass   1: suminf.    2.23000 (31) obj. 1664.3 iterations 75\n",
      "Cbc0038I Pass   2: suminf.    2.12416 (9) obj. 3780.87 iterations 75\n",
      "Cbc0038I Pass   3: suminf.    1.80000 (9) obj. 3637.54 iterations 50\n",
      "Cbc0038I Pass   4: suminf.    7.10526 (15) obj. 3379.42 iterations 53\n",
      "Cbc0038I Pass   5: suminf.    4.30000 (20) obj. 3494.74 iterations 55\n",
      "Cbc0038I Pass   6: suminf.    6.88077 (29) obj. 3287.47 iterations 93\n",
      "Cbc0038I Pass   7: suminf.    3.81000 (22) obj. 3334.11 iterations 10\n",
      "Cbc0038I Pass   8: suminf.    4.05000 (16) obj. 4147.51 iterations 92\n",
      "Cbc0038I Pass   9: suminf.    4.80000 (30) obj. 4266.09 iterations 43\n",
      "Cbc0038I Pass  10: suminf.    8.76923 (22) obj. 4669.39 iterations 75\n",
      "Cbc0038I Pass  11: suminf.    1.80000 (6) obj. 4400.08 iterations 42\n",
      "Cbc0038I Pass  12: suminf.    2.40000 (23) obj. 4459.98 iterations 45\n",
      "Cbc0038I Pass  13: suminf.    1.80000 (4) obj. 4808.11 iterations 89\n",
      "Cbc0038I Pass  14: suminf.    7.30000 (19) obj. 4780.33 iterations 36\n",
      "Cbc0038I Pass  15: suminf.    4.30000 (16) obj. 5106.66 iterations 61\n",
      "Cbc0038I Pass  16: suminf.    6.57722 (25) obj. 4409.89 iterations 73\n",
      "Cbc0038I Pass  17: suminf.    6.46835 (34) obj. 5663.65 iterations 97\n",
      "Cbc0038I Pass  18: suminf.    2.46250 (17) obj. 5803.46 iterations 67\n",
      "Cbc0038I Pass  19: suminf.    3.27500 (17) obj. 6348.65 iterations 49\n",
      "Cbc0038I Pass  20: suminf.    2.70000 (16) obj. 5962.66 iterations 69\n",
      "Cbc0038I Pass  21: suminf.    1.20000 (4) obj. 5899.08 iterations 70\n",
      "Cbc0038I Pass  22: suminf.    2.25000 (15) obj. 6011.16 iterations 66\n",
      "Cbc0038I Pass  23: suminf.    1.26316 (12) obj. 6920.88 iterations 151\n",
      "Cbc0038I Pass  24: suminf.    1.00000 (20) obj. 6926.02 iterations 67\n",
      "Cbc0038I Pass  25: suminf.    0.00000 (0) obj. 6668.1 iterations 115\n",
      "Cbc0038I Solution found of 6668.1\n",
      "Cbc0038I Cleaned solution of 6668.1\n",
      "Cbc0038I Before mini branch and bound, 256 integers at bound fixed and 0 continuous\n",
      "Cbc0038I Full problem 382 rows 399 columns, reduced to 382 rows 143 columns - 6 fixed gives 336, 80 - still too large\n",
      "Cbc0038I Full problem 382 rows 399 columns, reduced to 260 rows 80 columns - too large\n",
      "Cbc0038I Mini branch and bound did not improve solution (1.00 seconds)\n",
      "Cbc0038I Round again with cutoff of 6144.1\n",
      "Cbc0038I Pass  26: suminf.    2.23000 (31) obj. 1664.3 iterations 0\n",
      "Cbc0038I Pass  27: suminf.    1.80000 (7) obj. 3903.44 iterations 95\n",
      "Cbc0038I Pass  28: suminf.    1.80000 (9) obj. 3637.54 iterations 40\n",
      "Cbc0038I Pass  29: suminf.    7.10526 (15) obj. 3379.42 iterations 50\n",
      "Cbc0038I Pass  30: suminf.    4.30000 (20) obj. 3494.74 iterations 58\n",
      "Cbc0038I Pass  31: suminf.    5.20577 (26) obj. 3287.47 iterations 85\n",
      "Cbc0038I Pass  32: suminf.    5.60000 (26) obj. 3334.11 iterations 13\n",
      "Cbc0038I Pass  33: suminf.    2.20000 (9) obj. 4147.51 iterations 49\n",
      "Cbc0038I Pass  34: suminf.    2.40000 (18) obj. 4266.08 iterations 54\n",
      "Cbc0038I Pass  35: suminf.    3.92308 (13) obj. 4669.39 iterations 104\n",
      "Cbc0038I Pass  36: suminf.    1.80000 (6) obj. 4400.08 iterations 52\n",
      "Cbc0038I Pass  37: suminf.    1.80000 (11) obj. 4459.98 iterations 58\n",
      "Cbc0038I Pass  38: suminf.    1.80000 (4) obj. 4808.12 iterations 102\n",
      "Cbc0038I Pass  39: suminf.    5.30000 (15) obj. 4780.33 iterations 48\n",
      "Cbc0038I Pass  40: suminf.    4.30000 (16) obj. 5106.66 iterations 92\n",
      "Cbc0038I Pass  41: suminf.    3.52658 (14) obj. 4409.89 iterations 62\n",
      "Cbc0038I Pass  42: suminf.    3.84821 (12) obj. 6144.1 iterations 140\n",
      "Cbc0038I Pass  43: suminf.    2.20000 (12) obj. 5973.18 iterations 100\n",
      "Cbc0038I Pass  44: suminf.    2.20000 (12) obj. 5921.92 iterations 50\n",
      "Cbc0038I Pass  45: suminf.   10.60477 (27) obj. 6144.1 iterations 110\n",
      "Cbc0038I Pass  46: suminf.    1.78254 (22) obj. 6144.1 iterations 98\n",
      "Cbc0038I Pass  47: suminf.    2.20000 (22) obj. 5144.33 iterations 183\n",
      "Cbc0038I Pass  48: suminf.    1.95000 (19) obj. 5084.5 iterations 59\n",
      "Cbc0038I Pass  49: suminf.    1.47368 (4) obj. 5883.65 iterations 173\n",
      "Cbc0038I Pass  50: suminf.    3.40000 (12) obj. 5993.02 iterations 43\n",
      "Cbc0038I Pass  51: suminf.    1.80000 (15) obj. 5533.17 iterations 83\n",
      "Cbc0038I Pass  52: suminf.    2.55000 (10) obj. 5685.26 iterations 60\n",
      "Cbc0038I Pass  53: suminf.    1.70000 (14) obj. 5537.56 iterations 82\n",
      "Cbc0038I Pass  54: suminf.    2.05128 (17) obj. 5516.09 iterations 85\n",
      "Cbc0038I Pass  55: suminf.    7.46485 (28) obj. 6144.1 iterations 143\n",
      "Cbc0038I No solution found this major pass\n",
      "Cbc0038I Before mini branch and bound, 246 integers at bound fixed and 0 continuous\n",
      "Cbc0038I Full problem 382 rows 399 columns, reduced to 381 rows 152 columns - 2 fixed gives 344, 121 - still too large\n",
      "Cbc0038I Full problem 382 rows 399 columns, reduced to 319 rows 121 columns - too large\n",
      "Cbc0038I Mini branch and bound did not improve solution (1.29 seconds)\n",
      "Cbc0038I After 1.29 seconds - Feasibility pump exiting with objective of 6668.1 - took 0.43 seconds\n",
      "Cbc0012I Integer solution of 6668.1 found by feasibility pump after 0 iterations and 0 nodes (1.29 seconds)\n",
      "Cbc0038I Full problem 382 rows 399 columns, reduced to 363 rows 74 columns - 20 fixed gives 82, 17 - ok now\n",
      "Cbc0012I Integer solution of 1734.3 found by DiveCoefficient after 631 iterations and 0 nodes (2.02 seconds)\n",
      "Cbc0031I 30 added rows had average density of 125.7\n",
      "Cbc0013I At root node, 30 cuts changed objective from 1429.4421 to 1734.2979 in 19 passes\n",
      "Cbc0014I Cut generator 0 (Probing) - 144 row cuts average 12.4 elements, 0 column cuts (0 active)  in 0.140 seconds - new frequency is 1\n",
      "Cbc0014I Cut generator 1 (Gomory) - 342 row cuts average 280.5 elements, 0 column cuts (0 active)  in 0.058 seconds - new frequency is 1\n",
      "Cbc0014I Cut generator 2 (Knapsack) - 0 row cuts average 0.0 elements, 0 column cuts (0 active)  in 0.042 seconds - new frequency is -100\n",
      "Cbc0014I Cut generator 3 (Clique) - 0 row cuts average 0.0 elements, 0 column cuts (0 active)  in 0.002 seconds - new frequency is -100\n",
      "Cbc0014I Cut generator 4 (MixedIntegerRounding2) - 11 row cuts average 181.7 elements, 0 column cuts (0 active)  in 0.034 seconds - new frequency is -100\n",
      "Cbc0014I Cut generator 5 (FlowCover) - 0 row cuts average 0.0 elements, 0 column cuts (0 active)  in 0.051 seconds - new frequency is -100\n",
      "Cbc0014I Cut generator 6 (TwoMirCuts) - 319 row cuts average 139.8 elements, 0 column cuts (0 active)  in 0.070 seconds - new frequency is 1\n",
      "Cbc0014I Cut generator 7 (ZeroHalf) - 26 row cuts average 24.4 elements, 0 column cuts (0 active)  in 0.046 seconds - new frequency is -100\n",
      "Cbc0001I Search completed - best objective 1734.3, took 631 iterations and 0 nodes (2.03 seconds)\n",
      "Cbc0035I Maximum depth 0, 0 variables fixed on reduced cost\n",
      "Cuts at root node changed objective from 1429.44 to 1734.3\n",
      "Probing was tried 19 times and created 144 cuts of which 0 were active after adding rounds of cuts (0.140 seconds)\n",
      "Gomory was tried 19 times and created 342 cuts of which 0 were active after adding rounds of cuts (0.058 seconds)\n",
      "Knapsack was tried 19 times and created 0 cuts of which 0 were active after adding rounds of cuts (0.042 seconds)\n",
      "Clique was tried 19 times and created 0 cuts of which 0 were active after adding rounds of cuts (0.002 seconds)\n",
      "MixedIntegerRounding2 was tried 19 times and created 11 cuts of which 0 were active after adding rounds of cuts (0.034 seconds)\n",
      "FlowCover was tried 19 times and created 0 cuts of which 0 were active after adding rounds of cuts (0.051 seconds)\n",
      "TwoMirCut"
     ]
    },
    {
     "data": {
      "application/vnd.plotly.v1+json": {
       "config": {
        "plotlyServerURL": "https://plot.ly"
       },
       "data": [
        {
         "lat": [
          43.173879,
          43.173566,
          43.173566,
          43.173879,
          43.173879,
          43.173902,
          43.173902,
          43.173917,
          43.173917,
          43.17394,
          43.17394,
          43.173963,
          43.173963,
          43.173982,
          43.173982,
          43.174127,
          43.174127,
          43.17415,
          43.17415,
          43.174127,
          43.174127,
          43.175988,
          43.175988,
          43.175958,
          43.175958,
          43.175954,
          43.175954,
          43.175916,
          43.175916,
          43.175874,
          43.175874,
          43.1758594,
          43.1758594,
          43.17584,
          43.17584,
          43.175805,
          43.175805,
          43.175786,
          43.175786,
          43.175805,
          43.175805,
          43.175096,
          43.175096,
          43.174283,
          43.174283,
          43.173879
         ],
         "line": {
          "color": "grey",
          "width": 4.5
         },
         "lon": [
          -77.577206,
          -77.577366,
          -77.577366,
          -77.577206,
          -77.577206,
          -77.576039,
          -77.576039,
          -77.574887,
          -77.574887,
          -77.57375,
          -77.57375,
          -77.572606,
          -77.572606,
          -77.571446,
          -77.571446,
          -77.57137,
          -77.57137,
          -77.570385,
          -77.570385,
          -77.57137,
          -77.57137,
          -77.57037,
          -77.57037,
          -77.571347,
          -77.571347,
          -77.57153,
          -77.57153,
          -77.57269,
          -77.57269,
          -77.573842,
          -77.573842,
          -77.5743351,
          -77.5743351,
          -77.574994,
          -77.574994,
          -77.576176,
          -77.576176,
          -77.576741,
          -77.576741,
          -77.576176,
          -77.576176,
          -77.57655,
          -77.57655,
          -77.576993,
          -77.576993,
          -77.577206
         ],
         "marker": {
          "size": 10
         },
         "mode": "lines",
         "name": "Path",
         "type": "scattermapbox"
        },
        {
         "lat": [
          43.173879
         ],
         "lon": [
          -77.577206
         ],
         "marker": {
          "color": "red",
          "size": 12
         },
         "mode": "markers",
         "name": "Source",
         "type": "scattermapbox"
        },
        {
         "lat": [
          43.173879
         ],
         "lon": [
          -77.577206
         ],
         "marker": {
          "color": "green",
          "size": 12
         },
         "mode": "markers",
         "name": "Destination",
         "type": "scattermapbox"
        }
       ],
       "layout": {
        "mapbox": {
         "center": {
          "lat": 43.1748520173913,
          "lon": -77.57414674347825
         },
         "style": "carto-darkmatter",
         "zoom": 13
        },
        "margin": {
         "b": 0,
         "l": 0,
         "r": 0,
         "t": 0
        },
        "template": {
         "data": {
          "bar": [
           {
            "error_x": {
             "color": "#2a3f5f"
            },
            "error_y": {
             "color": "#2a3f5f"
            },
            "marker": {
             "line": {
              "color": "#E5ECF6",
              "width": 0.5
             },
             "pattern": {
              "fillmode": "overlay",
              "size": 10,
              "solidity": 0.2
             }
            },
            "type": "bar"
           }
          ],
          "barpolar": [
           {
            "marker": {
             "line": {
              "color": "#E5ECF6",
              "width": 0.5
             },
             "pattern": {
              "fillmode": "overlay",
              "size": 10,
              "solidity": 0.2
             }
            },
            "type": "barpolar"
           }
          ],
          "carpet": [
           {
            "aaxis": {
             "endlinecolor": "#2a3f5f",
             "gridcolor": "white",
             "linecolor": "white",
             "minorgridcolor": "white",
             "startlinecolor": "#2a3f5f"
            },
            "baxis": {
             "endlinecolor": "#2a3f5f",
             "gridcolor": "white",
             "linecolor": "white",
             "minorgridcolor": "white",
             "startlinecolor": "#2a3f5f"
            },
            "type": "carpet"
           }
          ],
          "choropleth": [
           {
            "colorbar": {
             "outlinewidth": 0,
             "ticks": ""
            },
            "type": "choropleth"
           }
          ],
          "contour": [
           {
            "colorbar": {
             "outlinewidth": 0,
             "ticks": ""
            },
            "colorscale": [
             [
              0,
              "#0d0887"
             ],
             [
              0.1111111111111111,
              "#46039f"
             ],
             [
              0.2222222222222222,
              "#7201a8"
             ],
             [
              0.3333333333333333,
              "#9c179e"
             ],
             [
              0.4444444444444444,
              "#bd3786"
             ],
             [
              0.5555555555555556,
              "#d8576b"
             ],
             [
              0.6666666666666666,
              "#ed7953"
             ],
             [
              0.7777777777777778,
              "#fb9f3a"
             ],
             [
              0.8888888888888888,
              "#fdca26"
             ],
             [
              1,
              "#f0f921"
             ]
            ],
            "type": "contour"
           }
          ],
          "contourcarpet": [
           {
            "colorbar": {
             "outlinewidth": 0,
             "ticks": ""
            },
            "type": "contourcarpet"
           }
          ],
          "heatmap": [
           {
            "colorbar": {
             "outlinewidth": 0,
             "ticks": ""
            },
            "colorscale": [
             [
              0,
              "#0d0887"
             ],
             [
              0.1111111111111111,
              "#46039f"
             ],
             [
              0.2222222222222222,
              "#7201a8"
             ],
             [
              0.3333333333333333,
              "#9c179e"
             ],
             [
              0.4444444444444444,
              "#bd3786"
             ],
             [
              0.5555555555555556,
              "#d8576b"
             ],
             [
              0.6666666666666666,
              "#ed7953"
             ],
             [
              0.7777777777777778,
              "#fb9f3a"
             ],
             [
              0.8888888888888888,
              "#fdca26"
             ],
             [
              1,
              "#f0f921"
             ]
            ],
            "type": "heatmap"
           }
          ],
          "heatmapgl": [
           {
            "colorbar": {
             "outlinewidth": 0,
             "ticks": ""
            },
            "colorscale": [
             [
              0,
              "#0d0887"
             ],
             [
              0.1111111111111111,
              "#46039f"
             ],
             [
              0.2222222222222222,
              "#7201a8"
             ],
             [
              0.3333333333333333,
              "#9c179e"
             ],
             [
              0.4444444444444444,
              "#bd3786"
             ],
             [
              0.5555555555555556,
              "#d8576b"
             ],
             [
              0.6666666666666666,
              "#ed7953"
             ],
             [
              0.7777777777777778,
              "#fb9f3a"
             ],
             [
              0.8888888888888888,
              "#fdca26"
             ],
             [
              1,
              "#f0f921"
             ]
            ],
            "type": "heatmapgl"
           }
          ],
          "histogram": [
           {
            "marker": {
             "pattern": {
              "fillmode": "overlay",
              "size": 10,
              "solidity": 0.2
             }
            },
            "type": "histogram"
           }
          ],
          "histogram2d": [
           {
            "colorbar": {
             "outlinewidth": 0,
             "ticks": ""
            },
            "colorscale": [
             [
              0,
              "#0d0887"
             ],
             [
              0.1111111111111111,
              "#46039f"
             ],
             [
              0.2222222222222222,
              "#7201a8"
             ],
             [
              0.3333333333333333,
              "#9c179e"
             ],
             [
              0.4444444444444444,
              "#bd3786"
             ],
             [
              0.5555555555555556,
              "#d8576b"
             ],
             [
              0.6666666666666666,
              "#ed7953"
             ],
             [
              0.7777777777777778,
              "#fb9f3a"
             ],
             [
              0.8888888888888888,
              "#fdca26"
             ],
             [
              1,
              "#f0f921"
             ]
            ],
            "type": "histogram2d"
           }
          ],
          "histogram2dcontour": [
           {
            "colorbar": {
             "outlinewidth": 0,
             "ticks": ""
            },
            "colorscale": [
             [
              0,
              "#0d0887"
             ],
             [
              0.1111111111111111,
              "#46039f"
             ],
             [
              0.2222222222222222,
              "#7201a8"
             ],
             [
              0.3333333333333333,
              "#9c179e"
             ],
             [
              0.4444444444444444,
              "#bd3786"
             ],
             [
              0.5555555555555556,
              "#d8576b"
             ],
             [
              0.6666666666666666,
              "#ed7953"
             ],
             [
              0.7777777777777778,
              "#fb9f3a"
             ],
             [
              0.8888888888888888,
              "#fdca26"
             ],
             [
              1,
              "#f0f921"
             ]
            ],
            "type": "histogram2dcontour"
           }
          ],
          "mesh3d": [
           {
            "colorbar": {
             "outlinewidth": 0,
             "ticks": ""
            },
            "type": "mesh3d"
           }
          ],
          "parcoords": [
           {
            "line": {
             "colorbar": {
              "outlinewidth": 0,
              "ticks": ""
             }
            },
            "type": "parcoords"
           }
          ],
          "pie": [
           {
            "automargin": true,
            "type": "pie"
           }
          ],
          "scatter": [
           {
            "marker": {
             "colorbar": {
              "outlinewidth": 0,
              "ticks": ""
             }
            },
            "type": "scatter"
           }
          ],
          "scatter3d": [
           {
            "line": {
             "colorbar": {
              "outlinewidth": 0,
              "ticks": ""
             }
            },
            "marker": {
             "colorbar": {
              "outlinewidth": 0,
              "ticks": ""
             }
            },
            "type": "scatter3d"
           }
          ],
          "scattercarpet": [
           {
            "marker": {
             "colorbar": {
              "outlinewidth": 0,
              "ticks": ""
             }
            },
            "type": "scattercarpet"
           }
          ],
          "scattergeo": [
           {
            "marker": {
             "colorbar": {
              "outlinewidth": 0,
              "ticks": ""
             }
            },
            "type": "scattergeo"
           }
          ],
          "scattergl": [
           {
            "marker": {
             "colorbar": {
              "outlinewidth": 0,
              "ticks": ""
             }
            },
            "type": "scattergl"
           }
          ],
          "scattermapbox": [
           {
            "marker": {
             "colorbar": {
              "outlinewidth": 0,
              "ticks": ""
             }
            },
            "type": "scattermapbox"
           }
          ],
          "scatterpolar": [
           {
            "marker": {
             "colorbar": {
              "outlinewidth": 0,
              "ticks": ""
             }
            },
            "type": "scatterpolar"
           }
          ],
          "scatterpolargl": [
           {
            "marker": {
             "colorbar": {
              "outlinewidth": 0,
              "ticks": ""
             }
            },
            "type": "scatterpolargl"
           }
          ],
          "scatterternary": [
           {
            "marker": {
             "colorbar": {
              "outlinewidth": 0,
              "ticks": ""
             }
            },
            "type": "scatterternary"
           }
          ],
          "surface": [
           {
            "colorbar": {
             "outlinewidth": 0,
             "ticks": ""
            },
            "colorscale": [
             [
              0,
              "#0d0887"
             ],
             [
              0.1111111111111111,
              "#46039f"
             ],
             [
              0.2222222222222222,
              "#7201a8"
             ],
             [
              0.3333333333333333,
              "#9c179e"
             ],
             [
              0.4444444444444444,
              "#bd3786"
             ],
             [
              0.5555555555555556,
              "#d8576b"
             ],
             [
              0.6666666666666666,
              "#ed7953"
             ],
             [
              0.7777777777777778,
              "#fb9f3a"
             ],
             [
              0.8888888888888888,
              "#fdca26"
             ],
             [
              1,
              "#f0f921"
             ]
            ],
            "type": "surface"
           }
          ],
          "table": [
           {
            "cells": {
             "fill": {
              "color": "#EBF0F8"
             },
             "line": {
              "color": "white"
             }
            },
            "header": {
             "fill": {
              "color": "#C8D4E3"
             },
             "line": {
              "color": "white"
             }
            },
            "type": "table"
           }
          ]
         },
         "layout": {
          "annotationdefaults": {
           "arrowcolor": "#2a3f5f",
           "arrowhead": 0,
           "arrowwidth": 1
          },
          "autotypenumbers": "strict",
          "coloraxis": {
           "colorbar": {
            "outlinewidth": 0,
            "ticks": ""
           }
          },
          "colorscale": {
           "diverging": [
            [
             0,
             "#8e0152"
            ],
            [
             0.1,
             "#c51b7d"
            ],
            [
             0.2,
             "#de77ae"
            ],
            [
             0.3,
             "#f1b6da"
            ],
            [
             0.4,
             "#fde0ef"
            ],
            [
             0.5,
             "#f7f7f7"
            ],
            [
             0.6,
             "#e6f5d0"
            ],
            [
             0.7,
             "#b8e186"
            ],
            [
             0.8,
             "#7fbc41"
            ],
            [
             0.9,
             "#4d9221"
            ],
            [
             1,
             "#276419"
            ]
           ],
           "sequential": [
            [
             0,
             "#0d0887"
            ],
            [
             0.1111111111111111,
             "#46039f"
            ],
            [
             0.2222222222222222,
             "#7201a8"
            ],
            [
             0.3333333333333333,
             "#9c179e"
            ],
            [
             0.4444444444444444,
             "#bd3786"
            ],
            [
             0.5555555555555556,
             "#d8576b"
            ],
            [
             0.6666666666666666,
             "#ed7953"
            ],
            [
             0.7777777777777778,
             "#fb9f3a"
            ],
            [
             0.8888888888888888,
             "#fdca26"
            ],
            [
             1,
             "#f0f921"
            ]
           ],
           "sequentialminus": [
            [
             0,
             "#0d0887"
            ],
            [
             0.1111111111111111,
             "#46039f"
            ],
            [
             0.2222222222222222,
             "#7201a8"
            ],
            [
             0.3333333333333333,
             "#9c179e"
            ],
            [
             0.4444444444444444,
             "#bd3786"
            ],
            [
             0.5555555555555556,
             "#d8576b"
            ],
            [
             0.6666666666666666,
             "#ed7953"
            ],
            [
             0.7777777777777778,
             "#fb9f3a"
            ],
            [
             0.8888888888888888,
             "#fdca26"
            ],
            [
             1,
             "#f0f921"
            ]
           ]
          },
          "colorway": [
           "#636efa",
           "#EF553B",
           "#00cc96",
           "#ab63fa",
           "#FFA15A",
           "#19d3f3",
           "#FF6692",
           "#B6E880",
           "#FF97FF",
           "#FECB52"
          ],
          "font": {
           "color": "#2a3f5f"
          },
          "geo": {
           "bgcolor": "white",
           "lakecolor": "white",
           "landcolor": "#E5ECF6",
           "showlakes": true,
           "showland": true,
           "subunitcolor": "white"
          },
          "hoverlabel": {
           "align": "left"
          },
          "hovermode": "closest",
          "mapbox": {
           "style": "light"
          },
          "paper_bgcolor": "white",
          "plot_bgcolor": "#E5ECF6",
          "polar": {
           "angularaxis": {
            "gridcolor": "white",
            "linecolor": "white",
            "ticks": ""
           },
           "bgcolor": "#E5ECF6",
           "radialaxis": {
            "gridcolor": "white",
            "linecolor": "white",
            "ticks": ""
           }
          },
          "scene": {
           "xaxis": {
            "backgroundcolor": "#E5ECF6",
            "gridcolor": "white",
            "gridwidth": 2,
            "linecolor": "white",
            "showbackground": true,
            "ticks": "",
            "zerolinecolor": "white"
           },
           "yaxis": {
            "backgroundcolor": "#E5ECF6",
            "gridcolor": "white",
            "gridwidth": 2,
            "linecolor": "white",
            "showbackground": true,
            "ticks": "",
            "zerolinecolor": "white"
           },
           "zaxis": {
            "backgroundcolor": "#E5ECF6",
            "gridcolor": "white",
            "gridwidth": 2,
            "linecolor": "white",
            "showbackground": true,
            "ticks": "",
            "zerolinecolor": "white"
           }
          },
          "shapedefaults": {
           "line": {
            "color": "#2a3f5f"
           }
          },
          "ternary": {
           "aaxis": {
            "gridcolor": "white",
            "linecolor": "white",
            "ticks": ""
           },
           "baxis": {
            "gridcolor": "white",
            "linecolor": "white",
            "ticks": ""
           },
           "bgcolor": "#E5ECF6",
           "caxis": {
            "gridcolor": "white",
            "linecolor": "white",
            "ticks": ""
           }
          },
          "title": {
           "x": 0.05
          },
          "xaxis": {
           "automargin": true,
           "gridcolor": "white",
           "linecolor": "white",
           "ticks": "",
           "title": {
            "standoff": 15
           },
           "zerolinecolor": "white",
           "zerolinewidth": 2
          },
          "yaxis": {
           "automargin": true,
           "gridcolor": "white",
           "linecolor": "white",
           "ticks": "",
           "title": {
            "standoff": 15
           },
           "zerolinecolor": "white",
           "zerolinewidth": 2
          }
         }
        }
       }
      },
      "text/html": [
       "<div>                            <div id=\"ea107ed5-c13b-4236-8d6e-22e7e2b887d9\" class=\"plotly-graph-div\" style=\"height:525px; width:100%;\"></div>            <script type=\"text/javascript\">                require([\"plotly\"], function(Plotly) {                    window.PLOTLYENV=window.PLOTLYENV || {};                                    if (document.getElementById(\"ea107ed5-c13b-4236-8d6e-22e7e2b887d9\")) {                    Plotly.newPlot(                        \"ea107ed5-c13b-4236-8d6e-22e7e2b887d9\",                        [{\"lat\":[43.173879,43.173566,43.173566,43.173879,43.173879,43.173902,43.173902,43.173917,43.173917,43.17394,43.17394,43.173963,43.173963,43.173982,43.173982,43.174127,43.174127,43.17415,43.17415,43.174127,43.174127,43.175988,43.175988,43.175958,43.175958,43.175954,43.175954,43.175916,43.175916,43.175874,43.175874,43.1758594,43.1758594,43.17584,43.17584,43.175805,43.175805,43.175786,43.175786,43.175805,43.175805,43.175096,43.175096,43.174283,43.174283,43.173879],\"line\":{\"color\":\"grey\",\"width\":4.5},\"lon\":[-77.577206,-77.577366,-77.577366,-77.577206,-77.577206,-77.576039,-77.576039,-77.574887,-77.574887,-77.57375,-77.57375,-77.572606,-77.572606,-77.571446,-77.571446,-77.57137,-77.57137,-77.570385,-77.570385,-77.57137,-77.57137,-77.57037,-77.57037,-77.571347,-77.571347,-77.57153,-77.57153,-77.57269,-77.57269,-77.573842,-77.573842,-77.5743351,-77.5743351,-77.574994,-77.574994,-77.576176,-77.576176,-77.576741,-77.576741,-77.576176,-77.576176,-77.57655,-77.57655,-77.576993,-77.576993,-77.577206],\"marker\":{\"size\":10},\"mode\":\"lines\",\"name\":\"Path\",\"type\":\"scattermapbox\"},{\"lat\":[43.173879],\"lon\":[-77.577206],\"marker\":{\"color\":\"red\",\"size\":12},\"mode\":\"markers\",\"name\":\"Source\",\"type\":\"scattermapbox\"},{\"lat\":[43.173879],\"lon\":[-77.577206],\"marker\":{\"color\":\"green\",\"size\":12},\"mode\":\"markers\",\"name\":\"Destination\",\"type\":\"scattermapbox\"}],                        {\"mapbox\":{\"center\":{\"lat\":43.1748520173913,\"lon\":-77.57414674347825},\"style\":\"carto-darkmatter\",\"zoom\":13},\"margin\":{\"b\":0,\"l\":0,\"r\":0,\"t\":0},\"template\":{\"data\":{\"bar\":[{\"error_x\":{\"color\":\"#2a3f5f\"},\"error_y\":{\"color\":\"#2a3f5f\"},\"marker\":{\"line\":{\"color\":\"#E5ECF6\",\"width\":0.5},\"pattern\":{\"fillmode\":\"overlay\",\"size\":10,\"solidity\":0.2}},\"type\":\"bar\"}],\"barpolar\":[{\"marker\":{\"line\":{\"color\":\"#E5ECF6\",\"width\":0.5},\"pattern\":{\"fillmode\":\"overlay\",\"size\":10,\"solidity\":0.2}},\"type\":\"barpolar\"}],\"carpet\":[{\"aaxis\":{\"endlinecolor\":\"#2a3f5f\",\"gridcolor\":\"white\",\"linecolor\":\"white\",\"minorgridcolor\":\"white\",\"startlinecolor\":\"#2a3f5f\"},\"baxis\":{\"endlinecolor\":\"#2a3f5f\",\"gridcolor\":\"white\",\"linecolor\":\"white\",\"minorgridcolor\":\"white\",\"startlinecolor\":\"#2a3f5f\"},\"type\":\"carpet\"}],\"choropleth\":[{\"colorbar\":{\"outlinewidth\":0,\"ticks\":\"\"},\"type\":\"choropleth\"}],\"contour\":[{\"colorbar\":{\"outlinewidth\":0,\"ticks\":\"\"},\"colorscale\":[[0.0,\"#0d0887\"],[0.1111111111111111,\"#46039f\"],[0.2222222222222222,\"#7201a8\"],[0.3333333333333333,\"#9c179e\"],[0.4444444444444444,\"#bd3786\"],[0.5555555555555556,\"#d8576b\"],[0.6666666666666666,\"#ed7953\"],[0.7777777777777778,\"#fb9f3a\"],[0.8888888888888888,\"#fdca26\"],[1.0,\"#f0f921\"]],\"type\":\"contour\"}],\"contourcarpet\":[{\"colorbar\":{\"outlinewidth\":0,\"ticks\":\"\"},\"type\":\"contourcarpet\"}],\"heatmap\":[{\"colorbar\":{\"outlinewidth\":0,\"ticks\":\"\"},\"colorscale\":[[0.0,\"#0d0887\"],[0.1111111111111111,\"#46039f\"],[0.2222222222222222,\"#7201a8\"],[0.3333333333333333,\"#9c179e\"],[0.4444444444444444,\"#bd3786\"],[0.5555555555555556,\"#d8576b\"],[0.6666666666666666,\"#ed7953\"],[0.7777777777777778,\"#fb9f3a\"],[0.8888888888888888,\"#fdca26\"],[1.0,\"#f0f921\"]],\"type\":\"heatmap\"}],\"heatmapgl\":[{\"colorbar\":{\"outlinewidth\":0,\"ticks\":\"\"},\"colorscale\":[[0.0,\"#0d0887\"],[0.1111111111111111,\"#46039f\"],[0.2222222222222222,\"#7201a8\"],[0.3333333333333333,\"#9c179e\"],[0.4444444444444444,\"#bd3786\"],[0.5555555555555556,\"#d8576b\"],[0.6666666666666666,\"#ed7953\"],[0.7777777777777778,\"#fb9f3a\"],[0.8888888888888888,\"#fdca26\"],[1.0,\"#f0f921\"]],\"type\":\"heatmapgl\"}],\"histogram\":[{\"marker\":{\"pattern\":{\"fillmode\":\"overlay\",\"size\":10,\"solidity\":0.2}},\"type\":\"histogram\"}],\"histogram2d\":[{\"colorbar\":{\"outlinewidth\":0,\"ticks\":\"\"},\"colorscale\":[[0.0,\"#0d0887\"],[0.1111111111111111,\"#46039f\"],[0.2222222222222222,\"#7201a8\"],[0.3333333333333333,\"#9c179e\"],[0.4444444444444444,\"#bd3786\"],[0.5555555555555556,\"#d8576b\"],[0.6666666666666666,\"#ed7953\"],[0.7777777777777778,\"#fb9f3a\"],[0.8888888888888888,\"#fdca26\"],[1.0,\"#f0f921\"]],\"type\":\"histogram2d\"}],\"histogram2dcontour\":[{\"colorbar\":{\"outlinewidth\":0,\"ticks\":\"\"},\"colorscale\":[[0.0,\"#0d0887\"],[0.1111111111111111,\"#46039f\"],[0.2222222222222222,\"#7201a8\"],[0.3333333333333333,\"#9c179e\"],[0.4444444444444444,\"#bd3786\"],[0.5555555555555556,\"#d8576b\"],[0.6666666666666666,\"#ed7953\"],[0.7777777777777778,\"#fb9f3a\"],[0.8888888888888888,\"#fdca26\"],[1.0,\"#f0f921\"]],\"type\":\"histogram2dcontour\"}],\"mesh3d\":[{\"colorbar\":{\"outlinewidth\":0,\"ticks\":\"\"},\"type\":\"mesh3d\"}],\"parcoords\":[{\"line\":{\"colorbar\":{\"outlinewidth\":0,\"ticks\":\"\"}},\"type\":\"parcoords\"}],\"pie\":[{\"automargin\":true,\"type\":\"pie\"}],\"scatter\":[{\"marker\":{\"colorbar\":{\"outlinewidth\":0,\"ticks\":\"\"}},\"type\":\"scatter\"}],\"scatter3d\":[{\"line\":{\"colorbar\":{\"outlinewidth\":0,\"ticks\":\"\"}},\"marker\":{\"colorbar\":{\"outlinewidth\":0,\"ticks\":\"\"}},\"type\":\"scatter3d\"}],\"scattercarpet\":[{\"marker\":{\"colorbar\":{\"outlinewidth\":0,\"ticks\":\"\"}},\"type\":\"scattercarpet\"}],\"scattergeo\":[{\"marker\":{\"colorbar\":{\"outlinewidth\":0,\"ticks\":\"\"}},\"type\":\"scattergeo\"}],\"scattergl\":[{\"marker\":{\"colorbar\":{\"outlinewidth\":0,\"ticks\":\"\"}},\"type\":\"scattergl\"}],\"scattermapbox\":[{\"marker\":{\"colorbar\":{\"outlinewidth\":0,\"ticks\":\"\"}},\"type\":\"scattermapbox\"}],\"scatterpolar\":[{\"marker\":{\"colorbar\":{\"outlinewidth\":0,\"ticks\":\"\"}},\"type\":\"scatterpolar\"}],\"scatterpolargl\":[{\"marker\":{\"colorbar\":{\"outlinewidth\":0,\"ticks\":\"\"}},\"type\":\"scatterpolargl\"}],\"scatterternary\":[{\"marker\":{\"colorbar\":{\"outlinewidth\":0,\"ticks\":\"\"}},\"type\":\"scatterternary\"}],\"surface\":[{\"colorbar\":{\"outlinewidth\":0,\"ticks\":\"\"},\"colorscale\":[[0.0,\"#0d0887\"],[0.1111111111111111,\"#46039f\"],[0.2222222222222222,\"#7201a8\"],[0.3333333333333333,\"#9c179e\"],[0.4444444444444444,\"#bd3786\"],[0.5555555555555556,\"#d8576b\"],[0.6666666666666666,\"#ed7953\"],[0.7777777777777778,\"#fb9f3a\"],[0.8888888888888888,\"#fdca26\"],[1.0,\"#f0f921\"]],\"type\":\"surface\"}],\"table\":[{\"cells\":{\"fill\":{\"color\":\"#EBF0F8\"},\"line\":{\"color\":\"white\"}},\"header\":{\"fill\":{\"color\":\"#C8D4E3\"},\"line\":{\"color\":\"white\"}},\"type\":\"table\"}]},\"layout\":{\"annotationdefaults\":{\"arrowcolor\":\"#2a3f5f\",\"arrowhead\":0,\"arrowwidth\":1},\"autotypenumbers\":\"strict\",\"coloraxis\":{\"colorbar\":{\"outlinewidth\":0,\"ticks\":\"\"}},\"colorscale\":{\"diverging\":[[0,\"#8e0152\"],[0.1,\"#c51b7d\"],[0.2,\"#de77ae\"],[0.3,\"#f1b6da\"],[0.4,\"#fde0ef\"],[0.5,\"#f7f7f7\"],[0.6,\"#e6f5d0\"],[0.7,\"#b8e186\"],[0.8,\"#7fbc41\"],[0.9,\"#4d9221\"],[1,\"#276419\"]],\"sequential\":[[0.0,\"#0d0887\"],[0.1111111111111111,\"#46039f\"],[0.2222222222222222,\"#7201a8\"],[0.3333333333333333,\"#9c179e\"],[0.4444444444444444,\"#bd3786\"],[0.5555555555555556,\"#d8576b\"],[0.6666666666666666,\"#ed7953\"],[0.7777777777777778,\"#fb9f3a\"],[0.8888888888888888,\"#fdca26\"],[1.0,\"#f0f921\"]],\"sequentialminus\":[[0.0,\"#0d0887\"],[0.1111111111111111,\"#46039f\"],[0.2222222222222222,\"#7201a8\"],[0.3333333333333333,\"#9c179e\"],[0.4444444444444444,\"#bd3786\"],[0.5555555555555556,\"#d8576b\"],[0.6666666666666666,\"#ed7953\"],[0.7777777777777778,\"#fb9f3a\"],[0.8888888888888888,\"#fdca26\"],[1.0,\"#f0f921\"]]},\"colorway\":[\"#636efa\",\"#EF553B\",\"#00cc96\",\"#ab63fa\",\"#FFA15A\",\"#19d3f3\",\"#FF6692\",\"#B6E880\",\"#FF97FF\",\"#FECB52\"],\"font\":{\"color\":\"#2a3f5f\"},\"geo\":{\"bgcolor\":\"white\",\"lakecolor\":\"white\",\"landcolor\":\"#E5ECF6\",\"showlakes\":true,\"showland\":true,\"subunitcolor\":\"white\"},\"hoverlabel\":{\"align\":\"left\"},\"hovermode\":\"closest\",\"mapbox\":{\"style\":\"light\"},\"paper_bgcolor\":\"white\",\"plot_bgcolor\":\"#E5ECF6\",\"polar\":{\"angularaxis\":{\"gridcolor\":\"white\",\"linecolor\":\"white\",\"ticks\":\"\"},\"bgcolor\":\"#E5ECF6\",\"radialaxis\":{\"gridcolor\":\"white\",\"linecolor\":\"white\",\"ticks\":\"\"}},\"scene\":{\"xaxis\":{\"backgroundcolor\":\"#E5ECF6\",\"gridcolor\":\"white\",\"gridwidth\":2,\"linecolor\":\"white\",\"showbackground\":true,\"ticks\":\"\",\"zerolinecolor\":\"white\"},\"yaxis\":{\"backgroundcolor\":\"#E5ECF6\",\"gridcolor\":\"white\",\"gridwidth\":2,\"linecolor\":\"white\",\"showbackground\":true,\"ticks\":\"\",\"zerolinecolor\":\"white\"},\"zaxis\":{\"backgroundcolor\":\"#E5ECF6\",\"gridcolor\":\"white\",\"gridwidth\":2,\"linecolor\":\"white\",\"showbackground\":true,\"ticks\":\"\",\"zerolinecolor\":\"white\"}},\"shapedefaults\":{\"line\":{\"color\":\"#2a3f5f\"}},\"ternary\":{\"aaxis\":{\"gridcolor\":\"white\",\"linecolor\":\"white\",\"ticks\":\"\"},\"baxis\":{\"gridcolor\":\"white\",\"linecolor\":\"white\",\"ticks\":\"\"},\"bgcolor\":\"#E5ECF6\",\"caxis\":{\"gridcolor\":\"white\",\"linecolor\":\"white\",\"ticks\":\"\"}},\"title\":{\"x\":0.05},\"xaxis\":{\"automargin\":true,\"gridcolor\":\"white\",\"linecolor\":\"white\",\"ticks\":\"\",\"title\":{\"standoff\":15},\"zerolinecolor\":\"white\",\"zerolinewidth\":2},\"yaxis\":{\"automargin\":true,\"gridcolor\":\"white\",\"linecolor\":\"white\",\"ticks\":\"\",\"title\":{\"standoff\":15},\"zerolinecolor\":\"white\",\"zerolinewidth\":2}}}},                        {\"responsive\": true}                    ).then(function(){\n",
       "                            \n",
       "var gd = document.getElementById('ea107ed5-c13b-4236-8d6e-22e7e2b887d9');\n",
       "var x = new MutationObserver(function (mutations, observer) {{\n",
       "        var display = window.getComputedStyle(gd).display;\n",
       "        if (!display || display === 'none') {{\n",
       "            console.log([gd, 'removed!']);\n",
       "            Plotly.purge(gd);\n",
       "            observer.disconnect();\n",
       "        }}\n",
       "}});\n",
       "\n",
       "// Listen for the removal of the full notebook cells\n",
       "var notebookContainer = gd.closest('#notebook-container');\n",
       "if (notebookContainer) {{\n",
       "    x.observe(notebookContainer, {childList: true});\n",
       "}}\n",
       "\n",
       "// Listen for the clearing of the current output cell\n",
       "var outputEl = gd.closest('.output');\n",
       "if (outputEl) {{\n",
       "    x.observe(outputEl, {childList: true});\n",
       "}}\n",
       "\n",
       "                        })                };                });            </script>        </div>"
      ]
     },
     "metadata": {},
     "output_type": "display_data"
    },
    {
     "name": "stdout",
     "output_type": "stream",
     "text": [
      "s was tried 19 times and created 319 cuts of which 0 were active after adding rounds of cuts (0.070 seconds)\n",
      "ZeroHalf was tried 19 times and created 26 cuts of which 0 were active after adding rounds of cuts (0.046 seconds)\n",
      "\n",
      "Result - Optimal solution found\n",
      "\n",
      "Objective value:                1734.30000000\n",
      "Enumerated nodes:               0\n",
      "Total iterations:               631\n",
      "Time (CPU seconds):             1.95\n",
      "Time (Wallclock seconds):       2.06\n",
      "\n",
      "Option for printingOptions changed from normal to all\n",
      "Total time (CPU seconds):       1.96   (Wallclock seconds):       2.07\n",
      "\n"
     ]
    }
   ],
   "source": [
    "\n",
    "#Creating a bounding box\n",
    "north, south, east, west = 43.173480,43.176077,-77.577596,-77.570343    \n",
    "G = ox.graph_from_bbox(north, south, east, west, network_type=\"drive_service\")\n",
    "colors = plt.rcParams['axes.prop_cycle'].by_key()['color']\n",
    "ox.plot.plot_graph(G, bgcolor='#FFFFFF', node_color=colors[0], edge_color='lightgray', node_size=5)\n",
    "\n",
    "\n",
    "    #Extracting Node Information from G\n",
    "Nodes = []\n",
    "for i in G.nodes:\n",
    "    Nodes.append(i)\n",
    "\n",
    "data = pd.DataFrame(Nodes)\n",
    "data.rename(columns = {0:'Nodes'}, inplace = True)\n",
    "#G = ox.graph_from_place('Rochester, NY, USA', network_type='drive')\n",
    "\n",
    "lat1 = []\n",
    "long1 = []\n",
    "for i in Nodes:\n",
    "    lat1.append(G.nodes[i].get('y'))\n",
    "    long1.append(G.nodes[i].get('x'))\n",
    "data['Latitude'] = lat1\n",
    "data['Longitude'] = long1\n",
    "df1 = data\n",
    "\n",
    "\n",
    "df1 = df1.drop(['Nodes'],axis=1)\n",
    "df1.rename(columns = {'Latitude':'Left'}, inplace = True)\n",
    "df1.rename(columns = {'Longitude':'Right'}, inplace = True)\n",
    "\n",
    "    #Calculating Distance and the distance matrix for all coordinates in the Bounding Box\n",
    "df3 = pd.DataFrame()\n",
    "for j in df1.index:\n",
    "    list1 = []\n",
    "    for i in df1.index:\n",
    "        r = requests.get(f\"\"\"http://router.project-osrm.org/route/v1/car/{df1.loc[j, \"Right\"]},{df1.loc[j, \"Left\"]};{df1.loc[i, \"Right\"]},{df1.loc[i, \"Left\"]}?overview=false\"\"\")\n",
    "        list1.append(json.loads(r.content)[\"routes\"][0][\"distance\"])\n",
    "    df3[j] = list1\n",
    "df = df1\n",
    "df['coordinate'] = list(zip(df['Right'],df['Left']))\n",
    "df['ID'] = df.index\n",
    "\n",
    "locations = dict( ( ID, (df.loc[ID, 'Right'], df.loc[ID, 'Left']) ) for ID in df.index)\n",
    "distances_df = df3\n",
    "distance = distances_df\n",
    "distances = dict( ((l1,l2), distance.iloc[l1, l2] ) for l1 in locations for l2 in locations if l1!=l2)\n",
    "\n",
    "\n",
    "    ## V: This defines the total number of vehicles that will traverse the path.\n",
    "V = 1\n",
    "    ## prob: This initializes the problem that will run using provided constraints.\n",
    "\n",
    "prob=LpProblem(\"vehicle\", LpMinimize)\n",
    "    ## indicator: This defines the variable dictionary consisting of distances and indicates if location i is connected to location j along route\n",
    "indicator = LpVariable.dicts('indicator',distances, 0,1,LpBinary)\n",
    "    ## eliminator: This defines the variable dictionary consisting of the node ID's and elimiate subtours\n",
    "eliminator = LpVariable.dicts('eliminator', df.ID, 0, len(df.ID)-1, LpInteger)\n",
    "    ## cost: This stores the result of distances calculations.\n",
    "cost = lpSum([indicator[(i,j)]*distances[(i,j)] for (i,j) in distances])\n",
    "prob+=cost\n",
    "\n",
    "start1 = 11\n",
    "for v in df.ID:\n",
    "        ## cap: This considers a particular node at a time. \n",
    "    cap = 1 if v != start1 else V\n",
    "        #inward possible route\n",
    "    prob+= lpSum([ indicator[(i,v)] for i in df.ID if (i,v) in indicator]) ==cap\n",
    "        #outward possible route\n",
    "    prob+=lpSum([ indicator[(v,i)] for i in df.ID if (v,i) in indicator]) ==cap\n",
    "    ## num: This stores the result of the number of nodes and the number of vehicles.    \n",
    "num=len(df.ID)/V\n",
    "for i in df.ID:\n",
    "    for j in df.ID:\n",
    "        if i != j and (i != start1 and j!= start1) and (i,j) in indicator:\n",
    "             prob += eliminator[i] - eliminator[j] <= (num)*(1-indicator[(i,j)]) - 1         \n",
    "prob.solve()\n",
    "    ## feasibleedges: This stores values of edges after the calculations are done.\n",
    "feasible_edges = [ e for e in indicator if value(indicator[e]) != 0 ]\n",
    "    ##@get_next_loc\n",
    "    # This provides with the next coordinates for the next node in the path.\n",
    "def get_next_loc(initial):\n",
    "    edges = [e for e in feasible_edges if e[0]==initial]\n",
    "    for e in edges:\n",
    "        feasible_edges.remove(e)\n",
    "    return edges\n",
    "    ## routes: This stores information regarding paths.    \n",
    "routes = get_next_loc(11)\n",
    "routes = [ [e] for e in routes ]\n",
    "\n",
    "for r in routes:\n",
    "    while r[-1][1] !=start1:\n",
    "        r.append(get_next_loc(r[-1][1])[-1])\n",
    "\n",
    "\n",
    "\n",
    "\n",
    "df2 = df[['Left', 'Right', 'ID']].copy()\n",
    "df2.rename(columns = {'Left':'Latitude'}, inplace = True)\n",
    "df2.rename(columns = {'Right':'Longitude'}, inplace = True)\n",
    "a=[]\n",
    "for i in range(data.index.stop):\n",
    "    #print(routes[0][i][0])\n",
    "    a.append(routes[0][i][0]) \n",
    "\n",
    "df3 = pd.DataFrame()\n",
    "for i in a:\n",
    "    df3 = df3.append(df2.loc[i])\n",
    "\n",
    "df3.reset_index(inplace = True)\n",
    "\n",
    "df3 = df3.append(df3.loc[0])\n",
    "df3.reset_index(inplace = True)\n",
    "df4 = df3\n",
    "dfnodes = pd.DataFrame(Nodes)\n",
    "dfnodes.rename(columns = {0:'Nodes'}, inplace = True)\n",
    "dfnodes = dfnodes.reindex(a)\n",
    "dfnodes = dfnodes.append({\"Nodes\":Nodes[a[0]]},ignore_index=True)\n",
    "df4 = pd.concat([df4,dfnodes],axis=1)\n",
    "    \n",
    "    \n",
    "def node_list_to_path2(G, node_list):\n",
    "   \n",
    "    edge_nodes = list(zip(node_list[:-1], node_list[1:]))\n",
    "    lines = []\n",
    "    newlist=[]\n",
    "    \n",
    "    \n",
    "    \n",
    "    \n",
    "    #for u, v in edge_nodes:\n",
    "    #    if(G.get_edge_data(u, v)):\n",
    "    #        newlist.append((u,v))\n",
    "            \n",
    "            \n",
    "            \n",
    "    for u, v in edge_nodes:\n",
    "        if(G.get_edge_data(u, v)):\n",
    "            newlist.append((u,v))\n",
    "        else:    \n",
    "            path1 = nx.shortest_path(G,u, v, weight='travel_time')\n",
    "            path2 = list(zip(path1[:-1], path1[1:]))\n",
    "            newlist = newlist+path2        \n",
    "    #print(newlist)\n",
    "    #print(len(newlist))\n",
    "    \n",
    "    for u, v in newlist:\n",
    "        # if there are parallel edges, select the shortest in length\n",
    "        \n",
    "        data = min(G.get_edge_data(u, v).values(), \n",
    "                key=lambda x: x['length'])\n",
    "            # if it has a geometry attribute\n",
    "        if 'geometry' in data:\n",
    "            # add them to the list of lines to plot\n",
    "            xs, ys = data['geometry'].xy\n",
    "            lines.append(list(zip(xs, ys)))\n",
    "        else:\n",
    "            # if it doesn't have a geometry attribute,\n",
    "            # then the edge is a straight line from node to node\n",
    "            x1 = G.nodes[u]['x']\n",
    "            y1 = G.nodes[u]['y']\n",
    "            x2 = G.nodes[v]['x']\n",
    "            y2 = G.nodes[v]['y']\n",
    "            line = [(x1, y1), (x2, y2)]\n",
    "            lines.append(line)\n",
    "            \n",
    "    return lines       \n",
    "    \n",
    "    \n",
    "    \n",
    "def plot_path(lat, long, origin_point, destination_point):\n",
    "    fig = go.Figure(go.Scattermapbox(\n",
    "        name = \"Path\",\n",
    "        mode = \"lines\",\n",
    "        lon = long,\n",
    "        lat = lat,\n",
    "        marker = {'size': 10},\n",
    "        line = dict(width = 4.5, color = 'grey')))\n",
    "    fig.add_trace(go.Scattermapbox(\n",
    "        name = \"Source\",\n",
    "        mode = \"markers\",\n",
    "        lon = [origin_point[1]],\n",
    "        lat = [origin_point[0]],\n",
    "        marker = {'size': 12, 'color':\"red\"}))\n",
    "    fig.add_trace(go.Scattermapbox(\n",
    "        name = \"Destination\",\n",
    "        mode = \"markers\",\n",
    "        lon = [destination_point[1]],\n",
    "        lat = [destination_point[0]],\n",
    "        marker = {'size': 12, 'color':'green'}))\n",
    "    lat_center = np.mean(lat)\n",
    "    long_center = np.mean(long)\n",
    "    fig.update_layout(mapbox_style=\"carto-darkmatter\",\n",
    "        mapbox_center_lat = 30, mapbox_center_lon=-80)\n",
    "    fig.update_layout(margin={\"r\":0,\"t\":0,\"l\":0,\"b\":0},\n",
    "                        mapbox = {\n",
    "                            'center': {'lat': lat_center, \n",
    "                            'lon': long_center},\n",
    "                            'zoom': 13})\n",
    "    fig.show()\n",
    "\n",
    "\n",
    "pathlist = []\n",
    "for i in range(df4['Nodes'].count()-1):\n",
    "    path1 = nx.shortest_path(G, df4.iloc[i]['Nodes'],df4.iloc[i+1]['Nodes'], weight='travel_time')\n",
    "    pathlist = pathlist+path1\n",
    "#pathlist1 = list(dict.fromkeys(pathlist))\n",
    "#pathlist1.append(pathlist1[0])\n",
    "data4 = pd.DataFrame(pathlist)\n",
    "data4.rename(columns = {0:'Nodes'}, inplace = True)\n",
    "lat1 = []\n",
    "long1 = []\n",
    "lines = node_list_to_path2(G, pathlist)\n",
    "long2 = []\n",
    "lat2 = []\n",
    "for i in range(len(lines)):\n",
    "    z = list(lines[i])\n",
    "    l1 = list(list(zip(*z))[0])\n",
    "    l2 = list(list(zip(*z))[1])\n",
    "    for j in range(len(l1)):\n",
    "        long2.append(l1[j])\n",
    "        lat2.append(l2[j])\n",
    "for i in pathlist:\n",
    "    lat1.append(G.nodes[i].get('y'))\n",
    "    long1.append(G.nodes[i].get('x'))\n",
    "data4['Latitude'] = lat1\n",
    "data4['Longitude'] = long1\n",
    "origin_point = (data4.loc[0][\"Latitude\"], data4.loc[0][\"Longitude\"]) \n",
    "destination_point = (data4.iloc[-1][\"Latitude\"], data4.iloc[-1][\"Longitude\"])\n",
    "#plot_path(lat1, long1, origin_point, destination_point)\n",
    "\n",
    "\n",
    "plot_path(lat2, long2, origin_point, destination_point)\n"
   ]
  },
  {
   "cell_type": "code",
   "execution_count": 26,
   "id": "6936d2c0",
   "metadata": {},
   "outputs": [],
   "source": [
    "path1=pathlist"
   ]
  },
  {
   "cell_type": "code",
   "execution_count": 6,
   "id": "laden-vampire",
   "metadata": {},
   "outputs": [],
   "source": [
    "#finalroutes = []"
   ]
  },
  {
   "cell_type": "code",
   "execution_count": 10,
   "id": "choice-russell",
   "metadata": {},
   "outputs": [],
   "source": [
    "#bb = []\n",
    "#bb1 = [-77.566137,43.174168,-77.561975,43.176296]\n",
    "#bb2 = [-77.565536,43.169786,-77.559657,43.171602]\n",
    "#b.append(bb1)\n",
    "#b.append(bb2)"
   ]
  },
  {
   "cell_type": "code",
   "execution_count": 14,
   "id": "latter-cotton",
   "metadata": {},
   "outputs": [
    {
     "name": "stderr",
     "output_type": "stream",
     "text": [
      "/Users/rochelleallan/anaconda3/envs/ox/lib/python3.9/site-packages/osmnx/utils_geo.py:335: ShapelyDeprecationWarning:\n",
      "\n",
      "Iteration over multi-part geometries is deprecated and will be removed in Shapely 2.0. Use the `geoms` property to access the constituent parts of a multi-part geometry.\n",
      "\n",
      "/Users/rochelleallan/anaconda3/envs/ox/lib/python3.9/site-packages/osmnx/utils_geo.py:426: ShapelyDeprecationWarning:\n",
      "\n",
      "Iteration over multi-part geometries is deprecated and will be removed in Shapely 2.0. Use the `geoms` property to access the constituent parts of a multi-part geometry.\n",
      "\n",
      "/Users/rochelleallan/anaconda3/envs/ox/lib/python3.9/site-packages/osmnx/utils_geo.py:426: ShapelyDeprecationWarning:\n",
      "\n",
      "Iteration over multi-part geometries is deprecated and will be removed in Shapely 2.0. Use the `geoms` property to access the constituent parts of a multi-part geometry.\n",
      "\n"
     ]
    },
    {
     "data": {
      "image/png": "[encoded data removed]",
      "text/plain": [
       "<Figure size 576x576 with 1 Axes>"
      ]
     },
     "metadata": {},
     "output_type": "display_data"
    },
    {
     "name": "stdout",
     "output_type": "stream",
     "text": [
      "Welcome to the CBC MILP Solver \n",
      "Version: 2.10.3 \n",
      "Build Date: Dec 15 2019 \n",
      "\n",
      "command line - /Users/rochelleallan/anaconda3/envs/ox/lib/python3.9/site-packages/pulp/apis/../solverdir/cbc/osx/64/cbc /var/folders/0f/0wx77bhd2sl15rhs858yxhtc0000gn/T/f4049ab55d984a61ab76aaebafd0a626-pulp.mps timeMode elapsed branch printingOptions all solution /var/folders/0f/0wx77bhd2sl15rhs858yxhtc0000gn/T/f4049ab55d984a61ab76aaebafd0a626-pulp.sol (default strategy 1)\n",
      "At line 2 NAME          MODEL\n",
      "At line 3 ROWS\n",
      "At line 117 COLUMNS\n",
      "At line 958 RHS\n",
      "At line 1071 BOUNDS\n",
      "At line 1192 ENDATA\n",
      "Problem MODEL has 112 rows, 120 columns and 490 elements\n",
      "Coin0008I MODEL read with 0 errors\n",
      "Option for timeMode changed from cpu to elapsed\n",
      "Continuous objective value is 630.073 - 0.00 seconds\n",
      "Cgl0003I 0 fixed, 0 tightened bounds, 90 strengthened rows, 0 substitutions\n",
      "Cgl0003I 0 fixed, 0 tightened bounds, 90 strengthened rows, 0 substitutions\n",
      "Cgl0003I 0 fixed, 0 tightened bounds, 90 strengthened rows, 0 substitutions\n",
      "Cgl0003I 0 fixed, 0 tightened bounds, 90 strengthened rows, 0 substitutions\n",
      "Cgl0003I 0 fixed, 0 tightened bounds, 90 strengthened rows, 0 substitutions\n",
      "Cgl0003I 0 fixed, 0 tightened bounds, 90 strengthened rows, 0 substitutions\n",
      "Cgl0003I 0 fixed, 0 tightened bounds, 90 strengthened rows, 0 substitutions\n",
      "Cgl0003I 0 fixed, 0 tightened bounds, 90 strengthened rows, 0 substitutions\n",
      "Cgl0004I processed model has 112 rows, 120 columns (120 integer (110 of which binary)) and 1210 elements\n",
      "Cutoff increment increased from 1e-05 to 0.0999\n",
      "Cbc0038I Initial state - 15 integers unsatisfied sum - 3.09091\n",
      "Cbc0038I Pass   1: suminf.    1.60000 (15) obj. 791.71 iterations 27\n",
      "Cbc0038I Pass   2: suminf.    1.60000 (4) obj. 2697.58 iterations 40\n",
      "Cbc0038I Pass   3: suminf.    1.60000 (8) obj. 2484.96 iterations 9\n",
      "Cbc0038I Pass   4: suminf.    2.60000 (13) obj. 2029.93 iterations 28\n",
      "Cbc0038I Pass   5: suminf.    1.60000 (7) obj. 2132.67 iterations 39\n",
      "Cbc0038I Pass   6: suminf.    1.60000 (10) obj. 2040.71 iterations 15\n",
      "Cbc0038I Pass   7: suminf.    1.60000 (10) obj. 2166.59 iterations 36\n",
      "Cbc0038I Pass   8: suminf.    4.80000 (21) obj. 2684.88 iterations 51\n",
      "Cbc0038I Pass   9: suminf.    0.60000 (6) obj. 2635.8 iterations 28\n",
      "Cbc0038I Pass  10: suminf.    0.60000 (6) obj. 2635.8 iterations 20\n",
      "Cbc0038I Pass  11: suminf.    0.00000 (0) obj. 2469.7 iterations 55\n",
      "Cbc0038I Solution found of 2469.7\n",
      "Cbc0038I Cleaned solution of 2469.7\n",
      "Cbc0038I Before mini branch and bound, 58 integers at bound fixed and 0 continuous\n",
      "Cbc0038I Full problem 112 rows 120 columns, reduced to 110 rows 60 columns\n",
      "Cbc0038I Mini branch and bound improved solution from 2469.7 to 1228.1 (0.19 seconds)\n",
      "Cbc0038I Round again with cutoff of 1168.6\n",
      "Cbc0038I Pass  12: suminf.    1.60000 (15) obj. 791.71 iterations 0\n",
      "Cbc0038I Pass  13: suminf.    3.59954 (8) obj. 1168.6 iterations 25\n",
      "Cbc0038I Pass  14: suminf.    3.59954 (8) obj. 1168.6 iterations 5\n",
      "Cbc0038I Pass  15: suminf.    1.60000 (8) obj. 894.04 iterations 40\n",
      "Cbc0038I Pass  16: suminf.    2.94253 (11) obj. 1168.6 iterations 16\n",
      "Cbc0038I Pass  17: suminf.    1.60000 (8) obj. 901.96 iterations 26\n",
      "Cbc0038I Pass  18: suminf.    2.57800 (11) obj. 1168.6 iterations 30\n",
      "Cbc0038I Pass  19: suminf.    2.12222 (17) obj. 1168.6 iterations 30\n",
      "Cbc0038I Pass  20: suminf.    3.39773 (13) obj. 1168.6 iterations 28\n",
      "Cbc0038I Pass  21: suminf.    2.22990 (14) obj. 1168.6 iterations 30\n",
      "Cbc0038I Pass  22: suminf.    4.04358 (15) obj. 1168.6 iterations 29\n",
      "Cbc0038I Pass  23: suminf.    1.60000 (8) obj. 894.04 iterations 19\n",
      "Cbc0038I Pass  24: suminf.    3.21664 (13) obj. 1168.6 iterations 22\n",
      "Cbc0038I Pass  25: suminf.    1.60000 (8) obj. 901.96 iterations 24\n",
      "Cbc0038I Pass  26: suminf.    5.32654 (12) obj. 1168.6 iterations 24\n",
      "Cbc0038I Pass  27: suminf.    4.31690 (10) obj. 1168.6 iterations 6\n",
      "Cbc0038I Pass  28: suminf.    2.19083 (13) obj. 1168.6 iterations 20\n",
      "Cbc0038I Pass  29: suminf.    2.12222 (17) obj. 1168.6 iterations 20\n",
      "Cbc0038I Pass  30: suminf.    3.39773 (13) obj. 1168.6 iterations 29\n",
      "Cbc0038I Pass  31: suminf.    2.22990 (14) obj. 1168.6 iterations 17\n",
      "Cbc0038I Pass  32: suminf.    4.04358 (15) obj. 1168.6 iterations 38\n",
      "Cbc0038I Pass  33: suminf.    1.60000 (8) obj. 894.04 iterations 17\n",
      "Cbc0038I Pass  34: suminf.    3.10699 (12) obj. 1168.6 iterations 26\n",
      "Cbc0038I Pass  35: suminf.    1.60000 (8) obj. 901.96 iterations 26\n",
      "Cbc0038I Pass  36: suminf.    4.17625 (10) obj. 1168.6 iterations 23\n",
      "Cbc0038I Pass  37: suminf.    4.38963 (14) obj. 1168.6 iterations 20\n",
      "Cbc0038I Pass  38: suminf.    2.52111 (10) obj. 1168.6 iterations 32\n",
      "Cbc0038I Pass  39: suminf.    2.20000 (12) obj. 1028.32 iterations 20\n",
      "Cbc0038I Pass  40: suminf.    1.60000 (4) obj. 1110.06 iterations 36\n",
      "Cbc0038I Pass  41: suminf.    2.20000 (13) obj. 1036.7 iterations 13\n",
      "Cbc0038I No solution found this major pass\n",
      "Cbc0038I Before mini branch and bound, 53 integers at bound fixed and 0 continuous\n",
      "Cbc0038I Full problem 112 rows 120 columns, reduced to 112 rows 67 columns\n",
      "Cbc0038I Mini branch and bound improved solution from 1228.1 to 1188.8 (0.39 seconds)\n",
      "Cbc0038I Round again with cutoff of 1061.7\n",
      "Cbc0038I Reduced cost fixing fixed 4 variables on major pass 3\n",
      "Cbc0038I Pass  41: suminf.    1.60000 (15) obj. 746.88 iterations 1\n",
      "Cbc0038I Pass  42: suminf.    3.82596 (18) obj. 1061.7 iterations 19\n",
      "Cbc0038I Pass  43: suminf.    1.60000 (8) obj. 894.04 iterations 28\n",
      "Cbc0038I Pass  44: suminf.    3.32901 (9) obj. 1061.7 iterations 16\n",
      "Cbc0038I Pass  45: suminf.    2.20000 (10) obj. 849.74 iterations 19\n",
      "Cbc0038I Pass  46: suminf.    3.00000 (9) obj. 1061.7 iterations 18\n",
      "Cbc0038I Pass  47: suminf.    3.90247 (14) obj. 1061.7 iterations 24\n",
      "Cbc0038I Pass  48: suminf.    3.09659 (17) obj. 1061.7 iterations 30\n",
      "Cbc0038I Pass  49: suminf.    3.06245 (24) obj. 1061.7 iterations 39\n",
      "Cbc0038I Pass  50: suminf.    3.44701 (9) obj. 1061.7 iterations 28\n",
      "Cbc0038I Pass  51: suminf.    2.60000 (20) obj. 902.765 iterations 21\n",
      "Cbc0038I Pass  52: suminf.    3.32135 (23) obj. 1061.7 iterations 33\n",
      "Cbc0038I Pass  53: suminf.    1.66881 (23) obj. 1061.7 iterations 35\n",
      "Cbc0038I Pass  54: suminf.    3.44701 (9) obj. 1061.7 iterations 32\n",
      "Cbc0038I Pass  55: suminf.    4.93256 (15) obj. 1061.7 iterations 27\n",
      "Cbc0038I Pass  56: suminf.    1.20000 (6) obj. 893.5 iterations 32\n",
      "Cbc0038I Pass  57: suminf.    1.86282 (9) obj. 1061.7 iterations 22\n",
      "Cbc0038I Pass  58: suminf.    1.20000 (6) obj. 961.46 iterations 14\n",
      "Cbc0038I Pass  59: suminf.    2.37939 (7) obj. 1061.7 iterations 21\n",
      "Cbc0038I Pass  60: suminf.    1.20000 (7) obj. 1011.45 iterations 18\n",
      "Cbc0038I Pass  61: suminf.    3.32734 (11) obj. 1061.7 iterations 18\n",
      "Cbc0038I Pass  62: suminf.    3.77356 (11) obj. 1061.7 iterations 31\n",
      "Cbc0038I Pass  63: suminf.    1.60000 (10) obj. 889.17 iterations 24\n",
      "Cbc0038I Pass  64: suminf.    1.60000 (8) obj. 894.04 iterations 18\n",
      "Cbc0038I Pass  65: suminf.    3.32901 (9) obj. 1061.7 iterations 16\n",
      "Cbc0038I Pass  66: suminf.    2.20000 (10) obj. 849.74 iterations 18\n",
      "Cbc0038I Pass  67: suminf.    3.05760 (10) obj. 1061.7 itera"
     ]
    },
    {
     "data": {
      "application/vnd.plotly.v1+json": {
       "config": {
        "plotlyServerURL": "https://plot.ly"
       },
       "data": [
        {
         "lat": [
          43.176176,
          43.176199,
          43.176199,
          43.176206,
          43.176206,
          43.176229,
          43.176229,
          43.176236,
          43.176236,
          43.174348,
          43.174348,
          43.174379,
          43.174379,
          43.174348,
          43.174348,
          43.174319,
          43.174319,
          43.174287,
          43.174287,
          43.176176,
          43.176176,
          43.1761618,
          43.17616,
          43.176137,
          43.176137,
          43.17613,
          43.17613,
          43.176137,
          43.176137,
          43.17616,
          43.1761618,
          43.176176
         ],
         "line": {
          "color": "grey",
          "width": 4.5
         },
         "lon": [
          -77.564358,
          -77.563633,
          -77.563633,
          -77.563332,
          -77.563332,
          -77.562557,
          -77.562557,
          -77.562315,
          -77.562315,
          -77.563328,
          -77.563328,
          -77.562298,
          -77.562298,
          -77.563328,
          -77.563328,
          -77.564366,
          -77.564366,
          -77.565426,
          -77.565426,
          -77.564358,
          -77.564358,
          -77.5647913,
          -77.564846,
          -77.565647,
          -77.565647,
          -77.565792,
          -77.565792,
          -77.565647,
          -77.565647,
          -77.564846,
          -77.5647913,
          -77.564358
         ],
         "marker": {
          "size": 10
         },
         "mode": "lines",
         "name": "Path",
         "type": "scattermapbox"
        },
        {
         "lat": [
          43.176176
         ],
         "lon": [
          -77.564358
         ],
         "marker": {
          "color": "red",
          "size": 12
         },
         "mode": "markers",
         "name": "Source",
         "type": "scattermapbox"
        },
        {
         "lat": [
          43.176176
         ],
         "lon": [
          -77.564358
         ],
         "marker": {
          "color": "green",
          "size": 12
         },
         "mode": "markers",
         "name": "Destination",
         "type": "scattermapbox"
        }
       ],
       "layout": {
        "mapbox": {
         "center": {
          "lat": 43.175601799999995,
          "lon": -77.56412639375
         },
         "style": "carto-darkmatter",
         "zoom": 13
        },
        "margin": {
         "b": 0,
         "l": 0,
         "r": 0,
         "t": 0
        },
        "template": {
         "data": {
          "bar": [
           {
            "error_x": {
             "color": "#2a3f5f"
            },
            "error_y": {
             "color": "#2a3f5f"
            },
            "marker": {
             "line": {
              "color": "#E5ECF6",
              "width": 0.5
             },
             "pattern": {
              "fillmode": "overlay",
              "size": 10,
              "solidity": 0.2
             }
            },
            "type": "bar"
           }
          ],
          "barpolar": [
           {
            "marker": {
             "line": {
              "color": "#E5ECF6",
              "width": 0.5
             },
             "pattern": {
              "fillmode": "overlay",
              "size": 10,
              "solidity": 0.2
             }
            },
            "type": "barpolar"
           }
          ],
          "carpet": [
           {
            "aaxis": {
             "endlinecolor": "#2a3f5f",
             "gridcolor": "white",
             "linecolor": "white",
             "minorgridcolor": "white",
             "startlinecolor": "#2a3f5f"
            },
            "baxis": {
             "endlinecolor": "#2a3f5f",
             "gridcolor": "white",
             "linecolor": "white",
             "minorgridcolor": "white",
             "startlinecolor": "#2a3f5f"
            },
            "type": "carpet"
           }
          ],
          "choropleth": [
           {
            "colorbar": {
             "outlinewidth": 0,
             "ticks": ""
            },
            "type": "choropleth"
           }
          ],
          "contour": [
           {
            "colorbar": {
             "outlinewidth": 0,
             "ticks": ""
            },
            "colorscale": [
             [
              0,
              "#0d0887"
             ],
             [
              0.1111111111111111,
              "#46039f"
             ],
             [
              0.2222222222222222,
              "#7201a8"
             ],
             [
              0.3333333333333333,
              "#9c179e"
             ],
             [
              0.4444444444444444,
              "#bd3786"
             ],
             [
              0.5555555555555556,
              "#d8576b"
             ],
             [
              0.6666666666666666,
              "#ed7953"
             ],
             [
              0.7777777777777778,
              "#fb9f3a"
             ],
             [
              0.8888888888888888,
              "#fdca26"
             ],
             [
              1,
              "#f0f921"
             ]
            ],
            "type": "contour"
           }
          ],
          "contourcarpet": [
           {
            "colorbar": {
             "outlinewidth": 0,
             "ticks": ""
            },
            "type": "contourcarpet"
           }
          ],
          "heatmap": [
           {
            "colorbar": {
             "outlinewidth": 0,
             "ticks": ""
            },
            "colorscale": [
             [
              0,
              "#0d0887"
             ],
             [
              0.1111111111111111,
              "#46039f"
             ],
             [
              0.2222222222222222,
              "#7201a8"
             ],
             [
              0.3333333333333333,
              "#9c179e"
             ],
             [
              0.4444444444444444,
              "#bd3786"
             ],
             [
              0.5555555555555556,
              "#d8576b"
             ],
             [
              0.6666666666666666,
              "#ed7953"
             ],
             [
              0.7777777777777778,
              "#fb9f3a"
             ],
             [
              0.8888888888888888,
              "#fdca26"
             ],
             [
              1,
              "#f0f921"
             ]
            ],
            "type": "heatmap"
           }
          ],
          "heatmapgl": [
           {
            "colorbar": {
             "outlinewidth": 0,
             "ticks": ""
            },
            "colorscale": [
             [
              0,
              "#0d0887"
             ],
             [
              0.1111111111111111,
              "#46039f"
             ],
             [
              0.2222222222222222,
              "#7201a8"
             ],
             [
              0.3333333333333333,
              "#9c179e"
             ],
             [
              0.4444444444444444,
              "#bd3786"
             ],
             [
              0.5555555555555556,
              "#d8576b"
             ],
             [
              0.6666666666666666,
              "#ed7953"
             ],
             [
              0.7777777777777778,
              "#fb9f3a"
             ],
             [
              0.8888888888888888,
              "#fdca26"
             ],
             [
              1,
              "#f0f921"
             ]
            ],
            "type": "heatmapgl"
           }
          ],
          "histogram": [
           {
            "marker": {
             "pattern": {
              "fillmode": "overlay",
              "size": 10,
              "solidity": 0.2
             }
            },
            "type": "histogram"
           }
          ],
          "histogram2d": [
           {
            "colorbar": {
             "outlinewidth": 0,
             "ticks": ""
            },
            "colorscale": [
             [
              0,
              "#0d0887"
             ],
             [
              0.1111111111111111,
              "#46039f"
             ],
             [
              0.2222222222222222,
              "#7201a8"
             ],
             [
              0.3333333333333333,
              "#9c179e"
             ],
             [
              0.4444444444444444,
              "#bd3786"
             ],
             [
              0.5555555555555556,
              "#d8576b"
             ],
             [
              0.6666666666666666,
              "#ed7953"
             ],
             [
              0.7777777777777778,
              "#fb9f3a"
             ],
             [
              0.8888888888888888,
              "#fdca26"
             ],
             [
              1,
              "#f0f921"
             ]
            ],
            "type": "histogram2d"
           }
          ],
          "histogram2dcontour": [
           {
            "colorbar": {
             "outlinewidth": 0,
             "ticks": ""
            },
            "colorscale": [
             [
              0,
              "#0d0887"
             ],
             [
              0.1111111111111111,
              "#46039f"
             ],
             [
              0.2222222222222222,
              "#7201a8"
             ],
             [
              0.3333333333333333,
              "#9c179e"
             ],
             [
              0.4444444444444444,
              "#bd3786"
             ],
             [
              0.5555555555555556,
              "#d8576b"
             ],
             [
              0.6666666666666666,
              "#ed7953"
             ],
             [
              0.7777777777777778,
              "#fb9f3a"
             ],
             [
              0.8888888888888888,
              "#fdca26"
             ],
             [
              1,
              "#f0f921"
             ]
            ],
            "type": "histogram2dcontour"
           }
          ],
          "mesh3d": [
           {
            "colorbar": {
             "outlinewidth": 0,
             "ticks": ""
            },
            "type": "mesh3d"
           }
          ],
          "parcoords": [
           {
            "line": {
             "colorbar": {
              "outlinewidth": 0,
              "ticks": ""
             }
            },
            "type": "parcoords"
           }
          ],
          "pie": [
           {
            "automargin": true,
            "type": "pie"
           }
          ],
          "scatter": [
           {
            "marker": {
             "colorbar": {
              "outlinewidth": 0,
              "ticks": ""
             }
            },
            "type": "scatter"
           }
          ],
          "scatter3d": [
           {
            "line": {
             "colorbar": {
              "outlinewidth": 0,
              "ticks": ""
             }
            },
            "marker": {
             "colorbar": {
              "outlinewidth": 0,
              "ticks": ""
             }
            },
            "type": "scatter3d"
           }
          ],
          "scattercarpet": [
           {
            "marker": {
             "colorbar": {
              "outlinewidth": 0,
              "ticks": ""
             }
            },
            "type": "scattercarpet"
           }
          ],
          "scattergeo": [
           {
            "marker": {
             "colorbar": {
              "outlinewidth": 0,
              "ticks": ""
             }
            },
            "type": "scattergeo"
           }
          ],
          "scattergl": [
           {
            "marker": {
             "colorbar": {
              "outlinewidth": 0,
              "ticks": ""
             }
            },
            "type": "scattergl"
           }
          ],
          "scattermapbox": [
           {
            "marker": {
             "colorbar": {
              "outlinewidth": 0,
              "ticks": ""
             }
            },
            "type": "scattermapbox"
           }
          ],
          "scatterpolar": [
           {
            "marker": {
             "colorbar": {
              "outlinewidth": 0,
              "ticks": ""
             }
            },
            "type": "scatterpolar"
           }
          ],
          "scatterpolargl": [
           {
            "marker": {
             "colorbar": {
              "outlinewidth": 0,
              "ticks": ""
             }
            },
            "type": "scatterpolargl"
           }
          ],
          "scatterternary": [
           {
            "marker": {
             "colorbar": {
              "outlinewidth": 0,
              "ticks": ""
             }
            },
            "type": "scatterternary"
           }
          ],
          "surface": [
           {
            "colorbar": {
             "outlinewidth": 0,
             "ticks": ""
            },
            "colorscale": [
             [
              0,
              "#0d0887"
             ],
             [
              0.1111111111111111,
              "#46039f"
             ],
             [
              0.2222222222222222,
              "#7201a8"
             ],
             [
              0.3333333333333333,
              "#9c179e"
             ],
             [
              0.4444444444444444,
              "#bd3786"
             ],
             [
              0.5555555555555556,
              "#d8576b"
             ],
             [
              0.6666666666666666,
              "#ed7953"
             ],
             [
              0.7777777777777778,
              "#fb9f3a"
             ],
             [
              0.8888888888888888,
              "#fdca26"
             ],
             [
              1,
              "#f0f921"
             ]
            ],
            "type": "surface"
           }
          ],
          "table": [
           {
            "cells": {
             "fill": {
              "color": "#EBF0F8"
             },
             "line": {
              "color": "white"
             }
            },
            "header": {
             "fill": {
              "color": "#C8D4E3"
             },
             "line": {
              "color": "white"
             }
            },
            "type": "table"
           }
          ]
         },
         "layout": {
          "annotationdefaults": {
           "arrowcolor": "#2a3f5f",
           "arrowhead": 0,
           "arrowwidth": 1
          },
          "autotypenumbers": "strict",
          "coloraxis": {
           "colorbar": {
            "outlinewidth": 0,
            "ticks": ""
           }
          },
          "colorscale": {
           "diverging": [
            [
             0,
             "#8e0152"
            ],
            [
             0.1,
             "#c51b7d"
            ],
            [
             0.2,
             "#de77ae"
            ],
            [
             0.3,
             "#f1b6da"
            ],
            [
             0.4,
             "#fde0ef"
            ],
            [
             0.5,
             "#f7f7f7"
            ],
            [
             0.6,
             "#e6f5d0"
            ],
            [
             0.7,
             "#b8e186"
            ],
            [
             0.8,
             "#7fbc41"
            ],
            [
             0.9,
             "#4d9221"
            ],
            [
             1,
             "#276419"
            ]
           ],
           "sequential": [
            [
             0,
             "#0d0887"
            ],
            [
             0.1111111111111111,
             "#46039f"
            ],
            [
             0.2222222222222222,
             "#7201a8"
            ],
            [
             0.3333333333333333,
             "#9c179e"
            ],
            [
             0.4444444444444444,
             "#bd3786"
            ],
            [
             0.5555555555555556,
             "#d8576b"
            ],
            [
             0.6666666666666666,
             "#ed7953"
            ],
            [
             0.7777777777777778,
             "#fb9f3a"
            ],
            [
             0.8888888888888888,
             "#fdca26"
            ],
            [
             1,
             "#f0f921"
            ]
           ],
           "sequentialminus": [
            [
             0,
             "#0d0887"
            ],
            [
             0.1111111111111111,
             "#46039f"
            ],
            [
             0.2222222222222222,
             "#7201a8"
            ],
            [
             0.3333333333333333,
             "#9c179e"
            ],
            [
             0.4444444444444444,
             "#bd3786"
            ],
            [
             0.5555555555555556,
             "#d8576b"
            ],
            [
             0.6666666666666666,
             "#ed7953"
            ],
            [
             0.7777777777777778,
             "#fb9f3a"
            ],
            [
             0.8888888888888888,
             "#fdca26"
            ],
            [
             1,
             "#f0f921"
            ]
           ]
          },
          "colorway": [
           "#636efa",
           "#EF553B",
           "#00cc96",
           "#ab63fa",
           "#FFA15A",
           "#19d3f3",
           "#FF6692",
           "#B6E880",
           "#FF97FF",
           "#FECB52"
          ],
          "font": {
           "color": "#2a3f5f"
          },
          "geo": {
           "bgcolor": "white",
           "lakecolor": "white",
           "landcolor": "#E5ECF6",
           "showlakes": true,
           "showland": true,
           "subunitcolor": "white"
          },
          "hoverlabel": {
           "align": "left"
          },
          "hovermode": "closest",
          "mapbox": {
           "style": "light"
          },
          "paper_bgcolor": "white",
          "plot_bgcolor": "#E5ECF6",
          "polar": {
           "angularaxis": {
            "gridcolor": "white",
            "linecolor": "white",
            "ticks": ""
           },
           "bgcolor": "#E5ECF6",
           "radialaxis": {
            "gridcolor": "white",
            "linecolor": "white",
            "ticks": ""
           }
          },
          "scene": {
           "xaxis": {
            "backgroundcolor": "#E5ECF6",
            "gridcolor": "white",
            "gridwidth": 2,
            "linecolor": "white",
            "showbackground": true,
            "ticks": "",
            "zerolinecolor": "white"
           },
           "yaxis": {
            "backgroundcolor": "#E5ECF6",
            "gridcolor": "white",
            "gridwidth": 2,
            "linecolor": "white",
            "showbackground": true,
            "ticks": "",
            "zerolinecolor": "white"
           },
           "zaxis": {
            "backgroundcolor": "#E5ECF6",
            "gridcolor": "white",
            "gridwidth": 2,
            "linecolor": "white",
            "showbackground": true,
            "ticks": "",
            "zerolinecolor": "white"
           }
          },
          "shapedefaults": {
           "line": {
            "color": "#2a3f5f"
           }
          },
          "ternary": {
           "aaxis": {
            "gridcolor": "white",
            "linecolor": "white",
            "ticks": ""
           },
           "baxis": {
            "gridcolor": "white",
            "linecolor": "white",
            "ticks": ""
           },
           "bgcolor": "#E5ECF6",
           "caxis": {
            "gridcolor": "white",
            "linecolor": "white",
            "ticks": ""
           }
          },
          "title": {
           "x": 0.05
          },
          "xaxis": {
           "automargin": true,
           "gridcolor": "white",
           "linecolor": "white",
           "ticks": "",
           "title": {
            "standoff": 15
           },
           "zerolinecolor": "white",
           "zerolinewidth": 2
          },
          "yaxis": {
           "automargin": true,
           "gridcolor": "white",
           "linecolor": "white",
           "ticks": "",
           "title": {
            "standoff": 15
           },
           "zerolinecolor": "white",
           "zerolinewidth": 2
          }
         }
        }
       }
      },
      "text/html": [
       "<div>                            <div id=\"2aba0977-1b01-454c-8278-dfe5d1db35b8\" class=\"plotly-graph-div\" style=\"height:525px; width:100%;\"></div>            <script type=\"text/javascript\">                require([\"plotly\"], function(Plotly) {                    window.PLOTLYENV=window.PLOTLYENV || {};                                    if (document.getElementById(\"2aba0977-1b01-454c-8278-dfe5d1db35b8\")) {                    Plotly.newPlot(                        \"2aba0977-1b01-454c-8278-dfe5d1db35b8\",                        [{\"lat\":[43.176176,43.176199,43.176199,43.176206,43.176206,43.176229,43.176229,43.176236,43.176236,43.174348,43.174348,43.174379,43.174379,43.174348,43.174348,43.174319,43.174319,43.174287,43.174287,43.176176,43.176176,43.1761618,43.17616,43.176137,43.176137,43.17613,43.17613,43.176137,43.176137,43.17616,43.1761618,43.176176],\"line\":{\"color\":\"grey\",\"width\":4.5},\"lon\":[-77.564358,-77.563633,-77.563633,-77.563332,-77.563332,-77.562557,-77.562557,-77.562315,-77.562315,-77.563328,-77.563328,-77.562298,-77.562298,-77.563328,-77.563328,-77.564366,-77.564366,-77.565426,-77.565426,-77.564358,-77.564358,-77.5647913,-77.564846,-77.565647,-77.565647,-77.565792,-77.565792,-77.565647,-77.565647,-77.564846,-77.5647913,-77.564358],\"marker\":{\"size\":10},\"mode\":\"lines\",\"name\":\"Path\",\"type\":\"scattermapbox\"},{\"lat\":[43.176176],\"lon\":[-77.564358],\"marker\":{\"color\":\"red\",\"size\":12},\"mode\":\"markers\",\"name\":\"Source\",\"type\":\"scattermapbox\"},{\"lat\":[43.176176],\"lon\":[-77.564358],\"marker\":{\"color\":\"green\",\"size\":12},\"mode\":\"markers\",\"name\":\"Destination\",\"type\":\"scattermapbox\"}],                        {\"mapbox\":{\"center\":{\"lat\":43.175601799999995,\"lon\":-77.56412639375},\"style\":\"carto-darkmatter\",\"zoom\":13},\"margin\":{\"b\":0,\"l\":0,\"r\":0,\"t\":0},\"template\":{\"data\":{\"bar\":[{\"error_x\":{\"color\":\"#2a3f5f\"},\"error_y\":{\"color\":\"#2a3f5f\"},\"marker\":{\"line\":{\"color\":\"#E5ECF6\",\"width\":0.5},\"pattern\":{\"fillmode\":\"overlay\",\"size\":10,\"solidity\":0.2}},\"type\":\"bar\"}],\"barpolar\":[{\"marker\":{\"line\":{\"color\":\"#E5ECF6\",\"width\":0.5},\"pattern\":{\"fillmode\":\"overlay\",\"size\":10,\"solidity\":0.2}},\"type\":\"barpolar\"}],\"carpet\":[{\"aaxis\":{\"endlinecolor\":\"#2a3f5f\",\"gridcolor\":\"white\",\"linecolor\":\"white\",\"minorgridcolor\":\"white\",\"startlinecolor\":\"#2a3f5f\"},\"baxis\":{\"endlinecolor\":\"#2a3f5f\",\"gridcolor\":\"white\",\"linecolor\":\"white\",\"minorgridcolor\":\"white\",\"startlinecolor\":\"#2a3f5f\"},\"type\":\"carpet\"}],\"choropleth\":[{\"colorbar\":{\"outlinewidth\":0,\"ticks\":\"\"},\"type\":\"choropleth\"}],\"contour\":[{\"colorbar\":{\"outlinewidth\":0,\"ticks\":\"\"},\"colorscale\":[[0.0,\"#0d0887\"],[0.1111111111111111,\"#46039f\"],[0.2222222222222222,\"#7201a8\"],[0.3333333333333333,\"#9c179e\"],[0.4444444444444444,\"#bd3786\"],[0.5555555555555556,\"#d8576b\"],[0.6666666666666666,\"#ed7953\"],[0.7777777777777778,\"#fb9f3a\"],[0.8888888888888888,\"#fdca26\"],[1.0,\"#f0f921\"]],\"type\":\"contour\"}],\"contourcarpet\":[{\"colorbar\":{\"outlinewidth\":0,\"ticks\":\"\"},\"type\":\"contourcarpet\"}],\"heatmap\":[{\"colorbar\":{\"outlinewidth\":0,\"ticks\":\"\"},\"colorscale\":[[0.0,\"#0d0887\"],[0.1111111111111111,\"#46039f\"],[0.2222222222222222,\"#7201a8\"],[0.3333333333333333,\"#9c179e\"],[0.4444444444444444,\"#bd3786\"],[0.5555555555555556,\"#d8576b\"],[0.6666666666666666,\"#ed7953\"],[0.7777777777777778,\"#fb9f3a\"],[0.8888888888888888,\"#fdca26\"],[1.0,\"#f0f921\"]],\"type\":\"heatmap\"}],\"heatmapgl\":[{\"colorbar\":{\"outlinewidth\":0,\"ticks\":\"\"},\"colorscale\":[[0.0,\"#0d0887\"],[0.1111111111111111,\"#46039f\"],[0.2222222222222222,\"#7201a8\"],[0.3333333333333333,\"#9c179e\"],[0.4444444444444444,\"#bd3786\"],[0.5555555555555556,\"#d8576b\"],[0.6666666666666666,\"#ed7953\"],[0.7777777777777778,\"#fb9f3a\"],[0.8888888888888888,\"#fdca26\"],[1.0,\"#f0f921\"]],\"type\":\"heatmapgl\"}],\"histogram\":[{\"marker\":{\"pattern\":{\"fillmode\":\"overlay\",\"size\":10,\"solidity\":0.2}},\"type\":\"histogram\"}],\"histogram2d\":[{\"colorbar\":{\"outlinewidth\":0,\"ticks\":\"\"},\"colorscale\":[[0.0,\"#0d0887\"],[0.1111111111111111,\"#46039f\"],[0.2222222222222222,\"#7201a8\"],[0.3333333333333333,\"#9c179e\"],[0.4444444444444444,\"#bd3786\"],[0.5555555555555556,\"#d8576b\"],[0.6666666666666666,\"#ed7953\"],[0.7777777777777778,\"#fb9f3a\"],[0.8888888888888888,\"#fdca26\"],[1.0,\"#f0f921\"]],\"type\":\"histogram2d\"}],\"histogram2dcontour\":[{\"colorbar\":{\"outlinewidth\":0,\"ticks\":\"\"},\"colorscale\":[[0.0,\"#0d0887\"],[0.1111111111111111,\"#46039f\"],[0.2222222222222222,\"#7201a8\"],[0.3333333333333333,\"#9c179e\"],[0.4444444444444444,\"#bd3786\"],[0.5555555555555556,\"#d8576b\"],[0.6666666666666666,\"#ed7953\"],[0.7777777777777778,\"#fb9f3a\"],[0.8888888888888888,\"#fdca26\"],[1.0,\"#f0f921\"]],\"type\":\"histogram2dcontour\"}],\"mesh3d\":[{\"colorbar\":{\"outlinewidth\":0,\"ticks\":\"\"},\"type\":\"mesh3d\"}],\"parcoords\":[{\"line\":{\"colorbar\":{\"outlinewidth\":0,\"ticks\":\"\"}},\"type\":\"parcoords\"}],\"pie\":[{\"automargin\":true,\"type\":\"pie\"}],\"scatter\":[{\"marker\":{\"colorbar\":{\"outlinewidth\":0,\"ticks\":\"\"}},\"type\":\"scatter\"}],\"scatter3d\":[{\"line\":{\"colorbar\":{\"outlinewidth\":0,\"ticks\":\"\"}},\"marker\":{\"colorbar\":{\"outlinewidth\":0,\"ticks\":\"\"}},\"type\":\"scatter3d\"}],\"scattercarpet\":[{\"marker\":{\"colorbar\":{\"outlinewidth\":0,\"ticks\":\"\"}},\"type\":\"scattercarpet\"}],\"scattergeo\":[{\"marker\":{\"colorbar\":{\"outlinewidth\":0,\"ticks\":\"\"}},\"type\":\"scattergeo\"}],\"scattergl\":[{\"marker\":{\"colorbar\":{\"outlinewidth\":0,\"ticks\":\"\"}},\"type\":\"scattergl\"}],\"scattermapbox\":[{\"marker\":{\"colorbar\":{\"outlinewidth\":0,\"ticks\":\"\"}},\"type\":\"scattermapbox\"}],\"scatterpolar\":[{\"marker\":{\"colorbar\":{\"outlinewidth\":0,\"ticks\":\"\"}},\"type\":\"scatterpolar\"}],\"scatterpolargl\":[{\"marker\":{\"colorbar\":{\"outlinewidth\":0,\"ticks\":\"\"}},\"type\":\"scatterpolargl\"}],\"scatterternary\":[{\"marker\":{\"colorbar\":{\"outlinewidth\":0,\"ticks\":\"\"}},\"type\":\"scatterternary\"}],\"surface\":[{\"colorbar\":{\"outlinewidth\":0,\"ticks\":\"\"},\"colorscale\":[[0.0,\"#0d0887\"],[0.1111111111111111,\"#46039f\"],[0.2222222222222222,\"#7201a8\"],[0.3333333333333333,\"#9c179e\"],[0.4444444444444444,\"#bd3786\"],[0.5555555555555556,\"#d8576b\"],[0.6666666666666666,\"#ed7953\"],[0.7777777777777778,\"#fb9f3a\"],[0.8888888888888888,\"#fdca26\"],[1.0,\"#f0f921\"]],\"type\":\"surface\"}],\"table\":[{\"cells\":{\"fill\":{\"color\":\"#EBF0F8\"},\"line\":{\"color\":\"white\"}},\"header\":{\"fill\":{\"color\":\"#C8D4E3\"},\"line\":{\"color\":\"white\"}},\"type\":\"table\"}]},\"layout\":{\"annotationdefaults\":{\"arrowcolor\":\"#2a3f5f\",\"arrowhead\":0,\"arrowwidth\":1},\"autotypenumbers\":\"strict\",\"coloraxis\":{\"colorbar\":{\"outlinewidth\":0,\"ticks\":\"\"}},\"colorscale\":{\"diverging\":[[0,\"#8e0152\"],[0.1,\"#c51b7d\"],[0.2,\"#de77ae\"],[0.3,\"#f1b6da\"],[0.4,\"#fde0ef\"],[0.5,\"#f7f7f7\"],[0.6,\"#e6f5d0\"],[0.7,\"#b8e186\"],[0.8,\"#7fbc41\"],[0.9,\"#4d9221\"],[1,\"#276419\"]],\"sequential\":[[0.0,\"#0d0887\"],[0.1111111111111111,\"#46039f\"],[0.2222222222222222,\"#7201a8\"],[0.3333333333333333,\"#9c179e\"],[0.4444444444444444,\"#bd3786\"],[0.5555555555555556,\"#d8576b\"],[0.6666666666666666,\"#ed7953\"],[0.7777777777777778,\"#fb9f3a\"],[0.8888888888888888,\"#fdca26\"],[1.0,\"#f0f921\"]],\"sequentialminus\":[[0.0,\"#0d0887\"],[0.1111111111111111,\"#46039f\"],[0.2222222222222222,\"#7201a8\"],[0.3333333333333333,\"#9c179e\"],[0.4444444444444444,\"#bd3786\"],[0.5555555555555556,\"#d8576b\"],[0.6666666666666666,\"#ed7953\"],[0.7777777777777778,\"#fb9f3a\"],[0.8888888888888888,\"#fdca26\"],[1.0,\"#f0f921\"]]},\"colorway\":[\"#636efa\",\"#EF553B\",\"#00cc96\",\"#ab63fa\",\"#FFA15A\",\"#19d3f3\",\"#FF6692\",\"#B6E880\",\"#FF97FF\",\"#FECB52\"],\"font\":{\"color\":\"#2a3f5f\"},\"geo\":{\"bgcolor\":\"white\",\"lakecolor\":\"white\",\"landcolor\":\"#E5ECF6\",\"showlakes\":true,\"showland\":true,\"subunitcolor\":\"white\"},\"hoverlabel\":{\"align\":\"left\"},\"hovermode\":\"closest\",\"mapbox\":{\"style\":\"light\"},\"paper_bgcolor\":\"white\",\"plot_bgcolor\":\"#E5ECF6\",\"polar\":{\"angularaxis\":{\"gridcolor\":\"white\",\"linecolor\":\"white\",\"ticks\":\"\"},\"bgcolor\":\"#E5ECF6\",\"radialaxis\":{\"gridcolor\":\"white\",\"linecolor\":\"white\",\"ticks\":\"\"}},\"scene\":{\"xaxis\":{\"backgroundcolor\":\"#E5ECF6\",\"gridcolor\":\"white\",\"gridwidth\":2,\"linecolor\":\"white\",\"showbackground\":true,\"ticks\":\"\",\"zerolinecolor\":\"white\"},\"yaxis\":{\"backgroundcolor\":\"#E5ECF6\",\"gridcolor\":\"white\",\"gridwidth\":2,\"linecolor\":\"white\",\"showbackground\":true,\"ticks\":\"\",\"zerolinecolor\":\"white\"},\"zaxis\":{\"backgroundcolor\":\"#E5ECF6\",\"gridcolor\":\"white\",\"gridwidth\":2,\"linecolor\":\"white\",\"showbackground\":true,\"ticks\":\"\",\"zerolinecolor\":\"white\"}},\"shapedefaults\":{\"line\":{\"color\":\"#2a3f5f\"}},\"ternary\":{\"aaxis\":{\"gridcolor\":\"white\",\"linecolor\":\"white\",\"ticks\":\"\"},\"baxis\":{\"gridcolor\":\"white\",\"linecolor\":\"white\",\"ticks\":\"\"},\"bgcolor\":\"#E5ECF6\",\"caxis\":{\"gridcolor\":\"white\",\"linecolor\":\"white\",\"ticks\":\"\"}},\"title\":{\"x\":0.05},\"xaxis\":{\"automargin\":true,\"gridcolor\":\"white\",\"linecolor\":\"white\",\"ticks\":\"\",\"title\":{\"standoff\":15},\"zerolinecolor\":\"white\",\"zerolinewidth\":2},\"yaxis\":{\"automargin\":true,\"gridcolor\":\"white\",\"linecolor\":\"white\",\"ticks\":\"\",\"title\":{\"standoff\":15},\"zerolinecolor\":\"white\",\"zerolinewidth\":2}}}},                        {\"responsive\": true}                    ).then(function(){\n",
       "                            \n",
       "var gd = document.getElementById('2aba0977-1b01-454c-8278-dfe5d1db35b8');\n",
       "var x = new MutationObserver(function (mutations, observer) {{\n",
       "        var display = window.getComputedStyle(gd).display;\n",
       "        if (!display || display === 'none') {{\n",
       "            console.log([gd, 'removed!']);\n",
       "            Plotly.purge(gd);\n",
       "            observer.disconnect();\n",
       "        }}\n",
       "}});\n",
       "\n",
       "// Listen for the removal of the full notebook cells\n",
       "var notebookContainer = gd.closest('#notebook-container');\n",
       "if (notebookContainer) {{\n",
       "    x.observe(notebookContainer, {childList: true});\n",
       "}}\n",
       "\n",
       "// Listen for the clearing of the current output cell\n",
       "var outputEl = gd.closest('.output');\n",
       "if (outputEl) {{\n",
       "    x.observe(outputEl, {childList: true});\n",
       "}}\n",
       "\n",
       "                        })                };                });            </script>        </div>"
      ]
     },
     "metadata": {},
     "output_type": "display_data"
    },
    {
     "name": "stdout",
     "output_type": "stream",
     "text": [
      "tions 17\n",
      "Cbc0038I Pass  68: suminf.    4.18898 (12) obj. 1061.7 iterations 20\n",
      "Cbc0038I Pass  69: suminf.    2.87824 (10) obj. 1061.7 iterations 29\n",
      "Cbc0038I Pass  70: suminf.    1.67118 (10) obj. 1061.7 iterations 38\n",
      "Cbc0038I No solution found this major pass\n",
      "Cbc0038I Before mini branch and bound, 50 integers at bound fixed and 0 continuous\n",
      "Cbc0038I Full problem 112 rows 120 columns, reduced to 112 rows 70 columns\n",
      "Cbc0038I Mini branch and bound did not improve solution (0.51 seconds)\n",
      "Cbc0038I After 0.51 seconds - Feasibility pump exiting with objective of 1188.8 - took 0.39 seconds\n",
      "Cbc0012I Integer solution of 1188.8 found by feasibility pump after 0 iterations and 0 nodes (0.51 seconds)\n",
      "Cbc0038I Full problem 112 rows 120 columns, reduced to 50 rows 13 columns\n",
      "Cbc0031I 12 added rows had average density of 25.5\n",
      "Cbc0013I At root node, 12 cuts changed objective from 634.53818 to 954.6 in 8 passes\n",
      "Cbc0014I Cut generator 0 (Probing) - 38 row cuts average 2.7 elements, 0 column cuts (0 active)  in 0.010 seconds - new frequency is 1\n",
      "Cbc0014I Cut generator 1 (Gomory) - 26 row cuts average 26.7 elements, 0 column cuts (0 active)  in 0.004 seconds - new frequency is 1\n",
      "Cbc0014I Cut generator 2 (Knapsack) - 0 row cuts average 0.0 elements, 0 column cuts (0 active)  in 0.008 seconds - new frequency is -100\n",
      "Cbc0014I Cut generator 3 (Clique) - 0 row cuts average 0.0 elements, 0 column cuts (0 active)  in 0.000 seconds - new frequency is -100\n",
      "Cbc0014I Cut generator 4 (MixedIntegerRounding2) - 2 row cuts average 40.0 elements, 0 column cuts (0 active)  in 0.002 seconds - new frequency is -100\n",
      "Cbc0014I Cut generator 5 (FlowCover) - 0 row cuts average 0.0 elements, 0 column cuts (0 active)  in 0.005 seconds - new frequency is -100\n",
      "Cbc0014I Cut generator 6 (TwoMirCuts) - 170 row cuts average 40.3 elements, 0 column cuts (0 active)  in 0.013 seconds - new frequency is 1\n",
      "Cbc0010I After 0 nodes, 1 on tree, 1188.8 best solution, best possible 954.6 (0.59 seconds)\n",
      "Cbc0001I Search completed - best objective 1188.8, took 680 iterations and 16 nodes (0.75 seconds)\n",
      "Cbc0032I Strong branching done 326 times (2401 iterations), fathomed 4 nodes and fixed 6 variables\n",
      "Cbc0035I Maximum depth 6, 192 variables fixed on reduced cost\n",
      "Cuts at root node changed objective from 634.538 to 954.6\n",
      "Probing was tried 42 times and created 225 cuts of which 0 were active after adding rounds of cuts (0.023 seconds)\n",
      "Gomory was tried 41 times and created 31 cuts of which 0 were active after adding rounds of cuts (0.011 seconds)\n",
      "Knapsack was tried 8 times and created 0 cuts of which 0 were active after adding rounds of cuts (0.008 seconds)\n",
      "Clique was tried 8 times and created 0 cuts of which 0 were active after adding rounds of cuts (0.000 seconds)\n",
      "MixedIntegerRounding2 was tried 8 times and created 2 cuts of which 0 were active after adding rounds of cuts (0.002 seconds)\n",
      "FlowCover was tried 8 times and created 0 cuts of which 0 were active after adding rounds of cuts (0.005 seconds)\n",
      "TwoMirCuts was tried 41 times and created 479 cuts of which 0 were active after adding rounds of cuts (0.036 seconds)\n",
      "ZeroHalf was tried 1 times and created 0 cuts of which 0 were active after adding rounds of cuts (0.001 seconds)\n",
      "ImplicationCuts was tried 33 times and created 3 cuts of which 0 were active after adding rounds of cuts (0.001 seconds)\n",
      "\n",
      "Result - Optimal solution found\n",
      "\n",
      "Objective value:                1188.80000000\n",
      "Enumerated nodes:               16\n",
      "Total iterations:               680\n",
      "Time (CPU seconds):             0.72\n",
      "Time (Wallclock seconds):       0.76\n",
      "\n",
      "Option for printingOptions changed from normal to all\n",
      "Total time (CPU seconds):       0.72   (Wallclock seconds):       0.76\n",
      "\n"
     ]
    }
   ],
   "source": [
    "\n",
    "#Creating a bounding box\n",
    "north, south, east, west = 43.174168,43.176296,-77.566137,-77.561975   \n",
    "G = ox.graph_from_bbox(north, south, east, west, network_type=\"drive_service\")\n",
    "colors = plt.rcParams['axes.prop_cycle'].by_key()['color']\n",
    "ox.plot.plot_graph(G, bgcolor='#FFFFFF', node_color=colors[0], edge_color='lightgray', node_size=5)\n",
    "\n",
    "\n",
    "    #Extracting Node Information from G\n",
    "Nodes = []\n",
    "for i in G.nodes:\n",
    "    Nodes.append(i)\n",
    "\n",
    "data = pd.DataFrame(Nodes)\n",
    "data.rename(columns = {0:'Nodes'}, inplace = True)\n",
    "#G = ox.graph_from_place('Rochester, NY, USA', network_type='drive')\n",
    "\n",
    "lat1 = []\n",
    "long1 = []\n",
    "for i in Nodes:\n",
    "    lat1.append(G.nodes[i].get('y'))\n",
    "    long1.append(G.nodes[i].get('x'))\n",
    "data['Latitude'] = lat1\n",
    "data['Longitude'] = long1\n",
    "df1 = data\n",
    "\n",
    "\n",
    "df1 = df1.drop(['Nodes'],axis=1)\n",
    "df1.rename(columns = {'Latitude':'Left'}, inplace = True)\n",
    "df1.rename(columns = {'Longitude':'Right'}, inplace = True)\n",
    "\n",
    "    #Calculating Distance and the distance matrix for all coordinates in the Bounding Box\n",
    "df3 = pd.DataFrame()\n",
    "for j in df1.index:\n",
    "    list1 = []\n",
    "    for i in df1.index:\n",
    "        r = requests.get(f\"\"\"http://router.project-osrm.org/route/v1/car/{df1.loc[j, \"Right\"]},{df1.loc[j, \"Left\"]};{df1.loc[i, \"Right\"]},{df1.loc[i, \"Left\"]}?overview=false\"\"\")\n",
    "        list1.append(json.loads(r.content)[\"routes\"][0][\"distance\"])\n",
    "    df3[j] = list1\n",
    "df = df1\n",
    "df['coordinate'] = list(zip(df['Right'],df['Left']))\n",
    "df['ID'] = df.index\n",
    "\n",
    "locations = dict( ( ID, (df.loc[ID, 'Right'], df.loc[ID, 'Left']) ) for ID in df.index)\n",
    "distances_df = df3\n",
    "distance = distances_df\n",
    "distances = dict( ((l1,l2), distance.iloc[l1, l2] ) for l1 in locations for l2 in locations if l1!=l2)\n",
    "\n",
    "\n",
    "    ## V: This defines the total number of vehicles that will traverse the path.\n",
    "V = 1\n",
    "    ## prob: This initializes the problem that will run using provided constraints.\n",
    "\n",
    "prob=LpProblem(\"vehicle\", LpMinimize)\n",
    "    ## indicator: This defines the variable dictionary consisting of distances and indicates if location i is connected to location j along route\n",
    "indicator = LpVariable.dicts('indicator',distances, 0,1,LpBinary)\n",
    "    ## eliminator: This defines the variable dictionary consisting of the node ID's and elimiate subtours\n",
    "eliminator = LpVariable.dicts('eliminator', df.ID, 0, len(df.ID)-1, LpInteger)\n",
    "    ## cost: This stores the result of distances calculations.\n",
    "cost = lpSum([indicator[(i,j)]*distances[(i,j)] for (i,j) in distances])\n",
    "prob+=cost\n",
    "\n",
    "start1 = 4\n",
    "for v in df.ID:\n",
    "        ## cap: This considers a particular node at a time. \n",
    "    cap = 1 if v != start1 else V\n",
    "        #inward possible route\n",
    "    prob+= lpSum([ indicator[(i,v)] for i in df.ID if (i,v) in indicator]) ==cap\n",
    "        #outward possible route\n",
    "    prob+=lpSum([ indicator[(v,i)] for i in df.ID if (v,i) in indicator]) ==cap\n",
    "    ## num: This stores the result of the number of nodes and the number of vehicles.    \n",
    "num=len(df.ID)/V\n",
    "for i in df.ID:\n",
    "    for j in df.ID:\n",
    "        if i != j and (i != start1 and j!= start1) and (i,j) in indicator:\n",
    "             prob += eliminator[i] - eliminator[j] <= (num)*(1-indicator[(i,j)]) - 1         \n",
    "prob.solve()\n",
    "    ## feasibleedges: This stores values of edges after the calculations are done.\n",
    "feasible_edges = [ e for e in indicator if value(indicator[e]) != 0 ]\n",
    "    ##@get_next_loc\n",
    "    # This provides with the next coordinates for the next node in the path.\n",
    "def get_next_loc(initial):\n",
    "    edges = [e for e in feasible_edges if e[0]==initial]\n",
    "    for e in edges:\n",
    "        feasible_edges.remove(e)\n",
    "    return edges\n",
    "    ## routes: This stores information regarding paths.    \n",
    "routes = get_next_loc(start1)\n",
    "routes = [ [e] for e in routes ]\n",
    "\n",
    "for r in routes:\n",
    "    while r[-1][1] !=start1:\n",
    "        r.append(get_next_loc(r[-1][1])[-1])\n",
    "\n",
    "\n",
    "\n",
    "\n",
    "df2 = df[['Left', 'Right', 'ID']].copy()\n",
    "df2.rename(columns = {'Left':'Latitude'}, inplace = True)\n",
    "df2.rename(columns = {'Right':'Longitude'}, inplace = True)\n",
    "a=[]\n",
    "for i in range(data.index.stop):\n",
    "    #print(routes[0][i][0])\n",
    "    a.append(routes[0][i][0]) \n",
    "\n",
    "df3 = pd.DataFrame()\n",
    "for i in a:\n",
    "    df3 = df3.append(df2.loc[i])\n",
    "\n",
    "df3.reset_index(inplace = True)\n",
    "\n",
    "df3 = df3.append(df3.loc[0])\n",
    "df3.reset_index(inplace = True)\n",
    "df4 = df3\n",
    "dfnodes = pd.DataFrame(Nodes)\n",
    "dfnodes.rename(columns = {0:'Nodes'}, inplace = True)\n",
    "dfnodes = dfnodes.reindex(a)\n",
    "dfnodes = dfnodes.append({\"Nodes\":Nodes[a[0]]},ignore_index=True)\n",
    "df4 = pd.concat([df4,dfnodes],axis=1)\n",
    "    \n",
    "    \n",
    "def node_list_to_path2(G, node_list):\n",
    "   \n",
    "    edge_nodes = list(zip(node_list[:-1], node_list[1:]))\n",
    "    lines = []\n",
    "    newlist=[]\n",
    "    \n",
    "    \n",
    "    \n",
    "    \n",
    "    #for u, v in edge_nodes:\n",
    "    #    if(G.get_edge_data(u, v)):\n",
    "    #        newlist.append((u,v))\n",
    "            \n",
    "            \n",
    "            \n",
    "    for u, v in edge_nodes:\n",
    "        if(G.get_edge_data(u, v)):\n",
    "            newlist.append((u,v))\n",
    "        else:    \n",
    "            path1 = nx.shortest_path(G,u, v, weight='travel_time')\n",
    "            path2 = list(zip(path1[:-1], path1[1:]))\n",
    "            newlist = newlist+path2        \n",
    "    #print(newlist)\n",
    "    #print(len(newlist))\n",
    "    \n",
    "    for u, v in newlist:\n",
    "        # if there are parallel edges, select the shortest in length\n",
    "        \n",
    "        data = min(G.get_edge_data(u, v).values(), \n",
    "                key=lambda x: x['length'])\n",
    "            # if it has a geometry attribute\n",
    "        if 'geometry' in data:\n",
    "            # add them to the list of lines to plot\n",
    "            xs, ys = data['geometry'].xy\n",
    "            lines.append(list(zip(xs, ys)))\n",
    "        else:\n",
    "            # if it doesn't have a geometry attribute,\n",
    "            # then the edge is a straight line from node to node\n",
    "            x1 = G.nodes[u]['x']\n",
    "            y1 = G.nodes[u]['y']\n",
    "            x2 = G.nodes[v]['x']\n",
    "            y2 = G.nodes[v]['y']\n",
    "            line = [(x1, y1), (x2, y2)]\n",
    "            lines.append(line)\n",
    "            \n",
    "    return lines       \n",
    "    \n",
    "    \n",
    "    \n",
    "def plot_path(lat, long, origin_point, destination_point):\n",
    "    fig = go.Figure(go.Scattermapbox(\n",
    "        name = \"Path\",\n",
    "        mode = \"lines\",\n",
    "        lon = long,\n",
    "        lat = lat,\n",
    "        marker = {'size': 10},\n",
    "        line = dict(width = 4.5, color = 'grey')))\n",
    "    fig.add_trace(go.Scattermapbox(\n",
    "        name = \"Source\",\n",
    "        mode = \"markers\",\n",
    "        lon = [origin_point[1]],\n",
    "        lat = [origin_point[0]],\n",
    "        marker = {'size': 12, 'color':\"red\"}))\n",
    "    fig.add_trace(go.Scattermapbox(\n",
    "        name = \"Destination\",\n",
    "        mode = \"markers\",\n",
    "        lon = [destination_point[1]],\n",
    "        lat = [destination_point[0]],\n",
    "        marker = {'size': 12, 'color':'green'}))\n",
    "    lat_center = np.mean(lat)\n",
    "    long_center = np.mean(long)\n",
    "    fig.update_layout(mapbox_style=\"carto-darkmatter\",\n",
    "        mapbox_center_lat = 30, mapbox_center_lon=-80)\n",
    "    fig.update_layout(margin={\"r\":0,\"t\":0,\"l\":0,\"b\":0},\n",
    "                        mapbox = {\n",
    "                            'center': {'lat': lat_center, \n",
    "                            'lon': long_center},\n",
    "                            'zoom': 13})\n",
    "    fig.show()\n",
    "\n",
    "\n",
    "pathlist = []\n",
    "for i in range(df4['Nodes'].count()-1):\n",
    "    path1 = nx.shortest_path(G, df4.iloc[i]['Nodes'],df4.iloc[i+1]['Nodes'], weight='travel_time')\n",
    "    pathlist = pathlist+path1\n",
    "#pathlist1 = list(dict.fromkeys(pathlist))\n",
    "#pathlist1.append(pathlist1[0])\n",
    "data4 = pd.DataFrame(pathlist)\n",
    "data4.rename(columns = {0:'Nodes'}, inplace = True)\n",
    "lat1 = []\n",
    "long1 = []\n",
    "lines = node_list_to_path2(G, pathlist)\n",
    "long2 = []\n",
    "lat2 = []\n",
    "for i in range(len(lines)):\n",
    "    z = list(lines[i])\n",
    "    l1 = list(list(zip(*z))[0])\n",
    "    l2 = list(list(zip(*z))[1])\n",
    "    for j in range(len(l1)):\n",
    "        long2.append(l1[j])\n",
    "        lat2.append(l2[j])\n",
    "for i in pathlist:\n",
    "    lat1.append(G.nodes[i].get('y'))\n",
    "    long1.append(G.nodes[i].get('x'))\n",
    "data4['Latitude'] = lat1\n",
    "data4['Longitude'] = long1\n",
    "origin_point = (data4.loc[0][\"Latitude\"], data4.loc[0][\"Longitude\"]) \n",
    "destination_point = (data4.iloc[-1][\"Latitude\"], data4.iloc[-1][\"Longitude\"])\n",
    "#plot_path(lat1, long1, origin_point, destination_point)\n",
    "\n",
    "\n",
    "plot_path(lat2, long2, origin_point, destination_point)\n",
    "\n"
   ]
  },
  {
   "cell_type": "code",
   "execution_count": 15,
   "id": "5c37061d",
   "metadata": {},
   "outputs": [],
   "source": [
    "path2=pathlist"
   ]
  },
  {
   "cell_type": "code",
   "execution_count": 16,
   "id": "663edd90",
   "metadata": {},
   "outputs": [
    {
     "name": "stderr",
     "output_type": "stream",
     "text": [
      "/Users/rochelleallan/anaconda3/envs/ox/lib/python3.9/site-packages/osmnx/utils_geo.py:335: ShapelyDeprecationWarning:\n",
      "\n",
      "Iteration over multi-part geometries is deprecated and will be removed in Shapely 2.0. Use the `geoms` property to access the constituent parts of a multi-part geometry.\n",
      "\n",
      "/Users/rochelleallan/anaconda3/envs/ox/lib/python3.9/site-packages/osmnx/utils_geo.py:426: ShapelyDeprecationWarning:\n",
      "\n",
      "Iteration over multi-part geometries is deprecated and will be removed in Shapely 2.0. Use the `geoms` property to access the constituent parts of a multi-part geometry.\n",
      "\n",
      "/Users/rochelleallan/anaconda3/envs/ox/lib/python3.9/site-packages/osmnx/utils_geo.py:426: ShapelyDeprecationWarning:\n",
      "\n",
      "Iteration over multi-part geometries is deprecated and will be removed in Shapely 2.0. Use the `geoms` property to access the constituent parts of a multi-part geometry.\n",
      "\n"
     ]
    },
    {
     "data": {
      "image/png": "[encoded data removed]",
      "text/plain": [
       "<Figure size 576x576 with 1 Axes>"
      ]
     },
     "metadata": {},
     "output_type": "display_data"
    },
    {
     "name": "stdout",
     "output_type": "stream",
     "text": [
      "Welcome to the CBC MILP Solver \n",
      "Version: 2.10.3 \n",
      "Build Date: Dec 15 2019 \n",
      "\n",
      "command line - /Users/rochelleallan/anaconda3/envs/ox/lib/python3.9/site-packages/pulp/apis/../solverdir/cbc/osx/64/cbc /var/folders/0f/0wx77bhd2sl15rhs858yxhtc0000gn/T/b46b2fc14ff7438693cdb159cafd6b32-pulp.mps timeMode elapsed branch printingOptions all solution /var/folders/0f/0wx77bhd2sl15rhs858yxhtc0000gn/T/b46b2fc14ff7438693cdb159cafd6b32-pulp.sol (default strategy 1)\n",
      "At line 2 NAME          MODEL\n",
      "At line 3 ROWS\n",
      "At line 313 COLUMNS\n",
      "At line 2694 RHS\n",
      "At line 3003 BOUNDS\n",
      "At line 3327 ENDATA\n",
      "Problem MODEL has 308 rows, 323 columns and 1428 elements\n",
      "Coin0008I MODEL read with 0 errors\n",
      "Option for timeMode changed from cpu to elapsed\n",
      "Continuous objective value is 1050.59 - 0.00 seconds\n",
      "Cgl0003I 0 fixed, 0 tightened bounds, 272 strengthened rows, 0 substitutions\n",
      "Cgl0003I 0 fixed, 0 tightened bounds, 272 strengthened rows, 0 substitutions\n",
      "Cgl0003I 0 fixed, 0 tightened bounds, 272 strengthened rows, 0 substitutions\n",
      "Cgl0003I 0 fixed, 0 tightened bounds, 272 strengthened rows, 0 substitutions\n",
      "Cgl0003I 0 fixed, 0 tightened bounds, 272 strengthened rows, 0 substitutions\n",
      "Cgl0003I 0 fixed, 0 tightened bounds, 272 strengthened rows, 0 substitutions\n",
      "Cgl0003I 0 fixed, 0 tightened bounds, 272 strengthened rows, 0 substitutions\n",
      "Cgl0003I 0 fixed, 0 tightened bounds, 272 strengthened rows, 0 substitutions\n",
      "Cgl0003I 0 fixed, 0 tightened bounds, 272 strengthened rows, 0 substitutions\n",
      "Cgl0004I processed model has 308 rows, 323 columns (323 integer (306 of which binary)) and 3876 elements\n",
      "Cutoff increment increased from 1e-05 to 0.0999\n",
      "Cbc0038I Initial state - 29 integers unsatisfied sum - 2.67647\n",
      "Cbc0038I Pass   1: suminf.    2.01961 (27) obj. 1236.13 iterations 44\n",
      "Cbc0038I Pass   2: suminf.    1.79085 (7) obj. 2464.01 iterations 50\n",
      "Cbc0038I Pass   3: suminf.    4.94444 (22) obj. 2514.94 iterations 29\n",
      "Cbc0038I Pass   4: suminf.    5.76923 (16) obj. 3300.55 iterations 56\n",
      "Cbc0038I Pass   5: suminf.    2.44444 (8) obj. 3341.66 iterations 27\n",
      "Cbc0038I Pass   6: suminf.    2.44444 (8) obj. 3316.44 iterations 35\n",
      "Cbc0038I Pass   7: suminf.    4.44444 (12) obj. 4707.29 iterations 116\n",
      "Cbc0038I Pass   8: suminf.    3.94444 (11) obj. 4930.13 iterations 54\n",
      "Cbc0038I Pass   9: suminf.    1.22222 (7) obj. 5019.91 iterations 62\n",
      "Cbc0038I Pass  10: suminf.    3.09841 (16) obj. 5202.65 iterations 55\n",
      "Cbc0038I Pass  11: suminf.    3.16138 (24) obj. 5271.06 iterations 7\n",
      "Cbc0038I Pass  12: suminf.    2.29412 (6) obj. 5597.6 iterations 89\n",
      "Cbc0038I Pass  13: suminf.    4.35185 (17) obj. 5668.35 iterations 29\n",
      "Cbc0038I Pass  14: suminf.    4.29380 (21) obj. 5607.25 iterations 40\n",
      "Cbc0038I Pass  15: suminf.    2.65183 (15) obj. 5627.96 iterations 78\n",
      "Cbc0038I Pass  16: suminf.    3.05556 (21) obj. 5655.47 iterations 34\n",
      "Cbc0038I Pass  17: suminf.    2.22222 (6) obj. 5499.3 iterations 83\n",
      "Cbc0038I Pass  18: suminf.    3.22222 (11) obj. 5499.3 iterations 49\n",
      "Cbc0038I Pass  19: suminf.    2.33333 (6) obj. 5499.3 iterations 70\n",
      "Cbc0038I Pass  20: suminf.    2.72222 (15) obj. 5514.92 iterations 64\n",
      "Cbc0038I Pass  21: suminf.    3.80556 (20) obj. 5669.18 iterations 67\n",
      "Cbc0038I Pass  22: suminf.    3.07084 (21) obj. 5599.66 iterations 67\n",
      "Cbc0038I Pass  23: suminf.    3.37286 (21) obj. 5607.25 iterations 25\n",
      "Cbc0038I Pass  24: suminf.    3.60572 (20) obj. 5627.96 iterations 95\n",
      "Cbc0038I Pass  25: suminf.    3.05556 (21) obj. 5655.47 iterations 43\n",
      "Cbc0038I Pass  26: suminf.    2.22222 (6) obj. 5499.3 iterations 57\n",
      "Cbc0038I Pass  27: suminf.    2.61111 (11) obj. 5499.3 iterations 54\n",
      "Cbc0038I Pass  28: suminf.    3.11111 (8) obj. 5499.3 iterations 42\n",
      "Cbc0038I Pass  29: suminf.    3.80556 (20) obj. 5514.92 iterations 57\n",
      "Cbc0038I Pass  30: suminf.    3.22222 (13) obj. 5669.18 iterations 95\n",
      "Cbc0038I No solution found this major pass\n",
      "Cbc0038I Before mini branch and bound, 216 integers at bound fixed and 0 continuous\n",
      "Cbc0038I Full problem 308 rows 323 columns, reduced to 300 rows 101 columns - too large\n",
      "Cbc0038I Mini branch and bound did not improve solution (0.72 seconds)\n",
      "Cbc0038I After 0.72 seconds - Feasibility pump exiting - took 0.13 seconds\n",
      "Cbc0031I 18 added rows had average density of 95.388889\n",
      "Cbc0013I At root node, 18 cuts changed objective from 1051.1765 to 1254.0997 in 100 passes\n",
      "Cbc0014I Cut generator 0 (Probing) - 535 row cuts average 6.0 elements, 0 column cuts (3 active)  in 0.605 seconds - new frequency is 1\n",
      "Cbc0014I Cut generator 1 (Gomory) - 1859 row cuts average 275.3 elements, 0 column cuts (0 active)  in 0.276 seconds - new frequency is 1\n",
      "Cbc0014I Cut generator 2 (Knapsack) - 0 row cuts average 0.0 elements, 0 column cuts (0 active)  in 0.193 seconds - new frequency is -100\n",
      "Cbc0014I Cut generator 3 (Clique) - 0 row cuts average 0.0 elements, 0 column cuts (0 active)  in 0.012 seconds - new frequency is -100\n",
      "Cbc0014I Cut generator 4 (MixedIntegerRounding2) - 4 row cuts average 128.5 elements, 0 column cuts (0 active)  in 0.145 seconds - new frequency is -100\n",
      "Cbc0014I Cut generator 5 (FlowCover) - 25 row cuts average 2.0 elements, 0 column cuts (0 active)  in 0.230 seconds - new frequency is -100\n",
      "Cbc0014I Cut generator 6 (TwoMirCuts) - 243 row cuts average 145.3 elements, 0 column cuts (0 active)  in 0.148 seconds - new frequency is 1\n",
      "Cbc0014I Cut generator 7 (ZeroHalf) - 42 row cuts average 29.6 elements, 0 column cuts (0 active)  in 0.743 seconds - new frequency is -100\n",
      "Cbc0010I After 0 nodes, 1 on tree, 1e+50 best solution, best possible 1254.0997 (5.58 seconds)\n",
      "Cbc0016I Integer solution of 2050.6 found by strong branching after 5255 iterations and 38 nodes (6.77 seconds)\n",
      "Cbc0038I Full problem 308 rows 323 columns, reduced to 118 rows 28 columns\n",
      "Cbc0038I Full problem 308 rows 323 columns, reduced to 97 rows 23 columns\n",
      "Cbc0004I Integer solution of 1756.7 found after 7526 iterations and 145 nodes (7.77 seconds)\n",
      "Cbc0038I Full problem 308 rows 323 columns, reduced to 101 rows 19 columns\n",
      "Cbc0038I Full problem 308 rows 323 columns, reduced to 100 rows 25 columns\n",
      "Cbc0038I Full problem 308 rows 323 columns, reduced to 259 rows 21 columns - 4 fixed gives 252, 18 - still too large\n",
      "Cbc0038I Full problem 308 rows 323 columns, reduced to 27 rows 18 columns\n",
      "Cbc0038I Full problem 308 rows 323 columns, reduced to 37 rows 17 columns\n",
      "Cbc0038I Full problem 308 rows 323 columns, reduced to 47 rows 17 columns\n",
      "Cbc0038I Full problem 308 rows 323 columns, reduced to 261 rows 23 columns - 4 fixed gives 242, 18 - still too large\n",
      "Cbc0004I Integer solution of 1580.6 found after 29429 iterations and 709 nodes (12.74 seconds)\n",
      "Cbc0004I Integer solution of 1464.3 found after 33489 iterations and 795 nodes (13.76 seconds)\n",
      "Cbc0016I Integer solution of 1464.2 found by strong branching after 36357 iterations and 832 nodes (14.18 seconds)\n",
      "Cbc0038I Full problem 308 rows 323 columns, reduced to 174 rows 33 columns\n",
      "Cbc0010I After 1000 nodes, 196 on tree, 1464.2 best solution, best possible 1254.0997 (16.50 seconds)\n",
      "Cbc0038I Full problem 308 rows 323 columns, reduced to 152 rows 26 column"
     ]
    },
    {
     "data": {
      "application/vnd.plotly.v1+json": {
       "config": {
        "plotlyServerURL": "https://plot.ly"
       },
       "data": [
        {
         "lat": [
          43.171396,
          43.171399,
          43.171399,
          43.169874,
          43.169874,
          43.169916,
          43.169916,
          43.169967,
          43.169967,
          43.169995,
          43.169995,
          43.1705539,
          43.1705539,
          43.1705312,
          43.1705304,
          43.1705304,
          43.1705269,
          43.1705281,
          43.1705281,
          43.1705269,
          43.1705304,
          43.1705304,
          43.1705312,
          43.1705539,
          43.1705539,
          43.170772,
          43.170772,
          43.171305,
          43.171305,
          43.171528,
          43.171528,
          43.1715159,
          43.1715159,
          43.171479,
          43.171479,
          43.170727,
          43.170727,
          43.170667,
          43.170667,
          43.171426,
          43.171426,
          43.171419,
          43.171419,
          43.171399,
          43.171399,
          43.171396
         ],
         "line": {
          "color": "grey",
          "width": 4.5
         },
         "lon": [
          -77.565365,
          -77.565098,
          -77.565098,
          -77.565006,
          -77.565006,
          -77.56387,
          -77.56387,
          -77.561869,
          -77.561869,
          -77.560715,
          -77.560715,
          -77.5604122,
          -77.5604122,
          -77.5602759,
          -77.5602238,
          -77.5602238,
          -77.5599932,
          -77.5599531,
          -77.5599531,
          -77.5599932,
          -77.5602238,
          -77.5602238,
          -77.5602759,
          -77.5604122,
          -77.5604122,
          -77.560294,
          -77.560294,
          -77.560003,
          -77.560003,
          -77.559884,
          -77.559884,
          -77.5604008,
          -77.5604008,
          -77.561944,
          -77.561944,
          -77.561906,
          -77.561906,
          -77.563915,
          -77.563915,
          -77.563953,
          -77.563953,
          -77.564305,
          -77.564305,
          -77.565098,
          -77.565098,
          -77.565365
         ],
         "marker": {
          "size": 10
         },
         "mode": "lines",
         "name": "Path",
         "type": "scattermapbox"
        },
        {
         "lat": [
          43.171396
         ],
         "lon": [
          -77.565365
         ],
         "marker": {
          "color": "red",
          "size": 12
         },
         "mode": "markers",
         "name": "Source",
         "type": "scattermapbox"
        },
        {
         "lat": [
          43.171396
         ],
         "lon": [
          -77.565365
         ],
         "marker": {
          "color": "green",
          "size": 12
         },
         "mode": "markers",
         "name": "Destination",
         "type": "scattermapbox"
        }
       ],
       "layout": {
        "mapbox": {
         "center": {
          "lat": 43.17080607391304,
          "lon": -77.56196173913042
         },
         "style": "carto-darkmatter",
         "zoom": 13
        },
        "margin": {
         "b": 0,
         "l": 0,
         "r": 0,
         "t": 0
        },
        "template": {
         "data": {
          "bar": [
           {
            "error_x": {
             "color": "#2a3f5f"
            },
            "error_y": {
             "color": "#2a3f5f"
            },
            "marker": {
             "line": {
              "color": "#E5ECF6",
              "width": 0.5
             },
             "pattern": {
              "fillmode": "overlay",
              "size": 10,
              "solidity": 0.2
             }
            },
            "type": "bar"
           }
          ],
          "barpolar": [
           {
            "marker": {
             "line": {
              "color": "#E5ECF6",
              "width": 0.5
             },
             "pattern": {
              "fillmode": "overlay",
              "size": 10,
              "solidity": 0.2
             }
            },
            "type": "barpolar"
           }
          ],
          "carpet": [
           {
            "aaxis": {
             "endlinecolor": "#2a3f5f",
             "gridcolor": "white",
             "linecolor": "white",
             "minorgridcolor": "white",
             "startlinecolor": "#2a3f5f"
            },
            "baxis": {
             "endlinecolor": "#2a3f5f",
             "gridcolor": "white",
             "linecolor": "white",
             "minorgridcolor": "white",
             "startlinecolor": "#2a3f5f"
            },
            "type": "carpet"
           }
          ],
          "choropleth": [
           {
            "colorbar": {
             "outlinewidth": 0,
             "ticks": ""
            },
            "type": "choropleth"
           }
          ],
          "contour": [
           {
            "colorbar": {
             "outlinewidth": 0,
             "ticks": ""
            },
            "colorscale": [
             [
              0,
              "#0d0887"
             ],
             [
              0.1111111111111111,
              "#46039f"
             ],
             [
              0.2222222222222222,
              "#7201a8"
             ],
             [
              0.3333333333333333,
              "#9c179e"
             ],
             [
              0.4444444444444444,
              "#bd3786"
             ],
             [
              0.5555555555555556,
              "#d8576b"
             ],
             [
              0.6666666666666666,
              "#ed7953"
             ],
             [
              0.7777777777777778,
              "#fb9f3a"
             ],
             [
              0.8888888888888888,
              "#fdca26"
             ],
             [
              1,
              "#f0f921"
             ]
            ],
            "type": "contour"
           }
          ],
          "contourcarpet": [
           {
            "colorbar": {
             "outlinewidth": 0,
             "ticks": ""
            },
            "type": "contourcarpet"
           }
          ],
          "heatmap": [
           {
            "colorbar": {
             "outlinewidth": 0,
             "ticks": ""
            },
            "colorscale": [
             [
              0,
              "#0d0887"
             ],
             [
              0.1111111111111111,
              "#46039f"
             ],
             [
              0.2222222222222222,
              "#7201a8"
             ],
             [
              0.3333333333333333,
              "#9c179e"
             ],
             [
              0.4444444444444444,
              "#bd3786"
             ],
             [
              0.5555555555555556,
              "#d8576b"
             ],
             [
              0.6666666666666666,
              "#ed7953"
             ],
             [
              0.7777777777777778,
              "#fb9f3a"
             ],
             [
              0.8888888888888888,
              "#fdca26"
             ],
             [
              1,
              "#f0f921"
             ]
            ],
            "type": "heatmap"
           }
          ],
          "heatmapgl": [
           {
            "colorbar": {
             "outlinewidth": 0,
             "ticks": ""
            },
            "colorscale": [
             [
              0,
              "#0d0887"
             ],
             [
              0.1111111111111111,
              "#46039f"
             ],
             [
              0.2222222222222222,
              "#7201a8"
             ],
             [
              0.3333333333333333,
              "#9c179e"
             ],
             [
              0.4444444444444444,
              "#bd3786"
             ],
             [
              0.5555555555555556,
              "#d8576b"
             ],
             [
              0.6666666666666666,
              "#ed7953"
             ],
             [
              0.7777777777777778,
              "#fb9f3a"
             ],
             [
              0.8888888888888888,
              "#fdca26"
             ],
             [
              1,
              "#f0f921"
             ]
            ],
            "type": "heatmapgl"
           }
          ],
          "histogram": [
           {
            "marker": {
             "pattern": {
              "fillmode": "overlay",
              "size": 10,
              "solidity": 0.2
             }
            },
            "type": "histogram"
           }
          ],
          "histogram2d": [
           {
            "colorbar": {
             "outlinewidth": 0,
             "ticks": ""
            },
            "colorscale": [
             [
              0,
              "#0d0887"
             ],
             [
              0.1111111111111111,
              "#46039f"
             ],
             [
              0.2222222222222222,
              "#7201a8"
             ],
             [
              0.3333333333333333,
              "#9c179e"
             ],
             [
              0.4444444444444444,
              "#bd3786"
             ],
             [
              0.5555555555555556,
              "#d8576b"
             ],
             [
              0.6666666666666666,
              "#ed7953"
             ],
             [
              0.7777777777777778,
              "#fb9f3a"
             ],
             [
              0.8888888888888888,
              "#fdca26"
             ],
             [
              1,
              "#f0f921"
             ]
            ],
            "type": "histogram2d"
           }
          ],
          "histogram2dcontour": [
           {
            "colorbar": {
             "outlinewidth": 0,
             "ticks": ""
            },
            "colorscale": [
             [
              0,
              "#0d0887"
             ],
             [
              0.1111111111111111,
              "#46039f"
             ],
             [
              0.2222222222222222,
              "#7201a8"
             ],
             [
              0.3333333333333333,
              "#9c179e"
             ],
             [
              0.4444444444444444,
              "#bd3786"
             ],
             [
              0.5555555555555556,
              "#d8576b"
             ],
             [
              0.6666666666666666,
              "#ed7953"
             ],
             [
              0.7777777777777778,
              "#fb9f3a"
             ],
             [
              0.8888888888888888,
              "#fdca26"
             ],
             [
              1,
              "#f0f921"
             ]
            ],
            "type": "histogram2dcontour"
           }
          ],
          "mesh3d": [
           {
            "colorbar": {
             "outlinewidth": 0,
             "ticks": ""
            },
            "type": "mesh3d"
           }
          ],
          "parcoords": [
           {
            "line": {
             "colorbar": {
              "outlinewidth": 0,
              "ticks": ""
             }
            },
            "type": "parcoords"
           }
          ],
          "pie": [
           {
            "automargin": true,
            "type": "pie"
           }
          ],
          "scatter": [
           {
            "marker": {
             "colorbar": {
              "outlinewidth": 0,
              "ticks": ""
             }
            },
            "type": "scatter"
           }
          ],
          "scatter3d": [
           {
            "line": {
             "colorbar": {
              "outlinewidth": 0,
              "ticks": ""
             }
            },
            "marker": {
             "colorbar": {
              "outlinewidth": 0,
              "ticks": ""
             }
            },
            "type": "scatter3d"
           }
          ],
          "scattercarpet": [
           {
            "marker": {
             "colorbar": {
              "outlinewidth": 0,
              "ticks": ""
             }
            },
            "type": "scattercarpet"
           }
          ],
          "scattergeo": [
           {
            "marker": {
             "colorbar": {
              "outlinewidth": 0,
              "ticks": ""
             }
            },
            "type": "scattergeo"
           }
          ],
          "scattergl": [
           {
            "marker": {
             "colorbar": {
              "outlinewidth": 0,
              "ticks": ""
             }
            },
            "type": "scattergl"
           }
          ],
          "scattermapbox": [
           {
            "marker": {
             "colorbar": {
              "outlinewidth": 0,
              "ticks": ""
             }
            },
            "type": "scattermapbox"
           }
          ],
          "scatterpolar": [
           {
            "marker": {
             "colorbar": {
              "outlinewidth": 0,
              "ticks": ""
             }
            },
            "type": "scatterpolar"
           }
          ],
          "scatterpolargl": [
           {
            "marker": {
             "colorbar": {
              "outlinewidth": 0,
              "ticks": ""
             }
            },
            "type": "scatterpolargl"
           }
          ],
          "scatterternary": [
           {
            "marker": {
             "colorbar": {
              "outlinewidth": 0,
              "ticks": ""
             }
            },
            "type": "scatterternary"
           }
          ],
          "surface": [
           {
            "colorbar": {
             "outlinewidth": 0,
             "ticks": ""
            },
            "colorscale": [
             [
              0,
              "#0d0887"
             ],
             [
              0.1111111111111111,
              "#46039f"
             ],
             [
              0.2222222222222222,
              "#7201a8"
             ],
             [
              0.3333333333333333,
              "#9c179e"
             ],
             [
              0.4444444444444444,
              "#bd3786"
             ],
             [
              0.5555555555555556,
              "#d8576b"
             ],
             [
              0.6666666666666666,
              "#ed7953"
             ],
             [
              0.7777777777777778,
              "#fb9f3a"
             ],
             [
              0.8888888888888888,
              "#fdca26"
             ],
             [
              1,
              "#f0f921"
             ]
            ],
            "type": "surface"
           }
          ],
          "table": [
           {
            "cells": {
             "fill": {
              "color": "#EBF0F8"
             },
             "line": {
              "color": "white"
             }
            },
            "header": {
             "fill": {
              "color": "#C8D4E3"
             },
             "line": {
              "color": "white"
             }
            },
            "type": "table"
           }
          ]
         },
         "layout": {
          "annotationdefaults": {
           "arrowcolor": "#2a3f5f",
           "arrowhead": 0,
           "arrowwidth": 1
          },
          "autotypenumbers": "strict",
          "coloraxis": {
           "colorbar": {
            "outlinewidth": 0,
            "ticks": ""
           }
          },
          "colorscale": {
           "diverging": [
            [
             0,
             "#8e0152"
            ],
            [
             0.1,
             "#c51b7d"
            ],
            [
             0.2,
             "#de77ae"
            ],
            [
             0.3,
             "#f1b6da"
            ],
            [
             0.4,
             "#fde0ef"
            ],
            [
             0.5,
             "#f7f7f7"
            ],
            [
             0.6,
             "#e6f5d0"
            ],
            [
             0.7,
             "#b8e186"
            ],
            [
             0.8,
             "#7fbc41"
            ],
            [
             0.9,
             "#4d9221"
            ],
            [
             1,
             "#276419"
            ]
           ],
           "sequential": [
            [
             0,
             "#0d0887"
            ],
            [
             0.1111111111111111,
             "#46039f"
            ],
            [
             0.2222222222222222,
             "#7201a8"
            ],
            [
             0.3333333333333333,
             "#9c179e"
            ],
            [
             0.4444444444444444,
             "#bd3786"
            ],
            [
             0.5555555555555556,
             "#d8576b"
            ],
            [
             0.6666666666666666,
             "#ed7953"
            ],
            [
             0.7777777777777778,
             "#fb9f3a"
            ],
            [
             0.8888888888888888,
             "#fdca26"
            ],
            [
             1,
             "#f0f921"
            ]
           ],
           "sequentialminus": [
            [
             0,
             "#0d0887"
            ],
            [
             0.1111111111111111,
             "#46039f"
            ],
            [
             0.2222222222222222,
             "#7201a8"
            ],
            [
             0.3333333333333333,
             "#9c179e"
            ],
            [
             0.4444444444444444,
             "#bd3786"
            ],
            [
             0.5555555555555556,
             "#d8576b"
            ],
            [
             0.6666666666666666,
             "#ed7953"
            ],
            [
             0.7777777777777778,
             "#fb9f3a"
            ],
            [
             0.8888888888888888,
             "#fdca26"
            ],
            [
             1,
             "#f0f921"
            ]
           ]
          },
          "colorway": [
           "#636efa",
           "#EF553B",
           "#00cc96",
           "#ab63fa",
           "#FFA15A",
           "#19d3f3",
           "#FF6692",
           "#B6E880",
           "#FF97FF",
           "#FECB52"
          ],
          "font": {
           "color": "#2a3f5f"
          },
          "geo": {
           "bgcolor": "white",
           "lakecolor": "white",
           "landcolor": "#E5ECF6",
           "showlakes": true,
           "showland": true,
           "subunitcolor": "white"
          },
          "hoverlabel": {
           "align": "left"
          },
          "hovermode": "closest",
          "mapbox": {
           "style": "light"
          },
          "paper_bgcolor": "white",
          "plot_bgcolor": "#E5ECF6",
          "polar": {
           "angularaxis": {
            "gridcolor": "white",
            "linecolor": "white",
            "ticks": ""
           },
           "bgcolor": "#E5ECF6",
           "radialaxis": {
            "gridcolor": "white",
            "linecolor": "white",
            "ticks": ""
           }
          },
          "scene": {
           "xaxis": {
            "backgroundcolor": "#E5ECF6",
            "gridcolor": "white",
            "gridwidth": 2,
            "linecolor": "white",
            "showbackground": true,
            "ticks": "",
            "zerolinecolor": "white"
           },
           "yaxis": {
            "backgroundcolor": "#E5ECF6",
            "gridcolor": "white",
            "gridwidth": 2,
            "linecolor": "white",
            "showbackground": true,
            "ticks": "",
            "zerolinecolor": "white"
           },
           "zaxis": {
            "backgroundcolor": "#E5ECF6",
            "gridcolor": "white",
            "gridwidth": 2,
            "linecolor": "white",
            "showbackground": true,
            "ticks": "",
            "zerolinecolor": "white"
           }
          },
          "shapedefaults": {
           "line": {
            "color": "#2a3f5f"
           }
          },
          "ternary": {
           "aaxis": {
            "gridcolor": "white",
            "linecolor": "white",
            "ticks": ""
           },
           "baxis": {
            "gridcolor": "white",
            "linecolor": "white",
            "ticks": ""
           },
           "bgcolor": "#E5ECF6",
           "caxis": {
            "gridcolor": "white",
            "linecolor": "white",
            "ticks": ""
           }
          },
          "title": {
           "x": 0.05
          },
          "xaxis": {
           "automargin": true,
           "gridcolor": "white",
           "linecolor": "white",
           "ticks": "",
           "title": {
            "standoff": 15
           },
           "zerolinecolor": "white",
           "zerolinewidth": 2
          },
          "yaxis": {
           "automargin": true,
           "gridcolor": "white",
           "linecolor": "white",
           "ticks": "",
           "title": {
            "standoff": 15
           },
           "zerolinecolor": "white",
           "zerolinewidth": 2
          }
         }
        }
       }
      },
      "text/html": [
       "<div>                            <div id=\"4eeb1c93-f447-4a95-b9f8-c0f2389a4844\" class=\"plotly-graph-div\" style=\"height:525px; width:100%;\"></div>            <script type=\"text/javascript\">                require([\"plotly\"], function(Plotly) {                    window.PLOTLYENV=window.PLOTLYENV || {};                                    if (document.getElementById(\"4eeb1c93-f447-4a95-b9f8-c0f2389a4844\")) {                    Plotly.newPlot(                        \"4eeb1c93-f447-4a95-b9f8-c0f2389a4844\",                        [{\"lat\":[43.171396,43.171399,43.171399,43.169874,43.169874,43.169916,43.169916,43.169967,43.169967,43.169995,43.169995,43.1705539,43.1705539,43.1705312,43.1705304,43.1705304,43.1705269,43.1705281,43.1705281,43.1705269,43.1705304,43.1705304,43.1705312,43.1705539,43.1705539,43.170772,43.170772,43.171305,43.171305,43.171528,43.171528,43.1715159,43.1715159,43.171479,43.171479,43.170727,43.170727,43.170667,43.170667,43.171426,43.171426,43.171419,43.171419,43.171399,43.171399,43.171396],\"line\":{\"color\":\"grey\",\"width\":4.5},\"lon\":[-77.565365,-77.565098,-77.565098,-77.565006,-77.565006,-77.56387,-77.56387,-77.561869,-77.561869,-77.560715,-77.560715,-77.5604122,-77.5604122,-77.5602759,-77.5602238,-77.5602238,-77.5599932,-77.5599531,-77.5599531,-77.5599932,-77.5602238,-77.5602238,-77.5602759,-77.5604122,-77.5604122,-77.560294,-77.560294,-77.560003,-77.560003,-77.559884,-77.559884,-77.5604008,-77.5604008,-77.561944,-77.561944,-77.561906,-77.561906,-77.563915,-77.563915,-77.563953,-77.563953,-77.564305,-77.564305,-77.565098,-77.565098,-77.565365],\"marker\":{\"size\":10},\"mode\":\"lines\",\"name\":\"Path\",\"type\":\"scattermapbox\"},{\"lat\":[43.171396],\"lon\":[-77.565365],\"marker\":{\"color\":\"red\",\"size\":12},\"mode\":\"markers\",\"name\":\"Source\",\"type\":\"scattermapbox\"},{\"lat\":[43.171396],\"lon\":[-77.565365],\"marker\":{\"color\":\"green\",\"size\":12},\"mode\":\"markers\",\"name\":\"Destination\",\"type\":\"scattermapbox\"}],                        {\"mapbox\":{\"center\":{\"lat\":43.17080607391304,\"lon\":-77.56196173913042},\"style\":\"carto-darkmatter\",\"zoom\":13},\"margin\":{\"b\":0,\"l\":0,\"r\":0,\"t\":0},\"template\":{\"data\":{\"bar\":[{\"error_x\":{\"color\":\"#2a3f5f\"},\"error_y\":{\"color\":\"#2a3f5f\"},\"marker\":{\"line\":{\"color\":\"#E5ECF6\",\"width\":0.5},\"pattern\":{\"fillmode\":\"overlay\",\"size\":10,\"solidity\":0.2}},\"type\":\"bar\"}],\"barpolar\":[{\"marker\":{\"line\":{\"color\":\"#E5ECF6\",\"width\":0.5},\"pattern\":{\"fillmode\":\"overlay\",\"size\":10,\"solidity\":0.2}},\"type\":\"barpolar\"}],\"carpet\":[{\"aaxis\":{\"endlinecolor\":\"#2a3f5f\",\"gridcolor\":\"white\",\"linecolor\":\"white\",\"minorgridcolor\":\"white\",\"startlinecolor\":\"#2a3f5f\"},\"baxis\":{\"endlinecolor\":\"#2a3f5f\",\"gridcolor\":\"white\",\"linecolor\":\"white\",\"minorgridcolor\":\"white\",\"startlinecolor\":\"#2a3f5f\"},\"type\":\"carpet\"}],\"choropleth\":[{\"colorbar\":{\"outlinewidth\":0,\"ticks\":\"\"},\"type\":\"choropleth\"}],\"contour\":[{\"colorbar\":{\"outlinewidth\":0,\"ticks\":\"\"},\"colorscale\":[[0.0,\"#0d0887\"],[0.1111111111111111,\"#46039f\"],[0.2222222222222222,\"#7201a8\"],[0.3333333333333333,\"#9c179e\"],[0.4444444444444444,\"#bd3786\"],[0.5555555555555556,\"#d8576b\"],[0.6666666666666666,\"#ed7953\"],[0.7777777777777778,\"#fb9f3a\"],[0.8888888888888888,\"#fdca26\"],[1.0,\"#f0f921\"]],\"type\":\"contour\"}],\"contourcarpet\":[{\"colorbar\":{\"outlinewidth\":0,\"ticks\":\"\"},\"type\":\"contourcarpet\"}],\"heatmap\":[{\"colorbar\":{\"outlinewidth\":0,\"ticks\":\"\"},\"colorscale\":[[0.0,\"#0d0887\"],[0.1111111111111111,\"#46039f\"],[0.2222222222222222,\"#7201a8\"],[0.3333333333333333,\"#9c179e\"],[0.4444444444444444,\"#bd3786\"],[0.5555555555555556,\"#d8576b\"],[0.6666666666666666,\"#ed7953\"],[0.7777777777777778,\"#fb9f3a\"],[0.8888888888888888,\"#fdca26\"],[1.0,\"#f0f921\"]],\"type\":\"heatmap\"}],\"heatmapgl\":[{\"colorbar\":{\"outlinewidth\":0,\"ticks\":\"\"},\"colorscale\":[[0.0,\"#0d0887\"],[0.1111111111111111,\"#46039f\"],[0.2222222222222222,\"#7201a8\"],[0.3333333333333333,\"#9c179e\"],[0.4444444444444444,\"#bd3786\"],[0.5555555555555556,\"#d8576b\"],[0.6666666666666666,\"#ed7953\"],[0.7777777777777778,\"#fb9f3a\"],[0.8888888888888888,\"#fdca26\"],[1.0,\"#f0f921\"]],\"type\":\"heatmapgl\"}],\"histogram\":[{\"marker\":{\"pattern\":{\"fillmode\":\"overlay\",\"size\":10,\"solidity\":0.2}},\"type\":\"histogram\"}],\"histogram2d\":[{\"colorbar\":{\"outlinewidth\":0,\"ticks\":\"\"},\"colorscale\":[[0.0,\"#0d0887\"],[0.1111111111111111,\"#46039f\"],[0.2222222222222222,\"#7201a8\"],[0.3333333333333333,\"#9c179e\"],[0.4444444444444444,\"#bd3786\"],[0.5555555555555556,\"#d8576b\"],[0.6666666666666666,\"#ed7953\"],[0.7777777777777778,\"#fb9f3a\"],[0.8888888888888888,\"#fdca26\"],[1.0,\"#f0f921\"]],\"type\":\"histogram2d\"}],\"histogram2dcontour\":[{\"colorbar\":{\"outlinewidth\":0,\"ticks\":\"\"},\"colorscale\":[[0.0,\"#0d0887\"],[0.1111111111111111,\"#46039f\"],[0.2222222222222222,\"#7201a8\"],[0.3333333333333333,\"#9c179e\"],[0.4444444444444444,\"#bd3786\"],[0.5555555555555556,\"#d8576b\"],[0.6666666666666666,\"#ed7953\"],[0.7777777777777778,\"#fb9f3a\"],[0.8888888888888888,\"#fdca26\"],[1.0,\"#f0f921\"]],\"type\":\"histogram2dcontour\"}],\"mesh3d\":[{\"colorbar\":{\"outlinewidth\":0,\"ticks\":\"\"},\"type\":\"mesh3d\"}],\"parcoords\":[{\"line\":{\"colorbar\":{\"outlinewidth\":0,\"ticks\":\"\"}},\"type\":\"parcoords\"}],\"pie\":[{\"automargin\":true,\"type\":\"pie\"}],\"scatter\":[{\"marker\":{\"colorbar\":{\"outlinewidth\":0,\"ticks\":\"\"}},\"type\":\"scatter\"}],\"scatter3d\":[{\"line\":{\"colorbar\":{\"outlinewidth\":0,\"ticks\":\"\"}},\"marker\":{\"colorbar\":{\"outlinewidth\":0,\"ticks\":\"\"}},\"type\":\"scatter3d\"}],\"scattercarpet\":[{\"marker\":{\"colorbar\":{\"outlinewidth\":0,\"ticks\":\"\"}},\"type\":\"scattercarpet\"}],\"scattergeo\":[{\"marker\":{\"colorbar\":{\"outlinewidth\":0,\"ticks\":\"\"}},\"type\":\"scattergeo\"}],\"scattergl\":[{\"marker\":{\"colorbar\":{\"outlinewidth\":0,\"ticks\":\"\"}},\"type\":\"scattergl\"}],\"scattermapbox\":[{\"marker\":{\"colorbar\":{\"outlinewidth\":0,\"ticks\":\"\"}},\"type\":\"scattermapbox\"}],\"scatterpolar\":[{\"marker\":{\"colorbar\":{\"outlinewidth\":0,\"ticks\":\"\"}},\"type\":\"scatterpolar\"}],\"scatterpolargl\":[{\"marker\":{\"colorbar\":{\"outlinewidth\":0,\"ticks\":\"\"}},\"type\":\"scatterpolargl\"}],\"scatterternary\":[{\"marker\":{\"colorbar\":{\"outlinewidth\":0,\"ticks\":\"\"}},\"type\":\"scatterternary\"}],\"surface\":[{\"colorbar\":{\"outlinewidth\":0,\"ticks\":\"\"},\"colorscale\":[[0.0,\"#0d0887\"],[0.1111111111111111,\"#46039f\"],[0.2222222222222222,\"#7201a8\"],[0.3333333333333333,\"#9c179e\"],[0.4444444444444444,\"#bd3786\"],[0.5555555555555556,\"#d8576b\"],[0.6666666666666666,\"#ed7953\"],[0.7777777777777778,\"#fb9f3a\"],[0.8888888888888888,\"#fdca26\"],[1.0,\"#f0f921\"]],\"type\":\"surface\"}],\"table\":[{\"cells\":{\"fill\":{\"color\":\"#EBF0F8\"},\"line\":{\"color\":\"white\"}},\"header\":{\"fill\":{\"color\":\"#C8D4E3\"},\"line\":{\"color\":\"white\"}},\"type\":\"table\"}]},\"layout\":{\"annotationdefaults\":{\"arrowcolor\":\"#2a3f5f\",\"arrowhead\":0,\"arrowwidth\":1},\"autotypenumbers\":\"strict\",\"coloraxis\":{\"colorbar\":{\"outlinewidth\":0,\"ticks\":\"\"}},\"colorscale\":{\"diverging\":[[0,\"#8e0152\"],[0.1,\"#c51b7d\"],[0.2,\"#de77ae\"],[0.3,\"#f1b6da\"],[0.4,\"#fde0ef\"],[0.5,\"#f7f7f7\"],[0.6,\"#e6f5d0\"],[0.7,\"#b8e186\"],[0.8,\"#7fbc41\"],[0.9,\"#4d9221\"],[1,\"#276419\"]],\"sequential\":[[0.0,\"#0d0887\"],[0.1111111111111111,\"#46039f\"],[0.2222222222222222,\"#7201a8\"],[0.3333333333333333,\"#9c179e\"],[0.4444444444444444,\"#bd3786\"],[0.5555555555555556,\"#d8576b\"],[0.6666666666666666,\"#ed7953\"],[0.7777777777777778,\"#fb9f3a\"],[0.8888888888888888,\"#fdca26\"],[1.0,\"#f0f921\"]],\"sequentialminus\":[[0.0,\"#0d0887\"],[0.1111111111111111,\"#46039f\"],[0.2222222222222222,\"#7201a8\"],[0.3333333333333333,\"#9c179e\"],[0.4444444444444444,\"#bd3786\"],[0.5555555555555556,\"#d8576b\"],[0.6666666666666666,\"#ed7953\"],[0.7777777777777778,\"#fb9f3a\"],[0.8888888888888888,\"#fdca26\"],[1.0,\"#f0f921\"]]},\"colorway\":[\"#636efa\",\"#EF553B\",\"#00cc96\",\"#ab63fa\",\"#FFA15A\",\"#19d3f3\",\"#FF6692\",\"#B6E880\",\"#FF97FF\",\"#FECB52\"],\"font\":{\"color\":\"#2a3f5f\"},\"geo\":{\"bgcolor\":\"white\",\"lakecolor\":\"white\",\"landcolor\":\"#E5ECF6\",\"showlakes\":true,\"showland\":true,\"subunitcolor\":\"white\"},\"hoverlabel\":{\"align\":\"left\"},\"hovermode\":\"closest\",\"mapbox\":{\"style\":\"light\"},\"paper_bgcolor\":\"white\",\"plot_bgcolor\":\"#E5ECF6\",\"polar\":{\"angularaxis\":{\"gridcolor\":\"white\",\"linecolor\":\"white\",\"ticks\":\"\"},\"bgcolor\":\"#E5ECF6\",\"radialaxis\":{\"gridcolor\":\"white\",\"linecolor\":\"white\",\"ticks\":\"\"}},\"scene\":{\"xaxis\":{\"backgroundcolor\":\"#E5ECF6\",\"gridcolor\":\"white\",\"gridwidth\":2,\"linecolor\":\"white\",\"showbackground\":true,\"ticks\":\"\",\"zerolinecolor\":\"white\"},\"yaxis\":{\"backgroundcolor\":\"#E5ECF6\",\"gridcolor\":\"white\",\"gridwidth\":2,\"linecolor\":\"white\",\"showbackground\":true,\"ticks\":\"\",\"zerolinecolor\":\"white\"},\"zaxis\":{\"backgroundcolor\":\"#E5ECF6\",\"gridcolor\":\"white\",\"gridwidth\":2,\"linecolor\":\"white\",\"showbackground\":true,\"ticks\":\"\",\"zerolinecolor\":\"white\"}},\"shapedefaults\":{\"line\":{\"color\":\"#2a3f5f\"}},\"ternary\":{\"aaxis\":{\"gridcolor\":\"white\",\"linecolor\":\"white\",\"ticks\":\"\"},\"baxis\":{\"gridcolor\":\"white\",\"linecolor\":\"white\",\"ticks\":\"\"},\"bgcolor\":\"#E5ECF6\",\"caxis\":{\"gridcolor\":\"white\",\"linecolor\":\"white\",\"ticks\":\"\"}},\"title\":{\"x\":0.05},\"xaxis\":{\"automargin\":true,\"gridcolor\":\"white\",\"linecolor\":\"white\",\"ticks\":\"\",\"title\":{\"standoff\":15},\"zerolinecolor\":\"white\",\"zerolinewidth\":2},\"yaxis\":{\"automargin\":true,\"gridcolor\":\"white\",\"linecolor\":\"white\",\"ticks\":\"\",\"title\":{\"standoff\":15},\"zerolinecolor\":\"white\",\"zerolinewidth\":2}}}},                        {\"responsive\": true}                    ).then(function(){\n",
       "                            \n",
       "var gd = document.getElementById('4eeb1c93-f447-4a95-b9f8-c0f2389a4844');\n",
       "var x = new MutationObserver(function (mutations, observer) {{\n",
       "        var display = window.getComputedStyle(gd).display;\n",
       "        if (!display || display === 'none') {{\n",
       "            console.log([gd, 'removed!']);\n",
       "            Plotly.purge(gd);\n",
       "            observer.disconnect();\n",
       "        }}\n",
       "}});\n",
       "\n",
       "// Listen for the removal of the full notebook cells\n",
       "var notebookContainer = gd.closest('#notebook-container');\n",
       "if (notebookContainer) {{\n",
       "    x.observe(notebookContainer, {childList: true});\n",
       "}}\n",
       "\n",
       "// Listen for the clearing of the current output cell\n",
       "var outputEl = gd.closest('.output');\n",
       "if (outputEl) {{\n",
       "    x.observe(outputEl, {childList: true});\n",
       "}}\n",
       "\n",
       "                        })                };                });            </script>        </div>"
      ]
     },
     "metadata": {},
     "output_type": "display_data"
    },
    {
     "name": "stdout",
     "output_type": "stream",
     "text": [
      "s\n",
      "Cbc0004I Integer solution of 1412.1 found after 54241 iterations and 1203 nodes (18.07 seconds)\n",
      "Cbc0038I Full problem 308 rows 323 columns, reduced to 266 rows 21 columns - 2 fixed gives 253, 18 - still too large\n",
      "Cbc0010I After 2000 nodes, 3 on tree, 1412.1 best solution, best possible 1254.0997 (25.71 seconds)\n",
      "Cbc0004I Integer solution of 1411.4 found after 105694 iterations and 2191 nodes (28.21 seconds)\n",
      "Cbc0038I Full problem 308 rows 323 columns, reduced to 280 rows 31 columns - 1 fixed gives 278, 28 - still too large\n",
      "Cbc0010I After 3000 nodes, 5 on tree, 1411.4 best solution, best possible 1254.0997 (37.08 seconds)\n",
      "Cbc0001I Search completed - best objective 1411.4, took 160264 iterations and 3035 nodes (37.74 seconds)\n",
      "Cbc0032I Strong branching done 3878 times (72445 iterations), fathomed 76 nodes and fixed 201 variables\n",
      "Cbc0035I Maximum depth 27, 25173 variables fixed on reduced cost\n",
      "Cuts at root node changed objective from 1051.18 to 1254.1\n",
      "Probing was tried 5265 times and creat"
     ]
    }
   ],
   "source": [
    "\n",
    "#Creating a bounding box\n",
    "north, south, east, west = 43.169786,43.171602,-77.565536,-77.559657  \n",
    "G = ox.graph_from_bbox(north, south, east, west, network_type=\"drive_service\")\n",
    "colors = plt.rcParams['axes.prop_cycle'].by_key()['color']\n",
    "ox.plot.plot_graph(G, bgcolor='#FFFFFF', node_color=colors[0], edge_color='lightgray', node_size=5)\n",
    "\n",
    "\n",
    "    #Extracting Node Information from G\n",
    "Nodes = []\n",
    "for i in G.nodes:\n",
    "    Nodes.append(i)\n",
    "\n",
    "data = pd.DataFrame(Nodes)\n",
    "data.rename(columns = {0:'Nodes'}, inplace = True)\n",
    "#G = ox.graph_from_place('Rochester, NY, USA', network_type='drive')\n",
    "\n",
    "lat1 = []\n",
    "long1 = []\n",
    "for i in Nodes:\n",
    "    lat1.append(G.nodes[i].get('y'))\n",
    "    long1.append(G.nodes[i].get('x'))\n",
    "data['Latitude'] = lat1\n",
    "data['Longitude'] = long1\n",
    "df1 = data\n",
    "\n",
    "\n",
    "df1 = df1.drop(['Nodes'],axis=1)\n",
    "df1.rename(columns = {'Latitude':'Left'}, inplace = True)\n",
    "df1.rename(columns = {'Longitude':'Right'}, inplace = True)\n",
    "\n",
    "    #Calculating Distance and the distance matrix for all coordinates in the Bounding Box\n",
    "df3 = pd.DataFrame()\n",
    "for j in df1.index:\n",
    "    list1 = []\n",
    "    for i in df1.index:\n",
    "        r = requests.get(f\"\"\"http://router.project-osrm.org/route/v1/car/{df1.loc[j, \"Right\"]},{df1.loc[j, \"Left\"]};{df1.loc[i, \"Right\"]},{df1.loc[i, \"Left\"]}?overview=false\"\"\")\n",
    "        list1.append(json.loads(r.content)[\"routes\"][0][\"distance\"])\n",
    "    df3[j] = list1\n",
    "df = df1\n",
    "df['coordinate'] = list(zip(df['Right'],df['Left']))\n",
    "df['ID'] = df.index\n",
    "\n",
    "locations = dict( ( ID, (df.loc[ID, 'Right'], df.loc[ID, 'Left']) ) for ID in df.index)\n",
    "distances_df = df3\n",
    "distance = distances_df\n",
    "distances = dict( ((l1,l2), distance.iloc[l1, l2] ) for l1 in locations for l2 in locations if l1!=l2)\n",
    "\n",
    "\n",
    "    ## V: This defines the total number of vehicles that will traverse the path.\n",
    "V = 1\n",
    "    ## prob: This initializes the problem that will run using provided constraints.\n",
    "\n",
    "prob=LpProblem(\"vehicle\", LpMinimize)\n",
    "    ## indicator: This defines the variable dictionary consisting of distances and indicates if location i is connected to location j along route\n",
    "indicator = LpVariable.dicts('indicator',distances, 0,1,LpBinary)\n",
    "    ## eliminator: This defines the variable dictionary consisting of the node ID's and elimiate subtours\n",
    "eliminator = LpVariable.dicts('eliminator', df.ID, 0, len(df.ID)-1, LpInteger)\n",
    "    ## cost: This stores the result of distances calculations.\n",
    "cost = lpSum([indicator[(i,j)]*distances[(i,j)] for (i,j) in distances])\n",
    "prob+=cost\n",
    "\n",
    "start1 = 11\n",
    "for v in df.ID:\n",
    "        ## cap: This considers a particular node at a time. \n",
    "    cap = 1 if v != start1 else V\n",
    "        #inward possible route\n",
    "    prob+= lpSum([ indicator[(i,v)] for i in df.ID if (i,v) in indicator]) ==cap\n",
    "        #outward possible route\n",
    "    prob+=lpSum([ indicator[(v,i)] for i in df.ID if (v,i) in indicator]) ==cap\n",
    "    ## num: This stores the result of the number of nodes and the number of vehicles.    \n",
    "num=len(df.ID)/V\n",
    "for i in df.ID:\n",
    "    for j in df.ID:\n",
    "        if i != j and (i != start1 and j!= start1) and (i,j) in indicator:\n",
    "             prob += eliminator[i] - eliminator[j] <= (num)*(1-indicator[(i,j)]) - 1         \n",
    "prob.solve()\n",
    "    ## feasibleedges: This stores values of edges after the calculations are done.\n",
    "feasible_edges = [ e for e in indicator if value(indicator[e]) != 0 ]\n",
    "    ##@get_next_loc\n",
    "    # This provides with the next coordinates for the next node in the path.\n",
    "def get_next_loc(initial):\n",
    "    edges = [e for e in feasible_edges if e[0]==initial]\n",
    "    for e in edges:\n",
    "        feasible_edges.remove(e)\n",
    "    return edges\n",
    "    ## routes: This stores information regarding paths.    \n",
    "routes = get_next_loc(11)\n",
    "routes = [ [e] for e in routes ]\n",
    "\n",
    "for r in routes:\n",
    "    while r[-1][1] !=start1:\n",
    "        r.append(get_next_loc(r[-1][1])[-1])\n",
    "\n",
    "\n",
    "\n",
    "\n",
    "df2 = df[['Left', 'Right', 'ID']].copy()\n",
    "df2.rename(columns = {'Left':'Latitude'}, inplace = True)\n",
    "df2.rename(columns = {'Right':'Longitude'}, inplace = True)\n",
    "a=[]\n",
    "for i in range(data.index.stop):\n",
    "    #print(routes[0][i][0])\n",
    "    a.append(routes[0][i][0]) \n",
    "\n",
    "df3 = pd.DataFrame()\n",
    "for i in a:\n",
    "    df3 = df3.append(df2.loc[i])\n",
    "\n",
    "df3.reset_index(inplace = True)\n",
    "\n",
    "df3 = df3.append(df3.loc[0])\n",
    "df3.reset_index(inplace = True)\n",
    "df4 = df3\n",
    "dfnodes = pd.DataFrame(Nodes)\n",
    "dfnodes.rename(columns = {0:'Nodes'}, inplace = True)\n",
    "dfnodes = dfnodes.reindex(a)\n",
    "dfnodes = dfnodes.append({\"Nodes\":Nodes[a[0]]},ignore_index=True)\n",
    "df4 = pd.concat([df4,dfnodes],axis=1)\n",
    "    \n",
    "    \n",
    "def node_list_to_path2(G, node_list):\n",
    "   \n",
    "    edge_nodes = list(zip(node_list[:-1], node_list[1:]))\n",
    "    lines = []\n",
    "    newlist=[]\n",
    "    \n",
    "    \n",
    "    \n",
    "    \n",
    "    #for u, v in edge_nodes:\n",
    "    #    if(G.get_edge_data(u, v)):\n",
    "    #        newlist.append((u,v))\n",
    "            \n",
    "            \n",
    "            \n",
    "    for u, v in edge_nodes:\n",
    "        if(G.get_edge_data(u, v)):\n",
    "            newlist.append((u,v))\n",
    "        else:    \n",
    "            path1 = nx.shortest_path(G,u, v, weight='travel_time')\n",
    "            path2 = list(zip(path1[:-1], path1[1:]))\n",
    "            newlist = newlist+path2        \n",
    "    #print(newlist)\n",
    "    #print(len(newlist))\n",
    "    \n",
    "    for u, v in newlist:\n",
    "        # if there are parallel edges, select the shortest in length\n",
    "        \n",
    "        data = min(G.get_edge_data(u, v).values(), \n",
    "                key=lambda x: x['length'])\n",
    "            # if it has a geometry attribute\n",
    "        if 'geometry' in data:\n",
    "            # add them to the list of lines to plot\n",
    "            xs, ys = data['geometry'].xy\n",
    "            lines.append(list(zip(xs, ys)))\n",
    "        else:\n",
    "            # if it doesn't have a geometry attribute,\n",
    "            # then the edge is a straight line from node to node\n",
    "            x1 = G.nodes[u]['x']\n",
    "            y1 = G.nodes[u]['y']\n",
    "            x2 = G.nodes[v]['x']\n",
    "            y2 = G.nodes[v]['y']\n",
    "            line = [(x1, y1), (x2, y2)]\n",
    "            lines.append(line)\n",
    "            \n",
    "    return lines       \n",
    "    \n",
    "    \n",
    "    \n",
    "def plot_path(lat, long, origin_point, destination_point):\n",
    "    fig = go.Figure(go.Scattermapbox(\n",
    "        name = \"Path\",\n",
    "        mode = \"lines\",\n",
    "        lon = long,\n",
    "        lat = lat,\n",
    "        marker = {'size': 10},\n",
    "        line = dict(width = 4.5, color = 'grey')))\n",
    "    fig.add_trace(go.Scattermapbox(\n",
    "        name = \"Source\",\n",
    "        mode = \"markers\",\n",
    "        lon = [origin_point[1]],\n",
    "        lat = [origin_point[0]],\n",
    "        marker = {'size': 12, 'color':\"red\"}))\n",
    "    fig.add_trace(go.Scattermapbox(\n",
    "        name = \"Destination\",\n",
    "        mode = \"markers\",\n",
    "        lon = [destination_point[1]],\n",
    "        lat = [destination_point[0]],\n",
    "        marker = {'size': 12, 'color':'green'}))\n",
    "    lat_center = np.mean(lat)\n",
    "    long_center = np.mean(long)\n",
    "    fig.update_layout(mapbox_style=\"carto-darkmatter\",\n",
    "        mapbox_center_lat = 30, mapbox_center_lon=-80)\n",
    "    fig.update_layout(margin={\"r\":0,\"t\":0,\"l\":0,\"b\":0},\n",
    "                        mapbox = {\n",
    "                            'center': {'lat': lat_center, \n",
    "                            'lon': long_center},\n",
    "                            'zoom': 13})\n",
    "    fig.show()\n",
    "\n",
    "\n",
    "pathlist = []\n",
    "for i in range(df4['Nodes'].count()-1):\n",
    "    path1 = nx.shortest_path(G, df4.iloc[i]['Nodes'],df4.iloc[i+1]['Nodes'], weight='travel_time')\n",
    "    pathlist = pathlist+path1\n",
    "#pathlist1 = list(dict.fromkeys(pathlist))\n",
    "#pathlist1.append(pathlist1[0])\n",
    "data4 = pd.DataFrame(pathlist)\n",
    "data4.rename(columns = {0:'Nodes'}, inplace = True)\n",
    "lat1 = []\n",
    "long1 = []\n",
    "lines = node_list_to_path2(G, pathlist)\n",
    "long2 = []\n",
    "lat2 = []\n",
    "for i in range(len(lines)):\n",
    "    z = list(lines[i])\n",
    "    l1 = list(list(zip(*z))[0])\n",
    "    l2 = list(list(zip(*z))[1])\n",
    "    for j in range(len(l1)):\n",
    "        long2.append(l1[j])\n",
    "        lat2.append(l2[j])\n",
    "for i in pathlist:\n",
    "    lat1.append(G.nodes[i].get('y'))\n",
    "    long1.append(G.nodes[i].get('x'))\n",
    "data4['Latitude'] = lat1\n",
    "data4['Longitude'] = long1\n",
    "origin_point = (data4.loc[0][\"Latitude\"], data4.loc[0][\"Longitude\"]) \n",
    "destination_point = (data4.iloc[-1][\"Latitude\"], data4.iloc[-1][\"Longitude\"])\n",
    "#plot_path(lat1, long1, origin_point, destination_point)\n",
    "\n",
    "\n",
    "plot_path(lat2, long2, origin_point, destination_point)\n",
    "\n",
    "\n"
   ]
  },
  {
   "cell_type": "code",
   "execution_count": 30,
   "id": "65f172c3",
   "metadata": {},
   "outputs": [],
   "source": [
    "path3=pathlist"
   ]
  },
  {
   "cell_type": "code",
   "execution_count": 29,
   "id": "filled-tissue",
   "metadata": {},
   "outputs": [],
   "source": [
    "mainpath=path1+path2+path3"
   ]
  },
  {
   "cell_type": "code",
   "execution_count": 31,
   "id": "672595bb",
   "metadata": {},
   "outputs": [
    {
     "data": {
      "text/plain": [
       "[212696984.0,\n",
       " 212903621,\n",
       " 212903621.0,\n",
       " 212696984,\n",
       " 212633053.0,\n",
       " 212633053.0,\n",
       " 212696988,\n",
       " 212696988.0,\n",
       " 212696990,\n",
       " 212696990.0,\n",
       " 212696993,\n",
       " 212696993.0,\n",
       " 212696996,\n",
       " 212696996.0,\n",
       " 212697004,\n",
       " 212697011.0,\n",
       " 212697011.0,\n",
       " 212697004,\n",
       " 212697004.0,\n",
       " 212643444,\n",
       " 212643444.0,\n",
       " 212643441,\n",
       " 212643441.0,\n",
       " 212643439,\n",
       " 212643439.0,\n",
       " 212643436,\n",
       " 212643436.0,\n",
       " 212643433,\n",
       " 212643433.0,\n",
       " 7085465650,\n",
       " 7085465650.0,\n",
       " 212633055,\n",
       " 212633055.0,\n",
       " 212643431,\n",
       " 212643427.0,\n",
       " 212643427.0,\n",
       " 212643431,\n",
       " 212643431.0,\n",
       " 212626130,\n",
       " 212626130.0,\n",
       " 212670532,\n",
       " 212670532.0,\n",
       " 212696984]"
      ]
     },
     "execution_count": 31,
     "metadata": {},
     "output_type": "execute_result"
    }
   ],
   "source": [
    "path1"
   ]
  },
  {
   "cell_type": "code",
   "execution_count": 32,
   "id": "8aaa137b",
   "metadata": {},
   "outputs": [
    {
     "data": {
      "text/plain": [
       "[212643473.0,\n",
       " 212643476,\n",
       " 212643476.0,\n",
       " 212632105,\n",
       " 212632105.0,\n",
       " 212643478,\n",
       " 212643478.0,\n",
       " 212643481,\n",
       " 212643481.0,\n",
       " 212697035,\n",
       " 212697039.0,\n",
       " 212697039.0,\n",
       " 212697035,\n",
       " 212697035.0,\n",
       " 212632102,\n",
       " 212632102.0,\n",
       " 212697032,\n",
       " 212697032.0,\n",
       " 212643473,\n",
       " 212643469,\n",
       " 212643467.0,\n",
       " 212643467.0,\n",
       " 212643469,\n",
       " 212643469.0,\n",
       " 212643473]"
      ]
     },
     "execution_count": 32,
     "metadata": {},
     "output_type": "execute_result"
    }
   ],
   "source": [
    "path2"
   ]
  },
  {
   "cell_type": "code",
   "execution_count": 33,
   "id": "c2dbd907",
   "metadata": {},
   "outputs": [
    {
     "data": {
      "text/plain": [
       "[212696984.0,\n",
       " 212903621,\n",
       " 212903621.0,\n",
       " 212696984,\n",
       " 212633053.0,\n",
       " 212633053.0,\n",
       " 212696988,\n",
       " 212696988.0,\n",
       " 212696990,\n",
       " 212696990.0,\n",
       " 212696993,\n",
       " 212696993.0,\n",
       " 212696996,\n",
       " 212696996.0,\n",
       " 212697004,\n",
       " 212697011.0,\n",
       " 212697011.0,\n",
       " 212697004,\n",
       " 212697004.0,\n",
       " 212643444,\n",
       " 212643444.0,\n",
       " 212643441,\n",
       " 212643441.0,\n",
       " 212643439,\n",
       " 212643439.0,\n",
       " 212643436,\n",
       " 212643436.0,\n",
       " 212643433,\n",
       " 212643433.0,\n",
       " 7085465650,\n",
       " 7085465650.0,\n",
       " 212633055,\n",
       " 212633055.0,\n",
       " 212643431,\n",
       " 212643427.0,\n",
       " 212643427.0,\n",
       " 212643431,\n",
       " 212643431.0,\n",
       " 212626130,\n",
       " 212626130.0,\n",
       " 212670532,\n",
       " 212670532.0,\n",
       " 212696984]"
      ]
     },
     "execution_count": 33,
     "metadata": {},
     "output_type": "execute_result"
    }
   ],
   "source": [
    "path3"
   ]
  },
  {
   "cell_type": "code",
   "execution_count": 36,
   "id": "bcd5ec67",
   "metadata": {},
   "outputs": [
    {
     "name": "stderr",
     "output_type": "stream",
     "text": [
      "/Users/rochelleallan/anaconda3/envs/ox/lib/python3.9/site-packages/osmnx/utils_geo.py:335: ShapelyDeprecationWarning:\n",
      "\n",
      "Iteration over multi-part geometries is deprecated and will be removed in Shapely 2.0. Use the `geoms` property to access the constituent parts of a multi-part geometry.\n",
      "\n",
      "/Users/rochelleallan/anaconda3/envs/ox/lib/python3.9/site-packages/osmnx/utils_geo.py:426: ShapelyDeprecationWarning:\n",
      "\n",
      "Iteration over multi-part geometries is deprecated and will be removed in Shapely 2.0. Use the `geoms` property to access the constituent parts of a multi-part geometry.\n",
      "\n",
      "/Users/rochelleallan/anaconda3/envs/ox/lib/python3.9/site-packages/osmnx/utils_geo.py:426: ShapelyDeprecationWarning:\n",
      "\n",
      "Iteration over multi-part geometries is deprecated and will be removed in Shapely 2.0. Use the `geoms` property to access the constituent parts of a multi-part geometry.\n",
      "\n"
     ]
    }
   ],
   "source": [
    "G = ox.graph_from_place('Rochester, NY, USA', network_type='drive')"
   ]
  },
  {
   "cell_type": "code",
   "execution_count": 37,
   "id": "liked-bridge",
   "metadata": {},
   "outputs": [],
   "source": [
    "path12 = nx.shortest_path(G, 212696984,212643473, weight='travel_time')"
   ]
  },
  {
   "cell_type": "code",
   "execution_count": 38,
   "id": "emerging-flash",
   "metadata": {},
   "outputs": [],
   "source": [
    "path23 = nx.shortest_path(G, 212643473,212696984, weight='travel_time')"
   ]
  },
  {
   "cell_type": "code",
   "execution_count": 39,
   "id": "unique-philip",
   "metadata": {},
   "outputs": [
    {
     "data": {
      "text/plain": [
       "[212696984,\n",
       " 212633053,\n",
       " 212633055,\n",
       " 212643431,\n",
       " 212731609,\n",
       " 212642331,\n",
       " 212731612,\n",
       " 212881997,\n",
       " 212870974,\n",
       " 212643467,\n",
       " 212643469,\n",
       " 212643473]"
      ]
     },
     "execution_count": 39,
     "metadata": {},
     "output_type": "execute_result"
    }
   ],
   "source": [
    "\n",
    "\n",
    "path12"
   ]
  },
  {
   "cell_type": "code",
   "execution_count": 40,
   "id": "improved-treasurer",
   "metadata": {},
   "outputs": [
    {
     "data": {
      "text/plain": [
       "[212633053,\n",
       " 212633055,\n",
       " 212643431,\n",
       " 212731609,\n",
       " 212642331,\n",
       " 212731612,\n",
       " 212881997,\n",
       " 212870974,\n",
       " 212643467,\n",
       " 212643469]"
      ]
     },
     "execution_count": 40,
     "metadata": {},
     "output_type": "execute_result"
    }
   ],
   "source": [
    "path12[1:-1]"
   ]
  },
  {
   "cell_type": "code",
   "execution_count": 43,
   "id": "commercial-denver",
   "metadata": {},
   "outputs": [
    {
     "data": {
      "text/plain": [
       "[212643473,\n",
       " 212643469,\n",
       " 212643467,\n",
       " 212870974,\n",
       " 212881997,\n",
       " 212731612,\n",
       " 212642331,\n",
       " 212731609,\n",
       " 212643431,\n",
       " 212633055,\n",
       " 212633053,\n",
       " 212696984]"
      ]
     },
     "execution_count": 43,
     "metadata": {},
     "output_type": "execute_result"
    }
   ],
   "source": [
    "path23"
   ]
  },
  {
   "cell_type": "code",
   "execution_count": 44,
   "id": "alleged-ireland",
   "metadata": {},
   "outputs": [
    {
     "data": {
      "text/plain": [
       "[212643469,\n",
       " 212643467,\n",
       " 212870974,\n",
       " 212881997,\n",
       " 212731612,\n",
       " 212642331,\n",
       " 212731609,\n",
       " 212643431,\n",
       " 212633055,\n",
       " 212633053]"
      ]
     },
     "execution_count": 44,
     "metadata": {},
     "output_type": "execute_result"
    }
   ],
   "source": [
    "path23[1:-1]"
   ]
  },
  {
   "cell_type": "code",
   "execution_count": 45,
   "id": "commercial-jacob",
   "metadata": {},
   "outputs": [],
   "source": [
    "mainroute = path1+path12[1:-1]+path2+path23[1:-1]+path3"
   ]
  },
  {
   "cell_type": "code",
   "execution_count": 46,
   "id": "greatest-watts",
   "metadata": {},
   "outputs": [],
   "source": [
    "mainroute1 = []\n",
    "for i in mainroute:\n",
    "    mainroute1.append(int(i))"
   ]
  },
  {
   "cell_type": "code",
   "execution_count": 53,
   "id": "certified-kingston",
   "metadata": {},
   "outputs": [],
   "source": [
    "mainroute1 = []\n",
    "for i in mainroute:\n",
    "    if i != 7085465650:\n",
    "        mainroute1.append(int(i))\n",
    "    "
   ]
  },
  {
   "cell_type": "code",
   "execution_count": 55,
   "id": "pediatric-greek",
   "metadata": {},
   "outputs": [],
   "source": [
    "lines = node_list_to_path2(G, mainroute1)"
   ]
  },
  {
   "cell_type": "code",
   "execution_count": 56,
   "id": "emerging-hudson",
   "metadata": {},
   "outputs": [],
   "source": [
    "long2 = []\n",
    "lat2 = []"
   ]
  },
  {
   "cell_type": "code",
   "execution_count": 57,
   "id": "organic-authentication",
   "metadata": {},
   "outputs": [],
   "source": [
    "for i in range(len(lines)):\n",
    "    z = list(lines[i])\n",
    "    l1 = list(list(zip(*z))[0])\n",
    "    l2 = list(list(zip(*z))[1])\n",
    "    for j in range(len(l1)):\n",
    "        long2.append(l1[j])\n",
    "        lat2.append(l2[j])"
   ]
  },
  {
   "cell_type": "code",
   "execution_count": 58,
   "id": "focused-communist",
   "metadata": {},
   "outputs": [
    {
     "data": {
      "application/vnd.plotly.v1+json": {
       "config": {
        "plotlyServerURL": "https://plot.ly"
       },
       "data": [
        {
         "lat": [
          43.173879,
          43.173566,
          43.173566,
          43.173879,
          43.173879,
          43.173902,
          43.173902,
          43.173917,
          43.173917,
          43.17394,
          43.17394,
          43.173963,
          43.173963,
          43.173982,
          43.173982,
          43.174127,
          43.174127,
          43.17415,
          43.17415,
          43.174127,
          43.174127,
          43.175988,
          43.175988,
          43.175958,
          43.175958,
          43.175954,
          43.175954,
          43.175916,
          43.175916,
          43.175874,
          43.175874,
          43.1758594,
          43.17584,
          43.17584,
          43.175805,
          43.175805,
          43.175786,
          43.175786,
          43.175805,
          43.175805,
          43.175096,
          43.175096,
          43.174283,
          43.174283,
          43.173879,
          43.173879,
          43.173902,
          43.173902,
          43.17584,
          43.17584,
          43.175805,
          43.175805,
          43.1762868,
          43.1766072,
          43.1766761,
          43.1767346,
          43.1767907,
          43.1767907,
          43.1767853,
          43.1767833,
          43.176939,
          43.176939,
          43.17703,
          43.17703,
          43.177526,
          43.177526,
          43.177973,
          43.177973,
          43.17613,
          43.17613,
          43.176137,
          43.176137,
          43.17616,
          43.1761618,
          43.176176,
          43.176176,
          43.176199,
          43.176199,
          43.176206,
          43.176206,
          43.176229,
          43.176229,
          43.176236,
          43.176236,
          43.174348,
          43.174348,
          43.174379,
          43.174379,
          43.174348,
          43.174348,
          43.174319,
          43.174319,
          43.174287,
          43.174287,
          43.176176,
          43.176176,
          43.1761618,
          43.17616,
          43.176137,
          43.176137,
          43.17613,
          43.17613,
          43.176137,
          43.176137,
          43.17616,
          43.1761618,
          43.176176,
          43.176176,
          43.1761618,
          43.17616,
          43.176137,
          43.176137,
          43.17613,
          43.17613,
          43.177973,
          43.177973,
          43.177526,
          43.177526,
          43.17703,
          43.17703,
          43.176939,
          43.176939,
          43.1767833,
          43.1767853,
          43.1767907,
          43.1767907,
          43.1767346,
          43.1766761,
          43.1766072,
          43.1762868,
          43.175805,
          43.175805,
          43.17584,
          43.17584,
          43.173902,
          43.173902,
          43.173879,
          43.173879,
          43.173566,
          43.173566,
          43.173879,
          43.173879,
          43.173902,
          43.173902,
          43.173917,
          43.173917,
          43.17394,
          43.17394,
          43.173963,
          43.173963,
          43.173982,
          43.173982,
          43.174127,
          43.174127,
          43.17415,
          43.17415,
          43.174127,
          43.174127,
          43.175988,
          43.175988,
          43.175958,
          43.175958,
          43.175954,
          43.175954,
          43.175916,
          43.175916,
          43.175874,
          43.175874,
          43.1758594,
          43.17584,
          43.17584,
          43.175805,
          43.175805,
          43.175786,
          43.175786,
          43.175805,
          43.175805,
          43.175096,
          43.175096,
          43.174283,
          43.174283,
          43.173879
         ],
         "line": {
          "color": "grey",
          "width": 4.5
         },
         "lon": [
          -77.577206,
          -77.577366,
          -77.577366,
          -77.577206,
          -77.577206,
          -77.576039,
          -77.576039,
          -77.574887,
          -77.574887,
          -77.57375,
          -77.57375,
          -77.572606,
          -77.572606,
          -77.571446,
          -77.571446,
          -77.57137,
          -77.57137,
          -77.570385,
          -77.570385,
          -77.57137,
          -77.57137,
          -77.57037,
          -77.57037,
          -77.571347,
          -77.571347,
          -77.57153,
          -77.57153,
          -77.57269,
          -77.57269,
          -77.573842,
          -77.573842,
          -77.5743351,
          -77.574994,
          -77.574994,
          -77.576176,
          -77.576176,
          -77.576741,
          -77.576741,
          -77.576176,
          -77.576176,
          -77.57655,
          -77.57655,
          -77.576993,
          -77.576993,
          -77.577206,
          -77.577206,
          -77.576039,
          -77.576039,
          -77.574994,
          -77.574994,
          -77.576176,
          -77.576176,
          -77.5759217,
          -77.5757525,
          -77.5757195,
          -77.5757011,
          -77.5756874,
          -77.5756874,
          -77.5756225,
          -77.5755665,
          -77.570103,
          -77.570103,
          -77.567951,
          -77.567951,
          -77.566876,
          -77.566876,
          -77.565919,
          -77.565919,
          -77.565792,
          -77.565792,
          -77.565647,
          -77.565647,
          -77.564846,
          -77.5647913,
          -77.564358,
          -77.564358,
          -77.563633,
          -77.563633,
          -77.563332,
          -77.563332,
          -77.562557,
          -77.562557,
          -77.562315,
          -77.562315,
          -77.563328,
          -77.563328,
          -77.562298,
          -77.562298,
          -77.563328,
          -77.563328,
          -77.564366,
          -77.564366,
          -77.565426,
          -77.565426,
          -77.564358,
          -77.564358,
          -77.5647913,
          -77.564846,
          -77.565647,
          -77.565647,
          -77.565792,
          -77.565792,
          -77.565647,
          -77.565647,
          -77.564846,
          -77.5647913,
          -77.564358,
          -77.564358,
          -77.5647913,
          -77.564846,
          -77.565647,
          -77.565647,
          -77.565792,
          -77.565792,
          -77.565919,
          -77.565919,
          -77.566876,
          -77.566876,
          -77.567951,
          -77.567951,
          -77.570103,
          -77.570103,
          -77.5755665,
          -77.5756225,
          -77.5756874,
          -77.5756874,
          -77.5757011,
          -77.5757195,
          -77.5757525,
          -77.5759217,
          -77.576176,
          -77.576176,
          -77.574994,
          -77.574994,
          -77.576039,
          -77.576039,
          -77.577206,
          -77.577206,
          -77.577366,
          -77.577366,
          -77.577206,
          -77.577206,
          -77.576039,
          -77.576039,
          -77.574887,
          -77.574887,
          -77.57375,
          -77.57375,
          -77.572606,
          -77.572606,
          -77.571446,
          -77.571446,
          -77.57137,
          -77.57137,
          -77.570385,
          -77.570385,
          -77.57137,
          -77.57137,
          -77.57037,
          -77.57037,
          -77.571347,
          -77.571347,
          -77.57153,
          -77.57153,
          -77.57269,
          -77.57269,
          -77.573842,
          -77.573842,
          -77.5743351,
          -77.574994,
          -77.574994,
          -77.576176,
          -77.576176,
          -77.576741,
          -77.576741,
          -77.576176,
          -77.576176,
          -77.57655,
          -77.57655,
          -77.576993,
          -77.576993,
          -77.577206
         ],
         "marker": {
          "size": 10
         },
         "mode": "lines",
         "name": "Path",
         "type": "scattermapbox"
        },
        {
         "lat": [
          43.173879
         ],
         "lon": [
          -77.577206
         ],
         "marker": {
          "color": "red",
          "size": 12
         },
         "mode": "markers",
         "name": "Source",
         "type": "scattermapbox"
        },
        {
         "lat": [
          43.173879
         ],
         "lon": [
          -77.577206
         ],
         "marker": {
          "color": "green",
          "size": 12
         },
         "mode": "markers",
         "name": "Destination",
         "type": "scattermapbox"
        }
       ],
       "layout": {
        "mapbox": {
         "center": {
          "lat": 43.175465469230765,
          "lon": -77.5714097945055
         },
         "style": "carto-darkmatter",
         "zoom": 13
        },
        "margin": {
         "b": 0,
         "l": 0,
         "r": 0,
         "t": 0
        },
        "template": {
         "data": {
          "bar": [
           {
            "error_x": {
             "color": "#2a3f5f"
            },
            "error_y": {
             "color": "#2a3f5f"
            },
            "marker": {
             "line": {
              "color": "#E5ECF6",
              "width": 0.5
             },
             "pattern": {
              "fillmode": "overlay",
              "size": 10,
              "solidity": 0.2
             }
            },
            "type": "bar"
           }
          ],
          "barpolar": [
           {
            "marker": {
             "line": {
              "color": "#E5ECF6",
              "width": 0.5
             },
             "pattern": {
              "fillmode": "overlay",
              "size": 10,
              "solidity": 0.2
             }
            },
            "type": "barpolar"
           }
          ],
          "carpet": [
           {
            "aaxis": {
             "endlinecolor": "#2a3f5f",
             "gridcolor": "white",
             "linecolor": "white",
             "minorgridcolor": "white",
             "startlinecolor": "#2a3f5f"
            },
            "baxis": {
             "endlinecolor": "#2a3f5f",
             "gridcolor": "white",
             "linecolor": "white",
             "minorgridcolor": "white",
             "startlinecolor": "#2a3f5f"
            },
            "type": "carpet"
           }
          ],
          "choropleth": [
           {
            "colorbar": {
             "outlinewidth": 0,
             "ticks": ""
            },
            "type": "choropleth"
           }
          ],
          "contour": [
           {
            "colorbar": {
             "outlinewidth": 0,
             "ticks": ""
            },
            "colorscale": [
             [
              0,
              "#0d0887"
             ],
             [
              0.1111111111111111,
              "#46039f"
             ],
             [
              0.2222222222222222,
              "#7201a8"
             ],
             [
              0.3333333333333333,
              "#9c179e"
             ],
             [
              0.4444444444444444,
              "#bd3786"
             ],
             [
              0.5555555555555556,
              "#d8576b"
             ],
             [
              0.6666666666666666,
              "#ed7953"
             ],
             [
              0.7777777777777778,
              "#fb9f3a"
             ],
             [
              0.8888888888888888,
              "#fdca26"
             ],
             [
              1,
              "#f0f921"
             ]
            ],
            "type": "contour"
           }
          ],
          "contourcarpet": [
           {
            "colorbar": {
             "outlinewidth": 0,
             "ticks": ""
            },
            "type": "contourcarpet"
           }
          ],
          "heatmap": [
           {
            "colorbar": {
             "outlinewidth": 0,
             "ticks": ""
            },
            "colorscale": [
             [
              0,
              "#0d0887"
             ],
             [
              0.1111111111111111,
              "#46039f"
             ],
             [
              0.2222222222222222,
              "#7201a8"
             ],
             [
              0.3333333333333333,
              "#9c179e"
             ],
             [
              0.4444444444444444,
              "#bd3786"
             ],
             [
              0.5555555555555556,
              "#d8576b"
             ],
             [
              0.6666666666666666,
              "#ed7953"
             ],
             [
              0.7777777777777778,
              "#fb9f3a"
             ],
             [
              0.8888888888888888,
              "#fdca26"
             ],
             [
              1,
              "#f0f921"
             ]
            ],
            "type": "heatmap"
           }
          ],
          "heatmapgl": [
           {
            "colorbar": {
             "outlinewidth": 0,
             "ticks": ""
            },
            "colorscale": [
             [
              0,
              "#0d0887"
             ],
             [
              0.1111111111111111,
              "#46039f"
             ],
             [
              0.2222222222222222,
              "#7201a8"
             ],
             [
              0.3333333333333333,
              "#9c179e"
             ],
             [
              0.4444444444444444,
              "#bd3786"
             ],
             [
              0.5555555555555556,
              "#d8576b"
             ],
             [
              0.6666666666666666,
              "#ed7953"
             ],
             [
              0.7777777777777778,
              "#fb9f3a"
             ],
             [
              0.8888888888888888,
              "#fdca26"
             ],
             [
              1,
              "#f0f921"
             ]
            ],
            "type": "heatmapgl"
           }
          ],
          "histogram": [
           {
            "marker": {
             "pattern": {
              "fillmode": "overlay",
              "size": 10,
              "solidity": 0.2
             }
            },
            "type": "histogram"
           }
          ],
          "histogram2d": [
           {
            "colorbar": {
             "outlinewidth": 0,
             "ticks": ""
            },
            "colorscale": [
             [
              0,
              "#0d0887"
             ],
             [
              0.1111111111111111,
              "#46039f"
             ],
             [
              0.2222222222222222,
              "#7201a8"
             ],
             [
              0.3333333333333333,
              "#9c179e"
             ],
             [
              0.4444444444444444,
              "#bd3786"
             ],
             [
              0.5555555555555556,
              "#d8576b"
             ],
             [
              0.6666666666666666,
              "#ed7953"
             ],
             [
              0.7777777777777778,
              "#fb9f3a"
             ],
             [
              0.8888888888888888,
              "#fdca26"
             ],
             [
              1,
              "#f0f921"
             ]
            ],
            "type": "histogram2d"
           }
          ],
          "histogram2dcontour": [
           {
            "colorbar": {
             "outlinewidth": 0,
             "ticks": ""
            },
            "colorscale": [
             [
              0,
              "#0d0887"
             ],
             [
              0.1111111111111111,
              "#46039f"
             ],
             [
              0.2222222222222222,
              "#7201a8"
             ],
             [
              0.3333333333333333,
              "#9c179e"
             ],
             [
              0.4444444444444444,
              "#bd3786"
             ],
             [
              0.5555555555555556,
              "#d8576b"
             ],
             [
              0.6666666666666666,
              "#ed7953"
             ],
             [
              0.7777777777777778,
              "#fb9f3a"
             ],
             [
              0.8888888888888888,
              "#fdca26"
             ],
             [
              1,
              "#f0f921"
             ]
            ],
            "type": "histogram2dcontour"
           }
          ],
          "mesh3d": [
           {
            "colorbar": {
             "outlinewidth": 0,
             "ticks": ""
            },
            "type": "mesh3d"
           }
          ],
          "parcoords": [
           {
            "line": {
             "colorbar": {
              "outlinewidth": 0,
              "ticks": ""
             }
            },
            "type": "parcoords"
           }
          ],
          "pie": [
           {
            "automargin": true,
            "type": "pie"
           }
          ],
          "scatter": [
           {
            "marker": {
             "colorbar": {
              "outlinewidth": 0,
              "ticks": ""
             }
            },
            "type": "scatter"
           }
          ],
          "scatter3d": [
           {
            "line": {
             "colorbar": {
              "outlinewidth": 0,
              "ticks": ""
             }
            },
            "marker": {
             "colorbar": {
              "outlinewidth": 0,
              "ticks": ""
             }
            },
            "type": "scatter3d"
           }
          ],
          "scattercarpet": [
           {
            "marker": {
             "colorbar": {
              "outlinewidth": 0,
              "ticks": ""
             }
            },
            "type": "scattercarpet"
           }
          ],
          "scattergeo": [
           {
            "marker": {
             "colorbar": {
              "outlinewidth": 0,
              "ticks": ""
             }
            },
            "type": "scattergeo"
           }
          ],
          "scattergl": [
           {
            "marker": {
             "colorbar": {
              "outlinewidth": 0,
              "ticks": ""
             }
            },
            "type": "scattergl"
           }
          ],
          "scattermapbox": [
           {
            "marker": {
             "colorbar": {
              "outlinewidth": 0,
              "ticks": ""
             }
            },
            "type": "scattermapbox"
           }
          ],
          "scatterpolar": [
           {
            "marker": {
             "colorbar": {
              "outlinewidth": 0,
              "ticks": ""
             }
            },
            "type": "scatterpolar"
           }
          ],
          "scatterpolargl": [
           {
            "marker": {
             "colorbar": {
              "outlinewidth": 0,
              "ticks": ""
             }
            },
            "type": "scatterpolargl"
           }
          ],
          "scatterternary": [
           {
            "marker": {
             "colorbar": {
              "outlinewidth": 0,
              "ticks": ""
             }
            },
            "type": "scatterternary"
           }
          ],
          "surface": [
           {
            "colorbar": {
             "outlinewidth": 0,
             "ticks": ""
            },
            "colorscale": [
             [
              0,
              "#0d0887"
             ],
             [
              0.1111111111111111,
              "#46039f"
             ],
             [
              0.2222222222222222,
              "#7201a8"
             ],
             [
              0.3333333333333333,
              "#9c179e"
             ],
             [
              0.4444444444444444,
              "#bd3786"
             ],
             [
              0.5555555555555556,
              "#d8576b"
             ],
             [
              0.6666666666666666,
              "#ed7953"
             ],
             [
              0.7777777777777778,
              "#fb9f3a"
             ],
             [
              0.8888888888888888,
              "#fdca26"
             ],
             [
              1,
              "#f0f921"
             ]
            ],
            "type": "surface"
           }
          ],
          "table": [
           {
            "cells": {
             "fill": {
              "color": "#EBF0F8"
             },
             "line": {
              "color": "white"
             }
            },
            "header": {
             "fill": {
              "color": "#C8D4E3"
             },
             "line": {
              "color": "white"
             }
            },
            "type": "table"
           }
          ]
         },
         "layout": {
          "annotationdefaults": {
           "arrowcolor": "#2a3f5f",
           "arrowhead": 0,
           "arrowwidth": 1
          },
          "autotypenumbers": "strict",
          "coloraxis": {
           "colorbar": {
            "outlinewidth": 0,
            "ticks": ""
           }
          },
          "colorscale": {
           "diverging": [
            [
             0,
             "#8e0152"
            ],
            [
             0.1,
             "#c51b7d"
            ],
            [
             0.2,
             "#de77ae"
            ],
            [
             0.3,
             "#f1b6da"
            ],
            [
             0.4,
             "#fde0ef"
            ],
            [
             0.5,
             "#f7f7f7"
            ],
            [
             0.6,
             "#e6f5d0"
            ],
            [
             0.7,
             "#b8e186"
            ],
            [
             0.8,
             "#7fbc41"
            ],
            [
             0.9,
             "#4d9221"
            ],
            [
             1,
             "#276419"
            ]
           ],
           "sequential": [
            [
             0,
             "#0d0887"
            ],
            [
             0.1111111111111111,
             "#46039f"
            ],
            [
             0.2222222222222222,
             "#7201a8"
            ],
            [
             0.3333333333333333,
             "#9c179e"
            ],
            [
             0.4444444444444444,
             "#bd3786"
            ],
            [
             0.5555555555555556,
             "#d8576b"
            ],
            [
             0.6666666666666666,
             "#ed7953"
            ],
            [
             0.7777777777777778,
             "#fb9f3a"
            ],
            [
             0.8888888888888888,
             "#fdca26"
            ],
            [
             1,
             "#f0f921"
            ]
           ],
           "sequentialminus": [
            [
             0,
             "#0d0887"
            ],
            [
             0.1111111111111111,
             "#46039f"
            ],
            [
             0.2222222222222222,
             "#7201a8"
            ],
            [
             0.3333333333333333,
             "#9c179e"
            ],
            [
             0.4444444444444444,
             "#bd3786"
            ],
            [
             0.5555555555555556,
             "#d8576b"
            ],
            [
             0.6666666666666666,
             "#ed7953"
            ],
            [
             0.7777777777777778,
             "#fb9f3a"
            ],
            [
             0.8888888888888888,
             "#fdca26"
            ],
            [
             1,
             "#f0f921"
            ]
           ]
          },
          "colorway": [
           "#636efa",
           "#EF553B",
           "#00cc96",
           "#ab63fa",
           "#FFA15A",
           "#19d3f3",
           "#FF6692",
           "#B6E880",
           "#FF97FF",
           "#FECB52"
          ],
          "font": {
           "color": "#2a3f5f"
          },
          "geo": {
           "bgcolor": "white",
           "lakecolor": "white",
           "landcolor": "#E5ECF6",
           "showlakes": true,
           "showland": true,
           "subunitcolor": "white"
          },
          "hoverlabel": {
           "align": "left"
          },
          "hovermode": "closest",
          "mapbox": {
           "style": "light"
          },
          "paper_bgcolor": "white",
          "plot_bgcolor": "#E5ECF6",
          "polar": {
           "angularaxis": {
            "gridcolor": "white",
            "linecolor": "white",
            "ticks": ""
           },
           "bgcolor": "#E5ECF6",
           "radialaxis": {
            "gridcolor": "white",
            "linecolor": "white",
            "ticks": ""
           }
          },
          "scene": {
           "xaxis": {
            "backgroundcolor": "#E5ECF6",
            "gridcolor": "white",
            "gridwidth": 2,
            "linecolor": "white",
            "showbackground": true,
            "ticks": "",
            "zerolinecolor": "white"
           },
           "yaxis": {
            "backgroundcolor": "#E5ECF6",
            "gridcolor": "white",
            "gridwidth": 2,
            "linecolor": "white",
            "showbackground": true,
            "ticks": "",
            "zerolinecolor": "white"
           },
           "zaxis": {
            "backgroundcolor": "#E5ECF6",
            "gridcolor": "white",
            "gridwidth": 2,
            "linecolor": "white",
            "showbackground": true,
            "ticks": "",
            "zerolinecolor": "white"
           }
          },
          "shapedefaults": {
           "line": {
            "color": "#2a3f5f"
           }
          },
          "ternary": {
           "aaxis": {
            "gridcolor": "white",
            "linecolor": "white",
            "ticks": ""
           },
           "baxis": {
            "gridcolor": "white",
            "linecolor": "white",
            "ticks": ""
           },
           "bgcolor": "#E5ECF6",
           "caxis": {
            "gridcolor": "white",
            "linecolor": "white",
            "ticks": ""
           }
          },
          "title": {
           "x": 0.05
          },
          "xaxis": {
           "automargin": true,
           "gridcolor": "white",
           "linecolor": "white",
           "ticks": "",
           "title": {
            "standoff": 15
           },
           "zerolinecolor": "white",
           "zerolinewidth": 2
          },
          "yaxis": {
           "automargin": true,
           "gridcolor": "white",
           "linecolor": "white",
           "ticks": "",
           "title": {
            "standoff": 15
           },
           "zerolinecolor": "white",
           "zerolinewidth": 2
          }
         }
        }
       }
      },
      "text/html": [
       "<div>                            <div id=\"743c8ef9-84b6-49f9-9f09-d02f4a24a1f1\" class=\"plotly-graph-div\" style=\"height:525px; width:100%;\"></div>            <script type=\"text/javascript\">                require([\"plotly\"], function(Plotly) {                    window.PLOTLYENV=window.PLOTLYENV || {};                                    if (document.getElementById(\"743c8ef9-84b6-49f9-9f09-d02f4a24a1f1\")) {                    Plotly.newPlot(                        \"743c8ef9-84b6-49f9-9f09-d02f4a24a1f1\",                        [{\"lat\":[43.173879,43.173566,43.173566,43.173879,43.173879,43.173902,43.173902,43.173917,43.173917,43.17394,43.17394,43.173963,43.173963,43.173982,43.173982,43.174127,43.174127,43.17415,43.17415,43.174127,43.174127,43.175988,43.175988,43.175958,43.175958,43.175954,43.175954,43.175916,43.175916,43.175874,43.175874,43.1758594,43.17584,43.17584,43.175805,43.175805,43.175786,43.175786,43.175805,43.175805,43.175096,43.175096,43.174283,43.174283,43.173879,43.173879,43.173902,43.173902,43.17584,43.17584,43.175805,43.175805,43.1762868,43.1766072,43.1766761,43.1767346,43.1767907,43.1767907,43.1767853,43.1767833,43.176939,43.176939,43.17703,43.17703,43.177526,43.177526,43.177973,43.177973,43.17613,43.17613,43.176137,43.176137,43.17616,43.1761618,43.176176,43.176176,43.176199,43.176199,43.176206,43.176206,43.176229,43.176229,43.176236,43.176236,43.174348,43.174348,43.174379,43.174379,43.174348,43.174348,43.174319,43.174319,43.174287,43.174287,43.176176,43.176176,43.1761618,43.17616,43.176137,43.176137,43.17613,43.17613,43.176137,43.176137,43.17616,43.1761618,43.176176,43.176176,43.1761618,43.17616,43.176137,43.176137,43.17613,43.17613,43.177973,43.177973,43.177526,43.177526,43.17703,43.17703,43.176939,43.176939,43.1767833,43.1767853,43.1767907,43.1767907,43.1767346,43.1766761,43.1766072,43.1762868,43.175805,43.175805,43.17584,43.17584,43.173902,43.173902,43.173879,43.173879,43.173566,43.173566,43.173879,43.173879,43.173902,43.173902,43.173917,43.173917,43.17394,43.17394,43.173963,43.173963,43.173982,43.173982,43.174127,43.174127,43.17415,43.17415,43.174127,43.174127,43.175988,43.175988,43.175958,43.175958,43.175954,43.175954,43.175916,43.175916,43.175874,43.175874,43.1758594,43.17584,43.17584,43.175805,43.175805,43.175786,43.175786,43.175805,43.175805,43.175096,43.175096,43.174283,43.174283,43.173879],\"line\":{\"color\":\"grey\",\"width\":4.5},\"lon\":[-77.577206,-77.577366,-77.577366,-77.577206,-77.577206,-77.576039,-77.576039,-77.574887,-77.574887,-77.57375,-77.57375,-77.572606,-77.572606,-77.571446,-77.571446,-77.57137,-77.57137,-77.570385,-77.570385,-77.57137,-77.57137,-77.57037,-77.57037,-77.571347,-77.571347,-77.57153,-77.57153,-77.57269,-77.57269,-77.573842,-77.573842,-77.5743351,-77.574994,-77.574994,-77.576176,-77.576176,-77.576741,-77.576741,-77.576176,-77.576176,-77.57655,-77.57655,-77.576993,-77.576993,-77.577206,-77.577206,-77.576039,-77.576039,-77.574994,-77.574994,-77.576176,-77.576176,-77.5759217,-77.5757525,-77.5757195,-77.5757011,-77.5756874,-77.5756874,-77.5756225,-77.5755665,-77.570103,-77.570103,-77.567951,-77.567951,-77.566876,-77.566876,-77.565919,-77.565919,-77.565792,-77.565792,-77.565647,-77.565647,-77.564846,-77.5647913,-77.564358,-77.564358,-77.563633,-77.563633,-77.563332,-77.563332,-77.562557,-77.562557,-77.562315,-77.562315,-77.563328,-77.563328,-77.562298,-77.562298,-77.563328,-77.563328,-77.564366,-77.564366,-77.565426,-77.565426,-77.564358,-77.564358,-77.5647913,-77.564846,-77.565647,-77.565647,-77.565792,-77.565792,-77.565647,-77.565647,-77.564846,-77.5647913,-77.564358,-77.564358,-77.5647913,-77.564846,-77.565647,-77.565647,-77.565792,-77.565792,-77.565919,-77.565919,-77.566876,-77.566876,-77.567951,-77.567951,-77.570103,-77.570103,-77.5755665,-77.5756225,-77.5756874,-77.5756874,-77.5757011,-77.5757195,-77.5757525,-77.5759217,-77.576176,-77.576176,-77.574994,-77.574994,-77.576039,-77.576039,-77.577206,-77.577206,-77.577366,-77.577366,-77.577206,-77.577206,-77.576039,-77.576039,-77.574887,-77.574887,-77.57375,-77.57375,-77.572606,-77.572606,-77.571446,-77.571446,-77.57137,-77.57137,-77.570385,-77.570385,-77.57137,-77.57137,-77.57037,-77.57037,-77.571347,-77.571347,-77.57153,-77.57153,-77.57269,-77.57269,-77.573842,-77.573842,-77.5743351,-77.574994,-77.574994,-77.576176,-77.576176,-77.576741,-77.576741,-77.576176,-77.576176,-77.57655,-77.57655,-77.576993,-77.576993,-77.577206],\"marker\":{\"size\":10},\"mode\":\"lines\",\"name\":\"Path\",\"type\":\"scattermapbox\"},{\"lat\":[43.173879],\"lon\":[-77.577206],\"marker\":{\"color\":\"red\",\"size\":12},\"mode\":\"markers\",\"name\":\"Source\",\"type\":\"scattermapbox\"},{\"lat\":[43.173879],\"lon\":[-77.577206],\"marker\":{\"color\":\"green\",\"size\":12},\"mode\":\"markers\",\"name\":\"Destination\",\"type\":\"scattermapbox\"}],                        {\"mapbox\":{\"center\":{\"lat\":43.175465469230765,\"lon\":-77.5714097945055},\"style\":\"carto-darkmatter\",\"zoom\":13},\"margin\":{\"b\":0,\"l\":0,\"r\":0,\"t\":0},\"template\":{\"data\":{\"bar\":[{\"error_x\":{\"color\":\"#2a3f5f\"},\"error_y\":{\"color\":\"#2a3f5f\"},\"marker\":{\"line\":{\"color\":\"#E5ECF6\",\"width\":0.5},\"pattern\":{\"fillmode\":\"overlay\",\"size\":10,\"solidity\":0.2}},\"type\":\"bar\"}],\"barpolar\":[{\"marker\":{\"line\":{\"color\":\"#E5ECF6\",\"width\":0.5},\"pattern\":{\"fillmode\":\"overlay\",\"size\":10,\"solidity\":0.2}},\"type\":\"barpolar\"}],\"carpet\":[{\"aaxis\":{\"endlinecolor\":\"#2a3f5f\",\"gridcolor\":\"white\",\"linecolor\":\"white\",\"minorgridcolor\":\"white\",\"startlinecolor\":\"#2a3f5f\"},\"baxis\":{\"endlinecolor\":\"#2a3f5f\",\"gridcolor\":\"white\",\"linecolor\":\"white\",\"minorgridcolor\":\"white\",\"startlinecolor\":\"#2a3f5f\"},\"type\":\"carpet\"}],\"choropleth\":[{\"colorbar\":{\"outlinewidth\":0,\"ticks\":\"\"},\"type\":\"choropleth\"}],\"contour\":[{\"colorbar\":{\"outlinewidth\":0,\"ticks\":\"\"},\"colorscale\":[[0.0,\"#0d0887\"],[0.1111111111111111,\"#46039f\"],[0.2222222222222222,\"#7201a8\"],[0.3333333333333333,\"#9c179e\"],[0.4444444444444444,\"#bd3786\"],[0.5555555555555556,\"#d8576b\"],[0.6666666666666666,\"#ed7953\"],[0.7777777777777778,\"#fb9f3a\"],[0.8888888888888888,\"#fdca26\"],[1.0,\"#f0f921\"]],\"type\":\"contour\"}],\"contourcarpet\":[{\"colorbar\":{\"outlinewidth\":0,\"ticks\":\"\"},\"type\":\"contourcarpet\"}],\"heatmap\":[{\"colorbar\":{\"outlinewidth\":0,\"ticks\":\"\"},\"colorscale\":[[0.0,\"#0d0887\"],[0.1111111111111111,\"#46039f\"],[0.2222222222222222,\"#7201a8\"],[0.3333333333333333,\"#9c179e\"],[0.4444444444444444,\"#bd3786\"],[0.5555555555555556,\"#d8576b\"],[0.6666666666666666,\"#ed7953\"],[0.7777777777777778,\"#fb9f3a\"],[0.8888888888888888,\"#fdca26\"],[1.0,\"#f0f921\"]],\"type\":\"heatmap\"}],\"heatmapgl\":[{\"colorbar\":{\"outlinewidth\":0,\"ticks\":\"\"},\"colorscale\":[[0.0,\"#0d0887\"],[0.1111111111111111,\"#46039f\"],[0.2222222222222222,\"#7201a8\"],[0.3333333333333333,\"#9c179e\"],[0.4444444444444444,\"#bd3786\"],[0.5555555555555556,\"#d8576b\"],[0.6666666666666666,\"#ed7953\"],[0.7777777777777778,\"#fb9f3a\"],[0.8888888888888888,\"#fdca26\"],[1.0,\"#f0f921\"]],\"type\":\"heatmapgl\"}],\"histogram\":[{\"marker\":{\"pattern\":{\"fillmode\":\"overlay\",\"size\":10,\"solidity\":0.2}},\"type\":\"histogram\"}],\"histogram2d\":[{\"colorbar\":{\"outlinewidth\":0,\"ticks\":\"\"},\"colorscale\":[[0.0,\"#0d0887\"],[0.1111111111111111,\"#46039f\"],[0.2222222222222222,\"#7201a8\"],[0.3333333333333333,\"#9c179e\"],[0.4444444444444444,\"#bd3786\"],[0.5555555555555556,\"#d8576b\"],[0.6666666666666666,\"#ed7953\"],[0.7777777777777778,\"#fb9f3a\"],[0.8888888888888888,\"#fdca26\"],[1.0,\"#f0f921\"]],\"type\":\"histogram2d\"}],\"histogram2dcontour\":[{\"colorbar\":{\"outlinewidth\":0,\"ticks\":\"\"},\"colorscale\":[[0.0,\"#0d0887\"],[0.1111111111111111,\"#46039f\"],[0.2222222222222222,\"#7201a8\"],[0.3333333333333333,\"#9c179e\"],[0.4444444444444444,\"#bd3786\"],[0.5555555555555556,\"#d8576b\"],[0.6666666666666666,\"#ed7953\"],[0.7777777777777778,\"#fb9f3a\"],[0.8888888888888888,\"#fdca26\"],[1.0,\"#f0f921\"]],\"type\":\"histogram2dcontour\"}],\"mesh3d\":[{\"colorbar\":{\"outlinewidth\":0,\"ticks\":\"\"},\"type\":\"mesh3d\"}],\"parcoords\":[{\"line\":{\"colorbar\":{\"outlinewidth\":0,\"ticks\":\"\"}},\"type\":\"parcoords\"}],\"pie\":[{\"automargin\":true,\"type\":\"pie\"}],\"scatter\":[{\"marker\":{\"colorbar\":{\"outlinewidth\":0,\"ticks\":\"\"}},\"type\":\"scatter\"}],\"scatter3d\":[{\"line\":{\"colorbar\":{\"outlinewidth\":0,\"ticks\":\"\"}},\"marker\":{\"colorbar\":{\"outlinewidth\":0,\"ticks\":\"\"}},\"type\":\"scatter3d\"}],\"scattercarpet\":[{\"marker\":{\"colorbar\":{\"outlinewidth\":0,\"ticks\":\"\"}},\"type\":\"scattercarpet\"}],\"scattergeo\":[{\"marker\":{\"colorbar\":{\"outlinewidth\":0,\"ticks\":\"\"}},\"type\":\"scattergeo\"}],\"scattergl\":[{\"marker\":{\"colorbar\":{\"outlinewidth\":0,\"ticks\":\"\"}},\"type\":\"scattergl\"}],\"scattermapbox\":[{\"marker\":{\"colorbar\":{\"outlinewidth\":0,\"ticks\":\"\"}},\"type\":\"scattermapbox\"}],\"scatterpolar\":[{\"marker\":{\"colorbar\":{\"outlinewidth\":0,\"ticks\":\"\"}},\"type\":\"scatterpolar\"}],\"scatterpolargl\":[{\"marker\":{\"colorbar\":{\"outlinewidth\":0,\"ticks\":\"\"}},\"type\":\"scatterpolargl\"}],\"scatterternary\":[{\"marker\":{\"colorbar\":{\"outlinewidth\":0,\"ticks\":\"\"}},\"type\":\"scatterternary\"}],\"surface\":[{\"colorbar\":{\"outlinewidth\":0,\"ticks\":\"\"},\"colorscale\":[[0.0,\"#0d0887\"],[0.1111111111111111,\"#46039f\"],[0.2222222222222222,\"#7201a8\"],[0.3333333333333333,\"#9c179e\"],[0.4444444444444444,\"#bd3786\"],[0.5555555555555556,\"#d8576b\"],[0.6666666666666666,\"#ed7953\"],[0.7777777777777778,\"#fb9f3a\"],[0.8888888888888888,\"#fdca26\"],[1.0,\"#f0f921\"]],\"type\":\"surface\"}],\"table\":[{\"cells\":{\"fill\":{\"color\":\"#EBF0F8\"},\"line\":{\"color\":\"white\"}},\"header\":{\"fill\":{\"color\":\"#C8D4E3\"},\"line\":{\"color\":\"white\"}},\"type\":\"table\"}]},\"layout\":{\"annotationdefaults\":{\"arrowcolor\":\"#2a3f5f\",\"arrowhead\":0,\"arrowwidth\":1},\"autotypenumbers\":\"strict\",\"coloraxis\":{\"colorbar\":{\"outlinewidth\":0,\"ticks\":\"\"}},\"colorscale\":{\"diverging\":[[0,\"#8e0152\"],[0.1,\"#c51b7d\"],[0.2,\"#de77ae\"],[0.3,\"#f1b6da\"],[0.4,\"#fde0ef\"],[0.5,\"#f7f7f7\"],[0.6,\"#e6f5d0\"],[0.7,\"#b8e186\"],[0.8,\"#7fbc41\"],[0.9,\"#4d9221\"],[1,\"#276419\"]],\"sequential\":[[0.0,\"#0d0887\"],[0.1111111111111111,\"#46039f\"],[0.2222222222222222,\"#7201a8\"],[0.3333333333333333,\"#9c179e\"],[0.4444444444444444,\"#bd3786\"],[0.5555555555555556,\"#d8576b\"],[0.6666666666666666,\"#ed7953\"],[0.7777777777777778,\"#fb9f3a\"],[0.8888888888888888,\"#fdca26\"],[1.0,\"#f0f921\"]],\"sequentialminus\":[[0.0,\"#0d0887\"],[0.1111111111111111,\"#46039f\"],[0.2222222222222222,\"#7201a8\"],[0.3333333333333333,\"#9c179e\"],[0.4444444444444444,\"#bd3786\"],[0.5555555555555556,\"#d8576b\"],[0.6666666666666666,\"#ed7953\"],[0.7777777777777778,\"#fb9f3a\"],[0.8888888888888888,\"#fdca26\"],[1.0,\"#f0f921\"]]},\"colorway\":[\"#636efa\",\"#EF553B\",\"#00cc96\",\"#ab63fa\",\"#FFA15A\",\"#19d3f3\",\"#FF6692\",\"#B6E880\",\"#FF97FF\",\"#FECB52\"],\"font\":{\"color\":\"#2a3f5f\"},\"geo\":{\"bgcolor\":\"white\",\"lakecolor\":\"white\",\"landcolor\":\"#E5ECF6\",\"showlakes\":true,\"showland\":true,\"subunitcolor\":\"white\"},\"hoverlabel\":{\"align\":\"left\"},\"hovermode\":\"closest\",\"mapbox\":{\"style\":\"light\"},\"paper_bgcolor\":\"white\",\"plot_bgcolor\":\"#E5ECF6\",\"polar\":{\"angularaxis\":{\"gridcolor\":\"white\",\"linecolor\":\"white\",\"ticks\":\"\"},\"bgcolor\":\"#E5ECF6\",\"radialaxis\":{\"gridcolor\":\"white\",\"linecolor\":\"white\",\"ticks\":\"\"}},\"scene\":{\"xaxis\":{\"backgroundcolor\":\"#E5ECF6\",\"gridcolor\":\"white\",\"gridwidth\":2,\"linecolor\":\"white\",\"showbackground\":true,\"ticks\":\"\",\"zerolinecolor\":\"white\"},\"yaxis\":{\"backgroundcolor\":\"#E5ECF6\",\"gridcolor\":\"white\",\"gridwidth\":2,\"linecolor\":\"white\",\"showbackground\":true,\"ticks\":\"\",\"zerolinecolor\":\"white\"},\"zaxis\":{\"backgroundcolor\":\"#E5ECF6\",\"gridcolor\":\"white\",\"gridwidth\":2,\"linecolor\":\"white\",\"showbackground\":true,\"ticks\":\"\",\"zerolinecolor\":\"white\"}},\"shapedefaults\":{\"line\":{\"color\":\"#2a3f5f\"}},\"ternary\":{\"aaxis\":{\"gridcolor\":\"white\",\"linecolor\":\"white\",\"ticks\":\"\"},\"baxis\":{\"gridcolor\":\"white\",\"linecolor\":\"white\",\"ticks\":\"\"},\"bgcolor\":\"#E5ECF6\",\"caxis\":{\"gridcolor\":\"white\",\"linecolor\":\"white\",\"ticks\":\"\"}},\"title\":{\"x\":0.05},\"xaxis\":{\"automargin\":true,\"gridcolor\":\"white\",\"linecolor\":\"white\",\"ticks\":\"\",\"title\":{\"standoff\":15},\"zerolinecolor\":\"white\",\"zerolinewidth\":2},\"yaxis\":{\"automargin\":true,\"gridcolor\":\"white\",\"linecolor\":\"white\",\"ticks\":\"\",\"title\":{\"standoff\":15},\"zerolinecolor\":\"white\",\"zerolinewidth\":2}}}},                        {\"responsive\": true}                    ).then(function(){\n",
       "                            \n",
       "var gd = document.getElementById('743c8ef9-84b6-49f9-9f09-d02f4a24a1f1');\n",
       "var x = new MutationObserver(function (mutations, observer) {{\n",
       "        var display = window.getComputedStyle(gd).display;\n",
       "        if (!display || display === 'none') {{\n",
       "            console.log([gd, 'removed!']);\n",
       "            Plotly.purge(gd);\n",
       "            observer.disconnect();\n",
       "        }}\n",
       "}});\n",
       "\n",
       "// Listen for the removal of the full notebook cells\n",
       "var notebookContainer = gd.closest('#notebook-container');\n",
       "if (notebookContainer) {{\n",
       "    x.observe(notebookContainer, {childList: true});\n",
       "}}\n",
       "\n",
       "// Listen for the clearing of the current output cell\n",
       "var outputEl = gd.closest('.output');\n",
       "if (outputEl) {{\n",
       "    x.observe(outputEl, {childList: true});\n",
       "}}\n",
       "\n",
       "                        })                };                });            </script>        </div>"
      ]
     },
     "metadata": {},
     "output_type": "display_data"
    }
   ],
   "source": [
    "plot_path(lat2, long2, origin_point, destination_point)"
   ]
  },
  {
   "cell_type": "code",
   "execution_count": null,
   "id": "convenient-finland",
   "metadata": {},
   "outputs": [],
   "source": []
  },
  {
   "cell_type": "code",
   "execution_count": null,
   "id": "collective-straight",
   "metadata": {},
   "outputs": [],
   "source": []
  }
 ],
 "metadata": {
  "kernelspec": {
   "display_name": "Python 3 (ipykernel)",
   "language": "python",
   "name": "python3"
  },
  "language_info": {
   "codemirror_mode": {
    "name": "ipython",
    "version": 3
   },
   "file_extension": ".py",
   "mimetype": "text/x-python",
   "name": "python",
   "nbconvert_exporter": "python",
   "pygments_lexer": "ipython3",
   "version": "3.9.7"
  }
 },
 "nbformat": 4,
 "nbformat_minor": 5
}
