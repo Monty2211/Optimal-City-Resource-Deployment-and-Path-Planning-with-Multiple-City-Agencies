{
 "cells": [
  {
   "cell_type": "code",
   "execution_count": 1,
   "id": "trained-watch",
   "metadata": {},
   "outputs": [],
   "source": [
    "import pandas as pd\n",
    "from geopy import distance\n",
    "import requests\n",
    "import json\n",
    "import datetime\n",
    "import math\n",
    "import itertools\n",
    "import numpy as np"
   ]
  },
  {
   "cell_type": "code",
   "execution_count": 2,
   "id": "alien-alexander",
   "metadata": {},
   "outputs": [],
   "source": [
    "df = pd.read_csv(\"concap.csv\")"
   ]
  },
  {
   "cell_type": "code",
   "execution_count": 3,
   "id": "natural-water",
   "metadata": {},
   "outputs": [
    {
     "data": {
      "text/html": [
       "<div>\n",
       "<style scoped>\n",
       "    .dataframe tbody tr th:only-of-type {\n",
       "        vertical-align: middle;\n",
       "    }\n",
       "\n",
       "    .dataframe tbody tr th {\n",
       "        vertical-align: top;\n",
       "    }\n",
       "\n",
       "    .dataframe thead th {\n",
       "        text-align: right;\n",
       "    }\n",
       "</style>\n",
       "<table border=\"1\" class=\"dataframe\">\n",
       "  <thead>\n",
       "    <tr style=\"text-align: right;\">\n",
       "      <th></th>\n",
       "      <th>Country</th>\n",
       "      <th>capital</th>\n",
       "      <th>lat</th>\n",
       "      <th>lon</th>\n",
       "      <th>code</th>\n",
       "      <th>continent</th>\n",
       "    </tr>\n",
       "  </thead>\n",
       "  <tbody>\n",
       "    <tr>\n",
       "      <th>0</th>\n",
       "      <td>Somaliland</td>\n",
       "      <td>Hargeisa</td>\n",
       "      <td>9.550000</td>\n",
       "      <td>44.050000</td>\n",
       "      <td>NaN</td>\n",
       "      <td>Africa</td>\n",
       "    </tr>\n",
       "    <tr>\n",
       "      <th>1</th>\n",
       "      <td>South Georgia and South Sandwich Islands</td>\n",
       "      <td>King Edward Point</td>\n",
       "      <td>-54.283333</td>\n",
       "      <td>-36.500000</td>\n",
       "      <td>GS</td>\n",
       "      <td>Antarctica</td>\n",
       "    </tr>\n",
       "    <tr>\n",
       "      <th>2</th>\n",
       "      <td>French Southern and Antarctic Lands</td>\n",
       "      <td>Port-aux-Français</td>\n",
       "      <td>-49.350000</td>\n",
       "      <td>70.216667</td>\n",
       "      <td>TF</td>\n",
       "      <td>Antarctica</td>\n",
       "    </tr>\n",
       "    <tr>\n",
       "      <th>3</th>\n",
       "      <td>Palestine</td>\n",
       "      <td>Jerusalem</td>\n",
       "      <td>31.766667</td>\n",
       "      <td>35.233333</td>\n",
       "      <td>PS</td>\n",
       "      <td>Asia</td>\n",
       "    </tr>\n",
       "    <tr>\n",
       "      <th>4</th>\n",
       "      <td>Aland Islands</td>\n",
       "      <td>Mariehamn</td>\n",
       "      <td>60.116667</td>\n",
       "      <td>19.900000</td>\n",
       "      <td>AX</td>\n",
       "      <td>Europe</td>\n",
       "    </tr>\n",
       "    <tr>\n",
       "      <th>...</th>\n",
       "      <td>...</td>\n",
       "      <td>...</td>\n",
       "      <td>...</td>\n",
       "      <td>...</td>\n",
       "      <td>...</td>\n",
       "      <td>...</td>\n",
       "    </tr>\n",
       "    <tr>\n",
       "      <th>240</th>\n",
       "      <td>Northern Cyprus</td>\n",
       "      <td>North Nicosia</td>\n",
       "      <td>35.183333</td>\n",
       "      <td>33.366667</td>\n",
       "      <td>NaN</td>\n",
       "      <td>Europe</td>\n",
       "    </tr>\n",
       "    <tr>\n",
       "      <th>241</th>\n",
       "      <td>Hong Kong</td>\n",
       "      <td>NaN</td>\n",
       "      <td>0.000000</td>\n",
       "      <td>0.000000</td>\n",
       "      <td>HK</td>\n",
       "      <td>Asia</td>\n",
       "    </tr>\n",
       "    <tr>\n",
       "      <th>242</th>\n",
       "      <td>Heard Island and McDonald Islands</td>\n",
       "      <td>NaN</td>\n",
       "      <td>0.000000</td>\n",
       "      <td>0.000000</td>\n",
       "      <td>HM</td>\n",
       "      <td>Antarctica</td>\n",
       "    </tr>\n",
       "    <tr>\n",
       "      <th>243</th>\n",
       "      <td>British Indian Ocean Territory</td>\n",
       "      <td>Diego Garcia</td>\n",
       "      <td>-7.300000</td>\n",
       "      <td>72.400000</td>\n",
       "      <td>IO</td>\n",
       "      <td>Africa</td>\n",
       "    </tr>\n",
       "    <tr>\n",
       "      <th>244</th>\n",
       "      <td>Macau</td>\n",
       "      <td>NaN</td>\n",
       "      <td>0.000000</td>\n",
       "      <td>0.000000</td>\n",
       "      <td>MO</td>\n",
       "      <td>Asia</td>\n",
       "    </tr>\n",
       "  </tbody>\n",
       "</table>\n",
       "<p>245 rows × 6 columns</p>\n",
       "</div>"
      ],
      "text/plain": [
       "                                      Country            capital        lat  \\\n",
       "0                                  Somaliland           Hargeisa   9.550000   \n",
       "1    South Georgia and South Sandwich Islands  King Edward Point -54.283333   \n",
       "2         French Southern and Antarctic Lands  Port-aux-Français -49.350000   \n",
       "3                                   Palestine          Jerusalem  31.766667   \n",
       "4                               Aland Islands          Mariehamn  60.116667   \n",
       "..                                        ...                ...        ...   \n",
       "240                           Northern Cyprus      North Nicosia  35.183333   \n",
       "241                                 Hong Kong                NaN   0.000000   \n",
       "242         Heard Island and McDonald Islands                NaN   0.000000   \n",
       "243            British Indian Ocean Territory       Diego Garcia  -7.300000   \n",
       "244                                     Macau                NaN   0.000000   \n",
       "\n",
       "           lon code   continent  \n",
       "0    44.050000  NaN      Africa  \n",
       "1   -36.500000   GS  Antarctica  \n",
       "2    70.216667   TF  Antarctica  \n",
       "3    35.233333   PS        Asia  \n",
       "4    19.900000   AX      Europe  \n",
       "..         ...  ...         ...  \n",
       "240  33.366667  NaN      Europe  \n",
       "241   0.000000   HK        Asia  \n",
       "242   0.000000   HM  Antarctica  \n",
       "243  72.400000   IO      Africa  \n",
       "244   0.000000   MO        Asia  \n",
       "\n",
       "[245 rows x 6 columns]"
      ]
     },
     "execution_count": 3,
     "metadata": {},
     "output_type": "execute_result"
    }
   ],
   "source": [
    "df.rename(columns={\"CountryName\": \"Country\", \"CapitalName\": \"capital\", \"CapitalLatitude\": \"lat\", \"CapitalLongitude\": \"lon\", \"CountryCode\": \"code\", \"ContinentName\": \"continent\"}, inplace=True)\n",
    "df"
   ]
  },
  {
   "cell_type": "code",
   "execution_count": 4,
   "id": "difficult-aurora",
   "metadata": {},
   "outputs": [
    {
     "data": {
      "text/html": [
       "<div>\n",
       "<style scoped>\n",
       "    .dataframe tbody tr th:only-of-type {\n",
       "        vertical-align: middle;\n",
       "    }\n",
       "\n",
       "    .dataframe tbody tr th {\n",
       "        vertical-align: top;\n",
       "    }\n",
       "\n",
       "    .dataframe thead th {\n",
       "        text-align: right;\n",
       "    }\n",
       "</style>\n",
       "<table border=\"1\" class=\"dataframe\">\n",
       "  <thead>\n",
       "    <tr style=\"text-align: right;\">\n",
       "      <th></th>\n",
       "      <th>index</th>\n",
       "      <th>Country</th>\n",
       "      <th>capital</th>\n",
       "      <th>lat</th>\n",
       "      <th>lon</th>\n",
       "      <th>code</th>\n",
       "      <th>continent</th>\n",
       "    </tr>\n",
       "  </thead>\n",
       "  <tbody>\n",
       "    <tr>\n",
       "      <th>0</th>\n",
       "      <td>81</td>\n",
       "      <td>France</td>\n",
       "      <td>Paris</td>\n",
       "      <td>48.866667</td>\n",
       "      <td>2.333333</td>\n",
       "      <td>FR</td>\n",
       "      <td>Europe</td>\n",
       "    </tr>\n",
       "    <tr>\n",
       "      <th>1</th>\n",
       "      <td>110</td>\n",
       "      <td>Italy</td>\n",
       "      <td>Rome</td>\n",
       "      <td>41.900000</td>\n",
       "      <td>12.483333</td>\n",
       "      <td>IT</td>\n",
       "      <td>Europe</td>\n",
       "    </tr>\n",
       "  </tbody>\n",
       "</table>\n",
       "</div>"
      ],
      "text/plain": [
       "   index Country capital        lat        lon code continent\n",
       "0     81  France   Paris  48.866667   2.333333   FR    Europe\n",
       "1    110   Italy    Rome  41.900000  12.483333   IT    Europe"
      ]
     },
     "execution_count": 4,
     "metadata": {},
     "output_type": "execute_result"
    }
   ],
   "source": [
    "ropa = df[df[\"capital\"].isin([\"Rome\",\"Paris\"])].reset_index()\n",
    "cities = ropa.copy()\n",
    "cities"
   ]
  },
  {
   "cell_type": "code",
   "execution_count": 5,
   "id": "secret-joyce",
   "metadata": {},
   "outputs": [
    {
     "data": {
      "text/plain": [
       "(Distance(1107.8818760940028), 1107.8818760940028, 688.4058822066647)"
      ]
     },
     "execution_count": 5,
     "metadata": {},
     "output_type": "execute_result"
    }
   ],
   "source": [
    "d = distance.distance((cities.loc[0, \"lat\"], cities.loc[0, \"lon\"]), (cities.loc[1, \"lat\"], cities.loc[1, \"lon\"]))\n",
    "d, d.km, d.miles"
   ]
  },
  {
   "cell_type": "code",
   "execution_count": 6,
   "id": "simplified-little",
   "metadata": {},
   "outputs": [
    {
     "data": {
      "text/plain": [
       "1107.8818760940028"
      ]
     },
     "execution_count": 6,
     "metadata": {},
     "output_type": "execute_result"
    }
   ],
   "source": [
    "getattr(d, \"km\")"
   ]
  },
  {
   "cell_type": "code",
   "execution_count": 7,
   "id": "lonely-campbell",
   "metadata": {},
   "outputs": [
    {
     "data": {
      "text/html": [
       "<div>\n",
       "<style scoped>\n",
       "    .dataframe tbody tr th:only-of-type {\n",
       "        vertical-align: middle;\n",
       "    }\n",
       "\n",
       "    .dataframe tbody tr th {\n",
       "        vertical-align: top;\n",
       "    }\n",
       "\n",
       "    .dataframe thead th {\n",
       "        text-align: right;\n",
       "    }\n",
       "</style>\n",
       "<table border=\"1\" class=\"dataframe\">\n",
       "  <thead>\n",
       "    <tr style=\"text-align: right;\">\n",
       "      <th>measurement</th>\n",
       "      <th>feet</th>\n",
       "      <th>ft</th>\n",
       "      <th>kilometers</th>\n",
       "      <th>km</th>\n",
       "      <th>mi</th>\n",
       "      <th>miles</th>\n",
       "      <th>nautical</th>\n",
       "      <th>nm</th>\n",
       "    </tr>\n",
       "    <tr>\n",
       "      <th>method</th>\n",
       "      <th></th>\n",
       "      <th></th>\n",
       "      <th></th>\n",
       "      <th></th>\n",
       "      <th></th>\n",
       "      <th></th>\n",
       "      <th></th>\n",
       "      <th></th>\n",
       "    </tr>\n",
       "  </thead>\n",
       "  <tbody>\n",
       "    <tr>\n",
       "      <th>geodesic</th>\n",
       "      <td>3.634783e+06</td>\n",
       "      <td>3.634783e+06</td>\n",
       "      <td>1107.881876</td>\n",
       "      <td>1107.881876</td>\n",
       "      <td>688.405882</td>\n",
       "      <td>688.405882</td>\n",
       "      <td>598.208356</td>\n",
       "      <td>598.208356</td>\n",
       "    </tr>\n",
       "    <tr>\n",
       "      <th>great_circle</th>\n",
       "      <td>3.630457e+06</td>\n",
       "      <td>3.630457e+06</td>\n",
       "      <td>1106.563205</td>\n",
       "      <td>1106.563205</td>\n",
       "      <td>687.586498</td>\n",
       "      <td>687.586498</td>\n",
       "      <td>597.496331</td>\n",
       "      <td>597.496331</td>\n",
       "    </tr>\n",
       "  </tbody>\n",
       "</table>\n",
       "</div>"
      ],
      "text/plain": [
       "measurement           feet            ft   kilometers           km  \\\n",
       "method                                                               \n",
       "geodesic      3.634783e+06  3.634783e+06  1107.881876  1107.881876   \n",
       "great_circle  3.630457e+06  3.630457e+06  1106.563205  1106.563205   \n",
       "\n",
       "measurement           mi       miles    nautical          nm  \n",
       "method                                                        \n",
       "geodesic      688.405882  688.405882  598.208356  598.208356  \n",
       "great_circle  687.586498  687.586498  597.496331  597.496331  "
      ]
     },
     "execution_count": 7,
     "metadata": {},
     "output_type": "execute_result"
    }
   ],
   "source": [
    "results = []\n",
    "for f in [distance.distance, distance.great_circle, distance.geodesic]:\n",
    "    for mes in [\"kilometers\",\"km\",\"miles\",\"mi\",\"nautical\",\"nm\",\"feet\",\"ft\"]:\n",
    "        d = f((cities.loc[0, \"lat\"], cities.loc[0, \"lon\"]), (cities.loc[1, \"lat\"], cities.loc[1, \"lon\"]))\n",
    "        results.append({\"method\": f.__name__, \"measurement\": mes, \"value\": getattr(d, mes)})\n",
    "\n",
    "# show as dataframe\n",
    "results_df = pd.DataFrame(results)\n",
    "results_df.pivot_table(index=\"method\", columns=\"measurement\", values=\"value\")"
   ]
  },
  {
   "cell_type": "code",
   "execution_count": 8,
   "id": "powerful-hindu",
   "metadata": {},
   "outputs": [],
   "source": [
    "cities = ropa.copy()\n",
    "r = requests.get(f\"\"\"http://router.project-osrm.org/route/v1/car/{cities.loc[0, \"lon\"]},{cities.loc[0, \"lat\"]};{cities.loc[1, \"lon\"]},{cities.loc[1, \"lat\"]}?overview=false\"\"\")"
   ]
  },
  {
   "cell_type": "code",
   "execution_count": 9,
   "id": "genetic-tutorial",
   "metadata": {},
   "outputs": [
    {
     "data": {
      "text/plain": [
       "b'{\"code\":\"Ok\",\"waypoints\":[{\"hint\":\"6pvUj____39RAAAAYQAAAAkAAAAAAAAAUTdZQvgsIUGPZrZAAAAAAFEAAABhAAAACQAAAAAAAACy5AAA45kjAJ6l6QKVmiMAa6XpAgEAvwyxLYfu\",\"distance\":14.236102,\"location\":[2.333155,48.866718],\"name\":\"Rue Saint-Roch\"},{\"hint\":\"MDXNh____38VAAAAZgAAAAAAAAAAAAAA3AxzQf1MYEIAAAAAAAAAABUAAABmAAAAAAAAAAAAAACy5AAAbXu-AFBXfwIFe74A4Fd_AgAAHw-xLYfu\",\"distance\":18.175415,\"location\":[12.483437,41.899856],\"name\":\"Via dell\\'Umilt\\xc3\\xa0\"}],\"routes\":[{\"legs\":[{\"steps\":[],\"weight\":54542,\"distance\":1432278.8,\"summary\":\"\",\"duration\":54515.9}],\"weight_name\":\"routability\",\"weight\":54542,\"distance\":1432278.8,\"duration\":54515.9}]}'"
      ]
     },
     "execution_count": 9,
     "metadata": {},
     "output_type": "execute_result"
    }
   ],
   "source": [
    "r.content"
   ]
  },
  {
   "cell_type": "code",
   "execution_count": 10,
   "id": "arabic-momentum",
   "metadata": {},
   "outputs": [
    {
     "data": {
      "text/plain": [
       "{'code': 'Ok',\n",
       " 'waypoints': [{'hint': '6pvUj____39RAAAAYQAAAAkAAAAAAAAAUTdZQvgsIUGPZrZAAAAAAFEAAABhAAAACQAAAAAAAACy5AAA45kjAJ6l6QKVmiMAa6XpAgEAvwyxLYfu',\n",
       "   'distance': 14.236102,\n",
       "   'location': [2.333155, 48.866718],\n",
       "   'name': 'Rue Saint-Roch'},\n",
       "  {'hint': 'MDXNh____38VAAAAZgAAAAAAAAAAAAAA3AxzQf1MYEIAAAAAAAAAABUAAABmAAAAAAAAAAAAAACy5AAAbXu-AFBXfwIFe74A4Fd_AgAAHw-xLYfu',\n",
       "   'distance': 18.175415,\n",
       "   'location': [12.483437, 41.899856],\n",
       "   'name': \"Via dell'Umiltà\"}],\n",
       " 'routes': [{'legs': [{'steps': [],\n",
       "     'weight': 54542,\n",
       "     'distance': 1432278.8,\n",
       "     'summary': '',\n",
       "     'duration': 54515.9}],\n",
       "   'weight_name': 'routability',\n",
       "   'weight': 54542,\n",
       "   'distance': 1432278.8,\n",
       "   'duration': 54515.9}]}"
      ]
     },
     "execution_count": 10,
     "metadata": {},
     "output_type": "execute_result"
    }
   ],
   "source": [
    "json.loads(r.content)"
   ]
  },
  {
   "cell_type": "code",
   "execution_count": 11,
   "id": "human-arbor",
   "metadata": {},
   "outputs": [
    {
     "data": {
      "text/plain": [
       "(1432278.8, 54515.9)"
      ]
     },
     "execution_count": 11,
     "metadata": {},
     "output_type": "execute_result"
    }
   ],
   "source": [
    "route_1 = json.loads(r.content)[\"routes\"][0]\n",
    "route_1[\"distance\"], route_1[\"duration\"]"
   ]
  },
  {
   "cell_type": "code",
   "execution_count": 12,
   "id": "sharp-boutique",
   "metadata": {},
   "outputs": [
    {
     "data": {
      "text/plain": [
       "'15:08:35.900000'"
      ]
     },
     "execution_count": 12,
     "metadata": {},
     "output_type": "execute_result"
    }
   ],
   "source": [
    "x = datetime.timedelta(seconds=route_1[\"duration\"])\n",
    "str(x)"
   ]
  },
  {
   "cell_type": "code",
   "execution_count": 13,
   "id": "adopted-refund",
   "metadata": {},
   "outputs": [],
   "source": [
    "df1 = pd.read_csv(\"Base1.csv\")"
   ]
  },
  {
   "cell_type": "code",
   "execution_count": 14,
   "id": "basic-limit",
   "metadata": {},
   "outputs": [
    {
     "data": {
      "text/html": [
       "<div>\n",
       "<style scoped>\n",
       "    .dataframe tbody tr th:only-of-type {\n",
       "        vertical-align: middle;\n",
       "    }\n",
       "\n",
       "    .dataframe tbody tr th {\n",
       "        vertical-align: top;\n",
       "    }\n",
       "\n",
       "    .dataframe thead th {\n",
       "        text-align: right;\n",
       "    }\n",
       "</style>\n",
       "<table border=\"1\" class=\"dataframe\">\n",
       "  <thead>\n",
       "    <tr style=\"text-align: right;\">\n",
       "      <th></th>\n",
       "      <th>Left</th>\n",
       "      <th>Right</th>\n",
       "    </tr>\n",
       "  </thead>\n",
       "  <tbody>\n",
       "    <tr>\n",
       "      <th>0</th>\n",
       "      <td>35.582066</td>\n",
       "      <td>-78.802120</td>\n",
       "    </tr>\n",
       "    <tr>\n",
       "      <th>1</th>\n",
       "      <td>35.582066</td>\n",
       "      <td>-78.801965</td>\n",
       "    </tr>\n",
       "    <tr>\n",
       "      <th>2</th>\n",
       "      <td>35.582010</td>\n",
       "      <td>-78.799760</td>\n",
       "    </tr>\n",
       "    <tr>\n",
       "      <th>3</th>\n",
       "      <td>35.581969</td>\n",
       "      <td>-78.798268</td>\n",
       "    </tr>\n",
       "    <tr>\n",
       "      <th>4</th>\n",
       "      <td>35.581968</td>\n",
       "      <td>-78.796966</td>\n",
       "    </tr>\n",
       "    <tr>\n",
       "      <th>5</th>\n",
       "      <td>35.584332</td>\n",
       "      <td>-78.798292</td>\n",
       "    </tr>\n",
       "    <tr>\n",
       "      <th>6</th>\n",
       "      <td>35.585262</td>\n",
       "      <td>-78.798268</td>\n",
       "    </tr>\n",
       "    <tr>\n",
       "      <th>7</th>\n",
       "      <td>35.582924</td>\n",
       "      <td>-78.799764</td>\n",
       "    </tr>\n",
       "    <tr>\n",
       "      <th>8</th>\n",
       "      <td>35.583693</td>\n",
       "      <td>-78.799788</td>\n",
       "    </tr>\n",
       "    <tr>\n",
       "      <th>9</th>\n",
       "      <td>35.584345</td>\n",
       "      <td>-78.799816</td>\n",
       "    </tr>\n",
       "    <tr>\n",
       "      <th>10</th>\n",
       "      <td>35.582049</td>\n",
       "      <td>-78.800862</td>\n",
       "    </tr>\n",
       "    <tr>\n",
       "      <th>11</th>\n",
       "      <td>35.583711</td>\n",
       "      <td>-78.800856</td>\n",
       "    </tr>\n",
       "    <tr>\n",
       "      <th>12</th>\n",
       "      <td>35.582957</td>\n",
       "      <td>-78.800859</td>\n",
       "    </tr>\n",
       "    <tr>\n",
       "      <th>13</th>\n",
       "      <td>35.583010</td>\n",
       "      <td>-78.801967</td>\n",
       "    </tr>\n",
       "    <tr>\n",
       "      <th>14</th>\n",
       "      <td>35.582764</td>\n",
       "      <td>-78.798270</td>\n",
       "    </tr>\n",
       "  </tbody>\n",
       "</table>\n",
       "</div>"
      ],
      "text/plain": [
       "         Left      Right\n",
       "0   35.582066 -78.802120\n",
       "1   35.582066 -78.801965\n",
       "2   35.582010 -78.799760\n",
       "3   35.581969 -78.798268\n",
       "4   35.581968 -78.796966\n",
       "5   35.584332 -78.798292\n",
       "6   35.585262 -78.798268\n",
       "7   35.582924 -78.799764\n",
       "8   35.583693 -78.799788\n",
       "9   35.584345 -78.799816\n",
       "10  35.582049 -78.800862\n",
       "11  35.583711 -78.800856\n",
       "12  35.582957 -78.800859\n",
       "13  35.583010 -78.801967\n",
       "14  35.582764 -78.798270"
      ]
     },
     "execution_count": 14,
     "metadata": {},
     "output_type": "execute_result"
    }
   ],
   "source": [
    "df1"
   ]
  },
  {
   "cell_type": "code",
   "execution_count": 15,
   "id": "presidential-distributor",
   "metadata": {},
   "outputs": [],
   "source": [
    "r = requests.get(f\"\"\"http://router.project-osrm.org/route/v1/car/{df1.loc[0, \"Right\"]},{df1.loc[0, \"Left\"]};{df1.loc[14, \"Right\"]},{df1.loc[14, \"Left\"]}?overview=false\"\"\")"
   ]
  },
  {
   "cell_type": "code",
   "execution_count": 16,
   "id": "fitted-duplicate",
   "metadata": {},
   "outputs": [
    {
     "data": {
      "text/plain": [
       "{'code': 'Ok',\n",
       " 'waypoints': [{'hint': 'yEaWislGlooAAAAAFAAAAAAAAAAAAAAAAAAAAAnOYEEAAAAAAAAAAAAAAAAUAAAAAAAAAAAAAADMRAAAOJNN-3LwHgI4k037cvAeAgAAnwUEyBLO',\n",
       "   'distance': 0,\n",
       "   'location': [-78.80212, 35.582066],\n",
       "   'name': 'West Vance Street'},\n",
       "  {'hint': '80aWigFHlooAAAAAoQAAAAAAAAAAAAAAAAAAAMvo30IAAAAAAAAAAAAAAAChAAAAAAAAAAAAAADMRAAAQqJN-yzzHgJCok37LPMeAgAAnwUEyBLO',\n",
       "   'distance': 0,\n",
       "   'location': [-78.79827, 35.582764],\n",
       "   'name': 'Raleigh Street'}],\n",
       " 'routes': [{'legs': [{'steps': [],\n",
       "     'weight': 65.1,\n",
       "     'distance': 437.7,\n",
       "     'summary': '',\n",
       "     'duration': 65.1}],\n",
       "   'weight_name': 'routability',\n",
       "   'weight': 65.1,\n",
       "   'distance': 437.7,\n",
       "   'duration': 65.1}]}"
      ]
     },
     "execution_count": 16,
     "metadata": {},
     "output_type": "execute_result"
    }
   ],
   "source": [
    "json.loads(r.content)"
   ]
  },
  {
   "cell_type": "code",
   "execution_count": 17,
   "id": "extraordinary-cosmetic",
   "metadata": {},
   "outputs": [],
   "source": [
    "import pandas as pd\n",
    "from geopy import distance\n",
    "import requests # to call the openmap/google apis\n",
    "import json\n",
    "import datetime\n",
    "import math\n",
    "import itertools\n",
    "import numpy as np"
   ]
  },
  {
   "cell_type": "code",
   "execution_count": 18,
   "id": "social-fireplace",
   "metadata": {},
   "outputs": [],
   "source": [
    "df1 = pd.read_csv(\"Base1.csv\")"
   ]
  },
  {
   "cell_type": "code",
   "execution_count": 19,
   "id": "adjusted-glenn",
   "metadata": {},
   "outputs": [],
   "source": [
    "r = requests.get(f\"\"\"http://router.project-osrm.org/route/v1/car/{df1.loc[0, \"Right\"]},{df1.loc[0, \"Left\"]};{df1.loc[14, \"Right\"]},{df1.loc[14, \"Left\"]}?overview=false\"\"\")"
   ]
  },
  {
   "cell_type": "code",
   "execution_count": 20,
   "id": "widespread-locator",
   "metadata": {},
   "outputs": [
    {
     "data": {
      "text/plain": [
       "{'code': 'Ok',\n",
       " 'waypoints': [{'hint': 'yEaWislGlooAAAAAFAAAAAAAAAAAAAAAAAAAAAnOYEEAAAAAAAAAAAAAAAAUAAAAAAAAAAAAAADMRAAAOJNN-3LwHgI4k037cvAeAgAAnwUEyBLO',\n",
       "   'distance': 0,\n",
       "   'location': [-78.80212, 35.582066],\n",
       "   'name': 'West Vance Street'},\n",
       "  {'hint': '80aWigFHlooAAAAAoQAAAAAAAAAAAAAAAAAAAMvo30IAAAAAAAAAAAAAAAChAAAAAAAAAAAAAADMRAAAQqJN-yzzHgJCok37LPMeAgAAnwUEyBLO',\n",
       "   'distance': 0,\n",
       "   'location': [-78.79827, 35.582764],\n",
       "   'name': 'Raleigh Street'}],\n",
       " 'routes': [{'legs': [{'steps': [],\n",
       "     'weight': 65.1,\n",
       "     'distance': 437.7,\n",
       "     'summary': '',\n",
       "     'duration': 65.1}],\n",
       "   'weight_name': 'routability',\n",
       "   'weight': 65.1,\n",
       "   'distance': 437.7,\n",
       "   'duration': 65.1}]}"
      ]
     },
     "execution_count": 20,
     "metadata": {},
     "output_type": "execute_result"
    }
   ],
   "source": [
    "json.loads(r.content)"
   ]
  },
  {
   "cell_type": "code",
   "execution_count": 21,
   "id": "handmade-conservative",
   "metadata": {},
   "outputs": [
    {
     "data": {
      "text/plain": [
       "requests.models.Response"
      ]
     },
     "execution_count": 21,
     "metadata": {},
     "output_type": "execute_result"
    }
   ],
   "source": [
    "type(r)"
   ]
  },
  {
   "cell_type": "code",
   "execution_count": 22,
   "id": "elder-pasta",
   "metadata": {},
   "outputs": [
    {
     "data": {
      "text/plain": [
       "<Response [200]>"
      ]
     },
     "execution_count": 22,
     "metadata": {},
     "output_type": "execute_result"
    }
   ],
   "source": [
    "r"
   ]
  },
  {
   "cell_type": "code",
   "execution_count": 23,
   "id": "hidden-portal",
   "metadata": {},
   "outputs": [
    {
     "data": {
      "text/plain": [
       "bytes"
      ]
     },
     "execution_count": 23,
     "metadata": {},
     "output_type": "execute_result"
    }
   ],
   "source": [
    "type(r.content)"
   ]
  },
  {
   "cell_type": "code",
   "execution_count": 24,
   "id": "charged-sleeve",
   "metadata": {},
   "outputs": [
    {
     "data": {
      "text/plain": [
       "{'legs': [{'steps': [],\n",
       "   'weight': 65.1,\n",
       "   'distance': 437.7,\n",
       "   'summary': '',\n",
       "   'duration': 65.1}],\n",
       " 'weight_name': 'routability',\n",
       " 'weight': 65.1,\n",
       " 'distance': 437.7,\n",
       " 'duration': 65.1}"
      ]
     },
     "execution_count": 24,
     "metadata": {},
     "output_type": "execute_result"
    }
   ],
   "source": [
    "json.loads(r.content)[\"routes\"][0]"
   ]
  },
  {
   "cell_type": "code",
   "execution_count": 25,
   "id": "worthy-helicopter",
   "metadata": {},
   "outputs": [
    {
     "data": {
      "text/plain": [
       "437.7"
      ]
     },
     "execution_count": 25,
     "metadata": {},
     "output_type": "execute_result"
    }
   ],
   "source": [
    "json.loads(r.content)[\"routes\"][0][\"distance\"]"
   ]
  },
  {
   "cell_type": "code",
   "execution_count": 26,
   "id": "genetic-buffalo",
   "metadata": {},
   "outputs": [
    {
     "data": {
      "text/html": [
       "<div>\n",
       "<style scoped>\n",
       "    .dataframe tbody tr th:only-of-type {\n",
       "        vertical-align: middle;\n",
       "    }\n",
       "\n",
       "    .dataframe tbody tr th {\n",
       "        vertical-align: top;\n",
       "    }\n",
       "\n",
       "    .dataframe thead th {\n",
       "        text-align: right;\n",
       "    }\n",
       "</style>\n",
       "<table border=\"1\" class=\"dataframe\">\n",
       "  <thead>\n",
       "    <tr style=\"text-align: right;\">\n",
       "      <th></th>\n",
       "      <th>Left</th>\n",
       "      <th>Right</th>\n",
       "    </tr>\n",
       "  </thead>\n",
       "  <tbody>\n",
       "    <tr>\n",
       "      <th>0</th>\n",
       "      <td>35.582066</td>\n",
       "      <td>-78.802120</td>\n",
       "    </tr>\n",
       "    <tr>\n",
       "      <th>1</th>\n",
       "      <td>35.582066</td>\n",
       "      <td>-78.801965</td>\n",
       "    </tr>\n",
       "    <tr>\n",
       "      <th>2</th>\n",
       "      <td>35.582010</td>\n",
       "      <td>-78.799760</td>\n",
       "    </tr>\n",
       "    <tr>\n",
       "      <th>3</th>\n",
       "      <td>35.581969</td>\n",
       "      <td>-78.798268</td>\n",
       "    </tr>\n",
       "    <tr>\n",
       "      <th>4</th>\n",
       "      <td>35.581968</td>\n",
       "      <td>-78.796966</td>\n",
       "    </tr>\n",
       "    <tr>\n",
       "      <th>5</th>\n",
       "      <td>35.584332</td>\n",
       "      <td>-78.798292</td>\n",
       "    </tr>\n",
       "    <tr>\n",
       "      <th>6</th>\n",
       "      <td>35.585262</td>\n",
       "      <td>-78.798268</td>\n",
       "    </tr>\n",
       "    <tr>\n",
       "      <th>7</th>\n",
       "      <td>35.582924</td>\n",
       "      <td>-78.799764</td>\n",
       "    </tr>\n",
       "    <tr>\n",
       "      <th>8</th>\n",
       "      <td>35.583693</td>\n",
       "      <td>-78.799788</td>\n",
       "    </tr>\n",
       "    <tr>\n",
       "      <th>9</th>\n",
       "      <td>35.584345</td>\n",
       "      <td>-78.799816</td>\n",
       "    </tr>\n",
       "    <tr>\n",
       "      <th>10</th>\n",
       "      <td>35.582049</td>\n",
       "      <td>-78.800862</td>\n",
       "    </tr>\n",
       "    <tr>\n",
       "      <th>11</th>\n",
       "      <td>35.583711</td>\n",
       "      <td>-78.800856</td>\n",
       "    </tr>\n",
       "    <tr>\n",
       "      <th>12</th>\n",
       "      <td>35.582957</td>\n",
       "      <td>-78.800859</td>\n",
       "    </tr>\n",
       "    <tr>\n",
       "      <th>13</th>\n",
       "      <td>35.583010</td>\n",
       "      <td>-78.801967</td>\n",
       "    </tr>\n",
       "    <tr>\n",
       "      <th>14</th>\n",
       "      <td>35.582764</td>\n",
       "      <td>-78.798270</td>\n",
       "    </tr>\n",
       "  </tbody>\n",
       "</table>\n",
       "</div>"
      ],
      "text/plain": [
       "         Left      Right\n",
       "0   35.582066 -78.802120\n",
       "1   35.582066 -78.801965\n",
       "2   35.582010 -78.799760\n",
       "3   35.581969 -78.798268\n",
       "4   35.581968 -78.796966\n",
       "5   35.584332 -78.798292\n",
       "6   35.585262 -78.798268\n",
       "7   35.582924 -78.799764\n",
       "8   35.583693 -78.799788\n",
       "9   35.584345 -78.799816\n",
       "10  35.582049 -78.800862\n",
       "11  35.583711 -78.800856\n",
       "12  35.582957 -78.800859\n",
       "13  35.583010 -78.801967\n",
       "14  35.582764 -78.798270"
      ]
     },
     "execution_count": 26,
     "metadata": {},
     "output_type": "execute_result"
    }
   ],
   "source": [
    "df1"
   ]
  },
  {
   "cell_type": "code",
   "execution_count": 27,
   "id": "chemical-drilling",
   "metadata": {},
   "outputs": [
    {
     "name": "stdout",
     "output_type": "stream",
     "text": [
      "0\n",
      "1\n",
      "2\n",
      "3\n",
      "4\n",
      "5\n",
      "6\n",
      "7\n",
      "8\n",
      "9\n",
      "10\n",
      "11\n",
      "12\n",
      "13\n",
      "14\n"
     ]
    }
   ],
   "source": [
    "for i in df1.index:\n",
    "    print(i)"
   ]
  },
  {
   "cell_type": "code",
   "execution_count": 28,
   "id": "funded-puzzle",
   "metadata": {},
   "outputs": [
    {
     "name": "stdout",
     "output_type": "stream",
     "text": [
      "0\n",
      "14\n",
      "213.9\n",
      "349.2\n",
      "467.1\n",
      "611.6\n",
      "715.6\n",
      "314\n",
      "395.3\n",
      "473.7\n",
      "113.8\n",
      "298.7\n",
      "214.8\n",
      "119\n",
      "437.7\n"
     ]
    }
   ],
   "source": [
    "for i in df1.index:\n",
    "    r = requests.get(f\"\"\"http://router.project-osrm.org/route/v1/car/{df1.loc[0, \"Right\"]},{df1.loc[0, \"Left\"]};{df1.loc[i, \"Right\"]},{df1.loc[i, \"Left\"]}?overview=false\"\"\")\n",
    "    print(json.loads(r.content)[\"routes\"][0][\"distance\"])"
   ]
  },
  {
   "cell_type": "code",
   "execution_count": 29,
   "id": "promising-healing",
   "metadata": {},
   "outputs": [],
   "source": [
    "df2 = pd.DataFrame()"
   ]
  },
  {
   "cell_type": "code",
   "execution_count": 30,
   "id": "mental-division",
   "metadata": {},
   "outputs": [],
   "source": [
    "first = []\n",
    "for i in df1.index:\n",
    "    r = requests.get(f\"\"\"http://router.project-osrm.org/route/v1/car/{df1.loc[0, \"Right\"]},{df1.loc[0, \"Left\"]};{df1.loc[i, \"Right\"]},{df1.loc[i, \"Left\"]}?overview=false\"\"\")\n",
    "    first.append(json.loads(r.content)[\"routes\"][0][\"distance\"])"
   ]
  },
  {
   "cell_type": "code",
   "execution_count": 31,
   "id": "electoral-radar",
   "metadata": {},
   "outputs": [
    {
     "data": {
      "text/plain": [
       "list"
      ]
     },
     "execution_count": 31,
     "metadata": {},
     "output_type": "execute_result"
    }
   ],
   "source": [
    "type(first)"
   ]
  },
  {
   "cell_type": "code",
   "execution_count": 32,
   "id": "bronze-value",
   "metadata": {},
   "outputs": [],
   "source": [
    "df2[0] = first"
   ]
  },
  {
   "cell_type": "code",
   "execution_count": 33,
   "id": "thousand-colony",
   "metadata": {},
   "outputs": [
    {
     "data": {
      "text/html": [
       "<div>\n",
       "<style scoped>\n",
       "    .dataframe tbody tr th:only-of-type {\n",
       "        vertical-align: middle;\n",
       "    }\n",
       "\n",
       "    .dataframe tbody tr th {\n",
       "        vertical-align: top;\n",
       "    }\n",
       "\n",
       "    .dataframe thead th {\n",
       "        text-align: right;\n",
       "    }\n",
       "</style>\n",
       "<table border=\"1\" class=\"dataframe\">\n",
       "  <thead>\n",
       "    <tr style=\"text-align: right;\">\n",
       "      <th></th>\n",
       "      <th>0</th>\n",
       "    </tr>\n",
       "  </thead>\n",
       "  <tbody>\n",
       "    <tr>\n",
       "      <th>0</th>\n",
       "      <td>0.0</td>\n",
       "    </tr>\n",
       "    <tr>\n",
       "      <th>1</th>\n",
       "      <td>14.0</td>\n",
       "    </tr>\n",
       "    <tr>\n",
       "      <th>2</th>\n",
       "      <td>213.9</td>\n",
       "    </tr>\n",
       "    <tr>\n",
       "      <th>3</th>\n",
       "      <td>349.2</td>\n",
       "    </tr>\n",
       "    <tr>\n",
       "      <th>4</th>\n",
       "      <td>467.1</td>\n",
       "    </tr>\n",
       "    <tr>\n",
       "      <th>5</th>\n",
       "      <td>611.6</td>\n",
       "    </tr>\n",
       "    <tr>\n",
       "      <th>6</th>\n",
       "      <td>715.6</td>\n",
       "    </tr>\n",
       "    <tr>\n",
       "      <th>7</th>\n",
       "      <td>314.0</td>\n",
       "    </tr>\n",
       "    <tr>\n",
       "      <th>8</th>\n",
       "      <td>395.3</td>\n",
       "    </tr>\n",
       "    <tr>\n",
       "      <th>9</th>\n",
       "      <td>473.7</td>\n",
       "    </tr>\n",
       "    <tr>\n",
       "      <th>10</th>\n",
       "      <td>113.8</td>\n",
       "    </tr>\n",
       "    <tr>\n",
       "      <th>11</th>\n",
       "      <td>298.7</td>\n",
       "    </tr>\n",
       "    <tr>\n",
       "      <th>12</th>\n",
       "      <td>214.8</td>\n",
       "    </tr>\n",
       "    <tr>\n",
       "      <th>13</th>\n",
       "      <td>119.0</td>\n",
       "    </tr>\n",
       "    <tr>\n",
       "      <th>14</th>\n",
       "      <td>437.7</td>\n",
       "    </tr>\n",
       "  </tbody>\n",
       "</table>\n",
       "</div>"
      ],
      "text/plain": [
       "        0\n",
       "0     0.0\n",
       "1    14.0\n",
       "2   213.9\n",
       "3   349.2\n",
       "4   467.1\n",
       "5   611.6\n",
       "6   715.6\n",
       "7   314.0\n",
       "8   395.3\n",
       "9   473.7\n",
       "10  113.8\n",
       "11  298.7\n",
       "12  214.8\n",
       "13  119.0\n",
       "14  437.7"
      ]
     },
     "execution_count": 33,
     "metadata": {},
     "output_type": "execute_result"
    }
   ],
   "source": [
    "df2"
   ]
  },
  {
   "cell_type": "code",
   "execution_count": 34,
   "id": "controlling-republican",
   "metadata": {},
   "outputs": [],
   "source": [
    "df3 = pd.DataFrame()"
   ]
  },
  {
   "cell_type": "code",
   "execution_count": 35,
   "id": "advance-disco",
   "metadata": {},
   "outputs": [],
   "source": [
    "for j in df1.index:\n",
    "    list1 = []\n",
    "    for i in df1.index:\n",
    "        r = requests.get(f\"\"\"http://router.project-osrm.org/route/v1/car/{df1.loc[j, \"Right\"]},{df1.loc[j, \"Left\"]};{df1.loc[i, \"Right\"]},{df1.loc[i, \"Left\"]}?overview=false\"\"\")\n",
    "        list1.append(json.loads(r.content)[\"routes\"][0][\"distance\"])\n",
    "    df3[j] = list1"
   ]
  },
  {
   "cell_type": "code",
   "execution_count": 36,
   "id": "seasonal-vitamin",
   "metadata": {},
   "outputs": [
    {
     "data": {
      "text/html": [
       "<div>\n",
       "<style scoped>\n",
       "    .dataframe tbody tr th:only-of-type {\n",
       "        vertical-align: middle;\n",
       "    }\n",
       "\n",
       "    .dataframe tbody tr th {\n",
       "        vertical-align: top;\n",
       "    }\n",
       "\n",
       "    .dataframe thead th {\n",
       "        text-align: right;\n",
       "    }\n",
       "</style>\n",
       "<table border=\"1\" class=\"dataframe\">\n",
       "  <thead>\n",
       "    <tr style=\"text-align: right;\">\n",
       "      <th></th>\n",
       "      <th>0</th>\n",
       "      <th>1</th>\n",
       "      <th>2</th>\n",
       "      <th>3</th>\n",
       "      <th>4</th>\n",
       "      <th>5</th>\n",
       "      <th>6</th>\n",
       "      <th>7</th>\n",
       "      <th>8</th>\n",
       "      <th>9</th>\n",
       "      <th>10</th>\n",
       "      <th>11</th>\n",
       "      <th>12</th>\n",
       "      <th>13</th>\n",
       "      <th>14</th>\n",
       "    </tr>\n",
       "  </thead>\n",
       "  <tbody>\n",
       "    <tr>\n",
       "      <th>0</th>\n",
       "      <td>0.0</td>\n",
       "      <td>14.0</td>\n",
       "      <td>213.9</td>\n",
       "      <td>349.2</td>\n",
       "      <td>467.1</td>\n",
       "      <td>612.1</td>\n",
       "      <td>715.6</td>\n",
       "      <td>315.6</td>\n",
       "      <td>401.1</td>\n",
       "      <td>473.7</td>\n",
       "      <td>113.8</td>\n",
       "      <td>298.7</td>\n",
       "      <td>214.8</td>\n",
       "      <td>119.0</td>\n",
       "      <td>437.7</td>\n",
       "    </tr>\n",
       "    <tr>\n",
       "      <th>1</th>\n",
       "      <td>14.0</td>\n",
       "      <td>0.0</td>\n",
       "      <td>199.9</td>\n",
       "      <td>335.2</td>\n",
       "      <td>453.0</td>\n",
       "      <td>598.1</td>\n",
       "      <td>701.5</td>\n",
       "      <td>301.5</td>\n",
       "      <td>387.1</td>\n",
       "      <td>459.7</td>\n",
       "      <td>99.8</td>\n",
       "      <td>284.7</td>\n",
       "      <td>200.8</td>\n",
       "      <td>105.0</td>\n",
       "      <td>423.7</td>\n",
       "    </tr>\n",
       "    <tr>\n",
       "      <th>2</th>\n",
       "      <td>213.9</td>\n",
       "      <td>199.9</td>\n",
       "      <td>0.0</td>\n",
       "      <td>135.3</td>\n",
       "      <td>253.2</td>\n",
       "      <td>397.7</td>\n",
       "      <td>501.1</td>\n",
       "      <td>101.7</td>\n",
       "      <td>187.2</td>\n",
       "      <td>259.8</td>\n",
       "      <td>100.1</td>\n",
       "      <td>283.9</td>\n",
       "      <td>200.8</td>\n",
       "      <td>301.2</td>\n",
       "      <td>217.7</td>\n",
       "    </tr>\n",
       "    <tr>\n",
       "      <th>3</th>\n",
       "      <td>349.2</td>\n",
       "      <td>335.2</td>\n",
       "      <td>135.3</td>\n",
       "      <td>0.0</td>\n",
       "      <td>117.8</td>\n",
       "      <td>262.8</td>\n",
       "      <td>366.3</td>\n",
       "      <td>237.0</td>\n",
       "      <td>322.6</td>\n",
       "      <td>395.1</td>\n",
       "      <td>235.4</td>\n",
       "      <td>420.3</td>\n",
       "      <td>336.4</td>\n",
       "      <td>440.2</td>\n",
       "      <td>88.4</td>\n",
       "    </tr>\n",
       "    <tr>\n",
       "      <th>4</th>\n",
       "      <td>467.1</td>\n",
       "      <td>453.0</td>\n",
       "      <td>253.2</td>\n",
       "      <td>117.8</td>\n",
       "      <td>0.0</td>\n",
       "      <td>377.9</td>\n",
       "      <td>480.1</td>\n",
       "      <td>354.8</td>\n",
       "      <td>440.4</td>\n",
       "      <td>512.9</td>\n",
       "      <td>353.2</td>\n",
       "      <td>538.1</td>\n",
       "      <td>454.2</td>\n",
       "      <td>558.0</td>\n",
       "      <td>201.6</td>\n",
       "    </tr>\n",
       "    <tr>\n",
       "      <th>5</th>\n",
       "      <td>611.6</td>\n",
       "      <td>597.5</td>\n",
       "      <td>397.7</td>\n",
       "      <td>262.8</td>\n",
       "      <td>380.7</td>\n",
       "      <td>0.0</td>\n",
       "      <td>103.5</td>\n",
       "      <td>296.0</td>\n",
       "      <td>210.4</td>\n",
       "      <td>137.9</td>\n",
       "      <td>497.8</td>\n",
       "      <td>303.5</td>\n",
       "      <td>387.4</td>\n",
       "      <td>484.0</td>\n",
       "      <td>174.4</td>\n",
       "    </tr>\n",
       "    <tr>\n",
       "      <th>6</th>\n",
       "      <td>715.6</td>\n",
       "      <td>701.5</td>\n",
       "      <td>501.7</td>\n",
       "      <td>366.3</td>\n",
       "      <td>484.1</td>\n",
       "      <td>103.5</td>\n",
       "      <td>0.0</td>\n",
       "      <td>399.5</td>\n",
       "      <td>313.9</td>\n",
       "      <td>241.3</td>\n",
       "      <td>601.7</td>\n",
       "      <td>407.0</td>\n",
       "      <td>490.9</td>\n",
       "      <td>587.5</td>\n",
       "      <td>277.9</td>\n",
       "    </tr>\n",
       "    <tr>\n",
       "      <th>7</th>\n",
       "      <td>314.0</td>\n",
       "      <td>299.9</td>\n",
       "      <td>101.7</td>\n",
       "      <td>237.0</td>\n",
       "      <td>354.8</td>\n",
       "      <td>296.0</td>\n",
       "      <td>399.5</td>\n",
       "      <td>0.0</td>\n",
       "      <td>85.6</td>\n",
       "      <td>158.1</td>\n",
       "      <td>200.1</td>\n",
       "      <td>183.0</td>\n",
       "      <td>99.2</td>\n",
       "      <td>199.6</td>\n",
       "      <td>154.1</td>\n",
       "    </tr>\n",
       "    <tr>\n",
       "      <th>8</th>\n",
       "      <td>395.3</td>\n",
       "      <td>381.3</td>\n",
       "      <td>187.2</td>\n",
       "      <td>322.6</td>\n",
       "      <td>440.4</td>\n",
       "      <td>210.4</td>\n",
       "      <td>313.9</td>\n",
       "      <td>85.6</td>\n",
       "      <td>0.0</td>\n",
       "      <td>72.6</td>\n",
       "      <td>281.5</td>\n",
       "      <td>96.6</td>\n",
       "      <td>180.5</td>\n",
       "      <td>280.9</td>\n",
       "      <td>239.6</td>\n",
       "    </tr>\n",
       "    <tr>\n",
       "      <th>9</th>\n",
       "      <td>473.7</td>\n",
       "      <td>459.7</td>\n",
       "      <td>259.8</td>\n",
       "      <td>395.1</td>\n",
       "      <td>512.9</td>\n",
       "      <td>137.9</td>\n",
       "      <td>241.3</td>\n",
       "      <td>158.1</td>\n",
       "      <td>72.6</td>\n",
       "      <td>0.0</td>\n",
       "      <td>359.9</td>\n",
       "      <td>165.7</td>\n",
       "      <td>257.3</td>\n",
       "      <td>357.7</td>\n",
       "      <td>312.2</td>\n",
       "    </tr>\n",
       "    <tr>\n",
       "      <th>10</th>\n",
       "      <td>113.8</td>\n",
       "      <td>99.8</td>\n",
       "      <td>100.1</td>\n",
       "      <td>235.4</td>\n",
       "      <td>353.2</td>\n",
       "      <td>498.3</td>\n",
       "      <td>601.7</td>\n",
       "      <td>201.7</td>\n",
       "      <td>287.3</td>\n",
       "      <td>359.9</td>\n",
       "      <td>0.0</td>\n",
       "      <td>184.9</td>\n",
       "      <td>101.0</td>\n",
       "      <td>204.8</td>\n",
       "      <td>323.9</td>\n",
       "    </tr>\n",
       "    <tr>\n",
       "      <th>11</th>\n",
       "      <td>298.7</td>\n",
       "      <td>284.7</td>\n",
       "      <td>283.9</td>\n",
       "      <td>420.3</td>\n",
       "      <td>538.1</td>\n",
       "      <td>303.5</td>\n",
       "      <td>407.0</td>\n",
       "      <td>183.0</td>\n",
       "      <td>96.6</td>\n",
       "      <td>169.2</td>\n",
       "      <td>184.9</td>\n",
       "      <td>0.0</td>\n",
       "      <td>83.9</td>\n",
       "      <td>184.3</td>\n",
       "      <td>336.3</td>\n",
       "    </tr>\n",
       "    <tr>\n",
       "      <th>12</th>\n",
       "      <td>214.8</td>\n",
       "      <td>200.8</td>\n",
       "      <td>201.1</td>\n",
       "      <td>336.4</td>\n",
       "      <td>454.2</td>\n",
       "      <td>387.4</td>\n",
       "      <td>490.9</td>\n",
       "      <td>99.2</td>\n",
       "      <td>180.5</td>\n",
       "      <td>257.3</td>\n",
       "      <td>101.0</td>\n",
       "      <td>83.9</td>\n",
       "      <td>0.0</td>\n",
       "      <td>100.4</td>\n",
       "      <td>253.2</td>\n",
       "    </tr>\n",
       "    <tr>\n",
       "      <th>13</th>\n",
       "      <td>119.0</td>\n",
       "      <td>105.0</td>\n",
       "      <td>304.9</td>\n",
       "      <td>440.2</td>\n",
       "      <td>558.0</td>\n",
       "      <td>484.0</td>\n",
       "      <td>587.5</td>\n",
       "      <td>199.6</td>\n",
       "      <td>285.1</td>\n",
       "      <td>357.7</td>\n",
       "      <td>204.8</td>\n",
       "      <td>184.3</td>\n",
       "      <td>100.4</td>\n",
       "      <td>0.0</td>\n",
       "      <td>353.6</td>\n",
       "    </tr>\n",
       "    <tr>\n",
       "      <th>14</th>\n",
       "      <td>437.7</td>\n",
       "      <td>423.7</td>\n",
       "      <td>217.7</td>\n",
       "      <td>88.4</td>\n",
       "      <td>206.2</td>\n",
       "      <td>174.4</td>\n",
       "      <td>277.9</td>\n",
       "      <td>154.1</td>\n",
       "      <td>239.6</td>\n",
       "      <td>312.2</td>\n",
       "      <td>323.9</td>\n",
       "      <td>336.3</td>\n",
       "      <td>253.2</td>\n",
       "      <td>353.6</td>\n",
       "      <td>0.0</td>\n",
       "    </tr>\n",
       "  </tbody>\n",
       "</table>\n",
       "</div>"
      ],
      "text/plain": [
       "       0      1      2      3      4      5      6      7      8      9   \\\n",
       "0     0.0   14.0  213.9  349.2  467.1  612.1  715.6  315.6  401.1  473.7   \n",
       "1    14.0    0.0  199.9  335.2  453.0  598.1  701.5  301.5  387.1  459.7   \n",
       "2   213.9  199.9    0.0  135.3  253.2  397.7  501.1  101.7  187.2  259.8   \n",
       "3   349.2  335.2  135.3    0.0  117.8  262.8  366.3  237.0  322.6  395.1   \n",
       "4   467.1  453.0  253.2  117.8    0.0  377.9  480.1  354.8  440.4  512.9   \n",
       "5   611.6  597.5  397.7  262.8  380.7    0.0  103.5  296.0  210.4  137.9   \n",
       "6   715.6  701.5  501.7  366.3  484.1  103.5    0.0  399.5  313.9  241.3   \n",
       "7   314.0  299.9  101.7  237.0  354.8  296.0  399.5    0.0   85.6  158.1   \n",
       "8   395.3  381.3  187.2  322.6  440.4  210.4  313.9   85.6    0.0   72.6   \n",
       "9   473.7  459.7  259.8  395.1  512.9  137.9  241.3  158.1   72.6    0.0   \n",
       "10  113.8   99.8  100.1  235.4  353.2  498.3  601.7  201.7  287.3  359.9   \n",
       "11  298.7  284.7  283.9  420.3  538.1  303.5  407.0  183.0   96.6  169.2   \n",
       "12  214.8  200.8  201.1  336.4  454.2  387.4  490.9   99.2  180.5  257.3   \n",
       "13  119.0  105.0  304.9  440.2  558.0  484.0  587.5  199.6  285.1  357.7   \n",
       "14  437.7  423.7  217.7   88.4  206.2  174.4  277.9  154.1  239.6  312.2   \n",
       "\n",
       "       10     11     12     13     14  \n",
       "0   113.8  298.7  214.8  119.0  437.7  \n",
       "1    99.8  284.7  200.8  105.0  423.7  \n",
       "2   100.1  283.9  200.8  301.2  217.7  \n",
       "3   235.4  420.3  336.4  440.2   88.4  \n",
       "4   353.2  538.1  454.2  558.0  201.6  \n",
       "5   497.8  303.5  387.4  484.0  174.4  \n",
       "6   601.7  407.0  490.9  587.5  277.9  \n",
       "7   200.1  183.0   99.2  199.6  154.1  \n",
       "8   281.5   96.6  180.5  280.9  239.6  \n",
       "9   359.9  165.7  257.3  357.7  312.2  \n",
       "10    0.0  184.9  101.0  204.8  323.9  \n",
       "11  184.9    0.0   83.9  184.3  336.3  \n",
       "12  101.0   83.9    0.0  100.4  253.2  \n",
       "13  204.8  184.3  100.4    0.0  353.6  \n",
       "14  323.9  336.3  253.2  353.6    0.0  "
      ]
     },
     "execution_count": 36,
     "metadata": {},
     "output_type": "execute_result"
    }
   ],
   "source": [
    "df3"
   ]
  },
  {
   "cell_type": "code",
   "execution_count": 37,
   "id": "planned-cooper",
   "metadata": {},
   "outputs": [],
   "source": [
    "df3.to_csv('file1.csv')"
   ]
  },
  {
   "cell_type": "code",
   "execution_count": null,
   "id": "synthetic-request",
   "metadata": {},
   "outputs": [],
   "source": []
  }
 ],
 "metadata": {
  "kernelspec": {
   "display_name": "Python 3",
   "language": "python",
   "name": "python3"
  },
  "language_info": {
   "codemirror_mode": {
    "name": "ipython",
    "version": 3
   },
   "file_extension": ".py",
   "mimetype": "text/x-python",
   "name": "python",
   "nbconvert_exporter": "python",
   "pygments_lexer": "ipython3",
   "version": "3.8.8"
  }
 },
 "nbformat": 4,
 "nbformat_minor": 5
}
