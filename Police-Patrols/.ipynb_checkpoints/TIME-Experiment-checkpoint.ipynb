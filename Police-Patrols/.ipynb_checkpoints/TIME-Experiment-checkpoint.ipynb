{
 "cells": [
  {
   "cell_type": "code",
   "execution_count": 34,
   "id": "interpreted-crowd",
   "metadata": {},
   "outputs": [],
   "source": [
    "import osmnx as ox\n",
    "import matplotlib.pyplot as plt\n",
    "import pandas as pd\n",
    "from geopy import distance\n",
    "import requests\n",
    "import json\n",
    "import datetime\n",
    "import math\n",
    "import itertools\n",
    "import numpy as np\n",
    "import networkx as nx\n",
    "import plotly.graph_objects as go\n",
    "from pulp import *\n",
    "import seaborn as sn\n",
    "from ortools.constraint_solver import routing_enums_pb2\n",
    "from ortools.constraint_solver import pywrapcp\n",
    "import random"
   ]
  },
  {
   "cell_type": "code",
   "execution_count": 63,
   "id": "dietary-promise",
   "metadata": {},
   "outputs": [
    {
     "name": "stderr",
     "output_type": "stream",
     "text": [
      "/Users/rochelleallan/anaconda3/envs/ox/lib/python3.9/site-packages/osmnx/utils_geo.py:335: ShapelyDeprecationWarning:\n",
      "\n",
      "Iteration over multi-part geometries is deprecated and will be removed in Shapely 2.0. Use the `geoms` property to access the constituent parts of a multi-part geometry.\n",
      "\n",
      "/Users/rochelleallan/anaconda3/envs/ox/lib/python3.9/site-packages/osmnx/utils_geo.py:426: ShapelyDeprecationWarning:\n",
      "\n",
      "Iteration over multi-part geometries is deprecated and will be removed in Shapely 2.0. Use the `geoms` property to access the constituent parts of a multi-part geometry.\n",
      "\n",
      "/Users/rochelleallan/anaconda3/envs/ox/lib/python3.9/site-packages/osmnx/utils_geo.py:426: ShapelyDeprecationWarning:\n",
      "\n",
      "Iteration over multi-part geometries is deprecated and will be removed in Shapely 2.0. Use the `geoms` property to access the constituent parts of a multi-part geometry.\n",
      "\n"
     ]
    },
    {
     "data": {
      "image/png": "[encoded data removed]",
      "text/plain": [
       "<Figure size 576x576 with 1 Axes>"
      ]
     },
     "metadata": {},
     "output_type": "display_data"
    },
    {
     "name": "stdout",
     "output_type": "stream",
     "text": [
      "Welcome to the CBC MILP Solver \n",
      "Version: 2.10.3 \n",
      "Build Date: Dec 15 2019 \n",
      "\n",
      "command line - /Users/rochelleallan/anaconda3/envs/ox/lib/python3.9/site-packages/pulp/apis/../solverdir/cbc/osx/64/cbc /var/folders/0f/0wx77bhd2sl15rhs858yxhtc0000gn/T/0a06ccc654594387b51f48993a2b8da2-pulp.mps timeMode elapsed branch printingOptions all solution /var/folders/0f/0wx77bhd2sl15rhs858yxhtc0000gn/T/0a06ccc654594387b51f48993a2b8da2-pulp.sol (default strategy 1)\n",
      "At line 2 NAME          MODEL\n",
      "At line 3 ROWS\n",
      "At line 97 COLUMNS\n",
      "At line 782 RHS\n",
      "At line 875 BOUNDS\n",
      "At line 975 ENDATA\n",
      "Problem MODEL has 92 rows, 99 columns and 396 elements\n",
      "Coin0008I MODEL read with 0 errors\n",
      "Option for timeMode changed from cpu to elapsed\n",
      "Continuous objective value is 1041.92 - 0.00 seconds\n",
      "Cgl0003I 0 fixed, 0 tightened bounds, 72 strengthened rows, 0 substitutions\n",
      "Cgl0003I 0 fixed, 0 tightened bounds, 72 strengthened rows, 0 substitutions\n",
      "Cgl0003I 0 fixed, 0 tightened bounds, 72 strengthened rows, 0 substitutions\n",
      "Cgl0003I 0 fixed, 0 tightened bounds, 72 strengthened rows, 0 substitutions\n",
      "Cgl0003I 0 fixed, 0 tightened bounds, 72 strengthened rows, 0 substitutions\n",
      "Cgl0003I 0 fixed, 0 tightened bounds, 72 strengthened rows, 0 substitutions\n",
      "Cgl0003I 0 fixed, 0 tightened bounds, 72 strengthened rows, 0 substitutions\n",
      "Cgl0004I processed model has 92 rows, 99 columns (99 integer (90 of which binary)) and 900 elements\n",
      "Cutoff increment increased from 1e-05 to 0.0999\n",
      "Cbc0038I Initial state - 10 integers unsatisfied sum - 2.22222\n",
      "Cbc0038I Pass   1: suminf.    1.77778 (8) obj. 1249.31 iterations 30\n",
      "Cbc0038I Pass   2: suminf.    1.77778 (4) obj. 2000.8 iterations 18\n",
      "Cbc0038I Pass   3: suminf.    1.77778 (4) obj. 2000.8 iterations 12\n",
      "Cbc0038I Pass   4: suminf.    3.70370 (12) obj. 2183.01 iterations 22\n",
      "Cbc0038I Pass   5: suminf.    1.77778 (8) obj. 2250.44 iterations 18\n",
      "Cbc0038I Pass   6: suminf.    1.77778 (4) obj. 2300.66 iterations 21\n",
      "Cbc0038I Pass   7: suminf.    1.77778 (4) obj. 2233.54 iterations 9\n",
      "Cbc0038I Pass   8: suminf.    2.66667 (13) obj. 2896.66 iterations 41\n",
      "Cbc0038I Pass   9: suminf.    1.77778 (7) obj. 2735.11 iterations 20\n",
      "Cbc0038I Pass  10: suminf.    1.77778 (4) obj. 2477.61 iterations 15\n",
      "Cbc0038I Pass  11: suminf.    1.77778 (4) obj. 2730.32 iterations 9\n",
      "Cbc0038I Pass  12: suminf.    1.77778 (4) obj. 2752.98 iterations 7\n",
      "Cbc0038I Pass  13: suminf.    2.72222 (9) obj. 2643.24 iterations 37\n",
      "Cbc0038I Pass  14: suminf.    2.11111 (6) obj. 2585.38 iterations 22\n",
      "Cbc0038I Pass  15: suminf.    1.11111 (7) obj. 2404.14 iterations 31\n",
      "Cbc0038I Pass  16: suminf.    1.77778 (11) obj. 2029.73 iterations 18\n",
      "Cbc0038I Pass  17: suminf.    1.11111 (7) obj. 2029.94 iterations 10\n",
      "Cbc0038I Pass  18: suminf.    1.33333 (4) obj. 2468.27 iterations 23\n",
      "Cbc0038I Pass  19: suminf.    1.11111 (7) obj. 2362.04 iterations 25\n",
      "Cbc0038I Pass  20: suminf.    1.77778 (11) obj. 1941.8 iterations 15\n",
      "Cbc0038I Pass  21: suminf.    0.88889 (4) obj. 2478.98 iterations 35\n",
      "Cbc0038I Pass  22: suminf.    0.80000 (4) obj. 2542.84 iterations 17\n",
      "Cbc0038I Pass  23: suminf.    0.00000 (0) obj. 2798.2 iterations 17\n",
      "Cbc0038I Solution found of 2798.2\n",
      "Cbc0038I Cleaned solution of 2798.2\n",
      "Cbc0038I Before mini branch and bound, 34 integers at bound fixed and 0 continuous\n",
      "Cbc0038I Full problem 92 rows 99 columns, reduced to 92 rows 65 columns\n",
      "Cbc0038I Mini branch and bound improved solution from 2798.2 to 1071.2 (0.13 seconds)\n",
      "Cbc0038I Round again with cutoff of 1068.2\n",
      "Cbc0038I Reduced cost fixing fixed 62 variables on major pass 2\n",
      "Cbc0038I Pass  24: suminf.    2.22222 (10) obj. 1042.73 iterations 21\n",
      "Cbc0038I Pass  25: suminf.    3.05479 (16) obj. 1068.2 iterations 26\n",
      "Cbc0038I Pass  26: suminf.    3.97778 (24) obj. 1042.83 iterations 18\n",
      "Cbc0038I Pass  27: suminf.    3.92572 (21) obj. 1068.2 iterations 18\n",
      "Cbc0038I Pass  28: suminf.    3.92572 (21) obj. 1068.2 iterations 0\n",
      "Cbc0038I Pass  29: suminf.    2.22222 (10) obj. 1042.73 iterations 22\n",
      "Cbc0038I Pass  30: suminf.    3.05479 (16) obj. 1068.2 iterations 23\n",
      "Cbc0038I Pass  31: suminf.    3.97778 (24) obj. 1042.83 iterations 17\n",
      "Cbc0038I Pass  32: suminf.    1.67466 (18) obj. 1068.2 iterations 18\n",
      "Cbc0038I Pass  33: suminf.    3.92572 (21) obj. 1068.2 iterations 3\n",
      "Cbc0038I Pass  34: suminf.    2.22222 (10) obj. 1042.73 iterations 22\n",
      "Cbc0038I Pass  35: suminf.    3.05479 (16) obj. 1068.2 iterations 22\n",
      "Cbc0038I Pass  36: suminf.    3.97778 (24) obj. 1042.83 iterations 17\n",
      "Cbc0038I Pass  37: suminf.    3.92572 (21) obj. 1068.2 iterations 14\n",
      "Cbc0038I Pass  38: suminf.    3.92572 (21) obj. 1068.2 iterations 0\n",
      "Cbc0038I Pass  39: suminf.    2.22222 (10) obj. 1042.73 iterations 14\n",
      "Cbc0038I Pass  40: suminf.    2.22222 (10) obj. 1042.73 iterations 5\n",
      "Cbc0038I Pass  41: suminf.    3.05479 (16) obj. 1068.2 iterations 14\n",
      "Cbc0038I Pass  42: suminf.    3.97778 (24) obj. 1042.83 iterations 15\n",
      "Cbc0038I Pass  43: suminf.    1.67466 (18) obj. 1068.2 iterations 19\n",
      "Cbc0038I Pass  44: suminf.    3.92572 (21) obj. 1068.2 iterations 3\n",
      "Cbc0038I Pass  45: suminf.    2.22222 (10) obj. 1042.73 iterations 22\n",
      "Cbc0038I Pass  46: suminf.    3.05479 (16) obj. 1068.2 iterations 22\n",
      "Cbc0038I Pass  47: suminf.    3.97778 (24) obj. 1042.83 iterations 18\n",
      "Cbc0038I Pass  48: suminf.    3.22222 (16) obj. 1042.82 iterations 14\n",
      "Cbc0038I Pass  49: suminf.    3.97778 (24) obj. 1042.83 iterations 9\n",
      "Cbc0038I Pass  50: suminf.    1.67466 (18) obj. 1068.2 iterations 19\n",
      "Cbc0038I Pass  51: suminf.    3.92572 (21) obj. 1068.2 iterations 3\n",
      "Cbc0038I Pass  52: suminf.    2.22222 (10) obj. 1042.73 iterations 22\n",
      "Cbc0038I Pass  53: suminf.    3.05479 (16) obj. 1068.2 iterations 22\n",
      "Cbc0038I No solution found this major pass\n",
      "Cbc0038I Before mini branch and bound, 65 integers at bound fixed and 0 continuous\n",
      "Cbc0038I Full problem 92 rows 99 columns, reduced to 79 rows 21 columns\n",
      "Cbc0038I Mini branch and bound did not improve solution (0.17 seconds)\n",
      "Cbc0038I After 0.17 seconds - Feasibility pump exiting with objective of 1071.2 - took 0.07 seconds\n",
      "Cbc0012I Integer solution of 1071.2 found by feasibility pump after 0 iterations and 0 nodes (0.17 seconds)\n",
      "Cbc0006I The LP relaxation is infeasible or too expensive\n",
      "Cbc0031I 7 added rows had average density of 4.8571429\n",
      "Cbc0013I At root node, 7 cuts changed objective from 1042.7333 to 1056.28 in 4 passes\n",
      "Cbc0014I Cut generator 0 (Probing) - 122 row cuts average 3.6 elements, 7 column cuts (7 active)  in 0.003 seconds - new frequency is 1\n",
      "Cbc0014I Cut generator 1 (Gomory) - 18 row cuts average 12.1 elements, 0 column cuts (0 active)  in 0.001 seconds - new frequency is 1\n",
      "Cbc0014I Cut generator 2 (Knapsack) - 0 row cuts average 0.0 elements, 0 column cuts (0 active)  in 0.001 seconds - new frequency is -100\n",
      "Cbc0014I Cut generator 3 (Clique) - 0 row cuts average 0.0 elements, 0 column cuts (0 active)  in 0.000 seconds - new frequency is -100\n",
      "Cbc0014I Cut generator 4 (MixedIntegerRounding2) - 0 row cuts average 0.0 elements, 0 column cuts (0 active)  in 0.000 seconds - new frequency is -100\n",
      "Cbc0014I Cut generator 5 (FlowCover) - 2 row cuts average 2.0 elements, 0 column cuts (0 active)  in 0.001 seconds - new frequency is -100\n",
      "Cbc0014I Cut generator 6 (TwoMirCuts) - 84 row cuts average 10.5 elements, 0 column cuts (0 active)  in 0.003 seconds - new frequency is 1\n",
      "Cbc0014I Cut generator 7 (ZeroHalf) - 19 row cuts average 11.3 elements, 0 column cuts (0 active)  in 0.055 seconds - new frequency is 1\n",
      "Cbc0001I Search completed - best objective 1071.2, took 70 iterations and 0 nodes (0.32 seconds)\n",
      "Cbc0035I Maximum depth 0, 68 variables fixed on reduced cost\n",
      "Cuts at root node changed objective from 1042.73 to 1056.28\n",
      "Probing was tried 4 times and created 129 cuts of which 0 were active after adding rounds of cuts (0.003 seconds)\n",
      "Gomory was tried 3 times and created 18 cuts of which 0 were active after adding rounds of cuts (0.001 seconds)\n",
      "Knapsack was tried 3 times and created 0 cuts of which 0 were active after adding rounds of cuts (0.001 seconds)\n",
      "Clique was tried 3 times and created 0 cuts of which 0 were active after adding rounds of cuts (0.000 seconds)\n",
      "MixedIntegerRounding2 was tried 3 times and created 0 cuts of which 0 were active after adding rounds of cuts (0.000 seconds)\n",
      "FlowCover was tried 3 times and created 2 cuts of which 0 were active after adding rounds of cuts (0.001 seconds)\n",
      "TwoMirCuts was tried 3 times and created 84 cuts of which 0 were active after adding rounds of cuts (0.003 seconds)\n",
      "ZeroHalf was tried 3 times and created 19 cuts of which 0 were active after adding rounds of cuts (0.055 seconds)\n",
      "\n",
      "Result - Optimal solution found\n",
      "\n",
      "Objective value:                1071.20000000\n",
      "Enumerated nodes:               0\n",
      "Total iterations:               70\n",
      "Time (CPU seconds):             0.21\n",
      "Time (Wallclock seconds):       0.34\n",
      "\n",
      "Option for printingOptions changed from normal to all\n",
      "Total time (CPU seconds):       0.21   (Wallclock seconds):       0.36\n",
      "\n"
     ]
    },
    {
     "data": {
      "application/vnd.plotly.v1+json": {
       "config": {
        "plotlyServerURL": "https://plot.ly"
       },
       "data": [
        {
         "lat": [
          43.1438699,
          43.1427982,
          43.1427982,
          43.1422334,
          43.1422334,
          43.1422328,
          43.1422328,
          43.1422334,
          43.1422334,
          43.1422345,
          43.1422345,
          43.1422357,
          43.1422357,
          43.1422355,
          43.1422355,
          43.1423406,
          43.1424266,
          43.1425066,
          43.143875,
          43.143875,
          43.1438736,
          43.1438736,
          43.1438765,
          43.1438765,
          43.1438699
         ],
         "line": {
          "color": "grey",
          "width": 4.5
         },
         "lon": [
          -77.642125,
          -77.6421411,
          -77.6421411,
          -77.6421496,
          -77.6421496,
          -77.6415081,
          -77.6415081,
          -77.6421496,
          -77.6421496,
          -77.643348,
          -77.643348,
          -77.644599,
          -77.644599,
          -77.6458712,
          -77.6458712,
          -77.6458572,
          -77.6458494,
          -77.6458444,
          -77.6458295,
          -77.6458295,
          -77.6445695,
          -77.6445695,
          -77.6433538,
          -77.6433538,
          -77.642125
         ],
         "marker": {
          "size": 10
         },
         "mode": "lines",
         "name": "Path",
         "type": "scattermapbox"
        },
        {
         "lat": [
          43.1438699
         ],
         "lon": [
          -77.642125
         ],
         "marker": {
          "color": "red",
          "size": 12
         },
         "mode": "markers",
         "name": "Source",
         "type": "scattermapbox"
        },
        {
         "lat": [
          43.1438699
         ],
         "lon": [
          -77.642125
         ],
         "marker": {
          "color": "green",
          "size": 12
         },
         "mode": "markers",
         "name": "Destination",
         "type": "scattermapbox"
        }
       ],
       "layout": {
        "mapbox": {
         "center": {
          "lat": 43.142826832,
          "lon": -77.643713592
         },
         "style": "carto-darkmatter",
         "zoom": 13
        },
        "margin": {
         "b": 0,
         "l": 0,
         "r": 0,
         "t": 0
        },
        "template": {
         "data": {
          "bar": [
           {
            "error_x": {
             "color": "#2a3f5f"
            },
            "error_y": {
             "color": "#2a3f5f"
            },
            "marker": {
             "line": {
              "color": "#E5ECF6",
              "width": 0.5
             },
             "pattern": {
              "fillmode": "overlay",
              "size": 10,
              "solidity": 0.2
             }
            },
            "type": "bar"
           }
          ],
          "barpolar": [
           {
            "marker": {
             "line": {
              "color": "#E5ECF6",
              "width": 0.5
             },
             "pattern": {
              "fillmode": "overlay",
              "size": 10,
              "solidity": 0.2
             }
            },
            "type": "barpolar"
           }
          ],
          "carpet": [
           {
            "aaxis": {
             "endlinecolor": "#2a3f5f",
             "gridcolor": "white",
             "linecolor": "white",
             "minorgridcolor": "white",
             "startlinecolor": "#2a3f5f"
            },
            "baxis": {
             "endlinecolor": "#2a3f5f",
             "gridcolor": "white",
             "linecolor": "white",
             "minorgridcolor": "white",
             "startlinecolor": "#2a3f5f"
            },
            "type": "carpet"
           }
          ],
          "choropleth": [
           {
            "colorbar": {
             "outlinewidth": 0,
             "ticks": ""
            },
            "type": "choropleth"
           }
          ],
          "contour": [
           {
            "colorbar": {
             "outlinewidth": 0,
             "ticks": ""
            },
            "colorscale": [
             [
              0,
              "#0d0887"
             ],
             [
              0.1111111111111111,
              "#46039f"
             ],
             [
              0.2222222222222222,
              "#7201a8"
             ],
             [
              0.3333333333333333,
              "#9c179e"
             ],
             [
              0.4444444444444444,
              "#bd3786"
             ],
             [
              0.5555555555555556,
              "#d8576b"
             ],
             [
              0.6666666666666666,
              "#ed7953"
             ],
             [
              0.7777777777777778,
              "#fb9f3a"
             ],
             [
              0.8888888888888888,
              "#fdca26"
             ],
             [
              1,
              "#f0f921"
             ]
            ],
            "type": "contour"
           }
          ],
          "contourcarpet": [
           {
            "colorbar": {
             "outlinewidth": 0,
             "ticks": ""
            },
            "type": "contourcarpet"
           }
          ],
          "heatmap": [
           {
            "colorbar": {
             "outlinewidth": 0,
             "ticks": ""
            },
            "colorscale": [
             [
              0,
              "#0d0887"
             ],
             [
              0.1111111111111111,
              "#46039f"
             ],
             [
              0.2222222222222222,
              "#7201a8"
             ],
             [
              0.3333333333333333,
              "#9c179e"
             ],
             [
              0.4444444444444444,
              "#bd3786"
             ],
             [
              0.5555555555555556,
              "#d8576b"
             ],
             [
              0.6666666666666666,
              "#ed7953"
             ],
             [
              0.7777777777777778,
              "#fb9f3a"
             ],
             [
              0.8888888888888888,
              "#fdca26"
             ],
             [
              1,
              "#f0f921"
             ]
            ],
            "type": "heatmap"
           }
          ],
          "heatmapgl": [
           {
            "colorbar": {
             "outlinewidth": 0,
             "ticks": ""
            },
            "colorscale": [
             [
              0,
              "#0d0887"
             ],
             [
              0.1111111111111111,
              "#46039f"
             ],
             [
              0.2222222222222222,
              "#7201a8"
             ],
             [
              0.3333333333333333,
              "#9c179e"
             ],
             [
              0.4444444444444444,
              "#bd3786"
             ],
             [
              0.5555555555555556,
              "#d8576b"
             ],
             [
              0.6666666666666666,
              "#ed7953"
             ],
             [
              0.7777777777777778,
              "#fb9f3a"
             ],
             [
              0.8888888888888888,
              "#fdca26"
             ],
             [
              1,
              "#f0f921"
             ]
            ],
            "type": "heatmapgl"
           }
          ],
          "histogram": [
           {
            "marker": {
             "pattern": {
              "fillmode": "overlay",
              "size": 10,
              "solidity": 0.2
             }
            },
            "type": "histogram"
           }
          ],
          "histogram2d": [
           {
            "colorbar": {
             "outlinewidth": 0,
             "ticks": ""
            },
            "colorscale": [
             [
              0,
              "#0d0887"
             ],
             [
              0.1111111111111111,
              "#46039f"
             ],
             [
              0.2222222222222222,
              "#7201a8"
             ],
             [
              0.3333333333333333,
              "#9c179e"
             ],
             [
              0.4444444444444444,
              "#bd3786"
             ],
             [
              0.5555555555555556,
              "#d8576b"
             ],
             [
              0.6666666666666666,
              "#ed7953"
             ],
             [
              0.7777777777777778,
              "#fb9f3a"
             ],
             [
              0.8888888888888888,
              "#fdca26"
             ],
             [
              1,
              "#f0f921"
             ]
            ],
            "type": "histogram2d"
           }
          ],
          "histogram2dcontour": [
           {
            "colorbar": {
             "outlinewidth": 0,
             "ticks": ""
            },
            "colorscale": [
             [
              0,
              "#0d0887"
             ],
             [
              0.1111111111111111,
              "#46039f"
             ],
             [
              0.2222222222222222,
              "#7201a8"
             ],
             [
              0.3333333333333333,
              "#9c179e"
             ],
             [
              0.4444444444444444,
              "#bd3786"
             ],
             [
              0.5555555555555556,
              "#d8576b"
             ],
             [
              0.6666666666666666,
              "#ed7953"
             ],
             [
              0.7777777777777778,
              "#fb9f3a"
             ],
             [
              0.8888888888888888,
              "#fdca26"
             ],
             [
              1,
              "#f0f921"
             ]
            ],
            "type": "histogram2dcontour"
           }
          ],
          "mesh3d": [
           {
            "colorbar": {
             "outlinewidth": 0,
             "ticks": ""
            },
            "type": "mesh3d"
           }
          ],
          "parcoords": [
           {
            "line": {
             "colorbar": {
              "outlinewidth": 0,
              "ticks": ""
             }
            },
            "type": "parcoords"
           }
          ],
          "pie": [
           {
            "automargin": true,
            "type": "pie"
           }
          ],
          "scatter": [
           {
            "marker": {
             "colorbar": {
              "outlinewidth": 0,
              "ticks": ""
             }
            },
            "type": "scatter"
           }
          ],
          "scatter3d": [
           {
            "line": {
             "colorbar": {
              "outlinewidth": 0,
              "ticks": ""
             }
            },
            "marker": {
             "colorbar": {
              "outlinewidth": 0,
              "ticks": ""
             }
            },
            "type": "scatter3d"
           }
          ],
          "scattercarpet": [
           {
            "marker": {
             "colorbar": {
              "outlinewidth": 0,
              "ticks": ""
             }
            },
            "type": "scattercarpet"
           }
          ],
          "scattergeo": [
           {
            "marker": {
             "colorbar": {
              "outlinewidth": 0,
              "ticks": ""
             }
            },
            "type": "scattergeo"
           }
          ],
          "scattergl": [
           {
            "marker": {
             "colorbar": {
              "outlinewidth": 0,
              "ticks": ""
             }
            },
            "type": "scattergl"
           }
          ],
          "scattermapbox": [
           {
            "marker": {
             "colorbar": {
              "outlinewidth": 0,
              "ticks": ""
             }
            },
            "type": "scattermapbox"
           }
          ],
          "scatterpolar": [
           {
            "marker": {
             "colorbar": {
              "outlinewidth": 0,
              "ticks": ""
             }
            },
            "type": "scatterpolar"
           }
          ],
          "scatterpolargl": [
           {
            "marker": {
             "colorbar": {
              "outlinewidth": 0,
              "ticks": ""
             }
            },
            "type": "scatterpolargl"
           }
          ],
          "scatterternary": [
           {
            "marker": {
             "colorbar": {
              "outlinewidth": 0,
              "ticks": ""
             }
            },
            "type": "scatterternary"
           }
          ],
          "surface": [
           {
            "colorbar": {
             "outlinewidth": 0,
             "ticks": ""
            },
            "colorscale": [
             [
              0,
              "#0d0887"
             ],
             [
              0.1111111111111111,
              "#46039f"
             ],
             [
              0.2222222222222222,
              "#7201a8"
             ],
             [
              0.3333333333333333,
              "#9c179e"
             ],
             [
              0.4444444444444444,
              "#bd3786"
             ],
             [
              0.5555555555555556,
              "#d8576b"
             ],
             [
              0.6666666666666666,
              "#ed7953"
             ],
             [
              0.7777777777777778,
              "#fb9f3a"
             ],
             [
              0.8888888888888888,
              "#fdca26"
             ],
             [
              1,
              "#f0f921"
             ]
            ],
            "type": "surface"
           }
          ],
          "table": [
           {
            "cells": {
             "fill": {
              "color": "#EBF0F8"
             },
             "line": {
              "color": "white"
             }
            },
            "header": {
             "fill": {
              "color": "#C8D4E3"
             },
             "line": {
              "color": "white"
             }
            },
            "type": "table"
           }
          ]
         },
         "layout": {
          "annotationdefaults": {
           "arrowcolor": "#2a3f5f",
           "arrowhead": 0,
           "arrowwidth": 1
          },
          "autotypenumbers": "strict",
          "coloraxis": {
           "colorbar": {
            "outlinewidth": 0,
            "ticks": ""
           }
          },
          "colorscale": {
           "diverging": [
            [
             0,
             "#8e0152"
            ],
            [
             0.1,
             "#c51b7d"
            ],
            [
             0.2,
             "#de77ae"
            ],
            [
             0.3,
             "#f1b6da"
            ],
            [
             0.4,
             "#fde0ef"
            ],
            [
             0.5,
             "#f7f7f7"
            ],
            [
             0.6,
             "#e6f5d0"
            ],
            [
             0.7,
             "#b8e186"
            ],
            [
             0.8,
             "#7fbc41"
            ],
            [
             0.9,
             "#4d9221"
            ],
            [
             1,
             "#276419"
            ]
           ],
           "sequential": [
            [
             0,
             "#0d0887"
            ],
            [
             0.1111111111111111,
             "#46039f"
            ],
            [
             0.2222222222222222,
             "#7201a8"
            ],
            [
             0.3333333333333333,
             "#9c179e"
            ],
            [
             0.4444444444444444,
             "#bd3786"
            ],
            [
             0.5555555555555556,
             "#d8576b"
            ],
            [
             0.6666666666666666,
             "#ed7953"
            ],
            [
             0.7777777777777778,
             "#fb9f3a"
            ],
            [
             0.8888888888888888,
             "#fdca26"
            ],
            [
             1,
             "#f0f921"
            ]
           ],
           "sequentialminus": [
            [
             0,
             "#0d0887"
            ],
            [
             0.1111111111111111,
             "#46039f"
            ],
            [
             0.2222222222222222,
             "#7201a8"
            ],
            [
             0.3333333333333333,
             "#9c179e"
            ],
            [
             0.4444444444444444,
             "#bd3786"
            ],
            [
             0.5555555555555556,
             "#d8576b"
            ],
            [
             0.6666666666666666,
             "#ed7953"
            ],
            [
             0.7777777777777778,
             "#fb9f3a"
            ],
            [
             0.8888888888888888,
             "#fdca26"
            ],
            [
             1,
             "#f0f921"
            ]
           ]
          },
          "colorway": [
           "#636efa",
           "#EF553B",
           "#00cc96",
           "#ab63fa",
           "#FFA15A",
           "#19d3f3",
           "#FF6692",
           "#B6E880",
           "#FF97FF",
           "#FECB52"
          ],
          "font": {
           "color": "#2a3f5f"
          },
          "geo": {
           "bgcolor": "white",
           "lakecolor": "white",
           "landcolor": "#E5ECF6",
           "showlakes": true,
           "showland": true,
           "subunitcolor": "white"
          },
          "hoverlabel": {
           "align": "left"
          },
          "hovermode": "closest",
          "mapbox": {
           "style": "light"
          },
          "paper_bgcolor": "white",
          "plot_bgcolor": "#E5ECF6",
          "polar": {
           "angularaxis": {
            "gridcolor": "white",
            "linecolor": "white",
            "ticks": ""
           },
           "bgcolor": "#E5ECF6",
           "radialaxis": {
            "gridcolor": "white",
            "linecolor": "white",
            "ticks": ""
           }
          },
          "scene": {
           "xaxis": {
            "backgroundcolor": "#E5ECF6",
            "gridcolor": "white",
            "gridwidth": 2,
            "linecolor": "white",
            "showbackground": true,
            "ticks": "",
            "zerolinecolor": "white"
           },
           "yaxis": {
            "backgroundcolor": "#E5ECF6",
            "gridcolor": "white",
            "gridwidth": 2,
            "linecolor": "white",
            "showbackground": true,
            "ticks": "",
            "zerolinecolor": "white"
           },
           "zaxis": {
            "backgroundcolor": "#E5ECF6",
            "gridcolor": "white",
            "gridwidth": 2,
            "linecolor": "white",
            "showbackground": true,
            "ticks": "",
            "zerolinecolor": "white"
           }
          },
          "shapedefaults": {
           "line": {
            "color": "#2a3f5f"
           }
          },
          "ternary": {
           "aaxis": {
            "gridcolor": "white",
            "linecolor": "white",
            "ticks": ""
           },
           "baxis": {
            "gridcolor": "white",
            "linecolor": "white",
            "ticks": ""
           },
           "bgcolor": "#E5ECF6",
           "caxis": {
            "gridcolor": "white",
            "linecolor": "white",
            "ticks": ""
           }
          },
          "title": {
           "x": 0.05
          },
          "xaxis": {
           "automargin": true,
           "gridcolor": "white",
           "linecolor": "white",
           "ticks": "",
           "title": {
            "standoff": 15
           },
           "zerolinecolor": "white",
           "zerolinewidth": 2
          },
          "yaxis": {
           "automargin": true,
           "gridcolor": "white",
           "linecolor": "white",
           "ticks": "",
           "title": {
            "standoff": 15
           },
           "zerolinecolor": "white",
           "zerolinewidth": 2
          }
         }
        }
       }
      },
      "text/html": [
       "<div>                            <div id=\"6bc63242-f108-4964-bd3c-535e45e4bdf5\" class=\"plotly-graph-div\" style=\"height:525px; width:100%;\"></div>            <script type=\"text/javascript\">                require([\"plotly\"], function(Plotly) {                    window.PLOTLYENV=window.PLOTLYENV || {};                                    if (document.getElementById(\"6bc63242-f108-4964-bd3c-535e45e4bdf5\")) {                    Plotly.newPlot(                        \"6bc63242-f108-4964-bd3c-535e45e4bdf5\",                        [{\"lat\":[43.1438699,43.1427982,43.1427982,43.1422334,43.1422334,43.1422328,43.1422328,43.1422334,43.1422334,43.1422345,43.1422345,43.1422357,43.1422357,43.1422355,43.1422355,43.1423406,43.1424266,43.1425066,43.143875,43.143875,43.1438736,43.1438736,43.1438765,43.1438765,43.1438699],\"line\":{\"color\":\"grey\",\"width\":4.5},\"lon\":[-77.642125,-77.6421411,-77.6421411,-77.6421496,-77.6421496,-77.6415081,-77.6415081,-77.6421496,-77.6421496,-77.643348,-77.643348,-77.644599,-77.644599,-77.6458712,-77.6458712,-77.6458572,-77.6458494,-77.6458444,-77.6458295,-77.6458295,-77.6445695,-77.6445695,-77.6433538,-77.6433538,-77.642125],\"marker\":{\"size\":10},\"mode\":\"lines\",\"name\":\"Path\",\"type\":\"scattermapbox\"},{\"lat\":[43.1438699],\"lon\":[-77.642125],\"marker\":{\"color\":\"red\",\"size\":12},\"mode\":\"markers\",\"name\":\"Source\",\"type\":\"scattermapbox\"},{\"lat\":[43.1438699],\"lon\":[-77.642125],\"marker\":{\"color\":\"green\",\"size\":12},\"mode\":\"markers\",\"name\":\"Destination\",\"type\":\"scattermapbox\"}],                        {\"mapbox\":{\"center\":{\"lat\":43.142826832,\"lon\":-77.643713592},\"style\":\"carto-darkmatter\",\"zoom\":13},\"margin\":{\"b\":0,\"l\":0,\"r\":0,\"t\":0},\"template\":{\"data\":{\"bar\":[{\"error_x\":{\"color\":\"#2a3f5f\"},\"error_y\":{\"color\":\"#2a3f5f\"},\"marker\":{\"line\":{\"color\":\"#E5ECF6\",\"width\":0.5},\"pattern\":{\"fillmode\":\"overlay\",\"size\":10,\"solidity\":0.2}},\"type\":\"bar\"}],\"barpolar\":[{\"marker\":{\"line\":{\"color\":\"#E5ECF6\",\"width\":0.5},\"pattern\":{\"fillmode\":\"overlay\",\"size\":10,\"solidity\":0.2}},\"type\":\"barpolar\"}],\"carpet\":[{\"aaxis\":{\"endlinecolor\":\"#2a3f5f\",\"gridcolor\":\"white\",\"linecolor\":\"white\",\"minorgridcolor\":\"white\",\"startlinecolor\":\"#2a3f5f\"},\"baxis\":{\"endlinecolor\":\"#2a3f5f\",\"gridcolor\":\"white\",\"linecolor\":\"white\",\"minorgridcolor\":\"white\",\"startlinecolor\":\"#2a3f5f\"},\"type\":\"carpet\"}],\"choropleth\":[{\"colorbar\":{\"outlinewidth\":0,\"ticks\":\"\"},\"type\":\"choropleth\"}],\"contour\":[{\"colorbar\":{\"outlinewidth\":0,\"ticks\":\"\"},\"colorscale\":[[0.0,\"#0d0887\"],[0.1111111111111111,\"#46039f\"],[0.2222222222222222,\"#7201a8\"],[0.3333333333333333,\"#9c179e\"],[0.4444444444444444,\"#bd3786\"],[0.5555555555555556,\"#d8576b\"],[0.6666666666666666,\"#ed7953\"],[0.7777777777777778,\"#fb9f3a\"],[0.8888888888888888,\"#fdca26\"],[1.0,\"#f0f921\"]],\"type\":\"contour\"}],\"contourcarpet\":[{\"colorbar\":{\"outlinewidth\":0,\"ticks\":\"\"},\"type\":\"contourcarpet\"}],\"heatmap\":[{\"colorbar\":{\"outlinewidth\":0,\"ticks\":\"\"},\"colorscale\":[[0.0,\"#0d0887\"],[0.1111111111111111,\"#46039f\"],[0.2222222222222222,\"#7201a8\"],[0.3333333333333333,\"#9c179e\"],[0.4444444444444444,\"#bd3786\"],[0.5555555555555556,\"#d8576b\"],[0.6666666666666666,\"#ed7953\"],[0.7777777777777778,\"#fb9f3a\"],[0.8888888888888888,\"#fdca26\"],[1.0,\"#f0f921\"]],\"type\":\"heatmap\"}],\"heatmapgl\":[{\"colorbar\":{\"outlinewidth\":0,\"ticks\":\"\"},\"colorscale\":[[0.0,\"#0d0887\"],[0.1111111111111111,\"#46039f\"],[0.2222222222222222,\"#7201a8\"],[0.3333333333333333,\"#9c179e\"],[0.4444444444444444,\"#bd3786\"],[0.5555555555555556,\"#d8576b\"],[0.6666666666666666,\"#ed7953\"],[0.7777777777777778,\"#fb9f3a\"],[0.8888888888888888,\"#fdca26\"],[1.0,\"#f0f921\"]],\"type\":\"heatmapgl\"}],\"histogram\":[{\"marker\":{\"pattern\":{\"fillmode\":\"overlay\",\"size\":10,\"solidity\":0.2}},\"type\":\"histogram\"}],\"histogram2d\":[{\"colorbar\":{\"outlinewidth\":0,\"ticks\":\"\"},\"colorscale\":[[0.0,\"#0d0887\"],[0.1111111111111111,\"#46039f\"],[0.2222222222222222,\"#7201a8\"],[0.3333333333333333,\"#9c179e\"],[0.4444444444444444,\"#bd3786\"],[0.5555555555555556,\"#d8576b\"],[0.6666666666666666,\"#ed7953\"],[0.7777777777777778,\"#fb9f3a\"],[0.8888888888888888,\"#fdca26\"],[1.0,\"#f0f921\"]],\"type\":\"histogram2d\"}],\"histogram2dcontour\":[{\"colorbar\":{\"outlinewidth\":0,\"ticks\":\"\"},\"colorscale\":[[0.0,\"#0d0887\"],[0.1111111111111111,\"#46039f\"],[0.2222222222222222,\"#7201a8\"],[0.3333333333333333,\"#9c179e\"],[0.4444444444444444,\"#bd3786\"],[0.5555555555555556,\"#d8576b\"],[0.6666666666666666,\"#ed7953\"],[0.7777777777777778,\"#fb9f3a\"],[0.8888888888888888,\"#fdca26\"],[1.0,\"#f0f921\"]],\"type\":\"histogram2dcontour\"}],\"mesh3d\":[{\"colorbar\":{\"outlinewidth\":0,\"ticks\":\"\"},\"type\":\"mesh3d\"}],\"parcoords\":[{\"line\":{\"colorbar\":{\"outlinewidth\":0,\"ticks\":\"\"}},\"type\":\"parcoords\"}],\"pie\":[{\"automargin\":true,\"type\":\"pie\"}],\"scatter\":[{\"marker\":{\"colorbar\":{\"outlinewidth\":0,\"ticks\":\"\"}},\"type\":\"scatter\"}],\"scatter3d\":[{\"line\":{\"colorbar\":{\"outlinewidth\":0,\"ticks\":\"\"}},\"marker\":{\"colorbar\":{\"outlinewidth\":0,\"ticks\":\"\"}},\"type\":\"scatter3d\"}],\"scattercarpet\":[{\"marker\":{\"colorbar\":{\"outlinewidth\":0,\"ticks\":\"\"}},\"type\":\"scattercarpet\"}],\"scattergeo\":[{\"marker\":{\"colorbar\":{\"outlinewidth\":0,\"ticks\":\"\"}},\"type\":\"scattergeo\"}],\"scattergl\":[{\"marker\":{\"colorbar\":{\"outlinewidth\":0,\"ticks\":\"\"}},\"type\":\"scattergl\"}],\"scattermapbox\":[{\"marker\":{\"colorbar\":{\"outlinewidth\":0,\"ticks\":\"\"}},\"type\":\"scattermapbox\"}],\"scatterpolar\":[{\"marker\":{\"colorbar\":{\"outlinewidth\":0,\"ticks\":\"\"}},\"type\":\"scatterpolar\"}],\"scatterpolargl\":[{\"marker\":{\"colorbar\":{\"outlinewidth\":0,\"ticks\":\"\"}},\"type\":\"scatterpolargl\"}],\"scatterternary\":[{\"marker\":{\"colorbar\":{\"outlinewidth\":0,\"ticks\":\"\"}},\"type\":\"scatterternary\"}],\"surface\":[{\"colorbar\":{\"outlinewidth\":0,\"ticks\":\"\"},\"colorscale\":[[0.0,\"#0d0887\"],[0.1111111111111111,\"#46039f\"],[0.2222222222222222,\"#7201a8\"],[0.3333333333333333,\"#9c179e\"],[0.4444444444444444,\"#bd3786\"],[0.5555555555555556,\"#d8576b\"],[0.6666666666666666,\"#ed7953\"],[0.7777777777777778,\"#fb9f3a\"],[0.8888888888888888,\"#fdca26\"],[1.0,\"#f0f921\"]],\"type\":\"surface\"}],\"table\":[{\"cells\":{\"fill\":{\"color\":\"#EBF0F8\"},\"line\":{\"color\":\"white\"}},\"header\":{\"fill\":{\"color\":\"#C8D4E3\"},\"line\":{\"color\":\"white\"}},\"type\":\"table\"}]},\"layout\":{\"annotationdefaults\":{\"arrowcolor\":\"#2a3f5f\",\"arrowhead\":0,\"arrowwidth\":1},\"autotypenumbers\":\"strict\",\"coloraxis\":{\"colorbar\":{\"outlinewidth\":0,\"ticks\":\"\"}},\"colorscale\":{\"diverging\":[[0,\"#8e0152\"],[0.1,\"#c51b7d\"],[0.2,\"#de77ae\"],[0.3,\"#f1b6da\"],[0.4,\"#fde0ef\"],[0.5,\"#f7f7f7\"],[0.6,\"#e6f5d0\"],[0.7,\"#b8e186\"],[0.8,\"#7fbc41\"],[0.9,\"#4d9221\"],[1,\"#276419\"]],\"sequential\":[[0.0,\"#0d0887\"],[0.1111111111111111,\"#46039f\"],[0.2222222222222222,\"#7201a8\"],[0.3333333333333333,\"#9c179e\"],[0.4444444444444444,\"#bd3786\"],[0.5555555555555556,\"#d8576b\"],[0.6666666666666666,\"#ed7953\"],[0.7777777777777778,\"#fb9f3a\"],[0.8888888888888888,\"#fdca26\"],[1.0,\"#f0f921\"]],\"sequentialminus\":[[0.0,\"#0d0887\"],[0.1111111111111111,\"#46039f\"],[0.2222222222222222,\"#7201a8\"],[0.3333333333333333,\"#9c179e\"],[0.4444444444444444,\"#bd3786\"],[0.5555555555555556,\"#d8576b\"],[0.6666666666666666,\"#ed7953\"],[0.7777777777777778,\"#fb9f3a\"],[0.8888888888888888,\"#fdca26\"],[1.0,\"#f0f921\"]]},\"colorway\":[\"#636efa\",\"#EF553B\",\"#00cc96\",\"#ab63fa\",\"#FFA15A\",\"#19d3f3\",\"#FF6692\",\"#B6E880\",\"#FF97FF\",\"#FECB52\"],\"font\":{\"color\":\"#2a3f5f\"},\"geo\":{\"bgcolor\":\"white\",\"lakecolor\":\"white\",\"landcolor\":\"#E5ECF6\",\"showlakes\":true,\"showland\":true,\"subunitcolor\":\"white\"},\"hoverlabel\":{\"align\":\"left\"},\"hovermode\":\"closest\",\"mapbox\":{\"style\":\"light\"},\"paper_bgcolor\":\"white\",\"plot_bgcolor\":\"#E5ECF6\",\"polar\":{\"angularaxis\":{\"gridcolor\":\"white\",\"linecolor\":\"white\",\"ticks\":\"\"},\"bgcolor\":\"#E5ECF6\",\"radialaxis\":{\"gridcolor\":\"white\",\"linecolor\":\"white\",\"ticks\":\"\"}},\"scene\":{\"xaxis\":{\"backgroundcolor\":\"#E5ECF6\",\"gridcolor\":\"white\",\"gridwidth\":2,\"linecolor\":\"white\",\"showbackground\":true,\"ticks\":\"\",\"zerolinecolor\":\"white\"},\"yaxis\":{\"backgroundcolor\":\"#E5ECF6\",\"gridcolor\":\"white\",\"gridwidth\":2,\"linecolor\":\"white\",\"showbackground\":true,\"ticks\":\"\",\"zerolinecolor\":\"white\"},\"zaxis\":{\"backgroundcolor\":\"#E5ECF6\",\"gridcolor\":\"white\",\"gridwidth\":2,\"linecolor\":\"white\",\"showbackground\":true,\"ticks\":\"\",\"zerolinecolor\":\"white\"}},\"shapedefaults\":{\"line\":{\"color\":\"#2a3f5f\"}},\"ternary\":{\"aaxis\":{\"gridcolor\":\"white\",\"linecolor\":\"white\",\"ticks\":\"\"},\"baxis\":{\"gridcolor\":\"white\",\"linecolor\":\"white\",\"ticks\":\"\"},\"bgcolor\":\"#E5ECF6\",\"caxis\":{\"gridcolor\":\"white\",\"linecolor\":\"white\",\"ticks\":\"\"}},\"title\":{\"x\":0.05},\"xaxis\":{\"automargin\":true,\"gridcolor\":\"white\",\"linecolor\":\"white\",\"ticks\":\"\",\"title\":{\"standoff\":15},\"zerolinecolor\":\"white\",\"zerolinewidth\":2},\"yaxis\":{\"automargin\":true,\"gridcolor\":\"white\",\"linecolor\":\"white\",\"ticks\":\"\",\"title\":{\"standoff\":15},\"zerolinecolor\":\"white\",\"zerolinewidth\":2}}}},                        {\"responsive\": true}                    ).then(function(){\n",
       "                            \n",
       "var gd = document.getElementById('6bc63242-f108-4964-bd3c-535e45e4bdf5');\n",
       "var x = new MutationObserver(function (mutations, observer) {{\n",
       "        var display = window.getComputedStyle(gd).display;\n",
       "        if (!display || display === 'none') {{\n",
       "            console.log([gd, 'removed!']);\n",
       "            Plotly.purge(gd);\n",
       "            observer.disconnect();\n",
       "        }}\n",
       "}});\n",
       "\n",
       "// Listen for the removal of the full notebook cells\n",
       "var notebookContainer = gd.closest('#notebook-container');\n",
       "if (notebookContainer) {{\n",
       "    x.observe(notebookContainer, {childList: true});\n",
       "}}\n",
       "\n",
       "// Listen for the clearing of the current output cell\n",
       "var outputEl = gd.closest('.output');\n",
       "if (outputEl) {{\n",
       "    x.observe(outputEl, {childList: true});\n",
       "}}\n",
       "\n",
       "                        })                };                });            </script>        </div>"
      ]
     },
     "metadata": {},
     "output_type": "display_data"
    }
   ],
   "source": [
    "\n",
    "#Creating a bounding box\n",
    "north, south, east, west = 43.142049,43.144241,-77.646089,-77.641239\n",
    "\n",
    "\n",
    "G = ox.graph_from_bbox(north, south, east, west, network_type=\"drive_service\")\n",
    "colors = plt.rcParams['axes.prop_cycle'].by_key()['color']\n",
    "ox.plot.plot_graph(G, bgcolor='#FFFFFF', node_color=colors[0], edge_color='lightgray', node_size=5)\n",
    "\n",
    "\n",
    "#Extracting Node Information from G\n",
    "Nodes = []\n",
    "for i in G.nodes:\n",
    "    Nodes.append(i)\n",
    "\n",
    "data = pd.DataFrame(Nodes)\n",
    "data.rename(columns = {0:'Nodes'}, inplace = True)\n",
    "\n",
    "\n",
    "lat1 = []\n",
    "long1 = []\n",
    "for i in Nodes:\n",
    "    lat1.append(G.nodes[i].get('y'))\n",
    "    long1.append(G.nodes[i].get('x'))\n",
    "data['Latitude'] = lat1\n",
    "data['Longitude'] = long1\n",
    "df1 = data\n",
    "\n",
    "df1 = df1.drop(['Nodes'],axis=1)\n",
    "df1.rename(columns = {'Latitude':'Left'}, inplace = True)\n",
    "df1.rename(columns = {'Longitude':'Right'}, inplace = True)\n",
    "\n",
    "    #Calculating Distance and the distance matrix for all coordinates in the Bounding Box\n",
    "df3 = pd.DataFrame()\n",
    "for j in df1.index:\n",
    "    list1 = []\n",
    "    for i in df1.index:\n",
    "        r = requests.get(f\"\"\"http://router.project-osrm.org/route/v1/car/{df1.loc[j, \"Right\"]},{df1.loc[j, \"Left\"]};{df1.loc[i, \"Right\"]},{df1.loc[i, \"Left\"]}?overview=false\"\"\")\n",
    "        list1.append(json.loads(r.content)[\"routes\"][0][\"distance\"])\n",
    "    df3[j] = list1\n",
    "df = df1\n",
    "df['coordinate'] = list(zip(df['Right'],df['Left']))\n",
    "df['ID'] = df.index\n",
    "\n",
    "locations = dict( ( ID, (df.loc[ID, 'Right'], df.loc[ID, 'Left']) ) for ID in df.index)\n",
    "distances_df = df3\n",
    "distance = distances_df\n",
    "distances = dict( ((l1,l2), distance.iloc[l1, l2] ) for l1 in locations for l2 in locations if l1!=l2)\n",
    "\n",
    "\n",
    "    ## V: This defines the total number of vehicles that will traverse the path.\n",
    "V = 1\n",
    "    ## prob: This initializes the problem that will run using provided constraints.\n",
    "\n",
    "prob=LpProblem(\"vehicle\", LpMinimize)\n",
    "    ## indicator: This defines the variable dictionary consisting of distances and indicates if location i is connected to location j along route\n",
    "indicator = LpVariable.dicts('indicator',distances, 0,1,LpBinary)\n",
    "    ## eliminator: This defines the variable dictionary consisting of the node ID's and elimiate subtours\n",
    "eliminator = LpVariable.dicts('eliminator', df.ID, 0, len(df.ID)-1, LpInteger)\n",
    "    ## cost: This stores the result of distances calculations.\n",
    "cost = lpSum([indicator[(i,j)]*distances[(i,j)] for (i,j) in distances])\n",
    "prob+=cost\n",
    "\n",
    "start1 = 2\n",
    "for v in df.ID:\n",
    "        ## cap: This considers a particular node at a time. \n",
    "    cap = 1 if v != start1 else V\n",
    "        #inward possible route\n",
    "    prob+= lpSum([ indicator[(i,v)] for i in df.ID if (i,v) in indicator]) ==cap\n",
    "        #outward possible route\n",
    "    prob+=lpSum([ indicator[(v,i)] for i in df.ID if (v,i) in indicator]) ==cap\n",
    "    ## num: This stores the result of the number of nodes and the number of vehicles.    \n",
    "num=len(df.ID)/V\n",
    "for i in df.ID:\n",
    "    for j in df.ID:\n",
    "        if i != j and (i != start1 and j!= start1) and (i,j) in indicator:\n",
    "             prob += eliminator[i] - eliminator[j] <= (num)*(1-indicator[(i,j)]) - 1         \n",
    "prob.solve()\n",
    "    ## feasibleedges: This stores values of edges after the calculations are done.\n",
    "feasible_edges = [ e for e in indicator if value(indicator[e]) != 0 ]\n",
    "    ##@get_next_loc\n",
    "    # This provides with the next coordinates for the next node in the path.\n",
    "def get_next_loc(initial):\n",
    "    edges = [e for e in feasible_edges if e[0]==initial]\n",
    "    for e in edges:\n",
    "        feasible_edges.remove(e)\n",
    "    return edges\n",
    "    ## routes: This stores information regarding paths.    \n",
    "routes = get_next_loc(2)\n",
    "routes = [ [e] for e in routes ]\n",
    "\n",
    "for r in routes:\n",
    "    while r[-1][1] !=start1:\n",
    "        r.append(get_next_loc(r[-1][1])[-1])\n",
    "\n",
    "\n",
    "\n",
    "\n",
    "df2 = df[['Left', 'Right', 'ID']].copy()\n",
    "df2.rename(columns = {'Left':'Latitude'}, inplace = True)\n",
    "df2.rename(columns = {'Right':'Longitude'}, inplace = True)\n",
    "a=[]\n",
    "for i in range(data.index.stop):\n",
    "    #print(routes[0][i][0])\n",
    "    a.append(routes[0][i][0]) \n",
    "\n",
    "df3 = pd.DataFrame()\n",
    "for i in a:\n",
    "    df3 = df3.append(df2.loc[i])\n",
    "\n",
    "df3.reset_index(inplace = True)\n",
    "\n",
    "df3 = df3.append(df3.loc[0])\n",
    "df3.reset_index(inplace = True)\n",
    "df4 = df3\n",
    "dfnodes = pd.DataFrame(Nodes)\n",
    "dfnodes.rename(columns = {0:'Nodes'}, inplace = True)\n",
    "dfnodes = dfnodes.reindex(a)\n",
    "dfnodes = dfnodes.append({\"Nodes\":Nodes[a[0]]},ignore_index=True)\n",
    "df4 = pd.concat([df4,dfnodes],axis=1)\n",
    "    \n",
    "    \n",
    "def node_list_to_path2(G, node_list):\n",
    "   \n",
    "    edge_nodes = list(zip(node_list[:-1], node_list[1:]))\n",
    "    lines = []\n",
    "    newlist=[]\n",
    "           \n",
    "            \n",
    "    for u, v in edge_nodes:\n",
    "        if(G.get_edge_data(u, v)):\n",
    "            newlist.append((u,v))\n",
    "        else:    \n",
    "            path1 = nx.shortest_path(G,u, v, weight='travel_time')\n",
    "            path2 = list(zip(path1[:-1], path1[1:]))\n",
    "            newlist = newlist+path2        \n",
    "    for u, v in newlist:\n",
    "        # if there are parallel edges, select the shortest in length\n",
    "        \n",
    "        data = min(G.get_edge_data(u, v).values(), \n",
    "                key=lambda x: x['length'])\n",
    "            # if it has a geometry attribute\n",
    "        if 'geometry' in data:\n",
    "            # add them to the list of lines to plot\n",
    "            xs, ys = data['geometry'].xy\n",
    "            lines.append(list(zip(xs, ys)))\n",
    "        else:\n",
    "            # if it doesn't have a geometry attribute,\n",
    "            # then the edge is a straight line from node to node\n",
    "            x1 = G.nodes[u]['x']\n",
    "            y1 = G.nodes[u]['y']\n",
    "            x2 = G.nodes[v]['x']\n",
    "            y2 = G.nodes[v]['y']\n",
    "            line = [(x1, y1), (x2, y2)]\n",
    "            lines.append(line)\n",
    "            \n",
    "    return lines    \n",
    "    \n",
    "    \n",
    "    \n",
    "def plot_path(lat, long, origin_point, destination_point):\n",
    "    fig = go.Figure(go.Scattermapbox(\n",
    "        name = \"Path\",\n",
    "        mode = \"lines\",\n",
    "        lon = long,\n",
    "        lat = lat,\n",
    "        marker = {'size': 10},\n",
    "        line = dict(width = 4.5, color = 'grey')))\n",
    "    fig.add_trace(go.Scattermapbox(\n",
    "        name = \"Source\",\n",
    "        mode = \"markers\",\n",
    "        lon = [origin_point[1]],\n",
    "        lat = [origin_point[0]],\n",
    "        marker = {'size': 12, 'color':\"red\"}))\n",
    "    fig.add_trace(go.Scattermapbox(\n",
    "        name = \"Destination\",\n",
    "        mode = \"markers\",\n",
    "        lon = [destination_point[1]],\n",
    "        lat = [destination_point[0]],\n",
    "        marker = {'size': 12, 'color':'green'}))\n",
    "    lat_center = np.mean(lat)\n",
    "    long_center = np.mean(long)\n",
    "    fig.update_layout(mapbox_style=\"carto-darkmatter\",\n",
    "        mapbox_center_lat = 30, mapbox_center_lon=-80)\n",
    "    fig.update_layout(margin={\"r\":0,\"t\":0,\"l\":0,\"b\":0},\n",
    "                        mapbox = {\n",
    "                            'center': {'lat': lat_center, \n",
    "                            'lon': long_center},\n",
    "                            'zoom': 13})\n",
    "    fig.show()\n",
    "\n",
    "\n",
    "pathlist = []\n",
    "for i in range(df4['Nodes'].count()-1):\n",
    "    path1 = nx.shortest_path(G, df4.iloc[i]['Nodes'],df4.iloc[i+1]['Nodes'], weight='travel_time')\n",
    "    pathlist = pathlist+path1\n",
    "\n",
    "node_loc = pd.DataFrame(pathlist)\n",
    "node_loc.rename(columns = {0:'Nodes'}, inplace = True)\n",
    "lat1 = []\n",
    "long1 = []\n",
    "lines = node_list_to_path2(G, pathlist)\n",
    "long2 = []\n",
    "lat2 = []\n",
    "for i in range(len(lines)):\n",
    "    z = list(lines[i])\n",
    "    l1 = list(list(zip(*z))[0])\n",
    "    l2 = list(list(zip(*z))[1])\n",
    "    for j in range(len(l1)):\n",
    "        long2.append(l1[j])\n",
    "        lat2.append(l2[j])\n",
    "        \n",
    "new_total_locs = pd.DataFrame()\n",
    "new_total_locs['Latitude'] = lat2\n",
    "new_total_locs['Longitude'] = long2\n",
    "#Trash = []\n",
    "#for i in new_total_locs.index:\n",
    "#    Trash.append(random.randint(10,25))\n",
    "#new_total_locs['Trash'] = Trash\n",
    "            \n",
    "for i in pathlist:\n",
    "    lat1.append(G.nodes[i].get('y'))\n",
    "    long1.append(G.nodes[i].get('x'))\n",
    "node_loc['Latitude'] = lat1\n",
    "node_loc['Longitude'] = long1\n",
    "origin_point = (node_loc.loc[0][\"Latitude\"], node_loc.loc[0][\"Longitude\"]) \n",
    "destination_point = (node_loc.iloc[-1][\"Latitude\"], node_loc.iloc[-1][\"Longitude\"])\n",
    "\n",
    "\n",
    "\n",
    "plot_path(lat2, long2, origin_point, destination_point)\n"
   ]
  },
  {
   "cell_type": "code",
   "execution_count": 78,
   "id": "returning-theology",
   "metadata": {},
   "outputs": [
    {
     "data": {
      "text/html": [
       "<div>\n",
       "<style scoped>\n",
       "    .dataframe tbody tr th:only-of-type {\n",
       "        vertical-align: middle;\n",
       "    }\n",
       "\n",
       "    .dataframe tbody tr th {\n",
       "        vertical-align: top;\n",
       "    }\n",
       "\n",
       "    .dataframe thead th {\n",
       "        text-align: right;\n",
       "    }\n",
       "</style>\n",
       "<table border=\"1\" class=\"dataframe\">\n",
       "  <thead>\n",
       "    <tr style=\"text-align: right;\">\n",
       "      <th></th>\n",
       "      <th>Nodes</th>\n",
       "      <th>Latitude</th>\n",
       "      <th>Longitude</th>\n",
       "    </tr>\n",
       "  </thead>\n",
       "  <tbody>\n",
       "    <tr>\n",
       "      <th>0</th>\n",
       "      <td>2.126249e+08</td>\n",
       "      <td>43.143870</td>\n",
       "      <td>-77.642125</td>\n",
       "    </tr>\n",
       "    <tr>\n",
       "      <th>1</th>\n",
       "      <td>7.199136e+09</td>\n",
       "      <td>43.142798</td>\n",
       "      <td>-77.642141</td>\n",
       "    </tr>\n",
       "    <tr>\n",
       "      <th>2</th>\n",
       "      <td>7.199136e+09</td>\n",
       "      <td>43.142798</td>\n",
       "      <td>-77.642141</td>\n",
       "    </tr>\n",
       "    <tr>\n",
       "      <th>3</th>\n",
       "      <td>2.127877e+08</td>\n",
       "      <td>43.142233</td>\n",
       "      <td>-77.642150</td>\n",
       "    </tr>\n",
       "    <tr>\n",
       "      <th>4</th>\n",
       "      <td>2.127877e+08</td>\n",
       "      <td>43.142233</td>\n",
       "      <td>-77.642150</td>\n",
       "    </tr>\n",
       "    <tr>\n",
       "      <th>5</th>\n",
       "      <td>7.199136e+09</td>\n",
       "      <td>43.142233</td>\n",
       "      <td>-77.641508</td>\n",
       "    </tr>\n",
       "    <tr>\n",
       "      <th>6</th>\n",
       "      <td>7.199136e+09</td>\n",
       "      <td>43.142233</td>\n",
       "      <td>-77.641508</td>\n",
       "    </tr>\n",
       "    <tr>\n",
       "      <th>7</th>\n",
       "      <td>2.127877e+08</td>\n",
       "      <td>43.142233</td>\n",
       "      <td>-77.642150</td>\n",
       "    </tr>\n",
       "    <tr>\n",
       "      <th>8</th>\n",
       "      <td>2.127877e+08</td>\n",
       "      <td>43.142235</td>\n",
       "      <td>-77.643348</td>\n",
       "    </tr>\n",
       "    <tr>\n",
       "      <th>9</th>\n",
       "      <td>2.127877e+08</td>\n",
       "      <td>43.142235</td>\n",
       "      <td>-77.643348</td>\n",
       "    </tr>\n",
       "    <tr>\n",
       "      <th>10</th>\n",
       "      <td>2.126247e+08</td>\n",
       "      <td>43.142236</td>\n",
       "      <td>-77.644599</td>\n",
       "    </tr>\n",
       "    <tr>\n",
       "      <th>11</th>\n",
       "      <td>2.126247e+08</td>\n",
       "      <td>43.142236</td>\n",
       "      <td>-77.644599</td>\n",
       "    </tr>\n",
       "    <tr>\n",
       "      <th>12</th>\n",
       "      <td>2.126731e+08</td>\n",
       "      <td>43.142235</td>\n",
       "      <td>-77.645871</td>\n",
       "    </tr>\n",
       "    <tr>\n",
       "      <th>13</th>\n",
       "      <td>2.126731e+08</td>\n",
       "      <td>43.142235</td>\n",
       "      <td>-77.645871</td>\n",
       "    </tr>\n",
       "    <tr>\n",
       "      <th>14</th>\n",
       "      <td>2.126250e+08</td>\n",
       "      <td>43.143875</td>\n",
       "      <td>-77.645830</td>\n",
       "    </tr>\n",
       "    <tr>\n",
       "      <th>15</th>\n",
       "      <td>2.126250e+08</td>\n",
       "      <td>43.143875</td>\n",
       "      <td>-77.645830</td>\n",
       "    </tr>\n",
       "    <tr>\n",
       "      <th>16</th>\n",
       "      <td>2.126247e+08</td>\n",
       "      <td>43.143874</td>\n",
       "      <td>-77.644570</td>\n",
       "    </tr>\n",
       "    <tr>\n",
       "      <th>17</th>\n",
       "      <td>2.126247e+08</td>\n",
       "      <td>43.143874</td>\n",
       "      <td>-77.644570</td>\n",
       "    </tr>\n",
       "    <tr>\n",
       "      <th>18</th>\n",
       "      <td>2.126249e+08</td>\n",
       "      <td>43.143876</td>\n",
       "      <td>-77.643354</td>\n",
       "    </tr>\n",
       "    <tr>\n",
       "      <th>19</th>\n",
       "      <td>2.126249e+08</td>\n",
       "      <td>43.143876</td>\n",
       "      <td>-77.643354</td>\n",
       "    </tr>\n",
       "    <tr>\n",
       "      <th>20</th>\n",
       "      <td>2.126249e+08</td>\n",
       "      <td>43.143870</td>\n",
       "      <td>-77.642125</td>\n",
       "    </tr>\n",
       "  </tbody>\n",
       "</table>\n",
       "</div>"
      ],
      "text/plain": [
       "           Nodes   Latitude  Longitude\n",
       "0   2.126249e+08  43.143870 -77.642125\n",
       "1   7.199136e+09  43.142798 -77.642141\n",
       "2   7.199136e+09  43.142798 -77.642141\n",
       "3   2.127877e+08  43.142233 -77.642150\n",
       "4   2.127877e+08  43.142233 -77.642150\n",
       "5   7.199136e+09  43.142233 -77.641508\n",
       "6   7.199136e+09  43.142233 -77.641508\n",
       "7   2.127877e+08  43.142233 -77.642150\n",
       "8   2.127877e+08  43.142235 -77.643348\n",
       "9   2.127877e+08  43.142235 -77.643348\n",
       "10  2.126247e+08  43.142236 -77.644599\n",
       "11  2.126247e+08  43.142236 -77.644599\n",
       "12  2.126731e+08  43.142235 -77.645871\n",
       "13  2.126731e+08  43.142235 -77.645871\n",
       "14  2.126250e+08  43.143875 -77.645830\n",
       "15  2.126250e+08  43.143875 -77.645830\n",
       "16  2.126247e+08  43.143874 -77.644570\n",
       "17  2.126247e+08  43.143874 -77.644570\n",
       "18  2.126249e+08  43.143876 -77.643354\n",
       "19  2.126249e+08  43.143876 -77.643354\n",
       "20  2.126249e+08  43.143870 -77.642125"
      ]
     },
     "execution_count": 78,
     "metadata": {},
     "output_type": "execute_result"
    }
   ],
   "source": [
    "#The nodes from the location\n",
    "node_loc"
   ]
  },
  {
   "cell_type": "code",
   "execution_count": 79,
   "id": "considered-behavior",
   "metadata": {},
   "outputs": [
    {
     "data": {
      "text/html": [
       "<div>\n",
       "<style scoped>\n",
       "    .dataframe tbody tr th:only-of-type {\n",
       "        vertical-align: middle;\n",
       "    }\n",
       "\n",
       "    .dataframe tbody tr th {\n",
       "        vertical-align: top;\n",
       "    }\n",
       "\n",
       "    .dataframe thead th {\n",
       "        text-align: right;\n",
       "    }\n",
       "</style>\n",
       "<table border=\"1\" class=\"dataframe\">\n",
       "  <thead>\n",
       "    <tr style=\"text-align: right;\">\n",
       "      <th></th>\n",
       "      <th>Latitude</th>\n",
       "      <th>Longitude</th>\n",
       "    </tr>\n",
       "  </thead>\n",
       "  <tbody>\n",
       "    <tr>\n",
       "      <th>0</th>\n",
       "      <td>43.143870</td>\n",
       "      <td>-77.642125</td>\n",
       "    </tr>\n",
       "    <tr>\n",
       "      <th>1</th>\n",
       "      <td>43.142798</td>\n",
       "      <td>-77.642141</td>\n",
       "    </tr>\n",
       "    <tr>\n",
       "      <th>2</th>\n",
       "      <td>43.142798</td>\n",
       "      <td>-77.642141</td>\n",
       "    </tr>\n",
       "    <tr>\n",
       "      <th>3</th>\n",
       "      <td>43.142233</td>\n",
       "      <td>-77.642150</td>\n",
       "    </tr>\n",
       "    <tr>\n",
       "      <th>4</th>\n",
       "      <td>43.142233</td>\n",
       "      <td>-77.642150</td>\n",
       "    </tr>\n",
       "    <tr>\n",
       "      <th>5</th>\n",
       "      <td>43.142233</td>\n",
       "      <td>-77.641508</td>\n",
       "    </tr>\n",
       "    <tr>\n",
       "      <th>6</th>\n",
       "      <td>43.142233</td>\n",
       "      <td>-77.641508</td>\n",
       "    </tr>\n",
       "    <tr>\n",
       "      <th>7</th>\n",
       "      <td>43.142233</td>\n",
       "      <td>-77.642150</td>\n",
       "    </tr>\n",
       "    <tr>\n",
       "      <th>8</th>\n",
       "      <td>43.142233</td>\n",
       "      <td>-77.642150</td>\n",
       "    </tr>\n",
       "    <tr>\n",
       "      <th>9</th>\n",
       "      <td>43.142235</td>\n",
       "      <td>-77.643348</td>\n",
       "    </tr>\n",
       "    <tr>\n",
       "      <th>10</th>\n",
       "      <td>43.142235</td>\n",
       "      <td>-77.643348</td>\n",
       "    </tr>\n",
       "    <tr>\n",
       "      <th>11</th>\n",
       "      <td>43.142236</td>\n",
       "      <td>-77.644599</td>\n",
       "    </tr>\n",
       "    <tr>\n",
       "      <th>12</th>\n",
       "      <td>43.142236</td>\n",
       "      <td>-77.644599</td>\n",
       "    </tr>\n",
       "    <tr>\n",
       "      <th>13</th>\n",
       "      <td>43.142235</td>\n",
       "      <td>-77.645871</td>\n",
       "    </tr>\n",
       "    <tr>\n",
       "      <th>14</th>\n",
       "      <td>43.142235</td>\n",
       "      <td>-77.645871</td>\n",
       "    </tr>\n",
       "    <tr>\n",
       "      <th>15</th>\n",
       "      <td>43.142341</td>\n",
       "      <td>-77.645857</td>\n",
       "    </tr>\n",
       "    <tr>\n",
       "      <th>16</th>\n",
       "      <td>43.142427</td>\n",
       "      <td>-77.645849</td>\n",
       "    </tr>\n",
       "    <tr>\n",
       "      <th>17</th>\n",
       "      <td>43.142507</td>\n",
       "      <td>-77.645844</td>\n",
       "    </tr>\n",
       "    <tr>\n",
       "      <th>18</th>\n",
       "      <td>43.143875</td>\n",
       "      <td>-77.645830</td>\n",
       "    </tr>\n",
       "    <tr>\n",
       "      <th>19</th>\n",
       "      <td>43.143875</td>\n",
       "      <td>-77.645830</td>\n",
       "    </tr>\n",
       "    <tr>\n",
       "      <th>20</th>\n",
       "      <td>43.143874</td>\n",
       "      <td>-77.644570</td>\n",
       "    </tr>\n",
       "    <tr>\n",
       "      <th>21</th>\n",
       "      <td>43.143874</td>\n",
       "      <td>-77.644570</td>\n",
       "    </tr>\n",
       "    <tr>\n",
       "      <th>22</th>\n",
       "      <td>43.143876</td>\n",
       "      <td>-77.643354</td>\n",
       "    </tr>\n",
       "    <tr>\n",
       "      <th>23</th>\n",
       "      <td>43.143876</td>\n",
       "      <td>-77.643354</td>\n",
       "    </tr>\n",
       "    <tr>\n",
       "      <th>24</th>\n",
       "      <td>43.143870</td>\n",
       "      <td>-77.642125</td>\n",
       "    </tr>\n",
       "  </tbody>\n",
       "</table>\n",
       "</div>"
      ],
      "text/plain": [
       "     Latitude  Longitude\n",
       "0   43.143870 -77.642125\n",
       "1   43.142798 -77.642141\n",
       "2   43.142798 -77.642141\n",
       "3   43.142233 -77.642150\n",
       "4   43.142233 -77.642150\n",
       "5   43.142233 -77.641508\n",
       "6   43.142233 -77.641508\n",
       "7   43.142233 -77.642150\n",
       "8   43.142233 -77.642150\n",
       "9   43.142235 -77.643348\n",
       "10  43.142235 -77.643348\n",
       "11  43.142236 -77.644599\n",
       "12  43.142236 -77.644599\n",
       "13  43.142235 -77.645871\n",
       "14  43.142235 -77.645871\n",
       "15  43.142341 -77.645857\n",
       "16  43.142427 -77.645849\n",
       "17  43.142507 -77.645844\n",
       "18  43.143875 -77.645830\n",
       "19  43.143875 -77.645830\n",
       "20  43.143874 -77.644570\n",
       "21  43.143874 -77.644570\n",
       "22  43.143876 -77.643354\n",
       "23  43.143876 -77.643354\n",
       "24  43.143870 -77.642125"
      ]
     },
     "execution_count": 79,
     "metadata": {},
     "output_type": "execute_result"
    }
   ],
   "source": [
    "# The extra nodes that were not accounted for within the location\n",
    "new_total_locs"
   ]
  },
  {
   "cell_type": "code",
   "execution_count": 80,
   "id": "upset-development",
   "metadata": {},
   "outputs": [],
   "source": [
    "r = requests.get(f\"\"\"http://router.project-osrm.org/route/v1/car/{node_loc.loc[0, \"Longitude\"]},{node_loc.loc[0, \"Latitude\"]};{node_loc.loc[2, \"Longitude\"]},{node_loc.loc[2, \"Latitude\"]}?overview=false\"\"\")"
   ]
  },
  {
   "cell_type": "code",
   "execution_count": 81,
   "id": "forty-thumb",
   "metadata": {},
   "outputs": [
    {
     "data": {
      "text/plain": [
       "{'code': 'Ok',\n",
       " 'waypoints': [{'hint': 'zq61idqutYkAAAAApQEAAAAAAAAAAAAAAAAAADvskUMAAAAAAAAAAAAAAAClAQAAAAAAAAAAAABqRgAAc0Zf-75SkgJzRl_7vlKSAgAADwABOs20',\n",
       "   'distance': 0,\n",
       "   'location': [-77.642125, 43.14387],\n",
       "   'name': 'Warwick Avenue'},\n",
       "  {'hint': 'z661iQevtYmsAAAAAAAAAAAAAAAAAAAAEzPuQgAAAAAAAAAAAAAAAKwAAAAAAAAAAAAAAAAAAABqRgAAY0Zf-45OkgJjRl_7jk6SAgAATwsBOs20',\n",
       "   'distance': 0,\n",
       "   'location': [-77.642141, 43.142798],\n",
       "   'name': 'Warwick Avenue'}],\n",
       " 'routes': [{'legs': [{'steps': [],\n",
       "     'weight': 17.2,\n",
       "     'distance': 119.2,\n",
       "     'summary': '',\n",
       "     'duration': 17.2}],\n",
       "   'weight_name': 'routability',\n",
       "   'weight': 17.2,\n",
       "   'distance': 119.2,\n",
       "   'duration': 17.2}]}"
      ]
     },
     "execution_count": 81,
     "metadata": {},
     "output_type": "execute_result"
    }
   ],
   "source": [
    "json.loads(r.content)"
   ]
  },
  {
   "cell_type": "code",
   "execution_count": 82,
   "id": "activated-fluid",
   "metadata": {},
   "outputs": [
    {
     "data": {
      "text/plain": [
       "{'legs': [{'steps': [],\n",
       "   'weight': 17.2,\n",
       "   'distance': 119.2,\n",
       "   'summary': '',\n",
       "   'duration': 17.2}],\n",
       " 'weight_name': 'routability',\n",
       " 'weight': 17.2,\n",
       " 'distance': 119.2,\n",
       " 'duration': 17.2}"
      ]
     },
     "execution_count": 82,
     "metadata": {},
     "output_type": "execute_result"
    }
   ],
   "source": [
    "json.loads(r.content)[\"routes\"][0]"
   ]
  },
  {
   "cell_type": "code",
   "execution_count": 83,
   "id": "former-reynolds",
   "metadata": {},
   "outputs": [
    {
     "data": {
      "text/plain": [
       "17.2"
      ]
     },
     "execution_count": 83,
     "metadata": {},
     "output_type": "execute_result"
    }
   ],
   "source": [
    "json.loads(r.content)[\"routes\"][0][\"duration\"]"
   ]
  },
  {
   "cell_type": "code",
   "execution_count": 84,
   "id": "informational-buyer",
   "metadata": {},
   "outputs": [
    {
     "name": "stdout",
     "output_type": "stream",
     "text": [
      "0\n",
      "17.2\n",
      "17.2\n",
      "26.2\n",
      "26.2\n",
      "36.3\n",
      "36.3\n",
      "26.2\n",
      "37\n",
      "37\n",
      "46.1\n",
      "46.1\n",
      "54.9\n",
      "54.9\n",
      "31.3\n",
      "31.3\n",
      "22.1\n",
      "22.1\n",
      "13.1\n",
      "13.1\n",
      "0\n"
     ]
    }
   ],
   "source": [
    "#For node_loc -- 20 nodes\n",
    "for i in node_loc.index:\n",
    "    r = requests.get(f\"\"\"http://router.project-osrm.org/route/v1/car/{node_loc.loc[0, \"Longitude\"]},{node_loc.loc[0, \"Latitude\"]};{node_loc.loc[i, \"Longitude\"]},{node_loc.loc[i, \"Latitude\"]}?overview=false\"\"\")\n",
    "    print(json.loads(r.content)[\"routes\"][0][\"duration\"])"
   ]
  },
  {
   "cell_type": "code",
   "execution_count": 85,
   "id": "hidden-anxiety",
   "metadata": {},
   "outputs": [
    {
     "name": "stdout",
     "output_type": "stream",
     "text": [
      "0\n",
      "17.2\n",
      "17.2\n",
      "26.2\n",
      "26.2\n",
      "36.3\n",
      "36.3\n",
      "26.2\n",
      "26.2\n",
      "37\n",
      "37\n",
      "46.1\n",
      "46.1\n",
      "54.9\n",
      "54.9\n",
      "49.9\n",
      "49\n",
      "48.2\n",
      "31.3\n",
      "31.3\n",
      "22.1\n",
      "22.1\n",
      "13.1\n",
      "13.1\n",
      "0\n"
     ]
    }
   ],
   "source": [
    "#For new_total_locs - 24 nodes\n",
    "for i in new_total_locs.index:\n",
    "    r = requests.get(f\"\"\"http://router.project-osrm.org/route/v1/car/{new_total_locs.loc[0, \"Longitude\"]},{new_total_locs.loc[0, \"Latitude\"]};{new_total_locs.loc[i, \"Longitude\"]},{new_total_locs.loc[i, \"Latitude\"]}?overview=false\"\"\")\n",
    "    print(json.loads(r.content)[\"routes\"][0][\"duration\"])"
   ]
  },
  {
   "cell_type": "code",
   "execution_count": 86,
   "id": "grateful-mapping",
   "metadata": {},
   "outputs": [],
   "source": [
    "new_total_locs_duration= []\n",
    "for i in range(new_total_locs.index.stop-1):\n",
    "    r = requests.get(f\"\"\"http://router.project-osrm.org/route/v1/car/{new_total_locs.loc[i, \"Longitude\"]},{new_total_locs.loc[i, \"Latitude\"]};{new_total_locs.loc[i+1, \"Longitude\"]},{new_total_locs.loc[i+1, \"Latitude\"]}?overview=false\"\"\")\n",
    "    new_total_locs_duration.append(json.loads(r.content)[\"routes\"][0][\"duration\"])"
   ]
  },
  {
   "cell_type": "code",
   "execution_count": 87,
   "id": "signal-price",
   "metadata": {},
   "outputs": [
    {
     "data": {
      "text/plain": [
       "157.2"
      ]
     },
     "execution_count": 87,
     "metadata": {},
     "output_type": "execute_result"
    }
   ],
   "source": [
    "sum(new_total_locs_duration) #found to compare with node_loc_duration"
   ]
  },
  {
   "cell_type": "code",
   "execution_count": 88,
   "id": "aerial-loading",
   "metadata": {},
   "outputs": [],
   "source": [
    "node_loc_duration = []\n",
    "for i in range(node_loc.index.stop-1):\n",
    "    r = requests.get(f\"\"\"http://router.project-osrm.org/route/v1/car/{node_loc.loc[i, \"Longitude\"]},{node_loc.loc[i, \"Latitude\"]};{node_loc.loc[i+1, \"Longitude\"]},{node_loc.loc[i+1, \"Latitude\"]}?overview=false\"\"\")\n",
    "    node_loc_duration.append(json.loads(r.content)[\"routes\"][0][\"duration\"])"
   ]
  },
  {
   "cell_type": "code",
   "execution_count": 89,
   "id": "occupied-trauma",
   "metadata": {},
   "outputs": [
    {
     "data": {
      "text/plain": [
       "157.2"
      ]
     },
     "execution_count": 89,
     "metadata": {},
     "output_type": "execute_result"
    }
   ],
   "source": [
    "sum(node_loc_duration) "
   ]
  },
  {
   "cell_type": "code",
   "execution_count": 90,
   "id": "persistent-second",
   "metadata": {},
   "outputs": [
    {
     "data": {
      "text/plain": [
       "[17.2,\n",
       " 0,\n",
       " 9,\n",
       " 0,\n",
       " 10.1,\n",
       " 0,\n",
       " 6.8,\n",
       " 10.8,\n",
       " 0,\n",
       " 9.1,\n",
       " 0,\n",
       " 11.3,\n",
       " 0,\n",
       " 23.6,\n",
       " 0,\n",
       " 20,\n",
       " 0,\n",
       " 19.6,\n",
       " 0,\n",
       " 19.7]"
      ]
     },
     "execution_count": 90,
     "metadata": {},
     "output_type": "execute_result"
    }
   ],
   "source": [
    "node_loc_duration"
   ]
  },
  {
   "cell_type": "code",
   "execution_count": 91,
   "id": "pending-emission",
   "metadata": {},
   "outputs": [
    {
     "data": {
      "text/plain": [
       "[17.2,\n",
       " 0,\n",
       " 9,\n",
       " 0,\n",
       " 10.1,\n",
       " 0,\n",
       " 6.8,\n",
       " 0,\n",
       " 10.8,\n",
       " 0,\n",
       " 9.1,\n",
       " 0,\n",
       " 11.3,\n",
       " 0,\n",
       " 8.2,\n",
       " 0.9,\n",
       " 0.8,\n",
       " 13.7,\n",
       " 0,\n",
       " 20,\n",
       " 0,\n",
       " 19.6,\n",
       " 0,\n",
       " 19.7]"
      ]
     },
     "execution_count": 91,
     "metadata": {},
     "output_type": "execute_result"
    }
   ],
   "source": [
    "new_total_locs_duration"
   ]
  },
  {
   "cell_type": "code",
   "execution_count": null,
   "id": "c9243a7b",
   "metadata": {},
   "outputs": [],
   "source": []
  },
  {
   "cell_type": "code",
   "execution_count": null,
   "id": "4c4558d5",
   "metadata": {},
   "outputs": [],
   "source": []
  },
  {
   "cell_type": "code",
   "execution_count": null,
   "id": "45c0ff53",
   "metadata": {},
   "outputs": [],
   "source": []
  }
 ],
 "metadata": {
  "kernelspec": {
   "display_name": "Python 3 (ipykernel)",
   "language": "python",
   "name": "python3"
  },
  "language_info": {
   "codemirror_mode": {
    "name": "ipython",
    "version": 3
   },
   "file_extension": ".py",
   "mimetype": "text/x-python",
   "name": "python",
   "nbconvert_exporter": "python",
   "pygments_lexer": "ipython3",
   "version": "3.9.7"
  }
 },
 "nbformat": 4,
 "nbformat_minor": 5
}
